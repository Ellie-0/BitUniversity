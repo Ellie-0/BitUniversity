{
 "cells": [
  {
   "cell_type": "markdown",
   "metadata": {},
   "source": [
    "# Advanced Data Wrangling with Pandas\n",
    "- 1.0 - Now Try This\n",
    "- 2.0 - Now Try This\n",
    "- 3.0 - Now Try This\n",
    "- 4.0 - Now Try This\n",
    "- 5.0 - Now Try This\n",
    "\n",
    "\n",
    "## Practical Exercise\n",
    "- 6.0 - Now Try This\n",
    "- 7.0 - Now Try This\n",
    "- 8.0 - Now Try This\n",
    "- 9.0 - Now Try This"
   ]
  },
  {
   "cell_type": "markdown",
   "metadata": {},
   "source": [
    "## 1.0 - Now Try This\n",
    "Sort the series by index in a descending order.\n",
    "\n",
    "### Answer:"
   ]
  },
  {
   "cell_type": "code",
   "execution_count": null,
   "metadata": {},
   "outputs": [],
   "source": [
    "s.sort_index(ascending=False)"
   ]
  },
  {
   "cell_type": "markdown",
   "metadata": {},
   "source": [
    "## 2.0 - Now Try This\n",
    "\n",
    "Access the items in the index of 3-5 (inclusive) using index operation.\n",
    "\n",
    "### Answer:"
   ]
  },
  {
   "cell_type": "code",
   "execution_count": null,
   "metadata": {},
   "outputs": [],
   "source": [
    "s[3:6]"
   ]
  },
  {
   "cell_type": "markdown",
   "metadata": {},
   "source": [
    "## 3.0 - Now Try This\n",
    "\n",
    "Retrieve an element that corresponds to index 'd'"
   ]
  },
  {
   "cell_type": "code",
   "execution_count": null,
   "metadata": {},
   "outputs": [],
   "source": [
    "s = pd.Series([1,2,3,4,5],index = ['a','b','c','d','e'])"
   ]
  },
  {
   "cell_type": "markdown",
   "metadata": {},
   "source": [
    "### Answer:"
   ]
  },
  {
   "cell_type": "code",
   "execution_count": null,
   "metadata": {},
   "outputs": [],
   "source": [
    "s['d']"
   ]
  },
  {
   "cell_type": "markdown",
   "metadata": {},
   "source": [
    "## 4.0 - Now Try This\n",
    "\n",
    "Write down what this code will return on a piece of paper.\n",
    "Compare your answer with the output of the code."
   ]
  },
  {
   "cell_type": "code",
   "execution_count": null,
   "metadata": {},
   "outputs": [],
   "source": [
    "s1 * s2"
   ]
  },
  {
   "cell_type": "markdown",
   "metadata": {},
   "source": [
    "## 5.0 - Now Try This\n",
    "\n",
    "Let's find people who are younger than 30 years old AND have high income.\n",
    "\n",
    "(Hint: Make sure to use ```()``` on each condition.)\n",
    "\n",
    "### Answer:"
   ]
  },
  {
   "cell_type": "code",
   "execution_count": null,
   "metadata": {},
   "outputs": [],
   "source": [
    "emp[(emp['High Income'] == True) & (emp['Age'] < 30)]"
   ]
  },
  {
   "cell_type": "markdown",
   "metadata": {},
   "source": [
    "# Practical Exercise"
   ]
  },
  {
   "cell_type": "markdown",
   "metadata": {},
   "source": [
    "## 6.0 - Now Try This\n",
    "\n",
    "Let's retrieve unique airline codes (```OP_UNIQUE_CARRIER```) from the dataframe.\n",
    "\n",
    "### Answer:"
   ]
  },
  {
   "cell_type": "code",
   "execution_count": null,
   "metadata": {},
   "outputs": [],
   "source": [
    "flight[['OP_UNIQUE_CARRIER']].drop_duplicates()"
   ]
  },
  {
   "cell_type": "markdown",
   "metadata": {},
   "source": [
    "## 7.0 - Now Try This\n",
    "\n",
    "- Use ```merge``` function to join ```airline``` dataframe to ```flight``` dataframe.\n",
    "- Name the resulting dataframe as ```flight_airline```.\n",
    "- Print ```flight_airline``` and make sure that this dataframe has airline codes AND airline names!\n",
    "\n",
    "(Hint: what are the common column names between two dataframes? Are the column names same?)\n",
    "\n",
    "### Answer:"
   ]
  },
  {
   "cell_type": "code",
   "execution_count": null,
   "metadata": {},
   "outputs": [],
   "source": [
    "flight_airline = pd.merge(flight, airline, left_on='OP_UNIQUE_CARRIER', right_on='carrier')\n",
    "flight_airline"
   ]
  },
  {
   "cell_type": "markdown",
   "metadata": {},
   "source": [
    "## 8.0 - Now Try This\n",
    "\n",
    "Calculate sum of ARR_DEL15 using the groupby function and sort the dataset in a descending order.\n",
    "\n",
    "### Answer:"
   ]
  },
  {
   "cell_type": "code",
   "execution_count": null,
   "metadata": {},
   "outputs": [],
   "source": [
    "flight_airline.groupby(['carrier'])['ARR_DEL15'].sum().sort_values(ascending=False)"
   ]
  },
  {
   "cell_type": "markdown",
   "metadata": {},
   "source": [
    "## 9.0 - Now Try This\n",
    "\n",
    "- Using ```drop_duplicates()``` function, find a unique set of airport codes and airport names \n",
    "- Save the dataframe as ```airport_names```.\n",
    "\n",
    "### Answer:"
   ]
  },
  {
   "cell_type": "code",
   "execution_count": null,
   "metadata": {},
   "outputs": [],
   "source": [
    "airport_names = airport_codes[[\"airport\", \"airport_name\"]].drop_duplicates()\n",
    "airport_names"
   ]
  }
 ],
 "metadata": {
  "kernelspec": {
   "display_name": "Python 3",
   "language": "python",
   "name": "python3"
  },
  "language_info": {
   "codemirror_mode": {
    "name": "ipython",
    "version": 3
   },
   "file_extension": ".py",
   "mimetype": "text/x-python",
   "name": "python",
   "nbconvert_exporter": "python",
   "pygments_lexer": "ipython3",
   "version": "3.7.4"
  }
 },
 "nbformat": 4,
 "nbformat_minor": 2
}
