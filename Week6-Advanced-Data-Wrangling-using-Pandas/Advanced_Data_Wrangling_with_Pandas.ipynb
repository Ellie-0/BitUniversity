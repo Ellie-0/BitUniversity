{
 "cells": [
  {
   "cell_type": "markdown",
   "metadata": {
    "colab_type": "text",
    "id": "Yl__4vuWJQk8"
   },
   "source": [
    "## Table of Contents\n",
    "\n",
    "- Series\n",
    "    - Creating a Series\n",
    "    - Sorting a Series\n",
    "        - 1.0 - Now Try This\n",
    "    - Accessing an element in a Series\n",
    "        - 2.0 - Now Try This\n",
    "        - 3.0 - Now Try This\n",
    "    - Binary Operations\n",
    "        - 4.0 - Now Try This\n",
    "\n",
    "- Advanced Dataframe\n",
    "    - Creaing new columns\n",
    "    - Sorting the dataset\n",
    "    - Selecting subset of data\n",
    "        - 5.0 - Now Try This\n",
    "    - Dropping entities\n",
    "    - Unique values in columns\n",
    "    - Joining dataset\n",
    "        - Merge\n",
    "        - Join\n",
    "\n",
    "- Tutorial\n",
    "    - Join dataset\n",
    "    - Groupby\n",
    "        - 1.0 - Now Try This\n",
    "        - agg()\n",
    "    - Filtering based on condition\n",
    "        - 2.0 - Now Try This\n",
    "        - Pop-up Question\n"
   ]
  },
  {
   "cell_type": "markdown",
   "metadata": {
    "colab_type": "text",
    "id": "1X9xt1J4K2eD"
   },
   "source": [
    "## Dataframe vs. Series\n",
    "There are two main data structures you need to get comfortable with: **Dataframe** and **Series** and we have covered the basics of DataFrame in Week 3. \n",
    "\n",
    "To refresh your memory, **DataFrame** is a tabular, column-oriented data structure with both row and column labels. \n",
    "\n",
    "**Series** is 1-dimensional labelled array and it can hold data of any type (integer, string, float, python objects, etc.). Its labels are called an index. You can think of a Series as a ordered dictionary, as it is a mapping of index values to data values.\n"
   ]
  },
  {
   "cell_type": "markdown",
   "metadata": {
    "colab_type": "text",
    "id": "I6UlYJSdMkEb"
   },
   "source": [
    "## Series\n",
    "\n",
    "- Creating a Series\n",
    "- Sorting a Series\n",
    "- Accessing an element in a Series\n",
    "- Binary Operations (add, sum, mul, etc.)\n"
   ]
  },
  {
   "cell_type": "markdown",
   "metadata": {
    "colab_type": "text",
    "id": "2QYD9FNvNvCy"
   },
   "source": [
    "### Creating a Series\n",
    "\n",
    "A series can be created from \n",
    "1. scalar\n",
    "2. list (array) \n",
    "2. dictionary"
   ]
  },
  {
   "cell_type": "markdown",
   "metadata": {
    "colab_type": "text",
    "id": "tX8LOIj-Mx-s"
   },
   "source": [
    "First and foremost, let's import Pandas library."
   ]
  },
  {
   "cell_type": "code",
   "execution_count": 36,
   "metadata": {
    "colab": {},
    "colab_type": "code",
    "id": "4PwCmTIwMgvQ"
   },
   "outputs": [],
   "source": [
    "import pandas as pd"
   ]
  },
  {
   "cell_type": "markdown",
   "metadata": {
    "colab_type": "text",
    "id": "o6SM5MwCnjJx"
   },
   "source": [
    "#### 1. Series from a scalar value"
   ]
  },
  {
   "cell_type": "code",
   "execution_count": 37,
   "metadata": {
    "colab": {},
    "colab_type": "code",
    "id": "ao8D97SxnmbA"
   },
   "outputs": [],
   "source": [
    "scalar_series = pd.Series(5, index =[0, 1, 2, 3, 4, 5]) "
   ]
  },
  {
   "cell_type": "markdown",
   "metadata": {
    "colab_type": "text",
    "id": "kuTD87cQM7Ic"
   },
   "source": [
    "#### 2-1. Series from a list. \n",
    "\n",
    "By default, index starts at 0 and ends at len(array)-1. \n",
    "\n",
    "In this example, as we didn't specify the index, the first index is 0 and the last index is 4, which is len(array)-1."
   ]
  },
  {
   "cell_type": "code",
   "execution_count": 38,
   "metadata": {
    "colab": {
     "base_uri": "https://localhost:8080/",
     "height": 102
    },
    "colab_type": "code",
    "id": "X5wt-CqFM_8I",
    "outputId": "2722f931-7e41-4e63-c05b-b84cae398e02"
   },
   "outputs": [
    {
     "data": {
      "text/plain": [
       "0    a\n",
       "1    b\n",
       "2    c\n",
       "3    d\n",
       "dtype: object"
      ]
     },
     "execution_count": 38,
     "metadata": {},
     "output_type": "execute_result"
    }
   ],
   "source": [
    "import numpy as np\n",
    "array = np.array(['a','b','c','d'])\n",
    "pd.Series(array)"
   ]
  },
  {
   "cell_type": "markdown",
   "metadata": {
    "colab_type": "text",
    "id": "CA3N7-qyNaVM"
   },
   "source": [
    "#### 2-2. Series from a list with index\n",
    "\n",
    "If we want to assign a different index instead of the default ones, we can specify the index as well."
   ]
  },
  {
   "cell_type": "code",
   "execution_count": 39,
   "metadata": {
    "colab": {
     "base_uri": "https://localhost:8080/",
     "height": 102
    },
    "colab_type": "code",
    "id": "2WLaQGvyNZmc",
    "outputId": "4e628e69-a331-4c5d-b57f-99fbd87db48d"
   },
   "outputs": [
    {
     "data": {
      "text/plain": [
       "1    a\n",
       "2    b\n",
       "3    c\n",
       "4    d\n",
       "dtype: object"
      ]
     },
     "execution_count": 39,
     "metadata": {},
     "output_type": "execute_result"
    }
   ],
   "source": [
    "array = np.array(['a','b','c','d'])\n",
    "pd.Series(array,index=[1,2,3,4])"
   ]
  },
  {
   "cell_type": "markdown",
   "metadata": {
    "colab_type": "text",
    "id": "AxVTZvrVFFkt"
   },
   "source": [
    "We can change the order of the elements in the array. (d, b, c, a)\n",
    "But, the Series is sorted in the specified order of index!"
   ]
  },
  {
   "cell_type": "code",
   "execution_count": 40,
   "metadata": {
    "colab": {
     "base_uri": "https://localhost:8080/",
     "height": 102
    },
    "colab_type": "code",
    "id": "Ami1TebYFCbw",
    "outputId": "57fa3591-c7de-46ec-fa32-46246b04cfe4"
   },
   "outputs": [
    {
     "data": {
      "text/plain": [
       "1    d\n",
       "2    b\n",
       "3    c\n",
       "4    a\n",
       "dtype: object"
      ]
     },
     "execution_count": 40,
     "metadata": {},
     "output_type": "execute_result"
    }
   ],
   "source": [
    "array = np.array(['d','b','c','a'])\n",
    "pd.Series(array,index=[1,2,3,4])"
   ]
  },
  {
   "cell_type": "markdown",
   "metadata": {
    "colab_type": "text",
    "id": "n4Zr_-rGZpVp"
   },
   "source": [
    "Using the examples below, we can note that Series is NOT ordered by value or index.\n",
    "\n",
    "Instead, Series is ordered in the specified order of indices: 105 --> 103 --> 102 --> 109 --> 104 --> 110"
   ]
  },
  {
   "cell_type": "code",
   "execution_count": 41,
   "metadata": {
    "colab": {
     "base_uri": "https://localhost:8080/",
     "height": 136
    },
    "colab_type": "code",
    "id": "fksXDh47Yjr-",
    "outputId": "029a2b6b-bac8-4f95-d10c-7d7fc0d3fb72"
   },
   "outputs": [
    {
     "data": {
      "text/plain": [
       "105     Daisy\n",
       "103      Matt\n",
       "102     Kelly\n",
       "109      Mike\n",
       "104    Ashley\n",
       "110      Kyle\n",
       "dtype: object"
      ]
     },
     "execution_count": 41,
     "metadata": {},
     "output_type": "execute_result"
    }
   ],
   "source": [
    "names = np.array(['Daisy', 'Matt', 'Kelly', 'Mike', 'Ashley', 'Kyle'])\n",
    "pd.Series(names, index=[105,103,102,109,104,110])"
   ]
  },
  {
   "cell_type": "markdown",
   "metadata": {
    "colab_type": "text",
    "id": "enB_T7hRaY2v"
   },
   "source": [
    "Then, the question is \"Are the indices unique?\"\n",
    "Let's check it out!"
   ]
  },
  {
   "cell_type": "code",
   "execution_count": 42,
   "metadata": {
    "colab": {
     "base_uri": "https://localhost:8080/",
     "height": 136
    },
    "colab_type": "code",
    "id": "Hl52EALyajA9",
    "outputId": "a902b3f1-dbb4-4b9e-d33e-21adb41f24a9"
   },
   "outputs": [
    {
     "data": {
      "text/plain": [
       "100     Daisy\n",
       "100      Matt\n",
       "102     Kelly\n",
       "102      Mike\n",
       "103    Ashley\n",
       "110      Kyle\n",
       "dtype: object"
      ]
     },
     "execution_count": 42,
     "metadata": {},
     "output_type": "execute_result"
    }
   ],
   "source": [
    "names = np.array(['Daisy', 'Matt', 'Kelly', 'Mike', 'Ashley', 'Kyle'])\n",
    "pd.Series(names, index=[100,100,102,102,103,110])"
   ]
  },
  {
   "cell_type": "markdown",
   "metadata": {
    "colab_type": "text",
    "id": "hf0xKPN4aqKO"
   },
   "source": [
    "The indices don't have to be unique!"
   ]
  },
  {
   "cell_type": "markdown",
   "metadata": {
    "colab_type": "text",
    "id": "eldUp__3a39a"
   },
   "source": [
    "Can we use non-numerical indices?\n",
    "Let's check it out!"
   ]
  },
  {
   "cell_type": "code",
   "execution_count": 43,
   "metadata": {
    "colab": {
     "base_uri": "https://localhost:8080/",
     "height": 102
    },
    "colab_type": "code",
    "id": "r0OsTILZavIU",
    "outputId": "16dbb9c2-4d5d-4b3e-b15b-2be6e0f8c7a2"
   },
   "outputs": [
    {
     "data": {
      "text/plain": [
       "Atlanta          Daisy\n",
       "San Francisco     Matt\n",
       "New York         Kelly\n",
       "Seattle           Mike\n",
       "dtype: object"
      ]
     },
     "execution_count": 43,
     "metadata": {},
     "output_type": "execute_result"
    }
   ],
   "source": [
    "names = np.array(['Daisy', 'Matt', 'Kelly', 'Mike'])\n",
    "cities=[\"Atlanta\", \"San Francisco\", \"New York\", \"Seattle\"]\n",
    "\n",
    "pd.Series(names, index=cities)"
   ]
  },
  {
   "cell_type": "markdown",
   "metadata": {
    "colab_type": "text",
    "id": "grAsKkbMbCz6"
   },
   "source": [
    "We found out that the indices don't have to numbers; indices could be of any types! "
   ]
  },
  {
   "cell_type": "code",
   "execution_count": 44,
   "metadata": {
    "colab": {
     "base_uri": "https://localhost:8080/",
     "height": 102
    },
    "colab_type": "code",
    "id": "adBBZeBWbJqP",
    "outputId": "62b188dd-820e-4c78-a19a-95cf6448ea1c"
   },
   "outputs": [
    {
     "data": {
      "text/plain": [
       "0.79          Daisy\n",
       "[0.8, 1.4]     Matt\n",
       "13            Kelly\n",
       "Hello          Mike\n",
       "dtype: object"
      ]
     },
     "execution_count": 44,
     "metadata": {},
     "output_type": "execute_result"
    }
   ],
   "source": [
    "names = np.array(['Daisy', 'Matt', 'Kelly', 'Mike'])\n",
    "pd.Series(names, index=[0.79, [0.8, 1.4], 13, \"Hello\"])"
   ]
  },
  {
   "cell_type": "markdown",
   "metadata": {
    "colab_type": "text",
    "id": "aRAJ7s4MMQls"
   },
   "source": [
    "We used float, list, integer, and string as indices and it worked!\n",
    "\n",
    "This example is to demonstrate that you can use any types as indices; in real worlds, it's more common to keep the datatype consistent for indices."
   ]
  },
  {
   "cell_type": "markdown",
   "metadata": {
    "colab_type": "text",
    "id": "1Wxi8Jy6OMW3"
   },
   "source": [
    "#### 3. Series from a dict\n",
    "We can create a Series from a **dict**! Let's see how it works!"
   ]
  },
  {
   "cell_type": "code",
   "execution_count": 45,
   "metadata": {
    "colab": {
     "base_uri": "https://localhost:8080/",
     "height": 119
    },
    "colab_type": "code",
    "id": "zmOi4mPMOXVn",
    "outputId": "a4c1440d-49c9-4be2-a618-5da8d22d3daf"
   },
   "outputs": [
    {
     "data": {
      "text/plain": [
       "Apple      3\n",
       "Banana     5\n",
       "Cherry     2\n",
       "Mango     13\n",
       "Peach     10\n",
       "dtype: int64"
      ]
     },
     "execution_count": 45,
     "metadata": {},
     "output_type": "execute_result"
    }
   ],
   "source": [
    "# aDict stores how many fruits we have.\n",
    "aDict = {'Apple':3, 'Banana':5, 'Cherry': 2, 'Mango': 13, 'Peach': 10}\n",
    "pd.Series(aDict)"
   ]
  },
  {
   "cell_type": "markdown",
   "metadata": {
    "colab_type": "text",
    "id": "wtIiqIC1FXd6"
   },
   "source": [
    "When we are passing a dict, the order in the dict is preserved."
   ]
  },
  {
   "cell_type": "code",
   "execution_count": 46,
   "metadata": {
    "colab": {
     "base_uri": "https://localhost:8080/",
     "height": 34
    },
    "colab_type": "code",
    "id": "Jd2PNDmkFszH",
    "outputId": "ac176e6e-cdb3-4a22-cd35-296acf51cca2"
   },
   "outputs": [
    {
     "data": {
      "text/plain": [
       "Mango     13\n",
       "Banana     5\n",
       "Cherry     2\n",
       "Apple      3\n",
       "Peach     10\n",
       "dtype: int64"
      ]
     },
     "execution_count": 46,
     "metadata": {},
     "output_type": "execute_result"
    }
   ],
   "source": [
    "aDict = {'Mango': 13, 'Banana':5, 'Cherry':2, 'Apple': 3, 'Peach': 10}\n",
    "pd.Series(aDict)"
   ]
  },
  {
   "cell_type": "markdown",
   "metadata": {
    "colab_type": "text",
    "id": "YiHLLOgacg0Q"
   },
   "source": [
    "If we want to know the datatype of Series, we can call dtype function."
   ]
  },
  {
   "cell_type": "code",
   "execution_count": 47,
   "metadata": {
    "colab": {
     "base_uri": "https://localhost:8080/",
     "height": 34
    },
    "colab_type": "code",
    "id": "llyeLKz7ca8W",
    "outputId": "213a29eb-fc92-4ef9-d502-7f46d674f310"
   },
   "outputs": [
    {
     "data": {
      "text/plain": [
       "dtype('int64')"
      ]
     },
     "execution_count": 47,
     "metadata": {},
     "output_type": "execute_result"
    }
   ],
   "source": [
    "aDict = {'Mango': 13, 'Banana':5, 'Cherry':2, 'Apple': 3, 'Peach': 10}\n",
    "pd.Series(aDict).dtype"
   ]
  },
  {
   "cell_type": "markdown",
   "metadata": {
    "colab_type": "text",
    "id": "X_YVm1C9cq9I"
   },
   "source": [
    "Now, let's change the value for \"Mango.\" The value is changed to 13.45 and see what dtype returns!"
   ]
  },
  {
   "cell_type": "code",
   "execution_count": 48,
   "metadata": {
    "colab": {
     "base_uri": "https://localhost:8080/",
     "height": 34
    },
    "colab_type": "code",
    "id": "pWcf03jccoUh",
    "outputId": "5c727bb1-df24-4c68-d7e5-f3f3e2dea5db"
   },
   "outputs": [
    {
     "data": {
      "text/plain": [
       "dtype('float64')"
      ]
     },
     "execution_count": 48,
     "metadata": {},
     "output_type": "execute_result"
    }
   ],
   "source": [
    "aDict = {'Mango': 13.45, 'Banana':5, 'Cherry':2, 'Apple': 3, 'Peach': 10}\n",
    "pd.Series(aDict).dtype"
   ]
  },
  {
   "cell_type": "markdown",
   "metadata": {
    "colab_type": "text",
    "id": "82Mus9Lgc8yA"
   },
   "source": [
    "If we want to print out indices only, we can call index function."
   ]
  },
  {
   "cell_type": "code",
   "execution_count": 49,
   "metadata": {
    "colab": {
     "base_uri": "https://localhost:8080/",
     "height": 34
    },
    "colab_type": "code",
    "id": "rmyIfv1jc3fB",
    "outputId": "dbfb5b93-f426-4089-9805-13d88b44e5de"
   },
   "outputs": [
    {
     "data": {
      "text/plain": [
       "Index(['Mango', 'Banana', 'Cherry', 'Apple', 'Peach'], dtype='object')"
      ]
     },
     "execution_count": 49,
     "metadata": {},
     "output_type": "execute_result"
    }
   ],
   "source": [
    "aDict = {'Mango': 13.45, 'Banana':5, 'Cherry':2, 'Apple': 3, 'Peach': 10}\n",
    "pd.Series(aDict).index"
   ]
  },
  {
   "cell_type": "markdown",
   "metadata": {
    "colab_type": "text",
    "id": "z_A54Pi5kX6G"
   },
   "source": [
    "### Sorting a Series"
   ]
  },
  {
   "cell_type": "markdown",
   "metadata": {
    "colab_type": "text",
    "id": "8Nf4i2n3G2eU"
   },
   "source": [
    "If we want to sort the Series in the order of \"key\" or \"index\", we can use sort_index() function."
   ]
  },
  {
   "cell_type": "code",
   "execution_count": 50,
   "metadata": {
    "colab": {
     "base_uri": "https://localhost:8080/",
     "height": 119
    },
    "colab_type": "code",
    "id": "UtfyBj5dGxzh",
    "outputId": "9121f6e4-6f59-4205-8c28-bd2d07d2b54a"
   },
   "outputs": [
    {
     "data": {
      "text/plain": [
       "Apple      3.00\n",
       "Banana     5.00\n",
       "Cherry     2.00\n",
       "Mango     13.45\n",
       "Peach     10.00\n",
       "dtype: float64"
      ]
     },
     "execution_count": 50,
     "metadata": {},
     "output_type": "execute_result"
    }
   ],
   "source": [
    "s = pd.Series(aDict)\n",
    "s.sort_index()"
   ]
  },
  {
   "cell_type": "markdown",
   "metadata": {
    "colab_type": "text",
    "id": "10CStP_aO6xP"
   },
   "source": [
    "Similarly, if we want to sort the series based on the value, we can use a built-in function sort_values. By default, it will sort the elements in an ascending order."
   ]
  },
  {
   "cell_type": "code",
   "execution_count": 51,
   "metadata": {
    "colab": {
     "base_uri": "https://localhost:8080/",
     "height": 119
    },
    "colab_type": "code",
    "id": "M6yuEei4OmpK",
    "outputId": "cffd387c-e0ea-402f-9ef7-11ba4e21f007"
   },
   "outputs": [
    {
     "data": {
      "text/plain": [
       "Cherry     2.00\n",
       "Apple      3.00\n",
       "Banana     5.00\n",
       "Peach     10.00\n",
       "Mango     13.45\n",
       "dtype: float64"
      ]
     },
     "execution_count": 51,
     "metadata": {},
     "output_type": "execute_result"
    }
   ],
   "source": [
    "s = pd.Series(aDict)\n",
    "s.sort_values()"
   ]
  },
  {
   "cell_type": "markdown",
   "metadata": {
    "colab_type": "text",
    "id": "PvI4f3ITP3Bc"
   },
   "source": [
    "Let's sort the series in a descending order."
   ]
  },
  {
   "cell_type": "code",
   "execution_count": 52,
   "metadata": {
    "colab": {
     "base_uri": "https://localhost:8080/",
     "height": 119
    },
    "colab_type": "code",
    "id": "mv_d1kiTO5vZ",
    "outputId": "d8d8c402-d0d2-4678-852e-093f1697ac15"
   },
   "outputs": [
    {
     "data": {
      "text/plain": [
       "Mango     13.45\n",
       "Peach     10.00\n",
       "Banana     5.00\n",
       "Apple      3.00\n",
       "Cherry     2.00\n",
       "dtype: float64"
      ]
     },
     "execution_count": 52,
     "metadata": {},
     "output_type": "execute_result"
    }
   ],
   "source": [
    "s.sort_values(ascending=False)"
   ]
  },
  {
   "cell_type": "markdown",
   "metadata": {
    "colab_type": "text",
    "id": "RItg7im2dJhY"
   },
   "source": [
    "### 1.0 - Now Try This\n",
    "Sort the series by index in a descending order."
   ]
  },
  {
   "cell_type": "code",
   "execution_count": 53,
   "metadata": {
    "colab": {
     "base_uri": "https://localhost:8080/",
     "height": 119
    },
    "colab_type": "code",
    "id": "RLSEk8p_dPk1",
    "outputId": "dbc4d87f-58c7-41f6-de3e-541e182f294c"
   },
   "outputs": [
    {
     "data": {
      "text/plain": [
       "Peach     10.00\n",
       "Mango     13.45\n",
       "Cherry     2.00\n",
       "Banana     5.00\n",
       "Apple      3.00\n",
       "dtype: float64"
      ]
     },
     "execution_count": 53,
     "metadata": {},
     "output_type": "execute_result"
    }
   ],
   "source": [
    "s.sort_index(ascending=False)"
   ]
  },
  {
   "cell_type": "markdown",
   "metadata": {
    "colab_type": "text",
    "id": "tj7D1cz6POtl"
   },
   "source": [
    "### Accessing an element in a Series\n",
    "\n",
    "We can access elements in a Series in the following ways:\n",
    "- by index number\n",
    "- by index label"
   ]
  },
  {
   "cell_type": "code",
   "execution_count": 54,
   "metadata": {
    "colab": {},
    "colab_type": "code",
    "id": "Z-wAc-uWR9Hp"
   },
   "outputs": [],
   "source": [
    "array = np.array(['a','b','c','d','e','f','g','h'])\n",
    "s = pd.Series(array)"
   ]
  },
  {
   "cell_type": "markdown",
   "metadata": {
    "colab_type": "text",
    "id": "RaWWGQAGptvL"
   },
   "source": [
    "#### 1. By index number"
   ]
  },
  {
   "cell_type": "markdown",
   "metadata": {
    "colab_type": "text",
    "id": "Qpt2sMYhRiTY"
   },
   "source": [
    "We can access the first element by index number 0."
   ]
  },
  {
   "cell_type": "code",
   "execution_count": 55,
   "metadata": {
    "colab": {
     "base_uri": "https://localhost:8080/",
     "height": 37
    },
    "colab_type": "code",
    "id": "UCXBaQoQPWnq",
    "outputId": "b6f60de8-9435-4fc8-fc78-ceb93e6ce917"
   },
   "outputs": [
    {
     "data": {
      "text/plain": [
       "'a'"
      ]
     },
     "execution_count": 55,
     "metadata": {},
     "output_type": "execute_result"
    }
   ],
   "source": [
    "s[0]"
   ]
  },
  {
   "cell_type": "code",
   "execution_count": 56,
   "metadata": {
    "colab": {
     "base_uri": "https://localhost:8080/",
     "height": 37
    },
    "colab_type": "code",
    "id": "Cf64v-7DSViQ",
    "outputId": "0c925119-0002-472b-864f-03bf47ef202c"
   },
   "outputs": [
    {
     "data": {
      "text/plain": [
       "'f'"
      ]
     },
     "execution_count": 56,
     "metadata": {},
     "output_type": "execute_result"
    }
   ],
   "source": [
    "s[5]"
   ]
  },
  {
   "cell_type": "markdown",
   "metadata": {
    "colab_type": "text",
    "id": "XMY-qqdmSJo8"
   },
   "source": [
    "We can access the first 3 elements with index operation [:3]"
   ]
  },
  {
   "cell_type": "code",
   "execution_count": 57,
   "metadata": {
    "colab": {
     "base_uri": "https://localhost:8080/",
     "height": 85
    },
    "colab_type": "code",
    "id": "e9ipGYg3R4P7",
    "outputId": "cedbd2b3-27d7-4904-9fa7-009fc02e83e2"
   },
   "outputs": [
    {
     "data": {
      "text/plain": [
       "0    a\n",
       "1    b\n",
       "2    c\n",
       "dtype: object"
      ]
     },
     "execution_count": 57,
     "metadata": {},
     "output_type": "execute_result"
    }
   ],
   "source": [
    "s[:3]"
   ]
  },
  {
   "cell_type": "markdown",
   "metadata": {
    "colab_type": "text",
    "id": "I-bKEGiCpMyx"
   },
   "source": [
    "### 2.0 - Now Try This\n",
    "\n",
    "Access the items in the index of 3-5 (inclusive) using index operation."
   ]
  },
  {
   "cell_type": "code",
   "execution_count": 58,
   "metadata": {
    "colab": {},
    "colab_type": "code",
    "id": "MjXNqfxppf5T"
   },
   "outputs": [
    {
     "data": {
      "text/plain": [
       "3    d\n",
       "4    e\n",
       "5    f\n",
       "dtype: object"
      ]
     },
     "execution_count": 58,
     "metadata": {},
     "output_type": "execute_result"
    }
   ],
   "source": [
    "s[3:6]"
   ]
  },
  {
   "cell_type": "markdown",
   "metadata": {
    "colab_type": "text",
    "id": "2dk4jHp6pzJL"
   },
   "source": [
    "#### By Index Label"
   ]
  },
  {
   "cell_type": "markdown",
   "metadata": {
    "colab_type": "text",
    "id": "dWDXjvfPS5uQ"
   },
   "source": [
    "\n",
    "We can retrieve a single element using index label."
   ]
  },
  {
   "cell_type": "code",
   "execution_count": 59,
   "metadata": {
    "colab": {
     "base_uri": "https://localhost:8080/",
     "height": 34
    },
    "colab_type": "code",
    "id": "6HRnMdYASH3y",
    "outputId": "71a8191d-49a5-4bfa-8b00-95e2334e0f28"
   },
   "outputs": [
    {
     "data": {
      "text/plain": [
       "3"
      ]
     },
     "execution_count": 59,
     "metadata": {},
     "output_type": "execute_result"
    }
   ],
   "source": [
    "aDict = {'Apple':3, 'Banana':5, 'Cherry': 2, 'Peach': 10}\n",
    "s = pd.Series(aDict)\n",
    "s['Apple']"
   ]
  },
  {
   "cell_type": "code",
   "execution_count": 60,
   "metadata": {
    "colab": {
     "base_uri": "https://localhost:8080/",
     "height": 34
    },
    "colab_type": "code",
    "id": "NjMMQTHES3CL",
    "outputId": "6a21af8e-cd2a-43cb-be71-06f8a84a272b"
   },
   "outputs": [
    {
     "data": {
      "text/plain": [
       "10"
      ]
     },
     "execution_count": 60,
     "metadata": {},
     "output_type": "execute_result"
    }
   ],
   "source": [
    "s['Peach']"
   ]
  },
  {
   "cell_type": "markdown",
   "metadata": {
    "colab_type": "text",
    "id": "dz2IesgGp5a7"
   },
   "source": [
    "### 3.0 - Now Try This\n",
    "\n"
   ]
  },
  {
   "cell_type": "code",
   "execution_count": 61,
   "metadata": {
    "colab": {
     "base_uri": "https://localhost:8080/",
     "height": 34
    },
    "colab_type": "code",
    "id": "BW1mziJRTEPn",
    "outputId": "3345a8c5-a8a6-4f6d-ec53-9b7a27dd6364"
   },
   "outputs": [],
   "source": [
    "s = pd.Series([1,2,3,4,5],index = ['a','b','c','d','e'])"
   ]
  },
  {
   "cell_type": "markdown",
   "metadata": {
    "colab_type": "text",
    "id": "fTcTEUUzqDx5"
   },
   "source": [
    "Retrieve an element that corresponds to index 'd'"
   ]
  },
  {
   "cell_type": "code",
   "execution_count": 62,
   "metadata": {
    "colab": {},
    "colab_type": "code",
    "id": "NsyJYnRiqF-5"
   },
   "outputs": [
    {
     "data": {
      "text/plain": [
       "4"
      ]
     },
     "execution_count": 62,
     "metadata": {},
     "output_type": "execute_result"
    }
   ],
   "source": [
    "s['d']"
   ]
  },
  {
   "cell_type": "markdown",
   "metadata": {
    "colab_type": "text",
    "id": "Cfbdclds1OSj"
   },
   "source": [
    "### Binary Operations of Series\n",
    "- Add\n",
    "- Sub\n",
    "- Mul"
   ]
  },
  {
   "cell_type": "markdown",
   "metadata": {
    "colab_type": "text",
    "id": "FFcxfIA91bBj"
   },
   "source": [
    "Here, we have created two Series with numbers."
   ]
  },
  {
   "cell_type": "code",
   "execution_count": 63,
   "metadata": {
    "colab": {},
    "colab_type": "code",
    "id": "z2qRhcz51NfD"
   },
   "outputs": [],
   "source": [
    "# creating a first series\n",
    "s1 = pd.Series([1,5,6,2])\n",
    " \n",
    "# creating a second series\n",
    "s2 = pd.Series([4,1,3,5])"
   ]
  },
  {
   "cell_type": "markdown",
   "metadata": {
    "colab_type": "text",
    "id": "hNXSZot2NkVk"
   },
   "source": [
    "Let's add the two Series!"
   ]
  },
  {
   "cell_type": "code",
   "execution_count": 64,
   "metadata": {
    "colab": {
     "base_uri": "https://localhost:8080/",
     "height": 102
    },
    "colab_type": "code",
    "id": "JpC94kgxNbqd",
    "outputId": "d96cecff-b22b-473b-bede-bebaa62b664b"
   },
   "outputs": [
    {
     "name": "stdout",
     "output_type": "stream",
     "text": [
      "0    5\n",
      "1    6\n",
      "2    9\n",
      "3    7\n",
      "dtype: int64\n"
     ]
    }
   ],
   "source": [
    "# answer = s1 + s2\n",
    "answer = s1.add(s2)\n",
    "print(answer)"
   ]
  },
  {
   "cell_type": "markdown",
   "metadata": {
    "colab_type": "text",
    "id": "td9U_MhY2Lnv"
   },
   "source": [
    "We can also subtract a Series from another Series using sub() function."
   ]
  },
  {
   "cell_type": "code",
   "execution_count": 65,
   "metadata": {
    "colab": {
     "base_uri": "https://localhost:8080/",
     "height": 102
    },
    "colab_type": "code",
    "id": "Odw0eFWy2A85",
    "outputId": "447d42e0-d558-418a-a7f3-16976915f9f1"
   },
   "outputs": [
    {
     "name": "stdout",
     "output_type": "stream",
     "text": [
      "0   -3\n",
      "1    4\n",
      "2    3\n",
      "3   -3\n",
      "dtype: int64\n"
     ]
    }
   ],
   "source": [
    "# answer = s1 - s2\n",
    "answer = s1.sub(s2)\n",
    "print(answer)"
   ]
  },
  {
   "cell_type": "code",
   "execution_count": 66,
   "metadata": {
    "colab": {
     "base_uri": "https://localhost:8080/",
     "height": 102
    },
    "colab_type": "code",
    "id": "i_HM2J9U3ozL",
    "outputId": "765411d9-de0d-4807-ae44-baa2dce203e6"
   },
   "outputs": [
    {
     "name": "stdout",
     "output_type": "stream",
     "text": [
      "0     4\n",
      "1     5\n",
      "2    18\n",
      "3    10\n",
      "dtype: int64\n"
     ]
    }
   ],
   "source": [
    "answer = s1.mul(s2)\n",
    "print(answer)"
   ]
  },
  {
   "cell_type": "markdown",
   "metadata": {
    "colab_type": "text",
    "id": "dSpiQb6A29Ag"
   },
   "source": [
    "In a simpler approach, we can use mathematical notation and it will result in the same output."
   ]
  },
  {
   "cell_type": "code",
   "execution_count": 67,
   "metadata": {
    "colab": {
     "base_uri": "https://localhost:8080/",
     "height": 102
    },
    "colab_type": "code",
    "id": "R0BlOzUn3g3u",
    "outputId": "12301b73-596a-48b1-8c72-9140c63acb71"
   },
   "outputs": [
    {
     "data": {
      "text/plain": [
       "0    5\n",
       "1    6\n",
       "2    9\n",
       "3    7\n",
       "dtype: int64"
      ]
     },
     "execution_count": 67,
     "metadata": {},
     "output_type": "execute_result"
    }
   ],
   "source": [
    "s1 + s2"
   ]
  },
  {
   "cell_type": "code",
   "execution_count": 68,
   "metadata": {
    "colab": {
     "base_uri": "https://localhost:8080/",
     "height": 102
    },
    "colab_type": "code",
    "id": "JGfGW06a23oM",
    "outputId": "4a428b55-2f7f-4bd6-c0b9-cd06bc4da165"
   },
   "outputs": [
    {
     "data": {
      "text/plain": [
       "0   -3\n",
       "1    4\n",
       "2    3\n",
       "3   -3\n",
       "dtype: int64"
      ]
     },
     "execution_count": 68,
     "metadata": {},
     "output_type": "execute_result"
    }
   ],
   "source": [
    "s1 - s2"
   ]
  },
  {
   "cell_type": "code",
   "execution_count": 69,
   "metadata": {
    "colab": {
     "base_uri": "https://localhost:8080/",
     "height": 102
    },
    "colab_type": "code",
    "id": "-YR673G22U4X",
    "outputId": "97600d81-faf9-47a2-c530-698b04d8ebaa"
   },
   "outputs": [
    {
     "data": {
      "text/plain": [
       "0     4\n",
       "1     5\n",
       "2    18\n",
       "3    10\n",
       "dtype: int64"
      ]
     },
     "execution_count": 69,
     "metadata": {},
     "output_type": "execute_result"
    }
   ],
   "source": [
    "s1 * s2"
   ]
  },
  {
   "cell_type": "markdown",
   "metadata": {
    "colab_type": "text",
    "id": "iJle2PlleXCC"
   },
   "source": [
    "Now, let's create two Series with index. Note that the order of index is different in two Series."
   ]
  },
  {
   "cell_type": "code",
   "execution_count": 70,
   "metadata": {
    "colab": {},
    "colab_type": "code",
    "id": "s296gpaueBzP"
   },
   "outputs": [],
   "source": [
    "# creating a first series\n",
    "s1 = pd.Series([1,5,6,2], index=['b','c','d','a'])\n",
    " \n",
    "# creating a second series\n",
    "s2 = pd.Series([4,1,3,5], index=['a','b','c','d'])"
   ]
  },
  {
   "cell_type": "code",
   "execution_count": 71,
   "metadata": {
    "colab": {
     "base_uri": "https://localhost:8080/",
     "height": 102
    },
    "colab_type": "code",
    "id": "f3YngIopeLM2",
    "outputId": "375b0fcb-159c-41e3-88c7-0efc69d20431"
   },
   "outputs": [
    {
     "data": {
      "text/plain": [
       "a     6\n",
       "b     2\n",
       "c     8\n",
       "d    11\n",
       "dtype: int64"
      ]
     },
     "execution_count": 71,
     "metadata": {},
     "output_type": "execute_result"
    }
   ],
   "source": [
    "s1 + s2"
   ]
  },
  {
   "cell_type": "markdown",
   "metadata": {
    "colab_type": "text",
    "id": "_P6XPZ0KeiAa"
   },
   "source": [
    "s['a'] = 6 was obtained by s1['a'] + s2['a'] and all the other values are calculated in the same way."
   ]
  },
  {
   "cell_type": "markdown",
   "metadata": {
    "colab_type": "text",
    "id": "6AJExdsoqNkk"
   },
   "source": [
    "### 4.0 - Now Try This\n",
    "\n",
    "Write down what this code will return on a piece of paper.\n",
    "Compare your answer with the output of the code."
   ]
  },
  {
   "cell_type": "code",
   "execution_count": 72,
   "metadata": {
    "colab": {},
    "colab_type": "code",
    "id": "sLj-gx-NqYpt"
   },
   "outputs": [
    {
     "data": {
      "text/plain": [
       "a     8\n",
       "b     1\n",
       "c    15\n",
       "d    30\n",
       "dtype: int64"
      ]
     },
     "execution_count": 72,
     "metadata": {},
     "output_type": "execute_result"
    }
   ],
   "source": [
    "s1 * s2"
   ]
  },
  {
   "cell_type": "markdown",
   "metadata": {
    "colab_type": "text",
    "id": "EJNR47rL43Zr"
   },
   "source": [
    "## Advanced Dataframe"
   ]
  },
  {
   "cell_type": "markdown",
   "metadata": {
    "colab_type": "text",
    "id": "Jl3rMWUf6zF0"
   },
   "source": [
    "Let's move onto dataframe and create a dataframe on people's income."
   ]
  },
  {
   "cell_type": "code",
   "execution_count": 73,
   "metadata": {
    "colab": {},
    "colab_type": "code",
    "id": "lj3GrMli4xtz"
   },
   "outputs": [],
   "source": [
    "data = {'First Name': ['Jennifer', 'Chris', 'John', 'Annie', 'Chloe', 'Jeremy', 'Allison'], \n",
    "        'Last Name': ['Brown', 'Smith', 'Williams', 'Wong', 'Anderson', 'Scott', 'Kim'], \n",
    "        'Age': [16, 32, 21, 35, 27, 42, 28],\n",
    "        'Hourly Wage': [8,14,60,44,80,54,32],\n",
    "        'Hours per week': [20,28,40,40,32,40,40]\n",
    "        } \n",
    "\n",
    "emp = pd.DataFrame(data)"
   ]
  },
  {
   "cell_type": "markdown",
   "metadata": {
    "colab_type": "text",
    "id": "Zl6-3HOnDUxM"
   },
   "source": [
    "### Creating new columns\n",
    "\n",
    "#### String Manipulation\n",
    "\n",
    "Let's combine First Name and Last Name and create a new column called \"Full Name.\"\n",
    "\n",
    "The ```' '``` in the middle is adding a space between the first name and last name. "
   ]
  },
  {
   "cell_type": "code",
   "execution_count": 74,
   "metadata": {
    "colab": {
     "base_uri": "https://localhost:8080/",
     "height": 204
    },
    "colab_type": "code",
    "id": "4yC0jbKyBMsS",
    "outputId": "066333c1-4ed3-496d-bdce-de8a999d9bb9"
   },
   "outputs": [
    {
     "data": {
      "text/html": [
       "<div>\n",
       "<style scoped>\n",
       "    .dataframe tbody tr th:only-of-type {\n",
       "        vertical-align: middle;\n",
       "    }\n",
       "\n",
       "    .dataframe tbody tr th {\n",
       "        vertical-align: top;\n",
       "    }\n",
       "\n",
       "    .dataframe thead th {\n",
       "        text-align: right;\n",
       "    }\n",
       "</style>\n",
       "<table border=\"1\" class=\"dataframe\">\n",
       "  <thead>\n",
       "    <tr style=\"text-align: right;\">\n",
       "      <th></th>\n",
       "      <th>First Name</th>\n",
       "      <th>Last Name</th>\n",
       "      <th>Age</th>\n",
       "      <th>Hourly Wage</th>\n",
       "      <th>Hours per week</th>\n",
       "      <th>Full Name</th>\n",
       "    </tr>\n",
       "  </thead>\n",
       "  <tbody>\n",
       "    <tr>\n",
       "      <td>0</td>\n",
       "      <td>Jennifer</td>\n",
       "      <td>Brown</td>\n",
       "      <td>16</td>\n",
       "      <td>8</td>\n",
       "      <td>20</td>\n",
       "      <td>Jennifer Brown</td>\n",
       "    </tr>\n",
       "    <tr>\n",
       "      <td>1</td>\n",
       "      <td>Chris</td>\n",
       "      <td>Smith</td>\n",
       "      <td>32</td>\n",
       "      <td>14</td>\n",
       "      <td>28</td>\n",
       "      <td>Chris Smith</td>\n",
       "    </tr>\n",
       "    <tr>\n",
       "      <td>2</td>\n",
       "      <td>John</td>\n",
       "      <td>Williams</td>\n",
       "      <td>21</td>\n",
       "      <td>60</td>\n",
       "      <td>40</td>\n",
       "      <td>John Williams</td>\n",
       "    </tr>\n",
       "    <tr>\n",
       "      <td>3</td>\n",
       "      <td>Annie</td>\n",
       "      <td>Wong</td>\n",
       "      <td>35</td>\n",
       "      <td>44</td>\n",
       "      <td>40</td>\n",
       "      <td>Annie Wong</td>\n",
       "    </tr>\n",
       "    <tr>\n",
       "      <td>4</td>\n",
       "      <td>Chloe</td>\n",
       "      <td>Anderson</td>\n",
       "      <td>27</td>\n",
       "      <td>80</td>\n",
       "      <td>32</td>\n",
       "      <td>Chloe Anderson</td>\n",
       "    </tr>\n",
       "    <tr>\n",
       "      <td>5</td>\n",
       "      <td>Jeremy</td>\n",
       "      <td>Scott</td>\n",
       "      <td>42</td>\n",
       "      <td>54</td>\n",
       "      <td>40</td>\n",
       "      <td>Jeremy Scott</td>\n",
       "    </tr>\n",
       "    <tr>\n",
       "      <td>6</td>\n",
       "      <td>Allison</td>\n",
       "      <td>Kim</td>\n",
       "      <td>28</td>\n",
       "      <td>32</td>\n",
       "      <td>40</td>\n",
       "      <td>Allison Kim</td>\n",
       "    </tr>\n",
       "  </tbody>\n",
       "</table>\n",
       "</div>"
      ],
      "text/plain": [
       "  First Name Last Name  Age  Hourly Wage  Hours per week       Full Name\n",
       "0   Jennifer     Brown   16            8              20  Jennifer Brown\n",
       "1      Chris     Smith   32           14              28     Chris Smith\n",
       "2       John  Williams   21           60              40   John Williams\n",
       "3      Annie      Wong   35           44              40      Annie Wong\n",
       "4      Chloe  Anderson   27           80              32  Chloe Anderson\n",
       "5     Jeremy     Scott   42           54              40    Jeremy Scott\n",
       "6    Allison       Kim   28           32              40     Allison Kim"
      ]
     },
     "execution_count": 74,
     "metadata": {},
     "output_type": "execute_result"
    }
   ],
   "source": [
    "# string manipulation\n",
    "emp['Full Name'] = emp['First Name'] + ' ' + emp['Last Name']\n",
    "emp"
   ]
  },
  {
   "cell_type": "markdown",
   "metadata": {
    "colab_type": "text",
    "id": "9_Iwt_P6fHqc"
   },
   "source": [
    "#### Numerical column\n",
    "\n",
    "Let's calculate weekly salary for each person and add a column called ```Weekly Salary```. We need to do a simple math to get the weekly salary."
   ]
  },
  {
   "cell_type": "code",
   "execution_count": 75,
   "metadata": {
    "colab": {
     "base_uri": "https://localhost:8080/",
     "height": 204
    },
    "colab_type": "code",
    "id": "_d67Iv2Se8WU",
    "outputId": "36c70e94-c510-404f-cb0f-b7c9ac4b9b86"
   },
   "outputs": [
    {
     "data": {
      "text/html": [
       "<div>\n",
       "<style scoped>\n",
       "    .dataframe tbody tr th:only-of-type {\n",
       "        vertical-align: middle;\n",
       "    }\n",
       "\n",
       "    .dataframe tbody tr th {\n",
       "        vertical-align: top;\n",
       "    }\n",
       "\n",
       "    .dataframe thead th {\n",
       "        text-align: right;\n",
       "    }\n",
       "</style>\n",
       "<table border=\"1\" class=\"dataframe\">\n",
       "  <thead>\n",
       "    <tr style=\"text-align: right;\">\n",
       "      <th></th>\n",
       "      <th>First Name</th>\n",
       "      <th>Last Name</th>\n",
       "      <th>Age</th>\n",
       "      <th>Hourly Wage</th>\n",
       "      <th>Hours per week</th>\n",
       "      <th>Full Name</th>\n",
       "      <th>Weekly Salary</th>\n",
       "    </tr>\n",
       "  </thead>\n",
       "  <tbody>\n",
       "    <tr>\n",
       "      <td>0</td>\n",
       "      <td>Jennifer</td>\n",
       "      <td>Brown</td>\n",
       "      <td>16</td>\n",
       "      <td>8</td>\n",
       "      <td>20</td>\n",
       "      <td>Jennifer Brown</td>\n",
       "      <td>160</td>\n",
       "    </tr>\n",
       "    <tr>\n",
       "      <td>1</td>\n",
       "      <td>Chris</td>\n",
       "      <td>Smith</td>\n",
       "      <td>32</td>\n",
       "      <td>14</td>\n",
       "      <td>28</td>\n",
       "      <td>Chris Smith</td>\n",
       "      <td>392</td>\n",
       "    </tr>\n",
       "    <tr>\n",
       "      <td>2</td>\n",
       "      <td>John</td>\n",
       "      <td>Williams</td>\n",
       "      <td>21</td>\n",
       "      <td>60</td>\n",
       "      <td>40</td>\n",
       "      <td>John Williams</td>\n",
       "      <td>2400</td>\n",
       "    </tr>\n",
       "    <tr>\n",
       "      <td>3</td>\n",
       "      <td>Annie</td>\n",
       "      <td>Wong</td>\n",
       "      <td>35</td>\n",
       "      <td>44</td>\n",
       "      <td>40</td>\n",
       "      <td>Annie Wong</td>\n",
       "      <td>1760</td>\n",
       "    </tr>\n",
       "    <tr>\n",
       "      <td>4</td>\n",
       "      <td>Chloe</td>\n",
       "      <td>Anderson</td>\n",
       "      <td>27</td>\n",
       "      <td>80</td>\n",
       "      <td>32</td>\n",
       "      <td>Chloe Anderson</td>\n",
       "      <td>2560</td>\n",
       "    </tr>\n",
       "    <tr>\n",
       "      <td>5</td>\n",
       "      <td>Jeremy</td>\n",
       "      <td>Scott</td>\n",
       "      <td>42</td>\n",
       "      <td>54</td>\n",
       "      <td>40</td>\n",
       "      <td>Jeremy Scott</td>\n",
       "      <td>2160</td>\n",
       "    </tr>\n",
       "    <tr>\n",
       "      <td>6</td>\n",
       "      <td>Allison</td>\n",
       "      <td>Kim</td>\n",
       "      <td>28</td>\n",
       "      <td>32</td>\n",
       "      <td>40</td>\n",
       "      <td>Allison Kim</td>\n",
       "      <td>1280</td>\n",
       "    </tr>\n",
       "  </tbody>\n",
       "</table>\n",
       "</div>"
      ],
      "text/plain": [
       "  First Name Last Name  Age  Hourly Wage  Hours per week       Full Name  \\\n",
       "0   Jennifer     Brown   16            8              20  Jennifer Brown   \n",
       "1      Chris     Smith   32           14              28     Chris Smith   \n",
       "2       John  Williams   21           60              40   John Williams   \n",
       "3      Annie      Wong   35           44              40      Annie Wong   \n",
       "4      Chloe  Anderson   27           80              32  Chloe Anderson   \n",
       "5     Jeremy     Scott   42           54              40    Jeremy Scott   \n",
       "6    Allison       Kim   28           32              40     Allison Kim   \n",
       "\n",
       "   Weekly Salary  \n",
       "0            160  \n",
       "1            392  \n",
       "2           2400  \n",
       "3           1760  \n",
       "4           2560  \n",
       "5           2160  \n",
       "6           1280  "
      ]
     },
     "execution_count": 75,
     "metadata": {},
     "output_type": "execute_result"
    }
   ],
   "source": [
    "# multiplication of two numerical columns\n",
    "emp['Weekly Salary'] = emp['Hourly Wage'] * emp['Hours per week']\n",
    "emp"
   ]
  },
  {
   "cell_type": "markdown",
   "metadata": {
    "colab_type": "text",
    "id": "2sVeQuAODYPT"
   },
   "source": [
    "Now, we've added two columns \"Full Name\" and \"Weekly Salary.\"\n",
    "\n",
    "#### List Comprehension\n",
    "\n",
    "Let's create a new column called ```High Income``` based on the ```Weekly Salary```. We will use a list comprehension for this (you can refer to Week 2 materials if you can't recall list comprehenstion.)\n",
    "\n",
    "```High Income``` will be ```True``` if ```Weekly Salary``` is > 2000, otherwise False."
   ]
  },
  {
   "cell_type": "code",
   "execution_count": 76,
   "metadata": {
    "colab": {
     "base_uri": "https://localhost:8080/",
     "height": 204
    },
    "colab_type": "code",
    "id": "g3doGL0WBUBA",
    "outputId": "1b5fb8ef-220b-419e-db22-24ce38592d2a"
   },
   "outputs": [
    {
     "data": {
      "text/html": [
       "<div>\n",
       "<style scoped>\n",
       "    .dataframe tbody tr th:only-of-type {\n",
       "        vertical-align: middle;\n",
       "    }\n",
       "\n",
       "    .dataframe tbody tr th {\n",
       "        vertical-align: top;\n",
       "    }\n",
       "\n",
       "    .dataframe thead th {\n",
       "        text-align: right;\n",
       "    }\n",
       "</style>\n",
       "<table border=\"1\" class=\"dataframe\">\n",
       "  <thead>\n",
       "    <tr style=\"text-align: right;\">\n",
       "      <th></th>\n",
       "      <th>First Name</th>\n",
       "      <th>Last Name</th>\n",
       "      <th>Age</th>\n",
       "      <th>Hourly Wage</th>\n",
       "      <th>Hours per week</th>\n",
       "      <th>Full Name</th>\n",
       "      <th>Weekly Salary</th>\n",
       "      <th>High Income</th>\n",
       "    </tr>\n",
       "  </thead>\n",
       "  <tbody>\n",
       "    <tr>\n",
       "      <td>0</td>\n",
       "      <td>Jennifer</td>\n",
       "      <td>Brown</td>\n",
       "      <td>16</td>\n",
       "      <td>8</td>\n",
       "      <td>20</td>\n",
       "      <td>Jennifer Brown</td>\n",
       "      <td>160</td>\n",
       "      <td>False</td>\n",
       "    </tr>\n",
       "    <tr>\n",
       "      <td>1</td>\n",
       "      <td>Chris</td>\n",
       "      <td>Smith</td>\n",
       "      <td>32</td>\n",
       "      <td>14</td>\n",
       "      <td>28</td>\n",
       "      <td>Chris Smith</td>\n",
       "      <td>392</td>\n",
       "      <td>False</td>\n",
       "    </tr>\n",
       "    <tr>\n",
       "      <td>2</td>\n",
       "      <td>John</td>\n",
       "      <td>Williams</td>\n",
       "      <td>21</td>\n",
       "      <td>60</td>\n",
       "      <td>40</td>\n",
       "      <td>John Williams</td>\n",
       "      <td>2400</td>\n",
       "      <td>True</td>\n",
       "    </tr>\n",
       "    <tr>\n",
       "      <td>3</td>\n",
       "      <td>Annie</td>\n",
       "      <td>Wong</td>\n",
       "      <td>35</td>\n",
       "      <td>44</td>\n",
       "      <td>40</td>\n",
       "      <td>Annie Wong</td>\n",
       "      <td>1760</td>\n",
       "      <td>False</td>\n",
       "    </tr>\n",
       "    <tr>\n",
       "      <td>4</td>\n",
       "      <td>Chloe</td>\n",
       "      <td>Anderson</td>\n",
       "      <td>27</td>\n",
       "      <td>80</td>\n",
       "      <td>32</td>\n",
       "      <td>Chloe Anderson</td>\n",
       "      <td>2560</td>\n",
       "      <td>True</td>\n",
       "    </tr>\n",
       "    <tr>\n",
       "      <td>5</td>\n",
       "      <td>Jeremy</td>\n",
       "      <td>Scott</td>\n",
       "      <td>42</td>\n",
       "      <td>54</td>\n",
       "      <td>40</td>\n",
       "      <td>Jeremy Scott</td>\n",
       "      <td>2160</td>\n",
       "      <td>True</td>\n",
       "    </tr>\n",
       "    <tr>\n",
       "      <td>6</td>\n",
       "      <td>Allison</td>\n",
       "      <td>Kim</td>\n",
       "      <td>28</td>\n",
       "      <td>32</td>\n",
       "      <td>40</td>\n",
       "      <td>Allison Kim</td>\n",
       "      <td>1280</td>\n",
       "      <td>False</td>\n",
       "    </tr>\n",
       "  </tbody>\n",
       "</table>\n",
       "</div>"
      ],
      "text/plain": [
       "  First Name Last Name  Age  Hourly Wage  Hours per week       Full Name  \\\n",
       "0   Jennifer     Brown   16            8              20  Jennifer Brown   \n",
       "1      Chris     Smith   32           14              28     Chris Smith   \n",
       "2       John  Williams   21           60              40   John Williams   \n",
       "3      Annie      Wong   35           44              40      Annie Wong   \n",
       "4      Chloe  Anderson   27           80              32  Chloe Anderson   \n",
       "5     Jeremy     Scott   42           54              40    Jeremy Scott   \n",
       "6    Allison       Kim   28           32              40     Allison Kim   \n",
       "\n",
       "   Weekly Salary  High Income  \n",
       "0            160        False  \n",
       "1            392        False  \n",
       "2           2400         True  \n",
       "3           1760        False  \n",
       "4           2560         True  \n",
       "5           2160         True  \n",
       "6           1280        False  "
      ]
     },
     "execution_count": 76,
     "metadata": {},
     "output_type": "execute_result"
    }
   ],
   "source": [
    "# list comprehension\n",
    "emp['High Income'] = [True if x > 2000 else False for x in emp['Weekly Salary']]\n",
    "emp"
   ]
  },
  {
   "cell_type": "markdown",
   "metadata": {
    "colab_type": "text",
    "id": "RmD7OwLghrOl"
   },
   "source": [
    "### Sorting the dataset\n",
    "\n",
    "Let's sort the data by 'Weekly Salary'"
   ]
  },
  {
   "cell_type": "code",
   "execution_count": 77,
   "metadata": {
    "colab": {
     "base_uri": "https://localhost:8080/",
     "height": 204
    },
    "colab_type": "code",
    "id": "KaBiarDihijf",
    "outputId": "030dd407-7760-4031-ab38-5fbb940f5a1e"
   },
   "outputs": [
    {
     "data": {
      "text/html": [
       "<div>\n",
       "<style scoped>\n",
       "    .dataframe tbody tr th:only-of-type {\n",
       "        vertical-align: middle;\n",
       "    }\n",
       "\n",
       "    .dataframe tbody tr th {\n",
       "        vertical-align: top;\n",
       "    }\n",
       "\n",
       "    .dataframe thead th {\n",
       "        text-align: right;\n",
       "    }\n",
       "</style>\n",
       "<table border=\"1\" class=\"dataframe\">\n",
       "  <thead>\n",
       "    <tr style=\"text-align: right;\">\n",
       "      <th></th>\n",
       "      <th>First Name</th>\n",
       "      <th>Last Name</th>\n",
       "      <th>Age</th>\n",
       "      <th>Hourly Wage</th>\n",
       "      <th>Hours per week</th>\n",
       "      <th>Full Name</th>\n",
       "      <th>Weekly Salary</th>\n",
       "      <th>High Income</th>\n",
       "    </tr>\n",
       "  </thead>\n",
       "  <tbody>\n",
       "    <tr>\n",
       "      <td>0</td>\n",
       "      <td>Jennifer</td>\n",
       "      <td>Brown</td>\n",
       "      <td>16</td>\n",
       "      <td>8</td>\n",
       "      <td>20</td>\n",
       "      <td>Jennifer Brown</td>\n",
       "      <td>160</td>\n",
       "      <td>False</td>\n",
       "    </tr>\n",
       "    <tr>\n",
       "      <td>1</td>\n",
       "      <td>Chris</td>\n",
       "      <td>Smith</td>\n",
       "      <td>32</td>\n",
       "      <td>14</td>\n",
       "      <td>28</td>\n",
       "      <td>Chris Smith</td>\n",
       "      <td>392</td>\n",
       "      <td>False</td>\n",
       "    </tr>\n",
       "    <tr>\n",
       "      <td>6</td>\n",
       "      <td>Allison</td>\n",
       "      <td>Kim</td>\n",
       "      <td>28</td>\n",
       "      <td>32</td>\n",
       "      <td>40</td>\n",
       "      <td>Allison Kim</td>\n",
       "      <td>1280</td>\n",
       "      <td>False</td>\n",
       "    </tr>\n",
       "    <tr>\n",
       "      <td>3</td>\n",
       "      <td>Annie</td>\n",
       "      <td>Wong</td>\n",
       "      <td>35</td>\n",
       "      <td>44</td>\n",
       "      <td>40</td>\n",
       "      <td>Annie Wong</td>\n",
       "      <td>1760</td>\n",
       "      <td>False</td>\n",
       "    </tr>\n",
       "    <tr>\n",
       "      <td>5</td>\n",
       "      <td>Jeremy</td>\n",
       "      <td>Scott</td>\n",
       "      <td>42</td>\n",
       "      <td>54</td>\n",
       "      <td>40</td>\n",
       "      <td>Jeremy Scott</td>\n",
       "      <td>2160</td>\n",
       "      <td>True</td>\n",
       "    </tr>\n",
       "    <tr>\n",
       "      <td>2</td>\n",
       "      <td>John</td>\n",
       "      <td>Williams</td>\n",
       "      <td>21</td>\n",
       "      <td>60</td>\n",
       "      <td>40</td>\n",
       "      <td>John Williams</td>\n",
       "      <td>2400</td>\n",
       "      <td>True</td>\n",
       "    </tr>\n",
       "    <tr>\n",
       "      <td>4</td>\n",
       "      <td>Chloe</td>\n",
       "      <td>Anderson</td>\n",
       "      <td>27</td>\n",
       "      <td>80</td>\n",
       "      <td>32</td>\n",
       "      <td>Chloe Anderson</td>\n",
       "      <td>2560</td>\n",
       "      <td>True</td>\n",
       "    </tr>\n",
       "  </tbody>\n",
       "</table>\n",
       "</div>"
      ],
      "text/plain": [
       "  First Name Last Name  Age  Hourly Wage  Hours per week       Full Name  \\\n",
       "0   Jennifer     Brown   16            8              20  Jennifer Brown   \n",
       "1      Chris     Smith   32           14              28     Chris Smith   \n",
       "6    Allison       Kim   28           32              40     Allison Kim   \n",
       "3      Annie      Wong   35           44              40      Annie Wong   \n",
       "5     Jeremy     Scott   42           54              40    Jeremy Scott   \n",
       "2       John  Williams   21           60              40   John Williams   \n",
       "4      Chloe  Anderson   27           80              32  Chloe Anderson   \n",
       "\n",
       "   Weekly Salary  High Income  \n",
       "0            160        False  \n",
       "1            392        False  \n",
       "6           1280        False  \n",
       "3           1760        False  \n",
       "5           2160         True  \n",
       "2           2400         True  \n",
       "4           2560         True  "
      ]
     },
     "execution_count": 77,
     "metadata": {},
     "output_type": "execute_result"
    }
   ],
   "source": [
    "emp.sort_values(by='Weekly Salary')"
   ]
  },
  {
   "cell_type": "markdown",
   "metadata": {
    "colab_type": "text",
    "id": "sjwwN40_NNE7"
   },
   "source": [
    "Now, all of the high income workers are located in the bottom of the dataset."
   ]
  },
  {
   "cell_type": "markdown",
   "metadata": {
    "colab_type": "text",
    "id": "yylmga3XDdEC"
   },
   "source": [
    "### Selecting subset of data based on condition\n",
    "\n",
    "Let's review how we can select subset of data based on criteria.\n",
    "\n",
    "Selecting rows where 'High Income' is True"
   ]
  },
  {
   "cell_type": "code",
   "execution_count": 78,
   "metadata": {
    "colab": {
     "base_uri": "https://localhost:8080/",
     "height": 111
    },
    "colab_type": "code",
    "id": "YTvKOQLnDCxc",
    "outputId": "bfb2ba13-cce6-47bd-e39d-4be2fcde2f8d"
   },
   "outputs": [
    {
     "data": {
      "text/html": [
       "<div>\n",
       "<style scoped>\n",
       "    .dataframe tbody tr th:only-of-type {\n",
       "        vertical-align: middle;\n",
       "    }\n",
       "\n",
       "    .dataframe tbody tr th {\n",
       "        vertical-align: top;\n",
       "    }\n",
       "\n",
       "    .dataframe thead th {\n",
       "        text-align: right;\n",
       "    }\n",
       "</style>\n",
       "<table border=\"1\" class=\"dataframe\">\n",
       "  <thead>\n",
       "    <tr style=\"text-align: right;\">\n",
       "      <th></th>\n",
       "      <th>First Name</th>\n",
       "      <th>Last Name</th>\n",
       "      <th>Age</th>\n",
       "      <th>Hourly Wage</th>\n",
       "      <th>Hours per week</th>\n",
       "      <th>Full Name</th>\n",
       "      <th>Weekly Salary</th>\n",
       "      <th>High Income</th>\n",
       "    </tr>\n",
       "  </thead>\n",
       "  <tbody>\n",
       "    <tr>\n",
       "      <td>2</td>\n",
       "      <td>John</td>\n",
       "      <td>Williams</td>\n",
       "      <td>21</td>\n",
       "      <td>60</td>\n",
       "      <td>40</td>\n",
       "      <td>John Williams</td>\n",
       "      <td>2400</td>\n",
       "      <td>True</td>\n",
       "    </tr>\n",
       "    <tr>\n",
       "      <td>4</td>\n",
       "      <td>Chloe</td>\n",
       "      <td>Anderson</td>\n",
       "      <td>27</td>\n",
       "      <td>80</td>\n",
       "      <td>32</td>\n",
       "      <td>Chloe Anderson</td>\n",
       "      <td>2560</td>\n",
       "      <td>True</td>\n",
       "    </tr>\n",
       "    <tr>\n",
       "      <td>5</td>\n",
       "      <td>Jeremy</td>\n",
       "      <td>Scott</td>\n",
       "      <td>42</td>\n",
       "      <td>54</td>\n",
       "      <td>40</td>\n",
       "      <td>Jeremy Scott</td>\n",
       "      <td>2160</td>\n",
       "      <td>True</td>\n",
       "    </tr>\n",
       "  </tbody>\n",
       "</table>\n",
       "</div>"
      ],
      "text/plain": [
       "  First Name Last Name  Age  Hourly Wage  Hours per week       Full Name  \\\n",
       "2       John  Williams   21           60              40   John Williams   \n",
       "4      Chloe  Anderson   27           80              32  Chloe Anderson   \n",
       "5     Jeremy     Scott   42           54              40    Jeremy Scott   \n",
       "\n",
       "   Weekly Salary  High Income  \n",
       "2           2400         True  \n",
       "4           2560         True  \n",
       "5           2160         True  "
      ]
     },
     "execution_count": 78,
     "metadata": {},
     "output_type": "execute_result"
    }
   ],
   "source": [
    "emp[emp['High Income'] == True]"
   ]
  },
  {
   "cell_type": "markdown",
   "metadata": {
    "colab_type": "text",
    "id": "05x_BcYbiXE7"
   },
   "source": [
    "### 5.0 - Now Try This\n",
    "\n",
    "Let's find people who are younger than 30 years old AND have high income.\n",
    "\n",
    "(Hint: Make sure to use ```()``` on each condition.)"
   ]
  },
  {
   "cell_type": "code",
   "execution_count": 79,
   "metadata": {
    "colab": {
     "base_uri": "https://localhost:8080/",
     "height": 80
    },
    "colab_type": "code",
    "id": "dD72aufEiGsH",
    "outputId": "b76894a7-5ae8-4366-af5a-343591c95fb2"
   },
   "outputs": [
    {
     "data": {
      "text/html": [
       "<div>\n",
       "<style scoped>\n",
       "    .dataframe tbody tr th:only-of-type {\n",
       "        vertical-align: middle;\n",
       "    }\n",
       "\n",
       "    .dataframe tbody tr th {\n",
       "        vertical-align: top;\n",
       "    }\n",
       "\n",
       "    .dataframe thead th {\n",
       "        text-align: right;\n",
       "    }\n",
       "</style>\n",
       "<table border=\"1\" class=\"dataframe\">\n",
       "  <thead>\n",
       "    <tr style=\"text-align: right;\">\n",
       "      <th></th>\n",
       "      <th>First Name</th>\n",
       "      <th>Last Name</th>\n",
       "      <th>Age</th>\n",
       "      <th>Hourly Wage</th>\n",
       "      <th>Hours per week</th>\n",
       "      <th>Full Name</th>\n",
       "      <th>Weekly Salary</th>\n",
       "      <th>High Income</th>\n",
       "    </tr>\n",
       "  </thead>\n",
       "  <tbody>\n",
       "    <tr>\n",
       "      <td>2</td>\n",
       "      <td>John</td>\n",
       "      <td>Williams</td>\n",
       "      <td>21</td>\n",
       "      <td>60</td>\n",
       "      <td>40</td>\n",
       "      <td>John Williams</td>\n",
       "      <td>2400</td>\n",
       "      <td>True</td>\n",
       "    </tr>\n",
       "    <tr>\n",
       "      <td>4</td>\n",
       "      <td>Chloe</td>\n",
       "      <td>Anderson</td>\n",
       "      <td>27</td>\n",
       "      <td>80</td>\n",
       "      <td>32</td>\n",
       "      <td>Chloe Anderson</td>\n",
       "      <td>2560</td>\n",
       "      <td>True</td>\n",
       "    </tr>\n",
       "  </tbody>\n",
       "</table>\n",
       "</div>"
      ],
      "text/plain": [
       "  First Name Last Name  Age  Hourly Wage  Hours per week       Full Name  \\\n",
       "2       John  Williams   21           60              40   John Williams   \n",
       "4      Chloe  Anderson   27           80              32  Chloe Anderson   \n",
       "\n",
       "   Weekly Salary  High Income  \n",
       "2           2400         True  \n",
       "4           2560         True  "
      ]
     },
     "execution_count": 79,
     "metadata": {},
     "output_type": "execute_result"
    }
   ],
   "source": [
    "emp[(emp['High Income'] == True) & (emp['Age'] < 30)]"
   ]
  },
  {
   "cell_type": "markdown",
   "metadata": {
    "colab_type": "text",
    "id": "tUK8ezg5DjbQ"
   },
   "source": [
    "### Dropping rows\n",
    "\n",
    "There are two ways of dropping rows.\n",
    "\n",
    "1. ```df.drop(index #)```\n",
    "2. ```df.drop(df[<some boolean condition>].index)```: \n",
    "\n",
    "The first code is used when we know exactly what rows we want to drop from the dataframe.\n",
    "With the second code, we can drop rows that do not meet certain criteria."
   ]
  },
  {
   "cell_type": "markdown",
   "metadata": {},
   "source": [
    "Let's drop rows where 'High Income' is False."
   ]
  },
  {
   "cell_type": "code",
   "execution_count": 80,
   "metadata": {
    "colab": {
     "base_uri": "https://localhost:8080/",
     "height": 111
    },
    "colab_type": "code",
    "id": "WgV-dhN5CpYt",
    "outputId": "7bb6f561-0aba-4e2f-d64b-0792e7bc435e",
    "scrolled": true
   },
   "outputs": [
    {
     "data": {
      "text/html": [
       "<div>\n",
       "<style scoped>\n",
       "    .dataframe tbody tr th:only-of-type {\n",
       "        vertical-align: middle;\n",
       "    }\n",
       "\n",
       "    .dataframe tbody tr th {\n",
       "        vertical-align: top;\n",
       "    }\n",
       "\n",
       "    .dataframe thead th {\n",
       "        text-align: right;\n",
       "    }\n",
       "</style>\n",
       "<table border=\"1\" class=\"dataframe\">\n",
       "  <thead>\n",
       "    <tr style=\"text-align: right;\">\n",
       "      <th></th>\n",
       "      <th>First Name</th>\n",
       "      <th>Last Name</th>\n",
       "      <th>Age</th>\n",
       "      <th>Hourly Wage</th>\n",
       "      <th>Hours per week</th>\n",
       "      <th>Full Name</th>\n",
       "      <th>Weekly Salary</th>\n",
       "      <th>High Income</th>\n",
       "    </tr>\n",
       "  </thead>\n",
       "  <tbody>\n",
       "    <tr>\n",
       "      <td>2</td>\n",
       "      <td>John</td>\n",
       "      <td>Williams</td>\n",
       "      <td>21</td>\n",
       "      <td>60</td>\n",
       "      <td>40</td>\n",
       "      <td>John Williams</td>\n",
       "      <td>2400</td>\n",
       "      <td>True</td>\n",
       "    </tr>\n",
       "    <tr>\n",
       "      <td>4</td>\n",
       "      <td>Chloe</td>\n",
       "      <td>Anderson</td>\n",
       "      <td>27</td>\n",
       "      <td>80</td>\n",
       "      <td>32</td>\n",
       "      <td>Chloe Anderson</td>\n",
       "      <td>2560</td>\n",
       "      <td>True</td>\n",
       "    </tr>\n",
       "    <tr>\n",
       "      <td>5</td>\n",
       "      <td>Jeremy</td>\n",
       "      <td>Scott</td>\n",
       "      <td>42</td>\n",
       "      <td>54</td>\n",
       "      <td>40</td>\n",
       "      <td>Jeremy Scott</td>\n",
       "      <td>2160</td>\n",
       "      <td>True</td>\n",
       "    </tr>\n",
       "  </tbody>\n",
       "</table>\n",
       "</div>"
      ],
      "text/plain": [
       "  First Name Last Name  Age  Hourly Wage  Hours per week       Full Name  \\\n",
       "2       John  Williams   21           60              40   John Williams   \n",
       "4      Chloe  Anderson   27           80              32  Chloe Anderson   \n",
       "5     Jeremy     Scott   42           54              40    Jeremy Scott   \n",
       "\n",
       "   Weekly Salary  High Income  \n",
       "2           2400         True  \n",
       "4           2560         True  \n",
       "5           2160         True  "
      ]
     },
     "execution_count": 80,
     "metadata": {},
     "output_type": "execute_result"
    }
   ],
   "source": [
    "emp.drop(emp[emp['High Income'] == False].index)"
   ]
  },
  {
   "cell_type": "code",
   "execution_count": 81,
   "metadata": {},
   "outputs": [
    {
     "data": {
      "text/html": [
       "<div>\n",
       "<style scoped>\n",
       "    .dataframe tbody tr th:only-of-type {\n",
       "        vertical-align: middle;\n",
       "    }\n",
       "\n",
       "    .dataframe tbody tr th {\n",
       "        vertical-align: top;\n",
       "    }\n",
       "\n",
       "    .dataframe thead th {\n",
       "        text-align: right;\n",
       "    }\n",
       "</style>\n",
       "<table border=\"1\" class=\"dataframe\">\n",
       "  <thead>\n",
       "    <tr style=\"text-align: right;\">\n",
       "      <th></th>\n",
       "      <th>First Name</th>\n",
       "      <th>Last Name</th>\n",
       "      <th>Age</th>\n",
       "      <th>Hourly Wage</th>\n",
       "      <th>Hours per week</th>\n",
       "      <th>Full Name</th>\n",
       "      <th>Weekly Salary</th>\n",
       "      <th>High Income</th>\n",
       "    </tr>\n",
       "  </thead>\n",
       "  <tbody>\n",
       "    <tr>\n",
       "      <td>0</td>\n",
       "      <td>Jennifer</td>\n",
       "      <td>Brown</td>\n",
       "      <td>16</td>\n",
       "      <td>8</td>\n",
       "      <td>20</td>\n",
       "      <td>Jennifer Brown</td>\n",
       "      <td>160</td>\n",
       "      <td>False</td>\n",
       "    </tr>\n",
       "    <tr>\n",
       "      <td>1</td>\n",
       "      <td>Chris</td>\n",
       "      <td>Smith</td>\n",
       "      <td>32</td>\n",
       "      <td>14</td>\n",
       "      <td>28</td>\n",
       "      <td>Chris Smith</td>\n",
       "      <td>392</td>\n",
       "      <td>False</td>\n",
       "    </tr>\n",
       "    <tr>\n",
       "      <td>2</td>\n",
       "      <td>John</td>\n",
       "      <td>Williams</td>\n",
       "      <td>21</td>\n",
       "      <td>60</td>\n",
       "      <td>40</td>\n",
       "      <td>John Williams</td>\n",
       "      <td>2400</td>\n",
       "      <td>True</td>\n",
       "    </tr>\n",
       "    <tr>\n",
       "      <td>3</td>\n",
       "      <td>Annie</td>\n",
       "      <td>Wong</td>\n",
       "      <td>35</td>\n",
       "      <td>44</td>\n",
       "      <td>40</td>\n",
       "      <td>Annie Wong</td>\n",
       "      <td>1760</td>\n",
       "      <td>False</td>\n",
       "    </tr>\n",
       "    <tr>\n",
       "      <td>4</td>\n",
       "      <td>Chloe</td>\n",
       "      <td>Anderson</td>\n",
       "      <td>27</td>\n",
       "      <td>80</td>\n",
       "      <td>32</td>\n",
       "      <td>Chloe Anderson</td>\n",
       "      <td>2560</td>\n",
       "      <td>True</td>\n",
       "    </tr>\n",
       "    <tr>\n",
       "      <td>5</td>\n",
       "      <td>Jeremy</td>\n",
       "      <td>Scott</td>\n",
       "      <td>42</td>\n",
       "      <td>54</td>\n",
       "      <td>40</td>\n",
       "      <td>Jeremy Scott</td>\n",
       "      <td>2160</td>\n",
       "      <td>True</td>\n",
       "    </tr>\n",
       "    <tr>\n",
       "      <td>6</td>\n",
       "      <td>Allison</td>\n",
       "      <td>Kim</td>\n",
       "      <td>28</td>\n",
       "      <td>32</td>\n",
       "      <td>40</td>\n",
       "      <td>Allison Kim</td>\n",
       "      <td>1280</td>\n",
       "      <td>False</td>\n",
       "    </tr>\n",
       "  </tbody>\n",
       "</table>\n",
       "</div>"
      ],
      "text/plain": [
       "  First Name Last Name  Age  Hourly Wage  Hours per week       Full Name  \\\n",
       "0   Jennifer     Brown   16            8              20  Jennifer Brown   \n",
       "1      Chris     Smith   32           14              28     Chris Smith   \n",
       "2       John  Williams   21           60              40   John Williams   \n",
       "3      Annie      Wong   35           44              40      Annie Wong   \n",
       "4      Chloe  Anderson   27           80              32  Chloe Anderson   \n",
       "5     Jeremy     Scott   42           54              40    Jeremy Scott   \n",
       "6    Allison       Kim   28           32              40     Allison Kim   \n",
       "\n",
       "   Weekly Salary  High Income  \n",
       "0            160        False  \n",
       "1            392        False  \n",
       "2           2400         True  \n",
       "3           1760        False  \n",
       "4           2560         True  \n",
       "5           2160         True  \n",
       "6           1280        False  "
      ]
     },
     "execution_count": 81,
     "metadata": {},
     "output_type": "execute_result"
    }
   ],
   "source": [
    "emp"
   ]
  },
  {
   "cell_type": "markdown",
   "metadata": {
    "colab_type": "text",
    "id": "cv86yEkODqPa"
   },
   "source": [
    "Even though we dropped the columns where High Income == False, emp remains unchanged.\n",
    "\n",
    "This is because we didn't update emp!\n",
    "\n",
    "We can update the dataframe once we drop the rows by setting ```inplace=True```"
   ]
  },
  {
   "cell_type": "code",
   "execution_count": 82,
   "metadata": {
    "colab": {},
    "colab_type": "code",
    "id": "JbmnWKy1PCRc"
   },
   "outputs": [],
   "source": [
    "emp.drop(emp[emp['High Income'] == False].index, inplace=True)"
   ]
  },
  {
   "cell_type": "code",
   "execution_count": 83,
   "metadata": {
    "scrolled": true
   },
   "outputs": [
    {
     "data": {
      "text/html": [
       "<div>\n",
       "<style scoped>\n",
       "    .dataframe tbody tr th:only-of-type {\n",
       "        vertical-align: middle;\n",
       "    }\n",
       "\n",
       "    .dataframe tbody tr th {\n",
       "        vertical-align: top;\n",
       "    }\n",
       "\n",
       "    .dataframe thead th {\n",
       "        text-align: right;\n",
       "    }\n",
       "</style>\n",
       "<table border=\"1\" class=\"dataframe\">\n",
       "  <thead>\n",
       "    <tr style=\"text-align: right;\">\n",
       "      <th></th>\n",
       "      <th>First Name</th>\n",
       "      <th>Last Name</th>\n",
       "      <th>Age</th>\n",
       "      <th>Hourly Wage</th>\n",
       "      <th>Hours per week</th>\n",
       "      <th>Full Name</th>\n",
       "      <th>Weekly Salary</th>\n",
       "      <th>High Income</th>\n",
       "    </tr>\n",
       "  </thead>\n",
       "  <tbody>\n",
       "    <tr>\n",
       "      <td>2</td>\n",
       "      <td>John</td>\n",
       "      <td>Williams</td>\n",
       "      <td>21</td>\n",
       "      <td>60</td>\n",
       "      <td>40</td>\n",
       "      <td>John Williams</td>\n",
       "      <td>2400</td>\n",
       "      <td>True</td>\n",
       "    </tr>\n",
       "    <tr>\n",
       "      <td>4</td>\n",
       "      <td>Chloe</td>\n",
       "      <td>Anderson</td>\n",
       "      <td>27</td>\n",
       "      <td>80</td>\n",
       "      <td>32</td>\n",
       "      <td>Chloe Anderson</td>\n",
       "      <td>2560</td>\n",
       "      <td>True</td>\n",
       "    </tr>\n",
       "    <tr>\n",
       "      <td>5</td>\n",
       "      <td>Jeremy</td>\n",
       "      <td>Scott</td>\n",
       "      <td>42</td>\n",
       "      <td>54</td>\n",
       "      <td>40</td>\n",
       "      <td>Jeremy Scott</td>\n",
       "      <td>2160</td>\n",
       "      <td>True</td>\n",
       "    </tr>\n",
       "  </tbody>\n",
       "</table>\n",
       "</div>"
      ],
      "text/plain": [
       "  First Name Last Name  Age  Hourly Wage  Hours per week       Full Name  \\\n",
       "2       John  Williams   21           60              40   John Williams   \n",
       "4      Chloe  Anderson   27           80              32  Chloe Anderson   \n",
       "5     Jeremy     Scott   42           54              40    Jeremy Scott   \n",
       "\n",
       "   Weekly Salary  High Income  \n",
       "2           2400         True  \n",
       "4           2560         True  \n",
       "5           2160         True  "
      ]
     },
     "execution_count": 83,
     "metadata": {},
     "output_type": "execute_result"
    }
   ],
   "source": [
    "emp"
   ]
  },
  {
   "cell_type": "markdown",
   "metadata": {},
   "source": [
    "Here we go! emp has been updated!"
   ]
  },
  {
   "cell_type": "markdown",
   "metadata": {
    "colab_type": "text",
    "id": "Wc0vZktaD0f2"
   },
   "source": [
    "### Company Dataframe\n",
    "\n",
    "Here, we have the dataset with the company name each person in ```emp``` works for."
   ]
  },
  {
   "cell_type": "code",
   "execution_count": 84,
   "metadata": {
    "colab": {},
    "colab_type": "code",
    "id": "q0yelL2KEN9C"
   },
   "outputs": [],
   "source": [
    "data = {'First Name': ['Jennifer', 'Chris', 'John', 'Annie', 'Chloe', 'Jeremy', 'Allison'], \n",
    "        'Last Name': ['Brown', 'Smith', 'Williams', 'Wong', 'Anderson', 'Scott', 'Kim'], \n",
    "        'Company': ['Home Depot', 'Bit Project', 'Microsoft', 'Bit Project', 'Disney', 'Adidas', 'Home Depot']\n",
    "        } \n",
    "\n",
    "companies = pd.DataFrame(data)"
   ]
  },
  {
   "cell_type": "code",
   "execution_count": 85,
   "metadata": {
    "colab": {
     "base_uri": "https://localhost:8080/",
     "height": 204
    },
    "colab_type": "code",
    "id": "h95qFZpcQpp6",
    "outputId": "5cb9c274-692f-4b7b-979e-c7303d249a76"
   },
   "outputs": [
    {
     "data": {
      "text/html": [
       "<div>\n",
       "<style scoped>\n",
       "    .dataframe tbody tr th:only-of-type {\n",
       "        vertical-align: middle;\n",
       "    }\n",
       "\n",
       "    .dataframe tbody tr th {\n",
       "        vertical-align: top;\n",
       "    }\n",
       "\n",
       "    .dataframe thead th {\n",
       "        text-align: right;\n",
       "    }\n",
       "</style>\n",
       "<table border=\"1\" class=\"dataframe\">\n",
       "  <thead>\n",
       "    <tr style=\"text-align: right;\">\n",
       "      <th></th>\n",
       "      <th>First Name</th>\n",
       "      <th>Last Name</th>\n",
       "      <th>Company</th>\n",
       "    </tr>\n",
       "  </thead>\n",
       "  <tbody>\n",
       "    <tr>\n",
       "      <td>0</td>\n",
       "      <td>Jennifer</td>\n",
       "      <td>Brown</td>\n",
       "      <td>Home Depot</td>\n",
       "    </tr>\n",
       "    <tr>\n",
       "      <td>1</td>\n",
       "      <td>Chris</td>\n",
       "      <td>Smith</td>\n",
       "      <td>Bit Project</td>\n",
       "    </tr>\n",
       "    <tr>\n",
       "      <td>2</td>\n",
       "      <td>John</td>\n",
       "      <td>Williams</td>\n",
       "      <td>Microsoft</td>\n",
       "    </tr>\n",
       "    <tr>\n",
       "      <td>3</td>\n",
       "      <td>Annie</td>\n",
       "      <td>Wong</td>\n",
       "      <td>Bit Project</td>\n",
       "    </tr>\n",
       "    <tr>\n",
       "      <td>4</td>\n",
       "      <td>Chloe</td>\n",
       "      <td>Anderson</td>\n",
       "      <td>Disney</td>\n",
       "    </tr>\n",
       "    <tr>\n",
       "      <td>5</td>\n",
       "      <td>Jeremy</td>\n",
       "      <td>Scott</td>\n",
       "      <td>Adidas</td>\n",
       "    </tr>\n",
       "    <tr>\n",
       "      <td>6</td>\n",
       "      <td>Allison</td>\n",
       "      <td>Kim</td>\n",
       "      <td>Home Depot</td>\n",
       "    </tr>\n",
       "  </tbody>\n",
       "</table>\n",
       "</div>"
      ],
      "text/plain": [
       "  First Name Last Name      Company\n",
       "0   Jennifer     Brown   Home Depot\n",
       "1      Chris     Smith  Bit Project\n",
       "2       John  Williams    Microsoft\n",
       "3      Annie      Wong  Bit Project\n",
       "4      Chloe  Anderson       Disney\n",
       "5     Jeremy     Scott       Adidas\n",
       "6    Allison       Kim   Home Depot"
      ]
     },
     "execution_count": 85,
     "metadata": {},
     "output_type": "execute_result"
    }
   ],
   "source": [
    "companies"
   ]
  },
  {
   "cell_type": "markdown",
   "metadata": {},
   "source": [
    "### Unique values in columns\n",
    "\n",
    "Let's find out the unique company names in company dataframe.\n",
    "\n",
    "```df[[column_name]].drop_duplicates()```\n",
    "\n",
    "This code will literally drop duplicates in the ```column_name```!"
   ]
  },
  {
   "cell_type": "code",
   "execution_count": 86,
   "metadata": {},
   "outputs": [
    {
     "data": {
      "text/html": [
       "<div>\n",
       "<style scoped>\n",
       "    .dataframe tbody tr th:only-of-type {\n",
       "        vertical-align: middle;\n",
       "    }\n",
       "\n",
       "    .dataframe tbody tr th {\n",
       "        vertical-align: top;\n",
       "    }\n",
       "\n",
       "    .dataframe thead th {\n",
       "        text-align: right;\n",
       "    }\n",
       "</style>\n",
       "<table border=\"1\" class=\"dataframe\">\n",
       "  <thead>\n",
       "    <tr style=\"text-align: right;\">\n",
       "      <th></th>\n",
       "      <th>Company</th>\n",
       "    </tr>\n",
       "  </thead>\n",
       "  <tbody>\n",
       "    <tr>\n",
       "      <td>0</td>\n",
       "      <td>Home Depot</td>\n",
       "    </tr>\n",
       "    <tr>\n",
       "      <td>1</td>\n",
       "      <td>Bit Project</td>\n",
       "    </tr>\n",
       "    <tr>\n",
       "      <td>2</td>\n",
       "      <td>Microsoft</td>\n",
       "    </tr>\n",
       "    <tr>\n",
       "      <td>4</td>\n",
       "      <td>Disney</td>\n",
       "    </tr>\n",
       "    <tr>\n",
       "      <td>5</td>\n",
       "      <td>Adidas</td>\n",
       "    </tr>\n",
       "  </tbody>\n",
       "</table>\n",
       "</div>"
      ],
      "text/plain": [
       "       Company\n",
       "0   Home Depot\n",
       "1  Bit Project\n",
       "2    Microsoft\n",
       "4       Disney\n",
       "5       Adidas"
      ]
     },
     "execution_count": 86,
     "metadata": {},
     "output_type": "execute_result"
    }
   ],
   "source": [
    "companies[[\"Company\"]].drop_duplicates()"
   ]
  },
  {
   "cell_type": "markdown",
   "metadata": {},
   "source": [
    "To find out the number of unique values in a column, we can use ```nunique()```.\n",
    "\n",
    "```nunique()``` can be interpreted as **n**umber of **unique** values."
   ]
  },
  {
   "cell_type": "code",
   "execution_count": 87,
   "metadata": {},
   "outputs": [
    {
     "data": {
      "text/plain": [
       "5"
      ]
     },
     "execution_count": 87,
     "metadata": {},
     "output_type": "execute_result"
    }
   ],
   "source": [
    "companies[\"Company\"].nunique()"
   ]
  },
  {
   "cell_type": "markdown",
   "metadata": {},
   "source": [
    "These two functions will be very helpful when working with a large, complicated dataset!"
   ]
  },
  {
   "cell_type": "markdown",
   "metadata": {},
   "source": [
    "### Joining Dataset\n",
    "\n",
    "Let's join the two tables ```emp``` and ```companies``` to find out which companies those people work for."
   ]
  },
  {
   "cell_type": "markdown",
   "metadata": {
    "colab_type": "text",
    "id": "pr6JBdx0RYv0"
   },
   "source": [
    "### 1. Merge"
   ]
  },
  {
   "cell_type": "markdown",
   "metadata": {},
   "source": [
    "These are the parameters we can use when we merge two dataframes.\n",
    "\n",
    "```DataFrame.merge(right, how='inner', on=None, left_on=None, right_on=None, left_index=False, right_index=False, sort=False, suffixes='_x', '_y', copy=True, indicator=False, validate=None)```\n",
    "\n",
    "- how: {‘inner’, ‘left’, ‘right’, ‘outer’}, default ‘inner’\n",
    "- on: Column or index level names to join on. These must be found in both DataFrames.\n",
    "- left_on: Column or index level names to join on in the left DataFrame.\n",
    "- right_on: Column or index level names to join on in the right DataFrame.\n",
    "- left_index: Use the index from the left DataFrame as the join key.\n",
    "- right_index: Use the index from the right DataFrame as the join key\n",
    "- suffixes: A length-2 sequence where each element is optionally a string indicating the suffix to add to overlapping column names in left and right respectively. \n",
    "\n",
    "We will cover the most fundamental and commonly used ones here. Feel free to check for more details at https://pandas.pydata.org/pandas-docs/stable/reference/api/pandas.DataFrame.merge.html \n"
   ]
  },
  {
   "cell_type": "markdown",
   "metadata": {},
   "source": [
    "#### Merge - How\n",
    "\n",
    "```how``` indicates a type of ```join``` and there are 4: ```inner```, ```left```, ```right```, and ```outer```."
   ]
  },
  {
   "attachments": {},
   "cell_type": "markdown",
   "metadata": {},
   "source": [
    "![inner_join.png](assets/inner_join.png)\n",
    "\n",
    "```inner join``` will take in the common items / columns between the two dataframes."
   ]
  },
  {
   "attachments": {},
   "cell_type": "markdown",
   "metadata": {},
   "source": [
    "![left_join.png](assets/left_join.png)\n",
    "\n",
    "```left join``` will include everything from left dataframe and add a column from right dataframe where there's a match in the right dataframe."
   ]
  },
  {
   "attachments": {},
   "cell_type": "markdown",
   "metadata": {},
   "source": [
    "![right_join.png](assets/right_join.png)\n",
    "\n",
    "Similar to ```left join```, ```right join``` will include everything from right dataframe and add a column from left dataframe where there's a match in the left dataframe."
   ]
  },
  {
   "attachments": {},
   "cell_type": "markdown",
   "metadata": {},
   "source": [
    "![full_join.png](assets/full_join.png)\n",
    "\n",
    "```full join``` will include everything from left and right dataframe even if there's no common item between the two dataframes."
   ]
  },
  {
   "cell_type": "markdown",
   "metadata": {},
   "source": [
    "Understanding different types of ```join```s are very important as this will help us to determine which type of ```join``` we will perform on a dataframe."
   ]
  },
  {
   "cell_type": "markdown",
   "metadata": {},
   "source": [
    "#### Merge - How Example:\n",
    "\n",
    "We can merge ```emp``` that has weekly salary information and ```companies``` that has the name of the company each person works for.\n",
    "\n",
    "The code below will return a dataframe of two merged objects."
   ]
  },
  {
   "cell_type": "code",
   "execution_count": 89,
   "metadata": {},
   "outputs": [
    {
     "data": {
      "text/html": [
       "<div>\n",
       "<style scoped>\n",
       "    .dataframe tbody tr th:only-of-type {\n",
       "        vertical-align: middle;\n",
       "    }\n",
       "\n",
       "    .dataframe tbody tr th {\n",
       "        vertical-align: top;\n",
       "    }\n",
       "\n",
       "    .dataframe thead th {\n",
       "        text-align: right;\n",
       "    }\n",
       "</style>\n",
       "<table border=\"1\" class=\"dataframe\">\n",
       "  <thead>\n",
       "    <tr style=\"text-align: right;\">\n",
       "      <th></th>\n",
       "      <th>First Name</th>\n",
       "      <th>Last Name</th>\n",
       "      <th>Age</th>\n",
       "      <th>Hourly Wage</th>\n",
       "      <th>Hours per week</th>\n",
       "      <th>Full Name</th>\n",
       "      <th>Weekly Salary</th>\n",
       "      <th>High Income</th>\n",
       "      <th>Company</th>\n",
       "    </tr>\n",
       "  </thead>\n",
       "  <tbody>\n",
       "    <tr>\n",
       "      <td>0</td>\n",
       "      <td>John</td>\n",
       "      <td>Williams</td>\n",
       "      <td>21</td>\n",
       "      <td>60</td>\n",
       "      <td>40</td>\n",
       "      <td>John Williams</td>\n",
       "      <td>2400</td>\n",
       "      <td>True</td>\n",
       "      <td>Microsoft</td>\n",
       "    </tr>\n",
       "    <tr>\n",
       "      <td>1</td>\n",
       "      <td>Chloe</td>\n",
       "      <td>Anderson</td>\n",
       "      <td>27</td>\n",
       "      <td>80</td>\n",
       "      <td>32</td>\n",
       "      <td>Chloe Anderson</td>\n",
       "      <td>2560</td>\n",
       "      <td>True</td>\n",
       "      <td>Disney</td>\n",
       "    </tr>\n",
       "    <tr>\n",
       "      <td>2</td>\n",
       "      <td>Jeremy</td>\n",
       "      <td>Scott</td>\n",
       "      <td>42</td>\n",
       "      <td>54</td>\n",
       "      <td>40</td>\n",
       "      <td>Jeremy Scott</td>\n",
       "      <td>2160</td>\n",
       "      <td>True</td>\n",
       "      <td>Adidas</td>\n",
       "    </tr>\n",
       "  </tbody>\n",
       "</table>\n",
       "</div>"
      ],
      "text/plain": [
       "  First Name Last Name  Age  Hourly Wage  Hours per week       Full Name  \\\n",
       "0       John  Williams   21           60              40   John Williams   \n",
       "1      Chloe  Anderson   27           80              32  Chloe Anderson   \n",
       "2     Jeremy     Scott   42           54              40    Jeremy Scott   \n",
       "\n",
       "   Weekly Salary  High Income    Company  \n",
       "0           2400         True  Microsoft  \n",
       "1           2560         True     Disney  \n",
       "2           2160         True     Adidas  "
      ]
     },
     "execution_count": 89,
     "metadata": {},
     "output_type": "execute_result"
    }
   ],
   "source": [
    "pd.merge(emp, companies)"
   ]
  },
  {
   "cell_type": "markdown",
   "metadata": {},
   "source": [
    "Yay, it worked! \n",
    "\n",
    "We dropped the rows from ```emp``` where employee's weekly salary is less than $2000, so the updated ```emp``` has 3 entities.\n",
    "\n",
    "By default, ```merge``` performs ```inner join``` and that's why it's showing less number of rows than ```companies``` dataframe."
   ]
  },
  {
   "cell_type": "markdown",
   "metadata": {},
   "source": [
    "Now, let's try ```right_join``` and see how it works!"
   ]
  },
  {
   "cell_type": "code",
   "execution_count": 92,
   "metadata": {},
   "outputs": [
    {
     "data": {
      "text/html": [
       "<div>\n",
       "<style scoped>\n",
       "    .dataframe tbody tr th:only-of-type {\n",
       "        vertical-align: middle;\n",
       "    }\n",
       "\n",
       "    .dataframe tbody tr th {\n",
       "        vertical-align: top;\n",
       "    }\n",
       "\n",
       "    .dataframe thead th {\n",
       "        text-align: right;\n",
       "    }\n",
       "</style>\n",
       "<table border=\"1\" class=\"dataframe\">\n",
       "  <thead>\n",
       "    <tr style=\"text-align: right;\">\n",
       "      <th></th>\n",
       "      <th>First Name</th>\n",
       "      <th>Last Name</th>\n",
       "      <th>Age</th>\n",
       "      <th>Hourly Wage</th>\n",
       "      <th>Hours per week</th>\n",
       "      <th>Full Name</th>\n",
       "      <th>Weekly Salary</th>\n",
       "      <th>High Income</th>\n",
       "      <th>Company</th>\n",
       "    </tr>\n",
       "  </thead>\n",
       "  <tbody>\n",
       "    <tr>\n",
       "      <td>0</td>\n",
       "      <td>John</td>\n",
       "      <td>Williams</td>\n",
       "      <td>21.0</td>\n",
       "      <td>60.0</td>\n",
       "      <td>40.0</td>\n",
       "      <td>John Williams</td>\n",
       "      <td>2400.0</td>\n",
       "      <td>True</td>\n",
       "      <td>Microsoft</td>\n",
       "    </tr>\n",
       "    <tr>\n",
       "      <td>1</td>\n",
       "      <td>Chloe</td>\n",
       "      <td>Anderson</td>\n",
       "      <td>27.0</td>\n",
       "      <td>80.0</td>\n",
       "      <td>32.0</td>\n",
       "      <td>Chloe Anderson</td>\n",
       "      <td>2560.0</td>\n",
       "      <td>True</td>\n",
       "      <td>Disney</td>\n",
       "    </tr>\n",
       "    <tr>\n",
       "      <td>2</td>\n",
       "      <td>Jeremy</td>\n",
       "      <td>Scott</td>\n",
       "      <td>42.0</td>\n",
       "      <td>54.0</td>\n",
       "      <td>40.0</td>\n",
       "      <td>Jeremy Scott</td>\n",
       "      <td>2160.0</td>\n",
       "      <td>True</td>\n",
       "      <td>Adidas</td>\n",
       "    </tr>\n",
       "    <tr>\n",
       "      <td>3</td>\n",
       "      <td>Jennifer</td>\n",
       "      <td>Brown</td>\n",
       "      <td>NaN</td>\n",
       "      <td>NaN</td>\n",
       "      <td>NaN</td>\n",
       "      <td>NaN</td>\n",
       "      <td>NaN</td>\n",
       "      <td>NaN</td>\n",
       "      <td>Home Depot</td>\n",
       "    </tr>\n",
       "    <tr>\n",
       "      <td>4</td>\n",
       "      <td>Chris</td>\n",
       "      <td>Smith</td>\n",
       "      <td>NaN</td>\n",
       "      <td>NaN</td>\n",
       "      <td>NaN</td>\n",
       "      <td>NaN</td>\n",
       "      <td>NaN</td>\n",
       "      <td>NaN</td>\n",
       "      <td>Bit Project</td>\n",
       "    </tr>\n",
       "    <tr>\n",
       "      <td>5</td>\n",
       "      <td>Annie</td>\n",
       "      <td>Wong</td>\n",
       "      <td>NaN</td>\n",
       "      <td>NaN</td>\n",
       "      <td>NaN</td>\n",
       "      <td>NaN</td>\n",
       "      <td>NaN</td>\n",
       "      <td>NaN</td>\n",
       "      <td>Bit Project</td>\n",
       "    </tr>\n",
       "    <tr>\n",
       "      <td>6</td>\n",
       "      <td>Allison</td>\n",
       "      <td>Kim</td>\n",
       "      <td>NaN</td>\n",
       "      <td>NaN</td>\n",
       "      <td>NaN</td>\n",
       "      <td>NaN</td>\n",
       "      <td>NaN</td>\n",
       "      <td>NaN</td>\n",
       "      <td>Home Depot</td>\n",
       "    </tr>\n",
       "  </tbody>\n",
       "</table>\n",
       "</div>"
      ],
      "text/plain": [
       "  First Name Last Name   Age  Hourly Wage  Hours per week       Full Name  \\\n",
       "0       John  Williams  21.0         60.0            40.0   John Williams   \n",
       "1      Chloe  Anderson  27.0         80.0            32.0  Chloe Anderson   \n",
       "2     Jeremy     Scott  42.0         54.0            40.0    Jeremy Scott   \n",
       "3   Jennifer     Brown   NaN          NaN             NaN             NaN   \n",
       "4      Chris     Smith   NaN          NaN             NaN             NaN   \n",
       "5      Annie      Wong   NaN          NaN             NaN             NaN   \n",
       "6    Allison       Kim   NaN          NaN             NaN             NaN   \n",
       "\n",
       "   Weekly Salary High Income      Company  \n",
       "0         2400.0        True    Microsoft  \n",
       "1         2560.0        True       Disney  \n",
       "2         2160.0        True       Adidas  \n",
       "3            NaN         NaN   Home Depot  \n",
       "4            NaN         NaN  Bit Project  \n",
       "5            NaN         NaN  Bit Project  \n",
       "6            NaN         NaN   Home Depot  "
      ]
     },
     "execution_count": 92,
     "metadata": {},
     "output_type": "execute_result"
    }
   ],
   "source": [
    "pd.merge(emp, companies, how='right')"
   ]
  },
  {
   "cell_type": "markdown",
   "metadata": {},
   "source": [
    "As our right dataframe is ```companies``` with 7 entities, it shows all of the 7 employees in ```companies``` dataframe.\n",
    "\n",
    "But, as we've dropped the rows that do not meet our salary expectation in ```emp```, the result of ```right_join``` is missing ```Age```, ```Hourly Wage```, ```Hours per week```, etc for some employees."
   ]
  },
  {
   "cell_type": "markdown",
   "metadata": {},
   "source": [
    "#### Merge - On, left_on, right_on\n",
    "\n",
    "```on```, ```left_on```, and ```right_on``` indicate a column or index level names to join on.\n",
    "\n",
    "- ```on``` is used when the same column name exists in both dataframes.\n",
    "- ```left_on``` and ```right_on``` is used when the column names are different in two dataframes."
   ]
  },
  {
   "cell_type": "markdown",
   "metadata": {},
   "source": [
    "#### Merge - On Example\n",
    "\n",
    "Let's join the two dataframes using common column names, ```First Name``` and ```Last Name```."
   ]
  },
  {
   "cell_type": "code",
   "execution_count": 93,
   "metadata": {},
   "outputs": [
    {
     "data": {
      "text/html": [
       "<div>\n",
       "<style scoped>\n",
       "    .dataframe tbody tr th:only-of-type {\n",
       "        vertical-align: middle;\n",
       "    }\n",
       "\n",
       "    .dataframe tbody tr th {\n",
       "        vertical-align: top;\n",
       "    }\n",
       "\n",
       "    .dataframe thead th {\n",
       "        text-align: right;\n",
       "    }\n",
       "</style>\n",
       "<table border=\"1\" class=\"dataframe\">\n",
       "  <thead>\n",
       "    <tr style=\"text-align: right;\">\n",
       "      <th></th>\n",
       "      <th>First Name</th>\n",
       "      <th>Last Name</th>\n",
       "      <th>Age</th>\n",
       "      <th>Hourly Wage</th>\n",
       "      <th>Hours per week</th>\n",
       "      <th>Full Name</th>\n",
       "      <th>Weekly Salary</th>\n",
       "      <th>High Income</th>\n",
       "      <th>Company</th>\n",
       "    </tr>\n",
       "  </thead>\n",
       "  <tbody>\n",
       "    <tr>\n",
       "      <td>0</td>\n",
       "      <td>John</td>\n",
       "      <td>Williams</td>\n",
       "      <td>21</td>\n",
       "      <td>60</td>\n",
       "      <td>40</td>\n",
       "      <td>John Williams</td>\n",
       "      <td>2400</td>\n",
       "      <td>True</td>\n",
       "      <td>Microsoft</td>\n",
       "    </tr>\n",
       "    <tr>\n",
       "      <td>1</td>\n",
       "      <td>Chloe</td>\n",
       "      <td>Anderson</td>\n",
       "      <td>27</td>\n",
       "      <td>80</td>\n",
       "      <td>32</td>\n",
       "      <td>Chloe Anderson</td>\n",
       "      <td>2560</td>\n",
       "      <td>True</td>\n",
       "      <td>Disney</td>\n",
       "    </tr>\n",
       "    <tr>\n",
       "      <td>2</td>\n",
       "      <td>Jeremy</td>\n",
       "      <td>Scott</td>\n",
       "      <td>42</td>\n",
       "      <td>54</td>\n",
       "      <td>40</td>\n",
       "      <td>Jeremy Scott</td>\n",
       "      <td>2160</td>\n",
       "      <td>True</td>\n",
       "      <td>Adidas</td>\n",
       "    </tr>\n",
       "  </tbody>\n",
       "</table>\n",
       "</div>"
      ],
      "text/plain": [
       "  First Name Last Name  Age  Hourly Wage  Hours per week       Full Name  \\\n",
       "0       John  Williams   21           60              40   John Williams   \n",
       "1      Chloe  Anderson   27           80              32  Chloe Anderson   \n",
       "2     Jeremy     Scott   42           54              40    Jeremy Scott   \n",
       "\n",
       "   Weekly Salary  High Income    Company  \n",
       "0           2400         True  Microsoft  \n",
       "1           2560         True     Disney  \n",
       "2           2160         True     Adidas  "
      ]
     },
     "execution_count": 93,
     "metadata": {},
     "output_type": "execute_result"
    }
   ],
   "source": [
    "pd.merge(emp, companies, on=['First Name', 'Last Name'])"
   ]
  },
  {
   "cell_type": "markdown",
   "metadata": {},
   "source": [
    "The resulting dataset shows three entities, since ```inner join``` was performed by default."
   ]
  },
  {
   "cell_type": "markdown",
   "metadata": {},
   "source": [
    "#### Merge - left_on, right_on Example\n",
    "\n",
    "It might happen that the two dataframes we want to merge have different column names.\n",
    "In this case, we will have to specify the left column name and the right column name.\n",
    "\n",
    "Let's join the two dataframes using a different column name. \n",
    "\n",
    "- ```emp``` column name: ```Full Name``` \n",
    "- ```companies``` column name: ```Name```"
   ]
  },
  {
   "cell_type": "code",
   "execution_count": 94,
   "metadata": {},
   "outputs": [],
   "source": [
    "companies['Name'] = companies['First Name'] + ' ' + companies['Last Name']"
   ]
  },
  {
   "cell_type": "code",
   "execution_count": 95,
   "metadata": {
    "colab": {
     "base_uri": "https://localhost:8080/",
     "height": 204
    },
    "colab_type": "code",
    "id": "lEZwlVLNBo8T",
    "outputId": "40d2cb7f-aee4-4e5f-bf07-5a8227b726aa",
    "scrolled": true
   },
   "outputs": [
    {
     "data": {
      "text/html": [
       "<div>\n",
       "<style scoped>\n",
       "    .dataframe tbody tr th:only-of-type {\n",
       "        vertical-align: middle;\n",
       "    }\n",
       "\n",
       "    .dataframe tbody tr th {\n",
       "        vertical-align: top;\n",
       "    }\n",
       "\n",
       "    .dataframe thead th {\n",
       "        text-align: right;\n",
       "    }\n",
       "</style>\n",
       "<table border=\"1\" class=\"dataframe\">\n",
       "  <thead>\n",
       "    <tr style=\"text-align: right;\">\n",
       "      <th></th>\n",
       "      <th>First Name_x</th>\n",
       "      <th>Last Name_x</th>\n",
       "      <th>Age</th>\n",
       "      <th>Hourly Wage</th>\n",
       "      <th>Hours per week</th>\n",
       "      <th>Full Name</th>\n",
       "      <th>Weekly Salary</th>\n",
       "      <th>High Income</th>\n",
       "      <th>First Name_y</th>\n",
       "      <th>Last Name_y</th>\n",
       "      <th>Company</th>\n",
       "      <th>Name</th>\n",
       "    </tr>\n",
       "  </thead>\n",
       "  <tbody>\n",
       "    <tr>\n",
       "      <td>0</td>\n",
       "      <td>John</td>\n",
       "      <td>Williams</td>\n",
       "      <td>21</td>\n",
       "      <td>60</td>\n",
       "      <td>40</td>\n",
       "      <td>John Williams</td>\n",
       "      <td>2400</td>\n",
       "      <td>True</td>\n",
       "      <td>John</td>\n",
       "      <td>Williams</td>\n",
       "      <td>Microsoft</td>\n",
       "      <td>John Williams</td>\n",
       "    </tr>\n",
       "    <tr>\n",
       "      <td>1</td>\n",
       "      <td>Chloe</td>\n",
       "      <td>Anderson</td>\n",
       "      <td>27</td>\n",
       "      <td>80</td>\n",
       "      <td>32</td>\n",
       "      <td>Chloe Anderson</td>\n",
       "      <td>2560</td>\n",
       "      <td>True</td>\n",
       "      <td>Chloe</td>\n",
       "      <td>Anderson</td>\n",
       "      <td>Disney</td>\n",
       "      <td>Chloe Anderson</td>\n",
       "    </tr>\n",
       "    <tr>\n",
       "      <td>2</td>\n",
       "      <td>Jeremy</td>\n",
       "      <td>Scott</td>\n",
       "      <td>42</td>\n",
       "      <td>54</td>\n",
       "      <td>40</td>\n",
       "      <td>Jeremy Scott</td>\n",
       "      <td>2160</td>\n",
       "      <td>True</td>\n",
       "      <td>Jeremy</td>\n",
       "      <td>Scott</td>\n",
       "      <td>Adidas</td>\n",
       "      <td>Jeremy Scott</td>\n",
       "    </tr>\n",
       "  </tbody>\n",
       "</table>\n",
       "</div>"
      ],
      "text/plain": [
       "  First Name_x Last Name_x  Age  Hourly Wage  Hours per week       Full Name  \\\n",
       "0         John    Williams   21           60              40   John Williams   \n",
       "1        Chloe    Anderson   27           80              32  Chloe Anderson   \n",
       "2       Jeremy       Scott   42           54              40    Jeremy Scott   \n",
       "\n",
       "   Weekly Salary  High Income First Name_y Last Name_y    Company  \\\n",
       "0           2400         True         John    Williams  Microsoft   \n",
       "1           2560         True        Chloe    Anderson     Disney   \n",
       "2           2160         True       Jeremy       Scott     Adidas   \n",
       "\n",
       "             Name  \n",
       "0   John Williams  \n",
       "1  Chloe Anderson  \n",
       "2    Jeremy Scott  "
      ]
     },
     "execution_count": 95,
     "metadata": {},
     "output_type": "execute_result"
    }
   ],
   "source": [
    "pd.merge(emp, companies, left_on='Full Name', right_on='Name')"
   ]
  },
  {
   "cell_type": "markdown",
   "metadata": {},
   "source": [
    "As mentioned earlier, by default, ```inner join``` has been applied and the resulting dataframe show 3 entities!"
   ]
  },
  {
   "cell_type": "markdown",
   "metadata": {},
   "source": [
    "In the result dataset, ```First Name_x``` is from the first table, which is ```emp``` while ```First Name_y``` is from the second table, which is ```companies```."
   ]
  },
  {
   "cell_type": "markdown",
   "metadata": {},
   "source": [
    "#### Merge - Suffixes\n",
    "\n",
    "Suffixes indicate the suffix to add to overlapping column names in left and right respectively.\n",
    "\n",
    "In the previous example, by default, suffixes ```_x``` and ```_y``` were added respectively.\n",
    "\n",
    "We can specify suffixes by setting ```suffixes=[]```."
   ]
  },
  {
   "cell_type": "markdown",
   "metadata": {},
   "source": [
    "#### Merge - Suffixes Example\n",
    "\n",
    "Let's add ```_1``` to the first dataframe and ```_2``` to the second dataframe."
   ]
  },
  {
   "cell_type": "code",
   "execution_count": 96,
   "metadata": {},
   "outputs": [
    {
     "data": {
      "text/html": [
       "<div>\n",
       "<style scoped>\n",
       "    .dataframe tbody tr th:only-of-type {\n",
       "        vertical-align: middle;\n",
       "    }\n",
       "\n",
       "    .dataframe tbody tr th {\n",
       "        vertical-align: top;\n",
       "    }\n",
       "\n",
       "    .dataframe thead th {\n",
       "        text-align: right;\n",
       "    }\n",
       "</style>\n",
       "<table border=\"1\" class=\"dataframe\">\n",
       "  <thead>\n",
       "    <tr style=\"text-align: right;\">\n",
       "      <th></th>\n",
       "      <th>First Name_1</th>\n",
       "      <th>Last Name_1</th>\n",
       "      <th>Age</th>\n",
       "      <th>Hourly Wage</th>\n",
       "      <th>Hours per week</th>\n",
       "      <th>Full Name</th>\n",
       "      <th>Weekly Salary</th>\n",
       "      <th>High Income</th>\n",
       "      <th>First Name_2</th>\n",
       "      <th>Last Name_2</th>\n",
       "      <th>Company</th>\n",
       "      <th>Name</th>\n",
       "    </tr>\n",
       "  </thead>\n",
       "  <tbody>\n",
       "    <tr>\n",
       "      <td>0</td>\n",
       "      <td>John</td>\n",
       "      <td>Williams</td>\n",
       "      <td>21</td>\n",
       "      <td>60</td>\n",
       "      <td>40</td>\n",
       "      <td>John Williams</td>\n",
       "      <td>2400</td>\n",
       "      <td>True</td>\n",
       "      <td>John</td>\n",
       "      <td>Williams</td>\n",
       "      <td>Microsoft</td>\n",
       "      <td>John Williams</td>\n",
       "    </tr>\n",
       "    <tr>\n",
       "      <td>1</td>\n",
       "      <td>Chloe</td>\n",
       "      <td>Anderson</td>\n",
       "      <td>27</td>\n",
       "      <td>80</td>\n",
       "      <td>32</td>\n",
       "      <td>Chloe Anderson</td>\n",
       "      <td>2560</td>\n",
       "      <td>True</td>\n",
       "      <td>Chloe</td>\n",
       "      <td>Anderson</td>\n",
       "      <td>Disney</td>\n",
       "      <td>Chloe Anderson</td>\n",
       "    </tr>\n",
       "    <tr>\n",
       "      <td>2</td>\n",
       "      <td>Jeremy</td>\n",
       "      <td>Scott</td>\n",
       "      <td>42</td>\n",
       "      <td>54</td>\n",
       "      <td>40</td>\n",
       "      <td>Jeremy Scott</td>\n",
       "      <td>2160</td>\n",
       "      <td>True</td>\n",
       "      <td>Jeremy</td>\n",
       "      <td>Scott</td>\n",
       "      <td>Adidas</td>\n",
       "      <td>Jeremy Scott</td>\n",
       "    </tr>\n",
       "  </tbody>\n",
       "</table>\n",
       "</div>"
      ],
      "text/plain": [
       "  First Name_1 Last Name_1  Age  Hourly Wage  Hours per week       Full Name  \\\n",
       "0         John    Williams   21           60              40   John Williams   \n",
       "1        Chloe    Anderson   27           80              32  Chloe Anderson   \n",
       "2       Jeremy       Scott   42           54              40    Jeremy Scott   \n",
       "\n",
       "   Weekly Salary  High Income First Name_2 Last Name_2    Company  \\\n",
       "0           2400         True         John    Williams  Microsoft   \n",
       "1           2560         True        Chloe    Anderson     Disney   \n",
       "2           2160         True       Jeremy       Scott     Adidas   \n",
       "\n",
       "             Name  \n",
       "0   John Williams  \n",
       "1  Chloe Anderson  \n",
       "2    Jeremy Scott  "
      ]
     },
     "execution_count": 96,
     "metadata": {},
     "output_type": "execute_result"
    }
   ],
   "source": [
    "pd.merge(emp, companies, left_on='Full Name', right_on='Name', suffixes=['_1', '_2'])"
   ]
  },
  {
   "cell_type": "markdown",
   "metadata": {},
   "source": [
    "Since inner join was performed, only 3 common entities show up and there's actually no need to indicate ```_1``` or ```_2```.\n",
    "\n",
    "Let's try right join and see how dataframe looks different!"
   ]
  },
  {
   "cell_type": "code",
   "execution_count": 97,
   "metadata": {},
   "outputs": [
    {
     "data": {
      "text/html": [
       "<div>\n",
       "<style scoped>\n",
       "    .dataframe tbody tr th:only-of-type {\n",
       "        vertical-align: middle;\n",
       "    }\n",
       "\n",
       "    .dataframe tbody tr th {\n",
       "        vertical-align: top;\n",
       "    }\n",
       "\n",
       "    .dataframe thead th {\n",
       "        text-align: right;\n",
       "    }\n",
       "</style>\n",
       "<table border=\"1\" class=\"dataframe\">\n",
       "  <thead>\n",
       "    <tr style=\"text-align: right;\">\n",
       "      <th></th>\n",
       "      <th>First Name_emp</th>\n",
       "      <th>Last Name_emp</th>\n",
       "      <th>Age</th>\n",
       "      <th>Hourly Wage</th>\n",
       "      <th>Hours per week</th>\n",
       "      <th>Full Name</th>\n",
       "      <th>Weekly Salary</th>\n",
       "      <th>High Income</th>\n",
       "      <th>First Name_companies</th>\n",
       "      <th>Last Name_companies</th>\n",
       "      <th>Company</th>\n",
       "      <th>Name</th>\n",
       "    </tr>\n",
       "  </thead>\n",
       "  <tbody>\n",
       "    <tr>\n",
       "      <td>0</td>\n",
       "      <td>John</td>\n",
       "      <td>Williams</td>\n",
       "      <td>21.0</td>\n",
       "      <td>60.0</td>\n",
       "      <td>40.0</td>\n",
       "      <td>John Williams</td>\n",
       "      <td>2400.0</td>\n",
       "      <td>True</td>\n",
       "      <td>John</td>\n",
       "      <td>Williams</td>\n",
       "      <td>Microsoft</td>\n",
       "      <td>John Williams</td>\n",
       "    </tr>\n",
       "    <tr>\n",
       "      <td>1</td>\n",
       "      <td>Chloe</td>\n",
       "      <td>Anderson</td>\n",
       "      <td>27.0</td>\n",
       "      <td>80.0</td>\n",
       "      <td>32.0</td>\n",
       "      <td>Chloe Anderson</td>\n",
       "      <td>2560.0</td>\n",
       "      <td>True</td>\n",
       "      <td>Chloe</td>\n",
       "      <td>Anderson</td>\n",
       "      <td>Disney</td>\n",
       "      <td>Chloe Anderson</td>\n",
       "    </tr>\n",
       "    <tr>\n",
       "      <td>2</td>\n",
       "      <td>Jeremy</td>\n",
       "      <td>Scott</td>\n",
       "      <td>42.0</td>\n",
       "      <td>54.0</td>\n",
       "      <td>40.0</td>\n",
       "      <td>Jeremy Scott</td>\n",
       "      <td>2160.0</td>\n",
       "      <td>True</td>\n",
       "      <td>Jeremy</td>\n",
       "      <td>Scott</td>\n",
       "      <td>Adidas</td>\n",
       "      <td>Jeremy Scott</td>\n",
       "    </tr>\n",
       "    <tr>\n",
       "      <td>3</td>\n",
       "      <td>NaN</td>\n",
       "      <td>NaN</td>\n",
       "      <td>NaN</td>\n",
       "      <td>NaN</td>\n",
       "      <td>NaN</td>\n",
       "      <td>NaN</td>\n",
       "      <td>NaN</td>\n",
       "      <td>NaN</td>\n",
       "      <td>Jennifer</td>\n",
       "      <td>Brown</td>\n",
       "      <td>Home Depot</td>\n",
       "      <td>Jennifer Brown</td>\n",
       "    </tr>\n",
       "    <tr>\n",
       "      <td>4</td>\n",
       "      <td>NaN</td>\n",
       "      <td>NaN</td>\n",
       "      <td>NaN</td>\n",
       "      <td>NaN</td>\n",
       "      <td>NaN</td>\n",
       "      <td>NaN</td>\n",
       "      <td>NaN</td>\n",
       "      <td>NaN</td>\n",
       "      <td>Chris</td>\n",
       "      <td>Smith</td>\n",
       "      <td>Bit Project</td>\n",
       "      <td>Chris Smith</td>\n",
       "    </tr>\n",
       "    <tr>\n",
       "      <td>5</td>\n",
       "      <td>NaN</td>\n",
       "      <td>NaN</td>\n",
       "      <td>NaN</td>\n",
       "      <td>NaN</td>\n",
       "      <td>NaN</td>\n",
       "      <td>NaN</td>\n",
       "      <td>NaN</td>\n",
       "      <td>NaN</td>\n",
       "      <td>Annie</td>\n",
       "      <td>Wong</td>\n",
       "      <td>Bit Project</td>\n",
       "      <td>Annie Wong</td>\n",
       "    </tr>\n",
       "    <tr>\n",
       "      <td>6</td>\n",
       "      <td>NaN</td>\n",
       "      <td>NaN</td>\n",
       "      <td>NaN</td>\n",
       "      <td>NaN</td>\n",
       "      <td>NaN</td>\n",
       "      <td>NaN</td>\n",
       "      <td>NaN</td>\n",
       "      <td>NaN</td>\n",
       "      <td>Allison</td>\n",
       "      <td>Kim</td>\n",
       "      <td>Home Depot</td>\n",
       "      <td>Allison Kim</td>\n",
       "    </tr>\n",
       "  </tbody>\n",
       "</table>\n",
       "</div>"
      ],
      "text/plain": [
       "  First Name_emp Last Name_emp   Age  Hourly Wage  Hours per week  \\\n",
       "0           John      Williams  21.0         60.0            40.0   \n",
       "1          Chloe      Anderson  27.0         80.0            32.0   \n",
       "2         Jeremy         Scott  42.0         54.0            40.0   \n",
       "3            NaN           NaN   NaN          NaN             NaN   \n",
       "4            NaN           NaN   NaN          NaN             NaN   \n",
       "5            NaN           NaN   NaN          NaN             NaN   \n",
       "6            NaN           NaN   NaN          NaN             NaN   \n",
       "\n",
       "        Full Name  Weekly Salary High Income First Name_companies  \\\n",
       "0   John Williams         2400.0        True                 John   \n",
       "1  Chloe Anderson         2560.0        True                Chloe   \n",
       "2    Jeremy Scott         2160.0        True               Jeremy   \n",
       "3             NaN            NaN         NaN             Jennifer   \n",
       "4             NaN            NaN         NaN                Chris   \n",
       "5             NaN            NaN         NaN                Annie   \n",
       "6             NaN            NaN         NaN              Allison   \n",
       "\n",
       "  Last Name_companies      Company            Name  \n",
       "0            Williams    Microsoft   John Williams  \n",
       "1            Anderson       Disney  Chloe Anderson  \n",
       "2               Scott       Adidas    Jeremy Scott  \n",
       "3               Brown   Home Depot  Jennifer Brown  \n",
       "4               Smith  Bit Project     Chris Smith  \n",
       "5                Wong  Bit Project      Annie Wong  \n",
       "6                 Kim   Home Depot     Allison Kim  "
      ]
     },
     "execution_count": 97,
     "metadata": {},
     "output_type": "execute_result"
    }
   ],
   "source": [
    "pd.merge(emp, companies, how = 'right', left_on='Full Name', right_on='Name', suffixes=['_emp', '_companies'])"
   ]
  },
  {
   "cell_type": "markdown",
   "metadata": {},
   "source": [
    "Because we specified right join, it shows all of the entities from ```companies``` dataframe and matching entities from ```emp``` dataframe.\n",
    "\n",
    "The ```First Name_emp``` and ```Last Name_emp``` show three entities only while ```First Name_companies``` and ```Last Name_companies``` show all entities!"
   ]
  },
  {
   "cell_type": "markdown",
   "metadata": {},
   "source": [
    "### 2. Join"
   ]
  },
  {
   "cell_type": "markdown",
   "metadata": {},
   "source": [
    "These are the parameters we can use when we merge two dataframes.\n",
    "\n",
    "```DataFrame.join(other, on=None, how='left', lsuffix='', rsuffix='', sort=False)```\n",
    "\n",
    "- other: DataFrame, Series, or list of DataFrame to join\n",
    "- on: Column or index level names to join on the index in other. These must be found in both DataFrames.\n",
    "- how: {‘inner’, ‘left’, ‘right’, ‘outer’}, default ‘inner’\n",
    "- lsuffix: Suffix to use from left frame’s overlapping columns.\n",
    "- rsuffix: Suffix to use from right frame’s overlapping columns.\n",
    "\n",
    "We have covered ```on``` and ```how``` in detail in ```merge```.\n",
    "\n",
    "So, we will try one example of ```join``` using ```lsuffix``` and ```rsuffix```.\n",
    "\n",
    "#### Join - lsuffix and rsuffix\n",
    "\n",
    "This is similar to ```suffixes``` in ```merge```."
   ]
  },
  {
   "cell_type": "code",
   "execution_count": 98,
   "metadata": {
    "colab": {
     "base_uri": "https://localhost:8080/",
     "height": 255
    },
    "colab_type": "code",
    "id": "WYdob--7RQVe",
    "outputId": "cebccff2-531f-4db7-cc59-ce71075d8b1f"
   },
   "outputs": [
    {
     "data": {
      "text/html": [
       "<div>\n",
       "<style scoped>\n",
       "    .dataframe tbody tr th:only-of-type {\n",
       "        vertical-align: middle;\n",
       "    }\n",
       "\n",
       "    .dataframe tbody tr th {\n",
       "        vertical-align: top;\n",
       "    }\n",
       "\n",
       "    .dataframe thead th {\n",
       "        text-align: right;\n",
       "    }\n",
       "</style>\n",
       "<table border=\"1\" class=\"dataframe\">\n",
       "  <thead>\n",
       "    <tr style=\"text-align: right;\">\n",
       "      <th></th>\n",
       "      <th>First Name_1</th>\n",
       "      <th>Last Name_1</th>\n",
       "      <th>Age</th>\n",
       "      <th>Hourly Wage</th>\n",
       "      <th>Hours per week</th>\n",
       "      <th>Full Name</th>\n",
       "      <th>Weekly Salary</th>\n",
       "      <th>High Income</th>\n",
       "      <th>First Name_2</th>\n",
       "      <th>Last Name_2</th>\n",
       "      <th>Company</th>\n",
       "      <th>Name</th>\n",
       "    </tr>\n",
       "  </thead>\n",
       "  <tbody>\n",
       "    <tr>\n",
       "      <td>2</td>\n",
       "      <td>John</td>\n",
       "      <td>Williams</td>\n",
       "      <td>21</td>\n",
       "      <td>60</td>\n",
       "      <td>40</td>\n",
       "      <td>John Williams</td>\n",
       "      <td>2400</td>\n",
       "      <td>True</td>\n",
       "      <td>John</td>\n",
       "      <td>Williams</td>\n",
       "      <td>Microsoft</td>\n",
       "      <td>John Williams</td>\n",
       "    </tr>\n",
       "    <tr>\n",
       "      <td>4</td>\n",
       "      <td>Chloe</td>\n",
       "      <td>Anderson</td>\n",
       "      <td>27</td>\n",
       "      <td>80</td>\n",
       "      <td>32</td>\n",
       "      <td>Chloe Anderson</td>\n",
       "      <td>2560</td>\n",
       "      <td>True</td>\n",
       "      <td>Chloe</td>\n",
       "      <td>Anderson</td>\n",
       "      <td>Disney</td>\n",
       "      <td>Chloe Anderson</td>\n",
       "    </tr>\n",
       "    <tr>\n",
       "      <td>5</td>\n",
       "      <td>Jeremy</td>\n",
       "      <td>Scott</td>\n",
       "      <td>42</td>\n",
       "      <td>54</td>\n",
       "      <td>40</td>\n",
       "      <td>Jeremy Scott</td>\n",
       "      <td>2160</td>\n",
       "      <td>True</td>\n",
       "      <td>Jeremy</td>\n",
       "      <td>Scott</td>\n",
       "      <td>Adidas</td>\n",
       "      <td>Jeremy Scott</td>\n",
       "    </tr>\n",
       "  </tbody>\n",
       "</table>\n",
       "</div>"
      ],
      "text/plain": [
       "  First Name_1 Last Name_1  Age  Hourly Wage  Hours per week       Full Name  \\\n",
       "2         John    Williams   21           60              40   John Williams   \n",
       "4        Chloe    Anderson   27           80              32  Chloe Anderson   \n",
       "5       Jeremy       Scott   42           54              40    Jeremy Scott   \n",
       "\n",
       "   Weekly Salary  High Income First Name_2 Last Name_2    Company  \\\n",
       "2           2400         True         John    Williams  Microsoft   \n",
       "4           2560         True        Chloe    Anderson     Disney   \n",
       "5           2160         True       Jeremy       Scott     Adidas   \n",
       "\n",
       "             Name  \n",
       "2   John Williams  \n",
       "4  Chloe Anderson  \n",
       "5    Jeremy Scott  "
      ]
     },
     "execution_count": 98,
     "metadata": {},
     "output_type": "execute_result"
    }
   ],
   "source": [
    "emp.join(companies, lsuffix='_1', rsuffix='_2')"
   ]
  },
  {
   "cell_type": "markdown",
   "metadata": {
    "colab_type": "text",
    "id": "B0U4y6QmP16K"
   },
   "source": [
    "## Tutorial - Flight delay data \n",
    "\n",
    "https://www.kaggle.com/divyansh22/flight-delay-prediction\n",
    "\n",
    "Now, we will dive into a more complicated data analysis using Pandas."
   ]
  },
  {
   "cell_type": "markdown",
   "metadata": {
    "colab_type": "text",
    "id": "ps1EtT8PV7Ud"
   },
   "source": [
    "This dataset is the flight delay prediction for the month of January. \n",
    "\n",
    "This data is collected from the Bureau of Transportation Statistics, Govt. of the USA. This data is open-sourced under U.S. Govt. Works. This dataset contains all the flights in the month of January 2020. There are more than 400,000 flights in the month of January itself throughout the United States. The features were manually chosen to do a primary time series analysis. There are several other features available on their website.\n",
    "\n",
    "This data could well be used to predict the flight delay at the destination airport specifically for the month of January in upcoming years as the data is for January only."
   ]
  },
  {
   "cell_type": "code",
   "execution_count": 101,
   "metadata": {},
   "outputs": [],
   "source": [
    "df = pd.read_csv('data/Jan_2020_ontime.csv')"
   ]
  },
  {
   "cell_type": "markdown",
   "metadata": {},
   "source": [
    "As always, the first thing we need to do is get an idea of what data looks like!\n",
    "We can call three functions here:\n",
    "- head()\n",
    "- describe()\n",
    "- info()"
   ]
  },
  {
   "cell_type": "code",
   "execution_count": 103,
   "metadata": {},
   "outputs": [
    {
     "data": {
      "text/html": [
       "<div>\n",
       "<style scoped>\n",
       "    .dataframe tbody tr th:only-of-type {\n",
       "        vertical-align: middle;\n",
       "    }\n",
       "\n",
       "    .dataframe tbody tr th {\n",
       "        vertical-align: top;\n",
       "    }\n",
       "\n",
       "    .dataframe thead th {\n",
       "        text-align: right;\n",
       "    }\n",
       "</style>\n",
       "<table border=\"1\" class=\"dataframe\">\n",
       "  <thead>\n",
       "    <tr style=\"text-align: right;\">\n",
       "      <th></th>\n",
       "      <th>DAY_OF_MONTH</th>\n",
       "      <th>DAY_OF_WEEK</th>\n",
       "      <th>OP_UNIQUE_CARRIER</th>\n",
       "      <th>OP_CARRIER_AIRLINE_ID</th>\n",
       "      <th>OP_CARRIER</th>\n",
       "      <th>TAIL_NUM</th>\n",
       "      <th>OP_CARRIER_FL_NUM</th>\n",
       "      <th>ORIGIN_AIRPORT_ID</th>\n",
       "      <th>ORIGIN_AIRPORT_SEQ_ID</th>\n",
       "      <th>ORIGIN</th>\n",
       "      <th>...</th>\n",
       "      <th>DEST</th>\n",
       "      <th>DEP_TIME</th>\n",
       "      <th>DEP_DEL15</th>\n",
       "      <th>DEP_TIME_BLK</th>\n",
       "      <th>ARR_TIME</th>\n",
       "      <th>ARR_DEL15</th>\n",
       "      <th>CANCELLED</th>\n",
       "      <th>DIVERTED</th>\n",
       "      <th>DISTANCE</th>\n",
       "      <th>Unnamed: 21</th>\n",
       "    </tr>\n",
       "  </thead>\n",
       "  <tbody>\n",
       "    <tr>\n",
       "      <td>0</td>\n",
       "      <td>1</td>\n",
       "      <td>3</td>\n",
       "      <td>EV</td>\n",
       "      <td>20366</td>\n",
       "      <td>EV</td>\n",
       "      <td>N48901</td>\n",
       "      <td>4397</td>\n",
       "      <td>13930</td>\n",
       "      <td>1393007</td>\n",
       "      <td>ORD</td>\n",
       "      <td>...</td>\n",
       "      <td>GRB</td>\n",
       "      <td>1003.0</td>\n",
       "      <td>0.0</td>\n",
       "      <td>1000-1059</td>\n",
       "      <td>1117.0</td>\n",
       "      <td>0.0</td>\n",
       "      <td>0.0</td>\n",
       "      <td>0.0</td>\n",
       "      <td>174.0</td>\n",
       "      <td>NaN</td>\n",
       "    </tr>\n",
       "    <tr>\n",
       "      <td>1</td>\n",
       "      <td>1</td>\n",
       "      <td>3</td>\n",
       "      <td>EV</td>\n",
       "      <td>20366</td>\n",
       "      <td>EV</td>\n",
       "      <td>N16976</td>\n",
       "      <td>4401</td>\n",
       "      <td>15370</td>\n",
       "      <td>1537002</td>\n",
       "      <td>TUL</td>\n",
       "      <td>...</td>\n",
       "      <td>ORD</td>\n",
       "      <td>1027.0</td>\n",
       "      <td>0.0</td>\n",
       "      <td>1000-1059</td>\n",
       "      <td>1216.0</td>\n",
       "      <td>0.0</td>\n",
       "      <td>0.0</td>\n",
       "      <td>0.0</td>\n",
       "      <td>585.0</td>\n",
       "      <td>NaN</td>\n",
       "    </tr>\n",
       "    <tr>\n",
       "      <td>2</td>\n",
       "      <td>1</td>\n",
       "      <td>3</td>\n",
       "      <td>EV</td>\n",
       "      <td>20366</td>\n",
       "      <td>EV</td>\n",
       "      <td>N12167</td>\n",
       "      <td>4404</td>\n",
       "      <td>11618</td>\n",
       "      <td>1161802</td>\n",
       "      <td>EWR</td>\n",
       "      <td>...</td>\n",
       "      <td>TYS</td>\n",
       "      <td>1848.0</td>\n",
       "      <td>0.0</td>\n",
       "      <td>1800-1859</td>\n",
       "      <td>2120.0</td>\n",
       "      <td>0.0</td>\n",
       "      <td>0.0</td>\n",
       "      <td>0.0</td>\n",
       "      <td>631.0</td>\n",
       "      <td>NaN</td>\n",
       "    </tr>\n",
       "    <tr>\n",
       "      <td>3</td>\n",
       "      <td>1</td>\n",
       "      <td>3</td>\n",
       "      <td>EV</td>\n",
       "      <td>20366</td>\n",
       "      <td>EV</td>\n",
       "      <td>N14902</td>\n",
       "      <td>4405</td>\n",
       "      <td>10781</td>\n",
       "      <td>1078105</td>\n",
       "      <td>BTR</td>\n",
       "      <td>...</td>\n",
       "      <td>IAH</td>\n",
       "      <td>1846.0</td>\n",
       "      <td>0.0</td>\n",
       "      <td>1800-1859</td>\n",
       "      <td>2004.0</td>\n",
       "      <td>0.0</td>\n",
       "      <td>0.0</td>\n",
       "      <td>0.0</td>\n",
       "      <td>253.0</td>\n",
       "      <td>NaN</td>\n",
       "    </tr>\n",
       "    <tr>\n",
       "      <td>4</td>\n",
       "      <td>1</td>\n",
       "      <td>3</td>\n",
       "      <td>EV</td>\n",
       "      <td>20366</td>\n",
       "      <td>EV</td>\n",
       "      <td>N606UX</td>\n",
       "      <td>4407</td>\n",
       "      <td>14524</td>\n",
       "      <td>1452401</td>\n",
       "      <td>RIC</td>\n",
       "      <td>...</td>\n",
       "      <td>IAH</td>\n",
       "      <td>1038.0</td>\n",
       "      <td>0.0</td>\n",
       "      <td>1000-1059</td>\n",
       "      <td>1330.0</td>\n",
       "      <td>0.0</td>\n",
       "      <td>0.0</td>\n",
       "      <td>0.0</td>\n",
       "      <td>1157.0</td>\n",
       "      <td>NaN</td>\n",
       "    </tr>\n",
       "    <tr>\n",
       "      <td>...</td>\n",
       "      <td>...</td>\n",
       "      <td>...</td>\n",
       "      <td>...</td>\n",
       "      <td>...</td>\n",
       "      <td>...</td>\n",
       "      <td>...</td>\n",
       "      <td>...</td>\n",
       "      <td>...</td>\n",
       "      <td>...</td>\n",
       "      <td>...</td>\n",
       "      <td>...</td>\n",
       "      <td>...</td>\n",
       "      <td>...</td>\n",
       "      <td>...</td>\n",
       "      <td>...</td>\n",
       "      <td>...</td>\n",
       "      <td>...</td>\n",
       "      <td>...</td>\n",
       "      <td>...</td>\n",
       "      <td>...</td>\n",
       "      <td>...</td>\n",
       "    </tr>\n",
       "    <tr>\n",
       "      <td>607341</td>\n",
       "      <td>31</td>\n",
       "      <td>5</td>\n",
       "      <td>9E</td>\n",
       "      <td>20363</td>\n",
       "      <td>9E</td>\n",
       "      <td>N331CA</td>\n",
       "      <td>4812</td>\n",
       "      <td>15412</td>\n",
       "      <td>1541205</td>\n",
       "      <td>TYS</td>\n",
       "      <td>...</td>\n",
       "      <td>DTW</td>\n",
       "      <td>1002.0</td>\n",
       "      <td>1.0</td>\n",
       "      <td>0700-0759</td>\n",
       "      <td>1128.0</td>\n",
       "      <td>1.0</td>\n",
       "      <td>0.0</td>\n",
       "      <td>0.0</td>\n",
       "      <td>443.0</td>\n",
       "      <td>NaN</td>\n",
       "    </tr>\n",
       "    <tr>\n",
       "      <td>607342</td>\n",
       "      <td>31</td>\n",
       "      <td>5</td>\n",
       "      <td>9E</td>\n",
       "      <td>20363</td>\n",
       "      <td>9E</td>\n",
       "      <td>N295PQ</td>\n",
       "      <td>4813</td>\n",
       "      <td>11433</td>\n",
       "      <td>1143302</td>\n",
       "      <td>DTW</td>\n",
       "      <td>...</td>\n",
       "      <td>JFK</td>\n",
       "      <td>1747.0</td>\n",
       "      <td>0.0</td>\n",
       "      <td>1700-1759</td>\n",
       "      <td>1933.0</td>\n",
       "      <td>0.0</td>\n",
       "      <td>0.0</td>\n",
       "      <td>0.0</td>\n",
       "      <td>509.0</td>\n",
       "      <td>NaN</td>\n",
       "    </tr>\n",
       "    <tr>\n",
       "      <td>607343</td>\n",
       "      <td>31</td>\n",
       "      <td>5</td>\n",
       "      <td>9E</td>\n",
       "      <td>20363</td>\n",
       "      <td>9E</td>\n",
       "      <td>N294PQ</td>\n",
       "      <td>4814</td>\n",
       "      <td>11996</td>\n",
       "      <td>1199603</td>\n",
       "      <td>GSP</td>\n",
       "      <td>...</td>\n",
       "      <td>LGA</td>\n",
       "      <td>554.0</td>\n",
       "      <td>0.0</td>\n",
       "      <td>0600-0659</td>\n",
       "      <td>752.0</td>\n",
       "      <td>0.0</td>\n",
       "      <td>0.0</td>\n",
       "      <td>0.0</td>\n",
       "      <td>610.0</td>\n",
       "      <td>NaN</td>\n",
       "    </tr>\n",
       "    <tr>\n",
       "      <td>607344</td>\n",
       "      <td>31</td>\n",
       "      <td>5</td>\n",
       "      <td>9E</td>\n",
       "      <td>20363</td>\n",
       "      <td>9E</td>\n",
       "      <td>N228PQ</td>\n",
       "      <td>4815</td>\n",
       "      <td>10397</td>\n",
       "      <td>1039707</td>\n",
       "      <td>ATL</td>\n",
       "      <td>...</td>\n",
       "      <td>XNA</td>\n",
       "      <td>1714.0</td>\n",
       "      <td>0.0</td>\n",
       "      <td>1700-1759</td>\n",
       "      <td>1811.0</td>\n",
       "      <td>0.0</td>\n",
       "      <td>0.0</td>\n",
       "      <td>0.0</td>\n",
       "      <td>589.0</td>\n",
       "      <td>NaN</td>\n",
       "    </tr>\n",
       "    <tr>\n",
       "      <td>607345</td>\n",
       "      <td>31</td>\n",
       "      <td>5</td>\n",
       "      <td>9E</td>\n",
       "      <td>20363</td>\n",
       "      <td>9E</td>\n",
       "      <td>N228PQ</td>\n",
       "      <td>4815</td>\n",
       "      <td>15919</td>\n",
       "      <td>1591904</td>\n",
       "      <td>XNA</td>\n",
       "      <td>...</td>\n",
       "      <td>ATL</td>\n",
       "      <td>1841.0</td>\n",
       "      <td>0.0</td>\n",
       "      <td>1800-1859</td>\n",
       "      <td>2128.0</td>\n",
       "      <td>0.0</td>\n",
       "      <td>0.0</td>\n",
       "      <td>0.0</td>\n",
       "      <td>589.0</td>\n",
       "      <td>NaN</td>\n",
       "    </tr>\n",
       "  </tbody>\n",
       "</table>\n",
       "<p>607346 rows × 22 columns</p>\n",
       "</div>"
      ],
      "text/plain": [
       "        DAY_OF_MONTH  DAY_OF_WEEK OP_UNIQUE_CARRIER  OP_CARRIER_AIRLINE_ID  \\\n",
       "0                  1            3                EV                  20366   \n",
       "1                  1            3                EV                  20366   \n",
       "2                  1            3                EV                  20366   \n",
       "3                  1            3                EV                  20366   \n",
       "4                  1            3                EV                  20366   \n",
       "...              ...          ...               ...                    ...   \n",
       "607341            31            5                9E                  20363   \n",
       "607342            31            5                9E                  20363   \n",
       "607343            31            5                9E                  20363   \n",
       "607344            31            5                9E                  20363   \n",
       "607345            31            5                9E                  20363   \n",
       "\n",
       "       OP_CARRIER TAIL_NUM  OP_CARRIER_FL_NUM  ORIGIN_AIRPORT_ID  \\\n",
       "0              EV   N48901               4397              13930   \n",
       "1              EV   N16976               4401              15370   \n",
       "2              EV   N12167               4404              11618   \n",
       "3              EV   N14902               4405              10781   \n",
       "4              EV   N606UX               4407              14524   \n",
       "...           ...      ...                ...                ...   \n",
       "607341         9E   N331CA               4812              15412   \n",
       "607342         9E   N295PQ               4813              11433   \n",
       "607343         9E   N294PQ               4814              11996   \n",
       "607344         9E   N228PQ               4815              10397   \n",
       "607345         9E   N228PQ               4815              15919   \n",
       "\n",
       "        ORIGIN_AIRPORT_SEQ_ID ORIGIN  ...  DEST  DEP_TIME DEP_DEL15  \\\n",
       "0                     1393007    ORD  ...   GRB    1003.0       0.0   \n",
       "1                     1537002    TUL  ...   ORD    1027.0       0.0   \n",
       "2                     1161802    EWR  ...   TYS    1848.0       0.0   \n",
       "3                     1078105    BTR  ...   IAH    1846.0       0.0   \n",
       "4                     1452401    RIC  ...   IAH    1038.0       0.0   \n",
       "...                       ...    ...  ...   ...       ...       ...   \n",
       "607341                1541205    TYS  ...   DTW    1002.0       1.0   \n",
       "607342                1143302    DTW  ...   JFK    1747.0       0.0   \n",
       "607343                1199603    GSP  ...   LGA     554.0       0.0   \n",
       "607344                1039707    ATL  ...   XNA    1714.0       0.0   \n",
       "607345                1591904    XNA  ...   ATL    1841.0       0.0   \n",
       "\n",
       "        DEP_TIME_BLK  ARR_TIME ARR_DEL15  CANCELLED  DIVERTED  DISTANCE  \\\n",
       "0          1000-1059    1117.0       0.0        0.0       0.0     174.0   \n",
       "1          1000-1059    1216.0       0.0        0.0       0.0     585.0   \n",
       "2          1800-1859    2120.0       0.0        0.0       0.0     631.0   \n",
       "3          1800-1859    2004.0       0.0        0.0       0.0     253.0   \n",
       "4          1000-1059    1330.0       0.0        0.0       0.0    1157.0   \n",
       "...              ...       ...       ...        ...       ...       ...   \n",
       "607341     0700-0759    1128.0       1.0        0.0       0.0     443.0   \n",
       "607342     1700-1759    1933.0       0.0        0.0       0.0     509.0   \n",
       "607343     0600-0659     752.0       0.0        0.0       0.0     610.0   \n",
       "607344     1700-1759    1811.0       0.0        0.0       0.0     589.0   \n",
       "607345     1800-1859    2128.0       0.0        0.0       0.0     589.0   \n",
       "\n",
       "        Unnamed: 21  \n",
       "0               NaN  \n",
       "1               NaN  \n",
       "2               NaN  \n",
       "3               NaN  \n",
       "4               NaN  \n",
       "...             ...  \n",
       "607341          NaN  \n",
       "607342          NaN  \n",
       "607343          NaN  \n",
       "607344          NaN  \n",
       "607345          NaN  \n",
       "\n",
       "[607346 rows x 22 columns]"
      ]
     },
     "execution_count": 103,
     "metadata": {},
     "output_type": "execute_result"
    }
   ],
   "source": [
    "df"
   ]
  },
  {
   "cell_type": "code",
   "execution_count": 104,
   "metadata": {},
   "outputs": [
    {
     "data": {
      "text/html": [
       "<div>\n",
       "<style scoped>\n",
       "    .dataframe tbody tr th:only-of-type {\n",
       "        vertical-align: middle;\n",
       "    }\n",
       "\n",
       "    .dataframe tbody tr th {\n",
       "        vertical-align: top;\n",
       "    }\n",
       "\n",
       "    .dataframe thead th {\n",
       "        text-align: right;\n",
       "    }\n",
       "</style>\n",
       "<table border=\"1\" class=\"dataframe\">\n",
       "  <thead>\n",
       "    <tr style=\"text-align: right;\">\n",
       "      <th></th>\n",
       "      <th>DAY_OF_MONTH</th>\n",
       "      <th>DAY_OF_WEEK</th>\n",
       "      <th>OP_UNIQUE_CARRIER</th>\n",
       "      <th>OP_CARRIER_AIRLINE_ID</th>\n",
       "      <th>OP_CARRIER</th>\n",
       "      <th>TAIL_NUM</th>\n",
       "      <th>OP_CARRIER_FL_NUM</th>\n",
       "      <th>ORIGIN_AIRPORT_ID</th>\n",
       "      <th>ORIGIN_AIRPORT_SEQ_ID</th>\n",
       "      <th>ORIGIN</th>\n",
       "      <th>...</th>\n",
       "      <th>DEST</th>\n",
       "      <th>DEP_TIME</th>\n",
       "      <th>DEP_DEL15</th>\n",
       "      <th>DEP_TIME_BLK</th>\n",
       "      <th>ARR_TIME</th>\n",
       "      <th>ARR_DEL15</th>\n",
       "      <th>CANCELLED</th>\n",
       "      <th>DIVERTED</th>\n",
       "      <th>DISTANCE</th>\n",
       "      <th>Unnamed: 21</th>\n",
       "    </tr>\n",
       "  </thead>\n",
       "  <tbody>\n",
       "    <tr>\n",
       "      <td>0</td>\n",
       "      <td>1</td>\n",
       "      <td>3</td>\n",
       "      <td>EV</td>\n",
       "      <td>20366</td>\n",
       "      <td>EV</td>\n",
       "      <td>N48901</td>\n",
       "      <td>4397</td>\n",
       "      <td>13930</td>\n",
       "      <td>1393007</td>\n",
       "      <td>ORD</td>\n",
       "      <td>...</td>\n",
       "      <td>GRB</td>\n",
       "      <td>1003.0</td>\n",
       "      <td>0.0</td>\n",
       "      <td>1000-1059</td>\n",
       "      <td>1117.0</td>\n",
       "      <td>0.0</td>\n",
       "      <td>0.0</td>\n",
       "      <td>0.0</td>\n",
       "      <td>174.0</td>\n",
       "      <td>NaN</td>\n",
       "    </tr>\n",
       "    <tr>\n",
       "      <td>1</td>\n",
       "      <td>1</td>\n",
       "      <td>3</td>\n",
       "      <td>EV</td>\n",
       "      <td>20366</td>\n",
       "      <td>EV</td>\n",
       "      <td>N16976</td>\n",
       "      <td>4401</td>\n",
       "      <td>15370</td>\n",
       "      <td>1537002</td>\n",
       "      <td>TUL</td>\n",
       "      <td>...</td>\n",
       "      <td>ORD</td>\n",
       "      <td>1027.0</td>\n",
       "      <td>0.0</td>\n",
       "      <td>1000-1059</td>\n",
       "      <td>1216.0</td>\n",
       "      <td>0.0</td>\n",
       "      <td>0.0</td>\n",
       "      <td>0.0</td>\n",
       "      <td>585.0</td>\n",
       "      <td>NaN</td>\n",
       "    </tr>\n",
       "    <tr>\n",
       "      <td>2</td>\n",
       "      <td>1</td>\n",
       "      <td>3</td>\n",
       "      <td>EV</td>\n",
       "      <td>20366</td>\n",
       "      <td>EV</td>\n",
       "      <td>N12167</td>\n",
       "      <td>4404</td>\n",
       "      <td>11618</td>\n",
       "      <td>1161802</td>\n",
       "      <td>EWR</td>\n",
       "      <td>...</td>\n",
       "      <td>TYS</td>\n",
       "      <td>1848.0</td>\n",
       "      <td>0.0</td>\n",
       "      <td>1800-1859</td>\n",
       "      <td>2120.0</td>\n",
       "      <td>0.0</td>\n",
       "      <td>0.0</td>\n",
       "      <td>0.0</td>\n",
       "      <td>631.0</td>\n",
       "      <td>NaN</td>\n",
       "    </tr>\n",
       "    <tr>\n",
       "      <td>3</td>\n",
       "      <td>1</td>\n",
       "      <td>3</td>\n",
       "      <td>EV</td>\n",
       "      <td>20366</td>\n",
       "      <td>EV</td>\n",
       "      <td>N14902</td>\n",
       "      <td>4405</td>\n",
       "      <td>10781</td>\n",
       "      <td>1078105</td>\n",
       "      <td>BTR</td>\n",
       "      <td>...</td>\n",
       "      <td>IAH</td>\n",
       "      <td>1846.0</td>\n",
       "      <td>0.0</td>\n",
       "      <td>1800-1859</td>\n",
       "      <td>2004.0</td>\n",
       "      <td>0.0</td>\n",
       "      <td>0.0</td>\n",
       "      <td>0.0</td>\n",
       "      <td>253.0</td>\n",
       "      <td>NaN</td>\n",
       "    </tr>\n",
       "    <tr>\n",
       "      <td>4</td>\n",
       "      <td>1</td>\n",
       "      <td>3</td>\n",
       "      <td>EV</td>\n",
       "      <td>20366</td>\n",
       "      <td>EV</td>\n",
       "      <td>N606UX</td>\n",
       "      <td>4407</td>\n",
       "      <td>14524</td>\n",
       "      <td>1452401</td>\n",
       "      <td>RIC</td>\n",
       "      <td>...</td>\n",
       "      <td>IAH</td>\n",
       "      <td>1038.0</td>\n",
       "      <td>0.0</td>\n",
       "      <td>1000-1059</td>\n",
       "      <td>1330.0</td>\n",
       "      <td>0.0</td>\n",
       "      <td>0.0</td>\n",
       "      <td>0.0</td>\n",
       "      <td>1157.0</td>\n",
       "      <td>NaN</td>\n",
       "    </tr>\n",
       "  </tbody>\n",
       "</table>\n",
       "<p>5 rows × 22 columns</p>\n",
       "</div>"
      ],
      "text/plain": [
       "   DAY_OF_MONTH  DAY_OF_WEEK OP_UNIQUE_CARRIER  OP_CARRIER_AIRLINE_ID  \\\n",
       "0             1            3                EV                  20366   \n",
       "1             1            3                EV                  20366   \n",
       "2             1            3                EV                  20366   \n",
       "3             1            3                EV                  20366   \n",
       "4             1            3                EV                  20366   \n",
       "\n",
       "  OP_CARRIER TAIL_NUM  OP_CARRIER_FL_NUM  ORIGIN_AIRPORT_ID  \\\n",
       "0         EV   N48901               4397              13930   \n",
       "1         EV   N16976               4401              15370   \n",
       "2         EV   N12167               4404              11618   \n",
       "3         EV   N14902               4405              10781   \n",
       "4         EV   N606UX               4407              14524   \n",
       "\n",
       "   ORIGIN_AIRPORT_SEQ_ID ORIGIN  ...  DEST  DEP_TIME DEP_DEL15  DEP_TIME_BLK  \\\n",
       "0                1393007    ORD  ...   GRB    1003.0       0.0     1000-1059   \n",
       "1                1537002    TUL  ...   ORD    1027.0       0.0     1000-1059   \n",
       "2                1161802    EWR  ...   TYS    1848.0       0.0     1800-1859   \n",
       "3                1078105    BTR  ...   IAH    1846.0       0.0     1800-1859   \n",
       "4                1452401    RIC  ...   IAH    1038.0       0.0     1000-1059   \n",
       "\n",
       "   ARR_TIME ARR_DEL15  CANCELLED  DIVERTED  DISTANCE  Unnamed: 21  \n",
       "0    1117.0       0.0        0.0       0.0     174.0          NaN  \n",
       "1    1216.0       0.0        0.0       0.0     585.0          NaN  \n",
       "2    2120.0       0.0        0.0       0.0     631.0          NaN  \n",
       "3    2004.0       0.0        0.0       0.0     253.0          NaN  \n",
       "4    1330.0       0.0        0.0       0.0    1157.0          NaN  \n",
       "\n",
       "[5 rows x 22 columns]"
      ]
     },
     "execution_count": 104,
     "metadata": {},
     "output_type": "execute_result"
    }
   ],
   "source": [
    "df.head()"
   ]
  },
  {
   "cell_type": "code",
   "execution_count": 105,
   "metadata": {},
   "outputs": [
    {
     "data": {
      "text/html": [
       "<div>\n",
       "<style scoped>\n",
       "    .dataframe tbody tr th:only-of-type {\n",
       "        vertical-align: middle;\n",
       "    }\n",
       "\n",
       "    .dataframe tbody tr th {\n",
       "        vertical-align: top;\n",
       "    }\n",
       "\n",
       "    .dataframe thead th {\n",
       "        text-align: right;\n",
       "    }\n",
       "</style>\n",
       "<table border=\"1\" class=\"dataframe\">\n",
       "  <thead>\n",
       "    <tr style=\"text-align: right;\">\n",
       "      <th></th>\n",
       "      <th>DAY_OF_MONTH</th>\n",
       "      <th>DAY_OF_WEEK</th>\n",
       "      <th>OP_CARRIER_AIRLINE_ID</th>\n",
       "      <th>OP_CARRIER_FL_NUM</th>\n",
       "      <th>ORIGIN_AIRPORT_ID</th>\n",
       "      <th>ORIGIN_AIRPORT_SEQ_ID</th>\n",
       "      <th>DEST_AIRPORT_ID</th>\n",
       "      <th>DEST_AIRPORT_SEQ_ID</th>\n",
       "      <th>DEP_TIME</th>\n",
       "      <th>DEP_DEL15</th>\n",
       "      <th>ARR_TIME</th>\n",
       "      <th>ARR_DEL15</th>\n",
       "      <th>CANCELLED</th>\n",
       "      <th>DIVERTED</th>\n",
       "      <th>DISTANCE</th>\n",
       "      <th>Unnamed: 21</th>\n",
       "    </tr>\n",
       "  </thead>\n",
       "  <tbody>\n",
       "    <tr>\n",
       "      <td>count</td>\n",
       "      <td>607346.000000</td>\n",
       "      <td>607346.000000</td>\n",
       "      <td>607346.000000</td>\n",
       "      <td>607346.000000</td>\n",
       "      <td>607346.000000</td>\n",
       "      <td>6.073460e+05</td>\n",
       "      <td>607346.000000</td>\n",
       "      <td>6.073460e+05</td>\n",
       "      <td>600682.000000</td>\n",
       "      <td>600647.000000</td>\n",
       "      <td>600271.000000</td>\n",
       "      <td>599268.000000</td>\n",
       "      <td>607346.000000</td>\n",
       "      <td>607346.000000</td>\n",
       "      <td>607346.000000</td>\n",
       "      <td>0.0</td>\n",
       "    </tr>\n",
       "    <tr>\n",
       "      <td>mean</td>\n",
       "      <td>16.014354</td>\n",
       "      <td>3.955735</td>\n",
       "      <td>19994.137492</td>\n",
       "      <td>2622.365261</td>\n",
       "      <td>12657.389167</td>\n",
       "      <td>1.265743e+06</td>\n",
       "      <td>12657.196320</td>\n",
       "      <td>1.265724e+06</td>\n",
       "      <td>1331.512559</td>\n",
       "      <td>0.136326</td>\n",
       "      <td>1477.968924</td>\n",
       "      <td>0.137309</td>\n",
       "      <td>0.011407</td>\n",
       "      <td>0.001893</td>\n",
       "      <td>798.022341</td>\n",
       "      <td>NaN</td>\n",
       "    </tr>\n",
       "    <tr>\n",
       "      <td>std</td>\n",
       "      <td>8.990719</td>\n",
       "      <td>1.910205</td>\n",
       "      <td>375.754232</td>\n",
       "      <td>1822.545302</td>\n",
       "      <td>1524.407203</td>\n",
       "      <td>1.524405e+05</td>\n",
       "      <td>1524.279269</td>\n",
       "      <td>1.524277e+05</td>\n",
       "      <td>497.095168</td>\n",
       "      <td>0.343135</td>\n",
       "      <td>525.543294</td>\n",
       "      <td>0.344174</td>\n",
       "      <td>0.106193</td>\n",
       "      <td>0.043473</td>\n",
       "      <td>587.282639</td>\n",
       "      <td>NaN</td>\n",
       "    </tr>\n",
       "    <tr>\n",
       "      <td>min</td>\n",
       "      <td>1.000000</td>\n",
       "      <td>1.000000</td>\n",
       "      <td>19393.000000</td>\n",
       "      <td>1.000000</td>\n",
       "      <td>10135.000000</td>\n",
       "      <td>1.013506e+06</td>\n",
       "      <td>10135.000000</td>\n",
       "      <td>1.013506e+06</td>\n",
       "      <td>1.000000</td>\n",
       "      <td>0.000000</td>\n",
       "      <td>1.000000</td>\n",
       "      <td>0.000000</td>\n",
       "      <td>0.000000</td>\n",
       "      <td>0.000000</td>\n",
       "      <td>31.000000</td>\n",
       "      <td>NaN</td>\n",
       "    </tr>\n",
       "    <tr>\n",
       "      <td>25%</td>\n",
       "      <td>8.000000</td>\n",
       "      <td>2.000000</td>\n",
       "      <td>19790.000000</td>\n",
       "      <td>1070.000000</td>\n",
       "      <td>11292.000000</td>\n",
       "      <td>1.129202e+06</td>\n",
       "      <td>11292.000000</td>\n",
       "      <td>1.129202e+06</td>\n",
       "      <td>919.000000</td>\n",
       "      <td>0.000000</td>\n",
       "      <td>1058.000000</td>\n",
       "      <td>0.000000</td>\n",
       "      <td>0.000000</td>\n",
       "      <td>0.000000</td>\n",
       "      <td>369.000000</td>\n",
       "      <td>NaN</td>\n",
       "    </tr>\n",
       "    <tr>\n",
       "      <td>50%</td>\n",
       "      <td>16.000000</td>\n",
       "      <td>4.000000</td>\n",
       "      <td>19977.000000</td>\n",
       "      <td>2177.000000</td>\n",
       "      <td>12889.000000</td>\n",
       "      <td>1.288903e+06</td>\n",
       "      <td>12889.000000</td>\n",
       "      <td>1.288903e+06</td>\n",
       "      <td>1326.000000</td>\n",
       "      <td>0.000000</td>\n",
       "      <td>1513.000000</td>\n",
       "      <td>0.000000</td>\n",
       "      <td>0.000000</td>\n",
       "      <td>0.000000</td>\n",
       "      <td>641.000000</td>\n",
       "      <td>NaN</td>\n",
       "    </tr>\n",
       "    <tr>\n",
       "      <td>75%</td>\n",
       "      <td>24.000000</td>\n",
       "      <td>5.000000</td>\n",
       "      <td>20378.000000</td>\n",
       "      <td>4108.000000</td>\n",
       "      <td>14027.000000</td>\n",
       "      <td>1.402702e+06</td>\n",
       "      <td>14027.000000</td>\n",
       "      <td>1.402702e+06</td>\n",
       "      <td>1739.000000</td>\n",
       "      <td>0.000000</td>\n",
       "      <td>1918.000000</td>\n",
       "      <td>0.000000</td>\n",
       "      <td>0.000000</td>\n",
       "      <td>0.000000</td>\n",
       "      <td>1037.000000</td>\n",
       "      <td>NaN</td>\n",
       "    </tr>\n",
       "    <tr>\n",
       "      <td>max</td>\n",
       "      <td>31.000000</td>\n",
       "      <td>7.000000</td>\n",
       "      <td>20452.000000</td>\n",
       "      <td>6860.000000</td>\n",
       "      <td>16869.000000</td>\n",
       "      <td>1.686901e+06</td>\n",
       "      <td>16869.000000</td>\n",
       "      <td>1.686901e+06</td>\n",
       "      <td>2400.000000</td>\n",
       "      <td>1.000000</td>\n",
       "      <td>2400.000000</td>\n",
       "      <td>1.000000</td>\n",
       "      <td>1.000000</td>\n",
       "      <td>1.000000</td>\n",
       "      <td>5095.000000</td>\n",
       "      <td>NaN</td>\n",
       "    </tr>\n",
       "  </tbody>\n",
       "</table>\n",
       "</div>"
      ],
      "text/plain": [
       "        DAY_OF_MONTH    DAY_OF_WEEK  OP_CARRIER_AIRLINE_ID  OP_CARRIER_FL_NUM  \\\n",
       "count  607346.000000  607346.000000          607346.000000      607346.000000   \n",
       "mean       16.014354       3.955735           19994.137492        2622.365261   \n",
       "std         8.990719       1.910205             375.754232        1822.545302   \n",
       "min         1.000000       1.000000           19393.000000           1.000000   \n",
       "25%         8.000000       2.000000           19790.000000        1070.000000   \n",
       "50%        16.000000       4.000000           19977.000000        2177.000000   \n",
       "75%        24.000000       5.000000           20378.000000        4108.000000   \n",
       "max        31.000000       7.000000           20452.000000        6860.000000   \n",
       "\n",
       "       ORIGIN_AIRPORT_ID  ORIGIN_AIRPORT_SEQ_ID  DEST_AIRPORT_ID  \\\n",
       "count      607346.000000           6.073460e+05    607346.000000   \n",
       "mean        12657.389167           1.265743e+06     12657.196320   \n",
       "std          1524.407203           1.524405e+05      1524.279269   \n",
       "min         10135.000000           1.013506e+06     10135.000000   \n",
       "25%         11292.000000           1.129202e+06     11292.000000   \n",
       "50%         12889.000000           1.288903e+06     12889.000000   \n",
       "75%         14027.000000           1.402702e+06     14027.000000   \n",
       "max         16869.000000           1.686901e+06     16869.000000   \n",
       "\n",
       "       DEST_AIRPORT_SEQ_ID       DEP_TIME      DEP_DEL15       ARR_TIME  \\\n",
       "count         6.073460e+05  600682.000000  600647.000000  600271.000000   \n",
       "mean          1.265724e+06    1331.512559       0.136326    1477.968924   \n",
       "std           1.524277e+05     497.095168       0.343135     525.543294   \n",
       "min           1.013506e+06       1.000000       0.000000       1.000000   \n",
       "25%           1.129202e+06     919.000000       0.000000    1058.000000   \n",
       "50%           1.288903e+06    1326.000000       0.000000    1513.000000   \n",
       "75%           1.402702e+06    1739.000000       0.000000    1918.000000   \n",
       "max           1.686901e+06    2400.000000       1.000000    2400.000000   \n",
       "\n",
       "           ARR_DEL15      CANCELLED       DIVERTED       DISTANCE  Unnamed: 21  \n",
       "count  599268.000000  607346.000000  607346.000000  607346.000000          0.0  \n",
       "mean        0.137309       0.011407       0.001893     798.022341          NaN  \n",
       "std         0.344174       0.106193       0.043473     587.282639          NaN  \n",
       "min         0.000000       0.000000       0.000000      31.000000          NaN  \n",
       "25%         0.000000       0.000000       0.000000     369.000000          NaN  \n",
       "50%         0.000000       0.000000       0.000000     641.000000          NaN  \n",
       "75%         0.000000       0.000000       0.000000    1037.000000          NaN  \n",
       "max         1.000000       1.000000       1.000000    5095.000000          NaN  "
      ]
     },
     "execution_count": 105,
     "metadata": {},
     "output_type": "execute_result"
    }
   ],
   "source": [
    "df.describe()"
   ]
  },
  {
   "cell_type": "code",
   "execution_count": 106,
   "metadata": {},
   "outputs": [
    {
     "name": "stdout",
     "output_type": "stream",
     "text": [
      "<class 'pandas.core.frame.DataFrame'>\n",
      "RangeIndex: 607346 entries, 0 to 607345\n",
      "Data columns (total 22 columns):\n",
      "DAY_OF_MONTH             607346 non-null int64\n",
      "DAY_OF_WEEK              607346 non-null int64\n",
      "OP_UNIQUE_CARRIER        607346 non-null object\n",
      "OP_CARRIER_AIRLINE_ID    607346 non-null int64\n",
      "OP_CARRIER               607346 non-null object\n",
      "TAIL_NUM                 606648 non-null object\n",
      "OP_CARRIER_FL_NUM        607346 non-null int64\n",
      "ORIGIN_AIRPORT_ID        607346 non-null int64\n",
      "ORIGIN_AIRPORT_SEQ_ID    607346 non-null int64\n",
      "ORIGIN                   607346 non-null object\n",
      "DEST_AIRPORT_ID          607346 non-null int64\n",
      "DEST_AIRPORT_SEQ_ID      607346 non-null int64\n",
      "DEST                     607346 non-null object\n",
      "DEP_TIME                 600682 non-null float64\n",
      "DEP_DEL15                600647 non-null float64\n",
      "DEP_TIME_BLK             607346 non-null object\n",
      "ARR_TIME                 600271 non-null float64\n",
      "ARR_DEL15                599268 non-null float64\n",
      "CANCELLED                607346 non-null float64\n",
      "DIVERTED                 607346 non-null float64\n",
      "DISTANCE                 607346 non-null float64\n",
      "Unnamed: 21              0 non-null float64\n",
      "dtypes: float64(8), int64(8), object(6)\n",
      "memory usage: 101.9+ MB\n"
     ]
    }
   ],
   "source": [
    "df.info()"
   ]
  },
  {
   "cell_type": "markdown",
   "metadata": {},
   "source": [
    "### Columns to use:\n",
    "- Day_of_week: Day of Week starting from Monday\n",
    "  - Ex: Monday = 1, Sunday = 7\n",
    "- Op_unique_carrier: Unique Carrier Code (DL, WN, AA, 9E, OO, etc.)\n",
    "- Origin: Origin Airport (JFK, ATL, SFO, LAX, etc.)\n",
    "- Dest: Destination Airport (JFK, ATL, SFO, LAX, etc.)\n",
    "- Dep_time: Actual Departure Time (local time: hhmm)\n",
    "  - Ex: 1848 is 18:48 in local time\n",
    "- Dep_del15: Departure Delay Indicator, 15 Minutes or More (1=Yes, 0=No)\n",
    "- Arr_time: Actual Arrival Time (local time: hhmm)\n",
    "- Arr_del15: Arrival Delay Indicator, 15 Minutes or More (1=Yes, 0=No)\n",
    "- Cancelled: Cancelled Flight Indicator (1=Yes, 0=No)\n",
    "- Diverted: Diverted Flight Indicator (1=Yes, 0=No)\n",
    "- Distance: Distance between airports (miles)"
   ]
  },
  {
   "cell_type": "markdown",
   "metadata": {},
   "source": [
    "We are going to select the columns to use using ```[]```."
   ]
  },
  {
   "cell_type": "code",
   "execution_count": 107,
   "metadata": {},
   "outputs": [
    {
     "data": {
      "text/html": [
       "<div>\n",
       "<style scoped>\n",
       "    .dataframe tbody tr th:only-of-type {\n",
       "        vertical-align: middle;\n",
       "    }\n",
       "\n",
       "    .dataframe tbody tr th {\n",
       "        vertical-align: top;\n",
       "    }\n",
       "\n",
       "    .dataframe thead th {\n",
       "        text-align: right;\n",
       "    }\n",
       "</style>\n",
       "<table border=\"1\" class=\"dataframe\">\n",
       "  <thead>\n",
       "    <tr style=\"text-align: right;\">\n",
       "      <th></th>\n",
       "      <th>DAY_OF_WEEK</th>\n",
       "      <th>OP_UNIQUE_CARRIER</th>\n",
       "      <th>ORIGIN</th>\n",
       "      <th>DEST</th>\n",
       "      <th>DEP_TIME</th>\n",
       "      <th>DEP_DEL15</th>\n",
       "      <th>ARR_TIME</th>\n",
       "      <th>ARR_DEL15</th>\n",
       "      <th>CANCELLED</th>\n",
       "      <th>DIVERTED</th>\n",
       "      <th>DISTANCE</th>\n",
       "    </tr>\n",
       "  </thead>\n",
       "  <tbody>\n",
       "    <tr>\n",
       "      <td>0</td>\n",
       "      <td>3</td>\n",
       "      <td>EV</td>\n",
       "      <td>ORD</td>\n",
       "      <td>GRB</td>\n",
       "      <td>1003.0</td>\n",
       "      <td>0.0</td>\n",
       "      <td>1117.0</td>\n",
       "      <td>0.0</td>\n",
       "      <td>0.0</td>\n",
       "      <td>0.0</td>\n",
       "      <td>174.0</td>\n",
       "    </tr>\n",
       "    <tr>\n",
       "      <td>1</td>\n",
       "      <td>3</td>\n",
       "      <td>EV</td>\n",
       "      <td>TUL</td>\n",
       "      <td>ORD</td>\n",
       "      <td>1027.0</td>\n",
       "      <td>0.0</td>\n",
       "      <td>1216.0</td>\n",
       "      <td>0.0</td>\n",
       "      <td>0.0</td>\n",
       "      <td>0.0</td>\n",
       "      <td>585.0</td>\n",
       "    </tr>\n",
       "    <tr>\n",
       "      <td>2</td>\n",
       "      <td>3</td>\n",
       "      <td>EV</td>\n",
       "      <td>EWR</td>\n",
       "      <td>TYS</td>\n",
       "      <td>1848.0</td>\n",
       "      <td>0.0</td>\n",
       "      <td>2120.0</td>\n",
       "      <td>0.0</td>\n",
       "      <td>0.0</td>\n",
       "      <td>0.0</td>\n",
       "      <td>631.0</td>\n",
       "    </tr>\n",
       "    <tr>\n",
       "      <td>3</td>\n",
       "      <td>3</td>\n",
       "      <td>EV</td>\n",
       "      <td>BTR</td>\n",
       "      <td>IAH</td>\n",
       "      <td>1846.0</td>\n",
       "      <td>0.0</td>\n",
       "      <td>2004.0</td>\n",
       "      <td>0.0</td>\n",
       "      <td>0.0</td>\n",
       "      <td>0.0</td>\n",
       "      <td>253.0</td>\n",
       "    </tr>\n",
       "    <tr>\n",
       "      <td>4</td>\n",
       "      <td>3</td>\n",
       "      <td>EV</td>\n",
       "      <td>RIC</td>\n",
       "      <td>IAH</td>\n",
       "      <td>1038.0</td>\n",
       "      <td>0.0</td>\n",
       "      <td>1330.0</td>\n",
       "      <td>0.0</td>\n",
       "      <td>0.0</td>\n",
       "      <td>0.0</td>\n",
       "      <td>1157.0</td>\n",
       "    </tr>\n",
       "    <tr>\n",
       "      <td>...</td>\n",
       "      <td>...</td>\n",
       "      <td>...</td>\n",
       "      <td>...</td>\n",
       "      <td>...</td>\n",
       "      <td>...</td>\n",
       "      <td>...</td>\n",
       "      <td>...</td>\n",
       "      <td>...</td>\n",
       "      <td>...</td>\n",
       "      <td>...</td>\n",
       "      <td>...</td>\n",
       "    </tr>\n",
       "    <tr>\n",
       "      <td>607341</td>\n",
       "      <td>5</td>\n",
       "      <td>9E</td>\n",
       "      <td>TYS</td>\n",
       "      <td>DTW</td>\n",
       "      <td>1002.0</td>\n",
       "      <td>1.0</td>\n",
       "      <td>1128.0</td>\n",
       "      <td>1.0</td>\n",
       "      <td>0.0</td>\n",
       "      <td>0.0</td>\n",
       "      <td>443.0</td>\n",
       "    </tr>\n",
       "    <tr>\n",
       "      <td>607342</td>\n",
       "      <td>5</td>\n",
       "      <td>9E</td>\n",
       "      <td>DTW</td>\n",
       "      <td>JFK</td>\n",
       "      <td>1747.0</td>\n",
       "      <td>0.0</td>\n",
       "      <td>1933.0</td>\n",
       "      <td>0.0</td>\n",
       "      <td>0.0</td>\n",
       "      <td>0.0</td>\n",
       "      <td>509.0</td>\n",
       "    </tr>\n",
       "    <tr>\n",
       "      <td>607343</td>\n",
       "      <td>5</td>\n",
       "      <td>9E</td>\n",
       "      <td>GSP</td>\n",
       "      <td>LGA</td>\n",
       "      <td>554.0</td>\n",
       "      <td>0.0</td>\n",
       "      <td>752.0</td>\n",
       "      <td>0.0</td>\n",
       "      <td>0.0</td>\n",
       "      <td>0.0</td>\n",
       "      <td>610.0</td>\n",
       "    </tr>\n",
       "    <tr>\n",
       "      <td>607344</td>\n",
       "      <td>5</td>\n",
       "      <td>9E</td>\n",
       "      <td>ATL</td>\n",
       "      <td>XNA</td>\n",
       "      <td>1714.0</td>\n",
       "      <td>0.0</td>\n",
       "      <td>1811.0</td>\n",
       "      <td>0.0</td>\n",
       "      <td>0.0</td>\n",
       "      <td>0.0</td>\n",
       "      <td>589.0</td>\n",
       "    </tr>\n",
       "    <tr>\n",
       "      <td>607345</td>\n",
       "      <td>5</td>\n",
       "      <td>9E</td>\n",
       "      <td>XNA</td>\n",
       "      <td>ATL</td>\n",
       "      <td>1841.0</td>\n",
       "      <td>0.0</td>\n",
       "      <td>2128.0</td>\n",
       "      <td>0.0</td>\n",
       "      <td>0.0</td>\n",
       "      <td>0.0</td>\n",
       "      <td>589.0</td>\n",
       "    </tr>\n",
       "  </tbody>\n",
       "</table>\n",
       "<p>607346 rows × 11 columns</p>\n",
       "</div>"
      ],
      "text/plain": [
       "        DAY_OF_WEEK OP_UNIQUE_CARRIER ORIGIN DEST  DEP_TIME  DEP_DEL15  \\\n",
       "0                 3                EV    ORD  GRB    1003.0        0.0   \n",
       "1                 3                EV    TUL  ORD    1027.0        0.0   \n",
       "2                 3                EV    EWR  TYS    1848.0        0.0   \n",
       "3                 3                EV    BTR  IAH    1846.0        0.0   \n",
       "4                 3                EV    RIC  IAH    1038.0        0.0   \n",
       "...             ...               ...    ...  ...       ...        ...   \n",
       "607341            5                9E    TYS  DTW    1002.0        1.0   \n",
       "607342            5                9E    DTW  JFK    1747.0        0.0   \n",
       "607343            5                9E    GSP  LGA     554.0        0.0   \n",
       "607344            5                9E    ATL  XNA    1714.0        0.0   \n",
       "607345            5                9E    XNA  ATL    1841.0        0.0   \n",
       "\n",
       "        ARR_TIME  ARR_DEL15  CANCELLED  DIVERTED  DISTANCE  \n",
       "0         1117.0        0.0        0.0       0.0     174.0  \n",
       "1         1216.0        0.0        0.0       0.0     585.0  \n",
       "2         2120.0        0.0        0.0       0.0     631.0  \n",
       "3         2004.0        0.0        0.0       0.0     253.0  \n",
       "4         1330.0        0.0        0.0       0.0    1157.0  \n",
       "...          ...        ...        ...       ...       ...  \n",
       "607341    1128.0        1.0        0.0       0.0     443.0  \n",
       "607342    1933.0        0.0        0.0       0.0     509.0  \n",
       "607343     752.0        0.0        0.0       0.0     610.0  \n",
       "607344    1811.0        0.0        0.0       0.0     589.0  \n",
       "607345    2128.0        0.0        0.0       0.0     589.0  \n",
       "\n",
       "[607346 rows x 11 columns]"
      ]
     },
     "execution_count": 107,
     "metadata": {},
     "output_type": "execute_result"
    }
   ],
   "source": [
    "flight = df[[\"DAY_OF_WEEK\", \"OP_UNIQUE_CARRIER\", \"ORIGIN\", \"DEST\", \"DEP_TIME\", \"DEP_DEL15\", \"ARR_TIME\", \"ARR_DEL15\", \"CANCELLED\", \"DIVERTED\", \"DISTANCE\"]]\n",
    "flight"
   ]
  },
  {
   "cell_type": "markdown",
   "metadata": {
    "colab_type": "text",
    "id": "5yViNs4jEJ1R"
   },
   "source": [
    "### Join datasets\n",
    "- ```flight``` dataframe has ```OP_UNIQUE_CARRIER```, but it is missing airline names.\n",
    "- ```airline_names.xlsx``` has airline codes as well as airline names.\n",
    "\n",
    "Let's join ```flight``` dataframe with ```airline_names.xlsx``` to get airline names."
   ]
  },
  {
   "cell_type": "code",
   "execution_count": 108,
   "metadata": {
    "colab": {},
    "colab_type": "code",
    "id": "ieQhohRGP1mz"
   },
   "outputs": [
    {
     "data": {
      "text/html": [
       "<div>\n",
       "<style scoped>\n",
       "    .dataframe tbody tr th:only-of-type {\n",
       "        vertical-align: middle;\n",
       "    }\n",
       "\n",
       "    .dataframe tbody tr th {\n",
       "        vertical-align: top;\n",
       "    }\n",
       "\n",
       "    .dataframe thead th {\n",
       "        text-align: right;\n",
       "    }\n",
       "</style>\n",
       "<table border=\"1\" class=\"dataframe\">\n",
       "  <thead>\n",
       "    <tr style=\"text-align: right;\">\n",
       "      <th></th>\n",
       "      <th>carrier</th>\n",
       "      <th>carrier_name</th>\n",
       "    </tr>\n",
       "  </thead>\n",
       "  <tbody>\n",
       "    <tr>\n",
       "      <td>0</td>\n",
       "      <td>9E</td>\n",
       "      <td>Endeavor Air Inc.</td>\n",
       "    </tr>\n",
       "    <tr>\n",
       "      <td>1</td>\n",
       "      <td>AA</td>\n",
       "      <td>American Airlines Inc.</td>\n",
       "    </tr>\n",
       "    <tr>\n",
       "      <td>2</td>\n",
       "      <td>AQ</td>\n",
       "      <td>Aloha Airlines Inc.</td>\n",
       "    </tr>\n",
       "    <tr>\n",
       "      <td>3</td>\n",
       "      <td>AS</td>\n",
       "      <td>Alaska Airlines Inc.</td>\n",
       "    </tr>\n",
       "    <tr>\n",
       "      <td>4</td>\n",
       "      <td>B6</td>\n",
       "      <td>JetBlue Airways</td>\n",
       "    </tr>\n",
       "    <tr>\n",
       "      <td>5</td>\n",
       "      <td>CO</td>\n",
       "      <td>Continental Air Lines Inc.</td>\n",
       "    </tr>\n",
       "    <tr>\n",
       "      <td>6</td>\n",
       "      <td>DL</td>\n",
       "      <td>Delta Air Lines Inc.</td>\n",
       "    </tr>\n",
       "    <tr>\n",
       "      <td>7</td>\n",
       "      <td>EV</td>\n",
       "      <td>ExpressJet Airlines LLC</td>\n",
       "    </tr>\n",
       "    <tr>\n",
       "      <td>8</td>\n",
       "      <td>F9</td>\n",
       "      <td>Frontier Airlines Inc.</td>\n",
       "    </tr>\n",
       "    <tr>\n",
       "      <td>9</td>\n",
       "      <td>FL</td>\n",
       "      <td>AirTran Airways Corporation</td>\n",
       "    </tr>\n",
       "    <tr>\n",
       "      <td>10</td>\n",
       "      <td>G4</td>\n",
       "      <td>Allegiant Air</td>\n",
       "    </tr>\n",
       "    <tr>\n",
       "      <td>11</td>\n",
       "      <td>HA</td>\n",
       "      <td>Hawaiian Airlines Inc.</td>\n",
       "    </tr>\n",
       "    <tr>\n",
       "      <td>12</td>\n",
       "      <td>HP</td>\n",
       "      <td>America West Airlines Inc.</td>\n",
       "    </tr>\n",
       "    <tr>\n",
       "      <td>13</td>\n",
       "      <td>MQ</td>\n",
       "      <td>Envoy Air</td>\n",
       "    </tr>\n",
       "    <tr>\n",
       "      <td>14</td>\n",
       "      <td>NK</td>\n",
       "      <td>Spirit Air Lines</td>\n",
       "    </tr>\n",
       "    <tr>\n",
       "      <td>15</td>\n",
       "      <td>NW</td>\n",
       "      <td>Northwest Airlines Inc.</td>\n",
       "    </tr>\n",
       "    <tr>\n",
       "      <td>16</td>\n",
       "      <td>OH</td>\n",
       "      <td>Comair Inc.</td>\n",
       "    </tr>\n",
       "    <tr>\n",
       "      <td>17</td>\n",
       "      <td>OO</td>\n",
       "      <td>SkyWest Airlines Inc.</td>\n",
       "    </tr>\n",
       "    <tr>\n",
       "      <td>18</td>\n",
       "      <td>RU</td>\n",
       "      <td>ExpressJet Airlines Inc.</td>\n",
       "    </tr>\n",
       "    <tr>\n",
       "      <td>19</td>\n",
       "      <td>TZ</td>\n",
       "      <td>ATA Airlines d/b/a ATA</td>\n",
       "    </tr>\n",
       "    <tr>\n",
       "      <td>20</td>\n",
       "      <td>UA</td>\n",
       "      <td>United Air Lines Inc.</td>\n",
       "    </tr>\n",
       "    <tr>\n",
       "      <td>21</td>\n",
       "      <td>US</td>\n",
       "      <td>US Airways Inc.</td>\n",
       "    </tr>\n",
       "    <tr>\n",
       "      <td>22</td>\n",
       "      <td>VX</td>\n",
       "      <td>Virgin America</td>\n",
       "    </tr>\n",
       "    <tr>\n",
       "      <td>23</td>\n",
       "      <td>WN</td>\n",
       "      <td>Southwest Airlines Co.</td>\n",
       "    </tr>\n",
       "    <tr>\n",
       "      <td>24</td>\n",
       "      <td>XE</td>\n",
       "      <td>ExpressJet Airlines Inc.</td>\n",
       "    </tr>\n",
       "    <tr>\n",
       "      <td>25</td>\n",
       "      <td>YV</td>\n",
       "      <td>Mesa Airlines Inc.</td>\n",
       "    </tr>\n",
       "    <tr>\n",
       "      <td>26</td>\n",
       "      <td>YX</td>\n",
       "      <td>Republic Airline</td>\n",
       "    </tr>\n",
       "  </tbody>\n",
       "</table>\n",
       "</div>"
      ],
      "text/plain": [
       "   carrier                 carrier_name\n",
       "0       9E            Endeavor Air Inc.\n",
       "1       AA       American Airlines Inc.\n",
       "2       AQ          Aloha Airlines Inc.\n",
       "3       AS         Alaska Airlines Inc.\n",
       "4       B6              JetBlue Airways\n",
       "5       CO   Continental Air Lines Inc.\n",
       "6       DL         Delta Air Lines Inc.\n",
       "7       EV      ExpressJet Airlines LLC\n",
       "8       F9       Frontier Airlines Inc.\n",
       "9       FL  AirTran Airways Corporation\n",
       "10      G4                Allegiant Air\n",
       "11      HA       Hawaiian Airlines Inc.\n",
       "12      HP   America West Airlines Inc.\n",
       "13      MQ                    Envoy Air\n",
       "14      NK             Spirit Air Lines\n",
       "15      NW      Northwest Airlines Inc.\n",
       "16      OH                  Comair Inc.\n",
       "17      OO        SkyWest Airlines Inc.\n",
       "18      RU     ExpressJet Airlines Inc.\n",
       "19      TZ       ATA Airlines d/b/a ATA\n",
       "20      UA        United Air Lines Inc.\n",
       "21      US              US Airways Inc.\n",
       "22      VX               Virgin America\n",
       "23      WN       Southwest Airlines Co.\n",
       "24      XE     ExpressJet Airlines Inc.\n",
       "25      YV           Mesa Airlines Inc.\n",
       "26      YX             Republic Airline"
      ]
     },
     "execution_count": 108,
     "metadata": {},
     "output_type": "execute_result"
    }
   ],
   "source": [
    "airline = pd.read_excel('data/airline_names.xlsx')\n",
    "airline"
   ]
  },
  {
   "cell_type": "markdown",
   "metadata": {},
   "source": [
    "We are going to use ```merge``` function that we learned today and specify left column name and right column name since they are different."
   ]
  },
  {
   "cell_type": "code",
   "execution_count": 109,
   "metadata": {},
   "outputs": [
    {
     "data": {
      "text/html": [
       "<div>\n",
       "<style scoped>\n",
       "    .dataframe tbody tr th:only-of-type {\n",
       "        vertical-align: middle;\n",
       "    }\n",
       "\n",
       "    .dataframe tbody tr th {\n",
       "        vertical-align: top;\n",
       "    }\n",
       "\n",
       "    .dataframe thead th {\n",
       "        text-align: right;\n",
       "    }\n",
       "</style>\n",
       "<table border=\"1\" class=\"dataframe\">\n",
       "  <thead>\n",
       "    <tr style=\"text-align: right;\">\n",
       "      <th></th>\n",
       "      <th>DAY_OF_WEEK</th>\n",
       "      <th>OP_UNIQUE_CARRIER</th>\n",
       "      <th>ORIGIN</th>\n",
       "      <th>DEST</th>\n",
       "      <th>DEP_TIME</th>\n",
       "      <th>DEP_DEL15</th>\n",
       "      <th>ARR_TIME</th>\n",
       "      <th>ARR_DEL15</th>\n",
       "      <th>CANCELLED</th>\n",
       "      <th>DIVERTED</th>\n",
       "      <th>DISTANCE</th>\n",
       "      <th>carrier</th>\n",
       "      <th>carrier_name</th>\n",
       "    </tr>\n",
       "  </thead>\n",
       "  <tbody>\n",
       "    <tr>\n",
       "      <td>0</td>\n",
       "      <td>3</td>\n",
       "      <td>EV</td>\n",
       "      <td>ORD</td>\n",
       "      <td>GRB</td>\n",
       "      <td>1003.0</td>\n",
       "      <td>0.0</td>\n",
       "      <td>1117.0</td>\n",
       "      <td>0.0</td>\n",
       "      <td>0.0</td>\n",
       "      <td>0.0</td>\n",
       "      <td>174.0</td>\n",
       "      <td>EV</td>\n",
       "      <td>ExpressJet Airlines LLC</td>\n",
       "    </tr>\n",
       "    <tr>\n",
       "      <td>1</td>\n",
       "      <td>3</td>\n",
       "      <td>EV</td>\n",
       "      <td>TUL</td>\n",
       "      <td>ORD</td>\n",
       "      <td>1027.0</td>\n",
       "      <td>0.0</td>\n",
       "      <td>1216.0</td>\n",
       "      <td>0.0</td>\n",
       "      <td>0.0</td>\n",
       "      <td>0.0</td>\n",
       "      <td>585.0</td>\n",
       "      <td>EV</td>\n",
       "      <td>ExpressJet Airlines LLC</td>\n",
       "    </tr>\n",
       "    <tr>\n",
       "      <td>2</td>\n",
       "      <td>3</td>\n",
       "      <td>EV</td>\n",
       "      <td>EWR</td>\n",
       "      <td>TYS</td>\n",
       "      <td>1848.0</td>\n",
       "      <td>0.0</td>\n",
       "      <td>2120.0</td>\n",
       "      <td>0.0</td>\n",
       "      <td>0.0</td>\n",
       "      <td>0.0</td>\n",
       "      <td>631.0</td>\n",
       "      <td>EV</td>\n",
       "      <td>ExpressJet Airlines LLC</td>\n",
       "    </tr>\n",
       "    <tr>\n",
       "      <td>3</td>\n",
       "      <td>3</td>\n",
       "      <td>EV</td>\n",
       "      <td>BTR</td>\n",
       "      <td>IAH</td>\n",
       "      <td>1846.0</td>\n",
       "      <td>0.0</td>\n",
       "      <td>2004.0</td>\n",
       "      <td>0.0</td>\n",
       "      <td>0.0</td>\n",
       "      <td>0.0</td>\n",
       "      <td>253.0</td>\n",
       "      <td>EV</td>\n",
       "      <td>ExpressJet Airlines LLC</td>\n",
       "    </tr>\n",
       "    <tr>\n",
       "      <td>4</td>\n",
       "      <td>3</td>\n",
       "      <td>EV</td>\n",
       "      <td>RIC</td>\n",
       "      <td>IAH</td>\n",
       "      <td>1038.0</td>\n",
       "      <td>0.0</td>\n",
       "      <td>1330.0</td>\n",
       "      <td>0.0</td>\n",
       "      <td>0.0</td>\n",
       "      <td>0.0</td>\n",
       "      <td>1157.0</td>\n",
       "      <td>EV</td>\n",
       "      <td>ExpressJet Airlines LLC</td>\n",
       "    </tr>\n",
       "    <tr>\n",
       "      <td>...</td>\n",
       "      <td>...</td>\n",
       "      <td>...</td>\n",
       "      <td>...</td>\n",
       "      <td>...</td>\n",
       "      <td>...</td>\n",
       "      <td>...</td>\n",
       "      <td>...</td>\n",
       "      <td>...</td>\n",
       "      <td>...</td>\n",
       "      <td>...</td>\n",
       "      <td>...</td>\n",
       "      <td>...</td>\n",
       "      <td>...</td>\n",
       "    </tr>\n",
       "    <tr>\n",
       "      <td>607341</td>\n",
       "      <td>5</td>\n",
       "      <td>AS</td>\n",
       "      <td>SEA</td>\n",
       "      <td>SJC</td>\n",
       "      <td>1336.0</td>\n",
       "      <td>0.0</td>\n",
       "      <td>1541.0</td>\n",
       "      <td>0.0</td>\n",
       "      <td>0.0</td>\n",
       "      <td>0.0</td>\n",
       "      <td>696.0</td>\n",
       "      <td>AS</td>\n",
       "      <td>Alaska Airlines Inc.</td>\n",
       "    </tr>\n",
       "    <tr>\n",
       "      <td>607342</td>\n",
       "      <td>5</td>\n",
       "      <td>AS</td>\n",
       "      <td>SJC</td>\n",
       "      <td>SEA</td>\n",
       "      <td>2001.0</td>\n",
       "      <td>1.0</td>\n",
       "      <td>2229.0</td>\n",
       "      <td>1.0</td>\n",
       "      <td>0.0</td>\n",
       "      <td>0.0</td>\n",
       "      <td>696.0</td>\n",
       "      <td>AS</td>\n",
       "      <td>Alaska Airlines Inc.</td>\n",
       "    </tr>\n",
       "    <tr>\n",
       "      <td>607343</td>\n",
       "      <td>5</td>\n",
       "      <td>AS</td>\n",
       "      <td>SEA</td>\n",
       "      <td>TUS</td>\n",
       "      <td>1956.0</td>\n",
       "      <td>1.0</td>\n",
       "      <td>2400.0</td>\n",
       "      <td>1.0</td>\n",
       "      <td>0.0</td>\n",
       "      <td>0.0</td>\n",
       "      <td>1216.0</td>\n",
       "      <td>AS</td>\n",
       "      <td>Alaska Airlines Inc.</td>\n",
       "    </tr>\n",
       "    <tr>\n",
       "      <td>607344</td>\n",
       "      <td>5</td>\n",
       "      <td>AS</td>\n",
       "      <td>IAD</td>\n",
       "      <td>LAX</td>\n",
       "      <td>651.0</td>\n",
       "      <td>0.0</td>\n",
       "      <td>910.0</td>\n",
       "      <td>0.0</td>\n",
       "      <td>0.0</td>\n",
       "      <td>0.0</td>\n",
       "      <td>2288.0</td>\n",
       "      <td>AS</td>\n",
       "      <td>Alaska Airlines Inc.</td>\n",
       "    </tr>\n",
       "    <tr>\n",
       "      <td>607345</td>\n",
       "      <td>5</td>\n",
       "      <td>AS</td>\n",
       "      <td>JFK</td>\n",
       "      <td>PDX</td>\n",
       "      <td>1258.0</td>\n",
       "      <td>0.0</td>\n",
       "      <td>1605.0</td>\n",
       "      <td>0.0</td>\n",
       "      <td>0.0</td>\n",
       "      <td>0.0</td>\n",
       "      <td>2454.0</td>\n",
       "      <td>AS</td>\n",
       "      <td>Alaska Airlines Inc.</td>\n",
       "    </tr>\n",
       "  </tbody>\n",
       "</table>\n",
       "<p>607346 rows × 13 columns</p>\n",
       "</div>"
      ],
      "text/plain": [
       "        DAY_OF_WEEK OP_UNIQUE_CARRIER ORIGIN DEST  DEP_TIME  DEP_DEL15  \\\n",
       "0                 3                EV    ORD  GRB    1003.0        0.0   \n",
       "1                 3                EV    TUL  ORD    1027.0        0.0   \n",
       "2                 3                EV    EWR  TYS    1848.0        0.0   \n",
       "3                 3                EV    BTR  IAH    1846.0        0.0   \n",
       "4                 3                EV    RIC  IAH    1038.0        0.0   \n",
       "...             ...               ...    ...  ...       ...        ...   \n",
       "607341            5                AS    SEA  SJC    1336.0        0.0   \n",
       "607342            5                AS    SJC  SEA    2001.0        1.0   \n",
       "607343            5                AS    SEA  TUS    1956.0        1.0   \n",
       "607344            5                AS    IAD  LAX     651.0        0.0   \n",
       "607345            5                AS    JFK  PDX    1258.0        0.0   \n",
       "\n",
       "        ARR_TIME  ARR_DEL15  CANCELLED  DIVERTED  DISTANCE carrier  \\\n",
       "0         1117.0        0.0        0.0       0.0     174.0      EV   \n",
       "1         1216.0        0.0        0.0       0.0     585.0      EV   \n",
       "2         2120.0        0.0        0.0       0.0     631.0      EV   \n",
       "3         2004.0        0.0        0.0       0.0     253.0      EV   \n",
       "4         1330.0        0.0        0.0       0.0    1157.0      EV   \n",
       "...          ...        ...        ...       ...       ...     ...   \n",
       "607341    1541.0        0.0        0.0       0.0     696.0      AS   \n",
       "607342    2229.0        1.0        0.0       0.0     696.0      AS   \n",
       "607343    2400.0        1.0        0.0       0.0    1216.0      AS   \n",
       "607344     910.0        0.0        0.0       0.0    2288.0      AS   \n",
       "607345    1605.0        0.0        0.0       0.0    2454.0      AS   \n",
       "\n",
       "                   carrier_name  \n",
       "0       ExpressJet Airlines LLC  \n",
       "1       ExpressJet Airlines LLC  \n",
       "2       ExpressJet Airlines LLC  \n",
       "3       ExpressJet Airlines LLC  \n",
       "4       ExpressJet Airlines LLC  \n",
       "...                         ...  \n",
       "607341     Alaska Airlines Inc.  \n",
       "607342     Alaska Airlines Inc.  \n",
       "607343     Alaska Airlines Inc.  \n",
       "607344     Alaska Airlines Inc.  \n",
       "607345     Alaska Airlines Inc.  \n",
       "\n",
       "[607346 rows x 13 columns]"
      ]
     },
     "execution_count": 109,
     "metadata": {},
     "output_type": "execute_result"
    }
   ],
   "source": [
    "flight_airline = pd.merge(flight, airline, left_on='OP_UNIQUE_CARRIER', right_on='carrier')\n",
    "flight_airline"
   ]
  },
  {
   "cell_type": "markdown",
   "metadata": {},
   "source": [
    "Now, ```flight_airline``` dataframe has all of the delay, cancellation info as well as airline codes and names!"
   ]
  },
  {
   "cell_type": "markdown",
   "metadata": {},
   "source": [
    "## Groupby\n",
    "- which airlines experience most delays? (# delays by airline)\n",
    "- what day of a week experience most delays? (# delays by the day of a week)\n",
    "- what origin experience most delays? (# delays by origin and destination)"
   ]
  },
  {
   "cell_type": "markdown",
   "metadata": {},
   "source": [
    "### Which airlines experience most delays?\n",
    "\n",
    "This question can be reworded as \"# of delays by airline\"\n",
    "\n",
    "We can use ```groupby``` function to get the number of delays by each airline!"
   ]
  },
  {
   "cell_type": "code",
   "execution_count": 110,
   "metadata": {},
   "outputs": [
    {
     "data": {
      "text/plain": [
       "carrier  carrier_name           \n",
       "WN       Southwest Airlines Co.     13381.0\n",
       "AA       American Airlines Inc.     11000.0\n",
       "OO       SkyWest Airlines Inc.      10836.0\n",
       "DL       Delta Air Lines Inc.        8095.0\n",
       "UA       United Air Lines Inc.       6165.0\n",
       "OH       Comair Inc.                 4656.0\n",
       "MQ       Envoy Air                   4299.0\n",
       "AS       Alaska Airlines Inc.        3863.0\n",
       "B6       JetBlue Airways             3735.0\n",
       "YX       Republic Airline            2964.0\n",
       "YV       Mesa Airlines Inc.          2802.0\n",
       "9E       Endeavor Air Inc.           2580.0\n",
       "NK       Spirit Air Lines            2403.0\n",
       "F9       Frontier Airlines Inc.      1888.0\n",
       "G4       Allegiant Air               1376.0\n",
       "EV       ExpressJet Airlines LLC     1284.0\n",
       "HA       Hawaiian Airlines Inc.       557.0\n",
       "Name: DEP_DEL15, dtype: float64"
      ]
     },
     "execution_count": 110,
     "metadata": {},
     "output_type": "execute_result"
    }
   ],
   "source": [
    "flight_airline.groupby(['carrier','carrier_name'])['DEP_DEL15'].sum().sort_values(ascending=False)"
   ]
  },
  {
   "cell_type": "markdown",
   "metadata": {},
   "source": [
    "If the threshold is 10,000 delays in January, it seems that WN, AA, OO are top three airlines that experience most delays.\n",
    "But often times, passengers would care more about **arrival on time** and that's what airline industries focus more."
   ]
  },
  {
   "cell_type": "markdown",
   "metadata": {
    "colab_type": "text",
    "id": "OXzMGcoqEX0_"
   },
   "source": [
    "### 1.0 - Now Try This\n",
    "\n",
    "Calculate sum of ARR_DEL15 using the groupby function and sort the dataset in a descending order."
   ]
  },
  {
   "cell_type": "code",
   "execution_count": null,
   "metadata": {},
   "outputs": [],
   "source": []
  },
  {
   "cell_type": "markdown",
   "metadata": {},
   "source": [
    "**Answer**: flight_airline.groupby(['carrier'])['ARR_DEL15'].sum().sort_values(ascending=False)"
   ]
  },
  {
   "cell_type": "markdown",
   "metadata": {},
   "source": [
    "If we use the same threshold of 10,000 delays, AA, OO, OH, and WN are airlines that experience most delays in regards to **arrival**.\n",
    "\n",
    "We've found the top airlines with most delays but this result does not take into account \"Total number of flights.\"\n",
    "\n",
    "So, it will be more accurate if we can find the percentage of delayed flights for each airline.\n",
    "\n",
    "```delayed flight % = (delayed flights) / (total flights)```\n",
    "\n",
    "Let's calculate **delayed flight %**!"
   ]
  },
  {
   "cell_type": "code",
   "execution_count": 111,
   "metadata": {},
   "outputs": [
    {
     "data": {
      "text/plain": [
       "carrier  carrier_name           \n",
       "9E       Endeavor Air Inc.           22955\n",
       "AA       American Airlines Inc.      75472\n",
       "AS       Alaska Airlines Inc.        20783\n",
       "B6       JetBlue Airways             24621\n",
       "DL       Delta Air Lines Inc.        79928\n",
       "EV       ExpressJet Airlines LLC     10376\n",
       "F9       Frontier Airlines Inc.      12312\n",
       "G4       Allegiant Air                7663\n",
       "HA       Hawaiian Airlines Inc.       7015\n",
       "MQ       Envoy Air                   25284\n",
       "NK       Spirit Air Lines            17333\n",
       "OH       Comair Inc.                 23999\n",
       "OO       SkyWest Airlines Inc.       69501\n",
       "UA       United Air Lines Inc.       48019\n",
       "WN       Southwest Airlines Co.     107708\n",
       "YV       Mesa Airlines Inc.          17473\n",
       "YX       Republic Airline            28826\n",
       "Name: ARR_DEL15, dtype: int64"
      ]
     },
     "execution_count": 111,
     "metadata": {},
     "output_type": "execute_result"
    }
   ],
   "source": [
    "# this code returns the total number of flights\n",
    "flight_airline.groupby(['carrier','carrier_name'])['ARR_DEL15'].count()"
   ]
  },
  {
   "cell_type": "markdown",
   "metadata": {},
   "source": [
    "Using this formula, ```delayed flight % = (delayed flights) / (total flights)```\n",
    "\n",
    "we will divide the number of delayed flights by total flights."
   ]
  },
  {
   "cell_type": "code",
   "execution_count": 112,
   "metadata": {},
   "outputs": [
    {
     "data": {
      "text/plain": [
       "carrier  carrier_name           \n",
       "9E       Endeavor Air Inc.          0.109562\n",
       "AA       American Airlines Inc.     0.150360\n",
       "AS       Alaska Airlines Inc.       0.211375\n",
       "B6       JetBlue Airways            0.149263\n",
       "DL       Delta Air Lines Inc.       0.105833\n",
       "EV       ExpressJet Airlines LLC    0.154298\n",
       "F9       Frontier Airlines Inc.     0.145793\n",
       "G4       Allegiant Air              0.200705\n",
       "HA       Hawaiian Airlines Inc.     0.098076\n",
       "MQ       Envoy Air                  0.196923\n",
       "NK       Spirit Air Lines           0.134656\n",
       "OH       Comair Inc.                0.215259\n",
       "OO       SkyWest Airlines Inc.      0.153840\n",
       "UA       United Air Lines Inc.      0.129844\n",
       "WN       Southwest Airlines Co.     0.095824\n",
       "YV       Mesa Airlines Inc.         0.178447\n",
       "YX       Republic Airline           0.118920\n",
       "Name: ARR_DEL15, dtype: float64"
      ]
     },
     "execution_count": 112,
     "metadata": {},
     "output_type": "execute_result"
    }
   ],
   "source": [
    "# this code returns the percentage of delayed flights of each airline.\n",
    "flight_airline.groupby(['carrier','carrier_name'])['ARR_DEL15'].sum() / flight_airline.groupby(['carrier','carrier_name'])['ARR_DEL15'].count()"
   ]
  },
  {
   "cell_type": "markdown",
   "metadata": {},
   "source": [
    "Now, in order to see the top airlines with highest delay percentages, let's sort the result in a descending order!"
   ]
  },
  {
   "cell_type": "code",
   "execution_count": 113,
   "metadata": {},
   "outputs": [
    {
     "data": {
      "text/plain": [
       "carrier  carrier_name           \n",
       "OH       Comair Inc.                0.215259\n",
       "AS       Alaska Airlines Inc.       0.211375\n",
       "G4       Allegiant Air              0.200705\n",
       "MQ       Envoy Air                  0.196923\n",
       "YV       Mesa Airlines Inc.         0.178447\n",
       "EV       ExpressJet Airlines LLC    0.154298\n",
       "OO       SkyWest Airlines Inc.      0.153840\n",
       "AA       American Airlines Inc.     0.150360\n",
       "B6       JetBlue Airways            0.149263\n",
       "F9       Frontier Airlines Inc.     0.145793\n",
       "NK       Spirit Air Lines           0.134656\n",
       "UA       United Air Lines Inc.      0.129844\n",
       "YX       Republic Airline           0.118920\n",
       "9E       Endeavor Air Inc.          0.109562\n",
       "DL       Delta Air Lines Inc.       0.105833\n",
       "HA       Hawaiian Airlines Inc.     0.098076\n",
       "WN       Southwest Airlines Co.     0.095824\n",
       "Name: ARR_DEL15, dtype: float64"
      ]
     },
     "execution_count": 113,
     "metadata": {},
     "output_type": "execute_result"
    }
   ],
   "source": [
    "# sort_values(ascending = False) has been added\n",
    "(flight_airline.groupby(['carrier','carrier_name'])['ARR_DEL15'].sum() / flight_airline.groupby(['carrier','carrier_name'])['ARR_DEL15'].count()).sort_values(ascending = False)"
   ]
  },
  {
   "cell_type": "markdown",
   "metadata": {},
   "source": [
    "Tada, we've come up with a completely different result!\n",
    "\n",
    "OH, AS, G4 airlines have highest delay percentages while 9E, DL, HA, WN have reletively low delay percentages."
   ]
  },
  {
   "cell_type": "markdown",
   "metadata": {},
   "source": [
    "#### agg()\n",
    "\n",
    "The code above is correct but it's very lengthy because we calculate ```sum()``` and ```count()``` separately.\n",
    "\n",
    "We will learn a shortcut to calculate multiple aggregate functions using ```agg()``` argument.\n",
    "\n",
    "Everything remains same, except that we replace ```sum()``` or ```count()``` with ```agg(['sum','count'])```."
   ]
  },
  {
   "cell_type": "code",
   "execution_count": 114,
   "metadata": {},
   "outputs": [
    {
     "data": {
      "text/html": [
       "<div>\n",
       "<style scoped>\n",
       "    .dataframe tbody tr th:only-of-type {\n",
       "        vertical-align: middle;\n",
       "    }\n",
       "\n",
       "    .dataframe tbody tr th {\n",
       "        vertical-align: top;\n",
       "    }\n",
       "\n",
       "    .dataframe thead th {\n",
       "        text-align: right;\n",
       "    }\n",
       "</style>\n",
       "<table border=\"1\" class=\"dataframe\">\n",
       "  <thead>\n",
       "    <tr style=\"text-align: right;\">\n",
       "      <th></th>\n",
       "      <th></th>\n",
       "      <th>sum</th>\n",
       "      <th>count</th>\n",
       "    </tr>\n",
       "    <tr>\n",
       "      <th>carrier</th>\n",
       "      <th>carrier_name</th>\n",
       "      <th></th>\n",
       "      <th></th>\n",
       "    </tr>\n",
       "  </thead>\n",
       "  <tbody>\n",
       "    <tr>\n",
       "      <td>9E</td>\n",
       "      <td>Endeavor Air Inc.</td>\n",
       "      <td>2515.0</td>\n",
       "      <td>22955</td>\n",
       "    </tr>\n",
       "    <tr>\n",
       "      <td>AA</td>\n",
       "      <td>American Airlines Inc.</td>\n",
       "      <td>11348.0</td>\n",
       "      <td>75472</td>\n",
       "    </tr>\n",
       "    <tr>\n",
       "      <td>AS</td>\n",
       "      <td>Alaska Airlines Inc.</td>\n",
       "      <td>4393.0</td>\n",
       "      <td>20783</td>\n",
       "    </tr>\n",
       "    <tr>\n",
       "      <td>B6</td>\n",
       "      <td>JetBlue Airways</td>\n",
       "      <td>3675.0</td>\n",
       "      <td>24621</td>\n",
       "    </tr>\n",
       "    <tr>\n",
       "      <td>DL</td>\n",
       "      <td>Delta Air Lines Inc.</td>\n",
       "      <td>8459.0</td>\n",
       "      <td>79928</td>\n",
       "    </tr>\n",
       "    <tr>\n",
       "      <td>EV</td>\n",
       "      <td>ExpressJet Airlines LLC</td>\n",
       "      <td>1601.0</td>\n",
       "      <td>10376</td>\n",
       "    </tr>\n",
       "    <tr>\n",
       "      <td>F9</td>\n",
       "      <td>Frontier Airlines Inc.</td>\n",
       "      <td>1795.0</td>\n",
       "      <td>12312</td>\n",
       "    </tr>\n",
       "    <tr>\n",
       "      <td>G4</td>\n",
       "      <td>Allegiant Air</td>\n",
       "      <td>1538.0</td>\n",
       "      <td>7663</td>\n",
       "    </tr>\n",
       "    <tr>\n",
       "      <td>HA</td>\n",
       "      <td>Hawaiian Airlines Inc.</td>\n",
       "      <td>688.0</td>\n",
       "      <td>7015</td>\n",
       "    </tr>\n",
       "    <tr>\n",
       "      <td>MQ</td>\n",
       "      <td>Envoy Air</td>\n",
       "      <td>4979.0</td>\n",
       "      <td>25284</td>\n",
       "    </tr>\n",
       "    <tr>\n",
       "      <td>NK</td>\n",
       "      <td>Spirit Air Lines</td>\n",
       "      <td>2334.0</td>\n",
       "      <td>17333</td>\n",
       "    </tr>\n",
       "    <tr>\n",
       "      <td>OH</td>\n",
       "      <td>Comair Inc.</td>\n",
       "      <td>5166.0</td>\n",
       "      <td>23999</td>\n",
       "    </tr>\n",
       "    <tr>\n",
       "      <td>OO</td>\n",
       "      <td>SkyWest Airlines Inc.</td>\n",
       "      <td>10692.0</td>\n",
       "      <td>69501</td>\n",
       "    </tr>\n",
       "    <tr>\n",
       "      <td>UA</td>\n",
       "      <td>United Air Lines Inc.</td>\n",
       "      <td>6235.0</td>\n",
       "      <td>48019</td>\n",
       "    </tr>\n",
       "    <tr>\n",
       "      <td>WN</td>\n",
       "      <td>Southwest Airlines Co.</td>\n",
       "      <td>10321.0</td>\n",
       "      <td>107708</td>\n",
       "    </tr>\n",
       "    <tr>\n",
       "      <td>YV</td>\n",
       "      <td>Mesa Airlines Inc.</td>\n",
       "      <td>3118.0</td>\n",
       "      <td>17473</td>\n",
       "    </tr>\n",
       "    <tr>\n",
       "      <td>YX</td>\n",
       "      <td>Republic Airline</td>\n",
       "      <td>3428.0</td>\n",
       "      <td>28826</td>\n",
       "    </tr>\n",
       "  </tbody>\n",
       "</table>\n",
       "</div>"
      ],
      "text/plain": [
       "                                     sum   count\n",
       "carrier carrier_name                            \n",
       "9E      Endeavor Air Inc.         2515.0   22955\n",
       "AA      American Airlines Inc.   11348.0   75472\n",
       "AS      Alaska Airlines Inc.      4393.0   20783\n",
       "B6      JetBlue Airways           3675.0   24621\n",
       "DL      Delta Air Lines Inc.      8459.0   79928\n",
       "EV      ExpressJet Airlines LLC   1601.0   10376\n",
       "F9      Frontier Airlines Inc.    1795.0   12312\n",
       "G4      Allegiant Air             1538.0    7663\n",
       "HA      Hawaiian Airlines Inc.     688.0    7015\n",
       "MQ      Envoy Air                 4979.0   25284\n",
       "NK      Spirit Air Lines          2334.0   17333\n",
       "OH      Comair Inc.               5166.0   23999\n",
       "OO      SkyWest Airlines Inc.    10692.0   69501\n",
       "UA      United Air Lines Inc.     6235.0   48019\n",
       "WN      Southwest Airlines Co.   10321.0  107708\n",
       "YV      Mesa Airlines Inc.        3118.0   17473\n",
       "YX      Republic Airline          3428.0   28826"
      ]
     },
     "execution_count": 114,
     "metadata": {},
     "output_type": "execute_result"
    }
   ],
   "source": [
    "new_df = flight_airline.groupby(['carrier','carrier_name'])['ARR_DEL15'].agg(['sum','count'])\n",
    "new_df"
   ]
  },
  {
   "cell_type": "markdown",
   "metadata": {},
   "source": [
    "Now, ```new_df``` has columns: ```carrier```, ```carrier_name```, ```sum```, and ```count```.\n",
    "\n",
    "We will create another column called ```delay %``` using sum and count columns!"
   ]
  },
  {
   "cell_type": "code",
   "execution_count": 115,
   "metadata": {},
   "outputs": [],
   "source": [
    "new_df['delay %'] = new_df['sum'] / new_df['count']"
   ]
  },
  {
   "cell_type": "code",
   "execution_count": 116,
   "metadata": {},
   "outputs": [
    {
     "data": {
      "text/html": [
       "<div>\n",
       "<style scoped>\n",
       "    .dataframe tbody tr th:only-of-type {\n",
       "        vertical-align: middle;\n",
       "    }\n",
       "\n",
       "    .dataframe tbody tr th {\n",
       "        vertical-align: top;\n",
       "    }\n",
       "\n",
       "    .dataframe thead th {\n",
       "        text-align: right;\n",
       "    }\n",
       "</style>\n",
       "<table border=\"1\" class=\"dataframe\">\n",
       "  <thead>\n",
       "    <tr style=\"text-align: right;\">\n",
       "      <th></th>\n",
       "      <th></th>\n",
       "      <th>sum</th>\n",
       "      <th>count</th>\n",
       "      <th>delay %</th>\n",
       "    </tr>\n",
       "    <tr>\n",
       "      <th>carrier</th>\n",
       "      <th>carrier_name</th>\n",
       "      <th></th>\n",
       "      <th></th>\n",
       "      <th></th>\n",
       "    </tr>\n",
       "  </thead>\n",
       "  <tbody>\n",
       "    <tr>\n",
       "      <td>9E</td>\n",
       "      <td>Endeavor Air Inc.</td>\n",
       "      <td>2515.0</td>\n",
       "      <td>22955</td>\n",
       "      <td>0.109562</td>\n",
       "    </tr>\n",
       "    <tr>\n",
       "      <td>AA</td>\n",
       "      <td>American Airlines Inc.</td>\n",
       "      <td>11348.0</td>\n",
       "      <td>75472</td>\n",
       "      <td>0.150360</td>\n",
       "    </tr>\n",
       "    <tr>\n",
       "      <td>AS</td>\n",
       "      <td>Alaska Airlines Inc.</td>\n",
       "      <td>4393.0</td>\n",
       "      <td>20783</td>\n",
       "      <td>0.211375</td>\n",
       "    </tr>\n",
       "    <tr>\n",
       "      <td>B6</td>\n",
       "      <td>JetBlue Airways</td>\n",
       "      <td>3675.0</td>\n",
       "      <td>24621</td>\n",
       "      <td>0.149263</td>\n",
       "    </tr>\n",
       "    <tr>\n",
       "      <td>DL</td>\n",
       "      <td>Delta Air Lines Inc.</td>\n",
       "      <td>8459.0</td>\n",
       "      <td>79928</td>\n",
       "      <td>0.105833</td>\n",
       "    </tr>\n",
       "    <tr>\n",
       "      <td>EV</td>\n",
       "      <td>ExpressJet Airlines LLC</td>\n",
       "      <td>1601.0</td>\n",
       "      <td>10376</td>\n",
       "      <td>0.154298</td>\n",
       "    </tr>\n",
       "    <tr>\n",
       "      <td>F9</td>\n",
       "      <td>Frontier Airlines Inc.</td>\n",
       "      <td>1795.0</td>\n",
       "      <td>12312</td>\n",
       "      <td>0.145793</td>\n",
       "    </tr>\n",
       "    <tr>\n",
       "      <td>G4</td>\n",
       "      <td>Allegiant Air</td>\n",
       "      <td>1538.0</td>\n",
       "      <td>7663</td>\n",
       "      <td>0.200705</td>\n",
       "    </tr>\n",
       "    <tr>\n",
       "      <td>HA</td>\n",
       "      <td>Hawaiian Airlines Inc.</td>\n",
       "      <td>688.0</td>\n",
       "      <td>7015</td>\n",
       "      <td>0.098076</td>\n",
       "    </tr>\n",
       "    <tr>\n",
       "      <td>MQ</td>\n",
       "      <td>Envoy Air</td>\n",
       "      <td>4979.0</td>\n",
       "      <td>25284</td>\n",
       "      <td>0.196923</td>\n",
       "    </tr>\n",
       "    <tr>\n",
       "      <td>NK</td>\n",
       "      <td>Spirit Air Lines</td>\n",
       "      <td>2334.0</td>\n",
       "      <td>17333</td>\n",
       "      <td>0.134656</td>\n",
       "    </tr>\n",
       "    <tr>\n",
       "      <td>OH</td>\n",
       "      <td>Comair Inc.</td>\n",
       "      <td>5166.0</td>\n",
       "      <td>23999</td>\n",
       "      <td>0.215259</td>\n",
       "    </tr>\n",
       "    <tr>\n",
       "      <td>OO</td>\n",
       "      <td>SkyWest Airlines Inc.</td>\n",
       "      <td>10692.0</td>\n",
       "      <td>69501</td>\n",
       "      <td>0.153840</td>\n",
       "    </tr>\n",
       "    <tr>\n",
       "      <td>UA</td>\n",
       "      <td>United Air Lines Inc.</td>\n",
       "      <td>6235.0</td>\n",
       "      <td>48019</td>\n",
       "      <td>0.129844</td>\n",
       "    </tr>\n",
       "    <tr>\n",
       "      <td>WN</td>\n",
       "      <td>Southwest Airlines Co.</td>\n",
       "      <td>10321.0</td>\n",
       "      <td>107708</td>\n",
       "      <td>0.095824</td>\n",
       "    </tr>\n",
       "    <tr>\n",
       "      <td>YV</td>\n",
       "      <td>Mesa Airlines Inc.</td>\n",
       "      <td>3118.0</td>\n",
       "      <td>17473</td>\n",
       "      <td>0.178447</td>\n",
       "    </tr>\n",
       "    <tr>\n",
       "      <td>YX</td>\n",
       "      <td>Republic Airline</td>\n",
       "      <td>3428.0</td>\n",
       "      <td>28826</td>\n",
       "      <td>0.118920</td>\n",
       "    </tr>\n",
       "  </tbody>\n",
       "</table>\n",
       "</div>"
      ],
      "text/plain": [
       "                                     sum   count   delay %\n",
       "carrier carrier_name                                      \n",
       "9E      Endeavor Air Inc.         2515.0   22955  0.109562\n",
       "AA      American Airlines Inc.   11348.0   75472  0.150360\n",
       "AS      Alaska Airlines Inc.      4393.0   20783  0.211375\n",
       "B6      JetBlue Airways           3675.0   24621  0.149263\n",
       "DL      Delta Air Lines Inc.      8459.0   79928  0.105833\n",
       "EV      ExpressJet Airlines LLC   1601.0   10376  0.154298\n",
       "F9      Frontier Airlines Inc.    1795.0   12312  0.145793\n",
       "G4      Allegiant Air             1538.0    7663  0.200705\n",
       "HA      Hawaiian Airlines Inc.     688.0    7015  0.098076\n",
       "MQ      Envoy Air                 4979.0   25284  0.196923\n",
       "NK      Spirit Air Lines          2334.0   17333  0.134656\n",
       "OH      Comair Inc.               5166.0   23999  0.215259\n",
       "OO      SkyWest Airlines Inc.    10692.0   69501  0.153840\n",
       "UA      United Air Lines Inc.     6235.0   48019  0.129844\n",
       "WN      Southwest Airlines Co.   10321.0  107708  0.095824\n",
       "YV      Mesa Airlines Inc.        3118.0   17473  0.178447\n",
       "YX      Republic Airline          3428.0   28826  0.118920"
      ]
     },
     "execution_count": 116,
     "metadata": {},
     "output_type": "execute_result"
    }
   ],
   "source": [
    "new_df"
   ]
  },
  {
   "cell_type": "markdown",
   "metadata": {},
   "source": [
    "Tada! We've successfully added a ```delay %``` column! Let's sort the dataframe in a descending order to find out airlines with highest delay %!"
   ]
  },
  {
   "cell_type": "code",
   "execution_count": 117,
   "metadata": {},
   "outputs": [
    {
     "data": {
      "text/html": [
       "<div>\n",
       "<style scoped>\n",
       "    .dataframe tbody tr th:only-of-type {\n",
       "        vertical-align: middle;\n",
       "    }\n",
       "\n",
       "    .dataframe tbody tr th {\n",
       "        vertical-align: top;\n",
       "    }\n",
       "\n",
       "    .dataframe thead th {\n",
       "        text-align: right;\n",
       "    }\n",
       "</style>\n",
       "<table border=\"1\" class=\"dataframe\">\n",
       "  <thead>\n",
       "    <tr style=\"text-align: right;\">\n",
       "      <th></th>\n",
       "      <th></th>\n",
       "      <th>sum</th>\n",
       "      <th>count</th>\n",
       "      <th>delay %</th>\n",
       "    </tr>\n",
       "    <tr>\n",
       "      <th>carrier</th>\n",
       "      <th>carrier_name</th>\n",
       "      <th></th>\n",
       "      <th></th>\n",
       "      <th></th>\n",
       "    </tr>\n",
       "  </thead>\n",
       "  <tbody>\n",
       "    <tr>\n",
       "      <td>OH</td>\n",
       "      <td>Comair Inc.</td>\n",
       "      <td>5166.0</td>\n",
       "      <td>23999</td>\n",
       "      <td>0.215259</td>\n",
       "    </tr>\n",
       "    <tr>\n",
       "      <td>AS</td>\n",
       "      <td>Alaska Airlines Inc.</td>\n",
       "      <td>4393.0</td>\n",
       "      <td>20783</td>\n",
       "      <td>0.211375</td>\n",
       "    </tr>\n",
       "    <tr>\n",
       "      <td>G4</td>\n",
       "      <td>Allegiant Air</td>\n",
       "      <td>1538.0</td>\n",
       "      <td>7663</td>\n",
       "      <td>0.200705</td>\n",
       "    </tr>\n",
       "    <tr>\n",
       "      <td>MQ</td>\n",
       "      <td>Envoy Air</td>\n",
       "      <td>4979.0</td>\n",
       "      <td>25284</td>\n",
       "      <td>0.196923</td>\n",
       "    </tr>\n",
       "    <tr>\n",
       "      <td>YV</td>\n",
       "      <td>Mesa Airlines Inc.</td>\n",
       "      <td>3118.0</td>\n",
       "      <td>17473</td>\n",
       "      <td>0.178447</td>\n",
       "    </tr>\n",
       "    <tr>\n",
       "      <td>EV</td>\n",
       "      <td>ExpressJet Airlines LLC</td>\n",
       "      <td>1601.0</td>\n",
       "      <td>10376</td>\n",
       "      <td>0.154298</td>\n",
       "    </tr>\n",
       "    <tr>\n",
       "      <td>OO</td>\n",
       "      <td>SkyWest Airlines Inc.</td>\n",
       "      <td>10692.0</td>\n",
       "      <td>69501</td>\n",
       "      <td>0.153840</td>\n",
       "    </tr>\n",
       "    <tr>\n",
       "      <td>AA</td>\n",
       "      <td>American Airlines Inc.</td>\n",
       "      <td>11348.0</td>\n",
       "      <td>75472</td>\n",
       "      <td>0.150360</td>\n",
       "    </tr>\n",
       "    <tr>\n",
       "      <td>B6</td>\n",
       "      <td>JetBlue Airways</td>\n",
       "      <td>3675.0</td>\n",
       "      <td>24621</td>\n",
       "      <td>0.149263</td>\n",
       "    </tr>\n",
       "    <tr>\n",
       "      <td>F9</td>\n",
       "      <td>Frontier Airlines Inc.</td>\n",
       "      <td>1795.0</td>\n",
       "      <td>12312</td>\n",
       "      <td>0.145793</td>\n",
       "    </tr>\n",
       "    <tr>\n",
       "      <td>NK</td>\n",
       "      <td>Spirit Air Lines</td>\n",
       "      <td>2334.0</td>\n",
       "      <td>17333</td>\n",
       "      <td>0.134656</td>\n",
       "    </tr>\n",
       "    <tr>\n",
       "      <td>UA</td>\n",
       "      <td>United Air Lines Inc.</td>\n",
       "      <td>6235.0</td>\n",
       "      <td>48019</td>\n",
       "      <td>0.129844</td>\n",
       "    </tr>\n",
       "    <tr>\n",
       "      <td>YX</td>\n",
       "      <td>Republic Airline</td>\n",
       "      <td>3428.0</td>\n",
       "      <td>28826</td>\n",
       "      <td>0.118920</td>\n",
       "    </tr>\n",
       "    <tr>\n",
       "      <td>9E</td>\n",
       "      <td>Endeavor Air Inc.</td>\n",
       "      <td>2515.0</td>\n",
       "      <td>22955</td>\n",
       "      <td>0.109562</td>\n",
       "    </tr>\n",
       "    <tr>\n",
       "      <td>DL</td>\n",
       "      <td>Delta Air Lines Inc.</td>\n",
       "      <td>8459.0</td>\n",
       "      <td>79928</td>\n",
       "      <td>0.105833</td>\n",
       "    </tr>\n",
       "    <tr>\n",
       "      <td>HA</td>\n",
       "      <td>Hawaiian Airlines Inc.</td>\n",
       "      <td>688.0</td>\n",
       "      <td>7015</td>\n",
       "      <td>0.098076</td>\n",
       "    </tr>\n",
       "    <tr>\n",
       "      <td>WN</td>\n",
       "      <td>Southwest Airlines Co.</td>\n",
       "      <td>10321.0</td>\n",
       "      <td>107708</td>\n",
       "      <td>0.095824</td>\n",
       "    </tr>\n",
       "  </tbody>\n",
       "</table>\n",
       "</div>"
      ],
      "text/plain": [
       "                                     sum   count   delay %\n",
       "carrier carrier_name                                      \n",
       "OH      Comair Inc.               5166.0   23999  0.215259\n",
       "AS      Alaska Airlines Inc.      4393.0   20783  0.211375\n",
       "G4      Allegiant Air             1538.0    7663  0.200705\n",
       "MQ      Envoy Air                 4979.0   25284  0.196923\n",
       "YV      Mesa Airlines Inc.        3118.0   17473  0.178447\n",
       "EV      ExpressJet Airlines LLC   1601.0   10376  0.154298\n",
       "OO      SkyWest Airlines Inc.    10692.0   69501  0.153840\n",
       "AA      American Airlines Inc.   11348.0   75472  0.150360\n",
       "B6      JetBlue Airways           3675.0   24621  0.149263\n",
       "F9      Frontier Airlines Inc.    1795.0   12312  0.145793\n",
       "NK      Spirit Air Lines          2334.0   17333  0.134656\n",
       "UA      United Air Lines Inc.     6235.0   48019  0.129844\n",
       "YX      Republic Airline          3428.0   28826  0.118920\n",
       "9E      Endeavor Air Inc.         2515.0   22955  0.109562\n",
       "DL      Delta Air Lines Inc.      8459.0   79928  0.105833\n",
       "HA      Hawaiian Airlines Inc.     688.0    7015  0.098076\n",
       "WN      Southwest Airlines Co.   10321.0  107708  0.095824"
      ]
     },
     "execution_count": 117,
     "metadata": {},
     "output_type": "execute_result"
    }
   ],
   "source": [
    "new_df.sort_values(by=['delay %'], ascending=False)"
   ]
  },
  {
   "cell_type": "markdown",
   "metadata": {},
   "source": [
    "### What day of a week experience most delays? \n",
    "\n",
    "Let's find out what day of a week experience most delays!\n",
    "\n",
    "In the data world, this question can be answered if we can find ```# delays by the day of a week```."
   ]
  },
  {
   "cell_type": "markdown",
   "metadata": {},
   "source": [
    "To answer this question, we can use groupby function, but should we use ```sum```? ```count```? or ```mean```?\n",
    "\n",
    "- ```sum```: The first thing that came to my mind is that we can use ```sum```. But similar to the question above, each day of a week has a different number of flights each day. (Ex: there would be more flights scheduled on weekends.) ```Sum``` is not the most appropriate function to use here.\n",
    "\n",
    "\n",
    "- ```count```: We can count the number of flights and divide ```sum(delayed flights)``` by ```count``` (similar to what we just did)\n",
    "\n",
    "\n",
    "- ```mean```: What if we use ```mean```? We can get the average delay percentage of each day and this is what we are looking for!\n",
    "\n"
   ]
  },
  {
   "cell_type": "code",
   "execution_count": 118,
   "metadata": {},
   "outputs": [
    {
     "data": {
      "text/plain": [
       "DAY_OF_WEEK\n",
       "1    0.133963\n",
       "2    0.098135\n",
       "3    0.097656\n",
       "4    0.137520\n",
       "5    0.161769\n",
       "6    0.211572\n",
       "7    0.135598\n",
       "Name: ARR_DEL15, dtype: float64"
      ]
     },
     "execution_count": 118,
     "metadata": {},
     "output_type": "execute_result"
    }
   ],
   "source": [
    "flight_airline.groupby(['DAY_OF_WEEK'])['ARR_DEL15'].mean()"
   ]
  },
  {
   "cell_type": "markdown",
   "metadata": {},
   "source": [
    "To confirm that ```mean``` returns same value as ```sum / count```, let's check ```sum / count``` real quick."
   ]
  },
  {
   "cell_type": "code",
   "execution_count": 119,
   "metadata": {},
   "outputs": [
    {
     "data": {
      "text/plain": [
       "DAY_OF_WEEK\n",
       "1    0.133963\n",
       "2    0.098135\n",
       "3    0.097656\n",
       "4    0.137520\n",
       "5    0.161769\n",
       "6    0.211572\n",
       "7    0.135598\n",
       "Name: ARR_DEL15, dtype: float64"
      ]
     },
     "execution_count": 119,
     "metadata": {},
     "output_type": "execute_result"
    }
   ],
   "source": [
    "flight_airline.groupby(['DAY_OF_WEEK'])['ARR_DEL15'].sum() / flight_airline.groupby(['DAY_OF_WEEK'])['ARR_DEL15'].count()"
   ]
  },
  {
   "cell_type": "markdown",
   "metadata": {},
   "source": [
    "Yay! It returns same answer as above!\n",
    "\n",
    "Saturday has the highest delay percentage while Wednesday has the lowest delay percentage!"
   ]
  },
  {
   "cell_type": "markdown",
   "metadata": {},
   "source": [
    "### What origins experience most delays? \n",
    "\n",
    "Let's find out what origins experience most delays?\n",
    "\n",
    "Knowing this might help when we book a flight later! :)\n",
    "\n",
    "Since we are dealing with **Origin** airport this time, it's appropriate to use ```DEP_DEL15```"
   ]
  },
  {
   "cell_type": "code",
   "execution_count": 120,
   "metadata": {},
   "outputs": [
    {
     "data": {
      "text/plain": [
       "ORIGIN\n",
       "ABE    0.178273\n",
       "ABI    0.190184\n",
       "ABQ    0.099070\n",
       "ABR    0.250000\n",
       "ABY    0.059524\n",
       "         ...   \n",
       "WRG    0.189655\n",
       "XNA    0.119005\n",
       "XWA    0.238806\n",
       "YAK    0.211538\n",
       "YUM    0.139785\n",
       "Name: DEP_DEL15, Length: 351, dtype: float64"
      ]
     },
     "execution_count": 120,
     "metadata": {},
     "output_type": "execute_result"
    }
   ],
   "source": [
    "flight_airline.groupby(['ORIGIN'])['DEP_DEL15'].mean()"
   ]
  },
  {
   "cell_type": "code",
   "execution_count": 121,
   "metadata": {
    "scrolled": true
   },
   "outputs": [
    {
     "data": {
      "text/plain": [
       "ORIGIN\n",
       "ADK    0.333333\n",
       "OTH    0.333333\n",
       "OGD    0.333333\n",
       "PPG    0.333333\n",
       "ASE    0.303813\n",
       "         ...   \n",
       "CPR    0.038095\n",
       "CDC    0.037037\n",
       "UIN    0.000000\n",
       "COD    0.000000\n",
       "OWB    0.000000\n",
       "Name: DEP_DEL15, Length: 351, dtype: float64"
      ]
     },
     "execution_count": 121,
     "metadata": {},
     "output_type": "execute_result"
    }
   ],
   "source": [
    "flight_airline.groupby(['ORIGIN'])['DEP_DEL15'].mean().sort_values(ascending=False)"
   ]
  },
  {
   "cell_type": "markdown",
   "metadata": {},
   "source": [
    "This resulting Series show Origin airports and the corresponding delay %.\n",
    "\n",
    "Since we don't know all of the airport names from the codes, we can join this Series to the dataset that has airport codes and airport names."
   ]
  },
  {
   "cell_type": "markdown",
   "metadata": {},
   "source": [
    "## Filtering based on condition\n",
    "\n",
    "- Which airports have delay percentages of 30% or more?"
   ]
  },
  {
   "cell_type": "markdown",
   "metadata": {},
   "source": [
    "### Which airports have delay percentages of 30% or more?\n",
    "\n",
    "```airline_delay_causes.csv``` has lots of useful information, but we will extract airport codes and airport names only."
   ]
  },
  {
   "cell_type": "code",
   "execution_count": 122,
   "metadata": {},
   "outputs": [],
   "source": [
    "airport_codes = pd.read_csv('data/airline_delay_causes.csv')"
   ]
  },
  {
   "cell_type": "code",
   "execution_count": 123,
   "metadata": {
    "scrolled": true
   },
   "outputs": [
    {
     "data": {
      "text/html": [
       "<div>\n",
       "<style scoped>\n",
       "    .dataframe tbody tr th:only-of-type {\n",
       "        vertical-align: middle;\n",
       "    }\n",
       "\n",
       "    .dataframe tbody tr th {\n",
       "        vertical-align: top;\n",
       "    }\n",
       "\n",
       "    .dataframe thead th {\n",
       "        text-align: right;\n",
       "    }\n",
       "</style>\n",
       "<table border=\"1\" class=\"dataframe\">\n",
       "  <thead>\n",
       "    <tr style=\"text-align: right;\">\n",
       "      <th></th>\n",
       "      <th>year</th>\n",
       "      <th>month</th>\n",
       "      <th>carrier</th>\n",
       "      <th>carrier_name</th>\n",
       "      <th>airport</th>\n",
       "      <th>airport_name</th>\n",
       "      <th>arr_flights</th>\n",
       "      <th>arr_del15</th>\n",
       "      <th>carrier_ct</th>\n",
       "      <th>weather_ct</th>\n",
       "      <th>...</th>\n",
       "      <th>late_aircraft_ct</th>\n",
       "      <th>arr_cancelled</th>\n",
       "      <th>arr_diverted</th>\n",
       "      <th>arr_delay</th>\n",
       "      <th>carrier_delay</th>\n",
       "      <th>weather_delay</th>\n",
       "      <th>nas_delay</th>\n",
       "      <th>security_delay</th>\n",
       "      <th>late_aircraft_delay</th>\n",
       "      <th>Unnamed: 21</th>\n",
       "    </tr>\n",
       "  </thead>\n",
       "  <tbody>\n",
       "    <tr>\n",
       "      <td>0</td>\n",
       "      <td>2004</td>\n",
       "      <td>1</td>\n",
       "      <td>DL</td>\n",
       "      <td>Delta Air Lines Inc.</td>\n",
       "      <td>PBI</td>\n",
       "      <td>West Palm Beach/Palm Beach, FL: Palm Beach Int...</td>\n",
       "      <td>650.0</td>\n",
       "      <td>126.0</td>\n",
       "      <td>21.06</td>\n",
       "      <td>6.44</td>\n",
       "      <td>...</td>\n",
       "      <td>45.92</td>\n",
       "      <td>4.0</td>\n",
       "      <td>0.0</td>\n",
       "      <td>5425.0</td>\n",
       "      <td>881.0</td>\n",
       "      <td>397.0</td>\n",
       "      <td>2016.0</td>\n",
       "      <td>15.0</td>\n",
       "      <td>2116.0</td>\n",
       "      <td>NaN</td>\n",
       "    </tr>\n",
       "    <tr>\n",
       "      <td>1</td>\n",
       "      <td>2004</td>\n",
       "      <td>1</td>\n",
       "      <td>DL</td>\n",
       "      <td>Delta Air Lines Inc.</td>\n",
       "      <td>PDX</td>\n",
       "      <td>Portland, OR: Portland International</td>\n",
       "      <td>314.0</td>\n",
       "      <td>61.0</td>\n",
       "      <td>14.09</td>\n",
       "      <td>2.61</td>\n",
       "      <td>...</td>\n",
       "      <td>10.05</td>\n",
       "      <td>30.0</td>\n",
       "      <td>3.0</td>\n",
       "      <td>2801.0</td>\n",
       "      <td>478.0</td>\n",
       "      <td>239.0</td>\n",
       "      <td>1365.0</td>\n",
       "      <td>0.0</td>\n",
       "      <td>719.0</td>\n",
       "      <td>NaN</td>\n",
       "    </tr>\n",
       "    <tr>\n",
       "      <td>2</td>\n",
       "      <td>2004</td>\n",
       "      <td>1</td>\n",
       "      <td>DL</td>\n",
       "      <td>Delta Air Lines Inc.</td>\n",
       "      <td>PHL</td>\n",
       "      <td>Philadelphia, PA: Philadelphia International</td>\n",
       "      <td>513.0</td>\n",
       "      <td>97.0</td>\n",
       "      <td>27.60</td>\n",
       "      <td>0.42</td>\n",
       "      <td>...</td>\n",
       "      <td>17.12</td>\n",
       "      <td>15.0</td>\n",
       "      <td>0.0</td>\n",
       "      <td>4261.0</td>\n",
       "      <td>1150.0</td>\n",
       "      <td>16.0</td>\n",
       "      <td>2286.0</td>\n",
       "      <td>0.0</td>\n",
       "      <td>809.0</td>\n",
       "      <td>NaN</td>\n",
       "    </tr>\n",
       "    <tr>\n",
       "      <td>3</td>\n",
       "      <td>2004</td>\n",
       "      <td>1</td>\n",
       "      <td>DL</td>\n",
       "      <td>Delta Air Lines Inc.</td>\n",
       "      <td>PHX</td>\n",
       "      <td>Phoenix, AZ: Phoenix Sky Harbor International</td>\n",
       "      <td>334.0</td>\n",
       "      <td>78.0</td>\n",
       "      <td>20.14</td>\n",
       "      <td>2.02</td>\n",
       "      <td>...</td>\n",
       "      <td>16.45</td>\n",
       "      <td>3.0</td>\n",
       "      <td>1.0</td>\n",
       "      <td>3400.0</td>\n",
       "      <td>1159.0</td>\n",
       "      <td>166.0</td>\n",
       "      <td>1295.0</td>\n",
       "      <td>0.0</td>\n",
       "      <td>780.0</td>\n",
       "      <td>NaN</td>\n",
       "    </tr>\n",
       "    <tr>\n",
       "      <td>4</td>\n",
       "      <td>2004</td>\n",
       "      <td>1</td>\n",
       "      <td>DL</td>\n",
       "      <td>Delta Air Lines Inc.</td>\n",
       "      <td>PIT</td>\n",
       "      <td>Pittsburgh, PA: Pittsburgh International</td>\n",
       "      <td>217.0</td>\n",
       "      <td>47.0</td>\n",
       "      <td>8.08</td>\n",
       "      <td>0.44</td>\n",
       "      <td>...</td>\n",
       "      <td>16.59</td>\n",
       "      <td>4.0</td>\n",
       "      <td>1.0</td>\n",
       "      <td>1737.0</td>\n",
       "      <td>350.0</td>\n",
       "      <td>28.0</td>\n",
       "      <td>522.0</td>\n",
       "      <td>0.0</td>\n",
       "      <td>837.0</td>\n",
       "      <td>NaN</td>\n",
       "    </tr>\n",
       "  </tbody>\n",
       "</table>\n",
       "<p>5 rows × 22 columns</p>\n",
       "</div>"
      ],
      "text/plain": [
       "   year   month carrier          carrier_name airport  \\\n",
       "0  2004       1      DL  Delta Air Lines Inc.     PBI   \n",
       "1  2004       1      DL  Delta Air Lines Inc.     PDX   \n",
       "2  2004       1      DL  Delta Air Lines Inc.     PHL   \n",
       "3  2004       1      DL  Delta Air Lines Inc.     PHX   \n",
       "4  2004       1      DL  Delta Air Lines Inc.     PIT   \n",
       "\n",
       "                                        airport_name  arr_flights  arr_del15  \\\n",
       "0  West Palm Beach/Palm Beach, FL: Palm Beach Int...        650.0      126.0   \n",
       "1               Portland, OR: Portland International        314.0       61.0   \n",
       "2       Philadelphia, PA: Philadelphia International        513.0       97.0   \n",
       "3      Phoenix, AZ: Phoenix Sky Harbor International        334.0       78.0   \n",
       "4           Pittsburgh, PA: Pittsburgh International        217.0       47.0   \n",
       "\n",
       "   carrier_ct   weather_ct  ...  late_aircraft_ct  arr_cancelled  \\\n",
       "0       21.06         6.44  ...             45.92            4.0   \n",
       "1       14.09         2.61  ...             10.05           30.0   \n",
       "2       27.60         0.42  ...             17.12           15.0   \n",
       "3       20.14         2.02  ...             16.45            3.0   \n",
       "4        8.08         0.44  ...             16.59            4.0   \n",
       "\n",
       "   arr_diverted   arr_delay   carrier_delay  weather_delay  nas_delay  \\\n",
       "0           0.0      5425.0           881.0          397.0     2016.0   \n",
       "1           3.0      2801.0           478.0          239.0     1365.0   \n",
       "2           0.0      4261.0          1150.0           16.0     2286.0   \n",
       "3           1.0      3400.0          1159.0          166.0     1295.0   \n",
       "4           1.0      1737.0           350.0           28.0      522.0   \n",
       "\n",
       "   security_delay  late_aircraft_delay  Unnamed: 21  \n",
       "0            15.0               2116.0          NaN  \n",
       "1             0.0                719.0          NaN  \n",
       "2             0.0                809.0          NaN  \n",
       "3             0.0                780.0          NaN  \n",
       "4             0.0                837.0          NaN  \n",
       "\n",
       "[5 rows x 22 columns]"
      ]
     },
     "execution_count": 123,
     "metadata": {},
     "output_type": "execute_result"
    }
   ],
   "source": [
    "airport_codes.head()"
   ]
  },
  {
   "cell_type": "markdown",
   "metadata": {},
   "source": [
    "### 2.0 - Now Try This\n",
    "\n",
    "Using ```drop_duplicates()``` function, find a unique set of airport codes and airport names and save the dataframe as ```airport_names```."
   ]
  },
  {
   "cell_type": "code",
   "execution_count": 124,
   "metadata": {
    "scrolled": true
   },
   "outputs": [
    {
     "data": {
      "text/html": [
       "<div>\n",
       "<style scoped>\n",
       "    .dataframe tbody tr th:only-of-type {\n",
       "        vertical-align: middle;\n",
       "    }\n",
       "\n",
       "    .dataframe tbody tr th {\n",
       "        vertical-align: top;\n",
       "    }\n",
       "\n",
       "    .dataframe thead th {\n",
       "        text-align: right;\n",
       "    }\n",
       "</style>\n",
       "<table border=\"1\" class=\"dataframe\">\n",
       "  <thead>\n",
       "    <tr style=\"text-align: right;\">\n",
       "      <th></th>\n",
       "      <th>airport</th>\n",
       "      <th>airport_name</th>\n",
       "    </tr>\n",
       "  </thead>\n",
       "  <tbody>\n",
       "    <tr>\n",
       "      <td>0</td>\n",
       "      <td>PBI</td>\n",
       "      <td>West Palm Beach/Palm Beach, FL: Palm Beach Int...</td>\n",
       "    </tr>\n",
       "    <tr>\n",
       "      <td>1</td>\n",
       "      <td>PDX</td>\n",
       "      <td>Portland, OR: Portland International</td>\n",
       "    </tr>\n",
       "    <tr>\n",
       "      <td>2</td>\n",
       "      <td>PHL</td>\n",
       "      <td>Philadelphia, PA: Philadelphia International</td>\n",
       "    </tr>\n",
       "    <tr>\n",
       "      <td>3</td>\n",
       "      <td>PHX</td>\n",
       "      <td>Phoenix, AZ: Phoenix Sky Harbor International</td>\n",
       "    </tr>\n",
       "    <tr>\n",
       "      <td>4</td>\n",
       "      <td>PIT</td>\n",
       "      <td>Pittsburgh, PA: Pittsburgh International</td>\n",
       "    </tr>\n",
       "    <tr>\n",
       "      <td>...</td>\n",
       "      <td>...</td>\n",
       "      <td>...</td>\n",
       "    </tr>\n",
       "    <tr>\n",
       "      <td>147092</td>\n",
       "      <td>DUT</td>\n",
       "      <td>Unalaska, AK: Unalaska Airport</td>\n",
       "    </tr>\n",
       "    <tr>\n",
       "      <td>150875</td>\n",
       "      <td>HKY</td>\n",
       "      <td>Hickory, NC: Hickory Regional</td>\n",
       "    </tr>\n",
       "    <tr>\n",
       "      <td>157316</td>\n",
       "      <td>MTH</td>\n",
       "      <td>Marathon, FL: The Florida Keys Marathon Intern...</td>\n",
       "    </tr>\n",
       "    <tr>\n",
       "      <td>160027</td>\n",
       "      <td>GLH</td>\n",
       "      <td>Greenville, MS: Greenville Mid Delta</td>\n",
       "    </tr>\n",
       "    <tr>\n",
       "      <td>162721</td>\n",
       "      <td>MKC</td>\n",
       "      <td>Kansas City, MO: Charles B. Wheeler Downtown</td>\n",
       "    </tr>\n",
       "  </tbody>\n",
       "</table>\n",
       "<p>409 rows × 2 columns</p>\n",
       "</div>"
      ],
      "text/plain": [
       "       airport                                       airport_name\n",
       "0          PBI  West Palm Beach/Palm Beach, FL: Palm Beach Int...\n",
       "1          PDX               Portland, OR: Portland International\n",
       "2          PHL       Philadelphia, PA: Philadelphia International\n",
       "3          PHX      Phoenix, AZ: Phoenix Sky Harbor International\n",
       "4          PIT           Pittsburgh, PA: Pittsburgh International\n",
       "...        ...                                                ...\n",
       "147092     DUT                     Unalaska, AK: Unalaska Airport\n",
       "150875     HKY                      Hickory, NC: Hickory Regional\n",
       "157316     MTH  Marathon, FL: The Florida Keys Marathon Intern...\n",
       "160027     GLH               Greenville, MS: Greenville Mid Delta\n",
       "162721     MKC       Kansas City, MO: Charles B. Wheeler Downtown\n",
       "\n",
       "[409 rows x 2 columns]"
      ]
     },
     "execution_count": 124,
     "metadata": {},
     "output_type": "execute_result"
    }
   ],
   "source": [
    "airport_names = airport_codes[[\"airport\", \"airport_name\"]].drop_duplicates()\n",
    "airport_names"
   ]
  },
  {
   "cell_type": "markdown",
   "metadata": {},
   "source": [
    "The Series below is what we have found earlier -- delay % by each origin airport."
   ]
  },
  {
   "cell_type": "code",
   "execution_count": 125,
   "metadata": {},
   "outputs": [],
   "source": [
    "series = flight_airline.groupby(['ORIGIN'])['DEP_DEL15'].mean().sort_values(ascending=False)"
   ]
  },
  {
   "cell_type": "markdown",
   "metadata": {},
   "source": [
    "Let's convert the result of groupby aggregation to ```DataFrame``` using ```to_frame()``` function."
   ]
  },
  {
   "cell_type": "code",
   "execution_count": 126,
   "metadata": {},
   "outputs": [],
   "source": [
    "origin_delays = series.to_frame()"
   ]
  },
  {
   "cell_type": "code",
   "execution_count": 127,
   "metadata": {
    "scrolled": true
   },
   "outputs": [
    {
     "data": {
      "text/html": [
       "<div>\n",
       "<style scoped>\n",
       "    .dataframe tbody tr th:only-of-type {\n",
       "        vertical-align: middle;\n",
       "    }\n",
       "\n",
       "    .dataframe tbody tr th {\n",
       "        vertical-align: top;\n",
       "    }\n",
       "\n",
       "    .dataframe thead th {\n",
       "        text-align: right;\n",
       "    }\n",
       "</style>\n",
       "<table border=\"1\" class=\"dataframe\">\n",
       "  <thead>\n",
       "    <tr style=\"text-align: right;\">\n",
       "      <th></th>\n",
       "      <th>DEP_DEL15</th>\n",
       "    </tr>\n",
       "    <tr>\n",
       "      <th>ORIGIN</th>\n",
       "      <th></th>\n",
       "    </tr>\n",
       "  </thead>\n",
       "  <tbody>\n",
       "    <tr>\n",
       "      <td>ADK</td>\n",
       "      <td>0.333333</td>\n",
       "    </tr>\n",
       "    <tr>\n",
       "      <td>OTH</td>\n",
       "      <td>0.333333</td>\n",
       "    </tr>\n",
       "    <tr>\n",
       "      <td>OGD</td>\n",
       "      <td>0.333333</td>\n",
       "    </tr>\n",
       "    <tr>\n",
       "      <td>PPG</td>\n",
       "      <td>0.333333</td>\n",
       "    </tr>\n",
       "    <tr>\n",
       "      <td>ASE</td>\n",
       "      <td>0.303813</td>\n",
       "    </tr>\n",
       "    <tr>\n",
       "      <td>...</td>\n",
       "      <td>...</td>\n",
       "    </tr>\n",
       "    <tr>\n",
       "      <td>CPR</td>\n",
       "      <td>0.038095</td>\n",
       "    </tr>\n",
       "    <tr>\n",
       "      <td>CDC</td>\n",
       "      <td>0.037037</td>\n",
       "    </tr>\n",
       "    <tr>\n",
       "      <td>UIN</td>\n",
       "      <td>0.000000</td>\n",
       "    </tr>\n",
       "    <tr>\n",
       "      <td>COD</td>\n",
       "      <td>0.000000</td>\n",
       "    </tr>\n",
       "    <tr>\n",
       "      <td>OWB</td>\n",
       "      <td>0.000000</td>\n",
       "    </tr>\n",
       "  </tbody>\n",
       "</table>\n",
       "<p>351 rows × 1 columns</p>\n",
       "</div>"
      ],
      "text/plain": [
       "        DEP_DEL15\n",
       "ORIGIN           \n",
       "ADK      0.333333\n",
       "OTH      0.333333\n",
       "OGD      0.333333\n",
       "PPG      0.333333\n",
       "ASE      0.303813\n",
       "...           ...\n",
       "CPR      0.038095\n",
       "CDC      0.037037\n",
       "UIN      0.000000\n",
       "COD      0.000000\n",
       "OWB      0.000000\n",
       "\n",
       "[351 rows x 1 columns]"
      ]
     },
     "execution_count": 127,
     "metadata": {},
     "output_type": "execute_result"
    }
   ],
   "source": [
    "origin_delays"
   ]
  },
  {
   "cell_type": "markdown",
   "metadata": {},
   "source": [
    "Now, let's take a closer look at the question and break it down to smaller subproblems!\n",
    "\n",
    "**Which airports have delay percentages of 30% or more?**\n",
    "1. Find airport codes with a delay percentage greater than 30%.\n",
    "2. Join the resulting dataframe to ```airport_names``` to get airport names."
   ]
  },
  {
   "cell_type": "code",
   "execution_count": 128,
   "metadata": {},
   "outputs": [
    {
     "data": {
      "text/html": [
       "<div>\n",
       "<style scoped>\n",
       "    .dataframe tbody tr th:only-of-type {\n",
       "        vertical-align: middle;\n",
       "    }\n",
       "\n",
       "    .dataframe tbody tr th {\n",
       "        vertical-align: top;\n",
       "    }\n",
       "\n",
       "    .dataframe thead th {\n",
       "        text-align: right;\n",
       "    }\n",
       "</style>\n",
       "<table border=\"1\" class=\"dataframe\">\n",
       "  <thead>\n",
       "    <tr style=\"text-align: right;\">\n",
       "      <th></th>\n",
       "      <th>DEP_DEL15</th>\n",
       "    </tr>\n",
       "    <tr>\n",
       "      <th>ORIGIN</th>\n",
       "      <th></th>\n",
       "    </tr>\n",
       "  </thead>\n",
       "  <tbody>\n",
       "    <tr>\n",
       "      <td>ADK</td>\n",
       "      <td>0.333333</td>\n",
       "    </tr>\n",
       "    <tr>\n",
       "      <td>OTH</td>\n",
       "      <td>0.333333</td>\n",
       "    </tr>\n",
       "    <tr>\n",
       "      <td>OGD</td>\n",
       "      <td>0.333333</td>\n",
       "    </tr>\n",
       "    <tr>\n",
       "      <td>PPG</td>\n",
       "      <td>0.333333</td>\n",
       "    </tr>\n",
       "    <tr>\n",
       "      <td>ASE</td>\n",
       "      <td>0.303813</td>\n",
       "    </tr>\n",
       "  </tbody>\n",
       "</table>\n",
       "</div>"
      ],
      "text/plain": [
       "        DEP_DEL15\n",
       "ORIGIN           \n",
       "ADK      0.333333\n",
       "OTH      0.333333\n",
       "OGD      0.333333\n",
       "PPG      0.333333\n",
       "ASE      0.303813"
      ]
     },
     "execution_count": 128,
     "metadata": {},
     "output_type": "execute_result"
    }
   ],
   "source": [
    "airports_most_delays = origin_delays[origin_delays['DEP_DEL15'] > 0.3]\n",
    "airports_most_delays"
   ]
  },
  {
   "cell_type": "code",
   "execution_count": 129,
   "metadata": {},
   "outputs": [
    {
     "data": {
      "text/html": [
       "<div>\n",
       "<style scoped>\n",
       "    .dataframe tbody tr th:only-of-type {\n",
       "        vertical-align: middle;\n",
       "    }\n",
       "\n",
       "    .dataframe tbody tr th {\n",
       "        vertical-align: top;\n",
       "    }\n",
       "\n",
       "    .dataframe thead th {\n",
       "        text-align: right;\n",
       "    }\n",
       "</style>\n",
       "<table border=\"1\" class=\"dataframe\">\n",
       "  <thead>\n",
       "    <tr style=\"text-align: right;\">\n",
       "      <th></th>\n",
       "      <th>DEP_DEL15</th>\n",
       "      <th>airport</th>\n",
       "      <th>airport_name</th>\n",
       "    </tr>\n",
       "  </thead>\n",
       "  <tbody>\n",
       "    <tr>\n",
       "      <td>0</td>\n",
       "      <td>0.333333</td>\n",
       "      <td>ADK</td>\n",
       "      <td>Adak Island, AK: Adak</td>\n",
       "    </tr>\n",
       "    <tr>\n",
       "      <td>1</td>\n",
       "      <td>0.333333</td>\n",
       "      <td>OTH</td>\n",
       "      <td>North Bend/Coos Bay, OR: Southwest Oregon Regi...</td>\n",
       "    </tr>\n",
       "    <tr>\n",
       "      <td>2</td>\n",
       "      <td>0.333333</td>\n",
       "      <td>OGD</td>\n",
       "      <td>Ogden, UT: Ogden-Hinckley</td>\n",
       "    </tr>\n",
       "    <tr>\n",
       "      <td>3</td>\n",
       "      <td>0.333333</td>\n",
       "      <td>PPG</td>\n",
       "      <td>Pago Pago, TT: Pago Pago International</td>\n",
       "    </tr>\n",
       "    <tr>\n",
       "      <td>4</td>\n",
       "      <td>0.303813</td>\n",
       "      <td>ASE</td>\n",
       "      <td>Aspen, CO: Aspen Pitkin County Sardy Field</td>\n",
       "    </tr>\n",
       "  </tbody>\n",
       "</table>\n",
       "</div>"
      ],
      "text/plain": [
       "   DEP_DEL15 airport                                       airport_name\n",
       "0   0.333333     ADK                              Adak Island, AK: Adak\n",
       "1   0.333333     OTH  North Bend/Coos Bay, OR: Southwest Oregon Regi...\n",
       "2   0.333333     OGD                          Ogden, UT: Ogden-Hinckley\n",
       "3   0.333333     PPG             Pago Pago, TT: Pago Pago International\n",
       "4   0.303813     ASE         Aspen, CO: Aspen Pitkin County Sardy Field"
      ]
     },
     "execution_count": 129,
     "metadata": {},
     "output_type": "execute_result"
    }
   ],
   "source": [
    "pd.merge(airports_most_delays, airport_names, left_on=\"ORIGIN\", right_on = \"airport\")"
   ]
  },
  {
   "cell_type": "markdown",
   "metadata": {},
   "source": [
    "We've found that ADK, OTH, OGD, PPG, and ASE have highest delay percentages in the US!"
   ]
  },
  {
   "cell_type": "markdown",
   "metadata": {},
   "source": [
    "### Pop-up Question\n",
    "\n",
    "What if we want to find the delay percentage of a specific airport?\n",
    "\n",
    "Then we can select the origin airport code by using ```df[df[column_name]==\"ABC\"]```\n",
    "\n",
    "Let's check out the delay % of San Francisco airport."
   ]
  },
  {
   "cell_type": "code",
   "execution_count": 130,
   "metadata": {},
   "outputs": [
    {
     "ename": "KeyError",
     "evalue": "'ORIGIN'",
     "output_type": "error",
     "traceback": [
      "\u001b[0;31m---------------------------------------------------------------------------\u001b[0m",
      "\u001b[0;31mKeyError\u001b[0m                                  Traceback (most recent call last)",
      "\u001b[0;32m~/opt/anaconda3/lib/python3.7/site-packages/pandas/core/indexes/base.py\u001b[0m in \u001b[0;36mget_loc\u001b[0;34m(self, key, method, tolerance)\u001b[0m\n\u001b[1;32m   2896\u001b[0m             \u001b[0;32mtry\u001b[0m\u001b[0;34m:\u001b[0m\u001b[0;34m\u001b[0m\u001b[0;34m\u001b[0m\u001b[0m\n\u001b[0;32m-> 2897\u001b[0;31m                 \u001b[0;32mreturn\u001b[0m \u001b[0mself\u001b[0m\u001b[0;34m.\u001b[0m\u001b[0m_engine\u001b[0m\u001b[0;34m.\u001b[0m\u001b[0mget_loc\u001b[0m\u001b[0;34m(\u001b[0m\u001b[0mkey\u001b[0m\u001b[0;34m)\u001b[0m\u001b[0;34m\u001b[0m\u001b[0;34m\u001b[0m\u001b[0m\n\u001b[0m\u001b[1;32m   2898\u001b[0m             \u001b[0;32mexcept\u001b[0m \u001b[0mKeyError\u001b[0m\u001b[0;34m:\u001b[0m\u001b[0;34m\u001b[0m\u001b[0;34m\u001b[0m\u001b[0m\n",
      "\u001b[0;32mpandas/_libs/index.pyx\u001b[0m in \u001b[0;36mpandas._libs.index.IndexEngine.get_loc\u001b[0;34m()\u001b[0m\n",
      "\u001b[0;32mpandas/_libs/index.pyx\u001b[0m in \u001b[0;36mpandas._libs.index.IndexEngine.get_loc\u001b[0;34m()\u001b[0m\n",
      "\u001b[0;32mpandas/_libs/hashtable_class_helper.pxi\u001b[0m in \u001b[0;36mpandas._libs.hashtable.PyObjectHashTable.get_item\u001b[0;34m()\u001b[0m\n",
      "\u001b[0;32mpandas/_libs/hashtable_class_helper.pxi\u001b[0m in \u001b[0;36mpandas._libs.hashtable.PyObjectHashTable.get_item\u001b[0;34m()\u001b[0m\n",
      "\u001b[0;31mKeyError\u001b[0m: 'ORIGIN'",
      "\nDuring handling of the above exception, another exception occurred:\n",
      "\u001b[0;31mKeyError\u001b[0m                                  Traceback (most recent call last)",
      "\u001b[0;32m<ipython-input-130-81646e05ca58>\u001b[0m in \u001b[0;36m<module>\u001b[0;34m\u001b[0m\n\u001b[0;32m----> 1\u001b[0;31m \u001b[0morigin_delays\u001b[0m\u001b[0;34m[\u001b[0m\u001b[0morigin_delays\u001b[0m\u001b[0;34m[\u001b[0m\u001b[0;34m'ORIGIN'\u001b[0m\u001b[0;34m]\u001b[0m \u001b[0;34m==\u001b[0m \u001b[0;34m'SFO'\u001b[0m\u001b[0;34m]\u001b[0m\u001b[0;34m\u001b[0m\u001b[0;34m\u001b[0m\u001b[0m\n\u001b[0m",
      "\u001b[0;32m~/opt/anaconda3/lib/python3.7/site-packages/pandas/core/frame.py\u001b[0m in \u001b[0;36m__getitem__\u001b[0;34m(self, key)\u001b[0m\n\u001b[1;32m   2978\u001b[0m             \u001b[0;32mif\u001b[0m \u001b[0mself\u001b[0m\u001b[0;34m.\u001b[0m\u001b[0mcolumns\u001b[0m\u001b[0;34m.\u001b[0m\u001b[0mnlevels\u001b[0m \u001b[0;34m>\u001b[0m \u001b[0;36m1\u001b[0m\u001b[0;34m:\u001b[0m\u001b[0;34m\u001b[0m\u001b[0;34m\u001b[0m\u001b[0m\n\u001b[1;32m   2979\u001b[0m                 \u001b[0;32mreturn\u001b[0m \u001b[0mself\u001b[0m\u001b[0;34m.\u001b[0m\u001b[0m_getitem_multilevel\u001b[0m\u001b[0;34m(\u001b[0m\u001b[0mkey\u001b[0m\u001b[0;34m)\u001b[0m\u001b[0;34m\u001b[0m\u001b[0;34m\u001b[0m\u001b[0m\n\u001b[0;32m-> 2980\u001b[0;31m             \u001b[0mindexer\u001b[0m \u001b[0;34m=\u001b[0m \u001b[0mself\u001b[0m\u001b[0;34m.\u001b[0m\u001b[0mcolumns\u001b[0m\u001b[0;34m.\u001b[0m\u001b[0mget_loc\u001b[0m\u001b[0;34m(\u001b[0m\u001b[0mkey\u001b[0m\u001b[0;34m)\u001b[0m\u001b[0;34m\u001b[0m\u001b[0;34m\u001b[0m\u001b[0m\n\u001b[0m\u001b[1;32m   2981\u001b[0m             \u001b[0;32mif\u001b[0m \u001b[0mis_integer\u001b[0m\u001b[0;34m(\u001b[0m\u001b[0mindexer\u001b[0m\u001b[0;34m)\u001b[0m\u001b[0;34m:\u001b[0m\u001b[0;34m\u001b[0m\u001b[0;34m\u001b[0m\u001b[0m\n\u001b[1;32m   2982\u001b[0m                 \u001b[0mindexer\u001b[0m \u001b[0;34m=\u001b[0m \u001b[0;34m[\u001b[0m\u001b[0mindexer\u001b[0m\u001b[0;34m]\u001b[0m\u001b[0;34m\u001b[0m\u001b[0;34m\u001b[0m\u001b[0m\n",
      "\u001b[0;32m~/opt/anaconda3/lib/python3.7/site-packages/pandas/core/indexes/base.py\u001b[0m in \u001b[0;36mget_loc\u001b[0;34m(self, key, method, tolerance)\u001b[0m\n\u001b[1;32m   2897\u001b[0m                 \u001b[0;32mreturn\u001b[0m \u001b[0mself\u001b[0m\u001b[0;34m.\u001b[0m\u001b[0m_engine\u001b[0m\u001b[0;34m.\u001b[0m\u001b[0mget_loc\u001b[0m\u001b[0;34m(\u001b[0m\u001b[0mkey\u001b[0m\u001b[0;34m)\u001b[0m\u001b[0;34m\u001b[0m\u001b[0;34m\u001b[0m\u001b[0m\n\u001b[1;32m   2898\u001b[0m             \u001b[0;32mexcept\u001b[0m \u001b[0mKeyError\u001b[0m\u001b[0;34m:\u001b[0m\u001b[0;34m\u001b[0m\u001b[0;34m\u001b[0m\u001b[0m\n\u001b[0;32m-> 2899\u001b[0;31m                 \u001b[0;32mreturn\u001b[0m \u001b[0mself\u001b[0m\u001b[0;34m.\u001b[0m\u001b[0m_engine\u001b[0m\u001b[0;34m.\u001b[0m\u001b[0mget_loc\u001b[0m\u001b[0;34m(\u001b[0m\u001b[0mself\u001b[0m\u001b[0;34m.\u001b[0m\u001b[0m_maybe_cast_indexer\u001b[0m\u001b[0;34m(\u001b[0m\u001b[0mkey\u001b[0m\u001b[0;34m)\u001b[0m\u001b[0;34m)\u001b[0m\u001b[0;34m\u001b[0m\u001b[0;34m\u001b[0m\u001b[0m\n\u001b[0m\u001b[1;32m   2900\u001b[0m         \u001b[0mindexer\u001b[0m \u001b[0;34m=\u001b[0m \u001b[0mself\u001b[0m\u001b[0;34m.\u001b[0m\u001b[0mget_indexer\u001b[0m\u001b[0;34m(\u001b[0m\u001b[0;34m[\u001b[0m\u001b[0mkey\u001b[0m\u001b[0;34m]\u001b[0m\u001b[0;34m,\u001b[0m \u001b[0mmethod\u001b[0m\u001b[0;34m=\u001b[0m\u001b[0mmethod\u001b[0m\u001b[0;34m,\u001b[0m \u001b[0mtolerance\u001b[0m\u001b[0;34m=\u001b[0m\u001b[0mtolerance\u001b[0m\u001b[0;34m)\u001b[0m\u001b[0;34m\u001b[0m\u001b[0;34m\u001b[0m\u001b[0m\n\u001b[1;32m   2901\u001b[0m         \u001b[0;32mif\u001b[0m \u001b[0mindexer\u001b[0m\u001b[0;34m.\u001b[0m\u001b[0mndim\u001b[0m \u001b[0;34m>\u001b[0m \u001b[0;36m1\u001b[0m \u001b[0;32mor\u001b[0m \u001b[0mindexer\u001b[0m\u001b[0;34m.\u001b[0m\u001b[0msize\u001b[0m \u001b[0;34m>\u001b[0m \u001b[0;36m1\u001b[0m\u001b[0;34m:\u001b[0m\u001b[0;34m\u001b[0m\u001b[0;34m\u001b[0m\u001b[0m\n",
      "\u001b[0;32mpandas/_libs/index.pyx\u001b[0m in \u001b[0;36mpandas._libs.index.IndexEngine.get_loc\u001b[0;34m()\u001b[0m\n",
      "\u001b[0;32mpandas/_libs/index.pyx\u001b[0m in \u001b[0;36mpandas._libs.index.IndexEngine.get_loc\u001b[0;34m()\u001b[0m\n",
      "\u001b[0;32mpandas/_libs/hashtable_class_helper.pxi\u001b[0m in \u001b[0;36mpandas._libs.hashtable.PyObjectHashTable.get_item\u001b[0;34m()\u001b[0m\n",
      "\u001b[0;32mpandas/_libs/hashtable_class_helper.pxi\u001b[0m in \u001b[0;36mpandas._libs.hashtable.PyObjectHashTable.get_item\u001b[0;34m()\u001b[0m\n",
      "\u001b[0;31mKeyError\u001b[0m: 'ORIGIN'"
     ]
    }
   ],
   "source": [
    "origin_delays[origin_delays['ORIGIN'] == 'SFO']"
   ]
  },
  {
   "cell_type": "markdown",
   "metadata": {},
   "source": [
    "The code above did not work! Why? It's because ```ORIGIN``` is not a column, but an index.\n",
    "\n",
    "In the case where our selected column is an index, we can use ```index``` to select the index."
   ]
  },
  {
   "cell_type": "code",
   "execution_count": 131,
   "metadata": {},
   "outputs": [
    {
     "data": {
      "text/html": [
       "<div>\n",
       "<style scoped>\n",
       "    .dataframe tbody tr th:only-of-type {\n",
       "        vertical-align: middle;\n",
       "    }\n",
       "\n",
       "    .dataframe tbody tr th {\n",
       "        vertical-align: top;\n",
       "    }\n",
       "\n",
       "    .dataframe thead th {\n",
       "        text-align: right;\n",
       "    }\n",
       "</style>\n",
       "<table border=\"1\" class=\"dataframe\">\n",
       "  <thead>\n",
       "    <tr style=\"text-align: right;\">\n",
       "      <th></th>\n",
       "      <th>DEP_DEL15</th>\n",
       "    </tr>\n",
       "    <tr>\n",
       "      <th>ORIGIN</th>\n",
       "      <th></th>\n",
       "    </tr>\n",
       "  </thead>\n",
       "  <tbody>\n",
       "    <tr>\n",
       "      <td>SFO</td>\n",
       "      <td>0.171547</td>\n",
       "    </tr>\n",
       "  </tbody>\n",
       "</table>\n",
       "</div>"
      ],
      "text/plain": [
       "        DEP_DEL15\n",
       "ORIGIN           \n",
       "SFO      0.171547"
      ]
     },
     "execution_count": 131,
     "metadata": {},
     "output_type": "execute_result"
    }
   ],
   "source": [
    "origin_delays[origin_delays.index == 'SFO']"
   ]
  },
  {
   "cell_type": "markdown",
   "metadata": {
    "colab_type": "text",
    "id": "9a-7yxHADB1D"
   },
   "source": [
    "## Resources\n",
    "- https://www.geeksforgeeks.org/python-pandas-series/\n",
    "- https://www.kaggle.com/divyansh22/flight-delay-prediction\n",
    "- https://www.kaggle.com/anshuls235/airline-delay-causes\n",
    "- https://pandas.pydata.org/pandas-docs/stable/reference/api/pandas.DataFrame.merge.html\n",
    "- https://www.codespot.org/sql-join/\n"
   ]
  },
  {
   "cell_type": "markdown",
   "metadata": {},
   "source": [
    "## Homework\n",
    "1. Find out five largest airlines by the number of flights in January\n",
    "2. Calculate cancellation percentages of the top 5 airlines\n",
    "3. Find out the percentage of flights that managed to arrive within 15 minutes even though the flight departed more than 15 minutes past scheduled departure time (Hint: you may use ```DEP_DEL15 == 1``` and ```ARR_DEL15 == 0```)\n",
    "4. Convert categorical to numerical to do data visualizations of each airline\n"
   ]
  },
  {
   "cell_type": "code",
   "execution_count": null,
   "metadata": {},
   "outputs": [],
   "source": []
  }
 ],
 "metadata": {
  "colab": {
   "name": "Advanced Data Wrangling with Pandas.ipynb",
   "provenance": []
  },
  "kernelspec": {
   "display_name": "Python 3",
   "language": "python",
   "name": "python3"
  },
  "language_info": {
   "codemirror_mode": {
    "name": "ipython",
    "version": 3
   },
   "file_extension": ".py",
   "mimetype": "text/x-python",
   "name": "python",
   "nbconvert_exporter": "python",
   "pygments_lexer": "ipython3",
   "version": "3.7.4"
  }
 },
 "nbformat": 4,
 "nbformat_minor": 1
}
