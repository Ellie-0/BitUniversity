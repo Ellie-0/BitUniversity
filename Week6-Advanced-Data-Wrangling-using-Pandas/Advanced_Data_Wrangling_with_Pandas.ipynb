{
  "nbformat": 4,
  "nbformat_minor": 0,
  "metadata": {
    "colab": {
      "name": "Advanced_Data_Wrangling_with_Pandas_RR_09_29.ipynb",
      "provenance": [],
      "collapsed_sections": []
    },
    "kernelspec": {
      "display_name": "Python 3",
      "language": "python",
      "name": "python3"
    },
    "language_info": {
      "codemirror_mode": {
        "name": "ipython",
        "version": 3
      },
      "file_extension": ".py",
      "mimetype": "text/x-python",
      "name": "python",
      "nbconvert_exporter": "python",
      "pygments_lexer": "ipython3",
      "version": "3.7.4"
    }
  },
  "cells": [
    {
      "cell_type": "markdown",
      "metadata": {
        "id": "rajNUstB0COd"
      },
      "source": [
        "<img src=\"https://github.com/bitprj/DigitalHistory/blob/Narae/Week3-Introduction-to-Open-Data-Importing-Data-and-Basic-Data-Wrangling/assets/icons/bitproject.png?raw=1\" width=\"200\" align=\"left\"> \n",
        "<img src=\"https://github.com/bitprj/DigitalHistory/blob/Narae/Week3-Introduction-to-Open-Data-Importing-Data-and-Basic-Data-Wrangling/assets/icons/data-science.jpg?raw=1\" width=\"300\" align=\"right\">"
      ]
    },
    {
      "cell_type": "markdown",
      "metadata": {
        "id": "uiA_TGuB0COe"
      },
      "source": [
        "# <div align=\"center\">Advanced Data Wrangling with Pandas</div>"
      ]
    },
    {
      "cell_type": "markdown",
      "metadata": {
        "id": "Yl__4vuWJQk8"
      },
      "source": [
        "## Table of Contents\n",
        "\n",
        "- Series\n",
        "    - Creating a Series\n",
        "    - Sorting a Series\n",
        "        - **1.0 - Now Try This**\n",
        "    - Accessing an element in a Series\n",
        "        - **2.0 - Now Try This**\n",
        "        - **3.0 - Now Try This**\n",
        "    - Binary Operations\n",
        "        - **4.0 - Now Try This**\n",
        "\n",
        "- Advanced Dataframe\n",
        "    - Creaing new columns\n",
        "    - Replacing NaN values\n",
        "    - Sorting the dataset\n",
        "    - Selecting subset of data\n",
        "        - **5.0 - Now Try This**\n",
        "    - Dropping entities\n",
        "    - Unique values in columns\n",
        "    - Joining dataset\n",
        "        - Merge\n",
        "        - Join\n",
        "\n",
        "- Practical Exercise: Flight Delay data\n",
        "    - Join dataset\n",
        "    - Groupby\n",
        "    - Filtering based on condition\n",
        "    - **6.0 - Now Try This**\n",
        "    - **7.0 - Now Try This**\n",
        "    - **8.0 - Now Try This**\n",
        "    - **9.0 - Now Try This**\n"
      ]
    },
    {
      "cell_type": "markdown",
      "metadata": {
        "id": "1X9xt1J4K2eD"
      },
      "source": [
        "## Dataframe vs. Series\n",
        "There are two main data structures you need to get comfortable with: **Dataframes** and **Series** (Remember: we covered the basics of Dataframes in Week 3.)\n",
        "\n",
        "To refresh your memory, **Dataframes** are tabular, column-oriented data structures with both row and column labels. \n",
        "\n",
        "**Series** is a 1-dimensional labeled array and it can hold data of any type (integer, string, float, python objects, etc.). Series has indices and data values and it is similar to dictionary as it is a mapping of indices to data values.\n"
      ]
    },
    {
      "cell_type": "markdown",
      "metadata": {
        "id": "I6UlYJSdMkEb"
      },
      "source": [
        "## Series\n",
        "\n"
      ]
    },
    {
      "cell_type": "markdown",
      "metadata": {
        "id": "2QYD9FNvNvCy"
      },
      "source": [
        "### Creating a Series\n",
        "\n",
        "A series can be created from a:\n",
        "1. scalar\n",
        "2. list (array) \n",
        "2. dictionary"
      ]
    },
    {
      "cell_type": "markdown",
      "metadata": {
        "id": "tX8LOIj-Mx-s"
      },
      "source": [
        "First and foremost, let's import the Pandas library."
      ]
    },
    {
      "cell_type": "code",
      "metadata": {
        "id": "4PwCmTIwMgvQ"
      },
      "source": [
        "import pandas as pd"
      ],
      "execution_count": 3,
      "outputs": []
    },
    {
      "cell_type": "markdown",
      "metadata": {
        "id": "o6SM5MwCnjJx"
      },
      "source": [
        "#### 1. Creating a Series from Scalars"
      ]
    },
    {
      "cell_type": "code",
      "metadata": {
        "id": "ao8D97SxnmbA",
        "outputId": "cdeb1339-688d-4788-a344-6512de2f2d09",
        "colab": {
          "base_uri": "https://localhost:8080/",
          "height": 51
        }
      },
      "source": [
        "pd.Series(3)"
      ],
      "execution_count": 18,
      "outputs": [
        {
          "output_type": "execute_result",
          "data": {
            "text/plain": [
              "0    3\n",
              "dtype: int64"
            ]
          },
          "metadata": {
            "tags": []
          },
          "execution_count": 18
        }
      ]
    },
    {
      "cell_type": "code",
      "metadata": {
        "id": "B-pDM2AudeIu",
        "outputId": "8fe3d6f8-c10f-43d1-d12c-139d9148a813",
        "colab": {
          "base_uri": "https://localhost:8080/",
          "height": 136
        }
      },
      "source": [
        "pd.Series(3, index =[0, 1, 2, 3, 4, 5])"
      ],
      "execution_count": 19,
      "outputs": [
        {
          "output_type": "execute_result",
          "data": {
            "text/plain": [
              "0    3\n",
              "1    3\n",
              "2    3\n",
              "3    3\n",
              "4    3\n",
              "5    3\n",
              "dtype: int64"
            ]
          },
          "metadata": {
            "tags": []
          },
          "execution_count": 19
        }
      ]
    },
    {
      "cell_type": "markdown",
      "metadata": {
        "id": "kuTD87cQM7Ic"
      },
      "source": [
        "#### 2-1. Creating a Series from a List w/o Indices. \n",
        "\n",
        "By default, indices start at 0 and end at len(array) - 1. \n",
        "\n",
        "In this example, as we didn't specify the index, the first index is 0 and the last index is 3, which is len(array)-1."
      ]
    },
    {
      "cell_type": "code",
      "metadata": {
        "id": "X5wt-CqFM_8I",
        "outputId": "c6b90e76-c5d4-4fc8-967f-cc68f8fbf399",
        "colab": {
          "base_uri": "https://localhost:8080/",
          "height": 102
        }
      },
      "source": [
        "import numpy as np\n",
        "array = np.array(['a','b','c','d'])\n",
        "pd.Series(array)"
      ],
      "execution_count": 4,
      "outputs": [
        {
          "output_type": "execute_result",
          "data": {
            "text/plain": [
              "0    a\n",
              "1    b\n",
              "2    c\n",
              "3    d\n",
              "dtype: object"
            ]
          },
          "metadata": {
            "tags": []
          },
          "execution_count": 4
        }
      ]
    },
    {
      "cell_type": "markdown",
      "metadata": {
        "id": "CA3N7-qyNaVM"
      },
      "source": [
        "#### 2-2. Creating a Series from a List with Indices\n",
        "\n",
        "If we want to assign a different index instead of the default ones, we can specify that."
      ]
    },
    {
      "cell_type": "code",
      "metadata": {
        "id": "2WLaQGvyNZmc",
        "outputId": "f6f3bd46-2aa9-4294-8e89-7c01b5a324e0",
        "colab": {
          "base_uri": "https://localhost:8080/",
          "height": 102
        }
      },
      "source": [
        "array = np.array(['a','b','c','d'])\n",
        "pd.Series(array,index=[1,2,3,4])"
      ],
      "execution_count": 5,
      "outputs": [
        {
          "output_type": "execute_result",
          "data": {
            "text/plain": [
              "1    a\n",
              "2    b\n",
              "3    c\n",
              "4    d\n",
              "dtype: object"
            ]
          },
          "metadata": {
            "tags": []
          },
          "execution_count": 5
        }
      ]
    },
    {
      "cell_type": "markdown",
      "metadata": {
        "id": "n4Zr_-rGZpVp"
      },
      "source": [
        "Using the examples below, we can check if indices must be sorted. In this example, the indices are not sorted (105 --> 103 --> 102 --> 109 --> 104 --> 110). Let's see what it returns!"
      ]
    },
    {
      "cell_type": "code",
      "metadata": {
        "id": "fksXDh47Yjr-",
        "outputId": "926b1cd8-0fa8-4644-a909-b95003df5f66",
        "colab": {
          "base_uri": "https://localhost:8080/",
          "height": 136
        }
      },
      "source": [
        "names = np.array(['Daisy', 'Matt', 'Kelly', 'Mike', 'Ashley', 'Kyle'])\n",
        "pd.Series(names, index=[105,103,102,109,104,110])"
      ],
      "execution_count": 6,
      "outputs": [
        {
          "output_type": "execute_result",
          "data": {
            "text/plain": [
              "105     Daisy\n",
              "103      Matt\n",
              "102     Kelly\n",
              "109      Mike\n",
              "104    Ashley\n",
              "110      Kyle\n",
              "dtype: object"
            ]
          },
          "metadata": {
            "tags": []
          },
          "execution_count": 6
        }
      ]
    },
    {
      "cell_type": "markdown",
      "metadata": {
        "id": "enB_T7hRaY2v"
      },
      "source": [
        "Then, the question is \"Are the indices unique?\"\n",
        "Let's check it out!"
      ]
    },
    {
      "cell_type": "code",
      "metadata": {
        "id": "Hl52EALyajA9",
        "outputId": "2593e9cd-5e21-4736-be6e-7e50ae7e808b",
        "colab": {
          "base_uri": "https://localhost:8080/",
          "height": 136
        }
      },
      "source": [
        "names = np.array(['Daisy', 'Matt', 'Kelly', 'Mike', 'Ashley', 'Kyle'])\n",
        "pd.Series(names, index=[100,100,102,102,103,110])"
      ],
      "execution_count": 20,
      "outputs": [
        {
          "output_type": "execute_result",
          "data": {
            "text/plain": [
              "100     Daisy\n",
              "100      Matt\n",
              "102     Kelly\n",
              "102      Mike\n",
              "103    Ashley\n",
              "110      Kyle\n",
              "dtype: object"
            ]
          },
          "metadata": {
            "tags": []
          },
          "execution_count": 20
        }
      ]
    },
    {
      "cell_type": "markdown",
      "metadata": {
        "id": "hf0xKPN4aqKO"
      },
      "source": [
        "The indices don't have to be unique!"
      ]
    },
    {
      "cell_type": "markdown",
      "metadata": {
        "id": "eldUp__3a39a"
      },
      "source": [
        "Can we use non-numerical indices?\n",
        "Let's check it out!"
      ]
    },
    {
      "cell_type": "code",
      "metadata": {
        "id": "r0OsTILZavIU",
        "outputId": "94e5dd9f-c414-48da-a917-e66e44bc84c6",
        "colab": {
          "base_uri": "https://localhost:8080/",
          "height": 102
        }
      },
      "source": [
        "names = np.array(['Daisy', 'Matt', 'Kelly', 'Mike'])\n",
        "cities=[\"Atlanta\", \"San Francisco\", \"New York\", \"Seattle\"]\n",
        "\n",
        "pd.Series(names, index=cities)"
      ],
      "execution_count": 8,
      "outputs": [
        {
          "output_type": "execute_result",
          "data": {
            "text/plain": [
              "Atlanta          Daisy\n",
              "San Francisco     Matt\n",
              "New York         Kelly\n",
              "Seattle           Mike\n",
              "dtype: object"
            ]
          },
          "metadata": {
            "tags": []
          },
          "execution_count": 8
        }
      ]
    },
    {
      "cell_type": "markdown",
      "metadata": {
        "id": "grAsKkbMbCz6"
      },
      "source": [
        "We found out that the indices don't have to be numbers."
      ]
    },
    {
      "cell_type": "code",
      "metadata": {
        "id": "adBBZeBWbJqP",
        "outputId": "6bcdf4b4-d01b-433a-8ce6-cc3a06636cea",
        "colab": {
          "base_uri": "https://localhost:8080/",
          "height": 102
        }
      },
      "source": [
        "names = np.array(['Daisy', 'Matt', 'Kelly', 'Mike'])\n",
        "index_list = [0.79, -5, 13, \"Hello\"]\n",
        "pd.Series(names, index=index_list)"
      ],
      "execution_count": 13,
      "outputs": [
        {
          "output_type": "execute_result",
          "data": {
            "text/plain": [
              "0.79     Daisy\n",
              "-5        Matt\n",
              "13       Kelly\n",
              "Hello     Mike\n",
              "dtype: object"
            ]
          },
          "metadata": {
            "tags": []
          },
          "execution_count": 13
        }
      ]
    },
    {
      "cell_type": "markdown",
      "metadata": {
        "id": "aRAJ7s4MMQls"
      },
      "source": [
        "We used a float, positive and negative integers, and a string as indices and it worked! \n",
        "\n",
        "This example is to demonstrate that you can use any datatype as indices; in the real world, it's more common to keep the datatype consistent for indices."
      ]
    },
    {
      "cell_type": "markdown",
      "metadata": {
        "id": "1Wxi8Jy6OMW3"
      },
      "source": [
        "#### 3. Creating a Series from a Dictionary\n",
        "We can create a Series from a **dictionary**! Let's see how it works!"
      ]
    },
    {
      "cell_type": "code",
      "metadata": {
        "id": "zmOi4mPMOXVn",
        "outputId": "83e9cae9-b257-4651-d987-9fb8e974c13d",
        "colab": {
          "base_uri": "https://localhost:8080/",
          "height": 121
        }
      },
      "source": [
        "# aDict stores how many fruits we have.\n",
        "aDict = {'Apple':3, 'Banana':5, 'Cherry': 2, 'Mango': 13, 'Peach': 10}\n",
        "pd.Series(aDict)"
      ],
      "execution_count": null,
      "outputs": [
        {
          "output_type": "execute_result",
          "data": {
            "text/plain": [
              "Apple      3\n",
              "Banana     5\n",
              "Cherry     2\n",
              "Mango     13\n",
              "Peach     10\n",
              "dtype: int64"
            ]
          },
          "metadata": {
            "tags": []
          },
          "execution_count": 9
        }
      ]
    },
    {
      "cell_type": "markdown",
      "metadata": {
        "id": "wtIiqIC1FXd6"
      },
      "source": [
        "When we are pass `aDict` to `pd.Series()`, the order in which the fruits were added is preserved in `aDict`."
      ]
    },
    {
      "cell_type": "code",
      "metadata": {
        "id": "Jd2PNDmkFszH",
        "outputId": "9ad80add-0f75-4290-e48b-aaed4a815d7d",
        "colab": {
          "base_uri": "https://localhost:8080/",
          "height": 121
        }
      },
      "source": [
        "aDict = {'Mango': 13, 'Banana':5, 'Cherry':2, 'Apple': 3, 'Peach': 10}\n",
        "pd.Series(aDict)"
      ],
      "execution_count": null,
      "outputs": [
        {
          "output_type": "execute_result",
          "data": {
            "text/plain": [
              "Mango     13\n",
              "Banana     5\n",
              "Cherry     2\n",
              "Apple      3\n",
              "Peach     10\n",
              "dtype: int64"
            ]
          },
          "metadata": {
            "tags": []
          },
          "execution_count": 10
        }
      ]
    },
    {
      "cell_type": "markdown",
      "metadata": {
        "id": "YiHLLOgacg0Q"
      },
      "source": [
        "If we want to know the datatype of a Series, we can call the `dtype` function."
      ]
    },
    {
      "cell_type": "code",
      "metadata": {
        "id": "llyeLKz7ca8W",
        "outputId": "570acc02-479a-41ab-bbcf-a169f1009c65",
        "colab": {
          "base_uri": "https://localhost:8080/",
          "height": 35
        }
      },
      "source": [
        "aDict = {'Mango': 13, 'Banana':5, 'Cherry':2, 'Apple': 3, 'Peach': 10}\n",
        "pd.Series(aDict).dtype"
      ],
      "execution_count": null,
      "outputs": [
        {
          "output_type": "execute_result",
          "data": {
            "text/plain": [
              "dtype('int64')"
            ]
          },
          "metadata": {
            "tags": []
          },
          "execution_count": 11
        }
      ]
    },
    {
      "cell_type": "markdown",
      "metadata": {
        "id": "X_YVm1C9cq9I"
      },
      "source": [
        "Now, let's change the value for \"Mango.\" We will change the value to 13.45 and see what `dtype` returns!"
      ]
    },
    {
      "cell_type": "code",
      "metadata": {
        "id": "pWcf03jccoUh",
        "outputId": "951c7ee3-dee1-4980-c062-ad3053d0de64",
        "colab": {
          "base_uri": "https://localhost:8080/",
          "height": 34
        }
      },
      "source": [
        "aDict = {'Mango': 13.45, 'Banana':5, 'Cherry':2, 'Apple': 3, 'Peach': 10}\n",
        "pd.Series(aDict).dtype"
      ],
      "execution_count": 22,
      "outputs": [
        {
          "output_type": "execute_result",
          "data": {
            "text/plain": [
              "dtype('float64')"
            ]
          },
          "metadata": {
            "tags": []
          },
          "execution_count": 22
        }
      ]
    },
    {
      "cell_type": "markdown",
      "metadata": {
        "id": "82Mus9Lgc8yA"
      },
      "source": [
        "If we want to print out indices only, we can use the ```index``` property."
      ]
    },
    {
      "cell_type": "code",
      "metadata": {
        "id": "rmyIfv1jc3fB",
        "outputId": "4ff54bc5-34cb-452b-be7a-cd1eadf5092f",
        "colab": {
          "base_uri": "https://localhost:8080/",
          "height": 35
        }
      },
      "source": [
        "aDict = {'Mango': 13.45, 'Banana':5, 'Cherry':2, 'Apple': 3, 'Peach': 10}\n",
        "pd.Series(aDict).index"
      ],
      "execution_count": null,
      "outputs": [
        {
          "output_type": "execute_result",
          "data": {
            "text/plain": [
              "Index(['Mango', 'Banana', 'Cherry', 'Apple', 'Peach'], dtype='object')"
            ]
          },
          "metadata": {
            "tags": []
          },
          "execution_count": 13
        }
      ]
    },
    {
      "cell_type": "markdown",
      "metadata": {
        "id": "gWiC4VKG0CPF"
      },
      "source": [
        "We can print out the values of a Series in a similar way. We can just use the ```values``` property instead."
      ]
    },
    {
      "cell_type": "code",
      "metadata": {
        "id": "4cWGtdpq0CPF",
        "outputId": "254f9b25-7a29-4676-80ab-432bbc9cb73e",
        "colab": {
          "base_uri": "https://localhost:8080/",
          "height": 35
        }
      },
      "source": [
        "pd.Series(aDict).values"
      ],
      "execution_count": null,
      "outputs": [
        {
          "output_type": "execute_result",
          "data": {
            "text/plain": [
              "array([13.45,  5.  ,  2.  ,  3.  , 10.  ])"
            ]
          },
          "metadata": {
            "tags": []
          },
          "execution_count": 14
        }
      ]
    },
    {
      "cell_type": "markdown",
      "metadata": {
        "id": "z_A54Pi5kX6G"
      },
      "source": [
        "### Sorting a Series"
      ]
    },
    {
      "cell_type": "markdown",
      "metadata": {
        "id": "8Nf4i2n3G2eU"
      },
      "source": [
        "If we want to sort the Series by \"index\", we can use the ```sort_index()``` function."
      ]
    },
    {
      "cell_type": "code",
      "metadata": {
        "id": "UtfyBj5dGxzh",
        "outputId": "58c7bcf2-ad6e-4dee-c21e-152c9046d76f",
        "colab": {
          "base_uri": "https://localhost:8080/",
          "height": 121
        }
      },
      "source": [
        "s = pd.Series(aDict)\n",
        "s.sort_index()"
      ],
      "execution_count": null,
      "outputs": [
        {
          "output_type": "execute_result",
          "data": {
            "text/plain": [
              "Apple      3.00\n",
              "Banana     5.00\n",
              "Cherry     2.00\n",
              "Mango     13.45\n",
              "Peach     10.00\n",
              "dtype: float64"
            ]
          },
          "metadata": {
            "tags": []
          },
          "execution_count": 15
        }
      ]
    },
    {
      "cell_type": "markdown",
      "metadata": {
        "id": "10CStP_aO6xP"
      },
      "source": [
        "Similarly, if we want to sort the series based on values, we can use the `sort_values` function. By default, it will sort the elements in ascending order."
      ]
    },
    {
      "cell_type": "code",
      "metadata": {
        "id": "M6yuEei4OmpK",
        "outputId": "1fb6f2e9-f218-4225-d241-009bcf726eb8",
        "colab": {
          "base_uri": "https://localhost:8080/",
          "height": 121
        }
      },
      "source": [
        "s = pd.Series(aDict)\n",
        "s.sort_values()"
      ],
      "execution_count": null,
      "outputs": [
        {
          "output_type": "execute_result",
          "data": {
            "text/plain": [
              "Cherry     2.00\n",
              "Apple      3.00\n",
              "Banana     5.00\n",
              "Peach     10.00\n",
              "Mango     13.45\n",
              "dtype: float64"
            ]
          },
          "metadata": {
            "tags": []
          },
          "execution_count": 16
        }
      ]
    },
    {
      "cell_type": "markdown",
      "metadata": {
        "id": "PvI4f3ITP3Bc"
      },
      "source": [
        "Let's sort the series in descending order."
      ]
    },
    {
      "cell_type": "code",
      "metadata": {
        "id": "mv_d1kiTO5vZ",
        "outputId": "c7c9d2da-53d9-4293-a6eb-830696745716",
        "colab": {
          "base_uri": "https://localhost:8080/",
          "height": 121
        }
      },
      "source": [
        "s.sort_values(ascending=False)"
      ],
      "execution_count": null,
      "outputs": [
        {
          "output_type": "execute_result",
          "data": {
            "text/plain": [
              "Mango     13.45\n",
              "Peach     10.00\n",
              "Banana     5.00\n",
              "Apple      3.00\n",
              "Cherry     2.00\n",
              "dtype: float64"
            ]
          },
          "metadata": {
            "tags": []
          },
          "execution_count": 17
        }
      ]
    },
    {
      "cell_type": "markdown",
      "metadata": {
        "id": "RItg7im2dJhY"
      },
      "source": [
        "### 1.0 - Now Try This\n",
        "Sort the series by index in descending order."
      ]
    },
    {
      "cell_type": "markdown",
      "metadata": {
        "id": "tj7D1cz6POtl"
      },
      "source": [
        "### Accessing an Element in a Series\n",
        "\n",
        "We can access elements in a Series in the following ways:\n",
        "- by index number\n",
        "- by index label"
      ]
    },
    {
      "cell_type": "code",
      "metadata": {
        "id": "Z-wAc-uWR9Hp"
      },
      "source": [
        "array = np.array(['a','b','c','d','e','f','g','h'])\n",
        "s = pd.Series(array)"
      ],
      "execution_count": null,
      "outputs": []
    },
    {
      "cell_type": "markdown",
      "metadata": {
        "id": "RaWWGQAGptvL"
      },
      "source": [
        "#### 1. By Index Number"
      ]
    },
    {
      "cell_type": "markdown",
      "metadata": {
        "id": "Qpt2sMYhRiTY"
      },
      "source": [
        "We can access the first element by index number 0."
      ]
    },
    {
      "cell_type": "code",
      "metadata": {
        "id": "UCXBaQoQPWnq",
        "outputId": "26d6999e-6d2a-4a54-a97d-bd8940a835eb",
        "colab": {
          "base_uri": "https://localhost:8080/",
          "height": 35
        }
      },
      "source": [
        "s[0]"
      ],
      "execution_count": null,
      "outputs": [
        {
          "output_type": "execute_result",
          "data": {
            "application/vnd.google.colaboratory.intrinsic+json": {
              "type": "string"
            },
            "text/plain": [
              "'a'"
            ]
          },
          "metadata": {
            "tags": []
          },
          "execution_count": 19
        }
      ]
    },
    {
      "cell_type": "code",
      "metadata": {
        "id": "Cf64v-7DSViQ",
        "outputId": "c16522da-6f6d-4bac-acc8-7d55259e7b5c",
        "colab": {
          "base_uri": "https://localhost:8080/",
          "height": 35
        }
      },
      "source": [
        "s[5]"
      ],
      "execution_count": null,
      "outputs": [
        {
          "output_type": "execute_result",
          "data": {
            "application/vnd.google.colaboratory.intrinsic+json": {
              "type": "string"
            },
            "text/plain": [
              "'f'"
            ]
          },
          "metadata": {
            "tags": []
          },
          "execution_count": 20
        }
      ]
    },
    {
      "cell_type": "markdown",
      "metadata": {
        "id": "XMY-qqdmSJo8"
      },
      "source": [
        "We can access the first 3 elements with slicing operation [:3]"
      ]
    },
    {
      "cell_type": "code",
      "metadata": {
        "id": "e9ipGYg3R4P7",
        "outputId": "ea354f3f-2299-4d49-fe33-b29c712a23da",
        "colab": {
          "base_uri": "https://localhost:8080/",
          "height": 87
        }
      },
      "source": [
        "s[:3]"
      ],
      "execution_count": null,
      "outputs": [
        {
          "output_type": "execute_result",
          "data": {
            "text/plain": [
              "0    a\n",
              "1    b\n",
              "2    c\n",
              "dtype: object"
            ]
          },
          "metadata": {
            "tags": []
          },
          "execution_count": 21
        }
      ]
    },
    {
      "cell_type": "markdown",
      "metadata": {
        "id": "I-bKEGiCpMyx"
      },
      "source": [
        "### 2.0 - Now Try This\n",
        "\n",
        "Access the items in the 3-5 indices (inclusive) using slicing operations."
      ]
    },
    {
      "cell_type": "markdown",
      "metadata": {
        "id": "2dk4jHp6pzJL"
      },
      "source": [
        "#### By Index Label"
      ]
    },
    {
      "cell_type": "markdown",
      "metadata": {
        "id": "dWDXjvfPS5uQ"
      },
      "source": [
        "\n",
        "We can retrieve a single element using index labels."
      ]
    },
    {
      "cell_type": "code",
      "metadata": {
        "id": "6HRnMdYASH3y",
        "outputId": "2435a87a-67ae-4dca-a149-e9ce05992ecf",
        "colab": {
          "base_uri": "https://localhost:8080/",
          "height": 35
        }
      },
      "source": [
        "aDict = {'Apple':3, 'Banana':5, 'Cherry': 2, 'Peach': 10}\n",
        "s = pd.Series(aDict)\n",
        "s['Apple']"
      ],
      "execution_count": null,
      "outputs": [
        {
          "output_type": "execute_result",
          "data": {
            "text/plain": [
              "3"
            ]
          },
          "metadata": {
            "tags": []
          },
          "execution_count": 22
        }
      ]
    },
    {
      "cell_type": "code",
      "metadata": {
        "id": "NjMMQTHES3CL",
        "outputId": "8a82ab69-1e0a-4bba-cd87-32073730ad70",
        "colab": {
          "base_uri": "https://localhost:8080/",
          "height": 35
        }
      },
      "source": [
        "s['Peach']"
      ],
      "execution_count": null,
      "outputs": [
        {
          "output_type": "execute_result",
          "data": {
            "text/plain": [
              "10"
            ]
          },
          "metadata": {
            "tags": []
          },
          "execution_count": 23
        }
      ]
    },
    {
      "cell_type": "markdown",
      "metadata": {
        "id": "dz2IesgGp5a7"
      },
      "source": [
        "### 3.0 - Now Try This\n",
        "\n"
      ]
    },
    {
      "cell_type": "code",
      "metadata": {
        "id": "BW1mziJRTEPn"
      },
      "source": [
        "s = pd.Series([1,2,3,4,5],index = ['a','b','c','d','e'])"
      ],
      "execution_count": null,
      "outputs": []
    },
    {
      "cell_type": "markdown",
      "metadata": {
        "id": "fTcTEUUzqDx5"
      },
      "source": [
        "Retrieve the element that corresponds to index 'd'."
      ]
    },
    {
      "cell_type": "markdown",
      "metadata": {
        "id": "Cfbdclds1OSj"
      },
      "source": [
        "### Binary Operations of Series\n",
        "- Add\n",
        "- Sub\n",
        "- Mul"
      ]
    },
    {
      "cell_type": "markdown",
      "metadata": {
        "id": "FFcxfIA91bBj"
      },
      "source": [
        "Here, we have created two Series with numbers."
      ]
    },
    {
      "cell_type": "code",
      "metadata": {
        "id": "z2qRhcz51NfD"
      },
      "source": [
        "# creating a first series\n",
        "s1 = pd.Series([1,5,6,2])\n",
        " \n",
        "# creating a second series\n",
        "s2 = pd.Series([4,1,3,5])"
      ],
      "execution_count": null,
      "outputs": []
    },
    {
      "cell_type": "markdown",
      "metadata": {
        "id": "hNXSZot2NkVk"
      },
      "source": [
        "Let's add the two Series!"
      ]
    },
    {
      "cell_type": "code",
      "metadata": {
        "id": "JpC94kgxNbqd",
        "outputId": "1b0c6c04-e3ec-4bff-ad47-f29e404054d7",
        "colab": {
          "base_uri": "https://localhost:8080/",
          "height": 104
        }
      },
      "source": [
        "# answer = s1 + s2\n",
        "answer = s1.add(s2)\n",
        "print(answer)"
      ],
      "execution_count": null,
      "outputs": [
        {
          "output_type": "stream",
          "text": [
            "0    5\n",
            "1    6\n",
            "2    9\n",
            "3    7\n",
            "dtype: int64\n"
          ],
          "name": "stdout"
        }
      ]
    },
    {
      "cell_type": "markdown",
      "metadata": {
        "id": "td9U_MhY2Lnv"
      },
      "source": [
        "We can also subtract a Series from another using the `sub()` function."
      ]
    },
    {
      "cell_type": "code",
      "metadata": {
        "id": "Odw0eFWy2A85",
        "outputId": "ebfb6445-92be-4672-a8f5-56d19dde9948",
        "colab": {
          "base_uri": "https://localhost:8080/",
          "height": 104
        }
      },
      "source": [
        "# answer = s1 - s2\n",
        "answer = s1.sub(s2)\n",
        "print(answer)"
      ],
      "execution_count": null,
      "outputs": [
        {
          "output_type": "stream",
          "text": [
            "0   -3\n",
            "1    4\n",
            "2    3\n",
            "3   -3\n",
            "dtype: int64\n"
          ],
          "name": "stdout"
        }
      ]
    },
    {
      "cell_type": "markdown",
      "metadata": {
        "id": "IScMXHQ01zTc"
      },
      "source": [
        "Finally, we can multiply two Series using the `mul()` function."
      ]
    },
    {
      "cell_type": "code",
      "metadata": {
        "id": "i_HM2J9U3ozL",
        "outputId": "b0d89a61-f003-4d25-af70-6c898a5f68f3",
        "colab": {
          "base_uri": "https://localhost:8080/",
          "height": 104
        }
      },
      "source": [
        "answer = s1.mul(s2)\n",
        "print(answer)"
      ],
      "execution_count": null,
      "outputs": [
        {
          "output_type": "stream",
          "text": [
            "0     4\n",
            "1     5\n",
            "2    18\n",
            "3    10\n",
            "dtype: int64\n"
          ],
          "name": "stdout"
        }
      ]
    },
    {
      "cell_type": "markdown",
      "metadata": {
        "id": "dSpiQb6A29Ag"
      },
      "source": [
        "We can also perform these operations using simple mathematical notation and it will give us the same result."
      ]
    },
    {
      "cell_type": "code",
      "metadata": {
        "id": "R0BlOzUn3g3u",
        "outputId": "221f990e-abf9-4d32-e691-e2e481f1259a",
        "colab": {
          "base_uri": "https://localhost:8080/",
          "height": 104
        }
      },
      "source": [
        "s1 + s2"
      ],
      "execution_count": null,
      "outputs": [
        {
          "output_type": "execute_result",
          "data": {
            "text/plain": [
              "0    5\n",
              "1    6\n",
              "2    9\n",
              "3    7\n",
              "dtype: int64"
            ]
          },
          "metadata": {
            "tags": []
          },
          "execution_count": 29
        }
      ]
    },
    {
      "cell_type": "code",
      "metadata": {
        "id": "JGfGW06a23oM",
        "outputId": "f6b0e81e-4d75-41e9-f76f-61eb24e62f19",
        "colab": {
          "base_uri": "https://localhost:8080/",
          "height": 104
        }
      },
      "source": [
        "s1 - s2"
      ],
      "execution_count": null,
      "outputs": [
        {
          "output_type": "execute_result",
          "data": {
            "text/plain": [
              "0   -3\n",
              "1    4\n",
              "2    3\n",
              "3   -3\n",
              "dtype: int64"
            ]
          },
          "metadata": {
            "tags": []
          },
          "execution_count": 30
        }
      ]
    },
    {
      "cell_type": "code",
      "metadata": {
        "id": "-YR673G22U4X",
        "outputId": "fbfdb8f2-7ac8-429b-9f05-48891b86e19a",
        "colab": {
          "base_uri": "https://localhost:8080/",
          "height": 104
        }
      },
      "source": [
        "s1 * s2"
      ],
      "execution_count": null,
      "outputs": [
        {
          "output_type": "execute_result",
          "data": {
            "text/plain": [
              "0     4\n",
              "1     5\n",
              "2    18\n",
              "3    10\n",
              "dtype: int64"
            ]
          },
          "metadata": {
            "tags": []
          },
          "execution_count": 31
        }
      ]
    },
    {
      "cell_type": "markdown",
      "metadata": {
        "id": "iJle2PlleXCC"
      },
      "source": [
        "Now, let's create two Series with indices. Note that the order of indices is different in the two Series."
      ]
    },
    {
      "cell_type": "code",
      "metadata": {
        "id": "s296gpaueBzP"
      },
      "source": [
        "# creating a first series\n",
        "s1 = pd.Series([1,5,6,2], index=['b','c','d','a'])\n",
        " \n",
        "# creating a second series\n",
        "s2 = pd.Series([4,1,3,5], index=['a','b','c','d'])"
      ],
      "execution_count": null,
      "outputs": []
    },
    {
      "cell_type": "code",
      "metadata": {
        "id": "f3YngIopeLM2",
        "outputId": "ab866e4a-a5fa-4c5e-d852-bfee608be8c7",
        "colab": {
          "base_uri": "https://localhost:8080/",
          "height": 104
        }
      },
      "source": [
        "s1 + s2"
      ],
      "execution_count": null,
      "outputs": [
        {
          "output_type": "execute_result",
          "data": {
            "text/plain": [
              "a     6\n",
              "b     2\n",
              "c     8\n",
              "d    11\n",
              "dtype: int64"
            ]
          },
          "metadata": {
            "tags": []
          },
          "execution_count": 33
        }
      ]
    },
    {
      "cell_type": "markdown",
      "metadata": {
        "id": "_P6XPZ0KeiAa"
      },
      "source": [
        "The resulting Series' value for `'a'` is `6` is because `s1['a'] + s2['a'] = 6`. All the other values are calculated in the same way."
      ]
    },
    {
      "cell_type": "code",
      "metadata": {
        "id": "CuDDhp4-zgwW",
        "outputId": "1029bca5-b2d6-4576-a0cd-6da97a4c8bd8",
        "colab": {
          "base_uri": "https://localhost:8080/",
          "height": 102
        }
      },
      "source": [
        "# creating a first series\n",
        "s1 = pd.Series([\"apple\",\"banana\",\"Mango\",\"Pecan\"], index=['b','c','d','a'])\n",
        " \n",
        "# creating a second series\n",
        "s2 = pd.Series([\"pie\",\"pie\",\"bread\",\"smoothie\"], index=['a','b','c','d'])\n",
        "\n",
        "s1+ \" \" +s2"
      ],
      "execution_count": 29,
      "outputs": [
        {
          "output_type": "execute_result",
          "data": {
            "text/plain": [
              "a         Pecan pie\n",
              "b         apple pie\n",
              "c      banana bread\n",
              "d    Mango smoothie\n",
              "dtype: object"
            ]
          },
          "metadata": {
            "tags": []
          },
          "execution_count": 29
        }
      ]
    },
    {
      "cell_type": "markdown",
      "metadata": {
        "id": "6AJExdsoqNkk"
      },
      "source": [
        "### 4.0 - Now Try This\n",
        "\n",
        "Write down what you think this code will print out on a piece of paper.\n",
        "Compare your answer with the actual output of the code."
      ]
    },
    {
      "cell_type": "code",
      "metadata": {
        "id": "sLj-gx-NqYpt",
        "outputId": "27750ca2-9509-4210-a42d-52f54aacde3b",
        "colab": {
          "base_uri": "https://localhost:8080/",
          "height": 104
        }
      },
      "source": [
        "s1 * s2"
      ],
      "execution_count": null,
      "outputs": [
        {
          "output_type": "execute_result",
          "data": {
            "text/plain": [
              "a     8\n",
              "b     1\n",
              "c    15\n",
              "d    30\n",
              "dtype: int64"
            ]
          },
          "metadata": {
            "tags": []
          },
          "execution_count": 34
        }
      ]
    },
    {
      "cell_type": "markdown",
      "metadata": {
        "id": "EJNR47rL43Zr"
      },
      "source": [
        "## Advanced Dataframes"
      ]
    },
    {
      "cell_type": "markdown",
      "metadata": {
        "id": "Jl3rMWUf6zF0"
      },
      "source": [
        "Now, let's move onto some more advanced ways to use Dataframes. To demonstrate this, we'll be using a dataframe for the following dataset."
      ]
    },
    {
      "cell_type": "code",
      "metadata": {
        "id": "lj3GrMli4xtz",
        "outputId": "0ef2335a-ab44-4370-f6b9-d9c3d22f67be",
        "colab": {
          "base_uri": "https://localhost:8080/",
          "height": 294
        }
      },
      "source": [
        "import numpy as np\n",
        "\n",
        "data = {'First Name': ['Jennifer', 'Chris', 'John', 'Annie', 'Chloe', 'Jeremy', 'Allison', 'Hannah'], \n",
        "        'Last Name': ['Brown', 'Smith', 'Williams', 'Wong', 'Anderson', 'Scott', 'Kim', 'Mills'], \n",
        "        'Age': [16, 32, 21, 35, 27, 42, 28, 23],\n",
        "        'Hourly Wage': [8,14,60,44,80,54,32,16],\n",
        "        'Hours per week': [20,28,40,40,32,40,40,20],\n",
        "        'Years of experience': [0,2,np.nan,9,np.nan,4,5,np.nan]\n",
        "        } \n",
        "\n",
        "emp = pd.DataFrame(data)\n",
        "emp"
      ],
      "execution_count": null,
      "outputs": [
        {
          "output_type": "execute_result",
          "data": {
            "text/html": [
              "<div>\n",
              "<style scoped>\n",
              "    .dataframe tbody tr th:only-of-type {\n",
              "        vertical-align: middle;\n",
              "    }\n",
              "\n",
              "    .dataframe tbody tr th {\n",
              "        vertical-align: top;\n",
              "    }\n",
              "\n",
              "    .dataframe thead th {\n",
              "        text-align: right;\n",
              "    }\n",
              "</style>\n",
              "<table border=\"1\" class=\"dataframe\">\n",
              "  <thead>\n",
              "    <tr style=\"text-align: right;\">\n",
              "      <th></th>\n",
              "      <th>First Name</th>\n",
              "      <th>Last Name</th>\n",
              "      <th>Age</th>\n",
              "      <th>Hourly Wage</th>\n",
              "      <th>Hours per week</th>\n",
              "      <th>Years of experience</th>\n",
              "    </tr>\n",
              "  </thead>\n",
              "  <tbody>\n",
              "    <tr>\n",
              "      <th>0</th>\n",
              "      <td>Jennifer</td>\n",
              "      <td>Brown</td>\n",
              "      <td>16</td>\n",
              "      <td>8</td>\n",
              "      <td>20</td>\n",
              "      <td>0.0</td>\n",
              "    </tr>\n",
              "    <tr>\n",
              "      <th>1</th>\n",
              "      <td>Chris</td>\n",
              "      <td>Smith</td>\n",
              "      <td>32</td>\n",
              "      <td>14</td>\n",
              "      <td>28</td>\n",
              "      <td>2.0</td>\n",
              "    </tr>\n",
              "    <tr>\n",
              "      <th>2</th>\n",
              "      <td>John</td>\n",
              "      <td>Williams</td>\n",
              "      <td>21</td>\n",
              "      <td>60</td>\n",
              "      <td>40</td>\n",
              "      <td>NaN</td>\n",
              "    </tr>\n",
              "    <tr>\n",
              "      <th>3</th>\n",
              "      <td>Annie</td>\n",
              "      <td>Wong</td>\n",
              "      <td>35</td>\n",
              "      <td>44</td>\n",
              "      <td>40</td>\n",
              "      <td>9.0</td>\n",
              "    </tr>\n",
              "    <tr>\n",
              "      <th>4</th>\n",
              "      <td>Chloe</td>\n",
              "      <td>Anderson</td>\n",
              "      <td>27</td>\n",
              "      <td>80</td>\n",
              "      <td>32</td>\n",
              "      <td>NaN</td>\n",
              "    </tr>\n",
              "    <tr>\n",
              "      <th>5</th>\n",
              "      <td>Jeremy</td>\n",
              "      <td>Scott</td>\n",
              "      <td>42</td>\n",
              "      <td>54</td>\n",
              "      <td>40</td>\n",
              "      <td>4.0</td>\n",
              "    </tr>\n",
              "    <tr>\n",
              "      <th>6</th>\n",
              "      <td>Allison</td>\n",
              "      <td>Kim</td>\n",
              "      <td>28</td>\n",
              "      <td>32</td>\n",
              "      <td>40</td>\n",
              "      <td>5.0</td>\n",
              "    </tr>\n",
              "    <tr>\n",
              "      <th>7</th>\n",
              "      <td>Hannah</td>\n",
              "      <td>Mills</td>\n",
              "      <td>23</td>\n",
              "      <td>16</td>\n",
              "      <td>20</td>\n",
              "      <td>NaN</td>\n",
              "    </tr>\n",
              "  </tbody>\n",
              "</table>\n",
              "</div>"
            ],
            "text/plain": [
              "  First Name Last Name  Age  Hourly Wage  Hours per week  Years of experience\n",
              "0   Jennifer     Brown   16            8              20                  0.0\n",
              "1      Chris     Smith   32           14              28                  2.0\n",
              "2       John  Williams   21           60              40                  NaN\n",
              "3      Annie      Wong   35           44              40                  9.0\n",
              "4      Chloe  Anderson   27           80              32                  NaN\n",
              "5     Jeremy     Scott   42           54              40                  4.0\n",
              "6    Allison       Kim   28           32              40                  5.0\n",
              "7     Hannah     Mills   23           16              20                  NaN"
            ]
          },
          "metadata": {
            "tags": []
          },
          "execution_count": 35
        }
      ]
    },
    {
      "cell_type": "markdown",
      "metadata": {
        "id": "Zl6-3HOnDUxM"
      },
      "source": [
        "### Creating New Columns\n",
        "\n",
        "#### String Manipulation\n",
        "\n",
        "We want to have a column displaying the full names of the people in the dataset. To do this, we can combine First Name and Last Name and create a new column called \"Full Name.\"\n",
        "\n",
        "The ```' '``` in the middle is adding a space between the first name and last name. "
      ]
    },
    {
      "cell_type": "code",
      "metadata": {
        "id": "4yC0jbKyBMsS",
        "outputId": "80d8796b-7e80-4a82-ac6c-f4a721ce3824",
        "colab": {
          "base_uri": "https://localhost:8080/",
          "height": 294
        }
      },
      "source": [
        "# string manipulation\n",
        "emp['Full Name'] = emp['First Name'] + ' ' + emp['Last Name']\n",
        "emp"
      ],
      "execution_count": null,
      "outputs": [
        {
          "output_type": "execute_result",
          "data": {
            "text/html": [
              "<div>\n",
              "<style scoped>\n",
              "    .dataframe tbody tr th:only-of-type {\n",
              "        vertical-align: middle;\n",
              "    }\n",
              "\n",
              "    .dataframe tbody tr th {\n",
              "        vertical-align: top;\n",
              "    }\n",
              "\n",
              "    .dataframe thead th {\n",
              "        text-align: right;\n",
              "    }\n",
              "</style>\n",
              "<table border=\"1\" class=\"dataframe\">\n",
              "  <thead>\n",
              "    <tr style=\"text-align: right;\">\n",
              "      <th></th>\n",
              "      <th>First Name</th>\n",
              "      <th>Last Name</th>\n",
              "      <th>Age</th>\n",
              "      <th>Hourly Wage</th>\n",
              "      <th>Hours per week</th>\n",
              "      <th>Years of experience</th>\n",
              "      <th>Full Name</th>\n",
              "    </tr>\n",
              "  </thead>\n",
              "  <tbody>\n",
              "    <tr>\n",
              "      <th>0</th>\n",
              "      <td>Jennifer</td>\n",
              "      <td>Brown</td>\n",
              "      <td>16</td>\n",
              "      <td>8</td>\n",
              "      <td>20</td>\n",
              "      <td>0.0</td>\n",
              "      <td>Jennifer Brown</td>\n",
              "    </tr>\n",
              "    <tr>\n",
              "      <th>1</th>\n",
              "      <td>Chris</td>\n",
              "      <td>Smith</td>\n",
              "      <td>32</td>\n",
              "      <td>14</td>\n",
              "      <td>28</td>\n",
              "      <td>2.0</td>\n",
              "      <td>Chris Smith</td>\n",
              "    </tr>\n",
              "    <tr>\n",
              "      <th>2</th>\n",
              "      <td>John</td>\n",
              "      <td>Williams</td>\n",
              "      <td>21</td>\n",
              "      <td>60</td>\n",
              "      <td>40</td>\n",
              "      <td>NaN</td>\n",
              "      <td>John Williams</td>\n",
              "    </tr>\n",
              "    <tr>\n",
              "      <th>3</th>\n",
              "      <td>Annie</td>\n",
              "      <td>Wong</td>\n",
              "      <td>35</td>\n",
              "      <td>44</td>\n",
              "      <td>40</td>\n",
              "      <td>9.0</td>\n",
              "      <td>Annie Wong</td>\n",
              "    </tr>\n",
              "    <tr>\n",
              "      <th>4</th>\n",
              "      <td>Chloe</td>\n",
              "      <td>Anderson</td>\n",
              "      <td>27</td>\n",
              "      <td>80</td>\n",
              "      <td>32</td>\n",
              "      <td>NaN</td>\n",
              "      <td>Chloe Anderson</td>\n",
              "    </tr>\n",
              "    <tr>\n",
              "      <th>5</th>\n",
              "      <td>Jeremy</td>\n",
              "      <td>Scott</td>\n",
              "      <td>42</td>\n",
              "      <td>54</td>\n",
              "      <td>40</td>\n",
              "      <td>4.0</td>\n",
              "      <td>Jeremy Scott</td>\n",
              "    </tr>\n",
              "    <tr>\n",
              "      <th>6</th>\n",
              "      <td>Allison</td>\n",
              "      <td>Kim</td>\n",
              "      <td>28</td>\n",
              "      <td>32</td>\n",
              "      <td>40</td>\n",
              "      <td>5.0</td>\n",
              "      <td>Allison Kim</td>\n",
              "    </tr>\n",
              "    <tr>\n",
              "      <th>7</th>\n",
              "      <td>Hannah</td>\n",
              "      <td>Mills</td>\n",
              "      <td>23</td>\n",
              "      <td>16</td>\n",
              "      <td>20</td>\n",
              "      <td>NaN</td>\n",
              "      <td>Hannah Mills</td>\n",
              "    </tr>\n",
              "  </tbody>\n",
              "</table>\n",
              "</div>"
            ],
            "text/plain": [
              "  First Name Last Name  ...  Years of experience       Full Name\n",
              "0   Jennifer     Brown  ...                  0.0  Jennifer Brown\n",
              "1      Chris     Smith  ...                  2.0     Chris Smith\n",
              "2       John  Williams  ...                  NaN   John Williams\n",
              "3      Annie      Wong  ...                  9.0      Annie Wong\n",
              "4      Chloe  Anderson  ...                  NaN  Chloe Anderson\n",
              "5     Jeremy     Scott  ...                  4.0    Jeremy Scott\n",
              "6    Allison       Kim  ...                  5.0     Allison Kim\n",
              "7     Hannah     Mills  ...                  NaN    Hannah Mills\n",
              "\n",
              "[8 rows x 7 columns]"
            ]
          },
          "metadata": {
            "tags": []
          },
          "execution_count": 36
        }
      ]
    },
    {
      "cell_type": "markdown",
      "metadata": {
        "id": "9_Iwt_P6fHqc"
      },
      "source": [
        "#### Numerical Column\n",
        "\n",
        "Let's calculate weekly salary for each person and add a column called ```Weekly Salary```. We need to do some simple math to get this."
      ]
    },
    {
      "cell_type": "code",
      "metadata": {
        "id": "_d67Iv2Se8WU",
        "outputId": "77a17e6c-79d7-4674-a4d2-8c6d82f76d97",
        "colab": {
          "base_uri": "https://localhost:8080/",
          "height": 294
        }
      },
      "source": [
        "# multiplication of two numerical columns\n",
        "emp['Weekly Salary'] = emp['Hourly Wage'] * emp['Hours per week']\n",
        "emp"
      ],
      "execution_count": null,
      "outputs": [
        {
          "output_type": "execute_result",
          "data": {
            "text/html": [
              "<div>\n",
              "<style scoped>\n",
              "    .dataframe tbody tr th:only-of-type {\n",
              "        vertical-align: middle;\n",
              "    }\n",
              "\n",
              "    .dataframe tbody tr th {\n",
              "        vertical-align: top;\n",
              "    }\n",
              "\n",
              "    .dataframe thead th {\n",
              "        text-align: right;\n",
              "    }\n",
              "</style>\n",
              "<table border=\"1\" class=\"dataframe\">\n",
              "  <thead>\n",
              "    <tr style=\"text-align: right;\">\n",
              "      <th></th>\n",
              "      <th>First Name</th>\n",
              "      <th>Last Name</th>\n",
              "      <th>Age</th>\n",
              "      <th>Hourly Wage</th>\n",
              "      <th>Hours per week</th>\n",
              "      <th>Years of experience</th>\n",
              "      <th>Full Name</th>\n",
              "      <th>Weekly Salary</th>\n",
              "    </tr>\n",
              "  </thead>\n",
              "  <tbody>\n",
              "    <tr>\n",
              "      <th>0</th>\n",
              "      <td>Jennifer</td>\n",
              "      <td>Brown</td>\n",
              "      <td>16</td>\n",
              "      <td>8</td>\n",
              "      <td>20</td>\n",
              "      <td>0.0</td>\n",
              "      <td>Jennifer Brown</td>\n",
              "      <td>160</td>\n",
              "    </tr>\n",
              "    <tr>\n",
              "      <th>1</th>\n",
              "      <td>Chris</td>\n",
              "      <td>Smith</td>\n",
              "      <td>32</td>\n",
              "      <td>14</td>\n",
              "      <td>28</td>\n",
              "      <td>2.0</td>\n",
              "      <td>Chris Smith</td>\n",
              "      <td>392</td>\n",
              "    </tr>\n",
              "    <tr>\n",
              "      <th>2</th>\n",
              "      <td>John</td>\n",
              "      <td>Williams</td>\n",
              "      <td>21</td>\n",
              "      <td>60</td>\n",
              "      <td>40</td>\n",
              "      <td>NaN</td>\n",
              "      <td>John Williams</td>\n",
              "      <td>2400</td>\n",
              "    </tr>\n",
              "    <tr>\n",
              "      <th>3</th>\n",
              "      <td>Annie</td>\n",
              "      <td>Wong</td>\n",
              "      <td>35</td>\n",
              "      <td>44</td>\n",
              "      <td>40</td>\n",
              "      <td>9.0</td>\n",
              "      <td>Annie Wong</td>\n",
              "      <td>1760</td>\n",
              "    </tr>\n",
              "    <tr>\n",
              "      <th>4</th>\n",
              "      <td>Chloe</td>\n",
              "      <td>Anderson</td>\n",
              "      <td>27</td>\n",
              "      <td>80</td>\n",
              "      <td>32</td>\n",
              "      <td>NaN</td>\n",
              "      <td>Chloe Anderson</td>\n",
              "      <td>2560</td>\n",
              "    </tr>\n",
              "    <tr>\n",
              "      <th>5</th>\n",
              "      <td>Jeremy</td>\n",
              "      <td>Scott</td>\n",
              "      <td>42</td>\n",
              "      <td>54</td>\n",
              "      <td>40</td>\n",
              "      <td>4.0</td>\n",
              "      <td>Jeremy Scott</td>\n",
              "      <td>2160</td>\n",
              "    </tr>\n",
              "    <tr>\n",
              "      <th>6</th>\n",
              "      <td>Allison</td>\n",
              "      <td>Kim</td>\n",
              "      <td>28</td>\n",
              "      <td>32</td>\n",
              "      <td>40</td>\n",
              "      <td>5.0</td>\n",
              "      <td>Allison Kim</td>\n",
              "      <td>1280</td>\n",
              "    </tr>\n",
              "    <tr>\n",
              "      <th>7</th>\n",
              "      <td>Hannah</td>\n",
              "      <td>Mills</td>\n",
              "      <td>23</td>\n",
              "      <td>16</td>\n",
              "      <td>20</td>\n",
              "      <td>NaN</td>\n",
              "      <td>Hannah Mills</td>\n",
              "      <td>320</td>\n",
              "    </tr>\n",
              "  </tbody>\n",
              "</table>\n",
              "</div>"
            ],
            "text/plain": [
              "  First Name Last Name  Age  ...  Years of experience       Full Name  Weekly Salary\n",
              "0   Jennifer     Brown   16  ...                  0.0  Jennifer Brown            160\n",
              "1      Chris     Smith   32  ...                  2.0     Chris Smith            392\n",
              "2       John  Williams   21  ...                  NaN   John Williams           2400\n",
              "3      Annie      Wong   35  ...                  9.0      Annie Wong           1760\n",
              "4      Chloe  Anderson   27  ...                  NaN  Chloe Anderson           2560\n",
              "5     Jeremy     Scott   42  ...                  4.0    Jeremy Scott           2160\n",
              "6    Allison       Kim   28  ...                  5.0     Allison Kim           1280\n",
              "7     Hannah     Mills   23  ...                  NaN    Hannah Mills            320\n",
              "\n",
              "[8 rows x 8 columns]"
            ]
          },
          "metadata": {
            "tags": []
          },
          "execution_count": 37
        }
      ]
    },
    {
      "cell_type": "markdown",
      "metadata": {
        "id": "2sVeQuAODYPT"
      },
      "source": [
        "Now, we've added two columns \"Full Name\" and \"Weekly Salary.\"\n",
        "\n",
        "#### List Comprehension\n",
        "\n",
        "Let's create a new column called ```High Income``` based on the ```Weekly Salary```. We will use a list comprehension for this (you can refer to Week 2 materials if you can't recall what list comprehensions are.)\n",
        "\n",
        "```High Income``` will be ```True``` if ```Weekly Salary``` is > 2000, otherwise `False`."
      ]
    },
    {
      "cell_type": "code",
      "metadata": {
        "id": "g3doGL0WBUBA",
        "scrolled": true,
        "outputId": "6a9cc0d3-1158-45c4-aa90-b9c6d630491c",
        "colab": {
          "base_uri": "https://localhost:8080/",
          "height": 294
        }
      },
      "source": [
        "# list comprehension\n",
        "emp['High Income'] = [True if x > 2000 else False for x in emp['Weekly Salary']]\n",
        "emp"
      ],
      "execution_count": null,
      "outputs": [
        {
          "output_type": "execute_result",
          "data": {
            "text/html": [
              "<div>\n",
              "<style scoped>\n",
              "    .dataframe tbody tr th:only-of-type {\n",
              "        vertical-align: middle;\n",
              "    }\n",
              "\n",
              "    .dataframe tbody tr th {\n",
              "        vertical-align: top;\n",
              "    }\n",
              "\n",
              "    .dataframe thead th {\n",
              "        text-align: right;\n",
              "    }\n",
              "</style>\n",
              "<table border=\"1\" class=\"dataframe\">\n",
              "  <thead>\n",
              "    <tr style=\"text-align: right;\">\n",
              "      <th></th>\n",
              "      <th>First Name</th>\n",
              "      <th>Last Name</th>\n",
              "      <th>Age</th>\n",
              "      <th>Hourly Wage</th>\n",
              "      <th>Hours per week</th>\n",
              "      <th>Years of experience</th>\n",
              "      <th>Full Name</th>\n",
              "      <th>Weekly Salary</th>\n",
              "      <th>High Income</th>\n",
              "    </tr>\n",
              "  </thead>\n",
              "  <tbody>\n",
              "    <tr>\n",
              "      <th>0</th>\n",
              "      <td>Jennifer</td>\n",
              "      <td>Brown</td>\n",
              "      <td>16</td>\n",
              "      <td>8</td>\n",
              "      <td>20</td>\n",
              "      <td>0.0</td>\n",
              "      <td>Jennifer Brown</td>\n",
              "      <td>160</td>\n",
              "      <td>False</td>\n",
              "    </tr>\n",
              "    <tr>\n",
              "      <th>1</th>\n",
              "      <td>Chris</td>\n",
              "      <td>Smith</td>\n",
              "      <td>32</td>\n",
              "      <td>14</td>\n",
              "      <td>28</td>\n",
              "      <td>2.0</td>\n",
              "      <td>Chris Smith</td>\n",
              "      <td>392</td>\n",
              "      <td>False</td>\n",
              "    </tr>\n",
              "    <tr>\n",
              "      <th>2</th>\n",
              "      <td>John</td>\n",
              "      <td>Williams</td>\n",
              "      <td>21</td>\n",
              "      <td>60</td>\n",
              "      <td>40</td>\n",
              "      <td>NaN</td>\n",
              "      <td>John Williams</td>\n",
              "      <td>2400</td>\n",
              "      <td>True</td>\n",
              "    </tr>\n",
              "    <tr>\n",
              "      <th>3</th>\n",
              "      <td>Annie</td>\n",
              "      <td>Wong</td>\n",
              "      <td>35</td>\n",
              "      <td>44</td>\n",
              "      <td>40</td>\n",
              "      <td>9.0</td>\n",
              "      <td>Annie Wong</td>\n",
              "      <td>1760</td>\n",
              "      <td>False</td>\n",
              "    </tr>\n",
              "    <tr>\n",
              "      <th>4</th>\n",
              "      <td>Chloe</td>\n",
              "      <td>Anderson</td>\n",
              "      <td>27</td>\n",
              "      <td>80</td>\n",
              "      <td>32</td>\n",
              "      <td>NaN</td>\n",
              "      <td>Chloe Anderson</td>\n",
              "      <td>2560</td>\n",
              "      <td>True</td>\n",
              "    </tr>\n",
              "    <tr>\n",
              "      <th>5</th>\n",
              "      <td>Jeremy</td>\n",
              "      <td>Scott</td>\n",
              "      <td>42</td>\n",
              "      <td>54</td>\n",
              "      <td>40</td>\n",
              "      <td>4.0</td>\n",
              "      <td>Jeremy Scott</td>\n",
              "      <td>2160</td>\n",
              "      <td>True</td>\n",
              "    </tr>\n",
              "    <tr>\n",
              "      <th>6</th>\n",
              "      <td>Allison</td>\n",
              "      <td>Kim</td>\n",
              "      <td>28</td>\n",
              "      <td>32</td>\n",
              "      <td>40</td>\n",
              "      <td>5.0</td>\n",
              "      <td>Allison Kim</td>\n",
              "      <td>1280</td>\n",
              "      <td>False</td>\n",
              "    </tr>\n",
              "    <tr>\n",
              "      <th>7</th>\n",
              "      <td>Hannah</td>\n",
              "      <td>Mills</td>\n",
              "      <td>23</td>\n",
              "      <td>16</td>\n",
              "      <td>20</td>\n",
              "      <td>NaN</td>\n",
              "      <td>Hannah Mills</td>\n",
              "      <td>320</td>\n",
              "      <td>False</td>\n",
              "    </tr>\n",
              "  </tbody>\n",
              "</table>\n",
              "</div>"
            ],
            "text/plain": [
              "  First Name Last Name  Age  ...       Full Name  Weekly Salary  High Income\n",
              "0   Jennifer     Brown   16  ...  Jennifer Brown            160        False\n",
              "1      Chris     Smith   32  ...     Chris Smith            392        False\n",
              "2       John  Williams   21  ...   John Williams           2400         True\n",
              "3      Annie      Wong   35  ...      Annie Wong           1760        False\n",
              "4      Chloe  Anderson   27  ...  Chloe Anderson           2560         True\n",
              "5     Jeremy     Scott   42  ...    Jeremy Scott           2160         True\n",
              "6    Allison       Kim   28  ...     Allison Kim           1280        False\n",
              "7     Hannah     Mills   23  ...    Hannah Mills            320        False\n",
              "\n",
              "[8 rows x 9 columns]"
            ]
          },
          "metadata": {
            "tags": []
          },
          "execution_count": 38
        }
      ]
    },
    {
      "cell_type": "markdown",
      "metadata": {
        "id": "YImlimn40CP8"
      },
      "source": [
        "### Fill in NaN values"
      ]
    },
    {
      "cell_type": "markdown",
      "metadata": {
        "id": "4ot_94dG0CP9"
      },
      "source": [
        "There are lots of ```NaN``` values (missing values) in ```Years of experience```.\n",
        "\n",
        "Let's fill in these missing values with 0's using ```fillna(0)```."
      ]
    },
    {
      "cell_type": "code",
      "metadata": {
        "id": "kHLMKs4P0CP9"
      },
      "source": [
        "emp['Years of experience'].fillna(0, inplace=True)"
      ],
      "execution_count": null,
      "outputs": []
    },
    {
      "cell_type": "markdown",
      "metadata": {
        "id": "Gd6mTknM0CP_"
      },
      "source": [
        "If we want to replace all missing values in the dataset, we can call ```fillna(0)``` on the dataframe itself."
      ]
    },
    {
      "cell_type": "code",
      "metadata": {
        "id": "BmKiVBB-0CQA"
      },
      "source": [
        "emp.fillna(0, inplace=True)"
      ],
      "execution_count": null,
      "outputs": []
    },
    {
      "cell_type": "markdown",
      "metadata": {
        "id": "RmD7OwLghrOl"
      },
      "source": [
        "### Sorting the Dataset\n",
        "\n",
        "Let's sort the data by 'Weekly Salary'."
      ]
    },
    {
      "cell_type": "code",
      "metadata": {
        "id": "KaBiarDihijf",
        "outputId": "4d4aba75-0ea6-41e7-b42a-c1220aa0cba8",
        "colab": {
          "base_uri": "https://localhost:8080/",
          "height": 294
        }
      },
      "source": [
        "emp.sort_values(by='Weekly Salary')"
      ],
      "execution_count": null,
      "outputs": [
        {
          "output_type": "execute_result",
          "data": {
            "text/html": [
              "<div>\n",
              "<style scoped>\n",
              "    .dataframe tbody tr th:only-of-type {\n",
              "        vertical-align: middle;\n",
              "    }\n",
              "\n",
              "    .dataframe tbody tr th {\n",
              "        vertical-align: top;\n",
              "    }\n",
              "\n",
              "    .dataframe thead th {\n",
              "        text-align: right;\n",
              "    }\n",
              "</style>\n",
              "<table border=\"1\" class=\"dataframe\">\n",
              "  <thead>\n",
              "    <tr style=\"text-align: right;\">\n",
              "      <th></th>\n",
              "      <th>First Name</th>\n",
              "      <th>Last Name</th>\n",
              "      <th>Age</th>\n",
              "      <th>Hourly Wage</th>\n",
              "      <th>Hours per week</th>\n",
              "      <th>Years of experience</th>\n",
              "      <th>Full Name</th>\n",
              "      <th>Weekly Salary</th>\n",
              "      <th>High Income</th>\n",
              "    </tr>\n",
              "  </thead>\n",
              "  <tbody>\n",
              "    <tr>\n",
              "      <th>0</th>\n",
              "      <td>Jennifer</td>\n",
              "      <td>Brown</td>\n",
              "      <td>16</td>\n",
              "      <td>8</td>\n",
              "      <td>20</td>\n",
              "      <td>0.0</td>\n",
              "      <td>Jennifer Brown</td>\n",
              "      <td>160</td>\n",
              "      <td>False</td>\n",
              "    </tr>\n",
              "    <tr>\n",
              "      <th>7</th>\n",
              "      <td>Hannah</td>\n",
              "      <td>Mills</td>\n",
              "      <td>23</td>\n",
              "      <td>16</td>\n",
              "      <td>20</td>\n",
              "      <td>0.0</td>\n",
              "      <td>Hannah Mills</td>\n",
              "      <td>320</td>\n",
              "      <td>False</td>\n",
              "    </tr>\n",
              "    <tr>\n",
              "      <th>1</th>\n",
              "      <td>Chris</td>\n",
              "      <td>Smith</td>\n",
              "      <td>32</td>\n",
              "      <td>14</td>\n",
              "      <td>28</td>\n",
              "      <td>2.0</td>\n",
              "      <td>Chris Smith</td>\n",
              "      <td>392</td>\n",
              "      <td>False</td>\n",
              "    </tr>\n",
              "    <tr>\n",
              "      <th>6</th>\n",
              "      <td>Allison</td>\n",
              "      <td>Kim</td>\n",
              "      <td>28</td>\n",
              "      <td>32</td>\n",
              "      <td>40</td>\n",
              "      <td>5.0</td>\n",
              "      <td>Allison Kim</td>\n",
              "      <td>1280</td>\n",
              "      <td>False</td>\n",
              "    </tr>\n",
              "    <tr>\n",
              "      <th>3</th>\n",
              "      <td>Annie</td>\n",
              "      <td>Wong</td>\n",
              "      <td>35</td>\n",
              "      <td>44</td>\n",
              "      <td>40</td>\n",
              "      <td>9.0</td>\n",
              "      <td>Annie Wong</td>\n",
              "      <td>1760</td>\n",
              "      <td>False</td>\n",
              "    </tr>\n",
              "    <tr>\n",
              "      <th>5</th>\n",
              "      <td>Jeremy</td>\n",
              "      <td>Scott</td>\n",
              "      <td>42</td>\n",
              "      <td>54</td>\n",
              "      <td>40</td>\n",
              "      <td>4.0</td>\n",
              "      <td>Jeremy Scott</td>\n",
              "      <td>2160</td>\n",
              "      <td>True</td>\n",
              "    </tr>\n",
              "    <tr>\n",
              "      <th>2</th>\n",
              "      <td>John</td>\n",
              "      <td>Williams</td>\n",
              "      <td>21</td>\n",
              "      <td>60</td>\n",
              "      <td>40</td>\n",
              "      <td>0.0</td>\n",
              "      <td>John Williams</td>\n",
              "      <td>2400</td>\n",
              "      <td>True</td>\n",
              "    </tr>\n",
              "    <tr>\n",
              "      <th>4</th>\n",
              "      <td>Chloe</td>\n",
              "      <td>Anderson</td>\n",
              "      <td>27</td>\n",
              "      <td>80</td>\n",
              "      <td>32</td>\n",
              "      <td>0.0</td>\n",
              "      <td>Chloe Anderson</td>\n",
              "      <td>2560</td>\n",
              "      <td>True</td>\n",
              "    </tr>\n",
              "  </tbody>\n",
              "</table>\n",
              "</div>"
            ],
            "text/plain": [
              "  First Name Last Name  Age  ...       Full Name  Weekly Salary  High Income\n",
              "0   Jennifer     Brown   16  ...  Jennifer Brown            160        False\n",
              "7     Hannah     Mills   23  ...    Hannah Mills            320        False\n",
              "1      Chris     Smith   32  ...     Chris Smith            392        False\n",
              "6    Allison       Kim   28  ...     Allison Kim           1280        False\n",
              "3      Annie      Wong   35  ...      Annie Wong           1760        False\n",
              "5     Jeremy     Scott   42  ...    Jeremy Scott           2160         True\n",
              "2       John  Williams   21  ...   John Williams           2400         True\n",
              "4      Chloe  Anderson   27  ...  Chloe Anderson           2560         True\n",
              "\n",
              "[8 rows x 9 columns]"
            ]
          },
          "metadata": {
            "tags": []
          },
          "execution_count": 41
        }
      ]
    },
    {
      "cell_type": "markdown",
      "metadata": {
        "id": "sjwwN40_NNE7"
      },
      "source": [
        "Now, all of the high income workers are located at the bottom of the dataset."
      ]
    },
    {
      "cell_type": "markdown",
      "metadata": {
        "id": "yylmga3XDdEC"
      },
      "source": [
        "### Selecting a Subset of Data based on a Condition\n",
        "\n",
        "Let's review how we can select subsets of data based on specified criteria.\n",
        "\n",
        "Selecting rows where 'High Income' is True:"
      ]
    },
    {
      "cell_type": "code",
      "metadata": {
        "id": "YTvKOQLnDCxc",
        "outputId": "aab358de-d8b3-48ce-a2ba-4e88555f5444",
        "colab": {
          "base_uri": "https://localhost:8080/",
          "height": 141
        }
      },
      "source": [
        "emp[emp['High Income'] == True]"
      ],
      "execution_count": null,
      "outputs": [
        {
          "output_type": "execute_result",
          "data": {
            "text/html": [
              "<div>\n",
              "<style scoped>\n",
              "    .dataframe tbody tr th:only-of-type {\n",
              "        vertical-align: middle;\n",
              "    }\n",
              "\n",
              "    .dataframe tbody tr th {\n",
              "        vertical-align: top;\n",
              "    }\n",
              "\n",
              "    .dataframe thead th {\n",
              "        text-align: right;\n",
              "    }\n",
              "</style>\n",
              "<table border=\"1\" class=\"dataframe\">\n",
              "  <thead>\n",
              "    <tr style=\"text-align: right;\">\n",
              "      <th></th>\n",
              "      <th>First Name</th>\n",
              "      <th>Last Name</th>\n",
              "      <th>Age</th>\n",
              "      <th>Hourly Wage</th>\n",
              "      <th>Hours per week</th>\n",
              "      <th>Years of experience</th>\n",
              "      <th>Full Name</th>\n",
              "      <th>Weekly Salary</th>\n",
              "      <th>High Income</th>\n",
              "    </tr>\n",
              "  </thead>\n",
              "  <tbody>\n",
              "    <tr>\n",
              "      <th>2</th>\n",
              "      <td>John</td>\n",
              "      <td>Williams</td>\n",
              "      <td>21</td>\n",
              "      <td>60</td>\n",
              "      <td>40</td>\n",
              "      <td>0.0</td>\n",
              "      <td>John Williams</td>\n",
              "      <td>2400</td>\n",
              "      <td>True</td>\n",
              "    </tr>\n",
              "    <tr>\n",
              "      <th>4</th>\n",
              "      <td>Chloe</td>\n",
              "      <td>Anderson</td>\n",
              "      <td>27</td>\n",
              "      <td>80</td>\n",
              "      <td>32</td>\n",
              "      <td>0.0</td>\n",
              "      <td>Chloe Anderson</td>\n",
              "      <td>2560</td>\n",
              "      <td>True</td>\n",
              "    </tr>\n",
              "    <tr>\n",
              "      <th>5</th>\n",
              "      <td>Jeremy</td>\n",
              "      <td>Scott</td>\n",
              "      <td>42</td>\n",
              "      <td>54</td>\n",
              "      <td>40</td>\n",
              "      <td>4.0</td>\n",
              "      <td>Jeremy Scott</td>\n",
              "      <td>2160</td>\n",
              "      <td>True</td>\n",
              "    </tr>\n",
              "  </tbody>\n",
              "</table>\n",
              "</div>"
            ],
            "text/plain": [
              "  First Name Last Name  Age  ...       Full Name  Weekly Salary  High Income\n",
              "2       John  Williams   21  ...   John Williams           2400         True\n",
              "4      Chloe  Anderson   27  ...  Chloe Anderson           2560         True\n",
              "5     Jeremy     Scott   42  ...    Jeremy Scott           2160         True\n",
              "\n",
              "[3 rows x 9 columns]"
            ]
          },
          "metadata": {
            "tags": []
          },
          "execution_count": 42
        }
      ]
    },
    {
      "cell_type": "markdown",
      "metadata": {
        "id": "05x_BcYbiXE7"
      },
      "source": [
        "### 5.0 - Now Try This\n",
        "\n",
        "Let's find people who are younger than 30 AND have high income.\n",
        "\n",
        "(Hint: Make sure to use ```()``` on each condition.)"
      ]
    },
    {
      "cell_type": "markdown",
      "metadata": {
        "id": "tUK8ezg5DjbQ"
      },
      "source": [
        "### Dropping Rows\n",
        "\n",
        "There are two ways of dropping rows.\n",
        "\n",
        "1. ```df.drop(index #)```\n",
        "2. ```df.drop(df[<some boolean condition>].index)```: \n",
        "\n",
        "The first line is used when we know exactly which rows we want to drop from the dataframe.\n",
        "We use the second line to drop rows that do not meet certain criteria."
      ]
    },
    {
      "cell_type": "markdown",
      "metadata": {
        "id": "rEePojCD0CQG"
      },
      "source": [
        "Let's drop rows where 'High Income' is False."
      ]
    },
    {
      "cell_type": "code",
      "metadata": {
        "id": "WgV-dhN5CpYt",
        "scrolled": true,
        "outputId": "e2a768b3-6a29-437a-debe-8669286a0b07",
        "colab": {
          "base_uri": "https://localhost:8080/",
          "height": 141
        }
      },
      "source": [
        "emp.drop(emp[emp['High Income'] == False].index)"
      ],
      "execution_count": null,
      "outputs": [
        {
          "output_type": "execute_result",
          "data": {
            "text/html": [
              "<div>\n",
              "<style scoped>\n",
              "    .dataframe tbody tr th:only-of-type {\n",
              "        vertical-align: middle;\n",
              "    }\n",
              "\n",
              "    .dataframe tbody tr th {\n",
              "        vertical-align: top;\n",
              "    }\n",
              "\n",
              "    .dataframe thead th {\n",
              "        text-align: right;\n",
              "    }\n",
              "</style>\n",
              "<table border=\"1\" class=\"dataframe\">\n",
              "  <thead>\n",
              "    <tr style=\"text-align: right;\">\n",
              "      <th></th>\n",
              "      <th>First Name</th>\n",
              "      <th>Last Name</th>\n",
              "      <th>Age</th>\n",
              "      <th>Hourly Wage</th>\n",
              "      <th>Hours per week</th>\n",
              "      <th>Years of experience</th>\n",
              "      <th>Full Name</th>\n",
              "      <th>Weekly Salary</th>\n",
              "      <th>High Income</th>\n",
              "    </tr>\n",
              "  </thead>\n",
              "  <tbody>\n",
              "    <tr>\n",
              "      <th>2</th>\n",
              "      <td>John</td>\n",
              "      <td>Williams</td>\n",
              "      <td>21</td>\n",
              "      <td>60</td>\n",
              "      <td>40</td>\n",
              "      <td>0.0</td>\n",
              "      <td>John Williams</td>\n",
              "      <td>2400</td>\n",
              "      <td>True</td>\n",
              "    </tr>\n",
              "    <tr>\n",
              "      <th>4</th>\n",
              "      <td>Chloe</td>\n",
              "      <td>Anderson</td>\n",
              "      <td>27</td>\n",
              "      <td>80</td>\n",
              "      <td>32</td>\n",
              "      <td>0.0</td>\n",
              "      <td>Chloe Anderson</td>\n",
              "      <td>2560</td>\n",
              "      <td>True</td>\n",
              "    </tr>\n",
              "    <tr>\n",
              "      <th>5</th>\n",
              "      <td>Jeremy</td>\n",
              "      <td>Scott</td>\n",
              "      <td>42</td>\n",
              "      <td>54</td>\n",
              "      <td>40</td>\n",
              "      <td>4.0</td>\n",
              "      <td>Jeremy Scott</td>\n",
              "      <td>2160</td>\n",
              "      <td>True</td>\n",
              "    </tr>\n",
              "  </tbody>\n",
              "</table>\n",
              "</div>"
            ],
            "text/plain": [
              "  First Name Last Name  Age  ...       Full Name  Weekly Salary  High Income\n",
              "2       John  Williams   21  ...   John Williams           2400         True\n",
              "4      Chloe  Anderson   27  ...  Chloe Anderson           2560         True\n",
              "5     Jeremy     Scott   42  ...    Jeremy Scott           2160         True\n",
              "\n",
              "[3 rows x 9 columns]"
            ]
          },
          "metadata": {
            "tags": []
          },
          "execution_count": 43
        }
      ]
    },
    {
      "cell_type": "code",
      "metadata": {
        "id": "uTtNKR8C0CQJ",
        "outputId": "78169ad5-bc4d-4ac4-b166-dae38079520a",
        "colab": {
          "base_uri": "https://localhost:8080/",
          "height": 294
        }
      },
      "source": [
        "emp"
      ],
      "execution_count": null,
      "outputs": [
        {
          "output_type": "execute_result",
          "data": {
            "text/html": [
              "<div>\n",
              "<style scoped>\n",
              "    .dataframe tbody tr th:only-of-type {\n",
              "        vertical-align: middle;\n",
              "    }\n",
              "\n",
              "    .dataframe tbody tr th {\n",
              "        vertical-align: top;\n",
              "    }\n",
              "\n",
              "    .dataframe thead th {\n",
              "        text-align: right;\n",
              "    }\n",
              "</style>\n",
              "<table border=\"1\" class=\"dataframe\">\n",
              "  <thead>\n",
              "    <tr style=\"text-align: right;\">\n",
              "      <th></th>\n",
              "      <th>First Name</th>\n",
              "      <th>Last Name</th>\n",
              "      <th>Age</th>\n",
              "      <th>Hourly Wage</th>\n",
              "      <th>Hours per week</th>\n",
              "      <th>Years of experience</th>\n",
              "      <th>Full Name</th>\n",
              "      <th>Weekly Salary</th>\n",
              "      <th>High Income</th>\n",
              "    </tr>\n",
              "  </thead>\n",
              "  <tbody>\n",
              "    <tr>\n",
              "      <th>0</th>\n",
              "      <td>Jennifer</td>\n",
              "      <td>Brown</td>\n",
              "      <td>16</td>\n",
              "      <td>8</td>\n",
              "      <td>20</td>\n",
              "      <td>0.0</td>\n",
              "      <td>Jennifer Brown</td>\n",
              "      <td>160</td>\n",
              "      <td>False</td>\n",
              "    </tr>\n",
              "    <tr>\n",
              "      <th>1</th>\n",
              "      <td>Chris</td>\n",
              "      <td>Smith</td>\n",
              "      <td>32</td>\n",
              "      <td>14</td>\n",
              "      <td>28</td>\n",
              "      <td>2.0</td>\n",
              "      <td>Chris Smith</td>\n",
              "      <td>392</td>\n",
              "      <td>False</td>\n",
              "    </tr>\n",
              "    <tr>\n",
              "      <th>2</th>\n",
              "      <td>John</td>\n",
              "      <td>Williams</td>\n",
              "      <td>21</td>\n",
              "      <td>60</td>\n",
              "      <td>40</td>\n",
              "      <td>0.0</td>\n",
              "      <td>John Williams</td>\n",
              "      <td>2400</td>\n",
              "      <td>True</td>\n",
              "    </tr>\n",
              "    <tr>\n",
              "      <th>3</th>\n",
              "      <td>Annie</td>\n",
              "      <td>Wong</td>\n",
              "      <td>35</td>\n",
              "      <td>44</td>\n",
              "      <td>40</td>\n",
              "      <td>9.0</td>\n",
              "      <td>Annie Wong</td>\n",
              "      <td>1760</td>\n",
              "      <td>False</td>\n",
              "    </tr>\n",
              "    <tr>\n",
              "      <th>4</th>\n",
              "      <td>Chloe</td>\n",
              "      <td>Anderson</td>\n",
              "      <td>27</td>\n",
              "      <td>80</td>\n",
              "      <td>32</td>\n",
              "      <td>0.0</td>\n",
              "      <td>Chloe Anderson</td>\n",
              "      <td>2560</td>\n",
              "      <td>True</td>\n",
              "    </tr>\n",
              "    <tr>\n",
              "      <th>5</th>\n",
              "      <td>Jeremy</td>\n",
              "      <td>Scott</td>\n",
              "      <td>42</td>\n",
              "      <td>54</td>\n",
              "      <td>40</td>\n",
              "      <td>4.0</td>\n",
              "      <td>Jeremy Scott</td>\n",
              "      <td>2160</td>\n",
              "      <td>True</td>\n",
              "    </tr>\n",
              "    <tr>\n",
              "      <th>6</th>\n",
              "      <td>Allison</td>\n",
              "      <td>Kim</td>\n",
              "      <td>28</td>\n",
              "      <td>32</td>\n",
              "      <td>40</td>\n",
              "      <td>5.0</td>\n",
              "      <td>Allison Kim</td>\n",
              "      <td>1280</td>\n",
              "      <td>False</td>\n",
              "    </tr>\n",
              "    <tr>\n",
              "      <th>7</th>\n",
              "      <td>Hannah</td>\n",
              "      <td>Mills</td>\n",
              "      <td>23</td>\n",
              "      <td>16</td>\n",
              "      <td>20</td>\n",
              "      <td>0.0</td>\n",
              "      <td>Hannah Mills</td>\n",
              "      <td>320</td>\n",
              "      <td>False</td>\n",
              "    </tr>\n",
              "  </tbody>\n",
              "</table>\n",
              "</div>"
            ],
            "text/plain": [
              "  First Name Last Name  Age  ...       Full Name  Weekly Salary  High Income\n",
              "0   Jennifer     Brown   16  ...  Jennifer Brown            160        False\n",
              "1      Chris     Smith   32  ...     Chris Smith            392        False\n",
              "2       John  Williams   21  ...   John Williams           2400         True\n",
              "3      Annie      Wong   35  ...      Annie Wong           1760        False\n",
              "4      Chloe  Anderson   27  ...  Chloe Anderson           2560         True\n",
              "5     Jeremy     Scott   42  ...    Jeremy Scott           2160         True\n",
              "6    Allison       Kim   28  ...     Allison Kim           1280        False\n",
              "7     Hannah     Mills   23  ...    Hannah Mills            320        False\n",
              "\n",
              "[8 rows x 9 columns]"
            ]
          },
          "metadata": {
            "tags": []
          },
          "execution_count": 44
        }
      ]
    },
    {
      "cell_type": "markdown",
      "metadata": {
        "id": "cv86yEkODqPa"
      },
      "source": [
        "Even though we dropped the columns where High Income == False, `emp` remains unchanged.\n",
        "\n",
        "This is because we didn't update `emp`!\n",
        "\n",
        "We can update the dataframe once we drop the rows by setting ```inplace=True```."
      ]
    },
    {
      "cell_type": "code",
      "metadata": {
        "id": "JbmnWKy1PCRc"
      },
      "source": [
        "emp.drop(emp[emp['High Income'] == False].index, inplace=True)"
      ],
      "execution_count": null,
      "outputs": []
    },
    {
      "cell_type": "code",
      "metadata": {
        "scrolled": true,
        "id": "YR6uD3z90CQO",
        "outputId": "83e8afe5-0727-452a-aad8-3480ef8892a2",
        "colab": {
          "base_uri": "https://localhost:8080/",
          "height": 141
        }
      },
      "source": [
        "emp"
      ],
      "execution_count": null,
      "outputs": [
        {
          "output_type": "execute_result",
          "data": {
            "text/html": [
              "<div>\n",
              "<style scoped>\n",
              "    .dataframe tbody tr th:only-of-type {\n",
              "        vertical-align: middle;\n",
              "    }\n",
              "\n",
              "    .dataframe tbody tr th {\n",
              "        vertical-align: top;\n",
              "    }\n",
              "\n",
              "    .dataframe thead th {\n",
              "        text-align: right;\n",
              "    }\n",
              "</style>\n",
              "<table border=\"1\" class=\"dataframe\">\n",
              "  <thead>\n",
              "    <tr style=\"text-align: right;\">\n",
              "      <th></th>\n",
              "      <th>First Name</th>\n",
              "      <th>Last Name</th>\n",
              "      <th>Age</th>\n",
              "      <th>Hourly Wage</th>\n",
              "      <th>Hours per week</th>\n",
              "      <th>Years of experience</th>\n",
              "      <th>Full Name</th>\n",
              "      <th>Weekly Salary</th>\n",
              "      <th>High Income</th>\n",
              "    </tr>\n",
              "  </thead>\n",
              "  <tbody>\n",
              "    <tr>\n",
              "      <th>2</th>\n",
              "      <td>John</td>\n",
              "      <td>Williams</td>\n",
              "      <td>21</td>\n",
              "      <td>60</td>\n",
              "      <td>40</td>\n",
              "      <td>0.0</td>\n",
              "      <td>John Williams</td>\n",
              "      <td>2400</td>\n",
              "      <td>True</td>\n",
              "    </tr>\n",
              "    <tr>\n",
              "      <th>4</th>\n",
              "      <td>Chloe</td>\n",
              "      <td>Anderson</td>\n",
              "      <td>27</td>\n",
              "      <td>80</td>\n",
              "      <td>32</td>\n",
              "      <td>0.0</td>\n",
              "      <td>Chloe Anderson</td>\n",
              "      <td>2560</td>\n",
              "      <td>True</td>\n",
              "    </tr>\n",
              "    <tr>\n",
              "      <th>5</th>\n",
              "      <td>Jeremy</td>\n",
              "      <td>Scott</td>\n",
              "      <td>42</td>\n",
              "      <td>54</td>\n",
              "      <td>40</td>\n",
              "      <td>4.0</td>\n",
              "      <td>Jeremy Scott</td>\n",
              "      <td>2160</td>\n",
              "      <td>True</td>\n",
              "    </tr>\n",
              "  </tbody>\n",
              "</table>\n",
              "</div>"
            ],
            "text/plain": [
              "  First Name Last Name  Age  ...       Full Name  Weekly Salary  High Income\n",
              "2       John  Williams   21  ...   John Williams           2400         True\n",
              "4      Chloe  Anderson   27  ...  Chloe Anderson           2560         True\n",
              "5     Jeremy     Scott   42  ...    Jeremy Scott           2160         True\n",
              "\n",
              "[3 rows x 9 columns]"
            ]
          },
          "metadata": {
            "tags": []
          },
          "execution_count": 46
        }
      ]
    },
    {
      "cell_type": "markdown",
      "metadata": {
        "id": "uv47XBvZ0CQP"
      },
      "source": [
        "Here we go! `emp` has been updated!"
      ]
    },
    {
      "cell_type": "markdown",
      "metadata": {
        "id": "Wc0vZktaD0f2"
      },
      "source": [
        "### Company Dataframe\n",
        "\n",
        "Here, we have a dataset containing each person from  ```emp``` as well as information about what companies they work for."
      ]
    },
    {
      "cell_type": "code",
      "metadata": {
        "id": "q0yelL2KEN9C"
      },
      "source": [
        "data = {'First Name': ['Jennifer', 'Chris', 'John', 'Annie', 'Chloe', 'Jeremy', 'Allison', 'Hannah'], \n",
        "        'Last Name': ['Brown', 'Smith', 'Williams', 'Wong', 'Anderson', 'Scott', 'Kim', 'Mills'], \n",
        "        'Company': ['Home Depot', 'Bit Project', 'Microsoft', 'Bit Project', 'Disney', 'Adidas', 'Home Depot', np.nan]\n",
        "        } \n",
        "\n",
        "companies = pd.DataFrame(data)"
      ],
      "execution_count": null,
      "outputs": []
    },
    {
      "cell_type": "code",
      "metadata": {
        "id": "h95qFZpcQpp6",
        "outputId": "4d434075-83b1-454d-e7ce-b2400e1b39ae",
        "colab": {
          "base_uri": "https://localhost:8080/",
          "height": 294
        }
      },
      "source": [
        "companies"
      ],
      "execution_count": null,
      "outputs": [
        {
          "output_type": "execute_result",
          "data": {
            "text/html": [
              "<div>\n",
              "<style scoped>\n",
              "    .dataframe tbody tr th:only-of-type {\n",
              "        vertical-align: middle;\n",
              "    }\n",
              "\n",
              "    .dataframe tbody tr th {\n",
              "        vertical-align: top;\n",
              "    }\n",
              "\n",
              "    .dataframe thead th {\n",
              "        text-align: right;\n",
              "    }\n",
              "</style>\n",
              "<table border=\"1\" class=\"dataframe\">\n",
              "  <thead>\n",
              "    <tr style=\"text-align: right;\">\n",
              "      <th></th>\n",
              "      <th>First Name</th>\n",
              "      <th>Last Name</th>\n",
              "      <th>Company</th>\n",
              "    </tr>\n",
              "  </thead>\n",
              "  <tbody>\n",
              "    <tr>\n",
              "      <th>0</th>\n",
              "      <td>Jennifer</td>\n",
              "      <td>Brown</td>\n",
              "      <td>Home Depot</td>\n",
              "    </tr>\n",
              "    <tr>\n",
              "      <th>1</th>\n",
              "      <td>Chris</td>\n",
              "      <td>Smith</td>\n",
              "      <td>Bit Project</td>\n",
              "    </tr>\n",
              "    <tr>\n",
              "      <th>2</th>\n",
              "      <td>John</td>\n",
              "      <td>Williams</td>\n",
              "      <td>Microsoft</td>\n",
              "    </tr>\n",
              "    <tr>\n",
              "      <th>3</th>\n",
              "      <td>Annie</td>\n",
              "      <td>Wong</td>\n",
              "      <td>Bit Project</td>\n",
              "    </tr>\n",
              "    <tr>\n",
              "      <th>4</th>\n",
              "      <td>Chloe</td>\n",
              "      <td>Anderson</td>\n",
              "      <td>Disney</td>\n",
              "    </tr>\n",
              "    <tr>\n",
              "      <th>5</th>\n",
              "      <td>Jeremy</td>\n",
              "      <td>Scott</td>\n",
              "      <td>Adidas</td>\n",
              "    </tr>\n",
              "    <tr>\n",
              "      <th>6</th>\n",
              "      <td>Allison</td>\n",
              "      <td>Kim</td>\n",
              "      <td>Home Depot</td>\n",
              "    </tr>\n",
              "    <tr>\n",
              "      <th>7</th>\n",
              "      <td>Hannah</td>\n",
              "      <td>Mills</td>\n",
              "      <td>NaN</td>\n",
              "    </tr>\n",
              "  </tbody>\n",
              "</table>\n",
              "</div>"
            ],
            "text/plain": [
              "  First Name Last Name      Company\n",
              "0   Jennifer     Brown   Home Depot\n",
              "1      Chris     Smith  Bit Project\n",
              "2       John  Williams    Microsoft\n",
              "3      Annie      Wong  Bit Project\n",
              "4      Chloe  Anderson       Disney\n",
              "5     Jeremy     Scott       Adidas\n",
              "6    Allison       Kim   Home Depot\n",
              "7     Hannah     Mills          NaN"
            ]
          },
          "metadata": {
            "tags": []
          },
          "execution_count": 48
        }
      ]
    },
    {
      "cell_type": "markdown",
      "metadata": {
        "id": "yOYExO1f0CQS"
      },
      "source": [
        "### Fill in NaN values\n",
        "\n",
        "In the dataframe, Hannah's company is ```NaN```. Let's replace it with a string \"UNKNOWN\"."
      ]
    },
    {
      "cell_type": "code",
      "metadata": {
        "id": "tzxcDksO0CQS"
      },
      "source": [
        "companies['Company'].fillna('UNKNOWN', inplace = True)"
      ],
      "execution_count": null,
      "outputs": []
    },
    {
      "cell_type": "markdown",
      "metadata": {
        "id": "JduGS8_60CQU"
      },
      "source": [
        "### Unique Values in a Column\n",
        "\n",
        "Let's find out the unique company names in the dataframe.\n",
        "\n",
        "```df[[column_name]].drop_duplicates()```\n",
        "\n",
        "This code will drop duplicates in the ```column_name```!"
      ]
    },
    {
      "cell_type": "code",
      "metadata": {
        "id": "e4pXcz2d0CQU",
        "outputId": "ee55c70b-5c0f-4aff-ab41-7c4c19cede01",
        "colab": {
          "base_uri": "https://localhost:8080/",
          "height": 233
        }
      },
      "source": [
        "companies[[\"Company\"]].drop_duplicates()"
      ],
      "execution_count": null,
      "outputs": [
        {
          "output_type": "execute_result",
          "data": {
            "text/html": [
              "<div>\n",
              "<style scoped>\n",
              "    .dataframe tbody tr th:only-of-type {\n",
              "        vertical-align: middle;\n",
              "    }\n",
              "\n",
              "    .dataframe tbody tr th {\n",
              "        vertical-align: top;\n",
              "    }\n",
              "\n",
              "    .dataframe thead th {\n",
              "        text-align: right;\n",
              "    }\n",
              "</style>\n",
              "<table border=\"1\" class=\"dataframe\">\n",
              "  <thead>\n",
              "    <tr style=\"text-align: right;\">\n",
              "      <th></th>\n",
              "      <th>Company</th>\n",
              "    </tr>\n",
              "  </thead>\n",
              "  <tbody>\n",
              "    <tr>\n",
              "      <th>0</th>\n",
              "      <td>Home Depot</td>\n",
              "    </tr>\n",
              "    <tr>\n",
              "      <th>1</th>\n",
              "      <td>Bit Project</td>\n",
              "    </tr>\n",
              "    <tr>\n",
              "      <th>2</th>\n",
              "      <td>Microsoft</td>\n",
              "    </tr>\n",
              "    <tr>\n",
              "      <th>4</th>\n",
              "      <td>Disney</td>\n",
              "    </tr>\n",
              "    <tr>\n",
              "      <th>5</th>\n",
              "      <td>Adidas</td>\n",
              "    </tr>\n",
              "    <tr>\n",
              "      <th>7</th>\n",
              "      <td>UNKNOWN</td>\n",
              "    </tr>\n",
              "  </tbody>\n",
              "</table>\n",
              "</div>"
            ],
            "text/plain": [
              "       Company\n",
              "0   Home Depot\n",
              "1  Bit Project\n",
              "2    Microsoft\n",
              "4       Disney\n",
              "5       Adidas\n",
              "7      UNKNOWN"
            ]
          },
          "metadata": {
            "tags": []
          },
          "execution_count": 50
        }
      ]
    },
    {
      "cell_type": "markdown",
      "metadata": {
        "id": "HLLaciDB0CQV"
      },
      "source": [
        "#### Count Unique Values\n",
        "\n",
        "With the ```groupby()``` and ```size()``` functions, we can count the occurrences of an unique value in a specific column."
      ]
    },
    {
      "cell_type": "code",
      "metadata": {
        "id": "DufMH0l_0CQW",
        "outputId": "5a1e4adb-a0ff-48fc-d8d1-cf10c0c223c2",
        "colab": {
          "base_uri": "https://localhost:8080/",
          "height": 156
        }
      },
      "source": [
        "companies.groupby(['Company']).size()"
      ],
      "execution_count": null,
      "outputs": [
        {
          "output_type": "execute_result",
          "data": {
            "text/plain": [
              "Company\n",
              "Adidas         1\n",
              "Bit Project    2\n",
              "Disney         1\n",
              "Home Depot     2\n",
              "Microsoft      1\n",
              "UNKNOWN        1\n",
              "dtype: int64"
            ]
          },
          "metadata": {
            "tags": []
          },
          "execution_count": 51
        }
      ]
    },
    {
      "cell_type": "markdown",
      "metadata": {
        "id": "PO1VsNvq0CQX"
      },
      "source": [
        "The code above groups by ```Company``` and return the number of times each company appears in the ```Company``` column.\n",
        "\n",
        "If we want to sort by the size or count, we can use ```sort_values```."
      ]
    },
    {
      "cell_type": "code",
      "metadata": {
        "id": "6a-5rZrN0CQX",
        "outputId": "d789ee54-0f0e-4560-a8c2-eb8b558a18e2",
        "colab": {
          "base_uri": "https://localhost:8080/",
          "height": 156
        }
      },
      "source": [
        "companies.groupby(['Company']).size().sort_values()"
      ],
      "execution_count": null,
      "outputs": [
        {
          "output_type": "execute_result",
          "data": {
            "text/plain": [
              "Company\n",
              "Adidas         1\n",
              "Disney         1\n",
              "Microsoft      1\n",
              "UNKNOWN        1\n",
              "Bit Project    2\n",
              "Home Depot     2\n",
              "dtype: int64"
            ]
          },
          "metadata": {
            "tags": []
          },
          "execution_count": 52
        }
      ]
    },
    {
      "cell_type": "markdown",
      "metadata": {
        "id": "gxUxQjow0CQZ"
      },
      "source": [
        "#### The Number of Unique Values\n",
        "\n",
        "To find out the number of unique values in a column, we can use ```nunique()```.\n",
        "\n",
        "```nunique()``` can be interpreted as **n**umber of **unique** values."
      ]
    },
    {
      "cell_type": "code",
      "metadata": {
        "id": "cBfhmXOv0CQZ",
        "outputId": "098d73d8-40e4-4ff1-f6a7-723e43371530",
        "colab": {
          "base_uri": "https://localhost:8080/",
          "height": 35
        }
      },
      "source": [
        "companies[\"Company\"].nunique()"
      ],
      "execution_count": null,
      "outputs": [
        {
          "output_type": "execute_result",
          "data": {
            "text/plain": [
              "6"
            ]
          },
          "metadata": {
            "tags": []
          },
          "execution_count": 53
        }
      ]
    },
    {
      "cell_type": "markdown",
      "metadata": {
        "id": "4yEzrngg0CQa"
      },
      "source": [
        "These three functions will be very helpful when working with a large, complicated dataset!"
      ]
    },
    {
      "cell_type": "markdown",
      "metadata": {
        "id": "7ELe7FGi0CQb"
      },
      "source": [
        "### Joining Datasets\n",
        "\n",
        "Let's join the two tables ```emp``` and ```companies``` to find out which companies those people work for."
      ]
    },
    {
      "cell_type": "markdown",
      "metadata": {
        "id": "pr6JBdx0RYv0"
      },
      "source": [
        "### 1. Merge"
      ]
    },
    {
      "cell_type": "markdown",
      "metadata": {
        "id": "maW7Mhc00CQb"
      },
      "source": [
        "These are the parameters we can use when we merge two dataframes.\n",
        "\n",
        "```DataFrame.merge(right, how='inner', on=None, left_on=None, right_on=None, left_index=False, right_index=False, sort=False, suffixes='_x', '_y', copy=True, indicator=False, validate=None)```\n",
        "\n",
        "- how: {‘inner’, ‘left’, ‘right’, ‘outer’}, default ‘inner’\n",
        "- on: Column or index level names to join on. These must be found in both DataFrames.\n",
        "- left_on: Column or index level names to join on in the left DataFrame.\n",
        "- right_on: Column or index level names to join on in the right DataFrame.\n",
        "- suffixes: An optional parameter. Each element gets a suffix of length 2 to distinguish between information from duplicate column names in left and right dataframes, respectively.\n",
        "\n",
        "We will cover the most fundamental and commonly used parameters here. Feel free to check for more details at https://pandas.pydata.org/pandas-docs/stable/reference/api/pandas.DataFrame.merge.html \n"
      ]
    },
    {
      "cell_type": "markdown",
      "metadata": {
        "id": "Twi1THZ60CQb"
      },
      "source": [
        "#### Merge - `how`\n",
        "\n",
        "```how``` indicates a type of ```join``` and there are 4 types: ```inner```, ```left```, ```right```, and ```outer```."
      ]
    },
    {
      "cell_type": "markdown",
      "metadata": {
        "id": "MPTynx_20CQc"
      },
      "source": [
        "![inner_join.png](https://github.com/bitprj/DigitalHistory/blob/master/Week6-Advanced-Data-Wrangling-using-Pandas/assets/inner_join.png?raw=1)\n",
        "\n",
        "```inner join``` will take in the common items / columns between the two dataframes. <font color='red'>[The below graphics are a little misleading. If you can find different ones that use actual tables/dataframes and show how joining columns look like, that would be great!]</font> "
      ]
    },
    {
      "cell_type": "markdown",
      "metadata": {
        "id": "SDkCKzx10CQc"
      },
      "source": [
        "![left_join.png](https://github.com/bitprj/DigitalHistory/blob/master/Week6-Advanced-Data-Wrangling-using-Pandas/assets/left_join.png?raw=1)\n",
        "\n",
        "```left join``` will include everything from left dataframe as well as any data from the right dataframe where they both have the same column values."
      ]
    },
    {
      "cell_type": "markdown",
      "metadata": {
        "id": "0bSBYGgG0CQc"
      },
      "source": [
        "![right_join.png](https://github.com/bitprj/DigitalHistory/blob/master/Week6-Advanced-Data-Wrangling-using-Pandas/assets/right_join.png?raw=1)\n",
        "\n",
        "Similar to ```left join```, ```right join``` will include everything from the right dataframe as well as any data from the left dataframe where they both have the same column values."
      ]
    },
    {
      "cell_type": "markdown",
      "metadata": {
        "id": "QLFkTEfr0CQc"
      },
      "source": [
        "![full_join.png](https://github.com/bitprj/DigitalHistory/blob/master/Week6-Advanced-Data-Wrangling-using-Pandas/assets/full_join.png?raw=1)\n",
        "\n",
        "```outer join``` will include everything from left and right dataframes even if there aren't any common items between the two."
      ]
    },
    {
      "cell_type": "markdown",
      "metadata": {
        "id": "2TchT1Uw0CQc"
      },
      "source": [
        "Understanding the different types of ```join```s are very important as this will help us to determine which type of ```join``` we will perform on a dataframe."
      ]
    },
    {
      "cell_type": "markdown",
      "metadata": {
        "id": "YAD5e2S_0CQd"
      },
      "source": [
        "#### Merge - `how` Example:\n",
        "\n",
        "In this example, we can merge ```emp``` and ```companies```. The code below will return a dataframe comprised of the two merged objects."
      ]
    },
    {
      "cell_type": "code",
      "metadata": {
        "id": "0qnYEftW0CQd",
        "outputId": "f2a7f9bc-76b4-4d58-c1fa-d0c8067922d5",
        "colab": {
          "base_uri": "https://localhost:8080/",
          "height": 141
        }
      },
      "source": [
        "pd.merge(emp, companies)"
      ],
      "execution_count": null,
      "outputs": [
        {
          "output_type": "execute_result",
          "data": {
            "text/html": [
              "<div>\n",
              "<style scoped>\n",
              "    .dataframe tbody tr th:only-of-type {\n",
              "        vertical-align: middle;\n",
              "    }\n",
              "\n",
              "    .dataframe tbody tr th {\n",
              "        vertical-align: top;\n",
              "    }\n",
              "\n",
              "    .dataframe thead th {\n",
              "        text-align: right;\n",
              "    }\n",
              "</style>\n",
              "<table border=\"1\" class=\"dataframe\">\n",
              "  <thead>\n",
              "    <tr style=\"text-align: right;\">\n",
              "      <th></th>\n",
              "      <th>First Name</th>\n",
              "      <th>Last Name</th>\n",
              "      <th>Age</th>\n",
              "      <th>Hourly Wage</th>\n",
              "      <th>Hours per week</th>\n",
              "      <th>Years of experience</th>\n",
              "      <th>Full Name</th>\n",
              "      <th>Weekly Salary</th>\n",
              "      <th>High Income</th>\n",
              "      <th>Company</th>\n",
              "    </tr>\n",
              "  </thead>\n",
              "  <tbody>\n",
              "    <tr>\n",
              "      <th>0</th>\n",
              "      <td>John</td>\n",
              "      <td>Williams</td>\n",
              "      <td>21</td>\n",
              "      <td>60</td>\n",
              "      <td>40</td>\n",
              "      <td>0.0</td>\n",
              "      <td>John Williams</td>\n",
              "      <td>2400</td>\n",
              "      <td>True</td>\n",
              "      <td>Microsoft</td>\n",
              "    </tr>\n",
              "    <tr>\n",
              "      <th>1</th>\n",
              "      <td>Chloe</td>\n",
              "      <td>Anderson</td>\n",
              "      <td>27</td>\n",
              "      <td>80</td>\n",
              "      <td>32</td>\n",
              "      <td>0.0</td>\n",
              "      <td>Chloe Anderson</td>\n",
              "      <td>2560</td>\n",
              "      <td>True</td>\n",
              "      <td>Disney</td>\n",
              "    </tr>\n",
              "    <tr>\n",
              "      <th>2</th>\n",
              "      <td>Jeremy</td>\n",
              "      <td>Scott</td>\n",
              "      <td>42</td>\n",
              "      <td>54</td>\n",
              "      <td>40</td>\n",
              "      <td>4.0</td>\n",
              "      <td>Jeremy Scott</td>\n",
              "      <td>2160</td>\n",
              "      <td>True</td>\n",
              "      <td>Adidas</td>\n",
              "    </tr>\n",
              "  </tbody>\n",
              "</table>\n",
              "</div>"
            ],
            "text/plain": [
              "  First Name Last Name  Age  ...  Weekly Salary  High Income    Company\n",
              "0       John  Williams   21  ...           2400         True  Microsoft\n",
              "1      Chloe  Anderson   27  ...           2560         True     Disney\n",
              "2     Jeremy     Scott   42  ...           2160         True     Adidas\n",
              "\n",
              "[3 rows x 10 columns]"
            ]
          },
          "metadata": {
            "tags": []
          },
          "execution_count": 54
        }
      ]
    },
    {
      "cell_type": "markdown",
      "metadata": {
        "id": "KrbtpOqc0CQe"
      },
      "source": [
        "Yay, it worked! \n",
        "\n",
        "We dropped the rows from ```emp``` where an employee's weekly salary is less than $2000, so the updated ```emp``` has 3 rows. By default, ```merge``` performs ```inner join``` and that's why it's showing less rows than ```companies```."
      ]
    },
    {
      "cell_type": "markdown",
      "metadata": {
        "id": "2ZEQ0cfk0CQe"
      },
      "source": [
        "Now, let's try ```right_join``` and see how it works!"
      ]
    },
    {
      "cell_type": "code",
      "metadata": {
        "id": "1POr2AKk0CQf",
        "outputId": "f5d53943-498f-4f14-e51d-38e1277f779b",
        "colab": {
          "base_uri": "https://localhost:8080/",
          "height": 294
        }
      },
      "source": [
        "pd.merge(emp, companies, how='right')"
      ],
      "execution_count": null,
      "outputs": [
        {
          "output_type": "execute_result",
          "data": {
            "text/html": [
              "<div>\n",
              "<style scoped>\n",
              "    .dataframe tbody tr th:only-of-type {\n",
              "        vertical-align: middle;\n",
              "    }\n",
              "\n",
              "    .dataframe tbody tr th {\n",
              "        vertical-align: top;\n",
              "    }\n",
              "\n",
              "    .dataframe thead th {\n",
              "        text-align: right;\n",
              "    }\n",
              "</style>\n",
              "<table border=\"1\" class=\"dataframe\">\n",
              "  <thead>\n",
              "    <tr style=\"text-align: right;\">\n",
              "      <th></th>\n",
              "      <th>First Name</th>\n",
              "      <th>Last Name</th>\n",
              "      <th>Age</th>\n",
              "      <th>Hourly Wage</th>\n",
              "      <th>Hours per week</th>\n",
              "      <th>Years of experience</th>\n",
              "      <th>Full Name</th>\n",
              "      <th>Weekly Salary</th>\n",
              "      <th>High Income</th>\n",
              "      <th>Company</th>\n",
              "    </tr>\n",
              "  </thead>\n",
              "  <tbody>\n",
              "    <tr>\n",
              "      <th>0</th>\n",
              "      <td>Jennifer</td>\n",
              "      <td>Brown</td>\n",
              "      <td>NaN</td>\n",
              "      <td>NaN</td>\n",
              "      <td>NaN</td>\n",
              "      <td>NaN</td>\n",
              "      <td>NaN</td>\n",
              "      <td>NaN</td>\n",
              "      <td>NaN</td>\n",
              "      <td>Home Depot</td>\n",
              "    </tr>\n",
              "    <tr>\n",
              "      <th>1</th>\n",
              "      <td>Chris</td>\n",
              "      <td>Smith</td>\n",
              "      <td>NaN</td>\n",
              "      <td>NaN</td>\n",
              "      <td>NaN</td>\n",
              "      <td>NaN</td>\n",
              "      <td>NaN</td>\n",
              "      <td>NaN</td>\n",
              "      <td>NaN</td>\n",
              "      <td>Bit Project</td>\n",
              "    </tr>\n",
              "    <tr>\n",
              "      <th>2</th>\n",
              "      <td>John</td>\n",
              "      <td>Williams</td>\n",
              "      <td>21.0</td>\n",
              "      <td>60.0</td>\n",
              "      <td>40.0</td>\n",
              "      <td>0.0</td>\n",
              "      <td>John Williams</td>\n",
              "      <td>2400.0</td>\n",
              "      <td>True</td>\n",
              "      <td>Microsoft</td>\n",
              "    </tr>\n",
              "    <tr>\n",
              "      <th>3</th>\n",
              "      <td>Annie</td>\n",
              "      <td>Wong</td>\n",
              "      <td>NaN</td>\n",
              "      <td>NaN</td>\n",
              "      <td>NaN</td>\n",
              "      <td>NaN</td>\n",
              "      <td>NaN</td>\n",
              "      <td>NaN</td>\n",
              "      <td>NaN</td>\n",
              "      <td>Bit Project</td>\n",
              "    </tr>\n",
              "    <tr>\n",
              "      <th>4</th>\n",
              "      <td>Chloe</td>\n",
              "      <td>Anderson</td>\n",
              "      <td>27.0</td>\n",
              "      <td>80.0</td>\n",
              "      <td>32.0</td>\n",
              "      <td>0.0</td>\n",
              "      <td>Chloe Anderson</td>\n",
              "      <td>2560.0</td>\n",
              "      <td>True</td>\n",
              "      <td>Disney</td>\n",
              "    </tr>\n",
              "    <tr>\n",
              "      <th>5</th>\n",
              "      <td>Jeremy</td>\n",
              "      <td>Scott</td>\n",
              "      <td>42.0</td>\n",
              "      <td>54.0</td>\n",
              "      <td>40.0</td>\n",
              "      <td>4.0</td>\n",
              "      <td>Jeremy Scott</td>\n",
              "      <td>2160.0</td>\n",
              "      <td>True</td>\n",
              "      <td>Adidas</td>\n",
              "    </tr>\n",
              "    <tr>\n",
              "      <th>6</th>\n",
              "      <td>Allison</td>\n",
              "      <td>Kim</td>\n",
              "      <td>NaN</td>\n",
              "      <td>NaN</td>\n",
              "      <td>NaN</td>\n",
              "      <td>NaN</td>\n",
              "      <td>NaN</td>\n",
              "      <td>NaN</td>\n",
              "      <td>NaN</td>\n",
              "      <td>Home Depot</td>\n",
              "    </tr>\n",
              "    <tr>\n",
              "      <th>7</th>\n",
              "      <td>Hannah</td>\n",
              "      <td>Mills</td>\n",
              "      <td>NaN</td>\n",
              "      <td>NaN</td>\n",
              "      <td>NaN</td>\n",
              "      <td>NaN</td>\n",
              "      <td>NaN</td>\n",
              "      <td>NaN</td>\n",
              "      <td>NaN</td>\n",
              "      <td>UNKNOWN</td>\n",
              "    </tr>\n",
              "  </tbody>\n",
              "</table>\n",
              "</div>"
            ],
            "text/plain": [
              "  First Name Last Name   Age  ...  Weekly Salary  High Income      Company\n",
              "0   Jennifer     Brown   NaN  ...            NaN          NaN   Home Depot\n",
              "1      Chris     Smith   NaN  ...            NaN          NaN  Bit Project\n",
              "2       John  Williams  21.0  ...         2400.0         True    Microsoft\n",
              "3      Annie      Wong   NaN  ...            NaN          NaN  Bit Project\n",
              "4      Chloe  Anderson  27.0  ...         2560.0         True       Disney\n",
              "5     Jeremy     Scott  42.0  ...         2160.0         True       Adidas\n",
              "6    Allison       Kim   NaN  ...            NaN          NaN   Home Depot\n",
              "7     Hannah     Mills   NaN  ...            NaN          NaN      UNKNOWN\n",
              "\n",
              "[8 rows x 10 columns]"
            ]
          },
          "metadata": {
            "tags": []
          },
          "execution_count": 55
        }
      ]
    },
    {
      "cell_type": "markdown",
      "metadata": {
        "id": "dvljcD200CQg"
      },
      "source": [
        "As our right dataframe is ```companies``` with 8 rows, the result shows all of the 8 employees in ```companies```. But as we've dropped the rows that do not meet our salary expectation in ```emp```, the result of ```right_join``` is missing ```Age```, ```Hourly Wage```, ```Hours per week```, etc for some employees."
      ]
    },
    {
      "cell_type": "markdown",
      "metadata": {
        "id": "Pu0oR6t80CQg"
      },
      "source": [
        "#### Merge - `on`, `left_on`, `right_on`\n",
        "\n",
        "```on```, ```left_on```, and ```right_on``` indicate column names to join on.\n",
        "\n",
        "- ```on``` is used when the same column name exists in both dataframes.\n",
        "- ```left_on``` and ```right_on``` is used when the column names are different in the two dataframes."
      ]
    },
    {
      "cell_type": "markdown",
      "metadata": {
        "id": "2gsZhJnY0CQg"
      },
      "source": [
        "#### Merge - `on` Example\n",
        "\n",
        "Let's join the two dataframes using common column names, ```First Name``` and ```Last Name```."
      ]
    },
    {
      "cell_type": "code",
      "metadata": {
        "id": "pcsJaWSD0CQh",
        "outputId": "fc079d1d-a15a-486a-801b-42408ab8cc20",
        "colab": {
          "base_uri": "https://localhost:8080/",
          "height": 141
        }
      },
      "source": [
        "pd.merge(emp, companies, on=['First Name', 'Last Name'])"
      ],
      "execution_count": null,
      "outputs": [
        {
          "output_type": "execute_result",
          "data": {
            "text/html": [
              "<div>\n",
              "<style scoped>\n",
              "    .dataframe tbody tr th:only-of-type {\n",
              "        vertical-align: middle;\n",
              "    }\n",
              "\n",
              "    .dataframe tbody tr th {\n",
              "        vertical-align: top;\n",
              "    }\n",
              "\n",
              "    .dataframe thead th {\n",
              "        text-align: right;\n",
              "    }\n",
              "</style>\n",
              "<table border=\"1\" class=\"dataframe\">\n",
              "  <thead>\n",
              "    <tr style=\"text-align: right;\">\n",
              "      <th></th>\n",
              "      <th>First Name</th>\n",
              "      <th>Last Name</th>\n",
              "      <th>Age</th>\n",
              "      <th>Hourly Wage</th>\n",
              "      <th>Hours per week</th>\n",
              "      <th>Years of experience</th>\n",
              "      <th>Full Name</th>\n",
              "      <th>Weekly Salary</th>\n",
              "      <th>High Income</th>\n",
              "      <th>Company</th>\n",
              "    </tr>\n",
              "  </thead>\n",
              "  <tbody>\n",
              "    <tr>\n",
              "      <th>0</th>\n",
              "      <td>John</td>\n",
              "      <td>Williams</td>\n",
              "      <td>21</td>\n",
              "      <td>60</td>\n",
              "      <td>40</td>\n",
              "      <td>0.0</td>\n",
              "      <td>John Williams</td>\n",
              "      <td>2400</td>\n",
              "      <td>True</td>\n",
              "      <td>Microsoft</td>\n",
              "    </tr>\n",
              "    <tr>\n",
              "      <th>1</th>\n",
              "      <td>Chloe</td>\n",
              "      <td>Anderson</td>\n",
              "      <td>27</td>\n",
              "      <td>80</td>\n",
              "      <td>32</td>\n",
              "      <td>0.0</td>\n",
              "      <td>Chloe Anderson</td>\n",
              "      <td>2560</td>\n",
              "      <td>True</td>\n",
              "      <td>Disney</td>\n",
              "    </tr>\n",
              "    <tr>\n",
              "      <th>2</th>\n",
              "      <td>Jeremy</td>\n",
              "      <td>Scott</td>\n",
              "      <td>42</td>\n",
              "      <td>54</td>\n",
              "      <td>40</td>\n",
              "      <td>4.0</td>\n",
              "      <td>Jeremy Scott</td>\n",
              "      <td>2160</td>\n",
              "      <td>True</td>\n",
              "      <td>Adidas</td>\n",
              "    </tr>\n",
              "  </tbody>\n",
              "</table>\n",
              "</div>"
            ],
            "text/plain": [
              "  First Name Last Name  Age  ...  Weekly Salary  High Income    Company\n",
              "0       John  Williams   21  ...           2400         True  Microsoft\n",
              "1      Chloe  Anderson   27  ...           2560         True     Disney\n",
              "2     Jeremy     Scott   42  ...           2160         True     Adidas\n",
              "\n",
              "[3 rows x 10 columns]"
            ]
          },
          "metadata": {
            "tags": []
          },
          "execution_count": 56
        }
      ]
    },
    {
      "cell_type": "markdown",
      "metadata": {
        "id": "ah9bdDjq0CQi"
      },
      "source": [
        "The resulting dataset shows three rows, since ```inner join``` was performed by default."
      ]
    },
    {
      "cell_type": "markdown",
      "metadata": {
        "id": "vYiUvudq0CQk"
      },
      "source": [
        "#### Merge - `left_on`, `right_on` Example\n",
        "\n",
        "It might happen that the two dataframes we want to merge have different column names. In this case, we will have to specify the two column names.\n",
        "\n",
        "Let's join the two dataframes using different column names. \n",
        "\n",
        "- ```emp``` column name: ```Full Name``` \n",
        "- ```companies``` column name: ```Name```"
      ]
    },
    {
      "cell_type": "code",
      "metadata": {
        "id": "K7-RuyMv0CQk"
      },
      "source": [
        "companies['Name'] = companies['First Name'] + ' ' + companies['Last Name']"
      ],
      "execution_count": null,
      "outputs": []
    },
    {
      "cell_type": "code",
      "metadata": {
        "id": "lEZwlVLNBo8T",
        "scrolled": true,
        "outputId": "5dda5267-3f7e-44c5-ac48-15d06f3bc455",
        "colab": {
          "base_uri": "https://localhost:8080/",
          "height": 210
        }
      },
      "source": [
        "pd.merge(emp, companies, left_on='Full Name', right_on='Name')"
      ],
      "execution_count": null,
      "outputs": [
        {
          "output_type": "execute_result",
          "data": {
            "text/html": [
              "<div>\n",
              "<style scoped>\n",
              "    .dataframe tbody tr th:only-of-type {\n",
              "        vertical-align: middle;\n",
              "    }\n",
              "\n",
              "    .dataframe tbody tr th {\n",
              "        vertical-align: top;\n",
              "    }\n",
              "\n",
              "    .dataframe thead th {\n",
              "        text-align: right;\n",
              "    }\n",
              "</style>\n",
              "<table border=\"1\" class=\"dataframe\">\n",
              "  <thead>\n",
              "    <tr style=\"text-align: right;\">\n",
              "      <th></th>\n",
              "      <th>First Name_x</th>\n",
              "      <th>Last Name_x</th>\n",
              "      <th>Age</th>\n",
              "      <th>Hourly Wage</th>\n",
              "      <th>Hours per week</th>\n",
              "      <th>Years of experience</th>\n",
              "      <th>Full Name</th>\n",
              "      <th>Weekly Salary</th>\n",
              "      <th>High Income</th>\n",
              "      <th>First Name_y</th>\n",
              "      <th>Last Name_y</th>\n",
              "      <th>Company</th>\n",
              "      <th>Name</th>\n",
              "    </tr>\n",
              "  </thead>\n",
              "  <tbody>\n",
              "    <tr>\n",
              "      <th>0</th>\n",
              "      <td>John</td>\n",
              "      <td>Williams</td>\n",
              "      <td>21</td>\n",
              "      <td>60</td>\n",
              "      <td>40</td>\n",
              "      <td>0.0</td>\n",
              "      <td>John Williams</td>\n",
              "      <td>2400</td>\n",
              "      <td>True</td>\n",
              "      <td>John</td>\n",
              "      <td>Williams</td>\n",
              "      <td>Microsoft</td>\n",
              "      <td>John Williams</td>\n",
              "    </tr>\n",
              "    <tr>\n",
              "      <th>1</th>\n",
              "      <td>Chloe</td>\n",
              "      <td>Anderson</td>\n",
              "      <td>27</td>\n",
              "      <td>80</td>\n",
              "      <td>32</td>\n",
              "      <td>0.0</td>\n",
              "      <td>Chloe Anderson</td>\n",
              "      <td>2560</td>\n",
              "      <td>True</td>\n",
              "      <td>Chloe</td>\n",
              "      <td>Anderson</td>\n",
              "      <td>Disney</td>\n",
              "      <td>Chloe Anderson</td>\n",
              "    </tr>\n",
              "    <tr>\n",
              "      <th>2</th>\n",
              "      <td>Jeremy</td>\n",
              "      <td>Scott</td>\n",
              "      <td>42</td>\n",
              "      <td>54</td>\n",
              "      <td>40</td>\n",
              "      <td>4.0</td>\n",
              "      <td>Jeremy Scott</td>\n",
              "      <td>2160</td>\n",
              "      <td>True</td>\n",
              "      <td>Jeremy</td>\n",
              "      <td>Scott</td>\n",
              "      <td>Adidas</td>\n",
              "      <td>Jeremy Scott</td>\n",
              "    </tr>\n",
              "  </tbody>\n",
              "</table>\n",
              "</div>"
            ],
            "text/plain": [
              "  First Name_x Last Name_x  Age  ...  Last Name_y    Company            Name\n",
              "0         John    Williams   21  ...     Williams  Microsoft   John Williams\n",
              "1        Chloe    Anderson   27  ...     Anderson     Disney  Chloe Anderson\n",
              "2       Jeremy       Scott   42  ...        Scott     Adidas    Jeremy Scott\n",
              "\n",
              "[3 rows x 13 columns]"
            ]
          },
          "metadata": {
            "tags": []
          },
          "execution_count": 58
        }
      ]
    },
    {
      "cell_type": "markdown",
      "metadata": {
        "id": "e5-HZ2_60CQm"
      },
      "source": [
        "As mentioned earlier, by default, ```inner join``` has been applied and the resulting dataframe shows 3 rows!"
      ]
    },
    {
      "cell_type": "markdown",
      "metadata": {
        "id": "gFrUh7pF0CQn"
      },
      "source": [
        "In the result, ```First Name_x``` is from the first table, which is ```emp```, while ```First Name_y``` is from the second table, which is ```companies```."
      ]
    },
    {
      "cell_type": "markdown",
      "metadata": {
        "id": "fNp-2S0K0CQn"
      },
      "source": [
        "#### Merge - `suffixes`\n",
        "\n",
        "Suffixes indicate the suffix to add to duplicate column names in left and right dataframes respectively.\n",
        "\n",
        "In the previous example, by default, suffixes ```_x``` and ```_y``` were added respectively.\n",
        "\n",
        "We can specify suffixes by setting ```suffixes=[]```."
      ]
    },
    {
      "cell_type": "markdown",
      "metadata": {
        "id": "3o0ElyXi0CQo"
      },
      "source": [
        "#### Merge - `suffixes` Example\n",
        "\n",
        "Let's add ```_1``` to the first dataframe and ```_2``` to the second dataframe."
      ]
    },
    {
      "cell_type": "code",
      "metadata": {
        "id": "profqndZ0CQo",
        "outputId": "57244393-7ee4-4801-c935-57afdc40f94b",
        "colab": {
          "base_uri": "https://localhost:8080/",
          "height": 210
        }
      },
      "source": [
        "pd.merge(emp, companies, left_on='Full Name', right_on='Name', suffixes=['_1', '_2'])"
      ],
      "execution_count": null,
      "outputs": [
        {
          "output_type": "execute_result",
          "data": {
            "text/html": [
              "<div>\n",
              "<style scoped>\n",
              "    .dataframe tbody tr th:only-of-type {\n",
              "        vertical-align: middle;\n",
              "    }\n",
              "\n",
              "    .dataframe tbody tr th {\n",
              "        vertical-align: top;\n",
              "    }\n",
              "\n",
              "    .dataframe thead th {\n",
              "        text-align: right;\n",
              "    }\n",
              "</style>\n",
              "<table border=\"1\" class=\"dataframe\">\n",
              "  <thead>\n",
              "    <tr style=\"text-align: right;\">\n",
              "      <th></th>\n",
              "      <th>First Name_1</th>\n",
              "      <th>Last Name_1</th>\n",
              "      <th>Age</th>\n",
              "      <th>Hourly Wage</th>\n",
              "      <th>Hours per week</th>\n",
              "      <th>Years of experience</th>\n",
              "      <th>Full Name</th>\n",
              "      <th>Weekly Salary</th>\n",
              "      <th>High Income</th>\n",
              "      <th>First Name_2</th>\n",
              "      <th>Last Name_2</th>\n",
              "      <th>Company</th>\n",
              "      <th>Name</th>\n",
              "    </tr>\n",
              "  </thead>\n",
              "  <tbody>\n",
              "    <tr>\n",
              "      <th>0</th>\n",
              "      <td>John</td>\n",
              "      <td>Williams</td>\n",
              "      <td>21</td>\n",
              "      <td>60</td>\n",
              "      <td>40</td>\n",
              "      <td>0.0</td>\n",
              "      <td>John Williams</td>\n",
              "      <td>2400</td>\n",
              "      <td>True</td>\n",
              "      <td>John</td>\n",
              "      <td>Williams</td>\n",
              "      <td>Microsoft</td>\n",
              "      <td>John Williams</td>\n",
              "    </tr>\n",
              "    <tr>\n",
              "      <th>1</th>\n",
              "      <td>Chloe</td>\n",
              "      <td>Anderson</td>\n",
              "      <td>27</td>\n",
              "      <td>80</td>\n",
              "      <td>32</td>\n",
              "      <td>0.0</td>\n",
              "      <td>Chloe Anderson</td>\n",
              "      <td>2560</td>\n",
              "      <td>True</td>\n",
              "      <td>Chloe</td>\n",
              "      <td>Anderson</td>\n",
              "      <td>Disney</td>\n",
              "      <td>Chloe Anderson</td>\n",
              "    </tr>\n",
              "    <tr>\n",
              "      <th>2</th>\n",
              "      <td>Jeremy</td>\n",
              "      <td>Scott</td>\n",
              "      <td>42</td>\n",
              "      <td>54</td>\n",
              "      <td>40</td>\n",
              "      <td>4.0</td>\n",
              "      <td>Jeremy Scott</td>\n",
              "      <td>2160</td>\n",
              "      <td>True</td>\n",
              "      <td>Jeremy</td>\n",
              "      <td>Scott</td>\n",
              "      <td>Adidas</td>\n",
              "      <td>Jeremy Scott</td>\n",
              "    </tr>\n",
              "  </tbody>\n",
              "</table>\n",
              "</div>"
            ],
            "text/plain": [
              "  First Name_1 Last Name_1  Age  ...  Last Name_2    Company            Name\n",
              "0         John    Williams   21  ...     Williams  Microsoft   John Williams\n",
              "1        Chloe    Anderson   27  ...     Anderson     Disney  Chloe Anderson\n",
              "2       Jeremy       Scott   42  ...        Scott     Adidas    Jeremy Scott\n",
              "\n",
              "[3 rows x 13 columns]"
            ]
          },
          "metadata": {
            "tags": []
          },
          "execution_count": 59
        }
      ]
    },
    {
      "cell_type": "markdown",
      "metadata": {
        "id": "zPhWCar60CQp"
      },
      "source": [
        "Since `inner join` was performed, only 3 common rows show up and so there's actually no need to indicate ```_1``` or ```_2```.\n",
        "\n",
        "Let's try `right join` and see how the dataframe looks different!"
      ]
    },
    {
      "cell_type": "code",
      "metadata": {
        "id": "aDnCCvL80CQq",
        "outputId": "c6b9fbe0-a67e-43ad-b576-2f786fcf4714",
        "colab": {
          "base_uri": "https://localhost:8080/",
          "height": 450
        }
      },
      "source": [
        "pd.merge(emp, companies, how = 'right', left_on='Full Name', right_on='Name', suffixes=['_emp', '_companies'])"
      ],
      "execution_count": null,
      "outputs": [
        {
          "output_type": "execute_result",
          "data": {
            "text/html": [
              "<div>\n",
              "<style scoped>\n",
              "    .dataframe tbody tr th:only-of-type {\n",
              "        vertical-align: middle;\n",
              "    }\n",
              "\n",
              "    .dataframe tbody tr th {\n",
              "        vertical-align: top;\n",
              "    }\n",
              "\n",
              "    .dataframe thead th {\n",
              "        text-align: right;\n",
              "    }\n",
              "</style>\n",
              "<table border=\"1\" class=\"dataframe\">\n",
              "  <thead>\n",
              "    <tr style=\"text-align: right;\">\n",
              "      <th></th>\n",
              "      <th>First Name_emp</th>\n",
              "      <th>Last Name_emp</th>\n",
              "      <th>Age</th>\n",
              "      <th>Hourly Wage</th>\n",
              "      <th>Hours per week</th>\n",
              "      <th>Years of experience</th>\n",
              "      <th>Full Name</th>\n",
              "      <th>Weekly Salary</th>\n",
              "      <th>High Income</th>\n",
              "      <th>First Name_companies</th>\n",
              "      <th>Last Name_companies</th>\n",
              "      <th>Company</th>\n",
              "      <th>Name</th>\n",
              "    </tr>\n",
              "  </thead>\n",
              "  <tbody>\n",
              "    <tr>\n",
              "      <th>0</th>\n",
              "      <td>NaN</td>\n",
              "      <td>NaN</td>\n",
              "      <td>NaN</td>\n",
              "      <td>NaN</td>\n",
              "      <td>NaN</td>\n",
              "      <td>NaN</td>\n",
              "      <td>NaN</td>\n",
              "      <td>NaN</td>\n",
              "      <td>NaN</td>\n",
              "      <td>Jennifer</td>\n",
              "      <td>Brown</td>\n",
              "      <td>Home Depot</td>\n",
              "      <td>Jennifer Brown</td>\n",
              "    </tr>\n",
              "    <tr>\n",
              "      <th>1</th>\n",
              "      <td>NaN</td>\n",
              "      <td>NaN</td>\n",
              "      <td>NaN</td>\n",
              "      <td>NaN</td>\n",
              "      <td>NaN</td>\n",
              "      <td>NaN</td>\n",
              "      <td>NaN</td>\n",
              "      <td>NaN</td>\n",
              "      <td>NaN</td>\n",
              "      <td>Chris</td>\n",
              "      <td>Smith</td>\n",
              "      <td>Bit Project</td>\n",
              "      <td>Chris Smith</td>\n",
              "    </tr>\n",
              "    <tr>\n",
              "      <th>2</th>\n",
              "      <td>John</td>\n",
              "      <td>Williams</td>\n",
              "      <td>21.0</td>\n",
              "      <td>60.0</td>\n",
              "      <td>40.0</td>\n",
              "      <td>0.0</td>\n",
              "      <td>John Williams</td>\n",
              "      <td>2400.0</td>\n",
              "      <td>True</td>\n",
              "      <td>John</td>\n",
              "      <td>Williams</td>\n",
              "      <td>Microsoft</td>\n",
              "      <td>John Williams</td>\n",
              "    </tr>\n",
              "    <tr>\n",
              "      <th>3</th>\n",
              "      <td>NaN</td>\n",
              "      <td>NaN</td>\n",
              "      <td>NaN</td>\n",
              "      <td>NaN</td>\n",
              "      <td>NaN</td>\n",
              "      <td>NaN</td>\n",
              "      <td>NaN</td>\n",
              "      <td>NaN</td>\n",
              "      <td>NaN</td>\n",
              "      <td>Annie</td>\n",
              "      <td>Wong</td>\n",
              "      <td>Bit Project</td>\n",
              "      <td>Annie Wong</td>\n",
              "    </tr>\n",
              "    <tr>\n",
              "      <th>4</th>\n",
              "      <td>Chloe</td>\n",
              "      <td>Anderson</td>\n",
              "      <td>27.0</td>\n",
              "      <td>80.0</td>\n",
              "      <td>32.0</td>\n",
              "      <td>0.0</td>\n",
              "      <td>Chloe Anderson</td>\n",
              "      <td>2560.0</td>\n",
              "      <td>True</td>\n",
              "      <td>Chloe</td>\n",
              "      <td>Anderson</td>\n",
              "      <td>Disney</td>\n",
              "      <td>Chloe Anderson</td>\n",
              "    </tr>\n",
              "    <tr>\n",
              "      <th>5</th>\n",
              "      <td>Jeremy</td>\n",
              "      <td>Scott</td>\n",
              "      <td>42.0</td>\n",
              "      <td>54.0</td>\n",
              "      <td>40.0</td>\n",
              "      <td>4.0</td>\n",
              "      <td>Jeremy Scott</td>\n",
              "      <td>2160.0</td>\n",
              "      <td>True</td>\n",
              "      <td>Jeremy</td>\n",
              "      <td>Scott</td>\n",
              "      <td>Adidas</td>\n",
              "      <td>Jeremy Scott</td>\n",
              "    </tr>\n",
              "    <tr>\n",
              "      <th>6</th>\n",
              "      <td>NaN</td>\n",
              "      <td>NaN</td>\n",
              "      <td>NaN</td>\n",
              "      <td>NaN</td>\n",
              "      <td>NaN</td>\n",
              "      <td>NaN</td>\n",
              "      <td>NaN</td>\n",
              "      <td>NaN</td>\n",
              "      <td>NaN</td>\n",
              "      <td>Allison</td>\n",
              "      <td>Kim</td>\n",
              "      <td>Home Depot</td>\n",
              "      <td>Allison Kim</td>\n",
              "    </tr>\n",
              "    <tr>\n",
              "      <th>7</th>\n",
              "      <td>NaN</td>\n",
              "      <td>NaN</td>\n",
              "      <td>NaN</td>\n",
              "      <td>NaN</td>\n",
              "      <td>NaN</td>\n",
              "      <td>NaN</td>\n",
              "      <td>NaN</td>\n",
              "      <td>NaN</td>\n",
              "      <td>NaN</td>\n",
              "      <td>Hannah</td>\n",
              "      <td>Mills</td>\n",
              "      <td>UNKNOWN</td>\n",
              "      <td>Hannah Mills</td>\n",
              "    </tr>\n",
              "  </tbody>\n",
              "</table>\n",
              "</div>"
            ],
            "text/plain": [
              "  First Name_emp Last Name_emp  ...      Company            Name\n",
              "0            NaN           NaN  ...   Home Depot  Jennifer Brown\n",
              "1            NaN           NaN  ...  Bit Project     Chris Smith\n",
              "2           John      Williams  ...    Microsoft   John Williams\n",
              "3            NaN           NaN  ...  Bit Project      Annie Wong\n",
              "4          Chloe      Anderson  ...       Disney  Chloe Anderson\n",
              "5         Jeremy         Scott  ...       Adidas    Jeremy Scott\n",
              "6            NaN           NaN  ...   Home Depot     Allison Kim\n",
              "7            NaN           NaN  ...      UNKNOWN    Hannah Mills\n",
              "\n",
              "[8 rows x 13 columns]"
            ]
          },
          "metadata": {
            "tags": []
          },
          "execution_count": 60
        }
      ]
    },
    {
      "cell_type": "markdown",
      "metadata": {
        "id": "WP7db4MS0CQr"
      },
      "source": [
        "Because we specified `right join`, it shows all of the rows from the ```companies``` dataframe and matching rows from the ```emp``` dataframe.\n",
        "\n",
        "The ```First Name_emp``` and ```Last Name_emp``` show three rows only while ```First Name_companies``` and ```Last Name_companies``` show all rows!"
      ]
    },
    {
      "cell_type": "markdown",
      "metadata": {
        "id": "x8LMTMU20CQr"
      },
      "source": [
        "### 2. Join"
      ]
    },
    {
      "cell_type": "markdown",
      "metadata": {
        "id": "NiRghqWC0CQr"
      },
      "source": [
        "These are the parameters we can use when we merge two dataframes.\n",
        "\n",
        "```Dataframe.join(other, on=None, how='left', lsuffix='', rsuffix='', sort=False)```\n",
        "\n",
        "- `other`: Dataframe, Series, or list of Dataframes to join.\n",
        "- on: Column or index level names to join on the index in `other`. These must be found in both DataFrames.\n",
        "- how: {‘inner’, ‘left’, ‘right’, ‘outer’}, default ‘inner’\n",
        "- lsuffix: Suffix to use from left frame’s overlapping columns.\n",
        "- rsuffix: Suffix to use from right frame’s overlapping columns.\n",
        "\n",
        "We have covered ```on``` and ```how``` in detail in ```merge```. Feel free to check for more details at https://pandas.pydata.org/pandas-docs/stable/reference/api/pandas.DataFrame.join.html.\n",
        "\n",
        "We will try one example of ```join``` using ```lsuffix``` and ```rsuffix```.\n",
        "\n",
        "#### Join - `lsuffix` and `rsuffix`\n",
        "\n",
        "This is similar to ```suffixes``` in ```merge```."
      ]
    },
    {
      "cell_type": "code",
      "metadata": {
        "id": "WYdob--7RQVe",
        "outputId": "c891f6c6-6e63-40b8-9e92-80e14081c847",
        "colab": {
          "base_uri": "https://localhost:8080/",
          "height": 210
        }
      },
      "source": [
        "emp.join(companies, lsuffix='_1', rsuffix='_2')"
      ],
      "execution_count": null,
      "outputs": [
        {
          "output_type": "execute_result",
          "data": {
            "text/html": [
              "<div>\n",
              "<style scoped>\n",
              "    .dataframe tbody tr th:only-of-type {\n",
              "        vertical-align: middle;\n",
              "    }\n",
              "\n",
              "    .dataframe tbody tr th {\n",
              "        vertical-align: top;\n",
              "    }\n",
              "\n",
              "    .dataframe thead th {\n",
              "        text-align: right;\n",
              "    }\n",
              "</style>\n",
              "<table border=\"1\" class=\"dataframe\">\n",
              "  <thead>\n",
              "    <tr style=\"text-align: right;\">\n",
              "      <th></th>\n",
              "      <th>First Name_1</th>\n",
              "      <th>Last Name_1</th>\n",
              "      <th>Age</th>\n",
              "      <th>Hourly Wage</th>\n",
              "      <th>Hours per week</th>\n",
              "      <th>Years of experience</th>\n",
              "      <th>Full Name</th>\n",
              "      <th>Weekly Salary</th>\n",
              "      <th>High Income</th>\n",
              "      <th>First Name_2</th>\n",
              "      <th>Last Name_2</th>\n",
              "      <th>Company</th>\n",
              "      <th>Name</th>\n",
              "    </tr>\n",
              "  </thead>\n",
              "  <tbody>\n",
              "    <tr>\n",
              "      <th>2</th>\n",
              "      <td>John</td>\n",
              "      <td>Williams</td>\n",
              "      <td>21</td>\n",
              "      <td>60</td>\n",
              "      <td>40</td>\n",
              "      <td>0.0</td>\n",
              "      <td>John Williams</td>\n",
              "      <td>2400</td>\n",
              "      <td>True</td>\n",
              "      <td>John</td>\n",
              "      <td>Williams</td>\n",
              "      <td>Microsoft</td>\n",
              "      <td>John Williams</td>\n",
              "    </tr>\n",
              "    <tr>\n",
              "      <th>4</th>\n",
              "      <td>Chloe</td>\n",
              "      <td>Anderson</td>\n",
              "      <td>27</td>\n",
              "      <td>80</td>\n",
              "      <td>32</td>\n",
              "      <td>0.0</td>\n",
              "      <td>Chloe Anderson</td>\n",
              "      <td>2560</td>\n",
              "      <td>True</td>\n",
              "      <td>Chloe</td>\n",
              "      <td>Anderson</td>\n",
              "      <td>Disney</td>\n",
              "      <td>Chloe Anderson</td>\n",
              "    </tr>\n",
              "    <tr>\n",
              "      <th>5</th>\n",
              "      <td>Jeremy</td>\n",
              "      <td>Scott</td>\n",
              "      <td>42</td>\n",
              "      <td>54</td>\n",
              "      <td>40</td>\n",
              "      <td>4.0</td>\n",
              "      <td>Jeremy Scott</td>\n",
              "      <td>2160</td>\n",
              "      <td>True</td>\n",
              "      <td>Jeremy</td>\n",
              "      <td>Scott</td>\n",
              "      <td>Adidas</td>\n",
              "      <td>Jeremy Scott</td>\n",
              "    </tr>\n",
              "  </tbody>\n",
              "</table>\n",
              "</div>"
            ],
            "text/plain": [
              "  First Name_1 Last Name_1  Age  ...  Last Name_2    Company            Name\n",
              "2         John    Williams   21  ...     Williams  Microsoft   John Williams\n",
              "4        Chloe    Anderson   27  ...     Anderson     Disney  Chloe Anderson\n",
              "5       Jeremy       Scott   42  ...        Scott     Adidas    Jeremy Scott\n",
              "\n",
              "[3 rows x 13 columns]"
            ]
          },
          "metadata": {
            "tags": []
          },
          "execution_count": 61
        }
      ]
    },
    {
      "cell_type": "markdown",
      "metadata": {
        "id": "B0U4y6QmP16K"
      },
      "source": [
        "## Practical Exercise - Flight delay data \n",
        "\n",
        "You can find the dataset here:\n",
        "https://www.kaggle.com/divyansh22/flight-delay-prediction\n",
        "\n",
        "Now, we will dive into a more complicated data analysis using Pandas."
      ]
    },
    {
      "cell_type": "markdown",
      "metadata": {
        "id": "ps1EtT8PV7Ud"
      },
      "source": [
        "<img src=\"https://github.com/bitprj/DigitalHistory/blob/Narae/Week6-Advanced-Data-Wrangling-using-Pandas/assets/icons/flight.jpg?raw=1\" width=\"300\" align=\"right\"> \n",
        "\n",
        "From the page itself:\n",
        "\n",
        "\"This dataset is the flight delay prediction for the month of January. \n",
        "\n",
        "This data is collected from the Bureau of Transportation Statistics, Govt. of the USA. This data is open-sourced under U.S. Govt. Works. This dataset contains all the flights in the month of January 2020. There are more than 400,000 flights in the month of January itself throughout the United States. The features were manually chosen to do a primary time series analysis. There are several other features available on their website.\n",
        "\n",
        "This data could well be used to predict the flight delay at the destination airport specifically for the month of January in upcoming years as the data is for January only\"."
      ]
    },
    {
      "cell_type": "code",
      "metadata": {
        "id": "KK32nt5w0CQt",
        "outputId": "3a336369-1ac3-46b6-b4b9-61eb4e9a7301",
        "colab": {
          "base_uri": "https://localhost:8080/",
          "height": 453
        }
      },
      "source": [
        "url = 'https://raw.githubusercontent.com/bitprj/DigitalHistory/master/Week6-Advanced-Data-Wrangling-using-Pandas/data/Jan_2020_ontime.csv'\n",
        "df = pd.read_csv(url)\n",
        "df"
      ],
      "execution_count": null,
      "outputs": [
        {
          "output_type": "execute_result",
          "data": {
            "text/html": [
              "<div>\n",
              "<style scoped>\n",
              "    .dataframe tbody tr th:only-of-type {\n",
              "        vertical-align: middle;\n",
              "    }\n",
              "\n",
              "    .dataframe tbody tr th {\n",
              "        vertical-align: top;\n",
              "    }\n",
              "\n",
              "    .dataframe thead th {\n",
              "        text-align: right;\n",
              "    }\n",
              "</style>\n",
              "<table border=\"1\" class=\"dataframe\">\n",
              "  <thead>\n",
              "    <tr style=\"text-align: right;\">\n",
              "      <th></th>\n",
              "      <th>DAY_OF_MONTH</th>\n",
              "      <th>DAY_OF_WEEK</th>\n",
              "      <th>OP_UNIQUE_CARRIER</th>\n",
              "      <th>OP_CARRIER_AIRLINE_ID</th>\n",
              "      <th>OP_CARRIER</th>\n",
              "      <th>TAIL_NUM</th>\n",
              "      <th>OP_CARRIER_FL_NUM</th>\n",
              "      <th>ORIGIN_AIRPORT_ID</th>\n",
              "      <th>ORIGIN_AIRPORT_SEQ_ID</th>\n",
              "      <th>ORIGIN</th>\n",
              "      <th>DEST_AIRPORT_ID</th>\n",
              "      <th>DEST_AIRPORT_SEQ_ID</th>\n",
              "      <th>DEST</th>\n",
              "      <th>DEP_TIME</th>\n",
              "      <th>DEP_DEL15</th>\n",
              "      <th>DEP_TIME_BLK</th>\n",
              "      <th>ARR_TIME</th>\n",
              "      <th>ARR_DEL15</th>\n",
              "      <th>CANCELLED</th>\n",
              "      <th>DIVERTED</th>\n",
              "      <th>DISTANCE</th>\n",
              "      <th>Unnamed: 21</th>\n",
              "    </tr>\n",
              "  </thead>\n",
              "  <tbody>\n",
              "    <tr>\n",
              "      <th>0</th>\n",
              "      <td>1</td>\n",
              "      <td>3</td>\n",
              "      <td>EV</td>\n",
              "      <td>20366</td>\n",
              "      <td>EV</td>\n",
              "      <td>N48901</td>\n",
              "      <td>4397</td>\n",
              "      <td>13930</td>\n",
              "      <td>1393007</td>\n",
              "      <td>ORD</td>\n",
              "      <td>11977</td>\n",
              "      <td>1197705</td>\n",
              "      <td>GRB</td>\n",
              "      <td>1003.0</td>\n",
              "      <td>0.0</td>\n",
              "      <td>1000-1059</td>\n",
              "      <td>1117.0</td>\n",
              "      <td>0.0</td>\n",
              "      <td>0.0</td>\n",
              "      <td>0.0</td>\n",
              "      <td>174.0</td>\n",
              "      <td>NaN</td>\n",
              "    </tr>\n",
              "    <tr>\n",
              "      <th>1</th>\n",
              "      <td>1</td>\n",
              "      <td>3</td>\n",
              "      <td>EV</td>\n",
              "      <td>20366</td>\n",
              "      <td>EV</td>\n",
              "      <td>N16976</td>\n",
              "      <td>4401</td>\n",
              "      <td>15370</td>\n",
              "      <td>1537002</td>\n",
              "      <td>TUL</td>\n",
              "      <td>13930</td>\n",
              "      <td>1393007</td>\n",
              "      <td>ORD</td>\n",
              "      <td>1027.0</td>\n",
              "      <td>0.0</td>\n",
              "      <td>1000-1059</td>\n",
              "      <td>1216.0</td>\n",
              "      <td>0.0</td>\n",
              "      <td>0.0</td>\n",
              "      <td>0.0</td>\n",
              "      <td>585.0</td>\n",
              "      <td>NaN</td>\n",
              "    </tr>\n",
              "    <tr>\n",
              "      <th>2</th>\n",
              "      <td>1</td>\n",
              "      <td>3</td>\n",
              "      <td>EV</td>\n",
              "      <td>20366</td>\n",
              "      <td>EV</td>\n",
              "      <td>N12167</td>\n",
              "      <td>4404</td>\n",
              "      <td>11618</td>\n",
              "      <td>1161802</td>\n",
              "      <td>EWR</td>\n",
              "      <td>15412</td>\n",
              "      <td>1541205</td>\n",
              "      <td>TYS</td>\n",
              "      <td>1848.0</td>\n",
              "      <td>0.0</td>\n",
              "      <td>1800-1859</td>\n",
              "      <td>2120.0</td>\n",
              "      <td>0.0</td>\n",
              "      <td>0.0</td>\n",
              "      <td>0.0</td>\n",
              "      <td>631.0</td>\n",
              "      <td>NaN</td>\n",
              "    </tr>\n",
              "    <tr>\n",
              "      <th>3</th>\n",
              "      <td>1</td>\n",
              "      <td>3</td>\n",
              "      <td>EV</td>\n",
              "      <td>20366</td>\n",
              "      <td>EV</td>\n",
              "      <td>N14902</td>\n",
              "      <td>4405</td>\n",
              "      <td>10781</td>\n",
              "      <td>1078105</td>\n",
              "      <td>BTR</td>\n",
              "      <td>12266</td>\n",
              "      <td>1226603</td>\n",
              "      <td>IAH</td>\n",
              "      <td>1846.0</td>\n",
              "      <td>0.0</td>\n",
              "      <td>1800-1859</td>\n",
              "      <td>2004.0</td>\n",
              "      <td>0.0</td>\n",
              "      <td>0.0</td>\n",
              "      <td>0.0</td>\n",
              "      <td>253.0</td>\n",
              "      <td>NaN</td>\n",
              "    </tr>\n",
              "    <tr>\n",
              "      <th>4</th>\n",
              "      <td>1</td>\n",
              "      <td>3</td>\n",
              "      <td>EV</td>\n",
              "      <td>20366</td>\n",
              "      <td>EV</td>\n",
              "      <td>N606UX</td>\n",
              "      <td>4407</td>\n",
              "      <td>14524</td>\n",
              "      <td>1452401</td>\n",
              "      <td>RIC</td>\n",
              "      <td>12266</td>\n",
              "      <td>1226603</td>\n",
              "      <td>IAH</td>\n",
              "      <td>1038.0</td>\n",
              "      <td>0.0</td>\n",
              "      <td>1000-1059</td>\n",
              "      <td>1330.0</td>\n",
              "      <td>0.0</td>\n",
              "      <td>0.0</td>\n",
              "      <td>0.0</td>\n",
              "      <td>1157.0</td>\n",
              "      <td>NaN</td>\n",
              "    </tr>\n",
              "    <tr>\n",
              "      <th>...</th>\n",
              "      <td>...</td>\n",
              "      <td>...</td>\n",
              "      <td>...</td>\n",
              "      <td>...</td>\n",
              "      <td>...</td>\n",
              "      <td>...</td>\n",
              "      <td>...</td>\n",
              "      <td>...</td>\n",
              "      <td>...</td>\n",
              "      <td>...</td>\n",
              "      <td>...</td>\n",
              "      <td>...</td>\n",
              "      <td>...</td>\n",
              "      <td>...</td>\n",
              "      <td>...</td>\n",
              "      <td>...</td>\n",
              "      <td>...</td>\n",
              "      <td>...</td>\n",
              "      <td>...</td>\n",
              "      <td>...</td>\n",
              "      <td>...</td>\n",
              "      <td>...</td>\n",
              "    </tr>\n",
              "    <tr>\n",
              "      <th>607341</th>\n",
              "      <td>31</td>\n",
              "      <td>5</td>\n",
              "      <td>9E</td>\n",
              "      <td>20363</td>\n",
              "      <td>9E</td>\n",
              "      <td>N331CA</td>\n",
              "      <td>4812</td>\n",
              "      <td>15412</td>\n",
              "      <td>1541205</td>\n",
              "      <td>TYS</td>\n",
              "      <td>11433</td>\n",
              "      <td>1143302</td>\n",
              "      <td>DTW</td>\n",
              "      <td>1002.0</td>\n",
              "      <td>1.0</td>\n",
              "      <td>0700-0759</td>\n",
              "      <td>1128.0</td>\n",
              "      <td>1.0</td>\n",
              "      <td>0.0</td>\n",
              "      <td>0.0</td>\n",
              "      <td>443.0</td>\n",
              "      <td>NaN</td>\n",
              "    </tr>\n",
              "    <tr>\n",
              "      <th>607342</th>\n",
              "      <td>31</td>\n",
              "      <td>5</td>\n",
              "      <td>9E</td>\n",
              "      <td>20363</td>\n",
              "      <td>9E</td>\n",
              "      <td>N295PQ</td>\n",
              "      <td>4813</td>\n",
              "      <td>11433</td>\n",
              "      <td>1143302</td>\n",
              "      <td>DTW</td>\n",
              "      <td>12478</td>\n",
              "      <td>1247805</td>\n",
              "      <td>JFK</td>\n",
              "      <td>1747.0</td>\n",
              "      <td>0.0</td>\n",
              "      <td>1700-1759</td>\n",
              "      <td>1933.0</td>\n",
              "      <td>0.0</td>\n",
              "      <td>0.0</td>\n",
              "      <td>0.0</td>\n",
              "      <td>509.0</td>\n",
              "      <td>NaN</td>\n",
              "    </tr>\n",
              "    <tr>\n",
              "      <th>607343</th>\n",
              "      <td>31</td>\n",
              "      <td>5</td>\n",
              "      <td>9E</td>\n",
              "      <td>20363</td>\n",
              "      <td>9E</td>\n",
              "      <td>N294PQ</td>\n",
              "      <td>4814</td>\n",
              "      <td>11996</td>\n",
              "      <td>1199603</td>\n",
              "      <td>GSP</td>\n",
              "      <td>12953</td>\n",
              "      <td>1295304</td>\n",
              "      <td>LGA</td>\n",
              "      <td>554.0</td>\n",
              "      <td>0.0</td>\n",
              "      <td>0600-0659</td>\n",
              "      <td>752.0</td>\n",
              "      <td>0.0</td>\n",
              "      <td>0.0</td>\n",
              "      <td>0.0</td>\n",
              "      <td>610.0</td>\n",
              "      <td>NaN</td>\n",
              "    </tr>\n",
              "    <tr>\n",
              "      <th>607344</th>\n",
              "      <td>31</td>\n",
              "      <td>5</td>\n",
              "      <td>9E</td>\n",
              "      <td>20363</td>\n",
              "      <td>9E</td>\n",
              "      <td>N228PQ</td>\n",
              "      <td>4815</td>\n",
              "      <td>10397</td>\n",
              "      <td>1039707</td>\n",
              "      <td>ATL</td>\n",
              "      <td>15919</td>\n",
              "      <td>1591904</td>\n",
              "      <td>XNA</td>\n",
              "      <td>1714.0</td>\n",
              "      <td>0.0</td>\n",
              "      <td>1700-1759</td>\n",
              "      <td>1811.0</td>\n",
              "      <td>0.0</td>\n",
              "      <td>0.0</td>\n",
              "      <td>0.0</td>\n",
              "      <td>589.0</td>\n",
              "      <td>NaN</td>\n",
              "    </tr>\n",
              "    <tr>\n",
              "      <th>607345</th>\n",
              "      <td>31</td>\n",
              "      <td>5</td>\n",
              "      <td>9E</td>\n",
              "      <td>20363</td>\n",
              "      <td>9E</td>\n",
              "      <td>N228PQ</td>\n",
              "      <td>4815</td>\n",
              "      <td>15919</td>\n",
              "      <td>1591904</td>\n",
              "      <td>XNA</td>\n",
              "      <td>10397</td>\n",
              "      <td>1039707</td>\n",
              "      <td>ATL</td>\n",
              "      <td>1841.0</td>\n",
              "      <td>0.0</td>\n",
              "      <td>1800-1859</td>\n",
              "      <td>2128.0</td>\n",
              "      <td>0.0</td>\n",
              "      <td>0.0</td>\n",
              "      <td>0.0</td>\n",
              "      <td>589.0</td>\n",
              "      <td>NaN</td>\n",
              "    </tr>\n",
              "  </tbody>\n",
              "</table>\n",
              "<p>607346 rows × 22 columns</p>\n",
              "</div>"
            ],
            "text/plain": [
              "        DAY_OF_MONTH  DAY_OF_WEEK  ... DISTANCE  Unnamed: 21\n",
              "0                  1            3  ...    174.0          NaN\n",
              "1                  1            3  ...    585.0          NaN\n",
              "2                  1            3  ...    631.0          NaN\n",
              "3                  1            3  ...    253.0          NaN\n",
              "4                  1            3  ...   1157.0          NaN\n",
              "...              ...          ...  ...      ...          ...\n",
              "607341            31            5  ...    443.0          NaN\n",
              "607342            31            5  ...    509.0          NaN\n",
              "607343            31            5  ...    610.0          NaN\n",
              "607344            31            5  ...    589.0          NaN\n",
              "607345            31            5  ...    589.0          NaN\n",
              "\n",
              "[607346 rows x 22 columns]"
            ]
          },
          "metadata": {
            "tags": []
          },
          "execution_count": 62
        }
      ]
    },
    {
      "cell_type": "markdown",
      "metadata": {
        "id": "wQeTRO4o0CQu"
      },
      "source": [
        "As always, the first thing we need to do is get an idea of what data looks like!\n",
        "We can call three functions here:\n",
        "- `head()`\n",
        "- `describe()`\n",
        "- `info()`"
      ]
    },
    {
      "cell_type": "code",
      "metadata": {
        "id": "Nil_q25V0CQv",
        "outputId": "a3491a51-1020-4f70-e58b-70b3f5a21c39",
        "colab": {
          "base_uri": "https://localhost:8080/",
          "height": 453
        }
      },
      "source": [
        "df"
      ],
      "execution_count": null,
      "outputs": [
        {
          "output_type": "execute_result",
          "data": {
            "text/html": [
              "<div>\n",
              "<style scoped>\n",
              "    .dataframe tbody tr th:only-of-type {\n",
              "        vertical-align: middle;\n",
              "    }\n",
              "\n",
              "    .dataframe tbody tr th {\n",
              "        vertical-align: top;\n",
              "    }\n",
              "\n",
              "    .dataframe thead th {\n",
              "        text-align: right;\n",
              "    }\n",
              "</style>\n",
              "<table border=\"1\" class=\"dataframe\">\n",
              "  <thead>\n",
              "    <tr style=\"text-align: right;\">\n",
              "      <th></th>\n",
              "      <th>DAY_OF_MONTH</th>\n",
              "      <th>DAY_OF_WEEK</th>\n",
              "      <th>OP_UNIQUE_CARRIER</th>\n",
              "      <th>OP_CARRIER_AIRLINE_ID</th>\n",
              "      <th>OP_CARRIER</th>\n",
              "      <th>TAIL_NUM</th>\n",
              "      <th>OP_CARRIER_FL_NUM</th>\n",
              "      <th>ORIGIN_AIRPORT_ID</th>\n",
              "      <th>ORIGIN_AIRPORT_SEQ_ID</th>\n",
              "      <th>ORIGIN</th>\n",
              "      <th>DEST_AIRPORT_ID</th>\n",
              "      <th>DEST_AIRPORT_SEQ_ID</th>\n",
              "      <th>DEST</th>\n",
              "      <th>DEP_TIME</th>\n",
              "      <th>DEP_DEL15</th>\n",
              "      <th>DEP_TIME_BLK</th>\n",
              "      <th>ARR_TIME</th>\n",
              "      <th>ARR_DEL15</th>\n",
              "      <th>CANCELLED</th>\n",
              "      <th>DIVERTED</th>\n",
              "      <th>DISTANCE</th>\n",
              "      <th>Unnamed: 21</th>\n",
              "    </tr>\n",
              "  </thead>\n",
              "  <tbody>\n",
              "    <tr>\n",
              "      <th>0</th>\n",
              "      <td>1</td>\n",
              "      <td>3</td>\n",
              "      <td>EV</td>\n",
              "      <td>20366</td>\n",
              "      <td>EV</td>\n",
              "      <td>N48901</td>\n",
              "      <td>4397</td>\n",
              "      <td>13930</td>\n",
              "      <td>1393007</td>\n",
              "      <td>ORD</td>\n",
              "      <td>11977</td>\n",
              "      <td>1197705</td>\n",
              "      <td>GRB</td>\n",
              "      <td>1003.0</td>\n",
              "      <td>0.0</td>\n",
              "      <td>1000-1059</td>\n",
              "      <td>1117.0</td>\n",
              "      <td>0.0</td>\n",
              "      <td>0.0</td>\n",
              "      <td>0.0</td>\n",
              "      <td>174.0</td>\n",
              "      <td>NaN</td>\n",
              "    </tr>\n",
              "    <tr>\n",
              "      <th>1</th>\n",
              "      <td>1</td>\n",
              "      <td>3</td>\n",
              "      <td>EV</td>\n",
              "      <td>20366</td>\n",
              "      <td>EV</td>\n",
              "      <td>N16976</td>\n",
              "      <td>4401</td>\n",
              "      <td>15370</td>\n",
              "      <td>1537002</td>\n",
              "      <td>TUL</td>\n",
              "      <td>13930</td>\n",
              "      <td>1393007</td>\n",
              "      <td>ORD</td>\n",
              "      <td>1027.0</td>\n",
              "      <td>0.0</td>\n",
              "      <td>1000-1059</td>\n",
              "      <td>1216.0</td>\n",
              "      <td>0.0</td>\n",
              "      <td>0.0</td>\n",
              "      <td>0.0</td>\n",
              "      <td>585.0</td>\n",
              "      <td>NaN</td>\n",
              "    </tr>\n",
              "    <tr>\n",
              "      <th>2</th>\n",
              "      <td>1</td>\n",
              "      <td>3</td>\n",
              "      <td>EV</td>\n",
              "      <td>20366</td>\n",
              "      <td>EV</td>\n",
              "      <td>N12167</td>\n",
              "      <td>4404</td>\n",
              "      <td>11618</td>\n",
              "      <td>1161802</td>\n",
              "      <td>EWR</td>\n",
              "      <td>15412</td>\n",
              "      <td>1541205</td>\n",
              "      <td>TYS</td>\n",
              "      <td>1848.0</td>\n",
              "      <td>0.0</td>\n",
              "      <td>1800-1859</td>\n",
              "      <td>2120.0</td>\n",
              "      <td>0.0</td>\n",
              "      <td>0.0</td>\n",
              "      <td>0.0</td>\n",
              "      <td>631.0</td>\n",
              "      <td>NaN</td>\n",
              "    </tr>\n",
              "    <tr>\n",
              "      <th>3</th>\n",
              "      <td>1</td>\n",
              "      <td>3</td>\n",
              "      <td>EV</td>\n",
              "      <td>20366</td>\n",
              "      <td>EV</td>\n",
              "      <td>N14902</td>\n",
              "      <td>4405</td>\n",
              "      <td>10781</td>\n",
              "      <td>1078105</td>\n",
              "      <td>BTR</td>\n",
              "      <td>12266</td>\n",
              "      <td>1226603</td>\n",
              "      <td>IAH</td>\n",
              "      <td>1846.0</td>\n",
              "      <td>0.0</td>\n",
              "      <td>1800-1859</td>\n",
              "      <td>2004.0</td>\n",
              "      <td>0.0</td>\n",
              "      <td>0.0</td>\n",
              "      <td>0.0</td>\n",
              "      <td>253.0</td>\n",
              "      <td>NaN</td>\n",
              "    </tr>\n",
              "    <tr>\n",
              "      <th>4</th>\n",
              "      <td>1</td>\n",
              "      <td>3</td>\n",
              "      <td>EV</td>\n",
              "      <td>20366</td>\n",
              "      <td>EV</td>\n",
              "      <td>N606UX</td>\n",
              "      <td>4407</td>\n",
              "      <td>14524</td>\n",
              "      <td>1452401</td>\n",
              "      <td>RIC</td>\n",
              "      <td>12266</td>\n",
              "      <td>1226603</td>\n",
              "      <td>IAH</td>\n",
              "      <td>1038.0</td>\n",
              "      <td>0.0</td>\n",
              "      <td>1000-1059</td>\n",
              "      <td>1330.0</td>\n",
              "      <td>0.0</td>\n",
              "      <td>0.0</td>\n",
              "      <td>0.0</td>\n",
              "      <td>1157.0</td>\n",
              "      <td>NaN</td>\n",
              "    </tr>\n",
              "    <tr>\n",
              "      <th>...</th>\n",
              "      <td>...</td>\n",
              "      <td>...</td>\n",
              "      <td>...</td>\n",
              "      <td>...</td>\n",
              "      <td>...</td>\n",
              "      <td>...</td>\n",
              "      <td>...</td>\n",
              "      <td>...</td>\n",
              "      <td>...</td>\n",
              "      <td>...</td>\n",
              "      <td>...</td>\n",
              "      <td>...</td>\n",
              "      <td>...</td>\n",
              "      <td>...</td>\n",
              "      <td>...</td>\n",
              "      <td>...</td>\n",
              "      <td>...</td>\n",
              "      <td>...</td>\n",
              "      <td>...</td>\n",
              "      <td>...</td>\n",
              "      <td>...</td>\n",
              "      <td>...</td>\n",
              "    </tr>\n",
              "    <tr>\n",
              "      <th>607341</th>\n",
              "      <td>31</td>\n",
              "      <td>5</td>\n",
              "      <td>9E</td>\n",
              "      <td>20363</td>\n",
              "      <td>9E</td>\n",
              "      <td>N331CA</td>\n",
              "      <td>4812</td>\n",
              "      <td>15412</td>\n",
              "      <td>1541205</td>\n",
              "      <td>TYS</td>\n",
              "      <td>11433</td>\n",
              "      <td>1143302</td>\n",
              "      <td>DTW</td>\n",
              "      <td>1002.0</td>\n",
              "      <td>1.0</td>\n",
              "      <td>0700-0759</td>\n",
              "      <td>1128.0</td>\n",
              "      <td>1.0</td>\n",
              "      <td>0.0</td>\n",
              "      <td>0.0</td>\n",
              "      <td>443.0</td>\n",
              "      <td>NaN</td>\n",
              "    </tr>\n",
              "    <tr>\n",
              "      <th>607342</th>\n",
              "      <td>31</td>\n",
              "      <td>5</td>\n",
              "      <td>9E</td>\n",
              "      <td>20363</td>\n",
              "      <td>9E</td>\n",
              "      <td>N295PQ</td>\n",
              "      <td>4813</td>\n",
              "      <td>11433</td>\n",
              "      <td>1143302</td>\n",
              "      <td>DTW</td>\n",
              "      <td>12478</td>\n",
              "      <td>1247805</td>\n",
              "      <td>JFK</td>\n",
              "      <td>1747.0</td>\n",
              "      <td>0.0</td>\n",
              "      <td>1700-1759</td>\n",
              "      <td>1933.0</td>\n",
              "      <td>0.0</td>\n",
              "      <td>0.0</td>\n",
              "      <td>0.0</td>\n",
              "      <td>509.0</td>\n",
              "      <td>NaN</td>\n",
              "    </tr>\n",
              "    <tr>\n",
              "      <th>607343</th>\n",
              "      <td>31</td>\n",
              "      <td>5</td>\n",
              "      <td>9E</td>\n",
              "      <td>20363</td>\n",
              "      <td>9E</td>\n",
              "      <td>N294PQ</td>\n",
              "      <td>4814</td>\n",
              "      <td>11996</td>\n",
              "      <td>1199603</td>\n",
              "      <td>GSP</td>\n",
              "      <td>12953</td>\n",
              "      <td>1295304</td>\n",
              "      <td>LGA</td>\n",
              "      <td>554.0</td>\n",
              "      <td>0.0</td>\n",
              "      <td>0600-0659</td>\n",
              "      <td>752.0</td>\n",
              "      <td>0.0</td>\n",
              "      <td>0.0</td>\n",
              "      <td>0.0</td>\n",
              "      <td>610.0</td>\n",
              "      <td>NaN</td>\n",
              "    </tr>\n",
              "    <tr>\n",
              "      <th>607344</th>\n",
              "      <td>31</td>\n",
              "      <td>5</td>\n",
              "      <td>9E</td>\n",
              "      <td>20363</td>\n",
              "      <td>9E</td>\n",
              "      <td>N228PQ</td>\n",
              "      <td>4815</td>\n",
              "      <td>10397</td>\n",
              "      <td>1039707</td>\n",
              "      <td>ATL</td>\n",
              "      <td>15919</td>\n",
              "      <td>1591904</td>\n",
              "      <td>XNA</td>\n",
              "      <td>1714.0</td>\n",
              "      <td>0.0</td>\n",
              "      <td>1700-1759</td>\n",
              "      <td>1811.0</td>\n",
              "      <td>0.0</td>\n",
              "      <td>0.0</td>\n",
              "      <td>0.0</td>\n",
              "      <td>589.0</td>\n",
              "      <td>NaN</td>\n",
              "    </tr>\n",
              "    <tr>\n",
              "      <th>607345</th>\n",
              "      <td>31</td>\n",
              "      <td>5</td>\n",
              "      <td>9E</td>\n",
              "      <td>20363</td>\n",
              "      <td>9E</td>\n",
              "      <td>N228PQ</td>\n",
              "      <td>4815</td>\n",
              "      <td>15919</td>\n",
              "      <td>1591904</td>\n",
              "      <td>XNA</td>\n",
              "      <td>10397</td>\n",
              "      <td>1039707</td>\n",
              "      <td>ATL</td>\n",
              "      <td>1841.0</td>\n",
              "      <td>0.0</td>\n",
              "      <td>1800-1859</td>\n",
              "      <td>2128.0</td>\n",
              "      <td>0.0</td>\n",
              "      <td>0.0</td>\n",
              "      <td>0.0</td>\n",
              "      <td>589.0</td>\n",
              "      <td>NaN</td>\n",
              "    </tr>\n",
              "  </tbody>\n",
              "</table>\n",
              "<p>607346 rows × 22 columns</p>\n",
              "</div>"
            ],
            "text/plain": [
              "        DAY_OF_MONTH  DAY_OF_WEEK  ... DISTANCE  Unnamed: 21\n",
              "0                  1            3  ...    174.0          NaN\n",
              "1                  1            3  ...    585.0          NaN\n",
              "2                  1            3  ...    631.0          NaN\n",
              "3                  1            3  ...    253.0          NaN\n",
              "4                  1            3  ...   1157.0          NaN\n",
              "...              ...          ...  ...      ...          ...\n",
              "607341            31            5  ...    443.0          NaN\n",
              "607342            31            5  ...    509.0          NaN\n",
              "607343            31            5  ...    610.0          NaN\n",
              "607344            31            5  ...    589.0          NaN\n",
              "607345            31            5  ...    589.0          NaN\n",
              "\n",
              "[607346 rows x 22 columns]"
            ]
          },
          "metadata": {
            "tags": []
          },
          "execution_count": 63
        }
      ]
    },
    {
      "cell_type": "code",
      "metadata": {
        "id": "TphDWgQ10CQy",
        "outputId": "95037d80-1fec-47d8-fe5d-d9a0a8a90c3c",
        "colab": {
          "base_uri": "https://localhost:8080/",
          "height": 239
        }
      },
      "source": [
        "df.head()"
      ],
      "execution_count": null,
      "outputs": [
        {
          "output_type": "execute_result",
          "data": {
            "text/html": [
              "<div>\n",
              "<style scoped>\n",
              "    .dataframe tbody tr th:only-of-type {\n",
              "        vertical-align: middle;\n",
              "    }\n",
              "\n",
              "    .dataframe tbody tr th {\n",
              "        vertical-align: top;\n",
              "    }\n",
              "\n",
              "    .dataframe thead th {\n",
              "        text-align: right;\n",
              "    }\n",
              "</style>\n",
              "<table border=\"1\" class=\"dataframe\">\n",
              "  <thead>\n",
              "    <tr style=\"text-align: right;\">\n",
              "      <th></th>\n",
              "      <th>DAY_OF_MONTH</th>\n",
              "      <th>DAY_OF_WEEK</th>\n",
              "      <th>OP_UNIQUE_CARRIER</th>\n",
              "      <th>OP_CARRIER_AIRLINE_ID</th>\n",
              "      <th>OP_CARRIER</th>\n",
              "      <th>TAIL_NUM</th>\n",
              "      <th>OP_CARRIER_FL_NUM</th>\n",
              "      <th>ORIGIN_AIRPORT_ID</th>\n",
              "      <th>ORIGIN_AIRPORT_SEQ_ID</th>\n",
              "      <th>ORIGIN</th>\n",
              "      <th>DEST_AIRPORT_ID</th>\n",
              "      <th>DEST_AIRPORT_SEQ_ID</th>\n",
              "      <th>DEST</th>\n",
              "      <th>DEP_TIME</th>\n",
              "      <th>DEP_DEL15</th>\n",
              "      <th>DEP_TIME_BLK</th>\n",
              "      <th>ARR_TIME</th>\n",
              "      <th>ARR_DEL15</th>\n",
              "      <th>CANCELLED</th>\n",
              "      <th>DIVERTED</th>\n",
              "      <th>DISTANCE</th>\n",
              "      <th>Unnamed: 21</th>\n",
              "    </tr>\n",
              "  </thead>\n",
              "  <tbody>\n",
              "    <tr>\n",
              "      <th>0</th>\n",
              "      <td>1</td>\n",
              "      <td>3</td>\n",
              "      <td>EV</td>\n",
              "      <td>20366</td>\n",
              "      <td>EV</td>\n",
              "      <td>N48901</td>\n",
              "      <td>4397</td>\n",
              "      <td>13930</td>\n",
              "      <td>1393007</td>\n",
              "      <td>ORD</td>\n",
              "      <td>11977</td>\n",
              "      <td>1197705</td>\n",
              "      <td>GRB</td>\n",
              "      <td>1003.0</td>\n",
              "      <td>0.0</td>\n",
              "      <td>1000-1059</td>\n",
              "      <td>1117.0</td>\n",
              "      <td>0.0</td>\n",
              "      <td>0.0</td>\n",
              "      <td>0.0</td>\n",
              "      <td>174.0</td>\n",
              "      <td>NaN</td>\n",
              "    </tr>\n",
              "    <tr>\n",
              "      <th>1</th>\n",
              "      <td>1</td>\n",
              "      <td>3</td>\n",
              "      <td>EV</td>\n",
              "      <td>20366</td>\n",
              "      <td>EV</td>\n",
              "      <td>N16976</td>\n",
              "      <td>4401</td>\n",
              "      <td>15370</td>\n",
              "      <td>1537002</td>\n",
              "      <td>TUL</td>\n",
              "      <td>13930</td>\n",
              "      <td>1393007</td>\n",
              "      <td>ORD</td>\n",
              "      <td>1027.0</td>\n",
              "      <td>0.0</td>\n",
              "      <td>1000-1059</td>\n",
              "      <td>1216.0</td>\n",
              "      <td>0.0</td>\n",
              "      <td>0.0</td>\n",
              "      <td>0.0</td>\n",
              "      <td>585.0</td>\n",
              "      <td>NaN</td>\n",
              "    </tr>\n",
              "    <tr>\n",
              "      <th>2</th>\n",
              "      <td>1</td>\n",
              "      <td>3</td>\n",
              "      <td>EV</td>\n",
              "      <td>20366</td>\n",
              "      <td>EV</td>\n",
              "      <td>N12167</td>\n",
              "      <td>4404</td>\n",
              "      <td>11618</td>\n",
              "      <td>1161802</td>\n",
              "      <td>EWR</td>\n",
              "      <td>15412</td>\n",
              "      <td>1541205</td>\n",
              "      <td>TYS</td>\n",
              "      <td>1848.0</td>\n",
              "      <td>0.0</td>\n",
              "      <td>1800-1859</td>\n",
              "      <td>2120.0</td>\n",
              "      <td>0.0</td>\n",
              "      <td>0.0</td>\n",
              "      <td>0.0</td>\n",
              "      <td>631.0</td>\n",
              "      <td>NaN</td>\n",
              "    </tr>\n",
              "    <tr>\n",
              "      <th>3</th>\n",
              "      <td>1</td>\n",
              "      <td>3</td>\n",
              "      <td>EV</td>\n",
              "      <td>20366</td>\n",
              "      <td>EV</td>\n",
              "      <td>N14902</td>\n",
              "      <td>4405</td>\n",
              "      <td>10781</td>\n",
              "      <td>1078105</td>\n",
              "      <td>BTR</td>\n",
              "      <td>12266</td>\n",
              "      <td>1226603</td>\n",
              "      <td>IAH</td>\n",
              "      <td>1846.0</td>\n",
              "      <td>0.0</td>\n",
              "      <td>1800-1859</td>\n",
              "      <td>2004.0</td>\n",
              "      <td>0.0</td>\n",
              "      <td>0.0</td>\n",
              "      <td>0.0</td>\n",
              "      <td>253.0</td>\n",
              "      <td>NaN</td>\n",
              "    </tr>\n",
              "    <tr>\n",
              "      <th>4</th>\n",
              "      <td>1</td>\n",
              "      <td>3</td>\n",
              "      <td>EV</td>\n",
              "      <td>20366</td>\n",
              "      <td>EV</td>\n",
              "      <td>N606UX</td>\n",
              "      <td>4407</td>\n",
              "      <td>14524</td>\n",
              "      <td>1452401</td>\n",
              "      <td>RIC</td>\n",
              "      <td>12266</td>\n",
              "      <td>1226603</td>\n",
              "      <td>IAH</td>\n",
              "      <td>1038.0</td>\n",
              "      <td>0.0</td>\n",
              "      <td>1000-1059</td>\n",
              "      <td>1330.0</td>\n",
              "      <td>0.0</td>\n",
              "      <td>0.0</td>\n",
              "      <td>0.0</td>\n",
              "      <td>1157.0</td>\n",
              "      <td>NaN</td>\n",
              "    </tr>\n",
              "  </tbody>\n",
              "</table>\n",
              "</div>"
            ],
            "text/plain": [
              "   DAY_OF_MONTH  DAY_OF_WEEK OP_UNIQUE_CARRIER  ...  DIVERTED DISTANCE Unnamed: 21\n",
              "0             1            3                EV  ...       0.0    174.0         NaN\n",
              "1             1            3                EV  ...       0.0    585.0         NaN\n",
              "2             1            3                EV  ...       0.0    631.0         NaN\n",
              "3             1            3                EV  ...       0.0    253.0         NaN\n",
              "4             1            3                EV  ...       0.0   1157.0         NaN\n",
              "\n",
              "[5 rows x 22 columns]"
            ]
          },
          "metadata": {
            "tags": []
          },
          "execution_count": 64
        }
      ]
    },
    {
      "cell_type": "code",
      "metadata": {
        "id": "hpQfu_U50CQz",
        "outputId": "b337d132-8ef4-4c2e-b5bc-2bf81ead5b35",
        "colab": {
          "base_uri": "https://localhost:8080/",
          "height": 331
        }
      },
      "source": [
        "df.describe()"
      ],
      "execution_count": null,
      "outputs": [
        {
          "output_type": "execute_result",
          "data": {
            "text/html": [
              "<div>\n",
              "<style scoped>\n",
              "    .dataframe tbody tr th:only-of-type {\n",
              "        vertical-align: middle;\n",
              "    }\n",
              "\n",
              "    .dataframe tbody tr th {\n",
              "        vertical-align: top;\n",
              "    }\n",
              "\n",
              "    .dataframe thead th {\n",
              "        text-align: right;\n",
              "    }\n",
              "</style>\n",
              "<table border=\"1\" class=\"dataframe\">\n",
              "  <thead>\n",
              "    <tr style=\"text-align: right;\">\n",
              "      <th></th>\n",
              "      <th>DAY_OF_MONTH</th>\n",
              "      <th>DAY_OF_WEEK</th>\n",
              "      <th>OP_CARRIER_AIRLINE_ID</th>\n",
              "      <th>OP_CARRIER_FL_NUM</th>\n",
              "      <th>ORIGIN_AIRPORT_ID</th>\n",
              "      <th>ORIGIN_AIRPORT_SEQ_ID</th>\n",
              "      <th>DEST_AIRPORT_ID</th>\n",
              "      <th>DEST_AIRPORT_SEQ_ID</th>\n",
              "      <th>DEP_TIME</th>\n",
              "      <th>DEP_DEL15</th>\n",
              "      <th>ARR_TIME</th>\n",
              "      <th>ARR_DEL15</th>\n",
              "      <th>CANCELLED</th>\n",
              "      <th>DIVERTED</th>\n",
              "      <th>DISTANCE</th>\n",
              "      <th>Unnamed: 21</th>\n",
              "    </tr>\n",
              "  </thead>\n",
              "  <tbody>\n",
              "    <tr>\n",
              "      <th>count</th>\n",
              "      <td>607346.000000</td>\n",
              "      <td>607346.000000</td>\n",
              "      <td>607346.000000</td>\n",
              "      <td>607346.000000</td>\n",
              "      <td>607346.000000</td>\n",
              "      <td>6.073460e+05</td>\n",
              "      <td>607346.000000</td>\n",
              "      <td>6.073460e+05</td>\n",
              "      <td>600682.000000</td>\n",
              "      <td>600647.000000</td>\n",
              "      <td>600271.000000</td>\n",
              "      <td>599268.000000</td>\n",
              "      <td>607346.000000</td>\n",
              "      <td>607346.000000</td>\n",
              "      <td>607346.000000</td>\n",
              "      <td>0.0</td>\n",
              "    </tr>\n",
              "    <tr>\n",
              "      <th>mean</th>\n",
              "      <td>16.014354</td>\n",
              "      <td>3.955735</td>\n",
              "      <td>19994.137492</td>\n",
              "      <td>2622.365261</td>\n",
              "      <td>12657.389167</td>\n",
              "      <td>1.265743e+06</td>\n",
              "      <td>12657.196320</td>\n",
              "      <td>1.265724e+06</td>\n",
              "      <td>1331.512559</td>\n",
              "      <td>0.136326</td>\n",
              "      <td>1477.968924</td>\n",
              "      <td>0.137309</td>\n",
              "      <td>0.011407</td>\n",
              "      <td>0.001893</td>\n",
              "      <td>798.022341</td>\n",
              "      <td>NaN</td>\n",
              "    </tr>\n",
              "    <tr>\n",
              "      <th>std</th>\n",
              "      <td>8.990719</td>\n",
              "      <td>1.910205</td>\n",
              "      <td>375.754232</td>\n",
              "      <td>1822.545302</td>\n",
              "      <td>1524.407203</td>\n",
              "      <td>1.524405e+05</td>\n",
              "      <td>1524.279269</td>\n",
              "      <td>1.524277e+05</td>\n",
              "      <td>497.095168</td>\n",
              "      <td>0.343135</td>\n",
              "      <td>525.543294</td>\n",
              "      <td>0.344174</td>\n",
              "      <td>0.106193</td>\n",
              "      <td>0.043473</td>\n",
              "      <td>587.282639</td>\n",
              "      <td>NaN</td>\n",
              "    </tr>\n",
              "    <tr>\n",
              "      <th>min</th>\n",
              "      <td>1.000000</td>\n",
              "      <td>1.000000</td>\n",
              "      <td>19393.000000</td>\n",
              "      <td>1.000000</td>\n",
              "      <td>10135.000000</td>\n",
              "      <td>1.013506e+06</td>\n",
              "      <td>10135.000000</td>\n",
              "      <td>1.013506e+06</td>\n",
              "      <td>1.000000</td>\n",
              "      <td>0.000000</td>\n",
              "      <td>1.000000</td>\n",
              "      <td>0.000000</td>\n",
              "      <td>0.000000</td>\n",
              "      <td>0.000000</td>\n",
              "      <td>31.000000</td>\n",
              "      <td>NaN</td>\n",
              "    </tr>\n",
              "    <tr>\n",
              "      <th>25%</th>\n",
              "      <td>8.000000</td>\n",
              "      <td>2.000000</td>\n",
              "      <td>19790.000000</td>\n",
              "      <td>1070.000000</td>\n",
              "      <td>11292.000000</td>\n",
              "      <td>1.129202e+06</td>\n",
              "      <td>11292.000000</td>\n",
              "      <td>1.129202e+06</td>\n",
              "      <td>919.000000</td>\n",
              "      <td>0.000000</td>\n",
              "      <td>1058.000000</td>\n",
              "      <td>0.000000</td>\n",
              "      <td>0.000000</td>\n",
              "      <td>0.000000</td>\n",
              "      <td>369.000000</td>\n",
              "      <td>NaN</td>\n",
              "    </tr>\n",
              "    <tr>\n",
              "      <th>50%</th>\n",
              "      <td>16.000000</td>\n",
              "      <td>4.000000</td>\n",
              "      <td>19977.000000</td>\n",
              "      <td>2177.000000</td>\n",
              "      <td>12889.000000</td>\n",
              "      <td>1.288903e+06</td>\n",
              "      <td>12889.000000</td>\n",
              "      <td>1.288903e+06</td>\n",
              "      <td>1326.000000</td>\n",
              "      <td>0.000000</td>\n",
              "      <td>1513.000000</td>\n",
              "      <td>0.000000</td>\n",
              "      <td>0.000000</td>\n",
              "      <td>0.000000</td>\n",
              "      <td>641.000000</td>\n",
              "      <td>NaN</td>\n",
              "    </tr>\n",
              "    <tr>\n",
              "      <th>75%</th>\n",
              "      <td>24.000000</td>\n",
              "      <td>5.000000</td>\n",
              "      <td>20378.000000</td>\n",
              "      <td>4108.000000</td>\n",
              "      <td>14027.000000</td>\n",
              "      <td>1.402702e+06</td>\n",
              "      <td>14027.000000</td>\n",
              "      <td>1.402702e+06</td>\n",
              "      <td>1739.000000</td>\n",
              "      <td>0.000000</td>\n",
              "      <td>1918.000000</td>\n",
              "      <td>0.000000</td>\n",
              "      <td>0.000000</td>\n",
              "      <td>0.000000</td>\n",
              "      <td>1037.000000</td>\n",
              "      <td>NaN</td>\n",
              "    </tr>\n",
              "    <tr>\n",
              "      <th>max</th>\n",
              "      <td>31.000000</td>\n",
              "      <td>7.000000</td>\n",
              "      <td>20452.000000</td>\n",
              "      <td>6860.000000</td>\n",
              "      <td>16869.000000</td>\n",
              "      <td>1.686901e+06</td>\n",
              "      <td>16869.000000</td>\n",
              "      <td>1.686901e+06</td>\n",
              "      <td>2400.000000</td>\n",
              "      <td>1.000000</td>\n",
              "      <td>2400.000000</td>\n",
              "      <td>1.000000</td>\n",
              "      <td>1.000000</td>\n",
              "      <td>1.000000</td>\n",
              "      <td>5095.000000</td>\n",
              "      <td>NaN</td>\n",
              "    </tr>\n",
              "  </tbody>\n",
              "</table>\n",
              "</div>"
            ],
            "text/plain": [
              "        DAY_OF_MONTH    DAY_OF_WEEK  ...       DISTANCE  Unnamed: 21\n",
              "count  607346.000000  607346.000000  ...  607346.000000          0.0\n",
              "mean       16.014354       3.955735  ...     798.022341          NaN\n",
              "std         8.990719       1.910205  ...     587.282639          NaN\n",
              "min         1.000000       1.000000  ...      31.000000          NaN\n",
              "25%         8.000000       2.000000  ...     369.000000          NaN\n",
              "50%        16.000000       4.000000  ...     641.000000          NaN\n",
              "75%        24.000000       5.000000  ...    1037.000000          NaN\n",
              "max        31.000000       7.000000  ...    5095.000000          NaN\n",
              "\n",
              "[8 rows x 16 columns]"
            ]
          },
          "metadata": {
            "tags": []
          },
          "execution_count": 65
        }
      ]
    },
    {
      "cell_type": "code",
      "metadata": {
        "id": "4u2bwo9g0CQ0",
        "outputId": "1edae966-79df-4558-e102-0226143c9592",
        "colab": {
          "base_uri": "https://localhost:8080/",
          "height": 520
        }
      },
      "source": [
        "df.info()"
      ],
      "execution_count": null,
      "outputs": [
        {
          "output_type": "stream",
          "text": [
            "<class 'pandas.core.frame.DataFrame'>\n",
            "RangeIndex: 607346 entries, 0 to 607345\n",
            "Data columns (total 22 columns):\n",
            " #   Column                 Non-Null Count   Dtype  \n",
            "---  ------                 --------------   -----  \n",
            " 0   DAY_OF_MONTH           607346 non-null  int64  \n",
            " 1   DAY_OF_WEEK            607346 non-null  int64  \n",
            " 2   OP_UNIQUE_CARRIER      607346 non-null  object \n",
            " 3   OP_CARRIER_AIRLINE_ID  607346 non-null  int64  \n",
            " 4   OP_CARRIER             607346 non-null  object \n",
            " 5   TAIL_NUM               606648 non-null  object \n",
            " 6   OP_CARRIER_FL_NUM      607346 non-null  int64  \n",
            " 7   ORIGIN_AIRPORT_ID      607346 non-null  int64  \n",
            " 8   ORIGIN_AIRPORT_SEQ_ID  607346 non-null  int64  \n",
            " 9   ORIGIN                 607346 non-null  object \n",
            " 10  DEST_AIRPORT_ID        607346 non-null  int64  \n",
            " 11  DEST_AIRPORT_SEQ_ID    607346 non-null  int64  \n",
            " 12  DEST                   607346 non-null  object \n",
            " 13  DEP_TIME               600682 non-null  float64\n",
            " 14  DEP_DEL15              600647 non-null  float64\n",
            " 15  DEP_TIME_BLK           607346 non-null  object \n",
            " 16  ARR_TIME               600271 non-null  float64\n",
            " 17  ARR_DEL15              599268 non-null  float64\n",
            " 18  CANCELLED              607346 non-null  float64\n",
            " 19  DIVERTED               607346 non-null  float64\n",
            " 20  DISTANCE               607346 non-null  float64\n",
            " 21  Unnamed: 21            0 non-null       float64\n",
            "dtypes: float64(8), int64(8), object(6)\n",
            "memory usage: 101.9+ MB\n"
          ],
          "name": "stdout"
        }
      ]
    },
    {
      "cell_type": "markdown",
      "metadata": {
        "id": "7EyQRDfN0CQ2"
      },
      "source": [
        "### Columns to use:\n",
        "- Day_of_week: Day of Week starting from Monday\n",
        "  - Ex: Monday = 1, Sunday = 7\n",
        "- Op_unique_carrier: Unique Carrier Code (DL, WN, AA, 9E, OO, etc.)\n",
        "- Origin: Origin Airport (JFK, ATL, SFO, LAX, etc.)\n",
        "- Dest: Destination Airport (JFK, ATL, SFO, LAX, etc.)\n",
        "- Dep_time: Actual Departure Time (local time: hhmm)\n",
        "  - Ex: 1848 is 18:48 in local time\n",
        "- Dep_del15: Departure Delay Indicator, 15 Minutes or More (1=Yes, 0=No)\n",
        "- Arr_time: Actual Arrival Time (local time: hhmm)\n",
        "- Arr_del15: Arrival Delay Indicator, 15 Minutes or More (1=Yes, 0=No)\n",
        "- Cancelled: Cancelled Flight Indicator (1=Yes, 0=No)\n",
        "- Diverted: Diverted Flight Indicator (1=Yes, 0=No)\n",
        "- Distance: Distance between airports (miles)"
      ]
    },
    {
      "cell_type": "markdown",
      "metadata": {
        "id": "H2XBO3KI0CQ2"
      },
      "source": [
        "We are going to select the columns to use using ```[]```."
      ]
    },
    {
      "cell_type": "code",
      "metadata": {
        "id": "WJsEhOU-0CQ3",
        "outputId": "14a50585-9269-4e0a-bae3-3bf6d83c6942",
        "colab": {
          "base_uri": "https://localhost:8080/",
          "height": 415
        }
      },
      "source": [
        "flight = df[[\"DAY_OF_WEEK\", \"OP_UNIQUE_CARRIER\", \"ORIGIN\", \"DEST\", \"DEP_TIME\", \"DEP_DEL15\", \"ARR_TIME\", \"ARR_DEL15\", \"CANCELLED\", \"DIVERTED\", \"DISTANCE\"]]\n",
        "flight"
      ],
      "execution_count": null,
      "outputs": [
        {
          "output_type": "execute_result",
          "data": {
            "text/html": [
              "<div>\n",
              "<style scoped>\n",
              "    .dataframe tbody tr th:only-of-type {\n",
              "        vertical-align: middle;\n",
              "    }\n",
              "\n",
              "    .dataframe tbody tr th {\n",
              "        vertical-align: top;\n",
              "    }\n",
              "\n",
              "    .dataframe thead th {\n",
              "        text-align: right;\n",
              "    }\n",
              "</style>\n",
              "<table border=\"1\" class=\"dataframe\">\n",
              "  <thead>\n",
              "    <tr style=\"text-align: right;\">\n",
              "      <th></th>\n",
              "      <th>DAY_OF_WEEK</th>\n",
              "      <th>OP_UNIQUE_CARRIER</th>\n",
              "      <th>ORIGIN</th>\n",
              "      <th>DEST</th>\n",
              "      <th>DEP_TIME</th>\n",
              "      <th>DEP_DEL15</th>\n",
              "      <th>ARR_TIME</th>\n",
              "      <th>ARR_DEL15</th>\n",
              "      <th>CANCELLED</th>\n",
              "      <th>DIVERTED</th>\n",
              "      <th>DISTANCE</th>\n",
              "    </tr>\n",
              "  </thead>\n",
              "  <tbody>\n",
              "    <tr>\n",
              "      <th>0</th>\n",
              "      <td>3</td>\n",
              "      <td>EV</td>\n",
              "      <td>ORD</td>\n",
              "      <td>GRB</td>\n",
              "      <td>1003.0</td>\n",
              "      <td>0.0</td>\n",
              "      <td>1117.0</td>\n",
              "      <td>0.0</td>\n",
              "      <td>0.0</td>\n",
              "      <td>0.0</td>\n",
              "      <td>174.0</td>\n",
              "    </tr>\n",
              "    <tr>\n",
              "      <th>1</th>\n",
              "      <td>3</td>\n",
              "      <td>EV</td>\n",
              "      <td>TUL</td>\n",
              "      <td>ORD</td>\n",
              "      <td>1027.0</td>\n",
              "      <td>0.0</td>\n",
              "      <td>1216.0</td>\n",
              "      <td>0.0</td>\n",
              "      <td>0.0</td>\n",
              "      <td>0.0</td>\n",
              "      <td>585.0</td>\n",
              "    </tr>\n",
              "    <tr>\n",
              "      <th>2</th>\n",
              "      <td>3</td>\n",
              "      <td>EV</td>\n",
              "      <td>EWR</td>\n",
              "      <td>TYS</td>\n",
              "      <td>1848.0</td>\n",
              "      <td>0.0</td>\n",
              "      <td>2120.0</td>\n",
              "      <td>0.0</td>\n",
              "      <td>0.0</td>\n",
              "      <td>0.0</td>\n",
              "      <td>631.0</td>\n",
              "    </tr>\n",
              "    <tr>\n",
              "      <th>3</th>\n",
              "      <td>3</td>\n",
              "      <td>EV</td>\n",
              "      <td>BTR</td>\n",
              "      <td>IAH</td>\n",
              "      <td>1846.0</td>\n",
              "      <td>0.0</td>\n",
              "      <td>2004.0</td>\n",
              "      <td>0.0</td>\n",
              "      <td>0.0</td>\n",
              "      <td>0.0</td>\n",
              "      <td>253.0</td>\n",
              "    </tr>\n",
              "    <tr>\n",
              "      <th>4</th>\n",
              "      <td>3</td>\n",
              "      <td>EV</td>\n",
              "      <td>RIC</td>\n",
              "      <td>IAH</td>\n",
              "      <td>1038.0</td>\n",
              "      <td>0.0</td>\n",
              "      <td>1330.0</td>\n",
              "      <td>0.0</td>\n",
              "      <td>0.0</td>\n",
              "      <td>0.0</td>\n",
              "      <td>1157.0</td>\n",
              "    </tr>\n",
              "    <tr>\n",
              "      <th>...</th>\n",
              "      <td>...</td>\n",
              "      <td>...</td>\n",
              "      <td>...</td>\n",
              "      <td>...</td>\n",
              "      <td>...</td>\n",
              "      <td>...</td>\n",
              "      <td>...</td>\n",
              "      <td>...</td>\n",
              "      <td>...</td>\n",
              "      <td>...</td>\n",
              "      <td>...</td>\n",
              "    </tr>\n",
              "    <tr>\n",
              "      <th>607341</th>\n",
              "      <td>5</td>\n",
              "      <td>9E</td>\n",
              "      <td>TYS</td>\n",
              "      <td>DTW</td>\n",
              "      <td>1002.0</td>\n",
              "      <td>1.0</td>\n",
              "      <td>1128.0</td>\n",
              "      <td>1.0</td>\n",
              "      <td>0.0</td>\n",
              "      <td>0.0</td>\n",
              "      <td>443.0</td>\n",
              "    </tr>\n",
              "    <tr>\n",
              "      <th>607342</th>\n",
              "      <td>5</td>\n",
              "      <td>9E</td>\n",
              "      <td>DTW</td>\n",
              "      <td>JFK</td>\n",
              "      <td>1747.0</td>\n",
              "      <td>0.0</td>\n",
              "      <td>1933.0</td>\n",
              "      <td>0.0</td>\n",
              "      <td>0.0</td>\n",
              "      <td>0.0</td>\n",
              "      <td>509.0</td>\n",
              "    </tr>\n",
              "    <tr>\n",
              "      <th>607343</th>\n",
              "      <td>5</td>\n",
              "      <td>9E</td>\n",
              "      <td>GSP</td>\n",
              "      <td>LGA</td>\n",
              "      <td>554.0</td>\n",
              "      <td>0.0</td>\n",
              "      <td>752.0</td>\n",
              "      <td>0.0</td>\n",
              "      <td>0.0</td>\n",
              "      <td>0.0</td>\n",
              "      <td>610.0</td>\n",
              "    </tr>\n",
              "    <tr>\n",
              "      <th>607344</th>\n",
              "      <td>5</td>\n",
              "      <td>9E</td>\n",
              "      <td>ATL</td>\n",
              "      <td>XNA</td>\n",
              "      <td>1714.0</td>\n",
              "      <td>0.0</td>\n",
              "      <td>1811.0</td>\n",
              "      <td>0.0</td>\n",
              "      <td>0.0</td>\n",
              "      <td>0.0</td>\n",
              "      <td>589.0</td>\n",
              "    </tr>\n",
              "    <tr>\n",
              "      <th>607345</th>\n",
              "      <td>5</td>\n",
              "      <td>9E</td>\n",
              "      <td>XNA</td>\n",
              "      <td>ATL</td>\n",
              "      <td>1841.0</td>\n",
              "      <td>0.0</td>\n",
              "      <td>2128.0</td>\n",
              "      <td>0.0</td>\n",
              "      <td>0.0</td>\n",
              "      <td>0.0</td>\n",
              "      <td>589.0</td>\n",
              "    </tr>\n",
              "  </tbody>\n",
              "</table>\n",
              "<p>607346 rows × 11 columns</p>\n",
              "</div>"
            ],
            "text/plain": [
              "        DAY_OF_WEEK OP_UNIQUE_CARRIER ORIGIN  ... CANCELLED  DIVERTED  DISTANCE\n",
              "0                 3                EV    ORD  ...       0.0       0.0     174.0\n",
              "1                 3                EV    TUL  ...       0.0       0.0     585.0\n",
              "2                 3                EV    EWR  ...       0.0       0.0     631.0\n",
              "3                 3                EV    BTR  ...       0.0       0.0     253.0\n",
              "4                 3                EV    RIC  ...       0.0       0.0    1157.0\n",
              "...             ...               ...    ...  ...       ...       ...       ...\n",
              "607341            5                9E    TYS  ...       0.0       0.0     443.0\n",
              "607342            5                9E    DTW  ...       0.0       0.0     509.0\n",
              "607343            5                9E    GSP  ...       0.0       0.0     610.0\n",
              "607344            5                9E    ATL  ...       0.0       0.0     589.0\n",
              "607345            5                9E    XNA  ...       0.0       0.0     589.0\n",
              "\n",
              "[607346 rows x 11 columns]"
            ]
          },
          "metadata": {
            "tags": []
          },
          "execution_count": 67
        }
      ]
    },
    {
      "cell_type": "markdown",
      "metadata": {
        "id": "f3kHRbal0CQ4"
      },
      "source": [
        "### 6.0 - Now Try This\n",
        "\n",
        "Let's retrieve unique airline codes (```OP_UNIQUE_CARRIER```) from the dataframe."
      ]
    },
    {
      "cell_type": "code",
      "metadata": {
        "id": "q4m29u670CQ4"
      },
      "source": [
        ""
      ],
      "execution_count": null,
      "outputs": []
    },
    {
      "cell_type": "markdown",
      "metadata": {
        "id": "MaQgw8X20CQ5"
      },
      "source": [
        "**Q: We know DL (Delta Air Lines), AA (American Airlines) and a few more major airlines. But, do we know all of the unique carrier codes?**\n",
        "\n",
        "**A: No, we don't! Let's add airline names from another dataset!**"
      ]
    },
    {
      "cell_type": "markdown",
      "metadata": {
        "id": "5yViNs4jEJ1R"
      },
      "source": [
        "### Join datasets\n",
        "- ```flight``` dataframe has ```OP_UNIQUE_CARRIER```, but it is missing airline names.\n",
        "- ```airline_names.xlsx``` has airline codes as well as the airline names we need.\n",
        "\n",
        "Let's join the ```flight``` dataframe with ```airline_names.xlsx``` to get all the airline names."
      ]
    },
    {
      "cell_type": "code",
      "metadata": {
        "id": "ieQhohRGP1mz",
        "outputId": "8142cd88-e1fa-4f67-85ec-f6ab07ddd7a4",
        "colab": {
          "base_uri": "https://localhost:8080/",
          "height": 877
        }
      },
      "source": [
        "url = 'https://raw.githubusercontent.com/bitprj/DigitalHistory/master/Week6-Advanced-Data-Wrangling-using-Pandas/data/airline_names.xlsx'\n",
        "airline = pd.read_excel(url)\n",
        "airline"
      ],
      "execution_count": null,
      "outputs": [
        {
          "output_type": "execute_result",
          "data": {
            "text/html": [
              "<div>\n",
              "<style scoped>\n",
              "    .dataframe tbody tr th:only-of-type {\n",
              "        vertical-align: middle;\n",
              "    }\n",
              "\n",
              "    .dataframe tbody tr th {\n",
              "        vertical-align: top;\n",
              "    }\n",
              "\n",
              "    .dataframe thead th {\n",
              "        text-align: right;\n",
              "    }\n",
              "</style>\n",
              "<table border=\"1\" class=\"dataframe\">\n",
              "  <thead>\n",
              "    <tr style=\"text-align: right;\">\n",
              "      <th></th>\n",
              "      <th>carrier</th>\n",
              "      <th>carrier_name</th>\n",
              "    </tr>\n",
              "  </thead>\n",
              "  <tbody>\n",
              "    <tr>\n",
              "      <th>0</th>\n",
              "      <td>9E</td>\n",
              "      <td>Endeavor Air Inc.</td>\n",
              "    </tr>\n",
              "    <tr>\n",
              "      <th>1</th>\n",
              "      <td>AA</td>\n",
              "      <td>American Airlines Inc.</td>\n",
              "    </tr>\n",
              "    <tr>\n",
              "      <th>2</th>\n",
              "      <td>AQ</td>\n",
              "      <td>Aloha Airlines Inc.</td>\n",
              "    </tr>\n",
              "    <tr>\n",
              "      <th>3</th>\n",
              "      <td>AS</td>\n",
              "      <td>Alaska Airlines Inc.</td>\n",
              "    </tr>\n",
              "    <tr>\n",
              "      <th>4</th>\n",
              "      <td>B6</td>\n",
              "      <td>JetBlue Airways</td>\n",
              "    </tr>\n",
              "    <tr>\n",
              "      <th>5</th>\n",
              "      <td>CO</td>\n",
              "      <td>Continental Air Lines Inc.</td>\n",
              "    </tr>\n",
              "    <tr>\n",
              "      <th>6</th>\n",
              "      <td>DL</td>\n",
              "      <td>Delta Air Lines Inc.</td>\n",
              "    </tr>\n",
              "    <tr>\n",
              "      <th>7</th>\n",
              "      <td>EV</td>\n",
              "      <td>ExpressJet Airlines LLC</td>\n",
              "    </tr>\n",
              "    <tr>\n",
              "      <th>8</th>\n",
              "      <td>F9</td>\n",
              "      <td>Frontier Airlines Inc.</td>\n",
              "    </tr>\n",
              "    <tr>\n",
              "      <th>9</th>\n",
              "      <td>FL</td>\n",
              "      <td>AirTran Airways Corporation</td>\n",
              "    </tr>\n",
              "    <tr>\n",
              "      <th>10</th>\n",
              "      <td>G4</td>\n",
              "      <td>Allegiant Air</td>\n",
              "    </tr>\n",
              "    <tr>\n",
              "      <th>11</th>\n",
              "      <td>HA</td>\n",
              "      <td>Hawaiian Airlines Inc.</td>\n",
              "    </tr>\n",
              "    <tr>\n",
              "      <th>12</th>\n",
              "      <td>HP</td>\n",
              "      <td>America West Airlines Inc.</td>\n",
              "    </tr>\n",
              "    <tr>\n",
              "      <th>13</th>\n",
              "      <td>MQ</td>\n",
              "      <td>Envoy Air</td>\n",
              "    </tr>\n",
              "    <tr>\n",
              "      <th>14</th>\n",
              "      <td>NK</td>\n",
              "      <td>Spirit Air Lines</td>\n",
              "    </tr>\n",
              "    <tr>\n",
              "      <th>15</th>\n",
              "      <td>NW</td>\n",
              "      <td>Northwest Airlines Inc.</td>\n",
              "    </tr>\n",
              "    <tr>\n",
              "      <th>16</th>\n",
              "      <td>OH</td>\n",
              "      <td>Comair Inc.</td>\n",
              "    </tr>\n",
              "    <tr>\n",
              "      <th>17</th>\n",
              "      <td>OO</td>\n",
              "      <td>SkyWest Airlines Inc.</td>\n",
              "    </tr>\n",
              "    <tr>\n",
              "      <th>18</th>\n",
              "      <td>RU</td>\n",
              "      <td>ExpressJet Airlines Inc.</td>\n",
              "    </tr>\n",
              "    <tr>\n",
              "      <th>19</th>\n",
              "      <td>TZ</td>\n",
              "      <td>ATA Airlines d/b/a ATA</td>\n",
              "    </tr>\n",
              "    <tr>\n",
              "      <th>20</th>\n",
              "      <td>UA</td>\n",
              "      <td>United Air Lines Inc.</td>\n",
              "    </tr>\n",
              "    <tr>\n",
              "      <th>21</th>\n",
              "      <td>US</td>\n",
              "      <td>US Airways Inc.</td>\n",
              "    </tr>\n",
              "    <tr>\n",
              "      <th>22</th>\n",
              "      <td>VX</td>\n",
              "      <td>Virgin America</td>\n",
              "    </tr>\n",
              "    <tr>\n",
              "      <th>23</th>\n",
              "      <td>WN</td>\n",
              "      <td>Southwest Airlines Co.</td>\n",
              "    </tr>\n",
              "    <tr>\n",
              "      <th>24</th>\n",
              "      <td>XE</td>\n",
              "      <td>ExpressJet Airlines Inc.</td>\n",
              "    </tr>\n",
              "    <tr>\n",
              "      <th>25</th>\n",
              "      <td>YV</td>\n",
              "      <td>Mesa Airlines Inc.</td>\n",
              "    </tr>\n",
              "    <tr>\n",
              "      <th>26</th>\n",
              "      <td>YX</td>\n",
              "      <td>Republic Airline</td>\n",
              "    </tr>\n",
              "  </tbody>\n",
              "</table>\n",
              "</div>"
            ],
            "text/plain": [
              "   carrier                 carrier_name\n",
              "0       9E            Endeavor Air Inc.\n",
              "1       AA       American Airlines Inc.\n",
              "2       AQ          Aloha Airlines Inc.\n",
              "3       AS         Alaska Airlines Inc.\n",
              "4       B6              JetBlue Airways\n",
              "5       CO   Continental Air Lines Inc.\n",
              "6       DL         Delta Air Lines Inc.\n",
              "7       EV      ExpressJet Airlines LLC\n",
              "8       F9       Frontier Airlines Inc.\n",
              "9       FL  AirTran Airways Corporation\n",
              "10      G4                Allegiant Air\n",
              "11      HA       Hawaiian Airlines Inc.\n",
              "12      HP   America West Airlines Inc.\n",
              "13      MQ                    Envoy Air\n",
              "14      NK             Spirit Air Lines\n",
              "15      NW      Northwest Airlines Inc.\n",
              "16      OH                  Comair Inc.\n",
              "17      OO        SkyWest Airlines Inc.\n",
              "18      RU     ExpressJet Airlines Inc.\n",
              "19      TZ       ATA Airlines d/b/a ATA\n",
              "20      UA        United Air Lines Inc.\n",
              "21      US              US Airways Inc.\n",
              "22      VX               Virgin America\n",
              "23      WN       Southwest Airlines Co.\n",
              "24      XE     ExpressJet Airlines Inc.\n",
              "25      YV           Mesa Airlines Inc.\n",
              "26      YX             Republic Airline"
            ]
          },
          "metadata": {
            "tags": []
          },
          "execution_count": 68
        }
      ]
    },
    {
      "cell_type": "markdown",
      "metadata": {
        "id": "glTUeQWM0CQ7"
      },
      "source": [
        "### 7.0 - Now Try This\n",
        "\n",
        "- Use the ```merge``` function to join the ```airline``` dataframe with the ```flight``` dataframe.\n",
        "- Name the resulting dataframe as ```flight_airline```.\n",
        "- Print ```flight_airline``` and make sure that this dataframe has airline codes AND all airline names!\n",
        "\n",
        "(Hint: what are the common column names between two dataframes? Are the column names the same?)"
      ]
    },
    {
      "cell_type": "code",
      "metadata": {
        "id": "8Q-t1uXi0CQ7"
      },
      "source": [
        ""
      ],
      "execution_count": null,
      "outputs": []
    },
    {
      "cell_type": "markdown",
      "metadata": {
        "id": "9RjxjeaL0CQ8"
      },
      "source": [
        "Now, the ```flight_airline``` dataframe has all of the delay info, cancellation info, airline codes, and airline names!"
      ]
    },
    {
      "cell_type": "markdown",
      "metadata": {
        "id": "uIXx0V6n0CQ8"
      },
      "source": [
        "## Groupby"
      ]
    },
    {
      "cell_type": "markdown",
      "metadata": {
        "id": "p6va7VTD0CQ8"
      },
      "source": [
        "### Which airlines experience the most delays?\n",
        "\n",
        "This question can be reworded as \"find the # of delays by airline\".\n",
        "\n",
        "We can use the ```groupby``` function to do this!"
      ]
    },
    {
      "cell_type": "code",
      "metadata": {
        "id": "W_JZxN3i0CQ9",
        "outputId": "9d7ebdba-32b4-4dbf-a177-e50a194a0f3e",
        "colab": {
          "base_uri": "https://localhost:8080/",
          "height": 166
        }
      },
      "source": [
        "flight_airline.groupby(['carrier','carrier_name'])['DEP_DEL15'].sum().sort_values(ascending=False)"
      ],
      "execution_count": null,
      "outputs": [
        {
          "output_type": "error",
          "ename": "NameError",
          "evalue": "ignored",
          "traceback": [
            "\u001b[0;31m---------------------------------------------------------------------------\u001b[0m",
            "\u001b[0;31mNameError\u001b[0m                                 Traceback (most recent call last)",
            "\u001b[0;32m<ipython-input-69-9d2effac0b41>\u001b[0m in \u001b[0;36m<module>\u001b[0;34m()\u001b[0m\n\u001b[0;32m----> 1\u001b[0;31m \u001b[0mflight_airline\u001b[0m\u001b[0;34m.\u001b[0m\u001b[0mgroupby\u001b[0m\u001b[0;34m(\u001b[0m\u001b[0;34m[\u001b[0m\u001b[0;34m'carrier'\u001b[0m\u001b[0;34m,\u001b[0m\u001b[0;34m'carrier_name'\u001b[0m\u001b[0;34m]\u001b[0m\u001b[0;34m)\u001b[0m\u001b[0;34m[\u001b[0m\u001b[0;34m'DEP_DEL15'\u001b[0m\u001b[0;34m]\u001b[0m\u001b[0;34m.\u001b[0m\u001b[0msum\u001b[0m\u001b[0;34m(\u001b[0m\u001b[0;34m)\u001b[0m\u001b[0;34m.\u001b[0m\u001b[0msort_values\u001b[0m\u001b[0;34m(\u001b[0m\u001b[0mascending\u001b[0m\u001b[0;34m=\u001b[0m\u001b[0;32mFalse\u001b[0m\u001b[0;34m)\u001b[0m\u001b[0;34m\u001b[0m\u001b[0;34m\u001b[0m\u001b[0m\n\u001b[0m",
            "\u001b[0;31mNameError\u001b[0m: name 'flight_airline' is not defined"
          ]
        }
      ]
    },
    {
      "cell_type": "markdown",
      "metadata": {
        "id": "5XN2Zyry0CQ9"
      },
      "source": [
        "If the threshold is 10,000 delays in January, it seems that WN, AA, OO are the top three airlines that experience the most delays.\n",
        "But oftentimes, passengers would care more about **arriving on time** and that's what airline companies focus more on."
      ]
    },
    {
      "cell_type": "markdown",
      "metadata": {
        "id": "OXzMGcoqEX0_"
      },
      "source": [
        "### 8.0 - Now Try This\n",
        "\n",
        "Calculate the sum of `ARR_DEL15` using the `groupby` function and sort the dataset in descending order."
      ]
    },
    {
      "cell_type": "code",
      "metadata": {
        "id": "o0rz3Zyq0CQ-"
      },
      "source": [
        ""
      ],
      "execution_count": null,
      "outputs": []
    },
    {
      "cell_type": "markdown",
      "metadata": {
        "id": "fADHuHfH0CQ_"
      },
      "source": [
        "If we use the same threshold of 10,000 delays, AA, OO, OH, and WN are airlines that experience the most delays in regards to **arrival**.\n",
        "\n",
        "We've found the top airlines with most delays but this result does not take into account \"Total number of flights.\"\n",
        "\n",
        "So it will be more accurate if we can find the percentage of delayed flights for each airline.\n",
        "\n",
        "```delayed flight % = (delayed flights) / (total flights)```\n",
        "\n",
        "Let's calculate **delayed flight %**!"
      ]
    },
    {
      "cell_type": "code",
      "metadata": {
        "id": "2HIIUeCS0CQ_"
      },
      "source": [
        "# this code returns the total number of flights\n",
        "flight_airline.groupby(['carrier','carrier_name'])['ARR_DEL15'].count()"
      ],
      "execution_count": null,
      "outputs": []
    },
    {
      "cell_type": "markdown",
      "metadata": {
        "id": "8heWqzW60CRA"
      },
      "source": [
        "Using this formula, ```delayed flight % = (delayed flights) / (total flights)```, we will divide the number of delayed flights by total flights."
      ]
    },
    {
      "cell_type": "code",
      "metadata": {
        "id": "vOFbl51k0CRA"
      },
      "source": [
        "# this code returns the percentage of delayed flights of each airline.\n",
        "flight_airline.groupby(['carrier','carrier_name'])['ARR_DEL15'].sum() / flight_airline.groupby(['carrier','carrier_name'])['ARR_DEL15'].count()"
      ],
      "execution_count": null,
      "outputs": []
    },
    {
      "cell_type": "markdown",
      "metadata": {
        "id": "RgGAaRU40CRC"
      },
      "source": [
        "Now, in order to see the top airlines with highest delay percentages, let's sort the result in descending order!"
      ]
    },
    {
      "cell_type": "code",
      "metadata": {
        "id": "40bXbyo20CRC"
      },
      "source": [
        "# sort_values(ascending = False) has been added\n",
        "(flight_airline.groupby(['carrier','carrier_name'])['ARR_DEL15'].sum() / flight_airline.groupby(['carrier','carrier_name'])['ARR_DEL15'].count()).sort_values(ascending = False)"
      ],
      "execution_count": null,
      "outputs": []
    },
    {
      "cell_type": "markdown",
      "metadata": {
        "id": "vl9PgKts0CRF"
      },
      "source": [
        "Tada, we've come up with a completely different result!\n",
        "\n",
        "OH, AS, G4 airlines have the highest delay percentages while 9E, DL, HA, WN have relatively low delay percentages."
      ]
    },
    {
      "cell_type": "markdown",
      "metadata": {
        "id": "EQeKocKP0CRF"
      },
      "source": [
        "#### `agg()`\n",
        "\n",
        "The code above is correct but it's very lengthy because we calculate ```sum()``` and ```count()``` separately.\n",
        "\n",
        "We will learn a shortcut to calculate aggregates using the ```agg()``` argument. (Refer to the material on Basic Data Manipulation with Pandas for a refresher on aggregate functions).\n",
        "\n",
        "Everything remains the same, except that we replace ```sum()``` or ```count()``` with ```agg(['sum','count'])```."
      ]
    },
    {
      "cell_type": "code",
      "metadata": {
        "id": "68XXx5k30CRF"
      },
      "source": [
        "new_df = flight_airline.groupby(['carrier','carrier_name'])['ARR_DEL15'].agg(['sum','count'])\n",
        "new_df"
      ],
      "execution_count": null,
      "outputs": []
    },
    {
      "cell_type": "markdown",
      "metadata": {
        "id": "VQBZrOKd0CRH"
      },
      "source": [
        "Now, ```new_df``` has columns: ```carrier```, ```carrier_name```, ```sum```, and ```count```.\n",
        "\n",
        "We will create another column called ```delay %``` using sum and count columns!"
      ]
    },
    {
      "cell_type": "code",
      "metadata": {
        "id": "-ErieWmF0CRI"
      },
      "source": [
        "new_df['delay %'] = new_df['sum'] / new_df['count']"
      ],
      "execution_count": null,
      "outputs": []
    },
    {
      "cell_type": "code",
      "metadata": {
        "id": "5H6emRkD0CRJ"
      },
      "source": [
        "new_df"
      ],
      "execution_count": null,
      "outputs": []
    },
    {
      "cell_type": "markdown",
      "metadata": {
        "id": "pZHsTRxC0CRK"
      },
      "source": [
        "Tada! We've successfully added a ```delay %``` column! Let's sort the dataframe in descending order to find out airlines with highest delay %!"
      ]
    },
    {
      "cell_type": "code",
      "metadata": {
        "id": "kQw0G1cN0CRK"
      },
      "source": [
        "new_df.sort_values(by=['delay %'], ascending=False)"
      ],
      "execution_count": null,
      "outputs": []
    },
    {
      "cell_type": "markdown",
      "metadata": {
        "id": "PiEIqCWp0CRL"
      },
      "source": [
        "### Which day of the week experiences the most delays? \n",
        "\n",
        "This question can be rephrased as \"find the # of delays by day of week\"."
      ]
    },
    {
      "cell_type": "markdown",
      "metadata": {
        "id": "9OJp0_SM0CRM"
      },
      "source": [
        "To answer this question, we can use the `groupby` function, but should we use ```sum```? ```count```? ```mean```?\n",
        "\n",
        "- ```sum```: The first thing that came to my mind is that we can use ```sum```. But similar to the question above, each day of the week has a different number of flights per day. (Ex: there would be more flights scheduled on weekends.) So, ```sum``` is not the most appropriate function to use here.\n",
        "\n",
        "\n",
        "- ```count```: We can count the number of flights and divide ```sum(delayed flights)``` by ```count``` (similar to what we just did).\n",
        "\n",
        "\n",
        "- ```mean```: What if we use ```mean```? We can get the average delay percentage of each day and this is what we are looking for!\n",
        "\n"
      ]
    },
    {
      "cell_type": "code",
      "metadata": {
        "id": "dE8eGUoC0CRM"
      },
      "source": [
        "flight_airline.groupby(['DAY_OF_WEEK'])['ARR_DEL15'].mean()"
      ],
      "execution_count": null,
      "outputs": []
    },
    {
      "cell_type": "markdown",
      "metadata": {
        "id": "YdvCrD5L0CRN"
      },
      "source": [
        "To confirm that ```mean``` returns the same value as ```sum / count```, let's check ```sum / count``` real quick."
      ]
    },
    {
      "cell_type": "code",
      "metadata": {
        "id": "W6Q0BqNp0CRN"
      },
      "source": [
        "flight_airline.groupby(['DAY_OF_WEEK'])['ARR_DEL15'].sum() / flight_airline.groupby(['DAY_OF_WEEK'])['ARR_DEL15'].count()"
      ],
      "execution_count": null,
      "outputs": []
    },
    {
      "cell_type": "markdown",
      "metadata": {
        "id": "IKwpSxXx0CRO"
      },
      "source": [
        "Yay! It returns the same answer as above!\n",
        "\n",
        "Saturday has the highest delay percentage while Wednesday has the lowest!"
      ]
    },
    {
      "cell_type": "markdown",
      "metadata": {
        "id": "McJu7mvd0CRO"
      },
      "source": [
        "### What origins experience most delays? \n",
        "\n",
        "This question can be rephrased as \"find the # of delays by origin\".\n",
        "\n",
        "Knowing this might help when we book a flight later! :)\n",
        "\n",
        "Since we are dealing with the **origin** airport at this time, it's appropriate to use ```DEP_DEL15```."
      ]
    },
    {
      "cell_type": "code",
      "metadata": {
        "id": "4bQ_N51P0CRO"
      },
      "source": [
        "flight_airline.groupby(['ORIGIN'])['DEP_DEL15'].mean()"
      ],
      "execution_count": null,
      "outputs": []
    },
    {
      "cell_type": "code",
      "metadata": {
        "scrolled": true,
        "id": "WJkuxUFB0CRP"
      },
      "source": [
        "flight_airline.groupby(['ORIGIN'])['DEP_DEL15'].mean().sort_values(ascending=False)"
      ],
      "execution_count": null,
      "outputs": []
    },
    {
      "cell_type": "markdown",
      "metadata": {
        "id": "SgomwWI00CRQ"
      },
      "source": [
        "This resulting Series shows origin airports and the corresponding delay %.\n",
        "\n",
        "Since we don't know all of the airport names from the codes, we can join this Series to the dataset that has airport codes and the rest of the airport names."
      ]
    },
    {
      "cell_type": "markdown",
      "metadata": {
        "id": "h7ZqEHep0CRR"
      },
      "source": [
        "## Filtering based on condition"
      ]
    },
    {
      "cell_type": "markdown",
      "metadata": {
        "id": "oOQMfGUN0CRR"
      },
      "source": [
        "### Which origin airports have delay percentages of 30% or more?\n",
        "\n",
        "```airline_delay_causes.csv``` has lots of useful information, but we will extract airport codes and airport names only."
      ]
    },
    {
      "cell_type": "code",
      "metadata": {
        "id": "SOo3d97D0CRR"
      },
      "source": [
        "url = 'https://raw.githubusercontent.com/bitprj/DigitalHistory/master/Week6-Advanced-Data-Wrangling-using-Pandas/data/airline_delay_causes.csv'\n",
        "airport_codes = pd.read_csv(url)\n",
        "airport_codes"
      ],
      "execution_count": null,
      "outputs": []
    },
    {
      "cell_type": "code",
      "metadata": {
        "scrolled": true,
        "id": "UsLRH_7j0CRS"
      },
      "source": [
        "airport_codes.head()"
      ],
      "execution_count": null,
      "outputs": []
    },
    {
      "cell_type": "markdown",
      "metadata": {
        "id": "OcCDAdf30CRT"
      },
      "source": [
        "### 9.0 - Now Try This\n",
        "\n",
        "- Using the ```drop_duplicates()``` function, find a unique set of airport codes and airport names. \n",
        "- Save the dataframe as ```airport_names```."
      ]
    },
    {
      "cell_type": "code",
      "metadata": {
        "id": "DSJH22M60CRT"
      },
      "source": [
        ""
      ],
      "execution_count": null,
      "outputs": []
    },
    {
      "cell_type": "markdown",
      "metadata": {
        "id": "9j5pmXZW0CRV"
      },
      "source": [
        "The Series below is what we have found earlier -- delay % by each origin airport."
      ]
    },
    {
      "cell_type": "code",
      "metadata": {
        "id": "V4wPoeMt0CRV"
      },
      "source": [
        "series = flight_airline.groupby(['ORIGIN'])['DEP_DEL15'].mean().sort_values(ascending=False)"
      ],
      "execution_count": null,
      "outputs": []
    },
    {
      "cell_type": "markdown",
      "metadata": {
        "id": "Xs38709E0CRW"
      },
      "source": [
        "Let's convert the result of `groupby` aggregation to a ```DataFrame``` using the ```to_frame()``` function."
      ]
    },
    {
      "cell_type": "code",
      "metadata": {
        "id": "gXBx0vf70CRW"
      },
      "source": [
        "origin_delays = series.to_frame()"
      ],
      "execution_count": null,
      "outputs": []
    },
    {
      "cell_type": "code",
      "metadata": {
        "scrolled": true,
        "id": "3DtPp9Kw0CRZ"
      },
      "source": [
        "origin_delays"
      ],
      "execution_count": null,
      "outputs": []
    },
    {
      "cell_type": "markdown",
      "metadata": {
        "id": "pYw6-Lfn0CRa"
      },
      "source": [
        "Now, let's take a closer look at the question and break it down into smaller subproblems!\n",
        "\n",
        "**Which airports have delay percentages of 30% or more?**\n",
        "1. Find airport codes with a delay percentage greater than 30%.\n",
        "2. Join the resulting dataframe to ```airport_names``` to get the corresponding airport names for these codes."
      ]
    },
    {
      "cell_type": "code",
      "metadata": {
        "id": "G_ekDMip0CRa"
      },
      "source": [
        "airports_most_delays = origin_delays[origin_delays['DEP_DEL15'] > 0.3]\n",
        "airports_most_delays"
      ],
      "execution_count": null,
      "outputs": []
    },
    {
      "cell_type": "code",
      "metadata": {
        "id": "CT8eV09b0CRe"
      },
      "source": [
        "pd.merge(airports_most_delays, airport_names, left_on=\"ORIGIN\", right_on = \"airport\")"
      ],
      "execution_count": null,
      "outputs": []
    },
    {
      "cell_type": "markdown",
      "metadata": {
        "id": "lWrU2P5Y0CRf"
      },
      "source": [
        "We've found that ADK, OTH, OGD, PPG, and ASE have the highest delay percentages in the US!"
      ]
    },
    {
      "cell_type": "markdown",
      "metadata": {
        "id": "9o8mzIKl0CRf"
      },
      "source": [
        "### Pop-up Question\n",
        "\n",
        "What if we want to find the delay percentage of a specific airport? Then, we can select the origin airport code by using ```df[df[column_name]==\"ABC\"]```\n",
        "\n",
        "Let's check out the delay % of San Francisco airport."
      ]
    },
    {
      "cell_type": "code",
      "metadata": {
        "id": "rPv9gXuH0CRg"
      },
      "source": [
        "origin_delays[origin_delays['ORIGIN'] == 'SFO']"
      ],
      "execution_count": null,
      "outputs": []
    },
    {
      "cell_type": "markdown",
      "metadata": {
        "id": "Nacb57AS0CRg"
      },
      "source": [
        "The code above did not work! Why? It's because ```ORIGIN``` is not a column, but an index.\n",
        "\n",
        "In this case, we are interested in an index and so we can use ```index``` to select it."
      ]
    },
    {
      "cell_type": "code",
      "metadata": {
        "id": "WleHNiBM0CRg"
      },
      "source": [
        "origin_delays[origin_delays.index == 'SFO']"
      ],
      "execution_count": null,
      "outputs": []
    },
    {
      "cell_type": "markdown",
      "metadata": {
        "id": "9a-7yxHADB1D"
      },
      "source": [
        "## Resources\n",
        "- [Python Pandas Series](https://www.geeksforgeeks.org/python-pandas-series/)\n",
        "- [Pandas API Reference Merge](https://pandas.pydata.org/pandas-docs/stable/reference/api/pandas.DataFrame.merge.html)\n",
        "- [Join types](https://www.codespot.org/sql-join/)\n",
        "- [Flight Delay Prediction data](https://www.kaggle.com/divyansh22/flight-delay-prediction)\n",
        "- [Airline Delay Causes](https://www.kaggle.com/anshuls235/airline-delay-causes)"
      ]
    }
  ]
}