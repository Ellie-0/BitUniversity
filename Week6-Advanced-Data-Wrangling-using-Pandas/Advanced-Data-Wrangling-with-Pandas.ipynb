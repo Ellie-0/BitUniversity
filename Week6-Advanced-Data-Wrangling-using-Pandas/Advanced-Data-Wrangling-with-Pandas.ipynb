{
  "nbformat": 4,
  "nbformat_minor": 0,
  "metadata": {
    "colab": {
      "name": "Advanced Data Wrangling with Pandas.ipynb",
      "provenance": [],
      "include_colab_link": true
    },
    "kernelspec": {
      "display_name": "Python 3",
      "language": "python",
      "name": "python3"
    },
    "language_info": {
      "codemirror_mode": {
        "name": "ipython",
        "version": 3
      },
      "file_extension": ".py",
      "mimetype": "text/x-python",
      "name": "python",
      "nbconvert_exporter": "python",
      "pygments_lexer": "ipython3",
      "version": "3.7.4"
    }
  },
  "cells": [
    {
      "cell_type": "markdown",
      "metadata": {
        "id": "view-in-github",
        "colab_type": "text"
      },
      "source": [
        "<a href=\"https://colab.research.google.com/github/bitprj/DigitalHistory/blob/master/Week6-Advanced-Data-Wrangling-using-Pandas/Advanced-Data-Wrangling-with-Pandas.ipynb\" target=\"_parent\"><img src=\"https://colab.research.google.com/assets/colab-badge.svg\" alt=\"Open In Colab\"/></a>"
      ]
    },
    {
      "cell_type": "markdown",
      "metadata": {
        "id": "rajNUstB0COd",
        "colab_type": "text"
      },
      "source": [
        "<img src=\"https://github.com/bitprj/DigitalHistory/blob/Narae/Week3-Introduction-to-Open-Data-Importing-Data-and-Basic-Data-Wrangling/assets/icons/bitproject.png?raw=1\" width=\"200\" align=\"left\"> \n",
        "<img src=\"https://github.com/bitprj/DigitalHistory/blob/Narae/Week3-Introduction-to-Open-Data-Importing-Data-and-Basic-Data-Wrangling/assets/icons/data-science.jpg?raw=1\" width=\"300\" align=\"right\">"
      ]
    },
    {
      "cell_type": "markdown",
      "metadata": {
        "id": "uiA_TGuB0COe",
        "colab_type": "text"
      },
      "source": [
        "# <div align=\"center\">Advanced Data Wrangling with Pandas</div>"
      ]
    },
    {
      "cell_type": "markdown",
      "metadata": {
        "colab_type": "text",
        "id": "Yl__4vuWJQk8"
      },
      "source": [
        "## Table of Contents\n",
        "\n",
        "- Series\n",
        "    - Creating a Series\n",
        "    - Sorting a Series\n",
        "        - **1.0 - Now Try This**\n",
        "    - Accessing an element in a Series\n",
        "        - **2.0 - Now Try This**\n",
        "        - **3.0 - Now Try This**\n",
        "    - Binary Operations\n",
        "        - **4.0 - Now Try This**\n",
        "\n",
        "- Advanced Dataframe\n",
        "    - Creaing new columns\n",
        "    - Replacing NaN values\n",
        "    - Sorting the dataset\n",
        "    - Selecting subset of data\n",
        "        - **5.0 - Now Try This**\n",
        "    - Dropping entities\n",
        "    - Unique values in columns\n",
        "    - Joining dataset\n",
        "        - Merge\n",
        "        - Join\n",
        "\n",
        "- Practical Exercise: Flight Delay data\n",
        "    - Join dataset\n",
        "    - Groupby\n",
        "    - Filtering based on condition\n",
        "    - **6.0 - Now Try This**\n",
        "    - **7.0 - Now Try This**\n",
        "    - **8.0 - Now Try This**\n",
        "    - **9.0 - Now Try This**\n"
      ]
    },
    {
      "cell_type": "markdown",
      "metadata": {
        "colab_type": "text",
        "id": "1X9xt1J4K2eD"
      },
      "source": [
        "## Dataframe vs. Series\n",
        "There are two main data structures you need to get comfortable with: **Dataframe** and **Series** (Remember: we covered the basics of DataFrame in Week 3.)\n",
        "\n",
        "To refresh your memory, **DataFrame** is a tabular, column-oriented data structure with both row and column labels. \n",
        "\n",
        "**Series** is 1-dimensional labelled array and it can hold data of any type (integer, string, float, python objects, etc.). Its labels are called indices. You can think of a Series as a ordered dictionary, as it is a mapping of index values to data values.\n"
      ]
    },
    {
      "cell_type": "markdown",
      "metadata": {
        "colab_type": "text",
        "id": "I6UlYJSdMkEb"
      },
      "source": [
        "## Series\n",
        "\n",
        "- Creating a Series\n",
        "- Sorting a Series\n",
        "- Accessing an element in a Series\n",
        "- Binary Operations (add, sum, mul, etc.)\n"
      ]
    },
    {
      "cell_type": "markdown",
      "metadata": {
        "colab_type": "text",
        "id": "2QYD9FNvNvCy"
      },
      "source": [
        "### Creating a Series\n",
        "\n",
        "A series can be created from \n",
        "1. scalar\n",
        "2. list (array) \n",
        "2. dictionary"
      ]
    },
    {
      "cell_type": "markdown",
      "metadata": {
        "colab_type": "text",
        "id": "tX8LOIj-Mx-s"
      },
      "source": [
        "First and foremost, let's import Pandas library."
      ]
    },
    {
      "cell_type": "code",
      "metadata": {
        "colab_type": "code",
        "id": "4PwCmTIwMgvQ",
        "colab": {}
      },
      "source": [
        "import pandas as pd"
      ],
      "execution_count": null,
      "outputs": []
    },
    {
      "cell_type": "markdown",
      "metadata": {
        "colab_type": "text",
        "id": "o6SM5MwCnjJx"
      },
      "source": [
        "#### 1. Series from a scalar value"
      ]
    },
    {
      "cell_type": "code",
      "metadata": {
        "colab_type": "code",
        "id": "ao8D97SxnmbA",
        "colab": {}
      },
      "source": [
        "pd.Series(5, index =[0, 1, 2, 3, 4, 5])"
      ],
      "execution_count": null,
      "outputs": []
    },
    {
      "cell_type": "markdown",
      "metadata": {
        "colab_type": "text",
        "id": "kuTD87cQM7Ic"
      },
      "source": [
        "#### 2-1. Series from a list. \n",
        "\n",
        "By default, index starts at 0 and ends at len(array)-1. \n",
        "\n",
        "In this example, as we didn't specify the index, the first index is 0 and the last index is 4, which is len(array)-1."
      ]
    },
    {
      "cell_type": "code",
      "metadata": {
        "colab_type": "code",
        "id": "X5wt-CqFM_8I",
        "colab": {
          "base_uri": "https://localhost:8080/",
          "height": 102
        },
        "outputId": "2722f931-7e41-4e63-c05b-b84cae398e02"
      },
      "source": [
        "import numpy as np\n",
        "array = np.array(['a','b','c','d'])\n",
        "pd.Series(array)"
      ],
      "execution_count": null,
      "outputs": [
        {
          "output_type": "execute_result",
          "data": {
            "text/plain": [
              "0    a\n",
              "1    b\n",
              "2    c\n",
              "3    d\n",
              "dtype: object"
            ]
          },
          "metadata": {
            "tags": []
          },
          "execution_count": 3
        }
      ]
    },
    {
      "cell_type": "markdown",
      "metadata": {
        "colab_type": "text",
        "id": "CA3N7-qyNaVM"
      },
      "source": [
        "#### 2-2. Series from a list with index\n",
        "\n",
        "If we want to assign a different index instead of the default ones, we can specify the index as well."
      ]
    },
    {
      "cell_type": "code",
      "metadata": {
        "colab_type": "code",
        "id": "2WLaQGvyNZmc",
        "colab": {}
      },
      "source": [
        "array = np.array(['a','b','c','d'])\n",
        "pd.Series(array,index=[1,2,3,4])"
      ],
      "execution_count": null,
      "outputs": []
    },
    {
      "cell_type": "markdown",
      "metadata": {
        "colab_type": "text",
        "id": "n4Zr_-rGZpVp"
      },
      "source": [
        "Using the examples below, we can note that Series is NOT ordered by value or index.\n",
        "\n",
        "Instead, Series is ordered in the specified order of indices: 105 --> 103 --> 102 --> 109 --> 104 --> 110"
      ]
    },
    {
      "cell_type": "code",
      "metadata": {
        "colab_type": "code",
        "id": "fksXDh47Yjr-",
        "colab": {}
      },
      "source": [
        "names = np.array(['Daisy', 'Matt', 'Kelly', 'Mike', 'Ashley', 'Kyle'])\n",
        "pd.Series(names, index=[105,103,102,109,104,110])"
      ],
      "execution_count": null,
      "outputs": []
    },
    {
      "cell_type": "markdown",
      "metadata": {
        "colab_type": "text",
        "id": "enB_T7hRaY2v"
      },
      "source": [
        "Then, the question is \"Are the indices unique?\"\n",
        "Let's check it out!"
      ]
    },
    {
      "cell_type": "code",
      "metadata": {
        "colab_type": "code",
        "id": "Hl52EALyajA9",
        "colab": {}
      },
      "source": [
        "names = np.array(['Daisy', 'Matt', 'Kelly', 'Mike', 'Ashley', 'Kyle'])\n",
        "pd.Series(names, index=[100,100,102,102,103,110])"
      ],
      "execution_count": null,
      "outputs": []
    },
    {
      "cell_type": "markdown",
      "metadata": {
        "colab_type": "text",
        "id": "hf0xKPN4aqKO"
      },
      "source": [
        "The indices don't have to be unique!"
      ]
    },
    {
      "cell_type": "markdown",
      "metadata": {
        "colab_type": "text",
        "id": "eldUp__3a39a"
      },
      "source": [
        "Can we use non-numerical indices?\n",
        "Let's check it out!"
      ]
    },
    {
      "cell_type": "code",
      "metadata": {
        "colab_type": "code",
        "id": "r0OsTILZavIU",
        "colab": {}
      },
      "source": [
        "names = np.array(['Daisy', 'Matt', 'Kelly', 'Mike'])\n",
        "cities=[\"Atlanta\", \"San Francisco\", \"New York\", \"Seattle\"]\n",
        "\n",
        "pd.Series(names, index=cities)"
      ],
      "execution_count": null,
      "outputs": []
    },
    {
      "cell_type": "markdown",
      "metadata": {
        "colab_type": "text",
        "id": "grAsKkbMbCz6"
      },
      "source": [
        "We found out that the indices don't have to numbers; indices could be of any types! "
      ]
    },
    {
      "cell_type": "code",
      "metadata": {
        "colab_type": "code",
        "id": "adBBZeBWbJqP",
        "colab": {}
      },
      "source": [
        "names = np.array(['Daisy', 'Matt', 'Kelly', 'Mike'])\n",
        "pd.Series(names, index=[0.79, [0.8, 1.4], 13, \"Hello\"])"
      ],
      "execution_count": null,
      "outputs": []
    },
    {
      "cell_type": "markdown",
      "metadata": {
        "colab_type": "text",
        "id": "aRAJ7s4MMQls"
      },
      "source": [
        "We used float, list, integer, and string as indices and it worked!\n",
        "\n",
        "This example is to demonstrate that you can use any types as indices; in the real world, it's more common to keep the datatype consistent for indices."
      ]
    },
    {
      "cell_type": "markdown",
      "metadata": {
        "colab_type": "text",
        "id": "1Wxi8Jy6OMW3"
      },
      "source": [
        "#### 3. Series from a dict\n",
        "We can create a Series from a **dict**! Let's see how it works!"
      ]
    },
    {
      "cell_type": "code",
      "metadata": {
        "colab_type": "code",
        "id": "zmOi4mPMOXVn",
        "colab": {}
      },
      "source": [
        "# aDict stores how many fruits we have.\n",
        "aDict = {'Apple':3, 'Banana':5, 'Cherry': 2, 'Mango': 13, 'Peach': 10}\n",
        "pd.Series(aDict)"
      ],
      "execution_count": null,
      "outputs": []
    },
    {
      "cell_type": "markdown",
      "metadata": {
        "colab_type": "text",
        "id": "wtIiqIC1FXd6"
      },
      "source": [
        "When we are passing a dict, the order in the dict is preserved."
      ]
    },
    {
      "cell_type": "code",
      "metadata": {
        "colab_type": "code",
        "id": "Jd2PNDmkFszH",
        "colab": {}
      },
      "source": [
        "aDict = {'Mango': 13, 'Banana':5, 'Cherry':2, 'Apple': 3, 'Peach': 10}\n",
        "pd.Series(aDict)"
      ],
      "execution_count": null,
      "outputs": []
    },
    {
      "cell_type": "markdown",
      "metadata": {
        "colab_type": "text",
        "id": "YiHLLOgacg0Q"
      },
      "source": [
        "If we want to know the datatype of Series, we can call dtype function."
      ]
    },
    {
      "cell_type": "code",
      "metadata": {
        "colab_type": "code",
        "id": "llyeLKz7ca8W",
        "colab": {}
      },
      "source": [
        "aDict = {'Mango': 13, 'Banana':5, 'Cherry':2, 'Apple': 3, 'Peach': 10}\n",
        "pd.Series(aDict).dtype"
      ],
      "execution_count": null,
      "outputs": []
    },
    {
      "cell_type": "markdown",
      "metadata": {
        "colab_type": "text",
        "id": "X_YVm1C9cq9I"
      },
      "source": [
        "Now, let's change the value for \"Mango.\" The value is changed to 13.45 and see what dtype returns!"
      ]
    },
    {
      "cell_type": "code",
      "metadata": {
        "colab_type": "code",
        "id": "pWcf03jccoUh",
        "colab": {}
      },
      "source": [
        "aDict = {'Mango': 13.45, 'Banana':5, 'Cherry':2, 'Apple': 3, 'Peach': 10}\n",
        "pd.Series(aDict).dtype"
      ],
      "execution_count": null,
      "outputs": []
    },
    {
      "cell_type": "markdown",
      "metadata": {
        "colab_type": "text",
        "id": "82Mus9Lgc8yA"
      },
      "source": [
        "If we want to print out indices only, we can check ```index``` property."
      ]
    },
    {
      "cell_type": "code",
      "metadata": {
        "colab_type": "code",
        "id": "rmyIfv1jc3fB",
        "colab": {}
      },
      "source": [
        "aDict = {'Mango': 13.45, 'Banana':5, 'Cherry':2, 'Apple': 3, 'Peach': 10}\n",
        "pd.Series(aDict).index"
      ],
      "execution_count": null,
      "outputs": []
    },
    {
      "cell_type": "markdown",
      "metadata": {
        "id": "gWiC4VKG0CPF",
        "colab_type": "text"
      },
      "source": [
        "Let's get the values only from a Series. Similarly, we can call ```values``` property from a Series."
      ]
    },
    {
      "cell_type": "code",
      "metadata": {
        "id": "4cWGtdpq0CPF",
        "colab_type": "code",
        "colab": {}
      },
      "source": [
        "pd.Series(aDict).values"
      ],
      "execution_count": null,
      "outputs": []
    },
    {
      "cell_type": "markdown",
      "metadata": {
        "colab_type": "text",
        "id": "z_A54Pi5kX6G"
      },
      "source": [
        "### Sorting a Series"
      ]
    },
    {
      "cell_type": "markdown",
      "metadata": {
        "colab_type": "text",
        "id": "8Nf4i2n3G2eU"
      },
      "source": [
        "If we want to sort the Series in the order of \"index\", we can use the ```sort_index()``` function."
      ]
    },
    {
      "cell_type": "code",
      "metadata": {
        "colab_type": "code",
        "id": "UtfyBj5dGxzh",
        "colab": {}
      },
      "source": [
        "s = pd.Series(aDict)\n",
        "s.sort_index()"
      ],
      "execution_count": null,
      "outputs": []
    },
    {
      "cell_type": "markdown",
      "metadata": {
        "colab_type": "text",
        "id": "10CStP_aO6xP"
      },
      "source": [
        "Similarly, if we want to sort the series based on the value, we can use a built-in function sort_values. By default, it will sort the elements in an ascending order."
      ]
    },
    {
      "cell_type": "code",
      "metadata": {
        "colab_type": "code",
        "id": "M6yuEei4OmpK",
        "colab": {}
      },
      "source": [
        "s = pd.Series(aDict)\n",
        "s.sort_values()"
      ],
      "execution_count": null,
      "outputs": []
    },
    {
      "cell_type": "markdown",
      "metadata": {
        "colab_type": "text",
        "id": "PvI4f3ITP3Bc"
      },
      "source": [
        "Let's sort the series in a descending order."
      ]
    },
    {
      "cell_type": "code",
      "metadata": {
        "colab_type": "code",
        "id": "mv_d1kiTO5vZ",
        "colab": {}
      },
      "source": [
        "s.sort_values(ascending=False)"
      ],
      "execution_count": null,
      "outputs": []
    },
    {
      "cell_type": "markdown",
      "metadata": {
        "colab_type": "text",
        "id": "RItg7im2dJhY"
      },
      "source": [
        "### 1.0 - Now Try This\n",
        "Sort the series by index in a descending order."
      ]
    },
    {
      "cell_type": "markdown",
      "metadata": {
        "colab_type": "text",
        "id": "tj7D1cz6POtl"
      },
      "source": [
        "### Accessing an element in a Series\n",
        "\n",
        "We can access elements in a Series in the following ways:\n",
        "- by index number\n",
        "- by index label"
      ]
    },
    {
      "cell_type": "code",
      "metadata": {
        "colab_type": "code",
        "id": "Z-wAc-uWR9Hp",
        "colab": {}
      },
      "source": [
        "array = np.array(['a','b','c','d','e','f','g','h'])\n",
        "s = pd.Series(array)"
      ],
      "execution_count": null,
      "outputs": []
    },
    {
      "cell_type": "markdown",
      "metadata": {
        "colab_type": "text",
        "id": "RaWWGQAGptvL"
      },
      "source": [
        "#### 1. By index number"
      ]
    },
    {
      "cell_type": "markdown",
      "metadata": {
        "colab_type": "text",
        "id": "Qpt2sMYhRiTY"
      },
      "source": [
        "We can access the first element by index number 0."
      ]
    },
    {
      "cell_type": "code",
      "metadata": {
        "colab_type": "code",
        "id": "UCXBaQoQPWnq",
        "colab": {}
      },
      "source": [
        "s[0]"
      ],
      "execution_count": null,
      "outputs": []
    },
    {
      "cell_type": "code",
      "metadata": {
        "colab_type": "code",
        "id": "Cf64v-7DSViQ",
        "colab": {}
      },
      "source": [
        "s[5]"
      ],
      "execution_count": null,
      "outputs": []
    },
    {
      "cell_type": "markdown",
      "metadata": {
        "colab_type": "text",
        "id": "XMY-qqdmSJo8"
      },
      "source": [
        "We can access the first 3 elements with index operation [:3]"
      ]
    },
    {
      "cell_type": "code",
      "metadata": {
        "colab_type": "code",
        "id": "e9ipGYg3R4P7",
        "colab": {}
      },
      "source": [
        "s[:3]"
      ],
      "execution_count": null,
      "outputs": []
    },
    {
      "cell_type": "markdown",
      "metadata": {
        "colab_type": "text",
        "id": "I-bKEGiCpMyx"
      },
      "source": [
        "### 2.0 - Now Try This\n",
        "\n",
        "Access the items in the index of 3-5 (inclusive) using index operation."
      ]
    },
    {
      "cell_type": "markdown",
      "metadata": {
        "colab_type": "text",
        "id": "2dk4jHp6pzJL"
      },
      "source": [
        "#### By Index Label"
      ]
    },
    {
      "cell_type": "markdown",
      "metadata": {
        "colab_type": "text",
        "id": "dWDXjvfPS5uQ"
      },
      "source": [
        "\n",
        "We can retrieve a single element using index label."
      ]
    },
    {
      "cell_type": "code",
      "metadata": {
        "colab_type": "code",
        "id": "6HRnMdYASH3y",
        "colab": {}
      },
      "source": [
        "aDict = {'Apple':3, 'Banana':5, 'Cherry': 2, 'Peach': 10}\n",
        "s = pd.Series(aDict)\n",
        "s['Apple']"
      ],
      "execution_count": null,
      "outputs": []
    },
    {
      "cell_type": "code",
      "metadata": {
        "colab_type": "code",
        "id": "NjMMQTHES3CL",
        "colab": {}
      },
      "source": [
        "s['Peach']"
      ],
      "execution_count": null,
      "outputs": []
    },
    {
      "cell_type": "markdown",
      "metadata": {
        "colab_type": "text",
        "id": "dz2IesgGp5a7"
      },
      "source": [
        "### 3.0 - Now Try This\n",
        "\n"
      ]
    },
    {
      "cell_type": "code",
      "metadata": {
        "colab_type": "code",
        "id": "BW1mziJRTEPn",
        "colab": {}
      },
      "source": [
        "s = pd.Series([1,2,3,4,5],index = ['a','b','c','d','e'])"
      ],
      "execution_count": null,
      "outputs": []
    },
    {
      "cell_type": "markdown",
      "metadata": {
        "colab_type": "text",
        "id": "fTcTEUUzqDx5"
      },
      "source": [
        "Retrieve an element that corresponds to index 'd'"
      ]
    },
    {
      "cell_type": "markdown",
      "metadata": {
        "colab_type": "text",
        "id": "Cfbdclds1OSj"
      },
      "source": [
        "### Binary Operations of Series\n",
        "- Add\n",
        "- Sub\n",
        "- Mul"
      ]
    },
    {
      "cell_type": "markdown",
      "metadata": {
        "colab_type": "text",
        "id": "FFcxfIA91bBj"
      },
      "source": [
        "Here, we have created two Series with numbers."
      ]
    },
    {
      "cell_type": "code",
      "metadata": {
        "colab_type": "code",
        "id": "z2qRhcz51NfD",
        "colab": {}
      },
      "source": [
        "# creating a first series\n",
        "s1 = pd.Series([1,5,6,2])\n",
        " \n",
        "# creating a second series\n",
        "s2 = pd.Series([4,1,3,5])"
      ],
      "execution_count": null,
      "outputs": []
    },
    {
      "cell_type": "markdown",
      "metadata": {
        "colab_type": "text",
        "id": "hNXSZot2NkVk"
      },
      "source": [
        "Let's add the two Series!"
      ]
    },
    {
      "cell_type": "code",
      "metadata": {
        "colab_type": "code",
        "id": "JpC94kgxNbqd",
        "colab": {}
      },
      "source": [
        "# answer = s1 + s2\n",
        "answer = s1.add(s2)\n",
        "print(answer)"
      ],
      "execution_count": null,
      "outputs": []
    },
    {
      "cell_type": "markdown",
      "metadata": {
        "colab_type": "text",
        "id": "td9U_MhY2Lnv"
      },
      "source": [
        "We can also subtract a Series from another Series using sub() function."
      ]
    },
    {
      "cell_type": "code",
      "metadata": {
        "colab_type": "code",
        "id": "Odw0eFWy2A85",
        "colab": {}
      },
      "source": [
        "# answer = s1 - s2\n",
        "answer = s1.sub(s2)\n",
        "print(answer)"
      ],
      "execution_count": null,
      "outputs": []
    },
    {
      "cell_type": "code",
      "metadata": {
        "colab_type": "code",
        "id": "i_HM2J9U3ozL",
        "colab": {}
      },
      "source": [
        "answer = s1.mul(s2)\n",
        "print(answer)"
      ],
      "execution_count": null,
      "outputs": []
    },
    {
      "cell_type": "markdown",
      "metadata": {
        "colab_type": "text",
        "id": "dSpiQb6A29Ag"
      },
      "source": [
        "Using a simpler approach, we can use mathematical notation and it will result in the same output."
      ]
    },
    {
      "cell_type": "code",
      "metadata": {
        "colab_type": "code",
        "id": "R0BlOzUn3g3u",
        "colab": {}
      },
      "source": [
        "s1 + s2"
      ],
      "execution_count": null,
      "outputs": []
    },
    {
      "cell_type": "code",
      "metadata": {
        "colab_type": "code",
        "id": "JGfGW06a23oM",
        "colab": {}
      },
      "source": [
        "s1 - s2"
      ],
      "execution_count": null,
      "outputs": []
    },
    {
      "cell_type": "code",
      "metadata": {
        "colab_type": "code",
        "id": "-YR673G22U4X",
        "colab": {}
      },
      "source": [
        "s1 * s2"
      ],
      "execution_count": null,
      "outputs": []
    },
    {
      "cell_type": "markdown",
      "metadata": {
        "colab_type": "text",
        "id": "iJle2PlleXCC"
      },
      "source": [
        "Now, let's create two Series with indices. Note that the order of index is different in two Series."
      ]
    },
    {
      "cell_type": "code",
      "metadata": {
        "colab_type": "code",
        "id": "s296gpaueBzP",
        "colab": {}
      },
      "source": [
        "# creating a first series\n",
        "s1 = pd.Series([1,5,6,2], index=['b','c','d','a'])\n",
        " \n",
        "# creating a second series\n",
        "s2 = pd.Series([4,1,3,5], index=['a','b','c','d'])"
      ],
      "execution_count": null,
      "outputs": []
    },
    {
      "cell_type": "code",
      "metadata": {
        "colab_type": "code",
        "id": "f3YngIopeLM2",
        "colab": {}
      },
      "source": [
        "s1 + s2"
      ],
      "execution_count": null,
      "outputs": []
    },
    {
      "cell_type": "markdown",
      "metadata": {
        "colab_type": "text",
        "id": "_P6XPZ0KeiAa"
      },
      "source": [
        "s['a'] = 6 was obtained by s1['a'] + s2['a'] and all the other values are calculated in the same way."
      ]
    },
    {
      "cell_type": "markdown",
      "metadata": {
        "colab_type": "text",
        "id": "6AJExdsoqNkk"
      },
      "source": [
        "### 4.0 - Now Try This\n",
        "\n",
        "Write down what this code will return on a piece of paper.\n",
        "Compare your answer with the output of the code."
      ]
    },
    {
      "cell_type": "code",
      "metadata": {
        "colab_type": "code",
        "id": "sLj-gx-NqYpt",
        "colab": {}
      },
      "source": [
        "s1 * s2"
      ],
      "execution_count": null,
      "outputs": []
    },
    {
      "cell_type": "markdown",
      "metadata": {
        "colab_type": "text",
        "id": "EJNR47rL43Zr"
      },
      "source": [
        "## Advanced Dataframe"
      ]
    },
    {
      "cell_type": "markdown",
      "metadata": {
        "colab_type": "text",
        "id": "Jl3rMWUf6zF0"
      },
      "source": [
        "Now, let's move onto some more advanced ways to use Dataframe. To demontrate this, we'll be using a dataframe on people's income."
      ]
    },
    {
      "cell_type": "code",
      "metadata": {
        "colab_type": "code",
        "id": "lj3GrMli4xtz",
        "colab": {}
      },
      "source": [
        "import numpy as np\n",
        "\n",
        "data = {'First Name': ['Jennifer', 'Chris', 'John', 'Annie', 'Chloe', 'Jeremy', 'Allison', 'Hannah'], \n",
        "        'Last Name': ['Brown', 'Smith', 'Williams', 'Wong', 'Anderson', 'Scott', 'Kim', 'Mills'], \n",
        "        'Age': [16, 32, 21, 35, 27, 42, 28, 23],\n",
        "        'Hourly Wage': [8,14,60,44,80,54,32,16],\n",
        "        'Hours per week': [20,28,40,40,32,40,40,20],\n",
        "        'Years of experience': [0,2,np.nan,9,np.nan,4,5,np.nan]\n",
        "        } \n",
        "\n",
        "emp = pd.DataFrame(data)\n",
        "emp"
      ],
      "execution_count": null,
      "outputs": []
    },
    {
      "cell_type": "markdown",
      "metadata": {
        "colab_type": "text",
        "id": "Zl6-3HOnDUxM"
      },
      "source": [
        "### Creating new columns\n",
        "\n",
        "#### String Manipulation\n",
        "\n",
        "We want to have a column displaying the full names of the people in the dataset. To do this, we can combine First Name and Last Name and create a new column called \"Full Name.\"\n",
        "\n",
        "The ```' '``` in the middle is adding a space between the first name and last name. "
      ]
    },
    {
      "cell_type": "code",
      "metadata": {
        "colab_type": "code",
        "id": "4yC0jbKyBMsS",
        "colab": {}
      },
      "source": [
        "# string manipulation\n",
        "emp['Full Name'] = emp['First Name'] + ' ' + emp['Last Name']\n",
        "emp"
      ],
      "execution_count": null,
      "outputs": []
    },
    {
      "cell_type": "markdown",
      "metadata": {
        "colab_type": "text",
        "id": "9_Iwt_P6fHqc"
      },
      "source": [
        "#### Numerical column\n",
        "\n",
        "Let's calculate weekly salary for each person and add a column called ```Weekly Salary```. We need to do some simple math to get the weekly salary."
      ]
    },
    {
      "cell_type": "code",
      "metadata": {
        "colab_type": "code",
        "id": "_d67Iv2Se8WU",
        "colab": {}
      },
      "source": [
        "# multiplication of two numerical columns\n",
        "emp['Weekly Salary'] = emp['Hourly Wage'] * emp['Hours per week']\n",
        "emp"
      ],
      "execution_count": null,
      "outputs": []
    },
    {
      "cell_type": "markdown",
      "metadata": {
        "colab_type": "text",
        "id": "2sVeQuAODYPT"
      },
      "source": [
        "Now, we've added two columns \"Full Name\" and \"Weekly Salary.\"\n",
        "\n",
        "#### List Comprehension\n",
        "\n",
        "Let's create a new column called ```High Income``` based on the ```Weekly Salary```. We will use a list comprehension for this (you can refer to Week 2 materials if you can't recall list comprehension.)\n",
        "\n",
        "```High Income``` will be ```True``` if ```Weekly Salary``` is > 2000, otherwise False."
      ]
    },
    {
      "cell_type": "code",
      "metadata": {
        "colab_type": "code",
        "id": "g3doGL0WBUBA",
        "scrolled": true,
        "colab": {}
      },
      "source": [
        "# list comprehension\n",
        "emp['High Income'] = [True if x > 2000 else False for x in emp['Weekly Salary']]\n",
        "emp"
      ],
      "execution_count": null,
      "outputs": []
    },
    {
      "cell_type": "markdown",
      "metadata": {
        "id": "YImlimn40CP8",
        "colab_type": "text"
      },
      "source": [
        "### Fill in NaN values"
      ]
    },
    {
      "cell_type": "markdown",
      "metadata": {
        "id": "4ot_94dG0CP9",
        "colab_type": "text"
      },
      "source": [
        "There are lots of ```NaN``` values (missing values) in ```Years of experience```.\n",
        "\n",
        "Let's fill in the missing values with 0's using ```fillna(0)```."
      ]
    },
    {
      "cell_type": "code",
      "metadata": {
        "id": "kHLMKs4P0CP9",
        "colab_type": "code",
        "colab": {}
      },
      "source": [
        "emp['Years of experience'].fillna(0, inplace=True)"
      ],
      "execution_count": null,
      "outputs": []
    },
    {
      "cell_type": "markdown",
      "metadata": {
        "id": "Gd6mTknM0CP_",
        "colab_type": "text"
      },
      "source": [
        "If we want to replace all missing values in the dataset, we can call ```fillna(0)``` on the dataframe."
      ]
    },
    {
      "cell_type": "code",
      "metadata": {
        "id": "BmKiVBB-0CQA",
        "colab_type": "code",
        "colab": {}
      },
      "source": [
        "emp.fillna(0, inplace=True)"
      ],
      "execution_count": null,
      "outputs": []
    },
    {
      "cell_type": "markdown",
      "metadata": {
        "colab_type": "text",
        "id": "RmD7OwLghrOl"
      },
      "source": [
        "### Sorting the dataset\n",
        "\n",
        "Let's sort the data by 'Weekly Salary'."
      ]
    },
    {
      "cell_type": "code",
      "metadata": {
        "colab_type": "code",
        "id": "KaBiarDihijf",
        "colab": {}
      },
      "source": [
        "emp.sort_values(by='Weekly Salary')"
      ],
      "execution_count": null,
      "outputs": []
    },
    {
      "cell_type": "markdown",
      "metadata": {
        "colab_type": "text",
        "id": "sjwwN40_NNE7"
      },
      "source": [
        "Now, all of the high income workers are located in the bottom of the dataset."
      ]
    },
    {
      "cell_type": "markdown",
      "metadata": {
        "colab_type": "text",
        "id": "yylmga3XDdEC"
      },
      "source": [
        "### Selecting subset of data based on condition\n",
        "\n",
        "Let's review how we can select subset of data based on criteria.\n",
        "\n",
        "Selecting rows where 'High Income' is True"
      ]
    },
    {
      "cell_type": "code",
      "metadata": {
        "colab_type": "code",
        "id": "YTvKOQLnDCxc",
        "colab": {}
      },
      "source": [
        "emp[emp['High Income'] == True]"
      ],
      "execution_count": null,
      "outputs": []
    },
    {
      "cell_type": "markdown",
      "metadata": {
        "colab_type": "text",
        "id": "05x_BcYbiXE7"
      },
      "source": [
        "### 5.0 - Now Try This\n",
        "\n",
        "Let's find people who are younger than 30 years old AND have high income.\n",
        "\n",
        "(Hint: Make sure to use ```()``` on each condition.)"
      ]
    },
    {
      "cell_type": "markdown",
      "metadata": {
        "colab_type": "text",
        "id": "tUK8ezg5DjbQ"
      },
      "source": [
        "### Dropping rows\n",
        "\n",
        "There are two ways of dropping rows.\n",
        "\n",
        "1. ```df.drop(index #)```\n",
        "2. ```df.drop(df[<some boolean condition>].index)```: \n",
        "\n",
        "The first line is used when we know exactly what rows we want to drop from the dataframe.\n",
        "With the second line, we can drop rows that do not meet certain criteria."
      ]
    },
    {
      "cell_type": "markdown",
      "metadata": {
        "id": "rEePojCD0CQG",
        "colab_type": "text"
      },
      "source": [
        "Let's drop rows where 'High Income' is False."
      ]
    },
    {
      "cell_type": "code",
      "metadata": {
        "colab_type": "code",
        "id": "WgV-dhN5CpYt",
        "scrolled": true,
        "colab": {}
      },
      "source": [
        "emp.drop(emp[emp['High Income'] == False].index)"
      ],
      "execution_count": null,
      "outputs": []
    },
    {
      "cell_type": "code",
      "metadata": {
        "id": "uTtNKR8C0CQJ",
        "colab_type": "code",
        "colab": {}
      },
      "source": [
        "emp"
      ],
      "execution_count": null,
      "outputs": []
    },
    {
      "cell_type": "markdown",
      "metadata": {
        "colab_type": "text",
        "id": "cv86yEkODqPa"
      },
      "source": [
        "Even though we dropped the columns where High Income == False, emp remains unchanged.\n",
        "\n",
        "This is because we didn't update emp!\n",
        "\n",
        "We can update the dataframe once we drop the rows by setting ```inplace=True```"
      ]
    },
    {
      "cell_type": "code",
      "metadata": {
        "colab_type": "code",
        "id": "JbmnWKy1PCRc",
        "colab": {}
      },
      "source": [
        "emp.drop(emp[emp['High Income'] == False].index, inplace=True)"
      ],
      "execution_count": null,
      "outputs": []
    },
    {
      "cell_type": "code",
      "metadata": {
        "scrolled": true,
        "id": "YR6uD3z90CQO",
        "colab_type": "code",
        "colab": {}
      },
      "source": [
        "emp"
      ],
      "execution_count": null,
      "outputs": []
    },
    {
      "cell_type": "markdown",
      "metadata": {
        "id": "uv47XBvZ0CQP",
        "colab_type": "text"
      },
      "source": [
        "Here we go! emp has been updated!"
      ]
    },
    {
      "cell_type": "markdown",
      "metadata": {
        "colab_type": "text",
        "id": "Wc0vZktaD0f2"
      },
      "source": [
        "### Company Dataframe\n",
        "\n",
        "Here, we have the dataset with the company name each person in ```emp``` works for."
      ]
    },
    {
      "cell_type": "code",
      "metadata": {
        "colab_type": "code",
        "id": "q0yelL2KEN9C",
        "colab": {}
      },
      "source": [
        "data = {'First Name': ['Jennifer', 'Chris', 'John', 'Annie', 'Chloe', 'Jeremy', 'Allison', 'Hannah'], \n",
        "        'Last Name': ['Brown', 'Smith', 'Williams', 'Wong', 'Anderson', 'Scott', 'Kim', 'Mills'], \n",
        "        'Company': ['Home Depot', 'Bit Project', 'Microsoft', 'Bit Project', 'Disney', 'Adidas', 'Home Depot', np.nan]\n",
        "        } \n",
        "\n",
        "companies = pd.DataFrame(data)"
      ],
      "execution_count": null,
      "outputs": []
    },
    {
      "cell_type": "code",
      "metadata": {
        "colab_type": "code",
        "id": "h95qFZpcQpp6",
        "colab": {
          "base_uri": "https://localhost:8080/",
          "height": 204
        },
        "outputId": "5cb9c274-692f-4b7b-979e-c7303d249a76"
      },
      "source": [
        "companies"
      ],
      "execution_count": null,
      "outputs": [
        {
          "output_type": "execute_result",
          "data": {
            "text/html": [
              "<div>\n",
              "<style scoped>\n",
              "    .dataframe tbody tr th:only-of-type {\n",
              "        vertical-align: middle;\n",
              "    }\n",
              "\n",
              "    .dataframe tbody tr th {\n",
              "        vertical-align: top;\n",
              "    }\n",
              "\n",
              "    .dataframe thead th {\n",
              "        text-align: right;\n",
              "    }\n",
              "</style>\n",
              "<table border=\"1\" class=\"dataframe\">\n",
              "  <thead>\n",
              "    <tr style=\"text-align: right;\">\n",
              "      <th></th>\n",
              "      <th>First Name</th>\n",
              "      <th>Last Name</th>\n",
              "      <th>Company</th>\n",
              "    </tr>\n",
              "  </thead>\n",
              "  <tbody>\n",
              "    <tr>\n",
              "      <td>0</td>\n",
              "      <td>Jennifer</td>\n",
              "      <td>Brown</td>\n",
              "      <td>Home Depot</td>\n",
              "    </tr>\n",
              "    <tr>\n",
              "      <td>1</td>\n",
              "      <td>Chris</td>\n",
              "      <td>Smith</td>\n",
              "      <td>Bit Project</td>\n",
              "    </tr>\n",
              "    <tr>\n",
              "      <td>2</td>\n",
              "      <td>John</td>\n",
              "      <td>Williams</td>\n",
              "      <td>Microsoft</td>\n",
              "    </tr>\n",
              "    <tr>\n",
              "      <td>3</td>\n",
              "      <td>Annie</td>\n",
              "      <td>Wong</td>\n",
              "      <td>Bit Project</td>\n",
              "    </tr>\n",
              "    <tr>\n",
              "      <td>4</td>\n",
              "      <td>Chloe</td>\n",
              "      <td>Anderson</td>\n",
              "      <td>Disney</td>\n",
              "    </tr>\n",
              "    <tr>\n",
              "      <td>5</td>\n",
              "      <td>Jeremy</td>\n",
              "      <td>Scott</td>\n",
              "      <td>Adidas</td>\n",
              "    </tr>\n",
              "    <tr>\n",
              "      <td>6</td>\n",
              "      <td>Allison</td>\n",
              "      <td>Kim</td>\n",
              "      <td>Home Depot</td>\n",
              "    </tr>\n",
              "    <tr>\n",
              "      <td>7</td>\n",
              "      <td>Hannah</td>\n",
              "      <td>Mills</td>\n",
              "      <td>NaN</td>\n",
              "    </tr>\n",
              "  </tbody>\n",
              "</table>\n",
              "</div>"
            ],
            "text/plain": [
              "  First Name Last Name      Company\n",
              "0   Jennifer     Brown   Home Depot\n",
              "1      Chris     Smith  Bit Project\n",
              "2       John  Williams    Microsoft\n",
              "3      Annie      Wong  Bit Project\n",
              "4      Chloe  Anderson       Disney\n",
              "5     Jeremy     Scott       Adidas\n",
              "6    Allison       Kim   Home Depot\n",
              "7     Hannah     Mills          NaN"
            ]
          },
          "metadata": {
            "tags": []
          },
          "execution_count": 5
        }
      ]
    },
    {
      "cell_type": "markdown",
      "metadata": {
        "id": "yOYExO1f0CQS",
        "colab_type": "text"
      },
      "source": [
        "### Fill in NaN values\n",
        "\n",
        "In the dataframe, Hannah's company is ```NaN```. Let's replace it with a string \"UNKNOWN\"."
      ]
    },
    {
      "cell_type": "code",
      "metadata": {
        "id": "tzxcDksO0CQS",
        "colab_type": "code",
        "colab": {}
      },
      "source": [
        "companies['Company'].fillna('UNKNOWN', inplace = True)"
      ],
      "execution_count": null,
      "outputs": []
    },
    {
      "cell_type": "markdown",
      "metadata": {
        "id": "JduGS8_60CQU",
        "colab_type": "text"
      },
      "source": [
        "### Unique values in a column\n",
        "\n",
        "Let's find out the unique company names in the company dataframe.\n",
        "\n",
        "```df[[column_name]].drop_duplicates()```\n",
        "\n",
        "This code will literally drop duplicates in the ```column_name```!"
      ]
    },
    {
      "cell_type": "code",
      "metadata": {
        "id": "e4pXcz2d0CQU",
        "colab_type": "code",
        "colab": {},
        "outputId": "ce46d9c9-cd7c-4ad9-803c-48c4edcbd17d"
      },
      "source": [
        "companies[[\"Company\"]].drop_duplicates()"
      ],
      "execution_count": null,
      "outputs": [
        {
          "output_type": "execute_result",
          "data": {
            "text/html": [
              "<div>\n",
              "<style scoped>\n",
              "    .dataframe tbody tr th:only-of-type {\n",
              "        vertical-align: middle;\n",
              "    }\n",
              "\n",
              "    .dataframe tbody tr th {\n",
              "        vertical-align: top;\n",
              "    }\n",
              "\n",
              "    .dataframe thead th {\n",
              "        text-align: right;\n",
              "    }\n",
              "</style>\n",
              "<table border=\"1\" class=\"dataframe\">\n",
              "  <thead>\n",
              "    <tr style=\"text-align: right;\">\n",
              "      <th></th>\n",
              "      <th>Company</th>\n",
              "    </tr>\n",
              "  </thead>\n",
              "  <tbody>\n",
              "    <tr>\n",
              "      <td>0</td>\n",
              "      <td>Home Depot</td>\n",
              "    </tr>\n",
              "    <tr>\n",
              "      <td>1</td>\n",
              "      <td>Bit Project</td>\n",
              "    </tr>\n",
              "    <tr>\n",
              "      <td>2</td>\n",
              "      <td>Microsoft</td>\n",
              "    </tr>\n",
              "    <tr>\n",
              "      <td>4</td>\n",
              "      <td>Disney</td>\n",
              "    </tr>\n",
              "    <tr>\n",
              "      <td>5</td>\n",
              "      <td>Adidas</td>\n",
              "    </tr>\n",
              "    <tr>\n",
              "      <td>7</td>\n",
              "      <td>UNKNOWN</td>\n",
              "    </tr>\n",
              "  </tbody>\n",
              "</table>\n",
              "</div>"
            ],
            "text/plain": [
              "       Company\n",
              "0   Home Depot\n",
              "1  Bit Project\n",
              "2    Microsoft\n",
              "4       Disney\n",
              "5       Adidas\n",
              "7      UNKNOWN"
            ]
          },
          "metadata": {
            "tags": []
          },
          "execution_count": 7
        }
      ]
    },
    {
      "cell_type": "markdown",
      "metadata": {
        "id": "HLLaciDB0CQV",
        "colab_type": "text"
      },
      "source": [
        "#### Count unique values\n",
        "\n",
        "With ```groupby()``` and ```size()``` functions, we can count the occurrences of a unique value in the ```groupby``` column."
      ]
    },
    {
      "cell_type": "code",
      "metadata": {
        "id": "DufMH0l_0CQW",
        "colab_type": "code",
        "colab": {},
        "outputId": "cdab0c50-b42c-4281-efdf-e57a7b832fdd"
      },
      "source": [
        "companies.groupby(['Company']).size()"
      ],
      "execution_count": null,
      "outputs": [
        {
          "output_type": "execute_result",
          "data": {
            "text/plain": [
              "Company\n",
              "Adidas         1\n",
              "Bit Project    2\n",
              "Disney         1\n",
              "Home Depot     2\n",
              "Microsoft      1\n",
              "UNKNOWN        1\n",
              "dtype: int64"
            ]
          },
          "metadata": {
            "tags": []
          },
          "execution_count": 10
        }
      ]
    },
    {
      "cell_type": "markdown",
      "metadata": {
        "id": "PO1VsNvq0CQX",
        "colab_type": "text"
      },
      "source": [
        "The code above groups by ```Company``` and return the number of times each company appears in the ```Company``` column.\n",
        "\n",
        "If we want to sort by the size or count, we can use ```sort_values```."
      ]
    },
    {
      "cell_type": "code",
      "metadata": {
        "id": "6a-5rZrN0CQX",
        "colab_type": "code",
        "colab": {},
        "outputId": "d81f0f6d-42c9-4f31-a64b-9a119ba0e34b"
      },
      "source": [
        "companies.groupby(['Company']).size().sort_values()"
      ],
      "execution_count": null,
      "outputs": [
        {
          "output_type": "execute_result",
          "data": {
            "text/plain": [
              "Company\n",
              "Adidas         1\n",
              "Disney         1\n",
              "Microsoft      1\n",
              "UNKNOWN        1\n",
              "Bit Project    2\n",
              "Home Depot     2\n",
              "dtype: int64"
            ]
          },
          "metadata": {
            "tags": []
          },
          "execution_count": 11
        }
      ]
    },
    {
      "cell_type": "markdown",
      "metadata": {
        "id": "gxUxQjow0CQZ",
        "colab_type": "text"
      },
      "source": [
        "#### The number of unique values\n",
        "\n",
        "To find out the number of unique values in a column, we can use ```nunique()```.\n",
        "\n",
        "```nunique()``` can be interpreted as **n**umber of **unique** values."
      ]
    },
    {
      "cell_type": "code",
      "metadata": {
        "id": "cBfhmXOv0CQZ",
        "colab_type": "code",
        "colab": {},
        "outputId": "27b80b5f-b01c-4db6-953e-fcf5c5522625"
      },
      "source": [
        "companies[\"Company\"].nunique()"
      ],
      "execution_count": null,
      "outputs": [
        {
          "output_type": "execute_result",
          "data": {
            "text/plain": [
              "6"
            ]
          },
          "metadata": {
            "tags": []
          },
          "execution_count": 8
        }
      ]
    },
    {
      "cell_type": "markdown",
      "metadata": {
        "id": "4yEzrngg0CQa",
        "colab_type": "text"
      },
      "source": [
        "These three functions will be very helpful when working with a large, complicated dataset!"
      ]
    },
    {
      "cell_type": "markdown",
      "metadata": {
        "id": "7ELe7FGi0CQb",
        "colab_type": "text"
      },
      "source": [
        "### Joining Dataset\n",
        "\n",
        "Let's join the two tables ```emp``` and ```companies``` to find out which companies those people work for."
      ]
    },
    {
      "cell_type": "markdown",
      "metadata": {
        "colab_type": "text",
        "id": "pr6JBdx0RYv0"
      },
      "source": [
        "### 1. Merge"
      ]
    },
    {
      "cell_type": "markdown",
      "metadata": {
        "id": "maW7Mhc00CQb",
        "colab_type": "text"
      },
      "source": [
        "These are the parameters we can use when we merge two dataframes.\n",
        "\n",
        "```DataFrame.merge(right, how='inner', on=None, left_on=None, right_on=None, left_index=False, right_index=False, sort=False, suffixes='_x', '_y', copy=True, indicator=False, validate=None)```\n",
        "\n",
        "- how: {‘inner’, ‘left’, ‘right’, ‘outer’}, default ‘inner’\n",
        "- on: Column or index level names to join on. These must be found in both DataFrames.\n",
        "- left_on: Column or index level names to join on in the left DataFrame.\n",
        "- right_on: Column or index level names to join on in the right DataFrame.\n",
        "- left_index: Use the index from the left DataFrame as the join key.\n",
        "- right_index: Use the index from the right DataFrame as the join key\n",
        "- suffixes: A length-2 sequence where each element is optionally a string indicating the suffix to add to overlapping column names in left and right respectively. \n",
        "\n",
        "We will cover the most fundamental and commonly used ones here. Feel free to check for more details at https://pandas.pydata.org/pandas-docs/stable/reference/api/pandas.DataFrame.merge.html \n"
      ]
    },
    {
      "cell_type": "markdown",
      "metadata": {
        "id": "Twi1THZ60CQb",
        "colab_type": "text"
      },
      "source": [
        "#### Merge - How\n",
        "\n",
        "```how``` indicates a type of ```join``` and there are 4: ```inner```, ```left```, ```right```, and ```outer```."
      ]
    },
    {
      "cell_type": "markdown",
      "metadata": {
        "id": "MPTynx_20CQc",
        "colab_type": "text"
      },
      "source": [
        "![inner_join.png](https://github.com/bitprj/DigitalHistory/blob/master/Week6-Advanced-Data-Wrangling-using-Pandas/assets/inner_join.png?raw=1)\n",
        "\n",
        "```inner join``` will take in the common items / columns between the two dataframes."
      ]
    },
    {
      "cell_type": "markdown",
      "metadata": {
        "id": "SDkCKzx10CQc",
        "colab_type": "text"
      },
      "source": [
        "![left_join.png](https://github.com/bitprj/DigitalHistory/blob/master/Week6-Advanced-Data-Wrangling-using-Pandas/assets/left_join.png?raw=1)\n",
        "\n",
        "```left join``` will include everything from left dataframe and add a column from right dataframe where there's a match in the right dataframe."
      ]
    },
    {
      "cell_type": "markdown",
      "metadata": {
        "id": "0bSBYGgG0CQc",
        "colab_type": "text"
      },
      "source": [
        "![right_join.png](https://github.com/bitprj/DigitalHistory/blob/master/Week6-Advanced-Data-Wrangling-using-Pandas/assets/right_join.png?raw=1)\n",
        "\n",
        "Similar to ```left join```, ```right join``` will include everything from right dataframe and add a column from left dataframe where there's a match in the left dataframe."
      ]
    },
    {
      "cell_type": "markdown",
      "metadata": {
        "id": "QLFkTEfr0CQc",
        "colab_type": "text"
      },
      "source": [
        "![full_join.png](https://github.com/bitprj/DigitalHistory/blob/master/Week6-Advanced-Data-Wrangling-using-Pandas/assets/full_join.png?raw=1)\n",
        "\n",
        "```full join``` will include everything from left and right dataframe even if there's no common item between the two dataframes."
      ]
    },
    {
      "cell_type": "markdown",
      "metadata": {
        "id": "2TchT1Uw0CQc",
        "colab_type": "text"
      },
      "source": [
        "Understanding different types of ```join```s are very important as this will help us to determine which type of ```join``` we will perform on a dataframe."
      ]
    },
    {
      "cell_type": "markdown",
      "metadata": {
        "id": "YAD5e2S_0CQd",
        "colab_type": "text"
      },
      "source": [
        "#### Merge - How Example:\n",
        "\n",
        "We can merge ```emp``` that has weekly salary information and ```companies``` that has the name of the company each person works for.\n",
        "\n",
        "The code below will return a dataframe of two merged objects."
      ]
    },
    {
      "cell_type": "code",
      "metadata": {
        "id": "0qnYEftW0CQd",
        "colab_type": "code",
        "colab": {}
      },
      "source": [
        "pd.merge(emp, companies)"
      ],
      "execution_count": null,
      "outputs": []
    },
    {
      "cell_type": "markdown",
      "metadata": {
        "id": "KrbtpOqc0CQe",
        "colab_type": "text"
      },
      "source": [
        "Yay, it worked! \n",
        "\n",
        "We dropped the rows from ```emp``` where employee's weekly salary is less than $2000, so the updated ```emp``` has 3 entities.\n",
        "\n",
        "By default, ```merge``` performs ```inner join``` and that's why it's showing less number of rows than ```companies``` dataframe."
      ]
    },
    {
      "cell_type": "markdown",
      "metadata": {
        "id": "2ZEQ0cfk0CQe",
        "colab_type": "text"
      },
      "source": [
        "Now, let's try ```right_join``` and see how it works!"
      ]
    },
    {
      "cell_type": "code",
      "metadata": {
        "id": "1POr2AKk0CQf",
        "colab_type": "code",
        "colab": {}
      },
      "source": [
        "pd.merge(emp, companies, how='right')"
      ],
      "execution_count": null,
      "outputs": []
    },
    {
      "cell_type": "markdown",
      "metadata": {
        "id": "dvljcD200CQg",
        "colab_type": "text"
      },
      "source": [
        "As our right dataframe is ```companies``` with 8 entities, it shows all of the 8 employees in ```companies``` dataframe.\n",
        "\n",
        "But, as we've dropped the rows that do not meet our salary expectation in ```emp```, the result of ```right_join``` is missing ```Age```, ```Hourly Wage```, ```Hours per week```, etc for some employees."
      ]
    },
    {
      "cell_type": "markdown",
      "metadata": {
        "id": "Pu0oR6t80CQg",
        "colab_type": "text"
      },
      "source": [
        "#### Merge - On, left_on, right_on\n",
        "\n",
        "```on```, ```left_on```, and ```right_on``` indicate a column or index level names to join on.\n",
        "\n",
        "- ```on``` is used when the same column name exists in both dataframes.\n",
        "- ```left_on``` and ```right_on``` is used when the column names are different in two dataframes."
      ]
    },
    {
      "cell_type": "markdown",
      "metadata": {
        "id": "2gsZhJnY0CQg",
        "colab_type": "text"
      },
      "source": [
        "#### Merge - On Example\n",
        "\n",
        "Let's join the two dataframes using common column names, ```First Name``` and ```Last Name```."
      ]
    },
    {
      "cell_type": "code",
      "metadata": {
        "id": "pcsJaWSD0CQh",
        "colab_type": "code",
        "colab": {}
      },
      "source": [
        "pd.merge(emp, companies, on=['First Name', 'Last Name'])"
      ],
      "execution_count": null,
      "outputs": []
    },
    {
      "cell_type": "markdown",
      "metadata": {
        "id": "ah9bdDjq0CQi",
        "colab_type": "text"
      },
      "source": [
        "The resulting dataset shows three entities, since ```inner join``` was performed by default."
      ]
    },
    {
      "cell_type": "markdown",
      "metadata": {
        "id": "vYiUvudq0CQk",
        "colab_type": "text"
      },
      "source": [
        "#### Merge - left_on, right_on Example\n",
        "\n",
        "It might happen that the two dataframes we want to merge have different column names.\n",
        "In this case, we will have to specify the left column name and the right column name.\n",
        "\n",
        "Let's join the two dataframes using a different column name. \n",
        "\n",
        "- ```emp``` column name: ```Full Name``` \n",
        "- ```companies``` column name: ```Name```"
      ]
    },
    {
      "cell_type": "code",
      "metadata": {
        "id": "K7-RuyMv0CQk",
        "colab_type": "code",
        "colab": {}
      },
      "source": [
        "companies['Name'] = companies['First Name'] + ' ' + companies['Last Name']"
      ],
      "execution_count": null,
      "outputs": []
    },
    {
      "cell_type": "code",
      "metadata": {
        "colab_type": "code",
        "id": "lEZwlVLNBo8T",
        "scrolled": true,
        "colab": {}
      },
      "source": [
        "pd.merge(emp, companies, left_on='Full Name', right_on='Name')"
      ],
      "execution_count": null,
      "outputs": []
    },
    {
      "cell_type": "markdown",
      "metadata": {
        "id": "e5-HZ2_60CQm",
        "colab_type": "text"
      },
      "source": [
        "As mentioned earlier, by default, ```inner join``` has been applied and the resulting dataframe show 3 entities!"
      ]
    },
    {
      "cell_type": "markdown",
      "metadata": {
        "id": "gFrUh7pF0CQn",
        "colab_type": "text"
      },
      "source": [
        "In the result dataset, ```First Name_x``` is from the first table, which is ```emp``` while ```First Name_y``` is from the second table, which is ```companies```."
      ]
    },
    {
      "cell_type": "markdown",
      "metadata": {
        "id": "fNp-2S0K0CQn",
        "colab_type": "text"
      },
      "source": [
        "#### Merge - Suffixes\n",
        "\n",
        "Suffixes indicate the suffix to add to overlapping column names in left and right respectively.\n",
        "\n",
        "In the previous example, by default, suffixes ```_x``` and ```_y``` were added respectively.\n",
        "\n",
        "We can specify suffixes by setting ```suffixes=[]```."
      ]
    },
    {
      "cell_type": "markdown",
      "metadata": {
        "id": "3o0ElyXi0CQo",
        "colab_type": "text"
      },
      "source": [
        "#### Merge - Suffixes Example\n",
        "\n",
        "Let's add ```_1``` to the first dataframe and ```_2``` to the second dataframe."
      ]
    },
    {
      "cell_type": "code",
      "metadata": {
        "id": "profqndZ0CQo",
        "colab_type": "code",
        "colab": {}
      },
      "source": [
        "pd.merge(emp, companies, left_on='Full Name', right_on='Name', suffixes=['_1', '_2'])"
      ],
      "execution_count": null,
      "outputs": []
    },
    {
      "cell_type": "markdown",
      "metadata": {
        "id": "zPhWCar60CQp",
        "colab_type": "text"
      },
      "source": [
        "Since inner join was performed, only 3 common entities show up and there's actually no need to indicate ```_1``` or ```_2```.\n",
        "\n",
        "Let's try right join and see how dataframe looks different!"
      ]
    },
    {
      "cell_type": "code",
      "metadata": {
        "id": "aDnCCvL80CQq",
        "colab_type": "code",
        "colab": {}
      },
      "source": [
        "pd.merge(emp, companies, how = 'right', left_on='Full Name', right_on='Name', suffixes=['_emp', '_companies'])"
      ],
      "execution_count": null,
      "outputs": []
    },
    {
      "cell_type": "markdown",
      "metadata": {
        "id": "WP7db4MS0CQr",
        "colab_type": "text"
      },
      "source": [
        "Because we specified right join, it shows all of the entities from ```companies``` dataframe and matching entities from ```emp``` dataframe.\n",
        "\n",
        "The ```First Name_emp``` and ```Last Name_emp``` show three entities only while ```First Name_companies``` and ```Last Name_companies``` show all entities!"
      ]
    },
    {
      "cell_type": "markdown",
      "metadata": {
        "id": "x8LMTMU20CQr",
        "colab_type": "text"
      },
      "source": [
        "### 2. Join"
      ]
    },
    {
      "cell_type": "markdown",
      "metadata": {
        "id": "NiRghqWC0CQr",
        "colab_type": "text"
      },
      "source": [
        "These are the parameters we can use when we merge two dataframes.\n",
        "\n",
        "```DataFrame.join(other, on=None, how='left', lsuffix='', rsuffix='', sort=False)```\n",
        "\n",
        "- other: DataFrame, Series, or list of DataFrame to join\n",
        "- on: Column or index level names to join on the index in other. These must be found in both DataFrames.\n",
        "- how: {‘inner’, ‘left’, ‘right’, ‘outer’}, default ‘inner’\n",
        "- lsuffix: Suffix to use from left frame’s overlapping columns.\n",
        "- rsuffix: Suffix to use from right frame’s overlapping columns.\n",
        "\n",
        "We have covered ```on``` and ```how``` in detail in ```merge```.\n",
        "\n",
        "So, we will try one example of ```join``` using ```lsuffix``` and ```rsuffix```.\n",
        "\n",
        "#### Join - lsuffix and rsuffix\n",
        "\n",
        "This is similar to ```suffixes``` in ```merge```."
      ]
    },
    {
      "cell_type": "code",
      "metadata": {
        "colab_type": "code",
        "id": "WYdob--7RQVe",
        "colab": {}
      },
      "source": [
        "emp.join(companies, lsuffix='_1', rsuffix='_2')"
      ],
      "execution_count": null,
      "outputs": []
    },
    {
      "cell_type": "markdown",
      "metadata": {
        "colab_type": "text",
        "id": "B0U4y6QmP16K"
      },
      "source": [
        "## Practical Exercise - Flight delay data \n",
        "\n",
        "https://www.kaggle.com/divyansh22/flight-delay-prediction\n",
        "\n",
        "Now, we will dive into a more complicated data analysis using Pandas."
      ]
    },
    {
      "cell_type": "markdown",
      "metadata": {
        "colab_type": "text",
        "id": "ps1EtT8PV7Ud"
      },
      "source": [
        "<img src=\"https://github.com/bitprj/DigitalHistory/blob/Narae/Week6-Advanced-Data-Wrangling-using-Pandas/assets/icons/flight.jpg?raw=1\" width=\"300\" align=\"right\"> \n",
        "\n",
        "This dataset is the flight delay prediction for the month of January. \n",
        "\n",
        "This data is collected from the Bureau of Transportation Statistics, Govt. of the USA. This data is open-sourced under U.S. Govt. Works. This dataset contains all the flights in the month of January 2020. There are more than 400,000 flights in the month of January itself throughout the United States. The features were manually chosen to do a primary time series analysis. There are several other features available on their website.\n",
        "\n",
        "This data could well be used to predict the flight delay at the destination airport specifically for the month of January in upcoming years as the data is for January only."
      ]
    },
    {
      "cell_type": "code",
      "metadata": {
        "id": "KK32nt5w0CQt",
        "colab_type": "code",
        "colab": {}
      },
      "source": [
        "url = 'https://raw.githubusercontent.com/bitprj/DigitalHistory/master/Week6-Advanced-Data-Wrangling-using-Pandas/data/Jan_2020_ontime.csv'\n",
        "df = pd.read_csv(url)\n",
        "df"
      ],
      "execution_count": null,
      "outputs": []
    },
    {
      "cell_type": "markdown",
      "metadata": {
        "id": "wQeTRO4o0CQu",
        "colab_type": "text"
      },
      "source": [
        "As always, the first thing we need to do is get an idea of what data looks like!\n",
        "We can call three functions here:\n",
        "- head()\n",
        "- describe()\n",
        "- info()"
      ]
    },
    {
      "cell_type": "code",
      "metadata": {
        "id": "Nil_q25V0CQv",
        "colab_type": "code",
        "colab": {}
      },
      "source": [
        "df"
      ],
      "execution_count": null,
      "outputs": []
    },
    {
      "cell_type": "code",
      "metadata": {
        "id": "TphDWgQ10CQy",
        "colab_type": "code",
        "colab": {}
      },
      "source": [
        "df.head()"
      ],
      "execution_count": null,
      "outputs": []
    },
    {
      "cell_type": "code",
      "metadata": {
        "id": "hpQfu_U50CQz",
        "colab_type": "code",
        "colab": {}
      },
      "source": [
        "df.describe()"
      ],
      "execution_count": null,
      "outputs": []
    },
    {
      "cell_type": "code",
      "metadata": {
        "id": "4u2bwo9g0CQ0",
        "colab_type": "code",
        "colab": {}
      },
      "source": [
        "df.info()"
      ],
      "execution_count": null,
      "outputs": []
    },
    {
      "cell_type": "markdown",
      "metadata": {
        "id": "7EyQRDfN0CQ2",
        "colab_type": "text"
      },
      "source": [
        "### Columns to use:\n",
        "- Day_of_week: Day of Week starting from Monday\n",
        "  - Ex: Monday = 1, Sunday = 7\n",
        "- Op_unique_carrier: Unique Carrier Code (DL, WN, AA, 9E, OO, etc.)\n",
        "- Origin: Origin Airport (JFK, ATL, SFO, LAX, etc.)\n",
        "- Dest: Destination Airport (JFK, ATL, SFO, LAX, etc.)\n",
        "- Dep_time: Actual Departure Time (local time: hhmm)\n",
        "  - Ex: 1848 is 18:48 in local time\n",
        "- Dep_del15: Departure Delay Indicator, 15 Minutes or More (1=Yes, 0=No)\n",
        "- Arr_time: Actual Arrival Time (local time: hhmm)\n",
        "- Arr_del15: Arrival Delay Indicator, 15 Minutes or More (1=Yes, 0=No)\n",
        "- Cancelled: Cancelled Flight Indicator (1=Yes, 0=No)\n",
        "- Diverted: Diverted Flight Indicator (1=Yes, 0=No)\n",
        "- Distance: Distance between airports (miles)"
      ]
    },
    {
      "cell_type": "markdown",
      "metadata": {
        "id": "H2XBO3KI0CQ2",
        "colab_type": "text"
      },
      "source": [
        "We are going to select the columns to use using ```[]```."
      ]
    },
    {
      "cell_type": "code",
      "metadata": {
        "id": "WJsEhOU-0CQ3",
        "colab_type": "code",
        "colab": {}
      },
      "source": [
        "flight = df[[\"DAY_OF_WEEK\", \"OP_UNIQUE_CARRIER\", \"ORIGIN\", \"DEST\", \"DEP_TIME\", \"DEP_DEL15\", \"ARR_TIME\", \"ARR_DEL15\", \"CANCELLED\", \"DIVERTED\", \"DISTANCE\"]]\n",
        "flight"
      ],
      "execution_count": null,
      "outputs": []
    },
    {
      "cell_type": "markdown",
      "metadata": {
        "id": "f3kHRbal0CQ4",
        "colab_type": "text"
      },
      "source": [
        "### 6.0 - Now Try This\n",
        "\n",
        "Let's retrieve unique airline codes (```OP_UNIQUE_CARRIER```) from the dataframe."
      ]
    },
    {
      "cell_type": "code",
      "metadata": {
        "id": "q4m29u670CQ4",
        "colab_type": "code",
        "colab": {}
      },
      "source": [
        ""
      ],
      "execution_count": null,
      "outputs": []
    },
    {
      "cell_type": "markdown",
      "metadata": {
        "id": "MaQgw8X20CQ5",
        "colab_type": "text"
      },
      "source": [
        "**Q: We know DL (Delta Air Lines), AA (American Airlines) and a few more major airlines. But, do we know all of the unique carrier codes?**\n",
        "\n",
        "**A: No, we don't! Let's add airline names from another dataset!**"
      ]
    },
    {
      "cell_type": "markdown",
      "metadata": {
        "colab_type": "text",
        "id": "5yViNs4jEJ1R"
      },
      "source": [
        "### Join datasets\n",
        "- ```flight``` dataframe has ```OP_UNIQUE_CARRIER```, but it is missing airline names.\n",
        "- ```airline_names.xlsx``` has airline codes as well as airline names.\n",
        "\n",
        "Let's join ```flight``` dataframe with ```airline_names.xlsx``` to get airline names."
      ]
    },
    {
      "cell_type": "code",
      "metadata": {
        "colab_type": "code",
        "id": "ieQhohRGP1mz",
        "colab": {}
      },
      "source": [
        "url = 'https://raw.githubusercontent.com/bitprj/DigitalHistory/master/Week6-Advanced-Data-Wrangling-using-Pandas/data/airline_names.xlsx'\n",
        "airline = pd.read_excel(url)\n",
        "airline"
      ],
      "execution_count": null,
      "outputs": []
    },
    {
      "cell_type": "markdown",
      "metadata": {
        "id": "glTUeQWM0CQ7",
        "colab_type": "text"
      },
      "source": [
        "### 7.0 - Now Try This\n",
        "\n",
        "- Use ```merge``` function to join ```airline``` dataframe to ```flight``` dataframe.\n",
        "- Name the resulting dataframe as ```flight_airline```.\n",
        "- Print ```flight_airline``` and make sure that this dataframe has airline codes AND airline names!\n",
        "\n",
        "(Hint: what are the common column names between two dataframes? Are the column names same?)"
      ]
    },
    {
      "cell_type": "code",
      "metadata": {
        "id": "8Q-t1uXi0CQ7",
        "colab_type": "code",
        "colab": {}
      },
      "source": [
        ""
      ],
      "execution_count": null,
      "outputs": []
    },
    {
      "cell_type": "markdown",
      "metadata": {
        "id": "9RjxjeaL0CQ8",
        "colab_type": "text"
      },
      "source": [
        "Now, ```flight_airline``` dataframe has all of the delay, cancellation info as well as airline codes and names!"
      ]
    },
    {
      "cell_type": "markdown",
      "metadata": {
        "id": "uIXx0V6n0CQ8",
        "colab_type": "text"
      },
      "source": [
        "## Groupby\n",
        "- Which airlines experience most delays? (# delays by airline)\n",
        "- Which day of the week experiences most delays? (# delays by the day of a week)\n",
        "- What origins experience most delays? (# delays by origin)"
      ]
    },
    {
      "cell_type": "markdown",
      "metadata": {
        "id": "p6va7VTD0CQ8",
        "colab_type": "text"
      },
      "source": [
        "### Which airlines experience most delays?\n",
        "\n",
        "This question can be reworded as \"# of delays by airline\"\n",
        "\n",
        "We can use ```groupby``` function to get the number of delays by each airline!"
      ]
    },
    {
      "cell_type": "code",
      "metadata": {
        "id": "W_JZxN3i0CQ9",
        "colab_type": "code",
        "colab": {}
      },
      "source": [
        "flight_airline.groupby(['carrier','carrier_name'])['DEP_DEL15'].sum().sort_values(ascending=False)"
      ],
      "execution_count": null,
      "outputs": []
    },
    {
      "cell_type": "markdown",
      "metadata": {
        "id": "5XN2Zyry0CQ9",
        "colab_type": "text"
      },
      "source": [
        "If the threshold is 10,000 delays in January, it seems that WN, AA, OO are top three airlines that experience most delays.\n",
        "But often times, passengers would care more about **arrival on time** and that's what airline industries focus more."
      ]
    },
    {
      "cell_type": "markdown",
      "metadata": {
        "colab_type": "text",
        "id": "OXzMGcoqEX0_"
      },
      "source": [
        "### 8.0 - Now Try This\n",
        "\n",
        "Calculate sum of ARR_DEL15 using the groupby function and sort the dataset in a descending order."
      ]
    },
    {
      "cell_type": "code",
      "metadata": {
        "id": "o0rz3Zyq0CQ-",
        "colab_type": "code",
        "colab": {}
      },
      "source": [
        ""
      ],
      "execution_count": null,
      "outputs": []
    },
    {
      "cell_type": "markdown",
      "metadata": {
        "id": "fADHuHfH0CQ_",
        "colab_type": "text"
      },
      "source": [
        "If we use the same threshold of 10,000 delays, AA, OO, OH, and WN are airlines that experience most delays in regards to **arrival**.\n",
        "\n",
        "We've found the top airlines with most delays but this result does not take into account \"Total number of flights.\"\n",
        "\n",
        "So, it will be more accurate if we can find the percentage of delayed flights for each airline.\n",
        "\n",
        "```delayed flight % = (delayed flights) / (total flights)```\n",
        "\n",
        "Let's calculate **delayed flight %**!"
      ]
    },
    {
      "cell_type": "code",
      "metadata": {
        "id": "2HIIUeCS0CQ_",
        "colab_type": "code",
        "colab": {}
      },
      "source": [
        "# this code returns the total number of flights\n",
        "flight_airline.groupby(['carrier','carrier_name'])['ARR_DEL15'].count()"
      ],
      "execution_count": null,
      "outputs": []
    },
    {
      "cell_type": "markdown",
      "metadata": {
        "id": "8heWqzW60CRA",
        "colab_type": "text"
      },
      "source": [
        "Using this formula, ```delayed flight % = (delayed flights) / (total flights)```\n",
        "\n",
        "we will divide the number of delayed flights by total flights."
      ]
    },
    {
      "cell_type": "code",
      "metadata": {
        "id": "vOFbl51k0CRA",
        "colab_type": "code",
        "colab": {}
      },
      "source": [
        "# this code returns the percentage of delayed flights of each airline.\n",
        "flight_airline.groupby(['carrier','carrier_name'])['ARR_DEL15'].sum() / flight_airline.groupby(['carrier','carrier_name'])['ARR_DEL15'].count()"
      ],
      "execution_count": null,
      "outputs": []
    },
    {
      "cell_type": "markdown",
      "metadata": {
        "id": "RgGAaRU40CRC",
        "colab_type": "text"
      },
      "source": [
        "Now, in order to see the top airlines with highest delay percentages, let's sort the result in a descending order!"
      ]
    },
    {
      "cell_type": "code",
      "metadata": {
        "id": "40bXbyo20CRC",
        "colab_type": "code",
        "colab": {}
      },
      "source": [
        "# sort_values(ascending = False) has been added\n",
        "(flight_airline.groupby(['carrier','carrier_name'])['ARR_DEL15'].sum() / flight_airline.groupby(['carrier','carrier_name'])['ARR_DEL15'].count()).sort_values(ascending = False)"
      ],
      "execution_count": null,
      "outputs": []
    },
    {
      "cell_type": "markdown",
      "metadata": {
        "id": "vl9PgKts0CRF",
        "colab_type": "text"
      },
      "source": [
        "Tada, we've come up with a completely different result!\n",
        "\n",
        "OH, AS, G4 airlines have highest delay percentages while 9E, DL, HA, WN have reletively low delay percentages."
      ]
    },
    {
      "cell_type": "markdown",
      "metadata": {
        "id": "EQeKocKP0CRF",
        "colab_type": "text"
      },
      "source": [
        "#### agg()\n",
        "\n",
        "The code above is correct but it's very lengthy because we calculate ```sum()``` and ```count()``` separately.\n",
        "\n",
        "We will learn a shortcut to calculate multiple aggregate functions using ```agg()``` argument.\n",
        "\n",
        "Everything remains same, except that we replace ```sum()``` or ```count()``` with ```agg(['sum','count'])```."
      ]
    },
    {
      "cell_type": "code",
      "metadata": {
        "id": "68XXx5k30CRF",
        "colab_type": "code",
        "colab": {}
      },
      "source": [
        "new_df = flight_airline.groupby(['carrier','carrier_name'])['ARR_DEL15'].agg(['sum','count'])\n",
        "new_df"
      ],
      "execution_count": null,
      "outputs": []
    },
    {
      "cell_type": "markdown",
      "metadata": {
        "id": "VQBZrOKd0CRH",
        "colab_type": "text"
      },
      "source": [
        "Now, ```new_df``` has columns: ```carrier```, ```carrier_name```, ```sum```, and ```count```.\n",
        "\n",
        "We will create another column called ```delay %``` using sum and count columns!"
      ]
    },
    {
      "cell_type": "code",
      "metadata": {
        "id": "-ErieWmF0CRI",
        "colab_type": "code",
        "colab": {}
      },
      "source": [
        "new_df['delay %'] = new_df['sum'] / new_df['count']"
      ],
      "execution_count": null,
      "outputs": []
    },
    {
      "cell_type": "code",
      "metadata": {
        "id": "5H6emRkD0CRJ",
        "colab_type": "code",
        "colab": {}
      },
      "source": [
        "new_df"
      ],
      "execution_count": null,
      "outputs": []
    },
    {
      "cell_type": "markdown",
      "metadata": {
        "id": "pZHsTRxC0CRK",
        "colab_type": "text"
      },
      "source": [
        "Tada! We've successfully added a ```delay %``` column! Let's sort the dataframe in a descending order to find out airlines with highest delay %!"
      ]
    },
    {
      "cell_type": "code",
      "metadata": {
        "id": "kQw0G1cN0CRK",
        "colab_type": "code",
        "colab": {}
      },
      "source": [
        "new_df.sort_values(by=['delay %'], ascending=False)"
      ],
      "execution_count": null,
      "outputs": []
    },
    {
      "cell_type": "markdown",
      "metadata": {
        "id": "PiEIqCWp0CRL",
        "colab_type": "text"
      },
      "source": [
        "### Which day of the week experiences most delays? \n",
        "\n",
        "Let's find out which day of the week experiences most delays!\n",
        "\n",
        "In the data world, this question can be answered if we can find ```# delays by the day of a week```."
      ]
    },
    {
      "cell_type": "markdown",
      "metadata": {
        "id": "9OJp0_SM0CRM",
        "colab_type": "text"
      },
      "source": [
        "To answer this question, we can use groupby function, but should we use ```sum```? ```count```? or ```mean```?\n",
        "\n",
        "- ```sum```: The first thing that came to my mind is that we can use ```sum```. But similar to the question above, each day of a week has a different number of flights each day. (Ex: there would be more flights scheduled on weekends.) ```Sum``` is not the most appropriate function to use here.\n",
        "\n",
        "\n",
        "- ```count```: We can count the number of flights and divide ```sum(delayed flights)``` by ```count``` (similar to what we just did)\n",
        "\n",
        "\n",
        "- ```mean```: What if we use ```mean```? We can get the average delay percentage of each day and this is what we are looking for!\n",
        "\n"
      ]
    },
    {
      "cell_type": "code",
      "metadata": {
        "id": "dE8eGUoC0CRM",
        "colab_type": "code",
        "colab": {}
      },
      "source": [
        "flight_airline.groupby(['DAY_OF_WEEK'])['ARR_DEL15'].mean()"
      ],
      "execution_count": null,
      "outputs": []
    },
    {
      "cell_type": "markdown",
      "metadata": {
        "id": "YdvCrD5L0CRN",
        "colab_type": "text"
      },
      "source": [
        "To confirm that ```mean``` returns same value as ```sum / count```, let's check ```sum / count``` real quick."
      ]
    },
    {
      "cell_type": "code",
      "metadata": {
        "id": "W6Q0BqNp0CRN",
        "colab_type": "code",
        "colab": {}
      },
      "source": [
        "flight_airline.groupby(['DAY_OF_WEEK'])['ARR_DEL15'].sum() / flight_airline.groupby(['DAY_OF_WEEK'])['ARR_DEL15'].count()"
      ],
      "execution_count": null,
      "outputs": []
    },
    {
      "cell_type": "markdown",
      "metadata": {
        "id": "IKwpSxXx0CRO",
        "colab_type": "text"
      },
      "source": [
        "Yay! It returns same answer as above!\n",
        "\n",
        "Saturday has the highest delay percentage while Wednesday has the lowest delay percentage!"
      ]
    },
    {
      "cell_type": "markdown",
      "metadata": {
        "id": "McJu7mvd0CRO",
        "colab_type": "text"
      },
      "source": [
        "### What origins experience most delays? \n",
        "\n",
        "Let's find out what origins experience most delays?\n",
        "\n",
        "Knowing this might help when we book a flight later! :)\n",
        "\n",
        "Since we are dealing with **Origin** airport this time, it's appropriate to use ```DEP_DEL15```"
      ]
    },
    {
      "cell_type": "code",
      "metadata": {
        "id": "4bQ_N51P0CRO",
        "colab_type": "code",
        "colab": {}
      },
      "source": [
        "flight_airline.groupby(['ORIGIN'])['DEP_DEL15'].mean()"
      ],
      "execution_count": null,
      "outputs": []
    },
    {
      "cell_type": "code",
      "metadata": {
        "scrolled": true,
        "id": "WJkuxUFB0CRP",
        "colab_type": "code",
        "colab": {}
      },
      "source": [
        "flight_airline.groupby(['ORIGIN'])['DEP_DEL15'].mean().sort_values(ascending=False)"
      ],
      "execution_count": null,
      "outputs": []
    },
    {
      "cell_type": "markdown",
      "metadata": {
        "id": "SgomwWI00CRQ",
        "colab_type": "text"
      },
      "source": [
        "This resulting Series show Origin airports and the corresponding delay %.\n",
        "\n",
        "Since we don't know all of the airport names from the codes, we can join this Series to the dataset that has airport codes and airport names."
      ]
    },
    {
      "cell_type": "markdown",
      "metadata": {
        "id": "h7ZqEHep0CRR",
        "colab_type": "text"
      },
      "source": [
        "## Filtering based on condition\n",
        "\n",
        "- Which airports have delay percentages of 30% or more?"
      ]
    },
    {
      "cell_type": "markdown",
      "metadata": {
        "id": "oOQMfGUN0CRR",
        "colab_type": "text"
      },
      "source": [
        "### Which origin airports have delay percentages of 30% or more?\n",
        "\n",
        "```airline_delay_causes.csv``` has lots of useful information, but we will extract airport codes and airport names only."
      ]
    },
    {
      "cell_type": "code",
      "metadata": {
        "id": "SOo3d97D0CRR",
        "colab_type": "code",
        "colab": {}
      },
      "source": [
        "url = 'https://raw.githubusercontent.com/bitprj/DigitalHistory/master/Week6-Advanced-Data-Wrangling-using-Pandas/data/airline_delay_causes.csv'\n",
        "airport_codes = pd.read_csv(url)\n",
        "airport_codes"
      ],
      "execution_count": null,
      "outputs": []
    },
    {
      "cell_type": "code",
      "metadata": {
        "scrolled": true,
        "id": "UsLRH_7j0CRS",
        "colab_type": "code",
        "colab": {}
      },
      "source": [
        "airport_codes.head()"
      ],
      "execution_count": null,
      "outputs": []
    },
    {
      "cell_type": "markdown",
      "metadata": {
        "id": "OcCDAdf30CRT",
        "colab_type": "text"
      },
      "source": [
        "### 9.0 - Now Try This\n",
        "\n",
        "- Using ```drop_duplicates()``` function, find a unique set of airport codes and airport names \n",
        "- Save the dataframe as ```airport_names```."
      ]
    },
    {
      "cell_type": "code",
      "metadata": {
        "id": "DSJH22M60CRT",
        "colab_type": "code",
        "colab": {}
      },
      "source": [
        ""
      ],
      "execution_count": null,
      "outputs": []
    },
    {
      "cell_type": "markdown",
      "metadata": {
        "id": "9j5pmXZW0CRV",
        "colab_type": "text"
      },
      "source": [
        "The Series below is what we have found earlier -- delay % by each origin airport."
      ]
    },
    {
      "cell_type": "code",
      "metadata": {
        "id": "V4wPoeMt0CRV",
        "colab_type": "code",
        "colab": {}
      },
      "source": [
        "series = flight_airline.groupby(['ORIGIN'])['DEP_DEL15'].mean().sort_values(ascending=False)"
      ],
      "execution_count": null,
      "outputs": []
    },
    {
      "cell_type": "markdown",
      "metadata": {
        "id": "Xs38709E0CRW",
        "colab_type": "text"
      },
      "source": [
        "Let's convert the result of groupby aggregation to ```DataFrame``` using ```to_frame()``` function."
      ]
    },
    {
      "cell_type": "code",
      "metadata": {
        "id": "gXBx0vf70CRW",
        "colab_type": "code",
        "colab": {}
      },
      "source": [
        "origin_delays = series.to_frame()"
      ],
      "execution_count": null,
      "outputs": []
    },
    {
      "cell_type": "code",
      "metadata": {
        "scrolled": true,
        "id": "3DtPp9Kw0CRZ",
        "colab_type": "code",
        "colab": {}
      },
      "source": [
        "origin_delays"
      ],
      "execution_count": null,
      "outputs": []
    },
    {
      "cell_type": "markdown",
      "metadata": {
        "id": "pYw6-Lfn0CRa",
        "colab_type": "text"
      },
      "source": [
        "Now, let's take a closer look at the question and break it down to smaller subproblems!\n",
        "\n",
        "**Which airports have delay percentages of 30% or more?**\n",
        "1. Find airport codes with a delay percentage greater than 30%.\n",
        "2. Join the resulting dataframe to ```airport_names``` to get airport names."
      ]
    },
    {
      "cell_type": "code",
      "metadata": {
        "id": "G_ekDMip0CRa",
        "colab_type": "code",
        "colab": {}
      },
      "source": [
        "airports_most_delays = origin_delays[origin_delays['DEP_DEL15'] > 0.3]\n",
        "airports_most_delays"
      ],
      "execution_count": null,
      "outputs": []
    },
    {
      "cell_type": "code",
      "metadata": {
        "id": "CT8eV09b0CRe",
        "colab_type": "code",
        "colab": {}
      },
      "source": [
        "pd.merge(airports_most_delays, airport_names, left_on=\"ORIGIN\", right_on = \"airport\")"
      ],
      "execution_count": null,
      "outputs": []
    },
    {
      "cell_type": "markdown",
      "metadata": {
        "id": "lWrU2P5Y0CRf",
        "colab_type": "text"
      },
      "source": [
        "We've found that ADK, OTH, OGD, PPG, and ASE have highest delay percentages in the US!"
      ]
    },
    {
      "cell_type": "markdown",
      "metadata": {
        "id": "9o8mzIKl0CRf",
        "colab_type": "text"
      },
      "source": [
        "### Pop-up Question\n",
        "\n",
        "What if we want to find the delay percentage of a specific airport?\n",
        "\n",
        "Then we can select the origin airport code by using ```df[df[column_name]==\"ABC\"]```\n",
        "\n",
        "Let's check out the delay % of San Francisco airport."
      ]
    },
    {
      "cell_type": "code",
      "metadata": {
        "id": "rPv9gXuH0CRg",
        "colab_type": "code",
        "colab": {}
      },
      "source": [
        "origin_delays[origin_delays['ORIGIN'] == 'SFO']"
      ],
      "execution_count": null,
      "outputs": []
    },
    {
      "cell_type": "markdown",
      "metadata": {
        "id": "Nacb57AS0CRg",
        "colab_type": "text"
      },
      "source": [
        "The code above did not work! Why? It's because ```ORIGIN``` is not a column, but an index.\n",
        "\n",
        "In the case where our selected column is an index, we can use ```index``` to select the index."
      ]
    },
    {
      "cell_type": "code",
      "metadata": {
        "id": "WleHNiBM0CRg",
        "colab_type": "code",
        "colab": {}
      },
      "source": [
        "origin_delays[origin_delays.index == 'SFO']"
      ],
      "execution_count": null,
      "outputs": []
    },
    {
      "cell_type": "markdown",
      "metadata": {
        "colab_type": "text",
        "id": "9a-7yxHADB1D"
      },
      "source": [
        "## Resources\n",
        "- [Python Pandas Series](https://www.geeksforgeeks.org/python-pandas-series/)\n",
        "- [Pandas API Reference Merge](https://pandas.pydata.org/pandas-docs/stable/reference/api/pandas.DataFrame.merge.html)\n",
        "- [Join types](https://www.codespot.org/sql-join/)\n",
        "- [Flight Delay Prediction data](https://www.kaggle.com/divyansh22/flight-delay-prediction)\n",
        "- [Airline Delay Causes](https://www.kaggle.com/anshuls235/airline-delay-causes)"
      ]
    },
    {
      "cell_type": "markdown",
      "metadata": {
        "id": "ggwK2T5Y0CRh",
        "colab_type": "text"
      },
      "source": [
        "## Homework\n",
        "1. Find out five largest airlines by the number of flights in January\n",
        "2. Calculate cancellation percentages of the top 5 airlines\n",
        "3. Find out the percentage of flights that managed to arrive within 15 minutes even though the flight departed more than 15 minutes past scheduled departure time (Hint: you may use ```DEP_DEL15 == 1``` and ```ARR_DEL15 == 0```)\n",
        "4. Convert categorical column (airline code / name) to numerical column and plot data visualizations for each airline\n"
      ]
    },
    {
      "cell_type": "code",
      "metadata": {
        "id": "Q8cYtmYP0CRh",
        "colab_type": "code",
        "colab": {}
      },
      "source": [
        ""
      ],
      "execution_count": null,
      "outputs": []
    }
  ]
}