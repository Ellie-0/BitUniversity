{
  "nbformat": 4,
  "nbformat_minor": 0,
  "metadata": {
    "kernelspec": {
      "display_name": "Python 3",
      "language": "python",
      "name": "python3"
    },
    "language_info": {
      "codemirror_mode": {
        "name": "ipython",
        "version": 3
      },
      "file_extension": ".py",
      "mimetype": "text/x-python",
      "name": "python",
      "nbconvert_exporter": "python",
      "pygments_lexer": "ipython3",
      "version": "3.7.4"
    },
    "colab": {
      "name": "Week6-Homework.ipynb",
      "provenance": [],
      "include_colab_link": true
    }
  },
  "cells": [
    {
      "cell_type": "markdown",
      "metadata": {
        "id": "view-in-github",
        "colab_type": "text"
      },
      "source": [
        "<a href=\"https://colab.research.google.com/github/bitprj/DigitalHistory/blob/master/Week6-Advanced-Data-Wrangling-using-Pandas/Homework/Week6-Homework.ipynb\" target=\"_parent\"><img src=\"https://colab.research.google.com/assets/colab-badge.svg\" alt=\"Open In Colab\"/></a>"
      ]
    },
    {
      "cell_type": "markdown",
      "metadata": {
        "id": "IWB94R840Ldw",
        "colab_type": "text"
      },
      "source": [
        "## <div align = \"center\">Homework 6</div>\n",
        "# <div align = \"center\">Flight Delay Data</div>"
      ]
    },
    {
      "cell_type": "markdown",
      "metadata": {
        "id": "iBfHB3KG0Ldx",
        "colab_type": "text"
      },
      "source": [
        "**Welcome to Homework 6!** In this homework you will be using techniques you learned through Week 6. The purpose of this homework for you to do data manipulation with ```Pandas``` and to express your observations. \n",
        "\n",
        "Feel free to refer back to week 6 tutorial notebook and ask questions on Piazza!"
      ]
    },
    {
      "cell_type": "markdown",
      "metadata": {
        "id": "-sVyHy3f0Ldx",
        "colab_type": "text"
      },
      "source": [
        "### Grading\n",
        "\n",
        "There are a total of 12 questions and each question is worth 1-5 points."
      ]
    },
    {
      "cell_type": "markdown",
      "metadata": {
        "id": "gbnRlA210Ldy",
        "colab_type": "text"
      },
      "source": [
        "### Import library"
      ]
    },
    {
      "cell_type": "code",
      "metadata": {
        "id": "TUnD0j790Ldy",
        "colab_type": "code",
        "colab": {}
      },
      "source": [
        "import pandas as pd"
      ],
      "execution_count": null,
      "outputs": []
    },
    {
      "cell_type": "markdown",
      "metadata": {
        "id": "Ydh8gSqJ0Ld1",
        "colab_type": "text"
      },
      "source": [
        "### Load file"
      ]
    },
    {
      "cell_type": "code",
      "metadata": {
        "id": "Buu-HN0z0Ld2",
        "colab_type": "code",
        "colab": {}
      },
      "source": [
        "url = 'https://raw.githubusercontent.com/bitprj/DigitalHistory/master/Week6-Advanced-Data-Wrangling-using-Pandas/data/Jan_2020_ontime.csv'\n",
        "df = pd.read_csv(url)\n",
        "\n",
        "\n",
        "url = 'https://raw.githubusercontent.com/bitprj/DigitalHistory/master/Week6-Advanced-Data-Wrangling-using-Pandas/data/airline_names.xlsx'\n",
        "airline = pd.read_excel(url)"
      ],
      "execution_count": null,
      "outputs": []
    },
    {
      "cell_type": "code",
      "metadata": {
        "id": "3R31CIZ10Ld4",
        "colab_type": "code",
        "colab": {},
        "outputId": "b271567f-554d-4d8f-bd9a-7bebccd729ae"
      },
      "source": [
        "df.head()"
      ],
      "execution_count": null,
      "outputs": [
        {
          "output_type": "execute_result",
          "data": {
            "text/html": [
              "<div>\n",
              "<style scoped>\n",
              "    .dataframe tbody tr th:only-of-type {\n",
              "        vertical-align: middle;\n",
              "    }\n",
              "\n",
              "    .dataframe tbody tr th {\n",
              "        vertical-align: top;\n",
              "    }\n",
              "\n",
              "    .dataframe thead th {\n",
              "        text-align: right;\n",
              "    }\n",
              "</style>\n",
              "<table border=\"1\" class=\"dataframe\">\n",
              "  <thead>\n",
              "    <tr style=\"text-align: right;\">\n",
              "      <th></th>\n",
              "      <th>DAY_OF_MONTH</th>\n",
              "      <th>DAY_OF_WEEK</th>\n",
              "      <th>OP_UNIQUE_CARRIER</th>\n",
              "      <th>OP_CARRIER_AIRLINE_ID</th>\n",
              "      <th>OP_CARRIER</th>\n",
              "      <th>TAIL_NUM</th>\n",
              "      <th>OP_CARRIER_FL_NUM</th>\n",
              "      <th>ORIGIN_AIRPORT_ID</th>\n",
              "      <th>ORIGIN_AIRPORT_SEQ_ID</th>\n",
              "      <th>ORIGIN</th>\n",
              "      <th>...</th>\n",
              "      <th>DEST</th>\n",
              "      <th>DEP_TIME</th>\n",
              "      <th>DEP_DEL15</th>\n",
              "      <th>DEP_TIME_BLK</th>\n",
              "      <th>ARR_TIME</th>\n",
              "      <th>ARR_DEL15</th>\n",
              "      <th>CANCELLED</th>\n",
              "      <th>DIVERTED</th>\n",
              "      <th>DISTANCE</th>\n",
              "      <th>Unnamed: 21</th>\n",
              "    </tr>\n",
              "  </thead>\n",
              "  <tbody>\n",
              "    <tr>\n",
              "      <td>0</td>\n",
              "      <td>1</td>\n",
              "      <td>3</td>\n",
              "      <td>EV</td>\n",
              "      <td>20366</td>\n",
              "      <td>EV</td>\n",
              "      <td>N48901</td>\n",
              "      <td>4397</td>\n",
              "      <td>13930</td>\n",
              "      <td>1393007</td>\n",
              "      <td>ORD</td>\n",
              "      <td>...</td>\n",
              "      <td>GRB</td>\n",
              "      <td>1003.0</td>\n",
              "      <td>0.0</td>\n",
              "      <td>1000-1059</td>\n",
              "      <td>1117.0</td>\n",
              "      <td>0.0</td>\n",
              "      <td>0.0</td>\n",
              "      <td>0.0</td>\n",
              "      <td>174.0</td>\n",
              "      <td>NaN</td>\n",
              "    </tr>\n",
              "    <tr>\n",
              "      <td>1</td>\n",
              "      <td>1</td>\n",
              "      <td>3</td>\n",
              "      <td>EV</td>\n",
              "      <td>20366</td>\n",
              "      <td>EV</td>\n",
              "      <td>N16976</td>\n",
              "      <td>4401</td>\n",
              "      <td>15370</td>\n",
              "      <td>1537002</td>\n",
              "      <td>TUL</td>\n",
              "      <td>...</td>\n",
              "      <td>ORD</td>\n",
              "      <td>1027.0</td>\n",
              "      <td>0.0</td>\n",
              "      <td>1000-1059</td>\n",
              "      <td>1216.0</td>\n",
              "      <td>0.0</td>\n",
              "      <td>0.0</td>\n",
              "      <td>0.0</td>\n",
              "      <td>585.0</td>\n",
              "      <td>NaN</td>\n",
              "    </tr>\n",
              "    <tr>\n",
              "      <td>2</td>\n",
              "      <td>1</td>\n",
              "      <td>3</td>\n",
              "      <td>EV</td>\n",
              "      <td>20366</td>\n",
              "      <td>EV</td>\n",
              "      <td>N12167</td>\n",
              "      <td>4404</td>\n",
              "      <td>11618</td>\n",
              "      <td>1161802</td>\n",
              "      <td>EWR</td>\n",
              "      <td>...</td>\n",
              "      <td>TYS</td>\n",
              "      <td>1848.0</td>\n",
              "      <td>0.0</td>\n",
              "      <td>1800-1859</td>\n",
              "      <td>2120.0</td>\n",
              "      <td>0.0</td>\n",
              "      <td>0.0</td>\n",
              "      <td>0.0</td>\n",
              "      <td>631.0</td>\n",
              "      <td>NaN</td>\n",
              "    </tr>\n",
              "    <tr>\n",
              "      <td>3</td>\n",
              "      <td>1</td>\n",
              "      <td>3</td>\n",
              "      <td>EV</td>\n",
              "      <td>20366</td>\n",
              "      <td>EV</td>\n",
              "      <td>N14902</td>\n",
              "      <td>4405</td>\n",
              "      <td>10781</td>\n",
              "      <td>1078105</td>\n",
              "      <td>BTR</td>\n",
              "      <td>...</td>\n",
              "      <td>IAH</td>\n",
              "      <td>1846.0</td>\n",
              "      <td>0.0</td>\n",
              "      <td>1800-1859</td>\n",
              "      <td>2004.0</td>\n",
              "      <td>0.0</td>\n",
              "      <td>0.0</td>\n",
              "      <td>0.0</td>\n",
              "      <td>253.0</td>\n",
              "      <td>NaN</td>\n",
              "    </tr>\n",
              "    <tr>\n",
              "      <td>4</td>\n",
              "      <td>1</td>\n",
              "      <td>3</td>\n",
              "      <td>EV</td>\n",
              "      <td>20366</td>\n",
              "      <td>EV</td>\n",
              "      <td>N606UX</td>\n",
              "      <td>4407</td>\n",
              "      <td>14524</td>\n",
              "      <td>1452401</td>\n",
              "      <td>RIC</td>\n",
              "      <td>...</td>\n",
              "      <td>IAH</td>\n",
              "      <td>1038.0</td>\n",
              "      <td>0.0</td>\n",
              "      <td>1000-1059</td>\n",
              "      <td>1330.0</td>\n",
              "      <td>0.0</td>\n",
              "      <td>0.0</td>\n",
              "      <td>0.0</td>\n",
              "      <td>1157.0</td>\n",
              "      <td>NaN</td>\n",
              "    </tr>\n",
              "  </tbody>\n",
              "</table>\n",
              "<p>5 rows × 22 columns</p>\n",
              "</div>"
            ],
            "text/plain": [
              "   DAY_OF_MONTH  DAY_OF_WEEK OP_UNIQUE_CARRIER  OP_CARRIER_AIRLINE_ID  \\\n",
              "0             1            3                EV                  20366   \n",
              "1             1            3                EV                  20366   \n",
              "2             1            3                EV                  20366   \n",
              "3             1            3                EV                  20366   \n",
              "4             1            3                EV                  20366   \n",
              "\n",
              "  OP_CARRIER TAIL_NUM  OP_CARRIER_FL_NUM  ORIGIN_AIRPORT_ID  \\\n",
              "0         EV   N48901               4397              13930   \n",
              "1         EV   N16976               4401              15370   \n",
              "2         EV   N12167               4404              11618   \n",
              "3         EV   N14902               4405              10781   \n",
              "4         EV   N606UX               4407              14524   \n",
              "\n",
              "   ORIGIN_AIRPORT_SEQ_ID ORIGIN  ...  DEST  DEP_TIME DEP_DEL15  DEP_TIME_BLK  \\\n",
              "0                1393007    ORD  ...   GRB    1003.0       0.0     1000-1059   \n",
              "1                1537002    TUL  ...   ORD    1027.0       0.0     1000-1059   \n",
              "2                1161802    EWR  ...   TYS    1848.0       0.0     1800-1859   \n",
              "3                1078105    BTR  ...   IAH    1846.0       0.0     1800-1859   \n",
              "4                1452401    RIC  ...   IAH    1038.0       0.0     1000-1059   \n",
              "\n",
              "   ARR_TIME ARR_DEL15  CANCELLED  DIVERTED  DISTANCE  Unnamed: 21  \n",
              "0    1117.0       0.0        0.0       0.0     174.0          NaN  \n",
              "1    1216.0       0.0        0.0       0.0     585.0          NaN  \n",
              "2    2120.0       0.0        0.0       0.0     631.0          NaN  \n",
              "3    2004.0       0.0        0.0       0.0     253.0          NaN  \n",
              "4    1330.0       0.0        0.0       0.0    1157.0          NaN  \n",
              "\n",
              "[5 rows x 22 columns]"
            ]
          },
          "metadata": {
            "tags": []
          },
          "execution_count": 3
        }
      ]
    },
    {
      "cell_type": "code",
      "metadata": {
        "id": "QtASW4n70Ld7",
        "colab_type": "code",
        "colab": {},
        "outputId": "37d6f18e-ecd1-4025-e39f-70abb05c7dea"
      },
      "source": [
        "airline.head()"
      ],
      "execution_count": null,
      "outputs": [
        {
          "output_type": "stream",
          "text": [
            "<class 'pandas.core.frame.DataFrame'>\n",
            "RangeIndex: 607346 entries, 0 to 607345\n",
            "Data columns (total 22 columns):\n",
            "DAY_OF_MONTH             607346 non-null int64\n",
            "DAY_OF_WEEK              607346 non-null int64\n",
            "OP_UNIQUE_CARRIER        607346 non-null object\n",
            "OP_CARRIER_AIRLINE_ID    607346 non-null int64\n",
            "OP_CARRIER               607346 non-null object\n",
            "TAIL_NUM                 606648 non-null object\n",
            "OP_CARRIER_FL_NUM        607346 non-null int64\n",
            "ORIGIN_AIRPORT_ID        607346 non-null int64\n",
            "ORIGIN_AIRPORT_SEQ_ID    607346 non-null int64\n",
            "ORIGIN                   607346 non-null object\n",
            "DEST_AIRPORT_ID          607346 non-null int64\n",
            "DEST_AIRPORT_SEQ_ID      607346 non-null int64\n",
            "DEST                     607346 non-null object\n",
            "DEP_TIME                 600682 non-null float64\n",
            "DEP_DEL15                600647 non-null float64\n",
            "DEP_TIME_BLK             607346 non-null object\n",
            "ARR_TIME                 600271 non-null float64\n",
            "ARR_DEL15                599268 non-null float64\n",
            "CANCELLED                607346 non-null float64\n",
            "DIVERTED                 607346 non-null float64\n",
            "DISTANCE                 607346 non-null float64\n",
            "Unnamed: 21              0 non-null float64\n",
            "dtypes: float64(8), int64(8), object(6)\n",
            "memory usage: 101.9+ MB\n"
          ],
          "name": "stdout"
        }
      ]
    },
    {
      "cell_type": "markdown",
      "metadata": {
        "id": "k0n5KgsF0Ld-",
        "colab_type": "text"
      },
      "source": [
        "## Homework Questions"
      ]
    },
    {
      "cell_type": "markdown",
      "metadata": {
        "id": "2PkdvhGQ0Ld-",
        "colab_type": "text"
      },
      "source": [
        "## Part 1. Merge / Clean dataframe"
      ]
    },
    {
      "cell_type": "markdown",
      "metadata": {
        "id": "tlC-auBX0Ld-",
        "colab_type": "text"
      },
      "source": [
        "### Q1. Join ```df``` with ```airline``` and save the dataframe as ```df```. (2 pts)\n",
        "(You may use ```join``` or ```merge```.)"
      ]
    },
    {
      "cell_type": "code",
      "metadata": {
        "id": "uPNGqmss0Ld_",
        "colab_type": "code",
        "colab": {}
      },
      "source": [
        ""
      ],
      "execution_count": null,
      "outputs": []
    },
    {
      "cell_type": "markdown",
      "metadata": {
        "id": "Ty7zGysD0LeB",
        "colab_type": "text"
      },
      "source": [
        "### Q2. Delete 'Unnamed: 21' column in ```df```. (Please refer back to week 3 material.) (1 pt)"
      ]
    },
    {
      "cell_type": "code",
      "metadata": {
        "id": "9ZFXNCZA0LeB",
        "colab_type": "code",
        "colab": {}
      },
      "source": [
        ""
      ],
      "execution_count": null,
      "outputs": []
    },
    {
      "cell_type": "markdown",
      "metadata": {
        "id": "-C91sWcQ0LeE",
        "colab_type": "text"
      },
      "source": [
        "## Part 2. Top 5 airlines"
      ]
    },
    {
      "cell_type": "markdown",
      "metadata": {
        "id": "lrAKGtgn0LeE",
        "colab_type": "text"
      },
      "source": [
        "### Q3 (a) What are the five largest airlines by the number of flights in January? (4 pts)"
      ]
    },
    {
      "cell_type": "code",
      "metadata": {
        "id": "qtRStNks0LeF",
        "colab_type": "code",
        "colab": {}
      },
      "source": [
        ""
      ],
      "execution_count": null,
      "outputs": []
    },
    {
      "cell_type": "markdown",
      "metadata": {
        "id": "pdjYskFh0LeG",
        "colab_type": "text"
      },
      "source": [
        "### Q3 (b) Select the five largest airlines in the ```df``` and save the new dataframe as ```top_five```. (2 pts)"
      ]
    },
    {
      "cell_type": "code",
      "metadata": {
        "id": "Ht7EwS2E0LeH",
        "colab_type": "code",
        "colab": {}
      },
      "source": [
        ""
      ],
      "execution_count": null,
      "outputs": []
    },
    {
      "cell_type": "markdown",
      "metadata": {
        "id": "_kGDcmzk0LeJ",
        "colab_type": "text"
      },
      "source": [
        "### Q4. Calculate cancellation percentages of the top 5 airlines. (3 pts)"
      ]
    },
    {
      "cell_type": "code",
      "metadata": {
        "id": "V12AC9rt0LeJ",
        "colab_type": "code",
        "colab": {}
      },
      "source": [
        ""
      ],
      "execution_count": null,
      "outputs": []
    },
    {
      "cell_type": "markdown",
      "metadata": {
        "id": "8t4Jax6K0LeM",
        "colab_type": "text"
      },
      "source": [
        "### Q5. Calculate diverted flights percentages of the top 5 airlines."
      ]
    },
    {
      "cell_type": "code",
      "metadata": {
        "id": "IGyOf80A0LeM",
        "colab_type": "code",
        "colab": {}
      },
      "source": [
        ""
      ],
      "execution_count": null,
      "outputs": []
    },
    {
      "cell_type": "markdown",
      "metadata": {
        "id": "3Pq-sKQZ0LeP",
        "colab_type": "text"
      },
      "source": [
        "### Q6. Calculate arrival-on-time percentages of the top 5 airlines."
      ]
    },
    {
      "cell_type": "code",
      "metadata": {
        "id": "I-Rrqvan0LeP",
        "colab_type": "code",
        "colab": {}
      },
      "source": [
        ""
      ],
      "execution_count": null,
      "outputs": []
    },
    {
      "cell_type": "markdown",
      "metadata": {
        "id": "YS1Zgu_40LeR",
        "colab_type": "text"
      },
      "source": [
        "### Q7. Plot a bar chart of the arrival-on-time percentages of the top five airlines."
      ]
    },
    {
      "cell_type": "code",
      "metadata": {
        "id": "FjjewH6F0LeR",
        "colab_type": "code",
        "colab": {}
      },
      "source": [
        ""
      ],
      "execution_count": null,
      "outputs": []
    },
    {
      "cell_type": "markdown",
      "metadata": {
        "id": "IDdUWk150LeU",
        "colab_type": "text"
      },
      "source": [
        "## Part 3. Arrival airports\n",
        "#### From this part, use ```df``` as we are dealing with the whole dataset; not limited to the top 5 airlines."
      ]
    },
    {
      "cell_type": "markdown",
      "metadata": {
        "id": "NuEQqQfg0LeU",
        "colab_type": "text"
      },
      "source": [
        "### Q8. What is the number of distinct destination airports?"
      ]
    },
    {
      "cell_type": "code",
      "metadata": {
        "id": "qxQunBsM0LeU",
        "colab_type": "code",
        "colab": {}
      },
      "source": [
        ""
      ],
      "execution_count": null,
      "outputs": []
    },
    {
      "cell_type": "markdown",
      "metadata": {
        "id": "2BnR7ETi0LeW",
        "colab_type": "text"
      },
      "source": [
        "### Q9. Which arrival airports experience most delays? List out 5 airport codes."
      ]
    },
    {
      "cell_type": "code",
      "metadata": {
        "id": "W9DZeVnq0LeX",
        "colab_type": "code",
        "colab": {}
      },
      "source": [
        ""
      ],
      "execution_count": null,
      "outputs": []
    },
    {
      "cell_type": "markdown",
      "metadata": {
        "id": "p0OSCC0p0LeZ",
        "colab_type": "text"
      },
      "source": [
        "## Part 4. Further Analysis"
      ]
    },
    {
      "cell_type": "markdown",
      "metadata": {
        "id": "WFFbnAhS0LeZ",
        "colab_type": "text"
      },
      "source": [
        "### Q10. Find out the percentage of flights that managed to arrive within 15 minutes even though the flight departed more than 15 minutes past scheduled departure time \n",
        "\n",
        "(Hint: you may use ```DEP_DEL15``` and ```ARR_DEL15``` indicators.)"
      ]
    },
    {
      "cell_type": "code",
      "metadata": {
        "id": "QXh5xkJO0LeZ",
        "colab_type": "code",
        "colab": {}
      },
      "source": [
        ""
      ],
      "execution_count": null,
      "outputs": []
    },
    {
      "cell_type": "markdown",
      "metadata": {
        "id": "p0wi39tQ0Leb",
        "colab_type": "text"
      },
      "source": [
        "### Q11. The column ```DEP_TIME``` is in the format of hhmm. Calculate the departure delays of the morning flights (before 12pm) and the departure delays of the afternoon flights (past 12pm). Round your answers to two decimal points."
      ]
    },
    {
      "cell_type": "markdown",
      "metadata": {
        "id": "DFdqS3eE0Leb",
        "colab_type": "text"
      },
      "source": [
        "(Hint: Create ```morning_df``` if ```DEP_TIME``` is in the morning and ```afternoon_df``` if ```DEP_TIME``` is in the afternoon.)"
      ]
    },
    {
      "cell_type": "code",
      "metadata": {
        "id": "BcPeLZmj0Lec",
        "colab_type": "code",
        "colab": {}
      },
      "source": [
        ""
      ],
      "execution_count": null,
      "outputs": []
    },
    {
      "cell_type": "markdown",
      "metadata": {
        "id": "1K80qxU_0Lee",
        "colab_type": "text"
      },
      "source": [
        "### Q12. Which flights experienced higher departure delays, the morning flights or the afternoon flights? Write down your thoughts on what might have caused higher delays in that time period.\n",
        "\n",
        "#### Answer:"
      ]
    },
    {
      "cell_type": "code",
      "metadata": {
        "id": "-sFhrb1m0Lee",
        "colab_type": "code",
        "colab": {}
      },
      "source": [
        ""
      ],
      "execution_count": null,
      "outputs": []
    }
  ]
}