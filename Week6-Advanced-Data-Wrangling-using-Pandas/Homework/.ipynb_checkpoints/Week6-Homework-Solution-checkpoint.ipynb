{
 "cells": [
  {
   "cell_type": "markdown",
   "metadata": {},
   "source": [
    "## <div align = \"center\">Homework 6</div>\n",
    "# <div align = \"center\">Flight Delay Data</div>"
   ]
  },
  {
   "cell_type": "markdown",
   "metadata": {},
   "source": [
    "**Welcome to Homework 6!** In this homework you will be using techniques you learned through Week 6. The purpose of this homework for you to do data manipulation with ```Pandas``` and to express your observations. \n",
    "\n",
    "Feel free to refer back to week 6 tutorial notebook and ask questions on Piazza!"
   ]
  },
  {
   "cell_type": "markdown",
   "metadata": {},
   "source": [
    "### Grading\n",
    "\n",
    "There are a total of 12 questions and each question is worth 1-5 points."
   ]
  },
  {
   "cell_type": "markdown",
   "metadata": {},
   "source": [
    "### Import library"
   ]
  },
  {
   "cell_type": "code",
   "execution_count": 1,
   "metadata": {},
   "outputs": [],
   "source": [
    "import pandas as pd"
   ]
  },
  {
   "cell_type": "markdown",
   "metadata": {},
   "source": [
    "### Load file"
   ]
  },
  {
   "cell_type": "code",
   "execution_count": 21,
   "metadata": {},
   "outputs": [],
   "source": [
    "url = 'https://raw.githubusercontent.com/bitprj/DigitalHistory/master/Week6-Advanced-Data-Wrangling-using-Pandas/data/Jan_2020_ontime.csv'\n",
    "df = pd.read_csv(url)\n",
    "\n",
    "\n",
    "url = 'https://raw.githubusercontent.com/bitprj/DigitalHistory/master/Week6-Advanced-Data-Wrangling-using-Pandas/data/airline_names.xlsx'\n",
    "airline = pd.read_excel(url)"
   ]
  },
  {
   "cell_type": "code",
   "execution_count": 22,
   "metadata": {
    "scrolled": false
   },
   "outputs": [
    {
     "data": {
      "text/html": [
       "<div>\n",
       "<style scoped>\n",
       "    .dataframe tbody tr th:only-of-type {\n",
       "        vertical-align: middle;\n",
       "    }\n",
       "\n",
       "    .dataframe tbody tr th {\n",
       "        vertical-align: top;\n",
       "    }\n",
       "\n",
       "    .dataframe thead th {\n",
       "        text-align: right;\n",
       "    }\n",
       "</style>\n",
       "<table border=\"1\" class=\"dataframe\">\n",
       "  <thead>\n",
       "    <tr style=\"text-align: right;\">\n",
       "      <th></th>\n",
       "      <th>DAY_OF_MONTH</th>\n",
       "      <th>DAY_OF_WEEK</th>\n",
       "      <th>OP_UNIQUE_CARRIER</th>\n",
       "      <th>OP_CARRIER_AIRLINE_ID</th>\n",
       "      <th>OP_CARRIER</th>\n",
       "      <th>TAIL_NUM</th>\n",
       "      <th>OP_CARRIER_FL_NUM</th>\n",
       "      <th>ORIGIN_AIRPORT_ID</th>\n",
       "      <th>ORIGIN_AIRPORT_SEQ_ID</th>\n",
       "      <th>ORIGIN</th>\n",
       "      <th>...</th>\n",
       "      <th>DEST</th>\n",
       "      <th>DEP_TIME</th>\n",
       "      <th>DEP_DEL15</th>\n",
       "      <th>DEP_TIME_BLK</th>\n",
       "      <th>ARR_TIME</th>\n",
       "      <th>ARR_DEL15</th>\n",
       "      <th>CANCELLED</th>\n",
       "      <th>DIVERTED</th>\n",
       "      <th>DISTANCE</th>\n",
       "      <th>Unnamed: 21</th>\n",
       "    </tr>\n",
       "  </thead>\n",
       "  <tbody>\n",
       "    <tr>\n",
       "      <td>0</td>\n",
       "      <td>1</td>\n",
       "      <td>3</td>\n",
       "      <td>EV</td>\n",
       "      <td>20366</td>\n",
       "      <td>EV</td>\n",
       "      <td>N48901</td>\n",
       "      <td>4397</td>\n",
       "      <td>13930</td>\n",
       "      <td>1393007</td>\n",
       "      <td>ORD</td>\n",
       "      <td>...</td>\n",
       "      <td>GRB</td>\n",
       "      <td>1003.0</td>\n",
       "      <td>0.0</td>\n",
       "      <td>1000-1059</td>\n",
       "      <td>1117.0</td>\n",
       "      <td>0.0</td>\n",
       "      <td>0.0</td>\n",
       "      <td>0.0</td>\n",
       "      <td>174.0</td>\n",
       "      <td>NaN</td>\n",
       "    </tr>\n",
       "    <tr>\n",
       "      <td>1</td>\n",
       "      <td>1</td>\n",
       "      <td>3</td>\n",
       "      <td>EV</td>\n",
       "      <td>20366</td>\n",
       "      <td>EV</td>\n",
       "      <td>N16976</td>\n",
       "      <td>4401</td>\n",
       "      <td>15370</td>\n",
       "      <td>1537002</td>\n",
       "      <td>TUL</td>\n",
       "      <td>...</td>\n",
       "      <td>ORD</td>\n",
       "      <td>1027.0</td>\n",
       "      <td>0.0</td>\n",
       "      <td>1000-1059</td>\n",
       "      <td>1216.0</td>\n",
       "      <td>0.0</td>\n",
       "      <td>0.0</td>\n",
       "      <td>0.0</td>\n",
       "      <td>585.0</td>\n",
       "      <td>NaN</td>\n",
       "    </tr>\n",
       "    <tr>\n",
       "      <td>2</td>\n",
       "      <td>1</td>\n",
       "      <td>3</td>\n",
       "      <td>EV</td>\n",
       "      <td>20366</td>\n",
       "      <td>EV</td>\n",
       "      <td>N12167</td>\n",
       "      <td>4404</td>\n",
       "      <td>11618</td>\n",
       "      <td>1161802</td>\n",
       "      <td>EWR</td>\n",
       "      <td>...</td>\n",
       "      <td>TYS</td>\n",
       "      <td>1848.0</td>\n",
       "      <td>0.0</td>\n",
       "      <td>1800-1859</td>\n",
       "      <td>2120.0</td>\n",
       "      <td>0.0</td>\n",
       "      <td>0.0</td>\n",
       "      <td>0.0</td>\n",
       "      <td>631.0</td>\n",
       "      <td>NaN</td>\n",
       "    </tr>\n",
       "    <tr>\n",
       "      <td>3</td>\n",
       "      <td>1</td>\n",
       "      <td>3</td>\n",
       "      <td>EV</td>\n",
       "      <td>20366</td>\n",
       "      <td>EV</td>\n",
       "      <td>N14902</td>\n",
       "      <td>4405</td>\n",
       "      <td>10781</td>\n",
       "      <td>1078105</td>\n",
       "      <td>BTR</td>\n",
       "      <td>...</td>\n",
       "      <td>IAH</td>\n",
       "      <td>1846.0</td>\n",
       "      <td>0.0</td>\n",
       "      <td>1800-1859</td>\n",
       "      <td>2004.0</td>\n",
       "      <td>0.0</td>\n",
       "      <td>0.0</td>\n",
       "      <td>0.0</td>\n",
       "      <td>253.0</td>\n",
       "      <td>NaN</td>\n",
       "    </tr>\n",
       "    <tr>\n",
       "      <td>4</td>\n",
       "      <td>1</td>\n",
       "      <td>3</td>\n",
       "      <td>EV</td>\n",
       "      <td>20366</td>\n",
       "      <td>EV</td>\n",
       "      <td>N606UX</td>\n",
       "      <td>4407</td>\n",
       "      <td>14524</td>\n",
       "      <td>1452401</td>\n",
       "      <td>RIC</td>\n",
       "      <td>...</td>\n",
       "      <td>IAH</td>\n",
       "      <td>1038.0</td>\n",
       "      <td>0.0</td>\n",
       "      <td>1000-1059</td>\n",
       "      <td>1330.0</td>\n",
       "      <td>0.0</td>\n",
       "      <td>0.0</td>\n",
       "      <td>0.0</td>\n",
       "      <td>1157.0</td>\n",
       "      <td>NaN</td>\n",
       "    </tr>\n",
       "  </tbody>\n",
       "</table>\n",
       "<p>5 rows × 22 columns</p>\n",
       "</div>"
      ],
      "text/plain": [
       "   DAY_OF_MONTH  DAY_OF_WEEK OP_UNIQUE_CARRIER  OP_CARRIER_AIRLINE_ID  \\\n",
       "0             1            3                EV                  20366   \n",
       "1             1            3                EV                  20366   \n",
       "2             1            3                EV                  20366   \n",
       "3             1            3                EV                  20366   \n",
       "4             1            3                EV                  20366   \n",
       "\n",
       "  OP_CARRIER TAIL_NUM  OP_CARRIER_FL_NUM  ORIGIN_AIRPORT_ID  \\\n",
       "0         EV   N48901               4397              13930   \n",
       "1         EV   N16976               4401              15370   \n",
       "2         EV   N12167               4404              11618   \n",
       "3         EV   N14902               4405              10781   \n",
       "4         EV   N606UX               4407              14524   \n",
       "\n",
       "   ORIGIN_AIRPORT_SEQ_ID ORIGIN  ...  DEST  DEP_TIME DEP_DEL15  DEP_TIME_BLK  \\\n",
       "0                1393007    ORD  ...   GRB    1003.0       0.0     1000-1059   \n",
       "1                1537002    TUL  ...   ORD    1027.0       0.0     1000-1059   \n",
       "2                1161802    EWR  ...   TYS    1848.0       0.0     1800-1859   \n",
       "3                1078105    BTR  ...   IAH    1846.0       0.0     1800-1859   \n",
       "4                1452401    RIC  ...   IAH    1038.0       0.0     1000-1059   \n",
       "\n",
       "   ARR_TIME ARR_DEL15  CANCELLED  DIVERTED  DISTANCE  Unnamed: 21  \n",
       "0    1117.0       0.0        0.0       0.0     174.0          NaN  \n",
       "1    1216.0       0.0        0.0       0.0     585.0          NaN  \n",
       "2    2120.0       0.0        0.0       0.0     631.0          NaN  \n",
       "3    2004.0       0.0        0.0       0.0     253.0          NaN  \n",
       "4    1330.0       0.0        0.0       0.0    1157.0          NaN  \n",
       "\n",
       "[5 rows x 22 columns]"
      ]
     },
     "execution_count": 22,
     "metadata": {},
     "output_type": "execute_result"
    }
   ],
   "source": [
    "df.head()"
   ]
  },
  {
   "cell_type": "code",
   "execution_count": 23,
   "metadata": {},
   "outputs": [
    {
     "data": {
      "text/html": [
       "<div>\n",
       "<style scoped>\n",
       "    .dataframe tbody tr th:only-of-type {\n",
       "        vertical-align: middle;\n",
       "    }\n",
       "\n",
       "    .dataframe tbody tr th {\n",
       "        vertical-align: top;\n",
       "    }\n",
       "\n",
       "    .dataframe thead th {\n",
       "        text-align: right;\n",
       "    }\n",
       "</style>\n",
       "<table border=\"1\" class=\"dataframe\">\n",
       "  <thead>\n",
       "    <tr style=\"text-align: right;\">\n",
       "      <th></th>\n",
       "      <th>carrier</th>\n",
       "      <th>carrier_name</th>\n",
       "    </tr>\n",
       "  </thead>\n",
       "  <tbody>\n",
       "    <tr>\n",
       "      <td>0</td>\n",
       "      <td>9E</td>\n",
       "      <td>Endeavor Air Inc.</td>\n",
       "    </tr>\n",
       "    <tr>\n",
       "      <td>1</td>\n",
       "      <td>AA</td>\n",
       "      <td>American Airlines Inc.</td>\n",
       "    </tr>\n",
       "    <tr>\n",
       "      <td>2</td>\n",
       "      <td>AQ</td>\n",
       "      <td>Aloha Airlines Inc.</td>\n",
       "    </tr>\n",
       "    <tr>\n",
       "      <td>3</td>\n",
       "      <td>AS</td>\n",
       "      <td>Alaska Airlines Inc.</td>\n",
       "    </tr>\n",
       "    <tr>\n",
       "      <td>4</td>\n",
       "      <td>B6</td>\n",
       "      <td>JetBlue Airways</td>\n",
       "    </tr>\n",
       "  </tbody>\n",
       "</table>\n",
       "</div>"
      ],
      "text/plain": [
       "  carrier            carrier_name\n",
       "0      9E       Endeavor Air Inc.\n",
       "1      AA  American Airlines Inc.\n",
       "2      AQ     Aloha Airlines Inc.\n",
       "3      AS    Alaska Airlines Inc.\n",
       "4      B6         JetBlue Airways"
      ]
     },
     "execution_count": 23,
     "metadata": {},
     "output_type": "execute_result"
    }
   ],
   "source": [
    "airline.head()"
   ]
  },
  {
   "cell_type": "markdown",
   "metadata": {},
   "source": [
    "## Homework Questions"
   ]
  },
  {
   "cell_type": "markdown",
   "metadata": {},
   "source": [
    "## Part 1. Merge / Clean dataframe"
   ]
  },
  {
   "cell_type": "markdown",
   "metadata": {},
   "source": [
    "### Q1. Join ```df``` with ```airline``` and save the dataframe as ```df```. (2 pts)"
   ]
  },
  {
   "cell_type": "code",
   "execution_count": 24,
   "metadata": {},
   "outputs": [
    {
     "data": {
      "text/html": [
       "<div>\n",
       "<style scoped>\n",
       "    .dataframe tbody tr th:only-of-type {\n",
       "        vertical-align: middle;\n",
       "    }\n",
       "\n",
       "    .dataframe tbody tr th {\n",
       "        vertical-align: top;\n",
       "    }\n",
       "\n",
       "    .dataframe thead th {\n",
       "        text-align: right;\n",
       "    }\n",
       "</style>\n",
       "<table border=\"1\" class=\"dataframe\">\n",
       "  <thead>\n",
       "    <tr style=\"text-align: right;\">\n",
       "      <th></th>\n",
       "      <th>DAY_OF_MONTH</th>\n",
       "      <th>DAY_OF_WEEK</th>\n",
       "      <th>OP_UNIQUE_CARRIER</th>\n",
       "      <th>OP_CARRIER_AIRLINE_ID</th>\n",
       "      <th>OP_CARRIER</th>\n",
       "      <th>TAIL_NUM</th>\n",
       "      <th>OP_CARRIER_FL_NUM</th>\n",
       "      <th>ORIGIN_AIRPORT_ID</th>\n",
       "      <th>ORIGIN_AIRPORT_SEQ_ID</th>\n",
       "      <th>ORIGIN</th>\n",
       "      <th>...</th>\n",
       "      <th>DEP_DEL15</th>\n",
       "      <th>DEP_TIME_BLK</th>\n",
       "      <th>ARR_TIME</th>\n",
       "      <th>ARR_DEL15</th>\n",
       "      <th>CANCELLED</th>\n",
       "      <th>DIVERTED</th>\n",
       "      <th>DISTANCE</th>\n",
       "      <th>Unnamed: 21</th>\n",
       "      <th>carrier</th>\n",
       "      <th>carrier_name</th>\n",
       "    </tr>\n",
       "  </thead>\n",
       "  <tbody>\n",
       "    <tr>\n",
       "      <td>0</td>\n",
       "      <td>1</td>\n",
       "      <td>3</td>\n",
       "      <td>EV</td>\n",
       "      <td>20366</td>\n",
       "      <td>EV</td>\n",
       "      <td>N48901</td>\n",
       "      <td>4397</td>\n",
       "      <td>13930</td>\n",
       "      <td>1393007</td>\n",
       "      <td>ORD</td>\n",
       "      <td>...</td>\n",
       "      <td>0.0</td>\n",
       "      <td>1000-1059</td>\n",
       "      <td>1117.0</td>\n",
       "      <td>0.0</td>\n",
       "      <td>0.0</td>\n",
       "      <td>0.0</td>\n",
       "      <td>174.0</td>\n",
       "      <td>NaN</td>\n",
       "      <td>EV</td>\n",
       "      <td>ExpressJet Airlines LLC</td>\n",
       "    </tr>\n",
       "    <tr>\n",
       "      <td>1</td>\n",
       "      <td>1</td>\n",
       "      <td>3</td>\n",
       "      <td>EV</td>\n",
       "      <td>20366</td>\n",
       "      <td>EV</td>\n",
       "      <td>N16976</td>\n",
       "      <td>4401</td>\n",
       "      <td>15370</td>\n",
       "      <td>1537002</td>\n",
       "      <td>TUL</td>\n",
       "      <td>...</td>\n",
       "      <td>0.0</td>\n",
       "      <td>1000-1059</td>\n",
       "      <td>1216.0</td>\n",
       "      <td>0.0</td>\n",
       "      <td>0.0</td>\n",
       "      <td>0.0</td>\n",
       "      <td>585.0</td>\n",
       "      <td>NaN</td>\n",
       "      <td>EV</td>\n",
       "      <td>ExpressJet Airlines LLC</td>\n",
       "    </tr>\n",
       "    <tr>\n",
       "      <td>2</td>\n",
       "      <td>1</td>\n",
       "      <td>3</td>\n",
       "      <td>EV</td>\n",
       "      <td>20366</td>\n",
       "      <td>EV</td>\n",
       "      <td>N12167</td>\n",
       "      <td>4404</td>\n",
       "      <td>11618</td>\n",
       "      <td>1161802</td>\n",
       "      <td>EWR</td>\n",
       "      <td>...</td>\n",
       "      <td>0.0</td>\n",
       "      <td>1800-1859</td>\n",
       "      <td>2120.0</td>\n",
       "      <td>0.0</td>\n",
       "      <td>0.0</td>\n",
       "      <td>0.0</td>\n",
       "      <td>631.0</td>\n",
       "      <td>NaN</td>\n",
       "      <td>EV</td>\n",
       "      <td>ExpressJet Airlines LLC</td>\n",
       "    </tr>\n",
       "    <tr>\n",
       "      <td>3</td>\n",
       "      <td>1</td>\n",
       "      <td>3</td>\n",
       "      <td>EV</td>\n",
       "      <td>20366</td>\n",
       "      <td>EV</td>\n",
       "      <td>N14902</td>\n",
       "      <td>4405</td>\n",
       "      <td>10781</td>\n",
       "      <td>1078105</td>\n",
       "      <td>BTR</td>\n",
       "      <td>...</td>\n",
       "      <td>0.0</td>\n",
       "      <td>1800-1859</td>\n",
       "      <td>2004.0</td>\n",
       "      <td>0.0</td>\n",
       "      <td>0.0</td>\n",
       "      <td>0.0</td>\n",
       "      <td>253.0</td>\n",
       "      <td>NaN</td>\n",
       "      <td>EV</td>\n",
       "      <td>ExpressJet Airlines LLC</td>\n",
       "    </tr>\n",
       "    <tr>\n",
       "      <td>4</td>\n",
       "      <td>1</td>\n",
       "      <td>3</td>\n",
       "      <td>EV</td>\n",
       "      <td>20366</td>\n",
       "      <td>EV</td>\n",
       "      <td>N606UX</td>\n",
       "      <td>4407</td>\n",
       "      <td>14524</td>\n",
       "      <td>1452401</td>\n",
       "      <td>RIC</td>\n",
       "      <td>...</td>\n",
       "      <td>0.0</td>\n",
       "      <td>1000-1059</td>\n",
       "      <td>1330.0</td>\n",
       "      <td>0.0</td>\n",
       "      <td>0.0</td>\n",
       "      <td>0.0</td>\n",
       "      <td>1157.0</td>\n",
       "      <td>NaN</td>\n",
       "      <td>EV</td>\n",
       "      <td>ExpressJet Airlines LLC</td>\n",
       "    </tr>\n",
       "    <tr>\n",
       "      <td>...</td>\n",
       "      <td>...</td>\n",
       "      <td>...</td>\n",
       "      <td>...</td>\n",
       "      <td>...</td>\n",
       "      <td>...</td>\n",
       "      <td>...</td>\n",
       "      <td>...</td>\n",
       "      <td>...</td>\n",
       "      <td>...</td>\n",
       "      <td>...</td>\n",
       "      <td>...</td>\n",
       "      <td>...</td>\n",
       "      <td>...</td>\n",
       "      <td>...</td>\n",
       "      <td>...</td>\n",
       "      <td>...</td>\n",
       "      <td>...</td>\n",
       "      <td>...</td>\n",
       "      <td>...</td>\n",
       "      <td>...</td>\n",
       "      <td>...</td>\n",
       "    </tr>\n",
       "    <tr>\n",
       "      <td>607341</td>\n",
       "      <td>31</td>\n",
       "      <td>5</td>\n",
       "      <td>AS</td>\n",
       "      <td>19930</td>\n",
       "      <td>AS</td>\n",
       "      <td>N296AK</td>\n",
       "      <td>1994</td>\n",
       "      <td>14747</td>\n",
       "      <td>1474703</td>\n",
       "      <td>SEA</td>\n",
       "      <td>...</td>\n",
       "      <td>0.0</td>\n",
       "      <td>1300-1359</td>\n",
       "      <td>1541.0</td>\n",
       "      <td>0.0</td>\n",
       "      <td>0.0</td>\n",
       "      <td>0.0</td>\n",
       "      <td>696.0</td>\n",
       "      <td>NaN</td>\n",
       "      <td>AS</td>\n",
       "      <td>Alaska Airlines Inc.</td>\n",
       "    </tr>\n",
       "    <tr>\n",
       "      <td>607342</td>\n",
       "      <td>31</td>\n",
       "      <td>5</td>\n",
       "      <td>AS</td>\n",
       "      <td>19930</td>\n",
       "      <td>AS</td>\n",
       "      <td>N361VA</td>\n",
       "      <td>1995</td>\n",
       "      <td>14831</td>\n",
       "      <td>1483106</td>\n",
       "      <td>SJC</td>\n",
       "      <td>...</td>\n",
       "      <td>1.0</td>\n",
       "      <td>1900-1959</td>\n",
       "      <td>2229.0</td>\n",
       "      <td>1.0</td>\n",
       "      <td>0.0</td>\n",
       "      <td>0.0</td>\n",
       "      <td>696.0</td>\n",
       "      <td>NaN</td>\n",
       "      <td>AS</td>\n",
       "      <td>Alaska Airlines Inc.</td>\n",
       "    </tr>\n",
       "    <tr>\n",
       "      <td>607343</td>\n",
       "      <td>31</td>\n",
       "      <td>5</td>\n",
       "      <td>AS</td>\n",
       "      <td>19930</td>\n",
       "      <td>AS</td>\n",
       "      <td>N523VA</td>\n",
       "      <td>1996</td>\n",
       "      <td>14747</td>\n",
       "      <td>1474703</td>\n",
       "      <td>SEA</td>\n",
       "      <td>...</td>\n",
       "      <td>1.0</td>\n",
       "      <td>1900-1959</td>\n",
       "      <td>2400.0</td>\n",
       "      <td>1.0</td>\n",
       "      <td>0.0</td>\n",
       "      <td>0.0</td>\n",
       "      <td>1216.0</td>\n",
       "      <td>NaN</td>\n",
       "      <td>AS</td>\n",
       "      <td>Alaska Airlines Inc.</td>\n",
       "    </tr>\n",
       "    <tr>\n",
       "      <td>607344</td>\n",
       "      <td>31</td>\n",
       "      <td>5</td>\n",
       "      <td>AS</td>\n",
       "      <td>19930</td>\n",
       "      <td>AS</td>\n",
       "      <td>N568AS</td>\n",
       "      <td>1997</td>\n",
       "      <td>12264</td>\n",
       "      <td>1226402</td>\n",
       "      <td>IAD</td>\n",
       "      <td>...</td>\n",
       "      <td>0.0</td>\n",
       "      <td>0700-0759</td>\n",
       "      <td>910.0</td>\n",
       "      <td>0.0</td>\n",
       "      <td>0.0</td>\n",
       "      <td>0.0</td>\n",
       "      <td>2288.0</td>\n",
       "      <td>NaN</td>\n",
       "      <td>AS</td>\n",
       "      <td>Alaska Airlines Inc.</td>\n",
       "    </tr>\n",
       "    <tr>\n",
       "      <td>607345</td>\n",
       "      <td>31</td>\n",
       "      <td>5</td>\n",
       "      <td>AS</td>\n",
       "      <td>19930</td>\n",
       "      <td>AS</td>\n",
       "      <td>N524AS</td>\n",
       "      <td>1999</td>\n",
       "      <td>12478</td>\n",
       "      <td>1247805</td>\n",
       "      <td>JFK</td>\n",
       "      <td>...</td>\n",
       "      <td>0.0</td>\n",
       "      <td>1300-1359</td>\n",
       "      <td>1605.0</td>\n",
       "      <td>0.0</td>\n",
       "      <td>0.0</td>\n",
       "      <td>0.0</td>\n",
       "      <td>2454.0</td>\n",
       "      <td>NaN</td>\n",
       "      <td>AS</td>\n",
       "      <td>Alaska Airlines Inc.</td>\n",
       "    </tr>\n",
       "  </tbody>\n",
       "</table>\n",
       "<p>607346 rows × 24 columns</p>\n",
       "</div>"
      ],
      "text/plain": [
       "        DAY_OF_MONTH  DAY_OF_WEEK OP_UNIQUE_CARRIER  OP_CARRIER_AIRLINE_ID  \\\n",
       "0                  1            3                EV                  20366   \n",
       "1                  1            3                EV                  20366   \n",
       "2                  1            3                EV                  20366   \n",
       "3                  1            3                EV                  20366   \n",
       "4                  1            3                EV                  20366   \n",
       "...              ...          ...               ...                    ...   \n",
       "607341            31            5                AS                  19930   \n",
       "607342            31            5                AS                  19930   \n",
       "607343            31            5                AS                  19930   \n",
       "607344            31            5                AS                  19930   \n",
       "607345            31            5                AS                  19930   \n",
       "\n",
       "       OP_CARRIER TAIL_NUM  OP_CARRIER_FL_NUM  ORIGIN_AIRPORT_ID  \\\n",
       "0              EV   N48901               4397              13930   \n",
       "1              EV   N16976               4401              15370   \n",
       "2              EV   N12167               4404              11618   \n",
       "3              EV   N14902               4405              10781   \n",
       "4              EV   N606UX               4407              14524   \n",
       "...           ...      ...                ...                ...   \n",
       "607341         AS   N296AK               1994              14747   \n",
       "607342         AS   N361VA               1995              14831   \n",
       "607343         AS   N523VA               1996              14747   \n",
       "607344         AS   N568AS               1997              12264   \n",
       "607345         AS   N524AS               1999              12478   \n",
       "\n",
       "        ORIGIN_AIRPORT_SEQ_ID ORIGIN  ...  DEP_DEL15  DEP_TIME_BLK ARR_TIME  \\\n",
       "0                     1393007    ORD  ...        0.0     1000-1059   1117.0   \n",
       "1                     1537002    TUL  ...        0.0     1000-1059   1216.0   \n",
       "2                     1161802    EWR  ...        0.0     1800-1859   2120.0   \n",
       "3                     1078105    BTR  ...        0.0     1800-1859   2004.0   \n",
       "4                     1452401    RIC  ...        0.0     1000-1059   1330.0   \n",
       "...                       ...    ...  ...        ...           ...      ...   \n",
       "607341                1474703    SEA  ...        0.0     1300-1359   1541.0   \n",
       "607342                1483106    SJC  ...        1.0     1900-1959   2229.0   \n",
       "607343                1474703    SEA  ...        1.0     1900-1959   2400.0   \n",
       "607344                1226402    IAD  ...        0.0     0700-0759    910.0   \n",
       "607345                1247805    JFK  ...        0.0     1300-1359   1605.0   \n",
       "\n",
       "        ARR_DEL15  CANCELLED DIVERTED  DISTANCE  Unnamed: 21  carrier  \\\n",
       "0             0.0        0.0      0.0     174.0          NaN       EV   \n",
       "1             0.0        0.0      0.0     585.0          NaN       EV   \n",
       "2             0.0        0.0      0.0     631.0          NaN       EV   \n",
       "3             0.0        0.0      0.0     253.0          NaN       EV   \n",
       "4             0.0        0.0      0.0    1157.0          NaN       EV   \n",
       "...           ...        ...      ...       ...          ...      ...   \n",
       "607341        0.0        0.0      0.0     696.0          NaN       AS   \n",
       "607342        1.0        0.0      0.0     696.0          NaN       AS   \n",
       "607343        1.0        0.0      0.0    1216.0          NaN       AS   \n",
       "607344        0.0        0.0      0.0    2288.0          NaN       AS   \n",
       "607345        0.0        0.0      0.0    2454.0          NaN       AS   \n",
       "\n",
       "                   carrier_name  \n",
       "0       ExpressJet Airlines LLC  \n",
       "1       ExpressJet Airlines LLC  \n",
       "2       ExpressJet Airlines LLC  \n",
       "3       ExpressJet Airlines LLC  \n",
       "4       ExpressJet Airlines LLC  \n",
       "...                         ...  \n",
       "607341     Alaska Airlines Inc.  \n",
       "607342     Alaska Airlines Inc.  \n",
       "607343     Alaska Airlines Inc.  \n",
       "607344     Alaska Airlines Inc.  \n",
       "607345     Alaska Airlines Inc.  \n",
       "\n",
       "[607346 rows x 24 columns]"
      ]
     },
     "execution_count": 24,
     "metadata": {},
     "output_type": "execute_result"
    }
   ],
   "source": [
    "df = pd.merge(df, airline, left_on='OP_UNIQUE_CARRIER', right_on='carrier')"
   ]
  },
  {
   "cell_type": "markdown",
   "metadata": {},
   "source": [
    "### Q2. Delete 'Unnamed: 21' column in ```df```. (Please refer back to week 3 material.) (1 pt)"
   ]
  },
  {
   "cell_type": "code",
   "execution_count": 25,
   "metadata": {},
   "outputs": [],
   "source": [
    "del df['Unnamed: 21']"
   ]
  },
  {
   "cell_type": "markdown",
   "metadata": {},
   "source": [
    "## Part 2. Top 5 airlines"
   ]
  },
  {
   "cell_type": "markdown",
   "metadata": {},
   "source": [
    "### Q3 (a) What are the five largest airlines by the number of flights in January? (4 pts)"
   ]
  },
  {
   "cell_type": "code",
   "execution_count": 32,
   "metadata": {},
   "outputs": [
    {
     "data": {
      "text/plain": [
       "carrier\n",
       "HA      7035\n",
       "G4      7774\n",
       "EV     10564\n",
       "F9     12467\n",
       "NK     17477\n",
       "YV     17836\n",
       "AS     21110\n",
       "9E     23068\n",
       "OH     24309\n",
       "B6     24709\n",
       "MQ     26200\n",
       "YX     29123\n",
       "UA     48401\n",
       "OO     71160\n",
       "AA     76276\n",
       "DL     80067\n",
       "WN    109770\n",
       "dtype: int64"
      ]
     },
     "execution_count": 32,
     "metadata": {},
     "output_type": "execute_result"
    }
   ],
   "source": [
    "df.groupby(['carrier']).size().sort_values()\n",
    "# df.groupby(['carrier']).size().sort_values().head(5)"
   ]
  },
  {
   "cell_type": "markdown",
   "metadata": {},
   "source": [
    "#### Answer:\n",
    "WN, DL, AA, OO, UA"
   ]
  },
  {
   "cell_type": "markdown",
   "metadata": {},
   "source": [
    "### Q3 (b) Select the five largest airlines in the ```df``` and save the new dataframe as ```top_five```. (2 pts)\n",
    "\n",
    "(Hint: You may use ```isin``` function.)"
   ]
  },
  {
   "cell_type": "code",
   "execution_count": 36,
   "metadata": {},
   "outputs": [],
   "source": [
    "top_five = df[df['carrier'].isin(['WN','DL','AA','OO','UA'])]\n",
    "top_five"
   ]
  },
  {
   "cell_type": "markdown",
   "metadata": {},
   "source": [
    "### Q4. Calculate cancellation percentages of the top 5 airlines. (3 pts)"
   ]
  },
  {
   "cell_type": "code",
   "execution_count": 38,
   "metadata": {},
   "outputs": [
    {
     "data": {
      "text/plain": [
       "carrier\n",
       "AA    0.008981\n",
       "DL    0.000512\n",
       "OO    0.020531\n",
       "UA    0.006136\n",
       "WN    0.017500\n",
       "Name: CANCELLED, dtype: float64"
      ]
     },
     "execution_count": 38,
     "metadata": {},
     "output_type": "execute_result"
    }
   ],
   "source": [
    "top_five.groupby(['carrier'])['CANCELLED'].mean()"
   ]
  },
  {
   "cell_type": "markdown",
   "metadata": {},
   "source": [
    "### Q5. Calculate diverted flights percentages of the top 5 airlines."
   ]
  },
  {
   "cell_type": "code",
   "execution_count": 39,
   "metadata": {},
   "outputs": [
    {
     "data": {
      "text/plain": [
       "carrier\n",
       "AA    0.001560\n",
       "DL    0.001224\n",
       "OO    0.002782\n",
       "UA    0.001756\n",
       "WN    0.001285\n",
       "Name: DIVERTED, dtype: float64"
      ]
     },
     "execution_count": 39,
     "metadata": {},
     "output_type": "execute_result"
    }
   ],
   "source": [
    "top_five.groupby(['carrier'])['DIVERTED'].mean()"
   ]
  },
  {
   "cell_type": "markdown",
   "metadata": {},
   "source": [
    "### Q6. Calculate arrival-on-time percentages of the top 5 airlines.\n",
    "- We will assume that the flights that arrived within 15 minutes past scheduled arrival time arrived on time.\n",
    "\n",
    "- Please note that you need to calculate arrival-on-time percentages, not arrival delay percentages.\n",
    "\n",
    "- Save the resulting series as ```arrival_on_time```."
   ]
  },
  {
   "cell_type": "code",
   "execution_count": 45,
   "metadata": {},
   "outputs": [
    {
     "data": {
      "text/plain": [
       "carrier\n",
       "AA    0.849640\n",
       "DL    0.894167\n",
       "OO    0.846160\n",
       "UA    0.870156\n",
       "WN    0.904176\n",
       "Name: ARR_DEL15, dtype: float64"
      ]
     },
     "execution_count": 45,
     "metadata": {},
     "output_type": "execute_result"
    }
   ],
   "source": [
    "arrival_on_time = 1 - top_five.groupby(['carrier'])['ARR_DEL15'].mean()\n",
    "arrival_on_time"
   ]
  },
  {
   "cell_type": "markdown",
   "metadata": {},
   "source": [
    "### Q7. Plot a bar chart of the arrival-on-time percentages of the top five airlines."
   ]
  },
  {
   "cell_type": "code",
   "execution_count": 44,
   "metadata": {},
   "outputs": [],
   "source": [
    "from matplotlib import pyplot as plt"
   ]
  },
  {
   "cell_type": "code",
   "execution_count": 46,
   "metadata": {},
   "outputs": [
    {
     "data": {
      "image/png": "[encoded data removed]",
      "text/plain": [
       "<Figure size 432x288 with 1 Axes>"
      ]
     },
     "metadata": {
      "needs_background": "light"
     },
     "output_type": "display_data"
    }
   ],
   "source": [
    "# plot x and y of arrival_on_time Series\n",
    "plt.bar(arrival_on_time.index,arrival_on_time.values)\n",
    "\n",
    "# add title\n",
    "plt.title(\"Arrival on time percentages by airline\")\n",
    "\n",
    "# label the y-axis\n",
    "plt.ylabel(\"Arrival on time\")\n",
    "\n",
    "# Label x-axis with movie titles\n",
    "plt.xticks(range(5),arrival_on_time.index)\n",
    "\n",
    "plt.show()"
   ]
  },
  {
   "cell_type": "markdown",
   "metadata": {},
   "source": [
    "## Part 3. Arrival airports\n",
    "#### From this part, use ```df``` as we are dealing with the whole dataset; not limited to the top 5 airlines."
   ]
  },
  {
   "cell_type": "markdown",
   "metadata": {},
   "source": [
    "### Q8. What is the number of distinct destination airports?"
   ]
  },
  {
   "cell_type": "code",
   "execution_count": 47,
   "metadata": {},
   "outputs": [
    {
     "data": {
      "text/plain": [
       "350"
      ]
     },
     "execution_count": 47,
     "metadata": {},
     "output_type": "execute_result"
    }
   ],
   "source": [
    "df['DEST'].nunique()"
   ]
  },
  {
   "cell_type": "markdown",
   "metadata": {},
   "source": [
    "### Q9. Which arrival airports experience most delays? List out 5 airport codes."
   ]
  },
  {
   "cell_type": "code",
   "execution_count": 51,
   "metadata": {},
   "outputs": [
    {
     "data": {
      "text/plain": [
       "DEST\n",
       "PPG    0.444444\n",
       "ADQ    0.360000\n",
       "RIW    0.340000\n",
       "SIT    0.333333\n",
       "OTH    0.333333\n",
       "Name: ARR_DEL15, dtype: float64"
      ]
     },
     "execution_count": 51,
     "metadata": {},
     "output_type": "execute_result"
    }
   ],
   "source": [
    "df.groupby(['DEST'])['ARR_DEL15'].mean().sort_values(ascending=False).head(5)"
   ]
  },
  {
   "cell_type": "markdown",
   "metadata": {},
   "source": [
    "## Part 4. Further Analysis"
   ]
  },
  {
   "cell_type": "markdown",
   "metadata": {},
   "source": [
    "### Q10. Find out the percentage of flights that managed to arrive within 15 minutes even though the flight departed more than 15 minutes past scheduled departure time \n",
    "\n",
    "(Hint: you may use ```DEP_DEL15``` and ```ARR_DEL15``` indicators.)"
   ]
  },
  {
   "cell_type": "code",
   "execution_count": 55,
   "metadata": {},
   "outputs": [
    {
     "name": "stdout",
     "output_type": "stream",
     "text": [
      "3.2915339855700045  %\n"
     ]
    }
   ],
   "source": [
    "on_time_flight = df[(df['DEP_DEL15']==1) & (df['ARR_DEL15']==0)].shape[0]\n",
    "total_flight = df.shape[0]\n",
    "\n",
    "print((on_time_flight / total_flight) * 100, \" %\")"
   ]
  },
  {
   "cell_type": "markdown",
   "metadata": {},
   "source": [
    "### Q11. The column ```DEP_TIME``` is in the format of hhmm. Calculate the departure delays of the morning flights (before 12pm) and the departure delays of the afternoon flights (past 12pm). Round your answers to two decimal points."
   ]
  },
  {
   "cell_type": "markdown",
   "metadata": {},
   "source": [
    "(Hint: Create ```morning_df``` if ```DEP_TIME``` is in the morning and ```afternoon_df``` if ```DEP_TIME``` is in the afternoon.)"
   ]
  },
  {
   "cell_type": "code",
   "execution_count": 56,
   "metadata": {},
   "outputs": [],
   "source": [
    "morning_df = df[df['DEP_TIME'] < 1200]\n",
    "afternoon_df = df[df['DEP_TIME'] >= 1200]"
   ]
  },
  {
   "cell_type": "code",
   "execution_count": 60,
   "metadata": {},
   "outputs": [
    {
     "data": {
      "text/plain": [
       "8.19"
      ]
     },
     "execution_count": 60,
     "metadata": {},
     "output_type": "execute_result"
    }
   ],
   "source": [
    "round(morning_df['DEP_DEL15'].mean()*100,2)"
   ]
  },
  {
   "cell_type": "code",
   "execution_count": 59,
   "metadata": {},
   "outputs": [
    {
     "data": {
      "text/plain": [
       "17.48"
      ]
     },
     "execution_count": 59,
     "metadata": {},
     "output_type": "execute_result"
    }
   ],
   "source": [
    "round(afternoon_df['DEP_DEL15'].mean()*100,2)"
   ]
  },
  {
   "cell_type": "markdown",
   "metadata": {},
   "source": [
    "### Q12. Which flights experienced higher departure delays, the morning flights or the afternoon flights? Write down your thoughts on what might have caused higher delays in that time period."
   ]
  },
  {
   "cell_type": "markdown",
   "metadata": {},
   "source": [
    "#### Answer:"
   ]
  },
  {
   "cell_type": "markdown",
   "metadata": {},
   "source": [
    "Afternoon flights experienced higher departure delays.\n",
    "\n",
    "I think if morning flights are delayed, it will affect the afternoon flights. And the afternoon flights will have the same probability of experiencing the delays as the morning flights. So with the two possible delay causes accumulated, the afternoon flights are more likely to be delayed."
   ]
  }
 ],
 "metadata": {
  "kernelspec": {
   "display_name": "Python 3",
   "language": "python",
   "name": "python3"
  },
  "language_info": {
   "codemirror_mode": {
    "name": "ipython",
    "version": 3
   },
   "file_extension": ".py",
   "mimetype": "text/x-python",
   "name": "python",
   "nbconvert_exporter": "python",
   "pygments_lexer": "ipython3",
   "version": "3.7.4"
  }
 },
 "nbformat": 4,
 "nbformat_minor": 2
}
