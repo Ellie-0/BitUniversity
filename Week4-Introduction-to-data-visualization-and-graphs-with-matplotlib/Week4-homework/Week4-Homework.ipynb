{
  "nbformat": 4,
  "nbformat_minor": 0,
  "metadata": {
    "kernelspec": {
      "display_name": "Python 3",
      "language": "python",
      "name": "python3"
    },
    "language_info": {
      "codemirror_mode": {
        "name": "ipython",
        "version": 3
      },
      "file_extension": ".py",
      "mimetype": "text/x-python",
      "name": "python",
      "nbconvert_exporter": "python",
      "pygments_lexer": "ipython3",
      "version": "3.7.4"
    },
    "colab": {
      "name": "Week4-Homework.ipynb",
      "provenance": [],
      "include_colab_link": true
    }
  },
  "cells": [
    {
      "cell_type": "markdown",
      "metadata": {
        "id": "view-in-github",
        "colab_type": "text"
      },
      "source": [
        "<a href=\"https://colab.research.google.com/github/bitprj/DigitalHistory/blob/Shayan/Week4-Introduction-to-data-visualization-and-graphs-with-matplotlib/Week4-homework/Week4-Homework.ipynb\" target=\"_parent\"><img src=\"https://colab.research.google.com/assets/colab-badge.svg\" alt=\"Open In Colab\"/></a>"
      ]
    },
    {
      "cell_type": "markdown",
      "metadata": {
        "id": "_mwoK-OGd4Ie",
        "colab_type": "text"
      },
      "source": [
        "## <div align=\"center\">Homework 3</div>\n",
        "\n"
      ]
    },
    {
      "cell_type": "markdown",
      "metadata": {
        "id": "mTu386TreGYK",
        "colab_type": "text"
      },
      "source": [
        "# <div align=\"center\">Malnutrition, A disease the world has forgotten</div>"
      ]
    },
    {
      "cell_type": "code",
      "metadata": {
        "id": "UhAXLCCGd4If",
        "colab_type": "code",
        "colab": {}
      },
      "source": [
        "# You don't have to worry about this, just run the Following Code\n",
        "# we are installing two libraries here\n",
        "!pip install descartes\n",
        "!pip install geopandas"
      ],
      "execution_count": null,
      "outputs": []
    },
    {
      "cell_type": "markdown",
      "metadata": {
        "id": "dlsnYt9Jd4Ik",
        "colab_type": "text"
      },
      "source": [
        "Welcome to Homework 3. In this homework, you will be using the techniques you learned throughout Week 4. The purpose of this homework for you to be able to practice visualization and the articulation of your observations. You will be asked to find answers to questions using ```matplotlib``` and ```pandas```. Because these topics are very new to you and can be challenging to absorb, we will be giving you hints and references to relevant sections in the week 4 lessons for some coding questions.\n",
        "\n",
        "By the end of the exercise, the deliverables are:\n",
        "\n",
        "|    Questions                                      | # of assignments|\n",
        "|---------------------------------------------------|-----------------|\n",
        "|Histogram plots                                    |1                |\n",
        "|Scatter plots                                      |4                |\n",
        "|Bar plots                                          |4                |\n",
        "|Plot of the world map with the required features.  |3                |\n",
        "|A comparison between two countries of your choice |3                |"
      ]
    },
    {
      "cell_type": "markdown",
      "metadata": {
        "id": "lcSP9Q-Sd4Ik",
        "colab_type": "text"
      },
      "source": [
        "## About the Dataset\n",
        "\n",
        "### Malnutrition EDA\n",
        "Malnutrition is a condition that results from eating a diet in which one or more nutrients are either not enough or are too much such that the diet causes health problems.\n",
        "\n",
        "*Wasting*: Also known as 'acute malnutrition', wasting is characterized by a rapid deterioration in nutritional status over a short period of time in children under five years of age. Wasted children are at higher risk of dying.\n",
        "\n",
        "*Stunting*: the impaired growth and development that children experience from poor nutrition, repeated infection, and inadequate psychosocial stimulation. Children are defined as stunted if their height-for-age is more than two standard deviations below the WHO Child Growth Standards median.\n",
        "\n",
        "**The data available**\n",
        "\n",
        "```Severe Wasting``` - % of children aged 0–59 months who are below minus three standard deviations from median weight-for-height.\n",
        "\n",
        "```Wasting``` – Moderate and severe: % of children aged 0–59 months who are below minus two standard deviations from median weight-for-height\n",
        "\n",
        "```Overweight``` – Moderate and severe: % aged 0-59 months who are above two standard deviations from median weight-for-height\n",
        "\n",
        "```Stunting``` – Moderate and severe:\n",
        "% of children aged 0–59 months who are below minus two standard deviations from median height-for-age\n",
        "\n",
        "```Underweight``` – Moderate and severe: % of children aged 0–59 months who are below minus two standard deviations from median weight-for-age\n",
        "\n",
        "```Income Classification``` - When it comes to income, the World Bank divides the world's economies into four income groups: \n",
        "- High\n",
        "- Upper-middle \n",
        "- Lower-middle\n",
        "- Low\n",
        "\n",
        "The income classification is based on a measure of national income per person, or GNI per capita, calculated using the Atlas method."
      ]
    },
    {
      "cell_type": "markdown",
      "metadata": {
        "id": "jtXEzM1_d4Il",
        "colab_type": "text"
      },
      "source": [
        "## Grading \n",
        "\n",
        "Every question in this homework is worth a point. There are a total of 15 questions.\n",
        "If a question has 2 parts, each part is worth half a point.\n",
        "\n",
        "\n",
        "In order to work on the Homework sections and submit them for grading, you'll need to run the code block below. It will ask for your student ID number and then create a folder that will house your answers for each question. At the very end of the notebook, there is a code section that will download this folder as a zip file to your computer. This zip file will be your final submission."
      ]
    },
    {
      "cell_type": "code",
      "metadata": {
        "id": "glNwYzOyxYHl",
        "colab_type": "code",
        "colab": {}
      },
      "source": [
        "import os\n",
        "import shutil\n",
        "\n",
        "!rm -rf sample_data\n",
        "\n",
        "student_id = input('Please Enter your Student ID: ') # Enter Student ID.\n",
        "\n",
        "while len(student_id) != 9:\n",
        " student_id = int('Please Enter your Student ID: ')  \n",
        "  \n",
        "folder_location = f'{student_id}/Week_Four/Homework'\n",
        "if not os.path.exists(folder_location):\n",
        "  os.makedirs(folder_location)\n",
        "  print('Successfully Created Directory, Lets get started')\n",
        "else:\n",
        "  print('Directory Already Exists')"
      ],
      "execution_count": null,
      "outputs": []
    },
    {
      "cell_type": "markdown",
      "metadata": {
        "id": "_PEsPl-md4Im",
        "colab_type": "text"
      },
      "source": [
        "## Import libraries\n",
        "\n",
        "For this homework, these are the libraries that we will be working with."
      ]
    },
    {
      "cell_type": "code",
      "metadata": {
        "id": "8w_mmDnbd4In",
        "colab_type": "code",
        "colab": {}
      },
      "source": [
        "import pandas as pd\n",
        "import matplotlib.pyplot as plt"
      ],
      "execution_count": null,
      "outputs": []
    },
    {
      "cell_type": "markdown",
      "metadata": {
        "id": "hBdbpiN9d4Ir",
        "colab_type": "text"
      },
      "source": [
        "## Load the Dataset"
      ]
    },
    {
      "cell_type": "code",
      "metadata": {
        "id": "K_UBZRDNd4Is",
        "colab_type": "code",
        "colab": {}
      },
      "source": [
        "url = 'https://raw.githubusercontent.com/bitprj/DigitalHistory/master/Week4-Introduction-to-data-visualization-and-graphs-with-matplotlib/data/malnutrition/malnutrition.csv'\n",
        "df = pd.read_csv(url)\n",
        "df"
      ],
      "execution_count": null,
      "outputs": []
    },
    {
      "cell_type": "code",
      "metadata": {
        "id": "9VhFKkVKd4Iv",
        "colab_type": "code",
        "colab": {}
      },
      "source": [
        "df = df.drop(columns = 'Unnamed: 0',axis = 1) # axis 1 means we are modifying columns.\n",
        "df"
      ],
      "execution_count": null,
      "outputs": []
    },
    {
      "cell_type": "markdown",
      "metadata": {
        "id": "cch8_GVGd4Iz",
        "colab_type": "text"
      },
      "source": [
        "## Use pandas to display the basic information of the dataset"
      ]
    },
    {
      "cell_type": "code",
      "metadata": {
        "id": "jYZ4YDUbd4I0",
        "colab_type": "code",
        "colab": {}
      },
      "source": [
        "# head()\n",
        "#INSERT CODE HERE"
      ],
      "execution_count": null,
      "outputs": []
    },
    {
      "cell_type": "code",
      "metadata": {
        "id": "EMivw37Ed4I4",
        "colab_type": "code",
        "colab": {}
      },
      "source": [
        "# tail()\n",
        "#INSERT CODE HERE\n"
      ],
      "execution_count": null,
      "outputs": []
    },
    {
      "cell_type": "code",
      "metadata": {
        "id": "zIP1psGFd4I9",
        "colab_type": "code",
        "colab": {}
      },
      "source": [
        "# describe()\n",
        "#INSERT CODE HERE\n"
      ],
      "execution_count": null,
      "outputs": []
    },
    {
      "cell_type": "code",
      "metadata": {
        "id": "an8KHYV5d4JA",
        "colab_type": "code",
        "colab": {}
      },
      "source": [
        "# info()\n",
        "#INSERT CODE HERE\n"
      ],
      "execution_count": null,
      "outputs": []
    },
    {
      "cell_type": "markdown",
      "metadata": {
        "id": "SXxj5flxd4JD",
        "colab_type": "text"
      },
      "source": [
        "### Total number of null values \n",
        "Lets check the total number of null values in our dataframe and drop them."
      ]
    },
    {
      "cell_type": "code",
      "metadata": {
        "id": "bgKO_h7yd4JE",
        "colab_type": "code",
        "colab": {}
      },
      "source": [
        "df.isna().sum() # Check sum of null values for every column."
      ],
      "execution_count": null,
      "outputs": []
    },
    {
      "cell_type": "code",
      "metadata": {
        "id": "SfdvGMUxd4JI",
        "colab_type": "code",
        "colab": {}
      },
      "source": [
        "df = df.dropna()  # Drop Null values.\n",
        "df.isna().sum()  # Check sum of null values for every column again."
      ],
      "execution_count": null,
      "outputs": []
    },
    {
      "cell_type": "markdown",
      "metadata": {
        "id": "HWOVci7dd4Jg",
        "colab_type": "text"
      },
      "source": [
        "# Histograms"
      ]
    },
    {
      "cell_type": "markdown",
      "metadata": {
        "id": "xy1gDau1d4Jh",
        "colab_type": "text"
      },
      "source": [
        "## Q1. Unique values and histograms. \n",
        "\n",
        "For:\n",
        "- Part 1, find the **number** of unique values for the ```Income Classification``` column.\n",
        "- Part 2, plot a ```histogram``` of the ```Income Classification``` column.\n"
      ]
    },
    {
      "cell_type": "code",
      "metadata": {
        "id": "SlCJ2PjDd4Ji",
        "colab_type": "code",
        "colab": {}
      },
      "source": [
        "# Once your have verified your answer please uncomment the line below and run it, this will save your code \n",
        "#%%writefile -a {folder_location}/1.py\n",
        "# Please note that if you uncomment and run multiple times, the program will keep appending to the file.\n",
        "\n",
        "# Check the number of Unique values int the 'Income Classification' column\n",
        "#INSERT CODE HERE"
      ],
      "execution_count": null,
      "outputs": []
    },
    {
      "cell_type": "code",
      "metadata": {
        "id": "5DNRiOPCd4Jo",
        "colab_type": "code",
        "colab": {}
      },
      "source": [
        "# Once your have verified your answer please uncomment the line below and run it, this will save your code \n",
        "#%%writefile -a {folder_location}/1.py\n",
        "# Please note that if you uncomment and run multiple times, the program will keep appending to the file.\n",
        "\n",
        "# Display the histogram for the Income Classification column, set bins to 20\n",
        "# INSERT CODE HERE"
      ],
      "execution_count": null,
      "outputs": []
    },
    {
      "cell_type": "markdown",
      "metadata": {
        "id": "c8C9EofGayXh",
        "colab_type": "text"
      },
      "source": [
        "### Hint:\n"
      ]
    },
    {
      "cell_type": "markdown",
      "metadata": {
        "id": "PuOGRnCnc0yY",
        "colab_type": "text"
      },
      "source": [
        "This is what the output should look like:\n",
        "\n",
        "![out_1](https://github.com/bitprj/DigitalHistory/blob/master/Week4-Introduction-to-data-visualization-and-graphs-with-matplotlib/assets/Homework3Plots/Q1.png?raw=true)"
      ]
    },
    {
      "cell_type": "markdown",
      "metadata": {
        "id": "G7uPj-Fbd4Jr",
        "colab_type": "text"
      },
      "source": [
        "# Scatter Plots for Income Classification \n",
        "\n",
        "In this part, you will be drawing four scatterplots as subplots of a larger plot. The plot will have a figure size of (30,15).\n",
        "\n",
        "- Since you are plotting using ```df.plot``` you will have to add a parameter for drawing a ```scatterplot```.\n",
        "- Through out this exercise keep ```x``` as ```Income Classification```.\n",
        "- Set ```y``` as the heading of the question respectively.\n",
        "- Make sure that the 4 plots are shown in different ```subplots``` (look at the ```axis``` names below).\n",
        "- The ```color``` for all plots should be unique. *Refer to [this](https://matplotlib.org/api/_as_gen/matplotlib.pyplot.plot.html) link if you need help, look in the colors section*"
      ]
    },
    {
      "cell_type": "code",
      "metadata": {
        "id": "sXwI4Gz1d4Js",
        "colab_type": "code",
        "colab": {}
      },
      "source": [
        "fig = plt.figure(figsize = (30,15))\n",
        "\n",
        "ax1 = fig.add_subplot(2,2,1)\n",
        "ax2 = fig.add_subplot(2,2,2)\n",
        "ax3 = fig.add_subplot(2,2,3)\n",
        "ax4 = fig.add_subplot(2,2,4)"
      ],
      "execution_count": null,
      "outputs": []
    },
    {
      "cell_type": "markdown",
      "metadata": {
        "id": "F9S8am6nd4Jv",
        "colab_type": "text"
      },
      "source": [
        "## Q2. Wasting "
      ]
    },
    {
      "cell_type": "code",
      "metadata": {
        "id": "X3mAjqNpd4Jw",
        "colab_type": "code",
        "colab": {}
      },
      "source": [
        "# Once your have verified your answer please uncomment the line below and run it, this will save your code \n",
        "#%%writefile -a {folder_location}/2.py\n",
        "# Please note that if you uncomment and run multiple times, the program will keep appending to the file.\n",
        "\n",
        "\n",
        "df.plot(# INSERT CODE HERE\n",
        "        # INSERT CODE HERE\n",
        "        # INSERT CODE HERE\n",
        "        # INSERT CODE HERE\n",
        "        # INSERT CODE HERE\n",
        "        ) \n",
        "#fig #incase you want to check remove the first '#' "
      ],
      "execution_count": null,
      "outputs": []
    },
    {
      "cell_type": "markdown",
      "metadata": {
        "id": "7etIYyYPd4Jz",
        "colab_type": "text"
      },
      "source": [
        "## Q3. Overweight"
      ]
    },
    {
      "cell_type": "code",
      "metadata": {
        "id": "l-8gRVuNd4Jz",
        "colab_type": "code",
        "colab": {}
      },
      "source": [
        "# Once your have verified your answer please uncomment the line below and run it, this will save your code \n",
        "#%%writefile -a {folder_location}/3.py\n",
        "# Please note that if you uncomment and run multiple times, the program will keep appending to the file.\n",
        "\n",
        "\n",
        "df.plot(# INSERT CODE HERE \n",
        "        # INSERT CODE HERE \n",
        "        # INSERT CODE HERE \n",
        "        # INSERT CODE HERE \n",
        "        # INSERT CODE HERE \n",
        ")\n",
        "#fig #incase you want to check remove the first '#' "
      ],
      "execution_count": null,
      "outputs": []
    },
    {
      "cell_type": "markdown",
      "metadata": {
        "id": "mza1wPpWd4J6",
        "colab_type": "text"
      },
      "source": [
        "## Q4. Stunting "
      ]
    },
    {
      "cell_type": "code",
      "metadata": {
        "id": "yxoJIkfsd4J7",
        "colab_type": "code",
        "colab": {}
      },
      "source": [
        "# Once your have verified your answer please uncomment the line below and run it, this will save your code \n",
        "#%%writefile -a {folder_location}/4.py\n",
        "# Please note that if you uncomment and run multiple times, the program will keep appending to the file.\n",
        "\n",
        "\n",
        "df.plot(# INSERT CODE HERE\n",
        "        # INSERT CODE HERE\n",
        "        # INSERT CODE HERE\n",
        "        # INSERT CODE HERE\n",
        "        # INSERT CODE HERE\n",
        ")\n",
        "#fig #incase you want to check remove the first '#'"
      ],
      "execution_count": null,
      "outputs": []
    },
    {
      "cell_type": "markdown",
      "metadata": {
        "id": "soKBjprbd4KF",
        "colab_type": "text"
      },
      "source": [
        "## Q5. U5 Population (\\'000s) \n",
        "In this part you'll have to solve a tricky problem when declaring the ```y``` parameter."
      ]
    },
    {
      "cell_type": "code",
      "metadata": {
        "id": "TEmaOYNYd4KG",
        "colab_type": "code",
        "colab": {}
      },
      "source": [
        "# Once your have verified your answer please uncomment the line below and run it, this will save your code \n",
        "#%%writefile -a {folder_location}/5.py\n",
        "# Please note that if you uncomment and run multiple times, the program will keep appending to the file.\n",
        "\n",
        "\n",
        "df.plot(# INSERT CODE HERE\n",
        "        # INSERT CODE HERE\n",
        "        # INSERT CODE HERE\n",
        "        # INSERT CODE HERE\n",
        "        # INSERT CODE HERE\n",
        ")\n",
        "\n",
        "#fig #incase you want to check remove the first '#'"
      ],
      "execution_count": null,
      "outputs": []
    },
    {
      "cell_type": "code",
      "metadata": {
        "id": "pF1g59wed4KM",
        "colab_type": "code",
        "colab": {}
      },
      "source": [
        "fig"
      ],
      "execution_count": null,
      "outputs": []
    },
    {
      "cell_type": "markdown",
      "metadata": {
        "id": "pd9B_I0AbAMc",
        "colab_type": "text"
      },
      "source": [
        "### Hint:\n"
      ]
    },
    {
      "cell_type": "markdown",
      "metadata": {
        "id": "EAGhfXsDcyEM",
        "colab_type": "text"
      },
      "source": [
        "This is what the output should look like:\n",
        "\n",
        "*Note: Don't worry about the colors*\n",
        "\n",
        "![out_2](https://github.com/bitprj/DigitalHistory/blob/master/Week4-Introduction-to-data-visualization-and-graphs-with-matplotlib/assets/Homework3Plots/Q2-3-4-5.png?raw=true)"
      ]
    },
    {
      "cell_type": "markdown",
      "metadata": {
        "id": "4SOQpQTUd4KQ",
        "colab_type": "text"
      },
      "source": [
        "# Horizontal Bar Graphs\n",
        "\n",
        "For the next 4 question there are three steps you will have to follow:\n",
        "\n",
        "- Set up a filter called ```filt``` which looks for values ```greater/ less/ equal``` (```>```,```<```,```=```) or equal (```=```) to 15, in the columns stated.\n",
        "- Create a new dataframe. Declare the designated variables, which are made by using the filter (hint: you'll have to use ```where```). You will also drop the null values.\n",
        "- Plot a horizontal bar graph with the ```x``` axis set to ```Country```.\n",
        "\n",
        "If there are additional requirements for a question, notes will be given there."
      ]
    },
    {
      "cell_type": "markdown",
      "metadata": {
        "id": "wf7uo-26d4KQ",
        "colab_type": "text"
      },
      "source": [
        "## Q6. Plot a Horizontal bar graph for the countries that have a waste percentage greater or equal to 15.\n"
      ]
    },
    {
      "cell_type": "code",
      "metadata": {
        "id": "07gdjUMAd4KR",
        "colab_type": "code",
        "colab": {}
      },
      "source": [
        "# Once your have verified your answer please uncomment the line below and run it, this will save your code \n",
        "#%%writefile -a {folder_location}/6.py\n",
        "# Please note that if you uncomment and run multiple times, the program will keep appending to the file.\n",
        "\n",
        "\n",
        "filt = ___________ >= ____ # INSERT CODE HERE\n",
        "\n",
        "# find rows which match filt\n",
        "max_waste = df._____(filt) # INSERT CODE HERE\n",
        "# drop the null values \n",
        "max_waste = max_waste.# INSERT CODE HERE\n",
        "\n",
        "\n",
        "max_waste.plot(# INSERT CODE HERE\n",
        "               # INSERT CODE HERE\n",
        "               # INSERT CODE HERE\n",
        "               figsize=(20,10))"
      ],
      "execution_count": null,
      "outputs": []
    },
    {
      "cell_type": "markdown",
      "metadata": {
        "id": "Ehl_WEzdbSOu",
        "colab_type": "text"
      },
      "source": [
        "### Hint:\n"
      ]
    },
    {
      "cell_type": "markdown",
      "metadata": {
        "id": "2XQ7ZvdkcvCx",
        "colab_type": "text"
      },
      "source": [
        "This is what the output should look like:\n",
        "\n",
        "![out_6](https://github.com/bitprj/DigitalHistory/blob/master/Week4-Introduction-to-data-visualization-and-graphs-with-matplotlib/assets/Homework3Plots/Q6.png?raw=true)"
      ]
    },
    {
      "cell_type": "markdown",
      "metadata": {
        "id": "4HItFJUsd4KT",
        "colab_type": "text"
      },
      "source": [
        "## Q7. Plot a horizontal bar graph for the countries that have a waste percentage less than or equal to 2."
      ]
    },
    {
      "cell_type": "code",
      "metadata": {
        "id": "2aGo1nKbd4KU",
        "colab_type": "code",
        "colab": {}
      },
      "source": [
        "# Once your have verified your answer please uncomment the line below and run it, this will save your code \n",
        "#%%writefile -a {folder_location}/7.py\n",
        "# Please note that if you uncomment and run multiple times, the program will keep appending to the file.\n",
        "\n",
        "\n",
        "filt = # INSERT CODE HERE\n",
        "\n",
        "# find rows which match filt\n",
        "low_waste = # INSERT CODE HERE\n",
        "# drop the null values \n",
        "low_waste = # INSERT CODE HERE\n",
        "\n",
        "\n",
        "low_waste.plot(# INSERT CODE HERE\n",
        "               # INSERT CODE HERE\n",
        "               # INSERT CODE HERE\n",
        "               figsize=(20,10)\n",
        "              )"
      ],
      "execution_count": null,
      "outputs": []
    },
    {
      "cell_type": "markdown",
      "metadata": {
        "id": "L4LSVtgGbbMj",
        "colab_type": "text"
      },
      "source": [
        "### Hint:\n"
      ]
    },
    {
      "cell_type": "markdown",
      "metadata": {
        "id": "J8KsN3nPcs3V",
        "colab_type": "text"
      },
      "source": [
        "This is what the output should look like:\n",
        "\n",
        "![out_7](https://github.com/bitprj/DigitalHistory/blob/master/Week4-Introduction-to-data-visualization-and-graphs-with-matplotlib/assets/Homework3Plots/Q7.png?raw=true)"
      ]
    },
    {
      "cell_type": "markdown",
      "metadata": {
        "id": "2v7fj8-8d4KX",
        "colab_type": "text"
      },
      "source": [
        "## Q8. Plot the Severe wasting for countries with:\n",
        "\n",
        "\n",
        "- Wasting less than or equal to 5 (```25%``` of ```Wasting``` values are Approximately ```3.262500``` so we are rounding them up to 5)\n",
        "-  **&** \n",
        "- Overweight less than or equal to 5 (```25%``` of ```Overweight``` values are Approximately ```3.850000``` so we are rounding them up to 5)\n",
        "\n",
        "\n",
        "*Hint: **&** above is bold for a specific reason.*"
      ]
    },
    {
      "cell_type": "code",
      "metadata": {
        "id": "0NQwf352d4KY",
        "colab_type": "code",
        "colab": {}
      },
      "source": [
        "# Once your have verified your answer please uncomment the line below and run it, this will save your code \n",
        "#%%writefile -a {folder_location}/8.py\n",
        "# Please note that if you uncomment and run multiple times, the program will keep appending to the file.\n",
        "\n",
        "\n",
        "filt = filt = \n",
        "\n",
        "waste_and_overweight = # INSERT CODE HERE\n",
        "waste_and_overweight = # INSERT CODE HERE\n",
        "\n",
        "\n",
        "waste_and_overweight.plot(# INSERT CODE HERE,\n",
        "                          # INSERT CODE HERE,\n",
        "                          # INSERT CODE HERE,\n",
        "                          figsize=(20,10))"
      ],
      "execution_count": null,
      "outputs": []
    },
    {
      "cell_type": "markdown",
      "metadata": {
        "id": "_lnMY840bjSJ",
        "colab_type": "text"
      },
      "source": [
        "### Hint:\n"
      ]
    },
    {
      "cell_type": "markdown",
      "metadata": {
        "id": "DgKG0cjacqRo",
        "colab_type": "text"
      },
      "source": [
        "This is what the output should look like:\n",
        "\n",
        "![out_8](https://github.com/bitprj/DigitalHistory/blob/master/Week4-Introduction-to-data-visualization-and-graphs-with-matplotlib/assets/Homework3Plots/Q8.png?raw=true)"
      ]
    },
    {
      "cell_type": "markdown",
      "metadata": {
        "id": "GH2MBMrbd4Kb",
        "colab_type": "text"
      },
      "source": [
        "## Q9. Plot the Stunting for countries with:\n",
        "\n",
        "- ```Underweight``` greater than ```13``` (Approximate Mean of this column).\n",
        "- **&**.\n",
        "- ```U5 Population ('000s)``` greater than 4000 (Approximate Mean of this column).\n",
        "\n",
        "*Hint: **&** above is bold for a specific reason.*"
      ]
    },
    {
      "cell_type": "code",
      "metadata": {
        "id": "1wKzg2mHd4Kc",
        "colab_type": "code",
        "colab": {}
      },
      "source": [
        "# Once your have verified your answer please uncomment the line below and run it, this will save your code \n",
        "#%%writefile -a {folder_location}/9.py\n",
        "# Please note that if you uncomment and run multiple times, the program will keep appending to the file.\n",
        "\n",
        "filt =  # INSERT CODE HERE\n",
        "\n",
        "# find rows which match filt\n",
        "under_and_pop_df = # INSERT CODE HERE\n",
        "# drop the null values \n",
        "under_and_pop_df = # INSERT CODE HERE\n",
        "\n",
        "\n",
        "under_and_pop_df.plot(# INSERT CODE HERE\n",
        "                      # INSERT CODE HERE\n",
        "                      # INSERT CODE HERE        \n",
        "                      figsize=(20,10)\n",
        "                      )\n"
      ],
      "execution_count": null,
      "outputs": []
    },
    {
      "cell_type": "markdown",
      "metadata": {
        "id": "VTTOt6kObo6A",
        "colab_type": "text"
      },
      "source": [
        "### Hint:\n"
      ]
    },
    {
      "cell_type": "markdown",
      "metadata": {
        "id": "m165Jn4WcnDP",
        "colab_type": "text"
      },
      "source": [
        "This is what the output should look like:\n",
        "\n",
        "![out_9](https://github.com/bitprj/DigitalHistory/blob/master/Week4-Introduction-to-data-visualization-and-graphs-with-matplotlib/assets/Homework3Plots/Q9.png?raw=true)"
      ]
    },
    {
      "cell_type": "markdown",
      "metadata": {
        "id": "mmkkbepid4Kg",
        "colab_type": "text"
      },
      "source": [
        "# Plot the World Map"
      ]
    },
    {
      "cell_type": "markdown",
      "metadata": {
        "id": "aYHX82qBd4Kh",
        "colab_type": "text"
      },
      "source": [
        "As a bonus I've added a feature that prints out the world map to make our visualizations more observable."
      ]
    },
    {
      "cell_type": "code",
      "metadata": {
        "id": "CDzzuhYrd4Kh",
        "colab_type": "code",
        "colab": {}
      },
      "source": [
        "# Donot Modify\n",
        "import descartes\n",
        "import geopandas as gpd\n",
        "world = gpd.read_file(gpd.datasets.get_path('naturalearth_lowres'))"
      ],
      "execution_count": null,
      "outputs": []
    },
    {
      "cell_type": "markdown",
      "metadata": {
        "id": "p_P8PLm6d4Kk",
        "colab_type": "text"
      },
      "source": [
        "## Q10. Plot the Longitude vs Latitude [GRADED]\n"
      ]
    },
    {
      "cell_type": "code",
      "metadata": {
        "id": "ZiiIU0Xed4Kl",
        "colab_type": "code",
        "colab": {}
      },
      "source": [
        "# Once your have verified your answer please uncomment the line below and run it, this will save your code \n",
        "#%%writefile -a {folder_location}/10.py\n",
        "# Please note that if you uncomment and run multiple times, the program will keep appending to the file.\n",
        "\n",
        "\n",
        "# Donot Modify the two lines below\n",
        "fig,ax = plt.subplots(figsize=(20,10))\n",
        "world.plot(ax=ax, color='lightgray')\n",
        "\n",
        "df.plot(kind=\"scatter\",\n",
        "        # INSERT CODE HERE\n",
        "        # INSERT CODE HERE\n",
        "        ax = ax)\n",
        "\n",
        "plt.show()"
      ],
      "execution_count": null,
      "outputs": []
    },
    {
      "cell_type": "markdown",
      "metadata": {
        "id": "FuqEsLVYbsAC",
        "colab_type": "text"
      },
      "source": [
        "### Hint:\n",
        "\n",
        "\n"
      ]
    },
    {
      "cell_type": "markdown",
      "metadata": {
        "id": "K-IN0eTrb_dr",
        "colab_type": "text"
      },
      "source": [
        "This is what the output should look lik\n",
        "\n",
        "![out_10](https://github.com/bitprj/DigitalHistory/blob/master/Week4-Introduction-to-data-visualization-and-graphs-with-matplotlib/assets/Homework3Plots/Q10.png?raw=true)"
      ]
    },
    {
      "cell_type": "markdown",
      "metadata": {
        "id": "aa2i1_Xtd4Kn",
        "colab_type": "text"
      },
      "source": [
        "## Q11. Adding a color map for Income Classification.\n",
        "\n",
        "Property: ```c : color, sequence, or sequence of color```\n",
        "\n",
        "You will declare this parameter and equate it to ```Income Classification```.\n",
        "\n",
        "Also, add the following:\n",
        "- ```cmap: Colormap```\n",
        "- ```colorbar```\n",
        "- ```xlabel```\n",
        "- ```ylabel```\n",
        "\n",
        "**Note**: Features in the plot above must be present."
      ]
    },
    {
      "cell_type": "code",
      "metadata": {
        "id": "-_VQ4U1Bd4Ko",
        "colab_type": "code",
        "colab": {}
      },
      "source": [
        "# Once your have verified your answer please uncomment the line below and run it, this will save your code \n",
        "#%%writefile -a {folder_location}/11.py\n",
        "# Please note that if you uncomment and run multiple times, the program will keep appending to the file.\n",
        "\n",
        "\n",
        "# Donot Modify the two lines below\n",
        "fig, ax = plt.subplots(figsize=(20,10))\n",
        "world.plot(ax=ax, color='lightgray')\n",
        "\n",
        "df.plot(# INSERT CODE HERE\n",
        "        # INSERT CODE HERE\n",
        "        # INSERT CODE HERE\n",
        "        # INSERT CODE HERE \n",
        "        # INSERT CODE HERE\n",
        "        # INSERT CODE HERE\n",
        "             ax = ax)\n",
        "\n",
        "plt.# INSERT CODE HERE\n",
        "plt.# INSERT CODE HERE\n",
        "plt.show()"
      ],
      "execution_count": null,
      "outputs": []
    },
    {
      "cell_type": "markdown",
      "metadata": {
        "id": "jw23B9sWbs9I",
        "colab_type": "text"
      },
      "source": [
        "### Hint:\n"
      ]
    },
    {
      "cell_type": "markdown",
      "metadata": {
        "id": "RsB2tbPscNXm",
        "colab_type": "text"
      },
      "source": [
        "This is what the output should look like:\n",
        "\n",
        "![out_11](https://github.com/bitprj/DigitalHistory/blob/master/Week4-Introduction-to-data-visualization-and-graphs-with-matplotlib/assets/Homework3Plots/Q11.png?raw=true)"
      ]
    },
    {
      "cell_type": "markdown",
      "metadata": {
        "id": "ekh8av45d4Ks",
        "colab_type": "text"
      },
      "source": [
        "## Q12. Adding a scalar pointer, U5-population\n",
        "\n",
        "Also, add the following:\n",
        "- Replace ```c```  with ```Stunting```\n",
        "- Add a ```label``` for the feature\n",
        "\n",
        "Property: ```s : scalar or array_like, shape (n, )```\n",
        "- You will be adding a scalar parameter ```s``` and equate it to ```U5-population ('000s)```. To call this parameter you would have to would have to declare the column from the dataframe directly instead of just writing the string name.\n",
        "\n",
        "**Note:** In order to get a viewable graph, you will have to divide the feature by a multiple of 10. Be careful, too high and your scalar points won't be distinguishable.\n",
        "\n",
        "\n",
        "\n"
      ]
    },
    {
      "cell_type": "code",
      "metadata": {
        "id": "2RZ9XxKld4Kt",
        "colab_type": "code",
        "colab": {}
      },
      "source": [
        "# Once your have verified your answer please uncomment the line below and run it, this will save your code \n",
        "#%%writefile -a {folder_location}/12.py\n",
        "# Please note that if you uncomment and run multiple times, the program will keep appending to the file.\n",
        "\n",
        "# Donot Modify the two lines below\n",
        "fig, ax = plt.subplots(figsize=(20,10))\n",
        "world.plot(ax=ax,cmap=None, categorical=False, legend=False, color='lightgray')\n",
        "\n",
        "df.plot(# INSERT CODE HERE\n",
        "        # INSERT CODE HERE\n",
        "        # INSERT CODE HERE\n",
        "        # INSERT CODE HERE\n",
        "        # INSERT CODE HERE\n",
        "        # INSERT CODE HERE \n",
        "        # INSERT CODE HERE\n",
        "        ax = ax,\n",
        "        alpha = 0.8,\n",
        "        colorbar = False\n",
        "              )\n",
        "\n",
        "# Donot modify the line below\n",
        "fig.colorbar(ax.collections[1], ax=ax,label='Stunting')\n",
        "\n",
        "plt.xlabel('Longitude')\n",
        "plt.ylabel('Latitude')\n",
        "plt.legend()\n",
        "\n",
        "plt.show()\n",
        "\n"
      ],
      "execution_count": null,
      "outputs": []
    },
    {
      "cell_type": "markdown",
      "metadata": {
        "id": "6B82Kw4ybty2",
        "colab_type": "text"
      },
      "source": [
        "### Hint:\n"
      ]
    },
    {
      "cell_type": "markdown",
      "metadata": {
        "id": "8Aq2nE5UcTyT",
        "colab_type": "text"
      },
      "source": [
        "This is what the output should look like:\n",
        "\n",
        "![out_12](https://github.com/bitprj/DigitalHistory/blob/master/Week4-Introduction-to-data-visualization-and-graphs-with-matplotlib/assets/Homework3Plots/Q12.png?raw=true)"
      ]
    },
    {
      "cell_type": "markdown",
      "metadata": {
        "id": "OePrOur6d4Kw",
        "colab_type": "text"
      },
      "source": [
        "# Compare two countries of your choice\n",
        "\n"
      ]
    },
    {
      "cell_type": "code",
      "metadata": {
        "id": "v2U-u0qVd4Kw",
        "colab_type": "code",
        "colab": {}
      },
      "source": [
        "fig = plt.figure(figsize=(20,10))\n",
        "\n",
        "ax1 = fig.add_subplot(1,2,1)\n",
        "ax2 = fig.add_subplot(1,2,2)\n",
        "\n",
        "# We won't need the these columns\n",
        "columns_to_remove =  ['U5 Population (\\'000s)','Longitude','Latitude']"
      ],
      "execution_count": null,
      "outputs": []
    },
    {
      "cell_type": "markdown",
      "metadata": {
        "id": "_Lrubv4ad4Kz",
        "colab_type": "text"
      },
      "source": [
        "## Q13. New DataFrame for Country 1\n"
      ]
    },
    {
      "cell_type": "code",
      "metadata": {
        "id": "sEp71RFrd4K0",
        "colab_type": "code",
        "colab": {}
      },
      "source": [
        "# Once your have verified your answer please uncomment the line below and run it, this will save your code \n",
        "#%%writefile -a {folder_location}/13.py\n",
        "# Please note that if you uncomment and run multiple times, the program will keep appending to the file.\n",
        "\n",
        "\n",
        "filt = _________ == 'COUNTRY NAME'\n",
        "\n",
        "# Make a new DataFrame using the filter\n",
        "______ = df.____(____)\n",
        "\n",
        "# Drop the columns in columns_to_remove\n",
        "______ = # INSERT CODE HERE\n",
        "\n",
        "# Drop all null values\n",
        "______ = # INSERT CODE HERE\n",
        "\n",
        "# view your newdataframe below\n",
        "\n",
        "____"
      ],
      "execution_count": null,
      "outputs": []
    },
    {
      "cell_type": "markdown",
      "metadata": {
        "id": "pdRjvmGtd4K2",
        "colab_type": "text"
      },
      "source": [
        "## Q14. New DataFrame for Country 2 "
      ]
    },
    {
      "cell_type": "code",
      "metadata": {
        "id": "L7wh-O6xd4K3",
        "colab_type": "code",
        "colab": {}
      },
      "source": [
        "# Once your have verified your answer please uncomment the line below and run it, this will save your code \n",
        "#%%writefile -a {folder_location}/14.py\n",
        "# Please note that if you uncomment and run multiple times, the program will keep appending to the file.\n",
        "\n",
        "\n",
        "# Make a filter\n",
        "# INSERT CODE HERE\n",
        "\n",
        "# Make a new DataFrame using the filter\n",
        "# INSERT CODE HERE\n",
        "\n",
        "# Drop the columns in columns_to_remove\n",
        "# INSERT CODE HERE\n",
        "\n",
        "# Drop all null values\n",
        "# INSERT CODE HERE\n",
        "\n",
        "# view your newdataframe below\n",
        "\n",
        "# INSERT CODE HERE"
      ],
      "execution_count": null,
      "outputs": []
    },
    {
      "cell_type": "markdown",
      "metadata": {
        "id": "q1du6Bded4K6",
        "colab_type": "text"
      },
      "source": [
        "## Q15. Plots bar charts for all features of  both DataFrames"
      ]
    },
    {
      "cell_type": "code",
      "metadata": {
        "id": "256-0rv1d4K6",
        "colab_type": "code",
        "colab": {}
      },
      "source": [
        "# Once your have verified your answer please uncomment the line below and run it, this will save your code \n",
        "#%%writefile -a {folder_location}/15.py\n",
        "# Please note that if you uncomment and run multiple times, the program will keep appending to the file.\n",
        "\n",
        "\n",
        "# Country 1\n",
        "_____.plot(# INSERT CODE HERE\n",
        "            # INSERT CODE HERE\n",
        "            ax = ax1)\n",
        "# Country 2\n",
        "#INSERT CODE HERE\n",
        "        # INSERT CODE HERE\n",
        "        # INSERT CODE HERE\n",
        "        )"
      ],
      "execution_count": null,
      "outputs": []
    },
    {
      "cell_type": "markdown",
      "metadata": {
        "id": "Le2DLwqJbwsd",
        "colab_type": "text"
      },
      "source": [
        "### Hint:\n"
      ]
    },
    {
      "cell_type": "markdown",
      "metadata": {
        "id": "lx0arAdQce54",
        "colab_type": "text"
      },
      "source": [
        "This is what the output should look like:\n",
        "\n",
        "*Note: Don't worry about the Countries I chose*\n",
        "\n",
        "![out_15](https://github.com/bitprj/DigitalHistory/blob/master/Week4-Introduction-to-data-visualization-and-graphs-with-matplotlib/assets/Homework3Plots/Q15.png?raw=true)"
      ]
    },
    {
      "cell_type": "code",
      "metadata": {
        "id": "3RDz_pM9d4LA",
        "colab_type": "code",
        "colab": {}
      },
      "source": [
        "fig"
      ],
      "execution_count": null,
      "outputs": []
    },
    {
      "cell_type": "markdown",
      "metadata": {
        "id": "Sw_Cv2SRyB_1",
        "colab_type": "text"
      },
      "source": [
        "\n",
        "## Submission\n",
        "Run this code block to download your answers."
      ]
    },
    {
      "cell_type": "code",
      "metadata": {
        "id": "pptJmIZIyBUd",
        "colab_type": "code",
        "colab": {}
      },
      "source": [
        "from google.colab import files\n",
        "!zip -r \"{student_id}.zip\" \"{student_id}\"\n",
        "files.download(f\"{student_id}.zip\")"
      ],
      "execution_count": null,
      "outputs": []
    },
    {
      "cell_type": "markdown",
      "metadata": {
        "id": "UynLVaoad4LE",
        "colab_type": "text"
      },
      "source": [
        "## Appendix\n",
        "\n"
      ]
    },
    {
      "cell_type": "markdown",
      "metadata": {
        "id": "uEiHtr69d4LE",
        "colab_type": "text"
      },
      "source": [
        "### How to Add latitude and Longitude"
      ]
    },
    {
      "cell_type": "code",
      "metadata": {
        "id": "7zKYFLTBd4LF",
        "colab_type": "code",
        "colab": {}
      },
      "source": [
        "from geopy.exc import GeocoderTimedOut \n",
        "from geopy.geocoders import Nominatim \n",
        "   \n",
        "# declare an empty list to store \n",
        "# latitude and longitude of values  \n",
        "# of city column \n",
        "longitude = [] \n",
        "latitude = [] \n",
        "   \n",
        "# function to find the coordinate \n",
        "# of a given city  \n",
        "def findGeocode(city): \n",
        "       \n",
        "    # try and catch is used to overcome \n",
        "    # the exception thrown by geolocator \n",
        "    # using geocodertimedout   \n",
        "    try: \n",
        "          \n",
        "        # Specify the user_agent as your \n",
        "        # app name it should not be none \n",
        "        geolocator = Nominatim(user_agent=\"your_app_name\") \n",
        "          \n",
        "        return geolocator.geocode(city) \n",
        "      \n",
        "    except GeocoderTimedOut: \n",
        "          \n",
        "        return findGeocode(city)     \n",
        "  \n",
        "# each value from city column \n",
        "# will be fetched and sent to \n",
        "# function find_geocode    \n",
        "for i in (df[\"Country\"]): \n",
        "      \n",
        "    if findGeocode(i) != None: \n",
        "           \n",
        "        loc = findGeocode(i) \n",
        "          \n",
        "        # coordinates returned from  \n",
        "        # function is stored into \n",
        "        # two separate list \n",
        "        latitude.append(loc.latitude) \n",
        "        longitude.append(loc.longitude) \n",
        "       \n",
        "    # if coordinate for a city not \n",
        "    # found, insert \"NaN\" indicating  \n",
        "    # missing value  \n",
        "    else: \n",
        "        latitude.append(np.nan) \n",
        "        longitude.append(np.nan) \n",
        "        \n",
        "        \n",
        "df['Latitude'] = latitude\n",
        "df['Longitude'] = longitude\n",
        "df.to_csv(r'../malnutrition/malnutrition.csv')"
      ],
      "execution_count": null,
      "outputs": []
    }
  ]
}