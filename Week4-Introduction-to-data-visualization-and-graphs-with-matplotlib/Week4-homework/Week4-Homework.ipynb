{
  "nbformat": 4,
  "nbformat_minor": 0,
  "metadata": {
    "kernelspec": {
      "display_name": "Python 3",
      "language": "python",
      "name": "python3"
    },
    "language_info": {
      "codemirror_mode": {
        "name": "ipython",
        "version": 3
      },
      "file_extension": ".py",
      "mimetype": "text/x-python",
      "name": "python",
      "nbconvert_exporter": "python",
      "pygments_lexer": "ipython3",
      "version": "3.7.4"
    },
    "colab": {
      "name": "Week4-Homework.ipynb",
      "provenance": [],
      "include_colab_link": true
    }
  },
  "cells": [
    {
      "cell_type": "markdown",
      "metadata": {
        "id": "view-in-github",
        "colab_type": "text"
      },
      "source": [
        "<a href=\"https://colab.research.google.com/github/bitprj/DigitalHistory/blob/Shayan/Week4-Introduction-to-data-visualization-and-graphs-with-matplotlib/Week4-homework/Week4-Homework.ipynb\" target=\"_parent\"><img src=\"https://colab.research.google.com/assets/colab-badge.svg\" alt=\"Open In Colab\"/></a>"
      ]
    },
    {
      "cell_type": "markdown",
      "metadata": {
        "id": "_mwoK-OGd4Ie",
        "colab_type": "text"
      },
      "source": [
        "## <div align=\"center\">Homework 3</div>\n",
        "\n"
      ]
    },
    {
      "cell_type": "markdown",
      "metadata": {
        "id": "mTu386TreGYK",
        "colab_type": "text"
      },
      "source": [
        "# <div align=\"center\">Malnutrition, A disease the world has forgotten</div>"
      ]
    },
    {
      "cell_type": "markdown",
      "metadata": {
        "id": "dlsnYt9Jd4Ik",
        "colab_type": "text"
      },
      "source": [
        "Welcome to Homework 3. In this homework, you will be using the techniques you learned throughout Week 4. The purpose of this homework for you to be able to practice visualization and the articulation of your observations. You will be asked to find answers to questions using ```matplotlib``` and ```pandas```. Because these topics are very new to you and can be challenging to absorb, we will be giving you hints and references to relevant sections in the week 4 lessons for some coding questions.\n",
        "\n",
        "By the end of the exercise, the deliverables are:\n",
        "\n",
        "|    Questions                                      | # of assignments|\n",
        "|---------------------------------------------------|-----------------|\n",
        "|Histogram plots                                    |1                |\n",
        "|Scatter plots                                      |4                |\n",
        "|Bar plots                                          |4                |\n",
        "|Plot of the world map with the required features.  |3                |\n",
        "|A comparison between two countries of your choice |3                |"
      ]
    },
    {
      "cell_type": "markdown",
      "metadata": {
        "id": "lcSP9Q-Sd4Ik",
        "colab_type": "text"
      },
      "source": [
        "## About the Dataset\n",
        "\n",
        "### Malnutrition EDA\n",
        "Malnutrition is a condition that results from eating a diet in which one or more nutrients are either not enough or are too much such that the diet causes health problems.\n",
        "\n",
        "Wasting: Also known as 'acute malnutrition', wasting is characterized by a rapid deterioration in nutritional status over a short period of time in children under five years of age. Wasted children are at higher risk of dying.\n",
        "\n",
        "Stunting is the impaired growth and development that children experience from poor nutrition, repeated infection, and inadequate psychosocial stimulation. Children are defined as stunted if their height-for-age is more than two standard deviations below the WHO Child Growth Standards median.\n",
        "\n",
        "**The data available**\n",
        "\n",
        "```Severe Wasting``` - % of children aged 0–59 months who are below minus three standard deviations from median weight-for-height.\n",
        "\n",
        "```Wasting``` – Moderate and severe: % of children aged 0–59 months who are below minus two standard deviations from median weight-for-height\n",
        "\n",
        "```Overweight``` – Moderate and severe: % aged 0-59 months who are above two standard deviations from median weight-for-height\n",
        "\n",
        "```Stunting``` – Moderate and severe:\n",
        "% of children aged 0–59 months who are below minus two standard deviations from median height-for-age\n",
        "\n",
        "```Underweight``` – Moderate and severe: % of children aged 0–59 months who are below minus two standard deviations from median weight-for-age\n",
        "\n",
        "```Income Classification``` - When it comes to income, the World Bank divides the world's economies into four income groups: \n",
        "- High\n",
        "- Upper-middle \n",
        "- Lower-middle\n",
        "- Low\n",
        "\n",
        "The income classification is based on a measure of national income per person, or GNI per capita, calculated using the Atlas method."
      ]
    },
    {
      "cell_type": "markdown",
      "metadata": {
        "id": "jtXEzM1_d4Il",
        "colab_type": "text"
      },
      "source": [
        "## Grading \n",
        "\n",
        "Every question in this homework is worth a point. There are a total of 20 questions.\n",
        "If a question has 2 parts, each part is worth half a point.\n",
        "\n",
        "\n",
        "In order to work on the NTT sections and submit them for grading, you'll need to run the code block below. It will ask for your student ID number and then create a folder that will house your answers for each question. At the very end of the notebook, there is a code section that will download this folder as a zip file to your computer. This zip file will be your final submission."
      ]
    },
    {
      "cell_type": "code",
      "metadata": {
        "id": "glNwYzOyxYHl",
        "colab_type": "code",
        "colab": {
          "base_uri": "https://localhost:8080/",
          "height": 51
        },
        "outputId": "27fe80b6-8ef6-4ab9-e2a6-6fda41005605"
      },
      "source": [
        "import os\n",
        "import shutil\n",
        "\n",
        "!rm -rf sample_data\n",
        "\n",
        "student_id = input('Please Enter your Student ID: ') # Enter Student ID.\n",
        "\n",
        "while len(student_id) != 9:\n",
        " student_id = int('Please Enter your Student ID: ')  \n",
        "  \n",
        "folder_location = f'{student_id}/Week_Three/Homework'\n",
        "if not os.path.exists(folder_location):\n",
        "  os.makedirs(folder_location)\n",
        "  print('Successfully Created Directory, Lets get started')\n",
        "else:\n",
        "  print('Directory Already Exists')"
      ],
      "execution_count": null,
      "outputs": [
        {
          "output_type": "stream",
          "text": [
            "Please Enter your Student ID: 123456789\n",
            "Directory Already Exists\n"
          ],
          "name": "stdout"
        }
      ]
    },
    {
      "cell_type": "markdown",
      "metadata": {
        "id": "_PEsPl-md4Im",
        "colab_type": "text"
      },
      "source": [
        "## Import libraries"
      ]
    },
    {
      "cell_type": "code",
      "metadata": {
        "id": "8w_mmDnbd4In",
        "colab_type": "code",
        "colab": {}
      },
      "source": [
        "import pandas as pd\n",
        "import numpy as np\n",
        "import matplotlib.pyplot as plt"
      ],
      "execution_count": 1,
      "outputs": []
    },
    {
      "cell_type": "markdown",
      "metadata": {
        "id": "hBdbpiN9d4Ir",
        "colab_type": "text"
      },
      "source": [
        "## Load the Dataset"
      ]
    },
    {
      "cell_type": "code",
      "metadata": {
        "id": "K_UBZRDNd4Is",
        "colab_type": "code",
        "colab": {
          "base_uri": "https://localhost:8080/",
          "height": 513
        },
        "outputId": "740e152f-661c-4fec-c201-8e578d466243"
      },
      "source": [
        "url = 'https://raw.githubusercontent.com/bitprj/DigitalHistory/master/Week4-Introduction-to-data-visualization-and-graphs-with-matplotlib/data/malnutrition/malnutrition.csv'\n",
        "df = pd.read_csv(url)\n",
        "df"
      ],
      "execution_count": 2,
      "outputs": [
        {
          "output_type": "execute_result",
          "data": {
            "text/html": [
              "<div>\n",
              "<style scoped>\n",
              "    .dataframe tbody tr th:only-of-type {\n",
              "        vertical-align: middle;\n",
              "    }\n",
              "\n",
              "    .dataframe tbody tr th {\n",
              "        vertical-align: top;\n",
              "    }\n",
              "\n",
              "    .dataframe thead th {\n",
              "        text-align: right;\n",
              "    }\n",
              "</style>\n",
              "<table border=\"1\" class=\"dataframe\">\n",
              "  <thead>\n",
              "    <tr style=\"text-align: right;\">\n",
              "      <th></th>\n",
              "      <th>Unnamed: 0</th>\n",
              "      <th>Country</th>\n",
              "      <th>Income Classification</th>\n",
              "      <th>Severe Wasting</th>\n",
              "      <th>Wasting</th>\n",
              "      <th>Overweight</th>\n",
              "      <th>Stunting</th>\n",
              "      <th>Underweight</th>\n",
              "      <th>U5 Population ('000s)</th>\n",
              "      <th>Longitude</th>\n",
              "      <th>Latitude</th>\n",
              "    </tr>\n",
              "  </thead>\n",
              "  <tbody>\n",
              "    <tr>\n",
              "      <th>0</th>\n",
              "      <td>0</td>\n",
              "      <td>AFGHANISTAN</td>\n",
              "      <td>0.0</td>\n",
              "      <td>3.033333</td>\n",
              "      <td>10.350000</td>\n",
              "      <td>5.125000</td>\n",
              "      <td>47.775000</td>\n",
              "      <td>30.375000</td>\n",
              "      <td>4918.561500</td>\n",
              "      <td>66.238514</td>\n",
              "      <td>33.768006</td>\n",
              "    </tr>\n",
              "    <tr>\n",
              "      <th>1</th>\n",
              "      <td>1</td>\n",
              "      <td>ALBANIA</td>\n",
              "      <td>2.0</td>\n",
              "      <td>4.075000</td>\n",
              "      <td>7.760000</td>\n",
              "      <td>20.800000</td>\n",
              "      <td>24.160000</td>\n",
              "      <td>7.700000</td>\n",
              "      <td>232.859800</td>\n",
              "      <td>19.999962</td>\n",
              "      <td>41.000028</td>\n",
              "    </tr>\n",
              "    <tr>\n",
              "      <th>2</th>\n",
              "      <td>2</td>\n",
              "      <td>ALGERIA</td>\n",
              "      <td>2.0</td>\n",
              "      <td>2.733333</td>\n",
              "      <td>5.942857</td>\n",
              "      <td>12.833333</td>\n",
              "      <td>19.571429</td>\n",
              "      <td>7.342857</td>\n",
              "      <td>3565.213143</td>\n",
              "      <td>2.999983</td>\n",
              "      <td>28.000027</td>\n",
              "    </tr>\n",
              "    <tr>\n",
              "      <th>3</th>\n",
              "      <td>3</td>\n",
              "      <td>ANGOLA</td>\n",
              "      <td>1.0</td>\n",
              "      <td>2.400000</td>\n",
              "      <td>6.933333</td>\n",
              "      <td>2.550000</td>\n",
              "      <td>42.633333</td>\n",
              "      <td>23.600000</td>\n",
              "      <td>3980.054000</td>\n",
              "      <td>17.569124</td>\n",
              "      <td>-11.877577</td>\n",
              "    </tr>\n",
              "    <tr>\n",
              "      <th>4</th>\n",
              "      <td>4</td>\n",
              "      <td>ARGENTINA</td>\n",
              "      <td>2.0</td>\n",
              "      <td>0.200000</td>\n",
              "      <td>2.150000</td>\n",
              "      <td>11.125000</td>\n",
              "      <td>10.025000</td>\n",
              "      <td>2.600000</td>\n",
              "      <td>3613.651750</td>\n",
              "      <td>-64.967282</td>\n",
              "      <td>-34.996496</td>\n",
              "    </tr>\n",
              "    <tr>\n",
              "      <th>...</th>\n",
              "      <td>...</td>\n",
              "      <td>...</td>\n",
              "      <td>...</td>\n",
              "      <td>...</td>\n",
              "      <td>...</td>\n",
              "      <td>...</td>\n",
              "      <td>...</td>\n",
              "      <td>...</td>\n",
              "      <td>...</td>\n",
              "      <td>...</td>\n",
              "      <td>...</td>\n",
              "    </tr>\n",
              "    <tr>\n",
              "      <th>147</th>\n",
              "      <td>147</td>\n",
              "      <td>VENEZUELA (BOLIVARIAN REPUBLIC OF)</td>\n",
              "      <td>2.0</td>\n",
              "      <td>NaN</td>\n",
              "      <td>4.333333</td>\n",
              "      <td>5.409524</td>\n",
              "      <td>16.957143</td>\n",
              "      <td>4.242857</td>\n",
              "      <td>2787.800095</td>\n",
              "      <td>-66.110932</td>\n",
              "      <td>8.001871</td>\n",
              "    </tr>\n",
              "    <tr>\n",
              "      <th>148</th>\n",
              "      <td>148</td>\n",
              "      <td>VIET NAM</td>\n",
              "      <td>1.0</td>\n",
              "      <td>2.331250</td>\n",
              "      <td>8.661905</td>\n",
              "      <td>3.317647</td>\n",
              "      <td>34.922727</td>\n",
              "      <td>22.918182</td>\n",
              "      <td>7507.220273</td>\n",
              "      <td>108.426511</td>\n",
              "      <td>13.290403</td>\n",
              "    </tr>\n",
              "    <tr>\n",
              "      <th>149</th>\n",
              "      <td>149</td>\n",
              "      <td>YEMEN</td>\n",
              "      <td>0.0</td>\n",
              "      <td>5.300000</td>\n",
              "      <td>15.242857</td>\n",
              "      <td>4.842857</td>\n",
              "      <td>51.900000</td>\n",
              "      <td>37.785714</td>\n",
              "      <td>3269.476000</td>\n",
              "      <td>47.891527</td>\n",
              "      <td>16.347124</td>\n",
              "    </tr>\n",
              "    <tr>\n",
              "      <th>150</th>\n",
              "      <td>150</td>\n",
              "      <td>ZAMBIA</td>\n",
              "      <td>1.0</td>\n",
              "      <td>2.042857</td>\n",
              "      <td>5.542857</td>\n",
              "      <td>7.228571</td>\n",
              "      <td>48.137500</td>\n",
              "      <td>17.885714</td>\n",
              "      <td>2083.494500</td>\n",
              "      <td>27.559916</td>\n",
              "      <td>-14.518624</td>\n",
              "    </tr>\n",
              "    <tr>\n",
              "      <th>151</th>\n",
              "      <td>151</td>\n",
              "      <td>ZIMBABWE</td>\n",
              "      <td>1.0</td>\n",
              "      <td>1.388889</td>\n",
              "      <td>4.166667</td>\n",
              "      <td>5.788889</td>\n",
              "      <td>30.455556</td>\n",
              "      <td>10.710000</td>\n",
              "      <td>1912.450400</td>\n",
              "      <td>29.746841</td>\n",
              "      <td>-18.455496</td>\n",
              "    </tr>\n",
              "  </tbody>\n",
              "</table>\n",
              "<p>152 rows × 11 columns</p>\n",
              "</div>"
            ],
            "text/plain": [
              "     Unnamed: 0                             Country  ...   Longitude   Latitude\n",
              "0             0                         AFGHANISTAN  ...   66.238514  33.768006\n",
              "1             1                             ALBANIA  ...   19.999962  41.000028\n",
              "2             2                             ALGERIA  ...    2.999983  28.000027\n",
              "3             3                              ANGOLA  ...   17.569124 -11.877577\n",
              "4             4                           ARGENTINA  ...  -64.967282 -34.996496\n",
              "..          ...                                 ...  ...         ...        ...\n",
              "147         147  VENEZUELA (BOLIVARIAN REPUBLIC OF)  ...  -66.110932   8.001871\n",
              "148         148                            VIET NAM  ...  108.426511  13.290403\n",
              "149         149                               YEMEN  ...   47.891527  16.347124\n",
              "150         150                              ZAMBIA  ...   27.559916 -14.518624\n",
              "151         151                            ZIMBABWE  ...   29.746841 -18.455496\n",
              "\n",
              "[152 rows x 11 columns]"
            ]
          },
          "metadata": {
            "tags": []
          },
          "execution_count": 2
        }
      ]
    },
    {
      "cell_type": "code",
      "metadata": {
        "id": "9VhFKkVKd4Iv",
        "colab_type": "code",
        "colab": {
          "base_uri": "https://localhost:8080/",
          "height": 513
        },
        "outputId": "f86fa809-7e48-4ff1-eb62-41ade5f001d3"
      },
      "source": [
        "df = df.drop(columns = 'Unnamed: 0',axis = 1)\n",
        "df"
      ],
      "execution_count": 3,
      "outputs": [
        {
          "output_type": "execute_result",
          "data": {
            "text/html": [
              "<div>\n",
              "<style scoped>\n",
              "    .dataframe tbody tr th:only-of-type {\n",
              "        vertical-align: middle;\n",
              "    }\n",
              "\n",
              "    .dataframe tbody tr th {\n",
              "        vertical-align: top;\n",
              "    }\n",
              "\n",
              "    .dataframe thead th {\n",
              "        text-align: right;\n",
              "    }\n",
              "</style>\n",
              "<table border=\"1\" class=\"dataframe\">\n",
              "  <thead>\n",
              "    <tr style=\"text-align: right;\">\n",
              "      <th></th>\n",
              "      <th>Country</th>\n",
              "      <th>Income Classification</th>\n",
              "      <th>Severe Wasting</th>\n",
              "      <th>Wasting</th>\n",
              "      <th>Overweight</th>\n",
              "      <th>Stunting</th>\n",
              "      <th>Underweight</th>\n",
              "      <th>U5 Population ('000s)</th>\n",
              "      <th>Longitude</th>\n",
              "      <th>Latitude</th>\n",
              "    </tr>\n",
              "  </thead>\n",
              "  <tbody>\n",
              "    <tr>\n",
              "      <th>0</th>\n",
              "      <td>AFGHANISTAN</td>\n",
              "      <td>0.0</td>\n",
              "      <td>3.033333</td>\n",
              "      <td>10.350000</td>\n",
              "      <td>5.125000</td>\n",
              "      <td>47.775000</td>\n",
              "      <td>30.375000</td>\n",
              "      <td>4918.561500</td>\n",
              "      <td>66.238514</td>\n",
              "      <td>33.768006</td>\n",
              "    </tr>\n",
              "    <tr>\n",
              "      <th>1</th>\n",
              "      <td>ALBANIA</td>\n",
              "      <td>2.0</td>\n",
              "      <td>4.075000</td>\n",
              "      <td>7.760000</td>\n",
              "      <td>20.800000</td>\n",
              "      <td>24.160000</td>\n",
              "      <td>7.700000</td>\n",
              "      <td>232.859800</td>\n",
              "      <td>19.999962</td>\n",
              "      <td>41.000028</td>\n",
              "    </tr>\n",
              "    <tr>\n",
              "      <th>2</th>\n",
              "      <td>ALGERIA</td>\n",
              "      <td>2.0</td>\n",
              "      <td>2.733333</td>\n",
              "      <td>5.942857</td>\n",
              "      <td>12.833333</td>\n",
              "      <td>19.571429</td>\n",
              "      <td>7.342857</td>\n",
              "      <td>3565.213143</td>\n",
              "      <td>2.999983</td>\n",
              "      <td>28.000027</td>\n",
              "    </tr>\n",
              "    <tr>\n",
              "      <th>3</th>\n",
              "      <td>ANGOLA</td>\n",
              "      <td>1.0</td>\n",
              "      <td>2.400000</td>\n",
              "      <td>6.933333</td>\n",
              "      <td>2.550000</td>\n",
              "      <td>42.633333</td>\n",
              "      <td>23.600000</td>\n",
              "      <td>3980.054000</td>\n",
              "      <td>17.569124</td>\n",
              "      <td>-11.877577</td>\n",
              "    </tr>\n",
              "    <tr>\n",
              "      <th>4</th>\n",
              "      <td>ARGENTINA</td>\n",
              "      <td>2.0</td>\n",
              "      <td>0.200000</td>\n",
              "      <td>2.150000</td>\n",
              "      <td>11.125000</td>\n",
              "      <td>10.025000</td>\n",
              "      <td>2.600000</td>\n",
              "      <td>3613.651750</td>\n",
              "      <td>-64.967282</td>\n",
              "      <td>-34.996496</td>\n",
              "    </tr>\n",
              "    <tr>\n",
              "      <th>...</th>\n",
              "      <td>...</td>\n",
              "      <td>...</td>\n",
              "      <td>...</td>\n",
              "      <td>...</td>\n",
              "      <td>...</td>\n",
              "      <td>...</td>\n",
              "      <td>...</td>\n",
              "      <td>...</td>\n",
              "      <td>...</td>\n",
              "      <td>...</td>\n",
              "    </tr>\n",
              "    <tr>\n",
              "      <th>147</th>\n",
              "      <td>VENEZUELA (BOLIVARIAN REPUBLIC OF)</td>\n",
              "      <td>2.0</td>\n",
              "      <td>NaN</td>\n",
              "      <td>4.333333</td>\n",
              "      <td>5.409524</td>\n",
              "      <td>16.957143</td>\n",
              "      <td>4.242857</td>\n",
              "      <td>2787.800095</td>\n",
              "      <td>-66.110932</td>\n",
              "      <td>8.001871</td>\n",
              "    </tr>\n",
              "    <tr>\n",
              "      <th>148</th>\n",
              "      <td>VIET NAM</td>\n",
              "      <td>1.0</td>\n",
              "      <td>2.331250</td>\n",
              "      <td>8.661905</td>\n",
              "      <td>3.317647</td>\n",
              "      <td>34.922727</td>\n",
              "      <td>22.918182</td>\n",
              "      <td>7507.220273</td>\n",
              "      <td>108.426511</td>\n",
              "      <td>13.290403</td>\n",
              "    </tr>\n",
              "    <tr>\n",
              "      <th>149</th>\n",
              "      <td>YEMEN</td>\n",
              "      <td>0.0</td>\n",
              "      <td>5.300000</td>\n",
              "      <td>15.242857</td>\n",
              "      <td>4.842857</td>\n",
              "      <td>51.900000</td>\n",
              "      <td>37.785714</td>\n",
              "      <td>3269.476000</td>\n",
              "      <td>47.891527</td>\n",
              "      <td>16.347124</td>\n",
              "    </tr>\n",
              "    <tr>\n",
              "      <th>150</th>\n",
              "      <td>ZAMBIA</td>\n",
              "      <td>1.0</td>\n",
              "      <td>2.042857</td>\n",
              "      <td>5.542857</td>\n",
              "      <td>7.228571</td>\n",
              "      <td>48.137500</td>\n",
              "      <td>17.885714</td>\n",
              "      <td>2083.494500</td>\n",
              "      <td>27.559916</td>\n",
              "      <td>-14.518624</td>\n",
              "    </tr>\n",
              "    <tr>\n",
              "      <th>151</th>\n",
              "      <td>ZIMBABWE</td>\n",
              "      <td>1.0</td>\n",
              "      <td>1.388889</td>\n",
              "      <td>4.166667</td>\n",
              "      <td>5.788889</td>\n",
              "      <td>30.455556</td>\n",
              "      <td>10.710000</td>\n",
              "      <td>1912.450400</td>\n",
              "      <td>29.746841</td>\n",
              "      <td>-18.455496</td>\n",
              "    </tr>\n",
              "  </tbody>\n",
              "</table>\n",
              "<p>152 rows × 10 columns</p>\n",
              "</div>"
            ],
            "text/plain": [
              "                                Country  ...   Latitude\n",
              "0                           AFGHANISTAN  ...  33.768006\n",
              "1                               ALBANIA  ...  41.000028\n",
              "2                               ALGERIA  ...  28.000027\n",
              "3                                ANGOLA  ... -11.877577\n",
              "4                             ARGENTINA  ... -34.996496\n",
              "..                                  ...  ...        ...\n",
              "147  VENEZUELA (BOLIVARIAN REPUBLIC OF)  ...   8.001871\n",
              "148                            VIET NAM  ...  13.290403\n",
              "149                               YEMEN  ...  16.347124\n",
              "150                              ZAMBIA  ... -14.518624\n",
              "151                            ZIMBABWE  ... -18.455496\n",
              "\n",
              "[152 rows x 10 columns]"
            ]
          },
          "metadata": {
            "tags": []
          },
          "execution_count": 3
        }
      ]
    },
    {
      "cell_type": "markdown",
      "metadata": {
        "id": "cch8_GVGd4Iz",
        "colab_type": "text"
      },
      "source": [
        "## Use pandas to display the basic information of the dataset"
      ]
    },
    {
      "cell_type": "code",
      "metadata": {
        "id": "jYZ4YDUbd4I0",
        "colab_type": "code",
        "colab": {
          "base_uri": "https://localhost:8080/",
          "height": 261
        },
        "outputId": "72489c59-4336-473c-da02-c766f64db52d"
      },
      "source": [
        "# head()\n",
        "#INSERT CODE HERE\n",
        "df.head()"
      ],
      "execution_count": 12,
      "outputs": [
        {
          "output_type": "execute_result",
          "data": {
            "text/html": [
              "<div>\n",
              "<style scoped>\n",
              "    .dataframe tbody tr th:only-of-type {\n",
              "        vertical-align: middle;\n",
              "    }\n",
              "\n",
              "    .dataframe tbody tr th {\n",
              "        vertical-align: top;\n",
              "    }\n",
              "\n",
              "    .dataframe thead th {\n",
              "        text-align: right;\n",
              "    }\n",
              "</style>\n",
              "<table border=\"1\" class=\"dataframe\">\n",
              "  <thead>\n",
              "    <tr style=\"text-align: right;\">\n",
              "      <th></th>\n",
              "      <th>Country</th>\n",
              "      <th>Income Classification</th>\n",
              "      <th>Severe Wasting</th>\n",
              "      <th>Wasting</th>\n",
              "      <th>Overweight</th>\n",
              "      <th>Stunting</th>\n",
              "      <th>Underweight</th>\n",
              "      <th>U5 Population ('000s)</th>\n",
              "      <th>Longitude</th>\n",
              "      <th>Latitude</th>\n",
              "    </tr>\n",
              "  </thead>\n",
              "  <tbody>\n",
              "    <tr>\n",
              "      <th>0</th>\n",
              "      <td>AFGHANISTAN</td>\n",
              "      <td>0.0</td>\n",
              "      <td>3.033333</td>\n",
              "      <td>10.350000</td>\n",
              "      <td>5.125000</td>\n",
              "      <td>47.775000</td>\n",
              "      <td>30.375000</td>\n",
              "      <td>4918.561500</td>\n",
              "      <td>66.238514</td>\n",
              "      <td>33.768006</td>\n",
              "    </tr>\n",
              "    <tr>\n",
              "      <th>1</th>\n",
              "      <td>ALBANIA</td>\n",
              "      <td>2.0</td>\n",
              "      <td>4.075000</td>\n",
              "      <td>7.760000</td>\n",
              "      <td>20.800000</td>\n",
              "      <td>24.160000</td>\n",
              "      <td>7.700000</td>\n",
              "      <td>232.859800</td>\n",
              "      <td>19.999962</td>\n",
              "      <td>41.000028</td>\n",
              "    </tr>\n",
              "    <tr>\n",
              "      <th>2</th>\n",
              "      <td>ALGERIA</td>\n",
              "      <td>2.0</td>\n",
              "      <td>2.733333</td>\n",
              "      <td>5.942857</td>\n",
              "      <td>12.833333</td>\n",
              "      <td>19.571429</td>\n",
              "      <td>7.342857</td>\n",
              "      <td>3565.213143</td>\n",
              "      <td>2.999983</td>\n",
              "      <td>28.000027</td>\n",
              "    </tr>\n",
              "    <tr>\n",
              "      <th>3</th>\n",
              "      <td>ANGOLA</td>\n",
              "      <td>1.0</td>\n",
              "      <td>2.400000</td>\n",
              "      <td>6.933333</td>\n",
              "      <td>2.550000</td>\n",
              "      <td>42.633333</td>\n",
              "      <td>23.600000</td>\n",
              "      <td>3980.054000</td>\n",
              "      <td>17.569124</td>\n",
              "      <td>-11.877577</td>\n",
              "    </tr>\n",
              "    <tr>\n",
              "      <th>4</th>\n",
              "      <td>ARGENTINA</td>\n",
              "      <td>2.0</td>\n",
              "      <td>0.200000</td>\n",
              "      <td>2.150000</td>\n",
              "      <td>11.125000</td>\n",
              "      <td>10.025000</td>\n",
              "      <td>2.600000</td>\n",
              "      <td>3613.651750</td>\n",
              "      <td>-64.967282</td>\n",
              "      <td>-34.996496</td>\n",
              "    </tr>\n",
              "  </tbody>\n",
              "</table>\n",
              "</div>"
            ],
            "text/plain": [
              "       Country  Income Classification  ...  Longitude   Latitude\n",
              "0  AFGHANISTAN                    0.0  ...  66.238514  33.768006\n",
              "1      ALBANIA                    2.0  ...  19.999962  41.000028\n",
              "2      ALGERIA                    2.0  ...   2.999983  28.000027\n",
              "3       ANGOLA                    1.0  ...  17.569124 -11.877577\n",
              "4    ARGENTINA                    2.0  ... -64.967282 -34.996496\n",
              "\n",
              "[5 rows x 10 columns]"
            ]
          },
          "metadata": {
            "tags": []
          },
          "execution_count": 12
        }
      ]
    },
    {
      "cell_type": "code",
      "metadata": {
        "id": "EMivw37Ed4I4",
        "colab_type": "code",
        "colab": {
          "base_uri": "https://localhost:8080/",
          "height": 261
        },
        "outputId": "6691b20f-315a-4d77-cd1b-d8b35b19d4f5"
      },
      "source": [
        "# tail()\n",
        "#INSERT CODE HERE\n",
        "df.tail()"
      ],
      "execution_count": 13,
      "outputs": [
        {
          "output_type": "execute_result",
          "data": {
            "text/html": [
              "<div>\n",
              "<style scoped>\n",
              "    .dataframe tbody tr th:only-of-type {\n",
              "        vertical-align: middle;\n",
              "    }\n",
              "\n",
              "    .dataframe tbody tr th {\n",
              "        vertical-align: top;\n",
              "    }\n",
              "\n",
              "    .dataframe thead th {\n",
              "        text-align: right;\n",
              "    }\n",
              "</style>\n",
              "<table border=\"1\" class=\"dataframe\">\n",
              "  <thead>\n",
              "    <tr style=\"text-align: right;\">\n",
              "      <th></th>\n",
              "      <th>Country</th>\n",
              "      <th>Income Classification</th>\n",
              "      <th>Severe Wasting</th>\n",
              "      <th>Wasting</th>\n",
              "      <th>Overweight</th>\n",
              "      <th>Stunting</th>\n",
              "      <th>Underweight</th>\n",
              "      <th>U5 Population ('000s)</th>\n",
              "      <th>Longitude</th>\n",
              "      <th>Latitude</th>\n",
              "    </tr>\n",
              "  </thead>\n",
              "  <tbody>\n",
              "    <tr>\n",
              "      <th>146</th>\n",
              "      <td>VANUATU</td>\n",
              "      <td>1.0</td>\n",
              "      <td>1.700000</td>\n",
              "      <td>5.800000</td>\n",
              "      <td>4.800000</td>\n",
              "      <td>26.766667</td>\n",
              "      <td>11.266667</td>\n",
              "      <td>31.771333</td>\n",
              "      <td>168.106915</td>\n",
              "      <td>-16.525507</td>\n",
              "    </tr>\n",
              "    <tr>\n",
              "      <th>148</th>\n",
              "      <td>VIET NAM</td>\n",
              "      <td>1.0</td>\n",
              "      <td>2.331250</td>\n",
              "      <td>8.661905</td>\n",
              "      <td>3.317647</td>\n",
              "      <td>34.922727</td>\n",
              "      <td>22.918182</td>\n",
              "      <td>7507.220273</td>\n",
              "      <td>108.426511</td>\n",
              "      <td>13.290403</td>\n",
              "    </tr>\n",
              "    <tr>\n",
              "      <th>149</th>\n",
              "      <td>YEMEN</td>\n",
              "      <td>0.0</td>\n",
              "      <td>5.300000</td>\n",
              "      <td>15.242857</td>\n",
              "      <td>4.842857</td>\n",
              "      <td>51.900000</td>\n",
              "      <td>37.785714</td>\n",
              "      <td>3269.476000</td>\n",
              "      <td>47.891527</td>\n",
              "      <td>16.347124</td>\n",
              "    </tr>\n",
              "    <tr>\n",
              "      <th>150</th>\n",
              "      <td>ZAMBIA</td>\n",
              "      <td>1.0</td>\n",
              "      <td>2.042857</td>\n",
              "      <td>5.542857</td>\n",
              "      <td>7.228571</td>\n",
              "      <td>48.137500</td>\n",
              "      <td>17.885714</td>\n",
              "      <td>2083.494500</td>\n",
              "      <td>27.559916</td>\n",
              "      <td>-14.518624</td>\n",
              "    </tr>\n",
              "    <tr>\n",
              "      <th>151</th>\n",
              "      <td>ZIMBABWE</td>\n",
              "      <td>1.0</td>\n",
              "      <td>1.388889</td>\n",
              "      <td>4.166667</td>\n",
              "      <td>5.788889</td>\n",
              "      <td>30.455556</td>\n",
              "      <td>10.710000</td>\n",
              "      <td>1912.450400</td>\n",
              "      <td>29.746841</td>\n",
              "      <td>-18.455496</td>\n",
              "    </tr>\n",
              "  </tbody>\n",
              "</table>\n",
              "</div>"
            ],
            "text/plain": [
              "      Country  Income Classification  ...   Longitude   Latitude\n",
              "146   VANUATU                    1.0  ...  168.106915 -16.525507\n",
              "148  VIET NAM                    1.0  ...  108.426511  13.290403\n",
              "149     YEMEN                    0.0  ...   47.891527  16.347124\n",
              "150    ZAMBIA                    1.0  ...   27.559916 -14.518624\n",
              "151  ZIMBABWE                    1.0  ...   29.746841 -18.455496\n",
              "\n",
              "[5 rows x 10 columns]"
            ]
          },
          "metadata": {
            "tags": []
          },
          "execution_count": 13
        }
      ]
    },
    {
      "cell_type": "code",
      "metadata": {
        "id": "zIP1psGFd4I9",
        "colab_type": "code",
        "colab": {
          "base_uri": "https://localhost:8080/",
          "height": 338
        },
        "outputId": "0ec69cd4-0561-407e-83d4-03c24a6ca432"
      },
      "source": [
        "# describe()\n",
        "#INSERT CODE HERE\n",
        "df.describe()"
      ],
      "execution_count": 14,
      "outputs": [
        {
          "output_type": "execute_result",
          "data": {
            "text/html": [
              "<div>\n",
              "<style scoped>\n",
              "    .dataframe tbody tr th:only-of-type {\n",
              "        vertical-align: middle;\n",
              "    }\n",
              "\n",
              "    .dataframe tbody tr th {\n",
              "        vertical-align: top;\n",
              "    }\n",
              "\n",
              "    .dataframe thead th {\n",
              "        text-align: right;\n",
              "    }\n",
              "</style>\n",
              "<table border=\"1\" class=\"dataframe\">\n",
              "  <thead>\n",
              "    <tr style=\"text-align: right;\">\n",
              "      <th></th>\n",
              "      <th>Income Classification</th>\n",
              "      <th>Severe Wasting</th>\n",
              "      <th>Wasting</th>\n",
              "      <th>Overweight</th>\n",
              "      <th>Stunting</th>\n",
              "      <th>Underweight</th>\n",
              "      <th>U5 Population ('000s)</th>\n",
              "      <th>Longitude</th>\n",
              "      <th>Latitude</th>\n",
              "    </tr>\n",
              "  </thead>\n",
              "  <tbody>\n",
              "    <tr>\n",
              "      <th>count</th>\n",
              "      <td>137.000000</td>\n",
              "      <td>137.000000</td>\n",
              "      <td>137.000000</td>\n",
              "      <td>137.000000</td>\n",
              "      <td>137.000000</td>\n",
              "      <td>137.000000</td>\n",
              "      <td>137.000000</td>\n",
              "      <td>137.000000</td>\n",
              "      <td>137.000000</td>\n",
              "    </tr>\n",
              "    <tr>\n",
              "      <th>mean</th>\n",
              "      <td>1.379562</td>\n",
              "      <td>2.153182</td>\n",
              "      <td>6.534463</td>\n",
              "      <td>7.155143</td>\n",
              "      <td>26.327737</td>\n",
              "      <td>13.584671</td>\n",
              "      <td>4303.073045</td>\n",
              "      <td>23.818981</td>\n",
              "      <td>13.011801</td>\n",
              "    </tr>\n",
              "    <tr>\n",
              "      <th>std</th>\n",
              "      <td>0.948151</td>\n",
              "      <td>1.715253</td>\n",
              "      <td>4.438115</td>\n",
              "      <td>4.709010</td>\n",
              "      <td>14.612015</td>\n",
              "      <td>11.009752</td>\n",
              "      <td>13820.056621</td>\n",
              "      <td>68.762567</td>\n",
              "      <td>21.180151</td>\n",
              "    </tr>\n",
              "    <tr>\n",
              "      <th>min</th>\n",
              "      <td>0.000000</td>\n",
              "      <td>0.000000</td>\n",
              "      <td>0.000000</td>\n",
              "      <td>0.962500</td>\n",
              "      <td>1.000000</td>\n",
              "      <td>0.100000</td>\n",
              "      <td>1.000000</td>\n",
              "      <td>-175.202642</td>\n",
              "      <td>-34.996496</td>\n",
              "    </tr>\n",
              "    <tr>\n",
              "      <th>25%</th>\n",
              "      <td>1.000000</td>\n",
              "      <td>0.900000</td>\n",
              "      <td>3.300000</td>\n",
              "      <td>3.660000</td>\n",
              "      <td>14.242857</td>\n",
              "      <td>4.320000</td>\n",
              "      <td>252.580000</td>\n",
              "      <td>-7.336248</td>\n",
              "      <td>-0.726433</td>\n",
              "    </tr>\n",
              "    <tr>\n",
              "      <th>50%</th>\n",
              "      <td>1.000000</td>\n",
              "      <td>1.825000</td>\n",
              "      <td>5.671429</td>\n",
              "      <td>6.250000</td>\n",
              "      <td>26.725000</td>\n",
              "      <td>10.050000</td>\n",
              "      <td>982.526700</td>\n",
              "      <td>28.335019</td>\n",
              "      <td>13.150033</td>\n",
              "    </tr>\n",
              "    <tr>\n",
              "      <th>75%</th>\n",
              "      <td>2.000000</td>\n",
              "      <td>2.800000</td>\n",
              "      <td>8.575000</td>\n",
              "      <td>9.066667</td>\n",
              "      <td>36.857143</td>\n",
              "      <td>19.575000</td>\n",
              "      <td>3226.073625</td>\n",
              "      <td>57.003690</td>\n",
              "      <td>31.166705</td>\n",
              "    </tr>\n",
              "    <tr>\n",
              "      <th>max</th>\n",
              "      <td>3.000000</td>\n",
              "      <td>11.400000</td>\n",
              "      <td>23.650000</td>\n",
              "      <td>26.500000</td>\n",
              "      <td>57.600000</td>\n",
              "      <td>46.266667</td>\n",
              "      <td>123014.491000</td>\n",
              "      <td>179.158292</td>\n",
              "      <td>53.425061</td>\n",
              "    </tr>\n",
              "  </tbody>\n",
              "</table>\n",
              "</div>"
            ],
            "text/plain": [
              "       Income Classification  Severe Wasting  ...   Longitude    Latitude\n",
              "count             137.000000      137.000000  ...  137.000000  137.000000\n",
              "mean                1.379562        2.153182  ...   23.818981   13.011801\n",
              "std                 0.948151        1.715253  ...   68.762567   21.180151\n",
              "min                 0.000000        0.000000  ... -175.202642  -34.996496\n",
              "25%                 1.000000        0.900000  ...   -7.336248   -0.726433\n",
              "50%                 1.000000        1.825000  ...   28.335019   13.150033\n",
              "75%                 2.000000        2.800000  ...   57.003690   31.166705\n",
              "max                 3.000000       11.400000  ...  179.158292   53.425061\n",
              "\n",
              "[8 rows x 9 columns]"
            ]
          },
          "metadata": {
            "tags": []
          },
          "execution_count": 14
        }
      ]
    },
    {
      "cell_type": "code",
      "metadata": {
        "id": "an8KHYV5d4JA",
        "colab_type": "code",
        "colab": {
          "base_uri": "https://localhost:8080/",
          "height": 312
        },
        "outputId": "ac772847-ac94-4e37-8bcf-34b8f4a381ba"
      },
      "source": [
        "# info()\n",
        "#INSERT CODE HERE\n",
        "df.info()"
      ],
      "execution_count": 15,
      "outputs": [
        {
          "output_type": "stream",
          "text": [
            "<class 'pandas.core.frame.DataFrame'>\n",
            "Int64Index: 137 entries, 0 to 151\n",
            "Data columns (total 10 columns):\n",
            " #   Column                 Non-Null Count  Dtype  \n",
            "---  ------                 --------------  -----  \n",
            " 0   Country                137 non-null    object \n",
            " 1   Income Classification  137 non-null    float64\n",
            " 2   Severe Wasting         137 non-null    float64\n",
            " 3   Wasting                137 non-null    float64\n",
            " 4   Overweight             137 non-null    float64\n",
            " 5   Stunting               137 non-null    float64\n",
            " 6   Underweight            137 non-null    float64\n",
            " 7   U5 Population ('000s)  137 non-null    float64\n",
            " 8   Longitude              137 non-null    float64\n",
            " 9   Latitude               137 non-null    float64\n",
            "dtypes: float64(9), object(1)\n",
            "memory usage: 11.8+ KB\n"
          ],
          "name": "stdout"
        }
      ]
    },
    {
      "cell_type": "markdown",
      "metadata": {
        "id": "SXxj5flxd4JD",
        "colab_type": "text"
      },
      "source": [
        "### Total number of null values \n",
        "Lets check the total number of null values in our dataframe and drop them."
      ]
    },
    {
      "cell_type": "code",
      "metadata": {
        "id": "bgKO_h7yd4JE",
        "colab_type": "code",
        "colab": {
          "base_uri": "https://localhost:8080/",
          "height": 208
        },
        "outputId": "f44f15c5-2d65-4e1f-cc99-98d00817c5bd"
      },
      "source": [
        "df.isna().sum() "
      ],
      "execution_count": 9,
      "outputs": [
        {
          "output_type": "execute_result",
          "data": {
            "text/plain": [
              "Country                   0\n",
              "Income Classification     0\n",
              "Severe Wasting           12\n",
              "Wasting                   2\n",
              "Overweight                3\n",
              "Stunting                  1\n",
              "Underweight               2\n",
              "U5 Population ('000s)     0\n",
              "Longitude                 3\n",
              "Latitude                  3\n",
              "dtype: int64"
            ]
          },
          "metadata": {
            "tags": []
          },
          "execution_count": 9
        }
      ]
    },
    {
      "cell_type": "code",
      "metadata": {
        "id": "SfdvGMUxd4JI",
        "colab_type": "code",
        "colab": {
          "base_uri": "https://localhost:8080/",
          "height": 208
        },
        "outputId": "196ab86c-4824-46b4-9562-2509d893c573"
      },
      "source": [
        "df = df.dropna() \n",
        "df"
      ],
      "execution_count": 11,
      "outputs": [
        {
          "output_type": "execute_result",
          "data": {
            "text/plain": [
              "Country                  0\n",
              "Income Classification    0\n",
              "Severe Wasting           0\n",
              "Wasting                  0\n",
              "Overweight               0\n",
              "Stunting                 0\n",
              "Underweight              0\n",
              "U5 Population ('000s)    0\n",
              "Longitude                0\n",
              "Latitude                 0\n",
              "dtype: int64"
            ]
          },
          "metadata": {
            "tags": []
          },
          "execution_count": 11
        }
      ]
    },
    {
      "cell_type": "markdown",
      "metadata": {
        "id": "oRrCuAz9d4JN",
        "colab_type": "text"
      },
      "source": [
        "## Pandas Questions "
      ]
    },
    {
      "cell_type": "markdown",
      "metadata": {
        "id": "HWOVci7dd4Jg",
        "colab_type": "text"
      },
      "source": [
        "## Histograms"
      ]
    },
    {
      "cell_type": "markdown",
      "metadata": {
        "id": "xy1gDau1d4Jh",
        "colab_type": "text"
      },
      "source": [
        "### Q1. Unique Income Classification Histogram [Graded]"
      ]
    },
    {
      "cell_type": "code",
      "metadata": {
        "id": "SlCJ2PjDd4Ji",
        "colab_type": "code",
        "colab": {}
      },
      "source": [
        "# Once your have verified your answer please uncomment the line below and run it, this will save your code \n",
        "#%%writefile -a {folder_location}/6.py\n",
        "# Please note that if you uncomment and run multiple times, the program will keep appending to the file.\n",
        "\n",
        "\n",
        "# Check the number of Unique values int the 'Income Classification' column\n",
        "df['INSERT COLUMN NAME'].______ #INSERT CODE HERE"
      ],
      "execution_count": null,
      "outputs": []
    },
    {
      "cell_type": "code",
      "metadata": {
        "id": "5DNRiOPCd4Jo",
        "colab_type": "code",
        "colab": {}
      },
      "source": [
        "# Once your have verified your answer please uncomment the line below and run it, this will save your code \n",
        "#%%writefile -a {folder_location}/6.py\n",
        "# Please note that if you uncomment and run multiple times, the program will keep appending to the file.\n",
        "\n",
        "# Display the histogram for the Income Classification column, set bins to 20\n",
        "df[\"INSERT COLUMN NAME\"].______ #INSERT CODE HERE"
      ],
      "execution_count": null,
      "outputs": []
    },
    {
      "cell_type": "markdown",
      "metadata": {
        "id": "G7uPj-Fbd4Jr",
        "colab_type": "text"
      },
      "source": [
        "## Scatter Plots for Income Classification \n",
        "\n",
        "In this part, you will be drawing four scatterplots as subplots of a larger plot. The plot will have a figure size of (20,10).\n",
        "\n",
        "Throughout this exercise keep ```x``` as ```Income Classification```."
      ]
    },
    {
      "cell_type": "code",
      "metadata": {
        "id": "sXwI4Gz1d4Js",
        "colab_type": "code",
        "colab": {}
      },
      "source": [
        "fig = plt.figure(figsize = (30,15))\n",
        "\n",
        "ax1 = fig.add_subplot(2,2,1)\n",
        "ax2 = fig.add_subplot(2,2,2)\n",
        "ax3 = fig.add_subplot(2,2,3)\n",
        "ax4 = fig.add_subplot(2,2,4)"
      ],
      "execution_count": null,
      "outputs": []
    },
    {
      "cell_type": "markdown",
      "metadata": {
        "id": "F9S8am6nd4Jv",
        "colab_type": "text"
      },
      "source": [
        "### Q2. Wasting [Graded]"
      ]
    },
    {
      "cell_type": "code",
      "metadata": {
        "id": "X3mAjqNpd4Jw",
        "colab_type": "code",
        "colab": {}
      },
      "source": [
        "# Once your have verified your answer please uncomment the line below and run it, this will save your code \n",
        "#%%writefile -a {folder_location}/7.py\n",
        "# Please note that if you uncomment and run multiple times, the program will keep appending to the file.\n",
        "\n",
        "\n",
        "df.plot(# INSERT CODE HERE\n",
        "        # INSERT CODE HERE \n",
        "        # INSERT CODE HERE\n",
        "        ax = # INSERT CODE HERE \n",
        "        _____='k') #INSERT CODE HERE\n"
      ],
      "execution_count": null,
      "outputs": []
    },
    {
      "cell_type": "markdown",
      "metadata": {
        "id": "7etIYyYPd4Jz",
        "colab_type": "text"
      },
      "source": [
        "### Q3. Overweight [Graded]"
      ]
    },
    {
      "cell_type": "code",
      "metadata": {
        "id": "l-8gRVuNd4Jz",
        "colab_type": "code",
        "colab": {}
      },
      "source": [
        "# Once your have verified your answer please uncomment the line below and run it, this will save your code \n",
        "#%%writefile -a {folder_location}/8.py\n",
        "# Please note that if you uncomment and run multiple times, the program will keep appending to the file.\n",
        "\n",
        "\n",
        "df.plot(# INSERT CODE HERE\n",
        "        # INSERT CODE HERE\n",
        "        # INSERT CODE HERE,\n",
        "         # INSERT CODE HERE\n",
        "       )\n",
        "        "
      ],
      "execution_count": null,
      "outputs": []
    },
    {
      "cell_type": "markdown",
      "metadata": {
        "id": "mza1wPpWd4J6",
        "colab_type": "text"
      },
      "source": [
        "### Q4. Stunting [Graded]"
      ]
    },
    {
      "cell_type": "code",
      "metadata": {
        "id": "yxoJIkfsd4J7",
        "colab_type": "code",
        "colab": {}
      },
      "source": [
        "# Once your have verified your answer please uncomment the line below and run it, this will save your code \n",
        "#%%writefile -a {folder_location}/9.py\n",
        "# Please note that if you uncomment and run multiple times, the program will keep appending to the file.\n",
        "\n",
        "\n",
        "df.plot(# INSERT CODE HERE\n",
        "        # INSERT CODE HERE\n",
        "        # INSERT CODE HERE\n",
        "        # INSERT CODE HERE\n",
        "        # INSERT CODE HERE)"
      ],
      "execution_count": null,
      "outputs": []
    },
    {
      "cell_type": "markdown",
      "metadata": {
        "id": "soKBjprbd4KF",
        "colab_type": "text"
      },
      "source": [
        "### Q5. U5 Population (\\'000s) [Graded]"
      ]
    },
    {
      "cell_type": "code",
      "metadata": {
        "id": "TEmaOYNYd4KG",
        "colab_type": "code",
        "colab": {}
      },
      "source": [
        "# Once your have verified your answer please uncomment the line below and run it, this will save your code \n",
        "#%%writefile -a {folder_location}/10.py\n",
        "# Please note that if you uncomment and run multiple times, the program will keep appending to the file.\n",
        "\n",
        "\n",
        "df.plot(# INSERT CODE HERE\n",
        "        # INSERT CODE HERE\n",
        "        # INSERT CODE HERE\n",
        "        # INSERT CODE HERE\n",
        "        # INSERT CODE HERE)"
      ],
      "execution_count": null,
      "outputs": []
    },
    {
      "cell_type": "code",
      "metadata": {
        "id": "pF1g59wed4KM",
        "colab_type": "code",
        "colab": {}
      },
      "source": [
        "fig"
      ],
      "execution_count": null,
      "outputs": []
    },
    {
      "cell_type": "markdown",
      "metadata": {
        "id": "4SOQpQTUd4KQ",
        "colab_type": "text"
      },
      "source": [
        "## Bar Graphs"
      ]
    },
    {
      "cell_type": "markdown",
      "metadata": {
        "id": "wf7uo-26d4KQ",
        "colab_type": "text"
      },
      "source": [
        "### Q6. Plot a bar graph for the countries that have a waste percentage greater or equal to 15 [GRADED]"
      ]
    },
    {
      "cell_type": "code",
      "metadata": {
        "id": "07gdjUMAd4KR",
        "colab_type": "code",
        "colab": {}
      },
      "source": [
        "# Once your have verified your answer please uncomment the line below and run it, this will save your code \n",
        "#%%writefile -a {folder_location}/11.py\n",
        "# Please note that if you uncomment and run multiple times, the program will keep appending to the file.\n",
        "\n",
        "\n",
        "filt = ___________ >= ____ # INSERT CODE HERE\n",
        "\n",
        "# find rows which match filt\n",
        "max_waste = df._____(filt) # INSERT CODE HERE\n",
        "# drop the null values \n",
        "max_waste = max_waste.# INSERT CODE HERE\n",
        "\n",
        "\n",
        "max_waste.plot(kind = 'bar',\n",
        "               # INSERT CODE HERE\n",
        "               # INSERT CODE HERE\n",
        "               # INSERT CODE HERE\n",
        "               figsize=(20,10))"
      ],
      "execution_count": null,
      "outputs": []
    },
    {
      "cell_type": "markdown",
      "metadata": {
        "id": "4HItFJUsd4KT",
        "colab_type": "text"
      },
      "source": [
        "### Q7. Plot a bar graph for the countries that have a waste percentage less than or equal to 2 [GRADED]"
      ]
    },
    {
      "cell_type": "code",
      "metadata": {
        "id": "2aGo1nKbd4KU",
        "colab_type": "code",
        "colab": {}
      },
      "source": [
        "# Once your have verified your answer please uncomment the line below and run it, this will save your code \n",
        "#%%writefile -a {folder_location}/12.py\n",
        "# Please note that if you uncomment and run multiple times, the program will keep appending to the file.\n",
        "\n",
        "\n",
        "# INSERT CODE HERE\n",
        "\n",
        "# INSERT CODE HERE\n",
        "# INSERT CODE HERE\n",
        "# INSERT CODE HERE\n",
        "        figsize=(20,10))"
      ],
      "execution_count": null,
      "outputs": []
    },
    {
      "cell_type": "markdown",
      "metadata": {
        "id": "2v7fj8-8d4KX",
        "colab_type": "text"
      },
      "source": [
        "### Q8. Plot a bar graph showing all the countries with an income classification of 3.0"
      ]
    },
    {
      "cell_type": "code",
      "metadata": {
        "id": "0NQwf352d4KY",
        "colab_type": "code",
        "colab": {}
      },
      "source": [
        "# Once your have verified your answer please uncomment the line below and run it, this will save your code \n",
        "#%%writefile -a {folder_location}/13.py\n",
        "# Please note that if you uncomment and run multiple times, the program will keep appending to the file.\n",
        "\n",
        "\n",
        "filt = _________ == ____ # INSERT CODE HERE\n",
        "\n",
        "# INSERT CODE HERE\n",
        "# INSERT CODE HERE\n",
        "HIGH_Income.plot(kind = 'bar',x = 'Country',\n",
        "                 # INSERT CODE HERE,\n",
        "                 figsize=(20,10))"
      ],
      "execution_count": null,
      "outputs": []
    },
    {
      "cell_type": "markdown",
      "metadata": {
        "id": "GH2MBMrbd4Kb",
        "colab_type": "text"
      },
      "source": [
        "### Q9. Plot a bar graph showing all the countries with an Income Classification of 0 [GRADED]"
      ]
    },
    {
      "cell_type": "code",
      "metadata": {
        "id": "1wKzg2mHd4Kc",
        "colab_type": "code",
        "colab": {}
      },
      "source": [
        "# Once your have verified your answer please uncomment the line below and run it, this will save your code \n",
        "#%%writefile -a {folder_location}/14.py\n",
        "# Please note that if you uncomment and run multiple times, the program will keep appending to the file.\n",
        "\n",
        "\n",
        "# INSERT CODE HERE\n",
        "\n",
        "# INSERT CODE HERE\n",
        "# INSERT CODE HERE\n",
        "# INSERT CODE HERE"
      ],
      "execution_count": null,
      "outputs": []
    },
    {
      "cell_type": "markdown",
      "metadata": {
        "id": "mmkkbepid4Kg",
        "colab_type": "text"
      },
      "source": [
        "## Plot the World Map"
      ]
    },
    {
      "cell_type": "markdown",
      "metadata": {
        "id": "aYHX82qBd4Kh",
        "colab_type": "text"
      },
      "source": [
        "As a bonus I've added a feature that prints out the world map to make our visualizations more observable."
      ]
    },
    {
      "cell_type": "code",
      "metadata": {
        "id": "CDzzuhYrd4Kh",
        "colab_type": "code",
        "colab": {}
      },
      "source": [
        "# Donot Modify\n",
        "import descartes\n",
        "import geopandas as gpd\n",
        "world = gpd.read_file(gpd.datasets.get_path('naturalearth_lowres'))"
      ],
      "execution_count": null,
      "outputs": []
    },
    {
      "cell_type": "markdown",
      "metadata": {
        "id": "p_P8PLm6d4Kk",
        "colab_type": "text"
      },
      "source": [
        "### Q10. Plot the Longitude vs Latitude [GRADED]\n",
        "\n",
        "Set ```alpha``` to 0.6"
      ]
    },
    {
      "cell_type": "code",
      "metadata": {
        "id": "ZiiIU0Xed4Kl",
        "colab_type": "code",
        "colab": {}
      },
      "source": [
        "# Once your have verified your answer please uncomment the line below and run it, this will save your code \n",
        "#%%writefile -a {folder_location}/15.py\n",
        "# Please note that if you uncomment and run multiple times, the program will keep appending to the file.\n",
        "\n",
        "\n",
        "# Donot Modify the two lines below\n",
        "fig,ax = plt.subplots(figsize=(30,15))\n",
        "world.plot(ax=ax, color='lightgray')\n",
        "\n",
        "df.plot(kind=\"scatter\",\n",
        "        # INSERT CODE HERE\n",
        "        # INSERT CODE HERE\n",
        "        # INSERT CODE HEREA\n",
        "        ax = ax)\n",
        "\n",
        "plt.show()"
      ],
      "execution_count": null,
      "outputs": []
    },
    {
      "cell_type": "markdown",
      "metadata": {
        "id": "aa2i1_Xtd4Kn",
        "colab_type": "text"
      },
      "source": [
        "### Q11. Adding a color map for Income Classification [GRADED]\n",
        "\n",
        "Property: ```c : color, sequence, or sequence of color```\n",
        "\n",
        "Equate it to Income Classification.\n",
        "\n",
        "Also, add the following:\n",
        "- ```cmap: Colormap```\n",
        "- ```colorbar```\n",
        "- ```xlabel```\n",
        "- ```ylabel```\n",
        "- ```legend```\n",
        "\n",
        "**Note**: Features in the plot above must be present."
      ]
    },
    {
      "cell_type": "code",
      "metadata": {
        "id": "-_VQ4U1Bd4Ko",
        "colab_type": "code",
        "colab": {}
      },
      "source": [
        "# Once your have verified your answer please uncomment the line below and run it, this will save your code \n",
        "#%%writefile -a {folder_location}/16.py\n",
        "# Please note that if you uncomment and run multiple times, the program will keep appending to the file.\n",
        "\n",
        "\n",
        "# Donot Modify the two lines below\n",
        "fig, ax = plt.subplots(figsize=(20,10))\n",
        "world.plot(ax=ax, color='lightgray')\n",
        "\n",
        "df.plot(kind=\"scatter\",\n",
        "             # INSERT CODE HERE\n",
        "             # INSERT CODE HERE\n",
        "             # INSERT CODE HERE\n",
        "             # INSERT CODE HERE \n",
        "             # INSERT CODE HERE\n",
        "             # INSERT CODE HERE\n",
        "             ax = ax)\n",
        "\n",
        "# INSERT CODE HERE\n",
        "# INSERT CODE HERE\n",
        "# INSERT CODE HERE\n",
        "plt.show()"
      ],
      "execution_count": null,
      "outputs": []
    },
    {
      "cell_type": "markdown",
      "metadata": {
        "id": "ekh8av45d4Ks",
        "colab_type": "text"
      },
      "source": [
        "### Q12. Adding a scalar pointer, U5-population\n",
        "Property: ```s : scalar or array_like, shape (n, )```\n",
        "\n",
        "\n",
        "Also, add the following:\n",
        "- Replace c with Stunting\n",
        "- Add a label for the feature\n",
        "\n",
        "**Note:** In order to get a viewable graph, you will have to divide the feature by a multiple of 10. Be careful, too high and your scalar points won't be distinguishable.\n",
        "\n",
        "\n",
        "\n"
      ]
    },
    {
      "cell_type": "code",
      "metadata": {
        "id": "2RZ9XxKld4Kt",
        "colab_type": "code",
        "colab": {}
      },
      "source": [
        "# Once your have verified your answer please uncomment the line below and run it, this will save your code \n",
        "#%%writefile -a {folder_location}/17.py\n",
        "# Please note that if you uncomment and run multiple times, the program will keep appending to the file.\n",
        "\n",
        "\n",
        "\n",
        "# Donot Modify the two lines below\n",
        "fig, ax = plt.subplots(figsize=(30,15))\n",
        "world.plot(ax=ax, color='lightgray')\n",
        "\n",
        "df.plot(# INSERT CODE HERE\n",
        "             # INSERT CODE HERE\n",
        "             # INSERT CODE HERE\n",
        "             # INSERT CODE HERE\n",
        "             # INSERT CODE HERE\n",
        "             # INSERT CODE HERE\n",
        "             # INSERT CODE HERE\n",
        "             # INSERT CODE HERE\n",
        "             # INSERT CODE HERE\n",
        "            ax = ax)\n",
        "\n",
        "\n",
        "\n",
        "\n",
        "# INSERT CODE HERE\n",
        "# INSERT CODE HERE\n",
        "# INSERT CODE HERE\n",
        "\n",
        "plt.show()\n"
      ],
      "execution_count": null,
      "outputs": []
    },
    {
      "cell_type": "markdown",
      "metadata": {
        "id": "OePrOur6d4Kw",
        "colab_type": "text"
      },
      "source": [
        "## Compare two countries of your choice\n",
        "\n"
      ]
    },
    {
      "cell_type": "code",
      "metadata": {
        "id": "v2U-u0qVd4Kw",
        "colab_type": "code",
        "colab": {}
      },
      "source": [
        "fig = plt.figure(figsize=(20,10))\n",
        "\n",
        "ax1 = fig.add_subplot(1,2,1)\n",
        "ax2 = fig.add_subplot(1,2,2)\n",
        "\n",
        "# We won't need the these columns\n",
        "columns_to_remove =  ['U5 Population (\\'000s)','Longitude','Latitude']"
      ],
      "execution_count": null,
      "outputs": []
    },
    {
      "cell_type": "markdown",
      "metadata": {
        "id": "_Lrubv4ad4Kz",
        "colab_type": "text"
      },
      "source": [
        "### Q13. New DataFrame for Country 1 [GRADED]\n"
      ]
    },
    {
      "cell_type": "code",
      "metadata": {
        "id": "sEp71RFrd4K0",
        "colab_type": "code",
        "colab": {}
      },
      "source": [
        "# Once your have verified your answer please uncomment the line below and run it, this will save your code \n",
        "#%%writefile -a {folder_location}/18.py\n",
        "# Please note that if you uncomment and run multiple times, the program will keep appending to the file.\n",
        "\n",
        "\n",
        "filt = _________ == 'COUNTRY NAME'\n",
        "\n",
        "# Make a new DataFrame using the filter\n",
        "______ = df.____(____)\n",
        "\n",
        "# Drop the columns in columns_to_remove\n",
        "______ = # INSERT CODE HERE\n",
        "\n",
        "# Drop all null values\n",
        "______ = # INSERT CODE HERE\n",
        "\n",
        "# view your newdataframe below\n",
        "\n",
        "____"
      ],
      "execution_count": null,
      "outputs": []
    },
    {
      "cell_type": "markdown",
      "metadata": {
        "id": "pdRjvmGtd4K2",
        "colab_type": "text"
      },
      "source": [
        "### Q14. New DataFrame for Country 2 [GRADED]"
      ]
    },
    {
      "cell_type": "code",
      "metadata": {
        "id": "L7wh-O6xd4K3",
        "colab_type": "code",
        "colab": {}
      },
      "source": [
        "# Once your have verified your answer please uncomment the line below and run it, this will save your code \n",
        "#%%writefile -a {folder_location}/19.py\n",
        "# Please note that if you uncomment and run multiple times, the program will keep appending to the file.\n",
        "\n",
        "\n",
        "# Make a filter\n",
        "# INSERT CODE HERE\n",
        "\n",
        "# Make a new DataFrame using the filter\n",
        "# INSERT CODE HERE\n",
        "\n",
        "# Drop the columns in columns_to_remove\n",
        "# INSERT CODE HERE\n",
        "\n",
        "# Drop all null values\n",
        "# INSERT CODE HERE\n",
        "\n",
        "# view your newdataframe below\n",
        "\n",
        "# INSERT CODE HERE"
      ],
      "execution_count": null,
      "outputs": []
    },
    {
      "cell_type": "markdown",
      "metadata": {
        "id": "q1du6Bded4K6",
        "colab_type": "text"
      },
      "source": [
        "### Q15. Plots bar charts for allfeatures of  both DataFrames [GRADED]"
      ]
    },
    {
      "cell_type": "code",
      "metadata": {
        "id": "256-0rv1d4K6",
        "colab_type": "code",
        "colab": {}
      },
      "source": [
        "# Once your have verified your answer please uncomment the line below and run it, this will save your code \n",
        "#%%writefile -a {folder_location}/20.py\n",
        "# Please note that if you uncomment and run multiple times, the program will keep appending to the file.\n",
        "\n",
        "\n",
        "# Country 1\n",
        "_____.plot(# INSERT CODE HERE\n",
        "            # INSERT CODE HERE\n",
        "            ax = ax1)\n",
        "# Country 2\n",
        "#INSERT CODE HERE\n",
        "        # INSERT CODE HERE\n",
        "        # INSERT CODE HERE\n",
        "        )"
      ],
      "execution_count": null,
      "outputs": []
    },
    {
      "cell_type": "code",
      "metadata": {
        "id": "3RDz_pM9d4LA",
        "colab_type": "code",
        "colab": {}
      },
      "source": [
        "fig"
      ],
      "execution_count": null,
      "outputs": []
    },
    {
      "cell_type": "markdown",
      "metadata": {
        "id": "Sw_Cv2SRyB_1",
        "colab_type": "text"
      },
      "source": [
        "\n",
        "## Submission\n",
        "Run this code block to download your answers."
      ]
    },
    {
      "cell_type": "code",
      "metadata": {
        "id": "pptJmIZIyBUd",
        "colab_type": "code",
        "colab": {}
      },
      "source": [
        "from google.colab import files\n",
        "!zip -r \"{student_id}.zip\" \"{student_id}\"\n",
        "files.download(f\"{student_id}.zip\")"
      ],
      "execution_count": null,
      "outputs": []
    },
    {
      "cell_type": "markdown",
      "metadata": {
        "id": "UynLVaoad4LE",
        "colab_type": "text"
      },
      "source": [
        "## Appendix\n",
        "\n"
      ]
    },
    {
      "cell_type": "markdown",
      "metadata": {
        "id": "uEiHtr69d4LE",
        "colab_type": "text"
      },
      "source": [
        "### How to Add latitude and Longitude"
      ]
    },
    {
      "cell_type": "code",
      "metadata": {
        "id": "UhAXLCCGd4If",
        "colab_type": "code",
        "colab": {}
      },
      "source": [
        "# Run the Following Code\n",
        "!pip install descartes\n",
        "!pip install geopandas"
      ],
      "execution_count": null,
      "outputs": []
    },
    {
      "cell_type": "code",
      "metadata": {
        "id": "7zKYFLTBd4LF",
        "colab_type": "code",
        "colab": {}
      },
      "source": [
        "from geopy.exc import GeocoderTimedOut \n",
        "from geopy.geocoders import Nominatim \n",
        "   \n",
        "# declare an empty list to store \n",
        "# latitude and longitude of values  \n",
        "# of city column \n",
        "longitude = [] \n",
        "latitude = [] \n",
        "   \n",
        "# function to find the coordinate \n",
        "# of a given city  \n",
        "def findGeocode(city): \n",
        "       \n",
        "    # try and catch is used to overcome \n",
        "    # the exception thrown by geolocator \n",
        "    # using geocodertimedout   \n",
        "    try: \n",
        "          \n",
        "        # Specify the user_agent as your \n",
        "        # app name it should not be none \n",
        "        geolocator = Nominatim(user_agent=\"your_app_name\") \n",
        "          \n",
        "        return geolocator.geocode(city) \n",
        "      \n",
        "    except GeocoderTimedOut: \n",
        "          \n",
        "        return findGeocode(city)     \n",
        "  \n",
        "# each value from city column \n",
        "# will be fetched and sent to \n",
        "# function find_geocode    \n",
        "for i in (df[\"Country\"]): \n",
        "      \n",
        "    if findGeocode(i) != None: \n",
        "           \n",
        "        loc = findGeocode(i) \n",
        "          \n",
        "        # coordinates returned from  \n",
        "        # function is stored into \n",
        "        # two separate list \n",
        "        latitude.append(loc.latitude) \n",
        "        longitude.append(loc.longitude) \n",
        "       \n",
        "    # if coordinate for a city not \n",
        "    # found, insert \"NaN\" indicating  \n",
        "    # missing value  \n",
        "    else: \n",
        "        latitude.append(np.nan) \n",
        "        longitude.append(np.nan) \n",
        "        \n",
        "        \n",
        "df['Latitude'] = latitude\n",
        "df['Longitude'] = longitude\n",
        "df.to_csv(r'../malnutrition/malnutrition.csv')"
      ],
      "execution_count": null,
      "outputs": []
    }
  ]
}