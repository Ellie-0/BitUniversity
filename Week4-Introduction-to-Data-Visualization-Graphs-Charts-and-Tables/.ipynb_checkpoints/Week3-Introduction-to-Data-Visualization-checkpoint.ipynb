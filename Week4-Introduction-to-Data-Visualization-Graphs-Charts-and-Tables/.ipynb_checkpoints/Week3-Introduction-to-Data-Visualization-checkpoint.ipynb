{
 "cells": [
  {
   "cell_type": "markdown",
   "metadata": {
    "colab_type": "text",
    "id": "d1QH_MXvoIf0"
   },
   "source": [
    "# Data Visualization Basics"
   ]
  },
  {
   "cell_type": "markdown",
   "metadata": {
    "colab_type": "text",
    "id": "L-6bplHzoPc-"
   },
   "source": [
    "## Why do we need Data visualization\n",
    "\n",
    "It is a fundamental part of a data scientists toolkit. We primarily use data visualization:\n",
    "- To *explore* data\n",
    "- To *communicate* data\n",
    "\n",
    "Goals for this week:\n",
    "- Concentrate on building skills that we will need to start exploring data on our own and to produce relevant visualizations."
   ]
  },
  {
   "cell_type": "markdown",
   "metadata": {
    "colab_type": "text",
    "id": "p2g8oE86dovw"
   },
   "source": [
    "# Matplotlib\n",
    "\n",
    "Link: https://matplotlib.org/\n",
    "\n",
    "Note: Matplotlib like pandas is not a core part of the Python Library, therefore we have to download it by using:\n",
    "\n",
    "```python -m pip install matplotlib```\n",
    "\n",
    "We will be using ```matplitlib.pyplot``` module. ```pyplot``` maintains an internal state in which we can build visualization step by step.\n",
    "\n"
   ]
  },
  {
   "cell_type": "code",
   "execution_count": null,
   "metadata": {
    "colab": {},
    "colab_type": "code",
    "id": "yoRLjeLsb9LT"
   },
   "outputs": [],
   "source": [
    "from matplotlib import pyplot as plt"
   ]
  },
  {
   "cell_type": "code",
   "execution_count": null,
   "metadata": {
    "colab": {},
    "colab_type": "code",
    "id": "SmEB_wploNkG"
   },
   "outputs": [],
   "source": [
    "\n",
    "\n",
    "years = [1950,1960,1970,1980,1990,2000,2010]\n",
    "gdp = [300.2,543.2,1075.9,2862.5,5979.6,10289.7,14958.3]\n",
    "\n",
    "# Create a line chart, \n",
    "# x-axis : years\n",
    "# y-axis : gdp\n",
    "\n",
    "plt.plot(years,gdp,color = 'red',marker = 'x',linestyle = 'solid')\n",
    "\n",
    "# add a title \n",
    "plt.title(\"Nominal GDP\")\n",
    "\n",
    "# Add a label to the y-axis\n",
    "plt.ylabel(\"Billions of $\")\n",
    "plt.show()"
   ]
  },
  {
   "cell_type": "markdown",
   "metadata": {
    "colab_type": "text",
    "id": "b_PybB1Ve78y"
   },
   "source": [
    "## Bar Charts\n",
    "\n",
    "- A good choise when we want to show that *some quantity varies amound some discrete set of items*. \n",
    "\n",
    "Example :\n",
    "### How many academy awards were won by each movie"
   ]
  },
  {
   "cell_type": "code",
   "execution_count": null,
   "metadata": {
    "colab": {},
    "colab_type": "code",
    "id": "yYzMUY5fesYI"
   },
   "outputs": [],
   "source": [
    "movies = [\"Annie Hall\",\"Ben-Hur\",\"Casablanca\",\"Gandhi\",\"West Side Story\"]\n",
    "num_of_oscars = [5,11,3,8,10]\n",
    "\n",
    "# plot bars with \n",
    "# left x-coordinates [0,1,2,3,4]\n",
    "# y-cordinates [num_of_oscars]\n",
    "plt.bar(range(len(movies)),num_of_oscars)\n",
    "\n",
    "# add title\n",
    "plt.title(\"My favourite Movies\")\n",
    "\n",
    "# label the y-axis\n",
    "plt.ylabel(\"# of Academy Awards\")\n",
    "# Label x-axis with movie titles\n",
    "plt.xticks(range(len(movies)),movies)\n",
    "\n",
    "plt.show()"
   ]
  },
  {
   "cell_type": "markdown",
   "metadata": {
    "colab_type": "text",
    "id": "3RJmAj_vf373"
   },
   "source": [
    "Another good use of a bar chart can be for plotting histograms of numeric values (bucketed). This can help us visualize distributions\n",
    "\n",
    "### Example: Grade Distribution"
   ]
  },
  {
   "cell_type": "code",
   "execution_count": null,
   "metadata": {
    "colab": {},
    "colab_type": "code",
    "id": "W2val3SgfyoP"
   },
   "outputs": [],
   "source": [
    "from collections import Counter\n",
    "grades = [83,95,91,87,70,0,85,82,100,67,73,77,0]\n",
    "\n",
    "\n",
    "# Buckt grades by decile, but put 100 in with the 90s\n",
    "\n",
    "histogram = Counter(min(grade//10*10,90)for grade in grades)\n",
    "\n",
    "plt.bar([x + 5 for x in histogram.keys()],    # Shift bars right by 5\n",
    "        histogram.values(),             # Give each bar its correct height\n",
    "        10,                             # Give each bar a width of 10\n",
    "        edgecolor = (0,0,0)             # Black edges for each bar\n",
    "        )            \n",
    "\n",
    "plt.axis([-5,105,0,5])                  # x-axis from -5 to 105\n",
    "                                        # y-axis from 0 to 5\n",
    "\n",
    "plt.xticks([10 * i for i in range(11)]) # x-axis labels at 0,10, ..., 100\n",
    "\n",
    "plt.xlabel(\"Decile\")\n",
    "plt.ylabel(\"# of Students\")\n",
    "plt.title(\"Distribution of Exam Grades\")\n",
    "plt.show()"
   ]
  },
  {
   "cell_type": "markdown",
   "metadata": {
    "colab_type": "text",
    "id": "_6-Tl4gAhcvC"
   },
   "source": [
    "### Examining the code\n",
    "- Notice the third argument to the ```plt.bar```, this specified the bar width. \n",
    "- We also shifted the bars right by 5, so that, for example, the \"10\" bar (which corresponds to 10-20 would have its center at 15).\n",
    "- We also added a black edge to each bar to make them visually distinct\n",
    "- The call to ```plt.axis``` indicates that we want the x-axis to range from -5 to 105 (to leave a little space on the left and right)\n",
    "- The y-axis should range from 0 to 5\n",
    "- Lastly, ```plt.xticks``` puts x-axis labels at 0,10,20, ..., 100."
   ]
  },
  {
   "cell_type": "markdown",
   "metadata": {
    "colab_type": "text",
    "id": "tFyvGzAfqvwp"
   },
   "source": [
    "## Line Charts\n",
    "\n",
    "The good thing is it is easy to make line charts simple using ```plt.plot``` these are good for showing trends.\n"
   ]
  },
  {
   "cell_type": "code",
   "execution_count": null,
   "metadata": {
    "colab": {},
    "colab_type": "code",
    "id": "WMzHBn8khZlS"
   },
   "outputs": [],
   "source": [
    "variance = [1,2,4,8,16,32,64,128,256]\n",
    "bias_squared = [256,128,64,43,16,18,4,2,1]\n",
    "total_error = [x + y for x,y in zip(variance,bias_squared)]\n",
    "xs = [i for i, _ in enumerate(variance)]\n",
    "\n",
    "\n",
    "# We can make multiple calls to plt.plot\n",
    "# to show multiple series on the same chart\n",
    "\n",
    "plt.plot(xs,variance, 'g-', label = 'variance')\n",
    "plt.plot(xs,bias_squared, 'r-.',label = 'bias squared')\n",
    "plt.plot(xs,total_error, 'b:',label = 'total error')\n",
    "\n",
    "\n",
    "# Because we've assigned labels for each series, \n",
    "# we can get a legend \n",
    "plt.legend(loc = 9)\n",
    "plt.xlabel(\"model Complexity\")\n",
    "plt.xticks([])\n",
    "plt.title(\"The Bias-Variance Tradeoff\")\n",
    "plt.show()\n"
   ]
  },
  {
   "cell_type": "markdown",
   "metadata": {
    "colab_type": "text",
    "id": "FvW8BCXOrppq"
   },
   "source": [
    "## Scatterplots\n",
    "\n",
    "A scatter plot is the right choice for visualizing the relationship between two paired sets of data. \n"
   ]
  },
  {
   "cell_type": "code",
   "execution_count": null,
   "metadata": {
    "colab": {},
    "colab_type": "code",
    "id": "qUwiPnL7rm4R"
   },
   "outputs": [],
   "source": [
    "friends = [70,65,72,63,71,64,60,64,67]\n",
    "minutes = [175,170,205,120,220,130,105,145,190]\n",
    "labels = ['a','b','c','d','e','f','g','h','i']\n",
    "\n",
    "plt.scatter(friends,minutes)\n",
    "\n",
    "# label each point \n",
    "for label,friend_count,minute_count in zip(labels,friends,minutes):\n",
    "  plt.annotate(label,\n",
    "               xy=(friend_count,minute_count), # Put the label with its point\n",
    "               xytext = (5,-5),\n",
    "               textcoords = 'offset points'\n",
    "               )\n",
    "  \n",
    "plt.title(\"Daily minutes vs Number of Friends\")\n",
    "plt.xlabel(\"# of friends\")\n",
    "plt.ylabel(\"Daily minutes spent on the site\")\n",
    "plt.show()"
   ]
  },
  {
   "cell_type": "markdown",
   "metadata": {
    "colab_type": "text",
    "id": "hoy3PgBiPJKn"
   },
   "source": [
    "## Figures and Subplots\n",
    "\n",
    "Plots in matplotlib reside within a ```Figure``` object. We can create a new figure with ```plt.figure```"
   ]
  },
  {
   "cell_type": "code",
   "execution_count": null,
   "metadata": {
    "colab": {},
    "colab_type": "code",
    "id": "LiVYx-ejsdgV"
   },
   "outputs": [],
   "source": [
    "import matplotlib.pyplot as plt\n",
    "fig = plt.figure()"
   ]
  },
  {
   "cell_type": "markdown",
   "metadata": {
    "colab_type": "text",
    "id": "x2T3RjHOPWId"
   },
   "source": [
    "\n",
    "Lets dive into ```plt.figure```, it has a number of options; notably; figsize will guarantee the figure has a certain size and aspect ratio if saved to disk.\n",
    "\n",
    "**Note**: In Co-lab/Jupyer nothing will be shown until a few more commmands are entered. We cannot make a plot with a blank figure. Therefore we will create one or more subplots using ```add_subplot```"
   ]
  },
  {
   "cell_type": "code",
   "execution_count": null,
   "metadata": {
    "colab": {},
    "colab_type": "code",
    "id": "egFPDsROP2vd"
   },
   "outputs": [],
   "source": [
    "ax1 = fig.add_subplot(2,2,1)"
   ]
  },
  {
   "cell_type": "markdown",
   "metadata": {
    "colab_type": "text",
    "id": "5urgB0pRP6XD"
   },
   "source": [
    "The above code meand that our figure should be ```2x2``` which means upto 4 plots in total and we have selected the 1st of the 4.\n",
    "\n",
    "If we create the next two subplots,we'll end up with a visualization that looks exactly like "
   ]
  },
  {
   "cell_type": "code",
   "execution_count": null,
   "metadata": {
    "colab": {},
    "colab_type": "code",
    "id": "fAf8FcgQQQvi"
   },
   "outputs": [],
   "source": [
    "ax2 = fig.add_subplot(2,2,2)\n",
    "ax3 = fig.add_subplot(2,2,3)"
   ]
  },
  {
   "cell_type": "code",
   "execution_count": null,
   "metadata": {
    "colab": {},
    "colab_type": "code",
    "id": "QwGx9Pq5QYsa"
   },
   "outputs": [],
   "source": [
    "fig"
   ]
  },
  {
   "cell_type": "markdown",
   "metadata": {
    "colab_type": "text",
    "id": "OyOTqxQlQkhd"
   },
   "source": [
    "**Next**, we will run all the commands together. One slight change will be added a subplot. "
   ]
  },
  {
   "cell_type": "code",
   "execution_count": null,
   "metadata": {
    "colab": {},
    "colab_type": "code",
    "id": "yIdUkKRyRfrD"
   },
   "outputs": [],
   "source": [
    "import numpy as np\n",
    "fig = plt.figure()\n",
    "ax1 = fig.add_subplot(2,2,1)\n",
    "ax2 = fig.add_subplot(2,2,2)\n",
    "ax3 = fig.add_subplot(2,2,3)\n",
    "\n",
    "plt.plot(np.random.randn(50).cumsum())"
   ]
  },
  {
   "cell_type": "markdown",
   "metadata": {
    "colab_type": "text",
    "id": "ak9IVUMiRy-j"
   },
   "source": [
    "**Notice Something?**\n",
    "\n",
    "\n",
    "We did not ascribe a subplot figure to the plot, it automatically took the last plot.\n",
    "\n"
   ]
  },
  {
   "cell_type": "code",
   "execution_count": null,
   "metadata": {
    "colab": {},
    "colab_type": "code",
    "id": "pSJK45lPSGCa"
   },
   "outputs": [],
   "source": [
    "ax1.hist(np.random.rand(100),bins=20,color = 'k',alpha = 0.3)\n",
    "ax2.scatter(np.arange(30),np.arange(30)+3 * np.random.randn(30))\n",
    "\n",
    "fig"
   ]
  },
  {
   "cell_type": "markdown",
   "metadata": {
    "colab_type": "text",
    "id": "7LC1-TdjP6vw"
   },
   "source": [
    "## Colors, Markers, and Line Styles\n",
    "\n",
    "By now you should have realized that the main function you are using in Matplotlib is the ```plot``` function.\n",
    "The function accepts arrays of x and y coordinates and optional arguments such as color and line style and figure size.\n",
    "\n",
    "```ax.plot(x,y,'g--')```\n",
    "\n",
    "We can show the same plot more explicitly by adding a linestyle:\n",
    "\n",
    "```ax.plot(x,y,linestyle='--',color='g')```\n",
    "\n",
    "Line plots can also have *makers* in order to highlight the actual data points. \n",
    "\n",
    "When matlab creates plots, they are a continous line plot (interpolating between points), it can occasionally be unclear where the points are. Markers help us observe the interpolation in a clearer manner."
   ]
  },
  {
   "cell_type": "code",
   "execution_count": null,
   "metadata": {
    "colab": {},
    "colab_type": "code",
    "id": "JTJNppqUXtR4"
   },
   "outputs": [],
   "source": [
    "import numpy as np\n",
    "\n",
    "fig = plt.figure()\n",
    "ax1 = fig.add_subplot(2,1,1)\n",
    "ax2 = fig.add_subplot(2,1,2)\n",
    "\n",
    "plt.plot(np.random.randn(30).cumsum(),'bo--') # Plot 2\n",
    "# Which is the same as:\n",
    "ax1.plot(np.random.randn(30).cumsum(),color = 'b',linestyle = '--',marker = 'o') # Plot 1\n",
    "\n"
   ]
  },
  {
   "cell_type": "markdown",
   "metadata": {
    "colab_type": "text",
    "id": "34VUlmV3P6Fg"
   },
   "source": [
    "For line plots, we can notice that the points are interpolated linearly by default.\n",
    "\n",
    "We can change this by using the ```drawstyle``` option."
   ]
  },
  {
   "cell_type": "code",
   "execution_count": null,
   "metadata": {
    "colab": {},
    "colab_type": "code",
    "id": "CqBOiEcwZe5E"
   },
   "outputs": [],
   "source": [
    "data = np.random.randn(30).cumsum()\n",
    "\n",
    "plt.plot(data,'k--',label = 'Default')\n",
    "plt.plot(data,'k--',drawstyle = 'steps-post',label = 'steps-post')\n",
    "plt.legend()"
   ]
  },
  {
   "cell_type": "markdown",
   "metadata": {
    "colab_type": "text",
    "id": "td64fxuYZzd4"
   },
   "source": [
    "## Ticks, Labels and Legends\n",
    "\n",
    "The ```pyplot``` interface designed for interactive use, consists of methods like:\n",
    "- ```xlim```\n",
    "- ```xticks```\n",
    "- ```xticklabels```\n",
    "\n",
    "These methods control the plot range, tick locations and tick labels.\n",
    "There are two ways to apply such parameters:\n",
    "1. Called with no arguments returns the current parameter value (e.g, ```plt.xlim()``` returns the current x-axis plotting range.\n",
    "2. Called with parameters sets the parameter value(e.g, plt.xlim([0,10]),sets the x-axis range from 0 to 10)\n",
    "\n",
    "** Setting the title, axis labels, ticks and ticklabels**\n",
    "\n",
    "Lets look at the plot below"
   ]
  },
  {
   "cell_type": "code",
   "execution_count": null,
   "metadata": {
    "colab": {},
    "colab_type": "code",
    "id": "g9nKgo4je7ZG"
   },
   "outputs": [],
   "source": [
    "fig = plt.figure()\n",
    "ax = fig.add_subplot(1,1,1)\n",
    "ax.plot(np.random.randn(1000).cumsum())"
   ]
  },
  {
   "cell_type": "markdown",
   "metadata": {
    "colab_type": "text",
    "id": "jn5FHf9xfCv2"
   },
   "source": [
    "**Next**, we are going to change the x-axis ticks, it's easier to use ```set_xticks``` and ```set_xticklabels```. The former instructs matplot lib where to place the ticks along the data range. However, we can set any other values as the labels using set_xticklabels: "
   ]
  },
  {
   "cell_type": "code",
   "execution_count": null,
   "metadata": {
    "colab": {},
    "colab_type": "code",
    "id": "8joZKywApTmY"
   },
   "outputs": [],
   "source": [
    "ticks = ax.set_xticks([0,250,500,750,1000])\n",
    "labels = ax.set_xticklabels(['one','two','three','four','five'],\n",
    "                            rotation = 30,\n",
    "                            fontsize = 'small')\n",
    "\n",
    "#fig"
   ]
  },
  {
   "cell_type": "markdown",
   "metadata": {
    "colab_type": "text",
    "id": "UTl9nNTlpnBe"
   },
   "source": [
    "The ```rotation option sets the x-tick labels at a 30-degree rotation.\n",
    "Lastly, ```set_xlabel``` gives a name to the x-axis and ```set_title``` the subplot title."
   ]
  },
  {
   "cell_type": "code",
   "execution_count": null,
   "metadata": {
    "colab": {},
    "colab_type": "code",
    "id": "NYMxuU3Bp2BQ"
   },
   "outputs": [],
   "source": [
    "ax.set_title('My first matplotlib plot')\n",
    "#fig\n"
   ]
  },
  {
   "cell_type": "code",
   "execution_count": null,
   "metadata": {
    "colab": {},
    "colab_type": "code",
    "id": "GZo2fLRIp53P"
   },
   "outputs": [],
   "source": [
    "ax.set_xlabel('Stages')\n",
    "fig"
   ]
  },
  {
   "cell_type": "code",
   "execution_count": null,
   "metadata": {
    "colab": {},
    "colab_type": "code",
    "id": "niA0UNAzqpj9"
   },
   "outputs": [],
   "source": [
    "# Bonus: we can also write this as:\n",
    "props = {\n",
    "    'title': 'This is my matplotlib plot',\n",
    "    'xlabel': 'All stages'\n",
    "}\n",
    "ax.set(**props)\n",
    "fig"
   ]
  },
  {
   "cell_type": "markdown",
   "metadata": {
    "colab_type": "text",
    "id": "TRJ7kgfvt7-L"
   },
   "source": [
    "**Adding Legends**\n",
    "\n",
    "Legends are an important element in order to identify our elements. The easiset way to add one is to pas the label arguemtn when adding each piece"
   ]
  },
  {
   "cell_type": "code",
   "execution_count": null,
   "metadata": {
    "colab": {},
    "colab_type": "code",
    "id": "1VQSDQeiuIC6"
   },
   "outputs": [],
   "source": [
    "from numpy.random import randn\n",
    "\n",
    "fig = plt.figure()\n",
    "ax=fig.add_subplot(1,1,1)\n",
    "ax.plot(randn(1000).cumsum(),\n",
    "        'b',\n",
    "        label ='one')\n",
    "ax.plot(randn(1000).cumsum(),\n",
    "        'r--',\n",
    "        label = 'two')\n",
    "ax.plot(randn(1000).cumsum(),\n",
    "        'g.',\n",
    "        label = 'three')\n",
    "\n"
   ]
  },
  {
   "cell_type": "code",
   "execution_count": null,
   "metadata": {
    "colab": {},
    "colab_type": "code",
    "id": "Ai5rJ-VTu8Wh"
   },
   "outputs": [],
   "source": [
    "ax.legend(loc = 'best') # The loc method tells matplotlib where to place the plot. \n",
    "                        # if you're not picky 'best' works.\n",
    "fig"
   ]
  },
  {
   "cell_type": "markdown",
   "metadata": {
    "colab_type": "text",
    "id": "0FBHDquWv7Wn"
   },
   "source": [
    "**Annotations and Drawing on a Subplot**\n",
    "\n",
    "In addition to standard plot types, we may wish to draw our own plot annotations. These can consist of text, arrows or other shapes. We can add annotations and tex tusing the ```text```,```arrow``` and ```annotate``` functions. ```text``` draws test at given coordinates (x,y) on the plot with optional custom syling:\n",
    "\n",
    "```ax.text(x,y,'Hello world!',family='monospace',fontsize=10)```\n"
   ]
  },
  {
   "cell_type": "markdown",
   "metadata": {
    "colab_type": "text",
    "id": "d6Zph8pixjQ1"
   },
   "source": [
    "**Saving plots to File**\n",
    "We can save the active figure to file using plt.savefig. This method is equivalent to the figure object's ```savefig``` instane method.\n",
    "\n",
    "Examples:\n",
    "\n",
    "```plt.savefig('figpath.avg')```\n",
    "\n",
    "*Note: The file type is inferred from the file extension. So for example if we used .pdf instead, we woulg get a pdf.*\n",
    "\n",
    "Some important options for publishing graphics are:\n",
    "- ```dpi``` : controls the dots-per-inch resolution.\n",
    "- ```bbox_inches``` : Trims the whitespace around the actual figure.\n",
    "\n",
    "```plt.savefig('figpath.avg',dpi = 400,bbox_inches = 'tight')```\n"
   ]
  },
  {
   "cell_type": "markdown",
   "metadata": {
    "colab_type": "text",
    "id": "JtMPbUqfckDg"
   },
   "source": [
    "# Pandas"
   ]
  },
  {
   "cell_type": "markdown",
   "metadata": {
    "colab_type": "text",
    "id": "kR6u6MNDcltU"
   },
   "source": [
    "Matplot is fairly a low level tool. This is because we are assembling a plot form its base components, e.g:\n",
    "- Type of plot\n",
    "  - line\n",
    "  - bar\n",
    "  - box\n",
    "  - scatter\n",
    "  - countour etc,\n",
    "- legend\n",
    "- title\n",
    "- tick labels\n",
    "\n",
    "With pandas we have multiple columns of data with row and column labels, pandas has built in methods that simplify creating visualizations from DataFrames and Series Objects.\n",
    "\n",
    "Another library is ```seaborn``` which is a statistical graphics library.\n",
    "We will be using seaborn in the latter half of our course.\n",
    "\n",
    "For now lets plot using Pandas"
   ]
  },
  {
   "cell_type": "code",
   "execution_count": null,
   "metadata": {
    "colab": {},
    "colab_type": "code",
    "id": "gKP6137nckyU"
   },
   "outputs": [],
   "source": [
    "import pandas as pd\n",
    "import numpy as np"
   ]
  },
  {
   "cell_type": "markdown",
   "metadata": {
    "colab_type": "text",
    "id": "b3ofJPmodJ2_"
   },
   "source": [
    "## Line Plots\n"
   ]
  },
  {
   "cell_type": "markdown",
   "metadata": {
    "colab_type": "text",
    "id": "zc913mI-eCKa"
   },
   "source": [
    "### Series"
   ]
  },
  {
   "cell_type": "code",
   "execution_count": null,
   "metadata": {
    "colab": {},
    "colab_type": "code",
    "id": "s0FVvavWdNsd"
   },
   "outputs": [],
   "source": [
    "s = pd.Series(np.random.randn(10),index = np.arange(0,100,10))\n",
    "s.plot()"
   ]
  },
  {
   "cell_type": "markdown",
   "metadata": {
    "colab_type": "text",
    "id": "2hooLmr9devG"
   },
   "source": [
    "In this plt above Here are the important points we should observe:\n",
    "- the Series object's index is passed to matplotlib for plotting on the x-axis, though we can disable this by passing ```use_index = False```.\n",
    "- The x-axis and y-axis properties can be modified by using ```xticks```, ```xlim```, ```yticks``` and ```ylim```\n",
    "\n"
   ]
  },
  {
   "cell_type": "markdown",
   "metadata": {
    "colab_type": "text",
    "id": "AYIHn5QEeDiP"
   },
   "source": [
    "### DataFrame"
   ]
  },
  {
   "cell_type": "code",
   "execution_count": null,
   "metadata": {
    "colab": {},
    "colab_type": "code",
    "id": "AQEvL4omdW3N"
   },
   "outputs": [],
   "source": [
    "df = pd.DataFrame(np.random.randn(10,4),\n",
    "                  columns=['A','B','C','D'],\n",
    "                  index = np.arange(0,100,10)\n",
    "                  )\n",
    "\n",
    "df.plot()"
   ]
  },
  {
   "cell_type": "markdown",
   "metadata": {
    "colab_type": "text",
    "id": "L1k1knUeeh9s"
   },
   "source": [
    "The ```plot``` attribute contains a \"family\" of methods for different plot types"
   ]
  },
  {
   "cell_type": "markdown",
   "metadata": {
    "colab_type": "text",
    "id": "ObtE8-BHODkC"
   },
   "source": [
    "## Connecting to Your Google Drive\n"
   ]
  },
  {
   "cell_type": "code",
   "execution_count": null,
   "metadata": {
    "colab": {},
    "colab_type": "code",
    "id": "_3xzPhI_ByD5"
   },
   "outputs": [],
   "source": [
    "# Start by connecting google drive into google colab\n",
    "\n",
    "from google.colab import drive\n",
    "\n",
    "drive.mount('/content/gdrive')"
   ]
  },
  {
   "cell_type": "code",
   "execution_count": null,
   "metadata": {
    "colab": {},
    "colab_type": "code",
    "id": "_epZFcuXNVRv"
   },
   "outputs": [],
   "source": [
    "!ls \"/content/gdrive/My Drive/DigitalHistory\""
   ]
  },
  {
   "cell_type": "code",
   "execution_count": null,
   "metadata": {
    "colab": {},
    "colab_type": "code",
    "id": "y6r-8UBGNueF"
   },
   "outputs": [],
   "source": [
    "cd \"/content/gdrive/My Drive/DigitalHistory/Week_3\"\n"
   ]
  },
  {
   "cell_type": "code",
   "execution_count": null,
   "metadata": {
    "colab": {},
    "colab_type": "code",
    "id": "Pp8mubdjVqY2"
   },
   "outputs": [],
   "source": [
    "ls"
   ]
  },
  {
   "cell_type": "markdown",
   "metadata": {
    "colab_type": "text",
    "id": "S_i8Zy2YthqR"
   },
   "source": [
    "# Mapping the California Housing"
   ]
  },
  {
   "cell_type": "markdown",
   "metadata": {
    "colab_type": "text",
    "id": "N8w70yKWOH_c"
   },
   "source": [
    "## Import Libraries and unpack file\n",
    "\n"
   ]
  },
  {
   "cell_type": "code",
   "execution_count": null,
   "metadata": {
    "colab": {},
    "colab_type": "code",
    "id": "rzDr3KIkOJdy"
   },
   "outputs": [],
   "source": [
    "import pandas as pd\n",
    "import zipfile\n",
    "import numpy as np"
   ]
  },
  {
   "cell_type": "code",
   "execution_count": null,
   "metadata": {
    "colab": {},
    "colab_type": "code",
    "id": "zkIDSJWUQFCV"
   },
   "outputs": [],
   "source": [
    "import os\n",
    "import tarfile\n",
    "import urllib\n",
    "\n",
    "DOWNLOAD_ROOT = \"https://raw.githubusercontent.com/ageron/handson-ml/master/\"\n",
    "HOUSING_PATH = os.path.join(\"datasets\", \"housing\")\n",
    "HOUSING_URL = DOWNLOAD_ROOT + \"datasets/housing/housing.tgz\"\n",
    "\n",
    "def fetch_housing_data(housing_url=HOUSING_URL, housing_path=HOUSING_PATH):\n",
    "    os.makedirs(housing_path, exist_ok=True)\n",
    "    tgz_path = os.path.join(housing_path, \"housing.tgz\")\n",
    "    urllib.request.urlretrieve(housing_url, tgz_path)\n",
    "    housing_tgz = tarfile.open(tgz_path)\n",
    "    housing_tgz.extractall(path=housing_path)\n",
    "    housing_tgz.close()"
   ]
  },
  {
   "cell_type": "code",
   "execution_count": null,
   "metadata": {
    "colab": {},
    "colab_type": "code",
    "id": "BZB8zAD5t--d"
   },
   "outputs": [],
   "source": [
    "fetch_housing_data()"
   ]
  },
  {
   "cell_type": "code",
   "execution_count": null,
   "metadata": {
    "colab": {},
    "colab_type": "code",
    "id": "A0G7yJVTuBD2"
   },
   "outputs": [],
   "source": [
    "import pandas as pd\n",
    "\n",
    "def load_housing_data(housing_path=HOUSING_PATH):\n",
    "    csv_path = os.path.join(housing_path, \"housing.csv\")\n",
    "    return pd.read_csv(csv_path)"
   ]
  },
  {
   "cell_type": "code",
   "execution_count": null,
   "metadata": {
    "colab": {},
    "colab_type": "code",
    "id": "BUcrD3_guDCU"
   },
   "outputs": [],
   "source": [
    "housing = load_housing_data()\n",
    "housing.head()"
   ]
  },
  {
   "cell_type": "markdown",
   "metadata": {
    "colab_type": "text",
    "id": "qOqgR_NmuHSm"
   },
   "source": [
    "## Visualizing the DataFrames"
   ]
  },
  {
   "cell_type": "code",
   "execution_count": null,
   "metadata": {
    "colab": {},
    "colab_type": "code",
    "id": "2kA8zGLuuF74"
   },
   "outputs": [],
   "source": [
    "import matplotlib.pyplot as plt\n",
    "\n",
    "housing.hist(bins=50, figsize=(20,20))\n",
    "\n",
    "plt.show()"
   ]
  },
  {
   "cell_type": "code",
   "execution_count": null,
   "metadata": {
    "colab": {},
    "colab_type": "code",
    "id": "h_9pSgVhuM_Z"
   },
   "outputs": [],
   "source": [
    "housing[\"median_income\"].hist()"
   ]
  },
  {
   "cell_type": "code",
   "execution_count": null,
   "metadata": {
    "colab": {},
    "colab_type": "code",
    "id": "A87ZUqXpvgrw"
   },
   "outputs": [],
   "source": [
    "housing['ocean_proximity'].hist()"
   ]
  },
  {
   "cell_type": "markdown",
   "metadata": {
    "colab_type": "text",
    "id": "fklhI1m5uuEE"
   },
   "source": [
    "## Mapping Geographical Data"
   ]
  },
  {
   "cell_type": "markdown",
   "metadata": {
    "colab_type": "text",
    "id": "5qu9w8W4uy67"
   },
   "source": [
    "### Step 1\n"
   ]
  },
  {
   "cell_type": "code",
   "execution_count": null,
   "metadata": {
    "colab": {},
    "colab_type": "code",
    "id": "QEcxSubTuP9p"
   },
   "outputs": [],
   "source": [
    "housing.plot(kind=\"scatter\", x=\"longitude\", y=\"latitude\")\n"
   ]
  },
  {
   "cell_type": "markdown",
   "metadata": {
    "colab_type": "text",
    "id": "D28LW1V2vxFb"
   },
   "source": [
    "By plotting the longitude vs the latitude we can clearly see that it's California. However, note that it's almost impossible to see any particular pattern. \n",
    "The next step is to be able to separate the high density data points from the lower ones. \n",
    "\n",
    "For this we will use the ```alpha``` option in the plot function. We will set alpha to 0.1"
   ]
  },
  {
   "cell_type": "markdown",
   "metadata": {
    "colab_type": "text",
    "id": "orW7C0ogu0PB"
   },
   "source": [
    "### Step 2\n"
   ]
  },
  {
   "cell_type": "code",
   "execution_count": null,
   "metadata": {
    "colab": {},
    "colab_type": "code",
    "id": "yeU_MWvsuTwI"
   },
   "outputs": [],
   "source": [
    "housing.plot(kind=\"scatter\", x=\"longitude\", y=\"latitude\", alpha=0.1)\n"
   ]
  },
  {
   "cell_type": "markdown",
   "metadata": {
    "colab_type": "text",
    "id": "ay_wO3Br0x6p"
   },
   "source": [
    "You can see the difference between the high-density areas, for example the Bay Area, Los Angeles, San Diego and a little in the Central Valley.\n",
    "\n",
    "Now we have a pattern, but it's not something very useful to us. So lets play with the visualization a little.\n",
    "\n",
    "Note: We will only be using ```matplotlib```s ```pyplot``` function for our visualization.\n",
    "\n",
    "What we will do is add the following parameters:\n",
    "- **s** \n",
    "style : list or dict\n",
    "The matplotlib line style per column.  \n",
    "- c\n",
    "- cmap\n",
    "- colorbar\n",
    "\n",
    "Other add-ons are:\n",
    "- label \n",
    "- figsize\n",
    "\n"
   ]
  },
  {
   "cell_type": "markdown",
   "metadata": {
    "colab_type": "text",
    "id": "9GG3dUtNu1bH"
   },
   "source": [
    "### Step 3"
   ]
  },
  {
   "cell_type": "code",
   "execution_count": null,
   "metadata": {
    "colab": {},
    "colab_type": "code",
    "id": "ZWBwIy7fuXYV"
   },
   "outputs": [],
   "source": [
    "housing.plot(kind=\"scatter\", x=\"longitude\", y=\"latitude\", alpha=0.4,\n",
    "    s=housing[\"population\"]/100, label=\"population\", figsize=(10,7),\n",
    "    c=\"median_house_value\", cmap=plt.get_cmap(\"jet\"), colorbar=True)\n",
    "plt.legend()\n",
    "\n",
    "\n",
    "\n",
    "#colormap"
   ]
  },
  {
   "cell_type": "markdown",
   "metadata": {
    "colab_type": "text",
    "id": "Gi73ML_Vu2rD"
   },
   "source": [
    "### Step 4"
   ]
  },
  {
   "cell_type": "code",
   "execution_count": null,
   "metadata": {
    "colab": {},
    "colab_type": "code",
    "id": "8II1SlNpuZqW"
   },
   "outputs": [],
   "source": [
    "\n",
    "import matplotlib.image as mpimg\n",
    "california_img=mpimg.imread('images/california.png')\n",
    "ax = housing.plot(kind=\"scatter\",\n",
    "                  x=\"longitude\",\n",
    "                  y=\"latitude\",\n",
    "                  figsize=(10,7),\n",
    "                  s=housing['population']/100,\n",
    "                  label=\"Population\",\n",
    "                  c=\"median_house_value\",\n",
    "                  cmap=plt.get_cmap(\"jet\"),\n",
    "                  colorbar=False,\n",
    "                 alpha=0.4,\n",
    "                      )\n",
    "plt.imshow(california_img, extent=[-124.55, -113.80, 32.45, 42.05], alpha=0.5,\n",
    "           cmap=plt.get_cmap(\"jet\"))\n",
    "plt.ylabel(\"Latitude\", fontsize=14)\n",
    "plt.xlabel(\"Longitude\", fontsize=14)\n",
    "\n",
    "prices = housing[\"median_house_value\"]\n",
    "tick_values = np.linspace(prices.min(), prices.max(), 11)\n",
    "cbar = plt.colorbar()\n",
    "cbar.ax.set_yticklabels([\"$%dk\"%(round(v/1000)) for v in tick_values], fontsize=14)\n",
    "cbar.set_label('Median House Value', fontsize=16)\n",
    "\n",
    "plt.legend(fontsize=16)\n"
   ]
  },
  {
   "cell_type": "code",
   "execution_count": null,
   "metadata": {
    "colab": {},
    "colab_type": "code",
    "id": "AlO8VQARR6L6"
   },
   "outputs": [],
   "source": []
  },
  {
   "cell_type": "markdown",
   "metadata": {
    "colab_type": "text",
    "id": "sNezBc2CzfQH"
   },
   "source": [
    "# Extras [FOR NOW]\n",
    "\n"
   ]
  },
  {
   "cell_type": "code",
   "execution_count": null,
   "metadata": {
    "colab": {},
    "colab_type": "code",
    "id": "6rfZTJbizh8G"
   },
   "outputs": [],
   "source": [
    "fig = plt.figure()\n",
    "ax = fig.add_subplot(1,1,1)\n",
    "\n",
    "rect = plt.Rectangle((0.2,0.75),0.4,0.15,color = 'k',\n",
    "                     alpha = 0.3)\n",
    "circ = plt.Circle((0.7,0.2),0.15,color = 'b',alpha = 0.3)\n",
    "pgon = plt.Polygon([[0.15,0.15],[0.35,.4],[0.2,0.6]],color = 'g',alpha = 0.3)\n",
    "\n",
    "ax.add_patch(rect)\n",
    "ax.add_patch(circ)\n",
    "ax.add_patch(pgon)"
   ]
  },
  {
   "cell_type": "code",
   "execution_count": null,
   "metadata": {
    "colab": {},
    "colab_type": "code",
    "id": "HB58uaHz0j41"
   },
   "outputs": [],
   "source": []
  }
 ],
 "metadata": {
  "colab": {
   "collapsed_sections": [
    "ObtE8-BHODkC"
   ],
   "name": "Week3-Introduction-to-Data-Visualization.ipynb",
   "provenance": []
  },
  "kernelspec": {
   "display_name": "Python 3",
   "language": "python",
   "name": "python3"
  },
  "language_info": {
   "codemirror_mode": {
    "name": "ipython",
    "version": 3
   },
   "file_extension": ".py",
   "mimetype": "text/x-python",
   "name": "python",
   "nbconvert_exporter": "python",
   "pygments_lexer": "ipython3",
   "version": "3.7.4"
  }
 },
 "nbformat": 4,
 "nbformat_minor": 1
}
