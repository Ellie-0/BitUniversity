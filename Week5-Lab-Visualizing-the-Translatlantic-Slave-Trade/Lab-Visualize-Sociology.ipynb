{
  "nbformat": 4,
  "nbformat_minor": 0,
  "metadata": {
    "colab": {
      "name": "Week4-PROJECT-Visualize-Sociology.ipynb",
      "provenance": [],
      "collapsed_sections": [
        "ObtE8-BHODkC",
        "N8w70yKWOH_c",
        "7q6R0hBZONBe",
        "mCNQqlwecmjv",
        "66hyyirMlq6S",
        "aEsoTghMmsuq",
        "UFfKdw9eV6Wc"
      ],
      "include_colab_link": true
    },
    "kernelspec": {
      "display_name": "Python 3",
      "language": "python",
      "name": "python3"
    },
    "language_info": {
      "codemirror_mode": {
        "name": "ipython",
        "version": 3
      },
      "file_extension": ".py",
      "mimetype": "text/x-python",
      "name": "python",
      "nbconvert_exporter": "python",
      "pygments_lexer": "ipython3",
      "version": "3.7.4"
    }
  },
  "cells": [
    {
      "cell_type": "markdown",
      "metadata": {
        "id": "view-in-github",
        "colab_type": "text"
      },
      "source": [
        "<a href=\"https://colab.research.google.com/github/bitprj/DigitalHistory/blob/Amy/Week5-Lab-Visualizing-the-Translatlantic-Slave-Trade/Lab-Visualize-Sociology.ipynb\" target=\"_parent\"><img src=\"https://colab.research.google.com/assets/colab-badge.svg\" alt=\"Open In Colab\"/></a>"
      ]
    },
    {
      "cell_type": "markdown",
      "metadata": {
        "id": "HTy4Z3Uogzl1"
      },
      "source": [
        ""
      ]
    },
    {
      "cell_type": "markdown",
      "metadata": {
        "id": "U30n5IXzIVFX"
      },
      "source": [
        "# <div align=\"center\">Visualizing LinkedIn Profiles and Jobs</div>"
      ]
    },
    {
      "cell_type": "markdown",
      "metadata": {
        "id": "UFfKdw9eV6Wc"
      },
      "source": [
        "## Table of Contents\n",
        "\n",
        "- Recap\n",
        "- About the Dataset\n",
        "    - LinkedIn Profiles and Jobs\n",
        "        - Facts about the dataset\n",
        "- Labs and Methodology\n",
        "- Goals\n",
        "- **Part 1 - Getting Our Basic Data Analysis Set-Up**\n",
        "    - Import Libraries and unpack a file\n",
        "    - Load file\n",
        "    - Observing the Dataset using Pandas\n",
        "    - Important Facts About the Dataset\n",
        "    - Visualizing Number of Company Employees\n",
        "- **Part 2 - Getting Started with Data Wrangling**\n",
        "    - Create a copy of the Original Dataset\n",
        "    - Changing Column Names\n",
        "    - Moving Column Positions - ```df.reindex()```\n",
        "    - Removing Unneeded Columns -```df.drop()```\n",
        "    - Using ```dropna()```\n",
        "    - Changing Column Type and Sorting - ```df.sort_values()```\n",
        "    - Finding Unique and similar strings \n",
        "    - Working with Strings - ```df['column_name'].str.replace()```\n",
        "- **Part 3 - Micro Wrangling and Visualization**\n",
        "    - Between 1960 - 1975\n",
        "    - Between 1975 - 1990\n",
        "    - Between 1990 - 2005\n",
        "    - Between 2005 - 2019\n",
        "- **Part 4 - Conclusion**\n",
        "- Resources\n",
        "- Appendix\n",
        "    \n",
        "\n",
        "\n",
        "\n",
        "\n"
      ]
    },
    {
      "cell_type": "markdown",
      "metadata": {
        "id": "RE3H5y7yIRHZ"
      },
      "source": [
        "## Recap\n",
        "- By this time, you should have an understanding of how to implement the following:\n",
        "- Loading a Dataset '.csv' as a dataframe using ```pd.read_csv```\n",
        "- Observing the properties of the loaded dataset using functions such as:\n",
        "    - ```pd.head()```\n",
        "    - ```pd.describe()```\n",
        "    - ```pd.info()```\n",
        "- Modifying the dataset by removing ```NaN``` values.\n",
        "- A conceptual understanding of the term ```object``` in DataFrames.\n",
        "- Re-indexing columns\n",
        "- Visualizing Data using ```matplotlib``` and ```pandas```:\n",
        "    - Scatter plots\n",
        "    - Barplots\n",
        "    - Line plots\n",
        "    - Histograms"
      ]
    },
    {
      "cell_type": "markdown",
      "metadata": {
        "id": "4uvgAANOIKwm"
      },
      "source": [
        "## About the Dataset\n",
        "\n",
        "\n",
        "### LinkedIn Profiles and Jobs\n",
        "<img src=\"https://github.com/bitprj/DigitalHistory/blob/Amy/Week5-Lab-Visualizing-the-Translatlantic-Slave-Trade/assets/workersTalking.jpg?raw=1\" width=\"600\"> \n",
        "\n",
        "Founded in 2002, LinkedIn is an employment-oriented online service that is mainly used for professional networking, and supports over 700 million users to date. It is a site where employers can share job postings and job-seekers can create profiles around their industry experience.\n",
        "\n",
        "LinkedIn can be utilized as a social network for profesional development, where users can add 'connections' with one another to share posts and view professional-related updates from their network.\n",
        "\n",
        "#### Facts about the dataset\n",
        "\n",
        "- The dataset approximately 39,500 LinkedIn profiles.\n",
        "- The ages of the users range from 20 to 86 years.\n",
        "\n",
        "- The dataset collects information from profiles across various countries, including the United States, the United Kingdom, Australia, etc.\n",
        "- The users reported a wide range of start dates for their current position, which range from beginning their job in 1961 to beginning their job in 2019. \n",
        "- This dataset contains profiles of employees from a number of major companies, including Facebook, Google, Microsoft, Hewlett Packard, IBM, Infosys, Nokia, and many more.\n",
        "\n",
        "- The dataset also features other information about the profiles, including their Number of Connections, and whether or not they have a profile picture or a subscription to LinkedIn Premium. \n"
      ]
    },
    {
      "cell_type": "markdown",
      "metadata": {
        "id": "fPyizd_JIHPU"
      },
      "source": [
        "## Labs and Methodology\n",
        "Congratulations, you have made it to the first lab of this course. The purpose of these labs is to help you apply the Data Science pipeline in a project-based environment. You will be using the tools taught to you in the previous modules and adopt and Question and Answer based approach when you work with the dataset.\n",
        "We have divided our approach into 4 parts:\n",
        "- For this project, we start by asking questions which you will answer in code and simple explanations.\n",
        "\n",
        "*example* - change the name of 'column_x' to 'column y' </br>\n",
        "**answer**: ```df = df.rename(columns = {'column_x : 'column_y})```\n",
        "\n",
        "- The first part is the traditional set up every. These are some things we should do before modifying the dataset.\n",
        "- The second part involves cleaning the dataset and choosing columns that fit our methodology.\n",
        "- The third part involves further splitting our cleaned dataframe into smaller dataframes and visualizing them.\n",
        "- Finally, the fourth part involves summarizing our conclusion."
      ]
    },
    {
      "cell_type": "markdown",
      "metadata": {
        "id": "Tl_6Scu8IE7Q"
      },
      "source": [
        "\n",
        "## Goals"
      ]
    },
    {
      "cell_type": "markdown",
      "metadata": {
        "id": "ixk29-rMHvR9"
      },
      "source": [
        "## 1 - Getting Our Basic Data Analysis Set-Up"
      ]
    },
    {
      "cell_type": "markdown",
      "metadata": {
        "id": "0W--Kb7wgzl7"
      },
      "source": [
        "Import the libraries you will be using for this project. These libraries are the ones we have used in the previous labs."
      ]
    },
    {
      "cell_type": "code",
      "metadata": {
        "id": "vs7AJxshHlc9"
      },
      "source": [
        "import pandas as __ # INSERT CODE HERE\n",
        "import _____ as np  # INSERT CODE HERE\n",
        "import __________ as plt  # INSERT CODE HERE"
      ],
      "execution_count": 5,
      "outputs": []
    },
    {
      "cell_type": "markdown",
      "metadata": {
        "id": "7q6R0hBZONBe"
      },
      "source": [
        "### 1.1 Load file"
      ]
    },
    {
      "cell_type": "code",
      "metadata": {
        "id": "DfmowYZZOVRn"
      },
      "source": [
        "url = 'https://raw.githubusercontent.com/bitprj/DigitalHistory/Amy/Week5-Lab-Visualizing-the-Translatlantic-Slave-Trade/data/dump.csv'\n",
        "\n",
        "linkedin_profiles = __.read_csv(___) # INSERT CODE HERE "
      ],
      "execution_count": 11,
      "outputs": []
    },
    {
      "cell_type": "markdown",
      "metadata": {
        "id": "9SwePQu6qsZl"
      },
      "source": [
        "### Observing the Dataset using Pandas"
      ]
    },
    {
      "cell_type": "markdown",
      "metadata": {
        "id": "mCNQqlwecmjv"
      },
      "source": [
        "Now, the dataset is loaded as a dataframe 'linkedin_profiles'\n",
        "\n",
        "### 1.2 head()\n",
        "Let's check what columns this file has by calling 'head()' function.\n",
        "It returns first n rows, and it's useful to see the dataset at a quick glance.\n",
        "\n",
        "By default, the head() function returns the first 5 rows.\n",
        "\n",
        "For an example dataframe `df`, you can specify the number of rows to display by calling df.head(number).\n"
      ]
    },
    {
      "cell_type": "code",
      "metadata": {
        "id": "_Fwr655mcjr5",
        "outputId": "a0c5f273-4a57-4c53-e291-f46b797b5154",
        "colab": {
          "base_uri": "https://localhost:8080/",
          "height": 496
        }
      },
      "source": [
        "# INSERT CODE HERE"
      ],
      "execution_count": 13,
      "outputs": [
        {
          "output_type": "execute_result",
          "data": {
            "text/html": [
              "<div>\n",
              "<style scoped>\n",
              "    .dataframe tbody tr th:only-of-type {\n",
              "        vertical-align: middle;\n",
              "    }\n",
              "\n",
              "    .dataframe tbody tr th {\n",
              "        vertical-align: top;\n",
              "    }\n",
              "\n",
              "    .dataframe thead th {\n",
              "        text-align: right;\n",
              "    }\n",
              "</style>\n",
              "<table border=\"1\" class=\"dataframe\">\n",
              "  <thead>\n",
              "    <tr style=\"text-align: right;\">\n",
              "      <th></th>\n",
              "      <th>Unnamed: 0</th>\n",
              "      <th>ageEstimate</th>\n",
              "      <th>companyFollowerCount</th>\n",
              "      <th>companyHasLogo</th>\n",
              "      <th>companyName</th>\n",
              "      <th>companyStaffCount</th>\n",
              "      <th>companyUrl</th>\n",
              "      <th>companyUrn</th>\n",
              "      <th>connectionsCount</th>\n",
              "      <th>country</th>\n",
              "      <th>endDate</th>\n",
              "      <th>followable</th>\n",
              "      <th>followersCount</th>\n",
              "      <th>genderEstimate</th>\n",
              "      <th>hasPicture</th>\n",
              "      <th>isPremium</th>\n",
              "      <th>mbrLocation</th>\n",
              "      <th>mbrLocationCode</th>\n",
              "      <th>mbrTitle</th>\n",
              "      <th>memberUrn</th>\n",
              "      <th>posLocation</th>\n",
              "      <th>posLocationCode</th>\n",
              "      <th>posTitle</th>\n",
              "      <th>positionId</th>\n",
              "      <th>startDate</th>\n",
              "      <th>avgMemberPosDuration</th>\n",
              "      <th>avgCompanyPosDuration</th>\n",
              "    </tr>\n",
              "  </thead>\n",
              "  <tbody>\n",
              "    <tr>\n",
              "      <th>0</th>\n",
              "      <td>0</td>\n",
              "      <td>41.0</td>\n",
              "      <td>198859.0</td>\n",
              "      <td>5a92c12e-0a20-482b-95ec-e705a6294730-2.png</td>\n",
              "      <td>Commonwealth Bank</td>\n",
              "      <td>32905.0</td>\n",
              "      <td>http://www.commbank.com.au/</td>\n",
              "      <td>urn:li:company:2848</td>\n",
              "      <td>500.0</td>\n",
              "      <td>au</td>\n",
              "      <td>NaN</td>\n",
              "      <td>1.0</td>\n",
              "      <td>506.0</td>\n",
              "      <td>male</td>\n",
              "      <td>NaN</td>\n",
              "      <td>0.0</td>\n",
              "      <td>Sydney Area, Australia</td>\n",
              "      <td>urn:li:fs_region:(au,4910)</td>\n",
              "      <td>Portfolio Executive at Commonwealth Bank</td>\n",
              "      <td>urn:li:member:10013136</td>\n",
              "      <td>NaN</td>\n",
              "      <td>NaN</td>\n",
              "      <td>Portfolio Executive</td>\n",
              "      <td>240345.0</td>\n",
              "      <td>2014-07-01</td>\n",
              "      <td>760.5000</td>\n",
              "      <td>989.9361</td>\n",
              "    </tr>\n",
              "    <tr>\n",
              "      <th>1</th>\n",
              "      <td>1</td>\n",
              "      <td>41.0</td>\n",
              "      <td>198859.0</td>\n",
              "      <td>5a92c12e-0a20-482b-95ec-e705a6294730-2.png</td>\n",
              "      <td>Commonwealth Bank</td>\n",
              "      <td>32905.0</td>\n",
              "      <td>http://www.commbank.com.au/</td>\n",
              "      <td>urn:li:company:2848</td>\n",
              "      <td>500.0</td>\n",
              "      <td>au</td>\n",
              "      <td>2014-06-01</td>\n",
              "      <td>1.0</td>\n",
              "      <td>506.0</td>\n",
              "      <td>male</td>\n",
              "      <td>NaN</td>\n",
              "      <td>0.0</td>\n",
              "      <td>Sydney Area, Australia</td>\n",
              "      <td>urn:li:fs_region:(au,4910)</td>\n",
              "      <td>Portfolio Executive at Commonwealth Bank</td>\n",
              "      <td>urn:li:member:10013136</td>\n",
              "      <td>Sydney, Australia</td>\n",
              "      <td>urn:li:fs_region:(au,4910)</td>\n",
              "      <td>Solution Delivery Executive</td>\n",
              "      <td>240346.0</td>\n",
              "      <td>2013-11-01</td>\n",
              "      <td>760.5000</td>\n",
              "      <td>989.9361</td>\n",
              "    </tr>\n",
              "    <tr>\n",
              "      <th>2</th>\n",
              "      <td>2</td>\n",
              "      <td>41.0</td>\n",
              "      <td>10047.0</td>\n",
              "      <td>b1c3fd9a-8f21-48f8-8321-d773b1ff3cb7-2.png</td>\n",
              "      <td>CommSec</td>\n",
              "      <td>619.0</td>\n",
              "      <td>http://www.commsec.com.au</td>\n",
              "      <td>urn:li:company:2851</td>\n",
              "      <td>500.0</td>\n",
              "      <td>au</td>\n",
              "      <td>2012-12-01</td>\n",
              "      <td>1.0</td>\n",
              "      <td>506.0</td>\n",
              "      <td>male</td>\n",
              "      <td>NaN</td>\n",
              "      <td>0.0</td>\n",
              "      <td>Sydney Area, Australia</td>\n",
              "      <td>urn:li:fs_region:(au,4910)</td>\n",
              "      <td>Portfolio Executive at Commonwealth Bank</td>\n",
              "      <td>urn:li:member:10013136</td>\n",
              "      <td>NaN</td>\n",
              "      <td>NaN</td>\n",
              "      <td>Project Manager</td>\n",
              "      <td>240348.0</td>\n",
              "      <td>2008-08-01</td>\n",
              "      <td>760.5000</td>\n",
              "      <td>747.2308</td>\n",
              "    </tr>\n",
              "    <tr>\n",
              "      <th>3</th>\n",
              "      <td>3</td>\n",
              "      <td>41.0</td>\n",
              "      <td>198859.0</td>\n",
              "      <td>5a92c12e-0a20-482b-95ec-e705a6294730-2.png</td>\n",
              "      <td>Commonwealth Bank</td>\n",
              "      <td>32905.0</td>\n",
              "      <td>http://www.commbank.com.au/</td>\n",
              "      <td>urn:li:company:2848</td>\n",
              "      <td>500.0</td>\n",
              "      <td>au</td>\n",
              "      <td>2008-07-01</td>\n",
              "      <td>1.0</td>\n",
              "      <td>506.0</td>\n",
              "      <td>male</td>\n",
              "      <td>NaN</td>\n",
              "      <td>0.0</td>\n",
              "      <td>Sydney Area, Australia</td>\n",
              "      <td>urn:li:fs_region:(au,4910)</td>\n",
              "      <td>Portfolio Executive at Commonwealth Bank</td>\n",
              "      <td>urn:li:member:10013136</td>\n",
              "      <td>NaN</td>\n",
              "      <td>NaN</td>\n",
              "      <td>Project Manager</td>\n",
              "      <td>240350.0</td>\n",
              "      <td>2007-02-01</td>\n",
              "      <td>760.5000</td>\n",
              "      <td>989.9361</td>\n",
              "    </tr>\n",
              "    <tr>\n",
              "      <th>4</th>\n",
              "      <td>4</td>\n",
              "      <td>30.0</td>\n",
              "      <td>300723.0</td>\n",
              "      <td>0f982557-a907-409e-af20-1feb0e0813cd-2.png</td>\n",
              "      <td>PayPal</td>\n",
              "      <td>22522.0</td>\n",
              "      <td>http://www.paypal.com</td>\n",
              "      <td>urn:li:company:1482</td>\n",
              "      <td>500.0</td>\n",
              "      <td>au</td>\n",
              "      <td>NaN</td>\n",
              "      <td>1.0</td>\n",
              "      <td>951.0</td>\n",
              "      <td>female</td>\n",
              "      <td>RTMZ0-46bTjK4V_MGFDG6i5g0yZmFp5oS0S9liWvpWg.jpg</td>\n",
              "      <td>0.0</td>\n",
              "      <td>Sydney Area, Australia</td>\n",
              "      <td>urn:li:fs_region:(au,4910)</td>\n",
              "      <td>Senior Marketing Manager, PayPal</td>\n",
              "      <td>urn:li:member:100186032</td>\n",
              "      <td>NaN</td>\n",
              "      <td>NaN</td>\n",
              "      <td>Senior Marketing Manager</td>\n",
              "      <td>229893.0</td>\n",
              "      <td>2017-01-01</td>\n",
              "      <td>395.2857</td>\n",
              "      <td>683.3496</td>\n",
              "    </tr>\n",
              "  </tbody>\n",
              "</table>\n",
              "</div>"
            ],
            "text/plain": [
              "   Unnamed: 0  ageEstimate  ...  avgMemberPosDuration avgCompanyPosDuration\n",
              "0           0         41.0  ...              760.5000              989.9361\n",
              "1           1         41.0  ...              760.5000              989.9361\n",
              "2           2         41.0  ...              760.5000              747.2308\n",
              "3           3         41.0  ...              760.5000              989.9361\n",
              "4           4         30.0  ...              395.2857              683.3496\n",
              "\n",
              "[5 rows x 27 columns]"
            ]
          },
          "metadata": {
            "tags": []
          },
          "execution_count": 13
        }
      ]
    },
    {
      "cell_type": "markdown",
      "metadata": {
        "id": "s5I3a9h9gzmM"
      },
      "source": [
        "### 1.3 tail()\n",
        "\n",
        "The ```tail()``` method prints the last 5 rows of our dataset."
      ]
    },
    {
      "cell_type": "code",
      "metadata": {
        "id": "WVD4aPJbHldP",
        "outputId": "05bff17b-ffda-4ae2-992d-69f46de48b81",
        "colab": {
          "base_uri": "https://localhost:8080/",
          "height": 615
        }
      },
      "source": [
        "# INSERT CODE HERE"
      ],
      "execution_count": 14,
      "outputs": [
        {
          "output_type": "execute_result",
          "data": {
            "text/html": [
              "<div>\n",
              "<style scoped>\n",
              "    .dataframe tbody tr th:only-of-type {\n",
              "        vertical-align: middle;\n",
              "    }\n",
              "\n",
              "    .dataframe tbody tr th {\n",
              "        vertical-align: top;\n",
              "    }\n",
              "\n",
              "    .dataframe thead th {\n",
              "        text-align: right;\n",
              "    }\n",
              "</style>\n",
              "<table border=\"1\" class=\"dataframe\">\n",
              "  <thead>\n",
              "    <tr style=\"text-align: right;\">\n",
              "      <th></th>\n",
              "      <th>Unnamed: 0</th>\n",
              "      <th>ageEstimate</th>\n",
              "      <th>companyFollowerCount</th>\n",
              "      <th>companyHasLogo</th>\n",
              "      <th>companyName</th>\n",
              "      <th>companyStaffCount</th>\n",
              "      <th>companyUrl</th>\n",
              "      <th>companyUrn</th>\n",
              "      <th>connectionsCount</th>\n",
              "      <th>country</th>\n",
              "      <th>endDate</th>\n",
              "      <th>followable</th>\n",
              "      <th>followersCount</th>\n",
              "      <th>genderEstimate</th>\n",
              "      <th>hasPicture</th>\n",
              "      <th>isPremium</th>\n",
              "      <th>mbrLocation</th>\n",
              "      <th>mbrLocationCode</th>\n",
              "      <th>mbrTitle</th>\n",
              "      <th>memberUrn</th>\n",
              "      <th>posLocation</th>\n",
              "      <th>posLocationCode</th>\n",
              "      <th>posTitle</th>\n",
              "      <th>positionId</th>\n",
              "      <th>startDate</th>\n",
              "      <th>avgMemberPosDuration</th>\n",
              "      <th>avgCompanyPosDuration</th>\n",
              "    </tr>\n",
              "  </thead>\n",
              "  <tbody>\n",
              "    <tr>\n",
              "      <th>39532</th>\n",
              "      <td>39532</td>\n",
              "      <td>46.0</td>\n",
              "      <td>151686.0</td>\n",
              "      <td>71b7f012-183c-43c8-a9af-b39a1b9a89a0-2.png</td>\n",
              "      <td>National Australia Bank</td>\n",
              "      <td>27944.0</td>\n",
              "      <td>http://www.nab.com.au</td>\n",
              "      <td>urn:li:company:2357</td>\n",
              "      <td>362.0</td>\n",
              "      <td>au</td>\n",
              "      <td>2009-04-01</td>\n",
              "      <td>1.0</td>\n",
              "      <td>363.0</td>\n",
              "      <td>male</td>\n",
              "      <td>p_4_000_171_2aa_07c7660.jpg</td>\n",
              "      <td>0.0</td>\n",
              "      <td>Melbourne Area, Australia</td>\n",
              "      <td>urn:li:fs_region:(au,4900)</td>\n",
              "      <td>Head Of (Distributed) Credit, Vic/Tas at Natio...</td>\n",
              "      <td>urn:li:member:9985941</td>\n",
              "      <td>St Kilda Rd Melbourne Business Banking Centre</td>\n",
              "      <td>NaN</td>\n",
              "      <td>Senior Partner</td>\n",
              "      <td>191517.0</td>\n",
              "      <td>2006-08-01</td>\n",
              "      <td>1912.0</td>\n",
              "      <td>941.0968</td>\n",
              "    </tr>\n",
              "    <tr>\n",
              "      <th>39533</th>\n",
              "      <td>39533</td>\n",
              "      <td>46.0</td>\n",
              "      <td>151686.0</td>\n",
              "      <td>71b7f012-183c-43c8-a9af-b39a1b9a89a0-2.png</td>\n",
              "      <td>National Australia Bank</td>\n",
              "      <td>27944.0</td>\n",
              "      <td>http://www.nab.com.au</td>\n",
              "      <td>urn:li:company:2357</td>\n",
              "      <td>362.0</td>\n",
              "      <td>au</td>\n",
              "      <td>2007-05-01</td>\n",
              "      <td>1.0</td>\n",
              "      <td>363.0</td>\n",
              "      <td>male</td>\n",
              "      <td>p_4_000_171_2aa_07c7660.jpg</td>\n",
              "      <td>0.0</td>\n",
              "      <td>Melbourne Area, Australia</td>\n",
              "      <td>urn:li:fs_region:(au,4900)</td>\n",
              "      <td>Head Of (Distributed) Credit, Vic/Tas at Natio...</td>\n",
              "      <td>urn:li:member:9985941</td>\n",
              "      <td>St Kilda Rd Melbourne Business Banking Centre</td>\n",
              "      <td>NaN</td>\n",
              "      <td>Senior Business Banking Manager / Partner 4</td>\n",
              "      <td>191518.0</td>\n",
              "      <td>2003-08-01</td>\n",
              "      <td>1912.0</td>\n",
              "      <td>941.0968</td>\n",
              "    </tr>\n",
              "    <tr>\n",
              "      <th>39534</th>\n",
              "      <td>39534</td>\n",
              "      <td>46.0</td>\n",
              "      <td>151686.0</td>\n",
              "      <td>71b7f012-183c-43c8-a9af-b39a1b9a89a0-2.png</td>\n",
              "      <td>National Australia Bank</td>\n",
              "      <td>27944.0</td>\n",
              "      <td>http://www.nab.com.au</td>\n",
              "      <td>urn:li:company:2357</td>\n",
              "      <td>362.0</td>\n",
              "      <td>au</td>\n",
              "      <td>2003-08-01</td>\n",
              "      <td>1.0</td>\n",
              "      <td>363.0</td>\n",
              "      <td>male</td>\n",
              "      <td>p_4_000_171_2aa_07c7660.jpg</td>\n",
              "      <td>0.0</td>\n",
              "      <td>Melbourne Area, Australia</td>\n",
              "      <td>urn:li:fs_region:(au,4900)</td>\n",
              "      <td>Head Of (Distributed) Credit, Vic/Tas at Natio...</td>\n",
              "      <td>urn:li:member:9985941</td>\n",
              "      <td>St Kilda Rd Melbourne &amp; Bourke and Russell St ...</td>\n",
              "      <td>NaN</td>\n",
              "      <td>Business Banking Manager / Partner 3</td>\n",
              "      <td>191519.0</td>\n",
              "      <td>2000-06-01</td>\n",
              "      <td>1912.0</td>\n",
              "      <td>941.0968</td>\n",
              "    </tr>\n",
              "    <tr>\n",
              "      <th>39535</th>\n",
              "      <td>39535</td>\n",
              "      <td>46.0</td>\n",
              "      <td>151686.0</td>\n",
              "      <td>71b7f012-183c-43c8-a9af-b39a1b9a89a0-2.png</td>\n",
              "      <td>National Australia Bank</td>\n",
              "      <td>27944.0</td>\n",
              "      <td>http://www.nab.com.au</td>\n",
              "      <td>urn:li:company:2357</td>\n",
              "      <td>362.0</td>\n",
              "      <td>au</td>\n",
              "      <td>2000-06-01</td>\n",
              "      <td>1.0</td>\n",
              "      <td>363.0</td>\n",
              "      <td>male</td>\n",
              "      <td>p_4_000_171_2aa_07c7660.jpg</td>\n",
              "      <td>0.0</td>\n",
              "      <td>Melbourne Area, Australia</td>\n",
              "      <td>urn:li:fs_region:(au,4900)</td>\n",
              "      <td>Head Of (Distributed) Credit, Vic/Tas at Natio...</td>\n",
              "      <td>urn:li:member:9985941</td>\n",
              "      <td>Melbourne Office Business Banking Centre</td>\n",
              "      <td>NaN</td>\n",
              "      <td>Business Banking Officer</td>\n",
              "      <td>191520.0</td>\n",
              "      <td>1995-11-01</td>\n",
              "      <td>1912.0</td>\n",
              "      <td>941.0968</td>\n",
              "    </tr>\n",
              "    <tr>\n",
              "      <th>39536</th>\n",
              "      <td>39536</td>\n",
              "      <td>46.0</td>\n",
              "      <td>151686.0</td>\n",
              "      <td>71b7f012-183c-43c8-a9af-b39a1b9a89a0-2.png</td>\n",
              "      <td>National Australia Bank</td>\n",
              "      <td>27944.0</td>\n",
              "      <td>http://www.nab.com.au</td>\n",
              "      <td>urn:li:company:2357</td>\n",
              "      <td>362.0</td>\n",
              "      <td>au</td>\n",
              "      <td>2000-06-01</td>\n",
              "      <td>1.0</td>\n",
              "      <td>363.0</td>\n",
              "      <td>male</td>\n",
              "      <td>p_4_000_171_2aa_07c7660.jpg</td>\n",
              "      <td>0.0</td>\n",
              "      <td>Melbourne Area, Australia</td>\n",
              "      <td>urn:li:fs_region:(au,4900)</td>\n",
              "      <td>Head Of (Distributed) Credit, Vic/Tas at Natio...</td>\n",
              "      <td>urn:li:member:9985941</td>\n",
              "      <td>271 Collins St Melbourne</td>\n",
              "      <td>NaN</td>\n",
              "      <td>Various customer service roles including inter...</td>\n",
              "      <td>191521.0</td>\n",
              "      <td>1989-02-01</td>\n",
              "      <td>1912.0</td>\n",
              "      <td>941.0968</td>\n",
              "    </tr>\n",
              "  </tbody>\n",
              "</table>\n",
              "</div>"
            ],
            "text/plain": [
              "       Unnamed: 0  ageEstimate  ...  avgMemberPosDuration avgCompanyPosDuration\n",
              "39532       39532         46.0  ...                1912.0              941.0968\n",
              "39533       39533         46.0  ...                1912.0              941.0968\n",
              "39534       39534         46.0  ...                1912.0              941.0968\n",
              "39535       39535         46.0  ...                1912.0              941.0968\n",
              "39536       39536         46.0  ...                1912.0              941.0968\n",
              "\n",
              "[5 rows x 27 columns]"
            ]
          },
          "metadata": {
            "tags": []
          },
          "execution_count": 14
        }
      ]
    },
    {
      "cell_type": "markdown",
      "metadata": {
        "id": "FFqqKsABeT7y"
      },
      "source": [
        "### 1.4 info()\n",
        "This will return all of the column names and its types. This function is useful to get the idea of what the dataframe is like.\n"
      ]
    },
    {
      "cell_type": "code",
      "metadata": {
        "id": "wxqUmTFdfkCi",
        "outputId": "ed620b30-153d-4180-f40c-bcc9f3aeda90",
        "colab": {
          "base_uri": "https://localhost:8080/",
          "height": 595
        }
      },
      "source": [
        "# INSERT CODE HERE"
      ],
      "execution_count": 15,
      "outputs": [
        {
          "output_type": "stream",
          "text": [
            "<class 'pandas.core.frame.DataFrame'>\n",
            "RangeIndex: 39537 entries, 0 to 39536\n",
            "Data columns (total 27 columns):\n",
            " #   Column                 Non-Null Count  Dtype  \n",
            "---  ------                 --------------  -----  \n",
            " 0   Unnamed: 0             39537 non-null  int64  \n",
            " 1   ageEstimate            39537 non-null  float64\n",
            " 2   companyFollowerCount   38071 non-null  float64\n",
            " 3   companyHasLogo         36407 non-null  object \n",
            " 4   companyName            39535 non-null  object \n",
            " 5   companyStaffCount      38401 non-null  float64\n",
            " 6   companyUrl             37449 non-null  object \n",
            " 7   companyUrn             39537 non-null  object \n",
            " 8   connectionsCount       39537 non-null  float64\n",
            " 9   country                39537 non-null  object \n",
            " 10  endDate                30626 non-null  object \n",
            " 11  followable             39537 non-null  float64\n",
            " 12  followersCount         39537 non-null  float64\n",
            " 13  genderEstimate         35567 non-null  object \n",
            " 14  hasPicture             29601 non-null  object \n",
            " 15  isPremium              39537 non-null  float64\n",
            " 16  mbrLocation            39537 non-null  object \n",
            " 17  mbrLocationCode        39389 non-null  object \n",
            " 18  mbrTitle               39537 non-null  object \n",
            " 19  memberUrn              39537 non-null  object \n",
            " 20  posLocation            28411 non-null  object \n",
            " 21  posLocationCode        16967 non-null  object \n",
            " 22  posTitle               39537 non-null  object \n",
            " 23  positionId             39537 non-null  float64\n",
            " 24  startDate              39521 non-null  object \n",
            " 25  avgMemberPosDuration   39312 non-null  float64\n",
            " 26  avgCompanyPosDuration  38686 non-null  float64\n",
            "dtypes: float64(10), int64(1), object(16)\n",
            "memory usage: 8.1+ MB\n"
          ],
          "name": "stdout"
        }
      ]
    },
    {
      "cell_type": "markdown",
      "metadata": {
        "id": "Ilf3rsfmBiLw"
      },
      "source": [
        "### Observations:\n",
        "\n",
        "#### Question:\n",
        "List down the number of unique ```Dtype``` in this dataset\n",
        "#### Answer: \n",
        "\n",
        "#### Question:\n",
        "Is the dataset uneven? If so list down the column with the most missing rows? (ie the most NULL rows)\n",
        "#### Answer:"
      ]
    },
    {
      "cell_type": "markdown",
      "metadata": {
        "id": "IhviGetnfp9B"
      },
      "source": [
        "### 1.5 describe()\n",
        "describe() is used to view summary statistics of numeric columns. This will help you to have general idea of the dataset."
      ]
    },
    {
      "cell_type": "code",
      "metadata": {
        "id": "DuDPOCZ9frBI",
        "outputId": "46a8e8bd-ae95-4626-d45d-fac6c993845a",
        "colab": {
          "base_uri": "https://localhost:8080/",
          "height": 297
        }
      },
      "source": [
        "linkedin_profiles.________() # Insert code here"
      ],
      "execution_count": 16,
      "outputs": [
        {
          "output_type": "execute_result",
          "data": {
            "text/html": [
              "<div>\n",
              "<style scoped>\n",
              "    .dataframe tbody tr th:only-of-type {\n",
              "        vertical-align: middle;\n",
              "    }\n",
              "\n",
              "    .dataframe tbody tr th {\n",
              "        vertical-align: top;\n",
              "    }\n",
              "\n",
              "    .dataframe thead th {\n",
              "        text-align: right;\n",
              "    }\n",
              "</style>\n",
              "<table border=\"1\" class=\"dataframe\">\n",
              "  <thead>\n",
              "    <tr style=\"text-align: right;\">\n",
              "      <th></th>\n",
              "      <th>Unnamed: 0</th>\n",
              "      <th>ageEstimate</th>\n",
              "      <th>companyFollowerCount</th>\n",
              "      <th>companyStaffCount</th>\n",
              "      <th>connectionsCount</th>\n",
              "      <th>followable</th>\n",
              "      <th>followersCount</th>\n",
              "      <th>isPremium</th>\n",
              "      <th>positionId</th>\n",
              "      <th>avgMemberPosDuration</th>\n",
              "      <th>avgCompanyPosDuration</th>\n",
              "    </tr>\n",
              "  </thead>\n",
              "  <tbody>\n",
              "    <tr>\n",
              "      <th>count</th>\n",
              "      <td>39537.000000</td>\n",
              "      <td>39537.000000</td>\n",
              "      <td>3.807100e+04</td>\n",
              "      <td>38401.000000</td>\n",
              "      <td>39537.000000</td>\n",
              "      <td>39537.000000</td>\n",
              "      <td>39537.000000</td>\n",
              "      <td>39537.000000</td>\n",
              "      <td>3.953700e+04</td>\n",
              "      <td>39312.000000</td>\n",
              "      <td>38686.000000</td>\n",
              "    </tr>\n",
              "    <tr>\n",
              "      <th>mean</th>\n",
              "      <td>19768.000000</td>\n",
              "      <td>38.434251</td>\n",
              "      <td>2.141731e+05</td>\n",
              "      <td>20451.816177</td>\n",
              "      <td>424.573159</td>\n",
              "      <td>0.950199</td>\n",
              "      <td>1203.336925</td>\n",
              "      <td>0.130359</td>\n",
              "      <td>2.987947e+06</td>\n",
              "      <td>875.186984</td>\n",
              "      <td>888.257529</td>\n",
              "    </tr>\n",
              "    <tr>\n",
              "      <th>std</th>\n",
              "      <td>11413.493133</td>\n",
              "      <td>9.626035</td>\n",
              "      <td>6.942288e+05</td>\n",
              "      <td>67548.466022</td>\n",
              "      <td>123.317422</td>\n",
              "      <td>0.217537</td>\n",
              "      <td>2976.006298</td>\n",
              "      <td>0.336702</td>\n",
              "      <td>9.043136e+06</td>\n",
              "      <td>639.812201</td>\n",
              "      <td>331.099677</td>\n",
              "    </tr>\n",
              "    <tr>\n",
              "      <th>min</th>\n",
              "      <td>0.000000</td>\n",
              "      <td>20.000000</td>\n",
              "      <td>0.000000e+00</td>\n",
              "      <td>0.000000</td>\n",
              "      <td>0.000000</td>\n",
              "      <td>0.000000</td>\n",
              "      <td>0.000000</td>\n",
              "      <td>0.000000</td>\n",
              "      <td>2.200000e+01</td>\n",
              "      <td>0.000000</td>\n",
              "      <td>-91.000000</td>\n",
              "    </tr>\n",
              "    <tr>\n",
              "      <th>25%</th>\n",
              "      <td>9884.000000</td>\n",
              "      <td>31.000000</td>\n",
              "      <td>1.490000e+03</td>\n",
              "      <td>97.000000</td>\n",
              "      <td>371.000000</td>\n",
              "      <td>1.000000</td>\n",
              "      <td>353.000000</td>\n",
              "      <td>0.000000</td>\n",
              "      <td>1.732730e+05</td>\n",
              "      <td>502.125000</td>\n",
              "      <td>724.861300</td>\n",
              "    </tr>\n",
              "    <tr>\n",
              "      <th>50%</th>\n",
              "      <td>19768.000000</td>\n",
              "      <td>38.000000</td>\n",
              "      <td>1.433100e+04</td>\n",
              "      <td>1270.000000</td>\n",
              "      <td>500.000000</td>\n",
              "      <td>1.000000</td>\n",
              "      <td>654.000000</td>\n",
              "      <td>0.000000</td>\n",
              "      <td>2.457850e+05</td>\n",
              "      <td>730.600000</td>\n",
              "      <td>897.069100</td>\n",
              "    </tr>\n",
              "    <tr>\n",
              "      <th>75%</th>\n",
              "      <td>29652.000000</td>\n",
              "      <td>45.000000</td>\n",
              "      <td>1.263610e+05</td>\n",
              "      <td>9808.000000</td>\n",
              "      <td>500.000000</td>\n",
              "      <td>1.000000</td>\n",
              "      <td>1191.000000</td>\n",
              "      <td>0.000000</td>\n",
              "      <td>3.008140e+05</td>\n",
              "      <td>1068.919650</td>\n",
              "      <td>1039.168300</td>\n",
              "    </tr>\n",
              "    <tr>\n",
              "      <th>max</th>\n",
              "      <td>39536.000000</td>\n",
              "      <td>86.000000</td>\n",
              "      <td>7.502740e+06</td>\n",
              "      <td>568533.000000</td>\n",
              "      <td>500.000000</td>\n",
              "      <td>1.000000</td>\n",
              "      <td>161922.000000</td>\n",
              "      <td>1.000000</td>\n",
              "      <td>3.845443e+07</td>\n",
              "      <td>15492.500000</td>\n",
              "      <td>9497.000000</td>\n",
              "    </tr>\n",
              "  </tbody>\n",
              "</table>\n",
              "</div>"
            ],
            "text/plain": [
              "         Unnamed: 0   ageEstimate  ...  avgMemberPosDuration  avgCompanyPosDuration\n",
              "count  39537.000000  39537.000000  ...          39312.000000           38686.000000\n",
              "mean   19768.000000     38.434251  ...            875.186984             888.257529\n",
              "std    11413.493133      9.626035  ...            639.812201             331.099677\n",
              "min        0.000000     20.000000  ...              0.000000             -91.000000\n",
              "25%     9884.000000     31.000000  ...            502.125000             724.861300\n",
              "50%    19768.000000     38.000000  ...            730.600000             897.069100\n",
              "75%    29652.000000     45.000000  ...           1068.919650            1039.168300\n",
              "max    39536.000000     86.000000  ...          15492.500000            9497.000000\n",
              "\n",
              "[8 rows x 11 columns]"
            ]
          },
          "metadata": {
            "tags": []
          },
          "execution_count": 16
        }
      ]
    },
    {
      "cell_type": "markdown",
      "metadata": {
        "id": "oEEj1jeGAlhU"
      },
      "source": [
        "### Observations:\n",
        "\n",
        "#### Question:\n",
        "FIXME Why is ```describe``` showing only 11 columns? Is it because of their types e.g(int,float,object)**?\n",
        "#### Answer: \n",
        "\n",
        "#### Question:\n",
        "Notice the statistics for `count`, `mean`, `std`, `min`, etc. What could be reason for the `count` value not being the same across all columns?\n",
        "#### Answer:\n",
        "\n",
        "#### Question:\n",
        "Are the mean, standard deviation,..., max. important for all of the columns? Which ones might these values not be relevant for?\n",
        "#### Answer:\n"
      ]
    },
    {
      "cell_type": "markdown",
      "metadata": {
        "id": "nwuNo5o2fzGe"
      },
      "source": [
        "#### shape\n",
        "To see the size of the dataset, we can use shape function, which returns the number of rows and columns in a format of (#rows, #columns)"
      ]
    },
    {
      "cell_type": "code",
      "metadata": {
        "id": "fIhERH7KHldk",
        "outputId": "769e32e4-7c5a-46b6-e2d3-962ab5a56ad5",
        "colab": {
          "base_uri": "https://localhost:8080/",
          "height": 34
        }
      },
      "source": [
        "linkedin_profiles.shape"
      ],
      "execution_count": 17,
      "outputs": [
        {
          "output_type": "execute_result",
          "data": {
            "text/plain": [
              "(39537, 27)"
            ]
          },
          "metadata": {
            "tags": []
          },
          "execution_count": 17
        }
      ]
    },
    {
      "cell_type": "markdown",
      "metadata": {
        "id": "aOi3ah9yDI-T"
      },
      "source": [
        "### Observations:\n",
        "\n",
        "#### Question:\n",
        "How many **rows** and **columns** are there?\n",
        "#### Answer:"
      ]
    },
    {
      "cell_type": "markdown",
      "metadata": {
        "id": "AeidaHn6Hldo"
      },
      "source": [
        "### 1.6 Important Facts About the Dataset"
      ]
    },
    {
      "cell_type": "markdown",
      "metadata": {
        "id": "XIFbkyfIDinJ"
      },
      "source": [
        "The next thing we want to do is count the number of job positions that are still active. We'll know this by observing the ```endDate``` This is simple, all we have to do is run two functions:\n",
        "- The first one will be to check if the column has null values, ```isnull()```.\n",
        "- The second one will be count the number of null values in the column, ```sum()```."
      ]
    },
    {
      "cell_type": "code",
      "metadata": {
        "id": "lKl32c6JHldo",
        "outputId": "e72627b9-5255-4ac8-d9ae-2d215d8aa4fd",
        "colab": {
          "base_uri": "https://localhost:8080/",
          "height": 221
        }
      },
      "source": [
        "active_jobs = linkedin_profiles['endDate'].______().___()   # Insert Code Here\n",
        "print(f'The total number of active jobs is:  {active_jobs}')\n"
      ],
      "execution_count": 33,
      "outputs": [
        {
          "output_type": "stream",
          "text": [
            "nan\n",
            "2014-06-01\n",
            "2012-12-01\n",
            "2008-07-01\n",
            "nan\n",
            "2016-12-01\n",
            "2015-12-01\n",
            "2014-10-01\n",
            "2013-06-01\n",
            "2012-09-01\n",
            "2011-08-01\n",
            "The total number of active jobs is:  8911\n"
          ],
          "name": "stdout"
        }
      ]
    },
    {
      "cell_type": "markdown",
      "metadata": {
        "id": "2JPDPjr-EI60"
      },
      "source": [
        "\n",
        "**What about the total number of completed job positions?** </br>\n",
        "The completed jobs are those that have a valid date in the `endDate` column. This means that these values are not NULL, which we can check by calling the `notnul()` method.\n",
        "In the following line of code, we will have to ```sum``` the total number of completed jobs in every column."
      ]
    },
    {
      "cell_type": "code",
      "metadata": {
        "id": "v_Gai5XEHlds",
        "scrolled": true,
        "outputId": "cd4dbc9a-51c4-48cc-8131-fecd05ec2429",
        "colab": {
          "base_uri": "https://localhost:8080/",
          "height": 34
        }
      },
      "source": [
        "number_of_completed_jobs = linkedin_profiles['endDate']._______().___()    # Insert code here\n",
        "print(f'The total number of completed jobs are: {number_of_completed_jobs}')"
      ],
      "execution_count": 34,
      "outputs": [
        {
          "output_type": "stream",
          "text": [
            "The total number of completed jobs are: 30626\n"
          ],
          "name": "stdout"
        }
      ]
    },
    {
      "cell_type": "markdown",
      "metadata": {
        "id": "bYuDgHKIHldv"
      },
      "source": [
        "This dataset has 39537 job positions. This means that according to this dataset: "
      ]
    },
    {
      "cell_type": "code",
      "metadata": {
        "id": "xyymyjbgEduN",
        "outputId": "fcd87391-cb49-4f35-f5e3-33fd0d8f409d",
        "colab": {
          "base_uri": "https://localhost:8080/",
          "height": 34
        }
      },
      "source": [
        "possible_active_jobs = 39537 - number_of_completed_jobs \n",
        "possible_active_jobs "
      ],
      "execution_count": 35,
      "outputs": [
        {
          "output_type": "execute_result",
          "data": {
            "text/plain": [
              "8911"
            ]
          },
          "metadata": {
            "tags": []
          },
          "execution_count": 35
        }
      ]
    },
    {
      "cell_type": "markdown",
      "metadata": {
        "id": "Z6uls4tQaAix"
      },
      "source": [
        "Notice that this is the same value that we found by using `isnull()` to find the number of active jobs earlier."
      ]
    },
    {
      "cell_type": "markdown",
      "metadata": {
        "id": "heW7wau-Hldv"
      },
      "source": [
        "### Visualize the Number of Registered Profiles for each Company"
      ]
    },
    {
      "cell_type": "code",
      "metadata": {
        "id": "w6jM7tXrHldw"
      },
      "source": [
        "import matplotlib.pyplot as plt"
      ],
      "execution_count": 36,
      "outputs": []
    },
    {
      "cell_type": "code",
      "metadata": {
        "id": "RZf2AqqGXhop",
        "outputId": "be471924-11b4-48e8-92e8-7a0b5555518f",
        "colab": {
          "base_uri": "https://localhost:8080/",
          "height": 1000
        }
      },
      "source": [
        "# NOTE: This is a difficult section; may be moved to the end of the Lab\n",
        "# Helper function to find invalid characters in the name\n",
        "def is_ascii(s):\n",
        "    try:\n",
        "      return all(ord(c) < 128 for c in s)\n",
        "    except:\n",
        "      return False\n",
        "\n",
        "names = set()\n",
        "count = 0\n",
        "\n",
        "# Filter out invalid Company Names\n",
        "for company in linkedin_profiles['companyName']:\n",
        "  valid = is_ascii(company)\n",
        "  if valid:\n",
        "    names.add(company)\n",
        "\n",
        "# Create a temporary dataset\n",
        "temp_dataset = linkedin_profiles.copy()\n",
        "\n",
        "# Remove the rows with invalid company names\n",
        "temp_dataset = temp_dataset[~temp_dataset['companyName'].isin(names)]\n",
        "\n",
        "# Graph the data\n",
        "# TODO: Only graph the top 10, design the x-axis to be more readable\n",
        "temp_dataset['companyName'].hist(color = 'red', figsize=(30, 20))\n"
      ],
      "execution_count": 67,
      "outputs": [
        {
          "output_type": "execute_result",
          "data": {
            "text/plain": [
              "<matplotlib.axes._subplots.AxesSubplot at 0x7f3aa6140e10>"
            ]
          },
          "metadata": {
            "tags": []
          },
          "execution_count": 67
        },
        {
          "output_type": "stream",
          "text": [
            "/usr/local/lib/python3.6/dist-packages/matplotlib/backends/backend_agg.py:214: RuntimeWarning: Glyph 135 missing from current font.\n",
            "  font.set_text(s, 0.0, flags=flags)\n",
            "/usr/local/lib/python3.6/dist-packages/matplotlib/backends/backend_agg.py:214: RuntimeWarning: Glyph 140 missing from current font.\n",
            "  font.set_text(s, 0.0, flags=flags)\n",
            "/usr/local/lib/python3.6/dist-packages/matplotlib/backends/backend_agg.py:214: RuntimeWarning: Glyph 128 missing from current font.\n",
            "  font.set_text(s, 0.0, flags=flags)\n",
            "/usr/local/lib/python3.6/dist-packages/matplotlib/backends/backend_agg.py:214: RuntimeWarning: Glyph 139 missing from current font.\n",
            "  font.set_text(s, 0.0, flags=flags)\n",
            "/usr/local/lib/python3.6/dist-packages/matplotlib/backends/backend_agg.py:214: RuntimeWarning: Glyph 24800 missing from current font.\n",
            "  font.set_text(s, 0.0, flags=flags)\n",
            "/usr/local/lib/python3.6/dist-packages/matplotlib/backends/backend_agg.py:214: RuntimeWarning: Glyph 29702 missing from current font.\n",
            "  font.set_text(s, 0.0, flags=flags)\n",
            "/usr/local/lib/python3.6/dist-packages/matplotlib/backends/backend_agg.py:214: RuntimeWarning: Glyph 38598 missing from current font.\n",
            "  font.set_text(s, 0.0, flags=flags)\n",
            "/usr/local/lib/python3.6/dist-packages/matplotlib/backends/backend_agg.py:214: RuntimeWarning: Glyph 22296 missing from current font.\n",
            "  font.set_text(s, 0.0, flags=flags)\n",
            "/usr/local/lib/python3.6/dist-packages/matplotlib/backends/backend_agg.py:214: RuntimeWarning: Glyph 133 missing from current font.\n",
            "  font.set_text(s, 0.0, flags=flags)\n",
            "/usr/local/lib/python3.6/dist-packages/matplotlib/backends/backend_agg.py:214: RuntimeWarning: Glyph 136 missing from current font.\n",
            "  font.set_text(s, 0.0, flags=flags)\n",
            "/usr/local/lib/python3.6/dist-packages/matplotlib/backends/backend_agg.py:214: RuntimeWarning: Glyph 134 missing from current font.\n",
            "  font.set_text(s, 0.0, flags=flags)\n",
            "/usr/local/lib/python3.6/dist-packages/matplotlib/backends/backend_agg.py:214: RuntimeWarning: Glyph 152 missing from current font.\n",
            "  font.set_text(s, 0.0, flags=flags)\n",
            "/usr/local/lib/python3.6/dist-packages/matplotlib/backends/backend_agg.py:214: RuntimeWarning: Glyph 129 missing from current font.\n",
            "  font.set_text(s, 0.0, flags=flags)\n",
            "/usr/local/lib/python3.6/dist-packages/matplotlib/backends/backend_agg.py:214: RuntimeWarning: Glyph 147 missing from current font.\n",
            "  font.set_text(s, 0.0, flags=flags)\n",
            "/usr/local/lib/python3.6/dist-packages/matplotlib/backends/backend_agg.py:214: RuntimeWarning: Glyph 153 missing from current font.\n",
            "  font.set_text(s, 0.0, flags=flags)\n",
            "/usr/local/lib/python3.6/dist-packages/matplotlib/backends/backend_agg.py:214: RuntimeWarning: Glyph 154 missing from current font.\n",
            "  font.set_text(s, 0.0, flags=flags)\n",
            "/usr/local/lib/python3.6/dist-packages/matplotlib/backends/backend_agg.py:214: RuntimeWarning: Glyph 159 missing from current font.\n",
            "  font.set_text(s, 0.0, flags=flags)\n",
            "/usr/local/lib/python3.6/dist-packages/matplotlib/backends/backend_agg.py:214: RuntimeWarning: Glyph 158 missing from current font.\n",
            "  font.set_text(s, 0.0, flags=flags)\n",
            "/usr/local/lib/python3.6/dist-packages/matplotlib/backends/backend_agg.py:214: RuntimeWarning: Glyph 146 missing from current font.\n",
            "  font.set_text(s, 0.0, flags=flags)\n",
            "/usr/local/lib/python3.6/dist-packages/matplotlib/backends/backend_agg.py:214: RuntimeWarning: Glyph 150 missing from current font.\n",
            "  font.set_text(s, 0.0, flags=flags)\n",
            "/usr/local/lib/python3.6/dist-packages/matplotlib/backends/backend_agg.py:214: RuntimeWarning: Glyph 156 missing from current font.\n",
            "  font.set_text(s, 0.0, flags=flags)\n",
            "/usr/local/lib/python3.6/dist-packages/matplotlib/backends/backend_agg.py:214: RuntimeWarning: Glyph 137 missing from current font.\n",
            "  font.set_text(s, 0.0, flags=flags)\n",
            "/usr/local/lib/python3.6/dist-packages/matplotlib/backends/backend_agg.py:214: RuntimeWarning: Glyph 132 missing from current font.\n",
            "  font.set_text(s, 0.0, flags=flags)\n",
            "/usr/local/lib/python3.6/dist-packages/matplotlib/backends/backend_agg.py:214: RuntimeWarning: Glyph 157 missing from current font.\n",
            "  font.set_text(s, 0.0, flags=flags)\n",
            "/usr/local/lib/python3.6/dist-packages/matplotlib/backends/backend_agg.py:214: RuntimeWarning: Glyph 39321 missing from current font.\n",
            "  font.set_text(s, 0.0, flags=flags)\n",
            "/usr/local/lib/python3.6/dist-packages/matplotlib/backends/backend_agg.py:214: RuntimeWarning: Glyph 28207 missing from current font.\n",
            "  font.set_text(s, 0.0, flags=flags)\n",
            "/usr/local/lib/python3.6/dist-packages/matplotlib/backends/backend_agg.py:214: RuntimeWarning: Glyph 37941 missing from current font.\n",
            "  font.set_text(s, 0.0, flags=flags)\n",
            "/usr/local/lib/python3.6/dist-packages/matplotlib/backends/backend_agg.py:214: RuntimeWarning: Glyph 36335 missing from current font.\n",
            "  font.set_text(s, 0.0, flags=flags)\n",
            "/usr/local/lib/python3.6/dist-packages/matplotlib/backends/backend_agg.py:214: RuntimeWarning: Glyph 26377 missing from current font.\n",
            "  font.set_text(s, 0.0, flags=flags)\n",
            "/usr/local/lib/python3.6/dist-packages/matplotlib/backends/backend_agg.py:214: RuntimeWarning: Glyph 38480 missing from current font.\n",
            "  font.set_text(s, 0.0, flags=flags)\n",
            "/usr/local/lib/python3.6/dist-packages/matplotlib/backends/backend_agg.py:214: RuntimeWarning: Glyph 20844 missing from current font.\n",
            "  font.set_text(s, 0.0, flags=flags)\n",
            "/usr/local/lib/python3.6/dist-packages/matplotlib/backends/backend_agg.py:214: RuntimeWarning: Glyph 21496 missing from current font.\n",
            "  font.set_text(s, 0.0, flags=flags)\n",
            "/usr/local/lib/python3.6/dist-packages/matplotlib/backends/backend_agg.py:214: RuntimeWarning: Glyph 28216 missing from current font.\n",
            "  font.set_text(s, 0.0, flags=flags)\n",
            "/usr/local/lib/python3.6/dist-packages/matplotlib/backends/backend_agg.py:214: RuntimeWarning: Glyph 25103 missing from current font.\n",
            "  font.set_text(s, 0.0, flags=flags)\n",
            "/usr/local/lib/python3.6/dist-packages/matplotlib/backends/backend_agg.py:214: RuntimeWarning: Glyph 33150 missing from current font.\n",
            "  font.set_text(s, 0.0, flags=flags)\n",
            "/usr/local/lib/python3.6/dist-packages/matplotlib/backends/backend_agg.py:214: RuntimeWarning: Glyph 36798 missing from current font.\n",
            "  font.set_text(s, 0.0, flags=flags)\n",
            "/usr/local/lib/python3.6/dist-packages/matplotlib/backends/backend_agg.py:214: RuntimeWarning: Glyph 25991 missing from current font.\n",
            "  font.set_text(s, 0.0, flags=flags)\n",
            "/usr/local/lib/python3.6/dist-packages/matplotlib/backends/backend_agg.py:214: RuntimeWarning: Glyph 21270 missing from current font.\n",
            "  font.set_text(s, 0.0, flags=flags)\n",
            "/usr/local/lib/python3.6/dist-packages/matplotlib/backends/backend_agg.py:183: RuntimeWarning: Glyph 135 missing from current font.\n",
            "  font.set_text(s, 0, flags=flags)\n",
            "/usr/local/lib/python3.6/dist-packages/matplotlib/backends/backend_agg.py:183: RuntimeWarning: Glyph 140 missing from current font.\n",
            "  font.set_text(s, 0, flags=flags)\n",
            "/usr/local/lib/python3.6/dist-packages/matplotlib/backends/backend_agg.py:183: RuntimeWarning: Glyph 128 missing from current font.\n",
            "  font.set_text(s, 0, flags=flags)\n",
            "/usr/local/lib/python3.6/dist-packages/matplotlib/backends/backend_agg.py:183: RuntimeWarning: Glyph 139 missing from current font.\n",
            "  font.set_text(s, 0, flags=flags)\n",
            "/usr/local/lib/python3.6/dist-packages/matplotlib/backends/backend_agg.py:183: RuntimeWarning: Glyph 24800 missing from current font.\n",
            "  font.set_text(s, 0, flags=flags)\n",
            "/usr/local/lib/python3.6/dist-packages/matplotlib/backends/backend_agg.py:183: RuntimeWarning: Glyph 29702 missing from current font.\n",
            "  font.set_text(s, 0, flags=flags)\n",
            "/usr/local/lib/python3.6/dist-packages/matplotlib/backends/backend_agg.py:183: RuntimeWarning: Glyph 38598 missing from current font.\n",
            "  font.set_text(s, 0, flags=flags)\n",
            "/usr/local/lib/python3.6/dist-packages/matplotlib/backends/backend_agg.py:183: RuntimeWarning: Glyph 22296 missing from current font.\n",
            "  font.set_text(s, 0, flags=flags)\n",
            "/usr/local/lib/python3.6/dist-packages/matplotlib/backends/backend_agg.py:183: RuntimeWarning: Glyph 133 missing from current font.\n",
            "  font.set_text(s, 0, flags=flags)\n",
            "/usr/local/lib/python3.6/dist-packages/matplotlib/backends/backend_agg.py:183: RuntimeWarning: Glyph 136 missing from current font.\n",
            "  font.set_text(s, 0, flags=flags)\n",
            "/usr/local/lib/python3.6/dist-packages/matplotlib/backends/backend_agg.py:183: RuntimeWarning: Glyph 134 missing from current font.\n",
            "  font.set_text(s, 0, flags=flags)\n",
            "/usr/local/lib/python3.6/dist-packages/matplotlib/backends/backend_agg.py:183: RuntimeWarning: Glyph 152 missing from current font.\n",
            "  font.set_text(s, 0, flags=flags)\n",
            "/usr/local/lib/python3.6/dist-packages/matplotlib/backends/backend_agg.py:183: RuntimeWarning: Glyph 129 missing from current font.\n",
            "  font.set_text(s, 0, flags=flags)\n",
            "/usr/local/lib/python3.6/dist-packages/matplotlib/backends/backend_agg.py:183: RuntimeWarning: Glyph 147 missing from current font.\n",
            "  font.set_text(s, 0, flags=flags)\n",
            "/usr/local/lib/python3.6/dist-packages/matplotlib/backends/backend_agg.py:183: RuntimeWarning: Glyph 153 missing from current font.\n",
            "  font.set_text(s, 0, flags=flags)\n",
            "/usr/local/lib/python3.6/dist-packages/matplotlib/backends/backend_agg.py:183: RuntimeWarning: Glyph 154 missing from current font.\n",
            "  font.set_text(s, 0, flags=flags)\n",
            "/usr/local/lib/python3.6/dist-packages/matplotlib/backends/backend_agg.py:183: RuntimeWarning: Glyph 159 missing from current font.\n",
            "  font.set_text(s, 0, flags=flags)\n",
            "/usr/local/lib/python3.6/dist-packages/matplotlib/backends/backend_agg.py:183: RuntimeWarning: Glyph 158 missing from current font.\n",
            "  font.set_text(s, 0, flags=flags)\n",
            "/usr/local/lib/python3.6/dist-packages/matplotlib/backends/backend_agg.py:183: RuntimeWarning: Glyph 146 missing from current font.\n",
            "  font.set_text(s, 0, flags=flags)\n",
            "/usr/local/lib/python3.6/dist-packages/matplotlib/backends/backend_agg.py:183: RuntimeWarning: Glyph 150 missing from current font.\n",
            "  font.set_text(s, 0, flags=flags)\n",
            "/usr/local/lib/python3.6/dist-packages/matplotlib/backends/backend_agg.py:183: RuntimeWarning: Glyph 156 missing from current font.\n",
            "  font.set_text(s, 0, flags=flags)\n",
            "/usr/local/lib/python3.6/dist-packages/matplotlib/backends/backend_agg.py:183: RuntimeWarning: Glyph 137 missing from current font.\n",
            "  font.set_text(s, 0, flags=flags)\n",
            "/usr/local/lib/python3.6/dist-packages/matplotlib/backends/backend_agg.py:183: RuntimeWarning: Glyph 132 missing from current font.\n",
            "  font.set_text(s, 0, flags=flags)\n",
            "/usr/local/lib/python3.6/dist-packages/matplotlib/backends/backend_agg.py:183: RuntimeWarning: Glyph 157 missing from current font.\n",
            "  font.set_text(s, 0, flags=flags)\n",
            "/usr/local/lib/python3.6/dist-packages/matplotlib/backends/backend_agg.py:183: RuntimeWarning: Glyph 39321 missing from current font.\n",
            "  font.set_text(s, 0, flags=flags)\n",
            "/usr/local/lib/python3.6/dist-packages/matplotlib/backends/backend_agg.py:183: RuntimeWarning: Glyph 28207 missing from current font.\n",
            "  font.set_text(s, 0, flags=flags)\n",
            "/usr/local/lib/python3.6/dist-packages/matplotlib/backends/backend_agg.py:183: RuntimeWarning: Glyph 37941 missing from current font.\n",
            "  font.set_text(s, 0, flags=flags)\n",
            "/usr/local/lib/python3.6/dist-packages/matplotlib/backends/backend_agg.py:183: RuntimeWarning: Glyph 36335 missing from current font.\n",
            "  font.set_text(s, 0, flags=flags)\n",
            "/usr/local/lib/python3.6/dist-packages/matplotlib/backends/backend_agg.py:183: RuntimeWarning: Glyph 26377 missing from current font.\n",
            "  font.set_text(s, 0, flags=flags)\n",
            "/usr/local/lib/python3.6/dist-packages/matplotlib/backends/backend_agg.py:183: RuntimeWarning: Glyph 38480 missing from current font.\n",
            "  font.set_text(s, 0, flags=flags)\n",
            "/usr/local/lib/python3.6/dist-packages/matplotlib/backends/backend_agg.py:183: RuntimeWarning: Glyph 20844 missing from current font.\n",
            "  font.set_text(s, 0, flags=flags)\n",
            "/usr/local/lib/python3.6/dist-packages/matplotlib/backends/backend_agg.py:183: RuntimeWarning: Glyph 21496 missing from current font.\n",
            "  font.set_text(s, 0, flags=flags)\n",
            "/usr/local/lib/python3.6/dist-packages/matplotlib/backends/backend_agg.py:183: RuntimeWarning: Glyph 28216 missing from current font.\n",
            "  font.set_text(s, 0, flags=flags)\n",
            "/usr/local/lib/python3.6/dist-packages/matplotlib/backends/backend_agg.py:183: RuntimeWarning: Glyph 25103 missing from current font.\n",
            "  font.set_text(s, 0, flags=flags)\n",
            "/usr/local/lib/python3.6/dist-packages/matplotlib/backends/backend_agg.py:183: RuntimeWarning: Glyph 33150 missing from current font.\n",
            "  font.set_text(s, 0, flags=flags)\n",
            "/usr/local/lib/python3.6/dist-packages/matplotlib/backends/backend_agg.py:183: RuntimeWarning: Glyph 36798 missing from current font.\n",
            "  font.set_text(s, 0, flags=flags)\n",
            "/usr/local/lib/python3.6/dist-packages/matplotlib/backends/backend_agg.py:183: RuntimeWarning: Glyph 25991 missing from current font.\n",
            "  font.set_text(s, 0, flags=flags)\n",
            "/usr/local/lib/python3.6/dist-packages/matplotlib/backends/backend_agg.py:183: RuntimeWarning: Glyph 21270 missing from current font.\n",
            "  font.set_text(s, 0, flags=flags)\n"
          ],
          "name": "stderr"
        },
        {
          "output_type": "display_data",
          "data": {
            "image/png": "[encoded data removed]",
            "text/plain": [
              "<Figure size 2160x1440 with 1 Axes>"
            ]
          },
          "metadata": {
            "tags": [],
            "needs_background": "light"
          }
        }
      ]
    },
    {
      "cell_type": "markdown",
      "metadata": {
        "id": "nIFt7KCZHld-"
      },
      "source": [
        "## 2 - Getting Started with Data Wrangling"
      ]
    },
    {
      "cell_type": "markdown",
      "metadata": {
        "id": "_JW6MwRSFF3B"
      },
      "source": [
        "Now that we have observed the basic features of our dataset raw, we will began cleaning it. This involves several steps that you will be working through.\n"
      ]
    },
    {
      "cell_type": "markdown",
      "metadata": {
        "id": "NJhawspPHld-"
      },
      "source": [
        "### Create a copy of the Original Dataset"
      ]
    },
    {
      "cell_type": "code",
      "metadata": {
        "id": "HJ6p5GksHld_"
      },
      "source": [
        "df = linkedin_profiles.copy()"
      ],
      "execution_count": 68,
      "outputs": []
    },
    {
      "cell_type": "markdown",
      "metadata": {
        "id": "qOYcbFRwHleN"
      },
      "source": [
        "### 2.4 Remove Unneeded columns -```df.drop()```"
      ]
    },
    {
      "cell_type": "markdown",
      "metadata": {
        "id": "uocghp2yHleO"
      },
      "source": [
        "Now that we have a new index from 0 to 15299.\n",
        "\n",
        "When we're looking at the database, for our purposes, we don't want to work with the ```companyHasLogo```,```companyUrl```, ```companyUrn```, ```followable```, ```mbrLocationCode```, ```mbrUrn```, ```posLocationCode```, ```positionId```. Next, we will use ```df.reindex()``` to change two things:\n",
        "1. The order of our columns\n",
        "2. Remove unneeded columnsL\n",
        "\n",
        "Let's remove the columns that we don't need anymore: [ companyUrl, companyUrn, mbrLocationCode, mbrUrnn, posLocationCode, genderEstimate ]\n",
        "\n",
        "[ 'companyUrl', 'companyUrn', 'mbrLocationCode', 'mbrUrn', 'posLocationCode', 'genderEstimate' ]\n",
        "\n",
        "FIXME: For Bonus questions, save the columns for [ companyFollowerCount, companyHasLogo, companyStaffCount, connectionsCount, followable, followersCount ] for additional analysis\n",
        "\n",
        "FIXME: else, remove all [ companyFollowerCount, companyHasLogo, companyStaffCount, companyUrl, companyUrn, connectionsCount, followable, followersCount, mbrLocationCode, mbrUrnn, posLocationCode, genderEstimate ]\n",
        "\n",
        "Next, drop these columnns"
      ]
    },
    {
      "cell_type": "code",
      "metadata": {
        "id": "90MwAELVHleO",
        "outputId": "613af4e0-9296-4024-9c92-c79a8b21b11d",
        "colab": {
          "base_uri": "https://localhost:8080/",
          "height": 1000
        }
      },
      "source": [
        "df = df.drop(columns=______)  # INSERT CODE HERE\n",
        "df "
      ],
      "execution_count": 71,
      "outputs": [
        {
          "output_type": "execute_result",
          "data": {
            "text/html": [
              "<div>\n",
              "<style scoped>\n",
              "    .dataframe tbody tr th:only-of-type {\n",
              "        vertical-align: middle;\n",
              "    }\n",
              "\n",
              "    .dataframe tbody tr th {\n",
              "        vertical-align: top;\n",
              "    }\n",
              "\n",
              "    .dataframe thead th {\n",
              "        text-align: right;\n",
              "    }\n",
              "</style>\n",
              "<table border=\"1\" class=\"dataframe\">\n",
              "  <thead>\n",
              "    <tr style=\"text-align: right;\">\n",
              "      <th></th>\n",
              "      <th>Unnamed: 0</th>\n",
              "      <th>ageEstimate</th>\n",
              "      <th>companyFollowerCount</th>\n",
              "      <th>companyHasLogo</th>\n",
              "      <th>companyName</th>\n",
              "      <th>companyStaffCount</th>\n",
              "      <th>connectionsCount</th>\n",
              "      <th>country</th>\n",
              "      <th>endDate</th>\n",
              "      <th>followable</th>\n",
              "      <th>followersCount</th>\n",
              "      <th>hasPicture</th>\n",
              "      <th>isPremium</th>\n",
              "      <th>mbrLocation</th>\n",
              "      <th>mbrTitle</th>\n",
              "      <th>posLocation</th>\n",
              "      <th>posTitle</th>\n",
              "      <th>positionId</th>\n",
              "      <th>startDate</th>\n",
              "      <th>avgMemberPosDuration</th>\n",
              "      <th>avgCompanyPosDuration</th>\n",
              "    </tr>\n",
              "  </thead>\n",
              "  <tbody>\n",
              "    <tr>\n",
              "      <th>0</th>\n",
              "      <td>0</td>\n",
              "      <td>41.0</td>\n",
              "      <td>198859.0</td>\n",
              "      <td>5a92c12e-0a20-482b-95ec-e705a6294730-2.png</td>\n",
              "      <td>Commonwealth Bank</td>\n",
              "      <td>32905.0</td>\n",
              "      <td>500.0</td>\n",
              "      <td>au</td>\n",
              "      <td>NaN</td>\n",
              "      <td>1.0</td>\n",
              "      <td>506.0</td>\n",
              "      <td>NaN</td>\n",
              "      <td>0.0</td>\n",
              "      <td>Sydney Area, Australia</td>\n",
              "      <td>Portfolio Executive at Commonwealth Bank</td>\n",
              "      <td>NaN</td>\n",
              "      <td>Portfolio Executive</td>\n",
              "      <td>240345.0</td>\n",
              "      <td>2014-07-01</td>\n",
              "      <td>760.5000</td>\n",
              "      <td>989.9361</td>\n",
              "    </tr>\n",
              "    <tr>\n",
              "      <th>1</th>\n",
              "      <td>1</td>\n",
              "      <td>41.0</td>\n",
              "      <td>198859.0</td>\n",
              "      <td>5a92c12e-0a20-482b-95ec-e705a6294730-2.png</td>\n",
              "      <td>Commonwealth Bank</td>\n",
              "      <td>32905.0</td>\n",
              "      <td>500.0</td>\n",
              "      <td>au</td>\n",
              "      <td>2014-06-01</td>\n",
              "      <td>1.0</td>\n",
              "      <td>506.0</td>\n",
              "      <td>NaN</td>\n",
              "      <td>0.0</td>\n",
              "      <td>Sydney Area, Australia</td>\n",
              "      <td>Portfolio Executive at Commonwealth Bank</td>\n",
              "      <td>Sydney, Australia</td>\n",
              "      <td>Solution Delivery Executive</td>\n",
              "      <td>240346.0</td>\n",
              "      <td>2013-11-01</td>\n",
              "      <td>760.5000</td>\n",
              "      <td>989.9361</td>\n",
              "    </tr>\n",
              "    <tr>\n",
              "      <th>2</th>\n",
              "      <td>2</td>\n",
              "      <td>41.0</td>\n",
              "      <td>10047.0</td>\n",
              "      <td>b1c3fd9a-8f21-48f8-8321-d773b1ff3cb7-2.png</td>\n",
              "      <td>CommSec</td>\n",
              "      <td>619.0</td>\n",
              "      <td>500.0</td>\n",
              "      <td>au</td>\n",
              "      <td>2012-12-01</td>\n",
              "      <td>1.0</td>\n",
              "      <td>506.0</td>\n",
              "      <td>NaN</td>\n",
              "      <td>0.0</td>\n",
              "      <td>Sydney Area, Australia</td>\n",
              "      <td>Portfolio Executive at Commonwealth Bank</td>\n",
              "      <td>NaN</td>\n",
              "      <td>Project Manager</td>\n",
              "      <td>240348.0</td>\n",
              "      <td>2008-08-01</td>\n",
              "      <td>760.5000</td>\n",
              "      <td>747.2308</td>\n",
              "    </tr>\n",
              "    <tr>\n",
              "      <th>3</th>\n",
              "      <td>3</td>\n",
              "      <td>41.0</td>\n",
              "      <td>198859.0</td>\n",
              "      <td>5a92c12e-0a20-482b-95ec-e705a6294730-2.png</td>\n",
              "      <td>Commonwealth Bank</td>\n",
              "      <td>32905.0</td>\n",
              "      <td>500.0</td>\n",
              "      <td>au</td>\n",
              "      <td>2008-07-01</td>\n",
              "      <td>1.0</td>\n",
              "      <td>506.0</td>\n",
              "      <td>NaN</td>\n",
              "      <td>0.0</td>\n",
              "      <td>Sydney Area, Australia</td>\n",
              "      <td>Portfolio Executive at Commonwealth Bank</td>\n",
              "      <td>NaN</td>\n",
              "      <td>Project Manager</td>\n",
              "      <td>240350.0</td>\n",
              "      <td>2007-02-01</td>\n",
              "      <td>760.5000</td>\n",
              "      <td>989.9361</td>\n",
              "    </tr>\n",
              "    <tr>\n",
              "      <th>4</th>\n",
              "      <td>4</td>\n",
              "      <td>30.0</td>\n",
              "      <td>300723.0</td>\n",
              "      <td>0f982557-a907-409e-af20-1feb0e0813cd-2.png</td>\n",
              "      <td>PayPal</td>\n",
              "      <td>22522.0</td>\n",
              "      <td>500.0</td>\n",
              "      <td>au</td>\n",
              "      <td>NaN</td>\n",
              "      <td>1.0</td>\n",
              "      <td>951.0</td>\n",
              "      <td>RTMZ0-46bTjK4V_MGFDG6i5g0yZmFp5oS0S9liWvpWg.jpg</td>\n",
              "      <td>0.0</td>\n",
              "      <td>Sydney Area, Australia</td>\n",
              "      <td>Senior Marketing Manager, PayPal</td>\n",
              "      <td>NaN</td>\n",
              "      <td>Senior Marketing Manager</td>\n",
              "      <td>229893.0</td>\n",
              "      <td>2017-01-01</td>\n",
              "      <td>395.2857</td>\n",
              "      <td>683.3496</td>\n",
              "    </tr>\n",
              "    <tr>\n",
              "      <th>...</th>\n",
              "      <td>...</td>\n",
              "      <td>...</td>\n",
              "      <td>...</td>\n",
              "      <td>...</td>\n",
              "      <td>...</td>\n",
              "      <td>...</td>\n",
              "      <td>...</td>\n",
              "      <td>...</td>\n",
              "      <td>...</td>\n",
              "      <td>...</td>\n",
              "      <td>...</td>\n",
              "      <td>...</td>\n",
              "      <td>...</td>\n",
              "      <td>...</td>\n",
              "      <td>...</td>\n",
              "      <td>...</td>\n",
              "      <td>...</td>\n",
              "      <td>...</td>\n",
              "      <td>...</td>\n",
              "      <td>...</td>\n",
              "      <td>...</td>\n",
              "    </tr>\n",
              "    <tr>\n",
              "      <th>39532</th>\n",
              "      <td>39532</td>\n",
              "      <td>46.0</td>\n",
              "      <td>151686.0</td>\n",
              "      <td>71b7f012-183c-43c8-a9af-b39a1b9a89a0-2.png</td>\n",
              "      <td>National Australia Bank</td>\n",
              "      <td>27944.0</td>\n",
              "      <td>362.0</td>\n",
              "      <td>au</td>\n",
              "      <td>2009-04-01</td>\n",
              "      <td>1.0</td>\n",
              "      <td>363.0</td>\n",
              "      <td>p_4_000_171_2aa_07c7660.jpg</td>\n",
              "      <td>0.0</td>\n",
              "      <td>Melbourne Area, Australia</td>\n",
              "      <td>Head Of (Distributed) Credit, Vic/Tas at Natio...</td>\n",
              "      <td>St Kilda Rd Melbourne Business Banking Centre</td>\n",
              "      <td>Senior Partner</td>\n",
              "      <td>191517.0</td>\n",
              "      <td>2006-08-01</td>\n",
              "      <td>1912.0000</td>\n",
              "      <td>941.0968</td>\n",
              "    </tr>\n",
              "    <tr>\n",
              "      <th>39533</th>\n",
              "      <td>39533</td>\n",
              "      <td>46.0</td>\n",
              "      <td>151686.0</td>\n",
              "      <td>71b7f012-183c-43c8-a9af-b39a1b9a89a0-2.png</td>\n",
              "      <td>National Australia Bank</td>\n",
              "      <td>27944.0</td>\n",
              "      <td>362.0</td>\n",
              "      <td>au</td>\n",
              "      <td>2007-05-01</td>\n",
              "      <td>1.0</td>\n",
              "      <td>363.0</td>\n",
              "      <td>p_4_000_171_2aa_07c7660.jpg</td>\n",
              "      <td>0.0</td>\n",
              "      <td>Melbourne Area, Australia</td>\n",
              "      <td>Head Of (Distributed) Credit, Vic/Tas at Natio...</td>\n",
              "      <td>St Kilda Rd Melbourne Business Banking Centre</td>\n",
              "      <td>Senior Business Banking Manager / Partner 4</td>\n",
              "      <td>191518.0</td>\n",
              "      <td>2003-08-01</td>\n",
              "      <td>1912.0000</td>\n",
              "      <td>941.0968</td>\n",
              "    </tr>\n",
              "    <tr>\n",
              "      <th>39534</th>\n",
              "      <td>39534</td>\n",
              "      <td>46.0</td>\n",
              "      <td>151686.0</td>\n",
              "      <td>71b7f012-183c-43c8-a9af-b39a1b9a89a0-2.png</td>\n",
              "      <td>National Australia Bank</td>\n",
              "      <td>27944.0</td>\n",
              "      <td>362.0</td>\n",
              "      <td>au</td>\n",
              "      <td>2003-08-01</td>\n",
              "      <td>1.0</td>\n",
              "      <td>363.0</td>\n",
              "      <td>p_4_000_171_2aa_07c7660.jpg</td>\n",
              "      <td>0.0</td>\n",
              "      <td>Melbourne Area, Australia</td>\n",
              "      <td>Head Of (Distributed) Credit, Vic/Tas at Natio...</td>\n",
              "      <td>St Kilda Rd Melbourne &amp; Bourke and Russell St ...</td>\n",
              "      <td>Business Banking Manager / Partner 3</td>\n",
              "      <td>191519.0</td>\n",
              "      <td>2000-06-01</td>\n",
              "      <td>1912.0000</td>\n",
              "      <td>941.0968</td>\n",
              "    </tr>\n",
              "    <tr>\n",
              "      <th>39535</th>\n",
              "      <td>39535</td>\n",
              "      <td>46.0</td>\n",
              "      <td>151686.0</td>\n",
              "      <td>71b7f012-183c-43c8-a9af-b39a1b9a89a0-2.png</td>\n",
              "      <td>National Australia Bank</td>\n",
              "      <td>27944.0</td>\n",
              "      <td>362.0</td>\n",
              "      <td>au</td>\n",
              "      <td>2000-06-01</td>\n",
              "      <td>1.0</td>\n",
              "      <td>363.0</td>\n",
              "      <td>p_4_000_171_2aa_07c7660.jpg</td>\n",
              "      <td>0.0</td>\n",
              "      <td>Melbourne Area, Australia</td>\n",
              "      <td>Head Of (Distributed) Credit, Vic/Tas at Natio...</td>\n",
              "      <td>Melbourne Office Business Banking Centre</td>\n",
              "      <td>Business Banking Officer</td>\n",
              "      <td>191520.0</td>\n",
              "      <td>1995-11-01</td>\n",
              "      <td>1912.0000</td>\n",
              "      <td>941.0968</td>\n",
              "    </tr>\n",
              "    <tr>\n",
              "      <th>39536</th>\n",
              "      <td>39536</td>\n",
              "      <td>46.0</td>\n",
              "      <td>151686.0</td>\n",
              "      <td>71b7f012-183c-43c8-a9af-b39a1b9a89a0-2.png</td>\n",
              "      <td>National Australia Bank</td>\n",
              "      <td>27944.0</td>\n",
              "      <td>362.0</td>\n",
              "      <td>au</td>\n",
              "      <td>2000-06-01</td>\n",
              "      <td>1.0</td>\n",
              "      <td>363.0</td>\n",
              "      <td>p_4_000_171_2aa_07c7660.jpg</td>\n",
              "      <td>0.0</td>\n",
              "      <td>Melbourne Area, Australia</td>\n",
              "      <td>Head Of (Distributed) Credit, Vic/Tas at Natio...</td>\n",
              "      <td>271 Collins St Melbourne</td>\n",
              "      <td>Various customer service roles including inter...</td>\n",
              "      <td>191521.0</td>\n",
              "      <td>1989-02-01</td>\n",
              "      <td>1912.0000</td>\n",
              "      <td>941.0968</td>\n",
              "    </tr>\n",
              "  </tbody>\n",
              "</table>\n",
              "<p>39537 rows × 21 columns</p>\n",
              "</div>"
            ],
            "text/plain": [
              "       Unnamed: 0  ageEstimate  ...  avgMemberPosDuration avgCompanyPosDuration\n",
              "0               0         41.0  ...              760.5000              989.9361\n",
              "1               1         41.0  ...              760.5000              989.9361\n",
              "2               2         41.0  ...              760.5000              747.2308\n",
              "3               3         41.0  ...              760.5000              989.9361\n",
              "4               4         30.0  ...              395.2857              683.3496\n",
              "...           ...          ...  ...                   ...                   ...\n",
              "39532       39532         46.0  ...             1912.0000              941.0968\n",
              "39533       39533         46.0  ...             1912.0000              941.0968\n",
              "39534       39534         46.0  ...             1912.0000              941.0968\n",
              "39535       39535         46.0  ...             1912.0000              941.0968\n",
              "39536       39536         46.0  ...             1912.0000              941.0968\n",
              "\n",
              "[39537 rows x 21 columns]"
            ]
          },
          "metadata": {
            "tags": []
          },
          "execution_count": 71
        }
      ]
    },
    {
      "cell_type": "markdown",
      "metadata": {
        "id": "d_Ds03fRHleS"
      },
      "source": [
        "### Using ```dropna()```"
      ]
    },
    {
      "cell_type": "markdown",
      "metadata": {
        "id": "OB1gdak8HleT"
      },
      "source": [
        "For this data set, we will be working with profiles that were completely accounted for in all of the remaining features.\n",
        "\n",
        "The ```dropna()``` method is designed top drop every right in our dataframe whos cell might have a null or undefined value. There are usually shown as ```NaN```\n",
        "\n"
      ]
    },
    {
      "cell_type": "code",
      "metadata": {
        "id": "HUUV6ipxHleT",
        "outputId": "c8b86d69-e959-4d71-a60f-3396c32b2f7e",
        "colab": {
          "base_uri": "https://localhost:8080/",
          "height": 1000
        }
      },
      "source": [
        "df = df.dropna()\n",
        "df"
      ],
      "execution_count": 72,
      "outputs": [
        {
          "output_type": "execute_result",
          "data": {
            "text/html": [
              "<div>\n",
              "<style scoped>\n",
              "    .dataframe tbody tr th:only-of-type {\n",
              "        vertical-align: middle;\n",
              "    }\n",
              "\n",
              "    .dataframe tbody tr th {\n",
              "        vertical-align: top;\n",
              "    }\n",
              "\n",
              "    .dataframe thead th {\n",
              "        text-align: right;\n",
              "    }\n",
              "</style>\n",
              "<table border=\"1\" class=\"dataframe\">\n",
              "  <thead>\n",
              "    <tr style=\"text-align: right;\">\n",
              "      <th></th>\n",
              "      <th>Unnamed: 0</th>\n",
              "      <th>ageEstimate</th>\n",
              "      <th>companyFollowerCount</th>\n",
              "      <th>companyHasLogo</th>\n",
              "      <th>companyName</th>\n",
              "      <th>companyStaffCount</th>\n",
              "      <th>connectionsCount</th>\n",
              "      <th>country</th>\n",
              "      <th>endDate</th>\n",
              "      <th>followable</th>\n",
              "      <th>followersCount</th>\n",
              "      <th>hasPicture</th>\n",
              "      <th>isPremium</th>\n",
              "      <th>mbrLocation</th>\n",
              "      <th>mbrTitle</th>\n",
              "      <th>posLocation</th>\n",
              "      <th>posTitle</th>\n",
              "      <th>positionId</th>\n",
              "      <th>startDate</th>\n",
              "      <th>avgMemberPosDuration</th>\n",
              "      <th>avgCompanyPosDuration</th>\n",
              "    </tr>\n",
              "  </thead>\n",
              "  <tbody>\n",
              "    <tr>\n",
              "      <th>5</th>\n",
              "      <td>5</td>\n",
              "      <td>30.0</td>\n",
              "      <td>71403.0</td>\n",
              "      <td>b976d16b-b41f-401c-952c-d5bd2aaac7b0-2.png</td>\n",
              "      <td>Optus</td>\n",
              "      <td>10913.0</td>\n",
              "      <td>500.0</td>\n",
              "      <td>au</td>\n",
              "      <td>2016-12-01</td>\n",
              "      <td>1.0</td>\n",
              "      <td>951.0</td>\n",
              "      <td>RTMZ0-46bTjK4V_MGFDG6i5g0yZmFp5oS0S9liWvpWg.jpg</td>\n",
              "      <td>0.0</td>\n",
              "      <td>Sydney Area, Australia</td>\n",
              "      <td>Senior Marketing Manager, PayPal</td>\n",
              "      <td>Sydney, Australia</td>\n",
              "      <td>Digital and Social Engagement Leader, Optus Bu...</td>\n",
              "      <td>229894.0</td>\n",
              "      <td>2016-01-01</td>\n",
              "      <td>395.2857</td>\n",
              "      <td>977.6553</td>\n",
              "    </tr>\n",
              "    <tr>\n",
              "      <th>6</th>\n",
              "      <td>6</td>\n",
              "      <td>30.0</td>\n",
              "      <td>4385293.0</td>\n",
              "      <td>e8d29e8b-1601-462c-b780-0f8c19f97157-2.png</td>\n",
              "      <td>IBM</td>\n",
              "      <td>568533.0</td>\n",
              "      <td>500.0</td>\n",
              "      <td>au</td>\n",
              "      <td>2015-12-01</td>\n",
              "      <td>1.0</td>\n",
              "      <td>951.0</td>\n",
              "      <td>RTMZ0-46bTjK4V_MGFDG6i5g0yZmFp5oS0S9liWvpWg.jpg</td>\n",
              "      <td>0.0</td>\n",
              "      <td>Sydney Area, Australia</td>\n",
              "      <td>Senior Marketing Manager, PayPal</td>\n",
              "      <td>Greater New York City Area</td>\n",
              "      <td>Social Brand Marketing</td>\n",
              "      <td>229895.0</td>\n",
              "      <td>2014-11-01</td>\n",
              "      <td>395.2857</td>\n",
              "      <td>1188.7339</td>\n",
              "    </tr>\n",
              "    <tr>\n",
              "      <th>7</th>\n",
              "      <td>7</td>\n",
              "      <td>30.0</td>\n",
              "      <td>4385293.0</td>\n",
              "      <td>e8d29e8b-1601-462c-b780-0f8c19f97157-2.png</td>\n",
              "      <td>IBM</td>\n",
              "      <td>568533.0</td>\n",
              "      <td>500.0</td>\n",
              "      <td>au</td>\n",
              "      <td>2014-10-01</td>\n",
              "      <td>1.0</td>\n",
              "      <td>951.0</td>\n",
              "      <td>RTMZ0-46bTjK4V_MGFDG6i5g0yZmFp5oS0S9liWvpWg.jpg</td>\n",
              "      <td>0.0</td>\n",
              "      <td>Sydney Area, Australia</td>\n",
              "      <td>Senior Marketing Manager, PayPal</td>\n",
              "      <td>Australia</td>\n",
              "      <td>Brand Strategist</td>\n",
              "      <td>229896.0</td>\n",
              "      <td>2013-06-01</td>\n",
              "      <td>395.2857</td>\n",
              "      <td>1188.7339</td>\n",
              "    </tr>\n",
              "    <tr>\n",
              "      <th>8</th>\n",
              "      <td>8</td>\n",
              "      <td>30.0</td>\n",
              "      <td>4385293.0</td>\n",
              "      <td>e8d29e8b-1601-462c-b780-0f8c19f97157-2.png</td>\n",
              "      <td>IBM</td>\n",
              "      <td>568533.0</td>\n",
              "      <td>500.0</td>\n",
              "      <td>au</td>\n",
              "      <td>2013-06-01</td>\n",
              "      <td>1.0</td>\n",
              "      <td>951.0</td>\n",
              "      <td>RTMZ0-46bTjK4V_MGFDG6i5g0yZmFp5oS0S9liWvpWg.jpg</td>\n",
              "      <td>0.0</td>\n",
              "      <td>Sydney Area, Australia</td>\n",
              "      <td>Senior Marketing Manager, PayPal</td>\n",
              "      <td>Australia</td>\n",
              "      <td>Brand Expression Lead</td>\n",
              "      <td>229897.0</td>\n",
              "      <td>2012-09-01</td>\n",
              "      <td>395.2857</td>\n",
              "      <td>1188.7339</td>\n",
              "    </tr>\n",
              "    <tr>\n",
              "      <th>9</th>\n",
              "      <td>9</td>\n",
              "      <td>30.0</td>\n",
              "      <td>4385293.0</td>\n",
              "      <td>e8d29e8b-1601-462c-b780-0f8c19f97157-2.png</td>\n",
              "      <td>IBM</td>\n",
              "      <td>568533.0</td>\n",
              "      <td>500.0</td>\n",
              "      <td>au</td>\n",
              "      <td>2012-09-01</td>\n",
              "      <td>1.0</td>\n",
              "      <td>951.0</td>\n",
              "      <td>RTMZ0-46bTjK4V_MGFDG6i5g0yZmFp5oS0S9liWvpWg.jpg</td>\n",
              "      <td>0.0</td>\n",
              "      <td>Sydney Area, Australia</td>\n",
              "      <td>Senior Marketing Manager, PayPal</td>\n",
              "      <td>St Leonards, Australia</td>\n",
              "      <td>Brand System Graduate</td>\n",
              "      <td>229898.0</td>\n",
              "      <td>2011-09-01</td>\n",
              "      <td>395.2857</td>\n",
              "      <td>1188.7339</td>\n",
              "    </tr>\n",
              "    <tr>\n",
              "      <th>...</th>\n",
              "      <td>...</td>\n",
              "      <td>...</td>\n",
              "      <td>...</td>\n",
              "      <td>...</td>\n",
              "      <td>...</td>\n",
              "      <td>...</td>\n",
              "      <td>...</td>\n",
              "      <td>...</td>\n",
              "      <td>...</td>\n",
              "      <td>...</td>\n",
              "      <td>...</td>\n",
              "      <td>...</td>\n",
              "      <td>...</td>\n",
              "      <td>...</td>\n",
              "      <td>...</td>\n",
              "      <td>...</td>\n",
              "      <td>...</td>\n",
              "      <td>...</td>\n",
              "      <td>...</td>\n",
              "      <td>...</td>\n",
              "      <td>...</td>\n",
              "    </tr>\n",
              "    <tr>\n",
              "      <th>39532</th>\n",
              "      <td>39532</td>\n",
              "      <td>46.0</td>\n",
              "      <td>151686.0</td>\n",
              "      <td>71b7f012-183c-43c8-a9af-b39a1b9a89a0-2.png</td>\n",
              "      <td>National Australia Bank</td>\n",
              "      <td>27944.0</td>\n",
              "      <td>362.0</td>\n",
              "      <td>au</td>\n",
              "      <td>2009-04-01</td>\n",
              "      <td>1.0</td>\n",
              "      <td>363.0</td>\n",
              "      <td>p_4_000_171_2aa_07c7660.jpg</td>\n",
              "      <td>0.0</td>\n",
              "      <td>Melbourne Area, Australia</td>\n",
              "      <td>Head Of (Distributed) Credit, Vic/Tas at Natio...</td>\n",
              "      <td>St Kilda Rd Melbourne Business Banking Centre</td>\n",
              "      <td>Senior Partner</td>\n",
              "      <td>191517.0</td>\n",
              "      <td>2006-08-01</td>\n",
              "      <td>1912.0000</td>\n",
              "      <td>941.0968</td>\n",
              "    </tr>\n",
              "    <tr>\n",
              "      <th>39533</th>\n",
              "      <td>39533</td>\n",
              "      <td>46.0</td>\n",
              "      <td>151686.0</td>\n",
              "      <td>71b7f012-183c-43c8-a9af-b39a1b9a89a0-2.png</td>\n",
              "      <td>National Australia Bank</td>\n",
              "      <td>27944.0</td>\n",
              "      <td>362.0</td>\n",
              "      <td>au</td>\n",
              "      <td>2007-05-01</td>\n",
              "      <td>1.0</td>\n",
              "      <td>363.0</td>\n",
              "      <td>p_4_000_171_2aa_07c7660.jpg</td>\n",
              "      <td>0.0</td>\n",
              "      <td>Melbourne Area, Australia</td>\n",
              "      <td>Head Of (Distributed) Credit, Vic/Tas at Natio...</td>\n",
              "      <td>St Kilda Rd Melbourne Business Banking Centre</td>\n",
              "      <td>Senior Business Banking Manager / Partner 4</td>\n",
              "      <td>191518.0</td>\n",
              "      <td>2003-08-01</td>\n",
              "      <td>1912.0000</td>\n",
              "      <td>941.0968</td>\n",
              "    </tr>\n",
              "    <tr>\n",
              "      <th>39534</th>\n",
              "      <td>39534</td>\n",
              "      <td>46.0</td>\n",
              "      <td>151686.0</td>\n",
              "      <td>71b7f012-183c-43c8-a9af-b39a1b9a89a0-2.png</td>\n",
              "      <td>National Australia Bank</td>\n",
              "      <td>27944.0</td>\n",
              "      <td>362.0</td>\n",
              "      <td>au</td>\n",
              "      <td>2003-08-01</td>\n",
              "      <td>1.0</td>\n",
              "      <td>363.0</td>\n",
              "      <td>p_4_000_171_2aa_07c7660.jpg</td>\n",
              "      <td>0.0</td>\n",
              "      <td>Melbourne Area, Australia</td>\n",
              "      <td>Head Of (Distributed) Credit, Vic/Tas at Natio...</td>\n",
              "      <td>St Kilda Rd Melbourne &amp; Bourke and Russell St ...</td>\n",
              "      <td>Business Banking Manager / Partner 3</td>\n",
              "      <td>191519.0</td>\n",
              "      <td>2000-06-01</td>\n",
              "      <td>1912.0000</td>\n",
              "      <td>941.0968</td>\n",
              "    </tr>\n",
              "    <tr>\n",
              "      <th>39535</th>\n",
              "      <td>39535</td>\n",
              "      <td>46.0</td>\n",
              "      <td>151686.0</td>\n",
              "      <td>71b7f012-183c-43c8-a9af-b39a1b9a89a0-2.png</td>\n",
              "      <td>National Australia Bank</td>\n",
              "      <td>27944.0</td>\n",
              "      <td>362.0</td>\n",
              "      <td>au</td>\n",
              "      <td>2000-06-01</td>\n",
              "      <td>1.0</td>\n",
              "      <td>363.0</td>\n",
              "      <td>p_4_000_171_2aa_07c7660.jpg</td>\n",
              "      <td>0.0</td>\n",
              "      <td>Melbourne Area, Australia</td>\n",
              "      <td>Head Of (Distributed) Credit, Vic/Tas at Natio...</td>\n",
              "      <td>Melbourne Office Business Banking Centre</td>\n",
              "      <td>Business Banking Officer</td>\n",
              "      <td>191520.0</td>\n",
              "      <td>1995-11-01</td>\n",
              "      <td>1912.0000</td>\n",
              "      <td>941.0968</td>\n",
              "    </tr>\n",
              "    <tr>\n",
              "      <th>39536</th>\n",
              "      <td>39536</td>\n",
              "      <td>46.0</td>\n",
              "      <td>151686.0</td>\n",
              "      <td>71b7f012-183c-43c8-a9af-b39a1b9a89a0-2.png</td>\n",
              "      <td>National Australia Bank</td>\n",
              "      <td>27944.0</td>\n",
              "      <td>362.0</td>\n",
              "      <td>au</td>\n",
              "      <td>2000-06-01</td>\n",
              "      <td>1.0</td>\n",
              "      <td>363.0</td>\n",
              "      <td>p_4_000_171_2aa_07c7660.jpg</td>\n",
              "      <td>0.0</td>\n",
              "      <td>Melbourne Area, Australia</td>\n",
              "      <td>Head Of (Distributed) Credit, Vic/Tas at Natio...</td>\n",
              "      <td>271 Collins St Melbourne</td>\n",
              "      <td>Various customer service roles including inter...</td>\n",
              "      <td>191521.0</td>\n",
              "      <td>1989-02-01</td>\n",
              "      <td>1912.0000</td>\n",
              "      <td>941.0968</td>\n",
              "    </tr>\n",
              "  </tbody>\n",
              "</table>\n",
              "<p>14767 rows × 21 columns</p>\n",
              "</div>"
            ],
            "text/plain": [
              "       Unnamed: 0  ageEstimate  ...  avgMemberPosDuration avgCompanyPosDuration\n",
              "5               5         30.0  ...              395.2857              977.6553\n",
              "6               6         30.0  ...              395.2857             1188.7339\n",
              "7               7         30.0  ...              395.2857             1188.7339\n",
              "8               8         30.0  ...              395.2857             1188.7339\n",
              "9               9         30.0  ...              395.2857             1188.7339\n",
              "...           ...          ...  ...                   ...                   ...\n",
              "39532       39532         46.0  ...             1912.0000              941.0968\n",
              "39533       39533         46.0  ...             1912.0000              941.0968\n",
              "39534       39534         46.0  ...             1912.0000              941.0968\n",
              "39535       39535         46.0  ...             1912.0000              941.0968\n",
              "39536       39536         46.0  ...             1912.0000              941.0968\n",
              "\n",
              "[14767 rows x 21 columns]"
            ]
          },
          "metadata": {
            "tags": []
          },
          "execution_count": 72
        }
      ]
    },
    {
      "cell_type": "code",
      "metadata": {
        "id": "-8OASxc-HleZ",
        "outputId": "f6177ea8-33a8-4f50-8b4a-ca671d18f0cc",
        "colab": {
          "base_uri": "https://localhost:8080/",
          "height": 493
        }
      },
      "source": [
        "df.info()"
      ],
      "execution_count": 73,
      "outputs": [
        {
          "output_type": "stream",
          "text": [
            "<class 'pandas.core.frame.DataFrame'>\n",
            "Int64Index: 14767 entries, 5 to 39536\n",
            "Data columns (total 21 columns):\n",
            " #   Column                 Non-Null Count  Dtype  \n",
            "---  ------                 --------------  -----  \n",
            " 0   Unnamed: 0             14767 non-null  int64  \n",
            " 1   ageEstimate            14767 non-null  float64\n",
            " 2   companyFollowerCount   14767 non-null  float64\n",
            " 3   companyHasLogo         14767 non-null  object \n",
            " 4   companyName            14767 non-null  object \n",
            " 5   companyStaffCount      14767 non-null  float64\n",
            " 6   connectionsCount       14767 non-null  float64\n",
            " 7   country                14767 non-null  object \n",
            " 8   endDate                14767 non-null  object \n",
            " 9   followable             14767 non-null  float64\n",
            " 10  followersCount         14767 non-null  float64\n",
            " 11  hasPicture             14767 non-null  object \n",
            " 12  isPremium              14767 non-null  float64\n",
            " 13  mbrLocation            14767 non-null  object \n",
            " 14  mbrTitle               14767 non-null  object \n",
            " 15  posLocation            14767 non-null  object \n",
            " 16  posTitle               14767 non-null  object \n",
            " 17  positionId             14767 non-null  float64\n",
            " 18  startDate              14767 non-null  object \n",
            " 19  avgMemberPosDuration   14767 non-null  float64\n",
            " 20  avgCompanyPosDuration  14767 non-null  float64\n",
            "dtypes: float64(10), int64(1), object(10)\n",
            "memory usage: 2.5+ MB\n"
          ],
          "name": "stdout"
        }
      ]
    },
    {
      "cell_type": "markdown",
      "metadata": {
        "id": "OwXfj9YjHleD"
      },
      "source": [
        "### 2.1 Changing Column Names\n",
        "\n",
        "For this exercise, you will change the names of the previously existing columns to something that is more readable. \n",
        "\n",
        "First, list down all the column names.\n"
      ]
    },
    {
      "cell_type": "markdown",
      "metadata": {
        "id": "--Q1q9kDgznD"
      },
      "source": [
        "### 2.2 Column List"
      ]
    },
    {
      "cell_type": "code",
      "metadata": {
        "id": "NvhxosPNF5LH",
        "outputId": "22efd7ee-e754-4b0e-a5e4-e374c06db366",
        "colab": {
          "base_uri": "https://localhost:8080/",
          "height": 374
        }
      },
      "source": [
        "list(df._______) # Insert Code Here"
      ],
      "execution_count": 75,
      "outputs": [
        {
          "output_type": "execute_result",
          "data": {
            "text/plain": [
              "['Unnamed: 0',\n",
              " 'ageEstimate',\n",
              " 'companyFollowerCount',\n",
              " 'companyHasLogo',\n",
              " 'companyName',\n",
              " 'companyStaffCount',\n",
              " 'connectionsCount',\n",
              " 'country',\n",
              " 'endDate',\n",
              " 'followable',\n",
              " 'followersCount',\n",
              " 'hasPicture',\n",
              " 'isPremium',\n",
              " 'mbrLocation',\n",
              " 'mbrTitle',\n",
              " 'posLocation',\n",
              " 'posTitle',\n",
              " 'positionId',\n",
              " 'startDate',\n",
              " 'avgMemberPosDuration',\n",
              " 'avgCompanyPosDuration']"
            ]
          },
          "metadata": {
            "tags": []
          },
          "execution_count": 75
        }
      ]
    },
    {
      "cell_type": "markdown",
      "metadata": {
        "id": "J4KjruAfIDe2"
      },
      "source": [
        "Next, write the names of the columns. We will rename the columns to be in snakecase form, in which each word in the variable name is lowercase and is separated by an underscore, and which looks like this: `my_sample_variable_name`.\n",
        "\n",
        "The column names are: [ (profileId), ageEstimate, companyName, country, endDate, genderEstimate, startDate ]"
      ]
    },
    {
      "cell_type": "code",
      "metadata": {
        "id": "aSzOUf_CHleE"
      },
      "source": [
        "df = df.rename(\n",
        "    columns={'COLUMN_NAME_HERE': 'profile_id',         # FIXME: Rename to snakecase and delete irrelevant stuff: Insert Column Name you want to change\n",
        "             'COLUMN_NAME_HERE': 'age',                          # Insert Column Name you want to change\n",
        "             'COLUMN_NAME_HERE': 'company_name',    # Insert Column Name you want to change\n",
        "             'COLUMN_NAME_HERE': 'country',   # Insert Column Name you want to change\n",
        "             'COLUMN_NAME_HERE': 'end_date',          # Insert Column Name you want to change\n",
        "             'COLUMN_NAME_HERE': 'gender',    # Insert Column Name you want to change\n",
        "             'COLUMN_NAME_HERE': 'start_date',     # Insert Column Name you want to change\n",
        "            })\n",
        "\n",
        "\n",
        "df"
      ],
      "execution_count": null,
      "outputs": []
    },
    {
      "cell_type": "markdown",
      "metadata": {
        "id": "08LYIpGyHleI"
      },
      "source": [
        "### 2.3 Moving Column Positions - ```df.reindex()```"
      ]
    },
    {
      "cell_type": "markdown",
      "metadata": {
        "id": "m6SuvgcJIsfL"
      },
      "source": [
        "You can see below a list below which has the ```column_names``` in the order we want and is without the unneeded columns that we removed earlier.\n",
        "\n"
      ]
    },
    {
      "cell_type": "code",
      "metadata": {
        "id": "B0p8g8M6HleJ"
      },
      "source": [
        "column_names = ['profile_id',\"age_estimate\",\"company_follower_count\", \"company_name\",\"company_staff_count\", \"connections_count\",\"country\", \"end_date\", \"followers_count\",\"gender\",\"has_picture\",\"has_premium\",\"member_location\",\"member_title\",\"position_location\",\"position_title\",\"start_date\",\"avg_member_pos_duration\",\"avg_company_pos_duration\",]\n",
        "\n",
        "df = df.reindex(columns=________) # FIXME: REORDER Insert Code here\n",
        "\n",
        "df"
      ],
      "execution_count": null,
      "outputs": []
    },
    {
      "cell_type": "markdown",
      "metadata": {
        "id": "MfhTG28pHleN"
      },
      "source": [
        "**FIXME Not a relevant question? Is Voyage ID a good index and do we need it as a column?**\n",
        "\n",
        "No, But we need an index.\n",
        "\n",
        "**Can 'year_of_arrival' be an Index?**\n",
        "\n",
        "No, because there are repeating dates in the charts, there for we need a simple log counter.\n",
        "\n"
      ]
    },
    {
      "cell_type": "markdown",
      "metadata": {
        "id": "ju-Bw99zHled"
      },
      "source": [
        "### 2.5 Changing Column Type and Sorting - ```df.sort_values()```"
      ]
    },
    {
      "cell_type": "code",
      "metadata": {
        "id": "KCQb6H5uHled"
      },
      "source": [
        "df = df.sort_values(by='_______', ascending=True) # INSERT CODE HERE\n",
        "df"
      ],
      "execution_count": null,
      "outputs": []
    },
    {
      "cell_type": "markdown",
      "metadata": {
        "id": "AZbNdBQKgznj"
      },
      "source": [
        "### 2.6 Reseting the Index FIXME: Do we need to reset the index?"
      ]
    },
    {
      "cell_type": "markdown",
      "metadata": {
        "id": "AMV7309HHleh"
      },
      "source": [
        "Reseting Index using ```df.reset_index``` with respect 'year_of_arrival' in Ascending Order. "
      ]
    },
    {
      "cell_type": "code",
      "metadata": {
        "id": "rEIogWnUHlei"
      },
      "source": [
        "df.______(inplace=True, drop=True) # INSERT CODE HERE\n",
        "df"
      ],
      "execution_count": null,
      "outputs": []
    },
    {
      "cell_type": "markdown",
      "metadata": {
        "id": "i_4uzK6tHlel"
      },
      "source": [
        "### Finding Unique and similar strings \n",
        "\n",
        "First, we will list down all the unique names in these columns. Next, we will sort these in alphabetical order in order to make it easier to observe.\n",
        "\n",
        "```df['column_name].unique()``` and ```df.sort()```\n",
        "\n",
        "For simplicity I have just declared the first line as a variable ```a``` in order to print it\n",
        "\n"
      ]
    },
    {
      "cell_type": "code",
      "metadata": {
        "id": "zcZzcYc6Hlel"
      },
      "source": [
        "a = df['company_name'].unique()\n",
        "a.sort()\n",
        "a"
      ],
      "execution_count": null,
      "outputs": []
    },
    {
      "cell_type": "code",
      "metadata": {
        "id": "Xo4FXypKHleq"
      },
      "source": [
        "a = df['position_location'].unique()\n",
        "a.sort()\n",
        "a"
      ],
      "execution_count": null,
      "outputs": []
    },
    {
      "cell_type": "code",
      "metadata": {
        "id": "m4mKFIA8Hlex"
      },
      "source": [
        "a = df['position_title'].unique()\n",
        "a.sort()\n",
        "a"
      ],
      "execution_count": null,
      "outputs": []
    },
    {
      "cell_type": "markdown",
      "metadata": {
        "id": "Tilt8tICP_Yw"
      },
      "source": [
        "As we can see above our object columns, ```company_name```, ```position_location``` and ```position_title``` have phrases that are similar, but may differ by a city- or company specific- detail. We need to clean these out.\n"
      ]
    },
    {
      "cell_type": "markdown",
      "metadata": {
        "id": "zKVGN7_cHle2"
      },
      "source": [
        "### 2.7 Working with Strings - ```df['column_name'].str.replace()```"
      ]
    },
    {
      "cell_type": "markdown",
      "metadata": {
        "id": "SESPapu0UDyS"
      },
      "source": [
        "To replace unwanted parts of a string, we use the function ```df['columun_name'].str.replace('string to find','string to replace')```. This command looks for the string we have specified and replaces with what we want.\n",
        "\n",
        "For example:\n",
        "FIXME: To remove the city, and also remove day/month from dates : If have an entry in the 'position_location' column, 'Sydney, Australia'. By running the command:\n",
        "```df['position_location'].str.replace(', country', '')```\n",
        "The string will be changed from ''Sydney, Australia' to 'Australia'."
      ]
    },
    {
      "cell_type": "code",
      "metadata": {
        "id": "NPxciPRzHle3"
      },
      "source": [
        "# We want to restructure the values for ```start_date``` and ```end_date``` to only provide the Year\n",
        "# We need to remove the Month and Day from ```start_date```\n",
        "df['start_date'] = df['start_date'].str.replace('STRING HERE', '')      # Insert string to replace\n",
        "\n",
        "# We need to remove the Month and Day from ```end_date```\n",
        "df['end_date'] = df['end_date'].str.replace('STRING HERE', '')    # Insert string to replace \n",
        "\n",
        "df"
      ],
      "execution_count": null,
      "outputs": []
    },
    {
      "cell_type": "code",
      "metadata": {
        "id": "IOPDZL8vHle7"
      },
      "source": [
        "df.dtypes"
      ],
      "execution_count": null,
      "outputs": []
    },
    {
      "cell_type": "markdown",
      "metadata": {
        "id": "x0c0BG7SHle_"
      },
      "source": [
        "#### Creating a Copy of our modified Dataset"
      ]
    },
    {
      "cell_type": "code",
      "metadata": {
        "id": "4jrvqhIAHle_"
      },
      "source": [
        "modified_dataset = df.copy()"
      ],
      "execution_count": null,
      "outputs": []
    },
    {
      "cell_type": "markdown",
      "metadata": {
        "id": "Wkw5pefkHlfC"
      },
      "source": [
        "## 3 - Micro Wrangling and Visualization"
      ]
    },
    {
      "cell_type": "markdown",
      "metadata": {
        "id": "pwDzGZeYHlfD"
      },
      "source": [
        "We will Start of this part by dividing our dataset into multiple smaller dataframes. The approach we will be taking is separating dataframes based on the ```start_date``` data.\n",
        "\n",
        "For example, in the blocks below you will see code for 4 intervals that indicate the start_date year that a profile user begins a job position:\n",
        "- ```1960 to 1975```\n",
        "- ```1975 to 1990```\n",
        "- ```1990 to 2005```\n",
        "- ```2005 to 2020```\n",
        "\n"
      ]
    },
    {
      "cell_type": "markdown",
      "metadata": {
        "id": "3ZkrSv8hHlfD"
      },
      "source": [
        "## Between 1960 to 1975"
      ]
    },
    {
      "cell_type": "code",
      "metadata": {
        "id": "Lp6kae0pHlfE"
      },
      "source": [
        "dataset_between60_75 = modified_dataset.where((modified_dataset['start_date'] >= 1960) & (modified_dataset['start_date'] <= 1975))\n",
        "dataset_between60_75"
      ],
      "execution_count": null,
      "outputs": []
    },
    {
      "cell_type": "code",
      "metadata": {
        "id": "a-tQvhW3HlfI"
      },
      "source": [
        "dataset_between60_75 = dataset_between60_75.dropna()\n",
        "dataset_between60_75"
      ],
      "execution_count": null,
      "outputs": []
    },
    {
      "cell_type": "markdown",
      "metadata": {
        "id": "T6C4yZSgHlfN"
      },
      "source": [
        "### Total Number of Positions Started between 1960 - 1975 - Complete Records\n",
        "FIXME: Get the number of profiles that fall in this category: The below code is incorrect\n"
      ]
    },
    {
      "cell_type": "code",
      "metadata": {
        "id": "lpCOGYH2HlfN"
      },
      "source": [
        "dataset_between60_75.sum()"
      ],
      "execution_count": null,
      "outputs": []
    },
    {
      "cell_type": "markdown",
      "metadata": {
        "id": "yoLMT1SKHlfR"
      },
      "source": [
        "### FIXME Visualizing New Jobs during 1960 - 1975"
      ]
    },
    {
      "cell_type": "code",
      "metadata": {
        "id": "ejmvzk-2HlfR"
      },
      "source": [
        "import matplotlib.pyplot as plt\n",
        "\n",
        "fig = plt.figure(figsize = (20,10))\n",
        "\n",
        "ax1 = fig.add_subplot(2,2,1)\n",
        "ax2 = fig.add_subplot(2,2,2)\n",
        "ax3 = fig.add_subplot(2,2,3)\n",
        "ax4 = fig.add_subplot(2,2,4)\n",
        "ax1.scatter(dataset_between60_75['start_date'],\n",
        "            dataset_between60_75['slaves_onboard'],\n",
        "            alpha = 0.4)\n",
        "\n",
        "ax2.scatter(dataset_between60_75['slaves_onboard'],\n",
        "            dataset_between60_75['start_date'],\n",
        "            alpha = 0.4)\n",
        "\n",
        "ax3.bar(\n",
        "    dataset_between60_75['start_date'],\n",
        "    dataset_between60_75['slaves_onboard'],\n",
        "    alpha = 0.4)\n",
        "\n",
        "ax4.set_ylim(1500,1600)\n",
        "ax4.bar(\n",
        "    dataset_between60_75['slaves_onboard'],    \n",
        "    dataset_between60_75['start_date'],\n",
        "    alpha = 0.4)"
      ],
      "execution_count": null,
      "outputs": []
    },
    {
      "cell_type": "markdown",
      "metadata": {
        "id": "jMCmsdSWHlfW"
      },
      "source": [
        "###  3.1 Choosing Graphs\n",
        "- Which of these graphs seem useful and which ones are unnecessary?\n",
        "**Write a 2 sentence explanation about why these two plots seem or might be useful.** **Did the visualization style influence your decision?**\n",
        "Select the two graphs you think are more useful and add the following:\n",
        "- Add ```title``` for both subplots.\n",
        "- Add ```xlabel``` and ```ylabel```.\n",
        "- Change the color for one of the plots\n",
        "\n",
        "**Answer**"
      ]
    },
    {
      "cell_type": "code",
      "metadata": {
        "id": "89RDlC5ggzoT"
      },
      "source": [
        "# INSERT CODE HERE"
      ],
      "execution_count": null,
      "outputs": []
    },
    {
      "cell_type": "markdown",
      "metadata": {
        "id": "5eu2pWKrHlfX"
      },
      "source": [
        "### Pandas Plots"
      ]
    },
    {
      "cell_type": "code",
      "metadata": {
        "id": "90m3tTRHHlfY"
      },
      "source": [
        "dataset_between60_75.plot(x='company_name',\n",
        "                         y = 'slaves_onboard',kind = 'bar', ax = ax1,\n",
        "                         rot = 90)"
      ],
      "execution_count": null,
      "outputs": []
    },
    {
      "cell_type": "markdown",
      "metadata": {
        "id": "7oOVxiLsHlfc"
      },
      "source": [
        "### Companies with less than 1000 new positions started"
      ]
    },
    {
      "cell_type": "code",
      "metadata": {
        "id": "-_Oy0Cr_Hlfd"
      },
      "source": [
        "temp_plot = dataset_between60_75.where(dataset_between60_75['slaves_onboard'] < 100.0).dropna()\n",
        "\n",
        "temp_plot"
      ],
      "execution_count": null,
      "outputs": []
    },
    {
      "cell_type": "code",
      "metadata": {
        "id": "I1UkMU9wHlfg"
      },
      "source": [
        "temp_plot.plot(x='company_name',\n",
        "                         y = 'slaves_onboard',kind = 'bar',\n",
        "                         rot = 90)\n",
        "\n"
      ],
      "execution_count": null,
      "outputs": []
    },
    {
      "cell_type": "markdown",
      "metadata": {
        "id": "OjOjDcogHlfk"
      },
      "source": [
        "### Companies with more than 1000 new positions started"
      ]
    },
    {
      "cell_type": "code",
      "metadata": {
        "id": "lrAOZa1hHlfm"
      },
      "source": [
        "temp_plot = dataset_between60_75.where(dataset_between60_75['slaves_onboard'] > 100.0).dropna()\n",
        "\n",
        "temp_plot.plot(x='company_name',\n",
        "                         y = 'slaves_onboard',kind = 'bar',\n",
        "                         rot = 90,grid = True,figsize = (20,10))\n",
        "\n",
        "temp_plot"
      ],
      "execution_count": null,
      "outputs": []
    },
    {
      "cell_type": "markdown",
      "metadata": {
        "id": "iC1mKd2BHlfu"
      },
      "source": [
        "### Companies with more than 5000 new positions started"
      ]
    },
    {
      "cell_type": "code",
      "metadata": {
        "id": "HNwE7zKBHlfv"
      },
      "source": [
        "temp_plot = dataset_between60_75.where(dataset_between60_75['slaves_onboard'] > 200.0).dropna()\n",
        "print(f'There are {temp_plot.shape[0]} trips that carries more than 200 slaves.')\n",
        "\n"
      ],
      "execution_count": null,
      "outputs": []
    },
    {
      "cell_type": "code",
      "metadata": {
        "id": "dfBf3GfyHlfz",
        "scrolled": true
      },
      "source": [
        "temp_plot.plot(x='company_name',\n",
        "                         y = 'slaves_onboard',kind = 'bar',\n",
        "                         rot = 90,grid = True,figsize = (20,10))\n",
        "\n",
        "\n"
      ],
      "execution_count": null,
      "outputs": []
    },
    {
      "cell_type": "markdown",
      "metadata": {
        "id": "ZIZ8rFjhHlf3"
      },
      "source": [
        "### Check the most used 'company_name' for new_positions > 5000"
      ]
    },
    {
      "cell_type": "code",
      "metadata": {
        "id": "7IOuRHKwHlf4",
        "scrolled": true
      },
      "source": [
        "temp_plot['start_date'].hist(bins = 20,\n",
        "                                 alpha = 0.5,\n",
        "                                 xrot = 45,\n",
        "                                 figsize = (10,10)\n",
        "                                )"
      ],
      "execution_count": null,
      "outputs": []
    },
    {
      "cell_type": "markdown",
      "metadata": {
        "id": "ShDktMYRHlf8"
      },
      "source": [
        "### Check the most used 'position_location' for new_positions > 5000"
      ]
    },
    {
      "cell_type": "code",
      "metadata": {
        "id": "vYoFVQrIHlf9"
      },
      "source": [
        "temp_plot['voyage_pit_stop'].hist(bins=20, \n",
        "                           alpha=0.7,\n",
        "                           xrot = 0,\n",
        "                          figsize = (10,10))"
      ],
      "execution_count": null,
      "outputs": []
    },
    {
      "cell_type": "markdown",
      "metadata": {
        "id": "ntI-QvHuHlgB"
      },
      "source": [
        "### Check the most used 'gender'  for new_positions > 5000"
      ]
    },
    {
      "cell_type": "code",
      "metadata": {
        "id": "ermZi3B7HlgC",
        "scrolled": false
      },
      "source": [
        "temp_plot['end_port'].hist(bins=20, \n",
        "                           alpha=0.7,\n",
        "                           xrot = 0,\n",
        "                          figsize = (10,10))"
      ],
      "execution_count": null,
      "outputs": []
    },
    {
      "cell_type": "markdown",
      "metadata": {
        "id": "cvaJr4-BHlgG"
      },
      "source": [
        "### Observations \n",
        "\n",
        "FIXME Majority of The Ships carrying over 200 people started their journey Portugal made a Pit-Stop in Africa and Went to Cartagena, Colombia "
      ]
    },
    {
      "cell_type": "markdown",
      "metadata": {
        "id": "1w9XvpNdHlgG"
      },
      "source": [
        "## Between 1975- 1990"
      ]
    },
    {
      "cell_type": "code",
      "metadata": {
        "id": "CWt8CtQDHlgH"
      },
      "source": [
        "dataset_between75_90 = modified_dataset.where((modified_dataset['start_date'] >= 1601) & (modified_dataset['start_date'] <= 1700) )\n",
        "\n",
        "dataset_between75_90"
      ],
      "execution_count": null,
      "outputs": []
    },
    {
      "cell_type": "markdown",
      "metadata": {
        "id": "Eg7EEdhKgzpG"
      },
      "source": [
        "### 3.2 Drop null values"
      ]
    },
    {
      "cell_type": "code",
      "metadata": {
        "id": "cv3zqBdzHlgK"
      },
      "source": [
        "dataset_between75_90 = dataset_between75_90._____() # Insert Code here (drop nul values)\n",
        "dataset_between75_90"
      ],
      "execution_count": null,
      "outputs": []
    },
    {
      "cell_type": "markdown",
      "metadata": {
        "id": "ltr9T0R2HlgQ"
      },
      "source": [
        "### 3.3 Total Number of Positions Started between 1975 - 1990 - Complete Records\n"
      ]
    },
    {
      "cell_type": "code",
      "metadata": {
        "id": "xzPsmzJVHlgQ"
      },
      "source": [
        "dataset_between75_90.slaves_onboard.___() # Insert Code Here - Sum of slaves "
      ],
      "execution_count": null,
      "outputs": []
    },
    {
      "cell_type": "markdown",
      "metadata": {
        "id": "6KPEwqj3HlgT"
      },
      "source": [
        "### Visualizing New Jobs during 1975 - 1990"
      ]
    },
    {
      "cell_type": "code",
      "metadata": {
        "id": "kM5-QvjmHlgT"
      },
      "source": [
        "import matplotlib.pyplot as plt\n",
        "\n",
        "fig = plt.figure(figsize = (20,10))\n",
        "\n",
        "ax1 = fig.add_subplot(2,1,1)\n",
        "ax2 = fig.add_subplot(2,1,2)\n",
        "\n",
        "ax1.scatter(dataset_between75_90['year_of_arrival'],\n",
        "            dataset_between75_90['slaves_onboard'],\n",
        "            alpha = 0.4)\n",
        "\n",
        "ax2.bar(\n",
        "    dataset_between75_90['year_of_arrival'],\n",
        "    dataset_between75_90['slaves_onboard'],\n",
        "    alpha = 0.4\n",
        "    )\n",
        "\n"
      ],
      "execution_count": null,
      "outputs": []
    },
    {
      "cell_type": "markdown",
      "metadata": {
        "id": "QjxCnj6nHlgX"
      },
      "source": [
        "### 3.4 Pandas Plots"
      ]
    },
    {
      "cell_type": "code",
      "metadata": {
        "id": "4dx1qSH-HlgY"
      },
      "source": [
        "# INSERT CODE HERE"
      ],
      "execution_count": null,
      "outputs": []
    },
    {
      "cell_type": "markdown",
      "metadata": {
        "id": "MGDHXfAnHlgf"
      },
      "source": [
        "### 3.5 Check the most used 'company_name' for new_positions > 5000"
      ]
    },
    {
      "cell_type": "code",
      "metadata": {
        "id": "cuTVq2HkHlgh"
      },
      "source": [
        "# INSERT CODE HERE"
      ],
      "execution_count": null,
      "outputs": []
    },
    {
      "cell_type": "markdown",
      "metadata": {
        "id": "5alh-9SgHlgj"
      },
      "source": [
        "### 3.6 Check the most used 'position_location' for new_positions > 5000"
      ]
    },
    {
      "cell_type": "code",
      "metadata": {
        "id": "m49Xm2SkHlgk"
      },
      "source": [
        "# INSERT CODE HERE"
      ],
      "execution_count": null,
      "outputs": []
    },
    {
      "cell_type": "markdown",
      "metadata": {
        "id": "6RZ4R9mFHlgo"
      },
      "source": [
        "### 3.7 Check the most used 'End_Port' "
      ]
    },
    {
      "cell_type": "code",
      "metadata": {
        "id": "KqQSbPfOHlgo",
        "scrolled": false
      },
      "source": [
        "# INSERT CODE HERE"
      ],
      "execution_count": null,
      "outputs": []
    },
    {
      "cell_type": "markdown",
      "metadata": {
        "id": "SXYLnplNHlgs"
      },
      "source": [
        "## Between 1990 - 2005"
      ]
    },
    {
      "cell_type": "code",
      "metadata": {
        "id": "mpED3SzKHlgt"
      },
      "source": [
        "dataset_between90_05 = modified_dataset.where((modified_dataset['start_date'] >= 1990) & (modified_dataset['start_date'] <= 2005) )\n",
        "\n",
        "dataset_between90_05"
      ],
      "execution_count": null,
      "outputs": []
    },
    {
      "cell_type": "code",
      "metadata": {
        "id": "UztHQkTmHlgx"
      },
      "source": [
        "dataset_between90_05 = dataset_between90_05.dropna()\n",
        "\n",
        "dataset_between90_05"
      ],
      "execution_count": null,
      "outputs": []
    },
    {
      "cell_type": "markdown",
      "metadata": {
        "id": "8Pu1E16BHlg0"
      },
      "source": [
        "### 3.8 Total Number of New Positions between 1990 - 2005 - Complete Records\n"
      ]
    },
    {
      "cell_type": "code",
      "metadata": {
        "id": "ICN8XRxYHlg0"
      },
      "source": [
        ""
      ],
      "execution_count": null,
      "outputs": []
    },
    {
      "cell_type": "markdown",
      "metadata": {
        "id": "aoav5Z58Hlg2"
      },
      "source": [
        "### 3.9 Visualizing New Positions During 1990 - 2005"
      ]
    },
    {
      "cell_type": "code",
      "metadata": {
        "id": "c6LVgQ1wHlg3"
      },
      "source": [
        ""
      ],
      "execution_count": null,
      "outputs": []
    },
    {
      "cell_type": "markdown",
      "metadata": {
        "id": "p65ASw2_Hlg6"
      },
      "source": [
        "### 3.10 Pandas Plots"
      ]
    },
    {
      "cell_type": "code",
      "metadata": {
        "id": "bU5P2A0CHlg7"
      },
      "source": [
        ""
      ],
      "execution_count": null,
      "outputs": []
    },
    {
      "cell_type": "markdown",
      "metadata": {
        "id": "ejs7tofyHlg9"
      },
      "source": [
        "### 3.11 Check the most used 'company_name' for new_positions > 5000"
      ]
    },
    {
      "cell_type": "code",
      "metadata": {
        "id": "5g_CwoUBHlg9"
      },
      "source": [
        ""
      ],
      "execution_count": null,
      "outputs": []
    },
    {
      "cell_type": "markdown",
      "metadata": {
        "id": "wQXiGjGLHlhB"
      },
      "source": [
        "### 3.12 Check the most used 'position_location' for new_positions > 5000"
      ]
    },
    {
      "cell_type": "code",
      "metadata": {
        "id": "yiLTrPGTHlhB"
      },
      "source": [
        ""
      ],
      "execution_count": null,
      "outputs": []
    },
    {
      "cell_type": "markdown",
      "metadata": {
        "id": "VHcaOGz9HlhD"
      },
      "source": [
        "### 3.13 Check the most used 'End_Port' "
      ]
    },
    {
      "cell_type": "code",
      "metadata": {
        "id": "2XHKgB-qHlhE",
        "scrolled": false
      },
      "source": [
        ""
      ],
      "execution_count": null,
      "outputs": []
    },
    {
      "cell_type": "markdown",
      "metadata": {
        "id": "84pXofoLHlhG"
      },
      "source": [
        "# Extra Credit\n",
        "## Between 1801- 1900"
      ]
    },
    {
      "cell_type": "code",
      "metadata": {
        "id": "n9y5tp0qHlhG"
      },
      "source": [
        "dataset_between18_19 = modified_dataset.where((modified_dataset['start_date'] >= 1801) & (modified_dataset['start_date'] <= 1900) )\n",
        "\n",
        "dataset_between18_19"
      ],
      "execution_count": null,
      "outputs": []
    },
    {
      "cell_type": "code",
      "metadata": {
        "id": "KVKVgtIEHlhI"
      },
      "source": [
        "dataset_between18_19 = dataset_between18_19.dropna()\n",
        "\n",
        "dataset_between18_19"
      ],
      "execution_count": null,
      "outputs": []
    },
    {
      "cell_type": "markdown",
      "metadata": {
        "id": "F66q8RjvHlhL"
      },
      "source": [
        "### Total Number of New Positions between 1990 - 2005 - Complete Records\n"
      ]
    },
    {
      "cell_type": "code",
      "metadata": {
        "id": "SWaElllYHlhM"
      },
      "source": [
        ""
      ],
      "execution_count": null,
      "outputs": []
    },
    {
      "cell_type": "markdown",
      "metadata": {
        "id": "4Cy7QPXaHlhO"
      },
      "source": [
        "### Visualizing New Jobs During 1990 - 2005"
      ]
    },
    {
      "cell_type": "code",
      "metadata": {
        "id": "U-pb7BQbHlhO"
      },
      "source": [
        ""
      ],
      "execution_count": null,
      "outputs": []
    },
    {
      "cell_type": "markdown",
      "metadata": {
        "id": "Qy7PewKsHlhQ"
      },
      "source": [
        "### Pandas Plots"
      ]
    },
    {
      "cell_type": "code",
      "metadata": {
        "id": "VeafP9zTHlhR"
      },
      "source": [
        ""
      ],
      "execution_count": null,
      "outputs": []
    },
    {
      "cell_type": "markdown",
      "metadata": {
        "id": "lhYJLqUUHlhV"
      },
      "source": [
        "### Check the most used 'company_name' for new_positions > 5000"
      ]
    },
    {
      "cell_type": "code",
      "metadata": {
        "id": "ES-eLhpaHlhV"
      },
      "source": [
        ""
      ],
      "execution_count": null,
      "outputs": []
    },
    {
      "cell_type": "markdown",
      "metadata": {
        "id": "GW44LbYwHlhY"
      },
      "source": [
        "### Check the most used 'position_location' for new_jobs > 5000"
      ]
    },
    {
      "cell_type": "code",
      "metadata": {
        "id": "GMJGOq2iHlhY"
      },
      "source": [
        ""
      ],
      "execution_count": null,
      "outputs": []
    },
    {
      "cell_type": "markdown",
      "metadata": {
        "id": "RVVMQGubHlhb"
      },
      "source": [
        "### Check the most used 'End_Port' "
      ]
    },
    {
      "cell_type": "code",
      "metadata": {
        "id": "UMMIesEyHlhc",
        "scrolled": false
      },
      "source": [
        ""
      ],
      "execution_count": null,
      "outputs": []
    },
    {
      "cell_type": "markdown",
      "metadata": {
        "id": "_hntDtdsgzqd"
      },
      "source": [
        "# Conclusion"
      ]
    },
    {
      "cell_type": "markdown",
      "metadata": {
        "id": "NweDUhRVHlhe"
      },
      "source": [
        "## Resources"
      ]
    },
    {
      "cell_type": "markdown",
      "metadata": {
        "id": "VByUUKTiIYM-"
      },
      "source": [
        "# Appendix"
      ]
    },
    {
      "cell_type": "markdown",
      "metadata": {
        "id": "ObtE8-BHODkC"
      },
      "source": [
        "## Connecting to Your Google Drive\n"
      ]
    },
    {
      "cell_type": "code",
      "metadata": {
        "id": "_3xzPhI_ByD5"
      },
      "source": [
        "# Start by connecting google drive into google colab\n",
        "\n",
        "from google.colab import drive\n",
        "\n",
        "drive.mount('/content/gdrive')"
      ],
      "execution_count": null,
      "outputs": []
    },
    {
      "cell_type": "code",
      "metadata": {
        "id": "_epZFcuXNVRv"
      },
      "source": [
        "!ls \"/content/gdrive/My Drive/DigitalHistory\""
      ],
      "execution_count": null,
      "outputs": []
    },
    {
      "cell_type": "code",
      "metadata": {
        "id": "y6r-8UBGNueF"
      },
      "source": [
        "cd \"/content/gdrive/My Drive/DigitalHistory/tmp/trans-atlantic-slave-trade\""
      ],
      "execution_count": null,
      "outputs": []
    },
    {
      "cell_type": "code",
      "metadata": {
        "id": "Pp8mubdjVqY2"
      },
      "source": [
        "ls"
      ],
      "execution_count": null,
      "outputs": []
    },
    {
      "cell_type": "code",
      "metadata": {
        "id": "ZLhlkjd3Hlhr"
      },
      "source": [
        "### Extracting ZipFiles"
      ],
      "execution_count": null,
      "outputs": []
    },
    {
      "cell_type": "code",
      "metadata": {
        "id": "rzDr3KIkOJdy"
      },
      "source": [
        "\n",
        "import zipfile\n"
      ],
      "execution_count": null,
      "outputs": []
    },
    {
      "cell_type": "code",
      "metadata": {
        "id": "zkIDSJWUQFCV"
      },
      "source": [
        "file_location = 'data/trans-atlantic-slave-trade.csv.zip'\n",
        "\n",
        "zip_ref = zipfile.ZipFile(file_location,'r')\n",
        "zip_ref.extractall('data/tmp/trans-atlantic-slave-trade')\n",
        "zip_ref.close()"
      ],
      "execution_count": null,
      "outputs": []
    },
    {
      "cell_type": "markdown",
      "metadata": {
        "id": "TI9Zcwf5Hlh2"
      },
      "source": [
        "### Checking and Changing Column Types \n",
        "```df.dtypes``` and ```df.astype()```"
      ]
    },
    {
      "cell_type": "code",
      "metadata": {
        "id": "pGl1MUnOHlh3"
      },
      "source": [
        "df.dtypes"
      ],
      "execution_count": null,
      "outputs": []
    },
    {
      "cell_type": "code",
      "metadata": {
        "id": "JIG8wtR2Hlh6"
      },
      "source": [
        "df.year_of_arrival.astype(int)"
      ],
      "execution_count": null,
      "outputs": []
    },
    {
      "cell_type": "code",
      "metadata": {
        "id": "Z4Wl6kePHlh9"
      },
      "source": [
        "df.dtypes"
      ],
      "execution_count": null,
      "outputs": []
    },
    {
      "cell_type": "code",
      "metadata": {
        "id": "-V4Kbei5HliA"
      },
      "source": [
        "df.year_of_arrival = df.year_of_arrival.astype(int)"
      ],
      "execution_count": null,
      "outputs": []
    },
    {
      "cell_type": "code",
      "metadata": {
        "id": "fPgIGprYHliD"
      },
      "source": [
        "df.dtypes"
      ],
      "execution_count": null,
      "outputs": []
    },
    {
      "cell_type": "markdown",
      "metadata": {
        "id": "vL0gW74bHliI"
      },
      "source": [
        "**Extra**:\n",
        "```df.slaves_onboard = df.slaves_onboard.astype(int)```"
      ]
    },
    {
      "cell_type": "code",
      "metadata": {
        "id": "obBSXVY2HliI"
      },
      "source": [
        "df.slaves_onboard = df.slaves_onboard.astype(int)"
      ],
      "execution_count": null,
      "outputs": []
    },
    {
      "cell_type": "code",
      "metadata": {
        "id": "bmm_3kqnHliK"
      },
      "source": [
        "df.dtypes"
      ],
      "execution_count": null,
      "outputs": []
    },
    {
      "cell_type": "code",
      "metadata": {
        "id": "9dC_vb_KHliM"
      },
      "source": [
        "df"
      ],
      "execution_count": null,
      "outputs": []
    },
    {
      "cell_type": "markdown",
      "metadata": {
        "id": "s3AFqNpu2GJ4"
      },
      "source": [
        "### GeoTagging Locations"
      ]
    },
    {
      "cell_type": "code",
      "metadata": {
        "id": "lpBC6OsdEwl-"
      },
      "source": [
        "!pip install geopandas\n"
      ],
      "execution_count": null,
      "outputs": []
    },
    {
      "cell_type": "code",
      "metadata": {
        "id": "3N9KNSl-15ll"
      },
      "source": [
        "!pip install googlemaps"
      ],
      "execution_count": null,
      "outputs": []
    },
    {
      "cell_type": "code",
      "metadata": {
        "id": "0gYRsx8v2HfO"
      },
      "source": [
        "from googlemaps import Client as GoogleMaps\n",
        "import pandas as pd "
      ],
      "execution_count": null,
      "outputs": []
    },
    {
      "cell_type": "code",
      "metadata": {
        "id": "GYqCDWTt2KKz"
      },
      "source": [
        "gmaps = GoogleMaps('')# ENTER KEY"
      ],
      "execution_count": null,
      "outputs": []
    },
    {
      "cell_type": "code",
      "metadata": {
        "id": "bLLkI_sD9hzv"
      },
      "source": [
        "df"
      ],
      "execution_count": null,
      "outputs": []
    },
    {
      "cell_type": "code",
      "metadata": {
        "id": "AKnGxe_w2Lzw"
      },
      "source": [
        "addresses = df.filter(['Voyage itinerary imputed port where began (ptdepimp) place'], axis=1)\n",
        "addresses.head()"
      ],
      "execution_count": null,
      "outputs": []
    },
    {
      "cell_type": "code",
      "metadata": {
        "id": "TVEZc-Qs2PbV"
      },
      "source": [
        "addresses['long'] = \"\"\n",
        "addresses['lat'] = \"\""
      ],
      "execution_count": null,
      "outputs": []
    },
    {
      "cell_type": "code",
      "metadata": {
        "id": "sBJppNIY9ZBP"
      },
      "source": [
        "addresses"
      ],
      "execution_count": null,
      "outputs": []
    }
  ]
}