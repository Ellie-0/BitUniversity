{
  "nbformat": 4,
  "nbformat_minor": 0,
  "metadata": {
    "colab": {
      "name": "Week4-PROJECT-Visualize-Sociology.ipynb",
      "provenance": [],
      "collapsed_sections": [
        "ObtE8-BHODkC",
        "N8w70yKWOH_c",
        "7q6R0hBZONBe",
        "mCNQqlwecmjv",
        "66hyyirMlq6S",
        "aEsoTghMmsuq",
        "UFfKdw9eV6Wc"
      ],
      "include_colab_link": true
    },
    "kernelspec": {
      "display_name": "Python 3",
      "language": "python",
      "name": "python3"
    },
    "language_info": {
      "codemirror_mode": {
        "name": "ipython",
        "version": 3
      },
      "file_extension": ".py",
      "mimetype": "text/x-python",
      "name": "python",
      "nbconvert_exporter": "python",
      "pygments_lexer": "ipython3",
      "version": "3.7.4"
    }
  },
  "cells": [
    {
      "cell_type": "markdown",
      "metadata": {
        "id": "view-in-github",
        "colab_type": "text"
      },
      "source": [
        "<a href=\"https://colab.research.google.com/github/bitprj/DigitalHistory/blob/master/Week5-Lab-Visualizing-the-Translatlantic-Slave-Trade/Lab-Visualize-Sociology.ipynb\" target=\"_parent\"><img src=\"https://colab.research.google.com/assets/colab-badge.svg\" alt=\"Open In Colab\"/></a>"
      ]
    },
    {
      "cell_type": "markdown",
      "metadata": {
        "id": "HTy4Z3Uogzl1",
        "colab_type": "text"
      },
      "source": [
      ]
    },
    {
      "cell_type": "markdown",
      "metadata": {
        "colab_type": "text",
        "id": "U30n5IXzIVFX"
      },
      "source": [
        "# <div align=\"center\">Visualizing LinkedIn Profiles and Jobs</div>"
      ]
    },
    {
      "cell_type": "markdown",
      "metadata": {
        "colab_type": "text",
        "id": "UFfKdw9eV6Wc"
      },
      "source": [
        "## Table of Contents\n",
        "\n",
        "- Recap\n",
        "- About the Dataset\n",
        "    - LinkedIn Profiles and Jobs\n",
        "        - Facts about the dataset\n",
        "- Labs and Methodology\n",
        "- Goals\n",
        "- **Part 1 - Getting Our Basic Data Analysis Set-Up**\n",
        "    - Import Libraries and unpack a file\n",
        "    - Load file\n",
        "    - Observing the Dataset using Pandas\n",
        "    - Important Facts About the Dataset\n",
        "    - Visualizing Number of Company Employees\n",
        "- **Part 2 - Getting Started with Data Wrangling**\n",
        "    - Create a copy of the Original Dataset\n",
        "    - Changing Column Names\n",
        "    - Moving Column Positions - ```df.reindex()```\n",
        "    - Removing Unneeded Columns -```df.drop()```\n",
        "    - Using ```dropna()```\n",
        "    - Changing Column Type and Sorting - ```df.sort_values()```\n",
        "    - Finding Unique and similar strings \n",
        "    - Working with Strings - ```df['column_name'].str.replace()```\n",
        "- **Part 3 - Micro Wrangling and Visualization**\n",
        "    - Between 1960 - 1975\n",
        "    - Between 1975 - 1990\n",
        "    - Between 1990 - 2005\n",
        "    - Between 2005 - 2019\n",
        "- **Part 4 - Conclusion**\n",
        "- Resources\n",
        "- Appendix\n",
        "    \n",
        "\n",
        "\n",
        "\n",
        "\n"
      ]
    },
    {
      "cell_type": "markdown",
      "metadata": {
        "colab_type": "text",
        "id": "RE3H5y7yIRHZ"
      },
      "source": [
        "## Recap\n",
        "- By this time, you should have an understanding of how to implement the following:\n",
        "- Loading a Dataset '.csv' as a dataframe using ```pd.read_csv```\n",
        "- Observing the properties of the loaded dataset using functions such as:\n",
        "    - ```pd.head()```\n",
        "    - ```pd.describe()```\n",
        "    - ```pd.info()```\n",
        "- Modifying the dataset by removing ```NaN``` values.\n",
        "- A conceptual understanding of the term ```object``` in DataFrames.\n",
        "- Re-indexing columns\n",
        "- Visualizing Data using ```matplotlib``` and ```pandas```:\n",
        "    - Scatter plots\n",
        "    - Barplots\n",
        "    - Line plots\n",
        "    - Histograms"
      ]
    },
    {
      "cell_type": "markdown",
      "metadata": {
        "colab_type": "text",
        "id": "4uvgAANOIKwm"
      },
      "source": [
        "## About the Dataset\n",
        "\n",
        "\n",
        "### LinkedIn Profiles and Jobs\n",
        "<img src=\"https://github.com/bitprj/DigitalHistory/blob/Amy/Week5-Lab-Visualizing-the-Translatlantic-Slave-Trade/assets/workersTalking.jpg?raw=1\" width=\"600\"> \n",
        "\n",
        "Founded in 2002, LinkedIn is an employment-oriented online service that is mainly used for professional networking, and supports over 700 million users to date. It is a site where employers can share job postings and job-seekers can create profiles around their industry experience.\n",
        "\n",
        "LinkedIn can be utilized as a social network for profesional development, where users can add 'connections' with one another to share posts and view professional-related updates from their network.\n",
        "\n",
        "#### Facts about the dataset\n",
        "\n",
        "- The dataset approximately 39,500 LinkedIn profiles.\n",
        "- The ages of the users range from 20 to 86 years.\n",
        "\n",
        "- The dataset collects information from profiles across various countries, including the United States, the United Kingdom, Australia, etc.\n",
        "- The users reported a wide range of start dates for their current position, which range from beginning their job in 1961 to beginning their job in 2019. \n",
        "- This dataset contains profiles of employees from a number of major companies, including Facebook, Google, Microsoft, Hewlett Packard, IBM, Infosys, Nokia, and many more.\n",
        "\n",
        "- The dataset also features other information about the profiles, including their Number of Connections, and whether or not they have a profile picture or a subscription to LinkedIn Premium. \n"
      ]
    },
    {
      "cell_type": "markdown",
      "metadata": {
        "colab_type": "text",
        "id": "fPyizd_JIHPU"
      },
      "source": [
        "## Labs and Methodology\n",
        "Congratulations, you have made it to the first lab of this course. The purpose of these labs is to help you apply the Data Science pipeline in a project-based environment. You will be using the tools taught to you in the previous modules and adopt and Question and Answer based approach when you work with the dataset.\n",
        "We have divided our approach into 4 parts:\n",
        "- For this project, we start by asking questions which you will answer in code and simple explanations.\n",
        "\n",
        "*example* - change the name of 'column_x' to 'column y' </br>\n",
        "**answer**: ```df = df.rename(columns = {'column_x : 'column_y})```\n",
        "\n",
        "- The first part is the traditional set up every. These are some things we should do before modifying the dataset.\n",
        "- The second part involves cleaning the dataset and choosing columns that fit our methodology.\n",
        "- The third part involves further splitting our cleaned dataframe into smaller dataframes and visualizing them.\n",
        "- Finally, the fourth part involves summarizing our conclusion."
      ]
    },
    {
      "cell_type": "markdown",
      "metadata": {
        "colab_type": "text",
        "id": "Tl_6Scu8IE7Q"
      },
      "source": [
        "\n",
        "## Goals"
      ]
    },
    {
      "cell_type": "markdown",
      "metadata": {
        "colab_type": "text",
        "id": "ixk29-rMHvR9"
      },
      "source": [
        "## 1 - Getting Our Basic Data Analysis Set-Up"
      ]
    },
    {
      "cell_type": "markdown",
      "metadata": {
        "id": "0W--Kb7wgzl7",
        "colab_type": "text"
      },
      "source": [
        "Import the libraries you will be using for this project. These libraries are the ones we have used in the previous labs."
      ]
    },
    {
      "cell_type": "code",
      "metadata": {
        "colab_type": "code",
        "id": "vs7AJxshHlc9",
        "colab": {}
      },
      "source": [
        "import _____ as pd # INSERT CODE HERE\n",
        "import numpy as __  # INSERT CODE HERE\n",
        "import __________ as plt  # INSERT CODE HERE"
      ],
      "execution_count": null,
      "outputs": []
    },
    {
      "cell_type": "markdown",
      "metadata": {
        "colab_type": "text",
        "id": "7q6R0hBZONBe"
      },
      "source": [
        "### 1.1 Load file"
      ]
    },
    {
      "cell_type": "code",
      "metadata": {
        "colab_type": "code",
        "id": "DfmowYZZOVRn",
        "colab": {}
      },
      "source": [
        "url = 'https://raw.githubusercontent.com/bitprj/DigitalHistory/master/Week5-Visualizing-the-Translatlantic-Slave-Trade/data/dump.csv'\n",
        "\n",
        "linkedin_profiles = __.read_csv(___) # INSERT CODE HERE "
      ],
      "execution_count": null,
      "outputs": []
    },
    {
      "cell_type": "markdown",
      "metadata": {
        "colab_type": "text",
        "id": "9SwePQu6qsZl"
      },
      "source": [
        "### Observing the Dataset using Pandas"
      ]
    },
    {
      "cell_type": "markdown",
      "metadata": {
        "colab_type": "text",
        "id": "mCNQqlwecmjv"
      },
      "source": [
        "Now, the dataset is loaded as a dataframe 'linkedin_profiles'\n",
        "\n",
        "### 1.2 head()\n",
        "Let's check what columns this file has by calling 'head()' function.\n",
        "It returns first n rows, and it's useful to see the dataset at a quick glance.\n",
        "\n",
        "By default, the head() function returns the first 5 rows.\n",
        "\n",
        "You can specify the number of rows to display by calling df.head(number)\n"
      ]
    },
    {
      "cell_type": "code",
      "metadata": {
        "colab_type": "code",
        "id": "_Fwr655mcjr5",
        "colab": {}
      },
      "source": [
        "# INSERT CODE HERE"
      ],
      "execution_count": null,
      "outputs": []
    },
    {
      "cell_type": "markdown",
      "metadata": {
        "id": "s5I3a9h9gzmM",
        "colab_type": "text"
      },
      "source": [
        "### 1.3 tail()\n",
        "\n",
        "The ```tail()``` method prints the last 5 rows of our dataset."
      ]
    },
    {
      "cell_type": "code",
      "metadata": {
        "colab_type": "code",
        "id": "WVD4aPJbHldP",
        "colab": {}
      },
      "source": [
        "# INSERT CODE HERE"
      ],
      "execution_count": null,
      "outputs": []
    },
    {
      "cell_type": "markdown",
      "metadata": {
        "colab_type": "text",
        "id": "FFqqKsABeT7y"
      },
      "source": [
        "### 1.4 info()\n",
        "This will return all of the column names and its types. This function is useful to get the idea of what the dataframe is like.\n"
      ]
    },
    {
      "cell_type": "code",
      "metadata": {
        "colab_type": "code",
        "id": "wxqUmTFdfkCi",
        "colab": {}
      },
      "source": [
        "## INSERT CODE HERE"
      ],
      "execution_count": null,
      "outputs": []
    },
    {
      "cell_type": "markdown",
      "metadata": {
        "colab_type": "text",
        "id": "Ilf3rsfmBiLw"
      },
      "source": [
        "### Observations:\n",
        "\n",
        "#### Question:\n",
        "List down the number of unique ```Dtype``` in this dataset\n",
        "#### Answer: \n",
        "\n",
        "#### Question:\n",
        "Is the dataset uneven? If so list down the column with the most missing rows?\n",
        "#### Answer:"
      ]
    },
    {
      "cell_type": "markdown",
      "metadata": {
        "colab_type": "text",
        "id": "IhviGetnfp9B"
      },
      "source": [
        "### 1.5 describe()\n",
        "describe() is used to view summary statistics of numeric columns. This will help you to have general idea of the dataset."
      ]
    },
    {
      "cell_type": "code",
      "metadata": {
        "colab_type": "code",
        "id": "DuDPOCZ9frBI",
        "colab": {}
      },
      "source": [
        "linkedin_profiles._____() # Insert code here"
      ],
      "execution_count": null,
      "outputs": []
    },
    {
      "cell_type": "markdown",
      "metadata": {
        "colab_type": "text",
        "id": "oEEj1jeGAlhU"
      },
      "source": [
        "### Observations:\n",
        "\n",
        "#### Question:\n",
        "FIXME Why is ```describe``` showing only TODO 3 columns?Is it because of their types e.g(int,float,object)**?\n",
        "#### Answer: \n",
        "\n",
        "#### Question:\n",
        "FIXME What could be reason for the counts not being the same?\n",
        "#### Answer:\n",
        "\n",
        "#### Question:\n",
        "FIXME Are the mean, standard deviation,..., max. important for Position Id?\n",
        "#### Answer:\n"
      ]
    },
    {
      "cell_type": "markdown",
      "metadata": {
        "colab_type": "text",
        "id": "nwuNo5o2fzGe"
      },
      "source": [
        "#### shape\n",
        "To see the size of the dataset, we can use shape function, which returns the number of rows and columns in a format of (#rows, #columns)"
      ]
    },
    {
      "cell_type": "code",
      "metadata": {
        "colab_type": "code",
        "id": "fIhERH7KHldk",
        "colab": {}
      },
      "source": [
        "linkedin_profiles.shape"
      ],
      "execution_count": null,
      "outputs": []
    },
    {
      "cell_type": "markdown",
      "metadata": {
        "colab_type": "text",
        "id": "aOi3ah9yDI-T"
      },
      "source": [
        "### Observations:\n",
        "\n",
        "#### Question:\n",
        "How many **rows** and **columns** are there?\n",
        "#### Answer:"
      ]
    },
    {
      "cell_type": "markdown",
      "metadata": {
        "colab_type": "text",
        "id": "AeidaHn6Hldo"
      },
      "source": [
        "### 1.6 Important Facts About the Dataset"
      ]
    },
    {
      "cell_type": "markdown",
      "metadata": {
        "colab_type": "text",
        "id": "XIFbkyfIDinJ"
      },
      "source": [
        "The next thing we want to do is count the number of job positions that are still active. We'll know this by observing the ```endDate``` This is simple, all we have to do is run two functions:\n",
        "- The first one will be to check if the column has null values, ```isna()```.\n",
        "- The second one will be count the number of null values in the column, ```count()```."
      ]
    },
    {
      "cell_type": "code",
      "metadata": {
        "colab_type": "code",
        "id": "lKl32c6JHldo",
        "colab": {}
      },
      "source": [
        "active_jobs = linkedin_profiles['endDate'].____()._____()   # Insert Code Here\n",
        "print(f'The total number of active jobs is:  {active_jobs}')\n"
      ],
      "execution_count": null,
      "outputs": []
    },
    {
      "cell_type": "markdown",
      "metadata": {
        "colab_type": "text",
        "id": "2JPDPjr-EI60"
      },
      "source": [
        "\n",
        "**What about the total number of completed job positions?** </br>\n",
        "In the following line of code, we will have to ```sum``` the total number of completed jobs in every column."
      ]
    },
    {
      "cell_type": "code",
      "metadata": {
        "colab_type": "code",
        "id": "v_Gai5XEHlds",
        "scrolled": true,
        "colab": {}
      },
      "source": [
        "number_of_completed_jobs = linkedin_profiles['endDate'].___()    # Insert code here\n",
        "print(f'The total number of completed jobs are: {number_of_completed_jobs}')"
      ],
      "execution_count": null,
      "outputs": []
    },
    {
      "cell_type": "markdown",
      "metadata": {
        "colab_type": "text",
        "id": "bYuDgHKIHldv"
      },
      "source": [
        "FIXME: This dataset has approximately 39500 job positions. This means that according to this dataset: "
      ]
    },
    {
      "cell_type": "code",
      "metadata": {
        "colab_type": "code",
        "id": "xyymyjbgEduN",
        "colab": {}
      },
      "source": [
        "possible_active_jobs = 39500 - number_of_completed_jobs \n",
        "possible_active_jobs "
      ],
      "execution_count": null,
      "outputs": []
    },
    {
      "cell_type": "markdown",
      "metadata": {
        "colab_type": "text",
        "id": "heW7wau-Hldv"
      },
      "source": [
        "### Visualize the Number of Registered Profiles for each Company"
      ]
    },
    {
      "cell_type": "code",
      "metadata": {
        "colab_type": "code",
        "id": "w6jM7tXrHldw",
        "colab": {}
      },
      "source": [
        "import matplotlib.pyplot as plt"
      ],
      "execution_count": null,
      "outputs": []
    },
    {
      "cell_type": "code",
      "metadata": {
        "colab_type": "code",
        "id": "RZf2AqqGXhop",
        "colab": {}
      },
      "source": [
        "linkedin_profiles.plot(x = 'Number of Profiles',\n",
        "        y = 'Company Name',\n",
        "        kind = 'histogram',\n",
        "        c = 'FIXME Profile Age',\n",
        "        title = 'Number of LinkedIn Registered Profiles for each Company',\n",
        "        alpha = 0.3,cmap = plt.get_cmap('ocean'),\n",
        "        colorbar = True,\n",
        "        figsize = (20,10)\n",
        "       )"
      ],
      "execution_count": null,
      "outputs": []
    },
    {
      "cell_type": "markdown",
      "metadata": {
        "colab_type": "text",
        "id": "nIFt7KCZHld-"
      },
      "source": [
        "## 2 - Getting Started with Data Wrangling"
      ]
    },
    {
      "cell_type": "markdown",
      "metadata": {
        "colab_type": "text",
        "id": "_JW6MwRSFF3B"
      },
      "source": [
        "Now that we have observed the basic features of our dataset raw, we will began cleaning it. This involves several steps that you will be working through.\n"
      ]
    },
    {
      "cell_type": "markdown",
      "metadata": {
        "colab_type": "text",
        "id": "NJhawspPHld-"
      },
      "source": [
        "### Create a copy of the Original Dataset"
      ]
    },
    {
      "cell_type": "code",
      "metadata": {
        "colab_type": "code",
        "id": "HJ6p5GksHld_",
        "colab": {}
      },
      "source": [
        "df = linkedin_profiles.copy()"
      ],
      "execution_count": null,
      "outputs": []
    },
       {
      "cell_type": "markdown",
      "metadata": {
        "colab_type": "text",
        "id": "qOYcbFRwHleN"
      },
      "source": [
        "### 2.4 Remove Unneeded columns -```df.drop()```"
      ]
    },
    {
      "cell_type": "markdown",
      "metadata": {
        "colab_type": "text",
        "id": "uocghp2yHleO"
      },
      "source": [
        "Now that we have a new index from 0 to 15299.\n",
        "\n",
        "When we're looking at the database, for our purposes, we don't want to work with the ```companyHasLogo```,```companyUrl```, ```companyUrn```, ```followable```, ```mbrLocationCode```, ```mbrUrn```, ```posLocationCode```, ```positionId```. Next, we will use ```df.reindex()``` to change two things:\n",
        "1. The order of our columns\n",
        "2. Remove unneeded columnsL\n",
        "\n",
        "Let's remove the columns that we don't need anymore: [ companyUrl, companyUrn, mbrLocationCode, mbrUrnn, posLocationCode, genderEstimate ]\n",
        "FIXME: For Bonus questions, save the columns for [ companyFollowerCount, companyHasLogo, companyStaffCount, connectionsCount, followable, followersCount ] for additional analysis\n",
        "FIXME: else, remove all [ companyFollowerCount, companyHasLogo, companyStaffCount, companyUrl, companyUrn, connectionsCount, followable, followersCount, mbrLocationCode, mbrUrnn, posLocationCode, genderEstimate ]\n",
        "\n",
        "Next, drop these columnns"
      ]
    },
    {
      "cell_type": "code",
      "metadata": {
        "colab_type": "code",
        "id": "90MwAELVHleO",
        "colab": {}
      },
      "source": [
        "df = df.drop(columns='_____')  # INSERT CODE HERE\n",
        "df "
      ],
      "execution_count": null,
      "outputs": []
    },
    {
      "cell_type": "markdown",
      "metadata": {
        "colab_type": "text",
        "id": "d_Ds03fRHleS"
      },
      "source": [
        "### Using ```dropna()```"
      ]
    },
    {
      "cell_type": "markdown",
      "metadata": {
        "colab_type": "text",
        "id": "OB1gdak8HleT"
      },
      "source": [
        "For this data set, we will be working with profiles that were completely accounted for in all of the remaining features.\n",
        "\n",
        "The ```dropna()``` method is designed top drop every right in our dataframe whos cell might have a null or undefined value. There are usually shown as ```NaN```\n",
        "\n"
      ]
    },
    {
      "cell_type": "code",
      "metadata": {
        "colab_type": "code",
        "id": "HUUV6ipxHleT",
        "colab": {}
      },
      "source": [
        "df = df.dropna()\n",
        "df"
      ],
      "execution_count": null,
      "outputs": []
    },
    {
      "cell_type": "code",
      "metadata": {
        "colab_type": "code",
        "id": "-8OASxc-HleZ",
        "colab": {}
      },
      "source": [
        "df.info()"
      ],
      "execution_count": null,
      "outputs": []
    },
    {
      "cell_type": "markdown",
      "metadata": {
        "colab_type": "text",
        "id": "OwXfj9YjHleD"
      },
      "source": [
        "### 2.1 Changing Column Names\n",
        "\n",
        "For this exercise, you will change the names of the previously existing columns to something that is more readable. \n",
        "\n",
        "First, list down all the column names.\n"
      ]
    },
    {
      "cell_type": "markdown",
      "metadata": {
        "id": "--Q1q9kDgznD",
        "colab_type": "text"
      },
      "source": [
        "### 2.2 Column List"
      ]
    },
    {
      "cell_type": "code",
      "metadata": {
        "colab_type": "code",
        "id": "NvhxosPNF5LH",
        "colab": {}
      },
      "source": [
        "list(df.______) # Insert Code Here"
      ],
      "execution_count": null,
      "outputs": []
    },
    {
      "cell_type": "markdown",
      "metadata": {
        "colab_type": "text",
        "id": "J4KjruAfIDe2"
      },
      "source": [
        "Next, write the names of the columns. We will rename the columns to be in snakecase form, in which each word in the variable name is lowercase and is separated by an underscore, and which looks like this: `my_sample_variable_name`.\n",
        "\n",
        "The column names are: [ (profileId), ageEstimate, companyName, country, endDate, genderEstimate, startDate ]"
      ]
    },
    {
      "cell_type": "code",
      "metadata": {
        "colab_type": "code",
        "id": "aSzOUf_CHleE",
        "colab": {}
      },
      "source": [
        "df = df.rename(\n",
        "    columns={'COLUMN_NAME_HERE': 'profile_id',         # FIXME: Rename to snakecase and delete irrelevant stuff: Insert Column Name you want to change\n",
        "             'COLUMN_NAME_HERE': 'age',                          # Insert Column Name you want to change\n",
        "             'COLUMN_NAME_HERE': 'company_name',    # Insert Column Name you want to change\n",
        "             'COLUMN_NAME_HERE': 'country',   # Insert Column Name you want to change\n",
        "             'COLUMN_NAME_HERE': 'end_date',          # Insert Column Name you want to change\n",
        "             'COLUMN_NAME_HERE': 'gender',    # Insert Column Name you want to change\n",
        "             'COLUMN_NAME_HERE': 'start_date',     # Insert Column Name you want to change\n",
        "            })\n",
        "\n",
        "\n",
        "df"
      ],
      "execution_count": null,
      "outputs": []
    },
    {
      "cell_type": "markdown",
      "metadata": {
        "colab_type": "text",
        "id": "08LYIpGyHleI"
      },
      "source": [
        "### 2.3 Moving Column Positions - ```df.reindex()```"
      ]
    },
    {
      "cell_type": "markdown",
      "metadata": {
        "colab_type": "text",
        "id": "m6SuvgcJIsfL"
      },
      "source": [
        "You can see below a list below which has the ```column_names``` in the order we want and is without the unneeded columns that we removed earlier.\n",
        "\n"
      ]
    },
    {
      "cell_type": "code",
      "metadata": {
        "colab_type": "code",
        "id": "B0p8g8M6HleJ",
        "colab": {}
      },
      "source": [
        "column_names = ['profile_id',\"age_estimate\",\"company_follower_count\", \"company_name\",\"company_staff_count\", \"connections_count\",\"country\", \"end_date\", \"followers_count\",\"gender\",\"has_picture\",\"has_premium\",\"member_location\",\"member_title\",\"position_location\",\"position_title\",\"start_date\",\"avg_member_pos_duration\",\"avg_company_pos_duration\",]\n",
        "\n",
        "df = df.reindex(columns=________) # FIXME: REORDER Insert Code here\n",
        "\n",
        "df"
      ],
      "execution_count": null,
      "outputs": []
    },
    {
      "cell_type": "markdown",
      "metadata": {
        "colab_type": "text",
        "id": "MfhTG28pHleN"
      },
      "source": [
        "**FIXME Not a relevant question? Is Voyage ID a good index and do we need it as a column?**\n",
        "\n",
        "No, But we need an index.\n",
        "\n",
        "**Can 'year_of_arrival' be an Index?**\n",
        "\n",
        "No, because there are repeating dates in the charts, there for we need a simple log counter.\n",
        "\n"
      ]
    },
 
    {
      "cell_type": "markdown",
      "metadata": {
        "colab_type": "text",
        "id": "ju-Bw99zHled"
      },
      "source": [
        "### 2.5 Changing Column Type and Sorting - ```df.sort_values()```"
      ]
    },
    {
      "cell_type": "code",
      "metadata": {
        "colab_type": "code",
        "id": "KCQb6H5uHled",
        "colab": {}
      },
      "source": [
        "df = df.sort_values(by='_______', ascending=True) # INSERT CODE HERE\n",
        "df"
      ],
      "execution_count": null,
      "outputs": []
    },
    {
      "cell_type": "markdown",
      "metadata": {
        "id": "AZbNdBQKgznj",
        "colab_type": "text"
      },
      "source": [
        "### 2.6 Reseting the Index FIXME: Do we need to reset the index?"
      ]
    },
    {
      "cell_type": "markdown",
      "metadata": {
        "colab_type": "text",
        "id": "AMV7309HHleh"
      },
      "source": [
        "Reseting Index using ```df.reset_index``` with respect 'year_of_arrival' in Ascending Order. "
      ]
    },
    {
      "cell_type": "code",
      "metadata": {
        "colab_type": "code",
        "id": "rEIogWnUHlei",
        "colab": {}
      },
      "source": [
        "df.______(inplace=True, drop=True) # INSERT CODE HERE\n",
        "df"
      ],
      "execution_count": null,
      "outputs": []
    },
    {
      "cell_type": "markdown",
      "metadata": {
        "colab_type": "text",
        "id": "i_4uzK6tHlel"
      },
      "source": [
        "### Finding Unique and similar strings \n",
        "\n",
        "First, we will list down all the unique names in these columns. Next, we will sort these in alphabetical order in order to make it easier to observe.\n",
        "\n",
        "```df['column_name].unique()``` and ```df.sort()```\n",
        "\n",
        "For simplicity I have just declared the first line as a variable ```a``` in order to print it\n",
        "\n"
      ]
    },
    {
      "cell_type": "code",
      "metadata": {
        "colab_type": "code",
        "id": "zcZzcYc6Hlel",
        "colab": {}
      },
      "source": [
        "a = df['company_name'].unique()\n",
        "a.sort()\n",
        "a"
      ],
      "execution_count": null,
      "outputs": []
    },
    {
      "cell_type": "code",
      "metadata": {
        "colab_type": "code",
        "id": "Xo4FXypKHleq",
        "colab": {}
      },
      "source": [
        "a = df['position_location'].unique()\n",
        "a.sort()\n",
        "a"
      ],
      "execution_count": null,
      "outputs": []
    },
    {
      "cell_type": "code",
      "metadata": {
        "colab_type": "code",
        "id": "m4mKFIA8Hlex",
        "colab": {}
      },
      "source": [
        "a = df['position_title'].unique()\n",
        "a.sort()\n",
        "a"
      ],
      "execution_count": null,
      "outputs": []
    },
    {
      "cell_type": "markdown",
      "metadata": {
        "id": "Tilt8tICP_Yw",
        "colab_type": "text"
      },
      "source": [
        "As we can see above our object columns, ```company_name```, ```position_location``` and ```position_title``` have phrases that are similar, but may differ by a city- or company specific- detail. We need to clean these out.\n"
      ]
    },
    {
      "cell_type": "markdown",
      "metadata": {
        "colab_type": "text",
        "id": "zKVGN7_cHle2"
      },
      "source": [
        "### 2.7 Working with Strings - ```df['column_name'].str.replace()```"
      ]
    },
    {
      "cell_type": "markdown",
      "metadata": {
        "colab_type": "text",
        "id": "SESPapu0UDyS"
      },
      "source": [
        "To replace unwanted parts of a string, we use the function ```df['columun_name'].str.replace('string to find','string to replace')```. This command looks for the string we have specified and replaces with what we want.\n",
        "\n",
        "For example:\n",
        "FIXME: To remove the city, and also remove day/month from dates : If have an entry in the 'position_location' column, 'Sydney, Australia'. By running the command:\n",
        "```df['position_location'].str.replace(', country', '')```\n",
        "The string will be changed from ''Sydney, Australia' to 'Australia'."
      ]
    },
    {
      "cell_type": "code",
      "metadata": {
        "colab_type": "code",
        "id": "NPxciPRzHle3",
        "colab": {}
      },
      "source": [
        "# We want to restructure the values for ```start_date``` and ```end_date``` to only provide the Year\n",
        "# We need to remove the Month and Day from ```start_date```\n",
        "df['start_date'] = df['member_location'].str.replace('STRING HERE', '')      # Insert string to replace\n",
        "df['voyage_started'] = df['voyage_started'].str.replace('STRING HERE', '')      # Insert string to replace\n",
        "\n",
        "# We need to remove the Month and Day from ```end_date```\n",
        "df['end_date'] = df['end_date'].str.replace('STRING HERE', '')    # Insert string to replace \n",
        "df['voyage_pit_stop'] = df['voyage_pit_stop'].str.replace('STRING HERE', '')    # Insert string to replace\n",
        "\n",
        "df"
      ],
      "execution_count": null,
      "outputs": []
    },
    {
      "cell_type": "code",
      "metadata": {
        "colab_type": "code",
        "id": "IOPDZL8vHle7",
        "colab": {}
      },
      "source": [
        "df.dtypes"
      ],
      "execution_count": null,
      "outputs": []
    },
    {
      "cell_type": "markdown",
      "metadata": {
        "colab_type": "text",
        "id": "x0c0BG7SHle_"
      },
      "source": [
        "#### Creating a Copy of our modified Dataset"
      ]
    },
    {
      "cell_type": "code",
      "metadata": {
        "colab_type": "code",
        "id": "4jrvqhIAHle_",
        "colab": {}
      },
      "source": [
        "modified_dataset = df.copy()"
      ],
      "execution_count": null,
      "outputs": []
    },
    {
      "cell_type": "markdown",
      "metadata": {
        "colab_type": "text",
        "id": "Wkw5pefkHlfC"
      },
      "source": [
        "## 3 - Micro Wrangling and Visualization"
      ]
    },
    {
      "cell_type": "markdown",
      "metadata": {
        "colab_type": "text",
        "id": "pwDzGZeYHlfD"
      },
      "source": [
        "We will Start of this part by dividing our dataset into multiple smaller dataframes. The approach we will be taking is separating dataframes based on the ```year_of_arrival``` dataset.\n",
        "\n",
        "For example, in the blocks below you will see code for 4 intervals:\n",
        "- ```1960 to 1975```\n",
        "- ```1975 to 1990```\n",
        "- ```1990 to 2005```\n",
        "- ```2005 to 2020```\n",
        "\n"
      ]
    },
    {
      "cell_type": "markdown",
      "metadata": {
        "colab_type": "text",
        "id": "3ZkrSv8hHlfD"
      },
      "source": [
        "## Between 1960 to 1975"
      ]
    },
    {
      "cell_type": "code",
      "metadata": {
        "colab_type": "code",
        "id": "Lp6kae0pHlfE",
        "colab": {}
      },
      "source": [
        "dataset_between60_75 = modified_dataset.where((modified_dataset['start_date'] >= 1500) & (modified_dataset['start_date'] <= 1600))\n",
        "dataset_between60_75"
      ],
      "execution_count": null,
      "outputs": []
    },
    {
      "cell_type": "code",
      "metadata": {
        "colab_type": "code",
        "id": "a-tQvhW3HlfI",
        "colab": {}
      },
      "source": [
        "dataset_between60_75 = dataset_between60_75.dropna()\n",
        "dataset_between60_75"
      ],
      "execution_count": null,
      "outputs": []
    },
    {
      "cell_type": "markdown",
      "metadata": {
        "colab_type": "text",
        "id": "T6C4yZSgHlfN"
      },
      "source": [
        "### Total Number of Positions Started between 1960 - 1975 - Complete Records\n"
      ]
    },
    {
      "cell_type": "code",
      "metadata": {
        "colab_type": "code",
        "id": "lpCOGYH2HlfN",
        "colab": {}
      },
      "source": [
        "dataset_between60_75.slaves_onboard.sum()"
      ],
      "execution_count": null,
      "outputs": []
    },
    {
      "cell_type": "markdown",
      "metadata": {
        "colab_type": "text",
        "id": "yoLMT1SKHlfR"
      },
      "source": [
        "### FIXME Visualizing New Jobs during 1960 - 1975"
      ]
    },
    {
      "cell_type": "code",
      "metadata": {
        "colab_type": "code",
        "id": "ejmvzk-2HlfR",
        "colab": {}
      },
      "source": [
        "import matplotlib.pyplot as plt\n",
        "\n",
        "fig = plt.figure(figsize = (20,10))\n",
        "\n",
        "ax1 = fig.add_subplot(2,2,1)\n",
        "ax2 = fig.add_subplot(2,2,2)\n",
        "ax3 = fig.add_subplot(2,2,3)\n",
        "ax4 = fig.add_subplot(2,2,4)\n",
        "ax1.scatter(dataset_between60_75['year_of_arrival'],\n",
        "            dataset_between60_75['slaves_onboard'],\n",
        "            alpha = 0.4)\n",
        "\n",
        "ax2.scatter(dataset_between60_75['slaves_onboard'],\n",
        "            dataset_between60_75['year_of_arrival'],\n",
        "            alpha = 0.4)\n",
        "\n",
        "ax3.bar(\n",
        "    dataset_between60_75['year_of_arrival'],\n",
        "    dataset_between60_75['slaves_onboard'],\n",
        "    alpha = 0.4)\n",
        "\n",
        "ax4.set_ylim(1500,1600)\n",
        "ax4.bar(\n",
        "    dataset_between60_75['slaves_onboard'],    \n",
        "    dataset_between60_75['year_of_arrival'],\n",
        "    alpha = 0.4)"
      ],
      "execution_count": null,
      "outputs": []
    },
    {
      "cell_type": "markdown",
      "metadata": {
        "colab_type": "text",
        "id": "jMCmsdSWHlfW"
      },
      "source": [
        "###  3.1 Choosing Graphs\n",
        "- Which of these graphs seem useful and which ones are unnecessary?\n",
        "**Write a 2 sentence explanation about why these two plots seem or might be useful.** **Did the visualization style influence your decision?**\n",
        "Select the two graphs you think are more useful and add the following:\n",
        "- Add ```title``` for both subplots.\n",
        "- Add ```xlabel``` and ```ylabel```.\n",
        "- Change the color for one of the plots\n",
        "\n",
        "**Answer**"
      ]
    },
    {
      "cell_type": "code",
      "metadata": {
        "id": "89RDlC5ggzoT",
        "colab_type": "code",
        "colab": {}
      },
      "source": [
        "# INSERT CODE HERE"
      ],
      "execution_count": null,
      "outputs": []
    },
    {
      "cell_type": "markdown",
      "metadata": {
        "colab_type": "text",
        "id": "5eu2pWKrHlfX"
      },
      "source": [
        "### Pandas Plots"
      ]
    },
    {
      "cell_type": "code",
      "metadata": {
        "colab_type": "code",
        "id": "90m3tTRHHlfY",
        "colab": {}
      },
      "source": [
        "dataset_between60_75.plot(x='vessel_name',\n",
        "                         y = 'slaves_onboard',kind = 'bar', ax = ax1,\n",
        "                         rot = 90)"
      ],
      "execution_count": null,
      "outputs": []
    },
    {
      "cell_type": "markdown",
      "metadata": {
        "colab_type": "text",
        "id": "7oOVxiLsHlfc"
      },
      "source": [
        "### Companies with less than 1000 new positions started"
      ]
    },
    {
      "cell_type": "code",
      "metadata": {
        "colab_type": "code",
        "id": "-_Oy0Cr_Hlfd",
        "colab": {}
      },
      "source": [
        "temp_plot = dataset_between60_75.where(dataset_between60_75['slaves_onboard'] < 100.0).dropna()\n",
        "\n",
        "temp_plot"
      ],
      "execution_count": null,
      "outputs": []
    },
    {
      "cell_type": "code",
      "metadata": {
        "colab_type": "code",
        "id": "I1UkMU9wHlfg",
        "colab": {}
      },
      "source": [
        "temp_plot.plot(x='vessel_name',\n",
        "                         y = 'slaves_onboard',kind = 'bar',\n",
        "                         rot = 90)\n",
        "\n"
      ],
      "execution_count": null,
      "outputs": []
    },
    {
      "cell_type": "markdown",
      "metadata": {
        "colab_type": "text",
        "id": "OjOjDcogHlfk"
      },
      "source": [
        "### Companies with more than 1000 new positions started"
      ]
    },
    {
      "cell_type": "code",
      "metadata": {
        "colab_type": "code",
        "id": "lrAOZa1hHlfm",
        "colab": {}
      },
      "source": [
        "temp_plot = dataset_between60_75.where(dataset_between60_75['slaves_onboard'] > 100.0).dropna()\n",
        "\n",
        "temp_plot.plot(x='vessel_name',\n",
        "                         y = 'slaves_onboard',kind = 'bar',\n",
        "                         rot = 90,grid = True,figsize = (20,10))\n",
        "\n",
        "temp_plot"
      ],
      "execution_count": null,
      "outputs": []
    },
    {
      "cell_type": "markdown",
      "metadata": {
        "colab_type": "text",
        "id": "iC1mKd2BHlfu"
      },
      "source": [
        "### Companies with more than 5000 new positions started"
      ]
    },
    {
      "cell_type": "code",
      "metadata": {
        "colab_type": "code",
        "id": "HNwE7zKBHlfv",
        "colab": {}
      },
      "source": [
        "temp_plot = dataset_between60_75.where(dataset_between60_75['slaves_onboard'] > 200.0).dropna()\n",
        "print(f'There are {temp_plot.shape[0]} trips that carries more than 200 slaves.')\n",
        "\n"
      ],
      "execution_count": null,
      "outputs": []
    },
    {
      "cell_type": "code",
      "metadata": {
        "colab_type": "code",
        "id": "dfBf3GfyHlfz",
        "scrolled": true,
        "colab": {}
      },
      "source": [
        "temp_plot.plot(x='vessel_name',\n",
        "                         y = 'slaves_onboard',kind = 'bar',\n",
        "                         rot = 90,grid = True,figsize = (20,10))\n",
        "\n",
        "\n"
      ],
      "execution_count": null,
      "outputs": []
    },
    {
      "cell_type": "markdown",
      "metadata": {
        "colab_type": "text",
        "id": "ZIZ8rFjhHlf3"
      },
      "source": [
        "### Check the most used 'company_name' for new_positions > 5000"
      ]
    },
    {
      "cell_type": "code",
      "metadata": {
        "colab_type": "code",
        "id": "7IOuRHKwHlf4",
        "scrolled": true,
        "colab": {}
      },
      "source": [
        "temp_plot['voyage_started'].hist(bins = 20,\n",
        "                                 alpha = 0.5,\n",
        "                                 xrot = 45,\n",
        "                                 figsize = (10,10)\n",
        "                                )"
      ],
      "execution_count": null,
      "outputs": []
    },
    {
      "cell_type": "markdown",
      "metadata": {
        "colab_type": "text",
        "id": "ShDktMYRHlf8"
      },
      "source": [
        "### Check the most used 'position_location' for new_positions > 5000"
      ]
    },
    {
      "cell_type": "code",
      "metadata": {
        "colab_type": "code",
        "id": "vYoFVQrIHlf9",
        "colab": {}
      },
      "source": [
        "temp_plot['voyage_pit_stop'].hist(bins=20, \n",
        "                           alpha=0.7,\n",
        "                           xrot = 0,\n",
        "                          figsize = (10,10))"
      ],
      "execution_count": null,
      "outputs": []
    },
    {
      "cell_type": "markdown",
      "metadata": {
        "colab_type": "text",
        "id": "ntI-QvHuHlgB"
      },
      "source": [
        "### Check the most used 'gender'  for new_positions > 5000"
      ]
    },
    {
      "cell_type": "code",
      "metadata": {
        "colab_type": "code",
        "id": "ermZi3B7HlgC",
        "scrolled": false,
        "colab": {}
      },
      "source": [
        "temp_plot['end_port'].hist(bins=20, \n",
        "                           alpha=0.7,\n",
        "                           xrot = 0,\n",
        "                          figsize = (10,10))"
      ],
      "execution_count": null,
      "outputs": []
    },
    {
      "cell_type": "markdown",
      "metadata": {
        "colab_type": "text",
        "id": "cvaJr4-BHlgG"
      },
      "source": [
        "### Observations \n",
        "\n",
        "FIXME Majority of The Ships carrying over 200 people started their journey Portugal made a Pit-Stop in Africa and Went to Cartagena, Colombia "
      ]
    },
    {
      "cell_type": "markdown",
      "metadata": {
        "colab_type": "text",
        "id": "1w9XvpNdHlgG"
      },
      "source": [
        "## Between 1975- 1990"
      ]
    },
    {
      "cell_type": "code",
      "metadata": {
        "colab_type": "code",
        "id": "CWt8CtQDHlgH",
        "colab": {}
      },
      "source": [
        "dataset_between75_90 = modified_dataset.where((modified_dataset['start_date'] >= 1601) & (modified_dataset['start_date'] <= 1700) )\n",
        "\n",
        "dataset_between75_90"
      ],
      "execution_count": null,
      "outputs": []
    },
    {
      "cell_type": "markdown",
      "metadata": {
        "id": "Eg7EEdhKgzpG",
        "colab_type": "text"
      },
      "source": [
        "### 3.2 Drop null values"
      ]
    },
    {
      "cell_type": "code",
      "metadata": {
        "colab_type": "code",
        "id": "cv3zqBdzHlgK",
        "colab": {}
      },
      "source": [
        "dataset_between75_90 = dataset_between75_90._____() # Insert Code here (drop nul values)\n",
        "dataset_between75_90"
      ],
      "execution_count": null,
      "outputs": []
    },
    {
      "cell_type": "markdown",
      "metadata": {
        "colab_type": "text",
        "id": "ltr9T0R2HlgQ"
      },
      "source": [
        "### 3.3 Total Number of Positions Started between 1975 - 1990 - Complete Records\n"
      ]
    },
    {
      "cell_type": "code",
      "metadata": {
        "colab_type": "code",
        "id": "xzPsmzJVHlgQ",
        "colab": {}
      },
      "source": [
        "dataset_between75_90.slaves_onboard.___() # Insert Code Here - Sum of slaves "
      ],
      "execution_count": null,
      "outputs": []
    },
    {
      "cell_type": "markdown",
      "metadata": {
        "colab_type": "text",
        "id": "6KPEwqj3HlgT"
      },
      "source": [
        "### Visualizing New Jobs during 1975 - 1990"
      ]
    },
    {
      "cell_type": "code",
      "metadata": {
        "colab_type": "code",
        "id": "kM5-QvjmHlgT",
        "colab": {}
      },
      "source": [
        "import matplotlib.pyplot as plt\n",
        "\n",
        "fig = plt.figure(figsize = (20,10))\n",
        "\n",
        "ax1 = fig.add_subplot(2,1,1)\n",
        "ax2 = fig.add_subplot(2,1,2)\n",
        "\n",
        "ax1.scatter(dataset_between75_90['year_of_arrival'],\n",
        "            dataset_between75_90['slaves_onboard'],\n",
        "            alpha = 0.4)\n",
        "\n",
        "ax2.bar(\n",
        "    dataset_between75_90['year_of_arrival'],\n",
        "    dataset_between75_90['slaves_onboard'],\n",
        "    alpha = 0.4\n",
        "    )\n",
        "\n"
      ],
      "execution_count": null,
      "outputs": []
    },
    {
      "cell_type": "markdown",
      "metadata": {
        "colab_type": "text",
        "id": "QjxCnj6nHlgX"
      },
      "source": [
        "### 3.4 Pandas Plots"
      ]
    },
    {
      "cell_type": "code",
      "metadata": {
        "colab_type": "code",
        "id": "4dx1qSH-HlgY",
        "colab": {}
      },
      "source": [
        "# INSERT CODE HERE"
      ],
      "execution_count": null,
      "outputs": []
    },
    {
      "cell_type": "markdown",
      "metadata": {
        "colab_type": "text",
        "id": "MGDHXfAnHlgf"
      },
      "source": [
        "### 3.5 Check the most used 'company_name' for new_positions > 5000"
      ]
    },
    {
      "cell_type": "code",
      "metadata": {
        "colab_type": "code",
        "id": "cuTVq2HkHlgh",
        "colab": {}
      },
      "source": [
        "# INSERT CODE HERE"
      ],
      "execution_count": null,
      "outputs": []
    },
    {
      "cell_type": "markdown",
      "metadata": {
        "colab_type": "text",
        "id": "5alh-9SgHlgj"
      },
      "source": [
        "### 3.6 Check the most used 'position_location' for new_positions > 5000"
      ]
    },
    {
      "cell_type": "code",
      "metadata": {
        "colab_type": "code",
        "id": "m49Xm2SkHlgk",
        "colab": {}
      },
      "source": [
        "# INSERT CODE HERE"
      ],
      "execution_count": null,
      "outputs": []
    },
    {
      "cell_type": "markdown",
      "metadata": {
        "colab_type": "text",
        "id": "6RZ4R9mFHlgo"
      },
      "source": [
        "### 3.7 Check the most used 'End_Port' "
      ]
    },
    {
      "cell_type": "code",
      "metadata": {
        "colab_type": "code",
        "id": "KqQSbPfOHlgo",
        "scrolled": false,
        "colab": {}
      },
      "source": [
        "# INSERT CODE HERE"
      ],
      "execution_count": null,
      "outputs": []
    },
    {
      "cell_type": "markdown",
      "metadata": {
        "colab_type": "text",
        "id": "SXYLnplNHlgs"
      },
      "source": [
        "## Between 1990 - 2005"
      ]
    },
    {
      "cell_type": "code",
      "metadata": {
        "colab_type": "code",
        "id": "mpED3SzKHlgt",
        "colab": {}
      },
      "source": [
        "dataset_between90_05 = modified_dataset.where((modified_dataset['start_date'] >= 1701) & (modified_dataset['start_date'] <= 1800) )\n",
        "\n",
        "dataset_between90_05"
      ],
      "execution_count": null,
      "outputs": []
    },
    {
      "cell_type": "code",
      "metadata": {
        "colab_type": "code",
        "id": "UztHQkTmHlgx",
        "colab": {}
      },
      "source": [
        "dataset_between90_05 = dataset_between90_05.dropna()\n",
        "\n",
        "dataset_between90_05"
      ],
      "execution_count": null,
      "outputs": []
    },
    {
      "cell_type": "markdown",
      "metadata": {
        "colab_type": "text",
        "id": "8Pu1E16BHlg0"
      },
      "source": [
        "### 3.8 Total Number of New Positions between 1990 - 2005 - Complete Records\n"
      ]
    },
    {
      "cell_type": "code",
      "metadata": {
        "colab_type": "code",
        "id": "ICN8XRxYHlg0",
        "colab": {}
      },
      "source": [
        ""
      ],
      "execution_count": null,
      "outputs": []
    },
    {
      "cell_type": "markdown",
      "metadata": {
        "colab_type": "text",
        "id": "aoav5Z58Hlg2"
      },
      "source": [
        "### 3.9 Visualizing New Positions During 1990 - 2005"
      ]
    },
    {
      "cell_type": "code",
      "metadata": {
        "colab_type": "code",
        "id": "c6LVgQ1wHlg3",
        "colab": {}
      },
      "source": [
        ""
      ],
      "execution_count": null,
      "outputs": []
    },
    {
      "cell_type": "markdown",
      "metadata": {
        "colab_type": "text",
        "id": "p65ASw2_Hlg6"
      },
      "source": [
        "### 3.10 Pandas Plots"
      ]
    },
    {
      "cell_type": "code",
      "metadata": {
        "colab_type": "code",
        "id": "bU5P2A0CHlg7",
        "colab": {}
      },
      "source": [
        ""
      ],
      "execution_count": null,
      "outputs": []
    },
    {
      "cell_type": "markdown",
      "metadata": {
        "colab_type": "text",
        "id": "ejs7tofyHlg9"
      },
      "source": [
        "### 3.11 Check the most used 'company_name' for new_positions > 5000"
      ]
    },
    {
      "cell_type": "code",
      "metadata": {
        "colab_type": "code",
        "id": "5g_CwoUBHlg9",
        "colab": {}
      },
      "source": [
        ""
      ],
      "execution_count": null,
      "outputs": []
    },
    {
      "cell_type": "markdown",
      "metadata": {
        "colab_type": "text",
        "id": "wQXiGjGLHlhB"
      },
      "source": [
        "### 3.12 Check the most used 'position_location' for new_positions > 5000"
      ]
    },
    {
      "cell_type": "code",
      "metadata": {
        "colab_type": "code",
        "id": "yiLTrPGTHlhB",
        "colab": {}
      },
      "source": [
        ""
      ],
      "execution_count": null,
      "outputs": []
    },
    {
      "cell_type": "markdown",
      "metadata": {
        "colab_type": "text",
        "id": "VHcaOGz9HlhD"
      },
      "source": [
        "### 3.13 Check the most used 'End_Port' "
      ]
    },
    {
      "cell_type": "code",
      "metadata": {
        "colab_type": "code",
        "id": "2XHKgB-qHlhE",
        "scrolled": false,
        "colab": {}
      },
      "source": [
        ""
      ],
      "execution_count": null,
      "outputs": []
    },
    {
      "cell_type": "markdown",
      "metadata": {
        "colab_type": "text",
        "id": "84pXofoLHlhG"
      },
      "source": [
        "# Extra Credit\n",
        "## Between 1801- 1900"
      ]
    },
    {
      "cell_type": "code",
      "metadata": {
        "colab_type": "code",
        "id": "n9y5tp0qHlhG",
        "colab": {}
      },
      "source": [
        "dataset_between18_19 = modified_dataset.where((modified_dataset['start_date'] >= 1801) & (modified_dataset['start_date'] <= 1900) )\n",
        "\n",
        "dataset_between18_19"
      ],
      "execution_count": null,
      "outputs": []
    },
    {
      "cell_type": "code",
      "metadata": {
        "colab_type": "code",
        "id": "KVKVgtIEHlhI",
        "colab": {}
      },
      "source": [
        "dataset_between18_19 = dataset_between18_19.dropna()\n",
        "\n",
        "dataset_between18_19"
      ],
      "execution_count": null,
      "outputs": []
    },
    {
      "cell_type": "markdown",
      "metadata": {
        "colab_type": "text",
        "id": "F66q8RjvHlhL"
      },
      "source": [
        "### Total Number of New Positions between 1990 - 2005 - Complete Records\n"
      ]
    },
    {
      "cell_type": "code",
      "metadata": {
        "colab_type": "code",
        "id": "SWaElllYHlhM",
        "colab": {}
      },
      "source": [
        ""
      ],
      "execution_count": null,
      "outputs": []
    },
    {
      "cell_type": "markdown",
      "metadata": {
        "colab_type": "text",
        "id": "4Cy7QPXaHlhO"
      },
      "source": [
        "### Visualizing New Jobs During 1990 - 2005"
      ]
    },
    {
      "cell_type": "code",
      "metadata": {
        "colab_type": "code",
        "id": "U-pb7BQbHlhO",
        "colab": {}
      },
      "source": [
        ""
      ],
      "execution_count": null,
      "outputs": []
    },
    {
      "cell_type": "markdown",
      "metadata": {
        "colab_type": "text",
        "id": "Qy7PewKsHlhQ"
      },
      "source": [
        "### Pandas Plots"
      ]
    },
    {
      "cell_type": "code",
      "metadata": {
        "colab_type": "code",
        "id": "VeafP9zTHlhR",
        "colab": {}
      },
      "source": [
        ""
      ],
      "execution_count": null,
      "outputs": []
    },
    {
      "cell_type": "markdown",
      "metadata": {
        "colab_type": "text",
        "id": "lhYJLqUUHlhV"
      },
      "source": [
        "### Check the most used 'company_name' for new_positions > 5000"
      ]
    },
    {
      "cell_type": "code",
      "metadata": {
        "colab_type": "code",
        "id": "ES-eLhpaHlhV",
        "colab": {}
      },
      "source": [
        ""
      ],
      "execution_count": null,
      "outputs": []
    },
    {
      "cell_type": "markdown",
      "metadata": {
        "colab_type": "text",
        "id": "GW44LbYwHlhY"
      },
      "source": [
        "### Check the most used 'position_location' for new_jobs > 5000"
      ]
    },
    {
      "cell_type": "code",
      "metadata": {
        "colab_type": "code",
        "id": "GMJGOq2iHlhY",
        "colab": {}
      },
      "source": [
        ""
      ],
      "execution_count": null,
      "outputs": []
    },
    {
      "cell_type": "markdown",
      "metadata": {
        "colab_type": "text",
        "id": "RVVMQGubHlhb"
      },
      "source": [
        "### Check the most used 'End_Port' "
      ]
    },
    {
      "cell_type": "code",
      "metadata": {
        "colab_type": "code",
        "id": "UMMIesEyHlhc",
        "scrolled": false,
        "colab": {}
      },
      "source": [
        ""
      ],
      "execution_count": null,
      "outputs": []
    },
    {
      "cell_type": "markdown",
      "metadata": {
        "id": "_hntDtdsgzqd",
        "colab_type": "text"
      },
      "source": [
        "# Conclusion"
      ]
    },
    {
      "cell_type": "markdown",
      "metadata": {
        "colab_type": "text",
        "id": "NweDUhRVHlhe"
      },
      "source": [
        "## Resources"
      ]
    },
    {
      "cell_type": "markdown",
      "metadata": {
        "colab_type": "text",
        "id": "VByUUKTiIYM-"
      },
      "source": [
        "# Appendix"
      ]
    },
    {
      "cell_type": "markdown",
      "metadata": {
        "colab_type": "text",
        "id": "ObtE8-BHODkC"
      },
      "source": [
        "## Connecting to Your Google Drive\n"
      ]
    },
    {
      "cell_type": "code",
      "metadata": {
        "colab_type": "code",
        "id": "_3xzPhI_ByD5",
        "colab": {}
      },
      "source": [
        "# Start by connecting google drive into google colab\n",
        "\n",
        "from google.colab import drive\n",
        "\n",
        "drive.mount('/content/gdrive')"
      ],
      "execution_count": null,
      "outputs": []
    },
    {
      "cell_type": "code",
      "metadata": {
        "colab_type": "code",
        "id": "_epZFcuXNVRv",
        "colab": {}
      },
      "source": [
        "!ls \"/content/gdrive/My Drive/DigitalHistory\""
      ],
      "execution_count": null,
      "outputs": []
    },
    {
      "cell_type": "code",
      "metadata": {
        "colab_type": "code",
        "id": "y6r-8UBGNueF",
        "colab": {}
      },
      "source": [
        "cd \"/content/gdrive/My Drive/DigitalHistory/tmp/trans-atlantic-slave-trade\""
      ],
      "execution_count": null,
      "outputs": []
    },
    {
      "cell_type": "code",
      "metadata": {
        "colab_type": "code",
        "id": "Pp8mubdjVqY2",
        "colab": {}
      },
      "source": [
        "ls"
      ],
      "execution_count": null,
      "outputs": []
    },
    {
      "cell_type": "code",
      "metadata": {
        "colab_type": "code",
        "id": "ZLhlkjd3Hlhr",
        "colab": {}
      },
      "source": [
        "### Extracting ZipFiles"
      ],
      "execution_count": null,
      "outputs": []
    },
    {
      "cell_type": "code",
      "metadata": {
        "colab_type": "code",
        "id": "rzDr3KIkOJdy",
        "colab": {}
      },
      "source": [
        "\n",
        "import zipfile\n"
      ],
      "execution_count": null,
      "outputs": []
    },
    {
      "cell_type": "code",
      "metadata": {
        "colab_type": "code",
        "id": "zkIDSJWUQFCV",
        "colab": {}
      },
      "source": [
        "file_location = 'data/trans-atlantic-slave-trade.csv.zip'\n",
        "\n",
        "zip_ref = zipfile.ZipFile(file_location,'r')\n",
        "zip_ref.extractall('data/tmp/trans-atlantic-slave-trade')\n",
        "zip_ref.close()"
      ],
      "execution_count": null,
      "outputs": []
    },
    {
      "cell_type": "markdown",
      "metadata": {
        "colab_type": "text",
        "id": "TI9Zcwf5Hlh2"
      },
      "source": [
        "### Checking and Changing Column Types \n",
        "```df.dtypes``` and ```df.astype()```"
      ]
    },
    {
      "cell_type": "code",
      "metadata": {
        "colab_type": "code",
        "id": "pGl1MUnOHlh3",
        "colab": {}
      },
      "source": [
        "df.dtypes"
      ],
      "execution_count": null,
      "outputs": []
    },
    {
      "cell_type": "code",
      "metadata": {
        "colab_type": "code",
        "id": "JIG8wtR2Hlh6",
        "colab": {}
      },
      "source": [
        "df.year_of_arrival.astype(int)"
      ],
      "execution_count": null,
      "outputs": []
    },
    {
      "cell_type": "code",
      "metadata": {
        "colab_type": "code",
        "id": "Z4Wl6kePHlh9",
        "colab": {}
      },
      "source": [
        "df.dtypes"
      ],
      "execution_count": null,
      "outputs": []
    },
    {
      "cell_type": "code",
      "metadata": {
        "colab_type": "code",
        "id": "-V4Kbei5HliA",
        "colab": {}
      },
      "source": [
        "df.year_of_arrival = df.year_of_arrival.astype(int)"
      ],
      "execution_count": null,
      "outputs": []
    },
    {
      "cell_type": "code",
      "metadata": {
        "colab_type": "code",
        "id": "fPgIGprYHliD",
        "colab": {}
      },
      "source": [
        "df.dtypes"
      ],
      "execution_count": null,
      "outputs": []
    },
    {
      "cell_type": "markdown",
      "metadata": {
        "colab_type": "text",
        "id": "vL0gW74bHliI"
      },
      "source": [
        "**Extra**:\n",
        "```df.slaves_onboard = df.slaves_onboard.astype(int)```"
      ]
    },
    {
      "cell_type": "code",
      "metadata": {
        "colab_type": "code",
        "id": "obBSXVY2HliI",
        "colab": {}
      },
      "source": [
        "df.slaves_onboard = df.slaves_onboard.astype(int)"
      ],
      "execution_count": null,
      "outputs": []
    },
    {
      "cell_type": "code",
      "metadata": {
        "colab_type": "code",
        "id": "bmm_3kqnHliK",
        "colab": {}
      },
      "source": [
        "df.dtypes"
      ],
      "execution_count": null,
      "outputs": []
    },
    {
      "cell_type": "code",
      "metadata": {
        "colab_type": "code",
        "id": "9dC_vb_KHliM",
        "colab": {}
      },
      "source": [
        "df"
      ],
      "execution_count": null,
      "outputs": []
    },
    {
      "cell_type": "markdown",
      "metadata": {
        "colab_type": "text",
        "id": "s3AFqNpu2GJ4"
      },
      "source": [
        "### GeoTagging Locations"
      ]
    },
    {
      "cell_type": "code",
      "metadata": {
        "colab_type": "code",
        "id": "lpBC6OsdEwl-",
        "colab": {}
      },
      "source": [
        "!pip install geopandas\n"
      ],
      "execution_count": null,
      "outputs": []
    },
    {
      "cell_type": "code",
      "metadata": {
        "colab_type": "code",
        "id": "3N9KNSl-15ll",
        "colab": {}
      },
      "source": [
        "!pip install googlemaps"
      ],
      "execution_count": null,
      "outputs": []
    },
    {
      "cell_type": "code",
      "metadata": {
        "colab_type": "code",
        "id": "0gYRsx8v2HfO",
        "colab": {}
      },
      "source": [
        "from googlemaps import Client as GoogleMaps\n",
        "import pandas as pd "
      ],
      "execution_count": null,
      "outputs": []
    },
    {
      "cell_type": "code",
      "metadata": {
        "colab_type": "code",
        "id": "GYqCDWTt2KKz",
        "colab": {}
      },
      "source": [
        "gmaps = GoogleMaps('')# ENTER KEY"
      ],
      "execution_count": null,
      "outputs": []
    },
    {
      "cell_type": "code",
      "metadata": {
        "colab_type": "code",
        "id": "bLLkI_sD9hzv",
        "colab": {}
      },
      "source": [
        "df"
      ],
      "execution_count": null,
      "outputs": []
    },
    {
      "cell_type": "code",
      "metadata": {
        "colab_type": "code",
        "id": "AKnGxe_w2Lzw",
        "colab": {}
      },
      "source": [
        "addresses = df.filter(['Voyage itinerary imputed port where began (ptdepimp) place'], axis=1)\n",
        "addresses.head()"
      ],
      "execution_count": null,
      "outputs": []
    },
    {
      "cell_type": "code",
      "metadata": {
        "colab_type": "code",
        "id": "TVEZc-Qs2PbV",
        "colab": {}
      },
      "source": [
        "addresses['long'] = \"\"\n",
        "addresses['lat'] = \"\""
      ],
      "execution_count": null,
      "outputs": []
    },
    {
      "cell_type": "code",
      "metadata": {
        "colab_type": "code",
        "id": "sBJppNIY9ZBP",
        "colab": {}
      },
      "source": [
        "addresses"
      ],
      "execution_count": null,
      "outputs": []
    }
  ]
}