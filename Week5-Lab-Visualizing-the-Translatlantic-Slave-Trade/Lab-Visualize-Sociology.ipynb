{
  "nbformat": 4,
  "nbformat_minor": 0,
  "metadata": {
    "colab": {
      "name": "Week4-PROJECT-Visualize-Sociology.ipynb",
      "provenance": [],
      "collapsed_sections": [
        "ObtE8-BHODkC",
        "N8w70yKWOH_c",
        "7q6R0hBZONBe",
        "mCNQqlwecmjv",
        "66hyyirMlq6S",
        "aEsoTghMmsuq",
        "UFfKdw9eV6Wc"
      ],
      "include_colab_link": true
    },
    "kernelspec": {
      "display_name": "Python 3",
      "language": "python",
      "name": "python3"
    },
    "language_info": {
      "codemirror_mode": {
        "name": "ipython",
        "version": 3
      },
      "file_extension": ".py",
      "mimetype": "text/x-python",
      "name": "python",
      "nbconvert_exporter": "python",
      "pygments_lexer": "ipython3",
      "version": "3.7.4"
    }
  },
  "cells": [
    {
      "cell_type": "markdown",
      "metadata": {
        "id": "view-in-github",
        "colab_type": "text"
      },
      "source": [
        "<a href=\"https://colab.research.google.com/github/bitprj/DigitalHistory/blob/Amy/Week5-Lab-Visualizing-the-Translatlantic-Slave-Trade/Lab-Visualize-Sociology.ipynb\" target=\"_parent\"><img src=\"https://colab.research.google.com/assets/colab-badge.svg\" alt=\"Open In Colab\"/></a>"
      ]
    },
    {
      "cell_type": "markdown",
      "metadata": {
        "id": "U30n5IXzIVFX"
      },
      "source": [
        "# <div align=\"center\">Visualizing LinkedIn Profiles and Jobs</div>"
      ]
    },
    {
      "cell_type": "markdown",
      "metadata": {
        "id": "UFfKdw9eV6Wc"
      },
      "source": [
        "## Table of Contents\n",
        "\n",
        "- Recap\n",
        "- About the Dataset\n",
        "    - LinkedIn Profiles and Jobs\n",
        "        - Facts about the dataset\n",
        "- Labs and Methodology\n",
        "- Goals\n",
        "- **Part 1 - Getting Our Basic Data Analysis Set-Up**\n",
        "    - Import Libraries and unpack a file\n",
        "    - Load file\n",
        "    - Observing the Dataset using Pandas\n",
        "    - Important Facts About the Dataset\n",
        "    - Visualizing Number of Company Employees\n",
        "- **Part 2 - Getting Started with Data Wrangling**\n",
        "    - Create a copy of the Original Dataset\n",
        "    - Changing Column Names\n",
        "    - Moving Column Positions - ```df.reindex()```\n",
        "    - Removing Unneeded Columns -```df.drop()```\n",
        "    - Using ```dropna()```\n",
        "    - Changing Column Type and Sorting - ```df.sort_values()```\n",
        "    - Finding Unique and similar strings \n",
        "    - Working with Strings - ```df['column_name'].str.replace()```\n",
        "- **Part 3 - Micro Wrangling and Visualization**\n",
        "    - Between 1960 - 1975\n",
        "    - Between 1975 - 1990\n",
        "    - Between 1990 - 2005\n",
        "    - Between 2005 - 2019\n",
        "- **Part 4 - Conclusion**\n",
        "- Resources\n",
        "- Appendix\n",
        "    \n",
        "\n",
        "\n",
        "\n",
        "\n"
      ]
    },
    {
      "cell_type": "markdown",
      "metadata": {
        "id": "RE3H5y7yIRHZ"
      },
      "source": [
        "## Recap\n",
        "- By this time, you should have an understanding of how to implement the following:\n",
        "- Loading a Dataset '.csv' as a dataframe using ```pd.read_csv```\n",
        "- Observing the properties of the loaded dataset using functions such as:\n",
        "    - ```pd.head()```\n",
        "    - ```pd.describe()```\n",
        "    - ```pd.info()```\n",
        "- Modifying the dataset by removing ```NaN``` values.\n",
        "- A conceptual understanding of the term ```object``` in DataFrames.\n",
        "- Re-indexing columns\n",
        "- Visualizing Data using ```matplotlib``` and ```pandas```:\n",
        "    - Scatter plots\n",
        "    - Barplots\n",
        "    - Line plots\n",
        "    - Histograms"
      ]
    },
    {
      "cell_type": "markdown",
      "metadata": {
        "id": "4uvgAANOIKwm"
      },
      "source": [
        "## About the Dataset\n",
        "\n",
        "\n",
        "### LinkedIn Profiles and Jobs\n",
        "<img src=\"https://github.com/bitprj/DigitalHistory/blob/Amy/Week5-Lab-Visualizing-the-Translatlantic-Slave-Trade/assets/workersTalking.jpg?raw=1\" width=\"600\"> \n",
        "\n",
        "Founded in 2002, LinkedIn is an employment-oriented online service that is mainly used for professional networking, and supports over 700 million users to date. It is a site where employers can share job postings and job-seekers can create profiles around their industry experience.\n",
        "\n",
        "LinkedIn can be utilized as a social network for profesional development, where users can add 'connections' with one another to share posts and view professional-related updates from their network.\n",
        "\n",
        "#### Facts about the dataset\n",
        "\n",
        "- The dataset contains approximately 39,500 LinkedIn profiles.\n",
        "- The ages of the users range from 20 to 86 years.\n",
        "\n",
        "- The dataset collects information from profiles across various countries, including the United States, the United Kingdom, Australia, etc.\n",
        "- The users reported a wide range of start dates for their current position, which range from beginning their job in 1961 to beginning their job in 2019. \n",
        "- This dataset contains profiles of employees from a number of major companies, including Facebook, Google, Microsoft, Hewlett Packard, IBM, Infosys, Nokia, and many more.\n",
        "\n",
        "- The dataset also features other information about the profiles, including their Number of Connections, and whether or not they have a profile picture or a subscription to LinkedIn Premium. \n"
      ]
    },
    {
      "cell_type": "markdown",
      "metadata": {
        "id": "fPyizd_JIHPU"
      },
      "source": [
        "## Labs and Methodology\n",
        "Congratulations, you have made it to the first lab of this course. The purpose of these labs is to help you apply the Data Science pipeline in a project-based environment. You will be using the tools taught to you in the previous modules and adopt and Question and Answer based approach when you work with the dataset.\n",
        "We have divided our approach into 4 parts:\n",
        "- For this project, we start by asking questions which you will answer in code and simple explanations.\n",
        "\n",
        "*example* - change the name of 'column_x' to 'column y' </br>\n",
        "**answer**: ```df = df.rename(columns = {'column_x : 'column_y})```\n",
        "\n",
        "- The first part is the traditional set up every. These are some things we should do before modifying the dataset.\n",
        "- The second part involves cleaning the dataset and choosing columns that fit our methodology.\n",
        "- The third part involves further splitting our cleaned dataframe into smaller dataframes and visualizing them.\n",
        "- Finally, the fourth part involves summarizing our conclusion."
      ]
    },
    {
      "cell_type": "markdown",
      "metadata": {
        "id": "Tl_6Scu8IE7Q"
      },
      "source": [
        "\n",
        "## Goals"
      ]
    },
    {
      "cell_type": "markdown",
      "metadata": {
        "id": "ixk29-rMHvR9"
      },
      "source": [
        "## 1 - Getting Our Basic Data Analysis Set-Up"
      ]
    },
    {
      "cell_type": "markdown",
      "metadata": {
        "id": "0W--Kb7wgzl7"
      },
      "source": [
        "Import the libraries you will be using for this project. These libraries are the ones we have used in the previous labs."
      ]
    },
    {
      "cell_type": "code",
      "metadata": {
        "id": "vs7AJxshHlc9"
      },
      "source": [
        "\"\"\"\n",
        "import pandas as __ # INSERT CODE HERE\n",
        "import _____ as np  # INSERT CODE HERE\n",
        "import __________ as plt  # INSERT CODE HERE\n",
        "\"\"\"\n",
        "import pandas as pd # INSERT CODE HERE\n",
        "import numpy as np  # INSERT CODE HERE\n",
        "import matplotlib as plt  # INSERT CODE HERE"
      ],
      "execution_count": 3,
      "outputs": []
    },
    {
      "cell_type": "markdown",
      "metadata": {
        "id": "7q6R0hBZONBe"
      },
      "source": [
        "### 1.1 Load file"
      ]
    },
    {
      "cell_type": "code",
      "metadata": {
        "id": "DfmowYZZOVRn"
      },
      "source": [
        "\"\"\"\n",
        "url = 'https://raw.githubusercontent.com/bitprj/DigitalHistory/Amy/Week5-Lab-Visualizing-the-Translatlantic-Slave-Trade/data/dump.csv'\n",
        "\n",
        "linkedin_profiles = __.read_csv(___) # INSERT CODE HERE \n",
        "\"\"\"\n",
        "url = 'https://raw.githubusercontent.com/bitprj/DigitalHistory/Amy/Week5-Lab-Visualizing-the-Translatlantic-Slave-Trade/data/dump.csv'\n",
        "\n",
        "linkedin_profiles = pd.read_csv(url) # INSERT CODE HERE "
      ],
      "execution_count": 4,
      "outputs": []
    },
    {
      "cell_type": "markdown",
      "metadata": {
        "id": "9SwePQu6qsZl"
      },
      "source": [
        "### Observing the Dataset using Pandas"
      ]
    },
    {
      "cell_type": "markdown",
      "metadata": {
        "id": "mCNQqlwecmjv"
      },
      "source": [
        "Now, the dataset is loaded as a dataframe 'linkedin_profiles'\n",
        "\n",
        "### 1.2 head()\n",
        "Let's check what columns this file has by calling 'head()' function.\n",
        "It returns first n rows, and it's useful to see the dataset at a quick glance.\n",
        "\n",
        "By default, the head() function returns the first 5 rows.\n",
        "\n",
        "For an example dataframe `df`, you can specify the number of rows to display by calling df.head(number).\n"
      ]
    },
    {
      "cell_type": "code",
      "metadata": {
        "id": "_Fwr655mcjr5",
        "outputId": "90f8afdc-250a-49d4-c9e7-029d6cd257ab",
        "colab": {
          "base_uri": "https://localhost:8080/",
          "height": 496
        }
      },
      "source": [
        "# INSERT CODE HERE\n",
        "\n",
        "linkedin_profiles.head()"
      ],
      "execution_count": 5,
      "outputs": [
        {
          "output_type": "execute_result",
          "data": {
            "text/html": [
              "<div>\n",
              "<style scoped>\n",
              "    .dataframe tbody tr th:only-of-type {\n",
              "        vertical-align: middle;\n",
              "    }\n",
              "\n",
              "    .dataframe tbody tr th {\n",
              "        vertical-align: top;\n",
              "    }\n",
              "\n",
              "    .dataframe thead th {\n",
              "        text-align: right;\n",
              "    }\n",
              "</style>\n",
              "<table border=\"1\" class=\"dataframe\">\n",
              "  <thead>\n",
              "    <tr style=\"text-align: right;\">\n",
              "      <th></th>\n",
              "      <th>Unnamed: 0</th>\n",
              "      <th>ageEstimate</th>\n",
              "      <th>companyFollowerCount</th>\n",
              "      <th>companyHasLogo</th>\n",
              "      <th>companyName</th>\n",
              "      <th>companyStaffCount</th>\n",
              "      <th>companyUrl</th>\n",
              "      <th>companyUrn</th>\n",
              "      <th>connectionsCount</th>\n",
              "      <th>country</th>\n",
              "      <th>endDate</th>\n",
              "      <th>followable</th>\n",
              "      <th>followersCount</th>\n",
              "      <th>genderEstimate</th>\n",
              "      <th>hasPicture</th>\n",
              "      <th>isPremium</th>\n",
              "      <th>mbrLocation</th>\n",
              "      <th>mbrLocationCode</th>\n",
              "      <th>mbrTitle</th>\n",
              "      <th>memberUrn</th>\n",
              "      <th>posLocation</th>\n",
              "      <th>posLocationCode</th>\n",
              "      <th>posTitle</th>\n",
              "      <th>positionId</th>\n",
              "      <th>startDate</th>\n",
              "      <th>avgMemberPosDuration</th>\n",
              "      <th>avgCompanyPosDuration</th>\n",
              "    </tr>\n",
              "  </thead>\n",
              "  <tbody>\n",
              "    <tr>\n",
              "      <th>0</th>\n",
              "      <td>0</td>\n",
              "      <td>41.0</td>\n",
              "      <td>198859.0</td>\n",
              "      <td>5a92c12e-0a20-482b-95ec-e705a6294730-2.png</td>\n",
              "      <td>Commonwealth Bank</td>\n",
              "      <td>32905.0</td>\n",
              "      <td>http://www.commbank.com.au/</td>\n",
              "      <td>urn:li:company:2848</td>\n",
              "      <td>500.0</td>\n",
              "      <td>au</td>\n",
              "      <td>NaN</td>\n",
              "      <td>1.0</td>\n",
              "      <td>506.0</td>\n",
              "      <td>male</td>\n",
              "      <td>NaN</td>\n",
              "      <td>0.0</td>\n",
              "      <td>Sydney Area, Australia</td>\n",
              "      <td>urn:li:fs_region:(au,4910)</td>\n",
              "      <td>Portfolio Executive at Commonwealth Bank</td>\n",
              "      <td>urn:li:member:10013136</td>\n",
              "      <td>NaN</td>\n",
              "      <td>NaN</td>\n",
              "      <td>Portfolio Executive</td>\n",
              "      <td>240345.0</td>\n",
              "      <td>2014-07-01</td>\n",
              "      <td>760.5000</td>\n",
              "      <td>989.9361</td>\n",
              "    </tr>\n",
              "    <tr>\n",
              "      <th>1</th>\n",
              "      <td>1</td>\n",
              "      <td>41.0</td>\n",
              "      <td>198859.0</td>\n",
              "      <td>5a92c12e-0a20-482b-95ec-e705a6294730-2.png</td>\n",
              "      <td>Commonwealth Bank</td>\n",
              "      <td>32905.0</td>\n",
              "      <td>http://www.commbank.com.au/</td>\n",
              "      <td>urn:li:company:2848</td>\n",
              "      <td>500.0</td>\n",
              "      <td>au</td>\n",
              "      <td>2014-06-01</td>\n",
              "      <td>1.0</td>\n",
              "      <td>506.0</td>\n",
              "      <td>male</td>\n",
              "      <td>NaN</td>\n",
              "      <td>0.0</td>\n",
              "      <td>Sydney Area, Australia</td>\n",
              "      <td>urn:li:fs_region:(au,4910)</td>\n",
              "      <td>Portfolio Executive at Commonwealth Bank</td>\n",
              "      <td>urn:li:member:10013136</td>\n",
              "      <td>Sydney, Australia</td>\n",
              "      <td>urn:li:fs_region:(au,4910)</td>\n",
              "      <td>Solution Delivery Executive</td>\n",
              "      <td>240346.0</td>\n",
              "      <td>2013-11-01</td>\n",
              "      <td>760.5000</td>\n",
              "      <td>989.9361</td>\n",
              "    </tr>\n",
              "    <tr>\n",
              "      <th>2</th>\n",
              "      <td>2</td>\n",
              "      <td>41.0</td>\n",
              "      <td>10047.0</td>\n",
              "      <td>b1c3fd9a-8f21-48f8-8321-d773b1ff3cb7-2.png</td>\n",
              "      <td>CommSec</td>\n",
              "      <td>619.0</td>\n",
              "      <td>http://www.commsec.com.au</td>\n",
              "      <td>urn:li:company:2851</td>\n",
              "      <td>500.0</td>\n",
              "      <td>au</td>\n",
              "      <td>2012-12-01</td>\n",
              "      <td>1.0</td>\n",
              "      <td>506.0</td>\n",
              "      <td>male</td>\n",
              "      <td>NaN</td>\n",
              "      <td>0.0</td>\n",
              "      <td>Sydney Area, Australia</td>\n",
              "      <td>urn:li:fs_region:(au,4910)</td>\n",
              "      <td>Portfolio Executive at Commonwealth Bank</td>\n",
              "      <td>urn:li:member:10013136</td>\n",
              "      <td>NaN</td>\n",
              "      <td>NaN</td>\n",
              "      <td>Project Manager</td>\n",
              "      <td>240348.0</td>\n",
              "      <td>2008-08-01</td>\n",
              "      <td>760.5000</td>\n",
              "      <td>747.2308</td>\n",
              "    </tr>\n",
              "    <tr>\n",
              "      <th>3</th>\n",
              "      <td>3</td>\n",
              "      <td>41.0</td>\n",
              "      <td>198859.0</td>\n",
              "      <td>5a92c12e-0a20-482b-95ec-e705a6294730-2.png</td>\n",
              "      <td>Commonwealth Bank</td>\n",
              "      <td>32905.0</td>\n",
              "      <td>http://www.commbank.com.au/</td>\n",
              "      <td>urn:li:company:2848</td>\n",
              "      <td>500.0</td>\n",
              "      <td>au</td>\n",
              "      <td>2008-07-01</td>\n",
              "      <td>1.0</td>\n",
              "      <td>506.0</td>\n",
              "      <td>male</td>\n",
              "      <td>NaN</td>\n",
              "      <td>0.0</td>\n",
              "      <td>Sydney Area, Australia</td>\n",
              "      <td>urn:li:fs_region:(au,4910)</td>\n",
              "      <td>Portfolio Executive at Commonwealth Bank</td>\n",
              "      <td>urn:li:member:10013136</td>\n",
              "      <td>NaN</td>\n",
              "      <td>NaN</td>\n",
              "      <td>Project Manager</td>\n",
              "      <td>240350.0</td>\n",
              "      <td>2007-02-01</td>\n",
              "      <td>760.5000</td>\n",
              "      <td>989.9361</td>\n",
              "    </tr>\n",
              "    <tr>\n",
              "      <th>4</th>\n",
              "      <td>4</td>\n",
              "      <td>30.0</td>\n",
              "      <td>300723.0</td>\n",
              "      <td>0f982557-a907-409e-af20-1feb0e0813cd-2.png</td>\n",
              "      <td>PayPal</td>\n",
              "      <td>22522.0</td>\n",
              "      <td>http://www.paypal.com</td>\n",
              "      <td>urn:li:company:1482</td>\n",
              "      <td>500.0</td>\n",
              "      <td>au</td>\n",
              "      <td>NaN</td>\n",
              "      <td>1.0</td>\n",
              "      <td>951.0</td>\n",
              "      <td>female</td>\n",
              "      <td>RTMZ0-46bTjK4V_MGFDG6i5g0yZmFp5oS0S9liWvpWg.jpg</td>\n",
              "      <td>0.0</td>\n",
              "      <td>Sydney Area, Australia</td>\n",
              "      <td>urn:li:fs_region:(au,4910)</td>\n",
              "      <td>Senior Marketing Manager, PayPal</td>\n",
              "      <td>urn:li:member:100186032</td>\n",
              "      <td>NaN</td>\n",
              "      <td>NaN</td>\n",
              "      <td>Senior Marketing Manager</td>\n",
              "      <td>229893.0</td>\n",
              "      <td>2017-01-01</td>\n",
              "      <td>395.2857</td>\n",
              "      <td>683.3496</td>\n",
              "    </tr>\n",
              "  </tbody>\n",
              "</table>\n",
              "</div>"
            ],
            "text/plain": [
              "   Unnamed: 0  ageEstimate  ...  avgMemberPosDuration avgCompanyPosDuration\n",
              "0           0         41.0  ...              760.5000              989.9361\n",
              "1           1         41.0  ...              760.5000              989.9361\n",
              "2           2         41.0  ...              760.5000              747.2308\n",
              "3           3         41.0  ...              760.5000              989.9361\n",
              "4           4         30.0  ...              395.2857              683.3496\n",
              "\n",
              "[5 rows x 27 columns]"
            ]
          },
          "metadata": {
            "tags": []
          },
          "execution_count": 5
        }
      ]
    },
    {
      "cell_type": "markdown",
      "metadata": {
        "id": "s5I3a9h9gzmM"
      },
      "source": [
        "### 1.3 tail()\n",
        "\n",
        "The ```tail()``` method prints the last 5 rows of our dataset."
      ]
    },
    {
      "cell_type": "code",
      "metadata": {
        "id": "WVD4aPJbHldP",
        "outputId": "2ffd36f2-9d1a-4845-a73f-096936f2f885",
        "colab": {
          "base_uri": "https://localhost:8080/",
          "height": 615
        }
      },
      "source": [
        "# INSERT CODE HERE\n",
        "linkedin_profiles.tail()"
      ],
      "execution_count": 6,
      "outputs": [
        {
          "output_type": "execute_result",
          "data": {
            "text/html": [
              "<div>\n",
              "<style scoped>\n",
              "    .dataframe tbody tr th:only-of-type {\n",
              "        vertical-align: middle;\n",
              "    }\n",
              "\n",
              "    .dataframe tbody tr th {\n",
              "        vertical-align: top;\n",
              "    }\n",
              "\n",
              "    .dataframe thead th {\n",
              "        text-align: right;\n",
              "    }\n",
              "</style>\n",
              "<table border=\"1\" class=\"dataframe\">\n",
              "  <thead>\n",
              "    <tr style=\"text-align: right;\">\n",
              "      <th></th>\n",
              "      <th>Unnamed: 0</th>\n",
              "      <th>ageEstimate</th>\n",
              "      <th>companyFollowerCount</th>\n",
              "      <th>companyHasLogo</th>\n",
              "      <th>companyName</th>\n",
              "      <th>companyStaffCount</th>\n",
              "      <th>companyUrl</th>\n",
              "      <th>companyUrn</th>\n",
              "      <th>connectionsCount</th>\n",
              "      <th>country</th>\n",
              "      <th>endDate</th>\n",
              "      <th>followable</th>\n",
              "      <th>followersCount</th>\n",
              "      <th>genderEstimate</th>\n",
              "      <th>hasPicture</th>\n",
              "      <th>isPremium</th>\n",
              "      <th>mbrLocation</th>\n",
              "      <th>mbrLocationCode</th>\n",
              "      <th>mbrTitle</th>\n",
              "      <th>memberUrn</th>\n",
              "      <th>posLocation</th>\n",
              "      <th>posLocationCode</th>\n",
              "      <th>posTitle</th>\n",
              "      <th>positionId</th>\n",
              "      <th>startDate</th>\n",
              "      <th>avgMemberPosDuration</th>\n",
              "      <th>avgCompanyPosDuration</th>\n",
              "    </tr>\n",
              "  </thead>\n",
              "  <tbody>\n",
              "    <tr>\n",
              "      <th>39532</th>\n",
              "      <td>39532</td>\n",
              "      <td>46.0</td>\n",
              "      <td>151686.0</td>\n",
              "      <td>71b7f012-183c-43c8-a9af-b39a1b9a89a0-2.png</td>\n",
              "      <td>National Australia Bank</td>\n",
              "      <td>27944.0</td>\n",
              "      <td>http://www.nab.com.au</td>\n",
              "      <td>urn:li:company:2357</td>\n",
              "      <td>362.0</td>\n",
              "      <td>au</td>\n",
              "      <td>2009-04-01</td>\n",
              "      <td>1.0</td>\n",
              "      <td>363.0</td>\n",
              "      <td>male</td>\n",
              "      <td>p_4_000_171_2aa_07c7660.jpg</td>\n",
              "      <td>0.0</td>\n",
              "      <td>Melbourne Area, Australia</td>\n",
              "      <td>urn:li:fs_region:(au,4900)</td>\n",
              "      <td>Head Of (Distributed) Credit, Vic/Tas at Natio...</td>\n",
              "      <td>urn:li:member:9985941</td>\n",
              "      <td>St Kilda Rd Melbourne Business Banking Centre</td>\n",
              "      <td>NaN</td>\n",
              "      <td>Senior Partner</td>\n",
              "      <td>191517.0</td>\n",
              "      <td>2006-08-01</td>\n",
              "      <td>1912.0</td>\n",
              "      <td>941.0968</td>\n",
              "    </tr>\n",
              "    <tr>\n",
              "      <th>39533</th>\n",
              "      <td>39533</td>\n",
              "      <td>46.0</td>\n",
              "      <td>151686.0</td>\n",
              "      <td>71b7f012-183c-43c8-a9af-b39a1b9a89a0-2.png</td>\n",
              "      <td>National Australia Bank</td>\n",
              "      <td>27944.0</td>\n",
              "      <td>http://www.nab.com.au</td>\n",
              "      <td>urn:li:company:2357</td>\n",
              "      <td>362.0</td>\n",
              "      <td>au</td>\n",
              "      <td>2007-05-01</td>\n",
              "      <td>1.0</td>\n",
              "      <td>363.0</td>\n",
              "      <td>male</td>\n",
              "      <td>p_4_000_171_2aa_07c7660.jpg</td>\n",
              "      <td>0.0</td>\n",
              "      <td>Melbourne Area, Australia</td>\n",
              "      <td>urn:li:fs_region:(au,4900)</td>\n",
              "      <td>Head Of (Distributed) Credit, Vic/Tas at Natio...</td>\n",
              "      <td>urn:li:member:9985941</td>\n",
              "      <td>St Kilda Rd Melbourne Business Banking Centre</td>\n",
              "      <td>NaN</td>\n",
              "      <td>Senior Business Banking Manager / Partner 4</td>\n",
              "      <td>191518.0</td>\n",
              "      <td>2003-08-01</td>\n",
              "      <td>1912.0</td>\n",
              "      <td>941.0968</td>\n",
              "    </tr>\n",
              "    <tr>\n",
              "      <th>39534</th>\n",
              "      <td>39534</td>\n",
              "      <td>46.0</td>\n",
              "      <td>151686.0</td>\n",
              "      <td>71b7f012-183c-43c8-a9af-b39a1b9a89a0-2.png</td>\n",
              "      <td>National Australia Bank</td>\n",
              "      <td>27944.0</td>\n",
              "      <td>http://www.nab.com.au</td>\n",
              "      <td>urn:li:company:2357</td>\n",
              "      <td>362.0</td>\n",
              "      <td>au</td>\n",
              "      <td>2003-08-01</td>\n",
              "      <td>1.0</td>\n",
              "      <td>363.0</td>\n",
              "      <td>male</td>\n",
              "      <td>p_4_000_171_2aa_07c7660.jpg</td>\n",
              "      <td>0.0</td>\n",
              "      <td>Melbourne Area, Australia</td>\n",
              "      <td>urn:li:fs_region:(au,4900)</td>\n",
              "      <td>Head Of (Distributed) Credit, Vic/Tas at Natio...</td>\n",
              "      <td>urn:li:member:9985941</td>\n",
              "      <td>St Kilda Rd Melbourne &amp; Bourke and Russell St ...</td>\n",
              "      <td>NaN</td>\n",
              "      <td>Business Banking Manager / Partner 3</td>\n",
              "      <td>191519.0</td>\n",
              "      <td>2000-06-01</td>\n",
              "      <td>1912.0</td>\n",
              "      <td>941.0968</td>\n",
              "    </tr>\n",
              "    <tr>\n",
              "      <th>39535</th>\n",
              "      <td>39535</td>\n",
              "      <td>46.0</td>\n",
              "      <td>151686.0</td>\n",
              "      <td>71b7f012-183c-43c8-a9af-b39a1b9a89a0-2.png</td>\n",
              "      <td>National Australia Bank</td>\n",
              "      <td>27944.0</td>\n",
              "      <td>http://www.nab.com.au</td>\n",
              "      <td>urn:li:company:2357</td>\n",
              "      <td>362.0</td>\n",
              "      <td>au</td>\n",
              "      <td>2000-06-01</td>\n",
              "      <td>1.0</td>\n",
              "      <td>363.0</td>\n",
              "      <td>male</td>\n",
              "      <td>p_4_000_171_2aa_07c7660.jpg</td>\n",
              "      <td>0.0</td>\n",
              "      <td>Melbourne Area, Australia</td>\n",
              "      <td>urn:li:fs_region:(au,4900)</td>\n",
              "      <td>Head Of (Distributed) Credit, Vic/Tas at Natio...</td>\n",
              "      <td>urn:li:member:9985941</td>\n",
              "      <td>Melbourne Office Business Banking Centre</td>\n",
              "      <td>NaN</td>\n",
              "      <td>Business Banking Officer</td>\n",
              "      <td>191520.0</td>\n",
              "      <td>1995-11-01</td>\n",
              "      <td>1912.0</td>\n",
              "      <td>941.0968</td>\n",
              "    </tr>\n",
              "    <tr>\n",
              "      <th>39536</th>\n",
              "      <td>39536</td>\n",
              "      <td>46.0</td>\n",
              "      <td>151686.0</td>\n",
              "      <td>71b7f012-183c-43c8-a9af-b39a1b9a89a0-2.png</td>\n",
              "      <td>National Australia Bank</td>\n",
              "      <td>27944.0</td>\n",
              "      <td>http://www.nab.com.au</td>\n",
              "      <td>urn:li:company:2357</td>\n",
              "      <td>362.0</td>\n",
              "      <td>au</td>\n",
              "      <td>2000-06-01</td>\n",
              "      <td>1.0</td>\n",
              "      <td>363.0</td>\n",
              "      <td>male</td>\n",
              "      <td>p_4_000_171_2aa_07c7660.jpg</td>\n",
              "      <td>0.0</td>\n",
              "      <td>Melbourne Area, Australia</td>\n",
              "      <td>urn:li:fs_region:(au,4900)</td>\n",
              "      <td>Head Of (Distributed) Credit, Vic/Tas at Natio...</td>\n",
              "      <td>urn:li:member:9985941</td>\n",
              "      <td>271 Collins St Melbourne</td>\n",
              "      <td>NaN</td>\n",
              "      <td>Various customer service roles including inter...</td>\n",
              "      <td>191521.0</td>\n",
              "      <td>1989-02-01</td>\n",
              "      <td>1912.0</td>\n",
              "      <td>941.0968</td>\n",
              "    </tr>\n",
              "  </tbody>\n",
              "</table>\n",
              "</div>"
            ],
            "text/plain": [
              "       Unnamed: 0  ageEstimate  ...  avgMemberPosDuration avgCompanyPosDuration\n",
              "39532       39532         46.0  ...                1912.0              941.0968\n",
              "39533       39533         46.0  ...                1912.0              941.0968\n",
              "39534       39534         46.0  ...                1912.0              941.0968\n",
              "39535       39535         46.0  ...                1912.0              941.0968\n",
              "39536       39536         46.0  ...                1912.0              941.0968\n",
              "\n",
              "[5 rows x 27 columns]"
            ]
          },
          "metadata": {
            "tags": []
          },
          "execution_count": 6
        }
      ]
    },
    {
      "cell_type": "markdown",
      "metadata": {
        "id": "FFqqKsABeT7y"
      },
      "source": [
        "### 1.4 info()\n",
        "This will return all of the column names and its types. This function is useful to get the idea of what the dataframe is like.\n"
      ]
    },
    {
      "cell_type": "code",
      "metadata": {
        "id": "wxqUmTFdfkCi",
        "outputId": "66c9141e-ac10-4970-fa7f-5d56d4bac25d",
        "colab": {
          "base_uri": "https://localhost:8080/",
          "height": 595
        }
      },
      "source": [
        "# INSERT CODE HERE\n",
        "linkedin_profiles.info()"
      ],
      "execution_count": 7,
      "outputs": [
        {
          "output_type": "stream",
          "text": [
            "<class 'pandas.core.frame.DataFrame'>\n",
            "RangeIndex: 39537 entries, 0 to 39536\n",
            "Data columns (total 27 columns):\n",
            " #   Column                 Non-Null Count  Dtype  \n",
            "---  ------                 --------------  -----  \n",
            " 0   Unnamed: 0             39537 non-null  int64  \n",
            " 1   ageEstimate            39537 non-null  float64\n",
            " 2   companyFollowerCount   38071 non-null  float64\n",
            " 3   companyHasLogo         36407 non-null  object \n",
            " 4   companyName            39535 non-null  object \n",
            " 5   companyStaffCount      38401 non-null  float64\n",
            " 6   companyUrl             37449 non-null  object \n",
            " 7   companyUrn             39537 non-null  object \n",
            " 8   connectionsCount       39537 non-null  float64\n",
            " 9   country                39537 non-null  object \n",
            " 10  endDate                30626 non-null  object \n",
            " 11  followable             39537 non-null  float64\n",
            " 12  followersCount         39537 non-null  float64\n",
            " 13  genderEstimate         35567 non-null  object \n",
            " 14  hasPicture             29601 non-null  object \n",
            " 15  isPremium              39537 non-null  float64\n",
            " 16  mbrLocation            39537 non-null  object \n",
            " 17  mbrLocationCode        39389 non-null  object \n",
            " 18  mbrTitle               39537 non-null  object \n",
            " 19  memberUrn              39537 non-null  object \n",
            " 20  posLocation            28411 non-null  object \n",
            " 21  posLocationCode        16967 non-null  object \n",
            " 22  posTitle               39537 non-null  object \n",
            " 23  positionId             39537 non-null  float64\n",
            " 24  startDate              39521 non-null  object \n",
            " 25  avgMemberPosDuration   39312 non-null  float64\n",
            " 26  avgCompanyPosDuration  38686 non-null  float64\n",
            "dtypes: float64(10), int64(1), object(16)\n",
            "memory usage: 8.1+ MB\n"
          ],
          "name": "stdout"
        }
      ]
    },
    {
      "cell_type": "markdown",
      "metadata": {
        "id": "Ilf3rsfmBiLw"
      },
      "source": [
        "### Observations:\n",
        "\n",
        "#### Question:\n",
        "List down the number of unique ```Dtype``` in this dataset\n",
        "#### Answer: \n",
        "\n",
        "#### Question:\n",
        "Is the dataset uneven? If so list down the column with the most missing rows? (ie the most NULL rows)\n",
        "#### Answer:"
      ]
    },
    {
      "cell_type": "markdown",
      "metadata": {
        "id": "IhviGetnfp9B"
      },
      "source": [
        "### 1.5 describe()\n",
        "describe() is used to view summary statistics of numeric columns. This will help you to have general idea of the dataset."
      ]
    },
    {
      "cell_type": "code",
      "metadata": {
        "id": "DuDPOCZ9frBI",
        "outputId": "da2329a5-bdd0-4e0c-cb45-44ae79f836e8",
        "colab": {
          "base_uri": "https://localhost:8080/",
          "height": 297
        }
      },
      "source": [
        "\"\"\"\n",
        "linkedin_profiles.________() # Insert code here\n",
        "\"\"\"\n",
        "linkedin_profiles.describe() # Insert code here"
      ],
      "execution_count": 46,
      "outputs": [
        {
          "output_type": "execute_result",
          "data": {
            "text/html": [
              "<div>\n",
              "<style scoped>\n",
              "    .dataframe tbody tr th:only-of-type {\n",
              "        vertical-align: middle;\n",
              "    }\n",
              "\n",
              "    .dataframe tbody tr th {\n",
              "        vertical-align: top;\n",
              "    }\n",
              "\n",
              "    .dataframe thead th {\n",
              "        text-align: right;\n",
              "    }\n",
              "</style>\n",
              "<table border=\"1\" class=\"dataframe\">\n",
              "  <thead>\n",
              "    <tr style=\"text-align: right;\">\n",
              "      <th></th>\n",
              "      <th>Unnamed: 0</th>\n",
              "      <th>ageEstimate</th>\n",
              "      <th>companyFollowerCount</th>\n",
              "      <th>companyStaffCount</th>\n",
              "      <th>connectionsCount</th>\n",
              "      <th>followable</th>\n",
              "      <th>followersCount</th>\n",
              "      <th>isPremium</th>\n",
              "      <th>positionId</th>\n",
              "      <th>avgMemberPosDuration</th>\n",
              "      <th>avgCompanyPosDuration</th>\n",
              "    </tr>\n",
              "  </thead>\n",
              "  <tbody>\n",
              "    <tr>\n",
              "      <th>count</th>\n",
              "      <td>39537.000000</td>\n",
              "      <td>39537.000000</td>\n",
              "      <td>3.807100e+04</td>\n",
              "      <td>38401.000000</td>\n",
              "      <td>39537.000000</td>\n",
              "      <td>39537.000000</td>\n",
              "      <td>39537.000000</td>\n",
              "      <td>39537.000000</td>\n",
              "      <td>3.953700e+04</td>\n",
              "      <td>39312.000000</td>\n",
              "      <td>38686.000000</td>\n",
              "    </tr>\n",
              "    <tr>\n",
              "      <th>mean</th>\n",
              "      <td>19768.000000</td>\n",
              "      <td>38.434251</td>\n",
              "      <td>2.141731e+05</td>\n",
              "      <td>20451.816177</td>\n",
              "      <td>424.573159</td>\n",
              "      <td>0.950199</td>\n",
              "      <td>1203.336925</td>\n",
              "      <td>0.130359</td>\n",
              "      <td>2.987947e+06</td>\n",
              "      <td>875.186984</td>\n",
              "      <td>888.257529</td>\n",
              "    </tr>\n",
              "    <tr>\n",
              "      <th>std</th>\n",
              "      <td>11413.493133</td>\n",
              "      <td>9.626035</td>\n",
              "      <td>6.942288e+05</td>\n",
              "      <td>67548.466022</td>\n",
              "      <td>123.317422</td>\n",
              "      <td>0.217537</td>\n",
              "      <td>2976.006298</td>\n",
              "      <td>0.336702</td>\n",
              "      <td>9.043136e+06</td>\n",
              "      <td>639.812201</td>\n",
              "      <td>331.099677</td>\n",
              "    </tr>\n",
              "    <tr>\n",
              "      <th>min</th>\n",
              "      <td>0.000000</td>\n",
              "      <td>20.000000</td>\n",
              "      <td>0.000000e+00</td>\n",
              "      <td>0.000000</td>\n",
              "      <td>0.000000</td>\n",
              "      <td>0.000000</td>\n",
              "      <td>0.000000</td>\n",
              "      <td>0.000000</td>\n",
              "      <td>2.200000e+01</td>\n",
              "      <td>0.000000</td>\n",
              "      <td>-91.000000</td>\n",
              "    </tr>\n",
              "    <tr>\n",
              "      <th>25%</th>\n",
              "      <td>9884.000000</td>\n",
              "      <td>31.000000</td>\n",
              "      <td>1.490000e+03</td>\n",
              "      <td>97.000000</td>\n",
              "      <td>371.000000</td>\n",
              "      <td>1.000000</td>\n",
              "      <td>353.000000</td>\n",
              "      <td>0.000000</td>\n",
              "      <td>1.732730e+05</td>\n",
              "      <td>502.125000</td>\n",
              "      <td>724.861300</td>\n",
              "    </tr>\n",
              "    <tr>\n",
              "      <th>50%</th>\n",
              "      <td>19768.000000</td>\n",
              "      <td>38.000000</td>\n",
              "      <td>1.433100e+04</td>\n",
              "      <td>1270.000000</td>\n",
              "      <td>500.000000</td>\n",
              "      <td>1.000000</td>\n",
              "      <td>654.000000</td>\n",
              "      <td>0.000000</td>\n",
              "      <td>2.457850e+05</td>\n",
              "      <td>730.600000</td>\n",
              "      <td>897.069100</td>\n",
              "    </tr>\n",
              "    <tr>\n",
              "      <th>75%</th>\n",
              "      <td>29652.000000</td>\n",
              "      <td>45.000000</td>\n",
              "      <td>1.263610e+05</td>\n",
              "      <td>9808.000000</td>\n",
              "      <td>500.000000</td>\n",
              "      <td>1.000000</td>\n",
              "      <td>1191.000000</td>\n",
              "      <td>0.000000</td>\n",
              "      <td>3.008140e+05</td>\n",
              "      <td>1068.919650</td>\n",
              "      <td>1039.168300</td>\n",
              "    </tr>\n",
              "    <tr>\n",
              "      <th>max</th>\n",
              "      <td>39536.000000</td>\n",
              "      <td>86.000000</td>\n",
              "      <td>7.502740e+06</td>\n",
              "      <td>568533.000000</td>\n",
              "      <td>500.000000</td>\n",
              "      <td>1.000000</td>\n",
              "      <td>161922.000000</td>\n",
              "      <td>1.000000</td>\n",
              "      <td>3.845443e+07</td>\n",
              "      <td>15492.500000</td>\n",
              "      <td>9497.000000</td>\n",
              "    </tr>\n",
              "  </tbody>\n",
              "</table>\n",
              "</div>"
            ],
            "text/plain": [
              "         Unnamed: 0   ageEstimate  ...  avgMemberPosDuration  avgCompanyPosDuration\n",
              "count  39537.000000  39537.000000  ...          39312.000000           38686.000000\n",
              "mean   19768.000000     38.434251  ...            875.186984             888.257529\n",
              "std    11413.493133      9.626035  ...            639.812201             331.099677\n",
              "min        0.000000     20.000000  ...              0.000000             -91.000000\n",
              "25%     9884.000000     31.000000  ...            502.125000             724.861300\n",
              "50%    19768.000000     38.000000  ...            730.600000             897.069100\n",
              "75%    29652.000000     45.000000  ...           1068.919650            1039.168300\n",
              "max    39536.000000     86.000000  ...          15492.500000            9497.000000\n",
              "\n",
              "[8 rows x 11 columns]"
            ]
          },
          "metadata": {
            "tags": []
          },
          "execution_count": 46
        }
      ]
    },
    {
      "cell_type": "markdown",
      "metadata": {
        "id": "oEEj1jeGAlhU"
      },
      "source": [
        "### Observations:\n",
        "\n",
        "#### Question:\n",
        "Why is ```describe``` showing only 11 columns? Is it because of their types e.g(int,float,object)**?\n",
        "#### Answer: \n",
        "\n",
        "#### Question:\n",
        "Notice the statistics for `count`, `mean`, `std`, `min`, etc. What could be reason for the `count` value not being the same across all columns?\n",
        "#### Answer:\n",
        "\n",
        "#### Question:\n",
        "Are the mean, standard deviation,..., max. important for all of the columns? Which ones might these values not be relevant for?\n",
        "#### Answer:\n"
      ]
    },
    {
      "cell_type": "markdown",
      "metadata": {
        "id": "nwuNo5o2fzGe"
      },
      "source": [
        "#### shape\n",
        "To see the size of the dataset, we can use shape function, which returns the number of rows and columns in a format of (#rows, #columns)"
      ]
    },
    {
      "cell_type": "code",
      "metadata": {
        "id": "fIhERH7KHldk",
        "outputId": "95038617-a851-444f-adf5-ad7d0a0c62f4",
        "colab": {
          "base_uri": "https://localhost:8080/",
          "height": 34
        }
      },
      "source": [
        "linkedin_profiles.shape"
      ],
      "execution_count": 47,
      "outputs": [
        {
          "output_type": "execute_result",
          "data": {
            "text/plain": [
              "(39537, 27)"
            ]
          },
          "metadata": {
            "tags": []
          },
          "execution_count": 47
        }
      ]
    },
    {
      "cell_type": "markdown",
      "metadata": {
        "id": "aOi3ah9yDI-T"
      },
      "source": [
        "### Observations:\n",
        "\n",
        "#### Question:\n",
        "How many **rows** and **columns** are there?\n",
        "#### Answer:"
      ]
    },
    {
      "cell_type": "markdown",
      "metadata": {
        "id": "AeidaHn6Hldo"
      },
      "source": [
        "### 1.6 Important Facts About the Dataset"
      ]
    },
    {
      "cell_type": "markdown",
      "metadata": {
        "id": "XIFbkyfIDinJ"
      },
      "source": [
        "The next thing we want to do is count the number of job positions that are still active. We'll know this by observing the ```endDate``` This is simple, all we have to do is run two functions:\n",
        "- The first one will be to check if the column has null values, ```isnull()```.\n",
        "- The second one will be count the number of null values in the column, ```sum()```."
      ]
    },
    {
      "cell_type": "code",
      "metadata": {
        "id": "lKl32c6JHldo",
        "outputId": "0b07f46c-3038-4584-a086-c02acb659244",
        "colab": {
          "base_uri": "https://localhost:8080/",
          "height": 34
        }
      },
      "source": [
        "\"\"\"\n",
        "active_jobs = linkedin_profiles['endDate'].______().___()   # Insert Code Here\n",
        "print(f'The total number of active jobs is:  {active_jobs}')\n",
        "\"\"\"\n",
        "active_jobs = linkedin_profiles['endDate'].isnull().sum()   # Insert Code Here\n",
        "print(f'The total number of active jobs is:  {active_jobs}')"
      ],
      "execution_count": 48,
      "outputs": [
        {
          "output_type": "stream",
          "text": [
            "The total number of active jobs is:  8911\n"
          ],
          "name": "stdout"
        }
      ]
    },
    {
      "cell_type": "markdown",
      "metadata": {
        "id": "2JPDPjr-EI60"
      },
      "source": [
        "\n",
        "**What about the total number of completed job positions?** </br>\n",
        "The completed jobs are those that have a valid date in the `endDate` column. This means that these values are not NULL, which we can check by calling the `notnull()` method.\n",
        "In the following line of code, we will have to ```sum``` the total number of completed jobs in every column."
      ]
    },
    {
      "cell_type": "code",
      "metadata": {
        "id": "v_Gai5XEHlds",
        "scrolled": true,
        "outputId": "59dfc042-87d0-4905-d053-f4949e7a0171",
        "colab": {
          "base_uri": "https://localhost:8080/",
          "height": 34
        }
      },
      "source": [
        "\"\"\"\n",
        "number_of_completed_jobs = linkedin_profiles['endDate']._______().___()    # Insert code here\n",
        "print(f'The total number of completed jobs are: {number_of_completed_jobs}')\n",
        "\"\"\"\n",
        "number_of_completed_jobs = linkedin_profiles['endDate'].notnull().sum()    # Insert code here\n",
        "print(f'The total number of completed jobs are: {number_of_completed_jobs}')"
      ],
      "execution_count": 49,
      "outputs": [
        {
          "output_type": "stream",
          "text": [
            "The total number of completed jobs are: 30626\n"
          ],
          "name": "stdout"
        }
      ]
    },
    {
      "cell_type": "markdown",
      "metadata": {
        "id": "bYuDgHKIHldv"
      },
      "source": [
        "This dataset has 39537 job positions. This means that according to this dataset: "
      ]
    },
    {
      "cell_type": "code",
      "metadata": {
        "id": "xyymyjbgEduN",
        "outputId": "ad7d1589-0b5b-4856-dece-11f07c2ea28e",
        "colab": {
          "base_uri": "https://localhost:8080/",
          "height": 34
        }
      },
      "source": [
        "possible_active_jobs = 39537 - number_of_completed_jobs \n",
        "possible_active_jobs "
      ],
      "execution_count": 50,
      "outputs": [
        {
          "output_type": "execute_result",
          "data": {
            "text/plain": [
              "8911"
            ]
          },
          "metadata": {
            "tags": []
          },
          "execution_count": 50
        }
      ]
    },
    {
      "cell_type": "markdown",
      "metadata": {
        "id": "Z6uls4tQaAix"
      },
      "source": [
        "Notice that this is the same value that we found by using `isnull()` to find the number of active jobs earlier."
      ]
    },
    {
      "cell_type": "markdown",
      "metadata": {
        "id": "heW7wau-Hldv"
      },
      "source": [
        "### Visualize the Number of Registered Profiles for each Company"
      ]
    },
    {
      "cell_type": "code",
      "metadata": {
        "id": "w6jM7tXrHldw"
      },
      "source": [
        "import matplotlib.pyplot as plt"
      ],
      "execution_count": 23,
      "outputs": []
    },
    {
      "cell_type": "code",
      "metadata": {
        "id": "RZf2AqqGXhop",
        "outputId": "061a9498-0827-4cf4-aad9-46573c3832ad",
        "colab": {
          "base_uri": "https://localhost:8080/",
          "height": 1000
        }
      },
      "source": [
        "# NOTE: This is a difficult section; may be moved to the end of the Lab\n",
        "# Helper function to find invalid characters in the name\n",
        "def is_ascii(s):\n",
        "    try:\n",
        "      return all(ord(c) < 128 for c in s)\n",
        "    except:\n",
        "      return False\n",
        "\n",
        "names = set()\n",
        "count = 0\n",
        "\n",
        "# Filter out invalid Company Names\n",
        "for company in linkedin_profiles['companyName']:\n",
        "  valid = is_ascii(company)\n",
        "  if valid:\n",
        "    names.add(company)\n",
        "\n",
        "# Create a temporary dataset\n",
        "temp_dataset = linkedin_profiles.copy()\n",
        "\n",
        "# Remove the rows with invalid company names\n",
        "temp_dataset = temp_dataset[~temp_dataset['companyName'].isin(names)]\n",
        "\n",
        "# Graph the data\n",
        "# TODO: Only graph the top 10, design the x-axis to be more readable\n",
        "temp_dataset['companyName'].hist(color = 'red', figsize=(30, 20))\n"
      ],
      "execution_count": 24,
      "outputs": [
        {
          "output_type": "execute_result",
          "data": {
            "text/plain": [
              "<matplotlib.axes._subplots.AxesSubplot at 0x7f6d62998c88>"
            ]
          },
          "metadata": {
            "tags": []
          },
          "execution_count": 24
        },
        {
          "output_type": "stream",
          "text": [
            "/usr/local/lib/python3.6/dist-packages/matplotlib/backends/backend_agg.py:214: RuntimeWarning: Glyph 135 missing from current font.\n",
            "  font.set_text(s, 0.0, flags=flags)\n",
            "/usr/local/lib/python3.6/dist-packages/matplotlib/backends/backend_agg.py:214: RuntimeWarning: Glyph 140 missing from current font.\n",
            "  font.set_text(s, 0.0, flags=flags)\n",
            "/usr/local/lib/python3.6/dist-packages/matplotlib/backends/backend_agg.py:214: RuntimeWarning: Glyph 128 missing from current font.\n",
            "  font.set_text(s, 0.0, flags=flags)\n",
            "/usr/local/lib/python3.6/dist-packages/matplotlib/backends/backend_agg.py:214: RuntimeWarning: Glyph 139 missing from current font.\n",
            "  font.set_text(s, 0.0, flags=flags)\n",
            "/usr/local/lib/python3.6/dist-packages/matplotlib/backends/backend_agg.py:214: RuntimeWarning: Glyph 24800 missing from current font.\n",
            "  font.set_text(s, 0.0, flags=flags)\n",
            "/usr/local/lib/python3.6/dist-packages/matplotlib/backends/backend_agg.py:214: RuntimeWarning: Glyph 29702 missing from current font.\n",
            "  font.set_text(s, 0.0, flags=flags)\n",
            "/usr/local/lib/python3.6/dist-packages/matplotlib/backends/backend_agg.py:214: RuntimeWarning: Glyph 38598 missing from current font.\n",
            "  font.set_text(s, 0.0, flags=flags)\n",
            "/usr/local/lib/python3.6/dist-packages/matplotlib/backends/backend_agg.py:214: RuntimeWarning: Glyph 22296 missing from current font.\n",
            "  font.set_text(s, 0.0, flags=flags)\n",
            "/usr/local/lib/python3.6/dist-packages/matplotlib/backends/backend_agg.py:214: RuntimeWarning: Glyph 133 missing from current font.\n",
            "  font.set_text(s, 0.0, flags=flags)\n",
            "/usr/local/lib/python3.6/dist-packages/matplotlib/backends/backend_agg.py:214: RuntimeWarning: Glyph 136 missing from current font.\n",
            "  font.set_text(s, 0.0, flags=flags)\n",
            "/usr/local/lib/python3.6/dist-packages/matplotlib/backends/backend_agg.py:214: RuntimeWarning: Glyph 134 missing from current font.\n",
            "  font.set_text(s, 0.0, flags=flags)\n",
            "/usr/local/lib/python3.6/dist-packages/matplotlib/backends/backend_agg.py:214: RuntimeWarning: Glyph 152 missing from current font.\n",
            "  font.set_text(s, 0.0, flags=flags)\n",
            "/usr/local/lib/python3.6/dist-packages/matplotlib/backends/backend_agg.py:214: RuntimeWarning: Glyph 129 missing from current font.\n",
            "  font.set_text(s, 0.0, flags=flags)\n",
            "/usr/local/lib/python3.6/dist-packages/matplotlib/backends/backend_agg.py:214: RuntimeWarning: Glyph 147 missing from current font.\n",
            "  font.set_text(s, 0.0, flags=flags)\n",
            "/usr/local/lib/python3.6/dist-packages/matplotlib/backends/backend_agg.py:214: RuntimeWarning: Glyph 153 missing from current font.\n",
            "  font.set_text(s, 0.0, flags=flags)\n",
            "/usr/local/lib/python3.6/dist-packages/matplotlib/backends/backend_agg.py:214: RuntimeWarning: Glyph 154 missing from current font.\n",
            "  font.set_text(s, 0.0, flags=flags)\n",
            "/usr/local/lib/python3.6/dist-packages/matplotlib/backends/backend_agg.py:214: RuntimeWarning: Glyph 159 missing from current font.\n",
            "  font.set_text(s, 0.0, flags=flags)\n",
            "/usr/local/lib/python3.6/dist-packages/matplotlib/backends/backend_agg.py:214: RuntimeWarning: Glyph 158 missing from current font.\n",
            "  font.set_text(s, 0.0, flags=flags)\n",
            "/usr/local/lib/python3.6/dist-packages/matplotlib/backends/backend_agg.py:214: RuntimeWarning: Glyph 146 missing from current font.\n",
            "  font.set_text(s, 0.0, flags=flags)\n",
            "/usr/local/lib/python3.6/dist-packages/matplotlib/backends/backend_agg.py:214: RuntimeWarning: Glyph 150 missing from current font.\n",
            "  font.set_text(s, 0.0, flags=flags)\n",
            "/usr/local/lib/python3.6/dist-packages/matplotlib/backends/backend_agg.py:214: RuntimeWarning: Glyph 156 missing from current font.\n",
            "  font.set_text(s, 0.0, flags=flags)\n",
            "/usr/local/lib/python3.6/dist-packages/matplotlib/backends/backend_agg.py:214: RuntimeWarning: Glyph 137 missing from current font.\n",
            "  font.set_text(s, 0.0, flags=flags)\n",
            "/usr/local/lib/python3.6/dist-packages/matplotlib/backends/backend_agg.py:214: RuntimeWarning: Glyph 132 missing from current font.\n",
            "  font.set_text(s, 0.0, flags=flags)\n",
            "/usr/local/lib/python3.6/dist-packages/matplotlib/backends/backend_agg.py:214: RuntimeWarning: Glyph 157 missing from current font.\n",
            "  font.set_text(s, 0.0, flags=flags)\n",
            "/usr/local/lib/python3.6/dist-packages/matplotlib/backends/backend_agg.py:214: RuntimeWarning: Glyph 39321 missing from current font.\n",
            "  font.set_text(s, 0.0, flags=flags)\n",
            "/usr/local/lib/python3.6/dist-packages/matplotlib/backends/backend_agg.py:214: RuntimeWarning: Glyph 28207 missing from current font.\n",
            "  font.set_text(s, 0.0, flags=flags)\n",
            "/usr/local/lib/python3.6/dist-packages/matplotlib/backends/backend_agg.py:214: RuntimeWarning: Glyph 37941 missing from current font.\n",
            "  font.set_text(s, 0.0, flags=flags)\n",
            "/usr/local/lib/python3.6/dist-packages/matplotlib/backends/backend_agg.py:214: RuntimeWarning: Glyph 36335 missing from current font.\n",
            "  font.set_text(s, 0.0, flags=flags)\n",
            "/usr/local/lib/python3.6/dist-packages/matplotlib/backends/backend_agg.py:214: RuntimeWarning: Glyph 26377 missing from current font.\n",
            "  font.set_text(s, 0.0, flags=flags)\n",
            "/usr/local/lib/python3.6/dist-packages/matplotlib/backends/backend_agg.py:214: RuntimeWarning: Glyph 38480 missing from current font.\n",
            "  font.set_text(s, 0.0, flags=flags)\n",
            "/usr/local/lib/python3.6/dist-packages/matplotlib/backends/backend_agg.py:214: RuntimeWarning: Glyph 20844 missing from current font.\n",
            "  font.set_text(s, 0.0, flags=flags)\n",
            "/usr/local/lib/python3.6/dist-packages/matplotlib/backends/backend_agg.py:214: RuntimeWarning: Glyph 21496 missing from current font.\n",
            "  font.set_text(s, 0.0, flags=flags)\n",
            "/usr/local/lib/python3.6/dist-packages/matplotlib/backends/backend_agg.py:214: RuntimeWarning: Glyph 28216 missing from current font.\n",
            "  font.set_text(s, 0.0, flags=flags)\n",
            "/usr/local/lib/python3.6/dist-packages/matplotlib/backends/backend_agg.py:214: RuntimeWarning: Glyph 25103 missing from current font.\n",
            "  font.set_text(s, 0.0, flags=flags)\n",
            "/usr/local/lib/python3.6/dist-packages/matplotlib/backends/backend_agg.py:214: RuntimeWarning: Glyph 33150 missing from current font.\n",
            "  font.set_text(s, 0.0, flags=flags)\n",
            "/usr/local/lib/python3.6/dist-packages/matplotlib/backends/backend_agg.py:214: RuntimeWarning: Glyph 36798 missing from current font.\n",
            "  font.set_text(s, 0.0, flags=flags)\n",
            "/usr/local/lib/python3.6/dist-packages/matplotlib/backends/backend_agg.py:214: RuntimeWarning: Glyph 25991 missing from current font.\n",
            "  font.set_text(s, 0.0, flags=flags)\n",
            "/usr/local/lib/python3.6/dist-packages/matplotlib/backends/backend_agg.py:214: RuntimeWarning: Glyph 21270 missing from current font.\n",
            "  font.set_text(s, 0.0, flags=flags)\n",
            "/usr/local/lib/python3.6/dist-packages/matplotlib/backends/backend_agg.py:183: RuntimeWarning: Glyph 135 missing from current font.\n",
            "  font.set_text(s, 0, flags=flags)\n",
            "/usr/local/lib/python3.6/dist-packages/matplotlib/backends/backend_agg.py:183: RuntimeWarning: Glyph 140 missing from current font.\n",
            "  font.set_text(s, 0, flags=flags)\n",
            "/usr/local/lib/python3.6/dist-packages/matplotlib/backends/backend_agg.py:183: RuntimeWarning: Glyph 128 missing from current font.\n",
            "  font.set_text(s, 0, flags=flags)\n",
            "/usr/local/lib/python3.6/dist-packages/matplotlib/backends/backend_agg.py:183: RuntimeWarning: Glyph 139 missing from current font.\n",
            "  font.set_text(s, 0, flags=flags)\n",
            "/usr/local/lib/python3.6/dist-packages/matplotlib/backends/backend_agg.py:183: RuntimeWarning: Glyph 24800 missing from current font.\n",
            "  font.set_text(s, 0, flags=flags)\n",
            "/usr/local/lib/python3.6/dist-packages/matplotlib/backends/backend_agg.py:183: RuntimeWarning: Glyph 29702 missing from current font.\n",
            "  font.set_text(s, 0, flags=flags)\n",
            "/usr/local/lib/python3.6/dist-packages/matplotlib/backends/backend_agg.py:183: RuntimeWarning: Glyph 38598 missing from current font.\n",
            "  font.set_text(s, 0, flags=flags)\n",
            "/usr/local/lib/python3.6/dist-packages/matplotlib/backends/backend_agg.py:183: RuntimeWarning: Glyph 22296 missing from current font.\n",
            "  font.set_text(s, 0, flags=flags)\n",
            "/usr/local/lib/python3.6/dist-packages/matplotlib/backends/backend_agg.py:183: RuntimeWarning: Glyph 133 missing from current font.\n",
            "  font.set_text(s, 0, flags=flags)\n",
            "/usr/local/lib/python3.6/dist-packages/matplotlib/backends/backend_agg.py:183: RuntimeWarning: Glyph 136 missing from current font.\n",
            "  font.set_text(s, 0, flags=flags)\n",
            "/usr/local/lib/python3.6/dist-packages/matplotlib/backends/backend_agg.py:183: RuntimeWarning: Glyph 134 missing from current font.\n",
            "  font.set_text(s, 0, flags=flags)\n",
            "/usr/local/lib/python3.6/dist-packages/matplotlib/backends/backend_agg.py:183: RuntimeWarning: Glyph 152 missing from current font.\n",
            "  font.set_text(s, 0, flags=flags)\n",
            "/usr/local/lib/python3.6/dist-packages/matplotlib/backends/backend_agg.py:183: RuntimeWarning: Glyph 129 missing from current font.\n",
            "  font.set_text(s, 0, flags=flags)\n",
            "/usr/local/lib/python3.6/dist-packages/matplotlib/backends/backend_agg.py:183: RuntimeWarning: Glyph 147 missing from current font.\n",
            "  font.set_text(s, 0, flags=flags)\n",
            "/usr/local/lib/python3.6/dist-packages/matplotlib/backends/backend_agg.py:183: RuntimeWarning: Glyph 153 missing from current font.\n",
            "  font.set_text(s, 0, flags=flags)\n",
            "/usr/local/lib/python3.6/dist-packages/matplotlib/backends/backend_agg.py:183: RuntimeWarning: Glyph 154 missing from current font.\n",
            "  font.set_text(s, 0, flags=flags)\n",
            "/usr/local/lib/python3.6/dist-packages/matplotlib/backends/backend_agg.py:183: RuntimeWarning: Glyph 159 missing from current font.\n",
            "  font.set_text(s, 0, flags=flags)\n",
            "/usr/local/lib/python3.6/dist-packages/matplotlib/backends/backend_agg.py:183: RuntimeWarning: Glyph 158 missing from current font.\n",
            "  font.set_text(s, 0, flags=flags)\n",
            "/usr/local/lib/python3.6/dist-packages/matplotlib/backends/backend_agg.py:183: RuntimeWarning: Glyph 146 missing from current font.\n",
            "  font.set_text(s, 0, flags=flags)\n",
            "/usr/local/lib/python3.6/dist-packages/matplotlib/backends/backend_agg.py:183: RuntimeWarning: Glyph 150 missing from current font.\n",
            "  font.set_text(s, 0, flags=flags)\n",
            "/usr/local/lib/python3.6/dist-packages/matplotlib/backends/backend_agg.py:183: RuntimeWarning: Glyph 156 missing from current font.\n",
            "  font.set_text(s, 0, flags=flags)\n",
            "/usr/local/lib/python3.6/dist-packages/matplotlib/backends/backend_agg.py:183: RuntimeWarning: Glyph 137 missing from current font.\n",
            "  font.set_text(s, 0, flags=flags)\n",
            "/usr/local/lib/python3.6/dist-packages/matplotlib/backends/backend_agg.py:183: RuntimeWarning: Glyph 132 missing from current font.\n",
            "  font.set_text(s, 0, flags=flags)\n",
            "/usr/local/lib/python3.6/dist-packages/matplotlib/backends/backend_agg.py:183: RuntimeWarning: Glyph 157 missing from current font.\n",
            "  font.set_text(s, 0, flags=flags)\n",
            "/usr/local/lib/python3.6/dist-packages/matplotlib/backends/backend_agg.py:183: RuntimeWarning: Glyph 39321 missing from current font.\n",
            "  font.set_text(s, 0, flags=flags)\n",
            "/usr/local/lib/python3.6/dist-packages/matplotlib/backends/backend_agg.py:183: RuntimeWarning: Glyph 28207 missing from current font.\n",
            "  font.set_text(s, 0, flags=flags)\n",
            "/usr/local/lib/python3.6/dist-packages/matplotlib/backends/backend_agg.py:183: RuntimeWarning: Glyph 37941 missing from current font.\n",
            "  font.set_text(s, 0, flags=flags)\n",
            "/usr/local/lib/python3.6/dist-packages/matplotlib/backends/backend_agg.py:183: RuntimeWarning: Glyph 36335 missing from current font.\n",
            "  font.set_text(s, 0, flags=flags)\n",
            "/usr/local/lib/python3.6/dist-packages/matplotlib/backends/backend_agg.py:183: RuntimeWarning: Glyph 26377 missing from current font.\n",
            "  font.set_text(s, 0, flags=flags)\n",
            "/usr/local/lib/python3.6/dist-packages/matplotlib/backends/backend_agg.py:183: RuntimeWarning: Glyph 38480 missing from current font.\n",
            "  font.set_text(s, 0, flags=flags)\n",
            "/usr/local/lib/python3.6/dist-packages/matplotlib/backends/backend_agg.py:183: RuntimeWarning: Glyph 20844 missing from current font.\n",
            "  font.set_text(s, 0, flags=flags)\n",
            "/usr/local/lib/python3.6/dist-packages/matplotlib/backends/backend_agg.py:183: RuntimeWarning: Glyph 21496 missing from current font.\n",
            "  font.set_text(s, 0, flags=flags)\n",
            "/usr/local/lib/python3.6/dist-packages/matplotlib/backends/backend_agg.py:183: RuntimeWarning: Glyph 28216 missing from current font.\n",
            "  font.set_text(s, 0, flags=flags)\n",
            "/usr/local/lib/python3.6/dist-packages/matplotlib/backends/backend_agg.py:183: RuntimeWarning: Glyph 25103 missing from current font.\n",
            "  font.set_text(s, 0, flags=flags)\n",
            "/usr/local/lib/python3.6/dist-packages/matplotlib/backends/backend_agg.py:183: RuntimeWarning: Glyph 33150 missing from current font.\n",
            "  font.set_text(s, 0, flags=flags)\n",
            "/usr/local/lib/python3.6/dist-packages/matplotlib/backends/backend_agg.py:183: RuntimeWarning: Glyph 36798 missing from current font.\n",
            "  font.set_text(s, 0, flags=flags)\n",
            "/usr/local/lib/python3.6/dist-packages/matplotlib/backends/backend_agg.py:183: RuntimeWarning: Glyph 25991 missing from current font.\n",
            "  font.set_text(s, 0, flags=flags)\n",
            "/usr/local/lib/python3.6/dist-packages/matplotlib/backends/backend_agg.py:183: RuntimeWarning: Glyph 21270 missing from current font.\n",
            "  font.set_text(s, 0, flags=flags)\n"
          ],
          "name": "stderr"
        },
        {
          "output_type": "display_data",
          "data": {
            "image/png": "[encoded data removed]",
            "text/plain": [
              "<Figure size 2160x1440 with 1 Axes>"
            ]
          },
          "metadata": {
            "tags": [],
            "needs_background": "light"
          }
        }
      ]
    },
    {
      "cell_type": "markdown",
      "metadata": {
        "id": "nIFt7KCZHld-"
      },
      "source": [
        "## 2 - Getting Started with Data Wrangling"
      ]
    },
    {
      "cell_type": "markdown",
      "metadata": {
        "id": "_JW6MwRSFF3B"
      },
      "source": [
        "Now that we have observed the basic features of our dataset raw, we will began cleaning it. This involves several steps that you will be working through.\n"
      ]
    },
    {
      "cell_type": "markdown",
      "metadata": {
        "id": "NJhawspPHld-"
      },
      "source": [
        "### Create a copy of the Original Dataset"
      ]
    },
    {
      "cell_type": "code",
      "metadata": {
        "id": "HJ6p5GksHld_"
      },
      "source": [
        "df = linkedin_profiles.copy()"
      ],
      "execution_count": 25,
      "outputs": []
    },
    {
      "cell_type": "markdown",
      "metadata": {
        "id": "qOYcbFRwHleN"
      },
      "source": [
        "### 2.4 Remove Unneeded columns -```df.drop()```"
      ]
    },
    {
      "cell_type": "markdown",
      "metadata": {
        "id": "uocghp2yHleO"
      },
      "source": [
        "Now that we have a new index from 0 to 15299.\n",
        "\n",
        "When we're looking at the database, for our purposes, we don't want to work with the ```companyHasLogo```,```companyUrl```, ```companyUrn```, ```followable```, ```mbrLocationCode```, ```mbrUrn```, ```posLocationCode```, ```positionId```. Next, we will use ```df.reindex()``` to change two things:\n",
        "1. The order of our columns\n",
        "2. Remove unneeded columnsL\n",
        "\n",
        "Let's remove the columns that we don't need anymore: [ companyFollowerCount, companyHasLogo, companyStaffCount, companyUrl, companyUrn, followable, followersCount, mbrLocationCode, mbrUrnn, posLocationCode, genderEstimate ]\n",
        "\n",
        "Use this list to remove the selected columns: \n",
        "```\n",
        "columns = [ 'companyFollowerCount', 'companyHasLogo', 'companyStaffCount', 'companyUrl', 'companyUrn', 'followable', 'followersCount', 'mbrLocationCode', 'memberUrn', 'posLocationCode', 'genderEstimate' ]\n",
        "```\n",
        "OPTION 2:\n",
        "Let's remove the columns that we don't need anymore: [ companyUrl, companyUrn, mbrLocationCode, mbrUrnn, posLocationCode, genderEstimate ]\n",
        "\n",
        "Use this list to remove the selected columns: \n",
        "```\n",
        "columns = [ 'companyUrl', 'companyUrn', 'mbrLocationCode', 'memberUrn', 'posLocationCode', 'genderEstimate' ]\n",
        "```\n",
        "\n",
        "\n",
        "Next, drop these columnns"
      ]
    },
    {
      "cell_type": "code",
      "metadata": {
        "id": "90MwAELVHleO",
        "outputId": "a0e37361-ad55-44de-deb2-607a178ac08a",
        "colab": {
          "base_uri": "https://localhost:8080/",
          "height": 1000
        }
      },
      "source": [
        "\"\"\"\n",
        "df = df.drop(columns=______)  # INSERT CODE HERE\n",
        "df \n",
        "\"\"\"\n",
        "\"\"\"\n",
        "df = df.drop(columns=[ 'companyUrl', 'companyUrn', 'mbrLocationCode', 'memberUrn', 'posLocationCode', 'genderEstimate' ])  # INSERT CODE HERE\n",
        "df \n",
        "\"\"\"\n",
        "df = df.drop(columns = [ 'companyFollowerCount', 'companyHasLogo', 'companyStaffCount', 'companyUrl', 'companyUrn', 'followable', 'followersCount', 'mbrLocationCode', 'memberUrn', 'posLocationCode', 'genderEstimate' ])  # INSERT CODE HERE\n",
        "df"
      ],
      "execution_count": 26,
      "outputs": [
        {
          "output_type": "execute_result",
          "data": {
            "text/html": [
              "<div>\n",
              "<style scoped>\n",
              "    .dataframe tbody tr th:only-of-type {\n",
              "        vertical-align: middle;\n",
              "    }\n",
              "\n",
              "    .dataframe tbody tr th {\n",
              "        vertical-align: top;\n",
              "    }\n",
              "\n",
              "    .dataframe thead th {\n",
              "        text-align: right;\n",
              "    }\n",
              "</style>\n",
              "<table border=\"1\" class=\"dataframe\">\n",
              "  <thead>\n",
              "    <tr style=\"text-align: right;\">\n",
              "      <th></th>\n",
              "      <th>Unnamed: 0</th>\n",
              "      <th>ageEstimate</th>\n",
              "      <th>companyName</th>\n",
              "      <th>connectionsCount</th>\n",
              "      <th>country</th>\n",
              "      <th>endDate</th>\n",
              "      <th>hasPicture</th>\n",
              "      <th>isPremium</th>\n",
              "      <th>mbrLocation</th>\n",
              "      <th>mbrTitle</th>\n",
              "      <th>posLocation</th>\n",
              "      <th>posTitle</th>\n",
              "      <th>positionId</th>\n",
              "      <th>startDate</th>\n",
              "      <th>avgMemberPosDuration</th>\n",
              "      <th>avgCompanyPosDuration</th>\n",
              "    </tr>\n",
              "  </thead>\n",
              "  <tbody>\n",
              "    <tr>\n",
              "      <th>0</th>\n",
              "      <td>0</td>\n",
              "      <td>41.0</td>\n",
              "      <td>Commonwealth Bank</td>\n",
              "      <td>500.0</td>\n",
              "      <td>au</td>\n",
              "      <td>NaN</td>\n",
              "      <td>NaN</td>\n",
              "      <td>0.0</td>\n",
              "      <td>Sydney Area, Australia</td>\n",
              "      <td>Portfolio Executive at Commonwealth Bank</td>\n",
              "      <td>NaN</td>\n",
              "      <td>Portfolio Executive</td>\n",
              "      <td>240345.0</td>\n",
              "      <td>2014-07-01</td>\n",
              "      <td>760.5000</td>\n",
              "      <td>989.9361</td>\n",
              "    </tr>\n",
              "    <tr>\n",
              "      <th>1</th>\n",
              "      <td>1</td>\n",
              "      <td>41.0</td>\n",
              "      <td>Commonwealth Bank</td>\n",
              "      <td>500.0</td>\n",
              "      <td>au</td>\n",
              "      <td>2014-06-01</td>\n",
              "      <td>NaN</td>\n",
              "      <td>0.0</td>\n",
              "      <td>Sydney Area, Australia</td>\n",
              "      <td>Portfolio Executive at Commonwealth Bank</td>\n",
              "      <td>Sydney, Australia</td>\n",
              "      <td>Solution Delivery Executive</td>\n",
              "      <td>240346.0</td>\n",
              "      <td>2013-11-01</td>\n",
              "      <td>760.5000</td>\n",
              "      <td>989.9361</td>\n",
              "    </tr>\n",
              "    <tr>\n",
              "      <th>2</th>\n",
              "      <td>2</td>\n",
              "      <td>41.0</td>\n",
              "      <td>CommSec</td>\n",
              "      <td>500.0</td>\n",
              "      <td>au</td>\n",
              "      <td>2012-12-01</td>\n",
              "      <td>NaN</td>\n",
              "      <td>0.0</td>\n",
              "      <td>Sydney Area, Australia</td>\n",
              "      <td>Portfolio Executive at Commonwealth Bank</td>\n",
              "      <td>NaN</td>\n",
              "      <td>Project Manager</td>\n",
              "      <td>240348.0</td>\n",
              "      <td>2008-08-01</td>\n",
              "      <td>760.5000</td>\n",
              "      <td>747.2308</td>\n",
              "    </tr>\n",
              "    <tr>\n",
              "      <th>3</th>\n",
              "      <td>3</td>\n",
              "      <td>41.0</td>\n",
              "      <td>Commonwealth Bank</td>\n",
              "      <td>500.0</td>\n",
              "      <td>au</td>\n",
              "      <td>2008-07-01</td>\n",
              "      <td>NaN</td>\n",
              "      <td>0.0</td>\n",
              "      <td>Sydney Area, Australia</td>\n",
              "      <td>Portfolio Executive at Commonwealth Bank</td>\n",
              "      <td>NaN</td>\n",
              "      <td>Project Manager</td>\n",
              "      <td>240350.0</td>\n",
              "      <td>2007-02-01</td>\n",
              "      <td>760.5000</td>\n",
              "      <td>989.9361</td>\n",
              "    </tr>\n",
              "    <tr>\n",
              "      <th>4</th>\n",
              "      <td>4</td>\n",
              "      <td>30.0</td>\n",
              "      <td>PayPal</td>\n",
              "      <td>500.0</td>\n",
              "      <td>au</td>\n",
              "      <td>NaN</td>\n",
              "      <td>RTMZ0-46bTjK4V_MGFDG6i5g0yZmFp5oS0S9liWvpWg.jpg</td>\n",
              "      <td>0.0</td>\n",
              "      <td>Sydney Area, Australia</td>\n",
              "      <td>Senior Marketing Manager, PayPal</td>\n",
              "      <td>NaN</td>\n",
              "      <td>Senior Marketing Manager</td>\n",
              "      <td>229893.0</td>\n",
              "      <td>2017-01-01</td>\n",
              "      <td>395.2857</td>\n",
              "      <td>683.3496</td>\n",
              "    </tr>\n",
              "    <tr>\n",
              "      <th>...</th>\n",
              "      <td>...</td>\n",
              "      <td>...</td>\n",
              "      <td>...</td>\n",
              "      <td>...</td>\n",
              "      <td>...</td>\n",
              "      <td>...</td>\n",
              "      <td>...</td>\n",
              "      <td>...</td>\n",
              "      <td>...</td>\n",
              "      <td>...</td>\n",
              "      <td>...</td>\n",
              "      <td>...</td>\n",
              "      <td>...</td>\n",
              "      <td>...</td>\n",
              "      <td>...</td>\n",
              "      <td>...</td>\n",
              "    </tr>\n",
              "    <tr>\n",
              "      <th>39532</th>\n",
              "      <td>39532</td>\n",
              "      <td>46.0</td>\n",
              "      <td>National Australia Bank</td>\n",
              "      <td>362.0</td>\n",
              "      <td>au</td>\n",
              "      <td>2009-04-01</td>\n",
              "      <td>p_4_000_171_2aa_07c7660.jpg</td>\n",
              "      <td>0.0</td>\n",
              "      <td>Melbourne Area, Australia</td>\n",
              "      <td>Head Of (Distributed) Credit, Vic/Tas at Natio...</td>\n",
              "      <td>St Kilda Rd Melbourne Business Banking Centre</td>\n",
              "      <td>Senior Partner</td>\n",
              "      <td>191517.0</td>\n",
              "      <td>2006-08-01</td>\n",
              "      <td>1912.0000</td>\n",
              "      <td>941.0968</td>\n",
              "    </tr>\n",
              "    <tr>\n",
              "      <th>39533</th>\n",
              "      <td>39533</td>\n",
              "      <td>46.0</td>\n",
              "      <td>National Australia Bank</td>\n",
              "      <td>362.0</td>\n",
              "      <td>au</td>\n",
              "      <td>2007-05-01</td>\n",
              "      <td>p_4_000_171_2aa_07c7660.jpg</td>\n",
              "      <td>0.0</td>\n",
              "      <td>Melbourne Area, Australia</td>\n",
              "      <td>Head Of (Distributed) Credit, Vic/Tas at Natio...</td>\n",
              "      <td>St Kilda Rd Melbourne Business Banking Centre</td>\n",
              "      <td>Senior Business Banking Manager / Partner 4</td>\n",
              "      <td>191518.0</td>\n",
              "      <td>2003-08-01</td>\n",
              "      <td>1912.0000</td>\n",
              "      <td>941.0968</td>\n",
              "    </tr>\n",
              "    <tr>\n",
              "      <th>39534</th>\n",
              "      <td>39534</td>\n",
              "      <td>46.0</td>\n",
              "      <td>National Australia Bank</td>\n",
              "      <td>362.0</td>\n",
              "      <td>au</td>\n",
              "      <td>2003-08-01</td>\n",
              "      <td>p_4_000_171_2aa_07c7660.jpg</td>\n",
              "      <td>0.0</td>\n",
              "      <td>Melbourne Area, Australia</td>\n",
              "      <td>Head Of (Distributed) Credit, Vic/Tas at Natio...</td>\n",
              "      <td>St Kilda Rd Melbourne &amp; Bourke and Russell St ...</td>\n",
              "      <td>Business Banking Manager / Partner 3</td>\n",
              "      <td>191519.0</td>\n",
              "      <td>2000-06-01</td>\n",
              "      <td>1912.0000</td>\n",
              "      <td>941.0968</td>\n",
              "    </tr>\n",
              "    <tr>\n",
              "      <th>39535</th>\n",
              "      <td>39535</td>\n",
              "      <td>46.0</td>\n",
              "      <td>National Australia Bank</td>\n",
              "      <td>362.0</td>\n",
              "      <td>au</td>\n",
              "      <td>2000-06-01</td>\n",
              "      <td>p_4_000_171_2aa_07c7660.jpg</td>\n",
              "      <td>0.0</td>\n",
              "      <td>Melbourne Area, Australia</td>\n",
              "      <td>Head Of (Distributed) Credit, Vic/Tas at Natio...</td>\n",
              "      <td>Melbourne Office Business Banking Centre</td>\n",
              "      <td>Business Banking Officer</td>\n",
              "      <td>191520.0</td>\n",
              "      <td>1995-11-01</td>\n",
              "      <td>1912.0000</td>\n",
              "      <td>941.0968</td>\n",
              "    </tr>\n",
              "    <tr>\n",
              "      <th>39536</th>\n",
              "      <td>39536</td>\n",
              "      <td>46.0</td>\n",
              "      <td>National Australia Bank</td>\n",
              "      <td>362.0</td>\n",
              "      <td>au</td>\n",
              "      <td>2000-06-01</td>\n",
              "      <td>p_4_000_171_2aa_07c7660.jpg</td>\n",
              "      <td>0.0</td>\n",
              "      <td>Melbourne Area, Australia</td>\n",
              "      <td>Head Of (Distributed) Credit, Vic/Tas at Natio...</td>\n",
              "      <td>271 Collins St Melbourne</td>\n",
              "      <td>Various customer service roles including inter...</td>\n",
              "      <td>191521.0</td>\n",
              "      <td>1989-02-01</td>\n",
              "      <td>1912.0000</td>\n",
              "      <td>941.0968</td>\n",
              "    </tr>\n",
              "  </tbody>\n",
              "</table>\n",
              "<p>39537 rows × 16 columns</p>\n",
              "</div>"
            ],
            "text/plain": [
              "       Unnamed: 0  ageEstimate  ... avgMemberPosDuration  avgCompanyPosDuration\n",
              "0               0         41.0  ...             760.5000               989.9361\n",
              "1               1         41.0  ...             760.5000               989.9361\n",
              "2               2         41.0  ...             760.5000               747.2308\n",
              "3               3         41.0  ...             760.5000               989.9361\n",
              "4               4         30.0  ...             395.2857               683.3496\n",
              "...           ...          ...  ...                  ...                    ...\n",
              "39532       39532         46.0  ...            1912.0000               941.0968\n",
              "39533       39533         46.0  ...            1912.0000               941.0968\n",
              "39534       39534         46.0  ...            1912.0000               941.0968\n",
              "39535       39535         46.0  ...            1912.0000               941.0968\n",
              "39536       39536         46.0  ...            1912.0000               941.0968\n",
              "\n",
              "[39537 rows x 16 columns]"
            ]
          },
          "metadata": {
            "tags": []
          },
          "execution_count": 26
        }
      ]
    },
    {
      "cell_type": "markdown",
      "metadata": {
        "id": "d_Ds03fRHleS"
      },
      "source": [
        "### Using ```dropna()```"
      ]
    },
    {
      "cell_type": "markdown",
      "metadata": {
        "id": "OB1gdak8HleT"
      },
      "source": [
        "For this data set, we will be working with profiles that were completely accounted for in all of the remaining features.\n",
        "\n",
        "The ```dropna()``` method is designed top drop every right in our dataframe whos cell might have a null or undefined value. There are usually shown as ```NaN```\n",
        "\n"
      ]
    },
    {
      "cell_type": "code",
      "metadata": {
        "id": "HUUV6ipxHleT",
        "outputId": "50908cd3-018f-487e-f686-18161a0a5cbd",
        "colab": {
          "base_uri": "https://localhost:8080/",
          "height": 1000
        }
      },
      "source": [
        "df = df.dropna()\n",
        "df"
      ],
      "execution_count": 27,
      "outputs": [
        {
          "output_type": "execute_result",
          "data": {
            "text/html": [
              "<div>\n",
              "<style scoped>\n",
              "    .dataframe tbody tr th:only-of-type {\n",
              "        vertical-align: middle;\n",
              "    }\n",
              "\n",
              "    .dataframe tbody tr th {\n",
              "        vertical-align: top;\n",
              "    }\n",
              "\n",
              "    .dataframe thead th {\n",
              "        text-align: right;\n",
              "    }\n",
              "</style>\n",
              "<table border=\"1\" class=\"dataframe\">\n",
              "  <thead>\n",
              "    <tr style=\"text-align: right;\">\n",
              "      <th></th>\n",
              "      <th>Unnamed: 0</th>\n",
              "      <th>ageEstimate</th>\n",
              "      <th>companyName</th>\n",
              "      <th>connectionsCount</th>\n",
              "      <th>country</th>\n",
              "      <th>endDate</th>\n",
              "      <th>hasPicture</th>\n",
              "      <th>isPremium</th>\n",
              "      <th>mbrLocation</th>\n",
              "      <th>mbrTitle</th>\n",
              "      <th>posLocation</th>\n",
              "      <th>posTitle</th>\n",
              "      <th>positionId</th>\n",
              "      <th>startDate</th>\n",
              "      <th>avgMemberPosDuration</th>\n",
              "      <th>avgCompanyPosDuration</th>\n",
              "    </tr>\n",
              "  </thead>\n",
              "  <tbody>\n",
              "    <tr>\n",
              "      <th>5</th>\n",
              "      <td>5</td>\n",
              "      <td>30.0</td>\n",
              "      <td>Optus</td>\n",
              "      <td>500.0</td>\n",
              "      <td>au</td>\n",
              "      <td>2016-12-01</td>\n",
              "      <td>RTMZ0-46bTjK4V_MGFDG6i5g0yZmFp5oS0S9liWvpWg.jpg</td>\n",
              "      <td>0.0</td>\n",
              "      <td>Sydney Area, Australia</td>\n",
              "      <td>Senior Marketing Manager, PayPal</td>\n",
              "      <td>Sydney, Australia</td>\n",
              "      <td>Digital and Social Engagement Leader, Optus Bu...</td>\n",
              "      <td>229894.0</td>\n",
              "      <td>2016-01-01</td>\n",
              "      <td>395.2857</td>\n",
              "      <td>977.6553</td>\n",
              "    </tr>\n",
              "    <tr>\n",
              "      <th>6</th>\n",
              "      <td>6</td>\n",
              "      <td>30.0</td>\n",
              "      <td>IBM</td>\n",
              "      <td>500.0</td>\n",
              "      <td>au</td>\n",
              "      <td>2015-12-01</td>\n",
              "      <td>RTMZ0-46bTjK4V_MGFDG6i5g0yZmFp5oS0S9liWvpWg.jpg</td>\n",
              "      <td>0.0</td>\n",
              "      <td>Sydney Area, Australia</td>\n",
              "      <td>Senior Marketing Manager, PayPal</td>\n",
              "      <td>Greater New York City Area</td>\n",
              "      <td>Social Brand Marketing</td>\n",
              "      <td>229895.0</td>\n",
              "      <td>2014-11-01</td>\n",
              "      <td>395.2857</td>\n",
              "      <td>1188.7339</td>\n",
              "    </tr>\n",
              "    <tr>\n",
              "      <th>7</th>\n",
              "      <td>7</td>\n",
              "      <td>30.0</td>\n",
              "      <td>IBM</td>\n",
              "      <td>500.0</td>\n",
              "      <td>au</td>\n",
              "      <td>2014-10-01</td>\n",
              "      <td>RTMZ0-46bTjK4V_MGFDG6i5g0yZmFp5oS0S9liWvpWg.jpg</td>\n",
              "      <td>0.0</td>\n",
              "      <td>Sydney Area, Australia</td>\n",
              "      <td>Senior Marketing Manager, PayPal</td>\n",
              "      <td>Australia</td>\n",
              "      <td>Brand Strategist</td>\n",
              "      <td>229896.0</td>\n",
              "      <td>2013-06-01</td>\n",
              "      <td>395.2857</td>\n",
              "      <td>1188.7339</td>\n",
              "    </tr>\n",
              "    <tr>\n",
              "      <th>8</th>\n",
              "      <td>8</td>\n",
              "      <td>30.0</td>\n",
              "      <td>IBM</td>\n",
              "      <td>500.0</td>\n",
              "      <td>au</td>\n",
              "      <td>2013-06-01</td>\n",
              "      <td>RTMZ0-46bTjK4V_MGFDG6i5g0yZmFp5oS0S9liWvpWg.jpg</td>\n",
              "      <td>0.0</td>\n",
              "      <td>Sydney Area, Australia</td>\n",
              "      <td>Senior Marketing Manager, PayPal</td>\n",
              "      <td>Australia</td>\n",
              "      <td>Brand Expression Lead</td>\n",
              "      <td>229897.0</td>\n",
              "      <td>2012-09-01</td>\n",
              "      <td>395.2857</td>\n",
              "      <td>1188.7339</td>\n",
              "    </tr>\n",
              "    <tr>\n",
              "      <th>9</th>\n",
              "      <td>9</td>\n",
              "      <td>30.0</td>\n",
              "      <td>IBM</td>\n",
              "      <td>500.0</td>\n",
              "      <td>au</td>\n",
              "      <td>2012-09-01</td>\n",
              "      <td>RTMZ0-46bTjK4V_MGFDG6i5g0yZmFp5oS0S9liWvpWg.jpg</td>\n",
              "      <td>0.0</td>\n",
              "      <td>Sydney Area, Australia</td>\n",
              "      <td>Senior Marketing Manager, PayPal</td>\n",
              "      <td>St Leonards, Australia</td>\n",
              "      <td>Brand System Graduate</td>\n",
              "      <td>229898.0</td>\n",
              "      <td>2011-09-01</td>\n",
              "      <td>395.2857</td>\n",
              "      <td>1188.7339</td>\n",
              "    </tr>\n",
              "    <tr>\n",
              "      <th>...</th>\n",
              "      <td>...</td>\n",
              "      <td>...</td>\n",
              "      <td>...</td>\n",
              "      <td>...</td>\n",
              "      <td>...</td>\n",
              "      <td>...</td>\n",
              "      <td>...</td>\n",
              "      <td>...</td>\n",
              "      <td>...</td>\n",
              "      <td>...</td>\n",
              "      <td>...</td>\n",
              "      <td>...</td>\n",
              "      <td>...</td>\n",
              "      <td>...</td>\n",
              "      <td>...</td>\n",
              "      <td>...</td>\n",
              "    </tr>\n",
              "    <tr>\n",
              "      <th>39532</th>\n",
              "      <td>39532</td>\n",
              "      <td>46.0</td>\n",
              "      <td>National Australia Bank</td>\n",
              "      <td>362.0</td>\n",
              "      <td>au</td>\n",
              "      <td>2009-04-01</td>\n",
              "      <td>p_4_000_171_2aa_07c7660.jpg</td>\n",
              "      <td>0.0</td>\n",
              "      <td>Melbourne Area, Australia</td>\n",
              "      <td>Head Of (Distributed) Credit, Vic/Tas at Natio...</td>\n",
              "      <td>St Kilda Rd Melbourne Business Banking Centre</td>\n",
              "      <td>Senior Partner</td>\n",
              "      <td>191517.0</td>\n",
              "      <td>2006-08-01</td>\n",
              "      <td>1912.0000</td>\n",
              "      <td>941.0968</td>\n",
              "    </tr>\n",
              "    <tr>\n",
              "      <th>39533</th>\n",
              "      <td>39533</td>\n",
              "      <td>46.0</td>\n",
              "      <td>National Australia Bank</td>\n",
              "      <td>362.0</td>\n",
              "      <td>au</td>\n",
              "      <td>2007-05-01</td>\n",
              "      <td>p_4_000_171_2aa_07c7660.jpg</td>\n",
              "      <td>0.0</td>\n",
              "      <td>Melbourne Area, Australia</td>\n",
              "      <td>Head Of (Distributed) Credit, Vic/Tas at Natio...</td>\n",
              "      <td>St Kilda Rd Melbourne Business Banking Centre</td>\n",
              "      <td>Senior Business Banking Manager / Partner 4</td>\n",
              "      <td>191518.0</td>\n",
              "      <td>2003-08-01</td>\n",
              "      <td>1912.0000</td>\n",
              "      <td>941.0968</td>\n",
              "    </tr>\n",
              "    <tr>\n",
              "      <th>39534</th>\n",
              "      <td>39534</td>\n",
              "      <td>46.0</td>\n",
              "      <td>National Australia Bank</td>\n",
              "      <td>362.0</td>\n",
              "      <td>au</td>\n",
              "      <td>2003-08-01</td>\n",
              "      <td>p_4_000_171_2aa_07c7660.jpg</td>\n",
              "      <td>0.0</td>\n",
              "      <td>Melbourne Area, Australia</td>\n",
              "      <td>Head Of (Distributed) Credit, Vic/Tas at Natio...</td>\n",
              "      <td>St Kilda Rd Melbourne &amp; Bourke and Russell St ...</td>\n",
              "      <td>Business Banking Manager / Partner 3</td>\n",
              "      <td>191519.0</td>\n",
              "      <td>2000-06-01</td>\n",
              "      <td>1912.0000</td>\n",
              "      <td>941.0968</td>\n",
              "    </tr>\n",
              "    <tr>\n",
              "      <th>39535</th>\n",
              "      <td>39535</td>\n",
              "      <td>46.0</td>\n",
              "      <td>National Australia Bank</td>\n",
              "      <td>362.0</td>\n",
              "      <td>au</td>\n",
              "      <td>2000-06-01</td>\n",
              "      <td>p_4_000_171_2aa_07c7660.jpg</td>\n",
              "      <td>0.0</td>\n",
              "      <td>Melbourne Area, Australia</td>\n",
              "      <td>Head Of (Distributed) Credit, Vic/Tas at Natio...</td>\n",
              "      <td>Melbourne Office Business Banking Centre</td>\n",
              "      <td>Business Banking Officer</td>\n",
              "      <td>191520.0</td>\n",
              "      <td>1995-11-01</td>\n",
              "      <td>1912.0000</td>\n",
              "      <td>941.0968</td>\n",
              "    </tr>\n",
              "    <tr>\n",
              "      <th>39536</th>\n",
              "      <td>39536</td>\n",
              "      <td>46.0</td>\n",
              "      <td>National Australia Bank</td>\n",
              "      <td>362.0</td>\n",
              "      <td>au</td>\n",
              "      <td>2000-06-01</td>\n",
              "      <td>p_4_000_171_2aa_07c7660.jpg</td>\n",
              "      <td>0.0</td>\n",
              "      <td>Melbourne Area, Australia</td>\n",
              "      <td>Head Of (Distributed) Credit, Vic/Tas at Natio...</td>\n",
              "      <td>271 Collins St Melbourne</td>\n",
              "      <td>Various customer service roles including inter...</td>\n",
              "      <td>191521.0</td>\n",
              "      <td>1989-02-01</td>\n",
              "      <td>1912.0000</td>\n",
              "      <td>941.0968</td>\n",
              "    </tr>\n",
              "  </tbody>\n",
              "</table>\n",
              "<p>16005 rows × 16 columns</p>\n",
              "</div>"
            ],
            "text/plain": [
              "       Unnamed: 0  ageEstimate  ... avgMemberPosDuration  avgCompanyPosDuration\n",
              "5               5         30.0  ...             395.2857               977.6553\n",
              "6               6         30.0  ...             395.2857              1188.7339\n",
              "7               7         30.0  ...             395.2857              1188.7339\n",
              "8               8         30.0  ...             395.2857              1188.7339\n",
              "9               9         30.0  ...             395.2857              1188.7339\n",
              "...           ...          ...  ...                  ...                    ...\n",
              "39532       39532         46.0  ...            1912.0000               941.0968\n",
              "39533       39533         46.0  ...            1912.0000               941.0968\n",
              "39534       39534         46.0  ...            1912.0000               941.0968\n",
              "39535       39535         46.0  ...            1912.0000               941.0968\n",
              "39536       39536         46.0  ...            1912.0000               941.0968\n",
              "\n",
              "[16005 rows x 16 columns]"
            ]
          },
          "metadata": {
            "tags": []
          },
          "execution_count": 27
        }
      ]
    },
    {
      "cell_type": "code",
      "metadata": {
        "id": "-8OASxc-HleZ",
        "outputId": "f523064b-fdf5-4e5a-ef20-75e9f145c276",
        "colab": {
          "base_uri": "https://localhost:8080/",
          "height": 408
        }
      },
      "source": [
        "df.info()"
      ],
      "execution_count": 11,
      "outputs": [
        {
          "output_type": "stream",
          "text": [
            "<class 'pandas.core.frame.DataFrame'>\n",
            "Int64Index: 16005 entries, 5 to 39536\n",
            "Data columns (total 16 columns):\n",
            " #   Column                 Non-Null Count  Dtype  \n",
            "---  ------                 --------------  -----  \n",
            " 0   Unnamed: 0             16005 non-null  int64  \n",
            " 1   ageEstimate            16005 non-null  float64\n",
            " 2   companyName            16005 non-null  object \n",
            " 3   connectionsCount       16005 non-null  float64\n",
            " 4   country                16005 non-null  object \n",
            " 5   endDate                16005 non-null  object \n",
            " 6   hasPicture             16005 non-null  object \n",
            " 7   isPremium              16005 non-null  float64\n",
            " 8   mbrLocation            16005 non-null  object \n",
            " 9   mbrTitle               16005 non-null  object \n",
            " 10  posLocation            16005 non-null  object \n",
            " 11  posTitle               16005 non-null  object \n",
            " 12  positionId             16005 non-null  float64\n",
            " 13  startDate              16005 non-null  object \n",
            " 14  avgMemberPosDuration   16005 non-null  float64\n",
            " 15  avgCompanyPosDuration  16005 non-null  float64\n",
            "dtypes: float64(6), int64(1), object(9)\n",
            "memory usage: 2.1+ MB\n"
          ],
          "name": "stdout"
        }
      ]
    },
    {
      "cell_type": "markdown",
      "metadata": {
        "id": "OwXfj9YjHleD"
      },
      "source": [
        "### 2.1 Changing Column Names\n",
        "\n",
        "For this exercise, you will change the names of the previously existing columns to something that is more readable. \n",
        "\n",
        "First, list down all the column names by accessing the `columns` attribute of the dataframe `df`.\n"
      ]
    },
    {
      "cell_type": "markdown",
      "metadata": {
        "id": "--Q1q9kDgznD"
      },
      "source": [
        "### 2.2 Column List"
      ]
    },
    {
      "cell_type": "code",
      "metadata": {
        "id": "NvhxosPNF5LH",
        "outputId": "eb6b4002-135e-4855-85a9-b5216f3a9d2f",
        "colab": {
          "base_uri": "https://localhost:8080/",
          "height": 289
        }
      },
      "source": [
        "\"\"\"\n",
        "list(df._______) # Insert Code Here\n",
        "\"\"\"\n",
        "list(df.columns) # Insert Code Here"
      ],
      "execution_count": 12,
      "outputs": [
        {
          "output_type": "execute_result",
          "data": {
            "text/plain": [
              "['Unnamed: 0',\n",
              " 'ageEstimate',\n",
              " 'companyName',\n",
              " 'connectionsCount',\n",
              " 'country',\n",
              " 'endDate',\n",
              " 'hasPicture',\n",
              " 'isPremium',\n",
              " 'mbrLocation',\n",
              " 'mbrTitle',\n",
              " 'posLocation',\n",
              " 'posTitle',\n",
              " 'positionId',\n",
              " 'startDate',\n",
              " 'avgMemberPosDuration',\n",
              " 'avgCompanyPosDuration']"
            ]
          },
          "metadata": {
            "tags": []
          },
          "execution_count": 12
        }
      ]
    },
    {
      "cell_type": "markdown",
      "metadata": {
        "id": "J4KjruAfIDe2"
      },
      "source": [
        "Next, write the names of the columns. We will rename the columns to be in snakecase form, in which each word in the variable name is lowercase and is separated by an underscore, and which looks like this: `my_sample_variable_name`.\n",
        "\n",
        "The column names are: [ (profileId), ageEstimate, companyName, country, endDate, genderEstimate, startDate ]"
      ]
    },
    {
      "cell_type": "code",
      "metadata": {
        "id": "aSzOUf_CHleE",
        "outputId": "96363512-0e29-429f-f2c5-50253959d774",
        "colab": {
          "base_uri": "https://localhost:8080/",
          "height": 1000
        }
      },
      "source": [
        "\"\"\"\n",
        "df = df.rename(\n",
        "    columns={'COLUMN_NAME_HERE': 'profile_id',         # FIXME: Rename to snakecase and delete irrelevant stuff: Insert Column Name you want to change\n",
        "             'COLUMN_NAME_HERE': 'age',                          # Insert Column Name you want to change\n",
        "             'COLUMN_NAME_HERE': 'company_name',    # Insert Column Name you want to change\n",
        "             'COLUMN_NAME_HERE': 'country',   # Insert Column Name you want to change\n",
        "             'COLUMN_NAME_HERE': 'end_date',          # Insert Column Name you want to change\n",
        "             'COLUMN_NAME_HERE': 'gender',    # Insert Column Name you want to change\n",
        "             'COLUMN_NAME_HERE': 'start_date',     # Insert Column Name you want to change\n",
        "            })\n",
        "df\n",
        "\"\"\"\n",
        "# TODO: Rename all of the columns used\n",
        "df = df.rename(\n",
        "    columns={'Unnamed: 0': 'profile_id',         # FIXME: Rename to snakecase and delete irrelevant stuff: Insert Column Name you want to change\n",
        "             'ageEstimate': 'age',                          # Insert Column Name you want to change\n",
        "             'companyName': 'company_name',    # Insert Column Name you want to change\n",
        "             'country': 'country',   # Insert Column Name you want to change\n",
        "             'endDate': 'end_date',          # Insert Column Name you want to change\n",
        "             #'genderEstimate': 'gender',    # Insert Column Name you want to change\n",
        "             'startDate': 'start_date',     # Insert Column Name you want to change\n",
        "             'posLocation': 'position_location',     # Insert Column Name you want to change\n",
        "             'posTitle': 'position_title',     # Insert Column Name you want to change\n",
        "             'connectionsCount': 'num_connections',     # Insert Column Name you want to change\n",
        "            })\n",
        "df"
      ],
      "execution_count": 28,
      "outputs": [
        {
          "output_type": "execute_result",
          "data": {
            "text/html": [
              "<div>\n",
              "<style scoped>\n",
              "    .dataframe tbody tr th:only-of-type {\n",
              "        vertical-align: middle;\n",
              "    }\n",
              "\n",
              "    .dataframe tbody tr th {\n",
              "        vertical-align: top;\n",
              "    }\n",
              "\n",
              "    .dataframe thead th {\n",
              "        text-align: right;\n",
              "    }\n",
              "</style>\n",
              "<table border=\"1\" class=\"dataframe\">\n",
              "  <thead>\n",
              "    <tr style=\"text-align: right;\">\n",
              "      <th></th>\n",
              "      <th>profile_id</th>\n",
              "      <th>age</th>\n",
              "      <th>company_name</th>\n",
              "      <th>num_connections</th>\n",
              "      <th>country</th>\n",
              "      <th>end_date</th>\n",
              "      <th>hasPicture</th>\n",
              "      <th>isPremium</th>\n",
              "      <th>mbrLocation</th>\n",
              "      <th>mbrTitle</th>\n",
              "      <th>position_location</th>\n",
              "      <th>position_title</th>\n",
              "      <th>positionId</th>\n",
              "      <th>start_date</th>\n",
              "      <th>avgMemberPosDuration</th>\n",
              "      <th>avgCompanyPosDuration</th>\n",
              "    </tr>\n",
              "  </thead>\n",
              "  <tbody>\n",
              "    <tr>\n",
              "      <th>5</th>\n",
              "      <td>5</td>\n",
              "      <td>30.0</td>\n",
              "      <td>Optus</td>\n",
              "      <td>500.0</td>\n",
              "      <td>au</td>\n",
              "      <td>2016-12-01</td>\n",
              "      <td>RTMZ0-46bTjK4V_MGFDG6i5g0yZmFp5oS0S9liWvpWg.jpg</td>\n",
              "      <td>0.0</td>\n",
              "      <td>Sydney Area, Australia</td>\n",
              "      <td>Senior Marketing Manager, PayPal</td>\n",
              "      <td>Sydney, Australia</td>\n",
              "      <td>Digital and Social Engagement Leader, Optus Bu...</td>\n",
              "      <td>229894.0</td>\n",
              "      <td>2016-01-01</td>\n",
              "      <td>395.2857</td>\n",
              "      <td>977.6553</td>\n",
              "    </tr>\n",
              "    <tr>\n",
              "      <th>6</th>\n",
              "      <td>6</td>\n",
              "      <td>30.0</td>\n",
              "      <td>IBM</td>\n",
              "      <td>500.0</td>\n",
              "      <td>au</td>\n",
              "      <td>2015-12-01</td>\n",
              "      <td>RTMZ0-46bTjK4V_MGFDG6i5g0yZmFp5oS0S9liWvpWg.jpg</td>\n",
              "      <td>0.0</td>\n",
              "      <td>Sydney Area, Australia</td>\n",
              "      <td>Senior Marketing Manager, PayPal</td>\n",
              "      <td>Greater New York City Area</td>\n",
              "      <td>Social Brand Marketing</td>\n",
              "      <td>229895.0</td>\n",
              "      <td>2014-11-01</td>\n",
              "      <td>395.2857</td>\n",
              "      <td>1188.7339</td>\n",
              "    </tr>\n",
              "    <tr>\n",
              "      <th>7</th>\n",
              "      <td>7</td>\n",
              "      <td>30.0</td>\n",
              "      <td>IBM</td>\n",
              "      <td>500.0</td>\n",
              "      <td>au</td>\n",
              "      <td>2014-10-01</td>\n",
              "      <td>RTMZ0-46bTjK4V_MGFDG6i5g0yZmFp5oS0S9liWvpWg.jpg</td>\n",
              "      <td>0.0</td>\n",
              "      <td>Sydney Area, Australia</td>\n",
              "      <td>Senior Marketing Manager, PayPal</td>\n",
              "      <td>Australia</td>\n",
              "      <td>Brand Strategist</td>\n",
              "      <td>229896.0</td>\n",
              "      <td>2013-06-01</td>\n",
              "      <td>395.2857</td>\n",
              "      <td>1188.7339</td>\n",
              "    </tr>\n",
              "    <tr>\n",
              "      <th>8</th>\n",
              "      <td>8</td>\n",
              "      <td>30.0</td>\n",
              "      <td>IBM</td>\n",
              "      <td>500.0</td>\n",
              "      <td>au</td>\n",
              "      <td>2013-06-01</td>\n",
              "      <td>RTMZ0-46bTjK4V_MGFDG6i5g0yZmFp5oS0S9liWvpWg.jpg</td>\n",
              "      <td>0.0</td>\n",
              "      <td>Sydney Area, Australia</td>\n",
              "      <td>Senior Marketing Manager, PayPal</td>\n",
              "      <td>Australia</td>\n",
              "      <td>Brand Expression Lead</td>\n",
              "      <td>229897.0</td>\n",
              "      <td>2012-09-01</td>\n",
              "      <td>395.2857</td>\n",
              "      <td>1188.7339</td>\n",
              "    </tr>\n",
              "    <tr>\n",
              "      <th>9</th>\n",
              "      <td>9</td>\n",
              "      <td>30.0</td>\n",
              "      <td>IBM</td>\n",
              "      <td>500.0</td>\n",
              "      <td>au</td>\n",
              "      <td>2012-09-01</td>\n",
              "      <td>RTMZ0-46bTjK4V_MGFDG6i5g0yZmFp5oS0S9liWvpWg.jpg</td>\n",
              "      <td>0.0</td>\n",
              "      <td>Sydney Area, Australia</td>\n",
              "      <td>Senior Marketing Manager, PayPal</td>\n",
              "      <td>St Leonards, Australia</td>\n",
              "      <td>Brand System Graduate</td>\n",
              "      <td>229898.0</td>\n",
              "      <td>2011-09-01</td>\n",
              "      <td>395.2857</td>\n",
              "      <td>1188.7339</td>\n",
              "    </tr>\n",
              "    <tr>\n",
              "      <th>...</th>\n",
              "      <td>...</td>\n",
              "      <td>...</td>\n",
              "      <td>...</td>\n",
              "      <td>...</td>\n",
              "      <td>...</td>\n",
              "      <td>...</td>\n",
              "      <td>...</td>\n",
              "      <td>...</td>\n",
              "      <td>...</td>\n",
              "      <td>...</td>\n",
              "      <td>...</td>\n",
              "      <td>...</td>\n",
              "      <td>...</td>\n",
              "      <td>...</td>\n",
              "      <td>...</td>\n",
              "      <td>...</td>\n",
              "    </tr>\n",
              "    <tr>\n",
              "      <th>39532</th>\n",
              "      <td>39532</td>\n",
              "      <td>46.0</td>\n",
              "      <td>National Australia Bank</td>\n",
              "      <td>362.0</td>\n",
              "      <td>au</td>\n",
              "      <td>2009-04-01</td>\n",
              "      <td>p_4_000_171_2aa_07c7660.jpg</td>\n",
              "      <td>0.0</td>\n",
              "      <td>Melbourne Area, Australia</td>\n",
              "      <td>Head Of (Distributed) Credit, Vic/Tas at Natio...</td>\n",
              "      <td>St Kilda Rd Melbourne Business Banking Centre</td>\n",
              "      <td>Senior Partner</td>\n",
              "      <td>191517.0</td>\n",
              "      <td>2006-08-01</td>\n",
              "      <td>1912.0000</td>\n",
              "      <td>941.0968</td>\n",
              "    </tr>\n",
              "    <tr>\n",
              "      <th>39533</th>\n",
              "      <td>39533</td>\n",
              "      <td>46.0</td>\n",
              "      <td>National Australia Bank</td>\n",
              "      <td>362.0</td>\n",
              "      <td>au</td>\n",
              "      <td>2007-05-01</td>\n",
              "      <td>p_4_000_171_2aa_07c7660.jpg</td>\n",
              "      <td>0.0</td>\n",
              "      <td>Melbourne Area, Australia</td>\n",
              "      <td>Head Of (Distributed) Credit, Vic/Tas at Natio...</td>\n",
              "      <td>St Kilda Rd Melbourne Business Banking Centre</td>\n",
              "      <td>Senior Business Banking Manager / Partner 4</td>\n",
              "      <td>191518.0</td>\n",
              "      <td>2003-08-01</td>\n",
              "      <td>1912.0000</td>\n",
              "      <td>941.0968</td>\n",
              "    </tr>\n",
              "    <tr>\n",
              "      <th>39534</th>\n",
              "      <td>39534</td>\n",
              "      <td>46.0</td>\n",
              "      <td>National Australia Bank</td>\n",
              "      <td>362.0</td>\n",
              "      <td>au</td>\n",
              "      <td>2003-08-01</td>\n",
              "      <td>p_4_000_171_2aa_07c7660.jpg</td>\n",
              "      <td>0.0</td>\n",
              "      <td>Melbourne Area, Australia</td>\n",
              "      <td>Head Of (Distributed) Credit, Vic/Tas at Natio...</td>\n",
              "      <td>St Kilda Rd Melbourne &amp; Bourke and Russell St ...</td>\n",
              "      <td>Business Banking Manager / Partner 3</td>\n",
              "      <td>191519.0</td>\n",
              "      <td>2000-06-01</td>\n",
              "      <td>1912.0000</td>\n",
              "      <td>941.0968</td>\n",
              "    </tr>\n",
              "    <tr>\n",
              "      <th>39535</th>\n",
              "      <td>39535</td>\n",
              "      <td>46.0</td>\n",
              "      <td>National Australia Bank</td>\n",
              "      <td>362.0</td>\n",
              "      <td>au</td>\n",
              "      <td>2000-06-01</td>\n",
              "      <td>p_4_000_171_2aa_07c7660.jpg</td>\n",
              "      <td>0.0</td>\n",
              "      <td>Melbourne Area, Australia</td>\n",
              "      <td>Head Of (Distributed) Credit, Vic/Tas at Natio...</td>\n",
              "      <td>Melbourne Office Business Banking Centre</td>\n",
              "      <td>Business Banking Officer</td>\n",
              "      <td>191520.0</td>\n",
              "      <td>1995-11-01</td>\n",
              "      <td>1912.0000</td>\n",
              "      <td>941.0968</td>\n",
              "    </tr>\n",
              "    <tr>\n",
              "      <th>39536</th>\n",
              "      <td>39536</td>\n",
              "      <td>46.0</td>\n",
              "      <td>National Australia Bank</td>\n",
              "      <td>362.0</td>\n",
              "      <td>au</td>\n",
              "      <td>2000-06-01</td>\n",
              "      <td>p_4_000_171_2aa_07c7660.jpg</td>\n",
              "      <td>0.0</td>\n",
              "      <td>Melbourne Area, Australia</td>\n",
              "      <td>Head Of (Distributed) Credit, Vic/Tas at Natio...</td>\n",
              "      <td>271 Collins St Melbourne</td>\n",
              "      <td>Various customer service roles including inter...</td>\n",
              "      <td>191521.0</td>\n",
              "      <td>1989-02-01</td>\n",
              "      <td>1912.0000</td>\n",
              "      <td>941.0968</td>\n",
              "    </tr>\n",
              "  </tbody>\n",
              "</table>\n",
              "<p>16005 rows × 16 columns</p>\n",
              "</div>"
            ],
            "text/plain": [
              "       profile_id   age  ... avgMemberPosDuration  avgCompanyPosDuration\n",
              "5               5  30.0  ...             395.2857               977.6553\n",
              "6               6  30.0  ...             395.2857              1188.7339\n",
              "7               7  30.0  ...             395.2857              1188.7339\n",
              "8               8  30.0  ...             395.2857              1188.7339\n",
              "9               9  30.0  ...             395.2857              1188.7339\n",
              "...           ...   ...  ...                  ...                    ...\n",
              "39532       39532  46.0  ...            1912.0000               941.0968\n",
              "39533       39533  46.0  ...            1912.0000               941.0968\n",
              "39534       39534  46.0  ...            1912.0000               941.0968\n",
              "39535       39535  46.0  ...            1912.0000               941.0968\n",
              "39536       39536  46.0  ...            1912.0000               941.0968\n",
              "\n",
              "[16005 rows x 16 columns]"
            ]
          },
          "metadata": {
            "tags": []
          },
          "execution_count": 28
        }
      ]
    },
    {
      "cell_type": "markdown",
      "metadata": {
        "id": "08LYIpGyHleI"
      },
      "source": [
        "### 2.3 Moving Column Positions - ```df.reindex()```"
      ]
    },
    {
      "cell_type": "markdown",
      "metadata": {
        "id": "m6SuvgcJIsfL"
      },
      "source": [
        "You can see below a list below which has the ```column_names``` in the order we want and is without the unneeded columns that we removed earlier.\n",
        "\n",
        "\n",
        "FIXME: What is the purpose of this section?\n"
      ]
    },
    {
      "cell_type": "code",
      "metadata": {
        "id": "B0p8g8M6HleJ",
        "outputId": "f080b23e-ab8d-4407-89dd-73a62898443d",
        "colab": {
          "base_uri": "https://localhost:8080/",
          "height": 1000
        }
      },
      "source": [
        "\"\"\"\n",
        "column_names = ['profile_id',\"age_estimate\",\"company_follower_count\", \"company_name\",\"company_staff_count\", \"connections_count\",\"country\", \"end_date\", \"followers_count\",\"gender\",\"has_picture\",\"has_premium\",\"member_location\",\"member_title\",\"position_location\",\"position_title\",\"start_date\",\"avg_member_pos_duration\",\"avg_company_pos_duration\",]\n",
        "\n",
        "df = df.reindex(columns=________) # Insert Code here\n",
        "\n",
        "df\n",
        "\"\"\"\n",
        "['Unnamed: 0',\n",
        " 'ageEstimate',\n",
        " 'companyName',\n",
        " 'country',\n",
        " 'endDate',\n",
        " 'hasPicture',\n",
        " 'isPremium',\n",
        " 'mbrLocation',\n",
        " 'mbrTitle',\n",
        " 'posLocation',\n",
        " 'posTitle',\n",
        " 'positionId',\n",
        " 'startDate',\n",
        " 'avgMemberPosDuration',\n",
        " 'avgCompanyPosDuration']\n",
        "\n",
        "column_names = [\n",
        "  'profile_id',\n",
        "  'company_name', \n",
        "  'start_date',\n",
        "  'end_date',\n",
        "  'age', \n",
        "  'country'\n",
        "]\n",
        "\n",
        "#df2 = df.reindex(index = range(1, number_of_completed_jobs + 1), columns = column_names) # Insert Code here\n",
        "\n",
        "df2 = df.reindex(columns = column_names) # Insert Code here\n",
        "\n",
        "df2\n",
        "df"
      ],
      "execution_count": 59,
      "outputs": [
        {
          "output_type": "execute_result",
          "data": {
            "text/html": [
              "<div>\n",
              "<style scoped>\n",
              "    .dataframe tbody tr th:only-of-type {\n",
              "        vertical-align: middle;\n",
              "    }\n",
              "\n",
              "    .dataframe tbody tr th {\n",
              "        vertical-align: top;\n",
              "    }\n",
              "\n",
              "    .dataframe thead th {\n",
              "        text-align: right;\n",
              "    }\n",
              "</style>\n",
              "<table border=\"1\" class=\"dataframe\">\n",
              "  <thead>\n",
              "    <tr style=\"text-align: right;\">\n",
              "      <th></th>\n",
              "      <th>profile_id</th>\n",
              "      <th>age</th>\n",
              "      <th>company_name</th>\n",
              "      <th>num_connections</th>\n",
              "      <th>country</th>\n",
              "      <th>end_date</th>\n",
              "      <th>hasPicture</th>\n",
              "      <th>isPremium</th>\n",
              "      <th>mbrLocation</th>\n",
              "      <th>mbrTitle</th>\n",
              "      <th>position_location</th>\n",
              "      <th>position_title</th>\n",
              "      <th>positionId</th>\n",
              "      <th>start_date</th>\n",
              "      <th>avgMemberPosDuration</th>\n",
              "      <th>avgCompanyPosDuration</th>\n",
              "    </tr>\n",
              "  </thead>\n",
              "  <tbody>\n",
              "    <tr>\n",
              "      <th>5</th>\n",
              "      <td>5</td>\n",
              "      <td>30.0</td>\n",
              "      <td>Optus</td>\n",
              "      <td>500.0</td>\n",
              "      <td>au</td>\n",
              "      <td>2016-12-01</td>\n",
              "      <td>RTMZ0-46bTjK4V_MGFDG6i5g0yZmFp5oS0S9liWvpWg.jpg</td>\n",
              "      <td>0.0</td>\n",
              "      <td>Sydney Area, Australia</td>\n",
              "      <td>Senior Marketing Manager, PayPal</td>\n",
              "      <td>Sydney, Australia</td>\n",
              "      <td>Digital and Social Engagement Leader, Optus Bu...</td>\n",
              "      <td>229894.0</td>\n",
              "      <td>2016-01-01</td>\n",
              "      <td>395.2857</td>\n",
              "      <td>977.6553</td>\n",
              "    </tr>\n",
              "    <tr>\n",
              "      <th>6</th>\n",
              "      <td>6</td>\n",
              "      <td>30.0</td>\n",
              "      <td>IBM</td>\n",
              "      <td>500.0</td>\n",
              "      <td>au</td>\n",
              "      <td>2015-12-01</td>\n",
              "      <td>RTMZ0-46bTjK4V_MGFDG6i5g0yZmFp5oS0S9liWvpWg.jpg</td>\n",
              "      <td>0.0</td>\n",
              "      <td>Sydney Area, Australia</td>\n",
              "      <td>Senior Marketing Manager, PayPal</td>\n",
              "      <td>Greater New York City Area</td>\n",
              "      <td>Social Brand Marketing</td>\n",
              "      <td>229895.0</td>\n",
              "      <td>2014-11-01</td>\n",
              "      <td>395.2857</td>\n",
              "      <td>1188.7339</td>\n",
              "    </tr>\n",
              "    <tr>\n",
              "      <th>7</th>\n",
              "      <td>7</td>\n",
              "      <td>30.0</td>\n",
              "      <td>IBM</td>\n",
              "      <td>500.0</td>\n",
              "      <td>au</td>\n",
              "      <td>2014-10-01</td>\n",
              "      <td>RTMZ0-46bTjK4V_MGFDG6i5g0yZmFp5oS0S9liWvpWg.jpg</td>\n",
              "      <td>0.0</td>\n",
              "      <td>Sydney Area, Australia</td>\n",
              "      <td>Senior Marketing Manager, PayPal</td>\n",
              "      <td>Australia</td>\n",
              "      <td>Brand Strategist</td>\n",
              "      <td>229896.0</td>\n",
              "      <td>2013-06-01</td>\n",
              "      <td>395.2857</td>\n",
              "      <td>1188.7339</td>\n",
              "    </tr>\n",
              "    <tr>\n",
              "      <th>8</th>\n",
              "      <td>8</td>\n",
              "      <td>30.0</td>\n",
              "      <td>IBM</td>\n",
              "      <td>500.0</td>\n",
              "      <td>au</td>\n",
              "      <td>2013-06-01</td>\n",
              "      <td>RTMZ0-46bTjK4V_MGFDG6i5g0yZmFp5oS0S9liWvpWg.jpg</td>\n",
              "      <td>0.0</td>\n",
              "      <td>Sydney Area, Australia</td>\n",
              "      <td>Senior Marketing Manager, PayPal</td>\n",
              "      <td>Australia</td>\n",
              "      <td>Brand Expression Lead</td>\n",
              "      <td>229897.0</td>\n",
              "      <td>2012-09-01</td>\n",
              "      <td>395.2857</td>\n",
              "      <td>1188.7339</td>\n",
              "    </tr>\n",
              "    <tr>\n",
              "      <th>9</th>\n",
              "      <td>9</td>\n",
              "      <td>30.0</td>\n",
              "      <td>IBM</td>\n",
              "      <td>500.0</td>\n",
              "      <td>au</td>\n",
              "      <td>2012-09-01</td>\n",
              "      <td>RTMZ0-46bTjK4V_MGFDG6i5g0yZmFp5oS0S9liWvpWg.jpg</td>\n",
              "      <td>0.0</td>\n",
              "      <td>Sydney Area, Australia</td>\n",
              "      <td>Senior Marketing Manager, PayPal</td>\n",
              "      <td>St Leonards, Australia</td>\n",
              "      <td>Brand System Graduate</td>\n",
              "      <td>229898.0</td>\n",
              "      <td>2011-09-01</td>\n",
              "      <td>395.2857</td>\n",
              "      <td>1188.7339</td>\n",
              "    </tr>\n",
              "    <tr>\n",
              "      <th>...</th>\n",
              "      <td>...</td>\n",
              "      <td>...</td>\n",
              "      <td>...</td>\n",
              "      <td>...</td>\n",
              "      <td>...</td>\n",
              "      <td>...</td>\n",
              "      <td>...</td>\n",
              "      <td>...</td>\n",
              "      <td>...</td>\n",
              "      <td>...</td>\n",
              "      <td>...</td>\n",
              "      <td>...</td>\n",
              "      <td>...</td>\n",
              "      <td>...</td>\n",
              "      <td>...</td>\n",
              "      <td>...</td>\n",
              "    </tr>\n",
              "    <tr>\n",
              "      <th>39532</th>\n",
              "      <td>39532</td>\n",
              "      <td>46.0</td>\n",
              "      <td>National Australia Bank</td>\n",
              "      <td>362.0</td>\n",
              "      <td>au</td>\n",
              "      <td>2009-04-01</td>\n",
              "      <td>p_4_000_171_2aa_07c7660.jpg</td>\n",
              "      <td>0.0</td>\n",
              "      <td>Melbourne Area, Australia</td>\n",
              "      <td>Head Of (Distributed) Credit, Vic/Tas at Natio...</td>\n",
              "      <td>St Kilda Rd Melbourne Business Banking Centre</td>\n",
              "      <td>Senior Partner</td>\n",
              "      <td>191517.0</td>\n",
              "      <td>2006-08-01</td>\n",
              "      <td>1912.0000</td>\n",
              "      <td>941.0968</td>\n",
              "    </tr>\n",
              "    <tr>\n",
              "      <th>39533</th>\n",
              "      <td>39533</td>\n",
              "      <td>46.0</td>\n",
              "      <td>National Australia Bank</td>\n",
              "      <td>362.0</td>\n",
              "      <td>au</td>\n",
              "      <td>2007-05-01</td>\n",
              "      <td>p_4_000_171_2aa_07c7660.jpg</td>\n",
              "      <td>0.0</td>\n",
              "      <td>Melbourne Area, Australia</td>\n",
              "      <td>Head Of (Distributed) Credit, Vic/Tas at Natio...</td>\n",
              "      <td>St Kilda Rd Melbourne Business Banking Centre</td>\n",
              "      <td>Senior Business Banking Manager / Partner 4</td>\n",
              "      <td>191518.0</td>\n",
              "      <td>2003-08-01</td>\n",
              "      <td>1912.0000</td>\n",
              "      <td>941.0968</td>\n",
              "    </tr>\n",
              "    <tr>\n",
              "      <th>39534</th>\n",
              "      <td>39534</td>\n",
              "      <td>46.0</td>\n",
              "      <td>National Australia Bank</td>\n",
              "      <td>362.0</td>\n",
              "      <td>au</td>\n",
              "      <td>2003-08-01</td>\n",
              "      <td>p_4_000_171_2aa_07c7660.jpg</td>\n",
              "      <td>0.0</td>\n",
              "      <td>Melbourne Area, Australia</td>\n",
              "      <td>Head Of (Distributed) Credit, Vic/Tas at Natio...</td>\n",
              "      <td>St Kilda Rd Melbourne &amp; Bourke and Russell St ...</td>\n",
              "      <td>Business Banking Manager / Partner 3</td>\n",
              "      <td>191519.0</td>\n",
              "      <td>2000-06-01</td>\n",
              "      <td>1912.0000</td>\n",
              "      <td>941.0968</td>\n",
              "    </tr>\n",
              "    <tr>\n",
              "      <th>39535</th>\n",
              "      <td>39535</td>\n",
              "      <td>46.0</td>\n",
              "      <td>National Australia Bank</td>\n",
              "      <td>362.0</td>\n",
              "      <td>au</td>\n",
              "      <td>2000-06-01</td>\n",
              "      <td>p_4_000_171_2aa_07c7660.jpg</td>\n",
              "      <td>0.0</td>\n",
              "      <td>Melbourne Area, Australia</td>\n",
              "      <td>Head Of (Distributed) Credit, Vic/Tas at Natio...</td>\n",
              "      <td>Melbourne Office Business Banking Centre</td>\n",
              "      <td>Business Banking Officer</td>\n",
              "      <td>191520.0</td>\n",
              "      <td>1995-11-01</td>\n",
              "      <td>1912.0000</td>\n",
              "      <td>941.0968</td>\n",
              "    </tr>\n",
              "    <tr>\n",
              "      <th>39536</th>\n",
              "      <td>39536</td>\n",
              "      <td>46.0</td>\n",
              "      <td>National Australia Bank</td>\n",
              "      <td>362.0</td>\n",
              "      <td>au</td>\n",
              "      <td>2000-06-01</td>\n",
              "      <td>p_4_000_171_2aa_07c7660.jpg</td>\n",
              "      <td>0.0</td>\n",
              "      <td>Melbourne Area, Australia</td>\n",
              "      <td>Head Of (Distributed) Credit, Vic/Tas at Natio...</td>\n",
              "      <td>271 Collins St Melbourne</td>\n",
              "      <td>Various customer service roles including inter...</td>\n",
              "      <td>191521.0</td>\n",
              "      <td>1989-02-01</td>\n",
              "      <td>1912.0000</td>\n",
              "      <td>941.0968</td>\n",
              "    </tr>\n",
              "  </tbody>\n",
              "</table>\n",
              "<p>16005 rows × 16 columns</p>\n",
              "</div>"
            ],
            "text/plain": [
              "       profile_id   age  ... avgMemberPosDuration  avgCompanyPosDuration\n",
              "5               5  30.0  ...             395.2857               977.6553\n",
              "6               6  30.0  ...             395.2857              1188.7339\n",
              "7               7  30.0  ...             395.2857              1188.7339\n",
              "8               8  30.0  ...             395.2857              1188.7339\n",
              "9               9  30.0  ...             395.2857              1188.7339\n",
              "...           ...   ...  ...                  ...                    ...\n",
              "39532       39532  46.0  ...            1912.0000               941.0968\n",
              "39533       39533  46.0  ...            1912.0000               941.0968\n",
              "39534       39534  46.0  ...            1912.0000               941.0968\n",
              "39535       39535  46.0  ...            1912.0000               941.0968\n",
              "39536       39536  46.0  ...            1912.0000               941.0968\n",
              "\n",
              "[16005 rows x 16 columns]"
            ]
          },
          "metadata": {
            "tags": []
          },
          "execution_count": 59
        }
      ]
    },
    {
      "cell_type": "markdown",
      "metadata": {
        "id": "ju-Bw99zHled"
      },
      "source": [
        "### 2.5 Changing Column Type and Sorting - ```df.sort_values()```"
      ]
    },
    {
      "cell_type": "markdown",
      "metadata": {
        "id": "agqqm6W-_gT3"
      },
      "source": [
        "Let's sort the table values according to the company name with the function `sort_values()`.\n",
        "\n",
        "To do this, indicate the column name in the `by = ____` section."
      ]
    },
    {
      "cell_type": "code",
      "metadata": {
        "id": "KCQb6H5uHled",
        "outputId": "5151f547-81aa-4d75-fc2f-4a936d16be3a",
        "colab": {
          "base_uri": "https://localhost:8080/",
          "height": 1000
        }
      },
      "source": [
        "\"\"\"\n",
        "df = df.sort_values(by='_______', ascending=True) # INSERT CODE HERE\n",
        "df\n",
        "\"\"\"\n",
        "df = df.sort_values(by=['company_name'], ascending=True) # INSERT CODE HERE\n",
        "df"
      ],
      "execution_count": 14,
      "outputs": [
        {
          "output_type": "execute_result",
          "data": {
            "text/html": [
              "<div>\n",
              "<style scoped>\n",
              "    .dataframe tbody tr th:only-of-type {\n",
              "        vertical-align: middle;\n",
              "    }\n",
              "\n",
              "    .dataframe tbody tr th {\n",
              "        vertical-align: top;\n",
              "    }\n",
              "\n",
              "    .dataframe thead th {\n",
              "        text-align: right;\n",
              "    }\n",
              "</style>\n",
              "<table border=\"1\" class=\"dataframe\">\n",
              "  <thead>\n",
              "    <tr style=\"text-align: right;\">\n",
              "      <th></th>\n",
              "      <th>profile_id</th>\n",
              "      <th>age</th>\n",
              "      <th>company_name</th>\n",
              "      <th>num_connections</th>\n",
              "      <th>country</th>\n",
              "      <th>end_date</th>\n",
              "      <th>hasPicture</th>\n",
              "      <th>isPremium</th>\n",
              "      <th>mbrLocation</th>\n",
              "      <th>mbrTitle</th>\n",
              "      <th>position_location</th>\n",
              "      <th>position_title</th>\n",
              "      <th>positionId</th>\n",
              "      <th>start_date</th>\n",
              "      <th>avgMemberPosDuration</th>\n",
              "      <th>avgCompanyPosDuration</th>\n",
              "    </tr>\n",
              "  </thead>\n",
              "  <tbody>\n",
              "    <tr>\n",
              "      <th>9291</th>\n",
              "      <td>9291</td>\n",
              "      <td>49.0</td>\n",
              "      <td>(CFSGAM) Colonial First State Global Asset Man...</td>\n",
              "      <td>500.0</td>\n",
              "      <td>au</td>\n",
              "      <td>2006-03-01</td>\n",
              "      <td>cfb9bec6-089e-4405-a5bb-f00205464280-3.jpg</td>\n",
              "      <td>0.0</td>\n",
              "      <td>Sydney, Australia</td>\n",
              "      <td>Director - Head of Australian Real Estate at I...</td>\n",
              "      <td>Sydney, Australia</td>\n",
              "      <td>Head of Close Core Funds and Mandates; Head of...</td>\n",
              "      <td>213938.0</td>\n",
              "      <td>2000-07-01</td>\n",
              "      <td>1161.6667</td>\n",
              "      <td>1081.1046</td>\n",
              "    </tr>\n",
              "    <tr>\n",
              "      <th>16108</th>\n",
              "      <td>16108</td>\n",
              "      <td>36.0</td>\n",
              "      <td>(CFSGAM) Colonial First State Global Asset Man...</td>\n",
              "      <td>288.0</td>\n",
              "      <td>au</td>\n",
              "      <td>2010-10-01</td>\n",
              "      <td>IsHWR5k-HiVFkfLjYYOP-qEme7FkOf_dN-3adOgtWFE.jpg</td>\n",
              "      <td>1.0</td>\n",
              "      <td>Perth, Australia</td>\n",
              "      <td>Marketer, Digital Aficionado, Analytics Addict</td>\n",
              "      <td>Rockingham Shopping Centre</td>\n",
              "      <td>Assitant Marketing Manager</td>\n",
              "      <td>157044.0</td>\n",
              "      <td>2009-05-01</td>\n",
              "      <td>457.5000</td>\n",
              "      <td>1081.1046</td>\n",
              "    </tr>\n",
              "    <tr>\n",
              "      <th>7880</th>\n",
              "      <td>7880</td>\n",
              "      <td>56.0</td>\n",
              "      <td>(STC) Standard Telephones and Cables</td>\n",
              "      <td>408.0</td>\n",
              "      <td>au</td>\n",
              "      <td>1988-05-01</td>\n",
              "      <td>86-fIeFyaBBwnF2qYWQ4kEx2yeBk1JtcUlNgUWas65Q.jpg</td>\n",
              "      <td>1.0</td>\n",
              "      <td>Melbourne Area, Australia</td>\n",
              "      <td>Head Of Technology at think</td>\n",
              "      <td>Melbourne, Australia</td>\n",
              "      <td>SW Engineer</td>\n",
              "      <td>234615.0</td>\n",
              "      <td>1986-05-01</td>\n",
              "      <td>654.5000</td>\n",
              "      <td>1197.5500</td>\n",
              "    </tr>\n",
              "    <tr>\n",
              "      <th>35681</th>\n",
              "      <td>35681</td>\n",
              "      <td>23.0</td>\n",
              "      <td>1 AN TV</td>\n",
              "      <td>318.0</td>\n",
              "      <td>au</td>\n",
              "      <td>2017-08-01</td>\n",
              "      <td>AAEAAQAAAAAAAA0kAAAAJDRlMWQ0NmFhLWUwZjMtNGIyNy...</td>\n",
              "      <td>1.0</td>\n",
              "      <td>Melbourne, Australia</td>\n",
              "      <td>A global initiative paving the way to heal inh...</td>\n",
              "      <td>Istanbul, Turkey</td>\n",
              "      <td>Guest Speaker</td>\n",
              "      <td>27795707.0</td>\n",
              "      <td>2017-06-01</td>\n",
              "      <td>218.1667</td>\n",
              "      <td>61.0000</td>\n",
              "    </tr>\n",
              "    <tr>\n",
              "      <th>35682</th>\n",
              "      <td>35682</td>\n",
              "      <td>23.0</td>\n",
              "      <td>1 AN TV</td>\n",
              "      <td>318.0</td>\n",
              "      <td>au</td>\n",
              "      <td>2017-08-01</td>\n",
              "      <td>AAEAAQAAAAAAAA0kAAAAJDRlMWQ0NmFhLWUwZjMtNGIyNy...</td>\n",
              "      <td>1.0</td>\n",
              "      <td>Melbourne, Australia</td>\n",
              "      <td>A global initiative paving the way to heal inh...</td>\n",
              "      <td>Istanbul, Turkey</td>\n",
              "      <td>Guest Speaker</td>\n",
              "      <td>27795708.0</td>\n",
              "      <td>2017-06-01</td>\n",
              "      <td>218.1667</td>\n",
              "      <td>61.0000</td>\n",
              "    </tr>\n",
              "    <tr>\n",
              "      <th>...</th>\n",
              "      <td>...</td>\n",
              "      <td>...</td>\n",
              "      <td>...</td>\n",
              "      <td>...</td>\n",
              "      <td>...</td>\n",
              "      <td>...</td>\n",
              "      <td>...</td>\n",
              "      <td>...</td>\n",
              "      <td>...</td>\n",
              "      <td>...</td>\n",
              "      <td>...</td>\n",
              "      <td>...</td>\n",
              "      <td>...</td>\n",
              "      <td>...</td>\n",
              "      <td>...</td>\n",
              "      <td>...</td>\n",
              "    </tr>\n",
              "    <tr>\n",
              "      <th>21531</th>\n",
              "      <td>21531</td>\n",
              "      <td>30.0</td>\n",
              "      <td>zspace</td>\n",
              "      <td>225.0</td>\n",
              "      <td>au</td>\n",
              "      <td>2015-09-01</td>\n",
              "      <td>P84Qj4vZQrObL-af7bddNbzv5CfxHgDR5vcwoMUGPA8.jpg</td>\n",
              "      <td>0.0</td>\n",
              "      <td>Surry Hills, New South Wales, Australia</td>\n",
              "      <td>Lead Modeler at Buck Sydney</td>\n",
              "      <td>Sydney, Australia</td>\n",
              "      <td>Character Modeller</td>\n",
              "      <td>168300.0</td>\n",
              "      <td>2015-09-01</td>\n",
              "      <td>265.5455</td>\n",
              "      <td>588.3947</td>\n",
              "    </tr>\n",
              "    <tr>\n",
              "      <th>5711</th>\n",
              "      <td>5711</td>\n",
              "      <td>28.0</td>\n",
              "      <td>{Studio39}</td>\n",
              "      <td>500.0</td>\n",
              "      <td>au</td>\n",
              "      <td>2016-11-01</td>\n",
              "      <td>-LA-4MIQdAD8t2qtS7lxjFt7bXHNSxNrLiODL9xdyqs.jpg</td>\n",
              "      <td>0.0</td>\n",
              "      <td>Melbourne Area, Australia</td>\n",
              "      <td>A naturally inquisitive and curious philomath....</td>\n",
              "      <td>Gold Coast</td>\n",
              "      <td>Cofounder</td>\n",
              "      <td>248165.0</td>\n",
              "      <td>2014-03-01</td>\n",
              "      <td>455.6000</td>\n",
              "      <td>747.5000</td>\n",
              "    </tr>\n",
              "    <tr>\n",
              "      <th>21581</th>\n",
              "      <td>21581</td>\n",
              "      <td>26.0</td>\n",
              "      <td>Ãcole Polytechnique de MontrÃ©al</td>\n",
              "      <td>500.0</td>\n",
              "      <td>au</td>\n",
              "      <td>2016-02-01</td>\n",
              "      <td>rrYOzYf_fspcoZFMY7mym45FmlGyxNNJ8c1Dd3Tc5ik.jpg</td>\n",
              "      <td>0.0</td>\n",
              "      <td>Toowoomba, Australia</td>\n",
              "      <td>Engineer (Civil) at Department of Transport an...</td>\n",
              "      <td>Montreal, Canada Area</td>\n",
              "      <td>Research Intern</td>\n",
              "      <td>279805.0</td>\n",
              "      <td>2015-11-01</td>\n",
              "      <td>438.6000</td>\n",
              "      <td>491.1455</td>\n",
              "    </tr>\n",
              "    <tr>\n",
              "      <th>27998</th>\n",
              "      <td>27998</td>\n",
              "      <td>45.0</td>\n",
              "      <td>Ãrebro University</td>\n",
              "      <td>500.0</td>\n",
              "      <td>au</td>\n",
              "      <td>2001-07-01</td>\n",
              "      <td>Zdgc2qddsyndS5gi8nFlQmbu9hKHKboWGORpzUDL_WE.jpg</td>\n",
              "      <td>0.0</td>\n",
              "      <td>Adelaide, Australia</td>\n",
              "      <td>Vice-President and Pro Vice-Chancellor (Intern...</td>\n",
              "      <td>Örebro, Sweden</td>\n",
              "      <td>Coordinator, International Programs</td>\n",
              "      <td>271441.0</td>\n",
              "      <td>1998-01-01</td>\n",
              "      <td>767.7778</td>\n",
              "      <td>801.1163</td>\n",
              "    </tr>\n",
              "    <tr>\n",
              "      <th>4681</th>\n",
              "      <td>4681</td>\n",
              "      <td>34.0</td>\n",
              "      <td>ÙÙØ³Ø³Ù ØªÙØ³Ø¹Ù Ø¯Ø§ÙØ´Ø Ù¾ÚÙÙØ´ Ù...</td>\n",
              "      <td>500.0</td>\n",
              "      <td>au</td>\n",
              "      <td>2011-07-01</td>\n",
              "      <td>be69626c-b4ff-4611-ba98-13c23de9b551-3.jpg</td>\n",
              "      <td>0.0</td>\n",
              "      <td>Padstow, New South Wales, Australia</td>\n",
              "      <td>Software Engineer (iOS Developer) at TripAdvis...</td>\n",
              "      <td>Tehran, Iran</td>\n",
              "      <td>Web Developer</td>\n",
              "      <td>170643.0</td>\n",
              "      <td>2010-06-01</td>\n",
              "      <td>448.2727</td>\n",
              "      <td>395.0000</td>\n",
              "    </tr>\n",
              "  </tbody>\n",
              "</table>\n",
              "<p>16005 rows × 16 columns</p>\n",
              "</div>"
            ],
            "text/plain": [
              "       profile_id   age  ... avgMemberPosDuration  avgCompanyPosDuration\n",
              "9291         9291  49.0  ...            1161.6667              1081.1046\n",
              "16108       16108  36.0  ...             457.5000              1081.1046\n",
              "7880         7880  56.0  ...             654.5000              1197.5500\n",
              "35681       35681  23.0  ...             218.1667                61.0000\n",
              "35682       35682  23.0  ...             218.1667                61.0000\n",
              "...           ...   ...  ...                  ...                    ...\n",
              "21531       21531  30.0  ...             265.5455               588.3947\n",
              "5711         5711  28.0  ...             455.6000               747.5000\n",
              "21581       21581  26.0  ...             438.6000               491.1455\n",
              "27998       27998  45.0  ...             767.7778               801.1163\n",
              "4681         4681  34.0  ...             448.2727               395.0000\n",
              "\n",
              "[16005 rows x 16 columns]"
            ]
          },
          "metadata": {
            "tags": []
          },
          "execution_count": 14
        }
      ]
    },
    {
      "cell_type": "markdown",
      "metadata": {
        "id": "AZbNdBQKgznj"
      },
      "source": [
        "### 2.6 Reseting the Index \n",
        "FIXME: Do we need to reset the index?"
      ]
    },
    {
      "cell_type": "markdown",
      "metadata": {
        "id": "AMV7309HHleh"
      },
      "source": [
        "Reseting Index using ```df.reset_index``` with respect 'year_of_arrival' in Ascending Order. "
      ]
    },
    {
      "cell_type": "code",
      "metadata": {
        "id": "rEIogWnUHlei",
        "outputId": "a33d544e-ce4a-45ca-c7aa-d72d342718f7",
        "colab": {
          "base_uri": "https://localhost:8080/",
          "height": 419
        }
      },
      "source": [
        "\"\"\"\n",
        "df.___________(inplace=True, drop=True) # INSERT CODE HERE\n",
        "df\n",
        "\"\"\"\n",
        "df2.reset_index(inplace=True, drop=True) # INSERT CODE HERE\n",
        "df2"
      ],
      "execution_count": 61,
      "outputs": [
        {
          "output_type": "execute_result",
          "data": {
            "text/html": [
              "<div>\n",
              "<style scoped>\n",
              "    .dataframe tbody tr th:only-of-type {\n",
              "        vertical-align: middle;\n",
              "    }\n",
              "\n",
              "    .dataframe tbody tr th {\n",
              "        vertical-align: top;\n",
              "    }\n",
              "\n",
              "    .dataframe thead th {\n",
              "        text-align: right;\n",
              "    }\n",
              "</style>\n",
              "<table border=\"1\" class=\"dataframe\">\n",
              "  <thead>\n",
              "    <tr style=\"text-align: right;\">\n",
              "      <th></th>\n",
              "      <th>profile_id</th>\n",
              "      <th>company_name</th>\n",
              "      <th>start_date</th>\n",
              "      <th>end_date</th>\n",
              "      <th>age</th>\n",
              "      <th>country</th>\n",
              "    </tr>\n",
              "  </thead>\n",
              "  <tbody>\n",
              "    <tr>\n",
              "      <th>0</th>\n",
              "      <td>5</td>\n",
              "      <td>Optus</td>\n",
              "      <td>2016-01-01</td>\n",
              "      <td>2016-12-01</td>\n",
              "      <td>30.0</td>\n",
              "      <td>au</td>\n",
              "    </tr>\n",
              "    <tr>\n",
              "      <th>1</th>\n",
              "      <td>6</td>\n",
              "      <td>IBM</td>\n",
              "      <td>2014-11-01</td>\n",
              "      <td>2015-12-01</td>\n",
              "      <td>30.0</td>\n",
              "      <td>au</td>\n",
              "    </tr>\n",
              "    <tr>\n",
              "      <th>2</th>\n",
              "      <td>7</td>\n",
              "      <td>IBM</td>\n",
              "      <td>2013-06-01</td>\n",
              "      <td>2014-10-01</td>\n",
              "      <td>30.0</td>\n",
              "      <td>au</td>\n",
              "    </tr>\n",
              "    <tr>\n",
              "      <th>3</th>\n",
              "      <td>8</td>\n",
              "      <td>IBM</td>\n",
              "      <td>2012-09-01</td>\n",
              "      <td>2013-06-01</td>\n",
              "      <td>30.0</td>\n",
              "      <td>au</td>\n",
              "    </tr>\n",
              "    <tr>\n",
              "      <th>4</th>\n",
              "      <td>9</td>\n",
              "      <td>IBM</td>\n",
              "      <td>2011-09-01</td>\n",
              "      <td>2012-09-01</td>\n",
              "      <td>30.0</td>\n",
              "      <td>au</td>\n",
              "    </tr>\n",
              "    <tr>\n",
              "      <th>...</th>\n",
              "      <td>...</td>\n",
              "      <td>...</td>\n",
              "      <td>...</td>\n",
              "      <td>...</td>\n",
              "      <td>...</td>\n",
              "      <td>...</td>\n",
              "    </tr>\n",
              "    <tr>\n",
              "      <th>16000</th>\n",
              "      <td>39532</td>\n",
              "      <td>National Australia Bank</td>\n",
              "      <td>2006-08-01</td>\n",
              "      <td>2009-04-01</td>\n",
              "      <td>46.0</td>\n",
              "      <td>au</td>\n",
              "    </tr>\n",
              "    <tr>\n",
              "      <th>16001</th>\n",
              "      <td>39533</td>\n",
              "      <td>National Australia Bank</td>\n",
              "      <td>2003-08-01</td>\n",
              "      <td>2007-05-01</td>\n",
              "      <td>46.0</td>\n",
              "      <td>au</td>\n",
              "    </tr>\n",
              "    <tr>\n",
              "      <th>16002</th>\n",
              "      <td>39534</td>\n",
              "      <td>National Australia Bank</td>\n",
              "      <td>2000-06-01</td>\n",
              "      <td>2003-08-01</td>\n",
              "      <td>46.0</td>\n",
              "      <td>au</td>\n",
              "    </tr>\n",
              "    <tr>\n",
              "      <th>16003</th>\n",
              "      <td>39535</td>\n",
              "      <td>National Australia Bank</td>\n",
              "      <td>1995-11-01</td>\n",
              "      <td>2000-06-01</td>\n",
              "      <td>46.0</td>\n",
              "      <td>au</td>\n",
              "    </tr>\n",
              "    <tr>\n",
              "      <th>16004</th>\n",
              "      <td>39536</td>\n",
              "      <td>National Australia Bank</td>\n",
              "      <td>1989-02-01</td>\n",
              "      <td>2000-06-01</td>\n",
              "      <td>46.0</td>\n",
              "      <td>au</td>\n",
              "    </tr>\n",
              "  </tbody>\n",
              "</table>\n",
              "<p>16005 rows × 6 columns</p>\n",
              "</div>"
            ],
            "text/plain": [
              "       profile_id             company_name  ...   age country\n",
              "0               5                    Optus  ...  30.0      au\n",
              "1               6                      IBM  ...  30.0      au\n",
              "2               7                      IBM  ...  30.0      au\n",
              "3               8                      IBM  ...  30.0      au\n",
              "4               9                      IBM  ...  30.0      au\n",
              "...           ...                      ...  ...   ...     ...\n",
              "16000       39532  National Australia Bank  ...  46.0      au\n",
              "16001       39533  National Australia Bank  ...  46.0      au\n",
              "16002       39534  National Australia Bank  ...  46.0      au\n",
              "16003       39535  National Australia Bank  ...  46.0      au\n",
              "16004       39536  National Australia Bank  ...  46.0      au\n",
              "\n",
              "[16005 rows x 6 columns]"
            ]
          },
          "metadata": {
            "tags": []
          },
          "execution_count": 61
        }
      ]
    },
    {
      "cell_type": "markdown",
      "metadata": {
        "id": "i_4uzK6tHlel"
      },
      "source": [
        "### Finding Unique and similar strings \n",
        "\n",
        "First, we will list down all the unique names in these columns. Next, we will sort these in alphabetical order in order to make it easier to observe.\n",
        "\n",
        "```df['column_name`].unique()``` and ```df.sort()```\n",
        "\n",
        "For simplicity I have just declared the first line as a variable ```a``` in order to print it\n",
        "\n"
      ]
    },
    {
      "cell_type": "code",
      "metadata": {
        "id": "zcZzcYc6Hlel",
        "outputId": "9e7ecf2f-cd3c-44de-9107-25d60f0fb1dc",
        "colab": {
          "base_uri": "https://localhost:8080/",
          "height": 102
        }
      },
      "source": [
        "a = df['company_name'].unique()\n",
        "a.sort()\n",
        "a"
      ],
      "execution_count": 62,
      "outputs": [
        {
          "output_type": "execute_result",
          "data": {
            "text/plain": [
              "array(['(CFSGAM) Colonial First State Global Asset Management',\n",
              "       '(STC) Standard Telephones and Cables', '1 AN TV', ...,\n",
              "       'Ã\\x89cole Polytechnique de MontrÃ©al', 'Ã\\x96rebro University',\n",
              "       'Ù\\x85Ù\\x88Ø³Ø³Ù\\x87 ØªÙ\\x88Ø³Ø¹Ù\\x87 Ø¯Ø§Ù\\x86Ø´Ø\\x8c Ù¾Ú\\x98Ù\\x88Ù\\x87Ø´ Ù\\x88 Ù\\x81Ù\\x86Ø§Ù\\x88Ø±Û\\x8c Ù\\x81Ø±Ø²Ø§Ù\\x86'],\n",
              "      dtype=object)"
            ]
          },
          "metadata": {
            "tags": []
          },
          "execution_count": 62
        }
      ]
    },
    {
      "cell_type": "code",
      "metadata": {
        "id": "Xo4FXypKHleq",
        "outputId": "9ab6cf7c-e376-464a-8c3b-47585eec822d",
        "colab": {
          "base_uri": "https://localhost:8080/",
          "height": 85
        }
      },
      "source": [
        "a = df['position_location'].unique()\n",
        "a.sort()\n",
        "a"
      ],
      "execution_count": 63,
      "outputs": [
        {
          "output_type": "execute_result",
          "data": {
            "text/plain": [
              "array(['.', '1 Amarina Avenue, Greenacre NSW 2190',\n",
              "       '1 Farrer Place | Governor Phillip Tower', ...,\n",
              "       '~35,000 Km above the equator in geosynchronous orbit beaming down on Australia',\n",
              "       'Örebro, Sweden', '澳大利亚 墨尔本地区'], dtype=object)"
            ]
          },
          "metadata": {
            "tags": []
          },
          "execution_count": 63
        }
      ]
    },
    {
      "cell_type": "code",
      "metadata": {
        "id": "m4mKFIA8Hlex",
        "outputId": "5f06ecfa-ca9d-4efa-fb25-4b0958dd952f",
        "colab": {
          "base_uri": "https://localhost:8080/",
          "height": 1000
        }
      },
      "source": [
        "a = df['end_date'].unique()\n",
        "a.sort()\n",
        "a"
      ],
      "execution_count": 64,
      "outputs": [
        {
          "output_type": "execute_result",
          "data": {
            "text/plain": [
              "array(['1971-12-01', '1973-12-01', '1975-12-01', '1977-06-01',\n",
              "       '1978-11-01', '1978-12-01', '1979-06-01', '1980-07-01',\n",
              "       '1981-01-01', '1981-12-01', '1982-04-01', '1982-11-01',\n",
              "       '1983-01-01', '1983-06-01', '1983-12-01', '1984-02-01',\n",
              "       '1984-10-01', '1984-12-01', '1985-05-01', '1985-06-01',\n",
              "       '1985-12-01', '1986-01-01', '1986-07-01', '1986-10-01',\n",
              "       '1986-12-01', '1987-06-01', '1987-08-01', '1987-11-01',\n",
              "       '1988-05-01', '1988-07-01', '1988-11-01', '1988-12-01',\n",
              "       '1989-01-01', '1989-02-01', '1989-09-01', '1989-10-01',\n",
              "       '1989-12-01', '1990-01-01', '1990-02-01', '1990-03-01',\n",
              "       '1990-04-01', '1990-05-01', '1990-09-01', '1990-10-01',\n",
              "       '1990-11-01', '1990-12-01', '1991-02-01', '1991-03-01',\n",
              "       '1991-08-01', '1991-09-01', '1991-11-01', '1991-12-01',\n",
              "       '1992-01-01', '1992-03-01', '1992-05-01', '1992-06-01',\n",
              "       '1992-07-01', '1992-08-01', '1992-09-01', '1992-10-01',\n",
              "       '1992-11-01', '1992-12-01', '1993-01-01', '1993-02-01',\n",
              "       '1993-03-01', '1993-04-01', '1993-06-01', '1993-07-01',\n",
              "       '1993-08-01', '1993-09-01', '1993-10-01', '1993-11-01',\n",
              "       '1993-12-01', '1994-01-01', '1994-02-01', '1994-03-01',\n",
              "       '1994-04-01', '1994-05-01', '1994-06-01', '1994-07-01',\n",
              "       '1994-08-01', '1994-09-01', '1994-10-01', '1994-11-01',\n",
              "       '1994-12-01', '1995-01-01', '1995-02-01', '1995-03-01',\n",
              "       '1995-04-01', '1995-05-01', '1995-06-01', '1995-07-01',\n",
              "       '1995-08-01', '1995-09-01', '1995-10-01', '1995-11-01',\n",
              "       '1995-12-01', '1996-01-01', '1996-02-01', '1996-03-01',\n",
              "       '1996-04-01', '1996-05-01', '1996-06-01', '1996-07-01',\n",
              "       '1996-08-01', '1996-09-01', '1996-10-01', '1996-11-01',\n",
              "       '1996-12-01', '1997-01-01', '1997-02-01', '1997-03-01',\n",
              "       '1997-04-01', '1997-05-01', '1997-06-01', '1997-07-01',\n",
              "       '1997-08-01', '1997-09-01', '1997-10-01', '1997-11-01',\n",
              "       '1997-12-01', '1998-01-01', '1998-02-01', '1998-03-01',\n",
              "       '1998-04-01', '1998-05-01', '1998-06-01', '1998-07-01',\n",
              "       '1998-08-01', '1998-09-01', '1998-10-01', '1998-11-01',\n",
              "       '1998-12-01', '1999-01-01', '1999-02-01', '1999-03-01',\n",
              "       '1999-04-01', '1999-05-01', '1999-06-01', '1999-07-01',\n",
              "       '1999-08-01', '1999-09-01', '1999-10-01', '1999-11-01',\n",
              "       '1999-12-01', '2000-01-01', '2000-02-01', '2000-03-01',\n",
              "       '2000-04-01', '2000-05-01', '2000-06-01', '2000-07-01',\n",
              "       '2000-08-01', '2000-09-01', '2000-10-01', '2000-11-01',\n",
              "       '2000-12-01', '2001-01-01', '2001-02-01', '2001-03-01',\n",
              "       '2001-04-01', '2001-05-01', '2001-06-01', '2001-07-01',\n",
              "       '2001-08-01', '2001-09-01', '2001-10-01', '2001-11-01',\n",
              "       '2001-12-01', '2002-01-01', '2002-02-01', '2002-03-01',\n",
              "       '2002-04-01', '2002-05-01', '2002-06-01', '2002-07-01',\n",
              "       '2002-08-01', '2002-09-01', '2002-10-01', '2002-11-01',\n",
              "       '2002-12-01', '2003-01-01', '2003-02-01', '2003-03-01',\n",
              "       '2003-04-01', '2003-05-01', '2003-06-01', '2003-07-01',\n",
              "       '2003-08-01', '2003-09-01', '2003-10-01', '2003-11-01',\n",
              "       '2003-12-01', '2004-01-01', '2004-02-01', '2004-03-01',\n",
              "       '2004-04-01', '2004-05-01', '2004-06-01', '2004-07-01',\n",
              "       '2004-08-01', '2004-09-01', '2004-10-01', '2004-11-01',\n",
              "       '2004-12-01', '2005-01-01', '2005-02-01', '2005-03-01',\n",
              "       '2005-04-01', '2005-05-01', '2005-06-01', '2005-07-01',\n",
              "       '2005-08-01', '2005-09-01', '2005-10-01', '2005-11-01',\n",
              "       '2005-12-01', '2006-01-01', '2006-02-01', '2006-03-01',\n",
              "       '2006-04-01', '2006-05-01', '2006-06-01', '2006-07-01',\n",
              "       '2006-08-01', '2006-09-01', '2006-10-01', '2006-11-01',\n",
              "       '2006-12-01', '2007-01-01', '2007-02-01', '2007-03-01',\n",
              "       '2007-04-01', '2007-05-01', '2007-06-01', '2007-07-01',\n",
              "       '2007-08-01', '2007-09-01', '2007-10-01', '2007-11-01',\n",
              "       '2007-12-01', '2008-01-01', '2008-02-01', '2008-03-01',\n",
              "       '2008-04-01', '2008-05-01', '2008-06-01', '2008-07-01',\n",
              "       '2008-08-01', '2008-09-01', '2008-10-01', '2008-11-01',\n",
              "       '2008-12-01', '2009-01-01', '2009-02-01', '2009-03-01',\n",
              "       '2009-04-01', '2009-05-01', '2009-06-01', '2009-07-01',\n",
              "       '2009-08-01', '2009-09-01', '2009-10-01', '2009-11-01',\n",
              "       '2009-12-01', '2010-01-01', '2010-02-01', '2010-03-01',\n",
              "       '2010-04-01', '2010-05-01', '2010-06-01', '2010-07-01',\n",
              "       '2010-08-01', '2010-09-01', '2010-10-01', '2010-11-01',\n",
              "       '2010-12-01', '2011-01-01', '2011-02-01', '2011-03-01',\n",
              "       '2011-04-01', '2011-05-01', '2011-06-01', '2011-07-01',\n",
              "       '2011-08-01', '2011-09-01', '2011-10-01', '2011-11-01',\n",
              "       '2011-12-01', '2012-01-01', '2012-02-01', '2012-03-01',\n",
              "       '2012-04-01', '2012-05-01', '2012-06-01', '2012-07-01',\n",
              "       '2012-08-01', '2012-09-01', '2012-10-01', '2012-11-01',\n",
              "       '2012-12-01', '2013-01-01', '2013-02-01', '2013-03-01',\n",
              "       '2013-04-01', '2013-05-01', '2013-06-01', '2013-07-01',\n",
              "       '2013-08-01', '2013-09-01', '2013-10-01', '2013-11-01',\n",
              "       '2013-12-01', '2014-01-01', '2014-02-01', '2014-03-01',\n",
              "       '2014-04-01', '2014-05-01', '2014-06-01', '2014-07-01',\n",
              "       '2014-08-01', '2014-09-01', '2014-10-01', '2014-11-01',\n",
              "       '2014-12-01', '2015-01-01', '2015-02-01', '2015-03-01',\n",
              "       '2015-04-01', '2015-05-01', '2015-06-01', '2015-07-01',\n",
              "       '2015-08-01', '2015-09-01', '2015-10-01', '2015-11-01',\n",
              "       '2015-12-01', '2016-01-01', '2016-02-01', '2016-03-01',\n",
              "       '2016-04-01', '2016-05-01', '2016-06-01', '2016-07-01',\n",
              "       '2016-08-01', '2016-09-01', '2016-10-01', '2016-11-01',\n",
              "       '2016-12-01', '2017-01-01', '2017-02-01', '2017-03-01',\n",
              "       '2017-04-01', '2017-05-01', '2017-06-01', '2017-07-01',\n",
              "       '2017-08-01', '2017-09-01', '2017-10-01', '2017-11-01',\n",
              "       '2017-12-01', '2018-01-01', '2018-02-01', '2018-03-01',\n",
              "       '2018-04-01', '2018-05-01', '2018-06-01', '2018-07-01',\n",
              "       '2018-08-01', '2018-09-01', '2018-10-01', '2018-11-01',\n",
              "       '2018-12-01', '2019-01-01', '2019-02-01'], dtype=object)"
            ]
          },
          "metadata": {
            "tags": []
          },
          "execution_count": 64
        }
      ]
    },
    {
      "cell_type": "markdown",
      "metadata": {
        "id": "Tilt8tICP_Yw"
      },
      "source": [
        "As we can see above for our object columns, ```company_name```, ```position_location``` and 'end_date', we have identified the unique values in each of the columns.\n",
        "\n",
        "Notice that the `position_location` values are similar, but may vary by the specific city listed. We can simplify this to group by only the countries, and can disregard the cities.\n",
        "\n",
        "Likewise, we can simplify the values in the `end_date` columns by only saving the `year` value, and disregarding the `month` and `day` entries."
      ]
    },
    {
      "cell_type": "markdown",
      "metadata": {
        "id": "zKVGN7_cHle2"
      },
      "source": [
        "### 2.7 Working with Strings - ```df['column_name'].str.replace()```"
      ]
    },
    {
      "cell_type": "markdown",
      "metadata": {
        "id": "SESPapu0UDyS"
      },
      "source": [
        "To replace unwanted parts of a string, we use the function ```df['columun_name'].str.replace('string to find','string to replace')```. This command looks for the string we have specified and replaces with what we want.\n",
        "\n",
        "In this case, we will be using **Regular Expression Matching**, which is a more complex topic, so don't worry too much about it at the moment, as the code will be provided for you.\n",
        "\n",
        "In **Regular Expression Matching**, we search for patterns of a string that follow specific rules.\n",
        "\n",
        "In our case, `start_date` and `end_date` entries are given in the format of `YEAR-MONTH-DAY`, which we want to change to only save the `YEAR`.\n",
        "\n",
        "This means that we want to remove everything that comes after the dash/hyphen symbol `-`. \n",
        "\n",
        "To do this, we will indicate that we are searching for the pattern `-.*`, in which the string `.*` substitutes for any string of characters. We will replace the pattern with an empty string `''` to remove it.\n",
        "\n",
        "Thus, the code that we will run will be as following:\n",
        "```df['start_date'].str.replace('-.*', '', regex = True)```\n",
        "\n",
        "The same goes for the `end_date` column."
      ]
    },
    {
      "cell_type": "code",
      "metadata": {
        "id": "a7rW2Nq5EUsg",
        "outputId": "dbba60fa-1a9d-400c-f9ab-d8d333491a67",
        "colab": {
          "base_uri": "https://localhost:8080/",
          "height": 1000
        }
      },
      "source": [
        "# We want to restructure the values for ```start_date``` and ```end_date``` to only provide the Year\n",
        "# We need to remove the Month and Day from ```start_date```\n",
        "\"\"\"\n",
        "df['start_date'] = df['start_date'].str.replace('_____', '', regex = True)      # Insert string to replace\n",
        "\n",
        "# We need to remove the Month and Day from ```end_date```\n",
        "df['end_date'] = df['end_date'].str.replace('_____', '', regex = True)    # Insert string to replace \n",
        "\n",
        "df\n",
        "\"\"\"\n",
        "\n",
        "df['start_date'] = df['start_date'].str.replace('-.*', '', regex = True)      # Insert string to replace\n",
        "\n",
        "df['end_date'] = df['end_date'].str.replace('-.*', '', regex = True)      # Insert string to replace\n",
        "df"
      ],
      "execution_count": 29,
      "outputs": [
        {
          "output_type": "execute_result",
          "data": {
            "text/html": [
              "<div>\n",
              "<style scoped>\n",
              "    .dataframe tbody tr th:only-of-type {\n",
              "        vertical-align: middle;\n",
              "    }\n",
              "\n",
              "    .dataframe tbody tr th {\n",
              "        vertical-align: top;\n",
              "    }\n",
              "\n",
              "    .dataframe thead th {\n",
              "        text-align: right;\n",
              "    }\n",
              "</style>\n",
              "<table border=\"1\" class=\"dataframe\">\n",
              "  <thead>\n",
              "    <tr style=\"text-align: right;\">\n",
              "      <th></th>\n",
              "      <th>profile_id</th>\n",
              "      <th>age</th>\n",
              "      <th>company_name</th>\n",
              "      <th>num_connections</th>\n",
              "      <th>country</th>\n",
              "      <th>end_date</th>\n",
              "      <th>hasPicture</th>\n",
              "      <th>isPremium</th>\n",
              "      <th>mbrLocation</th>\n",
              "      <th>mbrTitle</th>\n",
              "      <th>position_location</th>\n",
              "      <th>position_title</th>\n",
              "      <th>positionId</th>\n",
              "      <th>start_date</th>\n",
              "      <th>avgMemberPosDuration</th>\n",
              "      <th>avgCompanyPosDuration</th>\n",
              "    </tr>\n",
              "  </thead>\n",
              "  <tbody>\n",
              "    <tr>\n",
              "      <th>5</th>\n",
              "      <td>5</td>\n",
              "      <td>30.0</td>\n",
              "      <td>Optus</td>\n",
              "      <td>500.0</td>\n",
              "      <td>au</td>\n",
              "      <td>2016</td>\n",
              "      <td>RTMZ0-46bTjK4V_MGFDG6i5g0yZmFp5oS0S9liWvpWg.jpg</td>\n",
              "      <td>0.0</td>\n",
              "      <td>Sydney Area, Australia</td>\n",
              "      <td>Senior Marketing Manager, PayPal</td>\n",
              "      <td>Sydney, Australia</td>\n",
              "      <td>Digital and Social Engagement Leader, Optus Bu...</td>\n",
              "      <td>229894.0</td>\n",
              "      <td>2016</td>\n",
              "      <td>395.2857</td>\n",
              "      <td>977.6553</td>\n",
              "    </tr>\n",
              "    <tr>\n",
              "      <th>6</th>\n",
              "      <td>6</td>\n",
              "      <td>30.0</td>\n",
              "      <td>IBM</td>\n",
              "      <td>500.0</td>\n",
              "      <td>au</td>\n",
              "      <td>2015</td>\n",
              "      <td>RTMZ0-46bTjK4V_MGFDG6i5g0yZmFp5oS0S9liWvpWg.jpg</td>\n",
              "      <td>0.0</td>\n",
              "      <td>Sydney Area, Australia</td>\n",
              "      <td>Senior Marketing Manager, PayPal</td>\n",
              "      <td>Greater New York City Area</td>\n",
              "      <td>Social Brand Marketing</td>\n",
              "      <td>229895.0</td>\n",
              "      <td>2014</td>\n",
              "      <td>395.2857</td>\n",
              "      <td>1188.7339</td>\n",
              "    </tr>\n",
              "    <tr>\n",
              "      <th>7</th>\n",
              "      <td>7</td>\n",
              "      <td>30.0</td>\n",
              "      <td>IBM</td>\n",
              "      <td>500.0</td>\n",
              "      <td>au</td>\n",
              "      <td>2014</td>\n",
              "      <td>RTMZ0-46bTjK4V_MGFDG6i5g0yZmFp5oS0S9liWvpWg.jpg</td>\n",
              "      <td>0.0</td>\n",
              "      <td>Sydney Area, Australia</td>\n",
              "      <td>Senior Marketing Manager, PayPal</td>\n",
              "      <td>Australia</td>\n",
              "      <td>Brand Strategist</td>\n",
              "      <td>229896.0</td>\n",
              "      <td>2013</td>\n",
              "      <td>395.2857</td>\n",
              "      <td>1188.7339</td>\n",
              "    </tr>\n",
              "    <tr>\n",
              "      <th>8</th>\n",
              "      <td>8</td>\n",
              "      <td>30.0</td>\n",
              "      <td>IBM</td>\n",
              "      <td>500.0</td>\n",
              "      <td>au</td>\n",
              "      <td>2013</td>\n",
              "      <td>RTMZ0-46bTjK4V_MGFDG6i5g0yZmFp5oS0S9liWvpWg.jpg</td>\n",
              "      <td>0.0</td>\n",
              "      <td>Sydney Area, Australia</td>\n",
              "      <td>Senior Marketing Manager, PayPal</td>\n",
              "      <td>Australia</td>\n",
              "      <td>Brand Expression Lead</td>\n",
              "      <td>229897.0</td>\n",
              "      <td>2012</td>\n",
              "      <td>395.2857</td>\n",
              "      <td>1188.7339</td>\n",
              "    </tr>\n",
              "    <tr>\n",
              "      <th>9</th>\n",
              "      <td>9</td>\n",
              "      <td>30.0</td>\n",
              "      <td>IBM</td>\n",
              "      <td>500.0</td>\n",
              "      <td>au</td>\n",
              "      <td>2012</td>\n",
              "      <td>RTMZ0-46bTjK4V_MGFDG6i5g0yZmFp5oS0S9liWvpWg.jpg</td>\n",
              "      <td>0.0</td>\n",
              "      <td>Sydney Area, Australia</td>\n",
              "      <td>Senior Marketing Manager, PayPal</td>\n",
              "      <td>St Leonards, Australia</td>\n",
              "      <td>Brand System Graduate</td>\n",
              "      <td>229898.0</td>\n",
              "      <td>2011</td>\n",
              "      <td>395.2857</td>\n",
              "      <td>1188.7339</td>\n",
              "    </tr>\n",
              "    <tr>\n",
              "      <th>...</th>\n",
              "      <td>...</td>\n",
              "      <td>...</td>\n",
              "      <td>...</td>\n",
              "      <td>...</td>\n",
              "      <td>...</td>\n",
              "      <td>...</td>\n",
              "      <td>...</td>\n",
              "      <td>...</td>\n",
              "      <td>...</td>\n",
              "      <td>...</td>\n",
              "      <td>...</td>\n",
              "      <td>...</td>\n",
              "      <td>...</td>\n",
              "      <td>...</td>\n",
              "      <td>...</td>\n",
              "      <td>...</td>\n",
              "    </tr>\n",
              "    <tr>\n",
              "      <th>39532</th>\n",
              "      <td>39532</td>\n",
              "      <td>46.0</td>\n",
              "      <td>National Australia Bank</td>\n",
              "      <td>362.0</td>\n",
              "      <td>au</td>\n",
              "      <td>2009</td>\n",
              "      <td>p_4_000_171_2aa_07c7660.jpg</td>\n",
              "      <td>0.0</td>\n",
              "      <td>Melbourne Area, Australia</td>\n",
              "      <td>Head Of (Distributed) Credit, Vic/Tas at Natio...</td>\n",
              "      <td>St Kilda Rd Melbourne Business Banking Centre</td>\n",
              "      <td>Senior Partner</td>\n",
              "      <td>191517.0</td>\n",
              "      <td>2006</td>\n",
              "      <td>1912.0000</td>\n",
              "      <td>941.0968</td>\n",
              "    </tr>\n",
              "    <tr>\n",
              "      <th>39533</th>\n",
              "      <td>39533</td>\n",
              "      <td>46.0</td>\n",
              "      <td>National Australia Bank</td>\n",
              "      <td>362.0</td>\n",
              "      <td>au</td>\n",
              "      <td>2007</td>\n",
              "      <td>p_4_000_171_2aa_07c7660.jpg</td>\n",
              "      <td>0.0</td>\n",
              "      <td>Melbourne Area, Australia</td>\n",
              "      <td>Head Of (Distributed) Credit, Vic/Tas at Natio...</td>\n",
              "      <td>St Kilda Rd Melbourne Business Banking Centre</td>\n",
              "      <td>Senior Business Banking Manager / Partner 4</td>\n",
              "      <td>191518.0</td>\n",
              "      <td>2003</td>\n",
              "      <td>1912.0000</td>\n",
              "      <td>941.0968</td>\n",
              "    </tr>\n",
              "    <tr>\n",
              "      <th>39534</th>\n",
              "      <td>39534</td>\n",
              "      <td>46.0</td>\n",
              "      <td>National Australia Bank</td>\n",
              "      <td>362.0</td>\n",
              "      <td>au</td>\n",
              "      <td>2003</td>\n",
              "      <td>p_4_000_171_2aa_07c7660.jpg</td>\n",
              "      <td>0.0</td>\n",
              "      <td>Melbourne Area, Australia</td>\n",
              "      <td>Head Of (Distributed) Credit, Vic/Tas at Natio...</td>\n",
              "      <td>St Kilda Rd Melbourne &amp; Bourke and Russell St ...</td>\n",
              "      <td>Business Banking Manager / Partner 3</td>\n",
              "      <td>191519.0</td>\n",
              "      <td>2000</td>\n",
              "      <td>1912.0000</td>\n",
              "      <td>941.0968</td>\n",
              "    </tr>\n",
              "    <tr>\n",
              "      <th>39535</th>\n",
              "      <td>39535</td>\n",
              "      <td>46.0</td>\n",
              "      <td>National Australia Bank</td>\n",
              "      <td>362.0</td>\n",
              "      <td>au</td>\n",
              "      <td>2000</td>\n",
              "      <td>p_4_000_171_2aa_07c7660.jpg</td>\n",
              "      <td>0.0</td>\n",
              "      <td>Melbourne Area, Australia</td>\n",
              "      <td>Head Of (Distributed) Credit, Vic/Tas at Natio...</td>\n",
              "      <td>Melbourne Office Business Banking Centre</td>\n",
              "      <td>Business Banking Officer</td>\n",
              "      <td>191520.0</td>\n",
              "      <td>1995</td>\n",
              "      <td>1912.0000</td>\n",
              "      <td>941.0968</td>\n",
              "    </tr>\n",
              "    <tr>\n",
              "      <th>39536</th>\n",
              "      <td>39536</td>\n",
              "      <td>46.0</td>\n",
              "      <td>National Australia Bank</td>\n",
              "      <td>362.0</td>\n",
              "      <td>au</td>\n",
              "      <td>2000</td>\n",
              "      <td>p_4_000_171_2aa_07c7660.jpg</td>\n",
              "      <td>0.0</td>\n",
              "      <td>Melbourne Area, Australia</td>\n",
              "      <td>Head Of (Distributed) Credit, Vic/Tas at Natio...</td>\n",
              "      <td>271 Collins St Melbourne</td>\n",
              "      <td>Various customer service roles including inter...</td>\n",
              "      <td>191521.0</td>\n",
              "      <td>1989</td>\n",
              "      <td>1912.0000</td>\n",
              "      <td>941.0968</td>\n",
              "    </tr>\n",
              "  </tbody>\n",
              "</table>\n",
              "<p>16005 rows × 16 columns</p>\n",
              "</div>"
            ],
            "text/plain": [
              "       profile_id   age  ... avgMemberPosDuration  avgCompanyPosDuration\n",
              "5               5  30.0  ...             395.2857               977.6553\n",
              "6               6  30.0  ...             395.2857              1188.7339\n",
              "7               7  30.0  ...             395.2857              1188.7339\n",
              "8               8  30.0  ...             395.2857              1188.7339\n",
              "9               9  30.0  ...             395.2857              1188.7339\n",
              "...           ...   ...  ...                  ...                    ...\n",
              "39532       39532  46.0  ...            1912.0000               941.0968\n",
              "39533       39533  46.0  ...            1912.0000               941.0968\n",
              "39534       39534  46.0  ...            1912.0000               941.0968\n",
              "39535       39535  46.0  ...            1912.0000               941.0968\n",
              "39536       39536  46.0  ...            1912.0000               941.0968\n",
              "\n",
              "[16005 rows x 16 columns]"
            ]
          },
          "metadata": {
            "tags": []
          },
          "execution_count": 29
        }
      ]
    },
    {
      "cell_type": "markdown",
      "metadata": {
        "id": "RERULrPLEVyq"
      },
      "source": [
        "Another thing that we can do is remove the city from the `position_location` entry: \n",
        "\n",
        "Again, this will be done using **Regular Expression Matching**. \n",
        "\n",
        "If we have have an entry in the 'position_location' column in the format of `city, country`, then we want to remove the portion with the city.\n",
        "Notice that this means we can replace every thing before the comma `,`.\n",
        "\n",
        "To represent this, we will search for the pattern `.*, `, in which `.*` represents any string sequence.\n",
        "\n",
        "As before, we will run the command:\n",
        "```df['position_location'].str.replace('.*, ', '', regex = True)```\n",
        "\n",
        "to remove the specified sequence.\n",
        "\n",
        "Thus for entries such as `Sydney, Australia`, this string will be changed to `Australia`. \n"
      ]
    },
    {
      "cell_type": "code",
      "metadata": {
        "id": "NPxciPRzHle3",
        "outputId": "5ecff8f5-9055-438c-e49d-3363c6907003",
        "colab": {
          "base_uri": "https://localhost:8080/",
          "height": 1000
        }
      },
      "source": [
        "\"\"\"\n",
        "df['position_location'] = df['position_location'].str.replace(__________)      # Insert string to replace\n",
        "df\n",
        "\"\"\"\n",
        "df['position_location'] = df['position_location'].str.replace('.*, ', '', regex = True)      # Insert string to replace\n",
        "df\n"
      ],
      "execution_count": 30,
      "outputs": [
        {
          "output_type": "execute_result",
          "data": {
            "text/html": [
              "<div>\n",
              "<style scoped>\n",
              "    .dataframe tbody tr th:only-of-type {\n",
              "        vertical-align: middle;\n",
              "    }\n",
              "\n",
              "    .dataframe tbody tr th {\n",
              "        vertical-align: top;\n",
              "    }\n",
              "\n",
              "    .dataframe thead th {\n",
              "        text-align: right;\n",
              "    }\n",
              "</style>\n",
              "<table border=\"1\" class=\"dataframe\">\n",
              "  <thead>\n",
              "    <tr style=\"text-align: right;\">\n",
              "      <th></th>\n",
              "      <th>profile_id</th>\n",
              "      <th>age</th>\n",
              "      <th>company_name</th>\n",
              "      <th>num_connections</th>\n",
              "      <th>country</th>\n",
              "      <th>end_date</th>\n",
              "      <th>hasPicture</th>\n",
              "      <th>isPremium</th>\n",
              "      <th>mbrLocation</th>\n",
              "      <th>mbrTitle</th>\n",
              "      <th>position_location</th>\n",
              "      <th>position_title</th>\n",
              "      <th>positionId</th>\n",
              "      <th>start_date</th>\n",
              "      <th>avgMemberPosDuration</th>\n",
              "      <th>avgCompanyPosDuration</th>\n",
              "    </tr>\n",
              "  </thead>\n",
              "  <tbody>\n",
              "    <tr>\n",
              "      <th>5</th>\n",
              "      <td>5</td>\n",
              "      <td>30.0</td>\n",
              "      <td>Optus</td>\n",
              "      <td>500.0</td>\n",
              "      <td>au</td>\n",
              "      <td>2016</td>\n",
              "      <td>RTMZ0-46bTjK4V_MGFDG6i5g0yZmFp5oS0S9liWvpWg.jpg</td>\n",
              "      <td>0.0</td>\n",
              "      <td>Sydney Area, Australia</td>\n",
              "      <td>Senior Marketing Manager, PayPal</td>\n",
              "      <td>Australia</td>\n",
              "      <td>Digital and Social Engagement Leader, Optus Bu...</td>\n",
              "      <td>229894.0</td>\n",
              "      <td>2016</td>\n",
              "      <td>395.2857</td>\n",
              "      <td>977.6553</td>\n",
              "    </tr>\n",
              "    <tr>\n",
              "      <th>6</th>\n",
              "      <td>6</td>\n",
              "      <td>30.0</td>\n",
              "      <td>IBM</td>\n",
              "      <td>500.0</td>\n",
              "      <td>au</td>\n",
              "      <td>2015</td>\n",
              "      <td>RTMZ0-46bTjK4V_MGFDG6i5g0yZmFp5oS0S9liWvpWg.jpg</td>\n",
              "      <td>0.0</td>\n",
              "      <td>Sydney Area, Australia</td>\n",
              "      <td>Senior Marketing Manager, PayPal</td>\n",
              "      <td>Greater New York City Area</td>\n",
              "      <td>Social Brand Marketing</td>\n",
              "      <td>229895.0</td>\n",
              "      <td>2014</td>\n",
              "      <td>395.2857</td>\n",
              "      <td>1188.7339</td>\n",
              "    </tr>\n",
              "    <tr>\n",
              "      <th>7</th>\n",
              "      <td>7</td>\n",
              "      <td>30.0</td>\n",
              "      <td>IBM</td>\n",
              "      <td>500.0</td>\n",
              "      <td>au</td>\n",
              "      <td>2014</td>\n",
              "      <td>RTMZ0-46bTjK4V_MGFDG6i5g0yZmFp5oS0S9liWvpWg.jpg</td>\n",
              "      <td>0.0</td>\n",
              "      <td>Sydney Area, Australia</td>\n",
              "      <td>Senior Marketing Manager, PayPal</td>\n",
              "      <td>Australia</td>\n",
              "      <td>Brand Strategist</td>\n",
              "      <td>229896.0</td>\n",
              "      <td>2013</td>\n",
              "      <td>395.2857</td>\n",
              "      <td>1188.7339</td>\n",
              "    </tr>\n",
              "    <tr>\n",
              "      <th>8</th>\n",
              "      <td>8</td>\n",
              "      <td>30.0</td>\n",
              "      <td>IBM</td>\n",
              "      <td>500.0</td>\n",
              "      <td>au</td>\n",
              "      <td>2013</td>\n",
              "      <td>RTMZ0-46bTjK4V_MGFDG6i5g0yZmFp5oS0S9liWvpWg.jpg</td>\n",
              "      <td>0.0</td>\n",
              "      <td>Sydney Area, Australia</td>\n",
              "      <td>Senior Marketing Manager, PayPal</td>\n",
              "      <td>Australia</td>\n",
              "      <td>Brand Expression Lead</td>\n",
              "      <td>229897.0</td>\n",
              "      <td>2012</td>\n",
              "      <td>395.2857</td>\n",
              "      <td>1188.7339</td>\n",
              "    </tr>\n",
              "    <tr>\n",
              "      <th>9</th>\n",
              "      <td>9</td>\n",
              "      <td>30.0</td>\n",
              "      <td>IBM</td>\n",
              "      <td>500.0</td>\n",
              "      <td>au</td>\n",
              "      <td>2012</td>\n",
              "      <td>RTMZ0-46bTjK4V_MGFDG6i5g0yZmFp5oS0S9liWvpWg.jpg</td>\n",
              "      <td>0.0</td>\n",
              "      <td>Sydney Area, Australia</td>\n",
              "      <td>Senior Marketing Manager, PayPal</td>\n",
              "      <td>Australia</td>\n",
              "      <td>Brand System Graduate</td>\n",
              "      <td>229898.0</td>\n",
              "      <td>2011</td>\n",
              "      <td>395.2857</td>\n",
              "      <td>1188.7339</td>\n",
              "    </tr>\n",
              "    <tr>\n",
              "      <th>...</th>\n",
              "      <td>...</td>\n",
              "      <td>...</td>\n",
              "      <td>...</td>\n",
              "      <td>...</td>\n",
              "      <td>...</td>\n",
              "      <td>...</td>\n",
              "      <td>...</td>\n",
              "      <td>...</td>\n",
              "      <td>...</td>\n",
              "      <td>...</td>\n",
              "      <td>...</td>\n",
              "      <td>...</td>\n",
              "      <td>...</td>\n",
              "      <td>...</td>\n",
              "      <td>...</td>\n",
              "      <td>...</td>\n",
              "    </tr>\n",
              "    <tr>\n",
              "      <th>39532</th>\n",
              "      <td>39532</td>\n",
              "      <td>46.0</td>\n",
              "      <td>National Australia Bank</td>\n",
              "      <td>362.0</td>\n",
              "      <td>au</td>\n",
              "      <td>2009</td>\n",
              "      <td>p_4_000_171_2aa_07c7660.jpg</td>\n",
              "      <td>0.0</td>\n",
              "      <td>Melbourne Area, Australia</td>\n",
              "      <td>Head Of (Distributed) Credit, Vic/Tas at Natio...</td>\n",
              "      <td>St Kilda Rd Melbourne Business Banking Centre</td>\n",
              "      <td>Senior Partner</td>\n",
              "      <td>191517.0</td>\n",
              "      <td>2006</td>\n",
              "      <td>1912.0000</td>\n",
              "      <td>941.0968</td>\n",
              "    </tr>\n",
              "    <tr>\n",
              "      <th>39533</th>\n",
              "      <td>39533</td>\n",
              "      <td>46.0</td>\n",
              "      <td>National Australia Bank</td>\n",
              "      <td>362.0</td>\n",
              "      <td>au</td>\n",
              "      <td>2007</td>\n",
              "      <td>p_4_000_171_2aa_07c7660.jpg</td>\n",
              "      <td>0.0</td>\n",
              "      <td>Melbourne Area, Australia</td>\n",
              "      <td>Head Of (Distributed) Credit, Vic/Tas at Natio...</td>\n",
              "      <td>St Kilda Rd Melbourne Business Banking Centre</td>\n",
              "      <td>Senior Business Banking Manager / Partner 4</td>\n",
              "      <td>191518.0</td>\n",
              "      <td>2003</td>\n",
              "      <td>1912.0000</td>\n",
              "      <td>941.0968</td>\n",
              "    </tr>\n",
              "    <tr>\n",
              "      <th>39534</th>\n",
              "      <td>39534</td>\n",
              "      <td>46.0</td>\n",
              "      <td>National Australia Bank</td>\n",
              "      <td>362.0</td>\n",
              "      <td>au</td>\n",
              "      <td>2003</td>\n",
              "      <td>p_4_000_171_2aa_07c7660.jpg</td>\n",
              "      <td>0.0</td>\n",
              "      <td>Melbourne Area, Australia</td>\n",
              "      <td>Head Of (Distributed) Credit, Vic/Tas at Natio...</td>\n",
              "      <td>St Kilda Rd Melbourne &amp; Bourke and Russell St ...</td>\n",
              "      <td>Business Banking Manager / Partner 3</td>\n",
              "      <td>191519.0</td>\n",
              "      <td>2000</td>\n",
              "      <td>1912.0000</td>\n",
              "      <td>941.0968</td>\n",
              "    </tr>\n",
              "    <tr>\n",
              "      <th>39535</th>\n",
              "      <td>39535</td>\n",
              "      <td>46.0</td>\n",
              "      <td>National Australia Bank</td>\n",
              "      <td>362.0</td>\n",
              "      <td>au</td>\n",
              "      <td>2000</td>\n",
              "      <td>p_4_000_171_2aa_07c7660.jpg</td>\n",
              "      <td>0.0</td>\n",
              "      <td>Melbourne Area, Australia</td>\n",
              "      <td>Head Of (Distributed) Credit, Vic/Tas at Natio...</td>\n",
              "      <td>Melbourne Office Business Banking Centre</td>\n",
              "      <td>Business Banking Officer</td>\n",
              "      <td>191520.0</td>\n",
              "      <td>1995</td>\n",
              "      <td>1912.0000</td>\n",
              "      <td>941.0968</td>\n",
              "    </tr>\n",
              "    <tr>\n",
              "      <th>39536</th>\n",
              "      <td>39536</td>\n",
              "      <td>46.0</td>\n",
              "      <td>National Australia Bank</td>\n",
              "      <td>362.0</td>\n",
              "      <td>au</td>\n",
              "      <td>2000</td>\n",
              "      <td>p_4_000_171_2aa_07c7660.jpg</td>\n",
              "      <td>0.0</td>\n",
              "      <td>Melbourne Area, Australia</td>\n",
              "      <td>Head Of (Distributed) Credit, Vic/Tas at Natio...</td>\n",
              "      <td>271 Collins St Melbourne</td>\n",
              "      <td>Various customer service roles including inter...</td>\n",
              "      <td>191521.0</td>\n",
              "      <td>1989</td>\n",
              "      <td>1912.0000</td>\n",
              "      <td>941.0968</td>\n",
              "    </tr>\n",
              "  </tbody>\n",
              "</table>\n",
              "<p>16005 rows × 16 columns</p>\n",
              "</div>"
            ],
            "text/plain": [
              "       profile_id   age  ... avgMemberPosDuration  avgCompanyPosDuration\n",
              "5               5  30.0  ...             395.2857               977.6553\n",
              "6               6  30.0  ...             395.2857              1188.7339\n",
              "7               7  30.0  ...             395.2857              1188.7339\n",
              "8               8  30.0  ...             395.2857              1188.7339\n",
              "9               9  30.0  ...             395.2857              1188.7339\n",
              "...           ...   ...  ...                  ...                    ...\n",
              "39532       39532  46.0  ...            1912.0000               941.0968\n",
              "39533       39533  46.0  ...            1912.0000               941.0968\n",
              "39534       39534  46.0  ...            1912.0000               941.0968\n",
              "39535       39535  46.0  ...            1912.0000               941.0968\n",
              "39536       39536  46.0  ...            1912.0000               941.0968\n",
              "\n",
              "[16005 rows x 16 columns]"
            ]
          },
          "metadata": {
            "tags": []
          },
          "execution_count": 30
        }
      ]
    },
    {
      "cell_type": "markdown",
      "metadata": {
        "id": "x0c0BG7SHle_"
      },
      "source": [
        "#### Creating a Copy of our modified Dataset"
      ]
    },
    {
      "cell_type": "code",
      "metadata": {
        "id": "4jrvqhIAHle_"
      },
      "source": [
        "modified_dataset = df.copy()"
      ],
      "execution_count": 31,
      "outputs": []
    },
    {
      "cell_type": "markdown",
      "metadata": {
        "id": "Wkw5pefkHlfC"
      },
      "source": [
        "## 3 - Micro Wrangling and Visualization"
      ]
    },
    {
      "cell_type": "markdown",
      "metadata": {
        "id": "pwDzGZeYHlfD"
      },
      "source": [
        "We will Start of this part by dividing our dataset into multiple smaller dataframes. The approach we will be taking is separating dataframes based on the ```start_date``` data.\n",
        "\n",
        "For example, in the blocks below you will see code for 3 intervals that indicate the start_date year that a profile user begins a job position:\n",
        "- ```1960 to 1979```\n",
        "- ```1980 to 1999```\n",
        "- ```2000 to 2019```\n",
        "\n"
      ]
    },
    {
      "cell_type": "markdown",
      "metadata": {
        "id": "MmCN4aFoJSc1"
      },
      "source": [
        "Let's convert all of the `start_date` and `end_date` values to be INTEGERS. This will make it easier to do comparisons to group the date ranges."
      ]
    },
    {
      "cell_type": "code",
      "metadata": {
        "id": "sNY9hcdWJZOE"
      },
      "source": [
        "modified_dataset['start_date'] = modified_dataset['start_date'].astype(int)\n",
        "modified_dataset['end_date'] = modified_dataset['end_date'].astype(int)\n"
      ],
      "execution_count": 32,
      "outputs": []
    },
    {
      "cell_type": "markdown",
      "metadata": {
        "id": "cihhvkCeM_u8"
      },
      "source": [
        "Let's check to make sure that we actually changed the data types for `start_date` and `end_date`."
      ]
    },
    {
      "cell_type": "code",
      "metadata": {
        "id": "dEklTuJ9NEOR",
        "outputId": "ee7e1bef-4ab0-48f4-f2cd-fd446e288217",
        "colab": {
          "base_uri": "https://localhost:8080/",
          "height": 306
        }
      },
      "source": [
        "modified_dataset.dtypes"
      ],
      "execution_count": 69,
      "outputs": [
        {
          "output_type": "execute_result",
          "data": {
            "text/plain": [
              "profile_id                 int64\n",
              "age                      float64\n",
              "company_name              object\n",
              "num_connections          float64\n",
              "country                   object\n",
              "end_date                   int64\n",
              "hasPicture                object\n",
              "isPremium                float64\n",
              "mbrLocation               object\n",
              "mbrTitle                  object\n",
              "position_location         object\n",
              "position_title            object\n",
              "positionId               float64\n",
              "start_date                 int64\n",
              "avgMemberPosDuration     float64\n",
              "avgCompanyPosDuration    float64\n",
              "dtype: object"
            ]
          },
          "metadata": {
            "tags": []
          },
          "execution_count": 69
        }
      ]
    },
    {
      "cell_type": "markdown",
      "metadata": {
        "id": "3ZkrSv8hHlfD"
      },
      "source": [
        "## Between 2000 to 2019"
      ]
    },
    {
      "cell_type": "markdown",
      "metadata": {
        "id": "rTQpntAsMwnc"
      },
      "source": [
        "Let's collect the profiles that started their job positions between the years of 2000 to 2019."
      ]
    },
    {
      "cell_type": "code",
      "metadata": {
        "id": "Lp6kae0pHlfE"
      },
      "source": [
        "\"\"\"\n",
        "dataset_between00_19 = modified_dataset.where((modified_dataset['start_date'] >= ____) & (modified_dataset['start_date'] < ____))\n",
        "\"\"\"\n",
        "dataset_between00_19 = modified_dataset.where((modified_dataset['start_date'] >= 2000) & (modified_dataset['start_date'] <= 2019))"
      ],
      "execution_count": 33,
      "outputs": []
    },
    {
      "cell_type": "code",
      "metadata": {
        "id": "a-tQvhW3HlfI",
        "outputId": "3b252c3c-6d7f-45e1-8468-b94641f395f4",
        "colab": {
          "base_uri": "https://localhost:8080/",
          "height": 1000
        }
      },
      "source": [
        "dataset_between00_19 = dataset_between00_19.dropna()\n",
        "dataset_between00_19"
      ],
      "execution_count": 34,
      "outputs": [
        {
          "output_type": "execute_result",
          "data": {
            "text/html": [
              "<div>\n",
              "<style scoped>\n",
              "    .dataframe tbody tr th:only-of-type {\n",
              "        vertical-align: middle;\n",
              "    }\n",
              "\n",
              "    .dataframe tbody tr th {\n",
              "        vertical-align: top;\n",
              "    }\n",
              "\n",
              "    .dataframe thead th {\n",
              "        text-align: right;\n",
              "    }\n",
              "</style>\n",
              "<table border=\"1\" class=\"dataframe\">\n",
              "  <thead>\n",
              "    <tr style=\"text-align: right;\">\n",
              "      <th></th>\n",
              "      <th>profile_id</th>\n",
              "      <th>age</th>\n",
              "      <th>company_name</th>\n",
              "      <th>num_connections</th>\n",
              "      <th>country</th>\n",
              "      <th>end_date</th>\n",
              "      <th>hasPicture</th>\n",
              "      <th>isPremium</th>\n",
              "      <th>mbrLocation</th>\n",
              "      <th>mbrTitle</th>\n",
              "      <th>position_location</th>\n",
              "      <th>position_title</th>\n",
              "      <th>positionId</th>\n",
              "      <th>start_date</th>\n",
              "      <th>avgMemberPosDuration</th>\n",
              "      <th>avgCompanyPosDuration</th>\n",
              "    </tr>\n",
              "  </thead>\n",
              "  <tbody>\n",
              "    <tr>\n",
              "      <th>5</th>\n",
              "      <td>5.0</td>\n",
              "      <td>30.0</td>\n",
              "      <td>Optus</td>\n",
              "      <td>500.0</td>\n",
              "      <td>au</td>\n",
              "      <td>2016.0</td>\n",
              "      <td>RTMZ0-46bTjK4V_MGFDG6i5g0yZmFp5oS0S9liWvpWg.jpg</td>\n",
              "      <td>0.0</td>\n",
              "      <td>Sydney Area, Australia</td>\n",
              "      <td>Senior Marketing Manager, PayPal</td>\n",
              "      <td>Australia</td>\n",
              "      <td>Digital and Social Engagement Leader, Optus Bu...</td>\n",
              "      <td>229894.0</td>\n",
              "      <td>2016.0</td>\n",
              "      <td>395.2857</td>\n",
              "      <td>977.6553</td>\n",
              "    </tr>\n",
              "    <tr>\n",
              "      <th>6</th>\n",
              "      <td>6.0</td>\n",
              "      <td>30.0</td>\n",
              "      <td>IBM</td>\n",
              "      <td>500.0</td>\n",
              "      <td>au</td>\n",
              "      <td>2015.0</td>\n",
              "      <td>RTMZ0-46bTjK4V_MGFDG6i5g0yZmFp5oS0S9liWvpWg.jpg</td>\n",
              "      <td>0.0</td>\n",
              "      <td>Sydney Area, Australia</td>\n",
              "      <td>Senior Marketing Manager, PayPal</td>\n",
              "      <td>Greater New York City Area</td>\n",
              "      <td>Social Brand Marketing</td>\n",
              "      <td>229895.0</td>\n",
              "      <td>2014.0</td>\n",
              "      <td>395.2857</td>\n",
              "      <td>1188.7339</td>\n",
              "    </tr>\n",
              "    <tr>\n",
              "      <th>7</th>\n",
              "      <td>7.0</td>\n",
              "      <td>30.0</td>\n",
              "      <td>IBM</td>\n",
              "      <td>500.0</td>\n",
              "      <td>au</td>\n",
              "      <td>2014.0</td>\n",
              "      <td>RTMZ0-46bTjK4V_MGFDG6i5g0yZmFp5oS0S9liWvpWg.jpg</td>\n",
              "      <td>0.0</td>\n",
              "      <td>Sydney Area, Australia</td>\n",
              "      <td>Senior Marketing Manager, PayPal</td>\n",
              "      <td>Australia</td>\n",
              "      <td>Brand Strategist</td>\n",
              "      <td>229896.0</td>\n",
              "      <td>2013.0</td>\n",
              "      <td>395.2857</td>\n",
              "      <td>1188.7339</td>\n",
              "    </tr>\n",
              "    <tr>\n",
              "      <th>8</th>\n",
              "      <td>8.0</td>\n",
              "      <td>30.0</td>\n",
              "      <td>IBM</td>\n",
              "      <td>500.0</td>\n",
              "      <td>au</td>\n",
              "      <td>2013.0</td>\n",
              "      <td>RTMZ0-46bTjK4V_MGFDG6i5g0yZmFp5oS0S9liWvpWg.jpg</td>\n",
              "      <td>0.0</td>\n",
              "      <td>Sydney Area, Australia</td>\n",
              "      <td>Senior Marketing Manager, PayPal</td>\n",
              "      <td>Australia</td>\n",
              "      <td>Brand Expression Lead</td>\n",
              "      <td>229897.0</td>\n",
              "      <td>2012.0</td>\n",
              "      <td>395.2857</td>\n",
              "      <td>1188.7339</td>\n",
              "    </tr>\n",
              "    <tr>\n",
              "      <th>9</th>\n",
              "      <td>9.0</td>\n",
              "      <td>30.0</td>\n",
              "      <td>IBM</td>\n",
              "      <td>500.0</td>\n",
              "      <td>au</td>\n",
              "      <td>2012.0</td>\n",
              "      <td>RTMZ0-46bTjK4V_MGFDG6i5g0yZmFp5oS0S9liWvpWg.jpg</td>\n",
              "      <td>0.0</td>\n",
              "      <td>Sydney Area, Australia</td>\n",
              "      <td>Senior Marketing Manager, PayPal</td>\n",
              "      <td>Australia</td>\n",
              "      <td>Brand System Graduate</td>\n",
              "      <td>229898.0</td>\n",
              "      <td>2011.0</td>\n",
              "      <td>395.2857</td>\n",
              "      <td>1188.7339</td>\n",
              "    </tr>\n",
              "    <tr>\n",
              "      <th>...</th>\n",
              "      <td>...</td>\n",
              "      <td>...</td>\n",
              "      <td>...</td>\n",
              "      <td>...</td>\n",
              "      <td>...</td>\n",
              "      <td>...</td>\n",
              "      <td>...</td>\n",
              "      <td>...</td>\n",
              "      <td>...</td>\n",
              "      <td>...</td>\n",
              "      <td>...</td>\n",
              "      <td>...</td>\n",
              "      <td>...</td>\n",
              "      <td>...</td>\n",
              "      <td>...</td>\n",
              "      <td>...</td>\n",
              "    </tr>\n",
              "    <tr>\n",
              "      <th>39528</th>\n",
              "      <td>39528.0</td>\n",
              "      <td>29.0</td>\n",
              "      <td>UNSW Global</td>\n",
              "      <td>201.0</td>\n",
              "      <td>au</td>\n",
              "      <td>2011.0</td>\n",
              "      <td>Wm9Z-pdRHrGFnc8hgkwKNZtAKcDZOdcRK2J-eYoFwaw.jpg</td>\n",
              "      <td>0.0</td>\n",
              "      <td>Sydney Area, Australia</td>\n",
              "      <td>Site Reliability Engineer at Google</td>\n",
              "      <td>Australia</td>\n",
              "      <td>ENGG1000 Lab Demonstrator and Mentor</td>\n",
              "      <td>165108.0</td>\n",
              "      <td>2009.0</td>\n",
              "      <td>488.0000</td>\n",
              "      <td>771.3502</td>\n",
              "    </tr>\n",
              "    <tr>\n",
              "      <th>39531</th>\n",
              "      <td>39531.0</td>\n",
              "      <td>46.0</td>\n",
              "      <td>National Australia Bank</td>\n",
              "      <td>362.0</td>\n",
              "      <td>au</td>\n",
              "      <td>2016.0</td>\n",
              "      <td>p_4_000_171_2aa_07c7660.jpg</td>\n",
              "      <td>0.0</td>\n",
              "      <td>Melbourne Area, Australia</td>\n",
              "      <td>Head Of (Distributed) Credit, Vic/Tas at Natio...</td>\n",
              "      <td>500 Bourke St Melbourne VIC 3000</td>\n",
              "      <td>Credit Executive</td>\n",
              "      <td>191516.0</td>\n",
              "      <td>2010.0</td>\n",
              "      <td>1912.0000</td>\n",
              "      <td>941.0968</td>\n",
              "    </tr>\n",
              "    <tr>\n",
              "      <th>39532</th>\n",
              "      <td>39532.0</td>\n",
              "      <td>46.0</td>\n",
              "      <td>National Australia Bank</td>\n",
              "      <td>362.0</td>\n",
              "      <td>au</td>\n",
              "      <td>2009.0</td>\n",
              "      <td>p_4_000_171_2aa_07c7660.jpg</td>\n",
              "      <td>0.0</td>\n",
              "      <td>Melbourne Area, Australia</td>\n",
              "      <td>Head Of (Distributed) Credit, Vic/Tas at Natio...</td>\n",
              "      <td>St Kilda Rd Melbourne Business Banking Centre</td>\n",
              "      <td>Senior Partner</td>\n",
              "      <td>191517.0</td>\n",
              "      <td>2006.0</td>\n",
              "      <td>1912.0000</td>\n",
              "      <td>941.0968</td>\n",
              "    </tr>\n",
              "    <tr>\n",
              "      <th>39533</th>\n",
              "      <td>39533.0</td>\n",
              "      <td>46.0</td>\n",
              "      <td>National Australia Bank</td>\n",
              "      <td>362.0</td>\n",
              "      <td>au</td>\n",
              "      <td>2007.0</td>\n",
              "      <td>p_4_000_171_2aa_07c7660.jpg</td>\n",
              "      <td>0.0</td>\n",
              "      <td>Melbourne Area, Australia</td>\n",
              "      <td>Head Of (Distributed) Credit, Vic/Tas at Natio...</td>\n",
              "      <td>St Kilda Rd Melbourne Business Banking Centre</td>\n",
              "      <td>Senior Business Banking Manager / Partner 4</td>\n",
              "      <td>191518.0</td>\n",
              "      <td>2003.0</td>\n",
              "      <td>1912.0000</td>\n",
              "      <td>941.0968</td>\n",
              "    </tr>\n",
              "    <tr>\n",
              "      <th>39534</th>\n",
              "      <td>39534.0</td>\n",
              "      <td>46.0</td>\n",
              "      <td>National Australia Bank</td>\n",
              "      <td>362.0</td>\n",
              "      <td>au</td>\n",
              "      <td>2003.0</td>\n",
              "      <td>p_4_000_171_2aa_07c7660.jpg</td>\n",
              "      <td>0.0</td>\n",
              "      <td>Melbourne Area, Australia</td>\n",
              "      <td>Head Of (Distributed) Credit, Vic/Tas at Natio...</td>\n",
              "      <td>St Kilda Rd Melbourne &amp; Bourke and Russell St ...</td>\n",
              "      <td>Business Banking Manager / Partner 3</td>\n",
              "      <td>191519.0</td>\n",
              "      <td>2000.0</td>\n",
              "      <td>1912.0000</td>\n",
              "      <td>941.0968</td>\n",
              "    </tr>\n",
              "  </tbody>\n",
              "</table>\n",
              "<p>14856 rows × 16 columns</p>\n",
              "</div>"
            ],
            "text/plain": [
              "       profile_id   age  ... avgMemberPosDuration  avgCompanyPosDuration\n",
              "5             5.0  30.0  ...             395.2857               977.6553\n",
              "6             6.0  30.0  ...             395.2857              1188.7339\n",
              "7             7.0  30.0  ...             395.2857              1188.7339\n",
              "8             8.0  30.0  ...             395.2857              1188.7339\n",
              "9             9.0  30.0  ...             395.2857              1188.7339\n",
              "...           ...   ...  ...                  ...                    ...\n",
              "39528     39528.0  29.0  ...             488.0000               771.3502\n",
              "39531     39531.0  46.0  ...            1912.0000               941.0968\n",
              "39532     39532.0  46.0  ...            1912.0000               941.0968\n",
              "39533     39533.0  46.0  ...            1912.0000               941.0968\n",
              "39534     39534.0  46.0  ...            1912.0000               941.0968\n",
              "\n",
              "[14856 rows x 16 columns]"
            ]
          },
          "metadata": {
            "tags": []
          },
          "execution_count": 34
        }
      ]
    },
    {
      "cell_type": "markdown",
      "metadata": {
        "id": "T6C4yZSgHlfN"
      },
      "source": [
        "### Total Number of Positions Started between 2000 - 2019 - Complete Records\n",
        "Get the number of profiles that fall in this category by finding the number of rows in this selected dataset.\n",
        "\n",
        "Hint: Get the dimensions of the dataframe.\n"
      ]
    },
    {
      "cell_type": "code",
      "metadata": {
        "id": "lpCOGYH2HlfN",
        "outputId": "baad80bf-fe01-42b7-dfbc-811aff9b49af",
        "colab": {
          "base_uri": "https://localhost:8080/",
          "height": 221
        }
      },
      "source": [
        "\"\"\"\n",
        "dataset_between00_19._____\n",
        "\"\"\"\n",
        "dataset_between00_19.shape\n",
        "\n"
      ],
      "execution_count": 40,
      "outputs": [
        {
          "output_type": "execute_result",
          "data": {
            "text/plain": [
              "Telstra                                      255\n",
              "National Australia Bank                      179\n",
              "Commonwealth Bank                            164\n",
              "IBM                                          146\n",
              "ANZ                                           90\n",
              "                                            ... \n",
              "Chippendale Creative Precinct                  1\n",
              "JASLOK HOSPITAL & RESEARCH CENTRE              1\n",
              "Pentana Solutions                              1\n",
              "UoN Services Limited                           1\n",
              "Instrat Insurance Brokers (now Gallagher)      1\n",
              "Name: company_name, Length: 6441, dtype: int64"
            ]
          },
          "metadata": {
            "tags": []
          },
          "execution_count": 40
        }
      ]
    },
    {
      "cell_type": "markdown",
      "metadata": {
        "id": "-FN7O5HjN7LL"
      },
      "source": [
        "QUESTION:\n",
        "How many new job positions in this dataset were started between 2000 to 2019?"
      ]
    },
    {
      "cell_type": "markdown",
      "metadata": {
        "id": "yoLMT1SKHlfR"
      },
      "source": [
        "### Visualizing New Jobs during 2000 - 2019"
      ]
    },
    {
      "cell_type": "markdown",
      "metadata": {
        "id": "jR0_yh9FRA_H"
      },
      "source": [
        "Set 1: Graphing By the Company Names.\n",
        "See what companies hired new employees between 2000 to 2019.\n",
        "\n",
        "\n",
        "FIXME: Only limit to several company names, since this is an overwhelming graph"
      ]
    },
    {
      "cell_type": "code",
      "metadata": {
        "id": "ejmvzk-2HlfR",
        "outputId": "1d1ec32d-e773-4b4e-fb88-051752c061e8",
        "colab": {
          "base_uri": "https://localhost:8080/",
          "height": 1000
        }
      },
      "source": [
        "import matplotlib.pyplot as plt\n",
        "import pandas as pd\n",
        "fig = plt.figure(figsize = (20,10))\n",
        "\n",
        "ax1 = fig.add_subplot(2,2,1)\n",
        "ax2 = fig.add_subplot(2,2,2)\n",
        "ax3 = fig.add_subplot(2,2,3)\n",
        "ax4 = fig.add_subplot(2,2,4)\n",
        "\n",
        "col_1 = dataset_between00_19['company_name'].sum()\n",
        "\n",
        "col_2 = 'num_connections'\n",
        "#col_2 = 'company_name'\n",
        "\n",
        "\"\"\"\n",
        "ax1.scatter(dataset_between00_19['start_date'],\n",
        "            dataset_between00_19[col_2],\n",
        "            alpha = 0.4)\n",
        "\n",
        "ax2.scatter(dataset_between00_19[col_2],\n",
        "            dataset_between00_19['start_date'],\n",
        "            alpha = 0.4)\n",
        "\n",
        "ax3.bar(\n",
        "    dataset_between00_19['start_date'],\n",
        "    dataset_between00_19[col_2],\n",
        "    alpha = 0.4)\n",
        "\n",
        "ax4.set_ylim(1500,1600)\n",
        "ax4.bar(\n",
        "    dataset_between00_19[col_2],    \n",
        "    dataset_between00_19['start_date'],\n",
        "    alpha = 0.4)\n",
        "\n",
        "\"\"\"\n",
        "\n",
        "# Helper function to find invalid characters in the name\n",
        "def is_ascii(s):\n",
        "    try:\n",
        "      return all(ord(c) < 128 for c in s)\n",
        "    except:\n",
        "      return False\n",
        "\n",
        "names = set()\n",
        "count = 0\n",
        "\n",
        "# Filter out invalid Company Names\n",
        "for company in dataset_between00_19['company_name']:\n",
        "  valid = is_ascii(company)\n",
        "  if valid:\n",
        "    names.add(company)\n",
        "\n",
        "# Create a temporary dataset\n",
        "temp_dataset = dataset_between00_19.copy()\n",
        "\n",
        "\n",
        "# Remove the rows with invalid company names\n",
        "temp_dataset = temp_dataset[~temp_dataset['company_name'].isin(names)]\n",
        "\n",
        "\n",
        "num_profiles_per_company = temp_dataset['company_name'].value_counts()\n",
        "company_names = temp_dataset['company_name'].unique()\n",
        "\n",
        "x_val = num_profiles_per_company\n",
        "y_val = company_names\n",
        "\n",
        "ax1.scatter(x_val,\n",
        "            y_val,\n",
        "            alpha = 0.4)\n",
        "\n",
        "ax2.scatter(y_val,\n",
        "            x_val,\n",
        "            alpha = 0.4)\n",
        "ax3.bar(\n",
        "    x_val,\n",
        "    y_val,\n",
        "    alpha = 0.4)\n",
        "\n",
        "#ax4.set_ylim(0,50)\n",
        "ax4.bar(\n",
        "    y_val,    \n",
        "    x_val,\n",
        "    alpha = 0.4)\n"
      ],
      "execution_count": 53,
      "outputs": [
        {
          "output_type": "execute_result",
          "data": {
            "text/plain": [
              "<BarContainer object of 68 artists>"
            ]
          },
          "metadata": {
            "tags": []
          },
          "execution_count": 53
        },
        {
          "output_type": "stream",
          "text": [
            "/usr/local/lib/python3.6/dist-packages/matplotlib/backends/backend_agg.py:214: RuntimeWarning: Glyph 133 missing from current font.\n",
            "  font.set_text(s, 0.0, flags=flags)\n",
            "/usr/local/lib/python3.6/dist-packages/matplotlib/backends/backend_agg.py:214: RuntimeWarning: Glyph 136 missing from current font.\n",
            "  font.set_text(s, 0.0, flags=flags)\n",
            "/usr/local/lib/python3.6/dist-packages/matplotlib/backends/backend_agg.py:214: RuntimeWarning: Glyph 135 missing from current font.\n",
            "  font.set_text(s, 0.0, flags=flags)\n",
            "/usr/local/lib/python3.6/dist-packages/matplotlib/backends/backend_agg.py:214: RuntimeWarning: Glyph 134 missing from current font.\n",
            "  font.set_text(s, 0.0, flags=flags)\n",
            "/usr/local/lib/python3.6/dist-packages/matplotlib/backends/backend_agg.py:214: RuntimeWarning: Glyph 140 missing from current font.\n",
            "  font.set_text(s, 0.0, flags=flags)\n",
            "/usr/local/lib/python3.6/dist-packages/matplotlib/backends/backend_agg.py:214: RuntimeWarning: Glyph 152 missing from current font.\n",
            "  font.set_text(s, 0.0, flags=flags)\n",
            "/usr/local/lib/python3.6/dist-packages/matplotlib/backends/backend_agg.py:214: RuntimeWarning: Glyph 129 missing from current font.\n",
            "  font.set_text(s, 0.0, flags=flags)\n",
            "/usr/local/lib/python3.6/dist-packages/matplotlib/backends/backend_agg.py:214: RuntimeWarning: Glyph 128 missing from current font.\n",
            "  font.set_text(s, 0.0, flags=flags)\n",
            "/usr/local/lib/python3.6/dist-packages/matplotlib/backends/backend_agg.py:214: RuntimeWarning: Glyph 153 missing from current font.\n",
            "  font.set_text(s, 0.0, flags=flags)\n",
            "/usr/local/lib/python3.6/dist-packages/matplotlib/backends/backend_agg.py:214: RuntimeWarning: Glyph 147 missing from current font.\n",
            "  font.set_text(s, 0.0, flags=flags)\n",
            "/usr/local/lib/python3.6/dist-packages/matplotlib/backends/backend_agg.py:214: RuntimeWarning: Glyph 139 missing from current font.\n",
            "  font.set_text(s, 0.0, flags=flags)\n",
            "/usr/local/lib/python3.6/dist-packages/matplotlib/backends/backend_agg.py:214: RuntimeWarning: Glyph 137 missing from current font.\n",
            "  font.set_text(s, 0.0, flags=flags)\n",
            "/usr/local/lib/python3.6/dist-packages/matplotlib/backends/backend_agg.py:214: RuntimeWarning: Glyph 156 missing from current font.\n",
            "  font.set_text(s, 0.0, flags=flags)\n",
            "/usr/local/lib/python3.6/dist-packages/matplotlib/backends/backend_agg.py:214: RuntimeWarning: Glyph 157 missing from current font.\n",
            "  font.set_text(s, 0.0, flags=flags)\n",
            "/usr/local/lib/python3.6/dist-packages/matplotlib/backends/backend_agg.py:214: RuntimeWarning: Glyph 39321 missing from current font.\n",
            "  font.set_text(s, 0.0, flags=flags)\n",
            "/usr/local/lib/python3.6/dist-packages/matplotlib/backends/backend_agg.py:214: RuntimeWarning: Glyph 28207 missing from current font.\n",
            "  font.set_text(s, 0.0, flags=flags)\n",
            "/usr/local/lib/python3.6/dist-packages/matplotlib/backends/backend_agg.py:214: RuntimeWarning: Glyph 37941 missing from current font.\n",
            "  font.set_text(s, 0.0, flags=flags)\n",
            "/usr/local/lib/python3.6/dist-packages/matplotlib/backends/backend_agg.py:214: RuntimeWarning: Glyph 36335 missing from current font.\n",
            "  font.set_text(s, 0.0, flags=flags)\n",
            "/usr/local/lib/python3.6/dist-packages/matplotlib/backends/backend_agg.py:214: RuntimeWarning: Glyph 26377 missing from current font.\n",
            "  font.set_text(s, 0.0, flags=flags)\n",
            "/usr/local/lib/python3.6/dist-packages/matplotlib/backends/backend_agg.py:214: RuntimeWarning: Glyph 38480 missing from current font.\n",
            "  font.set_text(s, 0.0, flags=flags)\n",
            "/usr/local/lib/python3.6/dist-packages/matplotlib/backends/backend_agg.py:214: RuntimeWarning: Glyph 20844 missing from current font.\n",
            "  font.set_text(s, 0.0, flags=flags)\n",
            "/usr/local/lib/python3.6/dist-packages/matplotlib/backends/backend_agg.py:214: RuntimeWarning: Glyph 21496 missing from current font.\n",
            "  font.set_text(s, 0.0, flags=flags)\n",
            "/usr/local/lib/python3.6/dist-packages/matplotlib/backends/backend_agg.py:183: RuntimeWarning: Glyph 133 missing from current font.\n",
            "  font.set_text(s, 0, flags=flags)\n",
            "/usr/local/lib/python3.6/dist-packages/matplotlib/backends/backend_agg.py:183: RuntimeWarning: Glyph 136 missing from current font.\n",
            "  font.set_text(s, 0, flags=flags)\n",
            "/usr/local/lib/python3.6/dist-packages/matplotlib/backends/backend_agg.py:183: RuntimeWarning: Glyph 135 missing from current font.\n",
            "  font.set_text(s, 0, flags=flags)\n",
            "/usr/local/lib/python3.6/dist-packages/matplotlib/backends/backend_agg.py:183: RuntimeWarning: Glyph 134 missing from current font.\n",
            "  font.set_text(s, 0, flags=flags)\n",
            "/usr/local/lib/python3.6/dist-packages/matplotlib/backends/backend_agg.py:183: RuntimeWarning: Glyph 140 missing from current font.\n",
            "  font.set_text(s, 0, flags=flags)\n",
            "/usr/local/lib/python3.6/dist-packages/matplotlib/backends/backend_agg.py:183: RuntimeWarning: Glyph 152 missing from current font.\n",
            "  font.set_text(s, 0, flags=flags)\n",
            "/usr/local/lib/python3.6/dist-packages/matplotlib/backends/backend_agg.py:183: RuntimeWarning: Glyph 129 missing from current font.\n",
            "  font.set_text(s, 0, flags=flags)\n",
            "/usr/local/lib/python3.6/dist-packages/matplotlib/backends/backend_agg.py:183: RuntimeWarning: Glyph 128 missing from current font.\n",
            "  font.set_text(s, 0, flags=flags)\n",
            "/usr/local/lib/python3.6/dist-packages/matplotlib/backends/backend_agg.py:183: RuntimeWarning: Glyph 153 missing from current font.\n",
            "  font.set_text(s, 0, flags=flags)\n",
            "/usr/local/lib/python3.6/dist-packages/matplotlib/backends/backend_agg.py:183: RuntimeWarning: Glyph 147 missing from current font.\n",
            "  font.set_text(s, 0, flags=flags)\n",
            "/usr/local/lib/python3.6/dist-packages/matplotlib/backends/backend_agg.py:183: RuntimeWarning: Glyph 139 missing from current font.\n",
            "  font.set_text(s, 0, flags=flags)\n",
            "/usr/local/lib/python3.6/dist-packages/matplotlib/backends/backend_agg.py:183: RuntimeWarning: Glyph 137 missing from current font.\n",
            "  font.set_text(s, 0, flags=flags)\n",
            "/usr/local/lib/python3.6/dist-packages/matplotlib/backends/backend_agg.py:183: RuntimeWarning: Glyph 156 missing from current font.\n",
            "  font.set_text(s, 0, flags=flags)\n",
            "/usr/local/lib/python3.6/dist-packages/matplotlib/backends/backend_agg.py:183: RuntimeWarning: Glyph 157 missing from current font.\n",
            "  font.set_text(s, 0, flags=flags)\n",
            "/usr/local/lib/python3.6/dist-packages/matplotlib/backends/backend_agg.py:183: RuntimeWarning: Glyph 39321 missing from current font.\n",
            "  font.set_text(s, 0, flags=flags)\n",
            "/usr/local/lib/python3.6/dist-packages/matplotlib/backends/backend_agg.py:183: RuntimeWarning: Glyph 28207 missing from current font.\n",
            "  font.set_text(s, 0, flags=flags)\n",
            "/usr/local/lib/python3.6/dist-packages/matplotlib/backends/backend_agg.py:183: RuntimeWarning: Glyph 37941 missing from current font.\n",
            "  font.set_text(s, 0, flags=flags)\n",
            "/usr/local/lib/python3.6/dist-packages/matplotlib/backends/backend_agg.py:183: RuntimeWarning: Glyph 36335 missing from current font.\n",
            "  font.set_text(s, 0, flags=flags)\n",
            "/usr/local/lib/python3.6/dist-packages/matplotlib/backends/backend_agg.py:183: RuntimeWarning: Glyph 26377 missing from current font.\n",
            "  font.set_text(s, 0, flags=flags)\n",
            "/usr/local/lib/python3.6/dist-packages/matplotlib/backends/backend_agg.py:183: RuntimeWarning: Glyph 38480 missing from current font.\n",
            "  font.set_text(s, 0, flags=flags)\n",
            "/usr/local/lib/python3.6/dist-packages/matplotlib/backends/backend_agg.py:183: RuntimeWarning: Glyph 20844 missing from current font.\n",
            "  font.set_text(s, 0, flags=flags)\n",
            "/usr/local/lib/python3.6/dist-packages/matplotlib/backends/backend_agg.py:183: RuntimeWarning: Glyph 21496 missing from current font.\n",
            "  font.set_text(s, 0, flags=flags)\n"
          ],
          "name": "stderr"
        },
        {
          "output_type": "display_data",
          "data": {
            "image/png": "[encoded data removed]",
            "text/plain": [
              "<Figure size 1440x720 with 4 Axes>"
            ]
          },
          "metadata": {
            "tags": [],
            "needs_background": "light"
          }
        }
      ]
    },
    {
      "cell_type": "markdown",
      "metadata": {
        "id": "jMCmsdSWHlfW"
      },
      "source": [
        "###  3.1 Choosing Graphs\n",
        "- Which of these graphs seem useful and which ones are unnecessary?\n",
        "**Write a 2 sentence explanation about why these two plots seem or might be useful.** **Did the visualization style influence your decision?**\n",
        "Select the two graphs you think are more useful and add the following:\n",
        "- Add ```title``` for both subplots.\n",
        "- Add ```xlabel``` and ```ylabel```.\n",
        "- Change the color for one of the plots\n",
        "\n",
        "**Answer**"
      ]
    },
    {
      "cell_type": "code",
      "metadata": {
        "id": "89RDlC5ggzoT"
      },
      "source": [
        "# INSERT CODE HERE"
      ],
      "execution_count": null,
      "outputs": []
    },
    {
      "cell_type": "markdown",
      "metadata": {
        "id": "5eu2pWKrHlfX"
      },
      "source": [
        "### Pandas Plots\n",
        "\n",
        "FIXME: Is this needed / relevant?"
      ]
    },
    {
      "cell_type": "code",
      "metadata": {
        "id": "90m3tTRHHlfY"
      },
      "source": [
        "dataset_between60_75.plot(x='company_name',\n",
        "                         y = 'slaves_onboard',kind = 'bar', ax = ax1,\n",
        "                         rot = 90)"
      ],
      "execution_count": null,
      "outputs": []
    },
    {
      "cell_type": "markdown",
      "metadata": {
        "id": "7oOVxiLsHlfc"
      },
      "source": [
        "### Companies with less than 100 new positions started"
      ]
    },
    {
      "cell_type": "code",
      "metadata": {
        "id": "-_Oy0Cr_Hlfd"
      },
      "source": [
        "temp_plot = dataset_between60_75.where(dataset_between60_75['slaves_onboard'] < 100.0).dropna()\n",
        "\n",
        "temp_plot"
      ],
      "execution_count": null,
      "outputs": []
    },
    {
      "cell_type": "code",
      "metadata": {
        "id": "I1UkMU9wHlfg"
      },
      "source": [
        "temp_plot.plot(x='company_name',\n",
        "                         y = 'slaves_onboard',kind = 'bar',\n",
        "                         rot = 90)\n",
        "\n"
      ],
      "execution_count": null,
      "outputs": []
    },
    {
      "cell_type": "markdown",
      "metadata": {
        "id": "OjOjDcogHlfk"
      },
      "source": [
        "### Companies with more than 100 new positions started"
      ]
    },
    {
      "cell_type": "code",
      "metadata": {
        "id": "lrAOZa1hHlfm"
      },
      "source": [
        "temp_plot = dataset_between60_75.where(dataset_between60_75['slaves_onboard'] > 100.0).dropna()\n",
        "\n",
        "temp_plot.plot(x='company_name',\n",
        "                         y = 'slaves_onboard',kind = 'bar',\n",
        "                         rot = 90,grid = True,figsize = (20,10))\n",
        "\n",
        "temp_plot"
      ],
      "execution_count": null,
      "outputs": []
    },
    {
      "cell_type": "markdown",
      "metadata": {
        "id": "iC1mKd2BHlfu"
      },
      "source": [
        "### Companies with more than 500 new positions started"
      ]
    },
    {
      "cell_type": "code",
      "metadata": {
        "id": "HNwE7zKBHlfv"
      },
      "source": [
        "temp_plot = dataset_between60_75.where(dataset_between60_75['slaves_onboard'] > 500.0).dropna()\n",
        "print(f'There are {temp_plot.shape[0]} trips that carries more than 200 slaves.')\n",
        "\n"
      ],
      "execution_count": null,
      "outputs": []
    },
    {
      "cell_type": "code",
      "metadata": {
        "id": "dfBf3GfyHlfz",
        "scrolled": true
      },
      "source": [
        "temp_plot.plot(x='company_name',\n",
        "                         y = 'slaves_onboard',kind = 'bar',\n",
        "                         rot = 90,grid = True,figsize = (20,10))\n",
        "\n",
        "\n"
      ],
      "execution_count": null,
      "outputs": []
    },
    {
      "cell_type": "markdown",
      "metadata": {
        "id": "ZIZ8rFjhHlf3"
      },
      "source": [
        "### Check the most used 'company_name' for new_positions > 500"
      ]
    },
    {
      "cell_type": "code",
      "metadata": {
        "id": "7IOuRHKwHlf4",
        "scrolled": true
      },
      "source": [
        "temp_plot['start_date'].hist(bins = 20,\n",
        "                                 alpha = 0.5,\n",
        "                                 xrot = 45,\n",
        "                                 figsize = (10,10)\n",
        "                                )"
      ],
      "execution_count": null,
      "outputs": []
    },
    {
      "cell_type": "markdown",
      "metadata": {
        "id": "ShDktMYRHlf8"
      },
      "source": [
        "### Check the most used 'position_location' for new_positions > 500"
      ]
    },
    {
      "cell_type": "code",
      "metadata": {
        "id": "vYoFVQrIHlf9"
      },
      "source": [
        "temp_plot['voyage_pit_stop'].hist(bins=20, \n",
        "                           alpha=0.7,\n",
        "                           xrot = 0,\n",
        "                          figsize = (10,10))"
      ],
      "execution_count": null,
      "outputs": []
    },
    {
      "cell_type": "markdown",
      "metadata": {
        "id": "ntI-QvHuHlgB"
      },
      "source": [
        "### Check the most used 'gender'  for new_positions > 500"
      ]
    },
    {
      "cell_type": "code",
      "metadata": {
        "id": "ermZi3B7HlgC",
        "scrolled": false
      },
      "source": [
        "temp_plot['end_port'].hist(bins=20, \n",
        "                           alpha=0.7,\n",
        "                           xrot = 0,\n",
        "                          figsize = (10,10))"
      ],
      "execution_count": null,
      "outputs": []
    },
    {
      "cell_type": "markdown",
      "metadata": {
        "id": "cvaJr4-BHlgG"
      },
      "source": [
        "### Observations \n",
        "\n",
        "FIXME Majority of The Ships carrying over 200 people started their journey Portugal made a Pit-Stop in Africa and Went to Cartagena, Colombia "
      ]
    },
    {
      "cell_type": "markdown",
      "metadata": {
        "id": "1w9XvpNdHlgG"
      },
      "source": [
        "## Between 1975- 1990"
      ]
    },
    {
      "cell_type": "code",
      "metadata": {
        "id": "CWt8CtQDHlgH"
      },
      "source": [
        "dataset_between75_90 = modified_dataset.where((modified_dataset['start_date'] >= 1601) & (modified_dataset['start_date'] <= 1700) )\n",
        "\n",
        "dataset_between75_90"
      ],
      "execution_count": null,
      "outputs": []
    },
    {
      "cell_type": "markdown",
      "metadata": {
        "id": "Eg7EEdhKgzpG"
      },
      "source": [
        "### 3.2 Drop null values"
      ]
    },
    {
      "cell_type": "code",
      "metadata": {
        "id": "cv3zqBdzHlgK"
      },
      "source": [
        "dataset_between75_90 = dataset_between75_90._____() # Insert Code here (drop nul values)\n",
        "dataset_between75_90"
      ],
      "execution_count": null,
      "outputs": []
    },
    {
      "cell_type": "markdown",
      "metadata": {
        "id": "ltr9T0R2HlgQ"
      },
      "source": [
        "### 3.3 Total Number of Positions Started between 1975 - 1990 - Complete Records\n"
      ]
    },
    {
      "cell_type": "code",
      "metadata": {
        "id": "xzPsmzJVHlgQ"
      },
      "source": [
        "dataset_between75_90.slaves_onboard.___() # Insert Code Here - Sum of slaves "
      ],
      "execution_count": null,
      "outputs": []
    },
    {
      "cell_type": "markdown",
      "metadata": {
        "id": "6KPEwqj3HlgT"
      },
      "source": [
        "### Visualizing New Jobs during 1975 - 1990"
      ]
    },
    {
      "cell_type": "code",
      "metadata": {
        "id": "kM5-QvjmHlgT"
      },
      "source": [
        "import matplotlib.pyplot as plt\n",
        "\n",
        "fig = plt.figure(figsize = (20,10))\n",
        "\n",
        "ax1 = fig.add_subplot(2,1,1)\n",
        "ax2 = fig.add_subplot(2,1,2)\n",
        "\n",
        "ax1.scatter(dataset_between75_90['year_of_arrival'],\n",
        "            dataset_between75_90['slaves_onboard'],\n",
        "            alpha = 0.4)\n",
        "\n",
        "ax2.bar(\n",
        "    dataset_between75_90['year_of_arrival'],\n",
        "    dataset_between75_90['slaves_onboard'],\n",
        "    alpha = 0.4\n",
        "    )\n",
        "\n"
      ],
      "execution_count": null,
      "outputs": []
    },
    {
      "cell_type": "markdown",
      "metadata": {
        "id": "QjxCnj6nHlgX"
      },
      "source": [
        "### 3.4 Pandas Plots"
      ]
    },
    {
      "cell_type": "code",
      "metadata": {
        "id": "4dx1qSH-HlgY"
      },
      "source": [
        "# INSERT CODE HERE"
      ],
      "execution_count": null,
      "outputs": []
    },
    {
      "cell_type": "markdown",
      "metadata": {
        "id": "MGDHXfAnHlgf"
      },
      "source": [
        "### 3.5 Check the most used 'company_name' for new_positions > 5000"
      ]
    },
    {
      "cell_type": "code",
      "metadata": {
        "id": "cuTVq2HkHlgh"
      },
      "source": [
        "# INSERT CODE HERE"
      ],
      "execution_count": null,
      "outputs": []
    },
    {
      "cell_type": "markdown",
      "metadata": {
        "id": "5alh-9SgHlgj"
      },
      "source": [
        "### 3.6 Check the most used 'position_location' for new_positions > 5000"
      ]
    },
    {
      "cell_type": "code",
      "metadata": {
        "id": "m49Xm2SkHlgk"
      },
      "source": [
        "# INSERT CODE HERE"
      ],
      "execution_count": null,
      "outputs": []
    },
    {
      "cell_type": "markdown",
      "metadata": {
        "id": "6RZ4R9mFHlgo"
      },
      "source": [
        "### 3.7 Check the most used 'End_Port' "
      ]
    },
    {
      "cell_type": "code",
      "metadata": {
        "id": "KqQSbPfOHlgo",
        "scrolled": false
      },
      "source": [
        "# INSERT CODE HERE"
      ],
      "execution_count": null,
      "outputs": []
    },
    {
      "cell_type": "markdown",
      "metadata": {
        "id": "SXYLnplNHlgs"
      },
      "source": [
        "## Between 1990 - 2005"
      ]
    },
    {
      "cell_type": "code",
      "metadata": {
        "id": "mpED3SzKHlgt"
      },
      "source": [
        "dataset_between90_05 = modified_dataset.where((modified_dataset['start_date'] >= 1990) & (modified_dataset['start_date'] < 2005) )"
      ],
      "execution_count": null,
      "outputs": []
    },
    {
      "cell_type": "code",
      "metadata": {
        "id": "UztHQkTmHlgx"
      },
      "source": [
        "dataset_between90_05 = dataset_between90_05.dropna()\n",
        "\n",
        "dataset_between90_05"
      ],
      "execution_count": null,
      "outputs": []
    },
    {
      "cell_type": "markdown",
      "metadata": {
        "id": "8Pu1E16BHlg0"
      },
      "source": [
        "### 3.8 Total Number of New Positions between 1990 - 2005 - Complete Records\n"
      ]
    },
    {
      "cell_type": "code",
      "metadata": {
        "id": "ICN8XRxYHlg0"
      },
      "source": [
        ""
      ],
      "execution_count": null,
      "outputs": []
    },
    {
      "cell_type": "markdown",
      "metadata": {
        "id": "aoav5Z58Hlg2"
      },
      "source": [
        "### 3.9 Visualizing New Positions During 1990 - 2005"
      ]
    },
    {
      "cell_type": "code",
      "metadata": {
        "id": "c6LVgQ1wHlg3"
      },
      "source": [
        ""
      ],
      "execution_count": null,
      "outputs": []
    },
    {
      "cell_type": "markdown",
      "metadata": {
        "id": "p65ASw2_Hlg6"
      },
      "source": [
        "### 3.10 Pandas Plots"
      ]
    },
    {
      "cell_type": "code",
      "metadata": {
        "id": "bU5P2A0CHlg7"
      },
      "source": [
        ""
      ],
      "execution_count": null,
      "outputs": []
    },
    {
      "cell_type": "markdown",
      "metadata": {
        "id": "ejs7tofyHlg9"
      },
      "source": [
        "### 3.11 Check the most used 'company_name' for new_positions > 5000"
      ]
    },
    {
      "cell_type": "code",
      "metadata": {
        "id": "5g_CwoUBHlg9"
      },
      "source": [
        ""
      ],
      "execution_count": null,
      "outputs": []
    },
    {
      "cell_type": "markdown",
      "metadata": {
        "id": "wQXiGjGLHlhB"
      },
      "source": [
        "### 3.12 Check the most used 'position_location' for new_positions > 5000"
      ]
    },
    {
      "cell_type": "code",
      "metadata": {
        "id": "yiLTrPGTHlhB"
      },
      "source": [
        ""
      ],
      "execution_count": null,
      "outputs": []
    },
    {
      "cell_type": "markdown",
      "metadata": {
        "id": "VHcaOGz9HlhD"
      },
      "source": [
        "### 3.13 Check the most used 'End_Port' "
      ]
    },
    {
      "cell_type": "code",
      "metadata": {
        "id": "2XHKgB-qHlhE",
        "scrolled": false
      },
      "source": [
        ""
      ],
      "execution_count": null,
      "outputs": []
    },
    {
      "cell_type": "markdown",
      "metadata": {
        "id": "84pXofoLHlhG"
      },
      "source": [
        "# Extra Credit\n",
        "## Between 1900 - 2005"
      ]
    },
    {
      "cell_type": "code",
      "metadata": {
        "id": "n9y5tp0qHlhG"
      },
      "source": [
        "dataset_between18_19 = modified_dataset.where((modified_dataset['start_date'] >= 1801) & (modified_dataset['start_date'] <= 1900) )\n",
        "\n",
        "dataset_between18_19"
      ],
      "execution_count": null,
      "outputs": []
    },
    {
      "cell_type": "code",
      "metadata": {
        "id": "KVKVgtIEHlhI"
      },
      "source": [
        "dataset_between18_19 = dataset_between18_19.dropna()\n",
        "\n",
        "dataset_between18_19"
      ],
      "execution_count": null,
      "outputs": []
    },
    {
      "cell_type": "markdown",
      "metadata": {
        "id": "F66q8RjvHlhL"
      },
      "source": [
        "### Total Number of New Positions between 1990 - 2005 - Complete Records\n"
      ]
    },
    {
      "cell_type": "code",
      "metadata": {
        "id": "SWaElllYHlhM"
      },
      "source": [
        ""
      ],
      "execution_count": null,
      "outputs": []
    },
    {
      "cell_type": "markdown",
      "metadata": {
        "id": "4Cy7QPXaHlhO"
      },
      "source": [
        "### Visualizing New Jobs During 1990 - 2005"
      ]
    },
    {
      "cell_type": "code",
      "metadata": {
        "id": "U-pb7BQbHlhO"
      },
      "source": [
        ""
      ],
      "execution_count": null,
      "outputs": []
    },
    {
      "cell_type": "markdown",
      "metadata": {
        "id": "Qy7PewKsHlhQ"
      },
      "source": [
        "### Pandas Plots"
      ]
    },
    {
      "cell_type": "code",
      "metadata": {
        "id": "VeafP9zTHlhR"
      },
      "source": [
        ""
      ],
      "execution_count": null,
      "outputs": []
    },
    {
      "cell_type": "markdown",
      "metadata": {
        "id": "lhYJLqUUHlhV"
      },
      "source": [
        "### Check the most used 'company_name' for new_positions > 5000"
      ]
    },
    {
      "cell_type": "code",
      "metadata": {
        "id": "ES-eLhpaHlhV"
      },
      "source": [
        ""
      ],
      "execution_count": null,
      "outputs": []
    },
    {
      "cell_type": "markdown",
      "metadata": {
        "id": "GW44LbYwHlhY"
      },
      "source": [
        "### Check the most used 'position_location' for new_jobs > 5000"
      ]
    },
    {
      "cell_type": "code",
      "metadata": {
        "id": "GMJGOq2iHlhY"
      },
      "source": [
        ""
      ],
      "execution_count": null,
      "outputs": []
    },
    {
      "cell_type": "markdown",
      "metadata": {
        "id": "RVVMQGubHlhb"
      },
      "source": [
        "### Check the most used 'End_Port' "
      ]
    },
    {
      "cell_type": "code",
      "metadata": {
        "id": "UMMIesEyHlhc",
        "scrolled": false
      },
      "source": [
        ""
      ],
      "execution_count": null,
      "outputs": []
    },
    {
      "cell_type": "markdown",
      "metadata": {
        "id": "_hntDtdsgzqd"
      },
      "source": [
        "# Conclusion"
      ]
    },
    {
      "cell_type": "markdown",
      "metadata": {
        "id": "NweDUhRVHlhe"
      },
      "source": [
        "## Resources"
      ]
    },
    {
      "cell_type": "markdown",
      "metadata": {
        "id": "VByUUKTiIYM-"
      },
      "source": [
        "# Appendix"
      ]
    },
    {
      "cell_type": "markdown",
      "metadata": {
        "id": "ObtE8-BHODkC"
      },
      "source": [
        "## Connecting to Your Google Drive\n"
      ]
    },
    {
      "cell_type": "code",
      "metadata": {
        "id": "_3xzPhI_ByD5"
      },
      "source": [
        "# Start by connecting google drive into google colab\n",
        "\n",
        "from google.colab import drive\n",
        "\n",
        "drive.mount('/content/gdrive')"
      ],
      "execution_count": null,
      "outputs": []
    },
    {
      "cell_type": "code",
      "metadata": {
        "id": "_epZFcuXNVRv"
      },
      "source": [
        "!ls \"/content/gdrive/My Drive/DigitalHistory\""
      ],
      "execution_count": null,
      "outputs": []
    },
    {
      "cell_type": "code",
      "metadata": {
        "id": "y6r-8UBGNueF"
      },
      "source": [
        "cd \"/content/gdrive/My Drive/DigitalHistory/tmp/trans-atlantic-slave-trade\""
      ],
      "execution_count": null,
      "outputs": []
    },
    {
      "cell_type": "code",
      "metadata": {
        "id": "Pp8mubdjVqY2"
      },
      "source": [
        "ls"
      ],
      "execution_count": null,
      "outputs": []
    },
    {
      "cell_type": "code",
      "metadata": {
        "id": "ZLhlkjd3Hlhr"
      },
      "source": [
        "### Extracting ZipFiles"
      ],
      "execution_count": null,
      "outputs": []
    },
    {
      "cell_type": "code",
      "metadata": {
        "id": "rzDr3KIkOJdy"
      },
      "source": [
        "\n",
        "import zipfile\n"
      ],
      "execution_count": null,
      "outputs": []
    },
    {
      "cell_type": "code",
      "metadata": {
        "id": "zkIDSJWUQFCV"
      },
      "source": [
        "file_location = 'data/trans-atlantic-slave-trade.csv.zip'\n",
        "\n",
        "zip_ref = zipfile.ZipFile(file_location,'r')\n",
        "zip_ref.extractall('data/tmp/trans-atlantic-slave-trade')\n",
        "zip_ref.close()"
      ],
      "execution_count": null,
      "outputs": []
    },
    {
      "cell_type": "markdown",
      "metadata": {
        "id": "TI9Zcwf5Hlh2"
      },
      "source": [
        "### Checking and Changing Column Types \n",
        "```df.dtypes``` and ```df.astype()```"
      ]
    },
    {
      "cell_type": "code",
      "metadata": {
        "id": "pGl1MUnOHlh3"
      },
      "source": [
        "df.dtypes"
      ],
      "execution_count": null,
      "outputs": []
    },
    {
      "cell_type": "code",
      "metadata": {
        "id": "JIG8wtR2Hlh6"
      },
      "source": [
        "df.year_of_arrival.astype(int)"
      ],
      "execution_count": null,
      "outputs": []
    },
    {
      "cell_type": "code",
      "metadata": {
        "id": "Z4Wl6kePHlh9"
      },
      "source": [
        "df.dtypes"
      ],
      "execution_count": null,
      "outputs": []
    },
    {
      "cell_type": "code",
      "metadata": {
        "id": "-V4Kbei5HliA"
      },
      "source": [
        "df.year_of_arrival = df.year_of_arrival.astype(int)"
      ],
      "execution_count": null,
      "outputs": []
    },
    {
      "cell_type": "code",
      "metadata": {
        "id": "fPgIGprYHliD"
      },
      "source": [
        "df.dtypes"
      ],
      "execution_count": null,
      "outputs": []
    },
    {
      "cell_type": "markdown",
      "metadata": {
        "id": "vL0gW74bHliI"
      },
      "source": [
        "**Extra**:\n",
        "```df.slaves_onboard = df.slaves_onboard.astype(int)```"
      ]
    },
    {
      "cell_type": "code",
      "metadata": {
        "id": "obBSXVY2HliI"
      },
      "source": [
        "df.slaves_onboard = df.slaves_onboard.astype(int)"
      ],
      "execution_count": null,
      "outputs": []
    },
    {
      "cell_type": "code",
      "metadata": {
        "id": "bmm_3kqnHliK"
      },
      "source": [
        "df.dtypes"
      ],
      "execution_count": null,
      "outputs": []
    },
    {
      "cell_type": "code",
      "metadata": {
        "id": "9dC_vb_KHliM"
      },
      "source": [
        "df"
      ],
      "execution_count": null,
      "outputs": []
    },
    {
      "cell_type": "markdown",
      "metadata": {
        "id": "s3AFqNpu2GJ4"
      },
      "source": [
        "### GeoTagging Locations"
      ]
    },
    {
      "cell_type": "code",
      "metadata": {
        "id": "lpBC6OsdEwl-"
      },
      "source": [
        "!pip install geopandas\n"
      ],
      "execution_count": null,
      "outputs": []
    },
    {
      "cell_type": "code",
      "metadata": {
        "id": "3N9KNSl-15ll"
      },
      "source": [
        "!pip install googlemaps"
      ],
      "execution_count": null,
      "outputs": []
    },
    {
      "cell_type": "code",
      "metadata": {
        "id": "0gYRsx8v2HfO"
      },
      "source": [
        "from googlemaps import Client as GoogleMaps\n",
        "import pandas as pd "
      ],
      "execution_count": null,
      "outputs": []
    },
    {
      "cell_type": "code",
      "metadata": {
        "id": "GYqCDWTt2KKz"
      },
      "source": [
        "gmaps = GoogleMaps('')# ENTER KEY"
      ],
      "execution_count": null,
      "outputs": []
    },
    {
      "cell_type": "code",
      "metadata": {
        "id": "bLLkI_sD9hzv"
      },
      "source": [
        "df"
      ],
      "execution_count": null,
      "outputs": []
    },
    {
      "cell_type": "code",
      "metadata": {
        "id": "AKnGxe_w2Lzw"
      },
      "source": [
        "addresses = df.filter(['Voyage itinerary imputed port where began (ptdepimp) place'], axis=1)\n",
        "addresses.head()"
      ],
      "execution_count": null,
      "outputs": []
    },
    {
      "cell_type": "code",
      "metadata": {
        "id": "TVEZc-Qs2PbV"
      },
      "source": [
        "addresses['long'] = \"\"\n",
        "addresses['lat'] = \"\""
      ],
      "execution_count": null,
      "outputs": []
    },
    {
      "cell_type": "code",
      "metadata": {
        "id": "sBJppNIY9ZBP"
      },
      "source": [
        "addresses"
      ],
      "execution_count": null,
      "outputs": []
    }
  ]
}