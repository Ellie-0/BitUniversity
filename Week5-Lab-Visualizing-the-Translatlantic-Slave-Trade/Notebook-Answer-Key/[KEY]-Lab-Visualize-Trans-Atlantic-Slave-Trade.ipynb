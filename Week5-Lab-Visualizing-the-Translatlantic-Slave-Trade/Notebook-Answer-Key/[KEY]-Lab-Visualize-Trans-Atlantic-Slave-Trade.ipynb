{
 "cells": [
  {
   "cell_type": "markdown",
   "metadata": {
    "colab_type": "text",
    "id": "view-in-github"
   },
   "source": [
    "<a href=\"https://colab.research.google.com/github/ShayanRiyaz/DigitalHistory/blob/Shayan/Week5-Visualizing-the-Translatlantic-Slave-Trade/Week5-Visualize-Trans-Atlantic-Slave-Trade.ipynb\" target=\"_parent\"><img src=\"https://colab.research.google.com/assets/colab-badge.svg\" alt=\"Open In Colab\"/></a>"
   ]
  },
  {
   "cell_type": "markdown",
   "metadata": {
    "colab_type": "text",
    "id": "U30n5IXzIVFX"
   },
   "source": [
    "# Visualizing the Trans-Atlantic Slave Trade - Key"
   ]
  },
  {
   "cell_type": "markdown",
   "metadata": {
    "colab_type": "text",
    "id": "UFfKdw9eV6Wc"
   },
   "source": [
    "## Table of Contents\n",
    "\n",
    "- Recap\n",
    "- About the Dataset\n",
    "    - The Transatlantic Slave Trade\n",
    "        - Facts about the dataset\n",
    "- Labs and Methodology\n",
    "- Goals\n",
    "- **Part 1 - Getting Our Basic Data Analysis Set-Up**\n",
    "    - Import Libraries and unpack file\n",
    "    - Load file\n",
    "    - Observing the Dataset using Pandas\n",
    "    - Important Facts About the Dataset\n",
    "    - Visualize Year of Arrival vs Number of Slaves arrived\n",
    "- **Part 2 - Getting Started with Data Wrangling**\n",
    "    - Create a copy of the Original Dataset\n",
    "    - Changing Column Names\n",
    "    - Moving Column Positions - ```df.reindex()```\n",
    "    - Remove Voyage ID -```df.drop()```\n",
    "    - Using ```dropna()```\n",
    "    - Changing Column Type and Sorting - ```df.sort_values()```\n",
    "    - Finding Unique and similar strings \n",
    "    - Working with Strings - ```df['column_name'].str.replace()```\n",
    "- **Part 3 - Micro Wrangling and Visualization**\n",
    "    - Between 1500 - 1600\n",
    "    - Between 1601 - 1700\n",
    "    - Between 1701 - 1800\n",
    "    - Between 1801 - 1900\n",
    "- **Part 4 - Conclusion**\n",
    "- Resources\n",
    "- Appendix\n",
    "    \n",
    "\n",
    "\n",
    "\n",
    "\n"
   ]
  },
  {
   "cell_type": "markdown",
   "metadata": {
    "colab_type": "text",
    "id": "RE3H5y7yIRHZ"
   },
   "source": [
    "## Recap\n",
    "- By this time, you should have an understanding and practice on how to implement the following:\n",
    "- Loading a Dataset '.csv' as a dataframe using ```pd.read_csv```\n",
    "- Observing the properties of the loaded dataset using functions such as:\n",
    "    - ```pd.head()```\n",
    "    - ```pd.describe()```\n",
    "    - ```pd.info()```\n",
    "- Modifying the dataset by removing ```NaN``` values.\n",
    "- A conceptual understanding of the term ```object``` in DataFrames.\n",
    "- Re-indexing columns\n",
    "- Visualizing Data using ```matplotlib``` and ```pandas```:\n",
    "    - Scatter plots\n",
    "    - Barplots\n",
    "    - Line plots\n",
    "    - Histograms"
   ]
  },
  {
   "cell_type": "markdown",
   "metadata": {
    "colab_type": "text",
    "id": "4uvgAANOIKwm"
   },
   "source": [
    "## About the Dataset\n",
    "\n",
    "### The Trans-Atlantic Slave Trade\n",
    "\n",
    "It is difficult to believe in the first decades of the twenty-first century that just over two centuries ago, for those Europeans who thought about the issue, the shipping of enslaved Africans across the Atlantic was morally indistinguishable from shipping textiles, wheat, or even sugar. Our reconstruction of a major part of this migration experience covers an era in which there was massive technological change (steamers were among the last slave ships), as well as very dramatic shifts in perceptions of good and evil. Just as important perhaps were the relations between the Western and non-Western worlds that the trade both reflected and encapsulated. Slaves constituted the most important reason for contact between Europeans and Africans fornearly two centuries. The shipment of slaves from Africa was related to the demographic disaster consequent to the meeting of Europeans and Amerindians, which greatly reduced the numbers of Amerindian laborers and raised the demand for labor drawn from elsewhere, particularly Africa. As Europeans colonized the Americas, a steady stream of European peoples migrated to the Americas between 1492 and the early nineteenth century. But what is often overlooked is that, before 1820, perhaps three times as many enslaved Africans crossed the Atlantic as Europeans. This was the largest transoceanic migration of a people until that day, and it provided the Americas with a crucial labor force for their own economic development. The slave trade is thus a vital part of the history of some millions of Africans and their descendants who helped shape the modern Americas culturally as well as in the material sense.\n",
    "\n",
    "The details of the more than 36,000 voyages presented here greatly facilitate the study of cultural, demographic, and economic change in the Atlantic world from the late sixteenth to the mid-nineteenth centuries. Trends and cycles in the flow of African captives from specific coastal outlets should provide scholars withnew, basic information useful in examining the relationships among slaving, warfare—in both Africa and Europe—political instability, and climatic and ecological change, among other forces. \n",
    "\n",
    "#### Facts about the dataset\n",
    "\n",
    "- The dataset approximatey 36,110 trans-Atlantic voyages.\n",
    "- The estimates suggest around 12,520,000 captives departed Afriva to the Americas. \n",
    "\n",
    "- Not all 36,000 voyages in the database carried slaves from Africa.\n",
    "- A total of 633 voyages (1.8%) never reached the African coast because they were lost at sea, captured or suffered some other misfortune. \n",
    "- The database also contains records of 34,106 voyages that disembarked slaves, or could have done so (in other words, for some of these we do not know the outcome of the voyage).\n",
    "\n",
    "- The latter group comprised mainly ships captured in the nineteenth century which were taken to Sierra Leone and St. Helena as part of the attempt to suppress the trade. \n"
   ]
  },
  {
   "cell_type": "markdown",
   "metadata": {
    "colab_type": "text",
    "id": "fPyizd_JIHPU"
   },
   "source": [
    "## Labs and Methodoloy\n",
    "Congratulations you have made it to the first lab of this course. The ideas of these labs is to help you apply the Data Science pipeline in a project based environment. You will be using the tools taught to you in the previous modules and adopt and Question and Answer based approach when you work with the dataset.\n",
    "We have divided our approach into 4 parts:\n",
    "- The first part is the traditonal set up every. data scientist should do before modifying the dataset.\n",
    "- The second part involves clearning the the dataset and choosing columns that fit our methdology.\n",
    "- The third part involves futher splitting our cleaned dataframe into smaller dataframes and visualiztion them.\n",
    "- Finally, the fourth part involves summarizing our conclusion.\n",
    "\n",
    "\n",
    "\n",
    "\n",
    "\n"
   ]
  },
  {
   "cell_type": "markdown",
   "metadata": {
    "colab_type": "text",
    "id": "Tl_6Scu8IE7Q"
   },
   "source": [
    "\n",
    "## Goals"
   ]
  },
  {
   "cell_type": "markdown",
   "metadata": {
    "colab_type": "text",
    "id": "ixk29-rMHvR9"
   },
   "source": [
    "## 1 - Getting Our Basic Data Analysis Set-Up"
   ]
  },
  {
   "cell_type": "code",
   "execution_count": null,
   "metadata": {
    "colab": {},
    "colab_type": "code",
    "id": "vs7AJxshHlc9"
   },
   "outputs": [],
   "source": [
    "import pandas as pd\n",
    "import numpy as np"
   ]
  },
  {
   "cell_type": "markdown",
   "metadata": {
    "colab_type": "text",
    "id": "7q6R0hBZONBe"
   },
   "source": [
    "### 1.1 Load file"
   ]
  },
  {
   "cell_type": "code",
   "execution_count": null,
   "metadata": {
    "colab": {},
    "colab_type": "code",
    "id": "DfmowYZZOVRn"
   },
   "outputs": [],
   "source": [
    "url = 'https://raw.githubusercontent.com/bitprj/DigitalHistory/master/Week5-Visualizing-the-Translatlantic-Slave-Trade/data/trans-atlantic-slave-trade.csv'\n",
    "\n",
    "trans_atlc_trade = pd.read_csv(url)"
   ]
  },
  {
   "cell_type": "markdown",
   "metadata": {
    "colab_type": "text",
    "id": "9SwePQu6qsZl"
   },
   "source": [
    "### Observing the Dataset using Pandas"
   ]
  },
  {
   "cell_type": "markdown",
   "metadata": {
    "colab_type": "text",
    "id": "mCNQqlwecmjv"
   },
   "source": [
    "Now, the dataset is loaded as a dataframe 'trans_atlc_trade'\n",
    "\n",
    "### 1.2 head()\n",
    "Let's check what columns this file has by calling 'head()' function.\n",
    "It returns first n rows, and it's useful to see the dataset at a quick glance.\n",
    "\n",
    "By default, the head() function returns the first 5 rows.\n",
    "\n",
    "You can specify the number of rows to display by calling df.head(number)\n"
   ]
  },
  {
   "cell_type": "code",
   "execution_count": null,
   "metadata": {
    "colab": {
     "base_uri": "https://localhost:8080/",
     "height": 305
    },
    "colab_type": "code",
    "id": "_Fwr655mcjr5",
    "outputId": "2f80b1e3-b57a-418c-9ba7-d8603675f9d8"
   },
   "outputs": [],
   "source": [
    "trans_atlc_trade.head()"
   ]
  },
  {
   "cell_type": "markdown",
   "metadata": {},
   "source": [
    "### 1.3 tail()"
   ]
  },
  {
   "cell_type": "code",
   "execution_count": null,
   "metadata": {
    "colab": {
     "base_uri": "https://localhost:8080/",
     "height": 288
    },
    "colab_type": "code",
    "id": "WVD4aPJbHldP",
    "outputId": "cf38a51d-3bf1-43fe-8523-dcaa8fb96091"
   },
   "outputs": [],
   "source": [
    "trans_atlc_trade.tail()"
   ]
  },
  {
   "cell_type": "markdown",
   "metadata": {
    "colab_type": "text",
    "id": "FFqqKsABeT7y"
   },
   "source": [
    "### 1.4 info()\n",
    "This will return all of the column names and its types. This function is useful to get the idea of what the dataframe is like.\n"
   ]
  },
  {
   "cell_type": "code",
   "execution_count": null,
   "metadata": {
    "colab": {
     "base_uri": "https://localhost:8080/",
     "height": 261
    },
    "colab_type": "code",
    "id": "wxqUmTFdfkCi",
    "outputId": "e1d62adb-c7bb-4191-9066-791382f1bff5"
   },
   "outputs": [],
   "source": [
    "trans_atlc_trade.info()"
   ]
  },
  {
   "cell_type": "markdown",
   "metadata": {
    "colab_type": "text",
    "id": "IhviGetnfp9B"
   },
   "source": [
    "### 1.5 describe()\n",
    "describe() is used to view summary statistics of numeric columns. This will help you to have general idea of the dataset."
   ]
  },
  {
   "cell_type": "code",
   "execution_count": null,
   "metadata": {
    "colab": {
     "base_uri": "https://localhost:8080/",
     "height": 277
    },
    "colab_type": "code",
    "id": "DuDPOCZ9frBI",
    "outputId": "8ab7b631-cc33-45f2-de42-5e58f255b497"
   },
   "outputs": [],
   "source": [
    "trans_atlc_trade.describe()"
   ]
  },
  {
   "cell_type": "markdown",
   "metadata": {
    "colab_type": "text",
    "id": "nwuNo5o2fzGe"
   },
   "source": [
    "### shape\n",
    "To see the size of the dataset, we can use shape function, which returns the number of rows and columns in a format of (#rows, #columns)"
   ]
  },
  {
   "cell_type": "code",
   "execution_count": null,
   "metadata": {
    "colab": {
     "base_uri": "https://localhost:8080/",
     "height": 33
    },
    "colab_type": "code",
    "id": "fIhERH7KHldk",
    "outputId": "ced28c67-2b45-4b9c-8f3d-55b22347dc3c"
   },
   "outputs": [],
   "source": [
    "trans_atlc_trade.shape"
   ]
  },
  {
   "cell_type": "markdown",
   "metadata": {
    "colab_type": "text",
    "id": "AeidaHn6Hldo"
   },
   "source": [
    "### 1.6 Important Facts About the Dataset"
   ]
  },
  {
   "cell_type": "code",
   "execution_count": null,
   "metadata": {
    "colab": {
     "base_uri": "https://localhost:8080/",
     "height": 33
    },
    "colab_type": "code",
    "id": "lKl32c6JHldo",
    "outputId": "60085c32-9813-4640-a655-854d8778f152"
   },
   "outputs": [],
   "source": [
    "Unaccounted_trips = trans_atlc_trade['Slaves arrived at 1st port'].isna().sum()\n",
    "print(f'The total number of unaccounted trips is:  {Unaccounted_trips}')\n"
   ]
  },
  {
   "cell_type": "code",
   "execution_count": null,
   "metadata": {
    "colab": {
     "base_uri": "https://localhost:8080/",
     "height": 33
    },
    "colab_type": "code",
    "id": "v_Gai5XEHlds",
    "outputId": "a5f405bf-5885-452c-f983-f3eb7be2aa71",
    "scrolled": true
   },
   "outputs": [],
   "source": [
    "number_of_slaves_accounted = trans_atlc_trade['Slaves arrived at 1st port'].sum()\n",
    "print(f'The total number of slaves accounted for are: {number_of_slaves_accounted}')"
   ]
  },
  {
   "cell_type": "markdown",
   "metadata": {
    "colab_type": "text",
    "id": "bYuDgHKIHldv"
   },
   "source": [
    "Historical Estimates suggest that the total number of slave traded are estimated to be ~12.5 Million. This means that according to this dataset:\n",
    "- Around ```7436701``` slaves are not accounted for. *(12500000 - 5063299)*\n",
    "\n"
   ]
  },
  {
   "cell_type": "markdown",
   "metadata": {
    "colab_type": "text",
    "id": "heW7wau-Hldv"
   },
   "source": [
    "### Visualize Year of Arrival vs Number of Slaves arrived"
   ]
  },
  {
   "cell_type": "code",
   "execution_count": null,
   "metadata": {
    "colab": {},
    "colab_type": "code",
    "id": "w6jM7tXrHldw"
   },
   "outputs": [],
   "source": [
    "import matplotlib.pyplot as plt"
   ]
  },
  {
   "cell_type": "code",
   "execution_count": null,
   "metadata": {
    "colab": {
     "base_uri": "https://localhost:8080/",
     "height": 612
    },
    "colab_type": "code",
    "id": "RZf2AqqGXhop",
    "outputId": "94475e9e-340c-40f7-d5f6-76fc52f67772"
   },
   "outputs": [],
   "source": [
    "trans_atlc_trade.plot(x = 'Year of arrival at port of disembarkation',\n",
    "        y = 'Slaves arrived at 1st port',\n",
    "        kind = 'scatter',\n",
    "        c = 'Slaves arrived at 1st port',\n",
    "        title = 'Year of arrival at port of disembarkation vs Slaves arrived at 1st port',\n",
    "        alpha = 0.3,cmap = plt.get_cmap('ocean'),\n",
    "        colorbar = True,\n",
    "        figsize = (20,10)\n",
    "       )\n",
    "\n",
    "\n"
   ]
  },
  {
   "cell_type": "markdown",
   "metadata": {
    "colab_type": "text",
    "id": "nIFt7KCZHld-"
   },
   "source": [
    "## Part 2 - Getting Started with Data Wrangling"
   ]
  },
  {
   "cell_type": "markdown",
   "metadata": {
    "colab_type": "text",
    "id": "NJhawspPHld-"
   },
   "source": [
    "### Create a copy of the Original Dataset"
   ]
  },
  {
   "cell_type": "code",
   "execution_count": null,
   "metadata": {
    "colab": {},
    "colab_type": "code",
    "id": "HJ6p5GksHld_"
   },
   "outputs": [],
   "source": [
    "df = trans_atlc_trade.copy()"
   ]
  },
  {
   "cell_type": "markdown",
   "metadata": {
    "colab_type": "text",
    "id": "OwXfj9YjHleD"
   },
   "source": [
    "### 2.1 Changing Column Names"
   ]
  },
  {
   "cell_type": "code",
   "execution_count": null,
   "metadata": {},
   "outputs": [],
   "source": [
    "list(df.columns) "
   ]
  },
  {
   "cell_type": "markdown",
   "metadata": {},
   "source": [
    "### 2.2 Column List"
   ]
  },
  {
   "cell_type": "code",
   "execution_count": null,
   "metadata": {
    "colab": {
     "base_uri": "https://localhost:8080/",
     "height": 391
    },
    "colab_type": "code",
    "id": "aSzOUf_CHleE",
    "outputId": "d0c73dec-a614-4dce-8293-f2ede0c07dba"
   },
   "outputs": [],
   "source": [
    "df = df.rename(\n",
    "    columns={'Voyage ID': 'voyage_id',\n",
    "        'Vessel name': 'vessel_name',\n",
    "                           'Voyage itinerary imputed port where began (ptdepimp) place': 'voyage_started',\n",
    "                           'Voyage itinerary imputed principal place of slave purchase (mjbyptimp) ': 'voyage_pit_stop',\n",
    "                           'Voyage itinerary imputed principal port of slave disembarkation (mjslptimp) place': 'end_port',\n",
    "                           'Year of arrival at port of disembarkation':'year_of_arrival',\n",
    "                           'Slaves arrived at 1st port':'slaves_onboard',\n",
    "                            'Captain\\'s name' : 'captain_names'\n",
    "            })\n",
    "\n",
    "\n",
    "df"
   ]
  },
  {
   "cell_type": "markdown",
   "metadata": {
    "colab_type": "text",
    "id": "08LYIpGyHleI"
   },
   "source": [
    "### 2.3 Moving Column Positions - ```df.reindex()```"
   ]
  },
  {
   "cell_type": "code",
   "execution_count": null,
   "metadata": {
    "colab": {
     "base_uri": "https://localhost:8080/",
     "height": 391
    },
    "colab_type": "code",
    "id": "B0p8g8M6HleJ",
    "outputId": "5f924f5e-8c2d-4538-d19b-9e592ce492d0"
   },
   "outputs": [],
   "source": [
    "column_names = ['voyage_id',\"year_of_arrival\",\"vessel_name\", \"voyage_started\",\"voyage_pit_stop\", \"end_port\",\"slaves_onboard\"]\n",
    "\n",
    "df = df.reindex(columns=column_names)\n",
    "df"
   ]
  },
  {
   "cell_type": "markdown",
   "metadata": {
    "colab_type": "text",
    "id": "MfhTG28pHleN"
   },
   "source": [
    "**Questions**\n",
    "\n",
    "**Is Voyage ID a good index and do we need it as a column?**\n",
    "\n",
    "No, But we need an index.\n",
    "\n",
    "**Can 'year_of_arrival' be an Index?**\n",
    "\n",
    "No, because there are repeating dates in the charts, there for we need a simple log counter.\n",
    "\n"
   ]
  },
  {
   "cell_type": "markdown",
   "metadata": {
    "colab_type": "text",
    "id": "qOYcbFRwHleN"
   },
   "source": [
    "### 2.4 Remove Voyage ID -```df.drop()```"
   ]
  },
  {
   "cell_type": "markdown",
   "metadata": {
    "colab_type": "text",
    "id": "uocghp2yHleO"
   },
   "source": [
    "Now that we have a new index from 0 to 15299.\n",
    "\n",
    "Do we need ```voyage_id```. I don't think so, because it doesn't help us find anything useful. Every Voyage ID is unique.\n",
    "\n",
    "Next, drop this columnn"
   ]
  },
  {
   "cell_type": "code",
   "execution_count": null,
   "metadata": {
    "colab": {
     "base_uri": "https://localhost:8080/",
     "height": 391
    },
    "colab_type": "code",
    "id": "90MwAELVHleO",
    "outputId": "27510e27-c265-4a2e-ecd2-2d30f56729e4"
   },
   "outputs": [],
   "source": [
    "df = df.drop(columns='voyage_id')\n",
    "df"
   ]
  },
  {
   "cell_type": "markdown",
   "metadata": {
    "colab_type": "text",
    "id": "d_Ds03fRHleS"
   },
   "source": [
    "### Using ```dropna()```"
   ]
  },
  {
   "cell_type": "markdown",
   "metadata": {
    "colab_type": "text",
    "id": "OB1gdak8HleT"
   },
   "source": [
    "For this data set we will be working with trips that were completely accounted for in all of the remaining features."
   ]
  },
  {
   "cell_type": "code",
   "execution_count": null,
   "metadata": {
    "colab": {},
    "colab_type": "code",
    "id": "HUUV6ipxHleT"
   },
   "outputs": [],
   "source": [
    "df = df.dropna()\n",
    "df"
   ]
  },
  {
   "cell_type": "code",
   "execution_count": null,
   "metadata": {
    "colab": {
     "base_uri": "https://localhost:8080/",
     "height": 228
    },
    "colab_type": "code",
    "id": "-8OASxc-HleZ",
    "outputId": "adb925ba-039d-4707-839a-fa40fd1132c2"
   },
   "outputs": [],
   "source": [
    "df.info()"
   ]
  },
  {
   "cell_type": "markdown",
   "metadata": {
    "colab_type": "text",
    "id": "ju-Bw99zHled"
   },
   "source": [
    "### 2.5 Changing Column Type and Sorting - ```df.sort_values()```"
   ]
  },
  {
   "cell_type": "code",
   "execution_count": null,
   "metadata": {
    "colab": {
     "base_uri": "https://localhost:8080/",
     "height": 391
    },
    "colab_type": "code",
    "id": "KCQb6H5uHled",
    "outputId": "edf10c7c-89db-4064-9b98-203d1dcccc27"
   },
   "outputs": [],
   "source": [
    "df = df.sort_values(by='year_of_arrival', ascending=True)\n",
    "df"
   ]
  },
  {
   "cell_type": "markdown",
   "metadata": {
    "colab_type": "text",
    "id": "AMV7309HHleh"
   },
   "source": [
    "### 2.6 Reseting the Index\n",
    "Reseting Index againt with 'year_of_arrival' in Ascending Order."
   ]
  },
  {
   "cell_type": "code",
   "execution_count": null,
   "metadata": {
    "colab": {
     "base_uri": "https://localhost:8080/",
     "height": 391
    },
    "colab_type": "code",
    "id": "rEIogWnUHlei",
    "outputId": "1f0ce8bf-468e-4fcd-b7cb-a6826c288229"
   },
   "outputs": [],
   "source": [
    "df.reset_index(inplace=True, drop=True)\n",
    "df"
   ]
  },
  {
   "cell_type": "markdown",
   "metadata": {
    "colab_type": "text",
    "id": "i_4uzK6tHlel"
   },
   "source": [
    "### Finding Unique and similar strings \n",
    "```df['column_name].unique()``` and ```df.sort()```"
   ]
  },
  {
   "cell_type": "code",
   "execution_count": null,
   "metadata": {
    "colab": {
     "base_uri": "https://localhost:8080/",
     "height": 846
    },
    "colab_type": "code",
    "id": "zcZzcYc6Hlel",
    "outputId": "3e8b812f-d768-4720-8b2d-acb35192b582"
   },
   "outputs": [],
   "source": [
    "a = df['voyage_started'].unique()\n",
    "a.sort()\n",
    "a"
   ]
  },
  {
   "cell_type": "code",
   "execution_count": null,
   "metadata": {
    "colab": {
     "base_uri": "https://localhost:8080/",
     "height": 716
    },
    "colab_type": "code",
    "id": "Xo4FXypKHleq",
    "outputId": "db20bdca-f645-42c5-c5ae-8a0850566ca1"
   },
   "outputs": [],
   "source": [
    "a = df['voyage_pit_stop'].unique()\n",
    "a.sort()\n",
    "a"
   ]
  },
  {
   "cell_type": "code",
   "execution_count": null,
   "metadata": {
    "colab": {
     "base_uri": "https://localhost:8080/",
     "height": 1000
    },
    "colab_type": "code",
    "id": "m4mKFIA8Hlex",
    "outputId": "577d1f15-0f55-49fa-f84e-70656d0cbee0"
   },
   "outputs": [],
   "source": [
    "a = df['end_port'].unique()\n",
    "a.sort()\n",
    "a"
   ]
  },
  {
   "cell_type": "markdown",
   "metadata": {
    "colab_type": "text",
    "id": "zKVGN7_cHle2"
   },
   "source": [
    "### Working with Strings - ```df['column_name'].str.replace()```"
   ]
  },
  {
   "cell_type": "markdown",
   "metadata": {
    "colab_type": "text",
    "id": "SESPapu0UDyS"
   },
   "source": [
    "To replace unwanted parts a string we use the function ```df['columun_name'].str.replace('string to find','string to replace')```. This command looks for the string we have specified and replaces with what we want.\n",
    "\n",
    "For example:\n",
    "If have an entry in the 'voyage_started' column, 'Virginia, port unspecified'. By running the command:\n",
    "```df['voyage_started'].str.replace(', port unspecified', '')```\n",
    "The string will be changed from ''Virginia, port unspecified' to 'Virginia'."
   ]
  },
  {
   "cell_type": "code",
   "execution_count": null,
   "metadata": {
    "colab": {
     "base_uri": "https://localhost:8080/",
     "height": 391
    },
    "colab_type": "code",
    "id": "NPxciPRzHle3",
    "outputId": "8a1a2443-b5da-41af-f8e1-f6097eba3a30"
   },
   "outputs": [],
   "source": [
    "df['voyage_started'] = df['voyage_started'].str.replace(', port unspecified', '')\n",
    "df['voyage_started'] = df['voyage_started'].str.replace(', colony unspecified', '')\n",
    "df['voyage_started'] = df['voyage_started'].str.replace('.', '')\n",
    "\n",
    "df['voyage_pit_stop'] = df['voyage_pit_stop'].str.replace(', port unspecified', '')\n",
    "df['voyage_pit_stop'] = df['voyage_pit_stop'].str.replace(', colony unspecified', '')\n",
    "df['voyage_pit_stop'] = df['voyage_pit_stop'].str.replace('.', '')\n",
    "\n",
    "df['end_port'] = df['end_port'].str.replace(', port unspecified', '')\n",
    "df['end_port'] = df['end_port'].str.replace(', colony unspecified', '')\n",
    "df['end_port'] = df['end_port'].str.replace('.', '')\n",
    "df['end_port'] = df['end_port'].str.replace(' (colony unspecified)', '')\n",
    "df['end_port'] = df['end_port'].str.replace(', unspecified', '')\n",
    "df['end_port'] = df['end_port'].str.replace(',unspecified', '')\n",
    "\n",
    "df"
   ]
  },
  {
   "cell_type": "code",
   "execution_count": null,
   "metadata": {
    "colab": {
     "base_uri": "https://localhost:8080/",
     "height": 131
    },
    "colab_type": "code",
    "id": "IOPDZL8vHle7",
    "outputId": "1c2bb923-bd3a-4f6f-fe4f-6605e92c6a44"
   },
   "outputs": [],
   "source": [
    "df.dtypes"
   ]
  },
  {
   "cell_type": "markdown",
   "metadata": {
    "colab_type": "text",
    "id": "x0c0BG7SHle_"
   },
   "source": [
    "#### Creating a Copy of our modified Dataset"
   ]
  },
  {
   "cell_type": "code",
   "execution_count": null,
   "metadata": {
    "colab": {},
    "colab_type": "code",
    "id": "4jrvqhIAHle_"
   },
   "outputs": [],
   "source": [
    "modified_dataset = df.copy()"
   ]
  },
  {
   "cell_type": "markdown",
   "metadata": {
    "colab_type": "text",
    "id": "Wkw5pefkHlfC"
   },
   "source": [
    "## 3 - Micro Wrangling and Visualization"
   ]
  },
  {
   "cell_type": "markdown",
   "metadata": {
    "colab_type": "text",
    "id": "pwDzGZeYHlfD"
   },
   "source": [
    "We will Start of this part by dividing our dataset into multiple smaller dataframes. The approach we will be taking is separating dataframes based on the ```year_of_arrival``` dataset.\n",
    "\n",
    "For example, in the blocks below you will see code for 4 intervals:\n",
    "- ```1500 to 1600```\n",
    "- ```1601 to 1700```\n",
    "- ```1701 to 1800```\n",
    "- ```1801 to 1900```\n",
    "\n"
   ]
  },
  {
   "cell_type": "markdown",
   "metadata": {
    "colab_type": "text",
    "id": "3ZkrSv8hHlfD"
   },
   "source": [
    "## Between 1500 to 1600"
   ]
  },
  {
   "cell_type": "code",
   "execution_count": null,
   "metadata": {
    "colab": {
     "base_uri": "https://localhost:8080/",
     "height": 391
    },
    "colab_type": "code",
    "id": "Lp6kae0pHlfE",
    "outputId": "27beecef-1597-47b6-c77c-67f875e50b4d"
   },
   "outputs": [],
   "source": [
    "dataset_between15_16 = modified_dataset.where((modified_dataset['year_of_arrival'] >= 1500) & (modified_dataset['year_of_arrival'] <= 1600))\n",
    "dataset_between15_16"
   ]
  },
  {
   "cell_type": "code",
   "execution_count": null,
   "metadata": {
    "colab": {
     "base_uri": "https://localhost:8080/",
     "height": 391
    },
    "colab_type": "code",
    "id": "a-tQvhW3HlfI",
    "outputId": "237020d8-5ae3-40fa-c30c-7df96ed2a1d7"
   },
   "outputs": [],
   "source": [
    "dataset_between15_16 = dataset_between15_16.dropna()\n",
    "dataset_between15_16"
   ]
  },
  {
   "cell_type": "markdown",
   "metadata": {
    "colab_type": "text",
    "id": "T6C4yZSgHlfN"
   },
   "source": [
    "### Total Number of Slaves Transported between 1501-1600 - Complete Records\n"
   ]
  },
  {
   "cell_type": "code",
   "execution_count": null,
   "metadata": {
    "colab": {
     "base_uri": "https://localhost:8080/",
     "height": 33
    },
    "colab_type": "code",
    "id": "lpCOGYH2HlfN",
    "outputId": "8721a82e-87e9-46c1-b98f-985355adfd0c"
   },
   "outputs": [],
   "source": [
    "dataset_between15_16.slaves_onboard.sum()"
   ]
  },
  {
   "cell_type": "markdown",
   "metadata": {
    "colab_type": "text",
    "id": "yoLMT1SKHlfR"
   },
   "source": [
    "### Visualizing Trips During 1501-1601"
   ]
  },
  {
   "cell_type": "code",
   "execution_count": null,
   "metadata": {
    "colab": {
     "base_uri": "https://localhost:8080/",
     "height": 608
    },
    "colab_type": "code",
    "id": "ejmvzk-2HlfR",
    "outputId": "bbfd4270-82c8-41ad-cd83-030cbf50e0e5"
   },
   "outputs": [],
   "source": [
    "import matplotlib.pyplot as plt\n",
    "\n",
    "fig = plt.figure(figsize = (20,10))\n",
    "\n",
    "ax1 = fig.add_subplot(2,2,1)\n",
    "ax2 = fig.add_subplot(2,2,2)\n",
    "ax3 = fig.add_subplot(2,2,3)\n",
    "ax4 = fig.add_subplot(2,2,4)\n",
    "ax1.scatter(dataset_between15_16['year_of_arrival'],\n",
    "            dataset_between15_16['slaves_onboard'],\n",
    "            alpha = 0.4)\n",
    "\n",
    "ax2.scatter(dataset_between15_16['slaves_onboard'],\n",
    "            dataset_between15_16['year_of_arrival'],\n",
    "            alpha = 0.4)\n",
    "\n",
    "ax3.bar(\n",
    "    dataset_between15_16['year_of_arrival'],\n",
    "    dataset_between15_16['slaves_onboard'],\n",
    "    alpha = 0.4)\n",
    "\n",
    "ax4.set_ylim(1500,1600)\n",
    "ax4.bar(\n",
    "    dataset_between15_16['slaves_onboard'],    \n",
    "    dataset_between15_16['year_of_arrival'],\n",
    "    alpha = 0.4)"
   ]
  },
  {
   "cell_type": "markdown",
   "metadata": {
    "colab_type": "text",
    "id": "jMCmsdSWHlfW"
   },
   "source": [
    "#  3.1 Choosing Graphs\n",
    "- Which of these graphs seem useful and which ones are uncessrary?\n",
    "**Write a 2 sentence explanation about why these two plots seem or might be useful.** **Did the visualization style influence your decision?**\n",
    "Select the two graphs you think are more useful and add the following:\n",
    "- add ```set_title``` for both suplots.\n",
    "- add ```set_xlabel``` and ```set_ylabel```.\n",
    "- Change the color for one of the plots\n",
    "\n",
    "## Answer"
   ]
  },
  {
   "cell_type": "markdown",
   "metadata": {},
   "source": [
    "The graphs that make the most sense are the two on the left, this is because they show clear, explainable data."
   ]
  },
  {
   "cell_type": "code",
   "execution_count": null,
   "metadata": {},
   "outputs": [],
   "source": [
    "import matplotlib.pyplot as plt\n",
    "\n",
    "fig = plt.figure(figsize = (20,10))\n",
    "\n",
    "ax1 = fig.add_subplot(2,1,1)\n",
    "ax2 = fig.add_subplot(2,1,2)\n",
    "\n",
    "ax1.scatter(dataset_between15_16['year_of_arrival'],\n",
    "            dataset_between15_16['slaves_onboard'],\n",
    "            alpha = 0.4)\n",
    "ax1.set_title('Scatter plot for year of arrival vs slaves on board for 1501-1600')\n",
    "ax1.set_xlabel('Year of Arrival')\n",
    "ax1.set_ylabel('Slaves Onboard')\n",
    "\n",
    "ax2.bar(dataset_between15_16['year_of_arrival'],\n",
    "            dataset_between15_16['slaves_onboard'],\n",
    "            alpha = 0.4)\n",
    "\n",
    "ax1.set_title('Bar plot for year of arrival vs slaves on board for 1501-1600')\n",
    "ax1.set_xlabel('Year of Arrival')\n",
    "ax1.set_ylabel('Slaves Onboard')"
   ]
  },
  {
   "cell_type": "markdown",
   "metadata": {
    "colab_type": "text",
    "id": "5eu2pWKrHlfX"
   },
   "source": [
    "### Pandas Plots"
   ]
  },
  {
   "cell_type": "code",
   "execution_count": null,
   "metadata": {
    "colab": {
     "base_uri": "https://localhost:8080/",
     "height": 748
    },
    "colab_type": "code",
    "id": "90m3tTRHHlfY",
    "outputId": "76347f84-5e04-42ac-ec8b-253b91563193"
   },
   "outputs": [],
   "source": [
    "fig = plt.figure(figsize = (50,20))\n",
    "ax1 = fig.add_subplot(2,2,1)\n",
    "\n",
    "dataset_between15_16.plot(x='vessel_name',\n",
    "                         y = 'slaves_onboard',kind = 'bar', ax = ax1,\n",
    "                         rot = 90)"
   ]
  },
  {
   "cell_type": "markdown",
   "metadata": {
    "colab_type": "text",
    "id": "7oOVxiLsHlfc"
   },
   "source": [
    "### Ships Carrying Less than 100 slaves per trip"
   ]
  },
  {
   "cell_type": "code",
   "execution_count": null,
   "metadata": {
    "colab": {
     "base_uri": "https://localhost:8080/",
     "height": 795
    },
    "colab_type": "code",
    "id": "-_Oy0Cr_Hlfd",
    "outputId": "3f77d467-40e3-4462-c5bf-35b34e27a08e"
   },
   "outputs": [],
   "source": [
    "temp_plot = dataset_between15_16.where(dataset_between15_16['slaves_onboard'] < 100.0).dropna()\n",
    "\n",
    "temp_plot"
   ]
  },
  {
   "cell_type": "code",
   "execution_count": null,
   "metadata": {
    "colab": {
     "base_uri": "https://localhost:8080/",
     "height": 460
    },
    "colab_type": "code",
    "id": "I1UkMU9wHlfg",
    "outputId": "83e7c69b-2d41-48b3-b406-515ff87c92b3"
   },
   "outputs": [],
   "source": [
    "temp_plot.plot(x='vessel_name',\n",
    "                         y = 'slaves_onboard',kind = 'bar',\n",
    "                         rot = 90)\n",
    "\n"
   ]
  },
  {
   "cell_type": "markdown",
   "metadata": {
    "colab_type": "text",
    "id": "OjOjDcogHlfk"
   },
   "source": [
    "### Ships Carrying greater than 100 slaves per trip"
   ]
  },
  {
   "cell_type": "code",
   "execution_count": null,
   "metadata": {
    "colab": {
     "base_uri": "https://localhost:8080/",
     "height": 1000
    },
    "colab_type": "code",
    "id": "lrAOZa1hHlfm",
    "outputId": "4351cbf0-48eb-49fa-f67a-1c1cb7176983"
   },
   "outputs": [],
   "source": [
    "temp_plot = dataset_between15_16.where(dataset_between15_16['slaves_onboard'] > 100.0).dropna()\n",
    "\n",
    "temp_plot.plot(x='vessel_name',\n",
    "                         y = 'slaves_onboard',kind = 'bar',\n",
    "                         rot = 90,grid = True,figsize = (20,10))\n",
    "\n",
    "temp_plot"
   ]
  },
  {
   "cell_type": "markdown",
   "metadata": {
    "colab_type": "text",
    "id": "iC1mKd2BHlfu"
   },
   "source": [
    "### Ships Carrying greater than 200 slaves per trip"
   ]
  },
  {
   "cell_type": "code",
   "execution_count": null,
   "metadata": {
    "colab": {
     "base_uri": "https://localhost:8080/",
     "height": 33
    },
    "colab_type": "code",
    "id": "HNwE7zKBHlfv",
    "outputId": "43fd7ec8-9210-4a6f-cd5d-c76492db386f"
   },
   "outputs": [],
   "source": [
    "temp_plot = dataset_between15_16.where(dataset_between15_16['slaves_onboard'] > 200.0).dropna()\n",
    "print(f'There are {temp_plot.shape[0]} trips that carries more than 200 slaves.')\n",
    "\n"
   ]
  },
  {
   "cell_type": "code",
   "execution_count": null,
   "metadata": {
    "colab": {
     "base_uri": "https://localhost:8080/",
     "height": 797
    },
    "colab_type": "code",
    "id": "dfBf3GfyHlfz",
    "outputId": "e9a0c4e8-fd4d-44f8-8ace-17a4cbac0440",
    "scrolled": true
   },
   "outputs": [],
   "source": [
    "temp_plot.plot(x='vessel_name',\n",
    "                         y = 'slaves_onboard',kind = 'bar',\n",
    "                         rot = 90,grid = True,figsize = (20,10))\n",
    "\n",
    "\n"
   ]
  },
  {
   "cell_type": "markdown",
   "metadata": {
    "colab_type": "text",
    "id": "ZIZ8rFjhHlf3"
   },
   "source": [
    "### Check the most used 'start_port' for number_of_slaves > 200"
   ]
  },
  {
   "cell_type": "code",
   "execution_count": null,
   "metadata": {
    "colab": {
     "base_uri": "https://localhost:8080/",
     "height": 657
    },
    "colab_type": "code",
    "id": "7IOuRHKwHlf4",
    "outputId": "8c2f817b-f118-4013-f7d3-70f1f945c322",
    "scrolled": true
   },
   "outputs": [],
   "source": [
    "temp_plot['voyage_started'].hist(bins = 20,\n",
    "                                 alpha = 0.5,\n",
    "                                 xrot = 45,\n",
    "                                 figsize = (10,10)\n",
    "                                )"
   ]
  },
  {
   "cell_type": "markdown",
   "metadata": {
    "colab_type": "text",
    "id": "ShDktMYRHlf8"
   },
   "source": [
    "### Check the most used 'voyage_pit_stop' for number_of_slaves > 200"
   ]
  },
  {
   "cell_type": "code",
   "execution_count": null,
   "metadata": {
    "colab": {
     "base_uri": "https://localhost:8080/",
     "height": 608
    },
    "colab_type": "code",
    "id": "vYoFVQrIHlf9",
    "outputId": "8fc8fea1-4f97-42b1-9340-a45ec9bd6e0c"
   },
   "outputs": [],
   "source": [
    "temp_plot['voyage_pit_stop'].hist(bins=20, \n",
    "                           alpha=0.7,\n",
    "                           xrot = 0,\n",
    "                          figsize = (10,10))"
   ]
  },
  {
   "cell_type": "markdown",
   "metadata": {
    "colab_type": "text",
    "id": "ntI-QvHuHlgB"
   },
   "source": [
    "### Check the most used 'End_Port'  for number_of_slaves > 200"
   ]
  },
  {
   "cell_type": "code",
   "execution_count": null,
   "metadata": {
    "colab": {
     "base_uri": "https://localhost:8080/",
     "height": 608
    },
    "colab_type": "code",
    "id": "ermZi3B7HlgC",
    "outputId": "998ff10c-92cb-4baa-86f8-188bccaccad9",
    "scrolled": false
   },
   "outputs": [],
   "source": [
    "temp_plot['end_port'].hist(bins=20, \n",
    "                           alpha=0.7,\n",
    "                           xrot = 0,\n",
    "                          figsize = (10,10))"
   ]
  },
  {
   "cell_type": "markdown",
   "metadata": {
    "colab_type": "text",
    "id": "cvaJr4-BHlgG"
   },
   "source": [
    "### Observations \n",
    "\n",
    "Majority of The Ships carrying over 200 people started their journey Portugal made a Pit-Stop in Africa and Went to Cartagena, Colombia "
   ]
  },
  {
   "cell_type": "markdown",
   "metadata": {
    "colab_type": "text",
    "id": "1w9XvpNdHlgG"
   },
   "source": [
    "## Between 1601- 1700"
   ]
  },
  {
   "cell_type": "code",
   "execution_count": null,
   "metadata": {
    "colab": {
     "base_uri": "https://localhost:8080/",
     "height": 391
    },
    "colab_type": "code",
    "id": "CWt8CtQDHlgH",
    "outputId": "279cb6a5-c6c4-4cb9-c0f1-e7b58a68f370"
   },
   "outputs": [],
   "source": [
    "dataset_between16_17 = modified_dataset.where((modified_dataset['year_of_arrival'] >= 1601) & (modified_dataset['year_of_arrival'] <= 1700) )\n",
    "\n",
    "dataset_between16_17"
   ]
  },
  {
   "cell_type": "markdown",
   "metadata": {},
   "source": [
    "### 3.2 Drop Null values"
   ]
  },
  {
   "cell_type": "code",
   "execution_count": null,
   "metadata": {
    "colab": {
     "base_uri": "https://localhost:8080/",
     "height": 391
    },
    "colab_type": "code",
    "id": "cv3zqBdzHlgK",
    "outputId": "66697c4c-535d-45c8-ab22-78a9770cbfc4"
   },
   "outputs": [],
   "source": [
    "dataset_between16_17 = dataset_between16_17.dropna()\n",
    "dataset_between16_17"
   ]
  },
  {
   "cell_type": "markdown",
   "metadata": {
    "colab_type": "text",
    "id": "ltr9T0R2HlgQ"
   },
   "source": [
    "### 3.3 Total Number of Slaves Transported between 1601-1700 - Complete Records\n"
   ]
  },
  {
   "cell_type": "code",
   "execution_count": null,
   "metadata": {
    "colab": {},
    "colab_type": "code",
    "id": "xzPsmzJVHlgQ"
   },
   "outputs": [],
   "source": [
    "dataset_between16_17.slaves_onboard.sum() # Insert Code Here - Sum of slaves "
   ]
  },
  {
   "cell_type": "markdown",
   "metadata": {
    "colab_type": "text",
    "id": "6KPEwqj3HlgT"
   },
   "source": [
    "### Visualizing Trips During 1601-1701"
   ]
  },
  {
   "cell_type": "code",
   "execution_count": null,
   "metadata": {
    "colab": {},
    "colab_type": "code",
    "id": "kM5-QvjmHlgT"
   },
   "outputs": [],
   "source": [
    "import matplotlib.pyplot as plt\n",
    "\n",
    "fig = plt.figure(figsize = (20,10))\n",
    "\n",
    "ax1 = fig.add_subplot(2,1,1)\n",
    "ax2 = fig.add_subplot(2,1,2)\n",
    "\n",
    "ax1.scatter(dataset_between16_17['year_of_arrival'],\n",
    "            dataset_between16_17['slaves_onboard'],\n",
    "            alpha = 0.4)\n",
    "\n",
    "ax2.bar(\n",
    "    dataset_between16_17['year_of_arrival'],\n",
    "    dataset_between16_17['slaves_onboard'],\n",
    "    alpha = 0.4\n",
    "    )\n",
    "\n"
   ]
  },
  {
   "cell_type": "markdown",
   "metadata": {
    "colab_type": "text",
    "id": "QjxCnj6nHlgX"
   },
   "source": [
    "### 3.4 Pandas Plots"
   ]
  },
  {
   "cell_type": "code",
   "execution_count": null,
   "metadata": {
    "colab": {},
    "colab_type": "code",
    "id": "4dx1qSH-HlgY"
   },
   "outputs": [],
   "source": [
    "fig = plt.figure(figsize = (50,20))\n",
    "ax1 = fig.add_subplot(2,2,1)\n",
    "\n",
    "dataset_between16_17.plot(x='vessel_name',\n",
    "                         y = 'slaves_onboard',kind = 'bar', ax = ax1,\n",
    "                         rot = 90)"
   ]
  },
  {
   "cell_type": "markdown",
   "metadata": {},
   "source": [
    "### 3.5 Ships Carrying greater than 500 slaves per trip"
   ]
  },
  {
   "cell_type": "code",
   "execution_count": null,
   "metadata": {},
   "outputs": [],
   "source": [
    "temp_plot = dataset_between16_17.where(dataset_between16_17['slaves_onboard'] > 500.0).dropna()\n",
    "print(f'There are {temp_plot.shape[0]} trips that carries more than 200 slaves.')\n",
    "\n"
   ]
  },
  {
   "cell_type": "code",
   "execution_count": null,
   "metadata": {},
   "outputs": [],
   "source": [
    "temp_plot.plot(x='vessel_name',\n",
    "                         y = 'slaves_onboard',kind = 'bar',\n",
    "                         rot = 90,grid = True,figsize = (20,10))"
   ]
  },
  {
   "cell_type": "markdown",
   "metadata": {
    "colab_type": "text",
    "id": "MGDHXfAnHlgf"
   },
   "source": [
    "### 3.6 Check the most used 'start_port' for number_of_slaves > 500"
   ]
  },
  {
   "cell_type": "code",
   "execution_count": null,
   "metadata": {
    "colab": {},
    "colab_type": "code",
    "id": "cuTVq2HkHlgh"
   },
   "outputs": [],
   "source": [
    "temp_plot['voyage_started'].hist(bins = 20,\n",
    "                                 alpha = 0.5,\n",
    "                                 xrot = 90,\n",
    "                                 figsize = (10,10)\n",
    "                                )"
   ]
  },
  {
   "cell_type": "markdown",
   "metadata": {
    "colab_type": "text",
    "id": "5alh-9SgHlgj"
   },
   "source": [
    "### 3.7 Check the most used 'voyage_pit_stop' for number_of_slaves > 500"
   ]
  },
  {
   "cell_type": "code",
   "execution_count": null,
   "metadata": {
    "colab": {},
    "colab_type": "code",
    "id": "m49Xm2SkHlgk"
   },
   "outputs": [],
   "source": [
    "temp_plot['voyage_pit_stop'].hist(bins=20, \n",
    "                           alpha=0.7,\n",
    "                           xrot = 90,\n",
    "                          figsize = (10,10))"
   ]
  },
  {
   "cell_type": "markdown",
   "metadata": {
    "colab_type": "text",
    "id": "6RZ4R9mFHlgo"
   },
   "source": [
    "### 3.8 Check the most used 'End_Port' "
   ]
  },
  {
   "cell_type": "code",
   "execution_count": null,
   "metadata": {
    "colab": {},
    "colab_type": "code",
    "id": "KqQSbPfOHlgo",
    "scrolled": false
   },
   "outputs": [],
   "source": [
    "temp_plot['end_port'].hist(bins=20, \n",
    "                           alpha=0.7,\n",
    "                           xrot = 90,\n",
    "                          figsize = (10,10))"
   ]
  },
  {
   "cell_type": "markdown",
   "metadata": {
    "colab_type": "text",
    "id": "SXYLnplNHlgs"
   },
   "source": [
    "## Between 1701- 1800"
   ]
  },
  {
   "cell_type": "code",
   "execution_count": null,
   "metadata": {
    "colab": {
     "base_uri": "https://localhost:8080/",
     "height": 391
    },
    "colab_type": "code",
    "id": "mpED3SzKHlgt",
    "outputId": "d57abdff-3ff8-4706-8ffb-a61b32478c33"
   },
   "outputs": [],
   "source": [
    "dataset_between17_18 = modified_dataset.where((modified_dataset['year_of_arrival'] >= 1701) & (modified_dataset['year_of_arrival'] <= 1800) )\n",
    "\n",
    "dataset_between17_18"
   ]
  },
  {
   "cell_type": "code",
   "execution_count": null,
   "metadata": {
    "colab": {
     "base_uri": "https://localhost:8080/",
     "height": 391
    },
    "colab_type": "code",
    "id": "UztHQkTmHlgx",
    "outputId": "977c868e-5fa5-49bf-e763-89fbba08a651"
   },
   "outputs": [],
   "source": [
    "dataset_between17_18 = dataset_between17_18.dropna()\n",
    "\n",
    "dataset_between17_18"
   ]
  },
  {
   "cell_type": "markdown",
   "metadata": {
    "colab_type": "text",
    "id": "8Pu1E16BHlg0"
   },
   "source": [
    "### 3.9 Total Number of Slaves Transported between 1701-1800 - Complete Records\n"
   ]
  },
  {
   "cell_type": "code",
   "execution_count": null,
   "metadata": {
    "colab": {},
    "colab_type": "code",
    "id": "ICN8XRxYHlg0"
   },
   "outputs": [],
   "source": [
    "dataset_between17_18.slaves_onboard.sum() # Insert Code Here - Sum of slaves "
   ]
  },
  {
   "cell_type": "markdown",
   "metadata": {
    "colab_type": "text",
    "id": "aoav5Z58Hlg2"
   },
   "source": [
    "### 3.10 Visualizing Trips During 1701-1801"
   ]
  },
  {
   "cell_type": "code",
   "execution_count": null,
   "metadata": {
    "colab": {},
    "colab_type": "code",
    "id": "c6LVgQ1wHlg3"
   },
   "outputs": [],
   "source": [
    "import matplotlib.pyplot as plt\n",
    "\n",
    "fig = plt.figure(figsize = (20,10))\n",
    "\n",
    "ax1 = fig.add_subplot(2,1,1)\n",
    "ax2 = fig.add_subplot(2,1,2)\n",
    "\n",
    "ax1.scatter(dataset_between17_18['year_of_arrival'],\n",
    "            dataset_between17_18['slaves_onboard'],\n",
    "            alpha = 0.4)\n",
    "\n",
    "ax2.bar(\n",
    "    dataset_between17_18['year_of_arrival'],\n",
    "    dataset_between17_18['slaves_onboard'],\n",
    "    alpha = 0.4\n",
    "    )\n",
    "\n"
   ]
  },
  {
   "cell_type": "markdown",
   "metadata": {
    "colab_type": "text",
    "id": "p65ASw2_Hlg6"
   },
   "source": [
    "### 3.11 Pandas Plots"
   ]
  },
  {
   "cell_type": "code",
   "execution_count": null,
   "metadata": {
    "colab": {},
    "colab_type": "code",
    "id": "bU5P2A0CHlg7"
   },
   "outputs": [],
   "source": [
    "fig = plt.figure(figsize = (50,20))\n",
    "ax1 = fig.add_subplot(2,2,1)\n",
    "\n",
    "dataset_between17_18.plot(x='vessel_name',\n",
    "                         y = 'slaves_onboard',kind = 'bar', ax = ax1,\n",
    "                         rot = 90)"
   ]
  },
  {
   "cell_type": "markdown",
   "metadata": {},
   "source": [
    "### 3.12 Ships Carrying greater than 500 slaves per trip"
   ]
  },
  {
   "cell_type": "code",
   "execution_count": null,
   "metadata": {},
   "outputs": [],
   "source": [
    "temp_plot = dataset_between17_18.where(dataset_between17_18['slaves_onboard'] > 500.0).dropna()\n",
    "print(f'There are {temp_plot.shape[0]} trips that carries more than 200 slaves.')"
   ]
  },
  {
   "cell_type": "code",
   "execution_count": null,
   "metadata": {},
   "outputs": [],
   "source": [
    "temp_plot.plot(x='vessel_name',\n",
    "                         y = 'slaves_onboard',kind = 'bar',\n",
    "                         rot = 90,grid = True,figsize = (20,10))"
   ]
  },
  {
   "cell_type": "markdown",
   "metadata": {
    "colab_type": "text",
    "id": "ejs7tofyHlg9"
   },
   "source": [
    "### 3.13 Check the most used 'start_port' for number_of_slaves > 500"
   ]
  },
  {
   "cell_type": "code",
   "execution_count": null,
   "metadata": {
    "colab": {},
    "colab_type": "code",
    "id": "5g_CwoUBHlg9"
   },
   "outputs": [],
   "source": [
    "temp_plot['voyage_started'].hist(bins = 20,\n",
    "                                 alpha = 0.5,\n",
    "                                 xrot = 45,\n",
    "                                 figsize = (10,10)\n",
    "                                )"
   ]
  },
  {
   "cell_type": "markdown",
   "metadata": {
    "colab_type": "text",
    "id": "wQXiGjGLHlhB"
   },
   "source": [
    "### 3.14 Check the most used 'voyage_pit_stop' for number_of_slaves > 500"
   ]
  },
  {
   "cell_type": "code",
   "execution_count": null,
   "metadata": {
    "colab": {},
    "colab_type": "code",
    "id": "yiLTrPGTHlhB"
   },
   "outputs": [],
   "source": [
    "temp_plot['voyage_pit_stop'].hist(bins=20, \n",
    "                           alpha=0.7,\n",
    "                           xrot = 0,\n",
    "                          figsize = (10,10))"
   ]
  },
  {
   "cell_type": "markdown",
   "metadata": {
    "colab_type": "text",
    "id": "VHcaOGz9HlhD"
   },
   "source": [
    "### 3.15 Check the most used 'End_Port' "
   ]
  },
  {
   "cell_type": "code",
   "execution_count": null,
   "metadata": {
    "colab": {},
    "colab_type": "code",
    "id": "2XHKgB-qHlhE",
    "scrolled": false
   },
   "outputs": [],
   "source": [
    "temp_plot['end_port'].hist(bins=20, \n",
    "                           alpha=0.7,\n",
    "                           xrot = 90,\n",
    "                          figsize = (10,10))"
   ]
  },
  {
   "cell_type": "markdown",
   "metadata": {
    "colab_type": "text",
    "id": "84pXofoLHlhG"
   },
   "source": [
    "# Extra Credit\n",
    "## Between 1801- 1900"
   ]
  },
  {
   "cell_type": "code",
   "execution_count": null,
   "metadata": {
    "colab": {
     "base_uri": "https://localhost:8080/",
     "height": 391
    },
    "colab_type": "code",
    "id": "n9y5tp0qHlhG",
    "outputId": "95eb23f5-6fe6-4ea1-8f78-9145ceb5daae"
   },
   "outputs": [],
   "source": [
    "dataset_between18_19 = modified_dataset.where((modified_dataset['year_of_arrival'] >= 1801) & (modified_dataset['year_of_arrival'] <= 1900) )\n",
    "\n",
    "dataset_between18_19"
   ]
  },
  {
   "cell_type": "code",
   "execution_count": null,
   "metadata": {
    "colab": {
     "base_uri": "https://localhost:8080/",
     "height": 391
    },
    "colab_type": "code",
    "id": "KVKVgtIEHlhI",
    "outputId": "affcdbba-0664-4f6e-b7b6-3ec73dbe20f9"
   },
   "outputs": [],
   "source": [
    "dataset_between18_19 = dataset_between18_19.dropna()\n",
    "\n",
    "dataset_between18_19"
   ]
  },
  {
   "cell_type": "markdown",
   "metadata": {
    "colab_type": "text",
    "id": "F66q8RjvHlhL"
   },
   "source": [
    "### Total Number of Slaves Transported between 1801-1900 - Complete Records\n"
   ]
  },
  {
   "cell_type": "code",
   "execution_count": null,
   "metadata": {
    "colab": {},
    "colab_type": "code",
    "id": "SWaElllYHlhM"
   },
   "outputs": [],
   "source": []
  },
  {
   "cell_type": "markdown",
   "metadata": {
    "colab_type": "text",
    "id": "4Cy7QPXaHlhO"
   },
   "source": [
    "### Visualizing Trips During 1801-1900"
   ]
  },
  {
   "cell_type": "code",
   "execution_count": null,
   "metadata": {
    "colab": {},
    "colab_type": "code",
    "id": "U-pb7BQbHlhO"
   },
   "outputs": [],
   "source": []
  },
  {
   "cell_type": "markdown",
   "metadata": {
    "colab_type": "text",
    "id": "Qy7PewKsHlhQ"
   },
   "source": [
    "### Pandas Plots"
   ]
  },
  {
   "cell_type": "code",
   "execution_count": null,
   "metadata": {
    "colab": {},
    "colab_type": "code",
    "id": "VeafP9zTHlhR"
   },
   "outputs": [],
   "source": []
  },
  {
   "cell_type": "markdown",
   "metadata": {
    "colab_type": "text",
    "id": "lhYJLqUUHlhV"
   },
   "source": [
    "### Check the most used 'start_port' for number_of_slaves > 200"
   ]
  },
  {
   "cell_type": "code",
   "execution_count": null,
   "metadata": {
    "colab": {},
    "colab_type": "code",
    "id": "ES-eLhpaHlhV"
   },
   "outputs": [],
   "source": []
  },
  {
   "cell_type": "markdown",
   "metadata": {
    "colab_type": "text",
    "id": "GW44LbYwHlhY"
   },
   "source": [
    "### Check the most used 'voyage_pit_stop' for number_of_slaves > 200"
   ]
  },
  {
   "cell_type": "code",
   "execution_count": null,
   "metadata": {
    "colab": {},
    "colab_type": "code",
    "id": "GMJGOq2iHlhY"
   },
   "outputs": [],
   "source": []
  },
  {
   "cell_type": "markdown",
   "metadata": {
    "colab_type": "text",
    "id": "RVVMQGubHlhb"
   },
   "source": [
    "### Check the most used 'End_Port' "
   ]
  },
  {
   "cell_type": "code",
   "execution_count": null,
   "metadata": {
    "colab": {},
    "colab_type": "code",
    "id": "UMMIesEyHlhc",
    "scrolled": false
   },
   "outputs": [],
   "source": []
  },
  {
   "cell_type": "markdown",
   "metadata": {
    "colab_type": "text",
    "id": "NweDUhRVHlhe"
   },
   "source": [
    "## Resources"
   ]
  },
  {
   "cell_type": "markdown",
   "metadata": {
    "colab_type": "text",
    "id": "VByUUKTiIYM-"
   },
   "source": [
    "## Appendix"
   ]
  },
  {
   "cell_type": "markdown",
   "metadata": {
    "colab_type": "text",
    "id": "ObtE8-BHODkC"
   },
   "source": [
    "## Connecting to Your Google Drive\n"
   ]
  },
  {
   "cell_type": "code",
   "execution_count": null,
   "metadata": {
    "colab": {},
    "colab_type": "code",
    "id": "_3xzPhI_ByD5"
   },
   "outputs": [],
   "source": [
    "# Start by connecting google drive into google colab\n",
    "\n",
    "from google.colab import drive\n",
    "\n",
    "drive.mount('/content/gdrive')"
   ]
  },
  {
   "cell_type": "code",
   "execution_count": null,
   "metadata": {
    "colab": {},
    "colab_type": "code",
    "id": "_epZFcuXNVRv"
   },
   "outputs": [],
   "source": [
    "!ls \"/content/gdrive/My Drive/DigitalHistory\""
   ]
  },
  {
   "cell_type": "code",
   "execution_count": null,
   "metadata": {
    "colab": {},
    "colab_type": "code",
    "id": "y6r-8UBGNueF"
   },
   "outputs": [],
   "source": [
    "cd \"/content/gdrive/My Drive/DigitalHistory/tmp/trans-atlantic-slave-trade\""
   ]
  },
  {
   "cell_type": "code",
   "execution_count": null,
   "metadata": {
    "colab": {},
    "colab_type": "code",
    "id": "Pp8mubdjVqY2"
   },
   "outputs": [],
   "source": [
    "ls"
   ]
  },
  {
   "cell_type": "code",
   "execution_count": null,
   "metadata": {
    "colab": {},
    "colab_type": "code",
    "id": "ZLhlkjd3Hlhr"
   },
   "outputs": [],
   "source": [
    "### Extracting ZipFiles"
   ]
  },
  {
   "cell_type": "code",
   "execution_count": null,
   "metadata": {
    "colab": {},
    "colab_type": "code",
    "id": "rzDr3KIkOJdy"
   },
   "outputs": [],
   "source": [
    "\n",
    "import zipfile\n"
   ]
  },
  {
   "cell_type": "code",
   "execution_count": null,
   "metadata": {
    "colab": {},
    "colab_type": "code",
    "id": "zkIDSJWUQFCV"
   },
   "outputs": [],
   "source": [
    "file_location = 'data/trans-atlantic-slave-trade.csv.zip'\n",
    "\n",
    "zip_ref = zipfile.ZipFile(file_location,'r')\n",
    "zip_ref.extractall('data/tmp/trans-atlantic-slave-trade')\n",
    "zip_ref.close()"
   ]
  },
  {
   "cell_type": "markdown",
   "metadata": {
    "colab_type": "text",
    "id": "TI9Zcwf5Hlh2"
   },
   "source": [
    "### Checking and Changing Column Types \n",
    "```df.dtypes``` and ```df.astype()```"
   ]
  },
  {
   "cell_type": "code",
   "execution_count": null,
   "metadata": {
    "colab": {},
    "colab_type": "code",
    "id": "pGl1MUnOHlh3"
   },
   "outputs": [],
   "source": [
    "df.dtypes"
   ]
  },
  {
   "cell_type": "code",
   "execution_count": null,
   "metadata": {
    "colab": {},
    "colab_type": "code",
    "id": "JIG8wtR2Hlh6"
   },
   "outputs": [],
   "source": [
    "df.year_of_arrival.astype(int)"
   ]
  },
  {
   "cell_type": "code",
   "execution_count": null,
   "metadata": {
    "colab": {},
    "colab_type": "code",
    "id": "Z4Wl6kePHlh9"
   },
   "outputs": [],
   "source": [
    "df.dtypes"
   ]
  },
  {
   "cell_type": "code",
   "execution_count": null,
   "metadata": {
    "colab": {},
    "colab_type": "code",
    "id": "-V4Kbei5HliA"
   },
   "outputs": [],
   "source": [
    "df.year_of_arrival = df.year_of_arrival.astype(int)"
   ]
  },
  {
   "cell_type": "code",
   "execution_count": null,
   "metadata": {
    "colab": {},
    "colab_type": "code",
    "id": "fPgIGprYHliD"
   },
   "outputs": [],
   "source": [
    "df.dtypes"
   ]
  },
  {
   "cell_type": "markdown",
   "metadata": {
    "colab_type": "text",
    "id": "vL0gW74bHliI"
   },
   "source": [
    "**Extra**:\n",
    "```df.slaves_onboard = df.slaves_onboard.astype(int)```"
   ]
  },
  {
   "cell_type": "code",
   "execution_count": null,
   "metadata": {
    "colab": {},
    "colab_type": "code",
    "id": "obBSXVY2HliI"
   },
   "outputs": [],
   "source": [
    "df.slaves_onboard = df.slaves_onboard.astype(int)"
   ]
  },
  {
   "cell_type": "code",
   "execution_count": null,
   "metadata": {
    "colab": {},
    "colab_type": "code",
    "id": "bmm_3kqnHliK"
   },
   "outputs": [],
   "source": [
    "df.dtypes"
   ]
  },
  {
   "cell_type": "code",
   "execution_count": null,
   "metadata": {
    "colab": {},
    "colab_type": "code",
    "id": "9dC_vb_KHliM"
   },
   "outputs": [],
   "source": [
    "df"
   ]
  },
  {
   "cell_type": "markdown",
   "metadata": {
    "colab_type": "text",
    "id": "s3AFqNpu2GJ4"
   },
   "source": [
    "### GeoTagging Locations"
   ]
  },
  {
   "cell_type": "code",
   "execution_count": null,
   "metadata": {
    "colab": {},
    "colab_type": "code",
    "id": "lpBC6OsdEwl-"
   },
   "outputs": [],
   "source": [
    "!pip install geopandas\n"
   ]
  },
  {
   "cell_type": "code",
   "execution_count": null,
   "metadata": {
    "colab": {},
    "colab_type": "code",
    "id": "3N9KNSl-15ll"
   },
   "outputs": [],
   "source": [
    "!pip install googlemaps"
   ]
  },
  {
   "cell_type": "code",
   "execution_count": null,
   "metadata": {
    "colab": {},
    "colab_type": "code",
    "id": "0gYRsx8v2HfO"
   },
   "outputs": [],
   "source": [
    "from googlemaps import Client as GoogleMaps\n",
    "import pandas as pd "
   ]
  },
  {
   "cell_type": "code",
   "execution_count": null,
   "metadata": {
    "colab": {},
    "colab_type": "code",
    "id": "GYqCDWTt2KKz"
   },
   "outputs": [],
   "source": [
    "gmaps = GoogleMaps('')# ENTER KEY"
   ]
  },
  {
   "cell_type": "code",
   "execution_count": null,
   "metadata": {
    "colab": {},
    "colab_type": "code",
    "id": "bLLkI_sD9hzv"
   },
   "outputs": [],
   "source": [
    "df"
   ]
  },
  {
   "cell_type": "code",
   "execution_count": null,
   "metadata": {
    "colab": {},
    "colab_type": "code",
    "id": "AKnGxe_w2Lzw"
   },
   "outputs": [],
   "source": [
    "addresses = df.filter(['Voyage itinerary imputed port where began (ptdepimp) place'], axis=1)\n",
    "addresses.head()"
   ]
  },
  {
   "cell_type": "code",
   "execution_count": null,
   "metadata": {
    "colab": {},
    "colab_type": "code",
    "id": "TVEZc-Qs2PbV"
   },
   "outputs": [],
   "source": [
    "addresses['long'] = \"\"\n",
    "addresses['lat'] = \"\""
   ]
  },
  {
   "cell_type": "code",
   "execution_count": null,
   "metadata": {
    "colab": {},
    "colab_type": "code",
    "id": "sBJppNIY9ZBP"
   },
   "outputs": [],
   "source": [
    "addresses"
   ]
  }
 ],
 "metadata": {
  "colab": {
   "collapsed_sections": [
    "ObtE8-BHODkC",
    "N8w70yKWOH_c",
    "7q6R0hBZONBe",
    "mCNQqlwecmjv",
    "66hyyirMlq6S",
    "aEsoTghMmsuq",
    "UFfKdw9eV6Wc"
   ],
   "include_colab_link": true,
   "name": "Week4-PROJECT-Visualize-Trans-Atlantic-Slave-Trade.ipynb",
   "provenance": []
  },
  "kernelspec": {
   "display_name": "Python 3",
   "language": "python",
   "name": "python3"
  },
  "language_info": {
   "codemirror_mode": {
    "name": "ipython",
    "version": 3
   },
   "file_extension": ".py",
   "mimetype": "text/x-python",
   "name": "python",
   "nbconvert_exporter": "python",
   "pygments_lexer": "ipython3",
   "version": "3.7.4"
  }
 },
 "nbformat": 4,
 "nbformat_minor": 1
}
