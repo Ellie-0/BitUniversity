{
  "nbformat": 4,
  "nbformat_minor": 0,
  "metadata": {
    "colab": {
      "name": "Week4-PROJECT-Visualize-Trans-Atlantic-Slave-Trade.ipynb",
      "provenance": [],
      "collapsed_sections": [
        "ObtE8-BHODkC",
        "N8w70yKWOH_c",
        "7q6R0hBZONBe",
        "mCNQqlwecmjv",
        "66hyyirMlq6S",
        "aEsoTghMmsuq",
        "UFfKdw9eV6Wc"
      ],
      "include_colab_link": true
    },
    "kernelspec": {
      "display_name": "Python 3",
      "language": "python",
      "name": "python3"
    },
    "language_info": {
      "codemirror_mode": {
        "name": "ipython",
        "version": 3
      },
      "file_extension": ".py",
      "mimetype": "text/x-python",
      "name": "python",
      "nbconvert_exporter": "python",
      "pygments_lexer": "ipython3",
      "version": "3.7.4"
    }
  },
  "cells": [
    {
      "cell_type": "markdown",
      "metadata": {
        "id": "view-in-github",
        "colab_type": "text"
      },
      "source": [
        "<a href=\"https://colab.research.google.com/github/bitprj/DigitalHistory/blob/master/Week5-Lab-Visualizing-the-Translatlantic-Slave-Trade/Lab-Visualize-Trans-Atlantic-Slave-Trade.ipynb\" target=\"_parent\"><img src=\"https://colab.research.google.com/assets/colab-badge.svg\" alt=\"Open In Colab\"/></a>"
      ]
    },
    {
      "cell_type": "markdown",
      "metadata": {
        "id": "HTy4Z3Uogzl1"
      },
      "source": [
        "<img src=\"https://github.com/ShayanRiyaz/DigitalHistory/blob/Shayan/Week5-Lab-Visualizing-the-Translatlantic-Slave-Trade/assets/icons/bitproject.png?raw=1\" width=\"200\" align=\"left\"> \n",
        "<img src=\"https://github.com/ShayanRiyaz/DigitalHistory/blob/Shayan/Week5-Lab-Visualizing-the-Translatlantic-Slave-Trade/assets/icons/data-science.jpg?raw=1\" width=\"300\" align=\"right\">"
      ]
    },
    {
      "cell_type": "markdown",
      "metadata": {
        "id": "U30n5IXzIVFX"
      },
      "source": [
        "# <div align=\"center\">Visualizing the Trans-Atlantic Slave Trade</div>"
      ]
    },
    {
      "cell_type": "markdown",
      "metadata": {
        "id": "UFfKdw9eV6Wc"
      },
      "source": [
        "# Table of Contents\n",
        "\n",
        "\n",
        "    \n",
        "\n",
        "\n",
        "\n",
        "\n"
      ]
    },
    {
      "cell_type": "markdown",
      "metadata": {
        "id": "rAPAfOpTwqDJ"
      },
      "source": [
        "- Recap\n",
        "- About the Dataset\n",
        "    - The Transatlantic Slave Trade\n",
        "        - Facts about the dataset\n",
        "- Labs and Methodology\n",
        "- Goals\n",
        "- **Part 1 - Getting Our Basic Data Analysis Set-Up**\n",
        "    - Import Libraries and unpack a file\n",
        "    - Load file\n",
        "    - Observing the Dataset using Pandas\n",
        "    - Important Facts About the Dataset\n",
        "    - Visualize Year of Arrival vs Number of Slaves arrived\n",
        "- **Part 2 - Getting Started with Data Wrangling**\n",
        "    - Create a copy of the Original Dataset\n",
        "    - Changing Column Names\n",
        "    - Moving Column Positions - ```df.reindex()```\n",
        "    - Remove Voyage ID -```df.drop()```\n",
        "    - Using ```dropna()```\n",
        "    - Changing Column Type and Sorting - ```df.sort_values()```\n",
        "    - Finding Unique and similar strings \n",
        "    - Working with Strings - ```df['column_name'].str.replace()```\n",
        "- **Part 3 - Micro Wrangling and Visualization**\n",
        "    - Between 1500 - 1600\n",
        "    - Between 1601 - 1700\n",
        "    - Between 1701 - 1800\n",
        "    - Between 1801 - 1900\n",
        "- **Part 4 - Conclusion**\n",
        "- Resources\n",
        "- Appendix"
      ]
    },
    {
      "cell_type": "markdown",
      "metadata": {
        "id": "RE3H5y7yIRHZ"
      },
      "source": [
        "# Recap\n"
      ]
    },
    {
      "cell_type": "markdown",
      "metadata": {
        "id": "KaDn0K67wuzJ"
      },
      "source": [
        "- By this time, you should have an understanding of how to implement the following:\n",
        "- Loading a Dataset '.csv' as a dataframe using ```pd.read_csv```\n",
        "- Observing the properties of the loaded dataset using functions such as:\n",
        "    - ```pd.head()```\n",
        "    - ```pd.describe()```\n",
        "    - ```pd.info()```\n",
        "- Modifying the dataset by removing ```NaN``` values.\n",
        "- A conceptual understanding of the term ```object``` in DataFrames. (really what it means is that the value is probably text/string)*\n",
        "- Re-indexing columns\n",
        "- Visualizing Data using ```matplotlib``` and ```pandas```:\n",
        "    - Scatter plots\n",
        "    - Barplots\n",
        "    - Line plots\n",
        "    - Histograms"
      ]
    },
    {
      "cell_type": "markdown",
      "metadata": {
        "id": "4uvgAANOIKwm"
      },
      "source": [
        "# About the Dataset\n",
        "\n",
        "\n",
        "\n"
      ]
    },
    {
      "cell_type": "markdown",
      "metadata": {
        "id": "mdUGc-qWwzv1"
      },
      "source": [
        "### The Trans-Atlantic Slave Trade\n",
        "<img src=\"https://github.com/ShayanRiyaz/DigitalHistory/blob/Shayan/Week5-Lab-Visualizing-the-Translatlantic-Slave-Trade/assets/ship.jpg?raw=1\" width=\"600\"> \n",
        "\n",
        "It is difficult to believe in the first decades of the twenty-first century that **just over two centuries ago**, for those Europeans who thought about the issue, the shipping of enslaved Africans across the Atlantic was morally indistinguishable from shipping textiles, wheat, or even sugar. \n",
        "\n",
        "Our reconstruction of a major part of this migration experience covers an era in which there was a massive technological change (*steamers were among the last slave ships*), as well as very dramatic shifts in perceptions of good and evil. Just as important perhaps were the relations between the Western and non-Western worlds that the trade both reflected and encapsulated. **Slaves constituted the most important reason for contact between Europeans and Africans for nearly two centuries**. \n",
        "\n",
        "The shipment of slaves from Africa was related to the demographic disaster consequent to the meeting of Europeans and Amerindians, which greatly reduced the numbers of Amerindian laborers and raised the demand for labor drawn from elsewhere, particularly Africa. As Europeans colonized the Americas, a steady stream of European peoples migrated to the Americas between 1492 and the early nineteenth century. But what is often overlooked is that, before 1820, perhaps three times as many enslaved Africans crossed the Atlantic as Europeans. \n",
        "\n",
        "This was the largest transoceanic migration of a people until that day, and it provided the Americas with a crucial labor force for their own economic development. The slave trade is thus a vital part of the history of some millions of Africans and their descendants who helped shape the modern Americas culturally as well as in the material sense.\n",
        "\n",
        "The details of the more than **36,000** voyages presented here greatly facilitate the study of cultural, demographic, and economic change in the Atlantic world from the late *sixteenth to the mid-nineteenth centuries*. Trends and cycles in the flow of African captives from specific coastal outlets should provide scholars with new, basic information useful in examining the relationships among slavery, warfare in both Africa and Europe—political instability, and climatic and ecological change, among other forces. \n",
        "\n",
        "### Facts about the dataset\n",
        "\n",
        "- The dataset approximately 36,110 trans-Atlantic voyages.\n",
        "- The estimates suggest around 12,520,000 captives departed Africa to the Americas. \n",
        "\n",
        "- Not all 36,000 voyages in the database carried slaves from Africa.\n",
        "- A total of 633 voyages (1.8%) never reached the African coast because they were lost at sea, captured, or affected by some other misfortune. \n",
        "- The database also contains records of 34,106 voyages that disembarked slaves, or could have done so (in other words, for some of these we do not know the outcome of the voyage).\n",
        "\n",
        "- The latter group comprised mainly of ships captured in the nineteenth century which were taken to Sierra Leone and St. Helena as part of the attempt to suppress the trade. "
      ]
    },
    {
      "cell_type": "markdown",
      "metadata": {
        "id": "fPyizd_JIHPU"
      },
      "source": [
        "# Practicum and Methodology\n"
      ]
    },
    {
      "cell_type": "markdown",
      "metadata": {
        "id": "Aljt8kKWxCRe"
      },
      "source": [
        "Congratulations, you have made it to the first practicum of this course. The purpose of these practicums is to help you apply the Data Science pipeline in a project-based environment. You will be using the tools taught to you in the previous modules and adopt and Question and Answer based approach when you work with the dataset.\n",
        "\n",
        "We have divided our approach into 4 parts:\n",
        "- For this project, we start by asking questions which you will answer in code and simple explanations.\n",
        "\n",
        "**example** - change the name of 'column_x' to 'column y' </br>\n",
        "**answer**: ```df = df.rename(columns = {'column_x : 'column_y})```\n",
        "\n",
        "- The first part is the traditional set up every. These are some things we should do before modifying the dataset.\n",
        "- The second part involves cleaning the dataset and choosing columns that fit our methodology.\n",
        "- The third part involves further splitting our cleaned dataframe into smaller dataframes and visualizing them.\n",
        "- Finally, the fourth part involves summarizing our conclusion."
      ]
    },
    {
      "cell_type": "markdown",
      "metadata": {
        "id": "Tl_6Scu8IE7Q"
      },
      "source": [
        "\n",
        "# Grading\n",
        "\n",
        "In order to work on the questions in this Practicum and submit them for grading, you'll need to run the code block below. It will ask for your student ID number and then create a folder that will house your answers for each question. At the very end of the notebook, there is a code section that will download this folder as a zip file to your computer. This zip file will be your final submission."
      ]
    },
    {
      "cell_type": "code",
      "metadata": {
        "id": "HmZvJAZIpGf6"
      },
      "source": [
        "import os\n",
        "import shutil\n",
        "\n",
        "!rm -rf sample_data\n",
        "\n",
        "student_id = input('Please Enter your Student ID: ') # Enter Student ID.\n",
        "\n",
        "while len(student_id) != 9:\n",
        " student_id = int('Please Enter your Student ID: ')  \n",
        "  \n",
        "folder_location = f'{student_id}/Week_Five/Practicum'\n",
        "if not os.path.exists(folder_location):\n",
        "  os.makedirs(folder_location)\n",
        "  print('Successfully Created Directory, Lets get started')\n",
        "else:\n",
        "  print('Directory Already Exists')"
      ],
      "execution_count": null,
      "outputs": []
    },
    {
      "cell_type": "markdown",
      "metadata": {
        "id": "ixk29-rMHvR9"
      },
      "source": [
        "# Part 1 - Getting Our Basic Data Analysis Set-Up"
      ]
    },
    {
      "cell_type": "markdown",
      "metadata": {
        "id": "0W--Kb7wgzl7"
      },
      "source": [
        "Import the libraries you will be using for this project. These libraries are the ones we have used in the previous labs."
      ]
    },
    {
      "cell_type": "markdown",
      "metadata": {
        "id": "7q6R0hBZONBe"
      },
      "source": [
        "## Q1 Load libraries and file"
      ]
    },
    {
      "cell_type": "code",
      "metadata": {
        "id": "vs7AJxshHlc9"
      },
      "source": [
        "#Once your have verified your answer please uncomment the line below and run it, this will save your code \n",
        "#%%writefile -a {folder_location}/1.py\n",
        "#Please note that if you uncomment and run multiple times, the program will keep appending to the file.\n",
        "\n",
        "import _____ as pd # INSERT CODE HERE\n",
        "import __________ as plt  # INSERT CODE HERE"
      ],
      "execution_count": null,
      "outputs": []
    },
    {
      "cell_type": "code",
      "metadata": {
        "id": "DfmowYZZOVRn"
      },
      "source": [
        "#Once your have verified your answer please uncomment the line below and run it, this will save your code \n",
        "#%%writefile -a {folder_location}/1.py\n",
        "#Please note that if you uncomment and run multiple times, the program will keep appending to the file.\n",
        "\n",
        "\n",
        "url = 'https://rb.gy/cjfen3'\n",
        "\n",
        "trans_atlc_trade = __.read_csv(___) # INSERT CODE HERE "
      ],
      "execution_count": null,
      "outputs": []
    },
    {
      "cell_type": "markdown",
      "metadata": {
        "id": "9SwePQu6qsZl"
      },
      "source": [
        "### Observing the Dataset using Pandas"
      ]
    },
    {
      "cell_type": "markdown",
      "metadata": {
        "id": "mCNQqlwecmjv"
      },
      "source": [
        "Now, the dataset is loaded as a dataframe 'trans_atlc_trade'\n",
        "\n",
        "### ```head()```\n",
        "Let's check what columns this file has by calling 'head()' function.\n",
        "It returns first n rows, and it's useful to see the dataset at a quick glance.\n",
        "\n",
        "By default, the head() function returns the first 5 rows.\n",
        "\n",
        "You can specify the number of rows to display by calling df.head(number)\n"
      ]
    },
    {
      "cell_type": "code",
      "metadata": {
        "id": "_Fwr655mcjr5"
      },
      "source": [
        "# INSERT CODE HERE"
      ],
      "execution_count": null,
      "outputs": []
    },
    {
      "cell_type": "markdown",
      "metadata": {
        "id": "s5I3a9h9gzmM"
      },
      "source": [
        "### ```tail()```\n",
        "\n",
        "The ```tail()``` method prints the last 5 rows of our dataset."
      ]
    },
    {
      "cell_type": "code",
      "metadata": {
        "id": "WVD4aPJbHldP"
      },
      "source": [
        "# INSERT CODE HERE"
      ],
      "execution_count": null,
      "outputs": []
    },
    {
      "cell_type": "markdown",
      "metadata": {
        "id": "FFqqKsABeT7y"
      },
      "source": [
        "### ```info()```\n",
        "This will return all of the column names and its types. This function is useful to get the idea of what the dataframe is like.\n"
      ]
    },
    {
      "cell_type": "code",
      "metadata": {
        "id": "wxqUmTFdfkCi"
      },
      "source": [
        "## INSERT CODE HERE"
      ],
      "execution_count": null,
      "outputs": []
    },
    {
      "cell_type": "markdown",
      "metadata": {
        "id": "Ilf3rsfmBiLw"
      },
      "source": [
        "### Observations:\n",
        "\n",
        "#### Questions:\n",
        "- List down the number of unique ```Dtype``` in this dataset\n",
        "- Is the dataset uneven? If so list down the column with the most missing rows?\n"
      ]
    },
    {
      "cell_type": "markdown",
      "metadata": {
        "id": "IhviGetnfp9B"
      },
      "source": [
        "### ```describe()```\n",
        "describe() is used to view summary statistics of numeric columns. This will help you to have general idea of the dataset."
      ]
    },
    {
      "cell_type": "code",
      "metadata": {
        "id": "DuDPOCZ9frBI"
      },
      "source": [
        "trans_atlc_trade._____() # Insert code here"
      ],
      "execution_count": null,
      "outputs": []
    },
    {
      "cell_type": "markdown",
      "metadata": {
        "id": "oEEj1jeGAlhU"
      },
      "source": [
        "### Observations:\n",
        "\n",
        "#### Question:\n",
        "- Why is ```describe``` showing only 3 columns?Is it because of their types e.g(int,float,object)**?\n",
        "- What could be reason for the counts not being the same?\n",
        "- Are the mean, standard deviation,..., max. important for Voyage ID?\n",
        "\n"
      ]
    },
    {
      "cell_type": "markdown",
      "metadata": {
        "id": "nwuNo5o2fzGe"
      },
      "source": [
        "### ```shape```\n",
        "To see the size of the dataset, we can use shape function, which returns the number of rows and columns in a format of (#rows, #columns)"
      ]
    },
    {
      "cell_type": "code",
      "metadata": {
        "id": "fIhERH7KHldk"
      },
      "source": [
        "trans_atlc_trade.shape"
      ],
      "execution_count": null,
      "outputs": []
    },
    {
      "cell_type": "markdown",
      "metadata": {
        "id": "aOi3ah9yDI-T"
      },
      "source": [
        "### Observations:\n",
        "\n",
        "#### Question:\n",
        "How many **rows** and **columns** are there?\n",
        "#### Answer:"
      ]
    },
    {
      "cell_type": "markdown",
      "metadata": {
        "id": "AeidaHn6Hldo"
      },
      "source": [
        "## Q2. Important Facts About the Dataset"
      ]
    },
    {
      "cell_type": "markdown",
      "metadata": {
        "id": "XIFbkyfIDinJ"
      },
      "source": [
        "The next thing we want to do is count the number of trips that have been unaccounted for. We'll know this by observing the ```Slaves arrived at 1st port``` This is simple, all we have to do is run two functions:\n",
        "- The first one will be to check if the column has null values, ```isna()```.\n",
        "- The second one will be count the number of null values in the column, ```count()```."
      ]
    },
    {
      "cell_type": "code",
      "metadata": {
        "id": "lKl32c6JHldo"
      },
      "source": [
        "#Once your have verified your answer please uncomment the line below and run it, this will save your code \n",
        "#%%writefile -a {folder_location}/2.py\n",
        "#Please note that if you uncomment and run multiple times, the program will keep appending to the file.\n",
        "\n",
        "Unaccounted_trips = trans_atlc_trade['Slaves arrived at 1st port'].____()._____()   # Insert Code Here\n",
        "print(f'The total number of unaccounted trips is:  {Unaccounted_trips}')\n"
      ],
      "execution_count": null,
      "outputs": []
    },
    {
      "cell_type": "markdown",
      "metadata": {
        "id": "2JPDPjr-EI60"
      },
      "source": [
        "\n",
        "**What about the total of slaves accounted for?** </br>\n",
        "In the following line of code, we will have to ```sum``` the the total number of slaves in every column."
      ]
    },
    {
      "cell_type": "code",
      "metadata": {
        "id": "v_Gai5XEHlds",
        "scrolled": true
      },
      "source": [
        "#Once your have verified your answer please uncomment the line below and run it, this will save your code \n",
        "#%%writefile -a {folder_location}/2.py\n",
        "#Please note that if you uncomment and run multiple times, the program will keep appending to the file.\n",
        "\n",
        "number_of_slaves_accounted = trans_atlc_trade['Slaves arrived at 1st port'].___()    # Insert code here\n",
        "print(f'The total number of slaves accounted for are: {number_of_slaves_accounted}')"
      ],
      "execution_count": null,
      "outputs": []
    },
    {
      "cell_type": "markdown",
      "metadata": {
        "id": "bYuDgHKIHldv"
      },
      "source": [
        "Historical estimates suggest that the total number of slave traded are estimated to be ~12.5 Million. This means that according to this dataset:"
      ]
    },
    {
      "cell_type": "code",
      "metadata": {
        "id": "xyymyjbgEduN"
      },
      "source": [
        "#Once your have verified your answer please uncomment the line below and run it, this will save your code \n",
        "#%%writefile -a {folder_location}/2.py\n",
        "#Please note that if you uncomment and run multiple times, the program will keep appending to the file.\n",
        "\n",
        "possible_unaccounted_slaves = 1250000 - ________________ # INSERT CODE HERE \n",
        "possible_unaccounted_slaves "
      ],
      "execution_count": null,
      "outputs": []
    },
    {
      "cell_type": "markdown",
      "metadata": {
        "id": "heW7wau-Hldv"
      },
      "source": [
        "### Visualize Year of Arrival vs Number of Slaves arrived"
      ]
    },
    {
      "cell_type": "code",
      "metadata": {
        "id": "zdNAAj8EvEDs",
        "outputId": "001ff962-7bd4-444f-c59a-de6673f4a633",
        "colab": {
          "base_uri": "https://localhost:8080/",
          "height": 552
        }
      },
      "source": [
        "fig = plt.figure(figsize = (35,10))\n",
        "\n",
        "ax1 = fig.add_subplot(1,2,1)\n",
        "ax2 = fig.add_subplot(1,2,2)\n",
        "\n",
        "trans_atlc_trade.plot(x = 'Year of arrival at port of disembarkation',\n",
        "        y = 'Slaves arrived at 1st port',\n",
        "        kind = 'scatter',\n",
        "        c = 'Slaves arrived at 1st port',\n",
        "        title = 'Year of arrival at port of disembarkation vs Slaves arrived at 1st port',\n",
        "        alpha = 0.3,\n",
        "        cmap = plt.get_cmap('ocean'),\n",
        "        colorbar = True,\n",
        "        ax = ax1,\n",
        "       )\n",
        "\n",
        "\n",
        "trans_atlc_trade.plot(x = 'Year of arrival at port of disembarkation',\n",
        "        y = 'Slaves arrived at 1st port',\n",
        "        kind = 'area',\n",
        "        title = 'Year of arrival at port of disembarkation vs Slaves arrived at 1st port',\n",
        "        ax = ax2,\n",
        "       )\n",
        "\n"
      ],
      "execution_count": 32,
      "outputs": [
        {
          "output_type": "execute_result",
          "data": {
            "text/plain": [
              "<matplotlib.axes._subplots.AxesSubplot at 0x7f629d050780>"
            ]
          },
          "metadata": {
            "tags": []
          },
          "execution_count": 32
        },
        {
          "output_type": "display_data",
          "data": {
            "image/png": "[encoded data removed]",
            "text/plain": [
              "<Figure size 2520x720 with 3 Axes>"
            ]
          },
          "metadata": {
            "tags": [],
            "needs_background": "light"
          }
        }
      ]
    },
    {
      "cell_type": "markdown",
      "metadata": {
        "id": "2cYXofF6t-hE"
      },
      "source": [
        "### Questions\n",
        "- Are the plots above useful? \n",
        "- Can we get anything specific by observingt?\n",
        "- Is there a visible trend?\n",
        "- What are the possible issues with the plot above? \n",
        "- Lastly, which one is more practical, the ```scatter``` one or ```area```"
      ]
    },
    {
      "cell_type": "markdown",
      "metadata": {
        "id": "nIFt7KCZHld-"
      },
      "source": [
        "# Part 2 - Getting Started with Data Wrangling"
      ]
    },
    {
      "cell_type": "markdown",
      "metadata": {
        "id": "_JW6MwRSFF3B"
      },
      "source": [
        "Now that we have observed the basic features of our dataset raw, we will began cleaning it. This involves several steps that you will be working through.\n"
      ]
    },
    {
      "cell_type": "markdown",
      "metadata": {
        "id": "NJhawspPHld-"
      },
      "source": [
        "### Create a copy of the Original Dataset"
      ]
    },
    {
      "cell_type": "code",
      "metadata": {
        "id": "HJ6p5GksHld_"
      },
      "source": [
        "df = trans_atlc_trade.copy()"
      ],
      "execution_count": null,
      "outputs": []
    },
    {
      "cell_type": "markdown",
      "metadata": {
        "id": "--Q1q9kDgznD"
      },
      "source": [
        "## Q3. Column List\n",
        "\n",
        "List down the names of all the columns in our dataframe"
      ]
    },
    {
      "cell_type": "code",
      "metadata": {
        "id": "NvhxosPNF5LH"
      },
      "source": [
        "#Once your have verified your answer please uncomment the line below and run it, this will save your code \n",
        "#%%writefile -a {folder_location}/3.py\n",
        "#Please note that if you uncomment and run multiple times, the program will keep appending to the file.\n",
        "\n",
        "\n",
        "list(df.______) # Insert Code Here\n",
        "\n"
      ],
      "execution_count": null,
      "outputs": []
    },
    {
      "cell_type": "markdown",
      "metadata": {
        "id": "BJAtGmeEq2U3"
      },
      "source": [
        "## Q4. Change column names"
      ]
    },
    {
      "cell_type": "markdown",
      "metadata": {
        "id": "J4KjruAfIDe2"
      },
      "source": [
        "For this exercise, you will change the names of the previously existing columns to something that is more readable. \n",
        "\n",
        "\n",
        "Using the columns above write down the name of the column in place of ```COLUMN_NAME_HERE```.\n",
        "\n",
        "\n",
        "The last column name will be tricky to change, this is because it has a ```'``` here. In order to change that right before the ```'``` add a ```\\```."
      ]
    },
    {
      "cell_type": "code",
      "metadata": {
        "id": "aSzOUf_CHleE"
      },
      "source": [
        "#Once your have verified your answer please uncomment the line below and run it, this will save your code \n",
        "#%%writefile -a {folder_location}/4.py\n",
        "#Please note that if you uncomment and run multiple times, the program will keep appending to the file.\n",
        "\n",
        "df = df.rename(\n",
        "    columns={'COLUMN_NAME_HERE': 'voyage_id',                       # Insert Column Name you want to change\n",
        "        'COLUMN_NAME_HERE': 'vessel_name',                          # Insert Column Name you want to change\n",
        "                           'COLUMN_NAME_HERE': 'voyage_started',    # Insert Column Name you want to change\n",
        "                           'COLUMN_NAME_HERE': 'voyage_pit_stop',   # Insert Column Name you want to change\n",
        "                           'COLUMN_NAME_HERE': 'end_port',          # Insert Column Name you want to change\n",
        "                           'COLUMN_NAME_HERE':'year_of_arrival',    # Insert Column Name you want to change\n",
        "                           'COLUMN_NAME_HERE':'slaves_onboard',     # Insert Column Name you want to change\n",
        "                            'COLUMN_NAME_HERE' : 'captain_names'    # Insert Column Name you want to change\n",
        "            })\n",
        "\n",
        "\n",
        "df"
      ],
      "execution_count": null,
      "outputs": []
    },
    {
      "cell_type": "markdown",
      "metadata": {
        "id": "08LYIpGyHleI"
      },
      "source": [
        "## Q5 Moving Column Positions - ```df.reindex()```"
      ]
    },
    {
      "cell_type": "markdown",
      "metadata": {
        "id": "m6SuvgcJIsfL"
      },
      "source": [
        "When we're looking at the renamed database, for our purposes, we don't want to work with the ```captain_names```. Next, we will use ```df.reindex()``` to change two things:\n",
        "1. The order of our columns\n",
        "2. Remove slaves onboard\n",
        "\n",
        "You can see below a list below which has the ```column_names``` in the order we want and is without ```captains_name```.\n",
        "\n"
      ]
    },
    {
      "cell_type": "code",
      "metadata": {
        "id": "B0p8g8M6HleJ"
      },
      "source": [
        "#Once your have verified your answer please uncomment the line below and run it, this will save your code \n",
        "#%%writefile -a {folder_location}/5.py\n",
        "#Please note that if you uncomment and run multiple times, the program will keep appending to the file.\n",
        "\n",
        "\n",
        "\n",
        "column_names = ['voyage_id',\"year_of_arrival\",\"vessel_name\", \"voyage_started\",\"voyage_pit_stop\", \"end_port\",\"slaves_onboard\"]\n",
        "\n",
        "df = df.reindex(columns=________) # Insert Code here\n",
        "\n",
        "df"
      ],
      "execution_count": null,
      "outputs": []
    },
    {
      "cell_type": "markdown",
      "metadata": {
        "id": "MfhTG28pHleN"
      },
      "source": [
        "**Is Voyage ID a good index and do we need it as a column?**\n",
        "\n",
        "No, But we need an index.\n",
        "\n",
        "**Can 'year_of_arrival' be an Index?**\n",
        "\n",
        "No, because there are repeating dates in the charts, there for we need a simple log counter.\n",
        "\n"
      ]
    },
    {
      "cell_type": "markdown",
      "metadata": {
        "id": "qOYcbFRwHleN"
      },
      "source": [
        "## Q6. Remove Voyage ID -```df.drop()```"
      ]
    },
    {
      "cell_type": "markdown",
      "metadata": {
        "id": "uocghp2yHleO"
      },
      "source": [
        "Now that we have a new index from 0 to 15299.\n",
        "\n",
        "Do we need ```voyage_id```. I don't think so, because it doesn't help us find anything useful. Every Voyage ID is unique.\n",
        "\n",
        "Next, drop this columnn"
      ]
    },
    {
      "cell_type": "code",
      "metadata": {
        "id": "90MwAELVHleO"
      },
      "source": [
        "#Once your have verified your answer please uncomment the line below and run it, this will save your code \n",
        "#%%writefile -a {folder_location}/6.py\n",
        "#Please note that if you uncomment and run multiple times, the program will keep appending to the file.\n",
        "\n",
        "df = df.drop(columns='_____')  # INSERT CODE HERE\n",
        "df "
      ],
      "execution_count": null,
      "outputs": []
    },
    {
      "cell_type": "markdown",
      "metadata": {
        "id": "d_Ds03fRHleS"
      },
      "source": [
        "### Using ```dropna()```"
      ]
    },
    {
      "cell_type": "markdown",
      "metadata": {
        "id": "OB1gdak8HleT"
      },
      "source": [
        "For this data set, we will be working with trips that were completely accounted for in all of the remaining features.\n",
        "\n",
        "The ```dropna()``` method is designed top drop every right in our dataframe whos cell might have a null or undefined value. There are usually shown as ```NaN```\n",
        "\n"
      ]
    },
    {
      "cell_type": "code",
      "metadata": {
        "id": "HUUV6ipxHleT"
      },
      "source": [
        "df = df.dropna()\n",
        "df"
      ],
      "execution_count": null,
      "outputs": []
    },
    {
      "cell_type": "code",
      "metadata": {
        "id": "-8OASxc-HleZ"
      },
      "source": [
        "df.info()"
      ],
      "execution_count": null,
      "outputs": []
    },
    {
      "cell_type": "markdown",
      "metadata": {
        "id": "ju-Bw99zHled"
      },
      "source": [
        "## Q7. Changing Column Type and Sorting - ```df.sort_values()```"
      ]
    },
    {
      "cell_type": "code",
      "metadata": {
        "id": "KCQb6H5uHled"
      },
      "source": [
        "#Once your have verified your answer please uncomment the line below and run it, this will save your code \n",
        "#%%writefile -a {folder_location}/7.py\n",
        "#Please note that if you uncomment and run multiple times, the program will keep appending to the file.\n",
        "\n",
        "\n",
        "df = df.sort_values(by='_______', ascending=True) # INSERT CODE HERE\n",
        "df"
      ],
      "execution_count": null,
      "outputs": []
    },
    {
      "cell_type": "markdown",
      "metadata": {
        "id": "AZbNdBQKgznj"
      },
      "source": [
        "## Q8. Reseting the Index "
      ]
    },
    {
      "cell_type": "markdown",
      "metadata": {
        "id": "AMV7309HHleh"
      },
      "source": [
        "Reseting Index using ```df.reset_index``` with respect 'year_of_arrival' in Ascending Order. "
      ]
    },
    {
      "cell_type": "code",
      "metadata": {
        "id": "rEIogWnUHlei"
      },
      "source": [
        "#Once your have verified your answer please uncomment the line below and run it, this will save your code \n",
        "#%%writefile -a {folder_location}/8.py\n",
        "#Please note that if you uncomment and run multiple times, the program will keep appending to the file.\n",
        "\n",
        "df.______(inplace=True, drop=True) # INSERT CODE HERE\n",
        "df"
      ],
      "execution_count": null,
      "outputs": []
    },
    {
      "cell_type": "markdown",
      "metadata": {
        "id": "i_4uzK6tHlel"
      },
      "source": [
        "### Finding Unique and similar strings \n",
        "\n",
        "First, we will list down all the unique names in these columns. Next, we will sort these in alphabetical order in order to make it easier to observe.\n",
        "\n",
        "```df['column_name].unique()``` and ```df.sort()```\n",
        "\n",
        "for simplicity i have just declared the first line as a variable ```a``` in order to print it\n",
        "\n"
      ]
    },
    {
      "cell_type": "code",
      "metadata": {
        "id": "zcZzcYc6Hlel"
      },
      "source": [
        "a = df['voyage_started'].unique()\n",
        "a.sort()\n",
        "a"
      ],
      "execution_count": null,
      "outputs": []
    },
    {
      "cell_type": "code",
      "metadata": {
        "id": "Xo4FXypKHleq"
      },
      "source": [
        "a = df['voyage_pit_stop'].unique()\n",
        "a.sort()\n",
        "a"
      ],
      "execution_count": null,
      "outputs": []
    },
    {
      "cell_type": "code",
      "metadata": {
        "id": "m4mKFIA8Hlex"
      },
      "source": [
        "a = df['Voyage itinerary imputed principal port of slave disembarkation (mjslptimp) place'].unique()\n",
        "a.sort()\n",
        "a"
      ],
      "execution_count": null,
      "outputs": []
    },
    {
      "cell_type": "markdown",
      "metadata": {
        "id": "Tilt8tICP_Yw"
      },
      "source": [
        "As we can see above our object columns, ```voytage_started```, ```voyage_pit_stop``` and ```end_port``` have phrases such as ```., port unspecified```, ```,unspecified```. We need to clean these out.\n"
      ]
    },
    {
      "cell_type": "markdown",
      "metadata": {
        "id": "zKVGN7_cHle2"
      },
      "source": [
        "## Q9. Working with Strings - ```df['column_name'].str.replace()```"
      ]
    },
    {
      "cell_type": "markdown",
      "metadata": {
        "id": "SESPapu0UDyS"
      },
      "source": [
        "To replace unwanted parts of a string, we use the function ```df['columun_name'].str.replace('string to find','string to replace')```. This command looks for the string we have specified and replaces with what we want.\n",
        "\n",
        "For example:\n",
        "If have an entry in the 'voyage_started' column, 'Virginia, port unspecified'. By running the command:\n",
        "```df['voyage_started'].str.replace(', port unspecified', '')```\n",
        "The string will be changed from ''Virginia, port unspecified' to 'Virginia'."
      ]
    },
    {
      "cell_type": "code",
      "metadata": {
        "id": "NPxciPRzHle3"
      },
      "source": [
        "#Once your have verified your answer please uncomment the line below and run it, this will save your code \n",
        "#%%writefile -a {folder_location}/9.py\n",
        "#Please note that if you uncomment and run multiple times, the program will keep appending to the file.\n",
        "\n",
        "\n",
        "# There are three strings in ```voyage_started``` we want to remove\n",
        "df['voyage_started'] = df['voyage_started'].str.replace('STRING HERE', '')      # Insert string to replace\n",
        "df['voyage_started'] = df['voyage_started'].str.replace('STRING HERE', '')      # Insert string to replace\n",
        "df['voyage_started'] = df['voyage_started'].str.replace('STRING HERE', '')      # Insert string to replace\n",
        "\n",
        "# There are 3 strings in ```voyage_pit_stop``` we want to remove\n",
        "df['voyage_pit_stop'] = df['voyage_pit_stop'].str.replace('STRING HERE', '')    # Insert string to replace \n",
        "df['voyage_pit_stop'] = df['voyage_pit_stop'].str.replace('STRING HERE', '')    # Insert string to replace\n",
        "df['voyage_pit_stop'] = df['voyage_pit_stop'].str.replace('STRING HERE', '')    # Insert string to replace\n",
        "\n",
        "# There are 6 strings in ```end_port``` we want to remove\n",
        "df['end_port'] = df['end_port'].str.replace('STRING HERE', '')                  # Insert string to replace \n",
        "df['end_port'] = df['end_port'].str.replace('STRING HERE', '')                  # Insert string to replace \n",
        "df['end_port'] = df['end_port'].str.replace('STRING HERE', '')                  # Insert string to replace\n",
        "df['end_port'] = df['end_port'].str.replace('STRING HERE', '')                  # Insert string to replace\n",
        "df['end_port'] = df['end_port'].str.replace('STRING HERE', '')                  # Insert string to replace\n",
        "df['end_port'] = df['end_port'].str.replace('STRING HERE', '')                  # Insert string to replace\n",
        "\n",
        "df"
      ],
      "execution_count": null,
      "outputs": []
    },
    {
      "cell_type": "code",
      "metadata": {
        "id": "IOPDZL8vHle7"
      },
      "source": [
        "df.dtypes"
      ],
      "execution_count": null,
      "outputs": []
    },
    {
      "cell_type": "markdown",
      "metadata": {
        "id": "x0c0BG7SHle_"
      },
      "source": [
        "#### Creating a Copy of our modified Dataset"
      ]
    },
    {
      "cell_type": "code",
      "metadata": {
        "id": "4jrvqhIAHle_"
      },
      "source": [
        "modified_dataset = df.copy()"
      ],
      "execution_count": null,
      "outputs": []
    },
    {
      "cell_type": "markdown",
      "metadata": {
        "id": "Wkw5pefkHlfC"
      },
      "source": [
        "# Part 3 - Micro Wrangling and Visualization"
      ]
    },
    {
      "cell_type": "markdown",
      "metadata": {
        "id": "pwDzGZeYHlfD"
      },
      "source": [
        "We will Start of this part by dividing our dataset into multiple smaller dataframes. The approach we will be taking is separating dataframes based on the ```year_of_arrival``` dataset.\n",
        "\n",
        "For example, in the blocks below you will see code for 4 intervals:\n",
        "- ```1500 to 1600```\n",
        "- ```1601 to 1700```\n",
        "- ```1701 to 1800```\n",
        "- ```1801 to 1900```\n",
        "\n"
      ]
    },
    {
      "cell_type": "markdown",
      "metadata": {
        "id": "3ZkrSv8hHlfD"
      },
      "source": [
        "# Between 1500 to 1600"
      ]
    },
    {
      "cell_type": "markdown",
      "metadata": {
        "id": "NC8OXsdVuj5c"
      },
      "source": [
        "## Create a new dataframe for the given date range."
      ]
    },
    {
      "cell_type": "code",
      "metadata": {
        "id": "Lp6kae0pHlfE"
      },
      "source": [
        "dataset_between15_16 = modified_dataset.where((modified_dataset['year_of_arrival'] >= 1500) & (modified_dataset['year_of_arrival'] <= 1600))\n",
        "dataset_between15_16"
      ],
      "execution_count": null,
      "outputs": []
    },
    {
      "cell_type": "markdown",
      "metadata": {
        "id": "JF5n5i1huunL"
      },
      "source": [
        "## Dropping the Null values"
      ]
    },
    {
      "cell_type": "code",
      "metadata": {
        "id": "a-tQvhW3HlfI"
      },
      "source": [
        "dataset_between15_16 = dataset_between15_16.dropna()\n",
        "dataset_between15_16"
      ],
      "execution_count": null,
      "outputs": []
    },
    {
      "cell_type": "markdown",
      "metadata": {
        "id": "T6C4yZSgHlfN"
      },
      "source": [
        "## Total Number of Slaves Transported between 1501-1600 - Complete Records\n"
      ]
    },
    {
      "cell_type": "code",
      "metadata": {
        "id": "lpCOGYH2HlfN"
      },
      "source": [
        "dataset_between15_16.slaves_onboard.sum()"
      ],
      "execution_count": null,
      "outputs": []
    },
    {
      "cell_type": "markdown",
      "metadata": {
        "id": "yoLMT1SKHlfR"
      },
      "source": [
        "## Visualizing Trips During 1501-1601"
      ]
    },
    {
      "cell_type": "code",
      "metadata": {
        "id": "ejmvzk-2HlfR"
      },
      "source": [
        "fig = plt.figure(figsize = (20,10))\n",
        "\n",
        "ax1 = fig.add_subplot(2,2,1)\n",
        "ax2 = fig.add_subplot(2,2,2)\n",
        "ax3 = fig.add_subplot(2,2,3)\n",
        "ax4 = fig.add_subplot(2,2,4)\n",
        "\n",
        "\n",
        "ax1.scatter(dataset_between15_16['year_of_arrival'],\n",
        "            dataset_between15_16['slaves_onboard'],\n",
        "            alpha = 0.4)\n",
        "\n",
        "ax2.scatter(dataset_between15_16['slaves_onboard'],\n",
        "            dataset_between15_16['year_of_arrival'],\n",
        "            alpha = 0.4)\n",
        "\n",
        "ax3.bar(\n",
        "    dataset_between15_16['year_of_arrival'],\n",
        "    dataset_between15_16['slaves_onboard'],\n",
        "    alpha = 0.4)\n",
        "\n",
        "ax4.set_ylim(1500,1600)\n",
        "ax4.bar(\n",
        "    dataset_between15_16['slaves_onboard'],    \n",
        "    dataset_between15_16['year_of_arrival'],\n",
        "    alpha = 0.4)"
      ],
      "execution_count": null,
      "outputs": []
    },
    {
      "cell_type": "markdown",
      "metadata": {
        "id": "jMCmsdSWHlfW"
      },
      "source": [
        "##  3.1 Choosing Graphs\n",
        "\n",
        "## Observations:\n",
        "### Questions\n",
        "- Which of these graphs seem useful and which ones are unnecessary?\n",
        "**Write a 2 sentence explanation about why these two plots seem or might be useful.** **Did the visualization style influence your decision?**\n",
        "Select the two graphs you think are more useful and add the following:\n",
        "- Add ```title``` for both subplots.\n",
        "- Add ```xlabel``` and ```ylabel```.\n",
        "- Change the color for one of the plots\n"
      ]
    },
    {
      "cell_type": "markdown",
      "metadata": {
        "id": "5eu2pWKrHlfX"
      },
      "source": [
        "## Plot the ```vessel_name``` vs the ```slaves_onboard```."
      ]
    },
    {
      "cell_type": "code",
      "metadata": {
        "id": "90m3tTRHHlfY"
      },
      "source": [
        "dataset_between15_16.plot(x= 'vessel_name',\n",
        "                          y = 'slaves_onboard',\n",
        "                          kind = 'bar',\n",
        "                          ax = ax1,\n",
        "                          rot = 90)"
      ],
      "execution_count": null,
      "outputs": []
    },
    {
      "cell_type": "markdown",
      "metadata": {
        "id": "7oOVxiLsHlfc"
      },
      "source": [
        "## Plotting voyages carrying Less than 100 slaves per trip"
      ]
    },
    {
      "cell_type": "code",
      "metadata": {
        "id": "-_Oy0Cr_Hlfd"
      },
      "source": [
        "temp_plot = dataset_between15_16.where(dataset_between15_16['slaves_onboard'] < 100.0).dropna()\n",
        "\n",
        "temp_plot"
      ],
      "execution_count": null,
      "outputs": []
    },
    {
      "cell_type": "code",
      "metadata": {
        "id": "I1UkMU9wHlfg"
      },
      "source": [
        "temp_plot.plot(x='vessel_name',\n",
        "                         y = 'slaves_onboard',kind = 'bar',\n",
        "                         rot = 90)"
      ],
      "execution_count": null,
      "outputs": []
    },
    {
      "cell_type": "markdown",
      "metadata": {
        "id": "OjOjDcogHlfk"
      },
      "source": [
        "## Plotting voyages carrying greater than 100 slaves per trip"
      ]
    },
    {
      "cell_type": "code",
      "metadata": {
        "id": "lrAOZa1hHlfm"
      },
      "source": [
        "temp_plot = dataset_between15_16.where(dataset_between15_16['slaves_onboard'] > 100.0).dropna()\n",
        "\n",
        "temp_plot.plot(x='vessel_name',\n",
        "               y = 'slaves_onboard',\n",
        "               kind = 'bar',\n",
        "               rot = 90,\n",
        "               grid = True,\n",
        "               figsize = (20,10)\n",
        "               )\n",
        "\n",
        "temp_plot"
      ],
      "execution_count": null,
      "outputs": []
    },
    {
      "cell_type": "markdown",
      "metadata": {
        "id": "iC1mKd2BHlfu"
      },
      "source": [
        "## Plotting voyages carrying greater than 200 slaves per trip"
      ]
    },
    {
      "cell_type": "code",
      "metadata": {
        "id": "HNwE7zKBHlfv"
      },
      "source": [
        "temp_plot = dataset_between15_16.where(dataset_between15_16['slaves_onboard'] > 200.0).dropna()\n",
        "\n",
        "print(f'There are {temp_plot.shape[0]} trips that carries more than 200 slaves.')"
      ],
      "execution_count": null,
      "outputs": []
    },
    {
      "cell_type": "code",
      "metadata": {
        "id": "dfBf3GfyHlfz",
        "scrolled": true
      },
      "source": [
        "temp_plot.plot(x= 'vessel_name',\n",
        "               y = 'slaves_onboard',\n",
        "               kind = 'bar',\n",
        "               rot = 90,\n",
        "               grid = True,\n",
        "               figsize = (20,10)\n",
        "               )\n"
      ],
      "execution_count": null,
      "outputs": []
    },
    {
      "cell_type": "markdown",
      "metadata": {
        "id": "ZIZ8rFjhHlf3"
      },
      "source": [
        "## Plotting the most used ```start_port``` for ```number_of_slaves``` > 200"
      ]
    },
    {
      "cell_type": "code",
      "metadata": {
        "id": "7IOuRHKwHlf4",
        "scrolled": true
      },
      "source": [
        "temp_plot['voyage_started'].hist(bins = 20,\n",
        "                                 alpha = 0.5,\n",
        "                                 xrot = 45,\n",
        "                                 figsize = (10,10)\n",
        "                                )"
      ],
      "execution_count": null,
      "outputs": []
    },
    {
      "cell_type": "markdown",
      "metadata": {
        "id": "ShDktMYRHlf8"
      },
      "source": [
        "## Histogram - Check the most used ```voyage_pit_stop``` for ```number_of_slaves``` > 200"
      ]
    },
    {
      "cell_type": "code",
      "metadata": {
        "id": "vYoFVQrIHlf9"
      },
      "source": [
        "temp_plot['voyage_pit_stop'].hist(bins=20, \n",
        "                                  alpha=0.7,\n",
        "                                  xrot = 0,\n",
        "                                  figsize = (10,10)\n",
        "                                  )"
      ],
      "execution_count": null,
      "outputs": []
    },
    {
      "cell_type": "markdown",
      "metadata": {
        "id": "ntI-QvHuHlgB"
      },
      "source": [
        "## Histogram - Check the most used ```End_Port```  for ```number_of_slaves``` > 200"
      ]
    },
    {
      "cell_type": "code",
      "metadata": {
        "id": "ermZi3B7HlgC",
        "scrolled": false
      },
      "source": [
        "temp_plot['end_port'].hist(bins=20, \n",
        "                           alpha=0.7,\n",
        "                           xrot = 0,\n",
        "                          figsize = (10,10)\n",
        "                          )"
      ],
      "execution_count": null,
      "outputs": []
    },
    {
      "cell_type": "markdown",
      "metadata": {
        "id": "cvaJr4-BHlgG"
      },
      "source": [
        "### Observations \n",
        "\n",
        "Majority of The Ships carrying over 200 people started their journey Portugal made a Pit-Stop in Africa and Went to Cartagena, Colombia "
      ]
    },
    {
      "cell_type": "markdown",
      "metadata": {
        "id": "1w9XvpNdHlgG"
      },
      "source": [
        "# Between 1601 - 1700"
      ]
    },
    {
      "cell_type": "markdown",
      "metadata": {
        "id": "br4un6S5r7QC"
      },
      "source": [
        "## Q10. Create a new dataframe for the given date range."
      ]
    },
    {
      "cell_type": "code",
      "metadata": {
        "id": "CWt8CtQDHlgH"
      },
      "source": [
        "#Once your have verified your answer please uncomment the line below and run it, this will save your code \n",
        "#%%writefile -a {folder_location}/10.py\n",
        "#Please note that if you uncomment and run multiple times, the program will keep appending to the file.\n",
        "\n",
        "dataset_between16_17 = modified_dataset #INSERT CODE HERE\n",
        "\n",
        "dataset_between16_17"
      ],
      "execution_count": null,
      "outputs": []
    },
    {
      "cell_type": "markdown",
      "metadata": {
        "id": "Eg7EEdhKgzpG"
      },
      "source": [
        "## Q11. Drop null values"
      ]
    },
    {
      "cell_type": "code",
      "metadata": {
        "id": "cv3zqBdzHlgK"
      },
      "source": [
        "#Once your have verified your answer please uncomment the line below and run it, this will save your code \n",
        "#%%writefile -a {folder_location}/11.py\n",
        "#Please note that if you uncomment and run multiple times, the program will keep appending to the file.\n",
        "\n",
        "dataset_between16_17 = dataset_between16_17._____() # Insert Code here (drop nul values)\n",
        "dataset_between16_17"
      ],
      "execution_count": null,
      "outputs": []
    },
    {
      "cell_type": "markdown",
      "metadata": {
        "id": "ltr9T0R2HlgQ"
      },
      "source": [
        "## Q12. Total Number of Slaves Transported between 1601-1700 - Complete Records\n"
      ]
    },
    {
      "cell_type": "code",
      "metadata": {
        "id": "xzPsmzJVHlgQ"
      },
      "source": [
        "#Once your have verified your answer please uncomment the line below and run it, this will save your code \n",
        "#%%writefile -a {folder_location}/12.py\n",
        "#Please note that if you uncomment and run multiple times, the program will keep appending to the file.\n",
        "\n",
        "dataset_between16_17.slaves_onboard.___() # Insert Code Here - Sum of slaves "
      ],
      "execution_count": null,
      "outputs": []
    },
    {
      "cell_type": "markdown",
      "metadata": {
        "id": "6KPEwqj3HlgT"
      },
      "source": [
        "## Q13. Visualizing Trips During 1601-1701"
      ]
    },
    {
      "cell_type": "code",
      "metadata": {
        "id": "kM5-QvjmHlgT"
      },
      "source": [
        "#Once your have verified your answer please uncomment the line below and run it, this will save your code \n",
        "#%%writefile -a {folder_location}/13.py\n",
        "#Please note that if you uncomment and run multiple times, the program will keep appending to the file.\n",
        "\n",
        "fig = # INSERT CODE HERE\n",
        "\n",
        "ax1 = # INSERT CODE HERE\n",
        "ax2 = f# INSERT CODE HERE\n",
        "\n",
        "ax1.scatter(# INSERT CODE HERE\n",
        "            # INSERT CODE HERE\n",
        "            # INSERT CODE HERE\n",
        "            )\n",
        "\n",
        "ax2.bar(\n",
        "    # INSERT CODE HERE\n",
        "    # INSERT CODE HERE\n",
        "    # INSERT CODE HERE\n",
        "    )\n",
        "\n"
      ],
      "execution_count": null,
      "outputs": []
    },
    {
      "cell_type": "markdown",
      "metadata": {
        "id": "QjxCnj6nHlgX"
      },
      "source": [
        "## Q14. Plot the ```vessel_name``` vs the ```slaves_onboard```."
      ]
    },
    {
      "cell_type": "code",
      "metadata": {
        "id": "4dx1qSH-HlgY"
      },
      "source": [
        "#Once your have verified your answer please uncomment the line below and run it, this will save your code \n",
        "#%%writefile -a {folder_location}/14.py\n",
        "#Please note that if you uncomment and run multiple times, the program will keep appending to the file.\n",
        "\n",
        "\n",
        "# INSERT CODE HERE"
      ],
      "execution_count": null,
      "outputs": []
    },
    {
      "cell_type": "markdown",
      "metadata": {
        "id": "MGDHXfAnHlgf"
      },
      "source": [
        "## Q15. Plotting the most used ```start_port``` for ```number_of_slaves``` > 200"
      ]
    },
    {
      "cell_type": "code",
      "metadata": {
        "id": "cuTVq2HkHlgh"
      },
      "source": [
        "#Once your have verified your answer please uncomment the line below and run it, this will save your code \n",
        "#%%writefile -a {folder_location}/15.py\n",
        "#Please note that if you uncomment and run multiple times, the program will keep appending to the file.\n",
        "\n",
        "\n",
        "# INSERT CODE HERE"
      ],
      "execution_count": null,
      "outputs": []
    },
    {
      "cell_type": "markdown",
      "metadata": {
        "id": "5alh-9SgHlgj"
      },
      "source": [
        "## Q16. Plotting the most used ```voyage_pit_stop``` for ```number_of_slaves``` > 200"
      ]
    },
    {
      "cell_type": "code",
      "metadata": {
        "id": "m49Xm2SkHlgk"
      },
      "source": [
        "#Once your have verified your answer please uncomment the line below and run it, this will save your code \n",
        "#%%writefile -a {folder_location}/16.py\n",
        "#Please note that if you uncomment and run multiple times, the program will keep appending to the file.\n",
        "\n",
        "\n",
        "# INSERT CODE HERE"
      ],
      "execution_count": null,
      "outputs": []
    },
    {
      "cell_type": "markdown",
      "metadata": {
        "id": "6RZ4R9mFHlgo"
      },
      "source": [
        "## Q17. Plotting the most used ```End_Port```"
      ]
    },
    {
      "cell_type": "code",
      "metadata": {
        "id": "KqQSbPfOHlgo",
        "scrolled": false
      },
      "source": [
        "#Once your have verified your answer please uncomment the line below and run it, this will save your code \n",
        "#%%writefile -a {folder_location}/17.py\n",
        "#Please note that if you uncomment and run multiple times, the program will keep appending to the file.\n",
        "\n",
        "\n",
        "# INSERT CODE HERE"
      ],
      "execution_count": null,
      "outputs": []
    },
    {
      "cell_type": "markdown",
      "metadata": {
        "id": "SXYLnplNHlgs"
      },
      "source": [
        "# Between 1701 - 1800"
      ]
    },
    {
      "cell_type": "markdown",
      "metadata": {
        "id": "pugWaMBHtEp1"
      },
      "source": [
        "## Q18. Create a new dataframe for the given date range."
      ]
    },
    {
      "cell_type": "code",
      "metadata": {
        "id": "mpED3SzKHlgt"
      },
      "source": [
        "#Once your have verified your answer please uncomment the line below and run it, this will save your code \n",
        "#%%writefile -a {folder_location}/18.py\n",
        "#Please note that if you uncomment and run multiple times, the program will keep appending to the file.\n",
        "\n",
        "dataset_between17_18 = # INSERT CODE HERE\n",
        "\n",
        "# INSERT CODE HERE"
      ],
      "execution_count": null,
      "outputs": []
    },
    {
      "cell_type": "markdown",
      "metadata": {
        "id": "bmGllGlLtLG1"
      },
      "source": [
        "## Q19. Drop null values"
      ]
    },
    {
      "cell_type": "code",
      "metadata": {
        "id": "UztHQkTmHlgx"
      },
      "source": [
        "#Once your have verified your answer please uncomment the line below and run it, this will save your code \n",
        "#%%writefile -a {folder_location}/19.py\n",
        "#Please note that if you uncomment and run multiple times, the program will keep appending to the file.\n",
        "\n",
        "\n",
        "# INSERT CODE HERE\n",
        "\n",
        "# INSERT CODE HERE"
      ],
      "execution_count": null,
      "outputs": []
    },
    {
      "cell_type": "markdown",
      "metadata": {
        "id": "8Pu1E16BHlg0"
      },
      "source": [
        "## Q20. Total Number of Slaves Transported between 1701-1800 - Complete Records.\n"
      ]
    },
    {
      "cell_type": "code",
      "metadata": {
        "id": "ICN8XRxYHlg0"
      },
      "source": [
        "#Once your have verified your answer please uncomment the line below and run it, this will save your code \n",
        "#%%writefile -a {folder_location}/20.py\n",
        "#Please note that if you uncomment and run multiple times, the program will keep appending to the file.\n",
        "\n",
        "# INSERT CODE HERE"
      ],
      "execution_count": null,
      "outputs": []
    },
    {
      "cell_type": "markdown",
      "metadata": {
        "id": "aoav5Z58Hlg2"
      },
      "source": [
        "## Q21. Visualizing Trips During 1701-1801"
      ]
    },
    {
      "cell_type": "code",
      "metadata": {
        "id": "c6LVgQ1wHlg3"
      },
      "source": [
        "#Once your have verified your answer please uncomment the line below and run it, this will save your code \n",
        "#%%writefile -a {folder_location}/21.py\n",
        "#Please note that if you uncomment and run multiple times, the program will keep appending to the file.\n",
        "\n",
        "fig = # INSERT CODE HERE\n",
        "\n",
        "ax1 = # INSERT CODE HERE\n",
        "ax2 = f# INSERT CODE HERE\n",
        "\n",
        "ax1.scatter(# INSERT CODE HERE\n",
        "            # INSERT CODE HERE\n",
        "            # INSERT CODE HERE\n",
        "            )\n",
        "\n",
        "ax2.bar(\n",
        "    # INSERT CODE HERE\n",
        "    # INSERT CODE HERE\n",
        "    # INSERT CODE HERE\n",
        "    )\n",
        "\n"
      ],
      "execution_count": null,
      "outputs": []
    },
    {
      "cell_type": "markdown",
      "metadata": {
        "id": "p65ASw2_Hlg6"
      },
      "source": [
        "## Q22. Plot the ```vessel_name``` vs the ```slaves_onboard```."
      ]
    },
    {
      "cell_type": "code",
      "metadata": {
        "id": "bU5P2A0CHlg7"
      },
      "source": [
        "#Once your have verified your answer please uncomment the line below and run it, this will save your code \n",
        "#%%writefile -a {folder_location}/22.py\n",
        "#Please note that if you uncomment and run multiple times, the program will keep appending to the file.\n",
        "\n"
      ],
      "execution_count": null,
      "outputs": []
    },
    {
      "cell_type": "markdown",
      "metadata": {
        "id": "ejs7tofyHlg9"
      },
      "source": [
        "## Q23. Plotting the most used ```start_port``` for ```number_of_slaves``` > 200"
      ]
    },
    {
      "cell_type": "code",
      "metadata": {
        "id": "5g_CwoUBHlg9"
      },
      "source": [
        "#Once your have verified your answer please uncomment the line below and run it, this will save your code \n",
        "#%%writefile -a {folder_location}/23.py\n",
        "#Please note that if you uncomment and run multiple times, the program will keep appending to the file.\n",
        "\n",
        "# INSERT CODE HERE"
      ],
      "execution_count": null,
      "outputs": []
    },
    {
      "cell_type": "markdown",
      "metadata": {
        "id": "wQXiGjGLHlhB"
      },
      "source": [
        "## Q24. Plotting the most used ```voyage_pit_stop``` for ```number_of_slaves``` > 200"
      ]
    },
    {
      "cell_type": "code",
      "metadata": {
        "id": "yiLTrPGTHlhB"
      },
      "source": [
        "#Once your have verified your answer please uncomment the line below and run it, this will save your code \n",
        "#%%writefile -a {folder_location}/24.py\n",
        "#Please note that if you uncomment and run multiple times, the program will keep appending to the file.\n",
        "\n",
        "\n",
        "# INSERT CODE HERE"
      ],
      "execution_count": null,
      "outputs": []
    },
    {
      "cell_type": "markdown",
      "metadata": {
        "id": "VHcaOGz9HlhD"
      },
      "source": [
        "## Q25. Plotting the most used ```End_Port```"
      ]
    },
    {
      "cell_type": "code",
      "metadata": {
        "id": "2XHKgB-qHlhE",
        "scrolled": false
      },
      "source": [
        "#Once your have verified your answer please uncomment the line below and run it, this will save your code \n",
        "#%%writefile -a {folder_location}/25.py\n",
        "#Please note that if you uncomment and run multiple times, the program will keep appending to the file.\n",
        "\n",
        "\n",
        "\n",
        "# INSERT CODE HERE"
      ],
      "execution_count": null,
      "outputs": []
    },
    {
      "cell_type": "markdown",
      "metadata": {
        "id": "84pXofoLHlhG"
      },
      "source": [
        "# Extra Credit\n",
        "# Between 1801 - 1900"
      ]
    },
    {
      "cell_type": "code",
      "metadata": {
        "id": "n9y5tp0qHlhG"
      },
      "source": [
        "dataset_between18_19 = modified_dataset.where((modified_dataset['year_of_arrival'] >= 1801) & (modified_dataset['year_of_arrival'] <= 1900) )\n",
        "\n",
        "dataset_between18_19"
      ],
      "execution_count": null,
      "outputs": []
    },
    {
      "cell_type": "code",
      "metadata": {
        "id": "KVKVgtIEHlhI"
      },
      "source": [
        "dataset_between18_19 = dataset_between18_19.dropna()\n",
        "\n",
        "dataset_between18_19"
      ],
      "execution_count": null,
      "outputs": []
    },
    {
      "cell_type": "markdown",
      "metadata": {
        "id": "F66q8RjvHlhL"
      },
      "source": [
        "### Total Number of Slaves Transported between 1801-1900 - Complete Records\n"
      ]
    },
    {
      "cell_type": "code",
      "metadata": {
        "id": "SWaElllYHlhM"
      },
      "source": [
        ""
      ],
      "execution_count": null,
      "outputs": []
    },
    {
      "cell_type": "markdown",
      "metadata": {
        "id": "4Cy7QPXaHlhO"
      },
      "source": [
        "### Visualizing Trips During 1801-1900"
      ]
    },
    {
      "cell_type": "code",
      "metadata": {
        "id": "U-pb7BQbHlhO"
      },
      "source": [
        ""
      ],
      "execution_count": null,
      "outputs": []
    },
    {
      "cell_type": "markdown",
      "metadata": {
        "id": "Qy7PewKsHlhQ"
      },
      "source": [
        "### Pandas Plots"
      ]
    },
    {
      "cell_type": "code",
      "metadata": {
        "id": "VeafP9zTHlhR"
      },
      "source": [
        ""
      ],
      "execution_count": null,
      "outputs": []
    },
    {
      "cell_type": "markdown",
      "metadata": {
        "id": "lhYJLqUUHlhV"
      },
      "source": [
        "### Check the most used 'start_port' for number_of_slaves > 200"
      ]
    },
    {
      "cell_type": "code",
      "metadata": {
        "id": "ES-eLhpaHlhV"
      },
      "source": [
        ""
      ],
      "execution_count": null,
      "outputs": []
    },
    {
      "cell_type": "markdown",
      "metadata": {
        "id": "GW44LbYwHlhY"
      },
      "source": [
        "### Check the most used 'voyage_pit_stop' for number_of_slaves > 200"
      ]
    },
    {
      "cell_type": "code",
      "metadata": {
        "id": "GMJGOq2iHlhY"
      },
      "source": [
        ""
      ],
      "execution_count": null,
      "outputs": []
    },
    {
      "cell_type": "markdown",
      "metadata": {
        "id": "RVVMQGubHlhb"
      },
      "source": [
        "### Check the most used 'End_Port' "
      ]
    },
    {
      "cell_type": "code",
      "metadata": {
        "id": "UMMIesEyHlhc",
        "scrolled": false
      },
      "source": [
        ""
      ],
      "execution_count": null,
      "outputs": []
    },
    {
      "cell_type": "markdown",
      "metadata": {
        "id": "_hntDtdsgzqd"
      },
      "source": [
        "# Conclusion"
      ]
    },
    {
      "cell_type": "markdown",
      "metadata": {
        "id": "NweDUhRVHlhe"
      },
      "source": [
        "## Resources"
      ]
    },
    {
      "cell_type": "markdown",
      "metadata": {
        "id": "VByUUKTiIYM-"
      },
      "source": [
        "# Appendix"
      ]
    },
    {
      "cell_type": "markdown",
      "metadata": {
        "id": "ObtE8-BHODkC"
      },
      "source": [
        "## Connecting to Your Google Drive\n"
      ]
    },
    {
      "cell_type": "code",
      "metadata": {
        "id": "_3xzPhI_ByD5"
      },
      "source": [
        "# Start by connecting google drive into google colab\n",
        "\n",
        "from google.colab import drive\n",
        "\n",
        "drive.mount('/content/gdrive')"
      ],
      "execution_count": null,
      "outputs": []
    },
    {
      "cell_type": "code",
      "metadata": {
        "id": "_epZFcuXNVRv"
      },
      "source": [
        "!ls \"/content/gdrive/My Drive/DigitalHistory\""
      ],
      "execution_count": null,
      "outputs": []
    },
    {
      "cell_type": "code",
      "metadata": {
        "id": "y6r-8UBGNueF"
      },
      "source": [
        "cd \"/content/gdrive/My Drive/DigitalHistory/tmp/trans-atlantic-slave-trade\""
      ],
      "execution_count": null,
      "outputs": []
    },
    {
      "cell_type": "code",
      "metadata": {
        "id": "Pp8mubdjVqY2"
      },
      "source": [
        "ls"
      ],
      "execution_count": null,
      "outputs": []
    },
    {
      "cell_type": "code",
      "metadata": {
        "id": "ZLhlkjd3Hlhr"
      },
      "source": [
        "### Extracting ZipFiles"
      ],
      "execution_count": null,
      "outputs": []
    },
    {
      "cell_type": "code",
      "metadata": {
        "id": "rzDr3KIkOJdy"
      },
      "source": [
        "\n",
        "import zipfile\n"
      ],
      "execution_count": null,
      "outputs": []
    },
    {
      "cell_type": "code",
      "metadata": {
        "id": "zkIDSJWUQFCV"
      },
      "source": [
        "file_location = 'data/trans-atlantic-slave-trade.csv.zip'\n",
        "\n",
        "zip_ref = zipfile.ZipFile(file_location,'r')\n",
        "zip_ref.extractall('data/tmp/trans-atlantic-slave-trade')\n",
        "zip_ref.close()"
      ],
      "execution_count": null,
      "outputs": []
    },
    {
      "cell_type": "markdown",
      "metadata": {
        "id": "TI9Zcwf5Hlh2"
      },
      "source": [
        "### Checking and Changing Column Types \n",
        "```df.dtypes``` and ```df.astype()```"
      ]
    },
    {
      "cell_type": "code",
      "metadata": {
        "id": "pGl1MUnOHlh3"
      },
      "source": [
        "df.dtypes"
      ],
      "execution_count": null,
      "outputs": []
    },
    {
      "cell_type": "code",
      "metadata": {
        "id": "JIG8wtR2Hlh6"
      },
      "source": [
        "df.year_of_arrival.astype(int)"
      ],
      "execution_count": null,
      "outputs": []
    },
    {
      "cell_type": "code",
      "metadata": {
        "id": "Z4Wl6kePHlh9"
      },
      "source": [
        "df.dtypes"
      ],
      "execution_count": null,
      "outputs": []
    },
    {
      "cell_type": "code",
      "metadata": {
        "id": "-V4Kbei5HliA"
      },
      "source": [
        "df.year_of_arrival = df.year_of_arrival.astype(int)"
      ],
      "execution_count": null,
      "outputs": []
    },
    {
      "cell_type": "code",
      "metadata": {
        "id": "fPgIGprYHliD"
      },
      "source": [
        "df.dtypes"
      ],
      "execution_count": null,
      "outputs": []
    },
    {
      "cell_type": "markdown",
      "metadata": {
        "id": "vL0gW74bHliI"
      },
      "source": [
        "**Extra**:\n",
        "```df.slaves_onboard = df.slaves_onboard.astype(int)```"
      ]
    },
    {
      "cell_type": "code",
      "metadata": {
        "id": "obBSXVY2HliI"
      },
      "source": [
        "df.slaves_onboard = df.slaves_onboard.astype(int)"
      ],
      "execution_count": null,
      "outputs": []
    },
    {
      "cell_type": "code",
      "metadata": {
        "id": "bmm_3kqnHliK"
      },
      "source": [
        "df.dtypes"
      ],
      "execution_count": null,
      "outputs": []
    },
    {
      "cell_type": "code",
      "metadata": {
        "id": "9dC_vb_KHliM"
      },
      "source": [
        "df"
      ],
      "execution_count": null,
      "outputs": []
    },
    {
      "cell_type": "markdown",
      "metadata": {
        "id": "s3AFqNpu2GJ4"
      },
      "source": [
        "### GeoTagging Locations"
      ]
    },
    {
      "cell_type": "code",
      "metadata": {
        "id": "lpBC6OsdEwl-"
      },
      "source": [
        "!pip install geopandas\n"
      ],
      "execution_count": null,
      "outputs": []
    },
    {
      "cell_type": "code",
      "metadata": {
        "id": "3N9KNSl-15ll"
      },
      "source": [
        "!pip install googlemaps"
      ],
      "execution_count": null,
      "outputs": []
    },
    {
      "cell_type": "code",
      "metadata": {
        "id": "0gYRsx8v2HfO"
      },
      "source": [
        "from googlemaps import Client as GoogleMaps\n",
        "import pandas as pd "
      ],
      "execution_count": null,
      "outputs": []
    },
    {
      "cell_type": "code",
      "metadata": {
        "id": "GYqCDWTt2KKz"
      },
      "source": [
        "gmaps = GoogleMaps('')# ENTER KEY"
      ],
      "execution_count": null,
      "outputs": []
    },
    {
      "cell_type": "code",
      "metadata": {
        "id": "bLLkI_sD9hzv"
      },
      "source": [
        "df"
      ],
      "execution_count": null,
      "outputs": []
    },
    {
      "cell_type": "code",
      "metadata": {
        "id": "AKnGxe_w2Lzw"
      },
      "source": [
        "addresses = df.filter(['Voyage itinerary imputed port where began (ptdepimp) place'], axis=1)\n",
        "addresses.head()"
      ],
      "execution_count": null,
      "outputs": []
    },
    {
      "cell_type": "code",
      "metadata": {
        "id": "TVEZc-Qs2PbV"
      },
      "source": [
        "addresses['long'] = \"\"\n",
        "addresses['lat'] = \"\""
      ],
      "execution_count": null,
      "outputs": []
    },
    {
      "cell_type": "code",
      "metadata": {
        "id": "sBJppNIY9ZBP"
      },
      "source": [
        "addresses"
      ],
      "execution_count": null,
      "outputs": []
    }
  ]
}