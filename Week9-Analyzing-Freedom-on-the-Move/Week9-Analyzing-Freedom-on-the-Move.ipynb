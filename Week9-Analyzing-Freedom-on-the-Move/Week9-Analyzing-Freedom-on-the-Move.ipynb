{
  "nbformat": 4,
  "nbformat_minor": 0,
  "metadata": {
    "kernelspec": {
      "display_name": "Python 3",
      "language": "python",
      "name": "python3"
    },
    "language_info": {
      "codemirror_mode": {
        "name": "ipython",
        "version": 3
      },
      "file_extension": ".py",
      "mimetype": "text/x-python",
      "name": "python",
      "nbconvert_exporter": "python",
      "pygments_lexer": "ipython3",
      "version": "3.8.5"
    },
    "colab": {
      "name": "Week9-Analyzing-Freedom-on-the-Move.ipynb",
      "provenance": [],
      "include_colab_link": true
    }
  },
  "cells": [
    {
      "cell_type": "markdown",
      "metadata": {
        "id": "view-in-github",
        "colab_type": "text"
      },
      "source": [
        "<a href=\"https://colab.research.google.com/github/bitprj/DigitalHistory/blob/Shayan/Week9-Analyzing-Freedom-on-the-Move/Week9-Analyzing-Freedom-on-the-Move.ipynb\" target=\"_parent\"><img src=\"https://colab.research.google.com/assets/colab-badge.svg\" alt=\"Open In Colab\"/></a>"
      ]
    },
    {
      "cell_type": "markdown",
      "metadata": {
        "id": "P0ZwDeAxlUNF"
      },
      "source": [
        "# <div align=\"center\">Freedom on the Move</div>"
      ]
    },
    {
      "cell_type": "markdown",
      "metadata": {
        "id": "RE3H5y7yIRHZ"
      },
      "source": [
        "# Recap\n"
      ]
    },
    {
      "cell_type": "markdown",
      "metadata": {
        "id": "KaDn0K67wuzJ"
      },
      "source": [
        "By this time, you should have an understanding of how to implement the following:\n",
        "- \n",
        "- \n",
        "- \n",
        "- \n",
        "- \n",
        "- "
      ]
    },
    {
      "cell_type": "markdown",
      "metadata": {
        "id": "4uvgAANOIKwm"
      },
      "source": [
        "# About the Dataset\n",
        "\n",
        "\n",
        "\n"
      ]
    },
    {
      "cell_type": "markdown",
      "metadata": {
        "id": "mdUGc-qWwzv1"
      },
      "source": [
        "### Freedom on the Move\n",
        "<p align=\"center\">\n",
        "<img src=\"https://freedomonthemove.org/images/freedom.png\" width=\"200\"> \n",
        "</p>\n",
        "\n",
        "\n",
        "### Facts about the dataset\n",
        "\n",
        "- Freedom on the Move is a database of fugitives from North American slavery.\n",
        "- They are compiling thousands of stories of resistance that have never been accessible in one place.\n",
        "\n",
        "- Research driven by us.\n",
        "- A database full of possibilities.\n",
        "\n",
        "\n",
        "You can read more about the dataset [here](https://freedomonthemove.org/)."
      ]
    },
    {
      "cell_type": "markdown",
      "metadata": {
        "id": "fPyizd_JIHPU"
      },
      "source": [
        "# Practicum and Methodology\n"
      ]
    },
    {
      "cell_type": "markdown",
      "metadata": {
        "id": "Aljt8kKWxCRe"
      },
      "source": [
        ""
      ]
    },
    {
      "cell_type": "markdown",
      "metadata": {
        "id": "Tl_6Scu8IE7Q"
      },
      "source": [
        "\n",
        "# Grading\n",
        "\n",
        "This exercise has a total of 27 questions. Every question has 1 point. Some questions might have multiple parts but the weight of the question is the same.\n",
        "\n",
        "In order to work on the questions in this Practicum and submit them for grading, you'll need to run the code block below. It will ask for your student ID number and then create a folder that will house your answers for each question. At the very end of the notebook, there is a code section that will download this folder as a zip file to your computer. This zip file will be your final submission."
      ]
    },
    {
      "cell_type": "code",
      "metadata": {
        "id": "HmZvJAZIpGf6"
      },
      "source": [
        "import os\n",
        "import shutil\n",
        "\n",
        "!rm -rf sample_data\n",
        "\n",
        "student_id = input('Please Enter your Student ID: ') # Enter Student ID.\n",
        "\n",
        "while len(student_id) != 9:\n",
        " student_id = int('Please Enter your Student ID: ')  \n",
        "  \n",
        "folder_location = f'{student_id}/Week_Six/Practicum'\n",
        "if not os.path.exists(folder_location):\n",
        "  os.makedirs(folder_location)\n",
        "  print('Successfully Created Directory, Lets get started')\n",
        "else:\n",
        "  print('Directory Already Exists')"
      ],
      "execution_count": null,
      "outputs": []
    },
    {
      "cell_type": "markdown",
      "metadata": {
        "id": "3b7Blkm7lUNd"
      },
      "source": [
        "## Load Libraries"
      ]
    },
    {
      "cell_type": "code",
      "metadata": {
        "id": "sw5dkpHOlUNg"
      },
      "source": [
        "import matplotlib.pyplot as plt\n",
        "import pandas as pd\n",
        "import seaborn as sns\n",
        "#import numpy as np"
      ],
      "execution_count": 1,
      "outputs": []
    },
    {
      "cell_type": "markdown",
      "metadata": {
        "id": "tCjP2xP_lUNp"
      },
      "source": [
        "## Load Dataset"
      ]
    },
    {
      "cell_type": "code",
      "metadata": {
        "id": "Uoe4DsKxlUNq"
      },
      "source": [
        "url = 'https://bit.ly/3kVBMnZ'\n",
        "\n",
        "fotm_dataset = pd.read_csv(url, encoding = \"ISO-8859-1\")"
      ],
      "execution_count": 2,
      "outputs": []
    },
    {
      "cell_type": "markdown",
      "metadata": {
        "id": "yw4cT8LClUNx"
      },
      "source": [
        "## Using `Pandas` to extract basic information and minor adjusments."
      ]
    },
    {
      "cell_type": "markdown",
      "metadata": {
        "id": "2MXk9TaYwHXL"
      },
      "source": [
        "### Print the names of all the columns"
      ]
    },
    {
      "cell_type": "code",
      "metadata": {
        "id": "zKB_6v4TlUNy",
        "colab": {
          "base_uri": "https://localhost:8080/"
        },
        "outputId": "7c381748-0e86-4688-a936-28bff51fe2dc"
      },
      "source": [
        "fotm_dataset.columns # INSERT CODE HERE"
      ],
      "execution_count": 3,
      "outputs": [
        {
          "output_type": "execute_result",
          "data": {
            "text/plain": [
              "Index(['advertisement.publication_date', 'advertisement.complete',\n",
              "       'advertiser.name', 'enslaved_person.gender',\n",
              "       'enslaved_person_languages.does_speak', 'enslaver.fullname',\n",
              "       'enslaver.gender', 'enslaver.type', 'newspaper.name',\n",
              "       'runaway.ran_before', 'runaway.profess_freedom',\n",
              "       'runaway_enslavers.enslaver_status', 'runaway_reward.amount',\n",
              "       'newspaper_location.city', 'newspaper_location.state',\n",
              "       'enslaver_location.city', 'enslaver_location.state', 'advertisement.id',\n",
              "       'advertiser.id', 'newspaper.id', 'newspaper_location.id',\n",
              "       'runaway_event.id', 'runaway.id', 'enslaved_person.id',\n",
              "       'enslaved_person_languages.id', 'runaway_enslavers.id', 'enslaver.id',\n",
              "       'enslaver_location.id', 'runaway_reward.id'],\n",
              "      dtype='object')"
            ]
          },
          "metadata": {
            "tags": []
          },
          "execution_count": 3
        }
      ]
    },
    {
      "cell_type": "code",
      "metadata": {
        "id": "9-dPG7Wr44Yb",
        "outputId": "1df6b0e1-9e91-4f4f-8119-c1e13d237746",
        "colab": {
          "base_uri": "https://localhost:8080/",
          "height": 417
        }
      },
      "source": [
        "fotm_dataset.head()"
      ],
      "execution_count": 4,
      "outputs": [
        {
          "output_type": "execute_result",
          "data": {
            "text/html": [
              "<div>\n",
              "<style scoped>\n",
              "    .dataframe tbody tr th:only-of-type {\n",
              "        vertical-align: middle;\n",
              "    }\n",
              "\n",
              "    .dataframe tbody tr th {\n",
              "        vertical-align: top;\n",
              "    }\n",
              "\n",
              "    .dataframe thead th {\n",
              "        text-align: right;\n",
              "    }\n",
              "</style>\n",
              "<table border=\"1\" class=\"dataframe\">\n",
              "  <thead>\n",
              "    <tr style=\"text-align: right;\">\n",
              "      <th></th>\n",
              "      <th>advertisement.publication_date</th>\n",
              "      <th>advertisement.complete</th>\n",
              "      <th>advertiser.name</th>\n",
              "      <th>enslaved_person.gender</th>\n",
              "      <th>enslaved_person_languages.does_speak</th>\n",
              "      <th>enslaver.fullname</th>\n",
              "      <th>enslaver.gender</th>\n",
              "      <th>enslaver.type</th>\n",
              "      <th>newspaper.name</th>\n",
              "      <th>runaway.ran_before</th>\n",
              "      <th>runaway.profess_freedom</th>\n",
              "      <th>runaway_enslavers.enslaver_status</th>\n",
              "      <th>runaway_reward.amount</th>\n",
              "      <th>newspaper_location.city</th>\n",
              "      <th>newspaper_location.state</th>\n",
              "      <th>enslaver_location.city</th>\n",
              "      <th>enslaver_location.state</th>\n",
              "      <th>advertisement.id</th>\n",
              "      <th>advertiser.id</th>\n",
              "      <th>newspaper.id</th>\n",
              "      <th>newspaper_location.id</th>\n",
              "      <th>runaway_event.id</th>\n",
              "      <th>runaway.id</th>\n",
              "      <th>enslaved_person.id</th>\n",
              "      <th>enslaved_person_languages.id</th>\n",
              "      <th>runaway_enslavers.id</th>\n",
              "      <th>enslaver.id</th>\n",
              "      <th>enslaver_location.id</th>\n",
              "      <th>runaway_reward.id</th>\n",
              "    </tr>\n",
              "  </thead>\n",
              "  <tbody>\n",
              "    <tr>\n",
              "      <th>0</th>\n",
              "      <td>1829-12-19</td>\n",
              "      <td>True</td>\n",
              "      <td>NaN</td>\n",
              "      <td>FEMALE</td>\n",
              "      <td>NaN</td>\n",
              "      <td>Vance</td>\n",
              "      <td>OTHER</td>\n",
              "      <td>estate</td>\n",
              "      <td>Charleston Mercury</td>\n",
              "      <td>NaN</td>\n",
              "      <td>NaN</td>\n",
              "      <td>NaN</td>\n",
              "      <td>20.0</td>\n",
              "      <td>Charleston</td>\n",
              "      <td>US-SC</td>\n",
              "      <td>Charleston</td>\n",
              "      <td>US-SC</td>\n",
              "      <td>00009a54-8ed0-44a3-8983-7534c5001172</td>\n",
              "      <td>NaN</td>\n",
              "      <td>12d38785-dfdf-4dbc-a9c6-3ccb0e8d6448</td>\n",
              "      <td>0afd2704-9c29-4f31-9ffe-3627c61e7958</td>\n",
              "      <td>6bb670ae-7ec5-41e1-95b4-d4421015b17f</td>\n",
              "      <td>7c1d52e1-2b99-4372-a7c2-012430871cf1</td>\n",
              "      <td>664075ec-2c11-474e-b1ef-8ed120643658</td>\n",
              "      <td>NaN</td>\n",
              "      <td>dbe0cc3f-0898-4eaf-b702-8be2143d970a</td>\n",
              "      <td>577eef00-d0db-463d-8f5a-ca03282733f4</td>\n",
              "      <td>05a63752-e272-48f6-9050-72590c5d7ac9</td>\n",
              "      <td>30efbcb3-23c1-48f5-a349-c34daea5d1fb</td>\n",
              "    </tr>\n",
              "    <tr>\n",
              "      <th>1</th>\n",
              "      <td>1829-12-19</td>\n",
              "      <td>True</td>\n",
              "      <td>NaN</td>\n",
              "      <td>FEMALE</td>\n",
              "      <td>NaN</td>\n",
              "      <td>Vance</td>\n",
              "      <td>OTHER</td>\n",
              "      <td>estate</td>\n",
              "      <td>Charleston Mercury</td>\n",
              "      <td>NaN</td>\n",
              "      <td>NaN</td>\n",
              "      <td>NaN</td>\n",
              "      <td>10.0</td>\n",
              "      <td>Charleston</td>\n",
              "      <td>US-SC</td>\n",
              "      <td>Charleston</td>\n",
              "      <td>US-SC</td>\n",
              "      <td>00009a54-8ed0-44a3-8983-7534c5001172</td>\n",
              "      <td>NaN</td>\n",
              "      <td>12d38785-dfdf-4dbc-a9c6-3ccb0e8d6448</td>\n",
              "      <td>0afd2704-9c29-4f31-9ffe-3627c61e7958</td>\n",
              "      <td>6bb670ae-7ec5-41e1-95b4-d4421015b17f</td>\n",
              "      <td>7c1d52e1-2b99-4372-a7c2-012430871cf1</td>\n",
              "      <td>664075ec-2c11-474e-b1ef-8ed120643658</td>\n",
              "      <td>NaN</td>\n",
              "      <td>dbe0cc3f-0898-4eaf-b702-8be2143d970a</td>\n",
              "      <td>577eef00-d0db-463d-8f5a-ca03282733f4</td>\n",
              "      <td>05a63752-e272-48f6-9050-72590c5d7ac9</td>\n",
              "      <td>0d52b7d0-7bdd-48c6-acb0-ff3db30a16bb</td>\n",
              "    </tr>\n",
              "    <tr>\n",
              "      <th>2</th>\n",
              "      <td>1829-12-19</td>\n",
              "      <td>True</td>\n",
              "      <td>NaN</td>\n",
              "      <td>FEMALE</td>\n",
              "      <td>NaN</td>\n",
              "      <td>WM. H. Smith</td>\n",
              "      <td>MALE</td>\n",
              "      <td>current</td>\n",
              "      <td>Charleston Mercury</td>\n",
              "      <td>NaN</td>\n",
              "      <td>NaN</td>\n",
              "      <td>NaN</td>\n",
              "      <td>20.0</td>\n",
              "      <td>Charleston</td>\n",
              "      <td>US-SC</td>\n",
              "      <td>Charleston</td>\n",
              "      <td>US-SC</td>\n",
              "      <td>00009a54-8ed0-44a3-8983-7534c5001172</td>\n",
              "      <td>NaN</td>\n",
              "      <td>12d38785-dfdf-4dbc-a9c6-3ccb0e8d6448</td>\n",
              "      <td>0afd2704-9c29-4f31-9ffe-3627c61e7958</td>\n",
              "      <td>6bb670ae-7ec5-41e1-95b4-d4421015b17f</td>\n",
              "      <td>7c1d52e1-2b99-4372-a7c2-012430871cf1</td>\n",
              "      <td>664075ec-2c11-474e-b1ef-8ed120643658</td>\n",
              "      <td>NaN</td>\n",
              "      <td>d7796415-33de-4725-b41b-451b47ba7266</td>\n",
              "      <td>ea1637f3-cfd3-4aef-be71-3e090e8526e1</td>\n",
              "      <td>b7ef3786-2260-4cd1-afcf-14776d07af90</td>\n",
              "      <td>30efbcb3-23c1-48f5-a349-c34daea5d1fb</td>\n",
              "    </tr>\n",
              "    <tr>\n",
              "      <th>3</th>\n",
              "      <td>1829-12-19</td>\n",
              "      <td>True</td>\n",
              "      <td>NaN</td>\n",
              "      <td>FEMALE</td>\n",
              "      <td>NaN</td>\n",
              "      <td>WM. H. Smith</td>\n",
              "      <td>MALE</td>\n",
              "      <td>current</td>\n",
              "      <td>Charleston Mercury</td>\n",
              "      <td>NaN</td>\n",
              "      <td>NaN</td>\n",
              "      <td>NaN</td>\n",
              "      <td>10.0</td>\n",
              "      <td>Charleston</td>\n",
              "      <td>US-SC</td>\n",
              "      <td>Charleston</td>\n",
              "      <td>US-SC</td>\n",
              "      <td>00009a54-8ed0-44a3-8983-7534c5001172</td>\n",
              "      <td>NaN</td>\n",
              "      <td>12d38785-dfdf-4dbc-a9c6-3ccb0e8d6448</td>\n",
              "      <td>0afd2704-9c29-4f31-9ffe-3627c61e7958</td>\n",
              "      <td>6bb670ae-7ec5-41e1-95b4-d4421015b17f</td>\n",
              "      <td>7c1d52e1-2b99-4372-a7c2-012430871cf1</td>\n",
              "      <td>664075ec-2c11-474e-b1ef-8ed120643658</td>\n",
              "      <td>NaN</td>\n",
              "      <td>d7796415-33de-4725-b41b-451b47ba7266</td>\n",
              "      <td>ea1637f3-cfd3-4aef-be71-3e090e8526e1</td>\n",
              "      <td>b7ef3786-2260-4cd1-afcf-14776d07af90</td>\n",
              "      <td>0d52b7d0-7bdd-48c6-acb0-ff3db30a16bb</td>\n",
              "    </tr>\n",
              "    <tr>\n",
              "      <th>4</th>\n",
              "      <td>1830-01-02</td>\n",
              "      <td>True</td>\n",
              "      <td>Wm. B. Roberts, Executor</td>\n",
              "      <td>MALE</td>\n",
              "      <td>NaN</td>\n",
              "      <td>Rev. Henry Holmes</td>\n",
              "      <td>MALE</td>\n",
              "      <td>deceased</td>\n",
              "      <td>Edenton Gazette And North Carolina General Adv...</td>\n",
              "      <td>NaN</td>\n",
              "      <td>NaN</td>\n",
              "      <td>NaN</td>\n",
              "      <td>15.0</td>\n",
              "      <td>Edenton</td>\n",
              "      <td>US-NC</td>\n",
              "      <td>NaN</td>\n",
              "      <td>US-NC</td>\n",
              "      <td>0001aa96-153e-49e9-9cc1-78ff29cad12f</td>\n",
              "      <td>be248ed4-c224-448a-9db2-23204e05392d</td>\n",
              "      <td>ce244760-13c7-4c98-bfc5-0b6b8cb454f4</td>\n",
              "      <td>dd33c07c-80c1-4d46-b25b-1daf33b57a79</td>\n",
              "      <td>f6f30219-bf53-4835-b90b-68d587aef3ef</td>\n",
              "      <td>cf69ceec-0b4b-4b5c-98bf-bffab1e488c1</td>\n",
              "      <td>bb232988-8487-470f-bc62-d12aa8665d8d</td>\n",
              "      <td>NaN</td>\n",
              "      <td>3f39bcb6-873e-41ed-b8a2-5546d2117e22</td>\n",
              "      <td>ecb5b127-f7f4-4e7c-88fd-b325524a6853</td>\n",
              "      <td>d3cbbc85-a3df-4c44-b689-71693643a223</td>\n",
              "      <td>375fc31d-c80b-4fe5-a95d-728c1a0f96bf</td>\n",
              "    </tr>\n",
              "  </tbody>\n",
              "</table>\n",
              "</div>"
            ],
            "text/plain": [
              "  advertisement.publication_date  ...                     runaway_reward.id\n",
              "0                     1829-12-19  ...  30efbcb3-23c1-48f5-a349-c34daea5d1fb\n",
              "1                     1829-12-19  ...  0d52b7d0-7bdd-48c6-acb0-ff3db30a16bb\n",
              "2                     1829-12-19  ...  30efbcb3-23c1-48f5-a349-c34daea5d1fb\n",
              "3                     1829-12-19  ...  0d52b7d0-7bdd-48c6-acb0-ff3db30a16bb\n",
              "4                     1830-01-02  ...  375fc31d-c80b-4fe5-a95d-728c1a0f96bf\n",
              "\n",
              "[5 rows x 29 columns]"
            ]
          },
          "metadata": {
            "tags": []
          },
          "execution_count": 4
        }
      ]
    },
    {
      "cell_type": "code",
      "metadata": {
        "id": "9kmvxsIC47xg",
        "outputId": "08c6e9a2-b145-4410-810a-aa2802f4f028",
        "colab": {
          "base_uri": "https://localhost:8080/",
          "height": 365
        }
      },
      "source": [
        "fotm_dataset.tail()"
      ],
      "execution_count": 5,
      "outputs": [
        {
          "output_type": "execute_result",
          "data": {
            "text/html": [
              "<div>\n",
              "<style scoped>\n",
              "    .dataframe tbody tr th:only-of-type {\n",
              "        vertical-align: middle;\n",
              "    }\n",
              "\n",
              "    .dataframe tbody tr th {\n",
              "        vertical-align: top;\n",
              "    }\n",
              "\n",
              "    .dataframe thead th {\n",
              "        text-align: right;\n",
              "    }\n",
              "</style>\n",
              "<table border=\"1\" class=\"dataframe\">\n",
              "  <thead>\n",
              "    <tr style=\"text-align: right;\">\n",
              "      <th></th>\n",
              "      <th>advertisement.publication_date</th>\n",
              "      <th>advertisement.complete</th>\n",
              "      <th>advertiser.name</th>\n",
              "      <th>enslaved_person.gender</th>\n",
              "      <th>enslaved_person_languages.does_speak</th>\n",
              "      <th>enslaver.fullname</th>\n",
              "      <th>enslaver.gender</th>\n",
              "      <th>enslaver.type</th>\n",
              "      <th>newspaper.name</th>\n",
              "      <th>runaway.ran_before</th>\n",
              "      <th>runaway.profess_freedom</th>\n",
              "      <th>runaway_enslavers.enslaver_status</th>\n",
              "      <th>runaway_reward.amount</th>\n",
              "      <th>newspaper_location.city</th>\n",
              "      <th>newspaper_location.state</th>\n",
              "      <th>enslaver_location.city</th>\n",
              "      <th>enslaver_location.state</th>\n",
              "      <th>advertisement.id</th>\n",
              "      <th>advertiser.id</th>\n",
              "      <th>newspaper.id</th>\n",
              "      <th>newspaper_location.id</th>\n",
              "      <th>runaway_event.id</th>\n",
              "      <th>runaway.id</th>\n",
              "      <th>enslaved_person.id</th>\n",
              "      <th>enslaved_person_languages.id</th>\n",
              "      <th>runaway_enslavers.id</th>\n",
              "      <th>enslaver.id</th>\n",
              "      <th>enslaver_location.id</th>\n",
              "      <th>runaway_reward.id</th>\n",
              "    </tr>\n",
              "  </thead>\n",
              "  <tbody>\n",
              "    <tr>\n",
              "      <th>9064</th>\n",
              "      <td>1844-01-12</td>\n",
              "      <td>False</td>\n",
              "      <td>Lucien Labranche</td>\n",
              "      <td>MALE</td>\n",
              "      <td>NaN</td>\n",
              "      <td>NaN</td>\n",
              "      <td>NaN</td>\n",
              "      <td>NaN</td>\n",
              "      <td>The Daily Picayune</td>\n",
              "      <td>NaN</td>\n",
              "      <td>NaN</td>\n",
              "      <td>NaN</td>\n",
              "      <td>NaN</td>\n",
              "      <td>New Orleans</td>\n",
              "      <td>US-LA</td>\n",
              "      <td>NaN</td>\n",
              "      <td>NaN</td>\n",
              "      <td>2f29cbd6-d1a7-4c10-8443-7e2c10713b4b</td>\n",
              "      <td>0fc031d2-7770-4f65-b1c0-06797dc4a9e3</td>\n",
              "      <td>c5993adc-4bee-4c12-a104-9bf7119308af</td>\n",
              "      <td>026f5472-34b7-4c69-aff8-9ae5cd62e07a</td>\n",
              "      <td>2f6dc910-1050-49dc-844f-0c8e043c75fd</td>\n",
              "      <td>1d83e9fa-3963-44a7-a53f-c8d9515ab2bb</td>\n",
              "      <td>a92afc5b-ea7b-4f6b-9e90-a5f9a645bd3a</td>\n",
              "      <td>NaN</td>\n",
              "      <td>NaN</td>\n",
              "      <td>NaN</td>\n",
              "      <td>NaN</td>\n",
              "      <td>NaN</td>\n",
              "    </tr>\n",
              "    <tr>\n",
              "      <th>9065</th>\n",
              "      <td>1825-08-03</td>\n",
              "      <td>False</td>\n",
              "      <td>NaN</td>\n",
              "      <td>NOT_PROVIDED</td>\n",
              "      <td>NaN</td>\n",
              "      <td>Fred Fraser Esq of Ashepoo</td>\n",
              "      <td>MALE</td>\n",
              "      <td>NOT_PROVIDED</td>\n",
              "      <td>Charleston Courier</td>\n",
              "      <td>NaN</td>\n",
              "      <td>NaN</td>\n",
              "      <td>NaN</td>\n",
              "      <td>20.0</td>\n",
              "      <td>Charleston</td>\n",
              "      <td>US-SC</td>\n",
              "      <td>NaN</td>\n",
              "      <td>NaN</td>\n",
              "      <td>2f2baffe-b52e-41c6-80f8-29d46c7a7675</td>\n",
              "      <td>NaN</td>\n",
              "      <td>7d2db9a0-67dc-4356-ad21-02fbd93cbb10</td>\n",
              "      <td>0afd2704-9c29-4f31-9ffe-3627c61e7958</td>\n",
              "      <td>fbf32ec3-f2b2-4a37-8dec-285a7c4f5dff</td>\n",
              "      <td>837adcad-b137-4541-bcdf-05d6fed53e43</td>\n",
              "      <td>a747822e-1534-411a-b196-b0c7e1a09309</td>\n",
              "      <td>NaN</td>\n",
              "      <td>983b23d6-c7a9-4c85-a3b7-6113d241757d</td>\n",
              "      <td>f79d6080-eb35-4cab-ada9-4f46c3ce6089</td>\n",
              "      <td>NaN</td>\n",
              "      <td>4f9f226d-ddad-4c5d-acbc-310dedc80cda</td>\n",
              "    </tr>\n",
              "    <tr>\n",
              "      <th>9066</th>\n",
              "      <td>1823-11-03</td>\n",
              "      <td>False</td>\n",
              "      <td>NaN</td>\n",
              "      <td>NaN</td>\n",
              "      <td>NaN</td>\n",
              "      <td>NaN</td>\n",
              "      <td>NaN</td>\n",
              "      <td>NaN</td>\n",
              "      <td>Charleston Courier</td>\n",
              "      <td>NaN</td>\n",
              "      <td>NaN</td>\n",
              "      <td>NaN</td>\n",
              "      <td>NaN</td>\n",
              "      <td>Charleston</td>\n",
              "      <td>US-SC</td>\n",
              "      <td>NaN</td>\n",
              "      <td>NaN</td>\n",
              "      <td>2f2ebf96-6c51-47a9-bbd0-31af47a9a92b</td>\n",
              "      <td>NaN</td>\n",
              "      <td>7d2db9a0-67dc-4356-ad21-02fbd93cbb10</td>\n",
              "      <td>0afd2704-9c29-4f31-9ffe-3627c61e7958</td>\n",
              "      <td>2aa79a98-8ce3-4720-a3d0-10b1707d41c6</td>\n",
              "      <td>2bfdf04f-2098-4a28-a746-a5db15da6b0b</td>\n",
              "      <td>277f0ea0-a0d5-4e3b-b6a0-d949134b7a8a</td>\n",
              "      <td>NaN</td>\n",
              "      <td>NaN</td>\n",
              "      <td>NaN</td>\n",
              "      <td>NaN</td>\n",
              "      <td>NaN</td>\n",
              "    </tr>\n",
              "    <tr>\n",
              "      <th>9067</th>\n",
              "      <td>1844-01-02</td>\n",
              "      <td>False</td>\n",
              "      <td>NaN</td>\n",
              "      <td>NaN</td>\n",
              "      <td>NaN</td>\n",
              "      <td>NaN</td>\n",
              "      <td>NaN</td>\n",
              "      <td>NaN</td>\n",
              "      <td>Milledgeville Federal Union</td>\n",
              "      <td>NaN</td>\n",
              "      <td>NaN</td>\n",
              "      <td>NaN</td>\n",
              "      <td>NaN</td>\n",
              "      <td>Milledgeville</td>\n",
              "      <td>US-GA</td>\n",
              "      <td>NaN</td>\n",
              "      <td>NaN</td>\n",
              "      <td>2f307717-7b4d-4562-a2dc-fc199b8344b3</td>\n",
              "      <td>NaN</td>\n",
              "      <td>2b017d87-53a2-43b3-b27d-bbc507ea340b</td>\n",
              "      <td>507b5968-86b7-476e-a83d-a4307622ed57</td>\n",
              "      <td>NaN</td>\n",
              "      <td>NaN</td>\n",
              "      <td>NaN</td>\n",
              "      <td>NaN</td>\n",
              "      <td>NaN</td>\n",
              "      <td>NaN</td>\n",
              "      <td>NaN</td>\n",
              "      <td>NaN</td>\n",
              "    </tr>\n",
              "    <tr>\n",
              "      <th>9068</th>\n",
              "      <td>1737-04-28</td>\n",
              "      <td>False</td>\n",
              "      <td>NaN</td>\n",
              "      <td>NaN</td>\n",
              "      <td>NaN</td>\n",
              "      <td>NaN</td>\n",
              "      <td>NaN</td>\n",
              "      <td>NaN</td>\n",
              "      <td>The Boston News-Letter</td>\n",
              "      <td>NaN</td>\n",
              "      <td>NaN</td>\n",
              "      <td>NaN</td>\n",
              "      <td>NaN</td>\n",
              "      <td></td>\n",
              "      <td>US-MA</td>\n",
              "      <td>NaN</td>\n",
              "      <td>NaN</td>\n",
              "      <td>2f320a2b-c49b-4155-8f68-0d8cbda29818</td>\n",
              "      <td>NaN</td>\n",
              "      <td>bbc3d8c7-0279-4967-8523-5691b539e902</td>\n",
              "      <td>3e8eac54-91e7-4f3f-ab9e-3bf2905eefe5</td>\n",
              "      <td>NaN</td>\n",
              "      <td>NaN</td>\n",
              "      <td>NaN</td>\n",
              "      <td>NaN</td>\n",
              "      <td>NaN</td>\n",
              "      <td>NaN</td>\n",
              "      <td>NaN</td>\n",
              "      <td>NaN</td>\n",
              "    </tr>\n",
              "  </tbody>\n",
              "</table>\n",
              "</div>"
            ],
            "text/plain": [
              "     advertisement.publication_date  ...                     runaway_reward.id\n",
              "9064                     1844-01-12  ...                                   NaN\n",
              "9065                     1825-08-03  ...  4f9f226d-ddad-4c5d-acbc-310dedc80cda\n",
              "9066                     1823-11-03  ...                                   NaN\n",
              "9067                     1844-01-02  ...                                   NaN\n",
              "9068                     1737-04-28  ...                                   NaN\n",
              "\n",
              "[5 rows x 29 columns]"
            ]
          },
          "metadata": {
            "tags": []
          },
          "execution_count": 5
        }
      ]
    },
    {
      "cell_type": "code",
      "metadata": {
        "id": "EhoMLGaRlUN2",
        "outputId": "e4e10469-0d0d-41cb-d783-df99d6fcf74e",
        "colab": {
          "base_uri": "https://localhost:8080/"
        }
      },
      "source": [
        "fotm_dataset.info()"
      ],
      "execution_count": 6,
      "outputs": [
        {
          "output_type": "stream",
          "text": [
            "<class 'pandas.core.frame.DataFrame'>\n",
            "RangeIndex: 9069 entries, 0 to 9068\n",
            "Data columns (total 29 columns):\n",
            " #   Column                                Non-Null Count  Dtype  \n",
            "---  ------                                --------------  -----  \n",
            " 0   advertisement.publication_date        9069 non-null   object \n",
            " 1   advertisement.complete                9069 non-null   bool   \n",
            " 2   advertiser.name                       2549 non-null   object \n",
            " 3   enslaved_person.gender                7525 non-null   object \n",
            " 4   enslaved_person_languages.does_speak  1456 non-null   object \n",
            " 5   enslaver.fullname                     6886 non-null   object \n",
            " 6   enslaver.gender                       6938 non-null   object \n",
            " 7   enslaver.type                         6762 non-null   object \n",
            " 8   newspaper.name                        9069 non-null   object \n",
            " 9   runaway.ran_before                    391 non-null    object \n",
            " 10  runaway.profess_freedom               478 non-null    object \n",
            " 11  runaway_enslavers.enslaver_status     0 non-null      float64\n",
            " 12  runaway_reward.amount                 5332 non-null   float64\n",
            " 13  newspaper_location.city               8959 non-null   object \n",
            " 14  newspaper_location.state              9069 non-null   object \n",
            " 15  enslaver_location.city                3442 non-null   object \n",
            " 16  enslaver_location.state               4980 non-null   object \n",
            " 17  advertisement.id                      9069 non-null   object \n",
            " 18  advertiser.id                         2552 non-null   object \n",
            " 19  newspaper.id                          9069 non-null   object \n",
            " 20  newspaper_location.id                 9069 non-null   object \n",
            " 21  runaway_event.id                      7817 non-null   object \n",
            " 22  runaway.id                            7811 non-null   object \n",
            " 23  enslaved_person.id                    7811 non-null   object \n",
            " 24  enslaved_person_languages.id          1456 non-null   object \n",
            " 25  runaway_enslavers.id                  7109 non-null   object \n",
            " 26  enslaver.id                           7109 non-null   object \n",
            " 27  enslaver_location.id                  5515 non-null   object \n",
            " 28  runaway_reward.id                     5332 non-null   object \n",
            "dtypes: bool(1), float64(2), object(26)\n",
            "memory usage: 1.9+ MB\n"
          ],
          "name": "stdout"
        }
      ]
    },
    {
      "cell_type": "code",
      "metadata": {
        "id": "JHDbDdp-lUN9",
        "outputId": "2afef38e-7286-4dd2-ff08-8c3881c54b66",
        "colab": {
          "base_uri": "https://localhost:8080/",
          "height": 300
        }
      },
      "source": [
        "fotm_dataset.describe()\n",
        "\n",
        "# Try this\n",
        "#fotm_dataset.describe(include='all')"
      ],
      "execution_count": 7,
      "outputs": [
        {
          "output_type": "execute_result",
          "data": {
            "text/html": [
              "<div>\n",
              "<style scoped>\n",
              "    .dataframe tbody tr th:only-of-type {\n",
              "        vertical-align: middle;\n",
              "    }\n",
              "\n",
              "    .dataframe tbody tr th {\n",
              "        vertical-align: top;\n",
              "    }\n",
              "\n",
              "    .dataframe thead th {\n",
              "        text-align: right;\n",
              "    }\n",
              "</style>\n",
              "<table border=\"1\" class=\"dataframe\">\n",
              "  <thead>\n",
              "    <tr style=\"text-align: right;\">\n",
              "      <th></th>\n",
              "      <th>runaway_enslavers.enslaver_status</th>\n",
              "      <th>runaway_reward.amount</th>\n",
              "    </tr>\n",
              "  </thead>\n",
              "  <tbody>\n",
              "    <tr>\n",
              "      <th>count</th>\n",
              "      <td>0.0</td>\n",
              "      <td>5332.000000</td>\n",
              "    </tr>\n",
              "    <tr>\n",
              "      <th>mean</th>\n",
              "      <td>NaN</td>\n",
              "      <td>42.365154</td>\n",
              "    </tr>\n",
              "    <tr>\n",
              "      <th>std</th>\n",
              "      <td>NaN</td>\n",
              "      <td>155.161401</td>\n",
              "    </tr>\n",
              "    <tr>\n",
              "      <th>min</th>\n",
              "      <td>NaN</td>\n",
              "      <td>1.000000</td>\n",
              "    </tr>\n",
              "    <tr>\n",
              "      <th>25%</th>\n",
              "      <td>NaN</td>\n",
              "      <td>10.000000</td>\n",
              "    </tr>\n",
              "    <tr>\n",
              "      <th>50%</th>\n",
              "      <td>NaN</td>\n",
              "      <td>20.000000</td>\n",
              "    </tr>\n",
              "    <tr>\n",
              "      <th>75%</th>\n",
              "      <td>NaN</td>\n",
              "      <td>50.000000</td>\n",
              "    </tr>\n",
              "    <tr>\n",
              "      <th>max</th>\n",
              "      <td>NaN</td>\n",
              "      <td>10000.000000</td>\n",
              "    </tr>\n",
              "  </tbody>\n",
              "</table>\n",
              "</div>"
            ],
            "text/plain": [
              "       runaway_enslavers.enslaver_status  runaway_reward.amount\n",
              "count                                0.0            5332.000000\n",
              "mean                                 NaN              42.365154\n",
              "std                                  NaN             155.161401\n",
              "min                                  NaN               1.000000\n",
              "25%                                  NaN              10.000000\n",
              "50%                                  NaN              20.000000\n",
              "75%                                  NaN              50.000000\n",
              "max                                  NaN           10000.000000"
            ]
          },
          "metadata": {
            "tags": []
          },
          "execution_count": 7
        }
      ]
    },
    {
      "cell_type": "markdown",
      "metadata": {
        "id": "OAspCHaWlUOD"
      },
      "source": [
        "### Remove columns that have `id` in their name"
      ]
    },
    {
      "cell_type": "code",
      "metadata": {
        "id": "YmRBCidklUOE"
      },
      "source": [
        "columns_to_remove = ['runaway_reward.id','enslaver_location.id','enslaver.id',\n",
        "                     'runaway_enslavers.id','enslaved_person_languages.id',\n",
        "                     'enslaved_person.id','runaway.id','runaway_event.id',\n",
        "                     'advertiser.id','newspaper_location.id','newspaper.id',\n",
        "                     'advertisement.id'] # INSERT CODE HERE"
      ],
      "execution_count": 8,
      "outputs": []
    },
    {
      "cell_type": "code",
      "metadata": {
        "id": "mCyLmt0KlUOJ"
      },
      "source": [
        "fotm_dataset_without_id = fotm_dataset.drop(columns = columns_to_remove)"
      ],
      "execution_count": 9,
      "outputs": []
    },
    {
      "cell_type": "code",
      "metadata": {
        "id": "N8GP9PwjlUOM",
        "outputId": "89831da1-3948-4366-deae-19a8d7bccea5",
        "colab": {
          "base_uri": "https://localhost:8080/"
        }
      },
      "source": [
        "fotm_dataset_without_id.info()"
      ],
      "execution_count": 10,
      "outputs": [
        {
          "output_type": "stream",
          "text": [
            "<class 'pandas.core.frame.DataFrame'>\n",
            "RangeIndex: 9069 entries, 0 to 9068\n",
            "Data columns (total 17 columns):\n",
            " #   Column                                Non-Null Count  Dtype  \n",
            "---  ------                                --------------  -----  \n",
            " 0   advertisement.publication_date        9069 non-null   object \n",
            " 1   advertisement.complete                9069 non-null   bool   \n",
            " 2   advertiser.name                       2549 non-null   object \n",
            " 3   enslaved_person.gender                7525 non-null   object \n",
            " 4   enslaved_person_languages.does_speak  1456 non-null   object \n",
            " 5   enslaver.fullname                     6886 non-null   object \n",
            " 6   enslaver.gender                       6938 non-null   object \n",
            " 7   enslaver.type                         6762 non-null   object \n",
            " 8   newspaper.name                        9069 non-null   object \n",
            " 9   runaway.ran_before                    391 non-null    object \n",
            " 10  runaway.profess_freedom               478 non-null    object \n",
            " 11  runaway_enslavers.enslaver_status     0 non-null      float64\n",
            " 12  runaway_reward.amount                 5332 non-null   float64\n",
            " 13  newspaper_location.city               8959 non-null   object \n",
            " 14  newspaper_location.state              9069 non-null   object \n",
            " 15  enslaver_location.city                3442 non-null   object \n",
            " 16  enslaver_location.state               4980 non-null   object \n",
            "dtypes: bool(1), float64(2), object(14)\n",
            "memory usage: 1.1+ MB\n"
          ],
          "name": "stdout"
        }
      ]
    },
    {
      "cell_type": "code",
      "metadata": {
        "id": "m2hugxYflUOR",
        "outputId": "e8617570-3ab5-4eeb-8f3f-547e1fa606fb",
        "colab": {
          "base_uri": "https://localhost:8080/"
        }
      },
      "source": [
        "fotm_dataset_without_id.isna().sum()"
      ],
      "execution_count": 11,
      "outputs": [
        {
          "output_type": "execute_result",
          "data": {
            "text/plain": [
              "advertisement.publication_date             0\n",
              "advertisement.complete                     0\n",
              "advertiser.name                         6520\n",
              "enslaved_person.gender                  1544\n",
              "enslaved_person_languages.does_speak    7613\n",
              "enslaver.fullname                       2183\n",
              "enslaver.gender                         2131\n",
              "enslaver.type                           2307\n",
              "newspaper.name                             0\n",
              "runaway.ran_before                      8678\n",
              "runaway.profess_freedom                 8591\n",
              "runaway_enslavers.enslaver_status       9069\n",
              "runaway_reward.amount                   3737\n",
              "newspaper_location.city                  110\n",
              "newspaper_location.state                   0\n",
              "enslaver_location.city                  5627\n",
              "enslaver_location.state                 4089\n",
              "dtype: int64"
            ]
          },
          "metadata": {
            "tags": []
          },
          "execution_count": 11
        }
      ]
    },
    {
      "cell_type": "code",
      "metadata": {
        "id": "52R43a9tlUOV",
        "outputId": "3c52d4dd-281b-4308-8096-5d44f27040f2",
        "colab": {
          "base_uri": "https://localhost:8080/",
          "height": 652
        }
      },
      "source": [
        "fotm_dataset_without_id"
      ],
      "execution_count": 12,
      "outputs": [
        {
          "output_type": "execute_result",
          "data": {
            "text/html": [
              "<div>\n",
              "<style scoped>\n",
              "    .dataframe tbody tr th:only-of-type {\n",
              "        vertical-align: middle;\n",
              "    }\n",
              "\n",
              "    .dataframe tbody tr th {\n",
              "        vertical-align: top;\n",
              "    }\n",
              "\n",
              "    .dataframe thead th {\n",
              "        text-align: right;\n",
              "    }\n",
              "</style>\n",
              "<table border=\"1\" class=\"dataframe\">\n",
              "  <thead>\n",
              "    <tr style=\"text-align: right;\">\n",
              "      <th></th>\n",
              "      <th>advertisement.publication_date</th>\n",
              "      <th>advertisement.complete</th>\n",
              "      <th>advertiser.name</th>\n",
              "      <th>enslaved_person.gender</th>\n",
              "      <th>enslaved_person_languages.does_speak</th>\n",
              "      <th>enslaver.fullname</th>\n",
              "      <th>enslaver.gender</th>\n",
              "      <th>enslaver.type</th>\n",
              "      <th>newspaper.name</th>\n",
              "      <th>runaway.ran_before</th>\n",
              "      <th>runaway.profess_freedom</th>\n",
              "      <th>runaway_enslavers.enslaver_status</th>\n",
              "      <th>runaway_reward.amount</th>\n",
              "      <th>newspaper_location.city</th>\n",
              "      <th>newspaper_location.state</th>\n",
              "      <th>enslaver_location.city</th>\n",
              "      <th>enslaver_location.state</th>\n",
              "    </tr>\n",
              "  </thead>\n",
              "  <tbody>\n",
              "    <tr>\n",
              "      <th>0</th>\n",
              "      <td>1829-12-19</td>\n",
              "      <td>True</td>\n",
              "      <td>NaN</td>\n",
              "      <td>FEMALE</td>\n",
              "      <td>NaN</td>\n",
              "      <td>Vance</td>\n",
              "      <td>OTHER</td>\n",
              "      <td>estate</td>\n",
              "      <td>Charleston Mercury</td>\n",
              "      <td>NaN</td>\n",
              "      <td>NaN</td>\n",
              "      <td>NaN</td>\n",
              "      <td>20.0</td>\n",
              "      <td>Charleston</td>\n",
              "      <td>US-SC</td>\n",
              "      <td>Charleston</td>\n",
              "      <td>US-SC</td>\n",
              "    </tr>\n",
              "    <tr>\n",
              "      <th>1</th>\n",
              "      <td>1829-12-19</td>\n",
              "      <td>True</td>\n",
              "      <td>NaN</td>\n",
              "      <td>FEMALE</td>\n",
              "      <td>NaN</td>\n",
              "      <td>Vance</td>\n",
              "      <td>OTHER</td>\n",
              "      <td>estate</td>\n",
              "      <td>Charleston Mercury</td>\n",
              "      <td>NaN</td>\n",
              "      <td>NaN</td>\n",
              "      <td>NaN</td>\n",
              "      <td>10.0</td>\n",
              "      <td>Charleston</td>\n",
              "      <td>US-SC</td>\n",
              "      <td>Charleston</td>\n",
              "      <td>US-SC</td>\n",
              "    </tr>\n",
              "    <tr>\n",
              "      <th>2</th>\n",
              "      <td>1829-12-19</td>\n",
              "      <td>True</td>\n",
              "      <td>NaN</td>\n",
              "      <td>FEMALE</td>\n",
              "      <td>NaN</td>\n",
              "      <td>WM. H. Smith</td>\n",
              "      <td>MALE</td>\n",
              "      <td>current</td>\n",
              "      <td>Charleston Mercury</td>\n",
              "      <td>NaN</td>\n",
              "      <td>NaN</td>\n",
              "      <td>NaN</td>\n",
              "      <td>20.0</td>\n",
              "      <td>Charleston</td>\n",
              "      <td>US-SC</td>\n",
              "      <td>Charleston</td>\n",
              "      <td>US-SC</td>\n",
              "    </tr>\n",
              "    <tr>\n",
              "      <th>3</th>\n",
              "      <td>1829-12-19</td>\n",
              "      <td>True</td>\n",
              "      <td>NaN</td>\n",
              "      <td>FEMALE</td>\n",
              "      <td>NaN</td>\n",
              "      <td>WM. H. Smith</td>\n",
              "      <td>MALE</td>\n",
              "      <td>current</td>\n",
              "      <td>Charleston Mercury</td>\n",
              "      <td>NaN</td>\n",
              "      <td>NaN</td>\n",
              "      <td>NaN</td>\n",
              "      <td>10.0</td>\n",
              "      <td>Charleston</td>\n",
              "      <td>US-SC</td>\n",
              "      <td>Charleston</td>\n",
              "      <td>US-SC</td>\n",
              "    </tr>\n",
              "    <tr>\n",
              "      <th>4</th>\n",
              "      <td>1830-01-02</td>\n",
              "      <td>True</td>\n",
              "      <td>Wm. B. Roberts, Executor</td>\n",
              "      <td>MALE</td>\n",
              "      <td>NaN</td>\n",
              "      <td>Rev. Henry Holmes</td>\n",
              "      <td>MALE</td>\n",
              "      <td>deceased</td>\n",
              "      <td>Edenton Gazette And North Carolina General Adv...</td>\n",
              "      <td>NaN</td>\n",
              "      <td>NaN</td>\n",
              "      <td>NaN</td>\n",
              "      <td>15.0</td>\n",
              "      <td>Edenton</td>\n",
              "      <td>US-NC</td>\n",
              "      <td>NaN</td>\n",
              "      <td>US-NC</td>\n",
              "    </tr>\n",
              "    <tr>\n",
              "      <th>...</th>\n",
              "      <td>...</td>\n",
              "      <td>...</td>\n",
              "      <td>...</td>\n",
              "      <td>...</td>\n",
              "      <td>...</td>\n",
              "      <td>...</td>\n",
              "      <td>...</td>\n",
              "      <td>...</td>\n",
              "      <td>...</td>\n",
              "      <td>...</td>\n",
              "      <td>...</td>\n",
              "      <td>...</td>\n",
              "      <td>...</td>\n",
              "      <td>...</td>\n",
              "      <td>...</td>\n",
              "      <td>...</td>\n",
              "      <td>...</td>\n",
              "    </tr>\n",
              "    <tr>\n",
              "      <th>9064</th>\n",
              "      <td>1844-01-12</td>\n",
              "      <td>False</td>\n",
              "      <td>Lucien Labranche</td>\n",
              "      <td>MALE</td>\n",
              "      <td>NaN</td>\n",
              "      <td>NaN</td>\n",
              "      <td>NaN</td>\n",
              "      <td>NaN</td>\n",
              "      <td>The Daily Picayune</td>\n",
              "      <td>NaN</td>\n",
              "      <td>NaN</td>\n",
              "      <td>NaN</td>\n",
              "      <td>NaN</td>\n",
              "      <td>New Orleans</td>\n",
              "      <td>US-LA</td>\n",
              "      <td>NaN</td>\n",
              "      <td>NaN</td>\n",
              "    </tr>\n",
              "    <tr>\n",
              "      <th>9065</th>\n",
              "      <td>1825-08-03</td>\n",
              "      <td>False</td>\n",
              "      <td>NaN</td>\n",
              "      <td>NOT_PROVIDED</td>\n",
              "      <td>NaN</td>\n",
              "      <td>Fred Fraser Esq of Ashepoo</td>\n",
              "      <td>MALE</td>\n",
              "      <td>NOT_PROVIDED</td>\n",
              "      <td>Charleston Courier</td>\n",
              "      <td>NaN</td>\n",
              "      <td>NaN</td>\n",
              "      <td>NaN</td>\n",
              "      <td>20.0</td>\n",
              "      <td>Charleston</td>\n",
              "      <td>US-SC</td>\n",
              "      <td>NaN</td>\n",
              "      <td>NaN</td>\n",
              "    </tr>\n",
              "    <tr>\n",
              "      <th>9066</th>\n",
              "      <td>1823-11-03</td>\n",
              "      <td>False</td>\n",
              "      <td>NaN</td>\n",
              "      <td>NaN</td>\n",
              "      <td>NaN</td>\n",
              "      <td>NaN</td>\n",
              "      <td>NaN</td>\n",
              "      <td>NaN</td>\n",
              "      <td>Charleston Courier</td>\n",
              "      <td>NaN</td>\n",
              "      <td>NaN</td>\n",
              "      <td>NaN</td>\n",
              "      <td>NaN</td>\n",
              "      <td>Charleston</td>\n",
              "      <td>US-SC</td>\n",
              "      <td>NaN</td>\n",
              "      <td>NaN</td>\n",
              "    </tr>\n",
              "    <tr>\n",
              "      <th>9067</th>\n",
              "      <td>1844-01-02</td>\n",
              "      <td>False</td>\n",
              "      <td>NaN</td>\n",
              "      <td>NaN</td>\n",
              "      <td>NaN</td>\n",
              "      <td>NaN</td>\n",
              "      <td>NaN</td>\n",
              "      <td>NaN</td>\n",
              "      <td>Milledgeville Federal Union</td>\n",
              "      <td>NaN</td>\n",
              "      <td>NaN</td>\n",
              "      <td>NaN</td>\n",
              "      <td>NaN</td>\n",
              "      <td>Milledgeville</td>\n",
              "      <td>US-GA</td>\n",
              "      <td>NaN</td>\n",
              "      <td>NaN</td>\n",
              "    </tr>\n",
              "    <tr>\n",
              "      <th>9068</th>\n",
              "      <td>1737-04-28</td>\n",
              "      <td>False</td>\n",
              "      <td>NaN</td>\n",
              "      <td>NaN</td>\n",
              "      <td>NaN</td>\n",
              "      <td>NaN</td>\n",
              "      <td>NaN</td>\n",
              "      <td>NaN</td>\n",
              "      <td>The Boston News-Letter</td>\n",
              "      <td>NaN</td>\n",
              "      <td>NaN</td>\n",
              "      <td>NaN</td>\n",
              "      <td>NaN</td>\n",
              "      <td></td>\n",
              "      <td>US-MA</td>\n",
              "      <td>NaN</td>\n",
              "      <td>NaN</td>\n",
              "    </tr>\n",
              "  </tbody>\n",
              "</table>\n",
              "<p>9069 rows × 17 columns</p>\n",
              "</div>"
            ],
            "text/plain": [
              "     advertisement.publication_date  ...  enslaver_location.state\n",
              "0                        1829-12-19  ...                    US-SC\n",
              "1                        1829-12-19  ...                    US-SC\n",
              "2                        1829-12-19  ...                    US-SC\n",
              "3                        1829-12-19  ...                    US-SC\n",
              "4                        1830-01-02  ...                    US-NC\n",
              "...                             ...  ...                      ...\n",
              "9064                     1844-01-12  ...                      NaN\n",
              "9065                     1825-08-03  ...                      NaN\n",
              "9066                     1823-11-03  ...                      NaN\n",
              "9067                     1844-01-02  ...                      NaN\n",
              "9068                     1737-04-28  ...                      NaN\n",
              "\n",
              "[9069 rows x 17 columns]"
            ]
          },
          "metadata": {
            "tags": []
          },
          "execution_count": 12
        }
      ]
    },
    {
      "cell_type": "markdown",
      "metadata": {
        "id": "emDg1tdqlUOa"
      },
      "source": [
        "### Removing extra columns that have a large quantities of null values."
      ]
    },
    {
      "cell_type": "code",
      "metadata": {
        "id": "ONnWnrkYlUOb",
        "outputId": "389e8555-89cd-4087-d6b2-5cf3c89dec92",
        "colab": {
          "base_uri": "https://localhost:8080/"
        }
      },
      "source": [
        "fotm_dataset_without_id.isna().sum()"
      ],
      "execution_count": 13,
      "outputs": [
        {
          "output_type": "execute_result",
          "data": {
            "text/plain": [
              "advertisement.publication_date             0\n",
              "advertisement.complete                     0\n",
              "advertiser.name                         6520\n",
              "enslaved_person.gender                  1544\n",
              "enslaved_person_languages.does_speak    7613\n",
              "enslaver.fullname                       2183\n",
              "enslaver.gender                         2131\n",
              "enslaver.type                           2307\n",
              "newspaper.name                             0\n",
              "runaway.ran_before                      8678\n",
              "runaway.profess_freedom                 8591\n",
              "runaway_enslavers.enslaver_status       9069\n",
              "runaway_reward.amount                   3737\n",
              "newspaper_location.city                  110\n",
              "newspaper_location.state                   0\n",
              "enslaver_location.city                  5627\n",
              "enslaver_location.state                 4089\n",
              "dtype: int64"
            ]
          },
          "metadata": {
            "tags": []
          },
          "execution_count": 13
        }
      ]
    },
    {
      "cell_type": "code",
      "metadata": {
        "id": "HPcqW4aHlUOf"
      },
      "source": [
        "more_columns = ['advertiser.name', 'enslaved_person_languages.does_speak','enslaver.fullname',\n",
        "                'runaway.ran_before', 'runaway.profess_freedom','runaway_enslavers.enslaver_status',\n",
        "                \"enslaver_location.city\",\"enslaver_location.state\"]"
      ],
      "execution_count": 14,
      "outputs": []
    },
    {
      "cell_type": "code",
      "metadata": {
        "id": "_5MQvmhhlUOk"
      },
      "source": [
        "fotm_dataset_without_id= fotm_dataset_without_id.drop(columns = more_columns)"
      ],
      "execution_count": 15,
      "outputs": []
    },
    {
      "cell_type": "code",
      "metadata": {
        "id": "Nld8kNip4W5r",
        "outputId": "4dc249ae-6f4b-43a0-cdb7-f9f947c43da9",
        "colab": {
          "base_uri": "https://localhost:8080/"
        }
      },
      "source": [
        "fotm_dataset_without_id.isna().sum()"
      ],
      "execution_count": 16,
      "outputs": [
        {
          "output_type": "execute_result",
          "data": {
            "text/plain": [
              "advertisement.publication_date       0\n",
              "advertisement.complete               0\n",
              "enslaved_person.gender            1544\n",
              "enslaver.gender                   2131\n",
              "enslaver.type                     2307\n",
              "newspaper.name                       0\n",
              "runaway_reward.amount             3737\n",
              "newspaper_location.city            110\n",
              "newspaper_location.state             0\n",
              "dtype: int64"
            ]
          },
          "metadata": {
            "tags": []
          },
          "execution_count": 16
        }
      ]
    },
    {
      "cell_type": "code",
      "metadata": {
        "id": "gKd0r2hRlUOp"
      },
      "source": [
        "fotm_dataframe = fotm_dataset_without_id.copy(deep = True)"
      ],
      "execution_count": 17,
      "outputs": []
    },
    {
      "cell_type": "markdown",
      "metadata": {
        "id": "1pu--ha_lUOn"
      },
      "source": [
        "## Addinga new column"
      ]
    },
    {
      "cell_type": "code",
      "metadata": {
        "id": "BO2F1NBZrU2_"
      },
      "source": [
        "fotm_dataframe['year'] = pd.to_datetime(fotm_dataframe['advertisement.publication_date']).dt.to_period('Y')"
      ],
      "execution_count": 18,
      "outputs": []
    },
    {
      "cell_type": "code",
      "metadata": {
        "id": "wdTWFZlBlUOt",
        "outputId": "864cc303-7ef2-45dd-8235-2a9af211fad4",
        "colab": {
          "base_uri": "https://localhost:8080/",
          "height": 348
        }
      },
      "source": [
        "fotm_dataframe.head()"
      ],
      "execution_count": 19,
      "outputs": [
        {
          "output_type": "execute_result",
          "data": {
            "text/html": [
              "<div>\n",
              "<style scoped>\n",
              "    .dataframe tbody tr th:only-of-type {\n",
              "        vertical-align: middle;\n",
              "    }\n",
              "\n",
              "    .dataframe tbody tr th {\n",
              "        vertical-align: top;\n",
              "    }\n",
              "\n",
              "    .dataframe thead th {\n",
              "        text-align: right;\n",
              "    }\n",
              "</style>\n",
              "<table border=\"1\" class=\"dataframe\">\n",
              "  <thead>\n",
              "    <tr style=\"text-align: right;\">\n",
              "      <th></th>\n",
              "      <th>advertisement.publication_date</th>\n",
              "      <th>advertisement.complete</th>\n",
              "      <th>enslaved_person.gender</th>\n",
              "      <th>enslaver.gender</th>\n",
              "      <th>enslaver.type</th>\n",
              "      <th>newspaper.name</th>\n",
              "      <th>runaway_reward.amount</th>\n",
              "      <th>newspaper_location.city</th>\n",
              "      <th>newspaper_location.state</th>\n",
              "      <th>year</th>\n",
              "    </tr>\n",
              "  </thead>\n",
              "  <tbody>\n",
              "    <tr>\n",
              "      <th>0</th>\n",
              "      <td>1829-12-19</td>\n",
              "      <td>True</td>\n",
              "      <td>FEMALE</td>\n",
              "      <td>OTHER</td>\n",
              "      <td>estate</td>\n",
              "      <td>Charleston Mercury</td>\n",
              "      <td>20.0</td>\n",
              "      <td>Charleston</td>\n",
              "      <td>US-SC</td>\n",
              "      <td>1829</td>\n",
              "    </tr>\n",
              "    <tr>\n",
              "      <th>1</th>\n",
              "      <td>1829-12-19</td>\n",
              "      <td>True</td>\n",
              "      <td>FEMALE</td>\n",
              "      <td>OTHER</td>\n",
              "      <td>estate</td>\n",
              "      <td>Charleston Mercury</td>\n",
              "      <td>10.0</td>\n",
              "      <td>Charleston</td>\n",
              "      <td>US-SC</td>\n",
              "      <td>1829</td>\n",
              "    </tr>\n",
              "    <tr>\n",
              "      <th>2</th>\n",
              "      <td>1829-12-19</td>\n",
              "      <td>True</td>\n",
              "      <td>FEMALE</td>\n",
              "      <td>MALE</td>\n",
              "      <td>current</td>\n",
              "      <td>Charleston Mercury</td>\n",
              "      <td>20.0</td>\n",
              "      <td>Charleston</td>\n",
              "      <td>US-SC</td>\n",
              "      <td>1829</td>\n",
              "    </tr>\n",
              "    <tr>\n",
              "      <th>3</th>\n",
              "      <td>1829-12-19</td>\n",
              "      <td>True</td>\n",
              "      <td>FEMALE</td>\n",
              "      <td>MALE</td>\n",
              "      <td>current</td>\n",
              "      <td>Charleston Mercury</td>\n",
              "      <td>10.0</td>\n",
              "      <td>Charleston</td>\n",
              "      <td>US-SC</td>\n",
              "      <td>1829</td>\n",
              "    </tr>\n",
              "    <tr>\n",
              "      <th>4</th>\n",
              "      <td>1830-01-02</td>\n",
              "      <td>True</td>\n",
              "      <td>MALE</td>\n",
              "      <td>MALE</td>\n",
              "      <td>deceased</td>\n",
              "      <td>Edenton Gazette And North Carolina General Adv...</td>\n",
              "      <td>15.0</td>\n",
              "      <td>Edenton</td>\n",
              "      <td>US-NC</td>\n",
              "      <td>1830</td>\n",
              "    </tr>\n",
              "  </tbody>\n",
              "</table>\n",
              "</div>"
            ],
            "text/plain": [
              "  advertisement.publication_date  ...  year\n",
              "0                     1829-12-19  ...  1829\n",
              "1                     1829-12-19  ...  1829\n",
              "2                     1829-12-19  ...  1829\n",
              "3                     1829-12-19  ...  1829\n",
              "4                     1830-01-02  ...  1830\n",
              "\n",
              "[5 rows x 10 columns]"
            ]
          },
          "metadata": {
            "tags": []
          },
          "execution_count": 19
        }
      ]
    },
    {
      "cell_type": "markdown",
      "metadata": {
        "id": "1hk4JqXqlUOw"
      },
      "source": [
        "### Find unique and NaN strings  for each of the remaining columns\n",
        "\n",
        "Replace string values that are inconsistent with 'Unknown'. Do the same for NaN values."
      ]
    },
    {
      "cell_type": "markdown",
      "metadata": {
        "id": "sbUkN3gelUOw"
      },
      "source": [
        "### ```enslaved_person.gender```"
      ]
    },
    {
      "cell_type": "code",
      "metadata": {
        "id": "zbLSr255lUOx",
        "outputId": "b258c1ad-fad7-4b0d-d81f-7427dcb27e72",
        "colab": {
          "base_uri": "https://localhost:8080/"
        }
      },
      "source": [
        "fotm_dataframe['enslaved_person.gender'].unique()"
      ],
      "execution_count": 20,
      "outputs": [
        {
          "output_type": "execute_result",
          "data": {
            "text/plain": [
              "array(['FEMALE', 'MALE', nan, 'NOT_PROVIDED', 'OTHER'], dtype=object)"
            ]
          },
          "metadata": {
            "tags": []
          },
          "execution_count": 20
        }
      ]
    },
    {
      "cell_type": "code",
      "metadata": {
        "id": "xAGO2qTolUO1"
      },
      "source": [
        "fotm_dataframe['enslaved_person.gender']= fotm_dataframe['enslaved_person.gender'].fillna(value='UNKNOWN')#, method=None, axis=None, inplace=True)\n"
      ],
      "execution_count": 21,
      "outputs": []
    },
    {
      "cell_type": "code",
      "metadata": {
        "id": "M2KBrH3AlUO5"
      },
      "source": [
        "fotm_dataframe[\"enslaved_person.gender\"] = fotm_dataframe[\"enslaved_person.gender\"].replace({\"NOT_PROVIDED\": \"UNKNOWN\"})"
      ],
      "execution_count": 22,
      "outputs": []
    },
    {
      "cell_type": "code",
      "metadata": {
        "id": "1SwatMdxlUO7",
        "outputId": "595d0f21-56e4-47c4-fb42-ed410b8388f7",
        "colab": {
          "base_uri": "https://localhost:8080/"
        }
      },
      "source": [
        "fotm_dataframe['enslaved_person.gender'].unique()"
      ],
      "execution_count": 194,
      "outputs": [
        {
          "output_type": "execute_result",
          "data": {
            "text/plain": [
              "array(['FEMALE', 'MALE', 'UNKNOWN', 'OTHER'], dtype=object)"
            ]
          },
          "metadata": {
            "tags": []
          },
          "execution_count": 194
        }
      ]
    },
    {
      "cell_type": "markdown",
      "metadata": {
        "id": "yIRWXtd1lUPA"
      },
      "source": [
        "### ```enslaver.gender```"
      ]
    },
    {
      "cell_type": "code",
      "metadata": {
        "scrolled": true,
        "id": "LYm3z9WTlUPA",
        "outputId": "d10dace9-5640-4535-8bef-3a539ecf7735",
        "colab": {
          "base_uri": "https://localhost:8080/"
        }
      },
      "source": [
        "fotm_dataframe['enslaver.gender'].unique()"
      ],
      "execution_count": 195,
      "outputs": [
        {
          "output_type": "execute_result",
          "data": {
            "text/plain": [
              "array(['OTHER', 'MALE', 'NOT_PROVIDED', nan, 'FEMALE'], dtype=object)"
            ]
          },
          "metadata": {
            "tags": []
          },
          "execution_count": 195
        }
      ]
    },
    {
      "cell_type": "code",
      "metadata": {
        "id": "nmm56qSUlUPF"
      },
      "source": [
        "fotm_dataframe['enslaver.gender'] = fotm_dataframe['enslaver.gender'].fillna(value='UNKNOWN')"
      ],
      "execution_count": 196,
      "outputs": []
    },
    {
      "cell_type": "code",
      "metadata": {
        "id": "EgyAB2qDlUPI"
      },
      "source": [
        "fotm_dataframe['enslaver.gender'] = fotm_dataframe[\"enslaver.gender\"].replace({\"NOT_PROVIDED\": \"UNKNOWN\"})"
      ],
      "execution_count": 197,
      "outputs": []
    },
    {
      "cell_type": "code",
      "metadata": {
        "scrolled": false,
        "id": "1Ywj8x_BlUPM",
        "outputId": "5cb75bfd-1b4a-40e3-a5cb-9e68fa2465ed",
        "colab": {
          "base_uri": "https://localhost:8080/"
        }
      },
      "source": [
        "fotm_dataframe['enslaver.gender'].unique()"
      ],
      "execution_count": 198,
      "outputs": [
        {
          "output_type": "execute_result",
          "data": {
            "text/plain": [
              "array(['OTHER', 'MALE', 'UNKNOWN', 'FEMALE'], dtype=object)"
            ]
          },
          "metadata": {
            "tags": []
          },
          "execution_count": 198
        }
      ]
    },
    {
      "cell_type": "markdown",
      "metadata": {
        "id": "GWKTvUGBlUPP"
      },
      "source": [
        "### ```enslaver.type```"
      ]
    },
    {
      "cell_type": "code",
      "metadata": {
        "scrolled": true,
        "id": "0NgjQfs1lUPQ",
        "outputId": "a6475396-0ec5-4326-f4e8-243c492165d2",
        "colab": {
          "base_uri": "https://localhost:8080/"
        }
      },
      "source": [
        "fotm_dataframe['enslaver.type'].unique()"
      ],
      "execution_count": 199,
      "outputs": [
        {
          "output_type": "execute_result",
          "data": {
            "text/plain": [
              "array(['estate', 'current', 'deceased', 'NOT_PROVIDED', 'former',\n",
              "       'alleged', nan], dtype=object)"
            ]
          },
          "metadata": {
            "tags": []
          },
          "execution_count": 199
        }
      ]
    },
    {
      "cell_type": "code",
      "metadata": {
        "id": "XRldmGY6lUPU"
      },
      "source": [
        "fotm_dataframe['enslaver.type'] = fotm_dataframe['enslaver.type'].fillna(value='UNKNOWN')"
      ],
      "execution_count": 200,
      "outputs": []
    },
    {
      "cell_type": "code",
      "metadata": {
        "id": "zMr_f6j2lUPW"
      },
      "source": [
        "fotm_dataframe['enslaver.type'] = fotm_dataframe[\"enslaver.type\"].replace({\"NOT_PROVIDED\": \"UNKNOWN\"})"
      ],
      "execution_count": 201,
      "outputs": []
    },
    {
      "cell_type": "code",
      "metadata": {
        "scrolled": false,
        "id": "Y78zBL5zlUPa",
        "outputId": "62316d3a-4113-4835-c89a-e0bc4dba1c0a",
        "colab": {
          "base_uri": "https://localhost:8080/"
        }
      },
      "source": [
        "fotm_dataframe['enslaver.type'].unique()"
      ],
      "execution_count": 202,
      "outputs": [
        {
          "output_type": "execute_result",
          "data": {
            "text/plain": [
              "array(['estate', 'current', 'deceased', 'UNKNOWN', 'former', 'alleged'],\n",
              "      dtype=object)"
            ]
          },
          "metadata": {
            "tags": []
          },
          "execution_count": 202
        }
      ]
    },
    {
      "cell_type": "markdown",
      "metadata": {
        "id": "3Q3yfE_jlUPc"
      },
      "source": [
        "### ```runaway_reward.amount```\n",
        "\n",
        "One of these line following lines of code for this section is not necessary, find the line and comment it."
      ]
    },
    {
      "cell_type": "code",
      "metadata": {
        "scrolled": true,
        "id": "UtVjtAp4lUPd",
        "outputId": "d2ae3b2e-4b35-4121-c94f-cd4ea969b3ff",
        "colab": {
          "base_uri": "https://localhost:8080/"
        }
      },
      "source": [
        "fotm_dataframe['runaway_reward.amount'].unique()"
      ],
      "execution_count": 203,
      "outputs": [
        {
          "output_type": "execute_result",
          "data": {
            "text/plain": [
              "array([2.00e+01, 1.00e+01, 1.50e+01, 9.00e+01, 5.00e+01,      nan,\n",
              "       1.00e+02, 2.00e+02, 2.00e+00, 2.50e+01, 4.00e+01, 8.00e+00,\n",
              "       1.00e+00, 7.00e+01, 3.00e+01, 3.00e+00, 5.00e+00, 6.00e+00,\n",
              "       4.00e+00, 2.50e+02, 7.50e+01, 5.00e+02, 3.00e+02, 1.50e+02,\n",
              "       6.00e+01, 5.90e+01, 4.50e+01, 1.00e+03, 5.50e+01, 2.90e+01,\n",
              "       8.20e+02, 2.30e+01, 4.00e+02, 3.50e+01, 2.10e+01, 3.00e+03,\n",
              "       2.40e+01, 1.00e+04, 1.35e+02, 2.25e+02, 9.50e+02, 1.30e+01,\n",
              "       3.20e+02, 6.10e+01, 1.60e+01])"
            ]
          },
          "metadata": {
            "tags": []
          },
          "execution_count": 203
        }
      ]
    },
    {
      "cell_type": "code",
      "metadata": {
        "id": "OqmmWfRylUPi"
      },
      "source": [
        "fotm_dataframe['runaway_reward.amount'] = fotm_dataframe['runaway_reward.amount'].fillna(value=0.0)"
      ],
      "execution_count": 204,
      "outputs": []
    },
    {
      "cell_type": "code",
      "metadata": {
        "id": "BoJLnH74lUPl"
      },
      "source": [
        "#fotm_dataset_modified[\"runaway_reward.amount\"].replace({\"NOT_PROVIDED\": \"UNKNOWN\"}, inplace=True)"
      ],
      "execution_count": 205,
      "outputs": []
    },
    {
      "cell_type": "code",
      "metadata": {
        "scrolled": false,
        "id": "9noDyftJlUPn",
        "outputId": "b2556e4b-f1aa-4073-a18a-9c454e299124",
        "colab": {
          "base_uri": "https://localhost:8080/"
        }
      },
      "source": [
        "fotm_dataframe['runaway_reward.amount'].unique().astype(int)"
      ],
      "execution_count": 206,
      "outputs": [
        {
          "output_type": "execute_result",
          "data": {
            "text/plain": [
              "array([   20,    10,    15,    90,    50,     0,   100,   200,     2,\n",
              "          25,    40,     8,     1,    70,    30,     3,     5,     6,\n",
              "           4,   250,    75,   500,   300,   150,    60,    59,    45,\n",
              "        1000,    55,    29,   820,    23,   400,    35,    21,  3000,\n",
              "          24, 10000,   135,   225,   950,    13,   320,    61,    16])"
            ]
          },
          "metadata": {
            "tags": []
          },
          "execution_count": 206
        }
      ]
    },
    {
      "cell_type": "markdown",
      "metadata": {
        "id": "vUfkS8MblUPq"
      },
      "source": [
        "### ```newspaper_location.city```"
      ]
    },
    {
      "cell_type": "code",
      "metadata": {
        "scrolled": true,
        "id": "6032jU3elUPq",
        "outputId": "5d2a1411-250e-4102-dfdf-4f9f48460a60",
        "colab": {
          "base_uri": "https://localhost:8080/"
        }
      },
      "source": [
        "fotm_dataframe['newspaper_location.city'].unique()"
      ],
      "execution_count": 207,
      "outputs": [
        {
          "output_type": "execute_result",
          "data": {
            "text/plain": [
              "array(['Charleston', 'Edenton', 'Wilmington', 'Washington', 'New Orleans',\n",
              "       'Mobile', 'Huntsville', 'Raleigh', 'Philadelphia', nan,\n",
              "       'Milledgeville', 'Newark', 'Nashville', 'New Bern', 'Halifax', ' ',\n",
              "       'Hillsborough', 'Cahawba', 'Richmond', 'Fayetteville',\n",
              "       'Greensboro', 'Salisbury', 'Tuscaloosa', 'Goldsboro',\n",
              "       'Elizabeth City', 'Montgomery', 'Burlington', 'Charlotte',\n",
              "       'Milton', 'Clinton', 'Oxford', 'Asheboro', 'Tarboro', 'Chatham',\n",
              "       'Concord', 'Asheville', 'Rutherfordton', 'Murfreesboro',\n",
              "       'Lincolnton', 'Warrenton', 'Winston-salem', 'Harrington',\n",
              "       'Louisburg', 'Wadesboro', 'Wilson'], dtype=object)"
            ]
          },
          "metadata": {
            "tags": []
          },
          "execution_count": 207
        }
      ]
    },
    {
      "cell_type": "code",
      "metadata": {
        "id": "2Gh_3cuzlUPv"
      },
      "source": [
        "fotm_dataframe['newspaper_location.city'] = fotm_dataframe['newspaper_location.city'].fillna(value='UNKNOWN')    #touch templates/index.html"
      ],
      "execution_count": 208,
      "outputs": []
    },
    {
      "cell_type": "code",
      "metadata": {
        "id": "4TMu078plUPy"
      },
      "source": [
        "fotm_dataframe['newspaper_location.city'] = fotm_dataframe[\"newspaper_location.city\"].replace({\" \": \"UNKNOWN\"})"
      ],
      "execution_count": 209,
      "outputs": []
    },
    {
      "cell_type": "code",
      "metadata": {
        "scrolled": true,
        "id": "oA0MPGXolUP1",
        "outputId": "759749e8-acd7-47bb-9c3e-9d92311b6ea1",
        "colab": {
          "base_uri": "https://localhost:8080/"
        }
      },
      "source": [
        "fotm_dataframe['newspaper_location.city'].unique()"
      ],
      "execution_count": 210,
      "outputs": [
        {
          "output_type": "execute_result",
          "data": {
            "text/plain": [
              "array(['Charleston', 'Edenton', 'Wilmington', 'Washington', 'New Orleans',\n",
              "       'Mobile', 'Huntsville', 'Raleigh', 'Philadelphia', 'UNKNOWN',\n",
              "       'Milledgeville', 'Newark', 'Nashville', 'New Bern', 'Halifax',\n",
              "       'Hillsborough', 'Cahawba', 'Richmond', 'Fayetteville',\n",
              "       'Greensboro', 'Salisbury', 'Tuscaloosa', 'Goldsboro',\n",
              "       'Elizabeth City', 'Montgomery', 'Burlington', 'Charlotte',\n",
              "       'Milton', 'Clinton', 'Oxford', 'Asheboro', 'Tarboro', 'Chatham',\n",
              "       'Concord', 'Asheville', 'Rutherfordton', 'Murfreesboro',\n",
              "       'Lincolnton', 'Warrenton', 'Winston-salem', 'Harrington',\n",
              "       'Louisburg', 'Wadesboro', 'Wilson'], dtype=object)"
            ]
          },
          "metadata": {
            "tags": []
          },
          "execution_count": 210
        }
      ]
    },
    {
      "cell_type": "markdown",
      "metadata": {
        "id": "RrqZs15IlUP3"
      },
      "source": [
        "### View Dataset without `NaN` values"
      ]
    },
    {
      "cell_type": "code",
      "metadata": {
        "id": "2A7pZEqtlUP3",
        "outputId": "1a6d8c9d-8c70-44a3-f542-c0ab1e9af38d",
        "colab": {
          "base_uri": "https://localhost:8080/",
          "height": 348
        }
      },
      "source": [
        "fotm_dataframe.head()"
      ],
      "execution_count": 211,
      "outputs": [
        {
          "output_type": "execute_result",
          "data": {
            "text/html": [
              "<div>\n",
              "<style scoped>\n",
              "    .dataframe tbody tr th:only-of-type {\n",
              "        vertical-align: middle;\n",
              "    }\n",
              "\n",
              "    .dataframe tbody tr th {\n",
              "        vertical-align: top;\n",
              "    }\n",
              "\n",
              "    .dataframe thead th {\n",
              "        text-align: right;\n",
              "    }\n",
              "</style>\n",
              "<table border=\"1\" class=\"dataframe\">\n",
              "  <thead>\n",
              "    <tr style=\"text-align: right;\">\n",
              "      <th></th>\n",
              "      <th>advertisement.publication_date</th>\n",
              "      <th>advertisement.complete</th>\n",
              "      <th>enslaved_person.gender</th>\n",
              "      <th>enslaver.gender</th>\n",
              "      <th>enslaver.type</th>\n",
              "      <th>newspaper.name</th>\n",
              "      <th>runaway_reward.amount</th>\n",
              "      <th>newspaper_location.city</th>\n",
              "      <th>newspaper_location.state</th>\n",
              "      <th>year</th>\n",
              "    </tr>\n",
              "  </thead>\n",
              "  <tbody>\n",
              "    <tr>\n",
              "      <th>0</th>\n",
              "      <td>1829-12-19</td>\n",
              "      <td>True</td>\n",
              "      <td>FEMALE</td>\n",
              "      <td>OTHER</td>\n",
              "      <td>estate</td>\n",
              "      <td>Charleston Mercury</td>\n",
              "      <td>20.0</td>\n",
              "      <td>Charleston</td>\n",
              "      <td>US-SC</td>\n",
              "      <td>1829</td>\n",
              "    </tr>\n",
              "    <tr>\n",
              "      <th>1</th>\n",
              "      <td>1829-12-19</td>\n",
              "      <td>True</td>\n",
              "      <td>FEMALE</td>\n",
              "      <td>OTHER</td>\n",
              "      <td>estate</td>\n",
              "      <td>Charleston Mercury</td>\n",
              "      <td>10.0</td>\n",
              "      <td>Charleston</td>\n",
              "      <td>US-SC</td>\n",
              "      <td>1829</td>\n",
              "    </tr>\n",
              "    <tr>\n",
              "      <th>2</th>\n",
              "      <td>1829-12-19</td>\n",
              "      <td>True</td>\n",
              "      <td>FEMALE</td>\n",
              "      <td>MALE</td>\n",
              "      <td>current</td>\n",
              "      <td>Charleston Mercury</td>\n",
              "      <td>20.0</td>\n",
              "      <td>Charleston</td>\n",
              "      <td>US-SC</td>\n",
              "      <td>1829</td>\n",
              "    </tr>\n",
              "    <tr>\n",
              "      <th>3</th>\n",
              "      <td>1829-12-19</td>\n",
              "      <td>True</td>\n",
              "      <td>FEMALE</td>\n",
              "      <td>MALE</td>\n",
              "      <td>current</td>\n",
              "      <td>Charleston Mercury</td>\n",
              "      <td>10.0</td>\n",
              "      <td>Charleston</td>\n",
              "      <td>US-SC</td>\n",
              "      <td>1829</td>\n",
              "    </tr>\n",
              "    <tr>\n",
              "      <th>4</th>\n",
              "      <td>1830-01-02</td>\n",
              "      <td>True</td>\n",
              "      <td>MALE</td>\n",
              "      <td>MALE</td>\n",
              "      <td>deceased</td>\n",
              "      <td>Edenton Gazette And North Carolina General Adv...</td>\n",
              "      <td>15.0</td>\n",
              "      <td>Edenton</td>\n",
              "      <td>US-NC</td>\n",
              "      <td>1830</td>\n",
              "    </tr>\n",
              "  </tbody>\n",
              "</table>\n",
              "</div>"
            ],
            "text/plain": [
              "  advertisement.publication_date  ...  year\n",
              "0                     1829-12-19  ...  1829\n",
              "1                     1829-12-19  ...  1829\n",
              "2                     1829-12-19  ...  1829\n",
              "3                     1829-12-19  ...  1829\n",
              "4                     1830-01-02  ...  1830\n",
              "\n",
              "[5 rows x 10 columns]"
            ]
          },
          "metadata": {
            "tags": []
          },
          "execution_count": 211
        }
      ]
    },
    {
      "cell_type": "code",
      "metadata": {
        "id": "zlQKeigDlUP9",
        "outputId": "277bbd93-f07e-4ef0-8d7d-075003a9f3be",
        "colab": {
          "base_uri": "https://localhost:8080/"
        }
      },
      "source": [
        "fotm_dataframe.isna().sum()"
      ],
      "execution_count": 212,
      "outputs": [
        {
          "output_type": "execute_result",
          "data": {
            "text/plain": [
              "advertisement.publication_date    0\n",
              "advertisement.complete            0\n",
              "enslaved_person.gender            0\n",
              "enslaver.gender                   0\n",
              "enslaver.type                     0\n",
              "newspaper.name                    0\n",
              "runaway_reward.amount             0\n",
              "newspaper_location.city           0\n",
              "newspaper_location.state          0\n",
              "year                              0\n",
              "dtype: int64"
            ]
          },
          "metadata": {
            "tags": []
          },
          "execution_count": 212
        }
      ]
    },
    {
      "cell_type": "code",
      "metadata": {
        "id": "aDyJXPrBlUP_",
        "outputId": "803b46d4-b2a6-44d9-c14c-403e9485dcf2",
        "colab": {
          "base_uri": "https://localhost:8080/",
          "height": 313
        }
      },
      "source": [
        "fotm_dataframe = fotm_dataframe.sort_values(by=\"advertisement.publication_date\")\n",
        "fotm_dataframe.head()"
      ],
      "execution_count": 213,
      "outputs": [
        {
          "output_type": "execute_result",
          "data": {
            "text/html": [
              "<div>\n",
              "<style scoped>\n",
              "    .dataframe tbody tr th:only-of-type {\n",
              "        vertical-align: middle;\n",
              "    }\n",
              "\n",
              "    .dataframe tbody tr th {\n",
              "        vertical-align: top;\n",
              "    }\n",
              "\n",
              "    .dataframe thead th {\n",
              "        text-align: right;\n",
              "    }\n",
              "</style>\n",
              "<table border=\"1\" class=\"dataframe\">\n",
              "  <thead>\n",
              "    <tr style=\"text-align: right;\">\n",
              "      <th></th>\n",
              "      <th>advertisement.publication_date</th>\n",
              "      <th>advertisement.complete</th>\n",
              "      <th>enslaved_person.gender</th>\n",
              "      <th>enslaver.gender</th>\n",
              "      <th>enslaver.type</th>\n",
              "      <th>newspaper.name</th>\n",
              "      <th>runaway_reward.amount</th>\n",
              "      <th>newspaper_location.city</th>\n",
              "      <th>newspaper_location.state</th>\n",
              "      <th>year</th>\n",
              "    </tr>\n",
              "  </thead>\n",
              "  <tbody>\n",
              "    <tr>\n",
              "      <th>5323</th>\n",
              "      <td>1704-07-17</td>\n",
              "      <td>False</td>\n",
              "      <td>UNKNOWN</td>\n",
              "      <td>UNKNOWN</td>\n",
              "      <td>UNKNOWN</td>\n",
              "      <td>The Boston News-Letter</td>\n",
              "      <td>0.0</td>\n",
              "      <td>UNKNOWN</td>\n",
              "      <td>US-MA</td>\n",
              "      <td>1704</td>\n",
              "    </tr>\n",
              "    <tr>\n",
              "      <th>8569</th>\n",
              "      <td>1704-10-02</td>\n",
              "      <td>False</td>\n",
              "      <td>MALE</td>\n",
              "      <td>MALE</td>\n",
              "      <td>alleged</td>\n",
              "      <td>The Boston News-Letter</td>\n",
              "      <td>0.0</td>\n",
              "      <td>UNKNOWN</td>\n",
              "      <td>US-MA</td>\n",
              "      <td>1704</td>\n",
              "    </tr>\n",
              "    <tr>\n",
              "      <th>9015</th>\n",
              "      <td>1705-12-10</td>\n",
              "      <td>False</td>\n",
              "      <td>UNKNOWN</td>\n",
              "      <td>UNKNOWN</td>\n",
              "      <td>UNKNOWN</td>\n",
              "      <td>The Boston News-Letter</td>\n",
              "      <td>0.0</td>\n",
              "      <td>UNKNOWN</td>\n",
              "      <td>US-MA</td>\n",
              "      <td>1705</td>\n",
              "    </tr>\n",
              "    <tr>\n",
              "      <th>6113</th>\n",
              "      <td>1711-12-31</td>\n",
              "      <td>False</td>\n",
              "      <td>MALE</td>\n",
              "      <td>MALE</td>\n",
              "      <td>current</td>\n",
              "      <td>The Boston News-Letter</td>\n",
              "      <td>0.0</td>\n",
              "      <td>UNKNOWN</td>\n",
              "      <td>US-MA</td>\n",
              "      <td>1711</td>\n",
              "    </tr>\n",
              "    <tr>\n",
              "      <th>7171</th>\n",
              "      <td>1721-06-19</td>\n",
              "      <td>False</td>\n",
              "      <td>UNKNOWN</td>\n",
              "      <td>UNKNOWN</td>\n",
              "      <td>UNKNOWN</td>\n",
              "      <td>The Boston Gazette</td>\n",
              "      <td>0.0</td>\n",
              "      <td>UNKNOWN</td>\n",
              "      <td>US-MA</td>\n",
              "      <td>1721</td>\n",
              "    </tr>\n",
              "  </tbody>\n",
              "</table>\n",
              "</div>"
            ],
            "text/plain": [
              "     advertisement.publication_date  ...  year\n",
              "5323                     1704-07-17  ...  1704\n",
              "8569                     1704-10-02  ...  1704\n",
              "9015                     1705-12-10  ...  1705\n",
              "6113                     1711-12-31  ...  1711\n",
              "7171                     1721-06-19  ...  1721\n",
              "\n",
              "[5 rows x 10 columns]"
            ]
          },
          "metadata": {
            "tags": []
          },
          "execution_count": 213
        }
      ]
    },
    {
      "cell_type": "code",
      "metadata": {
        "id": "xOC0Q6KbAW19",
        "outputId": "8ef56f9d-14f0-4af0-9728-da97ca198a61",
        "colab": {
          "base_uri": "https://localhost:8080/",
          "height": 244
        }
      },
      "source": [
        "fotm_dataframe.tail()"
      ],
      "execution_count": 214,
      "outputs": [
        {
          "output_type": "execute_result",
          "data": {
            "text/html": [
              "<div>\n",
              "<style scoped>\n",
              "    .dataframe tbody tr th:only-of-type {\n",
              "        vertical-align: middle;\n",
              "    }\n",
              "\n",
              "    .dataframe tbody tr th {\n",
              "        vertical-align: top;\n",
              "    }\n",
              "\n",
              "    .dataframe thead th {\n",
              "        text-align: right;\n",
              "    }\n",
              "</style>\n",
              "<table border=\"1\" class=\"dataframe\">\n",
              "  <thead>\n",
              "    <tr style=\"text-align: right;\">\n",
              "      <th></th>\n",
              "      <th>advertisement.publication_date</th>\n",
              "      <th>advertisement.complete</th>\n",
              "      <th>enslaved_person.gender</th>\n",
              "      <th>enslaver.gender</th>\n",
              "      <th>enslaver.type</th>\n",
              "      <th>newspaper.name</th>\n",
              "      <th>runaway_reward.amount</th>\n",
              "      <th>newspaper_location.city</th>\n",
              "      <th>newspaper_location.state</th>\n",
              "      <th>year</th>\n",
              "    </tr>\n",
              "  </thead>\n",
              "  <tbody>\n",
              "    <tr>\n",
              "      <th>6429</th>\n",
              "      <td>1867-08-06</td>\n",
              "      <td>False</td>\n",
              "      <td>FEMALE</td>\n",
              "      <td>MALE</td>\n",
              "      <td>current</td>\n",
              "      <td>Greensborough Patriot</td>\n",
              "      <td>5.0</td>\n",
              "      <td>Greensboro</td>\n",
              "      <td>US-NC</td>\n",
              "      <td>1867</td>\n",
              "    </tr>\n",
              "    <tr>\n",
              "      <th>4887</th>\n",
              "      <td>1874-04-04</td>\n",
              "      <td>False</td>\n",
              "      <td>MALE</td>\n",
              "      <td>MALE</td>\n",
              "      <td>UNKNOWN</td>\n",
              "      <td>Weekly Pioneer</td>\n",
              "      <td>0.0</td>\n",
              "      <td>Asheville</td>\n",
              "      <td>US-NC</td>\n",
              "      <td>1874</td>\n",
              "    </tr>\n",
              "    <tr>\n",
              "      <th>4885</th>\n",
              "      <td>1874-04-04</td>\n",
              "      <td>False</td>\n",
              "      <td>MALE</td>\n",
              "      <td>MALE</td>\n",
              "      <td>current</td>\n",
              "      <td>Weekly Pioneer</td>\n",
              "      <td>0.0</td>\n",
              "      <td>Asheville</td>\n",
              "      <td>US-NC</td>\n",
              "      <td>1874</td>\n",
              "    </tr>\n",
              "    <tr>\n",
              "      <th>4888</th>\n",
              "      <td>1874-04-04</td>\n",
              "      <td>False</td>\n",
              "      <td>MALE</td>\n",
              "      <td>MALE</td>\n",
              "      <td>UNKNOWN</td>\n",
              "      <td>Weekly Pioneer</td>\n",
              "      <td>0.0</td>\n",
              "      <td>Asheville</td>\n",
              "      <td>US-NC</td>\n",
              "      <td>1874</td>\n",
              "    </tr>\n",
              "    <tr>\n",
              "      <th>4886</th>\n",
              "      <td>1874-04-04</td>\n",
              "      <td>False</td>\n",
              "      <td>MALE</td>\n",
              "      <td>MALE</td>\n",
              "      <td>current</td>\n",
              "      <td>Weekly Pioneer</td>\n",
              "      <td>0.0</td>\n",
              "      <td>Asheville</td>\n",
              "      <td>US-NC</td>\n",
              "      <td>1874</td>\n",
              "    </tr>\n",
              "  </tbody>\n",
              "</table>\n",
              "</div>"
            ],
            "text/plain": [
              "     advertisement.publication_date  ...  year\n",
              "6429                     1867-08-06  ...  1867\n",
              "4887                     1874-04-04  ...  1874\n",
              "4885                     1874-04-04  ...  1874\n",
              "4888                     1874-04-04  ...  1874\n",
              "4886                     1874-04-04  ...  1874\n",
              "\n",
              "[5 rows x 10 columns]"
            ]
          },
          "metadata": {
            "tags": []
          },
          "execution_count": 214
        }
      ]
    },
    {
      "cell_type": "code",
      "metadata": {
        "id": "q2Dg4iCrlUQC"
      },
      "source": [
        "fotm_dataframe = fotm_dataframe.reset_index(drop=True)"
      ],
      "execution_count": 215,
      "outputs": []
    },
    {
      "cell_type": "code",
      "metadata": {
        "id": "kgeVerCDlUQG"
      },
      "source": [
        "fotm = fotm_dataframe.copy(deep = True)"
      ],
      "execution_count": 216,
      "outputs": []
    },
    {
      "cell_type": "markdown",
      "metadata": {
        "id": "c5b2ofTxlUQK"
      },
      "source": [
        "### Newspaper with the most advertisments"
      ]
    },
    {
      "cell_type": "code",
      "metadata": {
        "id": "3eEiv9sdlUQK",
        "outputId": "5cc4112d-0101-4c2f-94cb-3ada729f618b",
        "colab": {
          "base_uri": "https://localhost:8080/"
        }
      },
      "source": [
        "fotm['newspaper.name'].value_counts()"
      ],
      "execution_count": 217,
      "outputs": [
        {
          "output_type": "execute_result",
          "data": {
            "text/plain": [
              "The Daily Picayune                                              2602\n",
              "New-Orleans Argus                                                998\n",
              "Charleston Mercury                                               683\n",
              "Milledgeville Federal Union                                      579\n",
              "Nashville Union                                                  380\n",
              "                                                                ... \n",
              "The United States Chronicle                                        1\n",
              "People's Press And Wilmington Advertiser                           1\n",
              "Elizabeth City Star And North Carolina Eastern Intelligencer       1\n",
              "Carolina Republican                                                1\n",
              "Milton Gazette And Roanoke Advertiser                              1\n",
              "Name: newspaper.name, Length: 157, dtype: int64"
            ]
          },
          "metadata": {
            "tags": []
          },
          "execution_count": 217
        }
      ]
    },
    {
      "cell_type": "markdown",
      "metadata": {
        "id": "LybOfboflUQM"
      },
      "source": [
        "### Number of Complete vs Incomplete Advertisments"
      ]
    },
    {
      "cell_type": "code",
      "metadata": {
        "id": "0p8ijST1lUQN",
        "outputId": "c178d1a5-26a8-48ff-e570-333b3cf75f22",
        "colab": {
          "base_uri": "https://localhost:8080/"
        }
      },
      "source": [
        "fotm['advertisement.complete'].value_counts()"
      ],
      "execution_count": 218,
      "outputs": [
        {
          "output_type": "execute_result",
          "data": {
            "text/plain": [
              "False    8204\n",
              "True      865\n",
              "Name: advertisement.complete, dtype: int64"
            ]
          },
          "metadata": {
            "tags": []
          },
          "execution_count": 218
        }
      ]
    },
    {
      "cell_type": "markdown",
      "metadata": {
        "id": "VCSS0yINlUQY"
      },
      "source": [
        "### States with the most advertistments"
      ]
    },
    {
      "cell_type": "code",
      "metadata": {
        "id": "_d7iGK0xlUQZ",
        "outputId": "e5d26fdf-2b68-48e1-cbaa-fc205f0bcd9e",
        "colab": {
          "base_uri": "https://localhost:8080/"
        }
      },
      "source": [
        "fotm['newspaper_location.state'].value_counts()"
      ],
      "execution_count": 219,
      "outputs": [
        {
          "output_type": "execute_result",
          "data": {
            "text/plain": [
              "US-LA    3748\n",
              "US-NC    1667\n",
              "US-SC    1225\n",
              "US-AL     776\n",
              "US-GA     628\n",
              "US-TN     403\n",
              "US-MA     370\n",
              "US-NY     110\n",
              "US-NJ      49\n",
              "US-CT      34\n",
              "US-VA      26\n",
              "US-PA      15\n",
              "US-NH      13\n",
              "US-RI       5\n",
              "Name: newspaper_location.state, dtype: int64"
            ]
          },
          "metadata": {
            "tags": []
          },
          "execution_count": 219
        }
      ]
    },
    {
      "cell_type": "markdown",
      "metadata": {
        "id": "HiWeSJR1lUQb"
      },
      "source": [
        "## Frequency of reward amount"
      ]
    },
    {
      "cell_type": "code",
      "metadata": {
        "id": "xmFbO9rClUQc",
        "outputId": "1074e8df-477a-4c10-bd4d-53ea30cea8e5",
        "colab": {
          "base_uri": "https://localhost:8080/"
        }
      },
      "source": [
        "fotm['runaway_reward.amount'].value_counts()"
      ],
      "execution_count": 220,
      "outputs": [
        {
          "output_type": "execute_result",
          "data": {
            "text/plain": [
              "0.0        3737\n",
              "10.0       1087\n",
              "20.0       1000\n",
              "50.0        809\n",
              "25.0        717\n",
              "100.0       433\n",
              "5.0         289\n",
              "15.0        174\n",
              "30.0        173\n",
              "40.0        166\n",
              "200.0       134\n",
              "3.0          38\n",
              "2.0          37\n",
              "60.0         32\n",
              "75.0         31\n",
              "1.0          29\n",
              "500.0        28\n",
              "8.0          21\n",
              "4.0          17\n",
              "90.0         16\n",
              "6.0          15\n",
              "300.0        14\n",
              "150.0        12\n",
              "70.0         11\n",
              "250.0         8\n",
              "45.0          4\n",
              "1000.0        4\n",
              "23.0          4\n",
              "21.0          4\n",
              "35.0          3\n",
              "61.0          3\n",
              "59.0          3\n",
              "400.0         3\n",
              "55.0          2\n",
              "10000.0       1\n",
              "24.0          1\n",
              "16.0          1\n",
              "320.0         1\n",
              "950.0         1\n",
              "820.0         1\n",
              "13.0          1\n",
              "135.0         1\n",
              "225.0         1\n",
              "3000.0        1\n",
              "29.0          1\n",
              "Name: runaway_reward.amount, dtype: int64"
            ]
          },
          "metadata": {
            "tags": []
          },
          "execution_count": 220
        }
      ]
    },
    {
      "cell_type": "markdown",
      "metadata": {
        "id": "bH0cpEDilUQi"
      },
      "source": [
        "### View The highest reward amounts and rows without amounts = `0.0`  and amounts >= `2000` since they will be anomalies in our analysis"
      ]
    },
    {
      "cell_type": "code",
      "metadata": {
        "id": "NFY2rxTslUQi"
      },
      "source": [
        "filt = (fotm['runaway_reward.amount'] > 0.0) & (fotm['runaway_reward.amount'] <= 2000)"
      ],
      "execution_count": 221,
      "outputs": []
    },
    {
      "cell_type": "code",
      "metadata": {
        "id": "Ax--OAhnlUQl",
        "outputId": "d592ff22-c33e-4ebd-fa53-2406bcd7b23e",
        "colab": {
          "base_uri": "https://localhost:8080/"
        }
      },
      "source": [
        "fotm_amount_between_1_And_2000= fotm.loc[filt]\n",
        "fotm_amount_between_1_And_2000.shape"
      ],
      "execution_count": 222,
      "outputs": [
        {
          "output_type": "execute_result",
          "data": {
            "text/plain": [
              "(5330, 10)"
            ]
          },
          "metadata": {
            "tags": []
          },
          "execution_count": 222
        }
      ]
    },
    {
      "cell_type": "code",
      "metadata": {
        "id": "0iSwD1UK_7d3",
        "outputId": "e07bcb01-1051-4892-e8fb-448ddc59195a",
        "colab": {
          "base_uri": "https://localhost:8080/"
        }
      },
      "source": [
        "fotm_amount_between_1_And_2000[\"runaway_reward.amount\"].max()"
      ],
      "execution_count": 223,
      "outputs": [
        {
          "output_type": "execute_result",
          "data": {
            "text/plain": [
              "1000.0"
            ]
          },
          "metadata": {
            "tags": []
          },
          "execution_count": 223
        }
      ]
    },
    {
      "cell_type": "code",
      "metadata": {
        "id": "HOPi6DcSlUQq",
        "outputId": "238fa53a-8446-48cf-8a9e-6bd6b0515a5b",
        "colab": {
          "base_uri": "https://localhost:8080/"
        }
      },
      "source": [
        "fotm_amount_between_1_And_2000.info()"
      ],
      "execution_count": 224,
      "outputs": [
        {
          "output_type": "stream",
          "text": [
            "<class 'pandas.core.frame.DataFrame'>\n",
            "Int64Index: 5330 entries, 5 to 9064\n",
            "Data columns (total 10 columns):\n",
            " #   Column                          Non-Null Count  Dtype        \n",
            "---  ------                          --------------  -----        \n",
            " 0   advertisement.publication_date  5330 non-null   object       \n",
            " 1   advertisement.complete          5330 non-null   bool         \n",
            " 2   enslaved_person.gender          5330 non-null   object       \n",
            " 3   enslaver.gender                 5330 non-null   object       \n",
            " 4   enslaver.type                   5330 non-null   object       \n",
            " 5   newspaper.name                  5330 non-null   object       \n",
            " 6   runaway_reward.amount           5330 non-null   float64      \n",
            " 7   newspaper_location.city         5330 non-null   object       \n",
            " 8   newspaper_location.state        5330 non-null   object       \n",
            " 9   year                            5330 non-null   period[A-DEC]\n",
            "dtypes: bool(1), float64(1), object(7), period[A-DEC](1)\n",
            "memory usage: 421.6+ KB\n"
          ],
          "name": "stdout"
        }
      ]
    },
    {
      "cell_type": "code",
      "metadata": {
        "id": "6VV1jR0PlUQt"
      },
      "source": [
        "fotm_visualization = fotm_amount_between_1_And_2000.copy(deep = True)"
      ],
      "execution_count": 225,
      "outputs": []
    },
    {
      "cell_type": "markdown",
      "metadata": {
        "id": "dXOwuUaBAbO8"
      },
      "source": [
        "## Basic Plots\n",
        "\n",
        "- Minimum Year is  : 1704\n",
        "- Maximum Year is  : 1974\n"
      ]
    },
    {
      "cell_type": "code",
      "metadata": {
        "id": "T_IksYR_lUQv",
        "outputId": "f0cc4298-3d26-45e9-b6f6-3b63b8dd3177",
        "colab": {
          "base_uri": "https://localhost:8080/",
          "height": 855
        }
      },
      "source": [
        "test = fotm_visualization.where((fotm_visualization['advertisement.publication_date'] >='1700') & (fotm_visualization['advertisement.publication_date'] <= '1750')).dropna()\n",
        "\n",
        "test.plot(x = 'year',\n",
        "          y='runaway_reward.amount',\n",
        "          kind = 'bar',\n",
        "          rot = 45,\n",
        "          alpha = 0.4,\n",
        "          figsize=(20,14))"
      ],
      "execution_count": 230,
      "outputs": [
        {
          "output_type": "execute_result",
          "data": {
            "text/plain": [
              "<matplotlib.axes._subplots.AxesSubplot at 0x7f5a9660f2e8>"
            ]
          },
          "metadata": {
            "tags": []
          },
          "execution_count": 230
        },
        {
          "output_type": "display_data",
          "data": {
            "image/png": "[encoded data removed]",
            "text/plain": [
              "<Figure size 1440x1008 with 1 Axes>"
            ]
          },
          "metadata": {
            "tags": [],
            "needs_background": "light"
          }
        }
      ]
    },
    {
      "cell_type": "markdown",
      "metadata": {
        "id": "XYmDU91FlURC"
      },
      "source": [
        "## Visualization using Seaborn \n",
        "\n",
        " This is going to be your best friend```df.loc[df['column_name'] == value]```\n",
        " \n",
        " "
      ]
    },
    {
      "cell_type": "code",
      "metadata": {
        "id": "4-vc1BzullAW",
        "outputId": "793ad85e-10f8-42cb-c279-c891825bddca",
        "colab": {
          "base_uri": "https://localhost:8080/",
          "height": 400
        }
      },
      "source": [
        "test = fotm_visualization.where((fotm_visualization['advertisement.publication_date'] >='1704') & (fotm_visualization['advertisement.publication_date'] <= '1750')).dropna()\n",
        "\n",
        "sns.catplot(\n",
        "         x = 'advertisement.complete',\n",
        "        data = test,\n",
        "        kind = 'count')\n"
      ],
      "execution_count": 231,
      "outputs": [
        {
          "output_type": "execute_result",
          "data": {
            "text/plain": [
              "<seaborn.axisgrid.FacetGrid at 0x7f5a965d27f0>"
            ]
          },
          "metadata": {
            "tags": []
          },
          "execution_count": 231
        },
        {
          "output_type": "display_data",
          "data": {
            "image/png": "[encoded data removed]",
            "text/plain": [
              "<Figure size 360x360 with 1 Axes>"
            ]
          },
          "metadata": {
            "tags": [],
            "needs_background": "light"
          }
        }
      ]
    },
    {
      "cell_type": "code",
      "metadata": {
        "id": "PR4CZGOtkliI",
        "outputId": "21241751-79a8-4712-eedb-4702c2168ebb",
        "colab": {
          "base_uri": "https://localhost:8080/",
          "height": 400
        }
      },
      "source": [
        "test = fotm_visualization.where((fotm_visualization['advertisement.publication_date'] >='1751') & (fotm_visualization['advertisement.publication_date'] <= '1800')).dropna()\n",
        "\n",
        "sns.catplot(\n",
        "         x = 'advertisement.complete',\n",
        "        data = test,\n",
        "        kind = 'count')\n"
      ],
      "execution_count": 68,
      "outputs": [
        {
          "output_type": "execute_result",
          "data": {
            "text/plain": [
              "<seaborn.axisgrid.FacetGrid at 0x7f5a99dc2b00>"
            ]
          },
          "metadata": {
            "tags": []
          },
          "execution_count": 68
        },
        {
          "output_type": "display_data",
          "data": {
            "image/png": "[encoded data removed]",
            "text/plain": [
              "<Figure size 360x360 with 1 Axes>"
            ]
          },
          "metadata": {
            "tags": [],
            "needs_background": "light"
          }
        }
      ]
    },
    {
      "cell_type": "code",
      "metadata": {
        "id": "PwKKVkp1ldpN",
        "outputId": "897ababc-f76a-46e5-c1af-6eba4527d980",
        "colab": {
          "base_uri": "https://localhost:8080/",
          "height": 400
        }
      },
      "source": [
        "test = fotm_visualization.where((fotm_visualization['advertisement.publication_date'] >='1801') & (fotm_visualization['advertisement.publication_date'] <= '1874')).dropna()\n",
        "\n",
        "sns.catplot(\n",
        "         x = 'advertisement.complete',\n",
        "        data = test,\n",
        "        kind = 'count')\n"
      ],
      "execution_count": 69,
      "outputs": [
        {
          "output_type": "execute_result",
          "data": {
            "text/plain": [
              "<seaborn.axisgrid.FacetGrid at 0x7f5a99dd3048>"
            ]
          },
          "metadata": {
            "tags": []
          },
          "execution_count": 69
        },
        {
          "output_type": "display_data",
          "data": {
            "image/png": "[encoded data removed]",
            "text/plain": [
              "<Figure size 360x360 with 1 Axes>"
            ]
          },
          "metadata": {
            "tags": [],
            "needs_background": "light"
          }
        }
      ]
    },
    {
      "cell_type": "code",
      "metadata": {
        "id": "ocQ_ks9OmV7T",
        "outputId": "4fbb63b0-e824-491c-ae3c-d8a356fd5697",
        "colab": {
          "base_uri": "https://localhost:8080/",
          "height": 404
        }
      },
      "source": [
        "x = sns.catplot(y = 'runaway_reward.amount',\n",
        "         x = 'newspaper_location.state',\n",
        "         hue = 'enslaver.type',\n",
        "        data = fotm_visualization,\n",
        "        jitter = False)\n",
        "\n",
        "x.set_xticklabels(rotation=45)\n",
        "x.fig.set_figwidth(20)\n",
        "x.fig.set_figheight(5)"
      ],
      "execution_count": 237,
      "outputs": [
        {
          "output_type": "display_data",
          "data": {
            "image/png": "[encoded data removed]",
            "text/plain": [
              "<Figure size 1440x360 with 1 Axes>"
            ]
          },
          "metadata": {
            "tags": [],
            "needs_background": "light"
          }
        }
      ]
    },
    {
      "cell_type": "code",
      "metadata": {
        "id": "cUp5LEbflURE",
        "outputId": "4f2bb863-734c-41e7-b801-198ca13a2489",
        "colab": {
          "base_uri": "https://localhost:8080/",
          "height": 421
        }
      },
      "source": [
        "x = sns.catplot(y = 'runaway_reward.amount',\n",
        "         x = 'newspaper_location.state',\n",
        "        data = fotm_visualization,\n",
        "        jitter = False)\n",
        "\n",
        "x.set_xticklabels(rotation=45)"
      ],
      "execution_count": 70,
      "outputs": [
        {
          "output_type": "execute_result",
          "data": {
            "text/plain": [
              "<seaborn.axisgrid.FacetGrid at 0x7f5a99e11908>"
            ]
          },
          "metadata": {
            "tags": []
          },
          "execution_count": 70
        },
        {
          "output_type": "display_data",
          "data": {
            "image/png": "[encoded data removed]",
            "text/plain": [
              "<Figure size 360x360 with 1 Axes>"
            ]
          },
          "metadata": {
            "tags": [],
            "needs_background": "light"
          }
        }
      ]
    },
    {
      "cell_type": "code",
      "metadata": {
        "id": "JxcsVryVlURG",
        "outputId": "ed6726a6-a62c-4595-88db-2303e9c48f65",
        "colab": {
          "base_uri": "https://localhost:8080/",
          "height": 399
        }
      },
      "source": [
        "sns.catplot(y = 'runaway_reward.amount',\n",
        "         x = 'newspaper_location.state',\n",
        "        data = fotm_visualization,\n",
        "        kind = 'box')"
      ],
      "execution_count": 211,
      "outputs": [
        {
          "output_type": "execute_result",
          "data": {
            "text/plain": [
              "<seaborn.axisgrid.FacetGrid at 0x7fe29f9d5080>"
            ]
          },
          "metadata": {
            "tags": []
          },
          "execution_count": 211
        },
        {
          "output_type": "display_data",
          "data": {
            "image/png": "[encoded data removed]",
            "text/plain": [
              "<Figure size 360x360 with 1 Axes>"
            ]
          },
          "metadata": {
            "tags": []
          }
        }
      ]
    },
    {
      "cell_type": "code",
      "metadata": {
        "id": "VNy7IjA7jwYZ"
      },
      "source": [
        "sns.catplot(y = 'runaway_reward.amount',\n",
        "         x = 'newspaper_location.state',\n",
        "         hue = 'advertisement.complete',\n",
        "        data = fotm_visualization,\n",
        "        kind = )"
      ],
      "execution_count": null,
      "outputs": []
    },
    {
      "cell_type": "code",
      "metadata": {
        "id": "KCgdmw0skBCi",
        "outputId": "c48e29b3-d953-4b23-dc4f-c355b0ea2b05"
      },
      "source": [
        "testing_module.info()"
      ],
      "execution_count": null,
      "outputs": [
        {
          "output_type": "stream",
          "text": [
            "<class 'pandas.core.frame.DataFrame'>\n",
            "Int64Index: 621 entries, 61 to 1002\n",
            "Data columns (total 9 columns):\n",
            " #   Column                          Non-Null Count  Dtype  \n",
            "---  ------                          --------------  -----  \n",
            " 0   advertisement.publication_date  621 non-null    object \n",
            " 1   advertisement.complete          621 non-null    float64\n",
            " 2   enslaved_person.gender          621 non-null    object \n",
            " 3   enslaver.gender                 621 non-null    object \n",
            " 4   enslaver.type                   621 non-null    object \n",
            " 5   newspaper.name                  621 non-null    object \n",
            " 6   runaway_reward.amount           621 non-null    float64\n",
            " 7   newspaper_location.city         621 non-null    object \n",
            " 8   newspaper_location.state        621 non-null    object \n",
            "dtypes: float64(2), object(7)\n",
            "memory usage: 48.5+ KB\n"
          ],
          "name": "stdout"
        }
      ]
    },
    {
      "cell_type": "code",
      "metadata": {
        "id": "l3Oe2XdxkATC",
        "outputId": "c48e29b3-d953-4b23-dc4f-c355b0ea2b05"
      },
      "source": [
        "testing_module.info()"
      ],
      "execution_count": null,
      "outputs": [
        {
          "output_type": "stream",
          "text": [
            "<class 'pandas.core.frame.DataFrame'>\n",
            "Int64Index: 621 entries, 61 to 1002\n",
            "Data columns (total 9 columns):\n",
            " #   Column                          Non-Null Count  Dtype  \n",
            "---  ------                          --------------  -----  \n",
            " 0   advertisement.publication_date  621 non-null    object \n",
            " 1   advertisement.complete          621 non-null    float64\n",
            " 2   enslaved_person.gender          621 non-null    object \n",
            " 3   enslaver.gender                 621 non-null    object \n",
            " 4   enslaver.type                   621 non-null    object \n",
            " 5   newspaper.name                  621 non-null    object \n",
            " 6   runaway_reward.amount           621 non-null    float64\n",
            " 7   newspaper_location.city         621 non-null    object \n",
            " 8   newspaper_location.state        621 non-null    object \n",
            "dtypes: float64(2), object(7)\n",
            "memory usage: 48.5+ KB\n"
          ],
          "name": "stdout"
        }
      ]
    },
    {
      "cell_type": "code",
      "metadata": {
        "id": "DLZLfkjllURI"
      },
      "source": [
        "plt.figure(figsize=(20,5))\n",
        "x = sns.catplot(#x = 'enslaver.type',\n",
        "        x = 'runaway_reward.amount',\n",
        "        #hue = 'enslaver.gender',\n",
        "            kind=\"count\",\n",
        "        orient = 'h',\n",
        "        col=\"advertisement.complete\",\n",
        "        data = fotm,\n",
        "       )#.loc[fotm['advertisement.complete'] == True])\n",
        "x.set_xticklabels(rotation=90)\n",
        "\n"
      ],
      "execution_count": null,
      "outputs": []
    },
    {
      "cell_type": "markdown",
      "metadata": {
        "id": "HHWGAdE3lURJ"
      },
      "source": [
        "## Exploring The Boston News-Letter Newspaper "
      ]
    },
    {
      "cell_type": "code",
      "metadata": {
        "id": "N3_aDBbhlURJ",
        "outputId": "861fedf5-eeab-4160-d4cd-1e40fba1477f",
        "colab": {
          "base_uri": "https://localhost:8080/",
          "height": 617
        }
      },
      "source": [
        "Boston_Letter_Df = fotm_visualization.loc[fotm_visualization['newspaper.name'] == 'The Daily Picayune']\n",
        "#Boston_Letter_Df = fotm_dataset_modified.loc[fotm_dataset_modified['runaway_reward.amount'] > 0.0]\n",
        "Boston_Letter_Df"
      ],
      "execution_count": 238,
      "outputs": [
        {
          "output_type": "execute_result",
          "data": {
            "text/html": [
              "<div>\n",
              "<style scoped>\n",
              "    .dataframe tbody tr th:only-of-type {\n",
              "        vertical-align: middle;\n",
              "    }\n",
              "\n",
              "    .dataframe tbody tr th {\n",
              "        vertical-align: top;\n",
              "    }\n",
              "\n",
              "    .dataframe thead th {\n",
              "        text-align: right;\n",
              "    }\n",
              "</style>\n",
              "<table border=\"1\" class=\"dataframe\">\n",
              "  <thead>\n",
              "    <tr style=\"text-align: right;\">\n",
              "      <th></th>\n",
              "      <th>advertisement.publication_date</th>\n",
              "      <th>advertisement.complete</th>\n",
              "      <th>enslaved_person.gender</th>\n",
              "      <th>enslaver.gender</th>\n",
              "      <th>enslaver.type</th>\n",
              "      <th>newspaper.name</th>\n",
              "      <th>runaway_reward.amount</th>\n",
              "      <th>newspaper_location.city</th>\n",
              "      <th>newspaper_location.state</th>\n",
              "      <th>year</th>\n",
              "    </tr>\n",
              "  </thead>\n",
              "  <tbody>\n",
              "    <tr>\n",
              "      <th>4701</th>\n",
              "      <td>1837-04-11</td>\n",
              "      <td>False</td>\n",
              "      <td>FEMALE</td>\n",
              "      <td>UNKNOWN</td>\n",
              "      <td>UNKNOWN</td>\n",
              "      <td>The Daily Picayune</td>\n",
              "      <td>5.0</td>\n",
              "      <td>New Orleans</td>\n",
              "      <td>US-LA</td>\n",
              "      <td>1837</td>\n",
              "    </tr>\n",
              "    <tr>\n",
              "      <th>4702</th>\n",
              "      <td>1837-04-11</td>\n",
              "      <td>False</td>\n",
              "      <td>FEMALE</td>\n",
              "      <td>UNKNOWN</td>\n",
              "      <td>UNKNOWN</td>\n",
              "      <td>The Daily Picayune</td>\n",
              "      <td>10.0</td>\n",
              "      <td>New Orleans</td>\n",
              "      <td>US-LA</td>\n",
              "      <td>1837</td>\n",
              "    </tr>\n",
              "    <tr>\n",
              "      <th>4703</th>\n",
              "      <td>1837-04-11</td>\n",
              "      <td>False</td>\n",
              "      <td>FEMALE</td>\n",
              "      <td>UNKNOWN</td>\n",
              "      <td>UNKNOWN</td>\n",
              "      <td>The Daily Picayune</td>\n",
              "      <td>135.0</td>\n",
              "      <td>New Orleans</td>\n",
              "      <td>US-LA</td>\n",
              "      <td>1837</td>\n",
              "    </tr>\n",
              "    <tr>\n",
              "      <th>4704</th>\n",
              "      <td>1837-04-11</td>\n",
              "      <td>False</td>\n",
              "      <td>MALE</td>\n",
              "      <td>MALE</td>\n",
              "      <td>current</td>\n",
              "      <td>The Daily Picayune</td>\n",
              "      <td>10.0</td>\n",
              "      <td>New Orleans</td>\n",
              "      <td>US-LA</td>\n",
              "      <td>1837</td>\n",
              "    </tr>\n",
              "    <tr>\n",
              "      <th>4712</th>\n",
              "      <td>1837-05-03</td>\n",
              "      <td>False</td>\n",
              "      <td>FEMALE</td>\n",
              "      <td>UNKNOWN</td>\n",
              "      <td>current</td>\n",
              "      <td>The Daily Picayune</td>\n",
              "      <td>5.0</td>\n",
              "      <td>New Orleans</td>\n",
              "      <td>US-LA</td>\n",
              "      <td>1837</td>\n",
              "    </tr>\n",
              "    <tr>\n",
              "      <th>...</th>\n",
              "      <td>...</td>\n",
              "      <td>...</td>\n",
              "      <td>...</td>\n",
              "      <td>...</td>\n",
              "      <td>...</td>\n",
              "      <td>...</td>\n",
              "      <td>...</td>\n",
              "      <td>...</td>\n",
              "      <td>...</td>\n",
              "      <td>...</td>\n",
              "    </tr>\n",
              "    <tr>\n",
              "      <th>8529</th>\n",
              "      <td>1854-12-19</td>\n",
              "      <td>False</td>\n",
              "      <td>MALE</td>\n",
              "      <td>UNKNOWN</td>\n",
              "      <td>UNKNOWN</td>\n",
              "      <td>The Daily Picayune</td>\n",
              "      <td>10.0</td>\n",
              "      <td>New Orleans</td>\n",
              "      <td>US-LA</td>\n",
              "      <td>1854</td>\n",
              "    </tr>\n",
              "    <tr>\n",
              "      <th>8530</th>\n",
              "      <td>1854-12-19</td>\n",
              "      <td>False</td>\n",
              "      <td>MALE</td>\n",
              "      <td>MALE</td>\n",
              "      <td>current</td>\n",
              "      <td>The Daily Picayune</td>\n",
              "      <td>100.0</td>\n",
              "      <td>New Orleans</td>\n",
              "      <td>US-LA</td>\n",
              "      <td>1854</td>\n",
              "    </tr>\n",
              "    <tr>\n",
              "      <th>8531</th>\n",
              "      <td>1854-12-31</td>\n",
              "      <td>False</td>\n",
              "      <td>MALE</td>\n",
              "      <td>MALE</td>\n",
              "      <td>current</td>\n",
              "      <td>The Daily Picayune</td>\n",
              "      <td>50.0</td>\n",
              "      <td>New Orleans</td>\n",
              "      <td>US-LA</td>\n",
              "      <td>1854</td>\n",
              "    </tr>\n",
              "    <tr>\n",
              "      <th>8532</th>\n",
              "      <td>1854-12-31</td>\n",
              "      <td>False</td>\n",
              "      <td>MALE</td>\n",
              "      <td>MALE</td>\n",
              "      <td>current</td>\n",
              "      <td>The Daily Picayune</td>\n",
              "      <td>25.0</td>\n",
              "      <td>New Orleans</td>\n",
              "      <td>US-LA</td>\n",
              "      <td>1854</td>\n",
              "    </tr>\n",
              "    <tr>\n",
              "      <th>8533</th>\n",
              "      <td>1854-12-31</td>\n",
              "      <td>False</td>\n",
              "      <td>MALE</td>\n",
              "      <td>MALE</td>\n",
              "      <td>current</td>\n",
              "      <td>The Daily Picayune</td>\n",
              "      <td>200.0</td>\n",
              "      <td>New Orleans</td>\n",
              "      <td>US-LA</td>\n",
              "      <td>1854</td>\n",
              "    </tr>\n",
              "  </tbody>\n",
              "</table>\n",
              "<p>1762 rows × 10 columns</p>\n",
              "</div>"
            ],
            "text/plain": [
              "     advertisement.publication_date  ...  year\n",
              "4701                     1837-04-11  ...  1837\n",
              "4702                     1837-04-11  ...  1837\n",
              "4703                     1837-04-11  ...  1837\n",
              "4704                     1837-04-11  ...  1837\n",
              "4712                     1837-05-03  ...  1837\n",
              "...                             ...  ...   ...\n",
              "8529                     1854-12-19  ...  1854\n",
              "8530                     1854-12-19  ...  1854\n",
              "8531                     1854-12-31  ...  1854\n",
              "8532                     1854-12-31  ...  1854\n",
              "8533                     1854-12-31  ...  1854\n",
              "\n",
              "[1762 rows x 10 columns]"
            ]
          },
          "metadata": {
            "tags": []
          },
          "execution_count": 238
        }
      ]
    },
    {
      "cell_type": "code",
      "metadata": {
        "id": "bCg4AZYklURL",
        "outputId": "23c459d3-a4b1-4b9c-e7c1-8a85980defdc",
        "colab": {
          "base_uri": "https://localhost:8080/",
          "height": 383
        }
      },
      "source": [
        "x = sns.catplot(x = 'enslaver.type',\n",
        "        y = 'runaway_reward.amount',\n",
        "        hue = 'year',\n",
        "        data = Boston_Letter_Df)\n",
        "\n",
        "x.fig.set_figwidth(10)\n",
        "x.fig.set_figheight(5)"
      ],
      "execution_count": 247,
      "outputs": [
        {
          "output_type": "display_data",
          "data": {
            "image/png": "[encoded data removed]",
            "text/plain": [
              "<Figure size 720x360 with 1 Axes>"
            ]
          },
          "metadata": {
            "tags": [],
            "needs_background": "light"
          }
        }
      ]
    },
    {
      "cell_type": "code",
      "metadata": {
        "id": "iAhu9ZMKlURQ"
      },
      "source": [
        ""
      ],
      "execution_count": null,
      "outputs": []
    },
    {
      "cell_type": "markdown",
      "metadata": {
        "id": "UzpFtry2lURT"
      },
      "source": [
        "## Looking at a State"
      ]
    },
    {
      "cell_type": "code",
      "metadata": {
        "id": "X4IDlpwIn1uP"
      },
      "source": [
        "fotm_visualization['month_year'] = pd.to_datetime(fotm_visualization['advertisement.publication_date']).dt.to_period('Y')"
      ],
      "execution_count": 81,
      "outputs": []
    },
    {
      "cell_type": "code",
      "metadata": {
        "id": "PaNxx1rplURU",
        "outputId": "6c1757fe-b133-4d19-8809-2523c5bfa776",
        "colab": {
          "base_uri": "https://localhost:8080/",
          "height": 617
        }
      },
      "source": [
        "Lousiana_df = fotm_visualization.loc[fotm_visualization['newspaper_location.state'] == 'US-LA']"
      ],
      "execution_count": 107,
      "outputs": [
        {
          "output_type": "execute_result",
          "data": {
            "text/html": [
              "<div>\n",
              "<style scoped>\n",
              "    .dataframe tbody tr th:only-of-type {\n",
              "        vertical-align: middle;\n",
              "    }\n",
              "\n",
              "    .dataframe tbody tr th {\n",
              "        vertical-align: top;\n",
              "    }\n",
              "\n",
              "    .dataframe thead th {\n",
              "        text-align: right;\n",
              "    }\n",
              "</style>\n",
              "<table border=\"1\" class=\"dataframe\">\n",
              "  <thead>\n",
              "    <tr style=\"text-align: right;\">\n",
              "      <th></th>\n",
              "      <th>advertisement.publication_date</th>\n",
              "      <th>advertisement.complete</th>\n",
              "      <th>enslaved_person.gender</th>\n",
              "      <th>enslaver.gender</th>\n",
              "      <th>enslaver.type</th>\n",
              "      <th>newspaper.name</th>\n",
              "      <th>runaway_reward.amount</th>\n",
              "      <th>newspaper_location.city</th>\n",
              "      <th>newspaper_location.state</th>\n",
              "      <th>month_year</th>\n",
              "    </tr>\n",
              "  </thead>\n",
              "  <tbody>\n",
              "    <tr>\n",
              "      <th>1473</th>\n",
              "      <td>1820-06-13</td>\n",
              "      <td>False</td>\n",
              "      <td>MALE</td>\n",
              "      <td>MALE</td>\n",
              "      <td>UNKNOWN</td>\n",
              "      <td>Louisiana Advertiser</td>\n",
              "      <td>20.0</td>\n",
              "      <td>New Orleans</td>\n",
              "      <td>US-LA</td>\n",
              "      <td>1820</td>\n",
              "    </tr>\n",
              "    <tr>\n",
              "      <th>1491</th>\n",
              "      <td>1820-12-13</td>\n",
              "      <td>False</td>\n",
              "      <td>MALE</td>\n",
              "      <td>MALE</td>\n",
              "      <td>UNKNOWN</td>\n",
              "      <td>Louisiana Advertiser</td>\n",
              "      <td>100.0</td>\n",
              "      <td>New Orleans</td>\n",
              "      <td>US-LA</td>\n",
              "      <td>1820</td>\n",
              "    </tr>\n",
              "    <tr>\n",
              "      <th>2236</th>\n",
              "      <td>1826-06-08</td>\n",
              "      <td>False</td>\n",
              "      <td>MALE</td>\n",
              "      <td>MALE</td>\n",
              "      <td>current</td>\n",
              "      <td>Louisiana State Gazette</td>\n",
              "      <td>50.0</td>\n",
              "      <td>New Orleans</td>\n",
              "      <td>US-LA</td>\n",
              "      <td>1826</td>\n",
              "    </tr>\n",
              "    <tr>\n",
              "      <th>2250</th>\n",
              "      <td>1826-06-16</td>\n",
              "      <td>False</td>\n",
              "      <td>MALE</td>\n",
              "      <td>MALE</td>\n",
              "      <td>current</td>\n",
              "      <td>Louisiana State Gazette</td>\n",
              "      <td>20.0</td>\n",
              "      <td>New Orleans</td>\n",
              "      <td>US-LA</td>\n",
              "      <td>1826</td>\n",
              "    </tr>\n",
              "    <tr>\n",
              "      <th>2273</th>\n",
              "      <td>1826-07-10</td>\n",
              "      <td>False</td>\n",
              "      <td>MALE</td>\n",
              "      <td>MALE</td>\n",
              "      <td>current</td>\n",
              "      <td>Louisiana State Gazette</td>\n",
              "      <td>25.0</td>\n",
              "      <td>New Orleans</td>\n",
              "      <td>US-LA</td>\n",
              "      <td>1826</td>\n",
              "    </tr>\n",
              "    <tr>\n",
              "      <th>...</th>\n",
              "      <td>...</td>\n",
              "      <td>...</td>\n",
              "      <td>...</td>\n",
              "      <td>...</td>\n",
              "      <td>...</td>\n",
              "      <td>...</td>\n",
              "      <td>...</td>\n",
              "      <td>...</td>\n",
              "      <td>...</td>\n",
              "      <td>...</td>\n",
              "    </tr>\n",
              "    <tr>\n",
              "      <th>8529</th>\n",
              "      <td>1854-12-19</td>\n",
              "      <td>False</td>\n",
              "      <td>MALE</td>\n",
              "      <td>UNKNOWN</td>\n",
              "      <td>UNKNOWN</td>\n",
              "      <td>The Daily Picayune</td>\n",
              "      <td>10.0</td>\n",
              "      <td>New Orleans</td>\n",
              "      <td>US-LA</td>\n",
              "      <td>1854</td>\n",
              "    </tr>\n",
              "    <tr>\n",
              "      <th>8530</th>\n",
              "      <td>1854-12-19</td>\n",
              "      <td>False</td>\n",
              "      <td>MALE</td>\n",
              "      <td>MALE</td>\n",
              "      <td>current</td>\n",
              "      <td>The Daily Picayune</td>\n",
              "      <td>100.0</td>\n",
              "      <td>New Orleans</td>\n",
              "      <td>US-LA</td>\n",
              "      <td>1854</td>\n",
              "    </tr>\n",
              "    <tr>\n",
              "      <th>8531</th>\n",
              "      <td>1854-12-31</td>\n",
              "      <td>False</td>\n",
              "      <td>MALE</td>\n",
              "      <td>MALE</td>\n",
              "      <td>current</td>\n",
              "      <td>The Daily Picayune</td>\n",
              "      <td>50.0</td>\n",
              "      <td>New Orleans</td>\n",
              "      <td>US-LA</td>\n",
              "      <td>1854</td>\n",
              "    </tr>\n",
              "    <tr>\n",
              "      <th>8532</th>\n",
              "      <td>1854-12-31</td>\n",
              "      <td>False</td>\n",
              "      <td>MALE</td>\n",
              "      <td>MALE</td>\n",
              "      <td>current</td>\n",
              "      <td>The Daily Picayune</td>\n",
              "      <td>25.0</td>\n",
              "      <td>New Orleans</td>\n",
              "      <td>US-LA</td>\n",
              "      <td>1854</td>\n",
              "    </tr>\n",
              "    <tr>\n",
              "      <th>8533</th>\n",
              "      <td>1854-12-31</td>\n",
              "      <td>False</td>\n",
              "      <td>MALE</td>\n",
              "      <td>MALE</td>\n",
              "      <td>current</td>\n",
              "      <td>The Daily Picayune</td>\n",
              "      <td>200.0</td>\n",
              "      <td>New Orleans</td>\n",
              "      <td>US-LA</td>\n",
              "      <td>1854</td>\n",
              "    </tr>\n",
              "  </tbody>\n",
              "</table>\n",
              "<p>2139 rows × 10 columns</p>\n",
              "</div>"
            ],
            "text/plain": [
              "     advertisement.publication_date  ...  month_year\n",
              "1473                     1820-06-13  ...        1820\n",
              "1491                     1820-12-13  ...        1820\n",
              "2236                     1826-06-08  ...        1826\n",
              "2250                     1826-06-16  ...        1826\n",
              "2273                     1826-07-10  ...        1826\n",
              "...                             ...  ...         ...\n",
              "8529                     1854-12-19  ...        1854\n",
              "8530                     1854-12-19  ...        1854\n",
              "8531                     1854-12-31  ...        1854\n",
              "8532                     1854-12-31  ...        1854\n",
              "8533                     1854-12-31  ...        1854\n",
              "\n",
              "[2139 rows x 10 columns]"
            ]
          },
          "metadata": {
            "tags": []
          },
          "execution_count": 107
        }
      ]
    },
    {
      "cell_type": "code",
      "metadata": {
        "id": "oXjtRq8YlURW",
        "outputId": "1ebec2d0-63d7-42df-81a3-aab03e500906",
        "colab": {
          "base_uri": "https://localhost:8080/",
          "height": 384
        }
      },
      "source": [
        "g = sns.catplot(y = 'newspaper.name',\n",
        "        x = 'month_year',\n",
        "        hue = 'advertisement.complete',\n",
        "        data = Lousiana_df)\n",
        "\n",
        "g.fig.set_figwidth(20)\n",
        "g.fig.set_figheight(5)"
      ],
      "execution_count": 113,
      "outputs": [
        {
          "output_type": "display_data",
          "data": {
            "image/png": "[encoded data removed]",
            "text/plain": [
              "<Figure size 1440x360 with 1 Axes>"
            ]
          },
          "metadata": {
            "tags": [],
            "needs_background": "light"
          }
        }
      ]
    },
    {
      "cell_type": "code",
      "metadata": {
        "id": "c-m_zEZQogwY"
      },
      "source": [
        "g = sns.catplot(y = 'newspaper.name',\n",
        "        x = 'month_year',\n",
        "        hue = 'enslaver.type',\n",
        "        data = Lousiana_df)\n",
        "\n",
        "g.fig.set_figwidth(20)\n",
        "g.fig.set_figheight(5)"
      ],
      "execution_count": null,
      "outputs": []
    },
    {
      "cell_type": "markdown",
      "metadata": {
        "id": "_hntDtdsgzqd"
      },
      "source": [
        "# Conclusion\n",
        "\n",
        "For this you will write a summary of what steps you followed throughout this notebook, why they were important and your findings.\n",
        "For example:\n",
        "- \n",
        "- \n",
        "- \n",
        "- \n",
        "- \n",
        "- \n",
        "\n",
        "\n",
        "You can also add your answers to the questions posted throughout the notebook here. \n"
      ]
    },
    {
      "cell_type": "markdown",
      "metadata": {
        "id": "9NhJfdAY24eu"
      },
      "source": [
        "\n",
        "## Submission\n",
        "Run this code block to download your answers."
      ]
    },
    {
      "cell_type": "code",
      "metadata": {
        "id": "7fk92Hpz24ex"
      },
      "source": [
        "from google.colab import files\n",
        "!zip -r \"{student_id}.zip\" \"{student_id}\"\n",
        "files.download(f\"{student_id}.zip\")"
      ],
      "execution_count": null,
      "outputs": []
    }
  ]
}