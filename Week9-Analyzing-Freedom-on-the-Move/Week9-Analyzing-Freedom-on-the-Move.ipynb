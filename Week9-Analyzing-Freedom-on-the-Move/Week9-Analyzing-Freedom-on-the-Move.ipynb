{
  "nbformat": 4,
  "nbformat_minor": 0,
  "metadata": {
    "kernelspec": {
      "display_name": "Python 3",
      "language": "python",
      "name": "python3"
    },
    "language_info": {
      "codemirror_mode": {
        "name": "ipython",
        "version": 3
      },
      "file_extension": ".py",
      "mimetype": "text/x-python",
      "name": "python",
      "nbconvert_exporter": "python",
      "pygments_lexer": "ipython3",
      "version": "3.8.5"
    },
    "colab": {
      "name": "Week9-Analyzing-Freedom-on-the-Move.ipynb",
      "provenance": [],
      "include_colab_link": true
    }
  },
  "cells": [
    {
      "cell_type": "markdown",
      "metadata": {
        "id": "view-in-github",
        "colab_type": "text"
      },
      "source": [
        "<a href=\"https://colab.research.google.com/github/bitprj/DigitalHistory/blob/Shayan/Week9-Analyzing-Freedom-on-the-Move/Week9-Analyzing-Freedom-on-the-Move.ipynb\" target=\"_parent\"><img src=\"https://colab.research.google.com/assets/colab-badge.svg\" alt=\"Open In Colab\"/></a>"
      ]
    },
    {
      "cell_type": "markdown",
      "metadata": {
        "id": "P0ZwDeAxlUNF"
      },
      "source": [
        "# <div align=\"center\">Freedom on the Move</div>"
      ]
    },
    {
      "cell_type": "markdown",
      "metadata": {
        "id": "RE3H5y7yIRHZ"
      },
      "source": [
        "# Recap\n",
        "- Throughout this curriculum we have worked learn and implemented several methods of data analysis. Some of these are:\n",
        "- Using Python and Pandas to load dataframes.\n",
        "- Cleaning and organizing our dataframes.\n",
        "- Using `matplotlib`, `pandas` and `seaborn` for simple to advanced visualziations."
      ]
    },
    {
      "cell_type": "markdown",
      "metadata": {
        "id": "KaDn0K67wuzJ"
      },
      "source": [
        "By this time, you should have an understanding of how to implement the following:\n",
        "- Loading Dataframes, modifying columns (for e.g adding a new column).\n",
        "- Modifying `NaN` values in our dataset .\n",
        "- Using `df.plot` to plot basic plots such as histograms, bar, line and scatter plots.\n",
        "- Using `sns.relplot` to plot numerical plots\n",
        "- Using `sns.catplot` to plot categorical data."
      ]
    },
    {
      "cell_type": "markdown",
      "metadata": {
        "id": "4uvgAANOIKwm"
      },
      "source": [
        "# About the Dataset\n",
        "\n",
        "\n",
        "\n"
      ]
    },
    {
      "cell_type": "markdown",
      "metadata": {
        "id": "mdUGc-qWwzv1"
      },
      "source": [
        "### Freedom on the Move\n",
        "<p align=\"center\">\n",
        "<img src=\"https://freedomonthemove.org/images/freedom.png\" width=\"200\"> \n",
        "</p>\n",
        "\n",
        "\n",
        "### Facts about the dataset\n",
        "\n",
        "- Freedom on the Move is a database of fugitives from North American slavery.\n",
        "- They are compiling thousands of stories of resistance that have never been accessible in one place.\n",
        "\n",
        "- Research driven by us.\n",
        "- A database full of possibilities.\n",
        "\n",
        "\n",
        "You can read more about the dataset [here](https://freedomonthemove.org/)."
      ]
    },
    {
      "cell_type": "markdown",
      "metadata": {
        "id": "fPyizd_JIHPU"
      },
      "source": [
        "# Practicum and Methodology\n"
      ]
    },
    {
      "cell_type": "markdown",
      "metadata": {
        "id": "Aljt8kKWxCRe"
      },
      "source": [
        ""
      ]
    },
    {
      "cell_type": "markdown",
      "metadata": {
        "id": "Tl_6Scu8IE7Q"
      },
      "source": [
        "\n",
        "# Grading\n",
        "\n",
        "This exercise has a total of 27 questions. Every question has 1 point. Some questions might have multiple parts but the weight of the question is the same.\n",
        "\n",
        "In order to work on the questions in this Practicum and submit them for grading, you'll need to run the code block below. It will ask for your student ID number and then create a folder that will house your answers for each question. At the very end of the notebook, there is a code section that will download this folder as a zip file to your computer. This zip file will be your final submission."
      ]
    },
    {
      "cell_type": "code",
      "metadata": {
        "id": "HmZvJAZIpGf6"
      },
      "source": [
        "import os\n",
        "import shutil\n",
        "\n",
        "!rm -rf sample_data\n",
        "\n",
        "student_id = input('Please Enter your Student ID: ') # Enter Student ID.\n",
        "\n",
        "while len(student_id) != 9:\n",
        " student_id = int('Please Enter your Student ID: ')  \n",
        "  \n",
        "folder_location = f'{student_id}/Week_Six/Practicum'\n",
        "if not os.path.exists(folder_location):\n",
        "  os.makedirs(folder_location)\n",
        "  print('Successfully Created Directory, Lets get started')\n",
        "else:\n",
        "  print('Directory Already Exists')"
      ],
      "execution_count": null,
      "outputs": []
    },
    {
      "cell_type": "markdown",
      "metadata": {
        "id": "3b7Blkm7lUNd"
      },
      "source": [
        "## Load Libraries"
      ]
    },
    {
      "cell_type": "code",
      "metadata": {
        "id": "sw5dkpHOlUNg"
      },
      "source": [
        "import matplotlib.pyplot as plt\n",
        "import pandas as pd\n",
        "import seaborn as sns\n",
        "#import numpy as np"
      ],
      "execution_count": 1,
      "outputs": []
    },
    {
      "cell_type": "markdown",
      "metadata": {
        "id": "tCjP2xP_lUNp"
      },
      "source": [
        "## Load Dataset"
      ]
    },
    {
      "cell_type": "code",
      "metadata": {
        "id": "Uoe4DsKxlUNq"
      },
      "source": [
        "url = 'https://bit.ly/3kVBMnZ'\n",
        "\n",
        "fotm_dataset = pd.read_csv(url, encoding = \"ISO-8859-1\")"
      ],
      "execution_count": 2,
      "outputs": []
    },
    {
      "cell_type": "markdown",
      "metadata": {
        "id": "yw4cT8LClUNx"
      },
      "source": [
        "## Using `Pandas` to extract basic information "
      ]
    },
    {
      "cell_type": "markdown",
      "metadata": {
        "id": "2MXk9TaYwHXL"
      },
      "source": [
        "### Print the names of all the columns"
      ]
    },
    {
      "cell_type": "code",
      "metadata": {
        "id": "zKB_6v4TlUNy",
        "colab": {
          "base_uri": "https://localhost:8080/"
        },
        "outputId": "569dee96-8176-4cef-9805-8e4a53bd235f"
      },
      "source": [
        "fotm_dataset.columns # INSERT CODE HERE"
      ],
      "execution_count": 3,
      "outputs": [
        {
          "output_type": "execute_result",
          "data": {
            "text/plain": [
              "Index(['advertisement.publication_date', 'advertisement.complete',\n",
              "       'advertiser.name', 'enslaved_person.gender',\n",
              "       'enslaved_person_languages.does_speak', 'enslaver.fullname',\n",
              "       'enslaver.gender', 'enslaver.type', 'newspaper.name',\n",
              "       'runaway.ran_before', 'runaway.profess_freedom',\n",
              "       'runaway_enslavers.enslaver_status', 'runaway_reward.amount',\n",
              "       'newspaper_location.city', 'newspaper_location.state',\n",
              "       'enslaver_location.city', 'enslaver_location.state', 'advertisement.id',\n",
              "       'advertiser.id', 'newspaper.id', 'newspaper_location.id',\n",
              "       'runaway_event.id', 'runaway.id', 'enslaved_person.id',\n",
              "       'enslaved_person_languages.id', 'runaway_enslavers.id', 'enslaver.id',\n",
              "       'enslaver_location.id', 'runaway_reward.id'],\n",
              "      dtype='object')"
            ]
          },
          "metadata": {
            "tags": []
          },
          "execution_count": 3
        }
      ]
    },
    {
      "cell_type": "markdown",
      "metadata": {
        "id": "-G-DsRob67_Y"
      },
      "source": [
        "### `Head()`"
      ]
    },
    {
      "cell_type": "code",
      "metadata": {
        "id": "9-dPG7Wr44Yb",
        "colab": {
          "base_uri": "https://localhost:8080/",
          "height": 479
        },
        "outputId": "a3280df2-8497-477c-ee93-b588ab75c7ea"
      },
      "source": [
        "fotm_dataset.head()"
      ],
      "execution_count": 4,
      "outputs": [
        {
          "output_type": "execute_result",
          "data": {
            "text/html": [
              "<div>\n",
              "<style scoped>\n",
              "    .dataframe tbody tr th:only-of-type {\n",
              "        vertical-align: middle;\n",
              "    }\n",
              "\n",
              "    .dataframe tbody tr th {\n",
              "        vertical-align: top;\n",
              "    }\n",
              "\n",
              "    .dataframe thead th {\n",
              "        text-align: right;\n",
              "    }\n",
              "</style>\n",
              "<table border=\"1\" class=\"dataframe\">\n",
              "  <thead>\n",
              "    <tr style=\"text-align: right;\">\n",
              "      <th></th>\n",
              "      <th>advertisement.publication_date</th>\n",
              "      <th>advertisement.complete</th>\n",
              "      <th>advertiser.name</th>\n",
              "      <th>enslaved_person.gender</th>\n",
              "      <th>enslaved_person_languages.does_speak</th>\n",
              "      <th>enslaver.fullname</th>\n",
              "      <th>enslaver.gender</th>\n",
              "      <th>enslaver.type</th>\n",
              "      <th>newspaper.name</th>\n",
              "      <th>runaway.ran_before</th>\n",
              "      <th>runaway.profess_freedom</th>\n",
              "      <th>runaway_enslavers.enslaver_status</th>\n",
              "      <th>runaway_reward.amount</th>\n",
              "      <th>newspaper_location.city</th>\n",
              "      <th>newspaper_location.state</th>\n",
              "      <th>enslaver_location.city</th>\n",
              "      <th>enslaver_location.state</th>\n",
              "      <th>advertisement.id</th>\n",
              "      <th>advertiser.id</th>\n",
              "      <th>newspaper.id</th>\n",
              "      <th>newspaper_location.id</th>\n",
              "      <th>runaway_event.id</th>\n",
              "      <th>runaway.id</th>\n",
              "      <th>enslaved_person.id</th>\n",
              "      <th>enslaved_person_languages.id</th>\n",
              "      <th>runaway_enslavers.id</th>\n",
              "      <th>enslaver.id</th>\n",
              "      <th>enslaver_location.id</th>\n",
              "      <th>runaway_reward.id</th>\n",
              "    </tr>\n",
              "  </thead>\n",
              "  <tbody>\n",
              "    <tr>\n",
              "      <th>0</th>\n",
              "      <td>1829-12-19</td>\n",
              "      <td>True</td>\n",
              "      <td>NaN</td>\n",
              "      <td>FEMALE</td>\n",
              "      <td>NaN</td>\n",
              "      <td>Vance</td>\n",
              "      <td>OTHER</td>\n",
              "      <td>estate</td>\n",
              "      <td>Charleston Mercury</td>\n",
              "      <td>NaN</td>\n",
              "      <td>NaN</td>\n",
              "      <td>NaN</td>\n",
              "      <td>20.0</td>\n",
              "      <td>Charleston</td>\n",
              "      <td>US-SC</td>\n",
              "      <td>Charleston</td>\n",
              "      <td>US-SC</td>\n",
              "      <td>00009a54-8ed0-44a3-8983-7534c5001172</td>\n",
              "      <td>NaN</td>\n",
              "      <td>12d38785-dfdf-4dbc-a9c6-3ccb0e8d6448</td>\n",
              "      <td>0afd2704-9c29-4f31-9ffe-3627c61e7958</td>\n",
              "      <td>6bb670ae-7ec5-41e1-95b4-d4421015b17f</td>\n",
              "      <td>7c1d52e1-2b99-4372-a7c2-012430871cf1</td>\n",
              "      <td>664075ec-2c11-474e-b1ef-8ed120643658</td>\n",
              "      <td>NaN</td>\n",
              "      <td>dbe0cc3f-0898-4eaf-b702-8be2143d970a</td>\n",
              "      <td>577eef00-d0db-463d-8f5a-ca03282733f4</td>\n",
              "      <td>05a63752-e272-48f6-9050-72590c5d7ac9</td>\n",
              "      <td>30efbcb3-23c1-48f5-a349-c34daea5d1fb</td>\n",
              "    </tr>\n",
              "    <tr>\n",
              "      <th>1</th>\n",
              "      <td>1829-12-19</td>\n",
              "      <td>True</td>\n",
              "      <td>NaN</td>\n",
              "      <td>FEMALE</td>\n",
              "      <td>NaN</td>\n",
              "      <td>Vance</td>\n",
              "      <td>OTHER</td>\n",
              "      <td>estate</td>\n",
              "      <td>Charleston Mercury</td>\n",
              "      <td>NaN</td>\n",
              "      <td>NaN</td>\n",
              "      <td>NaN</td>\n",
              "      <td>10.0</td>\n",
              "      <td>Charleston</td>\n",
              "      <td>US-SC</td>\n",
              "      <td>Charleston</td>\n",
              "      <td>US-SC</td>\n",
              "      <td>00009a54-8ed0-44a3-8983-7534c5001172</td>\n",
              "      <td>NaN</td>\n",
              "      <td>12d38785-dfdf-4dbc-a9c6-3ccb0e8d6448</td>\n",
              "      <td>0afd2704-9c29-4f31-9ffe-3627c61e7958</td>\n",
              "      <td>6bb670ae-7ec5-41e1-95b4-d4421015b17f</td>\n",
              "      <td>7c1d52e1-2b99-4372-a7c2-012430871cf1</td>\n",
              "      <td>664075ec-2c11-474e-b1ef-8ed120643658</td>\n",
              "      <td>NaN</td>\n",
              "      <td>dbe0cc3f-0898-4eaf-b702-8be2143d970a</td>\n",
              "      <td>577eef00-d0db-463d-8f5a-ca03282733f4</td>\n",
              "      <td>05a63752-e272-48f6-9050-72590c5d7ac9</td>\n",
              "      <td>0d52b7d0-7bdd-48c6-acb0-ff3db30a16bb</td>\n",
              "    </tr>\n",
              "    <tr>\n",
              "      <th>2</th>\n",
              "      <td>1829-12-19</td>\n",
              "      <td>True</td>\n",
              "      <td>NaN</td>\n",
              "      <td>FEMALE</td>\n",
              "      <td>NaN</td>\n",
              "      <td>WM. H. Smith</td>\n",
              "      <td>MALE</td>\n",
              "      <td>current</td>\n",
              "      <td>Charleston Mercury</td>\n",
              "      <td>NaN</td>\n",
              "      <td>NaN</td>\n",
              "      <td>NaN</td>\n",
              "      <td>20.0</td>\n",
              "      <td>Charleston</td>\n",
              "      <td>US-SC</td>\n",
              "      <td>Charleston</td>\n",
              "      <td>US-SC</td>\n",
              "      <td>00009a54-8ed0-44a3-8983-7534c5001172</td>\n",
              "      <td>NaN</td>\n",
              "      <td>12d38785-dfdf-4dbc-a9c6-3ccb0e8d6448</td>\n",
              "      <td>0afd2704-9c29-4f31-9ffe-3627c61e7958</td>\n",
              "      <td>6bb670ae-7ec5-41e1-95b4-d4421015b17f</td>\n",
              "      <td>7c1d52e1-2b99-4372-a7c2-012430871cf1</td>\n",
              "      <td>664075ec-2c11-474e-b1ef-8ed120643658</td>\n",
              "      <td>NaN</td>\n",
              "      <td>d7796415-33de-4725-b41b-451b47ba7266</td>\n",
              "      <td>ea1637f3-cfd3-4aef-be71-3e090e8526e1</td>\n",
              "      <td>b7ef3786-2260-4cd1-afcf-14776d07af90</td>\n",
              "      <td>30efbcb3-23c1-48f5-a349-c34daea5d1fb</td>\n",
              "    </tr>\n",
              "    <tr>\n",
              "      <th>3</th>\n",
              "      <td>1829-12-19</td>\n",
              "      <td>True</td>\n",
              "      <td>NaN</td>\n",
              "      <td>FEMALE</td>\n",
              "      <td>NaN</td>\n",
              "      <td>WM. H. Smith</td>\n",
              "      <td>MALE</td>\n",
              "      <td>current</td>\n",
              "      <td>Charleston Mercury</td>\n",
              "      <td>NaN</td>\n",
              "      <td>NaN</td>\n",
              "      <td>NaN</td>\n",
              "      <td>10.0</td>\n",
              "      <td>Charleston</td>\n",
              "      <td>US-SC</td>\n",
              "      <td>Charleston</td>\n",
              "      <td>US-SC</td>\n",
              "      <td>00009a54-8ed0-44a3-8983-7534c5001172</td>\n",
              "      <td>NaN</td>\n",
              "      <td>12d38785-dfdf-4dbc-a9c6-3ccb0e8d6448</td>\n",
              "      <td>0afd2704-9c29-4f31-9ffe-3627c61e7958</td>\n",
              "      <td>6bb670ae-7ec5-41e1-95b4-d4421015b17f</td>\n",
              "      <td>7c1d52e1-2b99-4372-a7c2-012430871cf1</td>\n",
              "      <td>664075ec-2c11-474e-b1ef-8ed120643658</td>\n",
              "      <td>NaN</td>\n",
              "      <td>d7796415-33de-4725-b41b-451b47ba7266</td>\n",
              "      <td>ea1637f3-cfd3-4aef-be71-3e090e8526e1</td>\n",
              "      <td>b7ef3786-2260-4cd1-afcf-14776d07af90</td>\n",
              "      <td>0d52b7d0-7bdd-48c6-acb0-ff3db30a16bb</td>\n",
              "    </tr>\n",
              "    <tr>\n",
              "      <th>4</th>\n",
              "      <td>1830-01-02</td>\n",
              "      <td>True</td>\n",
              "      <td>Wm. B. Roberts, Executor</td>\n",
              "      <td>MALE</td>\n",
              "      <td>NaN</td>\n",
              "      <td>Rev. Henry Holmes</td>\n",
              "      <td>MALE</td>\n",
              "      <td>deceased</td>\n",
              "      <td>Edenton Gazette And North Carolina General Adv...</td>\n",
              "      <td>NaN</td>\n",
              "      <td>NaN</td>\n",
              "      <td>NaN</td>\n",
              "      <td>15.0</td>\n",
              "      <td>Edenton</td>\n",
              "      <td>US-NC</td>\n",
              "      <td>NaN</td>\n",
              "      <td>US-NC</td>\n",
              "      <td>0001aa96-153e-49e9-9cc1-78ff29cad12f</td>\n",
              "      <td>be248ed4-c224-448a-9db2-23204e05392d</td>\n",
              "      <td>ce244760-13c7-4c98-bfc5-0b6b8cb454f4</td>\n",
              "      <td>dd33c07c-80c1-4d46-b25b-1daf33b57a79</td>\n",
              "      <td>f6f30219-bf53-4835-b90b-68d587aef3ef</td>\n",
              "      <td>cf69ceec-0b4b-4b5c-98bf-bffab1e488c1</td>\n",
              "      <td>bb232988-8487-470f-bc62-d12aa8665d8d</td>\n",
              "      <td>NaN</td>\n",
              "      <td>3f39bcb6-873e-41ed-b8a2-5546d2117e22</td>\n",
              "      <td>ecb5b127-f7f4-4e7c-88fd-b325524a6853</td>\n",
              "      <td>d3cbbc85-a3df-4c44-b689-71693643a223</td>\n",
              "      <td>375fc31d-c80b-4fe5-a95d-728c1a0f96bf</td>\n",
              "    </tr>\n",
              "  </tbody>\n",
              "</table>\n",
              "</div>"
            ],
            "text/plain": [
              "  advertisement.publication_date  ...                     runaway_reward.id\n",
              "0                     1829-12-19  ...  30efbcb3-23c1-48f5-a349-c34daea5d1fb\n",
              "1                     1829-12-19  ...  0d52b7d0-7bdd-48c6-acb0-ff3db30a16bb\n",
              "2                     1829-12-19  ...  30efbcb3-23c1-48f5-a349-c34daea5d1fb\n",
              "3                     1829-12-19  ...  0d52b7d0-7bdd-48c6-acb0-ff3db30a16bb\n",
              "4                     1830-01-02  ...  375fc31d-c80b-4fe5-a95d-728c1a0f96bf\n",
              "\n",
              "[5 rows x 29 columns]"
            ]
          },
          "metadata": {
            "tags": []
          },
          "execution_count": 4
        }
      ]
    },
    {
      "cell_type": "markdown",
      "metadata": {
        "id": "whB9P-DX6-b7"
      },
      "source": [
        "### `Tail()`"
      ]
    },
    {
      "cell_type": "code",
      "metadata": {
        "id": "9kmvxsIC47xg",
        "colab": {
          "base_uri": "https://localhost:8080/",
          "height": 479
        },
        "outputId": "65f4f5c7-be10-4d47-9c39-3d5de6c95891"
      },
      "source": [
        "fotm_dataset.tail()"
      ],
      "execution_count": 5,
      "outputs": [
        {
          "output_type": "execute_result",
          "data": {
            "text/html": [
              "<div>\n",
              "<style scoped>\n",
              "    .dataframe tbody tr th:only-of-type {\n",
              "        vertical-align: middle;\n",
              "    }\n",
              "\n",
              "    .dataframe tbody tr th {\n",
              "        vertical-align: top;\n",
              "    }\n",
              "\n",
              "    .dataframe thead th {\n",
              "        text-align: right;\n",
              "    }\n",
              "</style>\n",
              "<table border=\"1\" class=\"dataframe\">\n",
              "  <thead>\n",
              "    <tr style=\"text-align: right;\">\n",
              "      <th></th>\n",
              "      <th>advertisement.publication_date</th>\n",
              "      <th>advertisement.complete</th>\n",
              "      <th>advertiser.name</th>\n",
              "      <th>enslaved_person.gender</th>\n",
              "      <th>enslaved_person_languages.does_speak</th>\n",
              "      <th>enslaver.fullname</th>\n",
              "      <th>enslaver.gender</th>\n",
              "      <th>enslaver.type</th>\n",
              "      <th>newspaper.name</th>\n",
              "      <th>runaway.ran_before</th>\n",
              "      <th>runaway.profess_freedom</th>\n",
              "      <th>runaway_enslavers.enslaver_status</th>\n",
              "      <th>runaway_reward.amount</th>\n",
              "      <th>newspaper_location.city</th>\n",
              "      <th>newspaper_location.state</th>\n",
              "      <th>enslaver_location.city</th>\n",
              "      <th>enslaver_location.state</th>\n",
              "      <th>advertisement.id</th>\n",
              "      <th>advertiser.id</th>\n",
              "      <th>newspaper.id</th>\n",
              "      <th>newspaper_location.id</th>\n",
              "      <th>runaway_event.id</th>\n",
              "      <th>runaway.id</th>\n",
              "      <th>enslaved_person.id</th>\n",
              "      <th>enslaved_person_languages.id</th>\n",
              "      <th>runaway_enslavers.id</th>\n",
              "      <th>enslaver.id</th>\n",
              "      <th>enslaver_location.id</th>\n",
              "      <th>runaway_reward.id</th>\n",
              "    </tr>\n",
              "  </thead>\n",
              "  <tbody>\n",
              "    <tr>\n",
              "      <th>9064</th>\n",
              "      <td>1844-01-12</td>\n",
              "      <td>False</td>\n",
              "      <td>Lucien Labranche</td>\n",
              "      <td>MALE</td>\n",
              "      <td>NaN</td>\n",
              "      <td>NaN</td>\n",
              "      <td>NaN</td>\n",
              "      <td>NaN</td>\n",
              "      <td>The Daily Picayune</td>\n",
              "      <td>NaN</td>\n",
              "      <td>NaN</td>\n",
              "      <td>NaN</td>\n",
              "      <td>NaN</td>\n",
              "      <td>New Orleans</td>\n",
              "      <td>US-LA</td>\n",
              "      <td>NaN</td>\n",
              "      <td>NaN</td>\n",
              "      <td>2f29cbd6-d1a7-4c10-8443-7e2c10713b4b</td>\n",
              "      <td>0fc031d2-7770-4f65-b1c0-06797dc4a9e3</td>\n",
              "      <td>c5993adc-4bee-4c12-a104-9bf7119308af</td>\n",
              "      <td>026f5472-34b7-4c69-aff8-9ae5cd62e07a</td>\n",
              "      <td>2f6dc910-1050-49dc-844f-0c8e043c75fd</td>\n",
              "      <td>1d83e9fa-3963-44a7-a53f-c8d9515ab2bb</td>\n",
              "      <td>a92afc5b-ea7b-4f6b-9e90-a5f9a645bd3a</td>\n",
              "      <td>NaN</td>\n",
              "      <td>NaN</td>\n",
              "      <td>NaN</td>\n",
              "      <td>NaN</td>\n",
              "      <td>NaN</td>\n",
              "    </tr>\n",
              "    <tr>\n",
              "      <th>9065</th>\n",
              "      <td>1825-08-03</td>\n",
              "      <td>False</td>\n",
              "      <td>NaN</td>\n",
              "      <td>NOT_PROVIDED</td>\n",
              "      <td>NaN</td>\n",
              "      <td>Fred Fraser Esq of Ashepoo</td>\n",
              "      <td>MALE</td>\n",
              "      <td>NOT_PROVIDED</td>\n",
              "      <td>Charleston Courier</td>\n",
              "      <td>NaN</td>\n",
              "      <td>NaN</td>\n",
              "      <td>NaN</td>\n",
              "      <td>20.0</td>\n",
              "      <td>Charleston</td>\n",
              "      <td>US-SC</td>\n",
              "      <td>NaN</td>\n",
              "      <td>NaN</td>\n",
              "      <td>2f2baffe-b52e-41c6-80f8-29d46c7a7675</td>\n",
              "      <td>NaN</td>\n",
              "      <td>7d2db9a0-67dc-4356-ad21-02fbd93cbb10</td>\n",
              "      <td>0afd2704-9c29-4f31-9ffe-3627c61e7958</td>\n",
              "      <td>fbf32ec3-f2b2-4a37-8dec-285a7c4f5dff</td>\n",
              "      <td>837adcad-b137-4541-bcdf-05d6fed53e43</td>\n",
              "      <td>a747822e-1534-411a-b196-b0c7e1a09309</td>\n",
              "      <td>NaN</td>\n",
              "      <td>983b23d6-c7a9-4c85-a3b7-6113d241757d</td>\n",
              "      <td>f79d6080-eb35-4cab-ada9-4f46c3ce6089</td>\n",
              "      <td>NaN</td>\n",
              "      <td>4f9f226d-ddad-4c5d-acbc-310dedc80cda</td>\n",
              "    </tr>\n",
              "    <tr>\n",
              "      <th>9066</th>\n",
              "      <td>1823-11-03</td>\n",
              "      <td>False</td>\n",
              "      <td>NaN</td>\n",
              "      <td>NaN</td>\n",
              "      <td>NaN</td>\n",
              "      <td>NaN</td>\n",
              "      <td>NaN</td>\n",
              "      <td>NaN</td>\n",
              "      <td>Charleston Courier</td>\n",
              "      <td>NaN</td>\n",
              "      <td>NaN</td>\n",
              "      <td>NaN</td>\n",
              "      <td>NaN</td>\n",
              "      <td>Charleston</td>\n",
              "      <td>US-SC</td>\n",
              "      <td>NaN</td>\n",
              "      <td>NaN</td>\n",
              "      <td>2f2ebf96-6c51-47a9-bbd0-31af47a9a92b</td>\n",
              "      <td>NaN</td>\n",
              "      <td>7d2db9a0-67dc-4356-ad21-02fbd93cbb10</td>\n",
              "      <td>0afd2704-9c29-4f31-9ffe-3627c61e7958</td>\n",
              "      <td>2aa79a98-8ce3-4720-a3d0-10b1707d41c6</td>\n",
              "      <td>2bfdf04f-2098-4a28-a746-a5db15da6b0b</td>\n",
              "      <td>277f0ea0-a0d5-4e3b-b6a0-d949134b7a8a</td>\n",
              "      <td>NaN</td>\n",
              "      <td>NaN</td>\n",
              "      <td>NaN</td>\n",
              "      <td>NaN</td>\n",
              "      <td>NaN</td>\n",
              "    </tr>\n",
              "    <tr>\n",
              "      <th>9067</th>\n",
              "      <td>1844-01-02</td>\n",
              "      <td>False</td>\n",
              "      <td>NaN</td>\n",
              "      <td>NaN</td>\n",
              "      <td>NaN</td>\n",
              "      <td>NaN</td>\n",
              "      <td>NaN</td>\n",
              "      <td>NaN</td>\n",
              "      <td>Milledgeville Federal Union</td>\n",
              "      <td>NaN</td>\n",
              "      <td>NaN</td>\n",
              "      <td>NaN</td>\n",
              "      <td>NaN</td>\n",
              "      <td>Milledgeville</td>\n",
              "      <td>US-GA</td>\n",
              "      <td>NaN</td>\n",
              "      <td>NaN</td>\n",
              "      <td>2f307717-7b4d-4562-a2dc-fc199b8344b3</td>\n",
              "      <td>NaN</td>\n",
              "      <td>2b017d87-53a2-43b3-b27d-bbc507ea340b</td>\n",
              "      <td>507b5968-86b7-476e-a83d-a4307622ed57</td>\n",
              "      <td>NaN</td>\n",
              "      <td>NaN</td>\n",
              "      <td>NaN</td>\n",
              "      <td>NaN</td>\n",
              "      <td>NaN</td>\n",
              "      <td>NaN</td>\n",
              "      <td>NaN</td>\n",
              "      <td>NaN</td>\n",
              "    </tr>\n",
              "    <tr>\n",
              "      <th>9068</th>\n",
              "      <td>1737-04-28</td>\n",
              "      <td>False</td>\n",
              "      <td>NaN</td>\n",
              "      <td>NaN</td>\n",
              "      <td>NaN</td>\n",
              "      <td>NaN</td>\n",
              "      <td>NaN</td>\n",
              "      <td>NaN</td>\n",
              "      <td>The Boston News-Letter</td>\n",
              "      <td>NaN</td>\n",
              "      <td>NaN</td>\n",
              "      <td>NaN</td>\n",
              "      <td>NaN</td>\n",
              "      <td></td>\n",
              "      <td>US-MA</td>\n",
              "      <td>NaN</td>\n",
              "      <td>NaN</td>\n",
              "      <td>2f320a2b-c49b-4155-8f68-0d8cbda29818</td>\n",
              "      <td>NaN</td>\n",
              "      <td>bbc3d8c7-0279-4967-8523-5691b539e902</td>\n",
              "      <td>3e8eac54-91e7-4f3f-ab9e-3bf2905eefe5</td>\n",
              "      <td>NaN</td>\n",
              "      <td>NaN</td>\n",
              "      <td>NaN</td>\n",
              "      <td>NaN</td>\n",
              "      <td>NaN</td>\n",
              "      <td>NaN</td>\n",
              "      <td>NaN</td>\n",
              "      <td>NaN</td>\n",
              "    </tr>\n",
              "  </tbody>\n",
              "</table>\n",
              "</div>"
            ],
            "text/plain": [
              "     advertisement.publication_date  ...                     runaway_reward.id\n",
              "9064                     1844-01-12  ...                                   NaN\n",
              "9065                     1825-08-03  ...  4f9f226d-ddad-4c5d-acbc-310dedc80cda\n",
              "9066                     1823-11-03  ...                                   NaN\n",
              "9067                     1844-01-02  ...                                   NaN\n",
              "9068                     1737-04-28  ...                                   NaN\n",
              "\n",
              "[5 rows x 29 columns]"
            ]
          },
          "metadata": {
            "tags": []
          },
          "execution_count": 5
        }
      ]
    },
    {
      "cell_type": "markdown",
      "metadata": {
        "id": "9h33UQWd7Buk"
      },
      "source": [
        "### `info()`"
      ]
    },
    {
      "cell_type": "code",
      "metadata": {
        "id": "EhoMLGaRlUN2",
        "colab": {
          "base_uri": "https://localhost:8080/"
        },
        "outputId": "74198c82-4ebe-4aee-84dd-c6a5b3f4c700"
      },
      "source": [
        "fotm_dataset.info()"
      ],
      "execution_count": 6,
      "outputs": [
        {
          "output_type": "stream",
          "text": [
            "<class 'pandas.core.frame.DataFrame'>\n",
            "RangeIndex: 9069 entries, 0 to 9068\n",
            "Data columns (total 29 columns):\n",
            " #   Column                                Non-Null Count  Dtype  \n",
            "---  ------                                --------------  -----  \n",
            " 0   advertisement.publication_date        9069 non-null   object \n",
            " 1   advertisement.complete                9069 non-null   bool   \n",
            " 2   advertiser.name                       2549 non-null   object \n",
            " 3   enslaved_person.gender                7525 non-null   object \n",
            " 4   enslaved_person_languages.does_speak  1456 non-null   object \n",
            " 5   enslaver.fullname                     6886 non-null   object \n",
            " 6   enslaver.gender                       6938 non-null   object \n",
            " 7   enslaver.type                         6762 non-null   object \n",
            " 8   newspaper.name                        9069 non-null   object \n",
            " 9   runaway.ran_before                    391 non-null    object \n",
            " 10  runaway.profess_freedom               478 non-null    object \n",
            " 11  runaway_enslavers.enslaver_status     0 non-null      float64\n",
            " 12  runaway_reward.amount                 5332 non-null   float64\n",
            " 13  newspaper_location.city               8959 non-null   object \n",
            " 14  newspaper_location.state              9069 non-null   object \n",
            " 15  enslaver_location.city                3442 non-null   object \n",
            " 16  enslaver_location.state               4980 non-null   object \n",
            " 17  advertisement.id                      9069 non-null   object \n",
            " 18  advertiser.id                         2552 non-null   object \n",
            " 19  newspaper.id                          9069 non-null   object \n",
            " 20  newspaper_location.id                 9069 non-null   object \n",
            " 21  runaway_event.id                      7817 non-null   object \n",
            " 22  runaway.id                            7811 non-null   object \n",
            " 23  enslaved_person.id                    7811 non-null   object \n",
            " 24  enslaved_person_languages.id          1456 non-null   object \n",
            " 25  runaway_enslavers.id                  7109 non-null   object \n",
            " 26  enslaver.id                           7109 non-null   object \n",
            " 27  enslaver_location.id                  5515 non-null   object \n",
            " 28  runaway_reward.id                     5332 non-null   object \n",
            "dtypes: bool(1), float64(2), object(26)\n",
            "memory usage: 1.9+ MB\n"
          ],
          "name": "stdout"
        }
      ]
    },
    {
      "cell_type": "markdown",
      "metadata": {
        "id": "xe4MX1co7Dub"
      },
      "source": [
        "### `Describe()`"
      ]
    },
    {
      "cell_type": "code",
      "metadata": {
        "id": "JHDbDdp-lUN9",
        "colab": {
          "base_uri": "https://localhost:8080/",
          "height": 297
        },
        "outputId": "5407942b-3410-4eb3-fdf1-80d2a0260439"
      },
      "source": [
        "fotm_dataset.describe()\n",
        "\n",
        "# Try this\n",
        "#fotm_dataset.describe(include='all')"
      ],
      "execution_count": 7,
      "outputs": [
        {
          "output_type": "execute_result",
          "data": {
            "text/html": [
              "<div>\n",
              "<style scoped>\n",
              "    .dataframe tbody tr th:only-of-type {\n",
              "        vertical-align: middle;\n",
              "    }\n",
              "\n",
              "    .dataframe tbody tr th {\n",
              "        vertical-align: top;\n",
              "    }\n",
              "\n",
              "    .dataframe thead th {\n",
              "        text-align: right;\n",
              "    }\n",
              "</style>\n",
              "<table border=\"1\" class=\"dataframe\">\n",
              "  <thead>\n",
              "    <tr style=\"text-align: right;\">\n",
              "      <th></th>\n",
              "      <th>runaway_enslavers.enslaver_status</th>\n",
              "      <th>runaway_reward.amount</th>\n",
              "    </tr>\n",
              "  </thead>\n",
              "  <tbody>\n",
              "    <tr>\n",
              "      <th>count</th>\n",
              "      <td>0.0</td>\n",
              "      <td>5332.000000</td>\n",
              "    </tr>\n",
              "    <tr>\n",
              "      <th>mean</th>\n",
              "      <td>NaN</td>\n",
              "      <td>42.365154</td>\n",
              "    </tr>\n",
              "    <tr>\n",
              "      <th>std</th>\n",
              "      <td>NaN</td>\n",
              "      <td>155.161401</td>\n",
              "    </tr>\n",
              "    <tr>\n",
              "      <th>min</th>\n",
              "      <td>NaN</td>\n",
              "      <td>1.000000</td>\n",
              "    </tr>\n",
              "    <tr>\n",
              "      <th>25%</th>\n",
              "      <td>NaN</td>\n",
              "      <td>10.000000</td>\n",
              "    </tr>\n",
              "    <tr>\n",
              "      <th>50%</th>\n",
              "      <td>NaN</td>\n",
              "      <td>20.000000</td>\n",
              "    </tr>\n",
              "    <tr>\n",
              "      <th>75%</th>\n",
              "      <td>NaN</td>\n",
              "      <td>50.000000</td>\n",
              "    </tr>\n",
              "    <tr>\n",
              "      <th>max</th>\n",
              "      <td>NaN</td>\n",
              "      <td>10000.000000</td>\n",
              "    </tr>\n",
              "  </tbody>\n",
              "</table>\n",
              "</div>"
            ],
            "text/plain": [
              "       runaway_enslavers.enslaver_status  runaway_reward.amount\n",
              "count                                0.0            5332.000000\n",
              "mean                                 NaN              42.365154\n",
              "std                                  NaN             155.161401\n",
              "min                                  NaN               1.000000\n",
              "25%                                  NaN              10.000000\n",
              "50%                                  NaN              20.000000\n",
              "75%                                  NaN              50.000000\n",
              "max                                  NaN           10000.000000"
            ]
          },
          "metadata": {
            "tags": []
          },
          "execution_count": 7
        }
      ]
    },
    {
      "cell_type": "markdown",
      "metadata": {
        "id": "OAspCHaWlUOD"
      },
      "source": [
        "# Step 1 - Cleaning our dataset "
      ]
    },
    {
      "cell_type": "markdown",
      "metadata": {
        "id": "pNO2BOr57L1t"
      },
      "source": [
        "### Q1 - Removing columns that have `.id` in them.\n",
        "\n",
        "You'll notice that there are many \"ID\" columns. We won't be needing any of these, so it's best to remove them. Drop these columns and store the remaining data in a variable called `fotm_dataset_without_id`."
      ]
    },
    {
      "cell_type": "code",
      "metadata": {
        "id": "YmRBCidklUOE"
      },
      "source": [
        "columns_to_remove = ['runaway_reward.id','enslaver_location.id','enslaver.id',\n",
        "                     'runaway_enslavers.id','enslaved_person_languages.id',\n",
        "                     'enslaved_person.id','runaway.id','runaway_event.id',\n",
        "                     'advertiser.id','newspaper_location.id','newspaper.id',\n",
        "                     'advertisement.id'] # INSERT CODE HERE"
      ],
      "execution_count": 8,
      "outputs": []
    },
    {
      "cell_type": "code",
      "metadata": {
        "id": "mCyLmt0KlUOJ"
      },
      "source": [
        "fotm_dataset_without_id = fotm_dataset.drop(columns = columns_to_remove)"
      ],
      "execution_count": 9,
      "outputs": []
    },
    {
      "cell_type": "markdown",
      "metadata": {
        "id": "emDg1tdqlUOa"
      },
      "source": [
        "### Q2 - Removing columns that have a large quantities of `nan` values.\n",
        "\n",
        "From the chart below, you'll notice that some columns have a large amount of null values. We'll be keeping some of them, but for the rest, we'll just drop them from the dataset. Specifically, from the columns that have 1000 or more null values, we wish to remove the following\"\n",
        "\n",
        "- `advertiser.name` \n",
        "- `enslaved_person_languages.does_speak`\n",
        "- `enslaver.fullname`\n",
        "- `runaway.ran_before`\n",
        "- `runaway.profess_freedom`\n",
        "- `runaway_enslavers.enslaver_status`\n",
        "- `enslaver_location.city`\n",
        "- `enslaver_location.state`\n",
        "\n",
        "Every other column should be kept."
      ]
    },
    {
      "cell_type": "code",
      "metadata": {
        "id": "m2hugxYflUOR",
        "colab": {
          "base_uri": "https://localhost:8080/"
        },
        "outputId": "1f8a41d1-8fd3-498c-990b-b9f37b61b025"
      },
      "source": [
        "fotm_dataset_without_id.isna().sum()"
      ],
      "execution_count": 10,
      "outputs": [
        {
          "output_type": "execute_result",
          "data": {
            "text/plain": [
              "advertisement.publication_date             0\n",
              "advertisement.complete                     0\n",
              "advertiser.name                         6520\n",
              "enslaved_person.gender                  1544\n",
              "enslaved_person_languages.does_speak    7613\n",
              "enslaver.fullname                       2183\n",
              "enslaver.gender                         2131\n",
              "enslaver.type                           2307\n",
              "newspaper.name                             0\n",
              "runaway.ran_before                      8678\n",
              "runaway.profess_freedom                 8591\n",
              "runaway_enslavers.enslaver_status       9069\n",
              "runaway_reward.amount                   3737\n",
              "newspaper_location.city                  110\n",
              "newspaper_location.state                   0\n",
              "enslaver_location.city                  5627\n",
              "enslaver_location.state                 4089\n",
              "dtype: int64"
            ]
          },
          "metadata": {
            "tags": []
          },
          "execution_count": 10
        }
      ]
    },
    {
      "cell_type": "code",
      "metadata": {
        "id": "HPcqW4aHlUOf"
      },
      "source": [
        "more_columns = ['advertiser.name', 'enslaved_person_languages.does_speak','enslaver.fullname',\n",
        "                'runaway.ran_before', 'runaway.profess_freedom','runaway_enslavers.enslaver_status',\n",
        "                \"enslaver_location.city\",\"enslaver_location.state\"]"
      ],
      "execution_count": 11,
      "outputs": []
    },
    {
      "cell_type": "code",
      "metadata": {
        "id": "_5MQvmhhlUOk"
      },
      "source": [
        "fotm_dataset_without_id= fotm_dataset_without_id.drop(columns = more_columns)"
      ],
      "execution_count": 12,
      "outputs": []
    },
    {
      "cell_type": "markdown",
      "metadata": {
        "id": "uZFX-6hM8--_"
      },
      "source": [
        "### Saving our dataframe"
      ]
    },
    {
      "cell_type": "code",
      "metadata": {
        "id": "gKd0r2hRlUOp"
      },
      "source": [
        "## Making a copy of our modified dataset\n",
        "fotm_dataframe = fotm_dataset_without_id.copy(deep = True)"
      ],
      "execution_count": 13,
      "outputs": []
    },
    {
      "cell_type": "markdown",
      "metadata": {
        "id": "1pu--ha_lUOn"
      },
      "source": [
        "### Q3 - Adding a new column\n",
        "\n",
        "Create a new column called `year` within `fotm_dataframe` that is the result of first converting the `advertisement.publication_date` to a datetime object and then setting that object to have a yearly frequency. (This requires the `.to_period()` method)."
      ]
    },
    {
      "cell_type": "code",
      "metadata": {
        "id": "BO2F1NBZrU2_"
      },
      "source": [
        "fotm_dataframe['year'] = pd.to_datetime(fotm_dataframe['advertisement.publication_date']).dt.to_period('Y')"
      ],
      "execution_count": 14,
      "outputs": []
    },
    {
      "cell_type": "code",
      "metadata": {
        "id": "wdTWFZlBlUOt",
        "colab": {
          "base_uri": "https://localhost:8080/"
        },
        "outputId": "19e2187d-8ab9-4ce4-8ba4-61cf8080e369"
      },
      "source": [
        "fotm_dataframe.columns"
      ],
      "execution_count": 15,
      "outputs": [
        {
          "output_type": "execute_result",
          "data": {
            "text/plain": [
              "Index(['advertisement.publication_date', 'advertisement.complete',\n",
              "       'enslaved_person.gender', 'enslaver.gender', 'enslaver.type',\n",
              "       'newspaper.name', 'runaway_reward.amount', 'newspaper_location.city',\n",
              "       'newspaper_location.state', 'year'],\n",
              "      dtype='object')"
            ]
          },
          "metadata": {
            "tags": []
          },
          "execution_count": 15
        }
      ]
    },
    {
      "cell_type": "markdown",
      "metadata": {
        "id": "1hk4JqXqlUOw"
      },
      "source": [
        "## Find 'Unique' strings and `NaN` values for each of the remaining columns\n",
        "\n",
        "Replace string values that are inconsistent with 'Unknown'. Do the same for NaN values."
      ]
    },
    {
      "cell_type": "markdown",
      "metadata": {
        "id": "sbUkN3gelUOw"
      },
      "source": [
        "### Q4 - Cleaning the ```enslaved_person.gender``` column"
      ]
    },
    {
      "cell_type": "code",
      "metadata": {
        "id": "zbLSr255lUOx",
        "colab": {
          "base_uri": "https://localhost:8080/"
        },
        "outputId": "a21f38a1-58b8-4054-a706-816798cc4190"
      },
      "source": [
        "fotm_dataframe['enslaved_person.gender'].unique()"
      ],
      "execution_count": 16,
      "outputs": [
        {
          "output_type": "execute_result",
          "data": {
            "text/plain": [
              "array(['FEMALE', 'MALE', nan, 'NOT_PROVIDED', 'OTHER'], dtype=object)"
            ]
          },
          "metadata": {
            "tags": []
          },
          "execution_count": 16
        }
      ]
    },
    {
      "cell_type": "code",
      "metadata": {
        "id": "xAGO2qTolUO1"
      },
      "source": [
        "fotm_dataframe['enslaved_person.gender']= fotm_dataframe['enslaved_person.gender'].fillna(value='UNKNOWN')#, method=None, axis=None, inplace=True)\n"
      ],
      "execution_count": 17,
      "outputs": []
    },
    {
      "cell_type": "code",
      "metadata": {
        "id": "M2KBrH3AlUO5"
      },
      "source": [
        "fotm_dataframe[\"enslaved_person.gender\"] = fotm_dataframe[\"enslaved_person.gender\"].replace({\"NOT_PROVIDED\": \"UNKNOWN\"})"
      ],
      "execution_count": 18,
      "outputs": []
    },
    {
      "cell_type": "code",
      "metadata": {
        "id": "1SwatMdxlUO7",
        "colab": {
          "base_uri": "https://localhost:8080/"
        },
        "outputId": "0500367a-f0df-4338-ea5e-15abeb3e4561"
      },
      "source": [
        "fotm_dataframe['enslaved_person.gender'].unique()"
      ],
      "execution_count": 19,
      "outputs": [
        {
          "output_type": "execute_result",
          "data": {
            "text/plain": [
              "array(['FEMALE', 'MALE', 'UNKNOWN', 'OTHER'], dtype=object)"
            ]
          },
          "metadata": {
            "tags": []
          },
          "execution_count": 19
        }
      ]
    },
    {
      "cell_type": "markdown",
      "metadata": {
        "id": "yIRWXtd1lUPA"
      },
      "source": [
        "### Q5 - Cleaning the ```enslaver.gender``` column"
      ]
    },
    {
      "cell_type": "code",
      "metadata": {
        "scrolled": true,
        "id": "LYm3z9WTlUPA",
        "colab": {
          "base_uri": "https://localhost:8080/"
        },
        "outputId": "97cc2205-a2e7-4a70-e164-7a22cb6cff15"
      },
      "source": [
        "fotm_dataframe['enslaver.gender'].unique()"
      ],
      "execution_count": 20,
      "outputs": [
        {
          "output_type": "execute_result",
          "data": {
            "text/plain": [
              "array(['OTHER', 'MALE', 'NOT_PROVIDED', nan, 'FEMALE'], dtype=object)"
            ]
          },
          "metadata": {
            "tags": []
          },
          "execution_count": 20
        }
      ]
    },
    {
      "cell_type": "code",
      "metadata": {
        "id": "nmm56qSUlUPF"
      },
      "source": [
        "fotm_dataframe['enslaver.gender'] = fotm_dataframe['enslaver.gender'].fillna(value='UNKNOWN')"
      ],
      "execution_count": 21,
      "outputs": []
    },
    {
      "cell_type": "code",
      "metadata": {
        "id": "EgyAB2qDlUPI"
      },
      "source": [
        "fotm_dataframe['enslaver.gender'] = fotm_dataframe[\"enslaver.gender\"].replace({\"NOT_PROVIDED\": \"UNKNOWN\"})"
      ],
      "execution_count": 22,
      "outputs": []
    },
    {
      "cell_type": "code",
      "metadata": {
        "scrolled": false,
        "id": "1Ywj8x_BlUPM",
        "colab": {
          "base_uri": "https://localhost:8080/"
        },
        "outputId": "21d6abc7-cdbb-4d53-ba97-bca6fa8d504c"
      },
      "source": [
        "fotm_dataframe['enslaver.gender'].unique()"
      ],
      "execution_count": 23,
      "outputs": [
        {
          "output_type": "execute_result",
          "data": {
            "text/plain": [
              "array(['OTHER', 'MALE', 'UNKNOWN', 'FEMALE'], dtype=object)"
            ]
          },
          "metadata": {
            "tags": []
          },
          "execution_count": 23
        }
      ]
    },
    {
      "cell_type": "markdown",
      "metadata": {
        "id": "GWKTvUGBlUPP"
      },
      "source": [
        "### Q6 - Cleaning the ```enslaver.type``` column"
      ]
    },
    {
      "cell_type": "code",
      "metadata": {
        "scrolled": true,
        "id": "0NgjQfs1lUPQ",
        "colab": {
          "base_uri": "https://localhost:8080/"
        },
        "outputId": "6059e75f-80b0-443f-dee7-257c38e58807"
      },
      "source": [
        "fotm_dataframe['enslaver.type'].unique()"
      ],
      "execution_count": 24,
      "outputs": [
        {
          "output_type": "execute_result",
          "data": {
            "text/plain": [
              "array(['estate', 'current', 'deceased', 'NOT_PROVIDED', 'former',\n",
              "       'alleged', nan], dtype=object)"
            ]
          },
          "metadata": {
            "tags": []
          },
          "execution_count": 24
        }
      ]
    },
    {
      "cell_type": "code",
      "metadata": {
        "id": "XRldmGY6lUPU"
      },
      "source": [
        "fotm_dataframe['enslaver.type'] = fotm_dataframe['enslaver.type'].fillna(value='UNKNOWN')"
      ],
      "execution_count": 25,
      "outputs": []
    },
    {
      "cell_type": "code",
      "metadata": {
        "id": "zMr_f6j2lUPW"
      },
      "source": [
        "fotm_dataframe['enslaver.type'] = fotm_dataframe[\"enslaver.type\"].replace({\"NOT_PROVIDED\": \"UNKNOWN\"})"
      ],
      "execution_count": 26,
      "outputs": []
    },
    {
      "cell_type": "code",
      "metadata": {
        "scrolled": false,
        "id": "Y78zBL5zlUPa",
        "colab": {
          "base_uri": "https://localhost:8080/"
        },
        "outputId": "14b39602-8478-495f-a8b6-abcf4b4861f5"
      },
      "source": [
        "fotm_dataframe['enslaver.type'].unique()"
      ],
      "execution_count": 27,
      "outputs": [
        {
          "output_type": "execute_result",
          "data": {
            "text/plain": [
              "array(['estate', 'current', 'deceased', 'UNKNOWN', 'former', 'alleged'],\n",
              "      dtype=object)"
            ]
          },
          "metadata": {
            "tags": []
          },
          "execution_count": 27
        }
      ]
    },
    {
      "cell_type": "markdown",
      "metadata": {
        "id": "3Q3yfE_jlUPc"
      },
      "source": [
        "### Q7 - Cleaning the ```runaway_reward.amount``` column\n",
        "\n",
        "One of these line following lines of code for this section is not necessary, find the line and comment it."
      ]
    },
    {
      "cell_type": "code",
      "metadata": {
        "scrolled": true,
        "id": "UtVjtAp4lUPd",
        "colab": {
          "base_uri": "https://localhost:8080/"
        },
        "outputId": "6b95e9bd-b5a6-423d-d8bd-98f1008b7211"
      },
      "source": [
        "fotm_dataframe['runaway_reward.amount'].unique()"
      ],
      "execution_count": 28,
      "outputs": [
        {
          "output_type": "execute_result",
          "data": {
            "text/plain": [
              "array([2.00e+01, 1.00e+01, 1.50e+01, 9.00e+01, 5.00e+01,      nan,\n",
              "       1.00e+02, 2.00e+02, 2.00e+00, 2.50e+01, 4.00e+01, 8.00e+00,\n",
              "       1.00e+00, 7.00e+01, 3.00e+01, 3.00e+00, 5.00e+00, 6.00e+00,\n",
              "       4.00e+00, 2.50e+02, 7.50e+01, 5.00e+02, 3.00e+02, 1.50e+02,\n",
              "       6.00e+01, 5.90e+01, 4.50e+01, 1.00e+03, 5.50e+01, 2.90e+01,\n",
              "       8.20e+02, 2.30e+01, 4.00e+02, 3.50e+01, 2.10e+01, 3.00e+03,\n",
              "       2.40e+01, 1.00e+04, 1.35e+02, 2.25e+02, 9.50e+02, 1.30e+01,\n",
              "       3.20e+02, 6.10e+01, 1.60e+01])"
            ]
          },
          "metadata": {
            "tags": []
          },
          "execution_count": 28
        }
      ]
    },
    {
      "cell_type": "code",
      "metadata": {
        "id": "OqmmWfRylUPi"
      },
      "source": [
        "fotm_dataframe['runaway_reward.amount'] = fotm_dataframe['runaway_reward.amount'].fillna(value=0.0)"
      ],
      "execution_count": 29,
      "outputs": []
    },
    {
      "cell_type": "code",
      "metadata": {
        "id": "BoJLnH74lUPl"
      },
      "source": [
        "#fotm_dataset_modified[\"runaway_reward.amount\"].replace({\"NOT_PROVIDED\": \"UNKNOWN\"}, inplace=True)"
      ],
      "execution_count": null,
      "outputs": []
    },
    {
      "cell_type": "code",
      "metadata": {
        "scrolled": false,
        "id": "9noDyftJlUPn",
        "colab": {
          "base_uri": "https://localhost:8080/"
        },
        "outputId": "2a324212-282c-4ecf-e4f7-54b4e91fdd4e"
      },
      "source": [
        "fotm_dataframe['runaway_reward.amount'].unique().astype(int)"
      ],
      "execution_count": 30,
      "outputs": [
        {
          "output_type": "execute_result",
          "data": {
            "text/plain": [
              "array([   20,    10,    15,    90,    50,     0,   100,   200,     2,\n",
              "          25,    40,     8,     1,    70,    30,     3,     5,     6,\n",
              "           4,   250,    75,   500,   300,   150,    60,    59,    45,\n",
              "        1000,    55,    29,   820,    23,   400,    35,    21,  3000,\n",
              "          24, 10000,   135,   225,   950,    13,   320,    61,    16])"
            ]
          },
          "metadata": {
            "tags": []
          },
          "execution_count": 30
        }
      ]
    },
    {
      "cell_type": "markdown",
      "metadata": {
        "id": "vUfkS8MblUPq"
      },
      "source": [
        "### Q8 - Cleaning the ```newspaper_location.city``` column"
      ]
    },
    {
      "cell_type": "code",
      "metadata": {
        "scrolled": true,
        "id": "6032jU3elUPq",
        "colab": {
          "base_uri": "https://localhost:8080/"
        },
        "outputId": "7b3bfbf9-f859-4488-9616-239bd2f54508"
      },
      "source": [
        "fotm_dataframe['newspaper_location.city'].unique()"
      ],
      "execution_count": 31,
      "outputs": [
        {
          "output_type": "execute_result",
          "data": {
            "text/plain": [
              "array(['Charleston', 'Edenton', 'Wilmington', 'Washington', 'New Orleans',\n",
              "       'Mobile', 'Huntsville', 'Raleigh', 'Philadelphia', nan,\n",
              "       'Milledgeville', 'Newark', 'Nashville', 'New Bern', 'Halifax', ' ',\n",
              "       'Hillsborough', 'Cahawba', 'Richmond', 'Fayetteville',\n",
              "       'Greensboro', 'Salisbury', 'Tuscaloosa', 'Goldsboro',\n",
              "       'Elizabeth City', 'Montgomery', 'Burlington', 'Charlotte',\n",
              "       'Milton', 'Clinton', 'Oxford', 'Asheboro', 'Tarboro', 'Chatham',\n",
              "       'Concord', 'Asheville', 'Rutherfordton', 'Murfreesboro',\n",
              "       'Lincolnton', 'Warrenton', 'Winston-salem', 'Harrington',\n",
              "       'Louisburg', 'Wadesboro', 'Wilson'], dtype=object)"
            ]
          },
          "metadata": {
            "tags": []
          },
          "execution_count": 31
        }
      ]
    },
    {
      "cell_type": "code",
      "metadata": {
        "id": "2Gh_3cuzlUPv"
      },
      "source": [
        "fotm_dataframe['newspaper_location.city'] = fotm_dataframe['newspaper_location.city'].fillna(value='UNKNOWN')    #touch templates/index.html"
      ],
      "execution_count": 32,
      "outputs": []
    },
    {
      "cell_type": "code",
      "metadata": {
        "id": "4TMu078plUPy"
      },
      "source": [
        "fotm_dataframe['newspaper_location.city'] = fotm_dataframe[\"newspaper_location.city\"].replace({\" \": \"UNKNOWN\"})"
      ],
      "execution_count": 33,
      "outputs": []
    },
    {
      "cell_type": "code",
      "metadata": {
        "scrolled": true,
        "id": "oA0MPGXolUP1",
        "colab": {
          "base_uri": "https://localhost:8080/"
        },
        "outputId": "53a0fffd-c2ff-488b-d1cd-1739f2f3ccef"
      },
      "source": [
        "fotm_dataframe['newspaper_location.city'].unique()"
      ],
      "execution_count": 34,
      "outputs": [
        {
          "output_type": "execute_result",
          "data": {
            "text/plain": [
              "array(['Charleston', 'Edenton', 'Wilmington', 'Washington', 'New Orleans',\n",
              "       'Mobile', 'Huntsville', 'Raleigh', 'Philadelphia', 'UNKNOWN',\n",
              "       'Milledgeville', 'Newark', 'Nashville', 'New Bern', 'Halifax',\n",
              "       'Hillsborough', 'Cahawba', 'Richmond', 'Fayetteville',\n",
              "       'Greensboro', 'Salisbury', 'Tuscaloosa', 'Goldsboro',\n",
              "       'Elizabeth City', 'Montgomery', 'Burlington', 'Charlotte',\n",
              "       'Milton', 'Clinton', 'Oxford', 'Asheboro', 'Tarboro', 'Chatham',\n",
              "       'Concord', 'Asheville', 'Rutherfordton', 'Murfreesboro',\n",
              "       'Lincolnton', 'Warrenton', 'Winston-salem', 'Harrington',\n",
              "       'Louisburg', 'Wadesboro', 'Wilson'], dtype=object)"
            ]
          },
          "metadata": {
            "tags": []
          },
          "execution_count": 34
        }
      ]
    },
    {
      "cell_type": "markdown",
      "metadata": {
        "id": "RrqZs15IlUP3"
      },
      "source": [
        "### Q9 - Sorting the new dataset\n",
        "\n",
        "Sort `fotm_dataframe` by `advertisement.publication_date`."
      ]
    },
    {
      "cell_type": "code",
      "metadata": {
        "id": "aDyJXPrBlUP_"
      },
      "source": [
        "fotm_dataframe = fotm_dataframe.sort_values(by=\"advertisement.publication_date\")"
      ],
      "execution_count": 35,
      "outputs": []
    },
    {
      "cell_type": "markdown",
      "metadata": {
        "id": "orlwCzAQ8hVU"
      },
      "source": [
        "### Q10 - Resetting our index."
      ]
    },
    {
      "cell_type": "code",
      "metadata": {
        "id": "q2Dg4iCrlUQC"
      },
      "source": [
        "fotm_dataframe = fotm_dataframe.reset_index(drop=True)"
      ],
      "execution_count": 36,
      "outputs": []
    },
    {
      "cell_type": "markdown",
      "metadata": {
        "id": "UFya4gdn86Yc"
      },
      "source": [
        "### Saving our dataframe"
      ]
    },
    {
      "cell_type": "code",
      "metadata": {
        "id": "kgeVerCDlUQG"
      },
      "source": [
        "# Making a copy of our modified dataset\n",
        "fotm = fotm_dataframe.copy(deep = True)"
      ],
      "execution_count": 37,
      "outputs": []
    },
    {
      "cell_type": "markdown",
      "metadata": {
        "id": "c5b2ofTxlUQK"
      },
      "source": [
        "### Q11 - Newspaper and the number of advertisments they published\n",
        "\n",
        "Display each newspaper as well as how many total advertisements they ever published."
      ]
    },
    {
      "cell_type": "code",
      "metadata": {
        "id": "3eEiv9sdlUQK",
        "colab": {
          "base_uri": "https://localhost:8080/"
        },
        "outputId": "5da0d2ad-a942-4949-d32b-0e6b3a2804c3"
      },
      "source": [
        "fotm['newspaper.name'].value_counts()"
      ],
      "execution_count": 38,
      "outputs": [
        {
          "output_type": "execute_result",
          "data": {
            "text/plain": [
              "The Daily Picayune                            2602\n",
              "New-Orleans Argus                              998\n",
              "Charleston Mercury                             683\n",
              "Milledgeville Federal Union                    579\n",
              "Nashville Union                                380\n",
              "                                              ... \n",
              "Yadkin And Catawba Journal                       1\n",
              "The Providence Gazette and Country Journal       1\n",
              "Weekly Progress                                  1\n",
              "Greensboro Times                                 1\n",
              "Carolina Republican                              1\n",
              "Name: newspaper.name, Length: 157, dtype: int64"
            ]
          },
          "metadata": {
            "tags": []
          },
          "execution_count": 38
        }
      ]
    },
    {
      "cell_type": "markdown",
      "metadata": {
        "id": "LybOfboflUQM"
      },
      "source": [
        "### Q12 - Number of Complete vs Incomplete Advertisments\n",
        "\n",
        "Display the counts of complete advertisments. This will also tell you the number of incomplete ones."
      ]
    },
    {
      "cell_type": "code",
      "metadata": {
        "id": "0p8ijST1lUQN",
        "colab": {
          "base_uri": "https://localhost:8080/"
        },
        "outputId": "4116a49c-aaf3-451b-e95b-315c7ad4ccec"
      },
      "source": [
        "fotm['advertisement.complete'].value_counts()"
      ],
      "execution_count": 40,
      "outputs": [
        {
          "output_type": "execute_result",
          "data": {
            "text/plain": [
              "False    8204\n",
              "True      865\n",
              "Name: advertisement.complete, dtype: int64"
            ]
          },
          "metadata": {
            "tags": []
          },
          "execution_count": 40
        }
      ]
    },
    {
      "cell_type": "markdown",
      "metadata": {
        "id": "VCSS0yINlUQY"
      },
      "source": [
        "### Q13 - States with the most advertistments\n",
        "\n",
        "Display the counts of advertisements published in each state. (HINT: You know where each newspaper is located in one of the columns)."
      ]
    },
    {
      "cell_type": "code",
      "metadata": {
        "id": "_d7iGK0xlUQZ",
        "colab": {
          "base_uri": "https://localhost:8080/"
        },
        "outputId": "f997b2db-6936-4d71-8f93-8e41cb65fa37"
      },
      "source": [
        "fotm['newspaper_location.state'].value_counts()"
      ],
      "execution_count": 41,
      "outputs": [
        {
          "output_type": "execute_result",
          "data": {
            "text/plain": [
              "US-LA    3748\n",
              "US-NC    1667\n",
              "US-SC    1225\n",
              "US-AL     776\n",
              "US-GA     628\n",
              "US-TN     403\n",
              "US-MA     370\n",
              "US-NY     110\n",
              "US-NJ      49\n",
              "US-CT      34\n",
              "US-VA      26\n",
              "US-PA      15\n",
              "US-NH      13\n",
              "US-RI       5\n",
              "Name: newspaper_location.state, dtype: int64"
            ]
          },
          "metadata": {
            "tags": []
          },
          "execution_count": 41
        }
      ]
    },
    {
      "cell_type": "markdown",
      "metadata": {
        "id": "HiWeSJR1lUQb"
      },
      "source": [
        "### Q14 - Frequency of reward amount\n",
        "\n",
        "Display all possible reward amounts as well as the counts of how many advertisements used those amounts."
      ]
    },
    {
      "cell_type": "code",
      "metadata": {
        "id": "xmFbO9rClUQc",
        "colab": {
          "base_uri": "https://localhost:8080/"
        },
        "outputId": "b811886a-03b2-4c6a-d8dc-ce1dab458bd3"
      },
      "source": [
        "fotm['runaway_reward.amount'].value_counts()"
      ],
      "execution_count": 42,
      "outputs": [
        {
          "output_type": "execute_result",
          "data": {
            "text/plain": [
              "0.0        3737\n",
              "10.0       1087\n",
              "20.0       1000\n",
              "50.0        809\n",
              "25.0        717\n",
              "100.0       433\n",
              "5.0         289\n",
              "15.0        174\n",
              "30.0        173\n",
              "40.0        166\n",
              "200.0       134\n",
              "3.0          38\n",
              "2.0          37\n",
              "60.0         32\n",
              "75.0         31\n",
              "1.0          29\n",
              "500.0        28\n",
              "8.0          21\n",
              "4.0          17\n",
              "90.0         16\n",
              "6.0          15\n",
              "300.0        14\n",
              "150.0        12\n",
              "70.0         11\n",
              "250.0         8\n",
              "45.0          4\n",
              "1000.0        4\n",
              "23.0          4\n",
              "21.0          4\n",
              "35.0          3\n",
              "61.0          3\n",
              "59.0          3\n",
              "400.0         3\n",
              "55.0          2\n",
              "10000.0       1\n",
              "24.0          1\n",
              "16.0          1\n",
              "320.0         1\n",
              "950.0         1\n",
              "820.0         1\n",
              "13.0          1\n",
              "135.0         1\n",
              "225.0         1\n",
              "3000.0        1\n",
              "29.0          1\n",
              "Name: runaway_reward.amount, dtype: int64"
            ]
          },
          "metadata": {
            "tags": []
          },
          "execution_count": 42
        }
      ]
    },
    {
      "cell_type": "markdown",
      "metadata": {
        "id": "kFr_yCY8RREG"
      },
      "source": [
        "### Q15 - Viewing the number of articles per year.\n",
        "\n",
        "Display the counts of articles published each year."
      ]
    },
    {
      "cell_type": "code",
      "metadata": {
        "id": "Gp7pMGkAROF-",
        "colab": {
          "base_uri": "https://localhost:8080/"
        },
        "outputId": "d9cf0323-20cc-40ae-8b11-abb81928d21b"
      },
      "source": [
        "fotm['year'].value_counts()"
      ],
      "execution_count": 44,
      "outputs": [
        {
          "output_type": "execute_result",
          "data": {
            "text/plain": [
              "1828    1076\n",
              "1854     693\n",
              "1840     633\n",
              "1846     449\n",
              "1837     362\n",
              "        ... \n",
              "1742       1\n",
              "1721       1\n",
              "1732       1\n",
              "1723       1\n",
              "1705       1\n",
              "Freq: A-DEC, Name: year, Length: 142, dtype: int64"
            ]
          },
          "metadata": {
            "tags": []
          },
          "execution_count": 44
        }
      ]
    },
    {
      "cell_type": "markdown",
      "metadata": {
        "id": "bH0cpEDilUQi"
      },
      "source": [
        "### Q15 - Removing `runaway_reward.amount` >= 2000 and with `runaway_reward.amount < 1.0`  \n",
        "\n",
        "Now, let's remove the advertisements if `runaway_reward.amount` is less than 1 or greater than or equal to 2000 as these are anomalies in our analysis."
      ]
    },
    {
      "cell_type": "code",
      "metadata": {
        "id": "NFY2rxTslUQi"
      },
      "source": [
        "filt = (fotm['runaway_reward.amount'] > 0.0) & (fotm['runaway_reward.amount'] <= 2000)"
      ],
      "execution_count": 45,
      "outputs": []
    },
    {
      "cell_type": "code",
      "metadata": {
        "id": "Ax--OAhnlUQl",
        "colab": {
          "base_uri": "https://localhost:8080/"
        },
        "outputId": "da615832-8172-4a54-cdb1-2db864b576c5"
      },
      "source": [
        "fotm_amount_between_1_And_2000= fotm.loc[filt]\n",
        "fotm_amount_between_1_And_2000.shape"
      ],
      "execution_count": 46,
      "outputs": [
        {
          "output_type": "execute_result",
          "data": {
            "text/plain": [
              "(5330, 10)"
            ]
          },
          "metadata": {
            "tags": []
          },
          "execution_count": 46
        }
      ]
    },
    {
      "cell_type": "markdown",
      "metadata": {
        "id": "-btdZnFc9W4j"
      },
      "source": [
        "### Saving our dataframe\n",
        "\n",
        "We will make a copy of the dataframe we just created and save it as `fotm_visualization` "
      ]
    },
    {
      "cell_type": "code",
      "metadata": {
        "id": "6VV1jR0PlUQt"
      },
      "source": [
        "# Making a copy of our modified dataset\n",
        "fotm_visualization = fotm_amount_between_1_And_2000.copy(deep = True)"
      ],
      "execution_count": 47,
      "outputs": []
    },
    {
      "cell_type": "markdown",
      "metadata": {
        "id": "YCXNnMWl9b-e"
      },
      "source": [
        "# Step 2 - Visualizations"
      ]
    },
    {
      "cell_type": "markdown",
      "metadata": {
        "id": "dXOwuUaBAbO8"
      },
      "source": [
        "## Basic Plots\n",
        "\n",
        "- Minimum Year is  : 1704\n",
        "- Maximum Year is  : 1874\n"
      ]
    },
    {
      "cell_type": "code",
      "metadata": {
        "id": "corLFqxzOiwu",
        "colab": {
          "base_uri": "https://localhost:8080/",
          "height": 297
        },
        "outputId": "0c626741-1ccd-4a7f-d440-f6141a72dd9b"
      },
      "source": [
        "fotm_visualization.describe()f"
      ],
      "execution_count": 48,
      "outputs": [
        {
          "output_type": "execute_result",
          "data": {
            "text/html": [
              "<div>\n",
              "<style scoped>\n",
              "    .dataframe tbody tr th:only-of-type {\n",
              "        vertical-align: middle;\n",
              "    }\n",
              "\n",
              "    .dataframe tbody tr th {\n",
              "        vertical-align: top;\n",
              "    }\n",
              "\n",
              "    .dataframe thead th {\n",
              "        text-align: right;\n",
              "    }\n",
              "</style>\n",
              "<table border=\"1\" class=\"dataframe\">\n",
              "  <thead>\n",
              "    <tr style=\"text-align: right;\">\n",
              "      <th></th>\n",
              "      <th>runaway_reward.amount</th>\n",
              "    </tr>\n",
              "  </thead>\n",
              "  <tbody>\n",
              "    <tr>\n",
              "      <th>count</th>\n",
              "      <td>5330.000000</td>\n",
              "    </tr>\n",
              "    <tr>\n",
              "      <th>mean</th>\n",
              "      <td>39.942026</td>\n",
              "    </tr>\n",
              "    <tr>\n",
              "      <th>std</th>\n",
              "      <td>61.888032</td>\n",
              "    </tr>\n",
              "    <tr>\n",
              "      <th>min</th>\n",
              "      <td>1.000000</td>\n",
              "    </tr>\n",
              "    <tr>\n",
              "      <th>25%</th>\n",
              "      <td>10.000000</td>\n",
              "    </tr>\n",
              "    <tr>\n",
              "      <th>50%</th>\n",
              "      <td>20.000000</td>\n",
              "    </tr>\n",
              "    <tr>\n",
              "      <th>75%</th>\n",
              "      <td>50.000000</td>\n",
              "    </tr>\n",
              "    <tr>\n",
              "      <th>max</th>\n",
              "      <td>1000.000000</td>\n",
              "    </tr>\n",
              "  </tbody>\n",
              "</table>\n",
              "</div>"
            ],
            "text/plain": [
              "       runaway_reward.amount\n",
              "count            5330.000000\n",
              "mean               39.942026\n",
              "std                61.888032\n",
              "min                 1.000000\n",
              "25%                10.000000\n",
              "50%                20.000000\n",
              "75%                50.000000\n",
              "max              1000.000000"
            ]
          },
          "metadata": {
            "tags": []
          },
          "execution_count": 48
        }
      ]
    },
    {
      "cell_type": "code",
      "metadata": {
        "id": "0rN-NwvgPFkl",
        "colab": {
          "base_uri": "https://localhost:8080/"
        },
        "outputId": "bfa8694c-fc08-416c-c0c6-67564d4f4b9f"
      },
      "source": [
        "fotm_visualization['runaway_reward.amount'].median()"
      ],
      "execution_count": 49,
      "outputs": [
        {
          "output_type": "execute_result",
          "data": {
            "text/plain": [
              "20.0"
            ]
          },
          "metadata": {
            "tags": []
          },
          "execution_count": 49
        }
      ]
    },
    {
      "cell_type": "markdown",
      "metadata": {
        "id": "zdIvTF_UIDG7"
      },
      "source": [
        "### Q15 - Visualizing runaway_reward.amount vs. advertisement.publication_date\n",
        "\n",
        "In this question, we will display a scatter plot. \n",
        "We will use a dataset where `advertisement.publication_date` is between 1700 and 1750 and `runaway_reward.amount` is greater than the median value of that column and drop na values. "
      ]
    },
    {
      "cell_type": "code",
      "metadata": {
        "id": "T_IksYR_lUQv",
        "colab": {
          "base_uri": "https://localhost:8080/",
          "height": 335
        },
        "outputId": "12d0b7c7-b42e-45da-e902-b8dc7c62d4dd"
      },
      "source": [
        "test = fotm_visualization.where((fotm_visualization['advertisement.publication_date'] >='1700') & (fotm_visualization['advertisement.publication_date'] <= '1750') & (fotm_visualization['runaway_reward.amount'] > fotm_visualization['runaway_reward.amount'].median())).dropna()\n",
        "\n",
        "test.plot(x = 'advertisement.publication_date',\n",
        "          y='runaway_reward.amount',\n",
        "          kind = 'scatter',\n",
        "          rot = 45,\n",
        "          alpha = 0.4)"
      ],
      "execution_count": 50,
      "outputs": [
        {
          "output_type": "execute_result",
          "data": {
            "text/plain": [
              "<matplotlib.axes._subplots.AxesSubplot at 0x7f97ab2dceb8>"
            ]
          },
          "metadata": {
            "tags": []
          },
          "execution_count": 50
        },
        {
          "output_type": "display_data",
          "data": {
            "image/png": "[encoded data removed]",
            "text/plain": [
              "<Figure size 432x288 with 1 Axes>"
            ]
          },
          "metadata": {
            "tags": [],
            "needs_background": "light"
          }
        }
      ]
    },
    {
      "cell_type": "markdown",
      "metadata": {
        "id": "lKylSnUwIE-M"
      },
      "source": [
        "### Q16 - Visualizing runaway_reward.amount vs. advertisement.publication_date II\n",
        "\n",
        "In this question, we will display a scatter plot. \n",
        "We will use a dataset where `advertisement.publication_date` is between 1751 and 1800 and `runaway_reward.amount` is greater than the median value of that column and drop na values. "
      ]
    },
    {
      "cell_type": "code",
      "metadata": {
        "id": "sBcwksouOXfI",
        "colab": {
          "base_uri": "https://localhost:8080/",
          "height": 499
        },
        "outputId": "6a5b76fb-0435-4f9f-cd9d-32f8db86a953"
      },
      "source": [
        "test = fotm_visualization.where((fotm_visualization['advertisement.publication_date'] >='1751') & (fotm_visualization['advertisement.publication_date'] <= '1800')  & (fotm_visualization['runaway_reward.amount'] > fotm_visualization['runaway_reward.amount'].median()) ).dropna()\n",
        "\n",
        "test.plot(x = 'advertisement.publication_date',\n",
        "          y='runaway_reward.amount',\n",
        "          kind = 'scatter',\n",
        "          rot = 45,\n",
        "          alpha = 0.4,\n",
        "          figsize=(20,7))"
      ],
      "execution_count": 52,
      "outputs": [
        {
          "output_type": "execute_result",
          "data": {
            "text/plain": [
              "<matplotlib.axes._subplots.AxesSubplot at 0x7f97aac35780>"
            ]
          },
          "metadata": {
            "tags": []
          },
          "execution_count": 52
        },
        {
          "output_type": "display_data",
          "data": {
            "image/png": "[encoded data removed]",
            "text/plain": [
              "<Figure size 1440x504 with 1 Axes>"
            ]
          },
          "metadata": {
            "tags": [],
            "needs_background": "light"
          }
        }
      ]
    },
    {
      "cell_type": "markdown",
      "metadata": {
        "id": "XYmDU91FlURC"
      },
      "source": [
        "## Visualization using Seaborn \n",
        "\n",
        "\n",
        " "
      ]
    },
    {
      "cell_type": "markdown",
      "metadata": {
        "id": "uDGzYbF-R33g"
      },
      "source": [
        "### Q17 - Visualizing complete and incomplete advertisements\n",
        "\n",
        "In this question, we will display a bar chart using the `count` of `advertisement.complete` being `True` or `False`.\n",
        "\n",
        "We will use a dataset where `advertisement.publication_date` is between 1704 and 1750 and drop na values. "
      ]
    },
    {
      "cell_type": "code",
      "metadata": {
        "id": "4-vc1BzullAW",
        "colab": {
          "base_uri": "https://localhost:8080/",
          "height": 400
        },
        "outputId": "8a0d5280-65ac-4395-e171-cba3af6a4100"
      },
      "source": [
        "test = fotm_visualization.loc[(fotm_visualization['advertisement.publication_date'] >='1704') & (fotm_visualization['advertisement.publication_date'] <= '1750')].dropna()\n",
        "\n",
        "sns.catplot(x = 'advertisement.complete',\n",
        "            data = test,\n",
        "            kind = 'count')\n"
      ],
      "execution_count": null,
      "outputs": [
        {
          "output_type": "execute_result",
          "data": {
            "text/plain": [
              "<seaborn.axisgrid.FacetGrid at 0x7fb7031500f0>"
            ]
          },
          "metadata": {
            "tags": []
          },
          "execution_count": 123
        },
        {
          "output_type": "display_data",
          "data": {
            "image/png": "[encoded data removed]",
            "text/plain": [
              "<Figure size 360x360 with 1 Axes>"
            ]
          },
          "metadata": {
            "tags": [],
            "needs_background": "light"
          }
        }
      ]
    },
    {
      "cell_type": "markdown",
      "metadata": {
        "id": "eDGc7kehWH6_"
      },
      "source": [
        "### Q18 - Visualizing complete and incomplete advertisements II\n",
        "\n",
        "In this question, we will display a bar chart using the `count` of `advertisement.complete` being `True` or `False`.\n",
        "\n",
        "We will use a dataset where `advertisement.publication_date` is between 1751 and 1800 and drop na values. "
      ]
    },
    {
      "cell_type": "code",
      "metadata": {
        "id": "PR4CZGOtkliI",
        "colab": {
          "base_uri": "https://localhost:8080/",
          "height": 400
        },
        "outputId": "6a699809-fd96-44f4-9ab3-c12ac7fafb1b"
      },
      "source": [
        "test = fotm_visualization.loc[(fotm_visualization['advertisement.publication_date'] >='1751') & (fotm_visualization['advertisement.publication_date'] <= '1800')].dropna()\n",
        "\n",
        "sns.catplot(\n",
        "         x = 'advertisement.complete',\n",
        "        data = test,\n",
        "        kind = 'count')\n"
      ],
      "execution_count": 58,
      "outputs": [
        {
          "output_type": "execute_result",
          "data": {
            "text/plain": [
              "<seaborn.axisgrid.FacetGrid at 0x7f97a2cf09b0>"
            ]
          },
          "metadata": {
            "tags": []
          },
          "execution_count": 58
        },
        {
          "output_type": "display_data",
          "data": {
            "image/png": "[encoded data removed]",
            "text/plain": [
              "<Figure size 360x360 with 1 Axes>"
            ]
          },
          "metadata": {
            "tags": [],
            "needs_background": "light"
          }
        }
      ]
    },
    {
      "cell_type": "markdown",
      "metadata": {
        "id": "tz4kF1xKWKYZ"
      },
      "source": [
        "### Q19 - Visualizing complete and incomplete advertisements II\n",
        "\n",
        "In this question, we will display a bar chart using the `count` of `advertisement.complete` being `True` or `False`.\n",
        "\n",
        "We will use a dataset where `advertisement.publication_date` is between 1801 and 1874 and drop na values. "
      ]
    },
    {
      "cell_type": "code",
      "metadata": {
        "id": "PwKKVkp1ldpN",
        "colab": {
          "base_uri": "https://localhost:8080/",
          "height": 400
        },
        "outputId": "2089f368-48d6-4d24-fd13-7b28a918119f"
      },
      "source": [
        "test = fotm_visualization.loc[(fotm_visualization['advertisement.publication_date'] >='1801') & (fotm_visualization['advertisement.publication_date'] <= '1874')].dropna()\n",
        "\n",
        "sns.catplot(\n",
        "         x = 'advertisement.complete',\n",
        "        data = test,\n",
        "        kind = 'count')\n"
      ],
      "execution_count": null,
      "outputs": [
        {
          "output_type": "execute_result",
          "data": {
            "text/plain": [
              "<seaborn.axisgrid.FacetGrid at 0x7fb702c2a7b8>"
            ]
          },
          "metadata": {
            "tags": []
          },
          "execution_count": 120
        },
        {
          "output_type": "display_data",
          "data": {
            "image/png": "[encoded data removed]",
            "text/plain": [
              "<Figure size 360x360 with 1 Axes>"
            ]
          },
          "metadata": {
            "tags": [],
            "needs_background": "light"
          }
        }
      ]
    },
    {
      "cell_type": "markdown",
      "metadata": {
        "id": "8By81NgSSItj"
      },
      "source": [
        "### Q20 - Visualizing runaway reward amount vs. newspaper location state\n",
        "\n",
        "In this question, we will display a categorical plot on the state of newspaper location. We will see how reward amounts differed by enslaver type in each state."
      ]
    },
    {
      "cell_type": "code",
      "metadata": {
        "id": "ocQ_ks9OmV7T",
        "colab": {
          "base_uri": "https://localhost:8080/",
          "height": 404
        },
        "outputId": "4fbb63b0-e824-491c-ae3c-d8a356fd5697"
      },
      "source": [
        "x = sns.catplot(y = 'runaway_reward.amount',\n",
        "         x = 'newspaper_location.state',\n",
        "         hue = 'enslaver.type',\n",
        "        data = fotm_visualization,\n",
        "        jitter = False)\n",
        "\n",
        "x.set_xticklabels(rotation=45)\n",
        "x.fig.set_figwidth(20)\n",
        "x.fig.set_figheight(5)"
      ],
      "execution_count": null,
      "outputs": [
        {
          "output_type": "display_data",
          "data": {
            "image/png": "[encoded data removed]",
            "text/plain": [
              "<Figure size 1440x360 with 1 Axes>"
            ]
          },
          "metadata": {
            "tags": [],
            "needs_background": "light"
          }
        }
      ]
    },
    {
      "cell_type": "markdown",
      "metadata": {
        "id": "u6iRtESWSKfm"
      },
      "source": [
        "### Q21 - Visualizing runaway reward amount vs. newspaper location state II\n",
        "\n",
        "In this question, we will display a categorical plot on the state of newspaper location. We will see how reward amounts differed in each state."
      ]
    },
    {
      "cell_type": "code",
      "metadata": {
        "id": "cUp5LEbflURE",
        "colab": {
          "base_uri": "https://localhost:8080/",
          "height": 421
        },
        "outputId": "4f2bb863-734c-41e7-b801-198ca13a2489"
      },
      "source": [
        "x = sns.catplot(y = 'runaway_reward.amount',\n",
        "         x = 'newspaper_location.state',\n",
        "        data = fotm_visualization,\n",
        "        jitter = False)\n",
        "\n",
        "x.set_xticklabels(rotation=45)"
      ],
      "execution_count": null,
      "outputs": [
        {
          "output_type": "execute_result",
          "data": {
            "text/plain": [
              "<seaborn.axisgrid.FacetGrid at 0x7f5a99e11908>"
            ]
          },
          "metadata": {
            "tags": []
          },
          "execution_count": 70
        },
        {
          "output_type": "display_data",
          "data": {
            "image/png": "[encoded data removed]",
            "text/plain": [
              "<Figure size 360x360 with 1 Axes>"
            ]
          },
          "metadata": {
            "tags": [],
            "needs_background": "light"
          }
        }
      ]
    },
    {
      "cell_type": "markdown",
      "metadata": {
        "id": "I-1QrV2DSMKi"
      },
      "source": [
        "### Q22 - Visualizing runaway reward amount vs. newspaper location state III\n",
        "\n",
        "In this question, we will display a categorical plot on the state of newspaper location. We will see how reward amounts differed in each state using a box plot."
      ]
    },
    {
      "cell_type": "code",
      "metadata": {
        "id": "JxcsVryVlURG",
        "colab": {
          "base_uri": "https://localhost:8080/",
          "height": 399
        },
        "outputId": "ed6726a6-a62c-4595-88db-2303e9c48f65"
      },
      "source": [
        "sns.catplot(y = 'runaway_reward.amount',\n",
        "         x = 'newspaper_location.state',\n",
        "        data = fotm_visualization,\n",
        "        kind = 'box')"
      ],
      "execution_count": null,
      "outputs": [
        {
          "output_type": "execute_result",
          "data": {
            "text/plain": [
              "<seaborn.axisgrid.FacetGrid at 0x7fe29f9d5080>"
            ]
          },
          "metadata": {
            "tags": []
          },
          "execution_count": 211
        },
        {
          "output_type": "display_data",
          "data": {
            "image/png": "[encoded data removed]",
            "text/plain": [
              "<Figure size 360x360 with 1 Axes>"
            ]
          },
          "metadata": {
            "tags": []
          }
        }
      ]
    },
    {
      "cell_type": "markdown",
      "metadata": {
        "id": "HHWGAdE3lURJ"
      },
      "source": [
        "### Q23 - Exploring A Newspaper \n",
        "\n",
        "Let's select a newspaper `The Daily Picayune` and save the dataframe as `Boston_Letter_Df`."
      ]
    },
    {
      "cell_type": "code",
      "metadata": {
        "id": "N3_aDBbhlURJ",
        "outputId": "5251b3ae-47c7-4f0e-90d7-ab9c5549755f",
        "colab": {
          "base_uri": "https://localhost:8080/",
          "height": 609
        }
      },
      "source": [
        "Boston_Letter_Df = fotm_visualization.loc[fotm_visualization['newspaper.name'] == 'The Daily Picayune']\n",
        "Boston_Letter_Df"
      ],
      "execution_count": 60,
      "outputs": [
        {
          "output_type": "execute_result",
          "data": {
            "text/html": [
              "<div>\n",
              "<style scoped>\n",
              "    .dataframe tbody tr th:only-of-type {\n",
              "        vertical-align: middle;\n",
              "    }\n",
              "\n",
              "    .dataframe tbody tr th {\n",
              "        vertical-align: top;\n",
              "    }\n",
              "\n",
              "    .dataframe thead th {\n",
              "        text-align: right;\n",
              "    }\n",
              "</style>\n",
              "<table border=\"1\" class=\"dataframe\">\n",
              "  <thead>\n",
              "    <tr style=\"text-align: right;\">\n",
              "      <th></th>\n",
              "      <th>advertisement.publication_date</th>\n",
              "      <th>advertisement.complete</th>\n",
              "      <th>enslaved_person.gender</th>\n",
              "      <th>enslaver.gender</th>\n",
              "      <th>enslaver.type</th>\n",
              "      <th>newspaper.name</th>\n",
              "      <th>runaway_reward.amount</th>\n",
              "      <th>newspaper_location.city</th>\n",
              "      <th>newspaper_location.state</th>\n",
              "      <th>year</th>\n",
              "    </tr>\n",
              "  </thead>\n",
              "  <tbody>\n",
              "    <tr>\n",
              "      <th>4701</th>\n",
              "      <td>1837-04-11</td>\n",
              "      <td>False</td>\n",
              "      <td>FEMALE</td>\n",
              "      <td>UNKNOWN</td>\n",
              "      <td>UNKNOWN</td>\n",
              "      <td>The Daily Picayune</td>\n",
              "      <td>5.0</td>\n",
              "      <td>New Orleans</td>\n",
              "      <td>US-LA</td>\n",
              "      <td>1837</td>\n",
              "    </tr>\n",
              "    <tr>\n",
              "      <th>4702</th>\n",
              "      <td>1837-04-11</td>\n",
              "      <td>False</td>\n",
              "      <td>FEMALE</td>\n",
              "      <td>UNKNOWN</td>\n",
              "      <td>UNKNOWN</td>\n",
              "      <td>The Daily Picayune</td>\n",
              "      <td>10.0</td>\n",
              "      <td>New Orleans</td>\n",
              "      <td>US-LA</td>\n",
              "      <td>1837</td>\n",
              "    </tr>\n",
              "    <tr>\n",
              "      <th>4703</th>\n",
              "      <td>1837-04-11</td>\n",
              "      <td>False</td>\n",
              "      <td>FEMALE</td>\n",
              "      <td>UNKNOWN</td>\n",
              "      <td>UNKNOWN</td>\n",
              "      <td>The Daily Picayune</td>\n",
              "      <td>135.0</td>\n",
              "      <td>New Orleans</td>\n",
              "      <td>US-LA</td>\n",
              "      <td>1837</td>\n",
              "    </tr>\n",
              "    <tr>\n",
              "      <th>4704</th>\n",
              "      <td>1837-04-11</td>\n",
              "      <td>False</td>\n",
              "      <td>MALE</td>\n",
              "      <td>MALE</td>\n",
              "      <td>current</td>\n",
              "      <td>The Daily Picayune</td>\n",
              "      <td>10.0</td>\n",
              "      <td>New Orleans</td>\n",
              "      <td>US-LA</td>\n",
              "      <td>1837</td>\n",
              "    </tr>\n",
              "    <tr>\n",
              "      <th>4712</th>\n",
              "      <td>1837-05-03</td>\n",
              "      <td>False</td>\n",
              "      <td>FEMALE</td>\n",
              "      <td>UNKNOWN</td>\n",
              "      <td>current</td>\n",
              "      <td>The Daily Picayune</td>\n",
              "      <td>5.0</td>\n",
              "      <td>New Orleans</td>\n",
              "      <td>US-LA</td>\n",
              "      <td>1837</td>\n",
              "    </tr>\n",
              "    <tr>\n",
              "      <th>...</th>\n",
              "      <td>...</td>\n",
              "      <td>...</td>\n",
              "      <td>...</td>\n",
              "      <td>...</td>\n",
              "      <td>...</td>\n",
              "      <td>...</td>\n",
              "      <td>...</td>\n",
              "      <td>...</td>\n",
              "      <td>...</td>\n",
              "      <td>...</td>\n",
              "    </tr>\n",
              "    <tr>\n",
              "      <th>8529</th>\n",
              "      <td>1854-12-19</td>\n",
              "      <td>False</td>\n",
              "      <td>MALE</td>\n",
              "      <td>UNKNOWN</td>\n",
              "      <td>UNKNOWN</td>\n",
              "      <td>The Daily Picayune</td>\n",
              "      <td>10.0</td>\n",
              "      <td>New Orleans</td>\n",
              "      <td>US-LA</td>\n",
              "      <td>1854</td>\n",
              "    </tr>\n",
              "    <tr>\n",
              "      <th>8530</th>\n",
              "      <td>1854-12-19</td>\n",
              "      <td>False</td>\n",
              "      <td>MALE</td>\n",
              "      <td>MALE</td>\n",
              "      <td>current</td>\n",
              "      <td>The Daily Picayune</td>\n",
              "      <td>100.0</td>\n",
              "      <td>New Orleans</td>\n",
              "      <td>US-LA</td>\n",
              "      <td>1854</td>\n",
              "    </tr>\n",
              "    <tr>\n",
              "      <th>8531</th>\n",
              "      <td>1854-12-31</td>\n",
              "      <td>False</td>\n",
              "      <td>MALE</td>\n",
              "      <td>MALE</td>\n",
              "      <td>current</td>\n",
              "      <td>The Daily Picayune</td>\n",
              "      <td>50.0</td>\n",
              "      <td>New Orleans</td>\n",
              "      <td>US-LA</td>\n",
              "      <td>1854</td>\n",
              "    </tr>\n",
              "    <tr>\n",
              "      <th>8532</th>\n",
              "      <td>1854-12-31</td>\n",
              "      <td>False</td>\n",
              "      <td>MALE</td>\n",
              "      <td>MALE</td>\n",
              "      <td>current</td>\n",
              "      <td>The Daily Picayune</td>\n",
              "      <td>25.0</td>\n",
              "      <td>New Orleans</td>\n",
              "      <td>US-LA</td>\n",
              "      <td>1854</td>\n",
              "    </tr>\n",
              "    <tr>\n",
              "      <th>8533</th>\n",
              "      <td>1854-12-31</td>\n",
              "      <td>False</td>\n",
              "      <td>MALE</td>\n",
              "      <td>MALE</td>\n",
              "      <td>current</td>\n",
              "      <td>The Daily Picayune</td>\n",
              "      <td>200.0</td>\n",
              "      <td>New Orleans</td>\n",
              "      <td>US-LA</td>\n",
              "      <td>1854</td>\n",
              "    </tr>\n",
              "  </tbody>\n",
              "</table>\n",
              "<p>1762 rows × 10 columns</p>\n",
              "</div>"
            ],
            "text/plain": [
              "     advertisement.publication_date  ...  year\n",
              "4701                     1837-04-11  ...  1837\n",
              "4702                     1837-04-11  ...  1837\n",
              "4703                     1837-04-11  ...  1837\n",
              "4704                     1837-04-11  ...  1837\n",
              "4712                     1837-05-03  ...  1837\n",
              "...                             ...  ...   ...\n",
              "8529                     1854-12-19  ...  1854\n",
              "8530                     1854-12-19  ...  1854\n",
              "8531                     1854-12-31  ...  1854\n",
              "8532                     1854-12-31  ...  1854\n",
              "8533                     1854-12-31  ...  1854\n",
              "\n",
              "[1762 rows x 10 columns]"
            ]
          },
          "metadata": {
            "tags": []
          },
          "execution_count": 60
        }
      ]
    },
    {
      "cell_type": "markdown",
      "metadata": {
        "id": "d5QSiCMmSi50"
      },
      "source": [
        "### Q24 - Visualizing runaway reward amount vs. enslaver type\n",
        "\n",
        "In this question, we will use a categorical plot on the enslaver type. We will see how reward amounts differed by enslaver type in `Boston_Letter_Df`.\n"
      ]
    },
    {
      "cell_type": "code",
      "metadata": {
        "id": "bCg4AZYklURL",
        "colab": {
          "base_uri": "https://localhost:8080/",
          "height": 383
        },
        "outputId": "23c459d3-a4b1-4b9c-e7c1-8a85980defdc"
      },
      "source": [
        "x = sns.catplot(x = 'enslaver.type',\n",
        "        y = 'runaway_reward.amount',\n",
        "        hue = 'year',\n",
        "        data = Boston_Letter_Df)\n",
        "\n",
        "x.fig.set_figwidth(10)\n",
        "x.fig.set_figheight(5)"
      ],
      "execution_count": null,
      "outputs": [
        {
          "output_type": "display_data",
          "data": {
            "image/png": "[encoded data removed]",
            "text/plain": [
              "<Figure size 720x360 with 1 Axes>"
            ]
          },
          "metadata": {
            "tags": [],
            "needs_background": "light"
          }
        }
      ]
    },
    {
      "cell_type": "markdown",
      "metadata": {
        "id": "WfmJG8yUS85K"
      },
      "source": [
        "### Q25 - Looking at a State\n",
        "\n",
        "Let's select `US-LA` and save the dataframe as `Lousiana_df`.\n",
        "\n",
        "We will use a categorical plot on year and see what newspapers were used for advertisement each year."
      ]
    },
    {
      "cell_type": "code",
      "metadata": {
        "id": "oXjtRq8YlURW",
        "colab": {
          "base_uri": "https://localhost:8080/",
          "height": 384
        },
        "outputId": "9832fb22-b846-4bc9-8f24-f72ae04185c8"
      },
      "source": [
        "Lousiana_df = fotm_visualization.loc[fotm_visualization['newspaper_location.state'] == 'US-LA']\n",
        "\n",
        "g = sns.catplot(y = 'newspaper.name',\n",
        "        x = 'year',\n",
        "        hue = 'advertisement.complete',\n",
        "        data = Lousiana_df)\n",
        "\n",
        "g.fig.set_figwidth(20)\n",
        "g.fig.set_figheight(5)"
      ],
      "execution_count": null,
      "outputs": [
        {
          "output_type": "display_data",
          "data": {
            "image/png": "[encoded data removed]",
            "text/plain": [
              "<Figure size 1440x360 with 1 Axes>"
            ]
          },
          "metadata": {
            "tags": [],
            "needs_background": "light"
          }
        }
      ]
    },
    {
      "cell_type": "markdown",
      "metadata": {
        "id": "pip7zDurTAjB"
      },
      "source": [
        "### Q26 - Looking at a State II\n",
        "\n",
        "Using `Lousiana_df`, we will use a categorical plot on `month_year` and see what newspapers were used for advertisement each year."
      ]
    },
    {
      "cell_type": "code",
      "metadata": {
        "id": "c-m_zEZQogwY",
        "colab": {
          "base_uri": "https://localhost:8080/",
          "height": 384
        },
        "outputId": "bc8f59f7-e90a-4db1-f3ef-1445f0c6cf50"
      },
      "source": [
        "g = sns.catplot(y = 'newspaper.name',\n",
        "        x = 'month_year',\n",
        "        data = Lousiana_df)\n",
        "\n",
        "g.fig.set_figwidth(20)\n",
        "g.fig.set_figheight(5)"
      ],
      "execution_count": null,
      "outputs": [
        {
          "output_type": "display_data",
          "data": {
            "image/png": "[encoded data removed]",
            "text/plain": [
              "<Figure size 1440x360 with 1 Axes>"
            ]
          },
          "metadata": {
            "tags": [],
            "needs_background": "light"
          }
        }
      ]
    },
    {
      "cell_type": "markdown",
      "metadata": {
        "id": "9_SIi09YScKJ"
      },
      "source": [
        "### Q27 - Looking at a year with the most advertisements"
      ]
    },
    {
      "cell_type": "markdown",
      "metadata": {
        "id": "Bk2t7sS_YLYx"
      },
      "source": [
        "Let's find out a year with the most advertisements."
      ]
    },
    {
      "cell_type": "code",
      "metadata": {
        "id": "IiCNM-bZ9e_S",
        "outputId": "5efa8c63-a6e4-42dc-988a-5dcb0e853e44",
        "colab": {
          "base_uri": "https://localhost:8080/"
        }
      },
      "source": [
        "fotm_visualization['year'].value_counts().head(100)"
      ],
      "execution_count": 75,
      "outputs": [
        {
          "output_type": "execute_result",
          "data": {
            "text/plain": [
              "1854    527\n",
              "1828    384\n",
              "1846    341\n",
              "1844    220\n",
              "1836    204\n",
              "1837    192\n",
              "1840    189\n",
              "1778    185\n",
              "1838    173\n",
              "1845    166\n",
              "1825    165\n",
              "1829    145\n",
              "1822    134\n",
              "1832    119\n",
              "1826    107\n",
              "1847     98\n",
              "1835     95\n",
              "1824     77\n",
              "1803     77\n",
              "1853     73\n",
              "1849     73\n",
              "1813     73\n",
              "1851     64\n",
              "1848     63\n",
              "1839     55\n",
              "1841     55\n",
              "1863     53\n",
              "1821     52\n",
              "1834     41\n",
              "1850     39\n",
              "1831     39\n",
              "1795     38\n",
              "1797     36\n",
              "1823     36\n",
              "1842     33\n",
              "1796     32\n",
              "1810     31\n",
              "1860     31\n",
              "1852     27\n",
              "1820     27\n",
              "1864     25\n",
              "1843     25\n",
              "1798     24\n",
              "1827     24\n",
              "1818     24\n",
              "1793     24\n",
              "1856     23\n",
              "1858     23\n",
              "1859     23\n",
              "1833     22\n",
              "1855     22\n",
              "1861     22\n",
              "1799     19\n",
              "1806     17\n",
              "1857     16\n",
              "1763     15\n",
              "1787     14\n",
              "1816     14\n",
              "1792     14\n",
              "1862     14\n",
              "1776     13\n",
              "1801     13\n",
              "1794     13\n",
              "1788     12\n",
              "1811     12\n",
              "1817     12\n",
              "1819     11\n",
              "1782     11\n",
              "1830     10\n",
              "1804     10\n",
              "1814     10\n",
              "1771     10\n",
              "1781      9\n",
              "1790      9\n",
              "1775      8\n",
              "1791      8\n",
              "1783      8\n",
              "1761      7\n",
              "1773      7\n",
              "1777      7\n",
              "1759      7\n",
              "1762      6\n",
              "1815      6\n",
              "1774      6\n",
              "1769      6\n",
              "1789      6\n",
              "1765      6\n",
              "1772      6\n",
              "1768      5\n",
              "1766      5\n",
              "1760      5\n",
              "1807      5\n",
              "1780      4\n",
              "1812      4\n",
              "1724      4\n",
              "1779      4\n",
              "1757      4\n",
              "1755      4\n",
              "1764      4\n",
              "1770      3\n",
              "Freq: A-DEC, Name: year, dtype: int64"
            ]
          },
          "metadata": {
            "tags": []
          },
          "execution_count": 75
        }
      ]
    },
    {
      "cell_type": "markdown",
      "metadata": {
        "id": "jjLtftRL-Xu1"
      },
      "source": [
        "Save the dataframe where year is 1854 as `df_1854`."
      ]
    },
    {
      "cell_type": "code",
      "metadata": {
        "id": "CcZptAlxWdB7"
      },
      "source": [
        "df_1854 = fotm_visualization.loc[fotm_visualization['year'] == '1854']"
      ],
      "execution_count": 77,
      "outputs": []
    },
    {
      "cell_type": "markdown",
      "metadata": {
        "id": "hdfZLIW0-dlE"
      },
      "source": [
        "We will use a relational plot on newspaper location state vs. runaway reward amount."
      ]
    },
    {
      "cell_type": "code",
      "metadata": {
        "colab": {
          "base_uri": "https://localhost:8080/",
          "height": 529
        },
        "id": "b9rmzYKVWms_",
        "outputId": "b7543eae-3f9a-4d70-fb61-3d3eecd5f6b0"
      },
      "source": [
        "g = sns.relplot(y = 'newspaper_location.state',\n",
        "                x = 'runaway_reward.amount',\n",
        "                hue = 'advertisement.complete',\n",
        "                data = df_1854)\n",
        "\n",
        "g.set_xticklabels(rotation=45)\n",
        "g.fig.set_figwidth(20)\n",
        "g.fig.set_figheight(7)"
      ],
      "execution_count": 78,
      "outputs": [
        {
          "output_type": "display_data",
          "data": {
            "image/png": "[encoded data removed]",
            "text/plain": [
              "<Figure size 1440x504 with 1 Axes>"
            ]
          },
          "metadata": {
            "tags": [],
            "needs_background": "light"
          }
        }
      ]
    },
    {
      "cell_type": "markdown",
      "metadata": {
        "id": "Pov-Nb_YYwJb"
      },
      "source": [
        "### Q28 - Looking at a year with the most advertisements II\n",
        "\n",
        "We will use a categorical plot and display how newspaper city location was different per newspaper. "
      ]
    },
    {
      "cell_type": "code",
      "metadata": {
        "id": "ftp5YsAmUbls",
        "colab": {
          "base_uri": "https://localhost:8080/",
          "height": 604
        },
        "outputId": "99ea8521-ccf8-46f4-95c6-43875b68b892"
      },
      "source": [
        "g = sns.catplot(y = 'newspaper_location.city',\n",
        "            x ='newspaper.name',\n",
        "            hue = 'advertisement.complete',\n",
        "            data = df_1854)\n",
        "\n",
        "g.set_xticklabels(rotation=45)\n",
        "g.fig.set_figwidth(20)\n",
        "g.fig.set_figheight(7)"
      ],
      "execution_count": 79,
      "outputs": [
        {
          "output_type": "display_data",
          "data": {
            "image/png": "[encoded data removed]",
            "text/plain": [
              "<Figure size 1440x504 with 1 Axes>"
            ]
          },
          "metadata": {
            "tags": [],
            "needs_background": "light"
          }
        }
      ]
    },
    {
      "cell_type": "markdown",
      "metadata": {
        "id": "_hntDtdsgzqd"
      },
      "source": [
        "# Conclusion\n",
        "\n",
        "For this you will write a summary of what steps you followed throughout this notebook, why they were important and your findings.\n",
        "For example:\n",
        "- \n",
        "- \n",
        "- \n",
        "- \n",
        "- \n",
        "- \n",
        "\n",
        "\n",
        "You can also add your answers to the questions posted throughout the notebook here. \n"
      ]
    },
    {
      "cell_type": "markdown",
      "metadata": {
        "id": "9NhJfdAY24eu"
      },
      "source": [
        "\n",
        "## Submission\n",
        "Run this code block to download your answers."
      ]
    },
    {
      "cell_type": "code",
      "metadata": {
        "id": "7fk92Hpz24ex"
      },
      "source": [
        "from google.colab import files\n",
        "!zip -r \"{student_id}.zip\" \"{student_id}\"\n",
        "files.download(f\"{student_id}.zip\")"
      ],
      "execution_count": null,
      "outputs": []
    }
  ]
}