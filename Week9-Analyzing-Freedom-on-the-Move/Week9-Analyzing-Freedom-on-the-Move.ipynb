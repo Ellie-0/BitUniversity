{
  "nbformat": 4,
  "nbformat_minor": 0,
  "metadata": {
    "kernelspec": {
      "display_name": "Python 3",
      "language": "python",
      "name": "python3"
    },
    "language_info": {
      "codemirror_mode": {
        "name": "ipython",
        "version": 3
      },
      "file_extension": ".py",
      "mimetype": "text/x-python",
      "name": "python",
      "nbconvert_exporter": "python",
      "pygments_lexer": "ipython3",
      "version": "3.8.5"
    },
    "colab": {
      "name": "Week9-Analyzing-Freedom-on-the-Move.ipynb",
      "provenance": [],
      "include_colab_link": true
    }
  },
  "cells": [
    {
      "cell_type": "markdown",
      "metadata": {
        "id": "view-in-github",
        "colab_type": "text"
      },
      "source": [
        "<a href=\"https://colab.research.google.com/github/bitprj/DigitalHistory/blob/Shayan/Week9-Analyzing-Freedom-on-the-Move/Week9-Analyzing-Freedom-on-the-Move.ipynb\" target=\"_parent\"><img src=\"https://colab.research.google.com/assets/colab-badge.svg\" alt=\"Open In Colab\"/></a>"
      ]
    },
    {
      "cell_type": "markdown",
      "metadata": {
        "id": "HTy4Z3Uogzl1"
      },
      "source": [
        "<img src=\"https://github.com/ShayanRiyaz/DigitalHistory/blob/Shayan/Week5-Lab-Visualizing-the-Translatlantic-Slave-Trade/assets/icons/bitproject.png?raw=1\" width=\"200\" align=\"left\"> \n",
        "<img src=\"https://github.com/ShayanRiyaz/DigitalHistory/blob/Shayan/Week5-Lab-Visualizing-the-Translatlantic-Slave-Trade/assets/icons/data-science.jpg?raw=1\" width=\"300\" align=\"right\">"
      ]
    },
    {
      "cell_type": "markdown",
      "metadata": {
        "id": "P0ZwDeAxlUNF"
      },
      "source": [
        "# <div align=\"center\">Freedom on the Move</div>"
      ]
    },
    {
      "cell_type": "markdown",
      "metadata": {
        "id": "RE3H5y7yIRHZ"
      },
      "source": [
        "# Recap\n",
        "- Throughout this curriculum we have worked towards learning and implementing several methods of data analysis. \n",
        "\n",
        "Some of these are:\n",
        "- Using Python and `pandas` to load dataframes.\n",
        "- Cleaning and organizing our dataframes to make them easier to utilize.\n",
        "- Finding basic statistics of the dataframe.\n",
        "  - `mean`, `median`, `quartiles`, etc.\n",
        "- Using `matplotlib`, `pandas` and `seaborn` for simple to advanced visualizations.\n",
        "\n",
        "\n",
        "By this time, you should have an understanding of how to implement the following:\n",
        "- Loading Dataframes, modifying columns (for e.g adding a new column).\n",
        "- Modifying `NaN` values in our dataset .\n",
        "- Using `df.plot` to plot basic plots such as:\n",
        "    - Histograms - `df.plot(x,kind='hist')`\n",
        "    - Bar - `df.plot(x,ykind='bar')`\n",
        "    - Line - `df.plot(y)`\n",
        "    - Scatter plots - `df.plot(x,y,kind='scatter')`\n",
        "\n",
        "Using Seaborn to plot better and more intuitive visuals.\n",
        "- Using `sns.relplot` to plot numerical plots.\n",
        "    - Adding a 3rd parameter `hue`.\n",
        "    - Adding a 4th parameter `size`.\n",
        "- Using `sns.catplot` to plot categorical data.\n",
        "    - Understanding and visualizing Box plots.\n",
        "\n"
      ]
    },
    {
      "cell_type": "markdown",
      "metadata": {
        "id": "4uvgAANOIKwm"
      },
      "source": [
        "# About the Dataset\n",
        "\n",
        "\n",
        "\n"
      ]
    },
    {
      "cell_type": "markdown",
      "metadata": {
        "id": "mdUGc-qWwzv1"
      },
      "source": [
        "### Freedom on the Move\n",
        "<p align=\"center\">\n",
        "<img src=\"https://freedomonthemove.org/images/freedom.png\" width=\"200\"> \n",
        "</p>\n",
        "\n",
        "\n",
        "### Facts about the dataset\n",
        "\n",
        "- Freedom on the Move is a database of fugitives from North American slavery.\n",
        "- They are compiling thousands of stories of resistance that have never been accessible in one place.\n",
        "\n",
        "- Research driven by us.\n",
        "- A database full of possibilities.\n",
        "\n",
        "\n",
        "You can read more about the dataset [here](https://freedomonthemove.org/)."
      ]
    },
    {
      "cell_type": "markdown",
      "metadata": {
        "id": "fPyizd_JIHPU"
      },
      "source": [
        "# Practicum and Methodology\n"
      ]
    },
    {
      "cell_type": "markdown",
      "metadata": {
        "id": "s6SlFFhbZCxY"
      },
      "source": [
        "Congratulations, you have made it to the 2nd practicum of this course. In this practicum we will be using some of the important methods we have learned in the past few weeks. These methods have taught us how to clean and organize our datasets into a more consice and structured manner (replacing null values, adding new columns etc). We will also be visualizing the freedom on the move dataset after we have organized it according to our needs.\n",
        "\n",
        "One thing that you should know about these datasets is, that when we have large quantities of `Null` values one drawback is that these are harder to work with and most of the times the outcome is not clear until we have completely analysed and restructured the datasets. For this practicum we have taken a beginner friendly *cover all tracks* approach to produce a useful dataset and then use it to do some exploratory data analysis. We recommend you try to work more with this dataset in the future and go beyond us in analyzing it.\n",
        "\n",
        "We have divided our approach into **2** parts:\n",
        "\n",
        "- The first part focuses on getting started with our dataset, cleaning and organizing it.\n",
        "- The second part involves visualizations usint `seaborn` and `pandas`."
      ]
    },
    {
      "cell_type": "markdown",
      "metadata": {
        "id": "Tl_6Scu8IE7Q"
      },
      "source": [
        "\n",
        "# Grading\n",
        "\n",
        "This exercise has a total of 28 questions. Every question has 1 point. Some questions might have multiple parts but the weight of the question is the same.\n",
        "\n",
        "In order to work on the questions in this Practicum and submit them for grading, you'll need to run the code block below. It will ask for your student ID number and then create a folder that will house your answers for each question. At the very end of the notebook, there is a code section that will download this folder as a zip file to your computer. This zip file will be your final submission."
      ]
    },
    {
      "cell_type": "code",
      "metadata": {
        "id": "HmZvJAZIpGf6"
      },
      "source": [
        "import os\n",
        "import shutil\n",
        "\n",
        "!rm -rf sample_data\n",
        "\n",
        "student_id = input('Please Enter your Student ID: ') # Enter Student ID.\n",
        "\n",
        "while len(student_id) != 9:\n",
        " student_id = int('Please Enter your Student ID: ')  \n",
        "  \n",
        "folder_location = f'{student_id}/Freedom_on_the_move/Practicum'\n",
        "if not os.path.exists(folder_location):\n",
        "  os.makedirs(folder_location)\n",
        "  print('Successfully Created Directory, Lets get started')\n",
        "else:\n",
        "  print('Directory Already Exists')"
      ],
      "execution_count": null,
      "outputs": []
    },
    {
      "cell_type": "markdown",
      "metadata": {
        "id": "3b7Blkm7lUNd"
      },
      "source": [
        "## Load Libraries"
      ]
    },
    {
      "cell_type": "markdown",
      "metadata": {
        "id": "6yZxRDtfY9W6"
      },
      "source": [
        "We will first load the following libraries.\n",
        "\n"
      ]
    },
    {
      "cell_type": "code",
      "metadata": {
        "id": "sw5dkpHOlUNg"
      },
      "source": [
        "import matplotlib.pyplot as plt \n",
        "import pandas as pd\n",
        "import seaborn as sns"
      ],
      "execution_count": 201,
      "outputs": []
    },
    {
      "cell_type": "markdown",
      "metadata": {
        "id": "tCjP2xP_lUNp"
      },
      "source": [
        "## Load Dataset"
      ]
    },
    {
      "cell_type": "markdown",
      "metadata": {
        "id": "SkTwTdQGZB5q"
      },
      "source": [
        "Next we will load our dataset as a dataframe.\n",
        "\n",
        "*Notice, there is one extra parameter that we added, `encoding` which is set as `ISO-8859-1`. This not common, however, the features in the freedom on the move have been collected from various resources with different dataformats, therefore the `ISO-8859-1` ensures that all the formats are usable.*\n",
        "\n",
        "\n",
        "You can navigate to the URL below and find the dataset in a raw form."
      ]
    },
    {
      "cell_type": "code",
      "metadata": {
        "id": "Uoe4DsKxlUNq"
      },
      "source": [
        "url = 'https://bit.ly/3kVBMnZ'\n",
        "\n",
        "fotm_dataset = pd.read_csv(url, encoding = \"ISO-8859-1\")"
      ],
      "execution_count": 202,
      "outputs": []
    },
    {
      "cell_type": "markdown",
      "metadata": {
        "id": "yw4cT8LClUNx"
      },
      "source": [
        "## Using `Pandas` to extract basic information \n",
        "\n",
        "Next we will implement the basic functions that we can use with our dataframes:\n",
        "- `df.columns()`\n",
        "- `df.head()`\n",
        "- `df.tail()`\n",
        "- `df.info()`\n",
        "- `df.describe()`\n",
        "- `df.shape`\n",
        "\n",
        "Using these functions is always considered to be good practice.\n"
      ]
    },
    {
      "cell_type": "markdown",
      "metadata": {
        "id": "2MXk9TaYwHXL"
      },
      "source": [
        "### Print the names of all the columns"
      ]
    },
    {
      "cell_type": "code",
      "metadata": {
        "id": "zKB_6v4TlUNy",
        "colab": {
          "base_uri": "https://localhost:8080/"
        },
        "outputId": "6bb09ac1-6ab6-4572-88fa-b2cde776775e"
      },
      "source": [
        "fotm_dataset.columns"
      ],
      "execution_count": 203,
      "outputs": [
        {
          "output_type": "execute_result",
          "data": {
            "text/plain": [
              "Index(['advertisement.publication_date', 'advertisement.complete',\n",
              "       'advertiser.name', 'enslaved_person.gender',\n",
              "       'enslaved_person_languages.does_speak', 'enslaver.fullname',\n",
              "       'enslaver.gender', 'enslaver.type', 'newspaper.name',\n",
              "       'runaway.ran_before', 'runaway.profess_freedom',\n",
              "       'runaway_enslavers.enslaver_status', 'runaway_reward.amount',\n",
              "       'newspaper_location.city', 'newspaper_location.state',\n",
              "       'enslaver_location.city', 'enslaver_location.state', 'advertisement.id',\n",
              "       'advertiser.id', 'newspaper.id', 'newspaper_location.id',\n",
              "       'runaway_event.id', 'runaway.id', 'enslaved_person.id',\n",
              "       'enslaved_person_languages.id', 'runaway_enslavers.id', 'enslaver.id',\n",
              "       'enslaver_location.id', 'runaway_reward.id'],\n",
              "      dtype='object')"
            ]
          },
          "metadata": {
            "tags": []
          },
          "execution_count": 203
        }
      ]
    },
    {
      "cell_type": "markdown",
      "metadata": {
        "id": "-G-DsRob67_Y"
      },
      "source": [
        "### `Head()`"
      ]
    },
    {
      "cell_type": "code",
      "metadata": {
        "id": "9-dPG7Wr44Yb",
        "colab": {
          "base_uri": "https://localhost:8080/",
          "height": 417
        },
        "outputId": "80057226-a068-4b47-df41-7b3648e03a06"
      },
      "source": [
        "fotm_dataset.head()"
      ],
      "execution_count": 204,
      "outputs": [
        {
          "output_type": "execute_result",
          "data": {
            "text/html": [
              "<div>\n",
              "<style scoped>\n",
              "    .dataframe tbody tr th:only-of-type {\n",
              "        vertical-align: middle;\n",
              "    }\n",
              "\n",
              "    .dataframe tbody tr th {\n",
              "        vertical-align: top;\n",
              "    }\n",
              "\n",
              "    .dataframe thead th {\n",
              "        text-align: right;\n",
              "    }\n",
              "</style>\n",
              "<table border=\"1\" class=\"dataframe\">\n",
              "  <thead>\n",
              "    <tr style=\"text-align: right;\">\n",
              "      <th></th>\n",
              "      <th>advertisement.publication_date</th>\n",
              "      <th>advertisement.complete</th>\n",
              "      <th>advertiser.name</th>\n",
              "      <th>enslaved_person.gender</th>\n",
              "      <th>enslaved_person_languages.does_speak</th>\n",
              "      <th>enslaver.fullname</th>\n",
              "      <th>enslaver.gender</th>\n",
              "      <th>enslaver.type</th>\n",
              "      <th>newspaper.name</th>\n",
              "      <th>runaway.ran_before</th>\n",
              "      <th>runaway.profess_freedom</th>\n",
              "      <th>runaway_enslavers.enslaver_status</th>\n",
              "      <th>runaway_reward.amount</th>\n",
              "      <th>newspaper_location.city</th>\n",
              "      <th>newspaper_location.state</th>\n",
              "      <th>enslaver_location.city</th>\n",
              "      <th>enslaver_location.state</th>\n",
              "      <th>advertisement.id</th>\n",
              "      <th>advertiser.id</th>\n",
              "      <th>newspaper.id</th>\n",
              "      <th>newspaper_location.id</th>\n",
              "      <th>runaway_event.id</th>\n",
              "      <th>runaway.id</th>\n",
              "      <th>enslaved_person.id</th>\n",
              "      <th>enslaved_person_languages.id</th>\n",
              "      <th>runaway_enslavers.id</th>\n",
              "      <th>enslaver.id</th>\n",
              "      <th>enslaver_location.id</th>\n",
              "      <th>runaway_reward.id</th>\n",
              "    </tr>\n",
              "  </thead>\n",
              "  <tbody>\n",
              "    <tr>\n",
              "      <th>0</th>\n",
              "      <td>1829-12-19</td>\n",
              "      <td>True</td>\n",
              "      <td>NaN</td>\n",
              "      <td>FEMALE</td>\n",
              "      <td>NaN</td>\n",
              "      <td>Vance</td>\n",
              "      <td>OTHER</td>\n",
              "      <td>estate</td>\n",
              "      <td>Charleston Mercury</td>\n",
              "      <td>NaN</td>\n",
              "      <td>NaN</td>\n",
              "      <td>NaN</td>\n",
              "      <td>20.0</td>\n",
              "      <td>Charleston</td>\n",
              "      <td>US-SC</td>\n",
              "      <td>Charleston</td>\n",
              "      <td>US-SC</td>\n",
              "      <td>00009a54-8ed0-44a3-8983-7534c5001172</td>\n",
              "      <td>NaN</td>\n",
              "      <td>12d38785-dfdf-4dbc-a9c6-3ccb0e8d6448</td>\n",
              "      <td>0afd2704-9c29-4f31-9ffe-3627c61e7958</td>\n",
              "      <td>6bb670ae-7ec5-41e1-95b4-d4421015b17f</td>\n",
              "      <td>7c1d52e1-2b99-4372-a7c2-012430871cf1</td>\n",
              "      <td>664075ec-2c11-474e-b1ef-8ed120643658</td>\n",
              "      <td>NaN</td>\n",
              "      <td>dbe0cc3f-0898-4eaf-b702-8be2143d970a</td>\n",
              "      <td>577eef00-d0db-463d-8f5a-ca03282733f4</td>\n",
              "      <td>05a63752-e272-48f6-9050-72590c5d7ac9</td>\n",
              "      <td>30efbcb3-23c1-48f5-a349-c34daea5d1fb</td>\n",
              "    </tr>\n",
              "    <tr>\n",
              "      <th>1</th>\n",
              "      <td>1829-12-19</td>\n",
              "      <td>True</td>\n",
              "      <td>NaN</td>\n",
              "      <td>FEMALE</td>\n",
              "      <td>NaN</td>\n",
              "      <td>Vance</td>\n",
              "      <td>OTHER</td>\n",
              "      <td>estate</td>\n",
              "      <td>Charleston Mercury</td>\n",
              "      <td>NaN</td>\n",
              "      <td>NaN</td>\n",
              "      <td>NaN</td>\n",
              "      <td>10.0</td>\n",
              "      <td>Charleston</td>\n",
              "      <td>US-SC</td>\n",
              "      <td>Charleston</td>\n",
              "      <td>US-SC</td>\n",
              "      <td>00009a54-8ed0-44a3-8983-7534c5001172</td>\n",
              "      <td>NaN</td>\n",
              "      <td>12d38785-dfdf-4dbc-a9c6-3ccb0e8d6448</td>\n",
              "      <td>0afd2704-9c29-4f31-9ffe-3627c61e7958</td>\n",
              "      <td>6bb670ae-7ec5-41e1-95b4-d4421015b17f</td>\n",
              "      <td>7c1d52e1-2b99-4372-a7c2-012430871cf1</td>\n",
              "      <td>664075ec-2c11-474e-b1ef-8ed120643658</td>\n",
              "      <td>NaN</td>\n",
              "      <td>dbe0cc3f-0898-4eaf-b702-8be2143d970a</td>\n",
              "      <td>577eef00-d0db-463d-8f5a-ca03282733f4</td>\n",
              "      <td>05a63752-e272-48f6-9050-72590c5d7ac9</td>\n",
              "      <td>0d52b7d0-7bdd-48c6-acb0-ff3db30a16bb</td>\n",
              "    </tr>\n",
              "    <tr>\n",
              "      <th>2</th>\n",
              "      <td>1829-12-19</td>\n",
              "      <td>True</td>\n",
              "      <td>NaN</td>\n",
              "      <td>FEMALE</td>\n",
              "      <td>NaN</td>\n",
              "      <td>WM. H. Smith</td>\n",
              "      <td>MALE</td>\n",
              "      <td>current</td>\n",
              "      <td>Charleston Mercury</td>\n",
              "      <td>NaN</td>\n",
              "      <td>NaN</td>\n",
              "      <td>NaN</td>\n",
              "      <td>20.0</td>\n",
              "      <td>Charleston</td>\n",
              "      <td>US-SC</td>\n",
              "      <td>Charleston</td>\n",
              "      <td>US-SC</td>\n",
              "      <td>00009a54-8ed0-44a3-8983-7534c5001172</td>\n",
              "      <td>NaN</td>\n",
              "      <td>12d38785-dfdf-4dbc-a9c6-3ccb0e8d6448</td>\n",
              "      <td>0afd2704-9c29-4f31-9ffe-3627c61e7958</td>\n",
              "      <td>6bb670ae-7ec5-41e1-95b4-d4421015b17f</td>\n",
              "      <td>7c1d52e1-2b99-4372-a7c2-012430871cf1</td>\n",
              "      <td>664075ec-2c11-474e-b1ef-8ed120643658</td>\n",
              "      <td>NaN</td>\n",
              "      <td>d7796415-33de-4725-b41b-451b47ba7266</td>\n",
              "      <td>ea1637f3-cfd3-4aef-be71-3e090e8526e1</td>\n",
              "      <td>b7ef3786-2260-4cd1-afcf-14776d07af90</td>\n",
              "      <td>30efbcb3-23c1-48f5-a349-c34daea5d1fb</td>\n",
              "    </tr>\n",
              "    <tr>\n",
              "      <th>3</th>\n",
              "      <td>1829-12-19</td>\n",
              "      <td>True</td>\n",
              "      <td>NaN</td>\n",
              "      <td>FEMALE</td>\n",
              "      <td>NaN</td>\n",
              "      <td>WM. H. Smith</td>\n",
              "      <td>MALE</td>\n",
              "      <td>current</td>\n",
              "      <td>Charleston Mercury</td>\n",
              "      <td>NaN</td>\n",
              "      <td>NaN</td>\n",
              "      <td>NaN</td>\n",
              "      <td>10.0</td>\n",
              "      <td>Charleston</td>\n",
              "      <td>US-SC</td>\n",
              "      <td>Charleston</td>\n",
              "      <td>US-SC</td>\n",
              "      <td>00009a54-8ed0-44a3-8983-7534c5001172</td>\n",
              "      <td>NaN</td>\n",
              "      <td>12d38785-dfdf-4dbc-a9c6-3ccb0e8d6448</td>\n",
              "      <td>0afd2704-9c29-4f31-9ffe-3627c61e7958</td>\n",
              "      <td>6bb670ae-7ec5-41e1-95b4-d4421015b17f</td>\n",
              "      <td>7c1d52e1-2b99-4372-a7c2-012430871cf1</td>\n",
              "      <td>664075ec-2c11-474e-b1ef-8ed120643658</td>\n",
              "      <td>NaN</td>\n",
              "      <td>d7796415-33de-4725-b41b-451b47ba7266</td>\n",
              "      <td>ea1637f3-cfd3-4aef-be71-3e090e8526e1</td>\n",
              "      <td>b7ef3786-2260-4cd1-afcf-14776d07af90</td>\n",
              "      <td>0d52b7d0-7bdd-48c6-acb0-ff3db30a16bb</td>\n",
              "    </tr>\n",
              "    <tr>\n",
              "      <th>4</th>\n",
              "      <td>1830-01-02</td>\n",
              "      <td>True</td>\n",
              "      <td>Wm. B. Roberts, Executor</td>\n",
              "      <td>MALE</td>\n",
              "      <td>NaN</td>\n",
              "      <td>Rev. Henry Holmes</td>\n",
              "      <td>MALE</td>\n",
              "      <td>deceased</td>\n",
              "      <td>Edenton Gazette And North Carolina General Adv...</td>\n",
              "      <td>NaN</td>\n",
              "      <td>NaN</td>\n",
              "      <td>NaN</td>\n",
              "      <td>15.0</td>\n",
              "      <td>Edenton</td>\n",
              "      <td>US-NC</td>\n",
              "      <td>NaN</td>\n",
              "      <td>US-NC</td>\n",
              "      <td>0001aa96-153e-49e9-9cc1-78ff29cad12f</td>\n",
              "      <td>be248ed4-c224-448a-9db2-23204e05392d</td>\n",
              "      <td>ce244760-13c7-4c98-bfc5-0b6b8cb454f4</td>\n",
              "      <td>dd33c07c-80c1-4d46-b25b-1daf33b57a79</td>\n",
              "      <td>f6f30219-bf53-4835-b90b-68d587aef3ef</td>\n",
              "      <td>cf69ceec-0b4b-4b5c-98bf-bffab1e488c1</td>\n",
              "      <td>bb232988-8487-470f-bc62-d12aa8665d8d</td>\n",
              "      <td>NaN</td>\n",
              "      <td>3f39bcb6-873e-41ed-b8a2-5546d2117e22</td>\n",
              "      <td>ecb5b127-f7f4-4e7c-88fd-b325524a6853</td>\n",
              "      <td>d3cbbc85-a3df-4c44-b689-71693643a223</td>\n",
              "      <td>375fc31d-c80b-4fe5-a95d-728c1a0f96bf</td>\n",
              "    </tr>\n",
              "  </tbody>\n",
              "</table>\n",
              "</div>"
            ],
            "text/plain": [
              "  advertisement.publication_date  ...                     runaway_reward.id\n",
              "0                     1829-12-19  ...  30efbcb3-23c1-48f5-a349-c34daea5d1fb\n",
              "1                     1829-12-19  ...  0d52b7d0-7bdd-48c6-acb0-ff3db30a16bb\n",
              "2                     1829-12-19  ...  30efbcb3-23c1-48f5-a349-c34daea5d1fb\n",
              "3                     1829-12-19  ...  0d52b7d0-7bdd-48c6-acb0-ff3db30a16bb\n",
              "4                     1830-01-02  ...  375fc31d-c80b-4fe5-a95d-728c1a0f96bf\n",
              "\n",
              "[5 rows x 29 columns]"
            ]
          },
          "metadata": {
            "tags": []
          },
          "execution_count": 204
        }
      ]
    },
    {
      "cell_type": "markdown",
      "metadata": {
        "id": "whB9P-DX6-b7"
      },
      "source": [
        "### `Tail()`"
      ]
    },
    {
      "cell_type": "code",
      "metadata": {
        "id": "9kmvxsIC47xg",
        "colab": {
          "base_uri": "https://localhost:8080/",
          "height": 365
        },
        "outputId": "baae0cc3-182f-4a1b-bd02-fbc452a421da"
      },
      "source": [
        "fotm_dataset.tail()"
      ],
      "execution_count": 205,
      "outputs": [
        {
          "output_type": "execute_result",
          "data": {
            "text/html": [
              "<div>\n",
              "<style scoped>\n",
              "    .dataframe tbody tr th:only-of-type {\n",
              "        vertical-align: middle;\n",
              "    }\n",
              "\n",
              "    .dataframe tbody tr th {\n",
              "        vertical-align: top;\n",
              "    }\n",
              "\n",
              "    .dataframe thead th {\n",
              "        text-align: right;\n",
              "    }\n",
              "</style>\n",
              "<table border=\"1\" class=\"dataframe\">\n",
              "  <thead>\n",
              "    <tr style=\"text-align: right;\">\n",
              "      <th></th>\n",
              "      <th>advertisement.publication_date</th>\n",
              "      <th>advertisement.complete</th>\n",
              "      <th>advertiser.name</th>\n",
              "      <th>enslaved_person.gender</th>\n",
              "      <th>enslaved_person_languages.does_speak</th>\n",
              "      <th>enslaver.fullname</th>\n",
              "      <th>enslaver.gender</th>\n",
              "      <th>enslaver.type</th>\n",
              "      <th>newspaper.name</th>\n",
              "      <th>runaway.ran_before</th>\n",
              "      <th>runaway.profess_freedom</th>\n",
              "      <th>runaway_enslavers.enslaver_status</th>\n",
              "      <th>runaway_reward.amount</th>\n",
              "      <th>newspaper_location.city</th>\n",
              "      <th>newspaper_location.state</th>\n",
              "      <th>enslaver_location.city</th>\n",
              "      <th>enslaver_location.state</th>\n",
              "      <th>advertisement.id</th>\n",
              "      <th>advertiser.id</th>\n",
              "      <th>newspaper.id</th>\n",
              "      <th>newspaper_location.id</th>\n",
              "      <th>runaway_event.id</th>\n",
              "      <th>runaway.id</th>\n",
              "      <th>enslaved_person.id</th>\n",
              "      <th>enslaved_person_languages.id</th>\n",
              "      <th>runaway_enslavers.id</th>\n",
              "      <th>enslaver.id</th>\n",
              "      <th>enslaver_location.id</th>\n",
              "      <th>runaway_reward.id</th>\n",
              "    </tr>\n",
              "  </thead>\n",
              "  <tbody>\n",
              "    <tr>\n",
              "      <th>9064</th>\n",
              "      <td>1844-01-12</td>\n",
              "      <td>False</td>\n",
              "      <td>Lucien Labranche</td>\n",
              "      <td>MALE</td>\n",
              "      <td>NaN</td>\n",
              "      <td>NaN</td>\n",
              "      <td>NaN</td>\n",
              "      <td>NaN</td>\n",
              "      <td>The Daily Picayune</td>\n",
              "      <td>NaN</td>\n",
              "      <td>NaN</td>\n",
              "      <td>NaN</td>\n",
              "      <td>NaN</td>\n",
              "      <td>New Orleans</td>\n",
              "      <td>US-LA</td>\n",
              "      <td>NaN</td>\n",
              "      <td>NaN</td>\n",
              "      <td>2f29cbd6-d1a7-4c10-8443-7e2c10713b4b</td>\n",
              "      <td>0fc031d2-7770-4f65-b1c0-06797dc4a9e3</td>\n",
              "      <td>c5993adc-4bee-4c12-a104-9bf7119308af</td>\n",
              "      <td>026f5472-34b7-4c69-aff8-9ae5cd62e07a</td>\n",
              "      <td>2f6dc910-1050-49dc-844f-0c8e043c75fd</td>\n",
              "      <td>1d83e9fa-3963-44a7-a53f-c8d9515ab2bb</td>\n",
              "      <td>a92afc5b-ea7b-4f6b-9e90-a5f9a645bd3a</td>\n",
              "      <td>NaN</td>\n",
              "      <td>NaN</td>\n",
              "      <td>NaN</td>\n",
              "      <td>NaN</td>\n",
              "      <td>NaN</td>\n",
              "    </tr>\n",
              "    <tr>\n",
              "      <th>9065</th>\n",
              "      <td>1825-08-03</td>\n",
              "      <td>False</td>\n",
              "      <td>NaN</td>\n",
              "      <td>NOT_PROVIDED</td>\n",
              "      <td>NaN</td>\n",
              "      <td>Fred Fraser Esq of Ashepoo</td>\n",
              "      <td>MALE</td>\n",
              "      <td>NOT_PROVIDED</td>\n",
              "      <td>Charleston Courier</td>\n",
              "      <td>NaN</td>\n",
              "      <td>NaN</td>\n",
              "      <td>NaN</td>\n",
              "      <td>20.0</td>\n",
              "      <td>Charleston</td>\n",
              "      <td>US-SC</td>\n",
              "      <td>NaN</td>\n",
              "      <td>NaN</td>\n",
              "      <td>2f2baffe-b52e-41c6-80f8-29d46c7a7675</td>\n",
              "      <td>NaN</td>\n",
              "      <td>7d2db9a0-67dc-4356-ad21-02fbd93cbb10</td>\n",
              "      <td>0afd2704-9c29-4f31-9ffe-3627c61e7958</td>\n",
              "      <td>fbf32ec3-f2b2-4a37-8dec-285a7c4f5dff</td>\n",
              "      <td>837adcad-b137-4541-bcdf-05d6fed53e43</td>\n",
              "      <td>a747822e-1534-411a-b196-b0c7e1a09309</td>\n",
              "      <td>NaN</td>\n",
              "      <td>983b23d6-c7a9-4c85-a3b7-6113d241757d</td>\n",
              "      <td>f79d6080-eb35-4cab-ada9-4f46c3ce6089</td>\n",
              "      <td>NaN</td>\n",
              "      <td>4f9f226d-ddad-4c5d-acbc-310dedc80cda</td>\n",
              "    </tr>\n",
              "    <tr>\n",
              "      <th>9066</th>\n",
              "      <td>1823-11-03</td>\n",
              "      <td>False</td>\n",
              "      <td>NaN</td>\n",
              "      <td>NaN</td>\n",
              "      <td>NaN</td>\n",
              "      <td>NaN</td>\n",
              "      <td>NaN</td>\n",
              "      <td>NaN</td>\n",
              "      <td>Charleston Courier</td>\n",
              "      <td>NaN</td>\n",
              "      <td>NaN</td>\n",
              "      <td>NaN</td>\n",
              "      <td>NaN</td>\n",
              "      <td>Charleston</td>\n",
              "      <td>US-SC</td>\n",
              "      <td>NaN</td>\n",
              "      <td>NaN</td>\n",
              "      <td>2f2ebf96-6c51-47a9-bbd0-31af47a9a92b</td>\n",
              "      <td>NaN</td>\n",
              "      <td>7d2db9a0-67dc-4356-ad21-02fbd93cbb10</td>\n",
              "      <td>0afd2704-9c29-4f31-9ffe-3627c61e7958</td>\n",
              "      <td>2aa79a98-8ce3-4720-a3d0-10b1707d41c6</td>\n",
              "      <td>2bfdf04f-2098-4a28-a746-a5db15da6b0b</td>\n",
              "      <td>277f0ea0-a0d5-4e3b-b6a0-d949134b7a8a</td>\n",
              "      <td>NaN</td>\n",
              "      <td>NaN</td>\n",
              "      <td>NaN</td>\n",
              "      <td>NaN</td>\n",
              "      <td>NaN</td>\n",
              "    </tr>\n",
              "    <tr>\n",
              "      <th>9067</th>\n",
              "      <td>1844-01-02</td>\n",
              "      <td>False</td>\n",
              "      <td>NaN</td>\n",
              "      <td>NaN</td>\n",
              "      <td>NaN</td>\n",
              "      <td>NaN</td>\n",
              "      <td>NaN</td>\n",
              "      <td>NaN</td>\n",
              "      <td>Milledgeville Federal Union</td>\n",
              "      <td>NaN</td>\n",
              "      <td>NaN</td>\n",
              "      <td>NaN</td>\n",
              "      <td>NaN</td>\n",
              "      <td>Milledgeville</td>\n",
              "      <td>US-GA</td>\n",
              "      <td>NaN</td>\n",
              "      <td>NaN</td>\n",
              "      <td>2f307717-7b4d-4562-a2dc-fc199b8344b3</td>\n",
              "      <td>NaN</td>\n",
              "      <td>2b017d87-53a2-43b3-b27d-bbc507ea340b</td>\n",
              "      <td>507b5968-86b7-476e-a83d-a4307622ed57</td>\n",
              "      <td>NaN</td>\n",
              "      <td>NaN</td>\n",
              "      <td>NaN</td>\n",
              "      <td>NaN</td>\n",
              "      <td>NaN</td>\n",
              "      <td>NaN</td>\n",
              "      <td>NaN</td>\n",
              "      <td>NaN</td>\n",
              "    </tr>\n",
              "    <tr>\n",
              "      <th>9068</th>\n",
              "      <td>1737-04-28</td>\n",
              "      <td>False</td>\n",
              "      <td>NaN</td>\n",
              "      <td>NaN</td>\n",
              "      <td>NaN</td>\n",
              "      <td>NaN</td>\n",
              "      <td>NaN</td>\n",
              "      <td>NaN</td>\n",
              "      <td>The Boston News-Letter</td>\n",
              "      <td>NaN</td>\n",
              "      <td>NaN</td>\n",
              "      <td>NaN</td>\n",
              "      <td>NaN</td>\n",
              "      <td></td>\n",
              "      <td>US-MA</td>\n",
              "      <td>NaN</td>\n",
              "      <td>NaN</td>\n",
              "      <td>2f320a2b-c49b-4155-8f68-0d8cbda29818</td>\n",
              "      <td>NaN</td>\n",
              "      <td>bbc3d8c7-0279-4967-8523-5691b539e902</td>\n",
              "      <td>3e8eac54-91e7-4f3f-ab9e-3bf2905eefe5</td>\n",
              "      <td>NaN</td>\n",
              "      <td>NaN</td>\n",
              "      <td>NaN</td>\n",
              "      <td>NaN</td>\n",
              "      <td>NaN</td>\n",
              "      <td>NaN</td>\n",
              "      <td>NaN</td>\n",
              "      <td>NaN</td>\n",
              "    </tr>\n",
              "  </tbody>\n",
              "</table>\n",
              "</div>"
            ],
            "text/plain": [
              "     advertisement.publication_date  ...                     runaway_reward.id\n",
              "9064                     1844-01-12  ...                                   NaN\n",
              "9065                     1825-08-03  ...  4f9f226d-ddad-4c5d-acbc-310dedc80cda\n",
              "9066                     1823-11-03  ...                                   NaN\n",
              "9067                     1844-01-02  ...                                   NaN\n",
              "9068                     1737-04-28  ...                                   NaN\n",
              "\n",
              "[5 rows x 29 columns]"
            ]
          },
          "metadata": {
            "tags": []
          },
          "execution_count": 205
        }
      ]
    },
    {
      "cell_type": "markdown",
      "metadata": {
        "id": "9h33UQWd7Buk"
      },
      "source": [
        "### `info()`"
      ]
    },
    {
      "cell_type": "code",
      "metadata": {
        "id": "EhoMLGaRlUN2",
        "colab": {
          "base_uri": "https://localhost:8080/"
        },
        "outputId": "0df7ee7a-22f9-4f1a-afe3-3aaf436f9678"
      },
      "source": [
        "fotm_dataset.info()"
      ],
      "execution_count": 206,
      "outputs": [
        {
          "output_type": "stream",
          "text": [
            "<class 'pandas.core.frame.DataFrame'>\n",
            "RangeIndex: 9069 entries, 0 to 9068\n",
            "Data columns (total 29 columns):\n",
            " #   Column                                Non-Null Count  Dtype  \n",
            "---  ------                                --------------  -----  \n",
            " 0   advertisement.publication_date        9069 non-null   object \n",
            " 1   advertisement.complete                9069 non-null   bool   \n",
            " 2   advertiser.name                       2549 non-null   object \n",
            " 3   enslaved_person.gender                7525 non-null   object \n",
            " 4   enslaved_person_languages.does_speak  1456 non-null   object \n",
            " 5   enslaver.fullname                     6886 non-null   object \n",
            " 6   enslaver.gender                       6938 non-null   object \n",
            " 7   enslaver.type                         6762 non-null   object \n",
            " 8   newspaper.name                        9069 non-null   object \n",
            " 9   runaway.ran_before                    391 non-null    object \n",
            " 10  runaway.profess_freedom               478 non-null    object \n",
            " 11  runaway_enslavers.enslaver_status     0 non-null      float64\n",
            " 12  runaway_reward.amount                 5332 non-null   float64\n",
            " 13  newspaper_location.city               8959 non-null   object \n",
            " 14  newspaper_location.state              9069 non-null   object \n",
            " 15  enslaver_location.city                3442 non-null   object \n",
            " 16  enslaver_location.state               4980 non-null   object \n",
            " 17  advertisement.id                      9069 non-null   object \n",
            " 18  advertiser.id                         2552 non-null   object \n",
            " 19  newspaper.id                          9069 non-null   object \n",
            " 20  newspaper_location.id                 9069 non-null   object \n",
            " 21  runaway_event.id                      7817 non-null   object \n",
            " 22  runaway.id                            7811 non-null   object \n",
            " 23  enslaved_person.id                    7811 non-null   object \n",
            " 24  enslaved_person_languages.id          1456 non-null   object \n",
            " 25  runaway_enslavers.id                  7109 non-null   object \n",
            " 26  enslaver.id                           7109 non-null   object \n",
            " 27  enslaver_location.id                  5515 non-null   object \n",
            " 28  runaway_reward.id                     5332 non-null   object \n",
            "dtypes: bool(1), float64(2), object(26)\n",
            "memory usage: 1.9+ MB\n"
          ],
          "name": "stdout"
        }
      ]
    },
    {
      "cell_type": "markdown",
      "metadata": {
        "id": "xe4MX1co7Dub"
      },
      "source": [
        "### `Describe()`"
      ]
    },
    {
      "cell_type": "code",
      "metadata": {
        "id": "JHDbDdp-lUN9",
        "colab": {
          "base_uri": "https://localhost:8080/",
          "height": 300
        },
        "outputId": "40ec040a-a860-4d2e-c8f0-50bf6038b550"
      },
      "source": [
        "fotm_dataset.describe()\n",
        "\n",
        "# Try this\n",
        "#fotm_dataset.describe(include='all')"
      ],
      "execution_count": null,
      "outputs": [
        {
          "output_type": "execute_result",
          "data": {
            "text/html": [
              "<div>\n",
              "<style scoped>\n",
              "    .dataframe tbody tr th:only-of-type {\n",
              "        vertical-align: middle;\n",
              "    }\n",
              "\n",
              "    .dataframe tbody tr th {\n",
              "        vertical-align: top;\n",
              "    }\n",
              "\n",
              "    .dataframe thead th {\n",
              "        text-align: right;\n",
              "    }\n",
              "</style>\n",
              "<table border=\"1\" class=\"dataframe\">\n",
              "  <thead>\n",
              "    <tr style=\"text-align: right;\">\n",
              "      <th></th>\n",
              "      <th>runaway_enslavers.enslaver_status</th>\n",
              "      <th>runaway_reward.amount</th>\n",
              "    </tr>\n",
              "  </thead>\n",
              "  <tbody>\n",
              "    <tr>\n",
              "      <th>count</th>\n",
              "      <td>0.0</td>\n",
              "      <td>5332.000000</td>\n",
              "    </tr>\n",
              "    <tr>\n",
              "      <th>mean</th>\n",
              "      <td>NaN</td>\n",
              "      <td>42.365154</td>\n",
              "    </tr>\n",
              "    <tr>\n",
              "      <th>std</th>\n",
              "      <td>NaN</td>\n",
              "      <td>155.161401</td>\n",
              "    </tr>\n",
              "    <tr>\n",
              "      <th>min</th>\n",
              "      <td>NaN</td>\n",
              "      <td>1.000000</td>\n",
              "    </tr>\n",
              "    <tr>\n",
              "      <th>25%</th>\n",
              "      <td>NaN</td>\n",
              "      <td>10.000000</td>\n",
              "    </tr>\n",
              "    <tr>\n",
              "      <th>50%</th>\n",
              "      <td>NaN</td>\n",
              "      <td>20.000000</td>\n",
              "    </tr>\n",
              "    <tr>\n",
              "      <th>75%</th>\n",
              "      <td>NaN</td>\n",
              "      <td>50.000000</td>\n",
              "    </tr>\n",
              "    <tr>\n",
              "      <th>max</th>\n",
              "      <td>NaN</td>\n",
              "      <td>10000.000000</td>\n",
              "    </tr>\n",
              "  </tbody>\n",
              "</table>\n",
              "</div>"
            ],
            "text/plain": [
              "       runaway_enslavers.enslaver_status  runaway_reward.amount\n",
              "count                                0.0            5332.000000\n",
              "mean                                 NaN              42.365154\n",
              "std                                  NaN             155.161401\n",
              "min                                  NaN               1.000000\n",
              "25%                                  NaN              10.000000\n",
              "50%                                  NaN              20.000000\n",
              "75%                                  NaN              50.000000\n",
              "max                                  NaN           10000.000000"
            ]
          },
          "metadata": {
            "tags": []
          },
          "execution_count": 128
        }
      ]
    },
    {
      "cell_type": "markdown",
      "metadata": {
        "id": "W5yLQ1CI8S-z"
      },
      "source": [
        "### `Shape()`"
      ]
    },
    {
      "cell_type": "code",
      "metadata": {
        "colab": {
          "base_uri": "https://localhost:8080/"
        },
        "id": "nLsXuRqK8ZrM",
        "outputId": "a15d1111-5658-463d-f960-8e467f1140e4"
      },
      "source": [
        "fotm_dataset.shape"
      ],
      "execution_count": 208,
      "outputs": [
        {
          "output_type": "execute_result",
          "data": {
            "text/plain": [
              "(9069, 29)"
            ]
          },
          "metadata": {
            "tags": []
          },
          "execution_count": 208
        }
      ]
    },
    {
      "cell_type": "markdown",
      "metadata": {
        "id": "OAspCHaWlUOD"
      },
      "source": [
        "# Step 1 - Cleaning and Structuring our dataset "
      ]
    },
    {
      "cell_type": "markdown",
      "metadata": {
        "id": "pNO2BOr57L1t"
      },
      "source": [
        "### Q1 - Removing columns that have `.id` in them.\n",
        "\n",
        "You'll notice that there are many \"ID\" columns. We won't be needing any of these, so it's best to remove them. Drop these columns and store the remaining data in a variable called `fotm_dataset_without_id`."
      ]
    },
    {
      "cell_type": "code",
      "metadata": {
        "id": "YmRBCidklUOE"
      },
      "source": [
        "columns_to_remove = ['runaway_reward.id','enslaver_location.id','enslaver.id',\n",
        "                     'runaway_enslavers.id','enslaved_person_languages.id',\n",
        "                     'enslaved_person.id','runaway.id','runaway_event.id',\n",
        "                     'advertiser.id','newspaper_location.id','newspaper.id',\n",
        "                     'advertisement.id'] "
      ],
      "execution_count": null,
      "outputs": []
    },
    {
      "cell_type": "code",
      "metadata": {
        "id": "mCyLmt0KlUOJ"
      },
      "source": [
        "#Once your have verified your answer please uncomment the line below and run it, this will save your code \n",
        "#%%writefile -a {folder_location}/1.py\n",
        "#Please note that if you uncomment and run multiple times, the program will keep appending to the file.\n",
        "\n",
        "# INSERT CODE HERE\n",
        "\n",
        "fotm_dataset_without_id = fotm_dataset.drop(columns = columns_to_remove)"
      ],
      "execution_count": null,
      "outputs": []
    },
    {
      "cell_type": "markdown",
      "metadata": {
        "id": "emDg1tdqlUOa"
      },
      "source": [
        "### Q2 - Removing columns that have a large quantities of `nan` values.\n",
        "\n",
        "From the chart below, you'll notice that some columns have a large amount of null values. We'll be keeping some of them, but for the rest, we'll just drop them from the dataset. Specifically, from the columns that have 1000 or more null values, we wish to remove the following\"\n",
        "\n",
        "- `advertiser.name` \n",
        "- `enslaved_person_languages.does_speak`\n",
        "- `enslaver.fullname`\n",
        "- `runaway.ran_before`\n",
        "- `runaway.profess_freedom`\n",
        "- `runaway_enslavers.enslaver_status`\n",
        "- `enslaver_location.city`\n",
        "- `enslaver_location.state`\n",
        "\n",
        "Every other column should be kept."
      ]
    },
    {
      "cell_type": "code",
      "metadata": {
        "id": "m2hugxYflUOR",
        "colab": {
          "base_uri": "https://localhost:8080/"
        },
        "outputId": "28e428bd-b851-46cc-bf83-79ad29446d46"
      },
      "source": [
        "fotm_dataset_without_id.isna().sum()"
      ],
      "execution_count": null,
      "outputs": [
        {
          "output_type": "execute_result",
          "data": {
            "text/plain": [
              "advertisement.publication_date             0\n",
              "advertisement.complete                     0\n",
              "advertiser.name                         6520\n",
              "enslaved_person.gender                  1544\n",
              "enslaved_person_languages.does_speak    7613\n",
              "enslaver.fullname                       2183\n",
              "enslaver.gender                         2131\n",
              "enslaver.type                           2307\n",
              "newspaper.name                             0\n",
              "runaway.ran_before                      8678\n",
              "runaway.profess_freedom                 8591\n",
              "runaway_enslavers.enslaver_status       9069\n",
              "runaway_reward.amount                   3737\n",
              "newspaper_location.city                  110\n",
              "newspaper_location.state                   0\n",
              "enslaver_location.city                  5627\n",
              "enslaver_location.state                 4089\n",
              "dtype: int64"
            ]
          },
          "metadata": {
            "tags": []
          },
          "execution_count": 131
        }
      ]
    },
    {
      "cell_type": "code",
      "metadata": {
        "id": "HPcqW4aHlUOf"
      },
      "source": [
        "#Once your have verified your answer please uncomment the line below and run it, this will save your code \n",
        "#%%writefile -a {folder_location}/2.py\n",
        "#Please note that if you uncomment and run multiple times, the program will keep appending to the file.\n",
        "\n",
        "\n",
        "#  more columns = [] # Insert Column names to remove inside the []\n",
        "\n",
        " # Repeat the step you implemented in the previous question.\n",
        " # Insert Code Here\n",
        "\n",
        "\n",
        "more_columns = ['advertiser.name', 'enslaved_person_languages.does_speak','enslaver.fullname',\n",
        "                'runaway.ran_before', 'runaway.profess_freedom','runaway_enslavers.enslaver_status',\n",
        "                \"enslaver_location.city\",\"enslaver_location.state\"]\n",
        "\n",
        "fotm_dataset_without_id= fotm_dataset_without_id.drop(columns = more_columns)"
      ],
      "execution_count": null,
      "outputs": []
    },
    {
      "cell_type": "markdown",
      "metadata": {
        "id": "uZFX-6hM8--_"
      },
      "source": [
        "### Saving our dataframe"
      ]
    },
    {
      "cell_type": "code",
      "metadata": {
        "id": "gKd0r2hRlUOp"
      },
      "source": [
        "## Making a copy of our modified dataset\n",
        "fotm_dataframe = fotm_dataset_without_id.copy(deep = True)"
      ],
      "execution_count": null,
      "outputs": []
    },
    {
      "cell_type": "markdown",
      "metadata": {
        "id": "1pu--ha_lUOn"
      },
      "source": [
        "### Q3 - Adding a new column `year`\n",
        "\n",
        "\n",
        "In order to make our visualziations simpler we will make new column called `year` within `fotm_dataframe` that is the result of first converting the `advertisement.publication_date` to a datetime object and then setting that object to have a yearly value only. (This requires you to attach `.year` at the end of the command).\n",
        "\n",
        "- For the following line of code, fill in the blanks to determine where the correct instruction would go.\n",
        "- `year`,`fotmdataframe`,`DateTimeIndex`,`publication_date`\n",
        "\n"
      ]
    },
    {
      "cell_type": "code",
      "metadata": {
        "id": "BO2F1NBZrU2_"
      },
      "source": [
        "#Once your have verified your answer please uncomment the line below and run it, this will save your code \n",
        "#%%writefile -a {folder_location}/3.py\n",
        "#Please note that if you uncomment and run multiple times, the program will keep appending to the file.\n",
        "\n",
        "# fotm_dataframe['____'] = pd.____________(___________['advertisement._______________']).____\n",
        "\n",
        "fotm_dataframe['year'] = pd.DatetimeIndex(fotm_dataframe['advertisement.publication_date']).year"
      ],
      "execution_count": 209,
      "outputs": []
    },
    {
      "cell_type": "markdown",
      "metadata": {
        "id": "wjTD-tr6u1OB"
      },
      "source": [
        "You can verify if the new column has been added by running the command below."
      ]
    },
    {
      "cell_type": "code",
      "metadata": {
        "id": "wdTWFZlBlUOt",
        "colab": {
          "base_uri": "https://localhost:8080/"
        },
        "outputId": "7dfe7429-7629-4816-c6a2-cfead5dd34d8"
      },
      "source": [
        "fotm_dataframe.columns"
      ],
      "execution_count": 210,
      "outputs": [
        {
          "output_type": "execute_result",
          "data": {
            "text/plain": [
              "Index(['advertisement.publication_date', 'advertisement.complete',\n",
              "       'enslaved_person.gender', 'enslaver.gender', 'enslaver.type',\n",
              "       'newspaper.name', 'runaway_reward.amount', 'newspaper_location.city',\n",
              "       'newspaper_location.state', 'year'],\n",
              "      dtype='object')"
            ]
          },
          "metadata": {
            "tags": []
          },
          "execution_count": 210
        }
      ]
    },
    {
      "cell_type": "markdown",
      "metadata": {
        "id": "1hk4JqXqlUOw"
      },
      "source": [
        "## Find 'Unique' strings and `NaN` values for each of the remaining columns\n",
        "\n",
        "For the next 5 Question you will have to perform two specfic tasks. By this time we already know that our dataframe has alot of null values. Normally we can drop all of the rows that might have `NaN` values.\n",
        "\n",
        "This time will replace them with something else. For sake of simplicity we will be:\n",
        "- Converting all our `NaN` values to the string `Unknown`. \n",
        "- If there are any other values in a column that can be grouped as `Unknown` we will do the same for them too.\n",
        "\n",
        "The steps you would have to follow to confirm the change are:\n",
        "- First print out all the unique values in the column.\n",
        "- Observe the values.\n",
        "- Change the `NaN` values to `Unknown`. \n",
        "- Do the same for any values that you think can be grouped with `Unknown`.\n",
        "- Reprint the Unique values to see the changes.\n",
        "\n"
      ]
    },
    {
      "cell_type": "markdown",
      "metadata": {
        "id": "sbUkN3gelUOw"
      },
      "source": [
        "### Q4 - Cleaning the ```enslaved_person.gender``` column"
      ]
    },
    {
      "cell_type": "markdown",
      "metadata": {
        "id": "Y5Peboolu9Kf"
      },
      "source": [
        "For the first question we have shown most of the working. You can have to add one function inplace of the blanks below. It is a useful function to print the unique values in our column.\n"
      ]
    },
    {
      "cell_type": "code",
      "metadata": {
        "id": "zbLSr255lUOx",
        "colab": {
          "base_uri": "https://localhost:8080/"
        },
        "outputId": "963ffd2d-c437-47f9-de6d-c5dc2f5ae35e"
      },
      "source": [
        "#Once your have verified your answer please uncomment the line below and run it, this will save your code \n",
        "#%%writefile -a {folder_location}/4.py\n",
        "#Please note that if you uncomment and run multiple times, the program will keep appending to the file.\n",
        "\n",
        "# print('Unique values before: ',fotm_dataframe['enslaved_person.gender']._____)\n",
        "# fotm_dataframe['enslaved_person.gender']= fotm_dataframe['enslaved_person.gender'].fillna(value='Unknown')\n",
        "# fotm_dataframe[\"enslaved_person.gender\"] = fotm_dataframe[\"enslaved_person.gender\"].replace({\"NOT_PROVIDED\": \"Unknown\"})\n",
        "# print('Unique values after: ',fotm_dataframe['enslaved_person.gender'].______)\n",
        "\n",
        "print('Unique values before: ',fotm_dataframe['enslaved_person.gender'].unique())\n",
        "fotm_dataframe['enslaved_person.gender']= fotm_dataframe['enslaved_person.gender'].fillna(value='Unknown')\n",
        "fotm_dataframe[\"enslaved_person.gender\"] = fotm_dataframe[\"enslaved_person.gender\"].replace({\"NOT_PROVIDED\": \"Unknown\"})\n",
        "print('Unique values after: ',fotm_dataframe['enslaved_person.gender'].unique())"
      ],
      "execution_count": 211,
      "outputs": [
        {
          "output_type": "stream",
          "text": [
            "Unique values before:  ['Unknown' 'MALE' 'FEMALE' 'OTHER']\n",
            "Unique values after:  ['Unknown' 'MALE' 'FEMALE' 'OTHER']\n"
          ],
          "name": "stdout"
        }
      ]
    },
    {
      "cell_type": "markdown",
      "metadata": {
        "id": "cCxKXpBjD2rn"
      },
      "source": [
        "Observing the code above you can see :\n",
        "- We have used the `fillna()` function to replace our `Null` values. Inside we have defined `value` as `'Unknown'` in order to set the new value.\n",
        "- On the next line, we have used `.replace()` function to replace another string `\"NOT_PROVIDED\"` with `\"Unknown\"`. Another important thing to note is that in order to replace the values we used `{:}` Dictionairy mathod which maps the two strings to each other.\n",
        "\n",
        "\n",
        "You will have to repeat the same steps for the next 4 questions"
      ]
    },
    {
      "cell_type": "markdown",
      "metadata": {
        "id": "yIRWXtd1lUPA"
      },
      "source": [
        "### Q5 - Cleaning the ```enslaver.gender``` column"
      ]
    },
    {
      "cell_type": "code",
      "metadata": {
        "scrolled": true,
        "id": "LYm3z9WTlUPA",
        "colab": {
          "base_uri": "https://localhost:8080/"
        },
        "outputId": "08a091e2-ade8-406e-966f-84b681d8b3e5"
      },
      "source": [
        "#Once your have verified your answer please uncomment the line below and run it, this will save your code \n",
        "#%%writefile -a {folder_location}/5.py\n",
        "#Please note that if you uncomment and run multiple times, the program will keep appending to the file.\n",
        "\n",
        "# Check for Unique values\n",
        "# Replace null values \n",
        "# Replace arbitrary strings (if any)\n",
        "# Check for Unique values\n",
        "\n",
        "print('Unique values before: ',fotm_dataframe['enslaver.gender'].unique())\n",
        "fotm_dataframe['enslaver.gender'] = fotm_dataframe['enslaver.gender'].fillna(value='Unknown')\n",
        "fotm_dataframe['enslaver.gender'] = fotm_dataframe[\"enslaver.gender\"].replace({\"NOT_PROVIDED\": \"Unknown\"})\n",
        "print('Unique values before: ',fotm_dataframe['enslaver.gender'].unique())"
      ],
      "execution_count": 212,
      "outputs": [
        {
          "output_type": "stream",
          "text": [
            "Unique values before:  ['Unknown' 'MALE' 'FEMALE' 'OTHER']\n",
            "Unique values before:  ['Unknown' 'MALE' 'FEMALE' 'OTHER']\n"
          ],
          "name": "stdout"
        }
      ]
    },
    {
      "cell_type": "markdown",
      "metadata": {
        "id": "GWKTvUGBlUPP"
      },
      "source": [
        "### Q6 - Cleaning the ```enslaver.type``` column"
      ]
    },
    {
      "cell_type": "code",
      "metadata": {
        "scrolled": true,
        "id": "0NgjQfs1lUPQ",
        "colab": {
          "base_uri": "https://localhost:8080/"
        },
        "outputId": "a8b84ea3-cab3-4058-e64c-fee587cb5648"
      },
      "source": [
        "#Once your have verified your answer please uncomment the line below and run it, this will save your code \n",
        "#%%writefile -a {folder_location}/6.py\n",
        "#Please note that if you uncomment and run multiple times, the program will keep appending to the file.\n",
        "\n",
        "# Check for Unique values\n",
        "# Replace null values \n",
        "# Replace arbitrary strings (if any)\n",
        "# Check for Unique values\n",
        "\n",
        "\n",
        "print('Unique values before: ',fotm_dataframe['enslaver.type'].unique())\n",
        "fotm_dataframe['enslaver.type'] = fotm_dataframe['enslaver.type'].fillna(value='Unknown')\n",
        "fotm_dataframe['enslaver.type'] = fotm_dataframe[\"enslaver.type\"].replace({\"NOT_PROVIDED\": \"Unknown\"})\n",
        "print('Unique values before: ',fotm_dataframe['enslaver.type'].unique())"
      ],
      "execution_count": 213,
      "outputs": [
        {
          "output_type": "stream",
          "text": [
            "Unique values before:  ['Unknown' 'alleged' 'current' 'former' 'deceased' 'estate']\n",
            "Unique values before:  ['Unknown' 'alleged' 'current' 'former' 'deceased' 'estate']\n"
          ],
          "name": "stdout"
        }
      ]
    },
    {
      "cell_type": "markdown",
      "metadata": {
        "id": "3Q3yfE_jlUPc"
      },
      "source": [
        "### Q7 - Cleaning the ```runaway_reward.amount``` column\n",
        "\n",
        "For this question note that the column we are modifying is a `float64` i.e. a decimal column. Therefore we cannot use unknown here. Use .fillna and instead of `\"Unknown\"` use the float `0.0`."
      ]
    },
    {
      "cell_type": "code",
      "metadata": {
        "scrolled": true,
        "id": "UtVjtAp4lUPd",
        "colab": {
          "base_uri": "https://localhost:8080/"
        },
        "outputId": "3362181e-3bdf-473c-fb8e-fb389695010e"
      },
      "source": [
        "#Once your have verified your answer please uncomment the line below and run it, this will save your code \n",
        "#%%writefile -a {folder_location}/7.py\n",
        "#Please note that if you uncomment and run multiple times, the program will keep appending to the file.\n",
        "\n",
        "# Check for Unique values\n",
        "# Replace null values \n",
        "# Replace arbitrary strings (if any)\n",
        "# Check for Unique values\n",
        "\n",
        "print('Unique values before: ',fotm_dataframe['runaway_reward.amount'].unique())\n",
        "fotm_dataframe['runaway_reward.amount'] = fotm_dataframe['runaway_reward.amount'].fillna(value=0.0)\n",
        "print('Unique values before: ',fotm_dataframe['runaway_reward.amount'].unique())"
      ],
      "execution_count": 214,
      "outputs": [
        {
          "output_type": "stream",
          "text": [
            "Unique values before:  [0.00e+00 2.00e+00 4.00e+01 5.00e+01 6.00e+00 4.00e+00 5.00e+00 2.00e+01\n",
            " 3.00e+00 3.00e+02 1.00e+02 1.00e+00 3.00e+01 1.00e+01 3.00e+03 1.50e+02\n",
            " 6.10e+01 8.00e+00 1.50e+01 6.00e+01 2.00e+02 2.50e+01 4.50e+01 9.00e+01\n",
            " 7.00e+01 2.10e+01 1.00e+04 4.00e+02 2.90e+01 2.30e+01 9.50e+02 7.50e+01\n",
            " 1.30e+01 1.00e+03 5.00e+02 5.90e+01 3.50e+01 1.35e+02 3.20e+02 1.60e+01\n",
            " 2.50e+02 2.40e+01 8.20e+02 5.50e+01 2.25e+02]\n",
            "Unique values before:  [    0     2    40    50     6     4     5    20     3   300   100     1\n",
            "    30    10  3000   150    61     8    15    60   200    25    45    90\n",
            "    70    21 10000   400    29    23   950    75    13  1000   500    59\n",
            "    35   135   320    16   250    24   820    55   225]\n"
          ],
          "name": "stdout"
        }
      ]
    },
    {
      "cell_type": "markdown",
      "metadata": {
        "id": "vUfkS8MblUPq"
      },
      "source": [
        "### Q8 - Cleaning the ```newspaper_location.city``` column"
      ]
    },
    {
      "cell_type": "code",
      "metadata": {
        "scrolled": true,
        "id": "6032jU3elUPq",
        "colab": {
          "base_uri": "https://localhost:8080/"
        },
        "outputId": "f2849c90-c72f-4cb0-9b8f-cfcea696d9a6"
      },
      "source": [
        "#Once your have verified your answer please uncomment the line below and run it, this will save your code \n",
        "#%%writefile -a {folder_location}/8.py\n",
        "#Please note that if you uncomment and run multiple times, the program will keep appending to the file.\n",
        "\n",
        "# Check for Unique values\n",
        "# Replace null values \n",
        "# Replace arbitrary strings (if any)\n",
        "# Check for Unique values\n",
        "\n",
        "\n",
        "print('Unique values before: ',fotm_dataframe['newspaper_location.city'].unique())\n",
        "fotm_dataframe['newspaper_location.city'] = fotm_dataframe['newspaper_location.city'].fillna(value='Unknown')    \n",
        "fotm_dataframe['newspaper_location.city'] = fotm_dataframe[\"newspaper_location.city\"].replace({\" \": \"Unknown\"})\n",
        "print('Unique values before: ',fotm_dataframe['newspaper_location.city'].unique())"
      ],
      "execution_count": 215,
      "outputs": [
        {
          "output_type": "stream",
          "text": [
            "Unique values before:  ['Unknown' 'Philadelphia' 'New Bern' 'Newark' 'Wilmington' 'Burlington'\n",
            " 'Chatham' 'Charleston' 'Fayetteville' 'Halifax' 'Edenton' 'Salisbury'\n",
            " 'Raleigh' 'Milledgeville' 'Washington' 'Nashville' 'New Orleans'\n",
            " 'Cahawba' 'Hillsborough' 'Mobile' 'Huntsville' 'Charlotte' 'Greensboro'\n",
            " 'Elizabeth City' 'Milton' 'Tarboro' 'Asheboro' 'Richmond' 'Tuscaloosa'\n",
            " 'Rutherfordton' 'Lincolnton' 'Oxford' 'Louisburg' 'Goldsboro'\n",
            " 'Winston-salem' 'Montgomery' 'Asheville' 'Concord' 'Wadesboro' 'Clinton'\n",
            " 'Murfreesboro' 'Warrenton' 'Wilson' 'Harrington']\n",
            "Unique values before:  ['Unknown' 'Philadelphia' 'New Bern' 'Newark' 'Wilmington' 'Burlington'\n",
            " 'Chatham' 'Charleston' 'Fayetteville' 'Halifax' 'Edenton' 'Salisbury'\n",
            " 'Raleigh' 'Milledgeville' 'Washington' 'Nashville' 'New Orleans'\n",
            " 'Cahawba' 'Hillsborough' 'Mobile' 'Huntsville' 'Charlotte' 'Greensboro'\n",
            " 'Elizabeth City' 'Milton' 'Tarboro' 'Asheboro' 'Richmond' 'Tuscaloosa'\n",
            " 'Rutherfordton' 'Lincolnton' 'Oxford' 'Louisburg' 'Goldsboro'\n",
            " 'Winston-salem' 'Montgomery' 'Asheville' 'Concord' 'Wadesboro' 'Clinton'\n",
            " 'Murfreesboro' 'Warrenton' 'Wilson' 'Harrington']\n"
          ],
          "name": "stdout"
        }
      ]
    },
    {
      "cell_type": "markdown",
      "metadata": {
        "id": "RrqZs15IlUP3"
      },
      "source": [
        "### Q9 - Sorting the new dataset\n",
        "\n",
        "Sort `fotm_dataframe` by `advertisement.publication_date`."
      ]
    },
    {
      "cell_type": "code",
      "metadata": {
        "id": "aDyJXPrBlUP_"
      },
      "source": [
        "#Once your have verified your answer please uncomment the line below and run it, this will save your code \n",
        "#%%writefile -a {folder_location}/9.py\n",
        "#Please note that if you uncomment and run multiple times, the program will keep appending to the file.\n",
        "\n",
        "fotm_dataframe = fotm_dataframe.sort_values(by=\"advertisement.publication_date\")"
      ],
      "execution_count": 216,
      "outputs": []
    },
    {
      "cell_type": "markdown",
      "metadata": {
        "id": "orlwCzAQ8hVU"
      },
      "source": [
        "### Q10 - Resetting our index."
      ]
    },
    {
      "cell_type": "markdown",
      "metadata": {
        "id": "fCkFjh89wNjA"
      },
      "source": [
        "Simply reset the index by using a specific pandas command. \n",
        "*Hint:* Don't forget to use `drop=True` inside the (). This is done to drop the null values."
      ]
    },
    {
      "cell_type": "code",
      "metadata": {
        "id": "q2Dg4iCrlUQC"
      },
      "source": [
        "#Once your have verified your answer please uncomment the line below and run it, this will save your code \n",
        "#%%writefile -a {folder_location}/10.py\n",
        "#Please note that if you uncomment and run multiple times, the program will keep appending to the file.\n",
        "\n",
        "fotm_dataframe = fotm_dataframe.reset_index(drop=True)"
      ],
      "execution_count": 217,
      "outputs": []
    },
    {
      "cell_type": "markdown",
      "metadata": {
        "id": "UFya4gdn86Yc"
      },
      "source": [
        "### Saving our dataframe"
      ]
    },
    {
      "cell_type": "code",
      "metadata": {
        "id": "kgeVerCDlUQG"
      },
      "source": [
        "# Making a copy of our modified dataset\n",
        "fotm = fotm_dataframe.copy(deep = True)"
      ],
      "execution_count": null,
      "outputs": []
    },
    {
      "cell_type": "markdown",
      "metadata": {
        "id": "S1Yut7QrHvKC"
      },
      "source": [
        "**For Q11 to Q15 you will have to use `value_counts()`. For some of them, you will also have to attach another function at the end to display only the designated numbers (top 5 or 6).**"
      ]
    },
    {
      "cell_type": "markdown",
      "metadata": {
        "id": "c5b2ofTxlUQK"
      },
      "source": [
        "### Q11 - Display the top 5 Newspapers according to the number of advertisments they published\n",
        "\n",
        "Display each newspaper as well as how many total advertisements they ever published."
      ]
    },
    {
      "cell_type": "code",
      "metadata": {
        "id": "3eEiv9sdlUQK",
        "colab": {
          "base_uri": "https://localhost:8080/"
        },
        "outputId": "db566c1b-15a7-44fc-ce3a-2af375683d77"
      },
      "source": [
        "#Once your have verified your answer please uncomment the line below and run it, this will save your code \n",
        "#%%writefile -a {folder_location}/11.py\n",
        "#Please note that if you uncomment and run multiple times, the program will keep appending to the file.\n",
        "\n",
        "# Insert Code Here\n",
        "\n",
        "fotm['newspaper.name'].value_counts().head(5)"
      ],
      "execution_count": 224,
      "outputs": [
        {
          "output_type": "execute_result",
          "data": {
            "text/plain": [
              "The Daily Picayune             2602\n",
              "New-Orleans Argus               998\n",
              "Charleston Mercury              683\n",
              "Milledgeville Federal Union     579\n",
              "Nashville Union                 380\n",
              "Name: newspaper.name, dtype: int64"
            ]
          },
          "metadata": {
            "tags": []
          },
          "execution_count": 224
        }
      ]
    },
    {
      "cell_type": "markdown",
      "metadata": {
        "id": "LybOfboflUQM"
      },
      "source": [
        "### Q12 - Number of Complete vs Incomplete Advertisments\n",
        "\n",
        "Display the counts of complete advertisments. This will also tell you the number of incomplete ones."
      ]
    },
    {
      "cell_type": "code",
      "metadata": {
        "id": "0p8ijST1lUQN",
        "colab": {
          "base_uri": "https://localhost:8080/"
        },
        "outputId": "2fe69c51-8593-4fc7-e8e0-32feb876d953"
      },
      "source": [
        "#Once your have verified your answer please uncomment the line below and run it, this will save your code \n",
        "#%%writefile -a {folder_location}/12.py\n",
        "#Please note that if you uncomment and run multiple times, the program will keep appending to the file.\n",
        "\n",
        "# Insert Code Here\n",
        "\n",
        "fotm['advertisement.complete'].value_counts().head(5)"
      ],
      "execution_count": null,
      "outputs": [
        {
          "output_type": "execute_result",
          "data": {
            "text/plain": [
              "False    8204\n",
              "True      865\n",
              "Name: advertisement.complete, dtype: int64"
            ]
          },
          "metadata": {
            "tags": []
          },
          "execution_count": 146
        }
      ]
    },
    {
      "cell_type": "markdown",
      "metadata": {
        "id": "VCSS0yINlUQY"
      },
      "source": [
        "### Q13 - Top 5 States with the most advertistments\n",
        "\n",
        "Display the counts of advertisements published in each state. (HINT: You know where each newspaper is located in one of the columns)."
      ]
    },
    {
      "cell_type": "code",
      "metadata": {
        "id": "_d7iGK0xlUQZ",
        "colab": {
          "base_uri": "https://localhost:8080/"
        },
        "outputId": "3b4a613a-36ea-49bd-891e-8fba05dde866"
      },
      "source": [
        "#Once your have verified your answer please uncomment the line below and run it, this will save your code \n",
        "#%%writefile -a {folder_location}/13.py\n",
        "#Please note that if you uncomment and run multiple times, the program will keep appending to the file.\n",
        "\n",
        "# Insert Code Here\n",
        "\n",
        "fotm['newspaper_location.state'].value_counts().head(5)"
      ],
      "execution_count": null,
      "outputs": [
        {
          "output_type": "execute_result",
          "data": {
            "text/plain": [
              "US-LA    3748\n",
              "US-NC    1667\n",
              "US-SC    1225\n",
              "US-AL     776\n",
              "US-GA     628\n",
              "US-TN     403\n",
              "US-MA     370\n",
              "US-NY     110\n",
              "US-NJ      49\n",
              "US-CT      34\n",
              "US-VA      26\n",
              "US-PA      15\n",
              "US-NH      13\n",
              "US-RI       5\n",
              "Name: newspaper_location.state, dtype: int64"
            ]
          },
          "metadata": {
            "tags": []
          },
          "execution_count": 147
        }
      ]
    },
    {
      "cell_type": "markdown",
      "metadata": {
        "id": "HiWeSJR1lUQb"
      },
      "source": [
        "### Q14 - 6 Highest Frequencies of reward amount\n",
        "\n",
        "Display the 6 highest reward amounts as well as the counts of how many advertisements used those amounts."
      ]
    },
    {
      "cell_type": "code",
      "metadata": {
        "id": "xmFbO9rClUQc",
        "colab": {
          "base_uri": "https://localhost:8080/"
        },
        "outputId": "ec691c29-0889-4c36-b91e-a5cc8706c2f2"
      },
      "source": [
        "#Once your have verified your answer please uncomment the line below and run it, this will save your code \n",
        "#%%writefile -a {folder_location}/14.py\n",
        "#Please note that if you uncomment and run multiple times, the program will keep appending to the file.\n",
        "\n",
        "# Insert Code Here\n",
        "\n",
        "fotm['runaway_reward.amount'].value_counts().head(6)"
      ],
      "execution_count": 227,
      "outputs": [
        {
          "output_type": "execute_result",
          "data": {
            "text/plain": [
              "0.0      3737\n",
              "10.0     1087\n",
              "20.0     1000\n",
              "50.0      809\n",
              "25.0      717\n",
              "100.0     433\n",
              "Name: runaway_reward.amount, dtype: int64"
            ]
          },
          "metadata": {
            "tags": []
          },
          "execution_count": 227
        }
      ]
    },
    {
      "cell_type": "markdown",
      "metadata": {
        "id": "kFr_yCY8RREG"
      },
      "source": [
        "### Q15 - Top 5 years with the most advertisments published\n",
        "\n",
        "Display the counts of advertisments published for the top 5 years."
      ]
    },
    {
      "cell_type": "code",
      "metadata": {
        "id": "Gp7pMGkAROF-",
        "colab": {
          "base_uri": "https://localhost:8080/"
        },
        "outputId": "c2ccc3e2-bfa5-486e-9b9b-819e17793a48"
      },
      "source": [
        "#Once your have verified your answer please uncomment the line below and run it, this will save your code \n",
        "#%%writefile -a {folder_location}/15.py\n",
        "#Please note that if you uncomment and run multiple times, the program will keep appending to the file.\n",
        "\n",
        "# Insert Code Here\n",
        "\n",
        "fotm['year'].value_counts().head(5)"
      ],
      "execution_count": 225,
      "outputs": [
        {
          "output_type": "execute_result",
          "data": {
            "text/plain": [
              "1828    1076\n",
              "1854     693\n",
              "1840     633\n",
              "1846     449\n",
              "1837     362\n",
              "Name: year, dtype: int64"
            ]
          },
          "metadata": {
            "tags": []
          },
          "execution_count": 225
        }
      ]
    },
    {
      "cell_type": "markdown",
      "metadata": {
        "id": "bH0cpEDilUQi"
      },
      "source": [
        "### Q16 - Removing `runaway_reward.amount` >= 2000 and with `runaway_reward.amount < 1.0`  \n",
        "\n",
        "Now, let's remove the advertisements if `runaway_reward.amount` is less than 1 or greater than or equal to 2000 as these are anomalies in our analysis.\n",
        "\n",
        "You can do this by first:\n",
        "- Making a filter which chooses only the values that are over `0` and less than `2000`. \n",
        "- **Hint**: You will have to use the `&` logical opertor between the two conditions.\n",
        "- Next use `.loc` function and the filter to set up the new dataframe and assign it to a new variable and name it `fotm_amount_between_1_And_2000`.\n"
      ]
    },
    {
      "cell_type": "code",
      "metadata": {
        "id": "NFY2rxTslUQi"
      },
      "source": [
        "#Once your have verified your answer please uncomment the line below and run it, this will save your code \n",
        "#%%writefile -a {folder_location}/16.py\n",
        "#Please note that if you uncomment and run multiple times, the program will keep appending to the file.\n",
        "\n",
        "\n",
        "# filt = () # Insert the two conditions inside the ().\n",
        "\n",
        "# # Insert Code Here\n",
        "\n",
        "filt = (fotm['runaway_reward.amount'] > 0.0) & (fotm['runaway_reward.amount'] <= 2000)\n",
        "\n",
        "fotm_amount_between_1_And_2000= fotm.loc[filt]"
      ],
      "execution_count": null,
      "outputs": []
    },
    {
      "cell_type": "markdown",
      "metadata": {
        "id": "l71kNYl7YbRS"
      },
      "source": [
        "You can verify your answer by running the command below. The shape should be `(5330,10)`"
      ]
    },
    {
      "cell_type": "code",
      "metadata": {
        "id": "Ax--OAhnlUQl",
        "colab": {
          "base_uri": "https://localhost:8080/"
        },
        "outputId": "14b04b40-7b17-426a-cc56-dba77ea1829c"
      },
      "source": [
        "fotm_amount_between_1_And_2000.shape"
      ],
      "execution_count": null,
      "outputs": [
        {
          "output_type": "execute_result",
          "data": {
            "text/plain": [
              "(5330, 10)"
            ]
          },
          "metadata": {
            "tags": []
          },
          "execution_count": 151
        }
      ]
    },
    {
      "cell_type": "markdown",
      "metadata": {
        "id": "-btdZnFc9W4j"
      },
      "source": [
        "### Saving our dataframe\n",
        "\n",
        "We will make a copy of the dataframe we just created and save it as `fotm_visualization` "
      ]
    },
    {
      "cell_type": "code",
      "metadata": {
        "id": "6VV1jR0PlUQt"
      },
      "source": [
        "# Making a copy of our modified dataset\n",
        "fotm_visualization = fotm_amount_between_1_And_2000.copy(deep = True)"
      ],
      "execution_count": null,
      "outputs": []
    },
    {
      "cell_type": "markdown",
      "metadata": {
        "id": "YCXNnMWl9b-e"
      },
      "source": [
        "# Step 2 - Visualizations"
      ]
    },
    {
      "cell_type": "markdown",
      "metadata": {
        "id": "dXOwuUaBAbO8"
      },
      "source": [
        "## Basic Plots using pandas `df.plot`\n",
        "\n",
        "Looking at the `head` and `tail` of our sorted dataset we can see that the earliest advertisment in our records is from `1704`. We can also see that the latest advertisment we have on record is from `1874`.\n",
        "\n",
        "For the following questions we will be partitioning our datasets by date intervals and plotting their features.\n"
      ]
    },
    {
      "cell_type": "markdown",
      "metadata": {
        "id": "19LpWSjdYl4R"
      },
      "source": [
        "First, find the median of `runaway_reward.amount`. **You will need this for the next 2 questions.**\n",
        "\n",
        "- You can do this by either by using the `median()` property and storing it as a variable `reward_median`"
      ]
    },
    {
      "cell_type": "code",
      "metadata": {
        "id": "0rN-NwvgPFkl"
      },
      "source": [
        "\n",
        "# Insert Code Here\n",
        "\n",
        "reward_median = fotm_visualization['runaway_reward.amount'].median()"
      ],
      "execution_count": 229,
      "outputs": []
    },
    {
      "cell_type": "markdown",
      "metadata": {
        "id": "zdIvTF_UIDG7"
      },
      "source": [
        "### Q17 - Visualizing `runaway_reward.amount` vs. `advertisement.publication_date` (1704 - 1750)\n",
        "\n",
        "In this question, we will display a scatter plot. \n",
        "\n",
        "Using the method we used in Q16 we will do the following to create a dataframe:\n",
        "- Define three conditions for a filter where `year` is between 1704 and 1750 and `runaway_reward.amount` is greater than the median value (`reward_median`) of that column. Wrap it in a `.loc` filter and save the output as `test`. \n",
        "\n",
        "Note we want all the conditions to be true therefore we will use `&` between all the conditions.\n",
        "\n",
        "- Next, plot a scatter plot of `advertisment.publication_date` (x) vs `runaway_reward.amount` (y).\n",
        "\n"
      ]
    },
    {
      "cell_type": "code",
      "metadata": {
        "id": "T_IksYR_lUQv",
        "colab": {
          "base_uri": "https://localhost:8080/",
          "height": 335
        },
        "outputId": "821914bf-2f1f-4a22-d6ef-e999802d1101"
      },
      "source": [
        "#Once your have verified your answer please uncomment the line below and run it, this will save your code \n",
        "#%%writefile -a {folder_location}/17.py\n",
        "#Please note that if you uncomment and run multiple times, the program will keep appending to the file.\n",
        "\n",
        "# test = # Insert Code Here\n",
        "\n",
        "\n",
        "# # You can use df.plot() here.\n",
        "#           # Insert Code Here\n",
        "#            # Insert Code Here\n",
        "#            # Insert Code Here\n",
        "#           rot = 45,\n",
        "#           alpha = 0.4)\n",
        "\n",
        "\n",
        "\n",
        "\n",
        "\n",
        "test = fotm_visualization.loc[(fotm_visualization['year'] >=1704) & (fotm_visualization['year'] <= 1750) & (fotm_visualization['runaway_reward.amount'] > reward_median)]\n",
        "\n",
        "test.plot(x = 'advertisement.publication_date',\n",
        "          y='runaway_reward.amount',\n",
        "          kind = 'scatter',\n",
        "          rot = 45,\n",
        "          alpha = 0.4)"
      ],
      "execution_count": 237,
      "outputs": [
        {
          "output_type": "execute_result",
          "data": {
            "text/plain": [
              "<matplotlib.axes._subplots.AxesSubplot at 0x7fcebd155f60>"
            ]
          },
          "metadata": {
            "tags": []
          },
          "execution_count": 237
        },
        {
          "output_type": "display_data",
          "data": {
            "image/png": "[encoded data removed]",
            "text/plain": [
              "<Figure size 432x288 with 1 Axes>"
            ]
          },
          "metadata": {
            "tags": [],
            "needs_background": "light"
          }
        }
      ]
    },
    {
      "cell_type": "markdown",
      "metadata": {
        "id": "h4G0cl_CO0J4"
      },
      "source": [
        ""
      ]
    },
    {
      "cell_type": "markdown",
      "metadata": {
        "id": "lKylSnUwIE-M"
      },
      "source": [
        "### Q18 - Visualizing `runaway_reward.amount` vs. `advertisement.publication_date` (1751 to 1800)\n",
        "\n",
        "Repeat the steps from Q17 but change the year interval to between `1751` and `1800`. You might have to adjust the figure size to get a clearer plot."
      ]
    },
    {
      "cell_type": "code",
      "metadata": {
        "id": "sBcwksouOXfI",
        "colab": {
          "base_uri": "https://localhost:8080/",
          "height": 499
        },
        "outputId": "ced46cd6-329a-4c79-b3af-3d4d65d2b5f9"
      },
      "source": [
        "#Once your have verified your answer please uncomment the line below and run it, this will save your code \n",
        "#%%writefile -a {folder_location}/18.py\n",
        "#Please note that if you uncomment and run multiple times, the program will keep appending to the file.\n",
        "\n",
        "# Insert Code Here\n",
        "\n",
        "# Insert Code Here\n",
        "    # Insert Code Here\n",
        "    # Insert Code Here\n",
        "    # Insert Code Here\n",
        "    # Insert Code Here\n",
        "\n",
        "\n",
        "test = fotm_visualization.loc[(fotm_visualization['year'] >=1751) & (fotm_visualization['year'] <= 1800) & (fotm_visualization['runaway_reward.amount'] > reward_median)]\n",
        "\n",
        "test.plot(x = 'advertisement.publication_date',\n",
        "          y='runaway_reward.amount',\n",
        "          kind = 'scatter',\n",
        "          rot = 45,\n",
        "          alpha = 0.4,\n",
        "          figsize=(20,7))"
      ],
      "execution_count": 249,
      "outputs": [
        {
          "output_type": "execute_result",
          "data": {
            "text/plain": [
              "<matplotlib.axes._subplots.AxesSubplot at 0x7fcebd526748>"
            ]
          },
          "metadata": {
            "tags": []
          },
          "execution_count": 249
        },
        {
          "output_type": "display_data",
          "data": {
            "image/png": "[encoded data removed]",
            "text/plain": [
              "<Figure size 1440x504 with 1 Axes>"
            ]
          },
          "metadata": {
            "tags": [],
            "needs_background": "light"
          }
        }
      ]
    },
    {
      "cell_type": "markdown",
      "metadata": {
        "id": "XYmDU91FlURC"
      },
      "source": [
        "## Visualization using Seaborn \n",
        "\n",
        "\n",
        " "
      ]
    },
    {
      "cell_type": "markdown",
      "metadata": {
        "id": "uDGzYbF-R33g"
      },
      "source": [
        "### Q19 - Visualizing complete and incomplete advertisements between 1704 and 1750\n",
        "\n",
        "In this question, we will display a histogram chart of the `advertisement.complete` being `True` or `False`. \n",
        "\n",
        "- You can use the seaborn function `sns.catplot` and the parameter `kind` as `count`. But first you will make a dataframe\n",
        "- We will filter out a dataframe where `year` is between 1704 and 1750 and store it as `temp` and the visualize it.\n"
      ]
    },
    {
      "cell_type": "code",
      "metadata": {
        "id": "4-vc1BzullAW",
        "colab": {
          "base_uri": "https://localhost:8080/",
          "height": 400
        },
        "outputId": "25487385-baed-4827-a668-88d77b986355"
      },
      "source": [
        "#Once your have verified your answer please uncomment the line below and run it, this will save your code \n",
        "#%%writefile -a {folder_location}/19.py\n",
        "#Please note that if you uncomment and run multiple times, the program will keep appending to the file.\n",
        "\n",
        "# temp = # Insert Code Here for new data frame\n",
        "\n",
        "# # Insert Code for plot here\n",
        "#     # Insert Code Here\n",
        "#     # Insert Code Here\n",
        "\n",
        "\n",
        "temp = fotm_visualization.loc[(fotm_visualization['year'] >=1704) & (fotm_visualization['year'] <= 1750)]\n",
        "\n",
        "sns.catplot(x = 'advertisement.complete',\n",
        "            data = temp,\n",
        "            kind = 'count')"
      ],
      "execution_count": 250,
      "outputs": [
        {
          "output_type": "execute_result",
          "data": {
            "text/plain": [
              "<seaborn.axisgrid.FacetGrid at 0x7fcebc655390>"
            ]
          },
          "metadata": {
            "tags": []
          },
          "execution_count": 250
        },
        {
          "output_type": "display_data",
          "data": {
            "image/png": "[encoded data removed]",
            "text/plain": [
              "<Figure size 360x360 with 1 Axes>"
            ]
          },
          "metadata": {
            "tags": [],
            "needs_background": "light"
          }
        }
      ]
    },
    {
      "cell_type": "markdown",
      "metadata": {
        "id": "eDGc7kehWH6_"
      },
      "source": [
        "### Q20 - Visualizing complete and incomplete advertisements between 1751 and 1800\n",
        "\n",
        "Repeat the steps you followed in the previous question with the interval from `1751` to `1800`"
      ]
    },
    {
      "cell_type": "code",
      "metadata": {
        "id": "PR4CZGOtkliI",
        "colab": {
          "base_uri": "https://localhost:8080/",
          "height": 400
        },
        "outputId": "162cafd3-655a-4117-aa91-a4769322868c"
      },
      "source": [
        "#Once your have verified your answer please uncomment the line below and run it, this will save your code \n",
        "#%%writefile -a {folder_location}/20.py\n",
        "#Please note that if you uncomment and run multiple times, the program will keep appending to the file.\n",
        "\n",
        "# temp = # Insert Code Here for new data frame\n",
        "\n",
        "# # Insert Code for plot here\n",
        "#     # Insert Code Here\n",
        "#     # Insert Code Here\n",
        "\n",
        "\n",
        "temp = fotm_visualization.loc[(fotm_visualization['year'] >=1751) & (fotm_visualization['year'] <= 1800)]\n",
        "sns.catplot(\n",
        "         x = 'advertisement.complete',\n",
        "        data = temp,\n",
        "        kind = 'count')\n"
      ],
      "execution_count": 251,
      "outputs": [
        {
          "output_type": "execute_result",
          "data": {
            "text/plain": [
              "<seaborn.axisgrid.FacetGrid at 0x7fcebc62a0f0>"
            ]
          },
          "metadata": {
            "tags": []
          },
          "execution_count": 251
        },
        {
          "output_type": "display_data",
          "data": {
            "image/png": "[encoded data removed]",
            "text/plain": [
              "<Figure size 360x360 with 1 Axes>"
            ]
          },
          "metadata": {
            "tags": [],
            "needs_background": "light"
          }
        }
      ]
    },
    {
      "cell_type": "markdown",
      "metadata": {
        "id": "tz4kF1xKWKYZ"
      },
      "source": [
        "### Q21 - Visualizing complete and incomplete advertisements between 1801 and 1850\n",
        "\n",
        "Repeat the steps you followed in Q19 with the new date interval."
      ]
    },
    {
      "cell_type": "code",
      "metadata": {
        "id": "PwKKVkp1ldpN",
        "colab": {
          "base_uri": "https://localhost:8080/",
          "height": 400
        },
        "outputId": "d759c15e-f52e-4821-f8bb-b5867fdaf76e"
      },
      "source": [
        "#Once your have verified your answer please uncomment the line below and run it, this will save your code \n",
        "#%%writefile -a {folder_location}/21.py\n",
        "#Please note that if you uncomment and run multiple times, the program will keep appending to the file.\n",
        "\n",
        "\n",
        "# temp = # Insert Code Here for new data frame\n",
        "\n",
        "# # Insert Code for plot here\n",
        "#     # Insert Code Here\n",
        "#     # Insert Code Here\n",
        "\n",
        "temp = fotm_visualization.loc[(fotm_visualization['year'] >=1801) & (fotm_visualization['year'] <= 1850)]\n",
        "sns.catplot(\n",
        "         x = 'advertisement.complete',\n",
        "        data = temp,\n",
        "        kind = 'count')\n"
      ],
      "execution_count": 252,
      "outputs": [
        {
          "output_type": "execute_result",
          "data": {
            "text/plain": [
              "<seaborn.axisgrid.FacetGrid at 0x7fcebc6557b8>"
            ]
          },
          "metadata": {
            "tags": []
          },
          "execution_count": 252
        },
        {
          "output_type": "display_data",
          "data": {
            "image/png": "[encoded data removed]",
            "text/plain": [
              "<Figure size 360x360 with 1 Axes>"
            ]
          },
          "metadata": {
            "tags": [],
            "needs_background": "light"
          }
        }
      ]
    },
    {
      "cell_type": "markdown",
      "metadata": {
        "id": "bh3ziXpNP3qv"
      },
      "source": [
        "**Extra**:You can try out an visualize the remaining years (`1851` to `1874`) here using the code you wrote above."
      ]
    },
    {
      "cell_type": "markdown",
      "metadata": {
        "id": "8By81NgSSItj"
      },
      "source": [
        "### Q22 - Visualizing `runaway_reward.amount` vs. `newspaper_location.state`\n",
        "\n",
        "In this question,\n",
        "- Display a **categorical** plot of the state of newspaper location and see how reward amounts differed by enslaver type in each state. \n",
        "- We also want to check the number of advertisments that were completed vs the ones that were incomplete. To do this we will add another paramter `hue`.\n",
        "\n",
        "**Note**: Two things that you might notice in the code block below is `x =` and `x.set_xticklabels(rotation=45)`. Normally (like `df.plot`) we would use rot inside the function to rotate the labels. That is not the case with `seaborn` and we have to follow a specific method to modify our plots for things such as `figure size` and `tick rotations` etc.\n",
        "- In the following questions you might see these frequently so remember this note (you won't have to write these yourself)."
      ]
    },
    {
      "cell_type": "code",
      "metadata": {
        "id": "cUp5LEbflURE",
        "colab": {
          "base_uri": "https://localhost:8080/",
          "height": 421
        },
        "outputId": "159b6522-79e0-4dd1-baa5-da3c51ef61cd"
      },
      "source": [
        "#Once your have verified your answer please uncomment the line below and run it, this will save your code \n",
        "#%%writefile -a {folder_location}/22.py\n",
        "#Please note that if you uncomment and run multiple times, the program will keep appending to the file.\n",
        "\n",
        "\n",
        "# x = sns.# Insert Code Here\n",
        "#         # Insert Code Here\n",
        "#         # Insert Code Here\n",
        "#         # Insert Code Here\n",
        "#         jitter = False)\n",
        "\n",
        "# x.set_xticklabels(rotation=45)\n",
        "\n",
        "\n",
        "\n",
        "x = sns.catplot(y = 'runaway_reward.amount',\n",
        "         x = 'newspaper_location.state',\n",
        "         hue = 'advertisement.complete',\n",
        "        data = fotm_visualization,\n",
        "        jitter = False)\n",
        "\n",
        "x.set_xticklabels(rotation=45)"
      ],
      "execution_count": 258,
      "outputs": [
        {
          "output_type": "execute_result",
          "data": {
            "text/plain": [
              "<seaborn.axisgrid.FacetGrid at 0x7fcebd405860>"
            ]
          },
          "metadata": {
            "tags": []
          },
          "execution_count": 258
        },
        {
          "output_type": "display_data",
          "data": {
            "image/png": "[encoded data removed]",
            "text/plain": [
              "<Figure size 490.375x360 with 1 Axes>"
            ]
          },
          "metadata": {
            "tags": [],
            "needs_background": "light"
          }
        }
      ]
    },
    {
      "cell_type": "markdown",
      "metadata": {
        "id": "u6iRtESWSKfm"
      },
      "source": [
        "### Q23 - Visualizing runaway reward amount vs. newspaper location state II\n",
        "\n",
        "In this question change the third parameter of the plot above to `enslaver.type`. \n",
        "\n",
        "*This time we have used `x.fig.` to modify the size of our plot.*"
      ]
    },
    {
      "cell_type": "code",
      "metadata": {
        "id": "ocQ_ks9OmV7T",
        "colab": {
          "base_uri": "https://localhost:8080/",
          "height": 404
        },
        "outputId": "1b20e51e-e11f-4d06-93a0-84b0d70162e5"
      },
      "source": [
        "#Once your have verified your answer please uncomment the line below and run it, this will save your code \n",
        "#%%writefile -a {folder_location}/23.py\n",
        "#Please note that if you uncomment and run multiple times, the program will keep appending to the file.\n",
        "\n",
        "# # x = # Insert Code Here\n",
        "# #     # Insert Code Here\n",
        "# #     # Insert Code Here\n",
        "# #     # Insert Code Here\n",
        "# #         jitter = False)\n",
        "\n",
        "# x.set_xticklabels(rotation=45)\n",
        "# x.fig.set_figwidth(20)\n",
        "# x.fig.set_figheight(5)\n",
        "\n",
        "\n",
        "x = sns.catplot(y = 'runaway_reward.amount',\n",
        "         x = 'newspaper_location.state',\n",
        "         hue = 'enslaver.type',\n",
        "        data = fotm_visualization,\n",
        "        jitter = False)\n",
        "\n",
        "x.set_xticklabels(rotation=45)\n",
        "x.fig.set_figwidth(20)\n",
        "x.fig.set_figheight(5)"
      ],
      "execution_count": null,
      "outputs": [
        {
          "output_type": "display_data",
          "data": {
            "image/png": "[encoded data removed]",
            "text/plain": [
              "<Figure size 1440x360 with 1 Axes>"
            ]
          },
          "metadata": {
            "tags": [],
            "needs_background": "light"
          }
        }
      ]
    },
    {
      "cell_type": "markdown",
      "metadata": {
        "id": "I-1QrV2DSMKi"
      },
      "source": [
        "### Q24 - Visualizing `runaway_reward.amount` vs. `newspaper_location.state` \n",
        "\n",
        "In this question, we will display a **categorical** plot of the newspaper location state and the reward amount they published. We will see how reward amounts differed in each state using a **box** plot. We will also keep our third parameter **hue** as advertisments complete."
      ]
    },
    {
      "cell_type": "code",
      "metadata": {
        "id": "JxcsVryVlURG",
        "colab": {
          "base_uri": "https://localhost:8080/",
          "height": 726
        },
        "outputId": "54e5b618-4fed-4ea6-d73f-def52affe969"
      },
      "source": [
        "#Once your have verified your answer please uncomment the line below and run it, this will save your code \n",
        "#%%writefile -a {folder_location}/24.py\n",
        "#Please note that if you uncomment and run multiple times, the program will keep appending to the file.\n",
        "\n",
        "# x = # Insert Code Here\n",
        "#          # Insert Code Here\n",
        "#          # Insert Code Here\n",
        "#         # Insert Code Here\n",
        "#         # Insert Code Here\n",
        "\n",
        "# x.set_xticklabels(rotation=45)\n",
        "# x.fig.set_figwidth(20)\n",
        "# x.fig.set_figheight(10)\n",
        "\n",
        "\n",
        "x = sns.catplot(y = 'runaway_reward.amount',\n",
        "         x = 'newspaper_location.state',\n",
        "         hue = 'advertisement.complete',\n",
        "        data = fotm_visualization,\n",
        "        kind = 'box')\n",
        "\n",
        "x.set_xticklabels(rotation=45)\n",
        "x.fig.set_figwidth(20)\n",
        "x.fig.set_figheight(10)"
      ],
      "execution_count": null,
      "outputs": [
        {
          "output_type": "display_data",
          "data": {
            "image/png": "[encoded data removed]",
            "text/plain": [
              "<Figure size 1440x720 with 1 Axes>"
            ]
          },
          "metadata": {
            "tags": [],
            "needs_background": "light"
          }
        }
      ]
    },
    {
      "cell_type": "markdown",
      "metadata": {
        "id": "r_CX5tOxyCdB"
      },
      "source": [
        "\n",
        "As a Bonus replicate the code above and add another paramter to it `showfliers = False`"
      ]
    },
    {
      "cell_type": "code",
      "metadata": {
        "id": "erVEyHqPyGmp",
        "colab": {
          "base_uri": "https://localhost:8080/",
          "height": 533
        },
        "outputId": "065a1483-547a-4449-bf4e-d37189fe1e18"
      },
      "source": [
        "\n",
        "# Insert Code Here\n",
        "\n",
        "x = sns.catplot(y = 'runaway_reward.amount',\n",
        "         x = 'newspaper_location.state',\n",
        "         hue = 'advertisement.complete',\n",
        "        data = fotm_visualization,\n",
        "        kind = 'box',\n",
        "        showfliers = False)\n",
        "\n",
        "x.set_xticklabels(rotation=45)\n",
        "x.fig.set_figwidth(14)\n",
        "x.fig.set_figheight(7)"
      ],
      "execution_count": null,
      "outputs": [
        {
          "output_type": "display_data",
          "data": {
            "image/png": "[encoded data removed]",
            "text/plain": [
              "<Figure size 1008x504 with 1 Axes>"
            ]
          },
          "metadata": {
            "tags": [],
            "needs_background": "light"
          }
        }
      ]
    },
    {
      "cell_type": "markdown",
      "metadata": {
        "id": "iW31xrkryJ3S"
      },
      "source": [
        "As you can see above `showfliers = False` removed the outliers, therefore giving us a better outlook on the graph."
      ]
    },
    {
      "cell_type": "markdown",
      "metadata": {
        "id": "HHWGAdE3lURJ"
      },
      "source": [
        "### Q24 - Exploring A Newspaper \n",
        "\n",
        "Let's select a newspaper `The Daily Picayune` and save the dataframe as `The_Daily_P_Df`."
      ]
    },
    {
      "cell_type": "code",
      "metadata": {
        "id": "N3_aDBbhlURJ"
      },
      "source": [
        "#Once your have verified your answer please uncomment the line below and run it, this will save your code \n",
        "#%%writefile -a {folder_location}/24.py\n",
        "#Please note that if you uncomment and run multiple times, the program will keep appending to the file.\n",
        "\n",
        "The_Daily_P_Df = fotm_visualization.loc[fotm_visualization['newspaper.name'] == 'The Daily Picayune']"
      ],
      "execution_count": null,
      "outputs": []
    },
    {
      "cell_type": "markdown",
      "metadata": {
        "id": "d5QSiCMmSi50"
      },
      "source": [
        "### Q25 - Visualizing runaway reward amount vs. enslaver type\n",
        "\n",
        "In this question, we will use a **relational** plot to plot:\n",
        "- The `year` vs the `enslaver.type`.\n",
        "- Will add a **Third** paramter `advertisment.complete` \n",
        "- We will also add a **Fourth** parameter `size` and equate it to `runaway_reward.amount`\n",
        "- There's another paramter which defined the size (radius) of the 4th parameter called `sizes` that we have declared as a tuple `(20,200)`.\n",
        "-  We will see how reward amounts differed by enslaver type in `The_Daily_P_Df`.\n"
      ]
    },
    {
      "cell_type": "code",
      "metadata": {
        "id": "bCg4AZYklURL",
        "colab": {
          "base_uri": "https://localhost:8080/",
          "height": 512
        },
        "outputId": "14256353-140f-4209-b22c-a32951c3149a"
      },
      "source": [
        "#Once your have verified your answer please uncomment the line below and run it, this will save your code \n",
        "#%%writefile -a {folder_location}/25.py\n",
        "#Please note that if you uncomment and run multiple times, the program will keep appending to the file.\n",
        "\n",
        "# x = # Insert Code Here\n",
        "#         # Insert Code Here\n",
        "#         # Insert Code Here\n",
        "#         # Insert Code Here\n",
        "#         # Insert Code Here\n",
        "#          sizes = (20,200))\n",
        "\n",
        "# x.fig.set_figwidth(15)\n",
        "# x.fig.set_figheight(7)\n",
        "\n",
        "\n",
        "x = sns.relplot(x = 'year',\n",
        "        y = 'enslaver.type',\n",
        "        hue = 'advertisement.complete',\n",
        "        size = 'runaway_reward.amount'\n",
        "        data = The_Daily_P_Df,\n",
        "         sizes = (20,200))\n",
        "\n",
        "x.fig.set_figwidth(15)\n",
        "x.fig.set_figheight(7)"
      ],
      "execution_count": null,
      "outputs": [
        {
          "output_type": "display_data",
          "data": {
            "image/png": "[encoded data removed]",
            "text/plain": [
              "<Figure size 1080x504 with 1 Axes>"
            ]
          },
          "metadata": {
            "tags": [],
            "needs_background": "light"
          }
        }
      ]
    },
    {
      "cell_type": "markdown",
      "metadata": {
        "id": "WfmJG8yUS85K"
      },
      "source": [
        "### Q26 - Looking at a State (year vs newspaper names)\n",
        "\n",
        "Let's select `US-LA` and save the dataframe as `Lousiana_df`.\n",
        "\n",
        "We will use a categorical plot on `year` and see what newspapers were used for advertisement each year."
      ]
    },
    {
      "cell_type": "code",
      "metadata": {
        "id": "c-m_zEZQogwY"
      },
      "source": [
        "#Once your have verified your answer please uncomment the line below and run it, this will save your code \n",
        "#%%writefile -a {folder_location}/26.py\n",
        "#Please note that if you uncomment and run multiple times, the program will keep appending to the file.\n",
        "\n",
        "# Insert Filtered Dataframe code here\n",
        "\n",
        "# x = # Insert Code Here\n",
        "#         # Insert Code Here\n",
        "#         # Insert Code Here\n",
        "\n",
        "# x.fig.set_figwidth(20)\n",
        "# x.fig.set_figheight(5)\n",
        "\n",
        "\n",
        "Lousiana_df = fotm_visualization.loc[fotm_visualization['newspaper_location.state'] == 'US-LA']\n",
        "\n",
        "x = sns.catplot(y = 'newspaper.name',\n",
        "        x = 'year',\n",
        "        data = Lousiana_df)\n",
        "\n",
        "x.fig.set_figwidth(20)\n",
        "x.fig.set_figheight(5)"
      ],
      "execution_count": null,
      "outputs": []
    },
    {
      "cell_type": "markdown",
      "metadata": {
        "id": "pip7zDurTAjB"
      },
      "source": [
        "### Q27 - Looking the state with the **Second** highest # of Advertisments\n",
        "Filter out the second highest state and save it as a new dataframe, we will use a categorical plot on `year` and see what newspapers were used for advertisement each year in the respective state. Also, add a **Third** parameter `advertisment.complete`."
      ]
    },
    {
      "cell_type": "code",
      "metadata": {
        "id": "oXjtRq8YlURW",
        "colab": {
          "base_uri": "https://localhost:8080/",
          "height": 384
        },
        "outputId": "9832fb22-b846-4bc9-8f24-f72ae04185c8"
      },
      "source": [
        "#Once your have verified your answer please uncomment the line below and run it, this will save your code \n",
        "#%%writefile -a {folder_location}/27.py\n",
        "#Please note that if you uncomment and run multiple times, the program will keep appending to the file.\n",
        "\n",
        "# # Insert Filtered Dataframe code here\n",
        "\n",
        "# x = # Insert Code Here\n",
        "#         # Insert Code Here\n",
        "#         # Insert Code Here\n",
        "#         # Insert Code Here\n",
        "\n",
        "# x.fig.set_figwidth(20)\n",
        "# x.fig.set_figheight(5)\n",
        "\n",
        "\n",
        "\n",
        "temp_df = fotm_visualization.loc[fotm_visualization['newspaper_location.state'] == 'US-NC']\n",
        "\n",
        "x = sns.catplot(y = 'newspaper.name',\n",
        "        x = 'year',\n",
        "        hue = 'advertisement.complete',\n",
        "        data = temp_df)\n",
        "\n",
        "x.fig.set_figwidth(20)\n",
        "x.fig.set_figheight(5)"
      ],
      "execution_count": null,
      "outputs": [
        {
          "output_type": "display_data",
          "data": {
            "image/png": "[encoded data removed]",
            "text/plain": [
              "<Figure size 1440x360 with 1 Axes>"
            ]
          },
          "metadata": {
            "tags": [],
            "needs_background": "light"
          }
        }
      ]
    },
    {
      "cell_type": "markdown",
      "metadata": {
        "id": "9_SIi09YScKJ"
      },
      "source": [
        "### Q28a - Looking at a year with the most advertisements I"
      ]
    },
    {
      "cell_type": "markdown",
      "metadata": {
        "id": "Bk2t7sS_YLYx"
      },
      "source": [
        "Let's find out a year with the most advertisements. Use the method implemented in questions 11 through 15."
      ]
    },
    {
      "cell_type": "code",
      "metadata": {
        "id": "IiCNM-bZ9e_S",
        "colab": {
          "base_uri": "https://localhost:8080/"
        },
        "outputId": "f2121ee2-7a5b-4f89-c7dc-2353ca90c4e7"
      },
      "source": [
        "# Using methods implemented in \n",
        "\n",
        "fotm_visualization['year'].value_counts().head(1)"
      ],
      "execution_count": 259,
      "outputs": [
        {
          "output_type": "execute_result",
          "data": {
            "text/plain": [
              "1854    527\n",
              "Name: year, dtype: int64"
            ]
          },
          "metadata": {
            "tags": []
          },
          "execution_count": 259
        }
      ]
    },
    {
      "cell_type": "markdown",
      "metadata": {
        "id": "jjLtftRL-Xu1"
      },
      "source": [
        "Make a new dataframe and name it `df_YEAR`. Where the `YEAR` is the year with the most advertisments.\n",
        "- You can make the dataframe by using `.loc` like previous questions.\n",
        "- We will use a **relational** plot on `newspaper_location.state` vs. `runaway_reward.amount`.\n",
        "\n",
        "**Note**: This number won' be the same if you check the year with the highest number of advertisments at the start of this practicum. This is because halfway through we removed values lower than `1` and higher than `2000` from the `runaway_award.amount` column."
      ]
    },
    {
      "cell_type": "code",
      "metadata": {
        "colab": {
          "base_uri": "https://localhost:8080/",
          "height": 529
        },
        "id": "b9rmzYKVWms_",
        "outputId": "54f70fd9-5b00-4643-de32-3e5026bb7618"
      },
      "source": [
        "#Once your have verified your answer please uncomment the line below and run it, this will save your code \n",
        "#%%writefile -a {folder_location}/28.py\n",
        "#Please note that if you uncomment and run multiple times, the program will keep appending to the file.\n",
        "\n",
        "# # Insert Filtered Dataframe code here\n",
        "\n",
        "# x = # Insert Code Here\n",
        "#         # Insert Code Here\n",
        "#         # Insert Code Here\n",
        "#         # Insert Code Here\n",
        "\n",
        "x.set_xticklabels(rotation=45)\n",
        "x.fig.set_figwidth(20)\n",
        "x.fig.set_figheight(7)\n",
        "\n",
        "\n",
        "\n",
        "df_1854 = fotm_visualization.loc[fotm_visualization['year'] == 1854]\n",
        "\n",
        "x = sns.relplot(y = 'newspaper_location.state',\n",
        "                x = 'runaway_reward.amount',\n",
        "                hue = 'advertisement.complete',\n",
        "                data = df_1854)\n",
        "\n",
        "x.set_xticklabels(rotation=45)\n",
        "x.fig.set_figwidth(20)\n",
        "x.fig.set_figheight(7)"
      ],
      "execution_count": null,
      "outputs": [
        {
          "output_type": "display_data",
          "data": {
            "image/png": "[encoded data removed]",
            "text/plain": [
              "<Figure size 1440x504 with 1 Axes>"
            ]
          },
          "metadata": {
            "tags": [],
            "needs_background": "light"
          }
        }
      ]
    },
    {
      "cell_type": "markdown",
      "metadata": {
        "id": "Pov-Nb_YYwJb"
      },
      "source": [
        "### Q28b - Looking at a year with the most advertisements II\n",
        "\n",
        "We will use a **categorical** plot and display how `newspaper_location.city` was different per newspaper and the where the most completed advertisments were. in the respective year. also to avoid overlapping of points, use `kind`= `\"swarm\"`."
      ]
    },
    {
      "cell_type": "code",
      "metadata": {
        "id": "ftp5YsAmUbls",
        "colab": {
          "base_uri": "https://localhost:8080/",
          "height": 708
        },
        "outputId": "653f8dd5-f84a-4bfb-956f-0f973f225082"
      },
      "source": [
        "#Once your have verified your answer please uncomment the line below and run it, this will save your code \n",
        "#%%writefile -a {folder_location}/28.py\n",
        "#Please note that if you uncomment and run multiple times, the program will keep appending to the file.\n",
        "\n",
        "\n",
        "# x = # Insert Code Here\n",
        "#            # Insert Code Here\n",
        "#            # Insert Code Here\n",
        "#            # Insert Code Here\n",
        "#            # Insert Code Here\n",
        "\n",
        "x.set_xticklabels(rotation=45)\n",
        "x.fig.set_figwidth(20)\n",
        "x.fig.set_figheight(7)\n",
        "\n",
        "\n",
        "x = sns.catplot(y = 'newspaper_location.city',\n",
        "            x ='newspaper.name',\n",
        "            hue = 'advertisement.complete',\n",
        "            data = df_1854,\n",
        "            kind = 'swarm')\n",
        "\n",
        "x.set_xticklabels(rotation=45)\n",
        "x.fig.set_figwidth(20)\n",
        "x.fig.set_figheight(7)"
      ],
      "execution_count": 262,
      "outputs": [
        {
          "output_type": "stream",
          "text": [
            "/usr/local/lib/python3.6/dist-packages/seaborn/categorical.py:1296: UserWarning: 99.0% of the points cannot be placed; you may want to decrease the size of the markers or use stripplot.\n",
            "  warnings.warn(msg, UserWarning)\n",
            "/usr/local/lib/python3.6/dist-packages/seaborn/categorical.py:1296: UserWarning: 61.5% of the points cannot be placed; you may want to decrease the size of the markers or use stripplot.\n",
            "  warnings.warn(msg, UserWarning)\n",
            "/usr/local/lib/python3.6/dist-packages/seaborn/categorical.py:1296: UserWarning: 66.7% of the points cannot be placed; you may want to decrease the size of the markers or use stripplot.\n",
            "  warnings.warn(msg, UserWarning)\n"
          ],
          "name": "stderr"
        },
        {
          "output_type": "display_data",
          "data": {
            "image/png": "[encoded data removed]",
            "text/plain": [
              "<Figure size 1440x504 with 1 Axes>"
            ]
          },
          "metadata": {
            "tags": [],
            "needs_background": "light"
          }
        }
      ]
    },
    {
      "cell_type": "markdown",
      "metadata": {
        "id": "_hntDtdsgzqd"
      },
      "source": [
        "# Conclusion\n",
        "\n",
        "For this you will write a summary of what steps you followed throughout this notebook, why they were important and your findings.\n",
        "For example:\n",
        "- \n",
        "- \n",
        "- \n",
        "- \n",
        "- \n",
        "- \n",
        "\n",
        "\n",
        "You can also add your answers to the questions posted throughout the notebook here. \n"
      ]
    },
    {
      "cell_type": "markdown",
      "metadata": {
        "id": "9NhJfdAY24eu"
      },
      "source": [
        "\n",
        "# Submission\n",
        "Run this code block to download your answers."
      ]
    },
    {
      "cell_type": "code",
      "metadata": {
        "id": "7fk92Hpz24ex"
      },
      "source": [
        "from google.colab import files\n",
        "!zip -r \"{student_id}.zip\" \"{student_id}\"\n",
        "files.download(f\"{student_id}.zip\")"
      ],
      "execution_count": null,
      "outputs": []
    }
  ]
}