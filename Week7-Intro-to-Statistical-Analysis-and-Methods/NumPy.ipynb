{
  "nbformat": 4,
  "nbformat_minor": 0,
  "metadata": {
    "colab": {
      "name": "NumPy.ipynb",
      "provenance": [],
      "collapsed_sections": []
    },
    "kernelspec": {
      "name": "python_defaultSpec_1596311487262",
      "display_name": "Python 3.8.3 64-bit"
    }
  },
  "cells": [
    {
      "cell_type": "markdown",
      "metadata": {
        "id": "se5var56eiTB",
        "colab_type": "text"
      },
      "source": [
        "# SECTIONS\n",
        "\n",
        "## Creating Arrays\n",
        "\n",
        "## Indexing\n",
        "\n",
        "## Slicing\n",
        "\n",
        "## Data Types\n",
        "\n",
        "## Copy, View\n",
        "\n",
        "## Shape (Not whole section, but mini?)\n",
        "\n",
        "## Reshaping Arrays\n",
        "\n",
        "## Iterating Arrays\n",
        "\n",
        "## Join, Split\n",
        "\n",
        "## Search, Sort, Filter\n",
        "\n",
        "## Random (Any distributions?)\n",
        "\n",
        "## Universal Functions\n",
        "  1. Vectorization\n",
        "  2.This is where we talk about cumsum()"
      ]
    },
    {
      "cell_type": "markdown",
      "metadata": {
        "id": "qkNvWsq_0XGc",
        "colab_type": "text"
      },
      "source": [
        "# Creating Arrays *\n",
        "\n",
        "NumPy allows you to work with arrays very efficiently. The array object in NumPy is called *ndarray*.\n",
        "\n",
        "We can create a NumPy ndarray object by using the array() function."
      ]
    },
    {
      "cell_type": "code",
      "metadata": {
        "id": "d8KX9RWf0boU",
        "colab_type": "code",
        "colab": {
          "base_uri": "https://localhost:8080/",
          "height": 52
        },
        "outputId": "079ae3d2-e477-441b-e43e-2dbf196097ed"
      },
      "source": [
        "import numpy as np\n",
        "\n",
        "arr = np.array([1, 2, 3, 4, 5,6,7,8,9,10])\n",
        "\n",
        "print(arr)\n",
        "\n",
        "print(type(arr))"
      ],
      "execution_count": null,
      "outputs": [
        {
          "output_type": "stream",
          "text": [
            "[ 1  2  3  4  5  6  7  8  9 10]\n",
            "<class 'numpy.ndarray'>\n"
          ],
          "name": "stdout"
        }
      ]
    },
    {
      "cell_type": "markdown",
      "metadata": {
        "id": "wFuvyuiB02yK",
        "colab_type": "text"
      },
      "source": [
        "**Different dimensions of arrays?**"
      ]
    },
    {
      "cell_type": "markdown",
      "metadata": {
        "id": "9XDsbw131Caa",
        "colab_type": "text"
      },
      "source": [
        "# Indexing\n",
        "\n",
        "Indexing is the same thing as accessing an element of a list. In this case, we will be accessing an array element.\n",
        "\n",
        "You can access an array element by referring to its **index number**. The indexes in NumPy arrays start with 0, meaning that the first element has index 0, and the second has index 1 etc.\n",
        "\n",
        "The following example shows how you can access multiple elements of an array and perform operations on them."
      ]
    },
    {
      "cell_type": "code",
      "metadata": {
        "id": "xHkFP4I81ZK6",
        "colab_type": "code",
        "colab": {
          "base_uri": "https://localhost:8080/",
          "height": 35
        },
        "outputId": "cbe475b0-8a22-42cf-95f4-c70b265899e5"
      },
      "source": [
        "import numpy as np\n",
        "\n",
        "arr = np.array([1, 2, 3, 4,5,6,7,8,9,10])\n",
        "\n",
        "print(arr[4] + arr[8])"
      ],
      "execution_count": null,
      "outputs": [
        {
          "output_type": "stream",
          "text": [
            "14\n"
          ],
          "name": "stdout"
        }
      ]
    },
    {
      "cell_type": "markdown",
      "metadata": {
        "id": "7YEV_yn684Sa",
        "colab_type": "text"
      },
      "source": [
        "# Slicing\n",
        "\n",
        "Slicing in python means taking a part or subsection of an object. An array in this case.\n",
        "\n",
        "We slice using this syntax: [start:end].\n",
        "\n",
        "We can also define the step, like this: [start:end:step].\n",
        "\n",
        "If we don't pass a start it's considered that we start from the beginning. If we don't pass an end its considered that we slice to the end of the array.\n",
        "\n",
        "If we don't pass step, we slice one element at a time. Additionally, we don't aloways have to step through an array from beginning to end. We can also go backwards. For instance:"
      ]
    },
    {
      "cell_type": "code",
      "metadata": {
        "id": "Mr3Lhtn-mnd7",
        "colab_type": "code",
        "colab": {
          "base_uri": "https://localhost:8080/",
          "height": 35
        },
        "outputId": "9ad068b1-3582-4568-9b74-2db44023be6d"
      },
      "source": [
        "# Reverse an array through backwards/negative stepping\n",
        "import numpy as np\n",
        "arr = np.array([3,7,9,0])\n",
        "\n",
        "print(arr[::-1])"
      ],
      "execution_count": 2,
      "outputs": [
        {
          "output_type": "stream",
          "text": [
            "[0 9 7 3]\n"
          ],
          "name": "stdout"
        }
      ]
    },
    {
      "cell_type": "code",
      "metadata": {
        "id": "e0fxUa8S9WN1",
        "colab_type": "code",
        "colab": {
          "base_uri": "https://localhost:8080/",
          "height": 35
        },
        "outputId": "197bf38d-d090-4d87-8c4e-70583585d3be"
      },
      "source": [
        "# Slice elements from the beginning to index 8\n",
        "\n",
        "import numpy as np\n",
        "\n",
        "arr = np.array([1, 2, 3, 4, 5, 6, 7,8,9,10])\n",
        "\n",
        "print(arr[:8])"
      ],
      "execution_count": null,
      "outputs": [
        {
          "output_type": "stream",
          "text": [
            "[1 2 3 4 5 6 7 8]\n"
          ],
          "name": "stdout"
        }
      ]
    },
    {
      "cell_type": "markdown",
      "metadata": {
        "id": "BnAfG_o39pox",
        "colab_type": "text"
      },
      "source": [
        "You'll notice we only got to index 7. That's because the end is always *non-inclusive*. We slice up to but not including the end value. The start index on the other hand, **is** inclusive."
      ]
    },
    {
      "cell_type": "markdown",
      "metadata": {
        "id": "xjNfhR-J-F6p",
        "colab_type": "text"
      },
      "source": [
        "# Data Types"
      ]
    },
    {
      "cell_type": "markdown",
      "metadata": {
        "id": "El0Gf_Uw-05B",
        "colab_type": "text"
      },
      "source": [
        "Just like base Python, NumPy has many data types available. They are all differentiated by a single character. Below is a list of all data types:\n",
        "\n",
        "* i - integer\n",
        "* b - boolean\n",
        "* u - unsigned integer\n",
        "* f - float\n",
        "* c - complex float\n",
        "* m - timedelta\n",
        "* M - datetime\n",
        "* O - object\n",
        "* S - string\n",
        "* U - unicode string\n",
        "* V - fixed chunk of memory for other type ( void )"
      ]
    },
    {
      "cell_type": "code",
      "metadata": {
        "id": "8krhELPV_jiw",
        "colab_type": "code",
        "colab": {
          "base_uri": "https://localhost:8080/",
          "height": 35
        },
        "outputId": "b8200c04-b138-4f38-d9a3-5513ad73e905"
      },
      "source": [
        "# Checking the data type of an array\n",
        "import numpy as np\n",
        "\n",
        "arr = np.array([5, 7, 3, 1])\n",
        "\n",
        "print(arr.dtype)"
      ],
      "execution_count": null,
      "outputs": [
        {
          "output_type": "stream",
          "text": [
            "int64\n"
          ],
          "name": "stdout"
        }
      ]
    },
    {
      "cell_type": "code",
      "metadata": {
        "id": "iaRS1cqQ_rvA",
        "colab_type": "code",
        "colab": {
          "base_uri": "https://localhost:8080/",
          "height": 52
        },
        "outputId": "875a4fa8-2589-4726-a3b6-54f187283a37"
      },
      "source": [
        "# How to create an array with a defined type\n",
        "import numpy as np\n",
        "\n",
        "arr = np.array([5, 7, 3, 1], dtype='S')\n",
        "\n",
        "print(arr)\n",
        "print(arr.dtype)"
      ],
      "execution_count": null,
      "outputs": [
        {
          "output_type": "stream",
          "text": [
            "[b'5' b'7' b'3' b'1']\n",
            "|S1\n"
          ],
          "name": "stdout"
        }
      ]
    },
    {
      "cell_type": "code",
      "metadata": {
        "id": "AkuNnBAx_21_",
        "colab_type": "code",
        "colab": {
          "base_uri": "https://localhost:8080/",
          "height": 52
        },
        "outputId": "3d42bdf1-af6a-47ea-a518-543bc9601242"
      },
      "source": [
        "# How to convert between types\n",
        "import numpy as np\n",
        "\n",
        "arr = np.array([4.4, 24.1, 25.1,3.5])\n",
        "\n",
        "newarr = arr.astype('i')\n",
        "\n",
        "print(newarr)\n",
        "print(newarr.dtype)"
      ],
      "execution_count": null,
      "outputs": [
        {
          "output_type": "stream",
          "text": [
            "[ 4 24 25  3]\n",
            "int32\n"
          ],
          "name": "stdout"
        }
      ]
    },
    {
      "cell_type": "markdown",
      "metadata": {
        "id": "8cdDX6VqAMEn",
        "colab_type": "text"
      },
      "source": [
        "# Copy vs. View\n",
        "\n",
        "In NumPy, you can work with either a copy of the data or the data itself, and it's very important that you know the difference. Namely, modifying a copy of the data will not change the original dataset but modifying the view **will**. Here are some examples:"
      ]
    },
    {
      "cell_type": "code",
      "metadata": {
        "id": "x66zSaDEAoon",
        "colab_type": "code",
        "colab": {
          "base_uri": "https://localhost:8080/",
          "height": 52
        },
        "outputId": "7b0b6e5e-b7e9-499f-b7f8-8db2da032679"
      },
      "source": [
        "# A Copy\n",
        "import numpy as np\n",
        "\n",
        "arr = np.array([6, 2, 1, 5, 3])\n",
        "x = arr.copy()\n",
        "arr[0] = 8\n",
        "\n",
        "print(arr)\n",
        "print(x)"
      ],
      "execution_count": null,
      "outputs": [
        {
          "output_type": "stream",
          "text": [
            "[8 2 1 5 3]\n",
            "[6 2 1 5 3]\n"
          ],
          "name": "stdout"
        }
      ]
    },
    {
      "cell_type": "code",
      "metadata": {
        "id": "pYMGf-eLAveJ",
        "colab_type": "code",
        "colab": {
          "base_uri": "https://localhost:8080/",
          "height": 52
        },
        "outputId": "cf92e34d-7229-46ca-e98c-4824c06768fb"
      },
      "source": [
        "# A View\n",
        "import numpy as np\n",
        "\n",
        "arr = np.array([6, 2, 1, 5, 3])\n",
        "x = arr.view()\n",
        "arr[0] = 8\n",
        "\n",
        "print(arr)\n",
        "print(x)"
      ],
      "execution_count": null,
      "outputs": [
        {
          "output_type": "stream",
          "text": [
            "[8 2 1 5 3]\n",
            "[8 2 1 5 3]\n"
          ],
          "name": "stdout"
        }
      ]
    },
    {
      "cell_type": "markdown",
      "metadata": {
        "id": "2Kz9EXJCBIvt",
        "colab_type": "text"
      },
      "source": [
        "# Shape\n",
        "\n",
        "All NumPy arrays have an attribute called *shape*. This is helpful for 2d or n-dimensional arrays, but for simple lists, it is simply the number of elements that it has."
      ]
    },
    {
      "cell_type": "code",
      "metadata": {
        "id": "peyAzLUpBUE6",
        "colab_type": "code",
        "colab": {
          "base_uri": "https://localhost:8080/",
          "height": 35
        },
        "outputId": "022341c3-55d7-442f-9366-bb2c2c4160a8"
      },
      "source": [
        "# Print the shape of an array\n",
        "import numpy as np\n",
        "\n",
        "arr = np.array([2,7,3,7])\n",
        "\n",
        "print(arr.shape)"
      ],
      "execution_count": null,
      "outputs": [
        {
          "output_type": "stream",
          "text": [
            "(4,)\n"
          ],
          "name": "stdout"
        }
      ]
    },
    {
      "cell_type": "markdown",
      "metadata": {
        "id": "doD6MG9mBc81",
        "colab_type": "text"
      },
      "source": [
        "# Reshaping Arrays *"
      ]
    },
    {
      "cell_type": "markdown",
      "metadata": {
        "id": "GfFSvcoVBpA0",
        "colab_type": "text"
      },
      "source": [
        "# Iterating Through Arrays *\n",
        "\n",
        "Iterating simply means to traverse or travel through an object. In the case of arrays, we can iterate through them by using simple for loops."
      ]
    },
    {
      "cell_type": "code",
      "metadata": {
        "id": "QLyvgaRkB8tI",
        "colab_type": "code",
        "colab": {
          "base_uri": "https://localhost:8080/",
          "height": 69
        },
        "outputId": "db6e056e-9c47-4d3f-9898-d722fbb358f8"
      },
      "source": [
        "import numpy as np\n",
        "\n",
        "arr = np.array([1, 5, 7])\n",
        "\n",
        "for x in arr:\n",
        "  print(x)"
      ],
      "execution_count": null,
      "outputs": [
        {
          "output_type": "stream",
          "text": [
            "1\n",
            "5\n",
            "7\n"
          ],
          "name": "stdout"
        }
      ]
    },
    {
      "cell_type": "markdown",
      "metadata": {
        "id": "m_28xMsQCnQG",
        "colab_type": "text"
      },
      "source": [
        "# Joining Arrays *\n",
        "\n",
        "Joining combining the elements of multiple arrays into one.\n",
        "\n",
        "The basic way to do it is like this:"
      ]
    },
    {
      "cell_type": "code",
      "metadata": {
        "id": "GqU6ZJj2Cz1D",
        "colab_type": "code",
        "colab": {
          "base_uri": "https://localhost:8080/",
          "height": 35
        },
        "outputId": "a589da8b-6c80-48b8-d955-f71e729f99dc"
      },
      "source": [
        "import numpy as np\n",
        "\n",
        "arr1 = np.array([7, 1, 0])\n",
        "\n",
        "arr2 = np.array([2, 8, 1])\n",
        "\n",
        "arr = np.concatenate((arr1, arr2))\n",
        "\n",
        "print(arr)"
      ],
      "execution_count": null,
      "outputs": [
        {
          "output_type": "stream",
          "text": [
            "[7 1 0 2 8 1]\n"
          ],
          "name": "stdout"
        }
      ]
    },
    {
      "cell_type": "markdown",
      "metadata": {
        "id": "jNM29MXoC_QE",
        "colab_type": "text"
      },
      "source": [
        "## Stack Functions"
      ]
    },
    {
      "cell_type": "markdown",
      "metadata": {
        "id": "afvHLeSZDbEb",
        "colab_type": "text"
      },
      "source": [
        "# Splitting Arrays\n",
        "\n",
        "Splitting is the opposite of joining arrays. It takes one array and creates multiple from it."
      ]
    },
    {
      "cell_type": "code",
      "metadata": {
        "id": "V_fuARqaDp7z",
        "colab_type": "code",
        "colab": {
          "base_uri": "https://localhost:8080/",
          "height": 35
        },
        "outputId": "492e1c6d-4009-4285-fdbb-674291748880"
      },
      "source": [
        "# Split array into 4\n",
        "import numpy as np\n",
        "\n",
        "arr = np.array([1, 2, 3, 4, 5, 6,7,8])\n",
        "\n",
        "newarr = np.array_split(arr, 4)\n",
        "\n",
        "print(newarr)"
      ],
      "execution_count": null,
      "outputs": [
        {
          "output_type": "stream",
          "text": [
            "[array([1, 2]), array([3, 4]), array([5, 6]), array([7, 8])]\n"
          ],
          "name": "stdout"
        }
      ]
    },
    {
      "cell_type": "markdown",
      "metadata": {
        "id": "841BBfT9D2fr",
        "colab_type": "text"
      },
      "source": [
        "# Searching Arrays *\n",
        "\n",
        "Searching an array to find a certain element is a very important and basic operation. We can do this using the *where()* method."
      ]
    },
    {
      "cell_type": "code",
      "metadata": {
        "id": "Or1mDyyhELuK",
        "colab_type": "code",
        "colab": {
          "base_uri": "https://localhost:8080/",
          "height": 35
        },
        "outputId": "7c0925bf-7e9f-4589-cff1-c419e40a2a73"
      },
      "source": [
        "import numpy as np\n",
        "\n",
        "arr = np.array([1, 2, 5, 9, 5, 3, 4])\n",
        "\n",
        "x = np.where(arr == 4)\n",
        "\n",
        "print(x)"
      ],
      "execution_count": null,
      "outputs": [
        {
          "output_type": "stream",
          "text": [
            "(array([6]),)\n"
          ],
          "name": "stdout"
        }
      ]
    },
    {
      "cell_type": "code",
      "metadata": {
        "id": "3_qdQoDdET1i",
        "colab_type": "code",
        "colab": {
          "base_uri": "https://localhost:8080/",
          "height": 35
        },
        "outputId": "3d1b43ea-c4ad-438a-8b8e-184dc7b30806"
      },
      "source": [
        "# Find all the odd numbers in an array\n",
        "import numpy as np\n",
        "\n",
        "arr = np.array([10, 20, 30, 40, 50, 60, 70, 80,99])\n",
        "\n",
        "x = np.where(arr%2 == 1)\n",
        "\n",
        "print(x)"
      ],
      "execution_count": null,
      "outputs": [
        {
          "output_type": "stream",
          "text": [
            "(array([8]),)\n"
          ],
          "name": "stdout"
        }
      ]
    },
    {
      "cell_type": "markdown",
      "metadata": {
        "id": "HD3-FwR8Ewed",
        "colab_type": "text"
      },
      "source": [
        "# Sorting Arrays\n",
        "\n",
        "Sorting an array is another very important and commonly used operation. NumPy has a function called sort() for this task."
      ]
    },
    {
      "cell_type": "code",
      "metadata": {
        "id": "K9vKOULjFAgJ",
        "colab_type": "code",
        "colab": {
          "base_uri": "https://localhost:8080/",
          "height": 35
        },
        "outputId": "1c7d4c09-9e26-4787-90e3-69a906c6ff85"
      },
      "source": [
        "import numpy as np\n",
        "\n",
        "arr = np.array([4, 1, 0, 3])\n",
        "\n",
        "print(np.sort(arr))"
      ],
      "execution_count": null,
      "outputs": [
        {
          "output_type": "stream",
          "text": [
            "[0 1 3 4]\n"
          ],
          "name": "stdout"
        }
      ]
    },
    {
      "cell_type": "code",
      "metadata": {
        "id": "a9UuLe91FJjC",
        "colab_type": "code",
        "colab": {
          "base_uri": "https://localhost:8080/",
          "height": 35
        },
        "outputId": "67120d36-b002-49a5-868b-33c7f4759ac1"
      },
      "source": [
        "# Sorting a string array alphabetically\n",
        "import numpy as np\n",
        "\n",
        "arr = np.array(['zephyr', 'gate', 'match'])\n",
        "\n",
        "print(np.sort(arr))"
      ],
      "execution_count": null,
      "outputs": [
        {
          "output_type": "stream",
          "text": [
            "['gate' 'match' 'zephyr']\n"
          ],
          "name": "stdout"
        }
      ]
    },
    {
      "cell_type": "markdown",
      "metadata": {
        "id": "65rLth-0Fw1M",
        "colab_type": "text"
      },
      "source": [
        "# Filtering Arrays\n",
        "\n",
        "Sometimes you would want to create a new array from an existing array where you select elements out based on a certain condition. Let's say you have an array with all integers from 1 to 10. You would like to create a new array with only the odd numbers from that list. You can do this very efficiently with **filtering**. When you filter something, you only take out what you want, and the same principle applies to objects in NumPy. NumPy uses what's called a **boolean index list** to filter. This is an array of True and False values that correspond directly to the target array and what values you would like to filter. For example, using the example above, the target array would look like this:\n",
        "\n",
        "[1,2,3,4,5,6,7,8,9,10]\n",
        "\n",
        "And if you wanted to filter out the odd values, you would use this particular boolean index list:\n",
        "\n",
        "[True,False,True,False,True,False,True,False,True,False]\n",
        "\n",
        "Applying this list onto the target array will get you what you want:\n",
        "\n",
        "[1,3,5,7,9]\n",
        "\n",
        "A working code example is shown below:"
      ]
    },
    {
      "cell_type": "code",
      "metadata": {
        "id": "hKxqtiLnGLp8",
        "colab_type": "code",
        "colab": {
          "base_uri": "https://localhost:8080/",
          "height": 35
        },
        "outputId": "922c92d9-765b-42a1-eb9a-05e4ce13bb03"
      },
      "source": [
        "import numpy as np\n",
        "\n",
        "arr = np.array([51, 52, 53, 54])\n",
        "\n",
        "x = [False, False, True, True]\n",
        "\n",
        "newarr = arr[x]\n",
        "\n",
        "print(newarr)"
      ],
      "execution_count": null,
      "outputs": [
        {
          "output_type": "stream",
          "text": [
            "[53 54]\n"
          ],
          "name": "stdout"
        }
      ]
    },
    {
      "cell_type": "markdown",
      "metadata": {
        "id": "lJqn6v1DGXcs",
        "colab_type": "text"
      },
      "source": [
        "We don't need to hard-code the True and False values. Like stated previously, we can filter based on conditions."
      ]
    },
    {
      "cell_type": "code",
      "metadata": {
        "id": "bhSUOfQyGgAA",
        "colab_type": "code",
        "colab": {
          "base_uri": "https://localhost:8080/",
          "height": 52
        },
        "outputId": "f3ee38df-2a9a-4e23-c15b-ef749b027ee1"
      },
      "source": [
        "arr = np.array([51, 52, 53, 54])\n",
        "\n",
        "# Create an empty list\n",
        "filter_arr = []\n",
        "\n",
        "# go through each element in arr\n",
        "for element in arr:\n",
        "  # if the element is higher than 52, set the value to True, otherwise False:\n",
        "  if element > 52:\n",
        "    filter_arr.append(True)\n",
        "  else:\n",
        "    filter_arr.append(False)\n",
        "\n",
        "newarr = arr[filter_arr]\n",
        "\n",
        "print(filter_arr)\n",
        "print(newarr)"
      ],
      "execution_count": null,
      "outputs": [
        {
          "output_type": "stream",
          "text": [
            "[False, False, True, True]\n",
            "[53 54]\n"
          ],
          "name": "stdout"
        }
      ]
    },
    {
      "cell_type": "markdown",
      "metadata": {
        "id": "IG9cno8LpGol",
        "colab_type": "text"
      },
      "source": [
        "Filtering is a very common task when working with data and as such, NumPy has an even more efficient way to perform it. It is possible to create a boolean index list directly from the target array and then apply it to obtain the filtered array. See the example below:"
      ]
    },
    {
      "cell_type": "code",
      "metadata": {
        "id": "3sAu4xwLpleg",
        "colab_type": "code",
        "colab": {
          "base_uri": "https://localhost:8080/",
          "height": 52
        },
        "outputId": "6d4a31d7-552d-4d2a-a012-93635b4f3b52"
      },
      "source": [
        "import numpy as np\n",
        "\n",
        "arr = np.array([10,20,30,40,50,60,70,80,90,100])\n",
        "\n",
        "filter = arr > 50\n",
        "\n",
        "filter_arr = arr[filter]\n",
        "\n",
        "print(filter)\n",
        "print(filter_arr)"
      ],
      "execution_count": 4,
      "outputs": [
        {
          "output_type": "stream",
          "text": [
            "[False False False False False  True  True  True  True  True]\n",
            "[ 60  70  80  90 100]\n"
          ],
          "name": "stdout"
        }
      ]
    },
    {
      "cell_type": "markdown",
      "metadata": {
        "id": "zDb-gWiAG0ur",
        "colab_type": "text"
      },
      "source": [
        "# Random Numbers and Distributions *"
      ]
    },
    {
      "cell_type": "markdown",
      "metadata": {
        "id": "RTYrEFzGG6cH",
        "colab_type": "text"
      },
      "source": [
        "# Universal Functions *\n"
      ]
    }
  ]
}