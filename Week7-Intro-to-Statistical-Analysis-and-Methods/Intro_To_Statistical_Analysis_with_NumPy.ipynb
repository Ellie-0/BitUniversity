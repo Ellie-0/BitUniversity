{
  "nbformat": 4,
  "nbformat_minor": 0,
  "metadata": {
    "colab": {
      "name": "Intro To Statistical Analysis with NumPy.ipynb",
      "provenance": [],
      "collapsed_sections": [],
      "include_colab_link": true
    },
    "kernelspec": {
      "name": "python_defaultSpec_1596311487262",
      "display_name": "Python 3.8.3 64-bit"
    }
  },
  "cells": [
    {
      "cell_type": "markdown",
      "metadata": {
        "id": "view-in-github",
        "colab_type": "text"
      },
      "source": [
        "<a href=\"https://colab.research.google.com/github/bitprj/DigitalHistory/blob/Atul/Week7-Intro-to-Statistical-Analysis-and-Methods/Intro_To_Statistical_Analysis_with_NumPy.ipynb\" target=\"_parent\"><img src=\"https://colab.research.google.com/assets/colab-badge.svg\" alt=\"Open In Colab\"/></a>"
      ]
    },
    {
      "cell_type": "markdown",
      "metadata": {
        "id": "ypLX5W9iiaWe",
        "colab_type": "text"
      },
      "source": [
        "## NumPy"
      ]
    },
    {
      "cell_type": "markdown",
      "metadata": {
        "id": "qkNvWsq_0XGc",
        "colab_type": "text"
      },
      "source": [
        "### Creating Arrays *\n",
        "\n",
        "NumPy allows you to work with arrays very efficiently. The array object in NumPy is called *ndarray*.\n",
        "\n",
        "We can create a NumPy ndarray object by using the array() function."
      ]
    },
    {
      "cell_type": "code",
      "metadata": {
        "id": "d8KX9RWf0boU",
        "colab_type": "code",
        "colab": {
          "base_uri": "https://localhost:8080/",
          "height": 52
        },
        "outputId": "079ae3d2-e477-441b-e43e-2dbf196097ed"
      },
      "source": [
        "import numpy as np\n",
        "\n",
        "arr = np.array([1, 2, 3, 4, 5,6,7,8,9,10])\n",
        "\n",
        "print(arr)\n",
        "\n",
        "print(type(arr))"
      ],
      "execution_count": null,
      "outputs": [
        {
          "output_type": "stream",
          "text": [
            "[ 1  2  3  4  5  6  7  8  9 10]\n",
            "<class 'numpy.ndarray'>\n"
          ],
          "name": "stdout"
        }
      ]
    },
    {
      "cell_type": "markdown",
      "metadata": {
        "id": "wFuvyuiB02yK",
        "colab_type": "text"
      },
      "source": [
        "**Different dimensions of arrays?**"
      ]
    },
    {
      "cell_type": "markdown",
      "metadata": {
        "id": "9XDsbw131Caa",
        "colab_type": "text"
      },
      "source": [
        "### Indexing\n",
        "\n",
        "Indexing is the same thing as accessing an element of a list. In this case, we will be accessing an array element.\n",
        "\n",
        "You can access an array element by referring to its **index number**. The indexes in NumPy arrays start with 0, meaning that the first element has index 0, and the second has index 1 etc.\n",
        "\n",
        "The following example shows how you can access multiple elements of an array and perform operations on them."
      ]
    },
    {
      "cell_type": "code",
      "metadata": {
        "id": "xHkFP4I81ZK6",
        "colab_type": "code",
        "colab": {
          "base_uri": "https://localhost:8080/",
          "height": 35
        },
        "outputId": "cbe475b0-8a22-42cf-95f4-c70b265899e5"
      },
      "source": [
        "import numpy as np\n",
        "\n",
        "arr = np.array([1, 2, 3, 4,5,6,7,8,9,10])\n",
        "\n",
        "print(arr[4] + arr[8])"
      ],
      "execution_count": null,
      "outputs": [
        {
          "output_type": "stream",
          "text": [
            "14\n"
          ],
          "name": "stdout"
        }
      ]
    },
    {
      "cell_type": "markdown",
      "metadata": {
        "id": "7YEV_yn684Sa",
        "colab_type": "text"
      },
      "source": [
        "### Slicing\n",
        "\n",
        "Slicing in python means taking a part or subsection of an object. An array in this case.\n",
        "\n",
        "We slice using this syntax: [start:end].\n",
        "\n",
        "We can also define the step, like this: [start:end:step].\n",
        "\n",
        "If we don't pass a start it's considered that we start from the beginning. If we don't pass an end its considered that we slice to the end of the array.\n",
        "\n",
        "If we don't pass step, we slice one element at a time. Additionally, we don't aloways have to step through an array from beginning to end. We can also go backwards. For instance:"
      ]
    },
    {
      "cell_type": "code",
      "metadata": {
        "id": "Mr3Lhtn-mnd7",
        "colab_type": "code",
        "colab": {
          "base_uri": "https://localhost:8080/",
          "height": 35
        },
        "outputId": "9ad068b1-3582-4568-9b74-2db44023be6d"
      },
      "source": [
        "# Reverse an array through backwards/negative stepping\n",
        "import numpy as np\n",
        "arr = np.array([3,7,9,0])\n",
        "\n",
        "print(arr[::-1])"
      ],
      "execution_count": null,
      "outputs": [
        {
          "output_type": "stream",
          "text": [
            "[0 9 7 3]\n"
          ],
          "name": "stdout"
        }
      ]
    },
    {
      "cell_type": "code",
      "metadata": {
        "id": "e0fxUa8S9WN1",
        "colab_type": "code",
        "colab": {
          "base_uri": "https://localhost:8080/",
          "height": 35
        },
        "outputId": "197bf38d-d090-4d87-8c4e-70583585d3be"
      },
      "source": [
        "# Slice elements from the beginning to index 8\n",
        "\n",
        "import numpy as np\n",
        "\n",
        "arr = np.array([1, 2, 3, 4, 5, 6, 7,8,9,10])\n",
        "\n",
        "print(arr[:8])"
      ],
      "execution_count": null,
      "outputs": [
        {
          "output_type": "stream",
          "text": [
            "[1 2 3 4 5 6 7 8]\n"
          ],
          "name": "stdout"
        }
      ]
    },
    {
      "cell_type": "markdown",
      "metadata": {
        "id": "BnAfG_o39pox",
        "colab_type": "text"
      },
      "source": [
        "You'll notice we only got to index 7. That's because the end is always *non-inclusive*. We slice up to but not including the end value. The start index on the other hand, **is** inclusive."
      ]
    },
    {
      "cell_type": "markdown",
      "metadata": {
        "id": "xjNfhR-J-F6p",
        "colab_type": "text"
      },
      "source": [
        "### Data Types"
      ]
    },
    {
      "cell_type": "markdown",
      "metadata": {
        "id": "El0Gf_Uw-05B",
        "colab_type": "text"
      },
      "source": [
        "Just like base Python, NumPy has many data types available. They are all differentiated by a single character. Below is a list of all data types:\n",
        "\n",
        "* i - integer\n",
        "* b - boolean\n",
        "* u - unsigned integer\n",
        "* f - float\n",
        "* c - complex float\n",
        "* m - timedelta\n",
        "* M - datetime\n",
        "* O - object\n",
        "* S - string\n",
        "* U - unicode string\n",
        "* V - fixed chunk of memory for other type ( void )"
      ]
    },
    {
      "cell_type": "code",
      "metadata": {
        "id": "8krhELPV_jiw",
        "colab_type": "code",
        "colab": {
          "base_uri": "https://localhost:8080/",
          "height": 35
        },
        "outputId": "b8200c04-b138-4f38-d9a3-5513ad73e905"
      },
      "source": [
        "# Checking the data type of an array\n",
        "import numpy as np\n",
        "\n",
        "arr = np.array([5, 7, 3, 1])\n",
        "\n",
        "print(arr.dtype)"
      ],
      "execution_count": null,
      "outputs": [
        {
          "output_type": "stream",
          "text": [
            "int64\n"
          ],
          "name": "stdout"
        }
      ]
    },
    {
      "cell_type": "code",
      "metadata": {
        "id": "iaRS1cqQ_rvA",
        "colab_type": "code",
        "colab": {
          "base_uri": "https://localhost:8080/",
          "height": 52
        },
        "outputId": "875a4fa8-2589-4726-a3b6-54f187283a37"
      },
      "source": [
        "# How to create an array with a defined type\n",
        "import numpy as np\n",
        "\n",
        "arr = np.array([5, 7, 3, 1], dtype='S')\n",
        "\n",
        "print(arr)\n",
        "print(arr.dtype)"
      ],
      "execution_count": null,
      "outputs": [
        {
          "output_type": "stream",
          "text": [
            "[b'5' b'7' b'3' b'1']\n",
            "|S1\n"
          ],
          "name": "stdout"
        }
      ]
    },
    {
      "cell_type": "code",
      "metadata": {
        "id": "AkuNnBAx_21_",
        "colab_type": "code",
        "colab": {
          "base_uri": "https://localhost:8080/",
          "height": 52
        },
        "outputId": "3d42bdf1-af6a-47ea-a518-543bc9601242"
      },
      "source": [
        "# How to convert between types\n",
        "import numpy as np\n",
        "\n",
        "arr = np.array([4.4, 24.1, 25.1,3.5])\n",
        "\n",
        "newarr = arr.astype('i')\n",
        "\n",
        "print(newarr)\n",
        "print(newarr.dtype)"
      ],
      "execution_count": null,
      "outputs": [
        {
          "output_type": "stream",
          "text": [
            "[ 4 24 25  3]\n",
            "int32\n"
          ],
          "name": "stdout"
        }
      ]
    },
    {
      "cell_type": "markdown",
      "metadata": {
        "id": "8cdDX6VqAMEn",
        "colab_type": "text"
      },
      "source": [
        "### Copy vs. View\n",
        "\n",
        "In NumPy, you can work with either a copy of the data or the data itself, and it's very important that you know the difference. Namely, modifying a copy of the data will not change the original dataset but modifying the view **will**. Here are some examples:"
      ]
    },
    {
      "cell_type": "code",
      "metadata": {
        "id": "x66zSaDEAoon",
        "colab_type": "code",
        "colab": {
          "base_uri": "https://localhost:8080/",
          "height": 52
        },
        "outputId": "7b0b6e5e-b7e9-499f-b7f8-8db2da032679"
      },
      "source": [
        "# A Copy\n",
        "import numpy as np\n",
        "\n",
        "arr = np.array([6, 2, 1, 5, 3])\n",
        "x = arr.copy()\n",
        "arr[0] = 8\n",
        "\n",
        "print(arr)\n",
        "print(x)"
      ],
      "execution_count": null,
      "outputs": [
        {
          "output_type": "stream",
          "text": [
            "[8 2 1 5 3]\n",
            "[6 2 1 5 3]\n"
          ],
          "name": "stdout"
        }
      ]
    },
    {
      "cell_type": "code",
      "metadata": {
        "id": "pYMGf-eLAveJ",
        "colab_type": "code",
        "colab": {
          "base_uri": "https://localhost:8080/",
          "height": 52
        },
        "outputId": "cf92e34d-7229-46ca-e98c-4824c06768fb"
      },
      "source": [
        "# A View\n",
        "import numpy as np\n",
        "\n",
        "arr = np.array([6, 2, 1, 5, 3])\n",
        "x = arr.view()\n",
        "arr[0] = 8\n",
        "\n",
        "print(arr)\n",
        "print(x)"
      ],
      "execution_count": null,
      "outputs": [
        {
          "output_type": "stream",
          "text": [
            "[8 2 1 5 3]\n",
            "[8 2 1 5 3]\n"
          ],
          "name": "stdout"
        }
      ]
    },
    {
      "cell_type": "markdown",
      "metadata": {
        "id": "2Kz9EXJCBIvt",
        "colab_type": "text"
      },
      "source": [
        "### Shape\n",
        "\n",
        "All NumPy arrays have an attribute called *shape*. This is helpful for 2d or n-dimensional arrays, but for simple lists, it is simply the number of elements that it has."
      ]
    },
    {
      "cell_type": "code",
      "metadata": {
        "id": "peyAzLUpBUE6",
        "colab_type": "code",
        "colab": {
          "base_uri": "https://localhost:8080/",
          "height": 35
        },
        "outputId": "022341c3-55d7-442f-9366-bb2c2c4160a8"
      },
      "source": [
        "# Print the shape of an array\n",
        "import numpy as np\n",
        "\n",
        "arr = np.array([2,7,3,7])\n",
        "\n",
        "print(arr.shape)"
      ],
      "execution_count": null,
      "outputs": [
        {
          "output_type": "stream",
          "text": [
            "(4,)\n"
          ],
          "name": "stdout"
        }
      ]
    },
    {
      "cell_type": "markdown",
      "metadata": {
        "id": "doD6MG9mBc81",
        "colab_type": "text"
      },
      "source": [
        "### Reshaping Arrays *"
      ]
    },
    {
      "cell_type": "markdown",
      "metadata": {
        "id": "GfFSvcoVBpA0",
        "colab_type": "text"
      },
      "source": [
        "### Iterating Through Arrays *\n",
        "\n",
        "Iterating simply means to traverse or travel through an object. In the case of arrays, we can iterate through them by using simple for loops."
      ]
    },
    {
      "cell_type": "code",
      "metadata": {
        "id": "QLyvgaRkB8tI",
        "colab_type": "code",
        "colab": {
          "base_uri": "https://localhost:8080/",
          "height": 69
        },
        "outputId": "db6e056e-9c47-4d3f-9898-d722fbb358f8"
      },
      "source": [
        "import numpy as np\n",
        "\n",
        "arr = np.array([1, 5, 7])\n",
        "\n",
        "for x in arr:\n",
        "  print(x)"
      ],
      "execution_count": null,
      "outputs": [
        {
          "output_type": "stream",
          "text": [
            "1\n",
            "5\n",
            "7\n"
          ],
          "name": "stdout"
        }
      ]
    },
    {
      "cell_type": "markdown",
      "metadata": {
        "id": "m_28xMsQCnQG",
        "colab_type": "text"
      },
      "source": [
        "### Joining Arrays *\n",
        "\n",
        "Joining combining the elements of multiple arrays into one.\n",
        "\n",
        "The basic way to do it is like this:"
      ]
    },
    {
      "cell_type": "code",
      "metadata": {
        "id": "GqU6ZJj2Cz1D",
        "colab_type": "code",
        "colab": {
          "base_uri": "https://localhost:8080/",
          "height": 35
        },
        "outputId": "a589da8b-6c80-48b8-d955-f71e729f99dc"
      },
      "source": [
        "import numpy as np\n",
        "\n",
        "arr1 = np.array([7, 1, 0])\n",
        "\n",
        "arr2 = np.array([2, 8, 1])\n",
        "\n",
        "arr = np.concatenate((arr1, arr2))\n",
        "\n",
        "print(arr)"
      ],
      "execution_count": null,
      "outputs": [
        {
          "output_type": "stream",
          "text": [
            "[7 1 0 2 8 1]\n"
          ],
          "name": "stdout"
        }
      ]
    },
    {
      "cell_type": "markdown",
      "metadata": {
        "id": "jNM29MXoC_QE",
        "colab_type": "text"
      },
      "source": [
        "### Stack Functions"
      ]
    },
    {
      "cell_type": "markdown",
      "metadata": {
        "id": "afvHLeSZDbEb",
        "colab_type": "text"
      },
      "source": [
        "### Splitting Arrays\n",
        "\n",
        "Splitting is the opposite of joining arrays. It takes one array and creates multiple from it."
      ]
    },
    {
      "cell_type": "code",
      "metadata": {
        "id": "V_fuARqaDp7z",
        "colab_type": "code",
        "colab": {
          "base_uri": "https://localhost:8080/",
          "height": 35
        },
        "outputId": "492e1c6d-4009-4285-fdbb-674291748880"
      },
      "source": [
        "# Split array into 4\n",
        "import numpy as np\n",
        "\n",
        "arr = np.array([1, 2, 3, 4, 5, 6,7,8])\n",
        "\n",
        "newarr = np.array_split(arr, 4)\n",
        "\n",
        "print(newarr)"
      ],
      "execution_count": null,
      "outputs": [
        {
          "output_type": "stream",
          "text": [
            "[array([1, 2]), array([3, 4]), array([5, 6]), array([7, 8])]\n"
          ],
          "name": "stdout"
        }
      ]
    },
    {
      "cell_type": "markdown",
      "metadata": {
        "id": "841BBfT9D2fr",
        "colab_type": "text"
      },
      "source": [
        "### Searching Arrays *\n",
        "\n",
        "Searching an array to find a certain element is a very important and basic operation. We can do this using the *where()* method."
      ]
    },
    {
      "cell_type": "code",
      "metadata": {
        "id": "Or1mDyyhELuK",
        "colab_type": "code",
        "colab": {
          "base_uri": "https://localhost:8080/",
          "height": 35
        },
        "outputId": "7c0925bf-7e9f-4589-cff1-c419e40a2a73"
      },
      "source": [
        "import numpy as np\n",
        "\n",
        "arr = np.array([1, 2, 5, 9, 5, 3, 4])\n",
        "\n",
        "x = np.where(arr == 4)\n",
        "\n",
        "print(x)"
      ],
      "execution_count": null,
      "outputs": [
        {
          "output_type": "stream",
          "text": [
            "(array([6]),)\n"
          ],
          "name": "stdout"
        }
      ]
    },
    {
      "cell_type": "code",
      "metadata": {
        "id": "3_qdQoDdET1i",
        "colab_type": "code",
        "colab": {
          "base_uri": "https://localhost:8080/",
          "height": 35
        },
        "outputId": "3d1b43ea-c4ad-438a-8b8e-184dc7b30806"
      },
      "source": [
        "# Find all the odd numbers in an array\n",
        "import numpy as np\n",
        "\n",
        "arr = np.array([10, 20, 30, 40, 50, 60, 70, 80,99])\n",
        "\n",
        "x = np.where(arr%2 == 1)\n",
        "\n",
        "print(x)"
      ],
      "execution_count": null,
      "outputs": [
        {
          "output_type": "stream",
          "text": [
            "(array([8]),)\n"
          ],
          "name": "stdout"
        }
      ]
    },
    {
      "cell_type": "markdown",
      "metadata": {
        "id": "HD3-FwR8Ewed",
        "colab_type": "text"
      },
      "source": [
        "### Sorting Arrays\n",
        "\n",
        "Sorting an array is another very important and commonly used operation. NumPy has a function called sort() for this task."
      ]
    },
    {
      "cell_type": "code",
      "metadata": {
        "id": "K9vKOULjFAgJ",
        "colab_type": "code",
        "colab": {
          "base_uri": "https://localhost:8080/",
          "height": 35
        },
        "outputId": "1c7d4c09-9e26-4787-90e3-69a906c6ff85"
      },
      "source": [
        "import numpy as np\n",
        "\n",
        "arr = np.array([4, 1, 0, 3])\n",
        "\n",
        "print(np.sort(arr))"
      ],
      "execution_count": null,
      "outputs": [
        {
          "output_type": "stream",
          "text": [
            "[0 1 3 4]\n"
          ],
          "name": "stdout"
        }
      ]
    },
    {
      "cell_type": "code",
      "metadata": {
        "id": "a9UuLe91FJjC",
        "colab_type": "code",
        "colab": {
          "base_uri": "https://localhost:8080/",
          "height": 35
        },
        "outputId": "67120d36-b002-49a5-868b-33c7f4759ac1"
      },
      "source": [
        "# Sorting a string array alphabetically\n",
        "import numpy as np\n",
        "\n",
        "arr = np.array(['zephyr', 'gate', 'match'])\n",
        "\n",
        "print(np.sort(arr))"
      ],
      "execution_count": null,
      "outputs": [
        {
          "output_type": "stream",
          "text": [
            "['gate' 'match' 'zephyr']\n"
          ],
          "name": "stdout"
        }
      ]
    },
    {
      "cell_type": "markdown",
      "metadata": {
        "id": "65rLth-0Fw1M",
        "colab_type": "text"
      },
      "source": [
        "### Filtering Arrays\n",
        "\n",
        "Sometimes you would want to create a new array from an existing array where you select elements out based on a certain condition. Let's say you have an array with all integers from 1 to 10. You would like to create a new array with only the odd numbers from that list. You can do this very efficiently with **filtering**. When you filter something, you only take out what you want, and the same principle applies to objects in NumPy. NumPy uses what's called a **boolean index list** to filter. This is an array of True and False values that correspond directly to the target array and what values you would like to filter. For example, using the example above, the target array would look like this:\n",
        "\n",
        "[1,2,3,4,5,6,7,8,9,10]\n",
        "\n",
        "And if you wanted to filter out the odd values, you would use this particular boolean index list:\n",
        "\n",
        "[True,False,True,False,True,False,True,False,True,False]\n",
        "\n",
        "Applying this list onto the target array will get you what you want:\n",
        "\n",
        "[1,3,5,7,9]\n",
        "\n",
        "A working code example is shown below:"
      ]
    },
    {
      "cell_type": "code",
      "metadata": {
        "id": "hKxqtiLnGLp8",
        "colab_type": "code",
        "colab": {
          "base_uri": "https://localhost:8080/",
          "height": 35
        },
        "outputId": "922c92d9-765b-42a1-eb9a-05e4ce13bb03"
      },
      "source": [
        "import numpy as np\n",
        "\n",
        "arr = np.array([51, 52, 53, 54])\n",
        "\n",
        "x = [False, False, True, True]\n",
        "\n",
        "newarr = arr[x]\n",
        "\n",
        "print(newarr)"
      ],
      "execution_count": null,
      "outputs": [
        {
          "output_type": "stream",
          "text": [
            "[53 54]\n"
          ],
          "name": "stdout"
        }
      ]
    },
    {
      "cell_type": "markdown",
      "metadata": {
        "id": "lJqn6v1DGXcs",
        "colab_type": "text"
      },
      "source": [
        "We don't need to hard-code the True and False values. Like stated previously, we can filter based on conditions."
      ]
    },
    {
      "cell_type": "code",
      "metadata": {
        "id": "bhSUOfQyGgAA",
        "colab_type": "code",
        "colab": {
          "base_uri": "https://localhost:8080/",
          "height": 52
        },
        "outputId": "f3ee38df-2a9a-4e23-c15b-ef749b027ee1"
      },
      "source": [
        "arr = np.array([51, 52, 53, 54])\n",
        "\n",
        "# Create an empty list\n",
        "filter_arr = []\n",
        "\n",
        "# go through each element in arr\n",
        "for element in arr:\n",
        "  # if the element is higher than 52, set the value to True, otherwise False:\n",
        "  if element > 52:\n",
        "    filter_arr.append(True)\n",
        "  else:\n",
        "    filter_arr.append(False)\n",
        "\n",
        "newarr = arr[filter_arr]\n",
        "\n",
        "print(filter_arr)\n",
        "print(newarr)"
      ],
      "execution_count": null,
      "outputs": [
        {
          "output_type": "stream",
          "text": [
            "[False, False, True, True]\n",
            "[53 54]\n"
          ],
          "name": "stdout"
        }
      ]
    },
    {
      "cell_type": "markdown",
      "metadata": {
        "id": "IG9cno8LpGol",
        "colab_type": "text"
      },
      "source": [
        "Filtering is a very common task when working with data and as such, NumPy has an even more efficient way to perform it. It is possible to create a boolean index list directly from the target array and then apply it to obtain the filtered array. See the example below:"
      ]
    },
    {
      "cell_type": "code",
      "metadata": {
        "id": "3sAu4xwLpleg",
        "colab_type": "code",
        "colab": {
          "base_uri": "https://localhost:8080/",
          "height": 52
        },
        "outputId": "6d4a31d7-552d-4d2a-a012-93635b4f3b52"
      },
      "source": [
        "import numpy as np\n",
        "\n",
        "arr = np.array([10,20,30,40,50,60,70,80,90,100])\n",
        "\n",
        "filter = arr > 50\n",
        "\n",
        "filter_arr = arr[filter]\n",
        "\n",
        "print(filter)\n",
        "print(filter_arr)"
      ],
      "execution_count": null,
      "outputs": [
        {
          "output_type": "stream",
          "text": [
            "[False False False False False  True  True  True  True  True]\n",
            "[ 60  70  80  90 100]\n"
          ],
          "name": "stdout"
        }
      ]
    },
    {
      "cell_type": "markdown",
      "metadata": {
        "id": "zDb-gWiAG0ur",
        "colab_type": "text"
      },
      "source": [
        "### Random Numbers and Distributions *"
      ]
    },
    {
      "cell_type": "markdown",
      "metadata": {
        "id": "nqmVYc5IvQIo",
        "colab_type": "text"
      },
      "source": [
        "You will find yourself using randomly generated numbers and objects quite often in statistical analysis. This is especailly true when creating simulations. As such, it is important to be familar with both random object generation as well as the random distribution."
      ]
    },
    {
      "cell_type": "markdown",
      "metadata": {
        "id": "6JTGbxzWwifb",
        "colab_type": "text"
      },
      "source": [
        "### Random Generation"
      ]
    },
    {
      "cell_type": "code",
      "metadata": {
        "id": "86aKS-2IvsOp",
        "colab_type": "code",
        "colab": {
          "base_uri": "https://localhost:8080/",
          "height": 35
        },
        "outputId": "ce4d290c-dfb1-4930-b5e5-58811ffdbfa7"
      },
      "source": [
        "# Generate a random integer\n",
        "from numpy import random\n",
        "\n",
        "x = random.randint(50)\n",
        "\n",
        "print(x)"
      ],
      "execution_count": null,
      "outputs": [
        {
          "output_type": "stream",
          "text": [
            "23\n"
          ],
          "name": "stdout"
        }
      ]
    },
    {
      "cell_type": "code",
      "metadata": {
        "id": "60W31d9BvzLw",
        "colab_type": "code",
        "colab": {
          "base_uri": "https://localhost:8080/",
          "height": 35
        },
        "outputId": "f076891e-02bb-40db-d450-1b02af456765"
      },
      "source": [
        "# Generate a random float\n",
        "from numpy import random\n",
        "\n",
        "x = random.rand()\n",
        "\n",
        "print(x)"
      ],
      "execution_count": null,
      "outputs": [
        {
          "output_type": "stream",
          "text": [
            "0.7430470171291289\n"
          ],
          "name": "stdout"
        }
      ]
    },
    {
      "cell_type": "code",
      "metadata": {
        "id": "5_Ypwl_9v8Om",
        "colab_type": "code",
        "colab": {
          "base_uri": "https://localhost:8080/",
          "height": 35
        },
        "outputId": "3e94d84f-a739-4df7-c7e0-ee1a84c60a05"
      },
      "source": [
        "# Generate a random integer array of a fixed size\n",
        "from numpy import random\n",
        "\n",
        "x=random.randint(100, size=(5))\n",
        "\n",
        "print(x)"
      ],
      "execution_count": null,
      "outputs": [
        {
          "output_type": "stream",
          "text": [
            "[95 35 51 66 49]\n"
          ],
          "name": "stdout"
        }
      ]
    },
    {
      "cell_type": "code",
      "metadata": {
        "id": "sXvZzOIlwMXW",
        "colab_type": "code",
        "colab": {
          "base_uri": "https://localhost:8080/",
          "height": 52
        },
        "outputId": "d5f50a1a-99f2-4215-c31e-e4af780b388b"
      },
      "source": [
        "# Generate a random float array of fixed size\n",
        "from numpy import random\n",
        "\n",
        "x=random.rand(10)\n",
        "\n",
        "print(x)"
      ],
      "execution_count": null,
      "outputs": [
        {
          "output_type": "stream",
          "text": [
            "[0.61790744 0.04358101 0.45571515 0.04022127 0.02050482 0.67487397\n",
            " 0.91171688 0.96665611 0.57881927 0.87026867]\n"
          ],
          "name": "stdout"
        }
      ]
    },
    {
      "cell_type": "code",
      "metadata": {
        "id": "LDaCM52vwW5Y",
        "colab_type": "code",
        "colab": {
          "base_uri": "https://localhost:8080/",
          "height": 35
        },
        "outputId": "580aa0bc-fd80-4e4c-d6bd-042d501efa4a"
      },
      "source": [
        "# Randomly select a number from an array\n",
        "from numpy import random\n",
        "\n",
        "x = random.choice([2, 4, 8, 16])\n",
        "\n",
        "print(x)"
      ],
      "execution_count": null,
      "outputs": [
        {
          "output_type": "stream",
          "text": [
            "4\n"
          ],
          "name": "stdout"
        }
      ]
    },
    {
      "cell_type": "markdown",
      "metadata": {
        "id": "_j2nLzB6wolW",
        "colab_type": "text"
      },
      "source": [
        "### Random Distribution\n",
        "A random distribution is a set of random numbers that each have a set probability of being selected. A very commonly known example of a random distribution is a 6-sided die. Each number from 1-6, has a certain probability of being rolled but they are all independent and random. One roll will not affect the next in any way.\n",
        "\n",
        "We can generate random numbers based on defined probabilities using the choice() method of the random module. The choice() method allows us to explicitly set the probability for each value."
      ]
    },
    {
      "cell_type": "code",
      "metadata": {
        "id": "1KH0-9ZgxMec",
        "colab_type": "code",
        "colab": {
          "base_uri": "https://localhost:8080/",
          "height": 35
        },
        "outputId": "3ae50199-baa9-4dcf-d9a9-5abf63d10bb6"
      },
      "source": [
        "# Create an array of 20 randomly selected numbers from 4 choices. Each choice has a certain chance of being chosen.\n",
        "from numpy import random\n",
        "\n",
        "x = random.choice([2, 4, 8, 16], p=[0.2, 0.1, 0.3, 0.4], size=(20))\n",
        "\n",
        "# The sum of all probabilities in the p vector should be 1!\n",
        "\n",
        "print(x)"
      ],
      "execution_count": null,
      "outputs": [
        {
          "output_type": "stream",
          "text": [
            "[16  8  8  2  2  2 16 16 16  8  2 16 16  2  8 16 16  8  2  8]\n"
          ],
          "name": "stdout"
        }
      ]
    },
    {
      "cell_type": "markdown",
      "metadata": {
        "id": "RTYrEFzGG6cH",
        "colab_type": "text"
      },
      "source": [
        "### Universal Functions *\n"
      ]
    },
    {
      "cell_type": "markdown",
      "metadata": {
        "id": "4WBBCC4gYAcW",
        "colab_type": "text"
      },
      "source": [
        "Universal functions are built-in NumPy methods that work on NumPy arrya objects, or *ndarrays*. The way you normally iterate through elements in an array is through some sort of loop, but universal functions, or ufuncs, iterate through a process called **vectorization**. This is a much faster, more efficient way of iterating that makes better use of modern CPU's capabilities. We'll discuss some if the most popular, and commonly used ufuncs here."
      ]
    },
    {
      "cell_type": "markdown",
      "metadata": {
        "id": "as862X-YdcKW",
        "colab_type": "text"
      },
      "source": [
        "### Summations"
      ]
    },
    {
      "cell_type": "code",
      "metadata": {
        "id": "4niG48Swd0jT",
        "colab_type": "code",
        "colab": {
          "base_uri": "https://localhost:8080/",
          "height": 35
        },
        "outputId": "97b20b30-5515-4e37-ca70-245ded22079c"
      },
      "source": [
        "# Sums up all the elements in arr1 \n",
        "# and then adds the result to the\n",
        "# sum of all elements in arr2\n",
        "import numpy as np\n",
        "\n",
        "arr1 = np.array([10,20,20])\n",
        "arr2 = np.array([5,15,30])\n",
        "\n",
        "# The arrays need to be the same length!\n",
        "\n",
        "newarr = np.sum([arr1, arr2])\n",
        "\n",
        "print(newarr)"
      ],
      "execution_count": null,
      "outputs": [
        {
          "output_type": "stream",
          "text": [
            "100\n"
          ],
          "name": "stdout"
        }
      ]
    },
    {
      "cell_type": "markdown",
      "metadata": {
        "id": "IuuIcEsZefQz",
        "colab_type": "text"
      },
      "source": [
        "#### Axes in Summation\n",
        "The sum function in NumPy has additional arguments that you can pass to it. One of them is the `axis` argument. Depending on the value of `axis` that you set, you can either sum up arrays row-wise or column-wise. In the case of 1D arrays, you can only sum row-wise whereas column-wise summations apply to matrices and other higher dimension arrays."
      ]
    },
    {
      "cell_type": "code",
      "metadata": {
        "id": "MkCGff9KfftL",
        "colab_type": "code",
        "colab": {
          "base_uri": "https://localhost:8080/",
          "height": 35
        },
        "outputId": "6306eb46-6532-4c92-916d-82baf2fc20ef"
      },
      "source": [
        "# Sum up each array row wise and\n",
        "# create a new array with the results\n",
        "\n",
        "import numpy as np\n",
        "\n",
        "arr1 = np.array([10, 30, 50])\n",
        "arr2 = np.array([20, 40, 60])\n",
        "\n",
        "newarr = np.sum([arr1, arr2], axis=1)\n",
        "\n",
        "print(newarr)"
      ],
      "execution_count": null,
      "outputs": [
        {
          "output_type": "stream",
          "text": [
            "[ 90 120]\n"
          ],
          "name": "stdout"
        }
      ]
    },
    {
      "cell_type": "markdown",
      "metadata": {
        "id": "FQSsh8h9fzQq",
        "colab_type": "text"
      },
      "source": [
        "#### Cummulative Sums\n",
        "NumPy also allow you to perform cummulative sums on an array. Cummulative sums are where each element is summed with the previous elements. Here's an example."
      ]
    },
    {
      "cell_type": "code",
      "metadata": {
        "id": "NYgZT3x2gMf2",
        "colab_type": "code",
        "colab": {
          "base_uri": "https://localhost:8080/",
          "height": 35
        },
        "outputId": "971ce480-9dd7-4dc2-9662-2a6d423e6666"
      },
      "source": [
        "# Cummulative sum of an array\n",
        "import numpy as np\n",
        "\n",
        "arr = np.array([5,7,9,11,13])\n",
        "\n",
        "newarr = np.cumsum(arr)\n",
        "\n",
        "print(newarr)\n",
        "# The following array is [5,7+5,9+7+5,11+9+7+5,13+11+9+7+5]"
      ],
      "execution_count": null,
      "outputs": [
        {
          "output_type": "stream",
          "text": [
            "[ 5 12 21 32 45]\n"
          ],
          "name": "stdout"
        }
      ]
    },
    {
      "cell_type": "markdown",
      "metadata": {
        "id": "niOIpcIGiRoA",
        "colab_type": "text"
      },
      "source": [
        "# Introduction to Statistical Analysis"
      ]
    },
    {
      "cell_type": "markdown",
      "metadata": {
        "id": "6FAx6y0rKCbm",
        "colab_type": "text"
      },
      "source": [
        "Statistics plays a central part in data science and is practically it's foundation. As such, performing statistical analysis on data will be a routine part of any project you will be a part of. Since we've already covered the basics of NumPy, it would be prudent to discuss how to perform standard statistical operations on data using NumPy."
      ]
    },
    {
      "cell_type": "markdown",
      "metadata": {
        "id": "YXtCVSm1Klhi",
        "colab_type": "text"
      },
      "source": [
        "## Obtaining Min and Max\n"
      ]
    },
    {
      "cell_type": "code",
      "metadata": {
        "id": "OB00tgYCbQwj",
        "colab_type": "code",
        "colab": {
          "base_uri": "https://localhost:8080/",
          "height": 121
        },
        "outputId": "58b45f67-666a-407c-d291-91eb466d4f23"
      },
      "source": [
        "# Calculating minima\n",
        "\n",
        "import numpy as num \n",
        "\n",
        "num1 = 10\n",
        "num2 = 20\n",
        "\n",
        "arr1 = [1, 4, 10] \n",
        "arr2 = [2, 3, 20] \n",
        "\n",
        "print(arr1) \n",
        "print(arr2) \n",
        "\n",
        "min_1 = num.minimum(num1,num2) # Minimum of two numbers\n",
        "min_2 = num.minimum(arr1,arr2) # Creates an array with element-wise minima from arrays\n",
        "\n",
        "print(min_1)\n",
        "print(min_2)\n",
        "\n",
        "# Calculating maxima\n",
        "# Very similar\n",
        "\n",
        "max_1 = num.maximum(num1,num2) # Maximum of two numbers\n",
        "max_2 = num.maximum(arr1,arr2) # Creates an array with element-wise maxima from arrays\n",
        "\n",
        "print(max_1)\n",
        "print(max_2)"
      ],
      "execution_count": 7,
      "outputs": [
        {
          "output_type": "stream",
          "text": [
            "[1, 4, 10]\n",
            "[2, 3, 20]\n",
            "10\n",
            "[ 1  3 10]\n",
            "20\n",
            "[ 2  4 20]\n"
          ],
          "name": "stdout"
        }
      ]
    },
    {
      "cell_type": "markdown",
      "metadata": {
        "id": "d1XomtG-rPCR",
        "colab_type": "text"
      },
      "source": [
        "## Mean"
      ]
    },
    {
      "cell_type": "code",
      "metadata": {
        "id": "GkWdRbgbrWwm",
        "colab_type": "code",
        "colab": {
          "base_uri": "https://localhost:8080/",
          "height": 52
        },
        "outputId": "c173be3c-af27-4cc3-c144-d81f5f5ab46b"
      },
      "source": [
        "# Calculating the mean\n",
        "import numpy as num\n",
        "\n",
        "arr = [30, 1, 15, 28, 93] \n",
        "\n",
        "print(arr) \n",
        "print(\"MEAN : \", num.mean(arr)) \n",
        "\n"
      ],
      "execution_count": 8,
      "outputs": [
        {
          "output_type": "stream",
          "text": [
            "[30, 1, 15, 28, 93]\n",
            "MEAN :  33.4\n"
          ],
          "name": "stdout"
        }
      ]
    },
    {
      "cell_type": "markdown",
      "metadata": {
        "id": "T38YCmKHryx5",
        "colab_type": "text"
      },
      "source": [
        "## Median"
      ]
    },
    {
      "cell_type": "code",
      "metadata": {
        "id": "GfZIKjNer0x_",
        "colab_type": "code",
        "colab": {
          "base_uri": "https://localhost:8080/",
          "height": 52
        },
        "outputId": "2d697b98-d955-468b-95f4-f1f83ef519ca"
      },
      "source": [
        "# Calculating a median (odd or even)\n",
        "\t\n",
        "import numpy as num \n",
        "\t \n",
        "arr = [30, 1, 15, 28, 93] \n",
        "\n",
        "print(arr) \n",
        "print(\"MEDIAN: \", num.median(arr)) \n",
        "\n"
      ],
      "execution_count": 9,
      "outputs": [
        {
          "output_type": "stream",
          "text": [
            "[30, 1, 15, 28, 93]\n",
            "MEDIAN:  28.0\n"
          ],
          "name": "stdout"
        }
      ]
    },
    {
      "cell_type": "markdown",
      "metadata": {
        "id": "jsUl8ZrmsPEq",
        "colab_type": "text"
      },
      "source": [
        "## Variance"
      ]
    },
    {
      "cell_type": "code",
      "metadata": {
        "id": "MBztHCJasUZZ",
        "colab_type": "code",
        "colab": {
          "base_uri": "https://localhost:8080/",
          "height": 52
        },
        "outputId": "bd96b075-40b8-4041-d2b0-2800db1052c6"
      },
      "source": [
        "# Calculating the variance\n",
        "\n",
        "import numpy as num \n",
        "\n",
        "arr = [30, 1, 15, 28, 93] \n",
        "\n",
        "print(arr) \n",
        "print(\"VARIANCE : \", num.var(arr)) \n"
      ],
      "execution_count": 11,
      "outputs": [
        {
          "output_type": "stream",
          "text": [
            "[30, 1, 15, 28, 93]\n",
            "VARIANCE :  996.2400000000001\n"
          ],
          "name": "stdout"
        }
      ]
    },
    {
      "cell_type": "markdown",
      "metadata": {
        "id": "ukKoOKvys-2p",
        "colab_type": "text"
      },
      "source": [
        "## Standard Deviation"
      ]
    },
    {
      "cell_type": "code",
      "metadata": {
        "id": "v8-Kz2XrtLEu",
        "colab_type": "code",
        "colab": {
          "base_uri": "https://localhost:8080/",
          "height": 52
        },
        "outputId": "6ef09862-d0ef-4fbd-8e19-fd8fb7dd7ef7"
      },
      "source": [
        "# Calculating the standard deviation\n",
        "\n",
        "import numpy as num \n",
        "\n",
        "arr = [30, 1, 15, 28, 93] \n",
        "\n",
        "print(arr) \n",
        "print(\"STANDARD DEVIATION : \", num.std(arr)) "
      ],
      "execution_count": 12,
      "outputs": [
        {
          "output_type": "stream",
          "text": [
            "[30, 1, 15, 28, 93]\n",
            "STANDARD DEVIATION :  31.563269792592784\n"
          ],
          "name": "stdout"
        }
      ]
    },
    {
      "cell_type": "markdown",
      "metadata": {
        "id": "1_PfEXX6tsn9",
        "colab_type": "text"
      },
      "source": [
        "## Quantiles\n",
        "\n",
        "A qth quantile is a number where q% of the values in a distribution fall below that number. For instance, calculating a 33rd quantile means finding a number where a 1/3 of the values in a dataset are below it. "
      ]
    },
    {
      "cell_type": "code",
      "metadata": {
        "id": "6VyztH7GuTml",
        "colab_type": "code",
        "colab": {
          "base_uri": "https://localhost:8080/",
          "height": 104
        },
        "outputId": "0b096453-913a-4779-ee18-ce8b19bfa7cc"
      },
      "source": [
        "# Multiple quantile calculations\n",
        "\n",
        "import numpy as num\n",
        "\n",
        "arr = [30, 1, 15, 28, 93] \n",
        "\n",
        "print(arr) \n",
        "print(\"50th quantile of arr : \", num.quantile(arr, .50)) \n",
        "print(\"25th quantile of arr : \", num.quantile(arr, .25)) \n",
        "print(\"75th quantile of arr : \", num.quantile(arr, .75)) \n",
        "print(\"33rd quantile of arr : \", num.quantile(arr, .33)) \n",
        "\t\n"
      ],
      "execution_count": 15,
      "outputs": [
        {
          "output_type": "stream",
          "text": [
            "[30, 1, 15, 28, 93]\n",
            "50th quantile of arr :  28.0\n",
            "25th quantile of arr :  15.0\n",
            "75th quantile of arr :  30.0\n",
            "33rd quantile of arr :  19.16\n"
          ],
          "name": "stdout"
        }
      ]
    },
    {
      "cell_type": "markdown",
      "metadata": {
        "id": "t-wee-8xu56M",
        "colab_type": "text"
      },
      "source": [
        "## Covariance\n",
        "\n",
        "Sometimes you have two or more variables in your data set and would like to know how they vary together as the values change. You can measure that using covariance.\n",
        "\n",
        "- If cov(x,y) = 0 then variables are uncorrelated\n",
        "- If cov(x,y) > 0 then variables are positively correlated\n",
        "- If cov(x,y) < 0 then variables are negatively correlated"
      ]
    },
    {
      "cell_type": "code",
      "metadata": {
        "id": "bqLb5JtLv0a3",
        "colab_type": "code",
        "colab": {
          "base_uri": "https://localhost:8080/",
          "height": 87
        },
        "outputId": "53031e99-3b54-4641-8205-13c1c17a89ab"
      },
      "source": [
        "# Covariance between multiple arrays\n",
        "\n",
        "import numpy as num \n",
        "\n",
        "# An array of 3 variables with 5 possible values for each\n",
        "x = num.array([ [0.1, 0.3, 0.4, 0.8, 0.9],\n",
        "               [3.2, 2.4, 2.4, 0.1, 5.5],\n",
        "               [10., 8.2, 4.3, 2.6, 0.9]\n",
        "             ])\n",
        "print(\"Covariance matrix:\\n\", num.cov(x)) \n"
      ],
      "execution_count": 23,
      "outputs": [
        {
          "output_type": "stream",
          "text": [
            "Covariance matrix:\n",
            " [[ 0.115   0.0575 -1.2325]\n",
            " [ 0.0575  3.757  -0.8775]\n",
            " [-1.2325 -0.8775 14.525 ]]\n"
          ],
          "name": "stdout"
        }
      ]
    },
    {
      "cell_type": "markdown",
      "metadata": {
        "id": "O5C_7h8nyPTA",
        "colab_type": "text"
      },
      "source": [
        "### Interpretation of Covariance Matrix\n",
        "\n",
        "The main diagonal (C_ii) are the variances for each variable. 0.115 is the variance for var_1, 3.757 for var_2, and 14.525 for var_3. The other values in the matrix tell us the direction of correlation between the other variables. For instance, -1.325 is the covariance between var_1 and var_3, and we can see that there is a negative correlation. That is, as one values for one increases, the values in the other decrease."
      ]
    },
    {
      "cell_type": "markdown",
      "metadata": {
        "id": "5XMXE4cazK4a",
        "colab_type": "text"
      },
      "source": [
        "## Cross-Correlation\n",
        "\n",
        "A very similar statistic to covariance that we can calculate is the cross-correlation between variables. While covariance can only reliably tell us the direction of correlation, cross-correlation can also tell us the strength of this correlation."
      ]
    },
    {
      "cell_type": "code",
      "metadata": {
        "id": "rtRsF3F9z0uZ",
        "colab_type": "code",
        "colab": {
          "base_uri": "https://localhost:8080/",
          "height": 52
        },
        "outputId": "7aa3abfe-e7eb-40e2-b370-71c073fd583f"
      },
      "source": [
        "import numpy as num\n",
        "\n",
        "num.random.seed(30)\n",
        "\n",
        "# 100 random integers between 0 and 75\n",
        "x = num.random.randint(0, 75, 100)\n",
        "\n",
        "# Positive Correlation with some noise\n",
        "y = x + num.random.normal(0, 10, 100)\n",
        "\n",
        "num.corrcoef(x, y)\n",
        "\n",
        "# There is a VERY strong correlation between x and y here.\n",
        "# Correlations can be a min of 0 and a max of 1."
      ],
      "execution_count": 24,
      "outputs": [
        {
          "output_type": "execute_result",
          "data": {
            "text/plain": [
              "array([[1.        , 0.91523891],\n",
              "       [0.91523891, 1.        ]])"
            ]
          },
          "metadata": {
            "tags": []
          },
          "execution_count": 24
        }
      ]
    },
    {
      "cell_type": "code",
      "metadata": {
        "id": "9dRgES6s0T6C",
        "colab_type": "code",
        "colab": {
          "base_uri": "https://localhost:8080/",
          "height": 52
        },
        "outputId": "abe1d39c-5e5d-4665-a965-49d4734cd664"
      },
      "source": [
        "# Negative correlations\n",
        "\n",
        "import numpy as num\n",
        "\n",
        "num.random.seed(30)\n",
        "\n",
        "# 100 random integers between 0 and 75\n",
        "x = num.random.randint(0, 75, 100)\n",
        "\n",
        "# Positive Correlation with some noise\n",
        "y = 200 - x + num.random.normal(0, 10, 100)\n",
        "\n",
        "num.corrcoef(x, y)\n",
        "\n",
        "# Not as strong, but still a very prominent negative correlation between x and y here."
      ],
      "execution_count": 25,
      "outputs": [
        {
          "output_type": "execute_result",
          "data": {
            "text/plain": [
              "array([[ 1.        , -0.89798683],\n",
              "       [-0.89798683,  1.        ]])"
            ]
          },
          "metadata": {
            "tags": []
          },
          "execution_count": 25
        }
      ]
    },
    {
      "cell_type": "markdown",
      "metadata": {
        "id": "q4YTAE2104I9",
        "colab_type": "text"
      },
      "source": [
        "## Probability"
      ]
    },
    {
      "cell_type": "markdown",
      "metadata": {
        "id": "Cg8KaDn7054y",
        "colab_type": "text"
      },
      "source": [
        "## Hypothesis Tests"
      ]
    }
  ]
}