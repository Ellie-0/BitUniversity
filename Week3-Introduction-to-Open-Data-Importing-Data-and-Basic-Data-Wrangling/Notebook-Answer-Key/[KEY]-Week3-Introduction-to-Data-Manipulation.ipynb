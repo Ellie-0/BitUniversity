{
 "cells": [
  {
   "cell_type": "markdown",
   "metadata": {},
   "source": [
    "# Introduction to Data Manipulation\n",
    "- Loading files\n",
    "- 1.0 - Now Try This\n",
    "- 2.0 - Now Try This\n",
    "- 3.0 - Now Try This\n",
    "- 4.0 - Now Try This\n",
    "- 5.0 - Now Try This\n",
    "- 6.0 - Now Try This\n",
    "- 7.0 - Now Try This\n",
    "\n",
    "## Practical Exercise\n",
    "- Loading files\n",
    "- 8.0 - Now Try This\n",
    "- 9.0 - Now Try This\n",
    "- 10.0 - Now Try This\n",
    "- 11.0 - Now Try This"
   ]
  },
  {
   "cell_type": "markdown",
   "metadata": {},
   "source": [
    "## Loading files"
   ]
  },
  {
   "cell_type": "code",
   "execution_count": null,
   "metadata": {},
   "outputs": [],
   "source": [
    "import pandas as pd\n",
    "\n",
    "url = 'https://raw.githubusercontent.com/bitprj/DigitalHistory/master/Week3-Introduction-to-Open-Data-Importing-Data-and-Basic-Data-Wrangling/data/titanic-dataset.csv'\n",
    "df = pd.read_csv(url)\n",
    "df"
   ]
  },
  {
   "cell_type": "code",
   "execution_count": null,
   "metadata": {},
   "outputs": [],
   "source": [
    "df.set_index(keys='PassengerId', inplace=True)"
   ]
  },
  {
   "cell_type": "markdown",
   "metadata": {},
   "source": [
    "## 1.0 - Now Try This\n",
    "\n",
    "- Drop the rows that are missing any of the following columns: 'Pclass'\n",
    "- Update ```df```\n",
    "\n",
    "### Answer:"
   ]
  },
  {
   "cell_type": "code",
   "execution_count": null,
   "metadata": {},
   "outputs": [],
   "source": [
    "df.dropna(subset=['Pclass'], inplace=True)"
   ]
  },
  {
   "cell_type": "markdown",
   "metadata": {},
   "source": [
    "## 2.0 - Now Try This\n",
    "\n",
    "Select PassengerId, Survived, and Pclass with all rows.\n",
    "\n",
    "### Answer:"
   ]
  },
  {
   "cell_type": "code",
   "execution_count": null,
   "metadata": {},
   "outputs": [],
   "source": [
    "df.iloc[: , [0,1,2]]"
   ]
  },
  {
   "cell_type": "markdown",
   "metadata": {},
   "source": [
    "## 3.0 - Now Try This\n",
    "\n",
    "Select PassengerId, Survived, and Pclass with all rows.\n",
    "Please use semi-colon ```:``` this time.\n",
    "\n",
    "### Answer:"
   ]
  },
  {
   "cell_type": "code",
   "execution_count": null,
   "metadata": {},
   "outputs": [],
   "source": [
    "df.iloc[:, [0:3]]"
   ]
  },
  {
   "cell_type": "markdown",
   "metadata": {},
   "source": [
    "## 4.0 - Now Try This\n",
    "\n",
    "Select PassengerId, Survived, Sex, and Age.\n",
    "\n",
    "### Answer:"
   ]
  },
  {
   "cell_type": "code",
   "execution_count": null,
   "metadata": {},
   "outputs": [],
   "source": [
    "df[['Survived', 'Sex', 'Age']]"
   ]
  },
  {
   "cell_type": "markdown",
   "metadata": {},
   "source": [
    "## 5.0 - Now Try This\n",
    "\n",
    "Select the dataset that meet the following condition:\n",
    "- Pclass is not 1\n",
    "\n",
    "### Answer:"
   ]
  },
  {
   "cell_type": "code",
   "execution_count": null,
   "metadata": {},
   "outputs": [],
   "source": [
    "df.loc[(df['Pclass'] != 1)]"
   ]
  },
  {
   "cell_type": "markdown",
   "metadata": {},
   "source": [
    "## 6.0 - Now Try This\n",
    "\n",
    "Select the dataset that meet the following conditions:\n",
    "- Age is less than 10 \n",
    "- OR\n",
    "- Age is greater than 50\n",
    "\n",
    "Hint: Don't forget parenthesis!\n",
    "\n",
    "### Answer:"
   ]
  },
  {
   "cell_type": "code",
   "execution_count": null,
   "metadata": {},
   "outputs": [],
   "source": [
    "df.loc[(df['Age'] < 10) | (df['Age'] > 50)]"
   ]
  },
  {
   "cell_type": "markdown",
   "metadata": {},
   "source": [
    "## 7.0 - Now Try This\n",
    "\n",
    "Then, some of us might be curious:\n",
    "\n",
    "Would lower Pclass be more expensive or higher Pclass be more expensive?\n",
    "\n",
    "We can answer the question by calculating the mean fares for each class.\n",
    "\n",
    "**Calculate the mean fares for each Pclass!**\n",
    "\n",
    "### Answer:"
   ]
  },
  {
   "cell_type": "code",
   "execution_count": null,
   "metadata": {},
   "outputs": [],
   "source": [
    "df.groupby(['Pclass'])['Fare'].mean()"
   ]
  },
  {
   "cell_type": "markdown",
   "metadata": {},
   "source": [
    "# Practical Exercise\n",
    "\n",
    "## Loading files"
   ]
  },
  {
   "cell_type": "code",
   "execution_count": null,
   "metadata": {},
   "outputs": [],
   "source": [
    "url = 'https://raw.githubusercontent.com/bitprj/DigitalHistory/master/Week3-Introduction-to-Open-Data-Importing-Data-and-Basic-Data-Wrangling/data/acs2017_county_data.csv'\n",
    "df = pd.read_csv(url)\n",
    "df"
   ]
  },
  {
   "cell_type": "markdown",
   "metadata": {},
   "source": [
    "## 8.0 - Now Try This\n",
    "\n",
    "CountyId is a unique identifier for each county and state.\n",
    "- Set CountyId as an index.\n",
    "- Update df\n",
    "\n",
    "Hint: Use ```set_index``` and don't forget to update df\n",
    "\n",
    "### Answer:"
   ]
  },
  {
   "cell_type": "code",
   "execution_count": null,
   "metadata": {},
   "outputs": [],
   "source": [
    "df.set_index(keys='CountyId', inplace=True)"
   ]
  },
  {
   "cell_type": "markdown",
   "metadata": {},
   "source": [
    "### Total population by state\n",
    "\n",
    "Let's get total polution by state to select top 5 largest states by population.\n",
    "\n",
    "In order to calculate this, we need to group by state, and we will need to get ```sum``` of ```TotalPop```.\n",
    "\n",
    "## 9.0 - Now Try This\n",
    "- Calculate total population by state from ```df_emp```\n",
    "- Name the dataframe as ```state_pop```\n",
    "\n",
    "### Answer:"
   ]
  },
  {
   "cell_type": "code",
   "execution_count": null,
   "metadata": {},
   "outputs": [],
   "source": [
    "state_pop = df_emp.groupby(['State'])['TotalPop'].sum()"
   ]
  },
  {
   "cell_type": "markdown",
   "metadata": {},
   "source": [
    "### Total number of employees by state\n",
    "## 10.0 - Now Try This\n",
    "- Calculate the total number of employees by state\n",
    "- Sort by value\n",
    "- Write down the state with the highest number of employees and the state with the lowest number of employees.\n",
    "\n",
    "Hint: use ```groupby```\n",
    "\n",
    "### Answer:"
   ]
  },
  {
   "cell_type": "code",
   "execution_count": null,
   "metadata": {},
   "outputs": [],
   "source": [
    "five_states.groupby(['State'])['Employed'].sum().sort_values(ascending=False)"
   ]
  },
  {
   "cell_type": "markdown",
   "metadata": {},
   "source": [
    "## 11.0 - Now Try This\n",
    "\n",
    "### Step 1: Select california state only and save it as ```ca_transit```\n",
    "\n",
    "### Answer:"
   ]
  },
  {
   "cell_type": "code",
   "execution_count": null,
   "metadata": {},
   "outputs": [],
   "source": [
    "ca_transit = five_states.loc[five_states['State']=='California']"
   ]
  },
  {
   "cell_type": "markdown",
   "metadata": {},
   "source": [
    "### Step 2: Calculate ```sum``` of all transit modes by ```county``` in California.\n",
    "\n",
    "### Answer:"
   ]
  },
  {
   "cell_type": "code",
   "execution_count": null,
   "metadata": {},
   "outputs": [],
   "source": [
    "ca_transit.groupby(['County'])['Drive','Carpool','Transit','Walk','OtherTransp','WorkAtHome'].sum()"
   ]
  }
 ],
 "metadata": {
  "kernelspec": {
   "display_name": "Python 3",
   "language": "python",
   "name": "python3"
  },
  "language_info": {
   "codemirror_mode": {
    "name": "ipython",
    "version": 3
   },
   "file_extension": ".py",
   "mimetype": "text/x-python",
   "name": "python",
   "nbconvert_exporter": "python",
   "pygments_lexer": "ipython3",
   "version": "3.7.4"
  }
 },
 "nbformat": 4,
 "nbformat_minor": 2
}
