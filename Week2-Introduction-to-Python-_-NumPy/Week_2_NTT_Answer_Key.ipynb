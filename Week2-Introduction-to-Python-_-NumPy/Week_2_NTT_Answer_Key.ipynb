{
  "nbformat": 4,
  "nbformat_minor": 0,
  "metadata": {
    "colab": {
      "name": "Week 2 NTT Answer Key.ipynb",
      "provenance": [],
      "authorship_tag": "ABX9TyM1Bg5E9yAQoqNav3FLeVpe",
      "include_colab_link": true
    },
    "kernelspec": {
      "name": "python3",
      "display_name": "Python 3"
    }
  },
  "cells": [
    {
      "cell_type": "markdown",
      "metadata": {
        "id": "view-in-github",
        "colab_type": "text"
      },
      "source": [
        "<a href=\"https://colab.research.google.com/github/bitprj/DigitalHistory/blob/Atul/Week2-Introduction-to-Python-_-NumPy/Week_2_NTT_Answer_Key.ipynb\" target=\"_parent\"><img src=\"https://colab.research.google.com/assets/colab-badge.svg\" alt=\"Open In Colab\"/></a>"
      ]
    },
    {
      "cell_type": "markdown",
      "metadata": {
        "id": "x90qHJh7DzpF",
        "colab_type": "text"
      },
      "source": [
        "### 1.0 Now Try This"
      ]
    },
    {
      "cell_type": "code",
      "metadata": {
        "colab_type": "code",
        "id": "yNnTv2P2FNty",
        "colab": {
          "base_uri": "https://localhost:8080/",
          "height": 35
        },
        "outputId": "c97af020-ae1b-4f8d-fd34-47c14df9c5b9"
      },
      "source": [
        "s = 'Amsterdam'\n",
        "# Print out 'e' using indexing\n",
        "s[6]\n"
      ],
      "execution_count": null,
      "outputs": [
        {
          "output_type": "execute_result",
          "data": {
            "application/vnd.google.colaboratory.intrinsic+json": {
              "type": "string"
            },
            "text/plain": [
              "'d'"
            ]
          },
          "metadata": {
            "tags": []
          },
          "execution_count": 61
        }
      ]
    },
    {
      "cell_type": "code",
      "metadata": {
        "colab_type": "code",
        "id": "BdNWsi6rFNt3",
        "colab": {
          "base_uri": "https://localhost:8080/",
          "height": 35
        },
        "outputId": "03c8763f-4b0a-4c17-97e3-45fb3b87af85"
      },
      "source": [
        "s ='Amsterdam'\n",
        "# Reverse the string using slicing\n",
        "s[::-1]\n"
      ],
      "execution_count": null,
      "outputs": [
        {
          "output_type": "execute_result",
          "data": {
            "application/vnd.google.colaboratory.intrinsic+json": {
              "type": "string"
            },
            "text/plain": [
              "'madretsmA'"
            ]
          },
          "metadata": {
            "tags": []
          },
          "execution_count": 62
        }
      ]
    },
    {
      "cell_type": "code",
      "metadata": {
        "colab_type": "code",
        "id": "6_3_Xa4JFNt6",
        "colab": {
          "base_uri": "https://localhost:8080/",
          "height": 35
        },
        "outputId": "a6f60c56-945c-4eac-f842-3076318639fb"
      },
      "source": [
        "s ='Amsterdam'\n",
        "# Print out the 'm'\n",
        "\n",
        "# Method 1:\n",
        "s[8]\n"
      ],
      "execution_count": null,
      "outputs": [
        {
          "output_type": "execute_result",
          "data": {
            "application/vnd.google.colaboratory.intrinsic+json": {
              "type": "string"
            },
            "text/plain": [
              "'m'"
            ]
          },
          "metadata": {
            "tags": []
          },
          "execution_count": 63
        }
      ]
    },
    {
      "cell_type": "code",
      "metadata": {
        "colab_type": "code",
        "id": "PcZgTEG6FNt8",
        "colab": {
          "base_uri": "https://localhost:8080/",
          "height": 35
        },
        "outputId": "e5853c47-213a-4310-8a45-82ff982036b5"
      },
      "source": [
        "# Method 2:\n",
        "s[-1]\n"
      ],
      "execution_count": null,
      "outputs": [
        {
          "output_type": "execute_result",
          "data": {
            "application/vnd.google.colaboratory.intrinsic+json": {
              "type": "string"
            },
            "text/plain": [
              "'m'"
            ]
          },
          "metadata": {
            "tags": []
          },
          "execution_count": 64
        }
      ]
    },
    {
      "cell_type": "markdown",
      "metadata": {
        "id": "jlS7xu6QFvqJ",
        "colab_type": "text"
      },
      "source": [
        "### 2.0 Now Try This"
      ]
    },
    {
      "cell_type": "code",
      "metadata": {
        "id": "MqlviiGkEQt9",
        "colab_type": "code",
        "colab": {}
      },
      "source": [
        "# Method 1:\n",
        "[0]*3"
      ],
      "execution_count": null,
      "outputs": []
    },
    {
      "cell_type": "code",
      "metadata": {
        "id": "oTcMzYeUEQuA",
        "colab_type": "code",
        "colab": {}
      },
      "source": [
        "# Method 2:\n",
        "list2 = [0,0,0]\n",
        "list2"
      ],
      "execution_count": null,
      "outputs": []
    },
    {
      "cell_type": "code",
      "metadata": {
        "id": "BuT0NampEQuE",
        "colab_type": "code",
        "colab": {}
      },
      "source": [
        "list3 = [1,2,[3,4,'hello']]"
      ],
      "execution_count": null,
      "outputs": []
    },
    {
      "cell_type": "code",
      "metadata": {
        "id": "SRvIQvBkEQuH",
        "colab_type": "code",
        "colab": {}
      },
      "source": [
        "list3[2][2] = 'goodbye'"
      ],
      "execution_count": null,
      "outputs": []
    },
    {
      "cell_type": "code",
      "metadata": {
        "id": "dpTlwOW1EQuM",
        "colab_type": "code",
        "colab": {}
      },
      "source": [
        "list3"
      ],
      "execution_count": null,
      "outputs": []
    },
    {
      "cell_type": "code",
      "metadata": {
        "id": "vfqpBEeXEQuQ",
        "colab_type": "code",
        "colab": {}
      },
      "source": [
        "list4 = [5,3,4,6,1]"
      ],
      "execution_count": null,
      "outputs": []
    },
    {
      "cell_type": "code",
      "metadata": {
        "id": "6q5UooRzEQuS",
        "colab_type": "code",
        "colab": {}
      },
      "source": [
        "# Method 1:\n",
        "sorted(list4)"
      ],
      "execution_count": null,
      "outputs": []
    },
    {
      "cell_type": "code",
      "metadata": {
        "id": "wTT-AHaWEQuV",
        "colab_type": "code",
        "colab": {}
      },
      "source": [
        "# Method 2:\n",
        "list4.sort()\n",
        "list4"
      ],
      "execution_count": null,
      "outputs": []
    },
    {
      "cell_type": "markdown",
      "metadata": {
        "id": "GavPLpw0GjP_",
        "colab_type": "text"
      },
      "source": [
        "### 3.0 Now Try This"
      ]
    },
    {
      "cell_type": "markdown",
      "metadata": {
        "id": "8S8lcU6aEQut",
        "colab_type": "text"
      },
      "source": [
        "What is the major difference between tuples and lists?"
      ]
    },
    {
      "cell_type": "markdown",
      "metadata": {
        "id": "m-cC_aPgEQut",
        "colab_type": "text"
      },
      "source": [
        "**Tuples are immutable!**"
      ]
    },
    {
      "cell_type": "markdown",
      "metadata": {
        "id": "qa4362KuEQuu",
        "colab_type": "text"
      },
      "source": [
        "How do you create a tuple?"
      ]
    },
    {
      "cell_type": "code",
      "metadata": {
        "id": "ojk-1uzGEQuu",
        "colab_type": "code",
        "colab": {}
      },
      "source": [
        "t = (1,2,3) # An example"
      ],
      "execution_count": null,
      "outputs": []
    },
    {
      "cell_type": "markdown",
      "metadata": {
        "id": "jljY3mE2G-oX",
        "colab_type": "text"
      },
      "source": [
        "### 4.0 Now Try This\n"
      ]
    },
    {
      "cell_type": "code",
      "metadata": {
        "id": "N6cguzY4EQuY",
        "colab_type": "code",
        "colab": {}
      },
      "source": [
        "d = {'simple_key':'hello'}\n",
        "# Grab 'hello'\n",
        "\n",
        "d['simple_key']"
      ],
      "execution_count": null,
      "outputs": []
    },
    {
      "cell_type": "code",
      "metadata": {
        "id": "b_zRlNFbEQua",
        "colab_type": "code",
        "colab": {}
      },
      "source": [
        "d = {'k1':{'k2':'hello'}}\n",
        "# Grab 'hello'\n",
        "\n",
        "d['k1']['k2']"
      ],
      "execution_count": null,
      "outputs": []
    },
    {
      "cell_type": "code",
      "metadata": {
        "id": "1WB_raEmEQuf",
        "colab_type": "code",
        "colab": {}
      },
      "source": [
        "# Getting a little tricker\n",
        "d = {'k1':[{'nest_key':['this is deep',['hello']]}]}"
      ],
      "execution_count": null,
      "outputs": []
    },
    {
      "cell_type": "code",
      "metadata": {
        "id": "pvNEmoB1EQui",
        "colab_type": "code",
        "colab": {}
      },
      "source": [
        "d['k1'][0]['nest_key'][1][0]"
      ],
      "execution_count": null,
      "outputs": []
    },
    {
      "cell_type": "code",
      "metadata": {
        "id": "w4MrHkNKEQum",
        "colab_type": "code",
        "colab": {}
      },
      "source": [
        "# This will be hard and annoying!\n",
        "d = {'k1':[1,2,{'k2':['this is tricky',{'tough':[1,2,['hello']]}]}]}"
      ],
      "execution_count": null,
      "outputs": []
    },
    {
      "cell_type": "code",
      "metadata": {
        "id": "nAIQlXSbEQuo",
        "colab_type": "code",
        "colab": {}
      },
      "source": [
        "d['k1'][2]['k2'][1]['tough'][2][0]"
      ],
      "execution_count": null,
      "outputs": []
    },
    {
      "cell_type": "markdown",
      "metadata": {
        "id": "mD5GEzUlEQur",
        "colab_type": "text"
      },
      "source": [
        "Can you sort a dictionary? Why or why not?"
      ]
    },
    {
      "cell_type": "markdown",
      "metadata": {
        "id": "uLX9YMnXEQur",
        "colab_type": "text"
      },
      "source": [
        "No! Because normal dictionaries are *mappings* not a sequence."
      ]
    },
    {
      "cell_type": "markdown",
      "metadata": {
        "id": "K5hLnLVZJXXv",
        "colab_type": "text"
      },
      "source": [
        "### 5.0 Now Try This\n"
      ]
    },
    {
      "cell_type": "code",
      "metadata": {
        "colab_type": "code",
        "id": "6L-HJNeMKM3y",
        "colab": {}
      },
      "source": [
        "def cap_four(name):\n",
        "    new_name = name[0].upper() + name[1:3] + name[3].upper() + name[4:]\n",
        "    return new_name\n",
        "    "
      ],
      "execution_count": null,
      "outputs": []
    },
    {
      "cell_type": "code",
      "metadata": {
        "colab_type": "code",
        "id": "3ZZJ3QggKM31",
        "colab": {
          "base_uri": "https://localhost:8080/",
          "height": 35
        },
        "outputId": "04ec8377-bfde-43e6-d636-571eeaac3ca4"
      },
      "source": [
        "# Check\n",
        "cap_four('macdonald')"
      ],
      "execution_count": null,
      "outputs": [
        {
          "output_type": "execute_result",
          "data": {
            "application/vnd.google.colaboratory.intrinsic+json": {
              "type": "string"
            },
            "text/plain": [
              "'MacDonald'"
            ]
          },
          "metadata": {
            "tags": []
          },
          "execution_count": 66
        }
      ]
    },
    {
      "cell_type": "markdown",
      "metadata": {
        "id": "vaBOcf3wKmnq",
        "colab_type": "text"
      },
      "source": [
        "### 6.0 Now Try This"
      ]
    },
    {
      "cell_type": "code",
      "metadata": {
        "id": "d__CdNmYKcr_",
        "colab_type": "code",
        "colab": {
          "base_uri": "https://localhost:8080/",
          "height": 52
        },
        "outputId": "f3ed89d4-7cf2-4b74-b7e4-56cfdf863628"
      },
      "source": [
        "x = 5\n",
        "y = 0\n",
        "try:\n",
        "    z = x/y\n",
        "except ZeroDivisionError:\n",
        "    print(\"Can't divide by Zero!\")\n",
        "finally:\n",
        "    print('All Done!')"
      ],
      "execution_count": null,
      "outputs": [
        {
          "output_type": "stream",
          "text": [
            "Can't divide by Zero!\n",
            "All Done!\n"
          ],
          "name": "stdout"
        }
      ]
    }
  ]
}