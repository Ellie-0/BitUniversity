{
  "nbformat": 4,
  "nbformat_minor": 0,
  "metadata": {
    "colab": {
      "name": "Week 2 Homework SOLUTIONS.ipynb",
      "provenance": [],
      "collapsed_sections": [],
      "authorship_tag": "ABX9TyPFfAoTRxZa9SqR2PyT2A/L",
      "include_colab_link": true
    },
    "kernelspec": {
      "name": "python3",
      "display_name": "Python 3"
    }
  },
  "cells": [
    {
      "cell_type": "markdown",
      "metadata": {
        "id": "view-in-github",
        "colab_type": "text"
      },
      "source": [
        "<a href=\"https://colab.research.google.com/github/bitprj/DigitalHistory/blob/Atul/Week2-Introduction-to-Python-_-NumPy/Week_2_Homework_SOLUTIONS.ipynb\" target=\"_parent\"><img src=\"https://colab.research.google.com/assets/colab-badge.svg\" alt=\"Open In Colab\"/></a>"
      ]
    },
    {
      "cell_type": "markdown",
      "metadata": {
        "id": "zCRNgAGbbKAW",
        "colab_type": "text"
      },
      "source": [
        "## <div align = \"center\">Homework 2</div>\n",
        "# <div align = \"center\">Python</div>"
      ]
    },
    {
      "cell_type": "markdown",
      "metadata": {
        "id": "WG1wsQTKxuwr",
        "colab_type": "text"
      },
      "source": [
        "Welcome to Homework 2. In this homework you will be using techniques you learned throughout Week 2. The purpose of this homework is to ensure you've mastered the basics of Python. Feel free to refer to the cheatsheet while working through these problems."
      ]
    },
    {
      "cell_type": "markdown",
      "metadata": {
        "id": "Li4_EAjke2tV",
        "colab_type": "text"
      },
      "source": [
        "## Grading \n",
        "\n",
        "Every question in this homework is worth 2 points. There are a total of 10 questions."
      ]
    },
    {
      "cell_type": "markdown",
      "metadata": {
        "id": "JW9GwVepfBMX",
        "colab_type": "text"
      },
      "source": [
        "## Python Questions"
      ]
    },
    {
      "cell_type": "markdown",
      "metadata": {
        "id": "15L6zJGV05_C",
        "colab_type": "text"
      },
      "source": [
        "### Q1: Create a function that, when passed two integers, calculates their product. If the product is less than 5000, return the product else return the sum."
      ]
    },
    {
      "cell_type": "code",
      "metadata": {
        "id": "0r3G4ngt0mmz",
        "colab_type": "code",
        "colab": {
          "base_uri": "https://localhost:8080/",
          "height": 69
        },
        "outputId": "6f2c9d83-eeb7-4d48-af34-a80b2fabd0d5"
      },
      "source": [
        "def mult_or_sum(num1, num2):\n",
        "    product = num1 * num2\n",
        "    if product <= 5000:\n",
        "        return product\n",
        "    else:\n",
        "        return num1 + num2\n",
        "\n",
        "number1 = 30\n",
        "number2 = 400\n",
        "\n",
        "result = mult_or_sum(number1, number2)\n",
        "print(\"The result is\", result)"
      ],
      "execution_count": null,
      "outputs": [
        {
          "output_type": "stream",
          "text": [
            "\n",
            "\n",
            "The result is 430\n"
          ],
          "name": "stdout"
        }
      ]
    },
    {
      "cell_type": "markdown",
      "metadata": {
        "id": "rMb_uEWs2cdP",
        "colab_type": "text"
      },
      "source": [
        "### Q2: Given a range of numbers from 0-19, Iterate from start to end and print the sum of the current number and previous number."
      ]
    },
    {
      "cell_type": "code",
      "metadata": {
        "id": "AnI_ngnG1trT",
        "colab_type": "code",
        "colab": {
          "base_uri": "https://localhost:8080/",
          "height": 364
        },
        "outputId": "167ada25-5190-4ade-9941-9eef28874f01"
      },
      "source": [
        "def sumNum(num):\n",
        "    previousNum = 0\n",
        "    for i in range(num):\n",
        "        sum = previousNum + i\n",
        "        print(sum)\n",
        "        previousNum = i\n",
        "\n",
        "sumNum(20)"
      ],
      "execution_count": null,
      "outputs": [
        {
          "output_type": "stream",
          "text": [
            "0\n",
            "1\n",
            "3\n",
            "5\n",
            "7\n",
            "9\n",
            "11\n",
            "13\n",
            "15\n",
            "17\n",
            "19\n",
            "21\n",
            "23\n",
            "25\n",
            "27\n",
            "29\n",
            "31\n",
            "33\n",
            "35\n",
            "37\n"
          ],
          "name": "stdout"
        }
      ]
    },
    {
      "cell_type": "markdown",
      "metadata": {
        "id": "m5io1xVi3i0y",
        "colab_type": "text"
      },
      "source": [
        "### Q3: Given a string, display only the characters in odd indices."
      ]
    },
    {
      "cell_type": "code",
      "metadata": {
        "id": "QyRFNxCv3Dkx",
        "colab_type": "code",
        "colab": {
          "base_uri": "https://localhost:8080/",
          "height": 139
        },
        "outputId": "0f593aed-9d59-486e-8fc3-8000288a9798"
      },
      "source": [
        "def printOddIndices(str):\n",
        "  for i in range(1, len(str)-1, 2):\n",
        "    print(str[i])\n",
        "\n",
        "inputStr = \"python wizard\" \n",
        "\n",
        "print(\"Printing only odd index chars\")\n",
        "printOddIndices(inputStr)"
      ],
      "execution_count": null,
      "outputs": [
        {
          "output_type": "stream",
          "text": [
            "Printing only odd index chars\n",
            "y\n",
            "h\n",
            "n\n",
            "w\n",
            "z\n",
            "r\n"
          ],
          "name": "stdout"
        }
      ]
    },
    {
      "cell_type": "markdown",
      "metadata": {
        "id": "5Yvrb3HbAitb",
        "colab_type": "text"
      },
      "source": [
        "### Q4: Given two lists, create a third list by picking odd-index elements from the first list and even index elements from the second."
      ]
    },
    {
      "cell_type": "code",
      "metadata": {
        "id": "GhQkotRx-7cx",
        "colab_type": "code",
        "colab": {
          "base_uri": "https://localhost:8080/",
          "height": 69
        },
        "outputId": "0976dd57-9105-42f6-a0d1-f300bdcaa118"
      },
      "source": [
        "listOne = [5, 3, 7, 52, 12, 78, 93]\n",
        "listTwo = [7, 17, 9, 39, 19, 94, 81]\n",
        "listThree = list()\n",
        "\n",
        "oddElements = listOne[1::2]\n",
        "print(oddElements)\n",
        "\n",
        "EvenElement = listTwo[0::2]\n",
        "print(EvenElement)\n",
        "\n",
        "listThree.extend(oddElements)\n",
        "listThree.extend(EvenElement)\n",
        "print(listThree)"
      ],
      "execution_count": null,
      "outputs": [
        {
          "output_type": "stream",
          "text": [
            "[3, 52, 78]\n",
            "[7, 9, 19, 81]\n",
            "[3, 52, 78, 7, 9, 19, 81]\n"
          ],
          "name": "stdout"
        }
      ]
    },
    {
      "cell_type": "markdown",
      "metadata": {
        "id": "C_bpCOmiCnib",
        "colab_type": "text"
      },
      "source": [
        "### Q5: Given a list slice it into a 3 equal chunks and reverse each list.\n",
        "\n",
        "EXPECTED OUTPUT:\n",
        "Chunk  1 [91, 52, 84]\n",
        "\n",
        "After reversing it  [84, 52, 91]\n",
        "\n",
        "Chunk  2 [5, 92, 85]\n",
        "\n",
        "After reversing it  [85, 92, 5]\n",
        "\n",
        "Chunk  3 [27, 48, 30]\n",
        "\n",
        "After reversing it  [30, 48, 27]"
      ]
    },
    {
      "cell_type": "code",
      "metadata": {
        "id": "EGcW9rndBj_-",
        "colab_type": "code",
        "colab": {
          "base_uri": "https://localhost:8080/",
          "height": 121
        },
        "outputId": "ce0ce691-a1c6-41f5-b4ae-2b4933883d95"
      },
      "source": [
        "vec = [91, 52, 84, 5, 92, 85, 27, 48, 30]\n",
        "\n",
        "length = len(vec)\n",
        "chunkSize  = int(length/3)\n",
        "start = 0\n",
        "end = chunkSize\n",
        "\n",
        "for i in range(1, 4, 1):\n",
        "  indices = slice(start, end, 1)\n",
        "  chunk = vec[indices]\n",
        "  print(\"Chunk \", i , chunk)\n",
        "  print(\"After reversing it \", list(reversed(chunk)))\n",
        "  start = end\n",
        "  if(i != 2):\n",
        "    end += chunkSize\n",
        "  else:\n",
        "    end += length - chunkSize"
      ],
      "execution_count": null,
      "outputs": [
        {
          "output_type": "stream",
          "text": [
            "Chunk  1 [91, 52, 84]\n",
            "After reversing it  [84, 52, 91]\n",
            "Chunk  2 [5, 92, 85]\n",
            "After reversing it  [85, 92, 5]\n",
            "Chunk  3 [27, 48, 30]\n",
            "After reversing it  [30, 48, 27]\n"
          ],
          "name": "stdout"
        }
      ]
    },
    {
      "cell_type": "markdown",
      "metadata": {
        "id": "2U3NL0TyDSlL",
        "colab_type": "text"
      },
      "source": [
        "### Q6: Given a list, iterate it, count the occurrence of each element and then create a dictionary to display the count of each element."
      ]
    },
    {
      "cell_type": "code",
      "metadata": {
        "id": "UO7cBDAkCv1i",
        "colab_type": "code",
        "colab": {
          "base_uri": "https://localhost:8080/",
          "height": 52
        },
        "outputId": "729d24f8-7f03-45f8-b255-5cf59e617db5"
      },
      "source": [
        "vec = [11, 45, 8, 11, 23, 45, 23, 45, 89]\n",
        "print(\"Original list \", vec)\n",
        "\n",
        "countDict = dict()\n",
        "for item in vec:\n",
        "  if(item in countDict):\n",
        "    countDict[item] += 1\n",
        "  else:\n",
        "    countDict[item] = 1\n",
        "  \n",
        "print(\"Count of each item  \",countDict)"
      ],
      "execution_count": null,
      "outputs": [
        {
          "output_type": "stream",
          "text": [
            "Original list  [11, 45, 8, 11, 23, 45, 23, 45, 89]\n",
            "Count of each item   {11: 2, 45: 3, 8: 1, 23: 2, 89: 1}\n"
          ],
          "name": "stdout"
        }
      ]
    },
    {
      "cell_type": "markdown",
      "metadata": {
        "id": "W9XZAI4nDtcn",
        "colab_type": "text"
      },
      "source": [
        "### Q7: Print this pattern.\n",
        "1 \n",
        "\n",
        "1 2 \n",
        "\n",
        "1 2 3 \n",
        "\n",
        "1 2 3 4 \n",
        "\n",
        "1 2 3 4 5 \n",
        "\n",
        "1 2 3 4 5 6 \n",
        "\n",
        "1 2 3 4 5 6 7 \n",
        "\n",
        "1 2 3 4 5 6 7 8 \n",
        "\n",
        "1 2 3 4 5 6 7 8 9 \n",
        "\n",
        "1 2 3 4 5 6 7 8 9 10 "
      ]
    },
    {
      "cell_type": "code",
      "metadata": {
        "id": "L2tN4Np7Dkkf",
        "colab_type": "code",
        "colab": {
          "base_uri": "https://localhost:8080/",
          "height": 191
        },
        "outputId": "bdcfa2c9-c435-4142-8d9e-45392e44d219"
      },
      "source": [
        "lastNumber = 11\n",
        "for row in range(1, lastNumber):\n",
        "    for column in range(1, row + 1):\n",
        "        print(column, end=' ')\n",
        "    print(\"\")"
      ],
      "execution_count": null,
      "outputs": [
        {
          "output_type": "stream",
          "text": [
            "1 \n",
            "1 2 \n",
            "1 2 3 \n",
            "1 2 3 4 \n",
            "1 2 3 4 5 \n",
            "1 2 3 4 5 6 \n",
            "1 2 3 4 5 6 7 \n",
            "1 2 3 4 5 6 7 8 \n",
            "1 2 3 4 5 6 7 8 9 \n",
            "1 2 3 4 5 6 7 8 9 10 \n"
          ],
          "name": "stdout"
        }
      ]
    },
    {
      "cell_type": "markdown",
      "metadata": {
        "id": "t_JIizYnENBV",
        "colab_type": "text"
      },
      "source": [
        "### Q8: Given a number, count the total number of digits and display it."
      ]
    },
    {
      "cell_type": "code",
      "metadata": {
        "id": "xnHeu3JmEHcH",
        "colab_type": "code",
        "colab": {
          "base_uri": "https://localhost:8080/",
          "height": 35
        },
        "outputId": "5365b278-41b3-4d81-beca-ddb601d1151f"
      },
      "source": [
        "num = 123456\n",
        "count = 0\n",
        "while num != 0:\n",
        "    num //= 10\n",
        "    count+= 1\n",
        "print(\"Total digits are: \", count)"
      ],
      "execution_count": null,
      "outputs": [
        {
          "output_type": "stream",
          "text": [
            "Total digits are:  6\n"
          ],
          "name": "stdout"
        }
      ]
    },
    {
      "cell_type": "markdown",
      "metadata": {
        "id": "lBl3EGuZErbG",
        "colab_type": "text"
      },
      "source": [
        "### Q9: Given two strings, create a new string by appending the second string in the middle of the first one.\n",
        "\n",
        "EXPECTED OUTPUT:\n",
        "\n",
        "Original Strings are:  Shila angr\n",
        "\n",
        "After appending new string in middle:  Shangrila"
      ]
    },
    {
      "cell_type": "code",
      "metadata": {
        "id": "YNXmyGwXEcl-",
        "colab_type": "code",
        "colab": {
          "base_uri": "https://localhost:8080/",
          "height": 52
        },
        "outputId": "8dad48b4-1843-47ed-9b97-da23ac7d1e45"
      },
      "source": [
        "def appendMiddle(s1, s2):\n",
        "  middleIndex = int(len(s1) /2)\n",
        "  print(\"Original Strings are: \", s1, s2)\n",
        "  middleThree = s1[:middleIndex:]+ s2 +s1[middleIndex:]\n",
        "  print(\"After appending new string in middle: \", middleThree)\n",
        "  \n",
        "appendMiddle(\"Shila\", \"angr\")"
      ],
      "execution_count": null,
      "outputs": [
        {
          "output_type": "stream",
          "text": [
            "Original Strings are:  Shila angr\n",
            "After appending new string in middle:  Shangrila\n"
          ],
          "name": "stdout"
        }
      ]
    },
    {
      "cell_type": "markdown",
      "metadata": {
        "id": "dJZzZVv-F0K0",
        "colab_type": "text"
      },
      "source": [
        "### Q10: Rearrange a string such that lowercase letters come first."
      ]
    },
    {
      "cell_type": "code",
      "metadata": {
        "id": "gF3N1DSXFm8C",
        "colab_type": "code",
        "colab": {
          "base_uri": "https://localhost:8080/",
          "height": 52
        },
        "outputId": "85b6a33b-aa8a-42cd-a494-5c02547794f5"
      },
      "source": [
        "string_one = \"SpOnGeBoB\"\n",
        "lower = []\n",
        "upper = []\n",
        "for char in string_one:\n",
        "    if char.islower():\n",
        "        lower.append(char)\n",
        "    else:\n",
        "        upper.append(char)\n",
        "sorted_string = ''.join(lower + upper)\n",
        "print(\"arranging characters giving precedence to lowercase letters:\")\n",
        "print(sorted_string)"
      ],
      "execution_count": null,
      "outputs": [
        {
          "output_type": "stream",
          "text": [
            "arranging characters giving precedence to lowercase letters:\n",
            "pneoSOGBB\n"
          ],
          "name": "stdout"
        }
      ]
    }
  ]
}