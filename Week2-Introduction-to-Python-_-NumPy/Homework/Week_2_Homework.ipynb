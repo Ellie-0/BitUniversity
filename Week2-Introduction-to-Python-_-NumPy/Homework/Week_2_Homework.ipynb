{
  "nbformat": 4,
  "nbformat_minor": 0,
  "metadata": {
    "colab": {
      "name": "Week 2 Homework.ipynb",
      "provenance": [],
      "collapsed_sections": [],
      "include_colab_link": true
    },
    "kernelspec": {
      "name": "python3",
      "display_name": "Python 3"
    }
  },
  "cells": [
    {
      "cell_type": "markdown",
      "metadata": {
        "id": "view-in-github",
        "colab_type": "text"
      },
      "source": [
        "<a href=\"https://colab.research.google.com/github/bitprj/DigitalHistory/blob/master/Week2-Introduction-to-Python-_-NumPy/Homework/Week_2_Homework.ipynb\" target=\"_parent\"><img src=\"https://colab.research.google.com/assets/colab-badge.svg\" alt=\"Open In Colab\"/></a>"
      ]
    },
    {
      "cell_type": "markdown",
      "metadata": {
        "id": "zCRNgAGbbKAW",
        "colab_type": "text"
      },
      "source": [
        "## <div align = \"center\">Homework 2</div>\n",
        "\n"
      ]
    },
    {
      "cell_type": "markdown",
      "metadata": {
        "id": "uVvE-ylKyeh2",
        "colab_type": "text"
      },
      "source": [
        "# <div align = \"center\">Python</div>"
      ]
    },
    {
      "cell_type": "markdown",
      "metadata": {
        "id": "WG1wsQTKxuwr",
        "colab_type": "text"
      },
      "source": [
        "Welcome to Homework 2. In this homework you will be using techniques you learned throughout Week 2. The purpose of this homework is to ensure you've mastered the basics of Python. Feel free to refer to the cheatsheet while working through these problems."
      ]
    },
    {
      "cell_type": "markdown",
      "metadata": {
        "id": "Li4_EAjke2tV",
        "colab_type": "text"
      },
      "source": [
        "## Grading \n",
        "\n",
        "Every question in this homework is worth 2 points. There are a total of 10 questions."
      ]
    },
    {
      "cell_type": "markdown",
      "metadata": {
        "id": "JW9GwVepfBMX",
        "colab_type": "text"
      },
      "source": [
        "## Python Questions"
      ]
    },
    {
      "cell_type": "markdown",
      "metadata": {
        "id": "15L6zJGV05_C",
        "colab_type": "text"
      },
      "source": [
        "### Q1: Create a function that, when passed two integers, calculates their product. If the product is less than 5000, return the product else return the sum."
      ]
    },
    {
      "cell_type": "code",
      "metadata": {
        "id": "0r3G4ngt0mmz",
        "colab_type": "code",
        "colab": {}
      },
      "source": [
        "# INSERT CODE HERE\n",
        "\n",
        "number1 = 30\n",
        "number2 = 400\n",
        "\n",
        "result = # INSERT CODE HERE\n",
        "print(\"The result is \", result)"
      ],
      "execution_count": null,
      "outputs": []
    },
    {
      "cell_type": "markdown",
      "metadata": {
        "id": "rMb_uEWs2cdP",
        "colab_type": "text"
      },
      "source": [
        "### Q2: Given a range of numbers from 0-19, Iterate from start to end and print the sum of the current number and previous number."
      ]
    },
    {
      "cell_type": "code",
      "metadata": {
        "id": "AnI_ngnG1trT",
        "colab_type": "code",
        "colab": {}
      },
      "source": [
        "def sumNum(num):\n",
        "  # INSERT CODE HERE\n",
        "\n",
        "sumNum(20)"
      ],
      "execution_count": null,
      "outputs": []
    },
    {
      "cell_type": "markdown",
      "metadata": {
        "id": "m5io1xVi3i0y",
        "colab_type": "text"
      },
      "source": [
        "### Q3: Given a string, display only the characters in odd indices."
      ]
    },
    {
      "cell_type": "code",
      "metadata": {
        "id": "QyRFNxCv3Dkx",
        "colab_type": "code",
        "colab": {}
      },
      "source": [
        "def printOddIndices(str):\n",
        "  # INSERT CODE HERE\n",
        "\n",
        "inputStr = \"python wizard\" \n",
        "\n",
        "print(\"Printing only odd index chars\")\n",
        "printOddIndices(inputStr)"
      ],
      "execution_count": null,
      "outputs": []
    },
    {
      "cell_type": "markdown",
      "metadata": {
        "id": "5Yvrb3HbAitb",
        "colab_type": "text"
      },
      "source": [
        "### Q4: Given two lists, create a third list by picking odd-index elements from the first list and even index elements from the second."
      ]
    },
    {
      "cell_type": "code",
      "metadata": {
        "id": "GhQkotRx-7cx",
        "colab_type": "code",
        "colab": {}
      },
      "source": [
        "# INSERT CODE HERE"
      ],
      "execution_count": null,
      "outputs": []
    },
    {
      "cell_type": "markdown",
      "metadata": {
        "id": "C_bpCOmiCnib",
        "colab_type": "text"
      },
      "source": [
        "### Q5: Given a list slice it into a 3 equal chunks and reverse each list. You can assume the list will have a length evenly divisible by 3.\n",
        "\n",
        "EXPECTED OUTPUT:\n",
        "Chunk  1 [91, 52, 84]\n",
        "\n",
        "After reversing it  [84, 52, 91]\n",
        "\n",
        "Chunk  2 [5, 92, 85]\n",
        "\n",
        "After reversing it  [85, 92, 5]\n",
        "\n",
        "Chunk  3 [27, 48, 30]\n",
        "\n",
        "After reversing it  [30, 48, 27]"
      ]
    },
    {
      "cell_type": "code",
      "metadata": {
        "id": "EGcW9rndBj_-",
        "colab_type": "code",
        "colab": {}
      },
      "source": [
        "# INSERT CODE HERE"
      ],
      "execution_count": null,
      "outputs": []
    },
    {
      "cell_type": "markdown",
      "metadata": {
        "id": "2U3NL0TyDSlL",
        "colab_type": "text"
      },
      "source": [
        "### Q6: Given a list, iterate it, count the occurrence of each element and then create a dictionary to display the count of each element.\n",
        "\n",
        "EXPECTED OUTPUT:\n",
        "\n",
        "Original list  [11, 45, 8, 11, 23, 45, 23, 45, 89]\n",
        "\n",
        "Count of each item   {11: 2, 45: 3, 8: 1, 23: 2, 89: 1}"
      ]
    },
    {
      "cell_type": "code",
      "metadata": {
        "id": "UO7cBDAkCv1i",
        "colab_type": "code",
        "colab": {}
      },
      "source": [
        "# INSERT CODE HERE"
      ],
      "execution_count": null,
      "outputs": []
    },
    {
      "cell_type": "markdown",
      "metadata": {
        "id": "W9XZAI4nDtcn",
        "colab_type": "text"
      },
      "source": [
        "### Q7: Print this pattern.\n",
        "1 \n",
        "\n",
        "1 2 \n",
        "\n",
        "1 2 3 \n",
        "\n",
        "1 2 3 4 \n",
        "\n",
        "1 2 3 4 5 \n",
        "\n",
        "1 2 3 4 5 6 \n",
        "\n",
        "1 2 3 4 5 6 7 \n",
        "\n",
        "1 2 3 4 5 6 7 8 \n",
        "\n",
        "1 2 3 4 5 6 7 8 9 \n",
        "\n",
        "1 2 3 4 5 6 7 8 9 10 "
      ]
    },
    {
      "cell_type": "code",
      "metadata": {
        "id": "L2tN4Np7Dkkf",
        "colab_type": "code",
        "colab": {}
      },
      "source": [
        "# INSERT CODE HERE"
      ],
      "execution_count": null,
      "outputs": []
    },
    {
      "cell_type": "markdown",
      "metadata": {
        "id": "t_JIizYnENBV",
        "colab_type": "text"
      },
      "source": [
        "### Q8: Given a number, count the total number of digits and display it."
      ]
    },
    {
      "cell_type": "code",
      "metadata": {
        "id": "xnHeu3JmEHcH",
        "colab_type": "code",
        "colab": {}
      },
      "source": [
        "# INSERT CODE HERE"
      ],
      "execution_count": null,
      "outputs": []
    },
    {
      "cell_type": "markdown",
      "metadata": {
        "id": "lBl3EGuZErbG",
        "colab_type": "text"
      },
      "source": [
        "### Q9: Given two strings, create a new string by appending the second string in the middle of the first one.\n",
        "\n",
        "EXPECTED OUTPUT:\n",
        "\n",
        "Original Strings are:  Shila angr\n",
        "\n",
        "After appending new string in middle:  Shangrila"
      ]
    },
    {
      "cell_type": "code",
      "metadata": {
        "id": "YNXmyGwXEcl-",
        "colab_type": "code",
        "colab": {}
      },
      "source": [
        "def appendMiddle(s1, s2):\n",
        "  # INSERT CODE HERE\n",
        "  \n",
        "appendMiddle(\"Shila\", \"angr\")"
      ],
      "execution_count": null,
      "outputs": []
    },
    {
      "cell_type": "markdown",
      "metadata": {
        "id": "dJZzZVv-F0K0",
        "colab_type": "text"
      },
      "source": [
        "### Q10: Rearrange a string such that lowercase letters come first.\n",
        "\n",
        "EXAMPLE INPUT: \"SpOnGeBoB\"\n",
        "\n",
        "EXPECTED OUTPUT: \"pneoSOGBB\""
      ]
    },
    {
      "cell_type": "code",
      "metadata": {
        "id": "gF3N1DSXFm8C",
        "colab_type": "code",
        "colab": {}
      },
      "source": [
        "# INSERT CODE HERE"
      ],
      "execution_count": null,
      "outputs": []
    }
  ]
}