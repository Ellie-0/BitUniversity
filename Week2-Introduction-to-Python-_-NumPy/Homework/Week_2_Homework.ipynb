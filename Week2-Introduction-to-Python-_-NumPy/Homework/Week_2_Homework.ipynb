{
  "nbformat": 4,
  "nbformat_minor": 0,
  "metadata": {
    "colab": {
      "name": "Week 2 Homework.ipynb",
      "provenance": [],
      "collapsed_sections": [],
      "toc_visible": true,
      "include_colab_link": true
    },
    "kernelspec": {
      "display_name": "Python 3",
      "language": "python",
      "name": "python3"
    },
    "language_info": {
      "codemirror_mode": {
        "name": "ipython",
        "version": 3
      },
      "file_extension": ".py",
      "mimetype": "text/x-python",
      "name": "python",
      "nbconvert_exporter": "python",
      "pygments_lexer": "ipython3",
      "version": "3.7.0"
    }
  },
  "cells": [
    {
      "cell_type": "markdown",
      "metadata": {
        "id": "view-in-github",
        "colab_type": "text"
      },
      "source": [
        "<a href=\"https://colab.research.google.com/github/bitprj/DigitalHistory/blob/Atul/Week2-Introduction-to-Python-_-NumPy/Homework/Week_2_Homework.ipynb\" target=\"_parent\"><img src=\"https://colab.research.google.com/assets/colab-badge.svg\" alt=\"Open In Colab\"/></a>"
      ]
    },
    {
      "cell_type": "markdown",
      "metadata": {
        "id": "zCRNgAGbbKAW"
      },
      "source": [
        "## <div align = \"center\">Homework 2</div>\n",
        "\n"
      ]
    },
    {
      "cell_type": "markdown",
      "metadata": {
        "id": "uVvE-ylKyeh2"
      },
      "source": [
        "# <div align = \"center\">Python</div>"
      ]
    },
    {
      "cell_type": "markdown",
      "metadata": {
        "id": "WG1wsQTKxuwr"
      },
      "source": [
        "Welcome to Homework 2. In this homework you will be using techniques you learned throughout Week 2. The purpose of this homework is to ensure you've mastered the basics of Python. Feel free to refer to the cheatsheet while working through these problems."
      ]
    },
    {
      "cell_type": "markdown",
      "metadata": {
        "id": "Li4_EAjke2tV"
      },
      "source": [
        "## Grading \n",
        "\n",
        "Every question in this homework is worth 2 points. There are a total of 10 questions.\n",
        "\n",
        "In order to work on the questions and submit them for grading, you'll need to run the code block beloW. It will ask for your student ID number and then create a folder that will house your answers for each question. At the very end of the notebook, there is a code section that will download this folder as a zip file to your computer. This zip file will be your final submission."
      ]
    },
    {
      "cell_type": "code",
      "metadata": {
        "id": "VjG07ifFtr3u"
      },
      "source": [
        "import os\n",
        "import shutil\n",
        "\n",
        "!rm -rf sample_data\n",
        "\n",
        "student_id = input('Please Enter your Student ID: ') # Enter Student ID.\n",
        "\n",
        "while len(student_id) != 9:\n",
        " student_id = int('Please Enter your Student ID: ')  \n",
        "  \n",
        "folder_location = f'{student_id}/Week_Two/Homework' # Week  Two -> Homework\n",
        "if not os.path.exists(folder_location):\n",
        "  os.makedirs(folder_location)\n",
        "  print('Successfully Created Directory, Lets get started')\n",
        "else:\n",
        "  print('Directory Already Exists')"
      ],
      "execution_count": null,
      "outputs": []
    },
    {
      "cell_type": "markdown",
      "metadata": {
        "id": "JW9GwVepfBMX"
      },
      "source": [
        "## Python Questions"
      ]
    },
    {
      "cell_type": "markdown",
      "metadata": {
        "id": "fSb99Yn4veAI"
      },
      "source": [
        "### Q1\n",
        "Given the string `macdonald`, use a combination of indexing, slicing, concatenation, and string methods to create a new string `MacDonald` and store it in `answer1`."
      ]
    },
    {
      "cell_type": "code",
      "metadata": {
        "id": "dbVv44sBvfa9"
      },
      "source": [
        "# Once your have verified your answer please uncomment the line below and run it, this will save your code \n",
        "#%%writefile -a {folder_location}/1.py\n",
        "# Please note that if you uncomment and press multiple times, the program will keep appending to the file.\n",
        "# So only uncomment it when you want to save your answer.\n",
        "old_string = \"macdonald\"\n",
        "\n",
        "answer1 = our_string[0].upper() + our_string[1:3] + our_string[3].upper() + our_string[4:]\n",
        "print(answer1)"
      ],
      "execution_count": null,
      "outputs": []
    },
    {
      "cell_type": "markdown",
      "metadata": {
        "id": "MtFFxguoyZyh"
      },
      "source": [
        "### Q2\n",
        "Create a simple program that calculates a person's bus fare depending on their age. Here's the fee structure:\n",
        "\n",
        "*   Age 5 and under ride free.\n",
        "*   Ages 6-18 pay \\$1.75. \n",
        "*   Seniors (60 and over) pay \\$1.50.\n",
        "*   Everyone else pays \\$2.25.\n",
        "\n"
      ]
    },
    {
      "cell_type": "code",
      "metadata": {
        "id": "VA5xRrtZyaQl"
      },
      "source": [
        "# Once your have verified your answer please uncomment the line below and run it, this will save your code \n",
        "#%%writefile -a {folder_location}/2.py\n",
        "# Please note that if you uncomment and press multiple times, the program will keep appending to the file.\n",
        "# So only uncomment it when you want to save your answer.\n",
        "\n",
        "age = 21\n",
        "\n",
        "if age <= 5:\n",
        "  fare = 0\n",
        "elif age <= 18:\n",
        "  fare = 1.75\n",
        "elif age >= 60:\n",
        "  fare = 1.50\n",
        "else:\n",
        "  fare = 2.25\n",
        "\n",
        "print(fare)"
      ],
      "execution_count": null,
      "outputs": []
    },
    {
      "cell_type": "markdown",
      "metadata": {
        "id": "jOOe6Xw12nzj"
      },
      "source": [
        "### Q3\n",
        "\n",
        "Shoe shopping?"
      ]
    },
    {
      "cell_type": "markdown",
      "metadata": {
        "id": "7BETz3yhtr4K"
      },
      "source": [
        "## Submission\n",
        "Run this code block to download your answers."
      ]
    },
    {
      "cell_type": "code",
      "metadata": {
        "id": "JvLvanJvtr4K"
      },
      "source": [
        "from google.colab import files\n",
        "!zip -r \"{student_id}.zip\" \"{student_id}\"\n",
        "files.download(f\"{student_id}.zip\")"
      ],
      "execution_count": null,
      "outputs": []
    }
  ]
}