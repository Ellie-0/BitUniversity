{
  "nbformat": 4,
  "nbformat_minor": 0,
  "metadata": {
    "colab": {
      "name": "Week 7 NTT Answer Key.ipynb",
      "provenance": [],
      "authorship_tag": "ABX9TyNAlRy131unWT6fCmNRfPgS",
      "include_colab_link": true
    },
    "kernelspec": {
      "name": "python3",
      "display_name": "Python 3"
    }
  },
  "cells": [
    {
      "cell_type": "markdown",
      "metadata": {
        "id": "view-in-github",
        "colab_type": "text"
      },
      "source": [
        "<a href=\"https://colab.research.google.com/github/bitprj/DigitalHistory/blob/Atul/Week7-Intro-to-Statistical-Analysis-and-Methods/Week_7_NTT_Answer_Key.ipynb\" target=\"_parent\"><img src=\"https://colab.research.google.com/assets/colab-badge.svg\" alt=\"Open In Colab\"/></a>"
      ]
    },
    {
      "cell_type": "markdown",
      "metadata": {
        "id": "Ejnd8DPMU149",
        "colab_type": "text"
      },
      "source": [
        "### 1.0 Now Try This:\n",
        "\n",
        "Create an array of at least size 10 and populate it with random numbers. Then, use slicing to split it into two and create two new arrays. Then, find the sum of the third digits in each array."
      ]
    },
    {
      "cell_type": "code",
      "metadata": {
        "id": "CXlUbtktU0QR",
        "colab_type": "code",
        "colab": {
          "base_uri": "https://localhost:8080/",
          "height": 69
        },
        "outputId": "51b426ca-55df-4cf9-cb4a-61fe455cbffa"
      },
      "source": [
        "import numpy as np\n",
        "\n",
        "arr = np.array([1,3,5,7,9,2,4,6,8,12,45,26,36,21,53,78,21,94])\n",
        "\n",
        "arr1 = arr[:9]\n",
        "arr2 = arr[9:]\n",
        "\n",
        "print(arr1)\n",
        "print(arr2)\n",
        "\n",
        "sum = arr1[2] + arr2[2]\n",
        "\n",
        "print(sum)"
      ],
      "execution_count": 5,
      "outputs": [
        {
          "output_type": "stream",
          "text": [
            "[1 3 5 7 9 2 4 6 8]\n",
            "[12 45 26 36 21 53 78 21 94]\n",
            "31\n"
          ],
          "name": "stdout"
        }
      ]
    },
    {
      "cell_type": "markdown",
      "metadata": {
        "id": "VBYWg62SLwZz",
        "colab_type": "text"
      },
      "source": [
        "### 2.0 Now Try This:\n",
        "\n",
        "Create an array with the first 10 numbers of the Fibonacci sequence. Split this array into two. On each half, search for any multiples of 4. Next, filter both arrays for multiples of 5. Finally, take the two filtered arrays, join them, and sort them."
      ]
    },
    {
      "cell_type": "code",
      "metadata": {
        "id": "KXA6xfu8Vv60",
        "colab_type": "code",
        "colab": {
          "base_uri": "https://localhost:8080/",
          "height": 139
        },
        "outputId": "bcd33b3d-db4c-4791-d9fa-6cbc424c2254"
      },
      "source": [
        "import numpy as np\n",
        "\n",
        "arr = np.array([0, 1, 1, 2, 3, 5, 8, 13, 21, 34])\n",
        "\n",
        "arr1,arr2 = np.array_split(arr,2)\n",
        "\n",
        "print(arr1)\n",
        "print(arr2)\n",
        "\n",
        "x = np.where(arr1 % 4 == 0)\n",
        "y = np.where(arr2 % 4 == 0)\n",
        "\n",
        "print(x)\n",
        "print(y)\n",
        "\n",
        "filter_1 = (arr1 % 5 == 0)\n",
        "filter_2 = (arr1 % 5 == 0)\n",
        "\n",
        "filter_arr1 = arr1[filter_1]\n",
        "filter_arr2 = arr1[filter_2]\n",
        "\n",
        "print(filter_arr1)\n",
        "print(filter_arr2)\n",
        "\n",
        "new_arr = np.concatenate((filter_arr1,filter_arr2))\n",
        "\n",
        "print(np.sort(new_arr))"
      ],
      "execution_count": 18,
      "outputs": [
        {
          "output_type": "stream",
          "text": [
            "[0 1 1 2 3]\n",
            "[ 5  8 13 21 34]\n",
            "(array([0]),)\n",
            "(array([1]),)\n",
            "[0]\n",
            "[0]\n",
            "[0 0]\n"
          ],
          "name": "stdout"
        }
      ]
    },
    {
      "cell_type": "markdown",
      "metadata": {
        "id": "ZP0ujdvSQEP9",
        "colab_type": "text"
      },
      "source": [
        "### 3.0 Now Try This:\n",
        "\n",
        "Create a randomly generated array of any size using either the normal or random distributions. Then, calculate the following statistics for that array:\n",
        "\n",
        "Mean, Median, Variance, Standard Deviation, 84th quantile."
      ]
    },
    {
      "cell_type": "code",
      "metadata": {
        "id": "stlnBJhyXZP0",
        "colab_type": "code",
        "colab": {
          "base_uri": "https://localhost:8080/",
          "height": 139
        },
        "outputId": "9d600974-d247-406b-b840-01fac405d99c"
      },
      "source": [
        "import numpy as np\n",
        "from numpy import random\n",
        "\n",
        "arr = random.randint(500,size=(20))\n",
        "\n",
        "print(arr)\n",
        "\n",
        "mean = np.mean(arr)\n",
        "median = np.median(arr)\n",
        "variance = np.var(arr)\n",
        "std = np.std(arr)\n",
        "quan = np.quantile(arr,.84)\n",
        "\n",
        "print(\"Mean:\", mean)\n",
        "print(\"Median:\", median)\n",
        "print(\"Variance:\", variance)\n",
        "print(\"Standard Deviation:\", std)\n",
        "print(\"84th Quantile:\", quan)"
      ],
      "execution_count": 25,
      "outputs": [
        {
          "output_type": "stream",
          "text": [
            "[498 367 421 331 196 206 144 418 477 257 270 155 118 152  14 243 408 271\n",
            "  41 158]\n",
            "Mean: 257.25\n",
            "Median: 250.0\n",
            "Variance: 18779.0875\n",
            "Standard Deviation: 137.0368107480614\n",
            "84th Quantile: 417.6\n"
          ],
          "name": "stdout"
        }
      ]
    }
  ]
}