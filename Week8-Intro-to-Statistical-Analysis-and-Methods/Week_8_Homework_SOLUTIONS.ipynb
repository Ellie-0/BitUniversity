{
  "nbformat": 4,
  "nbformat_minor": 0,
  "metadata": {
    "colab": {
      "name": "Week 8 Homework SOLUTIONS.ipynb",
      "provenance": [],
      "include_colab_link": true
    },
    "kernelspec": {
      "name": "python3",
      "display_name": "Python 3"
    }
  },
  "cells": [
    {
      "cell_type": "markdown",
      "metadata": {
        "id": "view-in-github",
        "colab_type": "text"
      },
      "source": [
        "<a href=\"https://colab.research.google.com/github/bitprj/DigitalHistory/blob/Atul/Week8-Intro-to-Statistical-Analysis-and-Methods/Week_8_Homework_SOLUTIONS.ipynb\" target=\"_parent\"><img src=\"https://colab.research.google.com/assets/colab-badge.svg\" alt=\"Open In Colab\"/></a>"
      ]
    },
    {
      "cell_type": "markdown",
      "metadata": {
        "id": "zCRNgAGbbKAW",
        "colab_type": "text"
      },
      "source": [
        "## <div align = \"center\">Homework 8</div>\n",
        "# <div align = \"center\">NumPy</div>"
      ]
    },
    {
      "cell_type": "markdown",
      "metadata": {
        "id": "WG1wsQTKxuwr",
        "colab_type": "text"
      },
      "source": [
        "Welcome to Homework 8. In this homework you will be using techniques you learned throughout Week 8. The purpose of this homework is to get you more familiar with using NumPy and master manipulating arrays. Feel free to refer to the cheatsheet while working through these problems."
      ]
    },
    {
      "cell_type": "markdown",
      "metadata": {
        "id": "dnTj6CRhb6kD",
        "colab_type": "text"
      },
      "source": [
        "## Import Libraries"
      ]
    },
    {
      "cell_type": "code",
      "metadata": {
        "id": "bC_Y0mFpbwX5",
        "colab_type": "code",
        "colab": {}
      },
      "source": [
        "import numpy as np"
      ],
      "execution_count": null,
      "outputs": []
    },
    {
      "cell_type": "markdown",
      "metadata": {
        "id": "Li4_EAjke2tV",
        "colab_type": "text"
      },
      "source": [
        "## Grading \n",
        "\n",
        "Every question in this homework is worth 2 points. There are a total of 10 questions."
      ]
    },
    {
      "cell_type": "markdown",
      "metadata": {
        "id": "JW9GwVepfBMX",
        "colab_type": "text"
      },
      "source": [
        "## NumPy Questions"
      ]
    },
    {
      "cell_type": "markdown",
      "metadata": {
        "id": "HuZeGkE4eacZ",
        "colab_type": "text"
      },
      "source": [
        "### Q1: Generate a 4x4 matrix with values ranging from 5 to 20."
      ]
    },
    {
      "cell_type": "code",
      "metadata": {
        "id": "lMra4T7vfHBg",
        "colab_type": "code",
        "colab": {
          "base_uri": "https://localhost:8080/",
          "height": 87
        },
        "outputId": "ee6ca066-594b-4289-9dc2-a02939b6a901"
      },
      "source": [
        "x =  np.arange(5, 21).reshape(4,4)\n",
        "print(x)"
      ],
      "execution_count": null,
      "outputs": [
        {
          "output_type": "stream",
          "text": [
            "[[ 5  6  7  8]\n",
            " [ 9 10 11 12]\n",
            " [13 14 15 16]\n",
            " [17 18 19 20]]\n"
          ],
          "name": "stdout"
        }
      ]
    },
    {
      "cell_type": "markdown",
      "metadata": {
        "id": "Nw-g0bNaol3T",
        "colab_type": "text"
      },
      "source": [
        "### Create Array\n"
      ]
    },
    {
      "cell_type": "code",
      "metadata": {
        "id": "qtngWGOboGwO",
        "colab_type": "code",
        "colab": {
          "base_uri": "https://localhost:8080/",
          "height": 191
        },
        "outputId": "77249f4d-8c94-44dd-fdef-01c048364bc6"
      },
      "source": [
        "# Create Array\n",
        "np.random.seed(24) # This guarantees the code will generate the same set of random numbers whenever executed\n",
        "arr = np.random.randint(1,high=600000, size=(10, 5))\n",
        "arr"
      ],
      "execution_count": null,
      "outputs": [
        {
          "output_type": "execute_result",
          "data": {
            "text/plain": [
              "array([[242083,    900, 211137, 516440, 478610],\n",
              "       [452754, 414850, 268645, 407557, 307184],\n",
              "       [506084, 298876, 300516, 190227, 552612],\n",
              "       [524000, 303489, 518669, 538685, 341048],\n",
              "       [429383, 588642,  26247, 306479, 448322],\n",
              "       [284592, 407770, 270923, 498939,  53532],\n",
              "       [184866, 519428, 582533, 261954, 197631],\n",
              "       [238905, 119560, 388230, 396733, 355499],\n",
              "       [ 55417, 489583,  39574, 245868, 291493],\n",
              "       [180014, 142945,  33273, 355671, 510243]])"
            ]
          },
          "metadata": {
            "tags": []
          },
          "execution_count": 7
        }
      ]
    },
    {
      "cell_type": "markdown",
      "metadata": {
        "id": "1bOAhw6xoqvd",
        "colab_type": "text"
      },
      "source": [
        "### Q2: Obtain the average value of the third column"
      ]
    },
    {
      "cell_type": "code",
      "metadata": {
        "id": "M_glIOOfoU2r",
        "colab_type": "code",
        "colab": {
          "base_uri": "https://localhost:8080/",
          "height": 35
        },
        "outputId": "2c87d7c8-deb7-4544-ed9f-c495625e55b1"
      },
      "source": [
        "np.mean(arr[:,2])"
      ],
      "execution_count": null,
      "outputs": [
        {
          "output_type": "execute_result",
          "data": {
            "text/plain": [
              "263974.7"
            ]
          },
          "metadata": {
            "tags": []
          },
          "execution_count": 14
        }
      ]
    },
    {
      "cell_type": "markdown",
      "metadata": {
        "id": "skef3ZtJpN5h",
        "colab_type": "text"
      },
      "source": [
        "### Q3: Obtain the average value of the first 6 rows of the fourth and fifth columns?"
      ]
    },
    {
      "cell_type": "code",
      "metadata": {
        "id": "7RAV5hxxpGhV",
        "colab_type": "code",
        "colab": {
          "base_uri": "https://localhost:8080/",
          "height": 35
        },
        "outputId": "fa632fc4-2b07-41fe-ce3e-4072159bab3e"
      },
      "source": [
        "np.mean(arr[0:6,3:4])"
      ],
      "execution_count": null,
      "outputs": [
        {
          "output_type": "execute_result",
          "data": {
            "text/plain": [
              "409721.1666666667"
            ]
          },
          "metadata": {
            "tags": []
          },
          "execution_count": 13
        }
      ]
    },
    {
      "cell_type": "markdown",
      "metadata": {
        "id": "0L5eoo0RqMgJ",
        "colab_type": "text"
      },
      "source": [
        "### Q4: Create a 2x3 matrix of numbers from 1-6, then a 1D array of numbers from 1-3. Add them and display the result"
      ]
    },
    {
      "cell_type": "code",
      "metadata": {
        "id": "642gDQE7pyC8",
        "colab_type": "code",
        "colab": {
          "base_uri": "https://localhost:8080/",
          "height": 104
        },
        "outputId": "b19b9f4f-daf9-4a1b-f139-0ad1433a47b7"
      },
      "source": [
        "first_matrix = np.array([[1, 2, 3], [4, 5, 6]])\n",
        "\n",
        "second_matrix = np.array([1, 2, 3])\n",
        "\n",
        "first_matrix + second_matrix"
      ],
      "execution_count": null,
      "outputs": [
        {
          "output_type": "stream",
          "text": [
            "[[1 2 3]\n",
            " [4 5 6]]\n",
            "[1 2 3]\n"
          ],
          "name": "stdout"
        },
        {
          "output_type": "execute_result",
          "data": {
            "text/plain": [
              "array([[2, 4, 6],\n",
              "       [5, 7, 9]])"
            ]
          },
          "metadata": {
            "tags": []
          },
          "execution_count": 15
        }
      ]
    },
    {
      "cell_type": "markdown",
      "metadata": {
        "id": "dxlFnxStqr6B",
        "colab_type": "text"
      },
      "source": [
        "### Q5: Create an array with numbers from 1 to 10. Filter out all the multiples of 4 and display the result."
      ]
    },
    {
      "cell_type": "code",
      "metadata": {
        "id": "cbOU6-UdqdMr",
        "colab_type": "code",
        "colab": {
          "base_uri": "https://localhost:8080/",
          "height": 35
        },
        "outputId": "e2c5f443-6819-4449-d4a3-7539d4557c46"
      },
      "source": [
        "arr = np.array([1,2,3,4,5,6,7,8,9,10])\n",
        "filter = my_vector % 4 == 0\n",
        "arr[filter]"
      ],
      "execution_count": null,
      "outputs": [
        {
          "output_type": "execute_result",
          "data": {
            "text/plain": [
              "array([4, 8])"
            ]
          },
          "metadata": {
            "tags": []
          },
          "execution_count": 20
        }
      ]
    },
    {
      "cell_type": "markdown",
      "metadata": {
        "id": "h5tyf73vsSrN",
        "colab_type": "text"
      },
      "source": [
        "### Q6: Create an array with numbers from 1-4. Change the value of the first index to 0 without directly modifying the array."
      ]
    },
    {
      "cell_type": "code",
      "metadata": {
        "id": "2KfLHzJ0rLTK",
        "colab_type": "code",
        "colab": {
          "base_uri": "https://localhost:8080/",
          "height": 35
        },
        "outputId": "39b6661b-0c0e-4e2c-e854-0ff69a479007"
      },
      "source": [
        "arr = np.array([1, 2, 3, 4])\n",
        "new_arr = arr\n",
        "arr[0] = 0\n",
        "arr"
      ],
      "execution_count": null,
      "outputs": [
        {
          "output_type": "execute_result",
          "data": {
            "text/plain": [
              "array([0, 2, 3, 4])"
            ]
          },
          "metadata": {
            "tags": []
          },
          "execution_count": 21
        }
      ]
    },
    {
      "cell_type": "markdown",
      "metadata": {
        "id": "TgJVWMMiuXAj",
        "colab_type": "text"
      },
      "source": [
        "### Q7: Create a 2x3 matrix with values from 1-6. Obtain all rows from the second and third columns."
      ]
    },
    {
      "cell_type": "code",
      "metadata": {
        "id": "dN8ZEIebstVP",
        "colab_type": "code",
        "colab": {
          "base_uri": "https://localhost:8080/",
          "height": 52
        },
        "outputId": "90d1ffdc-a5b0-43ad-c6e6-70e22652307a"
      },
      "source": [
        "my_array = np.array([[1, 2, 3], [4, 5, 6]])\n",
        "my_slice = my_array[:, 1:3]\n",
        "my_slice"
      ],
      "execution_count": null,
      "outputs": [
        {
          "output_type": "execute_result",
          "data": {
            "text/plain": [
              "array([[2, 3],\n",
              "       [5, 6]])"
            ]
          },
          "metadata": {
            "tags": []
          },
          "execution_count": 29
        }
      ]
    },
    {
      "cell_type": "markdown",
      "metadata": {
        "id": "GUq7_xVJv04Z",
        "colab_type": "text"
      },
      "source": [
        "### Q8: Create an array with numbers 1-10. In one line, zero out all multiples of 3."
      ]
    },
    {
      "cell_type": "code",
      "metadata": {
        "id": "6IjYaUXbvr4z",
        "colab_type": "code",
        "colab": {
          "base_uri": "https://localhost:8080/",
          "height": 35
        },
        "outputId": "7a7028fd-c805-4a44-8ab6-4d18f4216dc6"
      },
      "source": [
        "arr = np.array([0, 1, 2, 3, 4, 5, 6, 7, 8, 9,10])\n",
        "arr[arr%3 == 0] = 0\n",
        "arr"
      ],
      "execution_count": null,
      "outputs": [
        {
          "output_type": "execute_result",
          "data": {
            "text/plain": [
              "array([ 0,  1,  2,  0,  4,  5,  0,  7,  8,  0, 10])"
            ]
          },
          "metadata": {
            "tags": []
          },
          "execution_count": 33
        }
      ]
    },
    {
      "cell_type": "markdown",
      "metadata": {
        "id": "Lx7bWxkVweb0",
        "colab_type": "text"
      },
      "source": [
        "### Q9: Do the above but without modifying the original array."
      ]
    },
    {
      "cell_type": "code",
      "metadata": {
        "colab_type": "code",
        "id": "lviyut3WwQ5-",
        "colab": {
          "base_uri": "https://localhost:8080/",
          "height": 52
        },
        "outputId": "23ea2da6-04b9-40e4-d81c-0e2f2b19f7a4"
      },
      "source": [
        "arr = np.array([0, 1, 2, 3, 4, 5, 6, 7, 8, 9,10])\n",
        "new_arr = arr.copy()\n",
        "new_arr[new_arr%3 == 0] = 0\n",
        "print(arr)\n",
        "print(new_arr)"
      ],
      "execution_count": null,
      "outputs": [
        {
          "output_type": "stream",
          "text": [
            "[ 0  1  2  3  4  5  6  7  8  9 10]\n",
            "[ 0  1  2  0  4  5  0  7  8  0 10]\n"
          ],
          "name": "stdout"
        }
      ]
    },
    {
      "cell_type": "markdown",
      "metadata": {
        "id": "lWewdLQgxNBX",
        "colab_type": "text"
      },
      "source": [
        "### Q10: Create a 5x5 array of all 1's. Then, in one line, modify the array so that it has 1's along the border but 0's everywhere else.\n",
        "\n",
        "EXPECTED OUTPUT:\n",
        "\n",
        "[[1. 1. 1. 1. 1.]\n",
        "\n",
        " [1. 0. 0. 0. 1.]\n",
        "\n",
        " [1. 0. 0. 0. 1.]\n",
        "\n",
        " [1. 0. 0. 0. 1.]\n",
        " \n",
        " [1. 1. 1. 1. 1.]]"
      ]
    },
    {
      "cell_type": "code",
      "metadata": {
        "id": "PVhPDAfLw9jv",
        "colab_type": "code",
        "colab": {
          "base_uri": "https://localhost:8080/",
          "height": 104
        },
        "outputId": "67b4bc48-9a06-49ee-a526-314f6e6c6128"
      },
      "source": [
        "x = np.ones((5,5))\n",
        "x[1:-1,1:-1] = 0\n",
        "print(x)"
      ],
      "execution_count": null,
      "outputs": [
        {
          "output_type": "stream",
          "text": [
            "[[1. 1. 1. 1. 1.]\n",
            " [1. 0. 0. 0. 1.]\n",
            " [1. 0. 0. 0. 1.]\n",
            " [1. 0. 0. 0. 1.]\n",
            " [1. 1. 1. 1. 1.]]\n"
          ],
          "name": "stdout"
        }
      ]
    }
  ]
}