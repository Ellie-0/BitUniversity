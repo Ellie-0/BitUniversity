{
  "nbformat": 4,
  "nbformat_minor": 0,
  "metadata": {
    "colab": {
      "name": "Intro To Statistical Analysis with NumPy.ipynb",
      "provenance": [],
      "collapsed_sections": [],
      "include_colab_link": true
    },
    "kernelspec": {
      "name": "python_defaultSpec_1596311487262",
      "display_name": "Python 3.8.3 64-bit"
    }
  },
  "cells": [
    {
      "cell_type": "markdown",
      "metadata": {
        "id": "view-in-github",
        "colab_type": "text"
      },
      "source": [
        "<a href=\"https://colab.research.google.com/github/bitprj/DigitalHistory/blob/Atul/Week8-Intro-to-Statistical-Analysis-and-Methods/Intro_To_Statistical_Analysis_with_NumPy.ipynb\" target=\"_parent\"><img src=\"https://colab.research.google.com/assets/colab-badge.svg\" alt=\"Open In Colab\"/></a>"
      ]
    },
    {
      "cell_type": "markdown",
      "metadata": {
        "id": "ypLX5W9iiaWe",
        "colab_type": "text"
      },
      "source": [
        "# Introduction to NumPy and Statistical Analysis"
      ]
    },
    {
      "cell_type": "markdown",
      "metadata": {
        "id": "JKIeFpiY-pJc",
        "colab_type": "text"
      },
      "source": [
        "### Table of Contents\n",
        "\n",
        "- Why, Where, and How we use NumPy\n",
        "- Recap\n",
        "- What we will be learning today\n",
        "  - Goals\n",
        "- A Brief Discussion on Statistics\n",
        "  - What is Statistics?\n",
        "  - Why Learn Statistics?\n",
        "- NumPy\n",
        "  - Creating Arrays\n",
        "  - Indexing\n",
        "  - Slicing\n",
        "  - **1.0 Now Try This**\n",
        "  - Data Types\n",
        "  - **2.0 Now Try This**\n",
        "  - Copy vs. View\n",
        "  - **3.0 Now Try This**\n",
        "  - Shape\n",
        "  - **4.0 Now Try This**\n",
        "  - Iterating Through Arrays\n",
        "  - Joining Arrays\n",
        "  - Splitting Arrays\n",
        "  - Searching Arrays\n",
        "  - Sorting Arrays\n",
        "  - Filtering Arrays\n",
        "  - **5.0 Now Try This**\n",
        "  - Random Numbers and Distributions\n",
        "    - Random Generation\n",
        "      - **6.0 Now Try This**\n",
        "    - Random Distribution\n",
        "    - Normal Distribution\n",
        "  - Universal Functions\n",
        "    - Summations\n",
        "      - Axes in Summations\n",
        "      - Cummulative Sums\n",
        "- Introduction to Statistical Analysis\n",
        "  - Obtaining Min and Max\n",
        "  - Mean\n",
        "  - Median\n",
        "  - Standard Deviation\n",
        "  - Quantiles\n",
        "  - **7.0 Now Try This**\n",
        "  - Covariance\n",
        "  - Cross-correlation\n",
        "  - Preview of EDA and Linear Regression\n",
        "    - EDA\n",
        "    - Linear Regression\n",
        "- Resources\n",
        "- Appendix"
      ]
    },
    {
      "cell_type": "markdown",
      "metadata": {
        "id": "-ZRfkO-9TK6p",
        "colab_type": "text"
      },
      "source": [
        "## Recap\n",
        "\n",
        "Up until now, you have learned:\n",
        "- Basic Python\n",
        "- Importing Data and Data Wrangling\n",
        "- Basic Data Visualization\n",
        "- Advanced Data Wrangling with Pandas"
      ]
    },
    {
      "cell_type": "markdown",
      "metadata": {
        "id": "UE9OO2h1_2u_",
        "colab_type": "text"
      },
      "source": [
        "## What we will be learning today\n",
        "\n",
        "### Goals\n",
        "- NumPy arrays and how to create them\n",
        "- Essential operations when working with NumPy arrays\n",
        "- Basic Statistical Concepts with NumPy (mean, median, etc.)\n",
        "- Basic Statistical Distributions with NumPy\n",
        "- Previewing Exploratory Data Analysis and basic modelling"
      ]
    },
    {
      "cell_type": "markdown",
      "metadata": {
        "id": "V7DjGGNHF7qx",
        "colab_type": "text"
      },
      "source": [
        "## A Brief Discussion on Statistics\n",
        "\n",
        "### What is Statistics?\n",
        "Statistics is the science concerned with developing and studying methods for collecting, analyzing, interpreting, and presenting empirical data. Statistics is not just practiced by statisticians; it's present in all scientific fields, including computer and data science of course, but also including social sciences and research.\n",
        "\n",
        "### Why Learn Statistics?\n",
        "The reasons for learning statistics can be traced back to the scientific method, and the fundamentals of how we as humans have solved problems throughout history. This approach involves collecting data about a problem, analyzing it, performing experiments, and forming theories. Statistics play a key role in these endeavors, both in terms of collecting data, but also analyzing them to generate insights that can solve real problems. Some examples of statistics accomplishing this include:\n",
        "\n",
        "- Improving the safety, reliability, and stable performance of products ranging from kitchen appliances to cars, as well as ensuring consistent quality control for these products.\n",
        "- Creating polls and studies to measure public opinion on issues and how to understand or influence those opinions.\n",
        "-Forecasting demand or sales for products to determine effective strategies for maximizing business.\n",
        "- And so on!\n",
        "\n",
        "\n",
        "Before we move on to conducting statistical analysis in Python, it's important to introduce a very popular and effective package that was designed to make dealing with data very easy for us: NumPy!"
      ]
    },
    {
      "cell_type": "markdown",
      "metadata": {
        "id": "R7I6cGKU_S9_",
        "colab_type": "text"
      },
      "source": [
        "## Why, Where, and How we use NumPy\n",
        "\n",
        "NumPy is a library for Python that allows you to create matrices and multidimensional arrays, as well as perform many sophisticated mathematical operations on them. Previously, dealing with anything more than a single-dimensional array was very difficult in base Python. Additionally, there weren't a lot of built-in functionality to perform many standard mathematical operations that data scientists typically do with data, such as transposing, dot products, cumulative sums, etc. All of this makes NumPy very useful in statistical analyses and analyzing datasets to produce insights."
      ]
    },
    {
      "cell_type": "markdown",
      "metadata": {
        "id": "qkNvWsq_0XGc",
        "colab_type": "text"
      },
      "source": [
        "### Creating Arrays \n",
        "\n",
        "NumPy allows you to work with arrays very efficiently. The array object in NumPy is called *ndarray*.\n",
        "\n",
        "We can create a NumPy ndarray object by using the array() function."
      ]
    },
    {
      "cell_type": "code",
      "metadata": {
        "id": "d8KX9RWf0boU",
        "colab_type": "code",
        "colab": {
          "base_uri": "https://localhost:8080/",
          "height": 52
        },
        "outputId": "079ae3d2-e477-441b-e43e-2dbf196097ed"
      },
      "source": [
        "import numpy as np\n",
        "\n",
        "arr = np.array([1,2,3,4,5,6,7,8,9,10])\n",
        "\n",
        "print(arr)\n",
        "\n",
        "print(type(arr))"
      ],
      "execution_count": null,
      "outputs": [
        {
          "output_type": "stream",
          "text": [
            "[ 1  2  3  4  5  6  7  8  9 10]\n",
            "<class 'numpy.ndarray'>\n"
          ],
          "name": "stdout"
        }
      ]
    },
    {
      "cell_type": "markdown",
      "metadata": {
        "id": "9XDsbw131Caa",
        "colab_type": "text"
      },
      "source": [
        "### Indexing\n",
        "\n",
        "Indexing is the same thing as accessing an element of a list. In this case, we will be accessing an array element.\n",
        "\n",
        "You can access an array element by referring to its **index number**. The indexes in NumPy arrays start with 0, meaning that the first element has index 0, and the second has index 1 etc.\n",
        "\n",
        "The following example shows how you can access multiple elements of an array and perform operations on them."
      ]
    },
    {
      "cell_type": "code",
      "metadata": {
        "id": "xHkFP4I81ZK6",
        "colab_type": "code",
        "colab": {
          "base_uri": "https://localhost:8080/",
          "height": 35
        },
        "outputId": "cbe475b0-8a22-42cf-95f4-c70b265899e5"
      },
      "source": [
        "import numpy as np\n",
        "\n",
        "arr = np.array([1,2,3,4,5,6,7,8,9,10])\n",
        "\n",
        "print(arr[4] + arr[8])"
      ],
      "execution_count": null,
      "outputs": [
        {
          "output_type": "stream",
          "text": [
            "14\n"
          ],
          "name": "stdout"
        }
      ]
    },
    {
      "cell_type": "markdown",
      "metadata": {
        "id": "7YEV_yn684Sa",
        "colab_type": "text"
      },
      "source": [
        "### Slicing\n",
        "\n",
        "Slicing in python means taking a part or subsection of an object. An array in this case.\n",
        "\n",
        "We slice using this syntax: [start:end].\n",
        "\n",
        "We can also define the step, like this: [start:end:step].\n",
        "\n",
        "If we don't pass a start it's considered that we start from the beginning. If we don't pass an end its considered that we slice to the end of the array.\n",
        "\n",
        "If we don't pass step, we slice one element at a time. Additionally, we don't always have to step through an array from beginning to end. We can also go backward. For instance:"
      ]
    },
    {
      "cell_type": "code",
      "metadata": {
        "id": "Mr3Lhtn-mnd7",
        "colab_type": "code",
        "colab": {
          "base_uri": "https://localhost:8080/",
          "height": 35
        },
        "outputId": "9ad068b1-3582-4568-9b74-2db44023be6d"
      },
      "source": [
        "# Reverse an array through backwards/negative stepping\n",
        "import numpy as np\n",
        "arr = np.array([3,7,9,0])\n",
        "\n",
        "print(arr[::-1])"
      ],
      "execution_count": null,
      "outputs": [
        {
          "output_type": "stream",
          "text": [
            "[0 9 7 3]\n"
          ],
          "name": "stdout"
        }
      ]
    },
    {
      "cell_type": "code",
      "metadata": {
        "id": "e0fxUa8S9WN1",
        "colab_type": "code",
        "colab": {
          "base_uri": "https://localhost:8080/",
          "height": 35
        },
        "outputId": "197bf38d-d090-4d87-8c4e-70583585d3be"
      },
      "source": [
        "# Slice elements from the beginning to index 8\n",
        "\n",
        "import numpy as np\n",
        "\n",
        "arr = np.array([1, 2, 3, 4, 5, 6, 7,8,9,10])\n",
        "\n",
        "print(arr[:8])"
      ],
      "execution_count": null,
      "outputs": [
        {
          "output_type": "stream",
          "text": [
            "[1 2 3 4 5 6 7 8]\n"
          ],
          "name": "stdout"
        }
      ]
    },
    {
      "cell_type": "markdown",
      "metadata": {
        "id": "BnAfG_o39pox",
        "colab_type": "text"
      },
      "source": [
        "You'll notice we only got to index 7. That's because the end is always *non-inclusive*. We slice up to but not including the end value. The start index on the other hand, **is** inclusive."
      ]
    },
    {
      "cell_type": "markdown",
      "metadata": {
        "id": "tVCA7hDfJMmD",
        "colab_type": "text"
      },
      "source": [
        "### 1.0 Now Try This:\n",
        "\n",
        "Create an array of at least size 10 and populate it with random numbers. Then, use slicing to split it into two and create two new arrays. Then, find the sum of the third digits in each array.\n",
        "\n"
      ]
    },
    {
      "cell_type": "code",
      "metadata": {
        "id": "hd6YAMzUJ4lk",
        "colab_type": "code",
        "colab": {}
      },
      "source": [
        "# Answer here"
      ],
      "execution_count": null,
      "outputs": []
    },
    {
      "cell_type": "markdown",
      "metadata": {
        "id": "xjNfhR-J-F6p",
        "colab_type": "text"
      },
      "source": [
        "### Data Types"
      ]
    },
    {
      "cell_type": "markdown",
      "metadata": {
        "id": "El0Gf_Uw-05B",
        "colab_type": "text"
      },
      "source": [
        "Just like base Python, NumPy has many data types available. They are all differentiated by a single character. Below is a list of all data types:\n",
        "\n",
        "* i - integer\n",
        "* b - boolean\n",
        "* u - unsigned integer\n",
        "* f - float\n",
        "* c - complex float\n",
        "* m - timedelta\n",
        "* M - datetime\n",
        "* O - object\n",
        "* S - string\n",
        "* U - unicode string\n",
        "* V - fixed chunk of memory for other type ( void )"
      ]
    },
    {
      "cell_type": "code",
      "metadata": {
        "id": "8krhELPV_jiw",
        "colab_type": "code",
        "colab": {
          "base_uri": "https://localhost:8080/",
          "height": 35
        },
        "outputId": "b8200c04-b138-4f38-d9a3-5513ad73e905"
      },
      "source": [
        "# Checking the data type of an array\n",
        "import numpy as np\n",
        "\n",
        "arr = np.array([5, 7, 3, 1])\n",
        "\n",
        "print(arr.dtype)"
      ],
      "execution_count": null,
      "outputs": [
        {
          "output_type": "stream",
          "text": [
            "int64\n"
          ],
          "name": "stdout"
        }
      ]
    },
    {
      "cell_type": "code",
      "metadata": {
        "id": "iaRS1cqQ_rvA",
        "colab_type": "code",
        "colab": {
          "base_uri": "https://localhost:8080/",
          "height": 52
        },
        "outputId": "f34ca62f-8d51-4dcd-f606-2f14c574b38b"
      },
      "source": [
        "# How to create an array with a defined type\n",
        "import numpy as np\n",
        "\n",
        "arr = np.array([5, 7, 3, 1], dtype='S')\n",
        "\n",
        "print(arr)\n",
        "print(arr.dtype)"
      ],
      "execution_count": null,
      "outputs": [
        {
          "output_type": "stream",
          "text": [
            "[b'5' b'7' b'3' b'1']\n",
            "|S1\n"
          ],
          "name": "stdout"
        }
      ]
    },
    {
      "cell_type": "code",
      "metadata": {
        "id": "AkuNnBAx_21_",
        "colab_type": "code",
        "colab": {
          "base_uri": "https://localhost:8080/",
          "height": 52
        },
        "outputId": "3d42bdf1-af6a-47ea-a518-543bc9601242"
      },
      "source": [
        "# How to convert between types\n",
        "import numpy as np\n",
        "\n",
        "arr = np.array([4.4, 24.1, 25.1,3.5])\n",
        "\n",
        "newarr = arr.astype('i')\n",
        "\n",
        "print(newarr)\n",
        "print(newarr.dtype)"
      ],
      "execution_count": null,
      "outputs": [
        {
          "output_type": "stream",
          "text": [
            "[ 4 24 25  3]\n",
            "int32\n"
          ],
          "name": "stdout"
        }
      ]
    },
    {
      "cell_type": "markdown",
      "metadata": {
        "id": "efSWwHCUTQ7Z",
        "colab_type": "text"
      },
      "source": [
        "### 2.0 Now Try This:\n",
        "\n",
        "Modify the code below to fix the error and make the addition work:"
      ]
    },
    {
      "cell_type": "code",
      "metadata": {
        "id": "IGUg-e26TeGm",
        "colab_type": "code",
        "colab": {
          "base_uri": "https://localhost:8080/",
          "height": 201
        },
        "outputId": "5e1c7fb5-571e-4724-9368-31ebb2118113"
      },
      "source": [
        "import numpy as np\n",
        "\n",
        "arr = np.array([1,3,5,7],dtype='S')\n",
        "arr2 = np.array([2,4,6,8],dtype='i')\n",
        "\n",
        "print(arr + arr2)"
      ],
      "execution_count": null,
      "outputs": [
        {
          "output_type": "error",
          "ename": "UFuncTypeError",
          "evalue": "ignored",
          "traceback": [
            "\u001b[0;31m---------------------------------------------------------------------------\u001b[0m",
            "\u001b[0;31mUFuncTypeError\u001b[0m                            Traceback (most recent call last)",
            "\u001b[0;32m<ipython-input-17-4ea3cd12ed03>\u001b[0m in \u001b[0;36m<module>\u001b[0;34m()\u001b[0m\n\u001b[1;32m      4\u001b[0m \u001b[0marr2\u001b[0m \u001b[0;34m=\u001b[0m \u001b[0mnp\u001b[0m\u001b[0;34m.\u001b[0m\u001b[0marray\u001b[0m\u001b[0;34m(\u001b[0m\u001b[0;34m[\u001b[0m\u001b[0;36m2\u001b[0m\u001b[0;34m,\u001b[0m\u001b[0;36m4\u001b[0m\u001b[0;34m,\u001b[0m\u001b[0;36m6\u001b[0m\u001b[0;34m,\u001b[0m\u001b[0;36m8\u001b[0m\u001b[0;34m]\u001b[0m\u001b[0;34m,\u001b[0m\u001b[0mdtype\u001b[0m\u001b[0;34m=\u001b[0m\u001b[0;34m'i'\u001b[0m\u001b[0;34m)\u001b[0m\u001b[0;34m\u001b[0m\u001b[0;34m\u001b[0m\u001b[0m\n\u001b[1;32m      5\u001b[0m \u001b[0;34m\u001b[0m\u001b[0m\n\u001b[0;32m----> 6\u001b[0;31m \u001b[0mprint\u001b[0m\u001b[0;34m(\u001b[0m\u001b[0marr\u001b[0m \u001b[0;34m+\u001b[0m \u001b[0marr2\u001b[0m\u001b[0;34m)\u001b[0m\u001b[0;34m\u001b[0m\u001b[0;34m\u001b[0m\u001b[0m\n\u001b[0m",
            "\u001b[0;31mUFuncTypeError\u001b[0m: ufunc 'add' did not contain a loop with signature matching types (dtype('S11'), dtype('S11')) -> dtype('S11')"
          ]
        }
      ]
    },
    {
      "cell_type": "markdown",
      "metadata": {
        "id": "8cdDX6VqAMEn",
        "colab_type": "text"
      },
      "source": [
        "### Copy vs. View\n",
        "\n",
        "In NumPy, you can work with either a copy of the data or the data itself, and it's very important that you know the difference. Namely, modifying a copy of the data will not change the original dataset but modifying the view **will**. Here are some examples:"
      ]
    },
    {
      "cell_type": "code",
      "metadata": {
        "id": "x66zSaDEAoon",
        "colab_type": "code",
        "colab": {
          "base_uri": "https://localhost:8080/",
          "height": 52
        },
        "outputId": "7b0b6e5e-b7e9-499f-b7f8-8db2da032679"
      },
      "source": [
        "# A Copy\n",
        "import numpy as np\n",
        "\n",
        "arr = np.array([6, 2, 1, 5, 3])\n",
        "x = arr.copy()\n",
        "arr[0] = 8\n",
        "\n",
        "print(arr)\n",
        "print(x)"
      ],
      "execution_count": null,
      "outputs": [
        {
          "output_type": "stream",
          "text": [
            "[8 2 1 5 3]\n",
            "[6 2 1 5 3]\n"
          ],
          "name": "stdout"
        }
      ]
    },
    {
      "cell_type": "code",
      "metadata": {
        "id": "pYMGf-eLAveJ",
        "colab_type": "code",
        "colab": {
          "base_uri": "https://localhost:8080/",
          "height": 52
        },
        "outputId": "cf92e34d-7229-46ca-e98c-4824c06768fb"
      },
      "source": [
        "# A View\n",
        "import numpy as np\n",
        "\n",
        "arr = np.array([6, 2, 1, 5, 3])\n",
        "x = arr.view()\n",
        "arr[0] = 8\n",
        "\n",
        "print(arr)\n",
        "print(x)"
      ],
      "execution_count": null,
      "outputs": [
        {
          "output_type": "stream",
          "text": [
            "[8 2 1 5 3]\n",
            "[8 2 1 5 3]\n"
          ],
          "name": "stdout"
        }
      ]
    },
    {
      "cell_type": "markdown",
      "metadata": {
        "id": "Af_F9feeUnFz",
        "colab_type": "text"
      },
      "source": [
        "### 3.0 Now Try This:\n",
        "\n",
        "A student wants to create a copy of an array and modify the first element. The following is the code they wrote for it:\n",
        "\n",
        "arr = np.array([1,2,3,4,5])\n",
        "\n",
        "x = arr\n",
        "\n",
        "x[0] = 0\n",
        "\n",
        "\n",
        "Is this correct?"
      ]
    },
    {
      "cell_type": "markdown",
      "metadata": {
        "id": "2Kz9EXJCBIvt",
        "colab_type": "text"
      },
      "source": [
        "### Shape\n",
        "\n",
        "All NumPy arrays have an attribute called *shape*. This is helpful for 2d or n-dimensional arrays, but for simple lists, it is just the number of elements that it has."
      ]
    },
    {
      "cell_type": "code",
      "metadata": {
        "id": "peyAzLUpBUE6",
        "colab_type": "code",
        "colab": {
          "base_uri": "https://localhost:8080/",
          "height": 35
        },
        "outputId": "022341c3-55d7-442f-9366-bb2c2c4160a8"
      },
      "source": [
        "# Print the shape of an array\n",
        "import numpy as np\n",
        "\n",
        "arr = np.array([2,7,3,7])\n",
        "\n",
        "print(arr.shape)"
      ],
      "execution_count": null,
      "outputs": [
        {
          "output_type": "stream",
          "text": [
            "(4,)\n"
          ],
          "name": "stdout"
        }
      ]
    },
    {
      "cell_type": "markdown",
      "metadata": {
        "id": "BagUJj2IXT_5",
        "colab_type": "text"
      },
      "source": [
        "### 4.0 Now Try This:\n",
        "\n",
        "Without using Python, what is the shape of this array? Answer in the same format as the `shape` method.\n",
        "\n",
        "arr = np.array([[0,1,2].[3,4,5])"
      ]
    },
    {
      "cell_type": "markdown",
      "metadata": {
        "id": "GfFSvcoVBpA0",
        "colab_type": "text"
      },
      "source": [
        "### Iterating Through Arrays\n",
        "\n",
        "Iterating simply means to traverse or travel through an object. In the case of arrays, we can iterate through them by using simple for loops."
      ]
    },
    {
      "cell_type": "code",
      "metadata": {
        "id": "QLyvgaRkB8tI",
        "colab_type": "code",
        "colab": {
          "base_uri": "https://localhost:8080/",
          "height": 69
        },
        "outputId": "db6e056e-9c47-4d3f-9898-d722fbb358f8"
      },
      "source": [
        "import numpy as np\n",
        "\n",
        "arr = np.array([1, 5, 7])\n",
        "\n",
        "for x in arr:\n",
        "  print(x)"
      ],
      "execution_count": null,
      "outputs": [
        {
          "output_type": "stream",
          "text": [
            "1\n",
            "5\n",
            "7\n"
          ],
          "name": "stdout"
        }
      ]
    },
    {
      "cell_type": "markdown",
      "metadata": {
        "id": "m_28xMsQCnQG",
        "colab_type": "text"
      },
      "source": [
        "### Joining Arrays \n",
        "\n",
        "Joining combining the elements of multiple arrays into one.\n",
        "\n",
        "The basic way to do it is like this:"
      ]
    },
    {
      "cell_type": "code",
      "metadata": {
        "id": "GqU6ZJj2Cz1D",
        "colab_type": "code",
        "colab": {
          "base_uri": "https://localhost:8080/",
          "height": 35
        },
        "outputId": "a589da8b-6c80-48b8-d955-f71e729f99dc"
      },
      "source": [
        "import numpy as np\n",
        "\n",
        "arr1 = np.array([7, 1, 0])\n",
        "\n",
        "arr2 = np.array([2, 8, 1])\n",
        "\n",
        "arr = np.concatenate((arr1, arr2))\n",
        "\n",
        "print(arr)"
      ],
      "execution_count": null,
      "outputs": [
        {
          "output_type": "stream",
          "text": [
            "[7 1 0 2 8 1]\n"
          ],
          "name": "stdout"
        }
      ]
    },
    {
      "cell_type": "markdown",
      "metadata": {
        "id": "afvHLeSZDbEb",
        "colab_type": "text"
      },
      "source": [
        "### Splitting Arrays\n",
        "\n",
        "Splitting is the opposite of joining arrays. It takes one array and creates multiple from it."
      ]
    },
    {
      "cell_type": "code",
      "metadata": {
        "id": "V_fuARqaDp7z",
        "colab_type": "code",
        "colab": {
          "base_uri": "https://localhost:8080/",
          "height": 35
        },
        "outputId": "492e1c6d-4009-4285-fdbb-674291748880"
      },
      "source": [
        "# Split array into 4\n",
        "import numpy as np\n",
        "\n",
        "arr = np.array([1, 2, 3, 4, 5, 6,7,8])\n",
        "\n",
        "newarr = np.array_split(arr, 4)\n",
        "\n",
        "print(newarr)"
      ],
      "execution_count": null,
      "outputs": [
        {
          "output_type": "stream",
          "text": [
            "[array([1, 2]), array([3, 4]), array([5, 6]), array([7, 8])]\n"
          ],
          "name": "stdout"
        }
      ]
    },
    {
      "cell_type": "markdown",
      "metadata": {
        "id": "841BBfT9D2fr",
        "colab_type": "text"
      },
      "source": [
        "### Searching Arrays \n",
        "\n",
        "Searching an array to find a certain element is a very important and basic operation. We can do this using the *where()* method."
      ]
    },
    {
      "cell_type": "code",
      "metadata": {
        "id": "Or1mDyyhELuK",
        "colab_type": "code",
        "colab": {
          "base_uri": "https://localhost:8080/",
          "height": 35
        },
        "outputId": "7c0925bf-7e9f-4589-cff1-c419e40a2a73"
      },
      "source": [
        "import numpy as np\n",
        "\n",
        "arr = np.array([1, 2, 5, 9, 5, 3, 4])\n",
        "\n",
        "x = np.where(arr == 4) # Returns the index of the array element(s) that matches this condition \n",
        "\n",
        "print(x)"
      ],
      "execution_count": null,
      "outputs": [
        {
          "output_type": "stream",
          "text": [
            "(array([6]),)\n"
          ],
          "name": "stdout"
        }
      ]
    },
    {
      "cell_type": "code",
      "metadata": {
        "id": "3_qdQoDdET1i",
        "colab_type": "code",
        "colab": {
          "base_uri": "https://localhost:8080/",
          "height": 35
        },
        "outputId": "0b00f6bb-757c-4ee3-c976-412dcdf08f24"
      },
      "source": [
        "# Find all the odd numbers in an array\n",
        "import numpy as np\n",
        "\n",
        "arr = np.array([10, 20, 30, 40, 50, 60, 70, 80,99])\n",
        "\n",
        "x = np.where(arr%2 == 1)\n",
        "\n",
        "print(x)"
      ],
      "execution_count": null,
      "outputs": [
        {
          "output_type": "stream",
          "text": [
            "(array([8]),)\n"
          ],
          "name": "stdout"
        }
      ]
    },
    {
      "cell_type": "markdown",
      "metadata": {
        "id": "HD3-FwR8Ewed",
        "colab_type": "text"
      },
      "source": [
        "### Sorting Arrays\n",
        "\n",
        "Sorting an array is another very important and commonly used operation. NumPy has a function called sort() for this task."
      ]
    },
    {
      "cell_type": "code",
      "metadata": {
        "id": "K9vKOULjFAgJ",
        "colab_type": "code",
        "colab": {
          "base_uri": "https://localhost:8080/",
          "height": 35
        },
        "outputId": "1c7d4c09-9e26-4787-90e3-69a906c6ff85"
      },
      "source": [
        "import numpy as np\n",
        "\n",
        "arr = np.array([4, 1, 0, 3])\n",
        "\n",
        "print(np.sort(arr))"
      ],
      "execution_count": null,
      "outputs": [
        {
          "output_type": "stream",
          "text": [
            "[0 1 3 4]\n"
          ],
          "name": "stdout"
        }
      ]
    },
    {
      "cell_type": "code",
      "metadata": {
        "id": "a9UuLe91FJjC",
        "colab_type": "code",
        "colab": {
          "base_uri": "https://localhost:8080/",
          "height": 35
        },
        "outputId": "67120d36-b002-49a5-868b-33c7f4759ac1"
      },
      "source": [
        "# Sorting a string array alphabetically\n",
        "import numpy as np\n",
        "\n",
        "arr = np.array(['zephyr', 'gate', 'match'])\n",
        "\n",
        "print(np.sort(arr))"
      ],
      "execution_count": null,
      "outputs": [
        {
          "output_type": "stream",
          "text": [
            "['gate' 'match' 'zephyr']\n"
          ],
          "name": "stdout"
        }
      ]
    },
    {
      "cell_type": "markdown",
      "metadata": {
        "id": "65rLth-0Fw1M",
        "colab_type": "text"
      },
      "source": [
        "### Filtering Arrays\n",
        "\n",
        "Sometimes you would want to create a new array from an existing array where you select elements out based on a certain condition. Let's say you have an array with all integers from 1 to 10. You would like to create a new array with only the odd numbers from that list. You can do this very efficiently with **filtering**. When you filter something, you only take out what you want, and the same principle applies to objects in NumPy. NumPy uses what's called a **boolean index list** to filter. This is an array of True and False values that correspond directly to the target array and what values you would like to filter. For example, using the example above, the target array would look like this:\n",
        "\n",
        "[1,2,3,4,5,6,7,8,9,10]\n",
        "\n",
        "And if you wanted to filter out the odd values, you would use this particular boolean index list:\n",
        "\n",
        "[True,False,True,False,True,False,True,False,True,False]\n",
        "\n",
        "Applying this list onto the target array will get you what you want:\n",
        "\n",
        "[1,3,5,7,9]\n",
        "\n",
        "A working code example is shown below:"
      ]
    },
    {
      "cell_type": "code",
      "metadata": {
        "id": "hKxqtiLnGLp8",
        "colab_type": "code",
        "colab": {
          "base_uri": "https://localhost:8080/",
          "height": 35
        },
        "outputId": "922c92d9-765b-42a1-eb9a-05e4ce13bb03"
      },
      "source": [
        "import numpy as np\n",
        "\n",
        "arr = np.array([51, 52, 53, 54])\n",
        "\n",
        "x = [False, False, True, True]\n",
        "\n",
        "newarr = arr[x]\n",
        "\n",
        "print(newarr)"
      ],
      "execution_count": null,
      "outputs": [
        {
          "output_type": "stream",
          "text": [
            "[53 54]\n"
          ],
          "name": "stdout"
        }
      ]
    },
    {
      "cell_type": "markdown",
      "metadata": {
        "id": "lJqn6v1DGXcs",
        "colab_type": "text"
      },
      "source": [
        "We don't need to hard-code the True and False values. Like stated previously, we can filter based on conditions."
      ]
    },
    {
      "cell_type": "code",
      "metadata": {
        "id": "bhSUOfQyGgAA",
        "colab_type": "code",
        "colab": {
          "base_uri": "https://localhost:8080/",
          "height": 52
        },
        "outputId": "f3ee38df-2a9a-4e23-c15b-ef749b027ee1"
      },
      "source": [
        "arr = np.array([51, 52, 53, 54])\n",
        "\n",
        "# Create an empty list\n",
        "filter_arr = []\n",
        "\n",
        "# go through each element in arr\n",
        "for element in arr:\n",
        "  # if the element is higher than 52, set the value to True, otherwise False:\n",
        "  if element > 52:\n",
        "    filter_arr.append(True)\n",
        "  else:\n",
        "    filter_arr.append(False)\n",
        "\n",
        "newarr = arr[filter_arr]\n",
        "\n",
        "print(filter_arr)\n",
        "print(newarr)"
      ],
      "execution_count": null,
      "outputs": [
        {
          "output_type": "stream",
          "text": [
            "[False, False, True, True]\n",
            "[53 54]\n"
          ],
          "name": "stdout"
        }
      ]
    },
    {
      "cell_type": "markdown",
      "metadata": {
        "id": "IG9cno8LpGol",
        "colab_type": "text"
      },
      "source": [
        "Filtering is a very common task when working with data and as such, NumPy has an even more efficient way to perform it. It is possible to create a boolean index list directly from the target array and then apply it to obtain the filtered array. See the example below:"
      ]
    },
    {
      "cell_type": "code",
      "metadata": {
        "id": "3sAu4xwLpleg",
        "colab_type": "code",
        "colab": {
          "base_uri": "https://localhost:8080/",
          "height": 52
        },
        "outputId": "6d4a31d7-552d-4d2a-a012-93635b4f3b52"
      },
      "source": [
        "import numpy as np\n",
        "\n",
        "arr = np.array([10,20,30,40,50,60,70,80,90,100])\n",
        "\n",
        "filter = arr > 50\n",
        "\n",
        "filter_arr = arr[filter]\n",
        "\n",
        "print(filter)\n",
        "print(filter_arr)"
      ],
      "execution_count": null,
      "outputs": [
        {
          "output_type": "stream",
          "text": [
            "[False False False False False  True  True  True  True  True]\n",
            "[ 60  70  80  90 100]\n"
          ],
          "name": "stdout"
        }
      ]
    },
    {
      "cell_type": "markdown",
      "metadata": {
        "id": "VBYWg62SLwZz",
        "colab_type": "text"
      },
      "source": [
        "### 5.0 Now Try This:\n",
        "\n",
        "Create an array with the first 10 numbers of the Fibonacci sequence. Split this array into two. On each half, search for any multiples of 4. Next, filter both arrays for multiples of 5. Finally, take the two filtered arrays, join them, and sort them."
      ]
    },
    {
      "cell_type": "code",
      "metadata": {
        "id": "_77k8k2eMsbt",
        "colab_type": "code",
        "colab": {}
      },
      "source": [
        "# Answer here\n"
      ],
      "execution_count": null,
      "outputs": []
    },
    {
      "cell_type": "markdown",
      "metadata": {
        "id": "zDb-gWiAG0ur",
        "colab_type": "text"
      },
      "source": [
        "### Random Numbers and Distributions"
      ]
    },
    {
      "cell_type": "markdown",
      "metadata": {
        "id": "nqmVYc5IvQIo",
        "colab_type": "text"
      },
      "source": [
        "You will find yourself using randomly generated numbers and objects quite often in statistical analysis. This is especailly true when creating simulations. As such, it is important to be familar with both random object generation as well as the random distribution."
      ]
    },
    {
      "cell_type": "markdown",
      "metadata": {
        "id": "6JTGbxzWwifb",
        "colab_type": "text"
      },
      "source": [
        "### Random Generation"
      ]
    },
    {
      "cell_type": "code",
      "metadata": {
        "id": "86aKS-2IvsOp",
        "colab_type": "code",
        "colab": {
          "base_uri": "https://localhost:8080/",
          "height": 35
        },
        "outputId": "ce4d290c-dfb1-4930-b5e5-58811ffdbfa7"
      },
      "source": [
        "# Generate a random integer\n",
        "from numpy import random\n",
        "\n",
        "x = random.randint(50)\n",
        "\n",
        "print(x)"
      ],
      "execution_count": null,
      "outputs": [
        {
          "output_type": "stream",
          "text": [
            "23\n"
          ],
          "name": "stdout"
        }
      ]
    },
    {
      "cell_type": "code",
      "metadata": {
        "id": "60W31d9BvzLw",
        "colab_type": "code",
        "colab": {
          "base_uri": "https://localhost:8080/",
          "height": 35
        },
        "outputId": "f076891e-02bb-40db-d450-1b02af456765"
      },
      "source": [
        "# Generate a random float\n",
        "from numpy import random\n",
        "\n",
        "x = random.rand()\n",
        "\n",
        "print(x)"
      ],
      "execution_count": null,
      "outputs": [
        {
          "output_type": "stream",
          "text": [
            "0.7430470171291289\n"
          ],
          "name": "stdout"
        }
      ]
    },
    {
      "cell_type": "code",
      "metadata": {
        "id": "5_Ypwl_9v8Om",
        "colab_type": "code",
        "colab": {
          "base_uri": "https://localhost:8080/",
          "height": 35
        },
        "outputId": "3e94d84f-a739-4df7-c7e0-ee1a84c60a05"
      },
      "source": [
        "# Generate a random integer array of a fixed size\n",
        "from numpy import random\n",
        "\n",
        "x=random.randint(100, size=(5))\n",
        "\n",
        "print(x)"
      ],
      "execution_count": null,
      "outputs": [
        {
          "output_type": "stream",
          "text": [
            "[95 35 51 66 49]\n"
          ],
          "name": "stdout"
        }
      ]
    },
    {
      "cell_type": "code",
      "metadata": {
        "id": "sXvZzOIlwMXW",
        "colab_type": "code",
        "colab": {
          "base_uri": "https://localhost:8080/",
          "height": 52
        },
        "outputId": "d5f50a1a-99f2-4215-c31e-e4af780b388b"
      },
      "source": [
        "# Generate a random float array of fixed size\n",
        "from numpy import random\n",
        "\n",
        "x=random.rand(10)\n",
        "\n",
        "print(x)"
      ],
      "execution_count": null,
      "outputs": [
        {
          "output_type": "stream",
          "text": [
            "[0.61790744 0.04358101 0.45571515 0.04022127 0.02050482 0.67487397\n",
            " 0.91171688 0.96665611 0.57881927 0.87026867]\n"
          ],
          "name": "stdout"
        }
      ]
    },
    {
      "cell_type": "code",
      "metadata": {
        "id": "LDaCM52vwW5Y",
        "colab_type": "code",
        "colab": {
          "base_uri": "https://localhost:8080/",
          "height": 35
        },
        "outputId": "580aa0bc-fd80-4e4c-d6bd-042d501efa4a"
      },
      "source": [
        "# Randomly select a number from an array\n",
        "from numpy import random\n",
        "\n",
        "x = random.choice([2, 4, 8, 16])\n",
        "\n",
        "print(x)"
      ],
      "execution_count": null,
      "outputs": [
        {
          "output_type": "stream",
          "text": [
            "4\n"
          ],
          "name": "stdout"
        }
      ]
    },
    {
      "cell_type": "markdown",
      "metadata": {
        "id": "_j2nLzB6wolW",
        "colab_type": "text"
      },
      "source": [
        "### Random Distribution\n",
        "A random distribution is a set of random numbers that each have a set probability of being selected. A very commonly known example of a random distribution is a 6-sided die. Each number from 1-6, has a certain probability of being rolled but they are all independent and random. One roll will not affect the next in any way.\n",
        "\n",
        "We can generate random numbers based on defined probabilities using the choice() method of the random module. The choice() method allows us to explicitly set the probability for each value."
      ]
    },
    {
      "cell_type": "code",
      "metadata": {
        "id": "1KH0-9ZgxMec",
        "colab_type": "code",
        "colab": {
          "base_uri": "https://localhost:8080/",
          "height": 35
        },
        "outputId": "3ae50199-baa9-4dcf-d9a9-5abf63d10bb6"
      },
      "source": [
        "# Create an array of 20 randomly selected numbers from 4 choices. Each choice has a certain chance of being chosen.\n",
        "from numpy import random\n",
        "\n",
        "x = random.choice([2, 4, 8, 16], p=[0.2, 0.1, 0.3, 0.4], size=(20))\n",
        "\n",
        "# The sum of all probabilities in the p vector should be 1!\n",
        "\n",
        "print(x)"
      ],
      "execution_count": null,
      "outputs": [
        {
          "output_type": "stream",
          "text": [
            "[16  8  8  2  2  2 16 16 16  8  2 16 16  2  8 16 16  8  2  8]\n"
          ],
          "name": "stdout"
        }
      ]
    },
    {
      "cell_type": "markdown",
      "metadata": {
        "id": "xcEw5QFQNKIU",
        "colab_type": "text"
      },
      "source": [
        "### 6.0 Now Try This:\n",
        "Use random distributions to create a dice simulator.\n",
        "\n",
        "SAMPLE OUTPUT:\n",
        "\n",
        "\"You rolled a: 6\"\n",
        "\n",
        "\"You rolled a: 12\"\n",
        "\n",
        "\"You rolled a: 2\""
      ]
    },
    {
      "cell_type": "code",
      "metadata": {
        "id": "i4tSOjdCO2Qq",
        "colab_type": "code",
        "colab": {}
      },
      "source": [
        "# Answer Here"
      ],
      "execution_count": null,
      "outputs": []
    },
    {
      "cell_type": "markdown",
      "metadata": {
        "id": "oHCM3VFuCOC_",
        "colab_type": "text"
      },
      "source": [
        "### Normal Distribution\n",
        "\n",
        "Also called a Gaussian Distribution, this distribution is called \"normal\" because of how commonly it is found in nature. Many real-world phenomena's probability distribution like Height, Weight, Heartbeat rates, and IQ scores can be modelled by the Normal distribution. In NumPy, you can utilize the normal distribution with the help of the `random.normal()` function. The function has 3 parameters to it`loc` - the mean of the distribution,\n",
        "`scale` - the standard deviation of the distribution, and `size` - the shape of the returned array. We will recap mean and standard deviation in the next section."
      ]
    },
    {
      "cell_type": "code",
      "metadata": {
        "id": "HLK2ghDoDXhN",
        "colab_type": "code",
        "colab": {
          "base_uri": "https://localhost:8080/",
          "height": 52
        },
        "outputId": "67220b0f-39d5-4aa4-8dfa-df41ca3bce51"
      },
      "source": [
        "\n",
        "from numpy import random\n",
        "\n",
        "x = random.normal(size=(2, 3))\n",
        "\n",
        "print(x)"
      ],
      "execution_count": null,
      "outputs": [
        {
          "output_type": "stream",
          "text": [
            "[[ 0.42104519 -1.47819585 -0.72674732]\n",
            " [ 0.80088797  1.51236937  0.83538344]]\n"
          ],
          "name": "stdout"
        }
      ]
    },
    {
      "cell_type": "code",
      "metadata": {
        "id": "t3dT3acgIlpm",
        "colab_type": "code",
        "colab": {
          "base_uri": "https://localhost:8080/",
          "height": 269
        },
        "outputId": "2fc583bb-2061-42ee-f04e-3b919dc98271"
      },
      "source": [
        "# Visualizing a normal distribution\n",
        "from numpy import random\n",
        "import matplotlib.pyplot as plt\n",
        "import seaborn as sns\n",
        "\n",
        "sns.distplot(random.normal(size=10000), hist=False)\n",
        "\n",
        "plt.show()"
      ],
      "execution_count": null,
      "outputs": [
        {
          "output_type": "display_data",
          "data": {
            "image/png": "[encoded data removed]",
            "text/plain": [
              "<Figure size 432x288 with 1 Axes>"
            ]
          },
          "metadata": {
            "tags": [],
            "needs_background": "light"
          }
        }
      ]
    },
    {
      "cell_type": "markdown",
      "metadata": {
        "id": "UcBHzXDCJAGD",
        "colab_type": "text"
      },
      "source": [
        "Here, we created a random array of 10000 numbers and plotted the values. The mean of the distribution is at 0 with a standard of 1. As we can see here, the vast majority of values fall around the 0 mark with very few values near the extremes at the -4 and 4 mark. The probability of each value occurring is plotted on the y axis."
      ]
    },
    {
      "cell_type": "markdown",
      "metadata": {
        "id": "RTYrEFzGG6cH",
        "colab_type": "text"
      },
      "source": [
        "### Universal Functions \n"
      ]
    },
    {
      "cell_type": "markdown",
      "metadata": {
        "id": "4WBBCC4gYAcW",
        "colab_type": "text"
      },
      "source": [
        "Universal functions are built-in NumPy methods that work on NumPy array objects, or *ndarrays*. The way you normally iterate through elements in an array is through some sort of loop, but universal functions, or ufuncs, iterate through a process called **vectorization**. This is a much faster, more efficient way of iterating that makes better use of modern CPU's capabilities. We'll discuss some of the most popular, and commonly used ufuncs here."
      ]
    },
    {
      "cell_type": "markdown",
      "metadata": {
        "id": "as862X-YdcKW",
        "colab_type": "text"
      },
      "source": [
        "#### Summations"
      ]
    },
    {
      "cell_type": "code",
      "metadata": {
        "id": "4niG48Swd0jT",
        "colab_type": "code",
        "colab": {
          "base_uri": "https://localhost:8080/",
          "height": 35
        },
        "outputId": "97b20b30-5515-4e37-ca70-245ded22079c"
      },
      "source": [
        "# Sums up all the elements in arr1 \n",
        "# and then adds the result to the\n",
        "# sum of all elements in arr2\n",
        "import numpy as np\n",
        "\n",
        "arr1 = np.array([10,20,20])\n",
        "arr2 = np.array([5,15,30])\n",
        "\n",
        "# The arrays need to be the same length!\n",
        "\n",
        "newarr = np.sum([arr1, arr2])\n",
        "\n",
        "print(newarr)"
      ],
      "execution_count": null,
      "outputs": [
        {
          "output_type": "stream",
          "text": [
            "100\n"
          ],
          "name": "stdout"
        }
      ]
    },
    {
      "cell_type": "markdown",
      "metadata": {
        "id": "IuuIcEsZefQz",
        "colab_type": "text"
      },
      "source": [
        "#### Axes in Summation\n",
        "The sum function in NumPy has additional arguments that you can pass to it. One of them is the `axis` argument. Depending on the value of `axis` that you set, you can either sum up arrays row-wise or column-wise. In the case of 1D arrays, you can only sum row-wise whereas column-wise summations apply to matrices and other higher dimension arrays."
      ]
    },
    {
      "cell_type": "code",
      "metadata": {
        "id": "MkCGff9KfftL",
        "colab_type": "code",
        "colab": {
          "base_uri": "https://localhost:8080/",
          "height": 35
        },
        "outputId": "6306eb46-6532-4c92-916d-82baf2fc20ef"
      },
      "source": [
        "# Sum up each array row wise and\n",
        "# create a new array with the results\n",
        "\n",
        "import numpy as np\n",
        "\n",
        "arr1 = np.array([10, 30, 50])\n",
        "arr2 = np.array([20, 40, 60])\n",
        "\n",
        "newarr = np.sum([arr1, arr2], axis=1)\n",
        "\n",
        "print(newarr)"
      ],
      "execution_count": null,
      "outputs": [
        {
          "output_type": "stream",
          "text": [
            "[ 90 120]\n"
          ],
          "name": "stdout"
        }
      ]
    },
    {
      "cell_type": "markdown",
      "metadata": {
        "id": "FQSsh8h9fzQq",
        "colab_type": "text"
      },
      "source": [
        "#### Cummulative Sums\n",
        "NumPy also allow you to perform cummulative sums on an array. Cummulative sums are where each element is summed with the previous elements. Here's an example."
      ]
    },
    {
      "cell_type": "code",
      "metadata": {
        "id": "NYgZT3x2gMf2",
        "colab_type": "code",
        "colab": {
          "base_uri": "https://localhost:8080/",
          "height": 35
        },
        "outputId": "971ce480-9dd7-4dc2-9662-2a6d423e6666"
      },
      "source": [
        "# Cummulative sum of an array\n",
        "import numpy as np\n",
        "\n",
        "arr = np.array([5,7,9,11,13])\n",
        "\n",
        "newarr = np.cumsum(arr)\n",
        "\n",
        "print(newarr)\n",
        "# The following array is [5,7+5,9+7+5,11+9+7+5,13+11+9+7+5]"
      ],
      "execution_count": null,
      "outputs": [
        {
          "output_type": "stream",
          "text": [
            "[ 5 12 21 32 45]\n"
          ],
          "name": "stdout"
        }
      ]
    },
    {
      "cell_type": "markdown",
      "metadata": {
        "id": "niOIpcIGiRoA",
        "colab_type": "text"
      },
      "source": [
        "# Introduction to Statistical Analysis"
      ]
    },
    {
      "cell_type": "markdown",
      "metadata": {
        "id": "6FAx6y0rKCbm",
        "colab_type": "text"
      },
      "source": [
        "Statistics plays a central part in data science and is practically it's foundation. As such, performing statistical analysis on data will be a routine part of any project you will be a part of. Since we've already covered the basics of NumPy, it would be prudent to discuss how to perform standard statistical operations on data using NumPy."
      ]
    },
    {
      "cell_type": "markdown",
      "metadata": {
        "id": "YXtCVSm1Klhi",
        "colab_type": "text"
      },
      "source": [
        "## Obtaining Min and Max\n"
      ]
    },
    {
      "cell_type": "code",
      "metadata": {
        "id": "OB00tgYCbQwj",
        "colab_type": "code",
        "colab": {
          "base_uri": "https://localhost:8080/",
          "height": 121
        },
        "outputId": "58b45f67-666a-407c-d291-91eb466d4f23"
      },
      "source": [
        "# Calculating minima\n",
        "\n",
        "import numpy as num \n",
        "\n",
        "num1 = 10\n",
        "num2 = 20\n",
        "\n",
        "arr1 = [1, 4, 10] \n",
        "arr2 = [2, 3, 20] \n",
        "\n",
        "print(arr1) \n",
        "print(arr2) \n",
        "\n",
        "min_1 = num.minimum(num1,num2) # Minimum of two numbers\n",
        "min_2 = num.minimum(arr1,arr2) # Creates an array with element-wise minima from arrays\n",
        "\n",
        "print(min_1)\n",
        "print(min_2)\n",
        "\n",
        "# Calculating maxima\n",
        "# Very similar\n",
        "\n",
        "max_1 = num.maximum(num1,num2) # Maximum of two numbers\n",
        "max_2 = num.maximum(arr1,arr2) # Creates an array with element-wise maxima from arrays\n",
        "\n",
        "print(max_1)\n",
        "print(max_2)"
      ],
      "execution_count": null,
      "outputs": [
        {
          "output_type": "stream",
          "text": [
            "[1, 4, 10]\n",
            "[2, 3, 20]\n",
            "10\n",
            "[ 1  3 10]\n",
            "20\n",
            "[ 2  4 20]\n"
          ],
          "name": "stdout"
        }
      ]
    },
    {
      "cell_type": "markdown",
      "metadata": {
        "id": "d1XomtG-rPCR",
        "colab_type": "text"
      },
      "source": [
        "## Mean\n",
        "\n",
        "The mean or arithmetic mean is typically defined as the average of a set of data."
      ]
    },
    {
      "cell_type": "code",
      "metadata": {
        "id": "GkWdRbgbrWwm",
        "colab_type": "code",
        "colab": {
          "base_uri": "https://localhost:8080/",
          "height": 52
        },
        "outputId": "c173be3c-af27-4cc3-c144-d81f5f5ab46b"
      },
      "source": [
        "# Calculating the mean\n",
        "import numpy as num\n",
        "\n",
        "arr = [30, 1, 15, 28, 93] \n",
        "\n",
        "print(arr) \n",
        "print(\"MEAN : \", num.mean(arr)) \n",
        "\n"
      ],
      "execution_count": null,
      "outputs": [
        {
          "output_type": "stream",
          "text": [
            "[30, 1, 15, 28, 93]\n",
            "MEAN :  33.4\n"
          ],
          "name": "stdout"
        }
      ]
    },
    {
      "cell_type": "markdown",
      "metadata": {
        "id": "T38YCmKHryx5",
        "colab_type": "text"
      },
      "source": [
        "## Median\n",
        "\n",
        "The median is typically defined as the middle of a set of numbers. Sometimes this is the same value as the mean, but not always."
      ]
    },
    {
      "cell_type": "code",
      "metadata": {
        "id": "GfZIKjNer0x_",
        "colab_type": "code",
        "colab": {
          "base_uri": "https://localhost:8080/",
          "height": 52
        },
        "outputId": "2d697b98-d955-468b-95f4-f1f83ef519ca"
      },
      "source": [
        "# Calculating a median (odd or even)\n",
        "\t\n",
        "import numpy as num \n",
        "\t \n",
        "arr = [30, 1, 15, 28, 93] \n",
        "\n",
        "print(arr) \n",
        "print(\"MEDIAN: \", num.median(arr)) \n",
        "\n"
      ],
      "execution_count": null,
      "outputs": [
        {
          "output_type": "stream",
          "text": [
            "[30, 1, 15, 28, 93]\n",
            "MEDIAN:  28.0\n"
          ],
          "name": "stdout"
        }
      ]
    },
    {
      "cell_type": "markdown",
      "metadata": {
        "id": "jsUl8ZrmsPEq",
        "colab_type": "text"
      },
      "source": [
        "## Variance\n",
        "\n",
        "The variance can be informally defined as a measure of how far a set of values are spread out from their average value. To calculate the variance:\n",
        "\n",
        "- Subtract each number in the set from the mean\n",
        "- Square each value\n",
        "- Take the average of all the squares\n",
        "\n",
        "The reason why we square the values is that many times the sum of differences from the mean add up to 0."
      ]
    },
    {
      "cell_type": "code",
      "metadata": {
        "id": "MBztHCJasUZZ",
        "colab_type": "code",
        "colab": {
          "base_uri": "https://localhost:8080/",
          "height": 52
        },
        "outputId": "bd96b075-40b8-4041-d2b0-2800db1052c6"
      },
      "source": [
        "# Calculating the variance\n",
        "\n",
        "import numpy as num \n",
        "\n",
        "arr = [30, 1, 15, 28, 93] \n",
        "\n",
        "print(arr) \n",
        "print(\"VARIANCE : \", num.var(arr)) \n"
      ],
      "execution_count": null,
      "outputs": [
        {
          "output_type": "stream",
          "text": [
            "[30, 1, 15, 28, 93]\n",
            "VARIANCE :  996.2400000000001\n"
          ],
          "name": "stdout"
        }
      ]
    },
    {
      "cell_type": "markdown",
      "metadata": {
        "id": "ukKoOKvys-2p",
        "colab_type": "text"
      },
      "source": [
        "## Standard Deviation\n",
        "\n",
        "The standard deviation is the square root of the variance. But more than that, it actually has a very intuitive use. We can easily tell if a certain value in the array is extreme or an outlier based on how many standard deviations it is away from the mean. If a number is more than 3 standard deviations away, we can call that an outlier."
      ]
    },
    {
      "cell_type": "code",
      "metadata": {
        "id": "v8-Kz2XrtLEu",
        "colab_type": "code",
        "colab": {
          "base_uri": "https://localhost:8080/",
          "height": 52
        },
        "outputId": "6ef09862-d0ef-4fbd-8e19-fd8fb7dd7ef7"
      },
      "source": [
        "# Calculating the standard deviation\n",
        "\n",
        "import numpy as num \n",
        "\n",
        "arr = [30, 1, 15, 28, 93] \n",
        "\n",
        "print(arr) \n",
        "print(\"STANDARD DEVIATION : \", num.std(arr)) "
      ],
      "execution_count": null,
      "outputs": [
        {
          "output_type": "stream",
          "text": [
            "[30, 1, 15, 28, 93]\n",
            "STANDARD DEVIATION :  31.563269792592784\n"
          ],
          "name": "stdout"
        }
      ]
    },
    {
      "cell_type": "markdown",
      "metadata": {
        "id": "1_PfEXX6tsn9",
        "colab_type": "text"
      },
      "source": [
        "## Quantiles\n",
        "\n",
        "A qth quantile is a number where q% of the values in a distribution fall below that number. For instance, calculating a 33rd quantile means finding a number where a 1/3 of the values in a dataset are below it. Quantiles are generic and can have any range (ie. from 0 - 10, 20 - 50, etc.) "
      ]
    },
    {
      "cell_type": "code",
      "metadata": {
        "id": "6VyztH7GuTml",
        "colab_type": "code",
        "colab": {
          "base_uri": "https://localhost:8080/",
          "height": 104
        },
        "outputId": "0b096453-913a-4779-ee18-ce8b19bfa7cc"
      },
      "source": [
        "# Multiple quantile calculations\n",
        "\n",
        "import numpy as num\n",
        "\n",
        "arr = [30, 1, 15, 28, 93] \n",
        "\n",
        "print(arr) \n",
        "print(\"50th quantile of arr : \", num.quantile(arr, .50)) \n",
        "print(\"25th quantile of arr : \", num.quantile(arr, .25)) \n",
        "print(\"75th quantile of arr : \", num.quantile(arr, .75)) \n",
        "print(\"33rd quantile of arr : \", num.quantile(arr, .33)) \n",
        "\t\n"
      ],
      "execution_count": null,
      "outputs": [
        {
          "output_type": "stream",
          "text": [
            "[30, 1, 15, 28, 93]\n",
            "50th quantile of arr :  28.0\n",
            "25th quantile of arr :  15.0\n",
            "75th quantile of arr :  30.0\n",
            "33rd quantile of arr :  19.16\n"
          ],
          "name": "stdout"
        }
      ]
    },
    {
      "cell_type": "markdown",
      "metadata": {
        "id": "ZP0ujdvSQEP9",
        "colab_type": "text"
      },
      "source": [
        "### 7.0 Now Try This:\n",
        "\n",
        "Create a randomly generated array of any size using either the normal or random distributions. Then, calculate the following statistics for that array:\n",
        "\n",
        "Mean, Median, Variance, Standard Deviation, 84th quantile."
      ]
    },
    {
      "cell_type": "code",
      "metadata": {
        "id": "X1H2DSxuQdRB",
        "colab_type": "code",
        "colab": {}
      },
      "source": [
        "# Answer Here"
      ],
      "execution_count": null,
      "outputs": []
    },
    {
      "cell_type": "markdown",
      "metadata": {
        "id": "t-wee-8xu56M",
        "colab_type": "text"
      },
      "source": [
        "## Covariance\n",
        "\n",
        "Sometimes you have two or more variables in your data set and would like to know how they vary together as the values change. You can measure that using covariance.\n",
        "\n",
        "- If cov(x,y) = 0 then variables are uncorrelated\n",
        "- If cov(x,y) > 0 then variables are positively correlated\n",
        "- If cov(x,y) < 0 then variables are negatively correlated"
      ]
    },
    {
      "cell_type": "code",
      "metadata": {
        "id": "bqLb5JtLv0a3",
        "colab_type": "code",
        "colab": {
          "base_uri": "https://localhost:8080/",
          "height": 87
        },
        "outputId": "53031e99-3b54-4641-8205-13c1c17a89ab"
      },
      "source": [
        "# Covariance between multiple arrays\n",
        "\n",
        "import numpy as num \n",
        "\n",
        "# An array of 3 variables with 5 possible values for each\n",
        "x = num.array([ [0.1, 0.3, 0.4, 0.8, 0.9],\n",
        "               [3.2, 2.4, 2.4, 0.1, 5.5],\n",
        "               [10., 8.2, 4.3, 2.6, 0.9]\n",
        "             ])\n",
        "print(\"Covariance matrix:\\n\", num.cov(x)) \n"
      ],
      "execution_count": null,
      "outputs": [
        {
          "output_type": "stream",
          "text": [
            "Covariance matrix:\n",
            " [[ 0.115   0.0575 -1.2325]\n",
            " [ 0.0575  3.757  -0.8775]\n",
            " [-1.2325 -0.8775 14.525 ]]\n"
          ],
          "name": "stdout"
        }
      ]
    },
    {
      "cell_type": "markdown",
      "metadata": {
        "id": "O5C_7h8nyPTA",
        "colab_type": "text"
      },
      "source": [
        "### Interpretation of Covariance Matrix\n",
        "\n",
        "The main diagonal (C_ii) are the variances for each variable. 0.115 is the variance for var_1, 3.757 for var_2, and 14.525 for var_3. The other values in the matrix tell us the direction of correlation between the other variables. For instance, -1.325 is the covariance between var_1 and var_3, and we can see that there is a negative correlation. That is, as one values for one increases, the values in the other decrease. You'll also notice that some values repeat. That's because the values are mirrored. The covariance between var_1 and var_3 is the same as the one between var_3 and var_1. "
      ]
    },
    {
      "cell_type": "markdown",
      "metadata": {
        "id": "5XMXE4cazK4a",
        "colab_type": "text"
      },
      "source": [
        "## Cross-Correlation\n",
        "\n",
        "A very similar statistic to covariance that we can calculate is the cross-correlation between variables. While covariance can only reliably tell us the direction of correlation, cross-correlation can also tell us the strength of this correlation."
      ]
    },
    {
      "cell_type": "code",
      "metadata": {
        "id": "rtRsF3F9z0uZ",
        "colab_type": "code",
        "colab": {
          "base_uri": "https://localhost:8080/",
          "height": 52
        },
        "outputId": "7aa3abfe-e7eb-40e2-b370-71c073fd583f"
      },
      "source": [
        "import numpy as num\n",
        "\n",
        "num.random.seed(30)\n",
        "\n",
        "# 100 random integers between 0 and 75\n",
        "x = num.random.randint(0, 75, 100)\n",
        "\n",
        "# Positive Correlation with some noise\n",
        "y = x + num.random.normal(0, 10, 100)\n",
        "\n",
        "num.corrcoef(x, y)\n",
        "\n",
        "# There is a VERY strong correlation between x and y here.\n",
        "# Correlations can be a min of 0 and a max of 1."
      ],
      "execution_count": null,
      "outputs": [
        {
          "output_type": "execute_result",
          "data": {
            "text/plain": [
              "array([[1.        , 0.91523891],\n",
              "       [0.91523891, 1.        ]])"
            ]
          },
          "metadata": {
            "tags": []
          },
          "execution_count": 24
        }
      ]
    },
    {
      "cell_type": "code",
      "metadata": {
        "id": "9dRgES6s0T6C",
        "colab_type": "code",
        "colab": {
          "base_uri": "https://localhost:8080/",
          "height": 52
        },
        "outputId": "abe1d39c-5e5d-4665-a965-49d4734cd664"
      },
      "source": [
        "# Negative correlations\n",
        "\n",
        "import numpy as num\n",
        "\n",
        "num.random.seed(30)\n",
        "\n",
        "# 100 random integers between 0 and 75\n",
        "x = num.random.randint(0, 75, 100)\n",
        "\n",
        "# Positive Correlation with some noise\n",
        "y = 200 - x + num.random.normal(0, 10, 100)\n",
        "\n",
        "num.corrcoef(x, y)\n",
        "\n",
        "# Not as strong, but still a very prominent negative correlation between x and y here."
      ],
      "execution_count": null,
      "outputs": [
        {
          "output_type": "execute_result",
          "data": {
            "text/plain": [
              "array([[ 1.        , -0.89798683],\n",
              "       [-0.89798683,  1.        ]])"
            ]
          },
          "metadata": {
            "tags": []
          },
          "execution_count": 25
        }
      ]
    },
    {
      "cell_type": "markdown",
      "metadata": {
        "id": "V7EWnBh2SwlP",
        "colab_type": "text"
      },
      "source": [
        "## Preview of Exploratory Data Analysis and Linear Regression\n",
        "\n",
        "### Exploratory Data Analysis\n",
        "Typically when you are given a dataset and tasked with finding answers to a certain problem, the first thing you do is explore the dataset and see if you can find any general insights or broad patterns. Are certain variables influencing each other? Does the distribution of a certain dataset seem **skewed** (heavily assymetric in one direction or the other)? And so on. We will do this as part of a full data analysis in a later week, but for now let's get a taste of what this process looks like."
      ]
    },
    {
      "cell_type": "markdown",
      "metadata": {
        "id": "bKn_DdCQtlm3",
        "colab_type": "text"
      },
      "source": [
        "`pandas_profiling` allows us to create a very quick report on datasets that we've imported. First, we need to install it in Google Colab, and then import it. Below, the \"!\" tells Colab that this isn't a regular Python code block. Rather, it is a command we run in the terminal. \"Pip\" is the name of a very popular Python package manager, whcih can be used to install external packages. The \"-U\" argument tells Colab to install the latest version of a package OR update the package to the newest version if it's already installed."
      ]
    },
    {
      "cell_type": "code",
      "metadata": {
        "id": "6GuWCBijulYf",
        "colab_type": "code",
        "colab": {}
      },
      "source": [
        "!pip install -U pandas-profiling"
      ],
      "execution_count": null,
      "outputs": []
    },
    {
      "cell_type": "code",
      "metadata": {
        "id": "Rpf7W8qBT9Tk",
        "colab_type": "code",
        "colab": {
          "base_uri": "https://localhost:8080/",
          "height": 72
        },
        "outputId": "9292c818-9270-4b82-bbda-31e9b55c5105"
      },
      "source": [
        "# First, import all the libraries\n",
        "import numpy as np\n",
        "import pandas as pd\n",
        "import pandas.util.testing as tm # A newer version of a pandas package\n",
        "import matplotlib.pyplot as plt\n",
        "import seaborn as sns\n",
        "import pandas_profiling # Has methods for very handy reports on datasets"
      ],
      "execution_count": null,
      "outputs": [
        {
          "output_type": "stream",
          "text": [
            "/usr/local/lib/python3.6/dist-packages/ipykernel_launcher.py:4: FutureWarning: pandas.util.testing is deprecated. Use the functions in the public API at pandas.testing instead.\n",
            "  after removing the cwd from sys.path.\n"
          ],
          "name": "stderr"
        }
      ]
    },
    {
      "cell_type": "code",
      "metadata": {
        "id": "YuQlbCSlU9TD",
        "colab_type": "code",
        "colab": {}
      },
      "source": [
        "# Import the data\n",
        "url = \"https://raw.githubusercontent.com/bitprj/DigitalHistory/Atul/Week8-Intro-to-Statistical-Analysis-and-Methods/data/Placement_Data_Full_Class.csv\"\n",
        "data = pd.read_csv(url)\n",
        "\n",
        "# Remove an unnecessary column - Serial Number\n",
        "data.drop(\"sl_no\", axis=1, inplace=True) # Axis = 1 means we want to drop a column... \n",
        "# ...and inplace=True means we don't want to create a copy of the dataset"
      ],
      "execution_count": null,
      "outputs": []
    },
    {
      "cell_type": "code",
      "metadata": {
        "id": "4TkEVH3DuAup",
        "colab_type": "code",
        "colab": {}
      },
      "source": [
        "# Generate Report\n",
        "data.profile_report(title='Campus Placement Data - Report', progress_bar=False)"
      ],
      "execution_count": null,
      "outputs": []
    },
    {
      "cell_type": "markdown",
      "metadata": {
        "id": "ofkKsOt-wiqI",
        "colab_type": "text"
      },
      "source": [
        "Feel free to take a close look at the report. From this report, two key takeaways include:\n",
        "\n",
        "- 67 Missing values in Salary for students who didn't get placed. These NaN values need to be filled.\n",
        "\n",
        "- In salary, 300k at 75th Percentile goes all the way up to 940k max, in Salary (highly skewed). A reminder that a **percentile** is value where a certain percentage of the total values fall at or below that value. It's very similar to quantiles except that percentiles always range from 0 - 100. In this case, the 75th percentile means that 75% of all salaries are either the same or lower than 300k. Such a large gap between this value and the max at 940k suggests that there might be **outliers** in the data, extreme data points that heavily stray from the norm."
      ]
    },
    {
      "cell_type": "markdown",
      "metadata": {
        "id": "0vewYXyn0Sz5",
        "colab_type": "text"
      },
      "source": [
        "#### Exploring features of the data\n",
        "Sometimes columns of a dataset are called **features**. One of the basic questions associated with EDA is how features affect each other. In this case, a question could be:\n",
        "\n",
        "Does gender affect whether or not someone gets recruited?\n",
        "\n",
        "We can try and determine the answer to this question by generating some plots."
      ]
    },
    {
      "cell_type": "code",
      "metadata": {
        "id": "viWOg38W05lJ",
        "colab_type": "code",
        "colab": {
          "base_uri": "https://localhost:8080/",
          "height": 69
        },
        "outputId": "41dd4d82-97bb-40c2-9ff6-9f1a8a817cb9"
      },
      "source": [
        "data.gender.value_counts() # Find the number of males vs. female students\n",
        "# Almost double as many males as females"
      ],
      "execution_count": null,
      "outputs": [
        {
          "output_type": "execute_result",
          "data": {
            "text/plain": [
              "M    139\n",
              "F     76\n",
              "Name: gender, dtype: int64"
            ]
          },
          "metadata": {
            "tags": []
          },
          "execution_count": 4
        }
      ]
    },
    {
      "cell_type": "code",
      "metadata": {
        "id": "SmM5h4rv0505",
        "colab_type": "code",
        "colab": {
          "base_uri": "https://localhost:8080/",
          "height": 283
        },
        "outputId": "d4d87749-286a-4487-e235-8028f3cae25d"
      },
      "source": [
        "# Generates a stacked bar chart with gender on the x axis,\n",
        "# count of students on the y-axis, and recruitment status\n",
        "# as the color\n",
        "sns.countplot(\"gender\", hue=\"status\", data=data) \n",
        "\n",
        "plt.show() # Displays all figures"
      ],
      "execution_count": null,
      "outputs": [
        {
          "output_type": "display_data",
          "data": {
            "image/png": "[encoded data removed]",
            "text/plain": [
              "<Figure size 432x288 with 1 Axes>"
            ]
          },
          "metadata": {
            "tags": [],
            "needs_background": "light"
          }
        }
      ]
    },
    {
      "cell_type": "code",
      "metadata": {
        "id": "9FkzJ_De06Ip",
        "colab_type": "code",
        "colab": {
          "base_uri": "https://localhost:8080/",
          "height": 392
        },
        "outputId": "95b7bb3d-74bb-4a2a-f665-f7e4871740a9"
      },
      "source": [
        "# Create a boxplot for both males and femals\n",
        "plt.figure(figsize =(18,6)) # Make room for both plots to be displayed\n",
        "sns.boxplot(\"salary\", \"gender\", data=data)\n",
        "plt.show()"
      ],
      "execution_count": null,
      "outputs": [
        {
          "output_type": "display_data",
          "data": {
            "image/png": "[encoded data removed]",
            "text/plain": [
              "<Figure size 1296x432 with 1 Axes>"
            ]
          },
          "metadata": {
            "tags": [],
            "needs_background": "light"
          }
        }
      ]
    },
    {
      "cell_type": "markdown",
      "metadata": {
        "id": "6EEmY83d3C_h",
        "colab_type": "text"
      },
      "source": [
        "Takeaways:\n",
        "\n",
        "- 30 Female and 40 Male students were not recruited. Male students seem to have comparably high recruitment rates.\n",
        "- More outliers for male students. Male students seem to be getting very high salaries after recruitment.\n",
        "- Male students are offered slightly greater salaries than female students on average."
      ]
    },
    {
      "cell_type": "markdown",
      "metadata": {
        "id": "gbX1M2Ak_UIe",
        "colab_type": "text"
      },
      "source": [
        "### Linear Regression\n",
        "\n",
        "A very common task in statistical analysis is to try and predict future values of a feature, or to determine if the value of a feature can be predicted from a combination of values from other features. This is where modelling comes in. We will very briefly explore linear regression using Seaborn today.\n",
        "\n",
        "#### What is linear regression?\n",
        "Linear regression attempts to model the relationship between two variables by fitting a linear equation to observed data. One variable is considered to be an **explanatory variable**, sometimes called a predictor. This variable is what you you use to try and predict the target variable, which is called a **dependent variable**. This is very similar to the \"y = mx+b\" equation that you learned in algebra. There, you are essentially modelling \"y\" from \"x\". You can determine what the value of \"y\" will be if you are given an \"x\". \n",
        "\n",
        "Let's plot a linear regression graph to determine if salaries can be modelled by the `etest_p` value in our dataset. `etest_p` stands for Employability Test percentage, and is essentially the score of each student on this test."
      ]
    },
    {
      "cell_type": "code",
      "metadata": {
        "id": "9ikTFicK91iq",
        "colab_type": "code",
        "colab": {
          "base_uri": "https://localhost:8080/",
          "height": 283
        },
        "outputId": "1c4668c5-cac5-4372-9548-c75ddb343330"
      },
      "source": [
        "# Create a copy of the data\n",
        "data_reg = data\n",
        "# There are missing values in the salary column\n",
        "# We need to get rid of that first.\n",
        "data_reg.dropna(inplace=True)\n",
        "sns.regplot(x=\"etest_p\", y=\"salary\", data=data_reg);"
      ],
      "execution_count": null,
      "outputs": [
        {
          "output_type": "display_data",
          "data": {
            "image/png": "[encoded data removed]",
            "text/plain": [
              "<Figure size 432x288 with 1 Axes>"
            ]
          },
          "metadata": {
            "tags": [],
            "needs_background": "light"
          }
        }
      ]
    },
    {
      "cell_type": "markdown",
      "metadata": {
        "id": "zjtts1m8BR9g",
        "colab_type": "text"
      },
      "source": [
        "Takeaway:\n",
        "Immediately we can see that a student's employability score is not a good predictor of salary. Students with vastly different scores can get the same salary with certain students who got a very low employability score sometimes getting higher salaries than those with high employability scores."
      ]
    },
    {
      "cell_type": "markdown",
      "metadata": {
        "id": "krOBQR5iTsox",
        "colab_type": "text"
      },
      "source": [
        "## Resources\n",
        "\n",
        "- [NumPy Reference Guide](https://numpy.org/doc/stable/reference/)\n",
        "- [G4G NumPy Tutorials](https://www.geeksforgeeks.org/python-numpy/)"
      ]
    }
  ]
}
