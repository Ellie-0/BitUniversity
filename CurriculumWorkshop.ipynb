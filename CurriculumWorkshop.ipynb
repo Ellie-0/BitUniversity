{
  "nbformat": 4,
  "nbformat_minor": 0,
  "metadata": {
    "colab": {
      "name": "CurriculumWorkshop.ipynb",
      "provenance": [],
      "collapsed_sections": [
        "UE9OO2h1_2u_",
        "P3C3zJ-7Nr_3",
        "x6IrT_vuNr_5",
        "vfiOvQCHNsAO",
        "5IkjMPlcNsAd",
        "P1U1VtJENsBZ",
        "m7KcM_wENsB1",
        "IENyrelfNsCM",
        "x90qHJh7DzpF",
        "sfATMmoxFFF3",
        "06d6iMqfOk_Z",
        "UGViz_ZWjVTP",
        "zjduIynaOlAP",
        "ZMIKx3AjOlBH",
        "z1QjkkW0pbVF",
        "jlS7xu6QFvqJ",
        "pb75si0mGIab",
        "qDEeD8_NBbSc",
        "WDYmdzPj935W",
        "DBLmUGHfBbSw",
        "gchvjroRBbS5",
        "Gml2Q3rPOzP6",
        "j5v_alrd8KaO",
        "lQjKGTqyOzRD",
        "aToEjqLPOzRK",
        "jljY3mE2G-oX",
        "JWmMpmPaNWcX",
        "-ghJ1ZQJNWcZ",
        "bybS0BdINWcf",
        "HK25wgkKNWcn",
        "6im_y8_9NWcx",
        "K5hLnLVZJXXv",
        "LHJ8OPspOM6v",
        "UynSepC2cLfX",
        "aoUBNiqiGT-C",
        "hfnOwvD1GT-G",
        "UxlbVOqlGT-O",
        "EZGgT39kGT-Y",
        "KWdrfQP2GT-g",
        "YFiS7660_YlX",
        "kkhCZ9fNLxRt"
      ],
      "include_colab_link": true
    },
    "kernelspec": {
      "display_name": "Python 3",
      "language": "python",
      "name": "python3"
    },
    "language_info": {
      "codemirror_mode": {
        "name": "ipython",
        "version": 3
      },
      "file_extension": ".py",
      "mimetype": "text/x-python",
      "name": "python",
      "nbconvert_exporter": "python",
      "pygments_lexer": "ipython3",
      "version": "3.7.0"
    }
  },
  "cells": [
    {
      "cell_type": "markdown",
      "metadata": {
        "id": "view-in-github",
        "colab_type": "text"
      },
      "source": [
        "<a href=\"https://colab.research.google.com/github/bitprj/DigitalHistory/blob/master/CurriculumWorkshop.ipynb\" target=\"_parent\"><img src=\"https://colab.research.google.com/assets/colab-badge.svg\" alt=\"Open In Colab\"/></a>"
      ]
    },
    {
      "cell_type": "markdown",
      "metadata": {
        "colab_type": "text",
        "id": "Z_1uxdh0MC4f"
      },
      "source": [
        "<img src=\"https://github.com/bitprj/DigitalHistory/blob/master/Week2-Introduction-to-Python-_-NumPy/assets/icons/bitproject.png?raw=1\" width=\"200\" align=\"left\"> \n",
        "<img src=\"https://github.com/bitprj/DigitalHistory/blob/master/Week2-Introduction-to-Python-_-NumPy/assets/icons/data-science.jpg?raw=1\" width=\"300\" align=\"right\">"
      ]
    },
    {
      "cell_type": "markdown",
      "metadata": {
        "colab_type": "text",
        "id": "Lk6HY8NU-a9K"
      },
      "source": [
        "# Intro to Digital History: Curriculum Workshop"
      ]
    },
    {
      "cell_type": "markdown",
      "metadata": {
        "colab_type": "text",
        "id": "JKIeFpiY-pJc"
      },
      "source": [
        "### Table of Contents\n",
        "\n",
        "- Course Introduction\n",
        "- Week 2: Introduction to Python\n",
        "  - Types of Numbers\n",
        "  - Variable Assignment\n",
        "  - Strings\n",
        "  - **1.0 Now Try This**\n",
        "  - Lists\n",
        "  - **2.0 Now Try This**\n",
        "- Week 3: Introduction to Data Manipulation\n",
        "- Week 4: Introduction to Data Visualization\n",
        "- Resources\n"
      ]
    },
    {
      "cell_type": "markdown",
      "metadata": {
        "colab_type": "text",
        "id": "R7I6cGKU_S9_"
      },
      "source": [
        "## Course Introduction\n",
        "\n",
        "### Who we are\n",
        "We are passionate students from all walks of life who come together to making tech education accessible.\n",
        "\n",
        "Our mission is to provide students the tools and connections they need to unleash their potential in tech.\n",

        "### Our Values\n",
        "We believe in democratizing tech education. Everyone should have access to quality resources, opportunities, and networks regardless of their background.\n",
        "\n",
        "At Bit Project, we strive to create an environment where all people are welcomed, members are engaged, and backgrounds are celebrated.\n",
        "\n",
        "We welcome everyone, regardless of age, race, class, ethnicity, gender identity or expression, sexual identity, ability, size, nationality, culture, faith, neurotype and background.\n",

        "### Course Format\n",
        "Our curriculum is centered around two types of categories:\n",
        "\n",
        "**Tutorials** are guided, step-by-step tutorials to teach concepts and technical skills. These will be assigned to build the technical skills needed for the labs. At the end of each week, we have provided homework in order for students to be able to practice their skills on provided datasets.\n",
        "\n",
        "**Practicums** are the practical, hands-on projects that empower students to use the skills they have learned in lectures and tutorials to work on a bigger project. In this course, we will be working with three labs with the last lab being a 2 week final Project.\n",
        
        "### Curriculum\n",
        "\n",
        "TODO: Insert Curriculum Table Here",
        "\n",
        "Python is a very popular scripting language that you can use to create applications and programs of all sizes and complexity. It is very easy to learn and has very little syntax, making it very efficient to code with. Python is also the language of choice for many when performing comprehensive data analysis. "
      ]
    },
    {
      "cell_type": "markdown",
      "metadata": {
        "colab_type": "text",
        "id": "UE9OO2h1_2u_"
      },
      "source": [
        "## Week 2: Introduction to Python\n",
        "\n",
        "Python is a very popular scripting language that you can use to create applications and programs of all sizes and complexity. It is very easy to learn and has very little syntax, making it very efficient to code with. Python is also the language of choice for many when performing comprehensive data analysis. "
        "\n",
        "### Goals\n",
        "- Understanding key Python data types, operators and data structures\n",
        "- Understanding functions\n",
        "- Understanding modules\n",
        "- Understanding errors and exceptions"
      ]
    },
    {
      "cell_type": "markdown",
      "metadata": {
        "colab_type": "text",
        "id": "yn56q8ie3bCK"
      },
      "source": [
        "## Numbers"
      ]
    },
    {
      "cell_type": "markdown",
      "metadata": {
        "colab_type": "text",
        "id": "LvQ8LBU22wVE"
      },
      "source": [
        "### Types of numbers\n",
        "\n",
        "Python has various \"types\" of numbers. We'll strictly cover integers and floating point numbers for now.\n",
        "\n",
        "Integers are just whole numbers, positive or negative. (2,4,-21,etc.)\n",
        "\n",
        "Floating point numbers in Python have a decimal point in them, or use an exponential (e). For example 3.14 and 2.17 are *floats*. 5E7 (5 times 10 to the power of 7) is also a float. This is scientific notation and something you've probably seen in math classes.\n",
        "\n",
        "Let's start working through numbers and arithmetic:"
      ]
    },
    {
      "cell_type": "markdown",
      "metadata": {
        "colab_type": "text",
        "id": "WlZ5c0m_2wVJ"
      },
      "source": [
        "### Basic Arithmetic"
      ]
    },
    {
      "cell_type": "code",
      "metadata": {
        "colab_type": "code",
        "id": "P0fJlFvk2wVQ",
        "colab": {}
      },
      "source": [
        "# Addition\n",
        "4+5"
      ],
      "execution_count": null,
      "outputs": []
    },
    {
      "cell_type": "code",
      "metadata": {
        "colab_type": "code",
        "id": "mtlYVK6b2wVj",
        "colab": {}
      },
      "source": [
        "# Subtraction\n",
        "5-10"
      ],
      "execution_count": null,
      "outputs": []
    },
    {
      "cell_type": "code",
      "metadata": {
        "colab_type": "code",
        "id": "_1f4Ofza2wV7",
        "colab": {}
      },
      "source": [
        "# Multiplication\n",
        "4*8"
      ],
      "execution_count": null,
      "outputs": []
    },
    {
      "cell_type": "code",
      "metadata": {
        "colab_type": "code",
        "id": "wUCF99zx2wWC",
        "colab": {}
      },
      "source": [
        "# Division\n",
        "25/5"
      ],
      "execution_count": null,
      "outputs": []
    },
    {
      "cell_type": "code",
      "metadata": {
        "colab_type": "code",
        "id": "DFVGzwgQ2wWH",
        "colab": {}
      },
      "source": [
        "# Floor Division\n",
        "12//4"
      ],
      "execution_count": null,
      "outputs": []
    },
    {
      "cell_type": "markdown",
      "metadata": {
        "colab_type": "text",
        "id": "HKMA-ctF2wWS"
      },
      "source": [
        "What happened here?\n",
        "\n",
        "The reason we get this result is because we are using \"*floor*\" division. The // operator (two forward slashes) removes any decimals and doesn't round. This always produces an integer answer."
      ]
    },
    {
      "cell_type": "markdown",
      "metadata": {
        "colab_type": "text",
        "id": "k14zoZRz2wWT"
      },
      "source": [
        "**So what if we just want the remainder?**"
      ]
    },
    {
      "cell_type": "code",
      "metadata": {
        "colab_type": "code",
        "id": "zAwDlKQr2wWW",
        "colab": {}
      },
      "source": [
        "# Modulo\n",
        "x % 4"
      ],
      "execution_count": null,
      "outputs": []
    },
    {
      "cell_type": "markdown",
      "metadata": {
        "colab_type": "text",
        "id": "SmrF4pzM2wWd"
      },
      "source": [
        "4 goes into 9 twice, with a remainder of 1. The % operator returns the remainder after division."
      ]
    },
    {
      "cell_type": "markdown",
      "metadata": {
        "colab_type": "text",
        "id": "KUGhim7_2wWe"
      },
      "source": [
        "### Arithmetic continued"
      ]
    },
    {
      "cell_type": "code",
      "metadata": {
        "colab_type": "code",
        "id": "oCuQ17sV2wWf",
        "colab": {}
      },
      "source": [
        "# Powers\n",
        "4**2"
      ],
      "execution_count": null,
      "outputs": []
    },
    {
      "cell_type": "code",
      "metadata": {
        "colab_type": "code",
        "id": "zZ76i8rF2wWo",
        "colab": {}
      },
      "source": [
        "# A way to do roots\n",
        "144**0.5"
      ],
      "execution_count": null,
      "outputs": []
    },
    {
      "cell_type": "code",
      "metadata": {
        "colab_type": "code",
        "id": "m6AynMCF2wW4",
        "colab": {}
      },
      "source": [
        "# Order of Operations\n",
        "4 + 20 * 52 + 5"
      ],
      "execution_count": null,
      "outputs": []
    },
    {
      "cell_type": "code",
      "metadata": {
        "colab_type": "code",
        "id": "bTgQF0GX2wW8",
        "colab": {}
      },
      "source": [
        "# Can use parentheses to specify orders\n",
        "(21+5) * (4+89)"
      ],
      "execution_count": null,
      "outputs": []
    },
    {
      "cell_type": "markdown",
      "metadata": {
        "colab_type": "text",
        "id": "XSCsHC222wXP"
      },
      "source": [
        "## Variable Assignments\n",
        "\n",
        "we can do a lot more with Python than just using it as a calculator. We can store any numbers we create in **variables**.\n",
        "\n",
        "We use a single equals sign to assign labels or values to variables. Let's see a few examples of how we can do this."
      ]
    },
    {
      "cell_type": "code",
      "metadata": {
        "colab_type": "code",
        "id": "PRjmRrLJ2wXQ",
        "colab": {}
      },
      "source": [
        "# Let's create an object called \"a\" and assign it the number 10\n",
        "a = 10"
      ],
      "execution_count": null,
      "outputs": []
    },
    {
      "cell_type": "markdown",
      "metadata": {
        "colab_type": "text",
        "id": "2SZAO47P2wXY"
      },
      "source": [
        "Now if I call *a* in my Python script, Python will treat it as the integer 10."
      ]
    },
    {
      "cell_type": "code",
      "metadata": {
        "colab_type": "code",
        "id": "CNFrGd-m2wXa",
        "colab": {}
      },
      "source": [
        "# Adding the objects\n",
        "a+a"
      ],
      "execution_count": null,
      "outputs": []
    },
    {
      "cell_type": "markdown",
      "metadata": {
        "colab_type": "text",
        "id": "TBfuZthz2wXg"
      },
      "source": [
        "What happens on reassignment? Will Python let us write it over?"
      ]
    },
    {
      "cell_type": "code",
      "metadata": {
        "colab_type": "code",
        "id": "IyUbGI6l2wXi",
        "colab": {}
      },
      "source": [
        "# Reassignment\n",
        "a = 20"
      ],
      "execution_count": null,
      "outputs": []
    },
    {
      "cell_type": "code",
      "metadata": {
        "colab_type": "code",
        "id": "TGLcpU8j2wXn",
        "colab": {}
      },
      "source": [
        "# Check\n",
        "a+a"
      ],
      "execution_count": null,
      "outputs": []
    },
    {
      "cell_type": "markdown",
      "metadata": {
        "colab_type": "text",
        "id": "CyeKAg962wXu"
      },
      "source": [
        "Yes! Python allows you to write over assigned variable names. We can also use the variables themselves when doing the reassignment. Here is an example of what I mean:"
      ]
    },
    {
      "cell_type": "code",
      "metadata": {
        "colab_type": "code",
        "id": "Rv40aCUd2wXv",
        "colab": {}
      },
      "source": [
        "# Check\n",
        "a"
      ],
      "execution_count": null,
      "outputs": []
    },
    {
      "cell_type": "code",
      "metadata": {
        "colab_type": "code",
        "id": "Ykxmc-gr2wX8",
        "colab": {}
      },
      "source": [
        "# Use A to redefine A\n",
        "a = a+a"
      ],
      "execution_count": null,
      "outputs": []
    },
    {
      "cell_type": "code",
      "metadata": {
        "colab_type": "code",
        "id": "kuz0ctr92wX_",
        "colab": {}
      },
      "source": [
        "# Check \n",
        "a"
      ],
      "execution_count": null,
      "outputs": []
    },
    {
      "cell_type": "markdown",
      "metadata": {
        "colab_type": "text",
        "id": "2cD46_8c2wYC"
      },
      "source": [
        "The names you use when creating these labels need to follow a few rules:\n",
        "\n",
        "    1. Names can not start with a number.\n",
        "    2. There can be no spaces in the name, use _ instead.\n",
        "    3. Can't use any of these symbols :'\",<>/?|\\()!@#$%^&*~-+\n",
        "    4. Using lowercase names are best practice.\n",
        "    5. Avoid using the characters 'l' (lowercase letter el), 'O' (uppercase letter oh), \n",
        "       or 'I' (uppercase letter eye) as single character variable names.\n",
        "    6. Avoid using words that have special meaning in Python like \"list\" and \"str\"\n",
        "\n",
        "\n",
        "Using variable names can be a very useful way to keep track of different variables in Python. For example:"
      ]
    },
    {
      "cell_type": "code",
      "metadata": {
        "colab_type": "code",
        "id": "vkyIeiFs2wYD",
        "colab": {}
      },
      "source": [
        "# Use object names to keep better track of what's going on in your code!\n",
        "income = 1000\n",
        "\n",
        "tax_rate = 0.2\n",
        "\n",
        "taxes = income*tax_rate"
      ],
      "execution_count": null,
      "outputs": []
    },
    {
      "cell_type": "code",
      "metadata": {
        "colab_type": "code",
        "id": "2YlBECQF2wYH",
        "colab": {}
      },
      "source": [
        "# Show the result!\n",
        "taxes"
      ],
      "execution_count": null,
      "outputs": []
    },
    {
      "cell_type": "markdown",
      "metadata": {
        "colab_type": "text",
        "id": "kHJyh-qD2wYL"
      },
      "source": [
        "So what have we learned? We learned some of the basics of numbers in Python. We also learned how to do arithmetic and use Python as a basic calculator. We then wrapped it up with learning about Variable Assignment in Python.\n",
        "\n",
        "Up next we'll learn about Strings!"
      ]
    },
    {
      "cell_type": "markdown",
      "metadata": {
        "colab_type": "text",
        "id": "P3C3zJ-7Nr_3"
      },
      "source": [
        "## Strings"
      ]
    },
    {
      "cell_type": "markdown",
      "metadata": {
        "colab_type": "text",
        "id": "UH3RobEsNr_4"
      },
      "source": [
        "Strings are used in Python to record text information, such as names. Strings in Python are not treated like their own objects, but rather like a *sequence*, a consecutive series of characters. For example, Python understands the string \"hello' to be a sequence of letters in a specific order. This means we will be able to use indexing to grab particular letters (like the first letter, or the last letter).\n"
      ]
    },
    {
      "cell_type": "markdown",
      "metadata": {
        "colab_type": "text",
        "id": "x6IrT_vuNr_5"
      },
      "source": [
        "### Creating Strings\n",
        "To create a string in Python you need to use either single quotes or double quotes. For example:"
      ]
    },
    {
      "cell_type": "code",
      "metadata": {
        "colab_type": "code",
        "id": "rYqOQqWwNr_6",
        "colab": {}
      },
      "source": [
        "# A word\n",
        "'hi'"
      ],
      "execution_count": null,
      "outputs": []
    },
    {
      "cell_type": "code",
      "metadata": {
        "colab_type": "code",
        "id": "B0h3v-fTNr__",
        "colab": {}
      },
      "source": [
        "# A phrase\n",
        "'A string can even be a sentence like this.'"
      ],
      "execution_count": null,
      "outputs": []
    },
    {
      "cell_type": "code",
      "metadata": {
        "colab_type": "code",
        "id": "aqcRSHvPNsAC",
        "colab": {}
      },
      "source": [
        "# Using double quotes\n",
        "\"The quote type doesn't really matter.\""
      ],
      "execution_count": null,
      "outputs": []
    },
    {
      "cell_type": "code",
      "metadata": {
        "colab_type": "code",
        "id": "mmszjr3vNsAG",
        "colab": {}
      },
      "source": [
        "# Be wary of contractions and apostrophes!\n",
        "'I'm using single quotes, but this will create an error'"
      ],
      "execution_count": null,
      "outputs": []
    },
    {
      "cell_type": "markdown",
      "metadata": {
        "colab_type": "text",
        "id": "0MoF6XYPNsAJ"
      },
      "source": [
        "The reason for the error above is because the single quote in <code>I'm</code> stopped the string. You can use combinations of double and single quotes to get the complete statement."
      ]
    },
    {
      "cell_type": "code",
      "metadata": {
        "colab_type": "code",
        "id": "wSVUTR4LNsAK",
        "colab": {}
      },
      "source": [
        "\"This shouldn't cause an error now.\""
      ],
      "execution_count": null,
      "outputs": []
    },
    {
      "cell_type": "markdown",
      "metadata": {
        "colab_type": "text",
        "id": "4I_0dIPHNsAN"
      },
      "source": [
        "Now let's learn about printing strings!"
      ]
    },
    {
      "cell_type": "markdown",
      "metadata": {
        "colab_type": "text",
        "id": "vfiOvQCHNsAO"
      },
      "source": [
        "### Printing Strings\n",
        "\n",
        "Jupyter Notebooks have many neat functions that aren't available in base python. One of those is the ability to print strings by just typing it into a cell. The universal way to display strings however, is to use a **print()** function."
      ]
    },
    {
      "cell_type": "code",
      "metadata": {
        "colab_type": "code",
        "id": "pDoK1QbvNsAO",
        "colab": {}
      },
      "source": [
        "# In Jupyter, this is all we need\n",
        "'Hello World'"
      ],
      "execution_count": null,
      "outputs": []
    },
    {
      "cell_type": "code",
      "metadata": {
        "colab_type": "code",
        "id": "DArJAbvzNsAV",
        "colab": {}
      },
      "source": [
        "# But we can't print multiple strings\n",
        "'Hello World'\n",
        "'Second string'"
      ],
      "execution_count": null,
      "outputs": []
    },
    {
      "cell_type": "markdown",
      "metadata": {
        "colab_type": "text",
        "id": "JzKtMgFeNsAZ"
      },
      "source": [
        "A print statement can look like the following."
      ]
    },
    {
      "cell_type": "code",
      "metadata": {
        "colab_type": "code",
        "id": "1lSct0DqNsAZ",
        "colab": {}
      },
      "source": [
        "print('Hello World')\n",
        "print('Second string')\n",
        "print('\\n prints a new line')\n",
        "print('\\n')\n",
        "print('Just to prove it to you.')"
      ],
      "execution_count": null,
      "outputs": []
    },
    {
      "cell_type": "markdown",
      "metadata": {
        "colab_type": "text",
        "id": "gENpAoMScPl7"
      },
      "source": [
        "Now let's move on to understanding how we can manipulate strings in our programs."
      ]
    },
    {
      "cell_type": "markdown",
      "metadata": {
        "colab_type": "text",
        "id": "5IkjMPlcNsAd"
      },
      "source": [
        "### String Basics"
      ]
    },
    {
      "cell_type": "markdown",
      "metadata": {
        "colab_type": "text",
        "id": "3Ti5Nv7aNsAe"
      },
      "source": [
        "Oftentimes, we would like to know how many characters are in a string. We can do this very easily with the **len()** function."
      ]
    },
    {
      "cell_type": "code",
      "metadata": {
        "colab_type": "code",
        "id": "uBNGvj9uNsAf",
        "colab": {}
      },
      "source": [
        "len('Hello World')"
      ],
      "execution_count": null,
      "outputs": []
    },
    {
      "cell_type": "markdown",
      "metadata": {
        "colab_type": "text",
        "id": "bZonsZQnNsAi"
      },
      "source": [
        "Python's built-in len() function counts all of the characters in the string, including spaces and punctuation."
      ]
    },
    {
      "cell_type": "markdown",
      "metadata": {
        "colab_type": "text",
        "id": "AgTf4FqtcnD9"
      },
      "source": [
        "Naturally, we can assign strings to variables."
      ]
    },
    {
      "cell_type": "code",
      "metadata": {
        "colab_type": "code",
        "id": "RbYyeFrLNsAk",
        "colab": {}
      },
      "source": [
        "# Assign 'Hello World' to mystring variable\n",
        "mystring = 'Hello World'"
      ],
      "execution_count": null,
      "outputs": []
    },
    {
      "cell_type": "code",
      "metadata": {
        "colab_type": "code",
        "id": "3sAvAFHzNsAp",
        "colab": {}
      },
      "source": [
        "# Did it work?\n",
        "mystring"
      ],
      "execution_count": null,
      "outputs": []
    },
    {
      "cell_type": "code",
      "metadata": {
        "colab_type": "code",
        "id": "Dda7HfhGNsAr",
        "colab": {}
      },
      "source": [
        "# Print it to make sure\n",
        "print(mystring) "
      ],
      "execution_count": null,
      "outputs": []
    },
    {
      "cell_type": "markdown",
      "metadata": {
        "colab_type": "text",
        "id": "lk8bxjtCNsAw"
      },
      "source": [
        "As stated before, Python treats strings as a sequence of characters. That means we can interact with each letter in a string and manipulate it. The way we access these letters is called **indexing**. Each letter has an index, which corresponds to their position in the string. In python, indices start at 0. For instance, in the string 'Hello World', 'H' has an index of 0, the 'W' has an index of 6 (because spaces count as characters), and 'd' has an index of 10. The syntax for indexing is shown below."
      ]
    },
    {
      "cell_type": "code",
      "metadata": {
        "colab_type": "code",
        "id": "Fgzo1XrCNsAx",
        "colab": {}
      },
      "source": [
        "# Extract first character in a string.\n",
        "mystring[0]"
      ],
      "execution_count": null,
      "outputs": []
    },
    {
      "cell_type": "code",
      "metadata": {
        "colab_type": "code",
        "id": "0kcd-9EZNsA1",
        "colab": {}
      },
      "source": [
        "mystring[1]"
      ],
      "execution_count": null,
      "outputs": []
    },
    {
      "cell_type": "code",
      "metadata": {
        "colab_type": "code",
        "id": "8M44L4hMNsA4",
        "colab": {}
      },
      "source": [
        "mystring[2]"
      ],
      "execution_count": null,
      "outputs": []
    },
    {
      "cell_type": "markdown",
      "metadata": {
        "colab_type": "text",
        "id": "ky7Zm-NENsA7"
      },
      "source": [
        "We can use a <code>:</code> to perform *slicing* which grabs everything up to a designated index. For example:"
      ]
    },
    {
      "cell_type": "code",
      "metadata": {
        "colab_type": "code",
        "id": "jQKnWrNtNsA8",
        "colab": {}
      },
      "source": [
        "# Grab all letters past the first letter all the way to the end of the string\n",
        "mystring[:]"
      ],
      "execution_count": null,
      "outputs": []
    },
    {
      "cell_type": "code",
      "metadata": {
        "colab_type": "code",
        "id": "otKc90t_NsBB",
        "colab": {}
      },
      "source": [
        "# This does not change the original string in any way\n",
        "mystring"
      ],
      "execution_count": null,
      "outputs": []
    },
    {
      "cell_type": "code",
      "metadata": {
        "colab_type": "code",
        "id": "f9xrirSANsBD",
        "colab": {}
      },
      "source": [
        "# Grab everything UP TO the 5th index\n",
        "mystring[:5]"
      ],
      "execution_count": null,
      "outputs": []
    },
    {
      "cell_type": "markdown",
      "metadata": {
        "colab_type": "text",
        "id": "5dp4GDO0NsBG"
      },
      "source": [
        "Note what happened above. We told Python to grab everything from 0 up to 5. It doesn't include the character in the 5th index. You'll notice this a lot in Python, where statements are usually in the context of \"up to, but not including\"."
      ]
    },
    {
      "cell_type": "code",
      "metadata": {
        "colab_type": "code",
        "id": "WfpDNfiKNsBG",
        "colab": {}
      },
      "source": [
        "# The whole string\n",
        "mystring[:]"
      ],
      "execution_count": null,
      "outputs": []
    },
    {
      "cell_type": "markdown",
      "metadata": {
        "colab_type": "text",
        "id": "lksAiQL6NsBK"
      },
      "source": [
        "We don't have to go forwards. Negative indexing allows us to start from the *end* of the string and work backwards."
      ]
    },
    {
      "cell_type": "code",
      "metadata": {
        "colab_type": "code",
        "id": "8TywqyZ-NsBL",
        "colab": {}
      },
      "source": [
        "# Last letter (one index behind 0 so it loops back around)\n",
        "mystring[-1]"
      ],
      "execution_count": null,
      "outputs": []
    },
    {
      "cell_type": "code",
      "metadata": {
        "colab_type": "code",
        "id": "LTzPovveNsBO",
        "colab": {}
      },
      "source": [
        "# Grab everything but the last letter\n",
        "mystring[:-1]"
      ],
      "execution_count": null,
      "outputs": []
    },
    {
      "cell_type": "markdown",
      "metadata": {
        "colab_type": "text",
        "id": "XxBxY0SBNsBQ"
      },
      "source": [
        "We can also use indexing and slicing to grab characters by a specified step size (1 is the default). See the following examples."
      ]
    },
    {
      "cell_type": "code",
      "metadata": {
        "colab_type": "code",
        "id": "D4GZPT3mNsBR",
        "colab": {}
      },
      "source": [
        "# Grab everything, but go in steps size of 1\n",
        "mystring[::1]"
      ],
      "execution_count": null,
      "outputs": []
    },
    {
      "cell_type": "code",
      "metadata": {
        "colab_type": "code",
        "id": "PjDfDe3gNsBU",
        "colab": {}
      },
      "source": [
        "# Grab everything, but go in step sizes of 2\n",
        "mystring[0::2]"
      ],
      "execution_count": null,
      "outputs": []
    },
    {
      "cell_type": "code",
      "metadata": {
        "colab_type": "code",
        "id": "5t-mgi-KNsBW",
        "colab": {}
      },
      "source": [
        "# A handy way to reverse a string!\n",
        "mystring[::-1]"
      ],
      "execution_count": null,
      "outputs": []
    },
    {
      "cell_type": "markdown",
      "metadata": {
        "colab_type": "text",
        "id": "jPCEC_LvfRZp"
      },
      "source": [
        "Strings have certain properties to them that affect the way we can, and cannot, interact with them."
      ]
    },
    {
      "cell_type": "markdown",
      "metadata": {
        "colab_type": "text",
        "id": "P1U1VtJENsBZ"
      },
      "source": [
        "### String Properties\n",
        "It's important to note that strings are *immutable*. This means that once a string is created, the elements within it can not be changed or replaced. For example:"
      ]
    },
    {
      "cell_type": "code",
      "metadata": {
        "colab_type": "code",
        "id": "xvPyEmYpNsBa",
        "colab": {}
      },
      "source": [
        "mystring"
      ],
      "execution_count": null,
      "outputs": []
    },
    {
      "cell_type": "code",
      "metadata": {
        "colab_type": "code",
        "id": "NDk66bjZNsBc",
        "colab": {}
      },
      "source": [
        "# Let's try to change the first letter\n",
        "mystring[0] = 'a'"
      ],
      "execution_count": null,
      "outputs": []
    },
    {
      "cell_type": "markdown",
      "metadata": {
        "colab_type": "text",
        "id": "p_Q9e1MoNsBf"
      },
      "source": [
        "The error tells it us to straight. Strings do not support assignment the same way other data types do.\n",
        "\n",
        "However, we *can* **concatenate** strings."
      ]
    },
    {
      "cell_type": "code",
      "metadata": {
        "colab_type": "code",
        "id": "MUaQkaxfNsBg",
        "colab": {}
      },
      "source": [
        "mystring"
      ],
      "execution_count": null,
      "outputs": []
    },
    {
      "cell_type": "code",
      "metadata": {
        "colab_type": "code",
        "id": "6MkkAvD9NsBk",
        "colab": {}
      },
      "source": [
        "# Combine strings through concatenation\n",
        "mystring + \". It's me.\""
      ],
      "execution_count": null,
      "outputs": []
    },
    {
      "cell_type": "code",
      "metadata": {
        "colab_type": "code",
        "id": "_BEU6-T0NsBn",
        "colab": {}
      },
      "source": [
        "# We can reassign mystring to a new value, however\n",
        "mystring = mystring + \". It's me.\""
      ],
      "execution_count": null,
      "outputs": []
    },
    {
      "cell_type": "code",
      "metadata": {
        "colab_type": "code",
        "id": "vdYO-sKKNsBq",
        "colab": {}
      },
      "source": [
        "print(mystring)"
      ],
      "execution_count": null,
      "outputs": []
    },
    {
      "cell_type": "code",
      "metadata": {
        "colab_type": "code",
        "id": "42B3Xw-KNsBt",
        "colab": {}
      },
      "source": [
        "mystring"
      ],
      "execution_count": null,
      "outputs": []
    },
    {
      "cell_type": "markdown",
      "metadata": {
        "colab_type": "text",
        "id": "n0u6E5p7NsBw"
      },
      "source": [
        "One neat trick we can do with strings is use multiplication whenever we want to repeat characters a certain number of times."
      ]
    },
    {
      "cell_type": "code",
      "metadata": {
        "colab_type": "code",
        "id": "eFYcAGkWNsBw",
        "colab": {}
      },
      "source": [
        "letter = 'a'"
      ],
      "execution_count": null,
      "outputs": []
    },
    {
      "cell_type": "code",
      "metadata": {
        "colab_type": "code",
        "id": "9W5K-pOqNsBy",
        "colab": {}
      },
      "source": [
        "letter*20"
      ],
      "execution_count": null,
      "outputs": []
    },
    {
      "cell_type": "markdown",
      "metadata": {
        "colab_type": "text",
        "id": "QVrhPwoGhubY"
      },
      "source": [
        "We already saw how to use len(). This is an example of a built-in string method, but there are quite a few more which we will cover next."
      ]
    },
    {
      "cell_type": "markdown",
      "metadata": {
        "colab_type": "text",
        "id": "m7KcM_wENsB1"
      },
      "source": [
        "### Basic Built-in String methods\n",
        "\n",
        "Objects in Python usually have built-in methods. These methods are functions inside the object that can perform actions or commands on the object itself.\n",
        "\n",
        "We call methods with a period and then the method name. Methods are in the form:\n",
        "\n",
        "object.method(parameters)\n",
        "\n",
        "Parameters are extra arguments we can pass into the method. Don't worry if the details don't make 100% sense right now. We will be going into more depth with these later.\n",
        "\n",
        "Here are some examples of built-in methods in strings:"
      ]
    },
    {
      "cell_type": "code",
      "metadata": {
        "colab_type": "code",
        "id": "NoO8TSuwNsB2",
        "colab": {}
      },
      "source": [
        "mystring"
      ],
      "execution_count": null,
      "outputs": []
    },
    {
      "cell_type": "code",
      "metadata": {
        "colab_type": "code",
        "id": "7RyvdFNGNsB5",
        "colab": {}
      },
      "source": [
        "# Make all letters in a string uppercase\n",
        "mystring.upper()"
      ],
      "execution_count": null,
      "outputs": []
    },
    {
      "cell_type": "code",
      "metadata": {
        "colab_type": "code",
        "id": "0sUWl6CANsB-",
        "colab": {}
      },
      "source": [
        "# Make all letters in a string lowercase\n",
        "mystring.lower()"
      ],
      "execution_count": null,
      "outputs": []
    },
    {
      "cell_type": "code",
      "metadata": {
        "colab_type": "code",
        "id": "z7tHM7qPNsCC",
        "colab": {}
      },
      "source": [
        "# Split strings with a specified character as the separator. Spaces are the default.\n",
        "mystring.split()"
      ],
      "execution_count": null,
      "outputs": []
    },
    {
      "cell_type": "code",
      "metadata": {
        "colab_type": "code",
        "id": "Rr-Qqn3tNsCH",
        "colab": {}
      },
      "source": [
        "# Split by a specific character (doesn't include the character in the resulting string)\n",
        "mystring.split('W')"
      ],
      "execution_count": null,
      "outputs": []
    },
    {
      "cell_type": "markdown",
      "metadata": {
        "colab_type": "text",
        "id": "4o2jcAAhNsCL"
      },
      "source": [
        "There are many more methods than the ones covered here. Visit the Advanced String section to find out more!"
      ]
    },
    {
      "cell_type": "markdown",
      "metadata": {
        "colab_type": "text",
        "id": "IENyrelfNsCM"
      },
      "source": [
        "### Print Formatting\n",
        "\n",
        "We can use the .format() method to inject string-formatted objects into strings\n",
        "\n",
        "The easiest way to show this is through an example:"
      ]
    },
    {
      "cell_type": "code",
      "metadata": {
        "colab_type": "code",
        "id": "wxqKz5c8NsCM",
        "colab": {}
      },
      "source": [
        "'The Eiffel Tower is in: {}'.format('Paris')"
      ],
      "execution_count": null,
      "outputs": []
    },
    {
      "cell_type": "code",
      "metadata": {
        "colab_type": "code",
        "id": "ZtwDFyu7k0U6",
        "colab": {}
      },
      "source": [
        "# We can also use variables\n",
        "paris = \"Paris\"\n",
        "\n",
        "'The Eiffel Tower is in: {}'.format(paris)"
      ],
      "execution_count": null,
      "outputs": []
    },
    {
      "cell_type": "markdown",
      "metadata": {
        "colab_type": "text",
        "id": "x90qHJh7DzpF"
      },
      "source": [
        "### 1.0 Now Try This"
      ]
    },
    {
      "cell_type": "markdown",
      "metadata": {
        "colab_type": "text",
        "id": "2jQg-dN0ZbY-"
      },
      "source": [
        "Given the string 'Amsterdam' give an index command that returns 'd'. Enter your code in the cell below:"
      ]
    },
    {
      "cell_type": "code",
      "metadata": {
        "colab_type": "code",
        "id": "3G3a5dNZZbY_",
        "colab": {}
      },
      "source": [
        "# Once your have verified your answer please uncomment the line below and run it, this will save your code \n",
        "#%%writefile -a {folder_location}/1.py\n",
        "# Please note that if you uncomment and rub multiple times, the program will keep appending to the file.\n",
        "\n",
        "s = 'Amsterdam'\n",
        "# Print out 'd' using indexing\n",
        "answer1 = # INSERT CODE HERE\n",
        "print(answer1)\n"
      ],
      "execution_count": null,
      "outputs": []
    },
    {
      "cell_type": "markdown",
      "metadata": {
        "colab_type": "text",
        "id": "ilw29z4OZbZE"
      },
      "source": [
        "Reverse the string 'Amsterdam' using slicing:"
      ]
    },
    {
      "cell_type": "code",
      "metadata": {
        "colab_type": "code",
        "id": "BABsKQN4ZbZE",
        "colab": {}
      },
      "source": [
        "# Once your have verified your answer please uncomment the line below and run it, this will save your code \n",
        "#%%writefile -a {folder_location}/1.py\n",
        "# Please note that if you uncomment and rub multiple times, the program will keep appending to the file.\n",
        "\n",
        "s ='Amsterdam'\n",
        "# Reverse the string using slicing\n",
        "answer2 = # INSERT CODE HERE\n",
        "print(answer2)"
      ],
      "execution_count": null,
      "outputs": []
    },
    {
      "cell_type": "markdown",
      "metadata": {
        "colab_type": "text",
        "id": "rgM2B4rmZbZI"
      },
      "source": [
        "Given the string Amsterdam, extract the letter 'm' using negative indexing."
      ]
    },
    {
      "cell_type": "code",
      "metadata": {
        "colab_type": "code",
        "id": "rZiItM7hZbZK",
        "colab": {}
      },
      "source": [
        "# Once your have verified your answer please uncomment the line below and run it, this will save your code \n",
        "#%%writefile -a {folder_location}/1.py\n",
        "# Please note that if you uncomment and rub multiple times, the program will keep appending to the file.\n",
        "\n",
        "s ='Amsterdam'\n",
        "\n",
        "# Print out the 'm'\n",
        "answer3 = # INSERT CODE HERE\n",
        "print(answer3)"
      ],
      "execution_count": null,
      "outputs": []
    },

    {
      "cell_type": "markdown",
      "metadata": {
        "colab_type": "text",
        "id": "06d6iMqfOk_Z"
      },
      "source": [
        "## Lists\n",
        "\n",
        "Earlier when discussing strings we introduced the concept of a *sequence*. Lists is the most generalized version of sequences in Python. Unlike strings, they are mutable, meaning the elements inside a list can be changed!\n",
        "\n",
        "Lists are constructed with brackets [] and commas separating every element in the list.\n",
        "\n",
        "Let's start with seeing how we can build a list."
      ]
    },
    {
      "cell_type": "markdown",
      "metadata": {
        "colab_type": "text",
        "id": "UGViz_ZWjVTP"
      },
      "source": [
        "### Creating Lists"
      ]
    },
    {
      "cell_type": "code",
      "metadata": {
        "colab_type": "code",
        "id": "93uSScXTOk_a",
        "colab": {}
      },
      "source": [
        "# Assign a list to an variable named my_list\n",
        "my_list = [1,2,3]"
      ],
      "execution_count": null,
      "outputs": []
    },
    {
      "cell_type": "markdown",
      "metadata": {
        "colab_type": "text",
        "id": "9ggyXUl8Ok_e"
      },
      "source": [
        "We just created a list of integers, but lists can actually hold elements of multiple data types. For example:"
      ]
    },
    {
      "cell_type": "code",
      "metadata": {
        "colab_type": "code",
        "id": "TPyS5RpIOk_g",
        "colab": {}
      },
      "source": [
        "my_list = ['A string',23,100.232,'o']"
      ],
      "execution_count": null,
      "outputs": []
    },
    {
      "cell_type": "markdown",
      "metadata": {
        "colab_type": "text",
        "id": "vRJ7rYkuOk_l"
      },
      "source": [
        "Just like strings, the len() function will tell you how many items are in the sequence of the list."
      ]
    },
    {
      "cell_type": "code",
      "metadata": {
        "colab_type": "code",
        "id": "ukEGubDvOk_m",
        "colab": {}
      },
      "source": [
        "len(my_list)"
      ],
      "execution_count": null,
      "outputs": []
    },
    {
      "cell_type": "code",
      "metadata": {
        "colab_type": "code",
        "id": "oWgtuVsmOk_q",
        "colab": {}
      },
      "source": [
        "my_list = ['one','two','three',4,5]"
      ],
      "execution_count": null,
      "outputs": []
    },
    {
      "cell_type": "code",
      "metadata": {
        "colab_type": "code",
        "id": "xDX7DN7uOk_t",
        "colab": {}
      },
      "source": [
        "# Grab element at index 0\n",
        "my_list[0]"
      ],
      "execution_count": null,
      "outputs": []
    },
    {
      "cell_type": "code",
      "metadata": {
        "colab_type": "code",
        "id": "4Z36l5JOOk_x",
        "colab": {}
      },
      "source": [
        "# Grab index 1 and everything past it\n",
        "my_list[1:]"
      ],
      "execution_count": null,
      "outputs": []
    },
    {
      "cell_type": "code",
      "metadata": {
        "colab_type": "code",
        "id": "VjuHzfJvOk_1",
        "colab": {}
      },
      "source": [
        "# Grab everything UP TO index 3\n",
        "my_list[:3]"
      ],
      "execution_count": null,
      "outputs": []
    },
    {
      "cell_type": "markdown",
      "metadata": {
        "colab_type": "text",
        "id": "a4zfPBV5Ok_4"
      },
      "source": [
        "We can also use + to concatenate lists, just like we did for strings."
      ]
    },
    {
      "cell_type": "code",
      "metadata": {
        "colab_type": "code",
        "id": "34u_E9sVOk_5",
        "colab": {}
      },
      "source": [
        "my_list + ['new item']"
      ],
      "execution_count": null,
      "outputs": []
    },
    {
      "cell_type": "markdown",
      "metadata": {
        "colab_type": "text",
        "id": "uWeYqzrdOk_8"
      },
      "source": [
        "Note: This doesn't actually change the original list!"
      ]
    },
    {
      "cell_type": "code",
      "metadata": {
        "colab_type": "code",
        "id": "iDezs3lnOk_8",
        "colab": {}
      },
      "source": [
        "my_list"
      ],
      "execution_count": null,
      "outputs": []
    },
    {
      "cell_type": "markdown",
      "metadata": {
        "colab_type": "text",
        "id": "HpAWR1hJOlAA"
      },
      "source": [
        "You would have to reassign the list to make the change permanent."
      ]
    },
    {
      "cell_type": "code",
      "metadata": {
        "colab_type": "code",
        "id": "eFNB5w3fOlAA",
        "colab": {}
      },
      "source": [
        "# Reassign\n",
        "my_list = my_list + ['add new item permanently']"
      ],
      "execution_count": null,
      "outputs": []
    },
    {
      "cell_type": "code",
      "metadata": {
        "colab_type": "code",
        "id": "fm453awNOlAE",
        "colab": {}
      },
      "source": [
        "my_list"
      ],
      "execution_count": null,
      "outputs": []
    },
    {
      "cell_type": "markdown",
      "metadata": {
        "colab_type": "text",
        "id": "R-yDV_PQOlAH"
      },
      "source": [
        "We can also use the * for a duplication method similar to strings:"
      ]
    },
    {
      "cell_type": "code",
      "metadata": {
        "colab_type": "code",
        "id": "XNaw0iQKOlAI",
        "colab": {}
      },
      "source": [
        "# Make the list double\n",
        "my_list * 2"
      ],
      "execution_count": null,
      "outputs": []
    },
    {
      "cell_type": "code",
      "metadata": {
        "colab_type": "code",
        "id": "RlKGPzVHOlAK",
        "colab": {}
      },
      "source": [
        "# Again doubling not permanent\n",
        "my_list"
      ],
      "execution_count": null,
      "outputs": []
    },
    {
      "cell_type": "markdown",
      "metadata": {
        "colab_type": "text",
        "id": "R9hddNpTtVc6"
      },
      "source": [
        "Let's move on to exploring some basic list methods."
      ]
    },
    {
      "cell_type": "markdown",
      "metadata": {
        "colab_type": "text",
        "id": "zjduIynaOlAP"
      },
      "source": [
        "### Basic List Methods\n",
        "\n",
        "If you are familiar with another programming language, you might start to draw parallels between arrays in another language and lists in Python. Lists in Python however, tend to be more flexible than arrays in other languages for two reasons: they have no fixed size (meaning we don't have to specify how big a list will be), and they have no fixed type constraint (like we've seen above).\n",
        "\n",
        "Let's go ahead and explore some more special methods for lists:"
      ]
    },
    {
      "cell_type": "code",
      "metadata": {
        "colab_type": "code",
        "id": "A4xC0i8NOlAQ",
        "colab": {}
      },
      "source": [
        "# Create a new list\n",
        "list1 = [1,2,3]"
      ],
      "execution_count": null,
      "outputs": []
    },
    {
      "cell_type": "markdown",
      "metadata": {
        "colab_type": "text",
        "id": "qLfxNw4yOlAU"
      },
      "source": [
        "Use the **append** method to permanently add an item to the end of a list:"
      ]
    },
    {
      "cell_type": "code",
      "metadata": {
        "colab_type": "code",
        "id": "C-TiI_eUOlAV",
        "colab": {}
      },
      "source": [
        "# Append\n",
        "list1.append('append me!')"
      ],
      "execution_count": null,
      "outputs": []
    },
    {
      "cell_type": "code",
      "metadata": {
        "colab_type": "code",
        "id": "Jaj9-tzgOlAZ",
        "colab": {}
      },
      "source": [
        "# Show\n",
        "list1"
      ],
      "execution_count": null,
      "outputs": []
    },
    {
      "cell_type": "markdown",
      "metadata": {
        "colab_type": "text",
        "id": "7CIIhCgYOlAd"
      },
      "source": [
        "Use **pop** to \"pop off\" an item from the list. By default pop takes off the last index, but you can also specify which index to pop off. Let's see an example:"
      ]
    },
    {
      "cell_type": "code",
      "metadata": {
        "colab_type": "code",
        "id": "hnX-fPkBOlAe",
        "colab": {}
      },
      "source": [
        "# Pop off the 0 indexed item\n",
        "list1.pop(0)"
      ],
      "execution_count": null,
      "outputs": []
    },
    {
      "cell_type": "code",
      "metadata": {
        "colab_type": "code",
        "id": "JrMYJOQdOlAh",
        "colab": {}
      },
      "source": [
        "# Show\n",
        "list1"
      ],
      "execution_count": null,
      "outputs": []
    },
    {
      "cell_type": "code",
      "metadata": {
        "colab_type": "code",
        "id": "ttUAkqYWOlAl",
        "colab": {}
      },
      "source": [
        "# Assign the popped element, remember default popped index is last element\n",
        "popped_item = list1.pop()"
      ],
      "execution_count": null,
      "outputs": []
    },
    {
      "cell_type": "code",
      "metadata": {
        "colab_type": "code",
        "id": "XQhQbsqnOlAo",
        "colab": {}
      },
      "source": [
        "popped_item"
      ],
      "execution_count": null,
      "outputs": []
    },
    {
      "cell_type": "code",
      "metadata": {
        "colab_type": "code",
        "id": "avcnqEe0OlAq",
        "colab": {}
      },
      "source": [
        "# Show remaining list\n",
        "list1"
      ],
      "execution_count": null,
      "outputs": []
    },
    {
      "cell_type": "markdown",
      "metadata": {
        "colab_type": "text",
        "id": "8Z-DqqQiOlAt"
      },
      "source": [
        "It should also be noted that lists indexing will return an error if there is no element at that index. For example:"
      ]
    },
    {
      "cell_type": "code",
      "metadata": {
        "colab_type": "code",
        "id": "4W5S_ImiOlAu",
        "colab": {}
      },
      "source": [
        "list1[100]"
      ],
      "execution_count": null,
      "outputs": []
    },
    {
      "cell_type": "markdown",
      "metadata": {
        "colab_type": "text",
        "id": "YPVuQbfQOlAx"
      },
      "source": [
        "We can use the **sort** method and the **reverse** methods to also effect your lists:"
      ]
    },
    {
      "cell_type": "code",
      "metadata": {
        "colab_type": "code",
        "id": "OhTzTsCqOlAy",
        "colab": {}
      },
      "source": [
        "new_list = ['a','e','x','b','c']"
      ],
      "execution_count": null,
      "outputs": []
    },
    {
      "cell_type": "code",
      "metadata": {
        "colab_type": "code",
        "id": "LXiwPqUCOlA4",
        "colab": {}
      },
      "source": [
        "#Show\n",
        "new_list"
      ],
      "execution_count": null,
      "outputs": []
    },
    {
      "cell_type": "code",
      "metadata": {
        "colab_type": "code",
        "id": "WskGGD9iOlA6",
        "colab": {}
      },
      "source": [
        "# Use reverse to reverse order (this is permanent!)\n",
        "new_list.reverse()"
      ],
      "execution_count": null,
      "outputs": []
    },
    {
      "cell_type": "code",
      "metadata": {
        "colab_type": "code",
        "id": "xhx2Ct42OlA9",
        "colab": {}
      },
      "source": [
        "new_list"
      ],
      "execution_count": null,
      "outputs": []
    },
    {
      "cell_type": "code",
      "metadata": {
        "colab_type": "code",
        "id": "g3-2LXA8OlA_",
        "colab": {}
      },
      "source": [
        "# Use sort to sort the list (in this case alphabetical order, but for numbers it will go ascending)\n",
        "new_list.sort()"
      ],
      "execution_count": null,
      "outputs": []
    },
    {
      "cell_type": "code",
      "metadata": {
        "colab_type": "code",
        "id": "KVBuaoI0OlBD",
        "colab": {}
      },
      "source": [
        "new_list"
      ],
      "execution_count": null,
      "outputs": []
    },
    {
      "cell_type": "markdown",
      "metadata": {
        "colab_type": "text",
        "id": "ZMIKx3AjOlBH"
      },
      "source": [
        "### Nesting Lists\n",
        "A great feature of Python data structures is that they support *nesting*. This means we can have data structures within data structures. For example: A list inside a list.\n",
        "\n",
        "Let's see how this works!"
      ]
    },
    {
      "cell_type": "code",
      "metadata": {
        "colab_type": "code",
        "id": "-P9Wkw91OlBI",
        "colab": {}
      },
      "source": [
        "# Let's make three lists\n",
        "lst_1=[1,2,3]\n",
        "lst_2=[4,5,6]\n",
        "lst_3=[7,8,9]\n",
        "\n",
        "# Make a list of lists to form a matrix\n",
        "matrix = [lst_1,lst_2,lst_3]"
      ],
      "execution_count": null,
      "outputs": []
    },
    {
      "cell_type": "code",
      "metadata": {
        "colab_type": "code",
        "id": "eMKJk5cLOlBK",
        "colab": {}
      },
      "source": [
        "# Show\n",
        "matrix"
      ],
      "execution_count": null,
      "outputs": []
    },
    {
      "cell_type": "markdown",
      "metadata": {
        "colab_type": "text",
        "id": "1CiTJaLFOlBN"
      },
      "source": [
        "We can again use indexing to grab elements, but now there are two levels for the index. The items in the matrix object, and then the items inside that list!"
      ]
    },
    {
      "cell_type": "code",
      "metadata": {
        "colab_type": "code",
        "id": "fK_B1F2iOlBN",
        "colab": {}
      },
      "source": [
        "# Grab first item in matrix object\n",
        "matrix[0]"
      ],
      "execution_count": null,
      "outputs": []
    },
    {
      "cell_type": "code",
      "metadata": {
        "colab_type": "code",
        "id": "L2qEysM1OlBQ",
        "colab": {}
      },
      "source": [
        "# Grab first item of the first item in the matrix object\n",
        "matrix[0][0]"
      ],
      "execution_count": null,
      "outputs": []
    },
    {
      "cell_type": "markdown",
      "metadata": {
        "colab_type": "text",
        "id": "z1QjkkW0pbVF"
      },
      "source": [
        "### List Comprehensions\n",
        "Python has an advanced feature called list comprehensions. They allow for quick construction of lists. To fully understand list comprehensions we need to understand for loops. So don't worry if you don't completely understand this section, and feel free to just skip it since we will return to this topic later.\n",
        "\n",
        "But in case you want to know now, here are a few examples!"
      ]
    },
    {
      "cell_type": "code",
      "metadata": {
        "colab_type": "code",
        "id": "o7aDV8oipbVF",
        "colab": {}
      },
      "source": [
        "# Build a list comprehension by deconstructing a for loop within a []\n",
        "first_col = [row[0] for row in matrix]"
      ],
      "execution_count": null,
      "outputs": []
    },
    {
      "cell_type": "code",
      "metadata": {
        "colab_type": "code",
        "id": "vpLojxrypbVH",
        "colab": {}
      },
      "source": [
        "first_col"
      ],
      "execution_count": null,
      "outputs": []
    },
    {
      "cell_type": "markdown",
      "metadata": {
        "colab_type": "text",
        "id": "9G723yu0pbVK"
      },
      "source": [
        "We used a list comprehension here to grab the first element of every row in the matrix object. We will cover this in much more detail later on!"
      ]
    },
    {
      "cell_type": "markdown",
      "metadata": {
        "colab_type": "text",
        "id": "jlS7xu6QFvqJ"
      },
      "source": [
        "### 2.0 Now Try This"
      ]
    },
    {
      "cell_type": "markdown",
      "metadata": {
        "colab_type": "text",
        "id": "IKYj6iiBZbZR"
      },
      "source": [
        "Build this list [0,0,0] using any of the shown ways."
      ]
    },
    {
      "cell_type": "code",
      "metadata": {
        "colab_type": "code",
        "id": "qvMc4qjWZbZY",
        "colab": {}
      },
      "source": [
        "# Once your have verified your answer please uncomment the line below and run it, this will save your code \n",
        "#%%writefile -a {folder_location}/2.py\n",
        "# Please note that if you uncomment and press multiple times, the program will keep appending to the file.\n",
        "\n",
        "# Build the list\n",
        "answer1 = #INSERT CODE HERE\n",
        "print(answer1)"
      ],
      "execution_count": null,
      "outputs": []
    },
    {
      "cell_type": "markdown",
      "metadata": {
        "colab_type": "text",
        "id": "TIvqQqsBZbZn"
      },
      "source": [
        "Reassign 'hello' in this nested list to say 'goodbye' instead:"
      ]
    },
    {
      "cell_type": "code",
      "metadata": {
        "colab_type": "code",
        "id": "20643TYxZbZo",
        "colab": {}
      },
      "source": [
        "# Once your have verified your answer please uncomment the line below and run it, this will save your code \n",
        "#%%writefile -a {folder_location}/2.py\n",
        "# Please note that if you uncomment and press multiple times, the program will keep appending to the file.\n",
        "\n",
        "answer2 = [1,2,[3,4,'hello']]\n",
        "answer2 = #INSERT CODE HERE\n",
        "print(answer2)"
      ],
      "execution_count": null,
      "outputs": []
    },
    {
      "cell_type": "markdown",
      "metadata": {
        "colab_type": "text",
        "id": "v_zLIslPZbZw"
      },
      "source": [
        "Sort the list below:"
      ]
    },
    {
      "cell_type": "code",
      "metadata": {
        "colab_type": "code",
        "id": "IJZRvdN7ZbZx",
        "colab": {}
      },
      "source": [
        "# Once your have verified your answer please uncomment the line below and run it, this will save your code \n",
        "#%%writefile -a {folder_location}/2.py\n",
        "# Please note that if you uncomment and press multiple times, the program will keep appending to the file.\n",
        "\n",
        "answer3 = [5,3,4,6,1]\n",
        "answer3 = #INSERT CODE HERE\n",
        "print(answer3)"
      ],
      "execution_count": null,
      "outputs": []
    },
    
    {
      "cell_type": "markdown",
      "metadata": {
        "colab_type": "text",
        "id": "kkhCZ9fNLxRt"
      },
      "source": [
        "## Resources"
      ]
    },
    {
      "cell_type": "markdown",
      "metadata": {
        "colab_type": "text",
        "id": "zc_kzXmgMTge"
      },
      "source": [
        "- [Python Documentation](https://docs.python.org/3/)\n",
        "- [Official Python Tutorial](https://docs.python.org/3/tutorial/)\n",
        "- [W3Schools Python Tutorial](https://www.w3schools.com/python/)"
      ]
    },
    {
      "cell_type": "markdown",
      "metadata": {
        "id": "FqS9ZqyneIS_",
        "colab_type": "text"
      },
      "source": [
        "## Submission\n",
        "Run this code block to download your answers."
      ]
    },
    {
      "cell_type": "code",
      "metadata": {
        "id": "lQLSe4cteIS_",
        "colab_type": "code",
        "colab": {}
      },
      "source": [
        "from google.colab import files\n",
        "!zip -r \"{student_id}.zip\" \"{student_id}\"\n",
        "files.download(f\"{student_id}.zip\")"
      ],
      "execution_count": null,
      "outputs": []
    }
  ]
}