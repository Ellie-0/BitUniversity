{
  "nbformat": 4,
  "nbformat_minor": 0,
  "metadata": {
    "kernelspec": {
      "display_name": "Python 3",
      "language": "python",
      "name": "python3"
    },
    "language_info": {
      "codemirror_mode": {
        "name": "ipython",
        "version": 3
      },
      "file_extension": ".py",
      "mimetype": "text/x-python",
      "name": "python",
      "nbconvert_exporter": "python",
      "pygments_lexer": "ipython3",
      "version": "3.7.4"
    },
    "colab": {
      "name": "Bootcamp-Week2-Homework.ipynb",
      "provenance": [],
      "collapsed_sections": [],
      "include_colab_link": true
    }
  },
  "cells": [
    {
      "cell_type": "markdown",
      "metadata": {
        "id": "view-in-github",
        "colab_type": "text"
      },
      "source": [
        "<a href=\"https://colab.research.google.com/github/bitprj/BitU-3WBootCamp/blob/main/Week%202%20-%20Working%20with%20Data%20using%20Pandas/Week2_Homework_Student_Version.ipynb\" target=\"_parent\"><img src=\"https://colab.research.google.com/assets/colab-badge.svg\" alt=\"Open In Colab\"/></a>"
      ]
    },
    {
      "cell_type": "markdown",
      "metadata": {
        "id": "niysqLC_y8ts"
      },
      "source": [
        "## <div align = \"center\">Homework 2</div>\n",
        "# <div align = \"center\">US Census Data</div>"
      ]
    },
    {
      "cell_type": "markdown",
      "metadata": {
        "id": "I3KSeq2Zy8tt"
      },
      "source": [
        "**Welcome to Homework 2!** \n",
        "\n",
        "In this homework you will be using techniques you learned in Week 2. The purpose of this homework is for you to try data manipulation with ```Pandas``` and to express your observations. \n",
        "\n",
        "Feel free to refer back to week 2 tutorial notebook and ask questions on Piazza!"
      ]
    },
    {
      "cell_type": "markdown",
      "metadata": {
        "id": "xVLcYzB-y8tt"
      },
      "source": [
        "## Grading\n",
        "\n",
        "There are a total of ten questions and each question is worth 1 point.\n",
        "\n",
        "In order to work on the questions and submit them for grading, you'll need to run the code block beloW. It will ask for your student ID number and then create a folder that will house your answers for each question. At the very end of the notebook, there is a code section that will download this folder as a zip file to your computer. This zip file will be your final submission."
      ]
    },
    {
      "cell_type": "code",
      "metadata": {
        "id": "zKmJKd01DYoq"
      },
      "source": [
        "import os\n",
        "import shutil\n",
        "\n",
        "!rm -rf sample_data\n",
        "\n",
        "student_id = input('Please Enter your Student ID: ') # Enter Student ID.\n",
        "\n",
        "while len(student_id) != 9:\n",
        " student_id = int('Please Enter your Student ID: ')  \n",
        "  \n",
        "folder_location = f'{student_id}/Week_Two/Homework' # Week One -> Homework\n",
        "if not os.path.exists(folder_location):\n",
        "  os.makedirs(folder_location)\n",
        "  print('Successfully Created Directory, Lets get started')\n",
        "else:\n",
        "  print('Directory Already Exists')"
      ],
      "execution_count": null,
      "outputs": []
    },
    {
      "cell_type": "markdown",
      "metadata": {
        "id": "2rT0Pt-Ny8tu"
      },
      "source": [
        "### Import Library"
      ]
    },
    {
      "cell_type": "code",
      "metadata": {
        "id": "EtymSgmry8tv"
      },
      "source": [
        "import pandas as pd"
      ],
      "execution_count": null,
      "outputs": []
    },
    {
      "cell_type": "markdown",
      "metadata": {
        "id": "qQLwxdZOy8tz"
      },
      "source": [
        "### Load dataset"
      ]
    },
    {
      "cell_type": "code",
      "metadata": {
        "id": "uI4M3fVfy8t0"
      },
      "source": [
        "url = 'https://raw.githubusercontent.com/bitprj/DigitalHistory/master/Week3-Introduction-to-Open-Data-Importing-Data-and-Basic-Data-Wrangling/data/acs2017_county_data.csv'\n",
        "df = pd.read_csv(url)\n",
        "df"
      ],
      "execution_count": null,
      "outputs": []
    },
    {
      "cell_type": "markdown",
      "metadata": {
        "id": "njvbr_Ley8t3"
      },
      "source": [
        "## Homework Questions"
      ]
    },
    {
      "cell_type": "markdown",
      "metadata": {
        "id": "TmFuSeZ7y8t6"
      },
      "source": [
        "### Q1. List out all column names of ```df```. (1 pt)"
      ]
    },
    {
      "cell_type": "code",
      "metadata": {
        "id": "0ALiWgu5y8t7"
      },
      "source": [
        "# Once you have verified your answer, uncomment the line below and run it to save your code \n",
        "#%%writefile -a {folder_location}/1.py\n",
        "# Please note that if you uncomment and press multiple times, the program will keep appending to the file.\n",
        "# So only uncomment it when you want to save your answer.\n",
        "\n",
        "# INSERT CODE HERE\n"
      ],
      "execution_count": null,
      "outputs": []
    },
    {
      "cell_type": "markdown",
      "metadata": {
        "id": "fc-tBI3_y8t9"
      },
      "source": [
        "### Q2. Set ```CountyId``` as an index for ```df```. (1 pt)\n",
        "\n",
        "Hint: Use ```set_index``` and make changes in place."
      ]
    },
    {
      "cell_type": "code",
      "metadata": {
        "id": "-6Ty46ZVy8t-"
      },
      "source": [
        "# Once you have verified your answer, uncomment the line below and run it to save your code \n",
        "#%%writefile -a {folder_location}/2.py\n",
        "# Please note that if you uncomment and press multiple times, the program will keep appending to the file.\n",
        "# So only uncomment it when you want to save your answer.\n",
        "\n",
        "# INSERT CODE HERE\n"
      ],
      "execution_count": null,
      "outputs": []
    },
    {
      "cell_type": "markdown",
      "metadata": {
        "id": "nnWYZf3oA0hv"
      },
      "source": [
        "### Q3 (a). Get the basic information about `df` using `info()` function. (0.5pt)"
      ]
    },
    {
      "cell_type": "code",
      "metadata": {
        "id": "D8nDugWJA1nU"
      },
      "source": [
        "# Once you have verified your answer, uncomment the line below and run it to save your code \n",
        "#%%writefile -a {folder_location}/3.py\n",
        "# Please note that if you uncomment and press multiple times, the program will keep appending to the file.\n",
        "# So only uncomment it when you want to save your answer.\n",
        "\n",
        "# INSERT CODE HERE\n"
      ],
      "execution_count": null,
      "outputs": []
    },
    {
      "cell_type": "markdown",
      "metadata": {
        "id": "iit9T9ZvA34S"
      },
      "source": [
        "### Q3 (b). How many of the columns are numbers? (0.5pt)"
      ]
    },
    {
      "cell_type": "code",
      "metadata": {
        "id": "-IWWPH23A-SP"
      },
      "source": [
        "# Once you have verified your answer, uncomment the line below and run it to save your code \n",
        "#%%writefile -a {folder_location}/3.py\n",
        "# Please note that if you uncomment and press multiple times, the program will keep appending to the file.\n",
        "# So only uncomment it when you want to save your answer.\n",
        "\n",
        "# INSERT CODE HERE\n"
      ],
      "execution_count": null,
      "outputs": []
    },
    {
      "cell_type": "markdown",
      "metadata": {
        "id": "Wjtc-HwT_ySo"
      },
      "source": [
        "### Q4. Select the following columns and save the dataframe as `df`. (1pt)\n",
        "#### 'State', 'County', 'TotalPop', 'Income', 'Unemployment', 'Employed', 'Drive', 'Carpool', 'Transit', 'Walk', 'OtherTransp', 'WorkAtHome'"
      ]
    },
    {
      "cell_type": "code",
      "metadata": {
        "id": "O_JjmKDzAEId"
      },
      "source": [
        "# Once you have verified your answer, uncomment the line below and run it to save your code \n",
        "#%%writefile -a {folder_location}/4.py\n",
        "# Please note that if you uncomment and press multiple times, the program will keep appending to the file.\n",
        "# So only uncomment it when you want to save your answer.\n",
        "\n",
        "# INSERT CODE HERE\n"
      ],
      "execution_count": null,
      "outputs": []
    },
    {
      "cell_type": "markdown",
      "metadata": {
        "id": "__YnCxjwBawm"
      },
      "source": [
        "### Q5 (a). List out unique state names. (0.5pt)\n",
        "(Hint: Refer to Analysis of Unique Values section.)\n",
        "\n",
        "\n"
      ]
    },
    {
      "cell_type": "code",
      "metadata": {
        "id": "RR08LJPNBeez"
      },
      "source": [
        "# Once you have verified your answer, uncomment the line below and run it to save your code \n",
        "#%%writefile -a {folder_location}/5.py\n",
        "# Please note that if you uncomment and press multiple times, the program will keep appending to the file.\n",
        "# So only uncomment it when you want to save your answer.\n",
        "\n",
        "# INSERT CODE HERE\n"
      ],
      "execution_count": null,
      "outputs": []
    },
    {
      "cell_type": "markdown",
      "metadata": {
        "id": "xKlDJr4hCAJk"
      },
      "source": [
        "### Q5 (b). How many states are in the dataset? (0.5pt)"
      ]
    },
    {
      "cell_type": "code",
      "metadata": {
        "id": "z2ymlGVNCHVi"
      },
      "source": [
        "# Once you have verified your answer, uncomment the line below and run it to save your code \n",
        "#%%writefile -a {folder_location}/5.py\n",
        "# Please note that if you uncomment and press multiple times, the program will keep appending to the file.\n",
        "# So only uncomment it when you want to save your answer.\n",
        "\n",
        "# INSERT CODE HERE\n"
      ],
      "execution_count": null,
      "outputs": []
    },
    {
      "cell_type": "markdown",
      "metadata": {
        "id": "DTZ8oRR0CQT3"
      },
      "source": [
        "### Q6 (a). How many counties are there for each state? (0.5pt)\n",
        "(Hint: Use `size()` function.)"
      ]
    },
    {
      "cell_type": "code",
      "metadata": {
        "id": "c3FhmehgCV_6"
      },
      "source": [
        "# Once you have verified your answer, uncomment the line below and run it to save your code \n",
        "#%%writefile -a {folder_location}/6.py\n",
        "# Please note that if you uncomment and press multiple times, the program will keep appending to the file.\n",
        "# So only uncomment it when you want to save your answer.\n",
        "\n",
        "# INSERT CODE HERE\n"
      ],
      "execution_count": null,
      "outputs": []
    },
    {
      "cell_type": "markdown",
      "metadata": {
        "id": "-oLbhgh9CZ6C"
      },
      "source": [
        "### Q6 (b). Sort the state by the number of counties in each state. (0.5pt)"
      ]
    },
    {
      "cell_type": "code",
      "metadata": {
        "id": "mYbxRzl7Cjkv"
      },
      "source": [
        "# Once you have verified your answer, uncomment the line below and run it to save your code \n",
        "#%%writefile -a {folder_location}/6.py\n",
        "# Please note that if you uncomment and press multiple times, the program will keep appending to the file.\n",
        "# So only uncomment it when you want to save your answer.\n",
        "\n",
        "# INSERT CODE HERE\n"
      ],
      "execution_count": null,
      "outputs": []
    },
    {
      "cell_type": "markdown",
      "metadata": {
        "id": "TT8t-khpCpdc"
      },
      "source": [
        "### Q6 (c). What are the states with the least county and the most county?"
      ]
    },
    {
      "cell_type": "code",
      "metadata": {
        "id": "_ELPQmHIDf2k"
      },
      "source": [
        "# Once you have verified your answer, uncomment the line below and run it to save your code \n",
        "#%%writefile -a {folder_location}/6.py\n",
        "# Please note that if you uncomment and press multiple times, the program will keep appending to the file.\n",
        "# So only uncomment it when you want to save your answer.\n",
        "\n",
        "# INSERT CODE HERE\n"
      ],
      "execution_count": null,
      "outputs": []
    },
    {
      "cell_type": "markdown",
      "metadata": {
        "id": "6iGk8ClRy8uA"
      },
      "source": [
        "### Q7 (a). Select the rows where ```Unemployment``` is greater than 10. (0.5 pt)\n",
        "\n",
        "Hint: Use ```df.loc[]```."
      ]
    },
    {
      "cell_type": "markdown",
      "metadata": {
        "id": "fzg10xVgy8uA"
      },
      "source": [
        "#### Code:"
      ]
    },
    {
      "cell_type": "code",
      "metadata": {
        "id": "9mBh6gX-y8uB"
      },
      "source": [
        "# Once you have verified your answer, uncomment the line below and run it to save your code \n",
        "#%%writefile -a {folder_location}/7.py\n",
        "# Please note that if you uncomment and press multiple times, the program will keep appending to the file.\n",
        "# So only uncomment it when you want to save your answer.\n",
        "\n",
        "# INSERT CODE HERE\n"
      ],
      "execution_count": null,
      "outputs": []
    },
    {
      "cell_type": "markdown",
      "metadata": {
        "id": "5lDXE_Hby8uD"
      },
      "source": [
        "### Q7 (b). How many counties have ```Unemployment``` > 10? Type your answer in the Answer section. (0.5 pt)\n",
        "\n",
        "Hint: Look at how many rows Q3 (a) displays."
      ]
    },
    {
      "cell_type": "markdown",
      "metadata": {
        "id": "CeVUzurIy8uF"
      },
      "source": [
        "#### Answer:"
      ]
    },
    {
      "cell_type": "code",
      "metadata": {
        "id": "n-diR-tHy8uG"
      },
      "source": [
        "# Once you have verified your answer, uncomment the line below and run it to save your code \n",
        "#%%writefile -a {folder_location}/7.py\n",
        "# Please note that if you uncomment and press multiple times, the program will keep appending to the file.\n",
        "# So only uncomment it when you want to save your answer.\n",
        "\n",
        "# INSERT CODE HERE\n"
      ],
      "execution_count": null,
      "outputs": []
    },
    {
      "cell_type": "markdown",
      "metadata": {
        "id": "qxu6WpxVy8uK"
      },
      "source": [
        "### Q8 (a). Find the state with the largest population. (0.5 pt)\n",
        "\n",
        "Hint: Use `groupby` function."
      ]
    },
    {
      "cell_type": "markdown",
      "metadata": {
        "id": "kz0kzrnBy8uL"
      },
      "source": [
        "#### Code:"
      ]
    },
    {
      "cell_type": "code",
      "metadata": {
        "id": "DiIvYNZpy8uL"
      },
      "source": [
        "# Once you have verified your answer, uncomment the line below and run it to save your code \n",
        "#%%writefile -a {folder_location}/8.py\n",
        "# Please note that if you uncomment and press multiple times, the program will keep appending to the file.\n",
        "# So only uncomment it when you want to save your answer.\n",
        "\n",
        "# INSERT CODE HERE\n"
      ],
      "execution_count": null,
      "outputs": []
    },
    {
      "cell_type": "markdown",
      "metadata": {
        "id": "LVQzoi-Cy8uP"
      },
      "source": [
        "### Q8 (b). Select the state with the most population and save the dataframe as `df_largest`. (0.5pt)\n",
        "\n",
        "Hint: Use ```df.loc[]``` and select the rows where ```State``` is the one you found in Q4."
      ]
    },
    {
      "cell_type": "code",
      "metadata": {
        "id": "ZUP1OjtYy8uQ"
      },
      "source": [
        "# Once you have verified your answer, uncomment the line below and run it to save your code \n",
        "#%%writefile -a {folder_location}/8.py\n",
        "# Please note that if you uncomment and press multiple times, the program will keep appending to the file.\n",
        "# So only uncomment it when you want to save your answer.\n",
        "\n",
        "# INSERT CODE HERE\n"
      ],
      "execution_count": null,
      "outputs": []
    },
    {
      "cell_type": "markdown",
      "metadata": {
        "id": "kDrLtgSUFfQP"
      },
      "source": [
        "### Q9 (a). Find out the average income of the state with the largest population `df_largest`. (0.5pt)"
      ]
    },
    {
      "cell_type": "code",
      "metadata": {
        "id": "m-04CEm7FpBJ"
      },
      "source": [
        "# Once you have verified your answer, uncomment the line below and run it to save your code \n",
        "#%%writefile -a {folder_location}/9.py\n",
        "# Please note that if you uncomment and press multiple times, the program will keep appending to the file.\n",
        "# So only uncomment it when you want to save your answer.\n",
        "\n",
        "# INSERT CODE HERE\n"
      ],
      "execution_count": null,
      "outputs": []
    },
    {
      "cell_type": "markdown",
      "metadata": {
        "id": "ogBdwsttFuCU"
      },
      "source": [
        "### Q9 (b). Select the counties where their income is greater than $60,000 in `df_largest` and save the dataframe as `high_income`. (0.5pt)"
      ]
    },
    {
      "cell_type": "code",
      "metadata": {
        "id": "G22KoiPYF1kg"
      },
      "source": [
        "# Once you have verified your answer, uncomment the line below and run it to save your code \n",
        "#%%writefile -a {folder_location}/9.py\n",
        "# Please note that if you uncomment and press multiple times, the program will keep appending to the file.\n",
        "# So only uncomment it when you want to save your answer.\n",
        "\n",
        "# INSERT CODE HERE\n"
      ],
      "execution_count": null,
      "outputs": []
    },
    {
      "cell_type": "markdown",
      "metadata": {
        "id": "PCdhzi4_y8uS"
      },
      "source": [
        "### Q10. Find out top 2 most popular means of transportation to work in ```high_income```. (1pt)\n",
        "\n",
        "Hint: Use the following columns: 'Drive', 'Carpool', 'Transit', 'Walk', 'OtherTransp', 'WorkAtHome' and an AGGREGATE function."
      ]
    },
    {
      "cell_type": "markdown",
      "metadata": {
        "id": "Pk9_KJiHy8uS"
      },
      "source": [
        "#### Code:"
      ]
    },
    {
      "cell_type": "code",
      "metadata": {
        "id": "KcW0POmsy8uS"
      },
      "source": [
        "# Once you have verified your answer, uncomment the line below and run it to save your code \n",
        "#%%writefile -a {folder_location}/10.py\n",
        "# Please note that if you uncomment and press multiple times, the program will keep appending to the file.\n",
        "# So only uncomment it when you want to save your answer.\n",
        "\n",
        "# INSERT CODE HERE\n"
      ],
      "execution_count": null,
      "outputs": []
    },
    {
      "cell_type": "markdown",
      "metadata": {
        "id": "26qagyQpy8uU"
      },
      "source": [
        "#### Answer: type your answer in a string form."
      ]
    },
    {
      "cell_type": "code",
      "metadata": {
        "id": "_QXx_IGgy8uU"
      },
      "source": [
        ""
      ],
      "execution_count": null,
      "outputs": []
    },
    {
      "cell_type": "markdown",
      "metadata": {
        "id": "a7nRd7diEAbA"
      },
      "source": [
        "## Submission\n",
        "Run this code block to download your answers as a zip file for submission."
      ]
    },
    {
      "cell_type": "code",
      "metadata": {
        "id": "1IBJsu0DD_5h"
      },
      "source": [
        "from google.colab import files\n",
        "!zip -r \"{student_id}.zip\" \"{student_id}\"\n",
        "files.download(f\"{student_id}.zip\")"
      ],
      "execution_count": null,
      "outputs": []
    }
  ]
}