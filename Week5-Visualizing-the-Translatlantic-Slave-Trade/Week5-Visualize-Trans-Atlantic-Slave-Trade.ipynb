{
  "nbformat": 4,
  "nbformat_minor": 0,
  "metadata": {
    "colab": {
      "name": "Week4-PROJECT-Visualize-Trans-Atlantic-Slave-Trade.ipynb",
      "provenance": [],
      "collapsed_sections": [
        "ObtE8-BHODkC",
        "N8w70yKWOH_c",
        "7q6R0hBZONBe",
        "mCNQqlwecmjv",
        "66hyyirMlq6S",
        "aEsoTghMmsuq",
        "UFfKdw9eV6Wc"
      ],
      "include_colab_link": true
    },
    "kernelspec": {
      "display_name": "Python 3",
      "language": "python",
      "name": "python3"
    },
    "language_info": {
      "codemirror_mode": {
        "name": "ipython",
        "version": 3
      },
      "file_extension": ".py",
      "mimetype": "text/x-python",
      "name": "python",
      "nbconvert_exporter": "python",
      "pygments_lexer": "ipython3",
      "version": "3.7.4"
    }
  },
  "cells": [
    {
      "cell_type": "markdown",
      "metadata": {
        "id": "view-in-github",
        "colab_type": "text"
      },
      "source": [
        "<a href=\"https://colab.research.google.com/github/ShayanRiyaz/DigitalHistory/blob/Shayan/Week5-Visualizing-the-Translatlantic-Slave-Trade/Week5-Visualize-Trans-Atlantic-Slave-Trade.ipynb\" target=\"_parent\"><img src=\"https://colab.research.google.com/assets/colab-badge.svg\" alt=\"Open In Colab\"/></a>"
      ]
    },
    {
      "cell_type": "markdown",
      "metadata": {
        "id": "U30n5IXzIVFX",
        "colab_type": "text"
      },
      "source": [
        "# Visualizing the Trans-Atlantic Slave Trade"
      ]
    },
    {
      "cell_type": "markdown",
      "metadata": {
        "colab_type": "text",
        "id": "UFfKdw9eV6Wc"
      },
      "source": [
        "## Table of Contents\n",
        "\n",
        "- Recap\n",
        "- About the Dataset\n",
        "    - The Transatlantic Slave Trade\n",
        "        - Facts about the dataset\n",
        "- Labs and Methodology\n",
        "- Goals\n",
        "- **Part 1 - Getting Our Basic Data Analysis Set-Up**\n",
        "    - Import Libraries and unpack file\n",
        "    - Load file\n",
        "    - Observing the Dataset using Pandas\n",
        "    - Important Facts About the Dataset\n",
        "    - Visualize Year of Arrival vs Number of Slaves arrived\n",
        "- **Part 2 - Getting Started with Data Wrangling**\n",
        "    - Create a copy of the Original Dataset\n",
        "    - Changing Column Names\n",
        "    - Moving Column Positions - ```df.reindex()```\n",
        "    - Remove Voyage ID -```df.drop()```\n",
        "    - Using ```dropna()```\n",
        "    - Changing Column Type and Sorting - ```df.sort_values()```\n",
        "    - Finding Unique and similar strings \n",
        "    - Working with Strings - ```df['column_name'].str.replace()```\n",
        "- **Part 3 - Micro Wrangling and Visualization**\n",
        "    - Between 1500 - 1600\n",
        "    - Between 1601 - 1700\n",
        "    - Between 1701 - 1800\n",
        "    - Between 1801 - 1900\n",
        "- **Part 4 - Conclusion**\n",
        "- Resources\n",
        "- Appendix\n",
        "    \n",
        "\n",
        "\n",
        "\n",
        "\n"
      ]
    },
    {
      "cell_type": "markdown",
      "metadata": {
        "id": "RE3H5y7yIRHZ",
        "colab_type": "text"
      },
      "source": [
        "## Recap\n",
        "- By this time, you should have an understanding and practice on how to implement the following:\n",
        "- Loading a Dataset '.csv' as a dataframe using ```pd.read_csv```\n",
        "- Observing the properties of the loaded dataset using functions such as:\n",
        "    - ```pd.head()```\n",
        "    - ```pd.describe()```\n",
        "    - ```pd.info()```\n",
        "- Modifying the dataset by removing ```NaN``` values.\n",
        "- A conceptual understanding of the term ```object``` in DataFrames.\n",
        "- Re-indexing columns\n",
        "- Visualizing Data using ```matplotlib``` and ```pandas```:\n",
        "    - Scatter plots\n",
        "    - Barplots\n",
        "    - Line plots\n",
        "    - Histograms"
      ]
    },
    {
      "cell_type": "markdown",
      "metadata": {
        "id": "4uvgAANOIKwm",
        "colab_type": "text"
      },
      "source": [
        "## About the Dataset\n",
        "\n",
        "### The Trans-Atlantic Slave Trade\n",
        "\n",
        "It is difficult to believe in the first decades of the twenty-first century that just over two centuries ago, for those Europeans who thought about the issue, the shipping of enslaved Africans across the Atlantic was morally indistinguishable from shipping textiles, wheat, or even sugar. Our reconstruction of a major part of this migration experience covers an era in which there was massive technological change (steamers were among the last slave ships), as well as very dramatic shifts in perceptions of good and evil. Just as important perhaps were the relations between the Western and non-Western worlds that the trade both reflected and encapsulated. Slaves constituted the most important reason for contact between Europeans and Africans fornearly two centuries. The shipment of slaves from Africa was related to the demographic disaster consequent to the meeting of Europeans and Amerindians, which greatly reduced the numbers of Amerindian laborers and raised the demand for labor drawn from elsewhere, particularly Africa. As Europeans colonized the Americas, a steady stream of European peoples migrated to the Americas between 1492 and the early nineteenth century. But what is often overlooked is that, before 1820, perhaps three times as many enslaved Africans crossed the Atlantic as Europeans. This was the largest transoceanic migration of a people until that day, and it provided the Americas with a crucial labor force for their own economic development. The slave trade is thus a vital part of the history of some millions of Africans and their descendants who helped shape the modern Americas culturally as well as in the material sense.\n",
        "\n",
        "The details of the more than 36,000 voyages presented here greatly facilitate the study of cultural, demographic, and economic change in the Atlantic world from the late sixteenth to the mid-nineteenth centuries. Trends and cycles in the flow of African captives from specific coastal outlets should provide scholars withnew, basic information useful in examining the relationships among slaving, warfare—in both Africa and Europe—political instability, and climatic and ecological change, among other forces. \n",
        "\n",
        "#### Facts about the dataset\n",
        "\n",
        "- The dataset approximatey 36,110 trans-Atlantic voyages.\n",
        "- The estimates suggest around 12,520,000 captives departed Afriva to the Americas. \n",
        "\n",
        "- Not all 36,000 voyages in the database carried slaves from Africa.\n",
        "- A total of 633 voyages (1.8%) never reached the African coast because they were lost at sea, captured or suffered some other misfortune. \n",
        "- The database also contains records of 34,106 voyages that disembarked slaves, or could have done so (in other words, for some of these we do not know the outcome of the voyage).\n",
        "\n",
        "- The latter group comprised mainly ships captured in the nineteenth century which were taken to Sierra Leone and St. Helena as part of the attempt to suppress the trade. \n"
      ]
    },
    {
      "cell_type": "markdown",
      "metadata": {
        "id": "fPyizd_JIHPU",
        "colab_type": "text"
      },
      "source": [
        "## Labs and Methodoloy\n",
        "Congratulations you have made it to the first lab of this course. The ideas of these labs is to help you apply the Data Science pipeline in a project based environment. You will be using the tools taught to you in the previous modules and adopt and Question and Answer based approach when you work with the dataset.\n",
        "We have divided our approach into 4 parts:\n",
        "- The first part is the traditonal set up every. data scientist should do before modifying the dataset.\n",
        "- The second part involves clearning the the dataset and choosing columns that fit our methdology.\n",
        "- The third part involves futher splitting our cleaned dataframe into smaller dataframes and visualiztion them.\n",
        "- Finally, the fourth part involves summarizing our conclusion.\n",
        "\n",
        "\n",
        "\n",
        "\n",
        "\n"
      ]
    },
    {
      "cell_type": "markdown",
      "metadata": {
        "id": "Tl_6Scu8IE7Q",
        "colab_type": "text"
      },
      "source": [
        "\n",
        "## Goals"
      ]
    },
    {
      "cell_type": "markdown",
      "metadata": {
        "id": "ixk29-rMHvR9",
        "colab_type": "text"
      },
      "source": [
        "## Part 1 - Getting Our Basic Data Analysis Set-Up"
      ]
    },
    {
      "cell_type": "markdown",
      "metadata": {
        "colab_type": "text",
        "id": "N8w70yKWOH_c"
      },
      "source": [
        "### Import Libraries and unpack file\n",
        "\n"
      ]
    },
    {
      "cell_type": "code",
      "metadata": {
        "id": "vs7AJxshHlc9",
        "colab_type": "code",
        "colab": {}
      },
      "source": [
        "import pandas as pd\n",
        "import numpy as np"
      ],
      "execution_count": null,
      "outputs": []
    },
    {
      "cell_type": "markdown",
      "metadata": {
        "colab_type": "text",
        "id": "7q6R0hBZONBe"
      },
      "source": [
        "### Load file"
      ]
    },
    {
      "cell_type": "code",
      "metadata": {
        "colab_type": "code",
        "id": "DfmowYZZOVRn",
        "colab": {}
      },
      "source": [
        "dataset_path = 'data/tmp/trans-atlantic-slave-trade/trans-atlantic-slave-trade.csv'\n",
        "\n",
        "trans_atlc_trade = pd.read_csv(dataset_path)"
      ],
      "execution_count": null,
      "outputs": []
    },
    {
      "cell_type": "markdown",
      "metadata": {
        "colab_type": "text",
        "id": "9SwePQu6qsZl"
      },
      "source": [
        "### Observing the Dataset using Pandas"
      ]
    },
    {
      "cell_type": "markdown",
      "metadata": {
        "colab_type": "text",
        "id": "mCNQqlwecmjv"
      },
      "source": [
        "Now, the dataset is loaded as a dataframe 'trans_atlc_trade'\n",
        "\n",
        "#### head()\n",
        "Let's check what columns this file has by calling 'head()' function.\n",
        "It returns first n rows, and it's useful to see the dataset at a quick glance.\n",
        "\n",
        "By default, the head() function returns the first 5 rows.\n",
        "\n",
        "You can specify the number of rows to display by calling df.head(number)\n"
      ]
    },
    {
      "cell_type": "code",
      "metadata": {
        "colab_type": "code",
        "id": "_Fwr655mcjr5",
        "colab": {}
      },
      "source": [
        "trans_atlc_trade.head()"
      ],
      "execution_count": null,
      "outputs": []
    },
    {
      "cell_type": "code",
      "metadata": {
        "id": "WVD4aPJbHldP",
        "colab_type": "code",
        "colab": {}
      },
      "source": [
        "trans_atlc_trade.tail()"
      ],
      "execution_count": null,
      "outputs": []
    },
    {
      "cell_type": "markdown",
      "metadata": {
        "colab_type": "text",
        "id": "FFqqKsABeT7y"
      },
      "source": [
        "#### info()\n",
        "This will return all of the column names and its types. This function is useful to get the idea of what the dataframe is like.\n"
      ]
    },
    {
      "cell_type": "code",
      "metadata": {
        "colab_type": "code",
        "id": "wxqUmTFdfkCi",
        "colab": {}
      },
      "source": [
        "trans_atlc_trade.info()"
      ],
      "execution_count": null,
      "outputs": []
    },
    {
      "cell_type": "markdown",
      "metadata": {
        "colab_type": "text",
        "id": "IhviGetnfp9B"
      },
      "source": [
        "#### describe()\n",
        "describe() is used to view summary statistics of numeric columns. This will help you to have general idea of the dataset."
      ]
    },
    {
      "cell_type": "code",
      "metadata": {
        "colab_type": "code",
        "id": "DuDPOCZ9frBI",
        "colab": {}
      },
      "source": [
        "trans_atlc_trade.describe()"
      ],
      "execution_count": null,
      "outputs": []
    },
    {
      "cell_type": "markdown",
      "metadata": {
        "colab_type": "text",
        "id": "nwuNo5o2fzGe"
      },
      "source": [
        "#### shape\n",
        "To see the size of the dataset, we can use shape function, which returns the number of rows and columns in a format of (#rows, #columns)"
      ]
    },
    {
      "cell_type": "code",
      "metadata": {
        "id": "fIhERH7KHldk",
        "colab_type": "code",
        "colab": {}
      },
      "source": [
        "trans_atlc_trade.shape"
      ],
      "execution_count": null,
      "outputs": []
    },
    {
      "cell_type": "markdown",
      "metadata": {
        "id": "AeidaHn6Hldo",
        "colab_type": "text"
      },
      "source": [
        "### Important Facts About the Dataset"
      ]
    },
    {
      "cell_type": "code",
      "metadata": {
        "id": "lKl32c6JHldo",
        "colab_type": "code",
        "colab": {}
      },
      "source": [
        "Unaccounted_trips = trans_atlc_trade['Slaves arrived at 1st port'].isna().sum()\n",
        "print(f'The total number of unaccounted trips is:  {Unaccounted_trips}')\n"
      ],
      "execution_count": null,
      "outputs": []
    },
    {
      "cell_type": "code",
      "metadata": {
        "scrolled": true,
        "id": "v_Gai5XEHlds",
        "colab_type": "code",
        "colab": {}
      },
      "source": [
        "number_of_slaves_accounted = trans_atlc_trade['Slaves arrived at 1st port'].sum()\n",
        "print(f'The total number of slaves accounted for are: {number_of_slaves_accounted}')"
      ],
      "execution_count": null,
      "outputs": []
    },
    {
      "cell_type": "markdown",
      "metadata": {
        "id": "bYuDgHKIHldv",
        "colab_type": "text"
      },
      "source": [
        "Historical Estimates suggest that the total number of slave traded are estimated to be ~12.5 Million. This means that according to this dataset:\n",
        "- Around ```7436701``` slaves are not accounted for. *(12500000 - 5063299)*\n",
        "\n"
      ]
    },
    {
      "cell_type": "markdown",
      "metadata": {
        "id": "heW7wau-Hldv",
        "colab_type": "text"
      },
      "source": [
        "### Visualize Year of Arrival vs Number of Slaves arrived"
      ]
    },
    {
      "cell_type": "code",
      "metadata": {
        "id": "w6jM7tXrHldw",
        "colab_type": "code",
        "colab": {}
      },
      "source": [
        "import matplotlib.pyplot as plt"
      ],
      "execution_count": null,
      "outputs": []
    },
    {
      "cell_type": "code",
      "metadata": {
        "colab_type": "code",
        "id": "RZf2AqqGXhop",
        "colab": {}
      },
      "source": [
        "trans_atlc_trade.plot(x = 'Year of arrival at port of disembarkation',\n",
        "        y = 'Slaves arrived at 1st port',\n",
        "        kind = 'scatter',\n",
        "        c = 'Slaves arrived at 1st port',\n",
        "        title = 'Year of arrival at port of disembarkation vs Slaves arrived at 1st port',\n",
        "        alpha = 0.3,cmap = plt.get_cmap('ocean'),\n",
        "        colorbar = True,\n",
        "        figsize = (20,10)\n",
        "       )\n",
        "\n",
        "\n"
      ],
      "execution_count": null,
      "outputs": []
    },
    {
      "cell_type": "code",
      "metadata": {
        "colab_type": "code",
        "id": "peMZAtRZ_np1",
        "colab": {}
      },
      "source": [
        "df_most_voyages = trans_atlc_trade.loc[trans_atlc_trade['Slaves arrived at 1st port'] > 750]\n",
        "df_most_voyages"
      ],
      "execution_count": null,
      "outputs": []
    },
    {
      "cell_type": "markdown",
      "metadata": {
        "id": "nIFt7KCZHld-",
        "colab_type": "text"
      },
      "source": [
        "## Part 2 - Getting Started with Data Wrangling"
      ]
    },
    {
      "cell_type": "markdown",
      "metadata": {
        "id": "NJhawspPHld-",
        "colab_type": "text"
      },
      "source": [
        "### Create a copy of the Original Dataset"
      ]
    },
    {
      "cell_type": "code",
      "metadata": {
        "id": "HJ6p5GksHld_",
        "colab_type": "code",
        "colab": {}
      },
      "source": [
        "df = trans_atlc_trade.copy()"
      ],
      "execution_count": null,
      "outputs": []
    },
    {
      "cell_type": "markdown",
      "metadata": {
        "id": "OwXfj9YjHleD",
        "colab_type": "text"
      },
      "source": [
        "### Changing Column Names"
      ]
    },
    {
      "cell_type": "code",
      "metadata": {
        "id": "aSzOUf_CHleE",
        "colab_type": "code",
        "colab": {},
        "outputId": "b6dbad6c-f947-4d73-f614-878b2fb69cff"
      },
      "source": [
        "df = df.rename(\n",
        "    columns={'Voyage ID': 'voyage_id',\n",
        "        'Vessel name': 'vessel_name',\n",
        "                           'Voyage itinerary imputed port where began (ptdepimp) place': 'voyage_started',\n",
        "                           'Voyage itinerary imputed principal place of slave purchase (mjbyptimp) ': 'voyage_pit_stop',\n",
        "                           'Voyage itinerary imputed principal port of slave disembarkation (mjslptimp) place': 'end_port',\n",
        "                           'Year of arrival at port of disembarkation':'year_of_arrival',\n",
        "                           'Slaves arrived at 1st port':'slaves_onboard',\n",
        "                            'Captain\\'s name' : 'captain_names'\n",
        "            })\n",
        "\n",
        "\n",
        "df"
      ],
      "execution_count": null,
      "outputs": [
        {
          "output_type": "execute_result",
          "data": {
            "text/html": [
              "<div>\n",
              "<style scoped>\n",
              "    .dataframe tbody tr th:only-of-type {\n",
              "        vertical-align: middle;\n",
              "    }\n",
              "\n",
              "    .dataframe tbody tr th {\n",
              "        vertical-align: top;\n",
              "    }\n",
              "\n",
              "    .dataframe thead th {\n",
              "        text-align: right;\n",
              "    }\n",
              "</style>\n",
              "<table border=\"1\" class=\"dataframe\">\n",
              "  <thead>\n",
              "    <tr style=\"text-align: right;\">\n",
              "      <th></th>\n",
              "      <th>voyage_id</th>\n",
              "      <th>vessel_name</th>\n",
              "      <th>voyage_started</th>\n",
              "      <th>voyage_pit_stop</th>\n",
              "      <th>end_port</th>\n",
              "      <th>year_of_arrival</th>\n",
              "      <th>slaves_onboard</th>\n",
              "      <th>captain_names</th>\n",
              "    </tr>\n",
              "  </thead>\n",
              "  <tbody>\n",
              "    <tr>\n",
              "      <td>0</td>\n",
              "      <td>81711</td>\n",
              "      <td>Hannah</td>\n",
              "      <td>Liverpool</td>\n",
              "      <td>Calabar</td>\n",
              "      <td>St. Vincent, port unspecified</td>\n",
              "      <td>1787</td>\n",
              "      <td>390.0</td>\n",
              "      <td>Smith, Bryan</td>\n",
              "    </tr>\n",
              "    <tr>\n",
              "      <td>1</td>\n",
              "      <td>81712</td>\n",
              "      <td>Hannah</td>\n",
              "      <td>Liverpool</td>\n",
              "      <td>New Calabar</td>\n",
              "      <td>Grenada, port unspecified</td>\n",
              "      <td>1789</td>\n",
              "      <td>351.0</td>\n",
              "      <td>Wilson, Charles</td>\n",
              "    </tr>\n",
              "    <tr>\n",
              "      <td>2</td>\n",
              "      <td>81713</td>\n",
              "      <td>Hannah</td>\n",
              "      <td>Liverpool</td>\n",
              "      <td>Bight of Biafra and Gulf of Guinea Islands, po...</td>\n",
              "      <td>Kingston</td>\n",
              "      <td>1789</td>\n",
              "      <td>303.0</td>\n",
              "      <td>Wilson, Charles</td>\n",
              "    </tr>\n",
              "    <tr>\n",
              "      <td>3</td>\n",
              "      <td>81714</td>\n",
              "      <td>Hannah</td>\n",
              "      <td>Liverpool</td>\n",
              "      <td>Bonny</td>\n",
              "      <td>St. Vincent, port unspecified</td>\n",
              "      <td>1791</td>\n",
              "      <td>316.0</td>\n",
              "      <td>Young, William</td>\n",
              "    </tr>\n",
              "    <tr>\n",
              "      <td>4</td>\n",
              "      <td>81715</td>\n",
              "      <td>Hannah</td>\n",
              "      <td>Liverpool</td>\n",
              "      <td>Congo River</td>\n",
              "      <td>Grenada, port unspecified</td>\n",
              "      <td>1792</td>\n",
              "      <td>331.0</td>\n",
              "      <td>Young, William</td>\n",
              "    </tr>\n",
              "    <tr>\n",
              "      <td>...</td>\n",
              "      <td>...</td>\n",
              "      <td>...</td>\n",
              "      <td>...</td>\n",
              "      <td>...</td>\n",
              "      <td>...</td>\n",
              "      <td>...</td>\n",
              "      <td>...</td>\n",
              "      <td>...</td>\n",
              "    </tr>\n",
              "    <tr>\n",
              "      <td>36105</td>\n",
              "      <td>80358</td>\n",
              "      <td>Ariel</td>\n",
              "      <td>Liverpool</td>\n",
              "      <td>Africa., port unspecified</td>\n",
              "      <td>NaN</td>\n",
              "      <td>1794</td>\n",
              "      <td>NaN</td>\n",
              "      <td>Young</td>\n",
              "    </tr>\n",
              "    <tr>\n",
              "      <td>36106</td>\n",
              "      <td>81265</td>\n",
              "      <td>Ellis</td>\n",
              "      <td>Liverpool</td>\n",
              "      <td>Bance Island (Ben's Island)</td>\n",
              "      <td>Suriname</td>\n",
              "      <td>1802</td>\n",
              "      <td>263.0</td>\n",
              "      <td>Soutar, James</td>\n",
              "    </tr>\n",
              "    <tr>\n",
              "      <td>36107</td>\n",
              "      <td>81266</td>\n",
              "      <td>Ellis</td>\n",
              "      <td>Liverpool</td>\n",
              "      <td>West Central Africa and St. Helena, port unspe...</td>\n",
              "      <td>Suriname</td>\n",
              "      <td>1805</td>\n",
              "      <td>303.0</td>\n",
              "      <td>Roach, John</td>\n",
              "    </tr>\n",
              "    <tr>\n",
              "      <td>36108</td>\n",
              "      <td>83426</td>\n",
              "      <td>Royal Edward</td>\n",
              "      <td>Liverpool</td>\n",
              "      <td>Bonny</td>\n",
              "      <td>Kingston</td>\n",
              "      <td>1800</td>\n",
              "      <td>396.0</td>\n",
              "      <td>Bushell, Thomas</td>\n",
              "    </tr>\n",
              "    <tr>\n",
              "      <td>36109</td>\n",
              "      <td>83427</td>\n",
              "      <td>Royal Edward</td>\n",
              "      <td>Liverpool</td>\n",
              "      <td>Calabar</td>\n",
              "      <td>St. Croix</td>\n",
              "      <td>1802</td>\n",
              "      <td>280.0</td>\n",
              "      <td>Griffiths, John</td>\n",
              "    </tr>\n",
              "  </tbody>\n",
              "</table>\n",
              "<p>36110 rows × 8 columns</p>\n",
              "</div>"
            ],
            "text/plain": [
              "       voyage_id   vessel_name voyage_started  \\\n",
              "0          81711        Hannah      Liverpool   \n",
              "1          81712        Hannah      Liverpool   \n",
              "2          81713        Hannah      Liverpool   \n",
              "3          81714        Hannah      Liverpool   \n",
              "4          81715        Hannah      Liverpool   \n",
              "...          ...           ...            ...   \n",
              "36105      80358         Ariel      Liverpool   \n",
              "36106      81265         Ellis      Liverpool   \n",
              "36107      81266         Ellis      Liverpool   \n",
              "36108      83426  Royal Edward      Liverpool   \n",
              "36109      83427  Royal Edward      Liverpool   \n",
              "\n",
              "                                         voyage_pit_stop  \\\n",
              "0                                                Calabar   \n",
              "1                                            New Calabar   \n",
              "2      Bight of Biafra and Gulf of Guinea Islands, po...   \n",
              "3                                                  Bonny   \n",
              "4                                            Congo River   \n",
              "...                                                  ...   \n",
              "36105                          Africa., port unspecified   \n",
              "36106                        Bance Island (Ben's Island)   \n",
              "36107  West Central Africa and St. Helena, port unspe...   \n",
              "36108                                              Bonny   \n",
              "36109                                            Calabar   \n",
              "\n",
              "                            end_port  year_of_arrival  slaves_onboard  \\\n",
              "0      St. Vincent, port unspecified             1787           390.0   \n",
              "1          Grenada, port unspecified             1789           351.0   \n",
              "2                           Kingston             1789           303.0   \n",
              "3      St. Vincent, port unspecified             1791           316.0   \n",
              "4          Grenada, port unspecified             1792           331.0   \n",
              "...                              ...              ...             ...   \n",
              "36105                            NaN             1794             NaN   \n",
              "36106                       Suriname             1802           263.0   \n",
              "36107                       Suriname             1805           303.0   \n",
              "36108                       Kingston             1800           396.0   \n",
              "36109                      St. Croix             1802           280.0   \n",
              "\n",
              "         captain_names  \n",
              "0         Smith, Bryan  \n",
              "1      Wilson, Charles  \n",
              "2      Wilson, Charles  \n",
              "3       Young, William  \n",
              "4       Young, William  \n",
              "...                ...  \n",
              "36105            Young  \n",
              "36106    Soutar, James  \n",
              "36107      Roach, John  \n",
              "36108  Bushell, Thomas  \n",
              "36109  Griffiths, John  \n",
              "\n",
              "[36110 rows x 8 columns]"
            ]
          },
          "metadata": {
            "tags": []
          },
          "execution_count": 14
        }
      ]
    },
    {
      "cell_type": "markdown",
      "metadata": {
        "id": "08LYIpGyHleI",
        "colab_type": "text"
      },
      "source": [
        "### Moving Column Positions - ```df.reindex()```"
      ]
    },
    {
      "cell_type": "code",
      "metadata": {
        "id": "B0p8g8M6HleJ",
        "colab_type": "code",
        "colab": {},
        "outputId": "4e313d17-7204-4e18-c400-a0bbedab7c62"
      },
      "source": [
        "column_names = ['voyage_id',\"year_of_arrival\",\"vessel_name\", \"voyage_started\",\"voyage_pit_stop\", \"end_port\",\"slaves_onboard\"]\n",
        "\n",
        "df = df.reindex(columns=column_names)\n",
        "df"
      ],
      "execution_count": null,
      "outputs": [
        {
          "output_type": "execute_result",
          "data": {
            "text/html": [
              "<div>\n",
              "<style scoped>\n",
              "    .dataframe tbody tr th:only-of-type {\n",
              "        vertical-align: middle;\n",
              "    }\n",
              "\n",
              "    .dataframe tbody tr th {\n",
              "        vertical-align: top;\n",
              "    }\n",
              "\n",
              "    .dataframe thead th {\n",
              "        text-align: right;\n",
              "    }\n",
              "</style>\n",
              "<table border=\"1\" class=\"dataframe\">\n",
              "  <thead>\n",
              "    <tr style=\"text-align: right;\">\n",
              "      <th></th>\n",
              "      <th>voyage_id</th>\n",
              "      <th>year_of_arrival</th>\n",
              "      <th>vessel_name</th>\n",
              "      <th>voyage_started</th>\n",
              "      <th>voyage_pit_stop</th>\n",
              "      <th>end_port</th>\n",
              "      <th>slaves_onboard</th>\n",
              "    </tr>\n",
              "  </thead>\n",
              "  <tbody>\n",
              "    <tr>\n",
              "      <td>0</td>\n",
              "      <td>81711</td>\n",
              "      <td>1787</td>\n",
              "      <td>Hannah</td>\n",
              "      <td>Liverpool</td>\n",
              "      <td>Calabar</td>\n",
              "      <td>St. Vincent, port unspecified</td>\n",
              "      <td>390.0</td>\n",
              "    </tr>\n",
              "    <tr>\n",
              "      <td>1</td>\n",
              "      <td>81712</td>\n",
              "      <td>1789</td>\n",
              "      <td>Hannah</td>\n",
              "      <td>Liverpool</td>\n",
              "      <td>New Calabar</td>\n",
              "      <td>Grenada, port unspecified</td>\n",
              "      <td>351.0</td>\n",
              "    </tr>\n",
              "    <tr>\n",
              "      <td>2</td>\n",
              "      <td>81713</td>\n",
              "      <td>1789</td>\n",
              "      <td>Hannah</td>\n",
              "      <td>Liverpool</td>\n",
              "      <td>Bight of Biafra and Gulf of Guinea Islands, po...</td>\n",
              "      <td>Kingston</td>\n",
              "      <td>303.0</td>\n",
              "    </tr>\n",
              "    <tr>\n",
              "      <td>3</td>\n",
              "      <td>81714</td>\n",
              "      <td>1791</td>\n",
              "      <td>Hannah</td>\n",
              "      <td>Liverpool</td>\n",
              "      <td>Bonny</td>\n",
              "      <td>St. Vincent, port unspecified</td>\n",
              "      <td>316.0</td>\n",
              "    </tr>\n",
              "    <tr>\n",
              "      <td>4</td>\n",
              "      <td>81715</td>\n",
              "      <td>1792</td>\n",
              "      <td>Hannah</td>\n",
              "      <td>Liverpool</td>\n",
              "      <td>Congo River</td>\n",
              "      <td>Grenada, port unspecified</td>\n",
              "      <td>331.0</td>\n",
              "    </tr>\n",
              "    <tr>\n",
              "      <td>...</td>\n",
              "      <td>...</td>\n",
              "      <td>...</td>\n",
              "      <td>...</td>\n",
              "      <td>...</td>\n",
              "      <td>...</td>\n",
              "      <td>...</td>\n",
              "      <td>...</td>\n",
              "    </tr>\n",
              "    <tr>\n",
              "      <td>36105</td>\n",
              "      <td>80358</td>\n",
              "      <td>1794</td>\n",
              "      <td>Ariel</td>\n",
              "      <td>Liverpool</td>\n",
              "      <td>Africa., port unspecified</td>\n",
              "      <td>NaN</td>\n",
              "      <td>NaN</td>\n",
              "    </tr>\n",
              "    <tr>\n",
              "      <td>36106</td>\n",
              "      <td>81265</td>\n",
              "      <td>1802</td>\n",
              "      <td>Ellis</td>\n",
              "      <td>Liverpool</td>\n",
              "      <td>Bance Island (Ben's Island)</td>\n",
              "      <td>Suriname</td>\n",
              "      <td>263.0</td>\n",
              "    </tr>\n",
              "    <tr>\n",
              "      <td>36107</td>\n",
              "      <td>81266</td>\n",
              "      <td>1805</td>\n",
              "      <td>Ellis</td>\n",
              "      <td>Liverpool</td>\n",
              "      <td>West Central Africa and St. Helena, port unspe...</td>\n",
              "      <td>Suriname</td>\n",
              "      <td>303.0</td>\n",
              "    </tr>\n",
              "    <tr>\n",
              "      <td>36108</td>\n",
              "      <td>83426</td>\n",
              "      <td>1800</td>\n",
              "      <td>Royal Edward</td>\n",
              "      <td>Liverpool</td>\n",
              "      <td>Bonny</td>\n",
              "      <td>Kingston</td>\n",
              "      <td>396.0</td>\n",
              "    </tr>\n",
              "    <tr>\n",
              "      <td>36109</td>\n",
              "      <td>83427</td>\n",
              "      <td>1802</td>\n",
              "      <td>Royal Edward</td>\n",
              "      <td>Liverpool</td>\n",
              "      <td>Calabar</td>\n",
              "      <td>St. Croix</td>\n",
              "      <td>280.0</td>\n",
              "    </tr>\n",
              "  </tbody>\n",
              "</table>\n",
              "<p>36110 rows × 7 columns</p>\n",
              "</div>"
            ],
            "text/plain": [
              "       voyage_id  year_of_arrival   vessel_name voyage_started  \\\n",
              "0          81711             1787        Hannah      Liverpool   \n",
              "1          81712             1789        Hannah      Liverpool   \n",
              "2          81713             1789        Hannah      Liverpool   \n",
              "3          81714             1791        Hannah      Liverpool   \n",
              "4          81715             1792        Hannah      Liverpool   \n",
              "...          ...              ...           ...            ...   \n",
              "36105      80358             1794         Ariel      Liverpool   \n",
              "36106      81265             1802         Ellis      Liverpool   \n",
              "36107      81266             1805         Ellis      Liverpool   \n",
              "36108      83426             1800  Royal Edward      Liverpool   \n",
              "36109      83427             1802  Royal Edward      Liverpool   \n",
              "\n",
              "                                         voyage_pit_stop  \\\n",
              "0                                                Calabar   \n",
              "1                                            New Calabar   \n",
              "2      Bight of Biafra and Gulf of Guinea Islands, po...   \n",
              "3                                                  Bonny   \n",
              "4                                            Congo River   \n",
              "...                                                  ...   \n",
              "36105                          Africa., port unspecified   \n",
              "36106                        Bance Island (Ben's Island)   \n",
              "36107  West Central Africa and St. Helena, port unspe...   \n",
              "36108                                              Bonny   \n",
              "36109                                            Calabar   \n",
              "\n",
              "                            end_port  slaves_onboard  \n",
              "0      St. Vincent, port unspecified           390.0  \n",
              "1          Grenada, port unspecified           351.0  \n",
              "2                           Kingston           303.0  \n",
              "3      St. Vincent, port unspecified           316.0  \n",
              "4          Grenada, port unspecified           331.0  \n",
              "...                              ...             ...  \n",
              "36105                            NaN             NaN  \n",
              "36106                       Suriname           263.0  \n",
              "36107                       Suriname           303.0  \n",
              "36108                       Kingston           396.0  \n",
              "36109                      St. Croix           280.0  \n",
              "\n",
              "[36110 rows x 7 columns]"
            ]
          },
          "metadata": {
            "tags": []
          },
          "execution_count": 15
        }
      ]
    },
    {
      "cell_type": "markdown",
      "metadata": {
        "id": "MfhTG28pHleN",
        "colab_type": "text"
      },
      "source": [
        "**Questions**\n",
        "\n",
        "**Is Voyage ID a good index and do we need it as a column?**\n",
        "\n",
        "No, But we need an index.\n",
        "\n",
        "**Can 'year_of_arrival' be an Index?**\n",
        "\n",
        "No, because there are repeating dates in the charts, there for we need a simple log counter.\n",
        "\n"
      ]
    },
    {
      "cell_type": "markdown",
      "metadata": {
        "id": "qOYcbFRwHleN",
        "colab_type": "text"
      },
      "source": [
        "### Remove Voyage ID -```df.drop()```"
      ]
    },
    {
      "cell_type": "markdown",
      "metadata": {
        "id": "uocghp2yHleO",
        "colab_type": "text"
      },
      "source": [
        "Now that we have a new index from 0 to 15299.\n",
        "\n",
        "Do we need ```Voyage ID```. I don't think so, because it doesn't help us find anything useful. Every Voyage ID is unique."
      ]
    },
    {
      "cell_type": "code",
      "metadata": {
        "id": "90MwAELVHleO",
        "colab_type": "code",
        "colab": {},
        "outputId": "184d6934-4bf8-42d8-b696-0bd7bdab4a58"
      },
      "source": [
        "df = df.drop(columns='voyage_id')\n",
        "df"
      ],
      "execution_count": null,
      "outputs": [
        {
          "output_type": "execute_result",
          "data": {
            "text/html": [
              "<div>\n",
              "<style scoped>\n",
              "    .dataframe tbody tr th:only-of-type {\n",
              "        vertical-align: middle;\n",
              "    }\n",
              "\n",
              "    .dataframe tbody tr th {\n",
              "        vertical-align: top;\n",
              "    }\n",
              "\n",
              "    .dataframe thead th {\n",
              "        text-align: right;\n",
              "    }\n",
              "</style>\n",
              "<table border=\"1\" class=\"dataframe\">\n",
              "  <thead>\n",
              "    <tr style=\"text-align: right;\">\n",
              "      <th></th>\n",
              "      <th>year_of_arrival</th>\n",
              "      <th>vessel_name</th>\n",
              "      <th>voyage_started</th>\n",
              "      <th>voyage_pit_stop</th>\n",
              "      <th>end_port</th>\n",
              "      <th>slaves_onboard</th>\n",
              "    </tr>\n",
              "  </thead>\n",
              "  <tbody>\n",
              "    <tr>\n",
              "      <td>0</td>\n",
              "      <td>1787</td>\n",
              "      <td>Hannah</td>\n",
              "      <td>Liverpool</td>\n",
              "      <td>Calabar</td>\n",
              "      <td>St. Vincent, port unspecified</td>\n",
              "      <td>390.0</td>\n",
              "    </tr>\n",
              "    <tr>\n",
              "      <td>1</td>\n",
              "      <td>1789</td>\n",
              "      <td>Hannah</td>\n",
              "      <td>Liverpool</td>\n",
              "      <td>New Calabar</td>\n",
              "      <td>Grenada, port unspecified</td>\n",
              "      <td>351.0</td>\n",
              "    </tr>\n",
              "    <tr>\n",
              "      <td>2</td>\n",
              "      <td>1789</td>\n",
              "      <td>Hannah</td>\n",
              "      <td>Liverpool</td>\n",
              "      <td>Bight of Biafra and Gulf of Guinea Islands, po...</td>\n",
              "      <td>Kingston</td>\n",
              "      <td>303.0</td>\n",
              "    </tr>\n",
              "    <tr>\n",
              "      <td>3</td>\n",
              "      <td>1791</td>\n",
              "      <td>Hannah</td>\n",
              "      <td>Liverpool</td>\n",
              "      <td>Bonny</td>\n",
              "      <td>St. Vincent, port unspecified</td>\n",
              "      <td>316.0</td>\n",
              "    </tr>\n",
              "    <tr>\n",
              "      <td>4</td>\n",
              "      <td>1792</td>\n",
              "      <td>Hannah</td>\n",
              "      <td>Liverpool</td>\n",
              "      <td>Congo River</td>\n",
              "      <td>Grenada, port unspecified</td>\n",
              "      <td>331.0</td>\n",
              "    </tr>\n",
              "    <tr>\n",
              "      <td>...</td>\n",
              "      <td>...</td>\n",
              "      <td>...</td>\n",
              "      <td>...</td>\n",
              "      <td>...</td>\n",
              "      <td>...</td>\n",
              "      <td>...</td>\n",
              "    </tr>\n",
              "    <tr>\n",
              "      <td>36105</td>\n",
              "      <td>1794</td>\n",
              "      <td>Ariel</td>\n",
              "      <td>Liverpool</td>\n",
              "      <td>Africa., port unspecified</td>\n",
              "      <td>NaN</td>\n",
              "      <td>NaN</td>\n",
              "    </tr>\n",
              "    <tr>\n",
              "      <td>36106</td>\n",
              "      <td>1802</td>\n",
              "      <td>Ellis</td>\n",
              "      <td>Liverpool</td>\n",
              "      <td>Bance Island (Ben's Island)</td>\n",
              "      <td>Suriname</td>\n",
              "      <td>263.0</td>\n",
              "    </tr>\n",
              "    <tr>\n",
              "      <td>36107</td>\n",
              "      <td>1805</td>\n",
              "      <td>Ellis</td>\n",
              "      <td>Liverpool</td>\n",
              "      <td>West Central Africa and St. Helena, port unspe...</td>\n",
              "      <td>Suriname</td>\n",
              "      <td>303.0</td>\n",
              "    </tr>\n",
              "    <tr>\n",
              "      <td>36108</td>\n",
              "      <td>1800</td>\n",
              "      <td>Royal Edward</td>\n",
              "      <td>Liverpool</td>\n",
              "      <td>Bonny</td>\n",
              "      <td>Kingston</td>\n",
              "      <td>396.0</td>\n",
              "    </tr>\n",
              "    <tr>\n",
              "      <td>36109</td>\n",
              "      <td>1802</td>\n",
              "      <td>Royal Edward</td>\n",
              "      <td>Liverpool</td>\n",
              "      <td>Calabar</td>\n",
              "      <td>St. Croix</td>\n",
              "      <td>280.0</td>\n",
              "    </tr>\n",
              "  </tbody>\n",
              "</table>\n",
              "<p>36110 rows × 6 columns</p>\n",
              "</div>"
            ],
            "text/plain": [
              "       year_of_arrival   vessel_name voyage_started  \\\n",
              "0                 1787        Hannah      Liverpool   \n",
              "1                 1789        Hannah      Liverpool   \n",
              "2                 1789        Hannah      Liverpool   \n",
              "3                 1791        Hannah      Liverpool   \n",
              "4                 1792        Hannah      Liverpool   \n",
              "...                ...           ...            ...   \n",
              "36105             1794         Ariel      Liverpool   \n",
              "36106             1802         Ellis      Liverpool   \n",
              "36107             1805         Ellis      Liverpool   \n",
              "36108             1800  Royal Edward      Liverpool   \n",
              "36109             1802  Royal Edward      Liverpool   \n",
              "\n",
              "                                         voyage_pit_stop  \\\n",
              "0                                                Calabar   \n",
              "1                                            New Calabar   \n",
              "2      Bight of Biafra and Gulf of Guinea Islands, po...   \n",
              "3                                                  Bonny   \n",
              "4                                            Congo River   \n",
              "...                                                  ...   \n",
              "36105                          Africa., port unspecified   \n",
              "36106                        Bance Island (Ben's Island)   \n",
              "36107  West Central Africa and St. Helena, port unspe...   \n",
              "36108                                              Bonny   \n",
              "36109                                            Calabar   \n",
              "\n",
              "                            end_port  slaves_onboard  \n",
              "0      St. Vincent, port unspecified           390.0  \n",
              "1          Grenada, port unspecified           351.0  \n",
              "2                           Kingston           303.0  \n",
              "3      St. Vincent, port unspecified           316.0  \n",
              "4          Grenada, port unspecified           331.0  \n",
              "...                              ...             ...  \n",
              "36105                            NaN             NaN  \n",
              "36106                       Suriname           263.0  \n",
              "36107                       Suriname           303.0  \n",
              "36108                       Kingston           396.0  \n",
              "36109                      St. Croix           280.0  \n",
              "\n",
              "[36110 rows x 6 columns]"
            ]
          },
          "metadata": {
            "tags": []
          },
          "execution_count": 16
        }
      ]
    },
    {
      "cell_type": "markdown",
      "metadata": {
        "id": "d_Ds03fRHleS",
        "colab_type": "text"
      },
      "source": [
        "### Using ```dropna()```"
      ]
    },
    {
      "cell_type": "markdown",
      "metadata": {
        "id": "OB1gdak8HleT",
        "colab_type": "text"
      },
      "source": [
        "For this data set we will be working with trips that were completely accounted for in all of the remaining features."
      ]
    },
    {
      "cell_type": "code",
      "metadata": {
        "id": "HUUV6ipxHleT",
        "colab_type": "code",
        "colab": {}
      },
      "source": [
        "df = df.dropna()"
      ],
      "execution_count": null,
      "outputs": []
    },
    {
      "cell_type": "code",
      "metadata": {
        "id": "yBtMYDTjHleW",
        "colab_type": "code",
        "colab": {},
        "outputId": "9b454a33-b0a0-45e3-e8d4-9a862eb58c9a"
      },
      "source": [
        "df"
      ],
      "execution_count": null,
      "outputs": [
        {
          "output_type": "execute_result",
          "data": {
            "text/html": [
              "<div>\n",
              "<style scoped>\n",
              "    .dataframe tbody tr th:only-of-type {\n",
              "        vertical-align: middle;\n",
              "    }\n",
              "\n",
              "    .dataframe tbody tr th {\n",
              "        vertical-align: top;\n",
              "    }\n",
              "\n",
              "    .dataframe thead th {\n",
              "        text-align: right;\n",
              "    }\n",
              "</style>\n",
              "<table border=\"1\" class=\"dataframe\">\n",
              "  <thead>\n",
              "    <tr style=\"text-align: right;\">\n",
              "      <th></th>\n",
              "      <th>year_of_arrival</th>\n",
              "      <th>vessel_name</th>\n",
              "      <th>voyage_started</th>\n",
              "      <th>voyage_pit_stop</th>\n",
              "      <th>end_port</th>\n",
              "      <th>slaves_onboard</th>\n",
              "    </tr>\n",
              "  </thead>\n",
              "  <tbody>\n",
              "    <tr>\n",
              "      <td>0</td>\n",
              "      <td>1787</td>\n",
              "      <td>Hannah</td>\n",
              "      <td>Liverpool</td>\n",
              "      <td>Calabar</td>\n",
              "      <td>St. Vincent, port unspecified</td>\n",
              "      <td>390.0</td>\n",
              "    </tr>\n",
              "    <tr>\n",
              "      <td>1</td>\n",
              "      <td>1789</td>\n",
              "      <td>Hannah</td>\n",
              "      <td>Liverpool</td>\n",
              "      <td>New Calabar</td>\n",
              "      <td>Grenada, port unspecified</td>\n",
              "      <td>351.0</td>\n",
              "    </tr>\n",
              "    <tr>\n",
              "      <td>2</td>\n",
              "      <td>1789</td>\n",
              "      <td>Hannah</td>\n",
              "      <td>Liverpool</td>\n",
              "      <td>Bight of Biafra and Gulf of Guinea Islands, po...</td>\n",
              "      <td>Kingston</td>\n",
              "      <td>303.0</td>\n",
              "    </tr>\n",
              "    <tr>\n",
              "      <td>3</td>\n",
              "      <td>1791</td>\n",
              "      <td>Hannah</td>\n",
              "      <td>Liverpool</td>\n",
              "      <td>Bonny</td>\n",
              "      <td>St. Vincent, port unspecified</td>\n",
              "      <td>316.0</td>\n",
              "    </tr>\n",
              "    <tr>\n",
              "      <td>4</td>\n",
              "      <td>1792</td>\n",
              "      <td>Hannah</td>\n",
              "      <td>Liverpool</td>\n",
              "      <td>Congo River</td>\n",
              "      <td>Grenada, port unspecified</td>\n",
              "      <td>331.0</td>\n",
              "    </tr>\n",
              "    <tr>\n",
              "      <td>...</td>\n",
              "      <td>...</td>\n",
              "      <td>...</td>\n",
              "      <td>...</td>\n",
              "      <td>...</td>\n",
              "      <td>...</td>\n",
              "      <td>...</td>\n",
              "    </tr>\n",
              "    <tr>\n",
              "      <td>36103</td>\n",
              "      <td>1768</td>\n",
              "      <td>NS da Conceição S Antônio e S João de R</td>\n",
              "      <td>Bahia, port unspecified</td>\n",
              "      <td>Whydah</td>\n",
              "      <td>Bahia, port unspecified</td>\n",
              "      <td>373.0</td>\n",
              "    </tr>\n",
              "    <tr>\n",
              "      <td>36106</td>\n",
              "      <td>1802</td>\n",
              "      <td>Ellis</td>\n",
              "      <td>Liverpool</td>\n",
              "      <td>Bance Island (Ben's Island)</td>\n",
              "      <td>Suriname</td>\n",
              "      <td>263.0</td>\n",
              "    </tr>\n",
              "    <tr>\n",
              "      <td>36107</td>\n",
              "      <td>1805</td>\n",
              "      <td>Ellis</td>\n",
              "      <td>Liverpool</td>\n",
              "      <td>West Central Africa and St. Helena, port unspe...</td>\n",
              "      <td>Suriname</td>\n",
              "      <td>303.0</td>\n",
              "    </tr>\n",
              "    <tr>\n",
              "      <td>36108</td>\n",
              "      <td>1800</td>\n",
              "      <td>Royal Edward</td>\n",
              "      <td>Liverpool</td>\n",
              "      <td>Bonny</td>\n",
              "      <td>Kingston</td>\n",
              "      <td>396.0</td>\n",
              "    </tr>\n",
              "    <tr>\n",
              "      <td>36109</td>\n",
              "      <td>1802</td>\n",
              "      <td>Royal Edward</td>\n",
              "      <td>Liverpool</td>\n",
              "      <td>Calabar</td>\n",
              "      <td>St. Croix</td>\n",
              "      <td>280.0</td>\n",
              "    </tr>\n",
              "  </tbody>\n",
              "</table>\n",
              "<p>16276 rows × 6 columns</p>\n",
              "</div>"
            ],
            "text/plain": [
              "       year_of_arrival                              vessel_name  \\\n",
              "0                 1787                                   Hannah   \n",
              "1                 1789                                   Hannah   \n",
              "2                 1789                                   Hannah   \n",
              "3                 1791                                   Hannah   \n",
              "4                 1792                                   Hannah   \n",
              "...                ...                                      ...   \n",
              "36103             1768  NS da Conceição S Antônio e S João de R   \n",
              "36106             1802                                    Ellis   \n",
              "36107             1805                                    Ellis   \n",
              "36108             1800                             Royal Edward   \n",
              "36109             1802                             Royal Edward   \n",
              "\n",
              "                voyage_started  \\\n",
              "0                    Liverpool   \n",
              "1                    Liverpool   \n",
              "2                    Liverpool   \n",
              "3                    Liverpool   \n",
              "4                    Liverpool   \n",
              "...                        ...   \n",
              "36103  Bahia, port unspecified   \n",
              "36106                Liverpool   \n",
              "36107                Liverpool   \n",
              "36108                Liverpool   \n",
              "36109                Liverpool   \n",
              "\n",
              "                                         voyage_pit_stop  \\\n",
              "0                                                Calabar   \n",
              "1                                            New Calabar   \n",
              "2      Bight of Biafra and Gulf of Guinea Islands, po...   \n",
              "3                                                  Bonny   \n",
              "4                                            Congo River   \n",
              "...                                                  ...   \n",
              "36103                                             Whydah   \n",
              "36106                        Bance Island (Ben's Island)   \n",
              "36107  West Central Africa and St. Helena, port unspe...   \n",
              "36108                                              Bonny   \n",
              "36109                                            Calabar   \n",
              "\n",
              "                            end_port  slaves_onboard  \n",
              "0      St. Vincent, port unspecified           390.0  \n",
              "1          Grenada, port unspecified           351.0  \n",
              "2                           Kingston           303.0  \n",
              "3      St. Vincent, port unspecified           316.0  \n",
              "4          Grenada, port unspecified           331.0  \n",
              "...                              ...             ...  \n",
              "36103        Bahia, port unspecified           373.0  \n",
              "36106                       Suriname           263.0  \n",
              "36107                       Suriname           303.0  \n",
              "36108                       Kingston           396.0  \n",
              "36109                      St. Croix           280.0  \n",
              "\n",
              "[16276 rows x 6 columns]"
            ]
          },
          "metadata": {
            "tags": []
          },
          "execution_count": 18
        }
      ]
    },
    {
      "cell_type": "code",
      "metadata": {
        "id": "-8OASxc-HleZ",
        "colab_type": "code",
        "colab": {},
        "outputId": "9e13f226-889d-49ad-f34f-5ae259270d8d"
      },
      "source": [
        "df.info()"
      ],
      "execution_count": null,
      "outputs": [
        {
          "output_type": "stream",
          "text": [
            "<class 'pandas.core.frame.DataFrame'>\n",
            "Int64Index: 16276 entries, 0 to 36109\n",
            "Data columns (total 6 columns):\n",
            "year_of_arrival    16276 non-null int64\n",
            "vessel_name        16276 non-null object\n",
            "voyage_started     16276 non-null object\n",
            "voyage_pit_stop    16276 non-null object\n",
            "end_port           16276 non-null object\n",
            "slaves_onboard     16276 non-null float64\n",
            "dtypes: float64(1), int64(1), object(4)\n",
            "memory usage: 890.1+ KB\n"
          ],
          "name": "stdout"
        }
      ]
    },
    {
      "cell_type": "markdown",
      "metadata": {
        "id": "ju-Bw99zHled",
        "colab_type": "text"
      },
      "source": [
        "### Changing Column Type and Sorting - ```df.sort_values()```"
      ]
    },
    {
      "cell_type": "code",
      "metadata": {
        "id": "KCQb6H5uHled",
        "colab_type": "code",
        "colab": {},
        "outputId": "5c32290d-74f1-46d5-f352-8c967f3d0ebd"
      },
      "source": [
        "df = df.sort_values(by='year_of_arrival', ascending=True)\n",
        "df"
      ],
      "execution_count": null,
      "outputs": [
        {
          "output_type": "execute_result",
          "data": {
            "text/html": [
              "<div>\n",
              "<style scoped>\n",
              "    .dataframe tbody tr th:only-of-type {\n",
              "        vertical-align: middle;\n",
              "    }\n",
              "\n",
              "    .dataframe tbody tr th {\n",
              "        vertical-align: top;\n",
              "    }\n",
              "\n",
              "    .dataframe thead th {\n",
              "        text-align: right;\n",
              "    }\n",
              "</style>\n",
              "<table border=\"1\" class=\"dataframe\">\n",
              "  <thead>\n",
              "    <tr style=\"text-align: right;\">\n",
              "      <th></th>\n",
              "      <th>year_of_arrival</th>\n",
              "      <th>vessel_name</th>\n",
              "      <th>voyage_started</th>\n",
              "      <th>voyage_pit_stop</th>\n",
              "      <th>end_port</th>\n",
              "      <th>slaves_onboard</th>\n",
              "    </tr>\n",
              "  </thead>\n",
              "  <tbody>\n",
              "    <tr>\n",
              "      <td>21522</td>\n",
              "      <td>1532</td>\n",
              "      <td>S Antônio</td>\n",
              "      <td>Lisbon</td>\n",
              "      <td>Sao Tome</td>\n",
              "      <td>Spanish Caribbean, unspecified</td>\n",
              "      <td>175.0</td>\n",
              "    </tr>\n",
              "    <tr>\n",
              "      <td>16136</td>\n",
              "      <td>1562</td>\n",
              "      <td>S Nicolás</td>\n",
              "      <td>Cadiz</td>\n",
              "      <td>Cape Verde Islands</td>\n",
              "      <td>Cartagena</td>\n",
              "      <td>202.0</td>\n",
              "    </tr>\n",
              "    <tr>\n",
              "      <td>23076</td>\n",
              "      <td>1565</td>\n",
              "      <td>Swallow</td>\n",
              "      <td>Plymouth</td>\n",
              "      <td>Africa., port unspecified</td>\n",
              "      <td>Spanish Circum-Caribbean,unspecified</td>\n",
              "      <td>93.0</td>\n",
              "    </tr>\n",
              "    <tr>\n",
              "      <td>23073</td>\n",
              "      <td>1565</td>\n",
              "      <td>Jesus of Lubeck</td>\n",
              "      <td>Plymouth</td>\n",
              "      <td>Africa., port unspecified</td>\n",
              "      <td>Spanish Circum-Caribbean,unspecified</td>\n",
              "      <td>92.0</td>\n",
              "    </tr>\n",
              "    <tr>\n",
              "      <td>23074</td>\n",
              "      <td>1565</td>\n",
              "      <td>Salomon</td>\n",
              "      <td>Plymouth</td>\n",
              "      <td>Africa., port unspecified</td>\n",
              "      <td>Spanish Circum-Caribbean,unspecified</td>\n",
              "      <td>92.0</td>\n",
              "    </tr>\n",
              "    <tr>\n",
              "      <td>...</td>\n",
              "      <td>...</td>\n",
              "      <td>...</td>\n",
              "      <td>...</td>\n",
              "      <td>...</td>\n",
              "      <td>...</td>\n",
              "      <td>...</td>\n",
              "    </tr>\n",
              "    <tr>\n",
              "      <td>7673</td>\n",
              "      <td>1863</td>\n",
              "      <td>Marghareta (a) Mariquita</td>\n",
              "      <td>New York</td>\n",
              "      <td>Congo River</td>\n",
              "      <td>St. Helena</td>\n",
              "      <td>459.0</td>\n",
              "    </tr>\n",
              "    <tr>\n",
              "      <td>7825</td>\n",
              "      <td>1863</td>\n",
              "      <td>Cicerón (a) City of Norwich</td>\n",
              "      <td>Cadiz</td>\n",
              "      <td>Whydah</td>\n",
              "      <td>Cuba, port unspecified</td>\n",
              "      <td>960.0</td>\n",
              "    </tr>\n",
              "    <tr>\n",
              "      <td>7674</td>\n",
              "      <td>1863</td>\n",
              "      <td>Haydee</td>\n",
              "      <td>Lisbon</td>\n",
              "      <td>Ambriz</td>\n",
              "      <td>St. Helena</td>\n",
              "      <td>577.0</td>\n",
              "    </tr>\n",
              "    <tr>\n",
              "      <td>7827</td>\n",
              "      <td>1864</td>\n",
              "      <td>Pondichery</td>\n",
              "      <td>Mediterranean coast (France)</td>\n",
              "      <td>Congo River</td>\n",
              "      <td>Cuba, port unspecified</td>\n",
              "      <td>659.0</td>\n",
              "    </tr>\n",
              "    <tr>\n",
              "      <td>7832</td>\n",
              "      <td>1864</td>\n",
              "      <td>Virgen Del Refugio</td>\n",
              "      <td>Cadiz</td>\n",
              "      <td>Benguela</td>\n",
              "      <td>Luanda</td>\n",
              "      <td>3.0</td>\n",
              "    </tr>\n",
              "  </tbody>\n",
              "</table>\n",
              "<p>16276 rows × 6 columns</p>\n",
              "</div>"
            ],
            "text/plain": [
              "       year_of_arrival                  vessel_name  \\\n",
              "21522             1532                    S Antônio   \n",
              "16136             1562                    S Nicolás   \n",
              "23076             1565                      Swallow   \n",
              "23073             1565              Jesus of Lubeck   \n",
              "23074             1565                      Salomon   \n",
              "...                ...                          ...   \n",
              "7673              1863     Marghareta (a) Mariquita   \n",
              "7825              1863  Cicerón (a) City of Norwich   \n",
              "7674              1863                       Haydee   \n",
              "7827              1864                   Pondichery   \n",
              "7832              1864           Virgen Del Refugio   \n",
              "\n",
              "                     voyage_started            voyage_pit_stop  \\\n",
              "21522                        Lisbon                   Sao Tome   \n",
              "16136                         Cadiz         Cape Verde Islands   \n",
              "23076                      Plymouth  Africa., port unspecified   \n",
              "23073                      Plymouth  Africa., port unspecified   \n",
              "23074                      Plymouth  Africa., port unspecified   \n",
              "...                             ...                        ...   \n",
              "7673                       New York                Congo River   \n",
              "7825                          Cadiz                     Whydah   \n",
              "7674                         Lisbon                     Ambriz   \n",
              "7827   Mediterranean coast (France)                Congo River   \n",
              "7832                          Cadiz                   Benguela   \n",
              "\n",
              "                                   end_port  slaves_onboard  \n",
              "21522        Spanish Caribbean, unspecified           175.0  \n",
              "16136                             Cartagena           202.0  \n",
              "23076  Spanish Circum-Caribbean,unspecified            93.0  \n",
              "23073  Spanish Circum-Caribbean,unspecified            92.0  \n",
              "23074  Spanish Circum-Caribbean,unspecified            92.0  \n",
              "...                                     ...             ...  \n",
              "7673                             St. Helena           459.0  \n",
              "7825                 Cuba, port unspecified           960.0  \n",
              "7674                             St. Helena           577.0  \n",
              "7827                 Cuba, port unspecified           659.0  \n",
              "7832                                 Luanda             3.0  \n",
              "\n",
              "[16276 rows x 6 columns]"
            ]
          },
          "metadata": {
            "tags": []
          },
          "execution_count": 20
        }
      ]
    },
    {
      "cell_type": "markdown",
      "metadata": {
        "id": "AMV7309HHleh",
        "colab_type": "text"
      },
      "source": [
        "#### Reseting Index againt with 'year_of_arrival' in Ascending Order."
      ]
    },
    {
      "cell_type": "code",
      "metadata": {
        "id": "rEIogWnUHlei",
        "colab_type": "code",
        "colab": {},
        "outputId": "c6802080-66a9-44d6-cda1-5e55bbfdc8b3"
      },
      "source": [
        "df.reset_index(inplace=True, drop=True)\n",
        "df"
      ],
      "execution_count": null,
      "outputs": [
        {
          "output_type": "execute_result",
          "data": {
            "text/html": [
              "<div>\n",
              "<style scoped>\n",
              "    .dataframe tbody tr th:only-of-type {\n",
              "        vertical-align: middle;\n",
              "    }\n",
              "\n",
              "    .dataframe tbody tr th {\n",
              "        vertical-align: top;\n",
              "    }\n",
              "\n",
              "    .dataframe thead th {\n",
              "        text-align: right;\n",
              "    }\n",
              "</style>\n",
              "<table border=\"1\" class=\"dataframe\">\n",
              "  <thead>\n",
              "    <tr style=\"text-align: right;\">\n",
              "      <th></th>\n",
              "      <th>year_of_arrival</th>\n",
              "      <th>vessel_name</th>\n",
              "      <th>voyage_started</th>\n",
              "      <th>voyage_pit_stop</th>\n",
              "      <th>end_port</th>\n",
              "      <th>slaves_onboard</th>\n",
              "    </tr>\n",
              "  </thead>\n",
              "  <tbody>\n",
              "    <tr>\n",
              "      <td>0</td>\n",
              "      <td>1532</td>\n",
              "      <td>S Antônio</td>\n",
              "      <td>Lisbon</td>\n",
              "      <td>Sao Tome</td>\n",
              "      <td>Spanish Caribbean, unspecified</td>\n",
              "      <td>175.0</td>\n",
              "    </tr>\n",
              "    <tr>\n",
              "      <td>1</td>\n",
              "      <td>1562</td>\n",
              "      <td>S Nicolás</td>\n",
              "      <td>Cadiz</td>\n",
              "      <td>Cape Verde Islands</td>\n",
              "      <td>Cartagena</td>\n",
              "      <td>202.0</td>\n",
              "    </tr>\n",
              "    <tr>\n",
              "      <td>2</td>\n",
              "      <td>1565</td>\n",
              "      <td>Swallow</td>\n",
              "      <td>Plymouth</td>\n",
              "      <td>Africa., port unspecified</td>\n",
              "      <td>Spanish Circum-Caribbean,unspecified</td>\n",
              "      <td>93.0</td>\n",
              "    </tr>\n",
              "    <tr>\n",
              "      <td>3</td>\n",
              "      <td>1565</td>\n",
              "      <td>Jesus of Lubeck</td>\n",
              "      <td>Plymouth</td>\n",
              "      <td>Africa., port unspecified</td>\n",
              "      <td>Spanish Circum-Caribbean,unspecified</td>\n",
              "      <td>92.0</td>\n",
              "    </tr>\n",
              "    <tr>\n",
              "      <td>4</td>\n",
              "      <td>1565</td>\n",
              "      <td>Salomon</td>\n",
              "      <td>Plymouth</td>\n",
              "      <td>Africa., port unspecified</td>\n",
              "      <td>Spanish Circum-Caribbean,unspecified</td>\n",
              "      <td>92.0</td>\n",
              "    </tr>\n",
              "    <tr>\n",
              "      <td>...</td>\n",
              "      <td>...</td>\n",
              "      <td>...</td>\n",
              "      <td>...</td>\n",
              "      <td>...</td>\n",
              "      <td>...</td>\n",
              "      <td>...</td>\n",
              "    </tr>\n",
              "    <tr>\n",
              "      <td>16271</td>\n",
              "      <td>1863</td>\n",
              "      <td>Marghareta (a) Mariquita</td>\n",
              "      <td>New York</td>\n",
              "      <td>Congo River</td>\n",
              "      <td>St. Helena</td>\n",
              "      <td>459.0</td>\n",
              "    </tr>\n",
              "    <tr>\n",
              "      <td>16272</td>\n",
              "      <td>1863</td>\n",
              "      <td>Cicerón (a) City of Norwich</td>\n",
              "      <td>Cadiz</td>\n",
              "      <td>Whydah</td>\n",
              "      <td>Cuba, port unspecified</td>\n",
              "      <td>960.0</td>\n",
              "    </tr>\n",
              "    <tr>\n",
              "      <td>16273</td>\n",
              "      <td>1863</td>\n",
              "      <td>Haydee</td>\n",
              "      <td>Lisbon</td>\n",
              "      <td>Ambriz</td>\n",
              "      <td>St. Helena</td>\n",
              "      <td>577.0</td>\n",
              "    </tr>\n",
              "    <tr>\n",
              "      <td>16274</td>\n",
              "      <td>1864</td>\n",
              "      <td>Pondichery</td>\n",
              "      <td>Mediterranean coast (France)</td>\n",
              "      <td>Congo River</td>\n",
              "      <td>Cuba, port unspecified</td>\n",
              "      <td>659.0</td>\n",
              "    </tr>\n",
              "    <tr>\n",
              "      <td>16275</td>\n",
              "      <td>1864</td>\n",
              "      <td>Virgen Del Refugio</td>\n",
              "      <td>Cadiz</td>\n",
              "      <td>Benguela</td>\n",
              "      <td>Luanda</td>\n",
              "      <td>3.0</td>\n",
              "    </tr>\n",
              "  </tbody>\n",
              "</table>\n",
              "<p>16276 rows × 6 columns</p>\n",
              "</div>"
            ],
            "text/plain": [
              "       year_of_arrival                  vessel_name  \\\n",
              "0                 1532                    S Antônio   \n",
              "1                 1562                    S Nicolás   \n",
              "2                 1565                      Swallow   \n",
              "3                 1565              Jesus of Lubeck   \n",
              "4                 1565                      Salomon   \n",
              "...                ...                          ...   \n",
              "16271             1863     Marghareta (a) Mariquita   \n",
              "16272             1863  Cicerón (a) City of Norwich   \n",
              "16273             1863                       Haydee   \n",
              "16274             1864                   Pondichery   \n",
              "16275             1864           Virgen Del Refugio   \n",
              "\n",
              "                     voyage_started            voyage_pit_stop  \\\n",
              "0                            Lisbon                   Sao Tome   \n",
              "1                             Cadiz         Cape Verde Islands   \n",
              "2                          Plymouth  Africa., port unspecified   \n",
              "3                          Plymouth  Africa., port unspecified   \n",
              "4                          Plymouth  Africa., port unspecified   \n",
              "...                             ...                        ...   \n",
              "16271                      New York                Congo River   \n",
              "16272                         Cadiz                     Whydah   \n",
              "16273                        Lisbon                     Ambriz   \n",
              "16274  Mediterranean coast (France)                Congo River   \n",
              "16275                         Cadiz                   Benguela   \n",
              "\n",
              "                                   end_port  slaves_onboard  \n",
              "0            Spanish Caribbean, unspecified           175.0  \n",
              "1                                 Cartagena           202.0  \n",
              "2      Spanish Circum-Caribbean,unspecified            93.0  \n",
              "3      Spanish Circum-Caribbean,unspecified            92.0  \n",
              "4      Spanish Circum-Caribbean,unspecified            92.0  \n",
              "...                                     ...             ...  \n",
              "16271                            St. Helena           459.0  \n",
              "16272                Cuba, port unspecified           960.0  \n",
              "16273                            St. Helena           577.0  \n",
              "16274                Cuba, port unspecified           659.0  \n",
              "16275                                Luanda             3.0  \n",
              "\n",
              "[16276 rows x 6 columns]"
            ]
          },
          "metadata": {
            "tags": []
          },
          "execution_count": 21
        }
      ]
    },
    {
      "cell_type": "markdown",
      "metadata": {
        "id": "i_4uzK6tHlel",
        "colab_type": "text"
      },
      "source": [
        "### Finding Unique and similar strings \n",
        "```df['column_name].unique()``` and ```df.sort()```"
      ]
    },
    {
      "cell_type": "code",
      "metadata": {
        "id": "zcZzcYc6Hlel",
        "colab_type": "code",
        "colab": {},
        "outputId": "a8382639-b370-407f-a83f-e0fb551808d9"
      },
      "source": [
        "a = df['voyage_started'].unique()\n",
        "a.sort()\n",
        "a"
      ],
      "execution_count": null,
      "outputs": [
        {
          "output_type": "execute_result",
          "data": {
            "text/plain": [
              "array(['Africa., port unspecified', 'Amsterdam',\n",
              "       'Antigua, port unspecified', 'Antwerp', 'Azores', 'Bahia Honda',\n",
              "       'Bahia, port unspecified', 'Baltimore',\n",
              "       'Barbados, port unspecified', 'Barcelona', 'Basse Indres',\n",
              "       'Bayonne', 'Belgium, port unspecified', 'Bermuda', 'Bilbao',\n",
              "       'Bissau', 'Bordeaux', 'Boston', 'Brazil, port unspecified',\n",
              "       'Brest', 'Bristol', 'Bristol (RI)',\n",
              "       'British Americas, port unspecified',\n",
              "       'British Caribbean, colony unspecified', 'Brugge', 'Buenos Aires',\n",
              "       'Cabanas', 'Cadiz', 'Camaret', 'Canary Islands', 'Canasi',\n",
              "       'Cape Coast Castle', 'Cape Verde Islands', 'Caracas', 'Cardenas',\n",
              "       'Charleston', 'Chester', 'Colchester', 'Cork', 'Cowes',\n",
              "       'Cuba, port unspecified', 'Danish West Indies, colony unspecified',\n",
              "       'Dartmouth', 'Demerara', 'Dieppe', 'Dominica, port unspecified',\n",
              "       'Dordrecht', 'Dunkerque', 'Emden', 'England, port unspecified',\n",
              "       'Exeter', 'France, port unspecified', 'Georgia, port unspecified',\n",
              "       'Glasgow', 'Goree', 'Goteborg', 'Greenock',\n",
              "       'Grenada, port unspecified', 'Groningen',\n",
              "       'Guadeloupe, port unspecified', 'Guanimar', 'Guernsey',\n",
              "       'Gustavia, St. Barthelemy', 'Hamburg', 'Havana', 'Hellevoetsluis',\n",
              "       'Honfleur', 'Ile de France', 'Jamaica, port unspecified',\n",
              "       'Kingston', 'Kobenhavn', 'La Coruna', 'La Rochelle', 'Lancaster',\n",
              "       'Le Havre', 'Leith', 'Limerick', 'Lisbon', 'Liverpool', 'London',\n",
              "       'Lorient', 'Luanda', 'Lyme', 'Macae', 'Mangaratiba', 'Maranhao',\n",
              "       'Marblehead', 'Marseille', 'Martha Brae',\n",
              "       'Martinique, port unspecified', 'Maryland, port unspecified',\n",
              "       'Matanzas', 'Mediterranean coast (France)', 'Middelburg', 'Mobile',\n",
              "       'Moerdijk', 'Montego Bay', 'Montevideo', 'Montrose',\n",
              "       'Montserrat, port unspecified', 'Morlaix', 'Mozambique', 'Nantes',\n",
              "       'Netherlands, port unspecified', 'Nevis, port unspecified',\n",
              "       'New Bedford', 'New England', 'New London', 'New Orleans',\n",
              "       'New York', 'Newport', 'Norfolk', 'Odessa', 'Oporto', 'Para',\n",
              "       'Paranagua', 'Pernambuco, port unspecified', 'Philadelphia',\n",
              "       'Piscataqua', 'Plymouth', 'Poole', 'Port Louis', 'Port-au-Prince',\n",
              "       'Portsmouth', 'Portsmouth (NH)', 'Portugal, port unspecified',\n",
              "       'Portuguese Guinea', 'Poulton', 'Preston', 'Princes Island',\n",
              "       'Providence', 'Puerto Rico, port unspecified',\n",
              "       'Rhode Island, port unspecified', 'Rio de Janeiro',\n",
              "       'Rio de Janeiro province', 'Rochefort', 'Rotterdam',\n",
              "       'Saint John (Antigua)', 'Saint-Brieuc', 'Saint-Louis',\n",
              "       'Saint-Malo', 'Saint-Nazaire', 'Salem', 'San Lucar',\n",
              "       'Santa Catarina', 'Santander', 'Santiago de Cuba', 'Santos',\n",
              "       'Sao Tome', 'Sao Tome or Princes Island', 'Savannah', 'Sete',\n",
              "       'Setubal', 'Seville', 'Shoreham', 'Sierra Leone, port unspecified',\n",
              "       'Southeast Brazil, port unspecified', 'Spain, port unspecified',\n",
              "       'St. Barthelemy, port unspecified', 'St. Croix',\n",
              "       'St. Kitts, port unspecified', 'St. Thomas', 'Tenerife', 'Texel',\n",
              "       'Tobago, port unspecified', 'Topsham', 'Trinidad de Cuba',\n",
              "       'USA, location unspecified', 'Vannes', 'Vigo',\n",
              "       'Virginia, port unspecified', 'Vitoria', 'Vlissingen', 'Warren',\n",
              "       'Whitehaven', 'Zeeland'], dtype=object)"
            ]
          },
          "metadata": {
            "tags": []
          },
          "execution_count": 22
        }
      ]
    },
    {
      "cell_type": "code",
      "metadata": {
        "id": "Xo4FXypKHleq",
        "colab_type": "code",
        "colab": {},
        "outputId": "926f2aee-23b4-4112-8fc8-3d7444ba4dec"
      },
      "source": [
        "a = df['voyage_pit_stop'].unique()\n",
        "a.sort()\n",
        "a"
      ],
      "execution_count": null,
      "outputs": [
        {
          "output_type": "execute_result",
          "data": {
            "text/plain": [
              "array(['Accra', 'Africa., port unspecified', 'Aghway', 'Alampo',\n",
              "       'Albreda', 'Alecuba', 'Ambona', 'Ambriz', 'Andony', 'Anomabu',\n",
              "       'Apammin', 'Ardra', 'Axim', 'Badagry/Apa', 'Banana Islands',\n",
              "       \"Bance Island (Ben's Island)\", 'Bassa', 'Benguela', 'Benin',\n",
              "       'Bight of Benin, port unspecified',\n",
              "       'Bight of Biafra and Gulf of Guinea Islands, port unspecified',\n",
              "       'Bights', 'Bilbay', 'Bimbia', 'Bissagos', 'Bissau', 'Boary',\n",
              "       'Bonny', 'Bundy', 'Cabinda', 'Cacheu', 'Calabar', 'Cameroons',\n",
              "       'Cameroons River', 'Cap Lopez', 'Cape Coast Castle', 'Cape Lahou',\n",
              "       'Cape Mole', 'Cape Mount (Cape Grand Mount)', 'Cape Verde Islands',\n",
              "       'Casamance', 'Cess', 'Christiansborg', 'Coanza River',\n",
              "       'Congo North', 'Congo River', 'Corisco', 'Costa Leste Occidental',\n",
              "       'Costa da Mina',\n",
              "       'Costa de Africa (mainland coast around S Tome/Principe)',\n",
              "       'Danish Gold Coast', 'Delagoa', 'Dembia', 'Drouin', 'Elmina',\n",
              "       'Epe', 'Eva', 'Formosa', 'Gabon', 'Galam', 'Gallinhas', 'Gambia',\n",
              "       'Gold Coast + Bight of Benin + Bight of Biafra',\n",
              "       'Gold Coast, Fr. definition', 'Gold Coast, port unspecified',\n",
              "       'Goree', 'Grand Bassa', 'Grand Bassam', 'Grand Mesurado',\n",
              "       'Grand Popo', 'Grand Sestos', 'Grenada Point',\n",
              "       'Gulf of Guinea islands', 'Ibo', 'Ife', 'Iles Plantain',\n",
              "       'Iles de Los', 'Inhambane', 'Ivory Coast', 'Jacquin',\n",
              "       'Joal, or Saloum River', 'Keta', 'Kilongo', 'Kilwa', 'Kormantine',\n",
              "       'Lagos, Onim', 'Lay', 'Legas', 'Little Bassa', 'Little Junk',\n",
              "       'Little Popo', 'Loango', 'Lourenco Marques', 'Luanda',\n",
              "       'Madagascar', 'Madeira', 'Malembo', 'Mano', 'Mascarene Islands',\n",
              "       'Mayumba', 'Momboza or Zanzibar', 'Mozambique', 'Mpinda',\n",
              "       'New Calabar', 'Nova Redonda', 'Oere', 'Penido', 'Petit Mesurado',\n",
              "       'Pokesoe (Princes Town)', 'Popo', 'Porto Novo', 'Portudal',\n",
              "       'Portuguese Guinea', 'Princes Island', 'Quaqua', 'Quicombo',\n",
              "       'Quilimane', 'Quirimba', 'Rio Nun', 'Rio Nunez', 'Rio Pongo',\n",
              "       'Rio Zaire', 'River Brass', 'River Kissey', 'River del Rey',\n",
              "       'Saint-Louis', 'Sao Tome', 'Sao Tome or Princes Island',\n",
              "       'Sassandra', 'Scarcies',\n",
              "       'Senegambia and offshore Atlantic, port unspecified',\n",
              "       'Senegambia or Sierra Leone', 'Settra Kru', 'Sherbro',\n",
              "       'Sierra Leone estuary', 'Sierra Leone, port unspecified', 'Sofala',\n",
              "       'Southeast Africa and Indian Ocean islands, port unspecified',\n",
              "       'Soyo', 'St. Paul', 'Sugary (Siekere)', 'Tabou', 'Trade Town',\n",
              "       'West Central Africa and St. Helena, port unspecified', 'Whydah',\n",
              "       'Wiamba', 'Windward + Ivory + Gold + Benin',\n",
              "       'Windward Coast (Nunez - Assini)',\n",
              "       'Windward Coast, port unspecified', 'Zanzibar'], dtype=object)"
            ]
          },
          "metadata": {
            "tags": []
          },
          "execution_count": 23
        }
      ]
    },
    {
      "cell_type": "code",
      "metadata": {
        "id": "m4mKFIA8Hlex",
        "colab_type": "code",
        "colab": {},
        "outputId": "f5c74e9a-f13a-48a6-bd16-d1aa70928874"
      },
      "source": [
        "a = df['end_port'].unique()\n",
        "a.sort()\n",
        "a"
      ],
      "execution_count": null,
      "outputs": [
        {
          "output_type": "execute_result",
          "data": {
            "text/plain": [
              "array(['???', 'Accra', 'Africa., port unspecified', 'Alagoas province',\n",
              "       'Amelia Island', 'Americas, port unspecified', 'Annapolis',\n",
              "       'Annotto Bay', 'Antigua, port unspecified', 'Antonia',\n",
              "       'Bahamas, port unspecified', 'Bahia Honda',\n",
              "       'Bahia, port unspecified', 'Baia de Botafogo', 'Baia de Sepetiba',\n",
              "       'Banes', 'Barbados, port unspecified', 'Basse-Terre', 'Batabano  ',\n",
              "       'Beaufort', 'Benin', 'Berbice',\n",
              "       'Bight of Biafra and Gulf of Guinea Islands, port unspecified',\n",
              "       'Biloxi', 'Black River', 'Bonny', 'Borburata', 'Boston', 'Bristol',\n",
              "       'British Caribbean, colony unspecified',\n",
              "       'British Honduras, port unspecified', 'British Leewards',\n",
              "       'Buenos Aires', 'Cabanas', 'Cabo Frio', 'Cabo de Buzios', 'Cadiz',\n",
              "       'Campos', 'Cananeia', 'Canasi', 'Cap Francais',\n",
              "       'Cape of Good Hope', 'Caracas', 'Cardenas',\n",
              "       'Caribbean (colony unspecified)', 'Cartagena',\n",
              "       'Catuamo and Maria Farinha', 'Cayenne', 'Cayes (Les)',\n",
              "       'Charleston', 'Cienfuegos', 'Copacabana', 'Cuba, port unspecified',\n",
              "       'Cuba, south coast', 'Cuba, west coast', 'Cul-de-Sac', 'Cumana',\n",
              "       'Cumingsberg', 'Curacao', 'Danish West Indies, colony unspecified',\n",
              "       'Demerara', 'Dois Rios', 'Dominica, port unspecified',\n",
              "       'Dutch Caribbean, colony unspecified',\n",
              "       'Dutch Guianas, colony unspecified', 'Eastern New Jersey',\n",
              "       'Essequibo', 'Falmouth (Jam.)', 'Fernando Po',\n",
              "       'Florida, port unspecified', 'Fort Dauphin',\n",
              "       'France, port unspecified', 'Freetown',\n",
              "       'French Africa (Goree or Senegal)',\n",
              "       'French Caribbean, colony unspecified',\n",
              "       'Georgia, port unspecified', 'Grenada, port unspecified',\n",
              "       'Guadeloupe, port unspecified', 'Guanimar', 'Guiana',\n",
              "       'Gustavia, St. Barthelemy', 'Hampton', 'Havana',\n",
              "       'Hispaniola, unspecified', 'Ilha Grande', 'Ilha das Palmas',\n",
              "       'Ilha de Itamaric ', 'Ilha de Lobes', 'Ilha de Marambaia',\n",
              "       'Ilha de Paqueta ', 'Isla de Pinas', 'Jacmel',\n",
              "       'Jamaica, port unspecified', 'Jeremie', 'Key West', 'Kingston',\n",
              "       'Kingston (Demerera)', 'La Balise', 'La Guaira', 'Le Havre',\n",
              "       'Leogane', 'Liberia', 'Lisbon', 'Londontowne', 'Louisiana',\n",
              "       'Lower James River', 'Luanda', 'Lucea (a) St. Lucea', 'Macae',\n",
              "       'Maceio', 'Magari, Manzanillo', 'Mangaratiba', 'Maranhao',\n",
              "       'Margarita', 'Marica', 'Mariel', 'Martha Brae',\n",
              "       'Martinique, port unspecified', 'Maryland, port unspecified',\n",
              "       'Matanzas', 'Matanzas province, south', 'Mobile', 'Montego Bay',\n",
              "       'Montevideo', 'Montserrat, port unspecified', 'Morant Bay',\n",
              "       'Nassau', 'Nevis, port unspecified', 'New Orleans', 'New York',\n",
              "       'Newcastle (Nevis)', 'Newport', 'North Carolina, port unspecified',\n",
              "       'North Potomac', 'Oxford', 'Para', 'Paraiba', 'Paramaribo',\n",
              "       'Paranagua', 'Parati', 'Patuxent', 'Pernambuco, port unspecified',\n",
              "       'Petit-Goave', 'Philadelphia', 'Ponta Negro', 'Port Maria',\n",
              "       'Port Royal', 'Port-au-Prince', 'Port-de-Paix',\n",
              "       'Porto de Galinhas', 'Portobelo', 'Puerto Padre',\n",
              "       'Puerto Rico, port unspecified', 'Rappahannock',\n",
              "       'Rhode Island, port unspecified', 'Rio Grande do Norte',\n",
              "       'Rio Grande do Sul Province', 'Rio Pongo', 'Rio Sao Jeso',\n",
              "       'Rio de Janeiro', 'Rio de Janeiro province',\n",
              "       'Rio de Janeiro, Sao Paulo, Santa Catarina', 'Rio de la Hacha',\n",
              "       'Roanoke', 'Sagua', \"Saint Ann's Bay\", 'Saint John (Antigua)',\n",
              "       'Saint-Domingue, port unspecified', 'Saint-Marc', 'Samana',\n",
              "       'San Domingo (a) Santo Domingo', 'Santa Marta', 'Santiago de Cuba',\n",
              "       'Santos', 'Sao Sebastiao', 'Sao Tome', 'Savanna la Mar',\n",
              "       'Savannah', 'Senegambia and offshore Atlantic, port unspecified',\n",
              "       'South Carolina, port unspecified', 'South Potomac',\n",
              "       'Spanish Americas, port unspecified',\n",
              "       'Spanish Caribbean, unspecified',\n",
              "       'Spanish Circum-Caribbean,unspecified', 'Spanish Town',\n",
              "       'St. Augustine', 'St. Barthelemy, port unspecified', 'St. Croix',\n",
              "       'St. Eustatius', 'St. Helena', 'St. Kitts, port unspecified',\n",
              "       'St. Lucia, port unspecified', 'St. Maarten', 'St. Thomas',\n",
              "       'St. Vincent, port unspecified', 'Stabroek', 'Suriname', 'Taipu',\n",
              "       'Tenerife', 'Tobago, port unspecified',\n",
              "       'Tortola, port unspecified', 'Tortuga', 'Trinidad de Cuba',\n",
              "       'Trinidad, port unspecified', 'Tybee Island',\n",
              "       'USA, location unspecified', 'Ubatuba', 'Upper James River',\n",
              "       'Veracruz', 'Virginia, port unspecified',\n",
              "       'West Indies (colony unspecified)', 'York River', 'Zion Hill'],\n",
              "      dtype=object)"
            ]
          },
          "metadata": {
            "tags": []
          },
          "execution_count": 24
        }
      ]
    },
    {
      "cell_type": "markdown",
      "metadata": {
        "id": "zKVGN7_cHle2",
        "colab_type": "text"
      },
      "source": [
        "### Working with Strings - ```df['column_name'].str.replace()```"
      ]
    },
    {
      "cell_type": "code",
      "metadata": {
        "id": "NPxciPRzHle3",
        "colab_type": "code",
        "colab": {},
        "outputId": "1ce9ab16-092b-439b-a93b-c0e0f14e722b"
      },
      "source": [
        "df['voyage_started'] = df['voyage_started'].str.replace(', port unspecified', '')\n",
        "df['voyage_started'] = df['voyage_started'].str.replace(', colony unspecified', '')\n",
        "df['voyage_started'] = df['voyage_started'].str.replace('.', '')\n",
        "\n",
        "df['voyage_pit_stop'] = df['voyage_pit_stop'].str.replace(', port unspecified', '')\n",
        "df['voyage_pit_stop'] = df['voyage_pit_stop'].str.replace(', colony unspecified', '')\n",
        "df['voyage_pit_stop'] = df['voyage_pit_stop'].str.replace('.', '')\n",
        "\n",
        "df['end_port'] = df['end_port'].str.replace(', port unspecified', '')\n",
        "df['end_port'] = df['end_port'].str.replace(', colony unspecified', '')\n",
        "df['end_port'] = df['end_port'].str.replace('.', '')\n",
        "df['end_port'] = df['end_port'].str.replace(' (colony unspecified)', '')\n",
        "df['end_port'] = df['end_port'].str.replace(', unspecified', '')\n",
        "df['end_port'] = df['end_port'].str.replace(',unspecified', '')\n",
        "\n",
        "df"
      ],
      "execution_count": null,
      "outputs": [
        {
          "output_type": "execute_result",
          "data": {
            "text/html": [
              "<div>\n",
              "<style scoped>\n",
              "    .dataframe tbody tr th:only-of-type {\n",
              "        vertical-align: middle;\n",
              "    }\n",
              "\n",
              "    .dataframe tbody tr th {\n",
              "        vertical-align: top;\n",
              "    }\n",
              "\n",
              "    .dataframe thead th {\n",
              "        text-align: right;\n",
              "    }\n",
              "</style>\n",
              "<table border=\"1\" class=\"dataframe\">\n",
              "  <thead>\n",
              "    <tr style=\"text-align: right;\">\n",
              "      <th></th>\n",
              "      <th>year_of_arrival</th>\n",
              "      <th>vessel_name</th>\n",
              "      <th>voyage_started</th>\n",
              "      <th>voyage_pit_stop</th>\n",
              "      <th>end_port</th>\n",
              "      <th>slaves_onboard</th>\n",
              "    </tr>\n",
              "  </thead>\n",
              "  <tbody>\n",
              "    <tr>\n",
              "      <td>0</td>\n",
              "      <td>1532</td>\n",
              "      <td>S Antônio</td>\n",
              "      <td>Lisbon</td>\n",
              "      <td>Sao Tome</td>\n",
              "      <td>Spanish Caribbean</td>\n",
              "      <td>175.0</td>\n",
              "    </tr>\n",
              "    <tr>\n",
              "      <td>1</td>\n",
              "      <td>1562</td>\n",
              "      <td>S Nicolás</td>\n",
              "      <td>Cadiz</td>\n",
              "      <td>Cape Verde Islands</td>\n",
              "      <td>Cartagena</td>\n",
              "      <td>202.0</td>\n",
              "    </tr>\n",
              "    <tr>\n",
              "      <td>2</td>\n",
              "      <td>1565</td>\n",
              "      <td>Swallow</td>\n",
              "      <td>Plymouth</td>\n",
              "      <td>Africa</td>\n",
              "      <td>Spanish Circum-Caribbean</td>\n",
              "      <td>93.0</td>\n",
              "    </tr>\n",
              "    <tr>\n",
              "      <td>3</td>\n",
              "      <td>1565</td>\n",
              "      <td>Jesus of Lubeck</td>\n",
              "      <td>Plymouth</td>\n",
              "      <td>Africa</td>\n",
              "      <td>Spanish Circum-Caribbean</td>\n",
              "      <td>92.0</td>\n",
              "    </tr>\n",
              "    <tr>\n",
              "      <td>4</td>\n",
              "      <td>1565</td>\n",
              "      <td>Salomon</td>\n",
              "      <td>Plymouth</td>\n",
              "      <td>Africa</td>\n",
              "      <td>Spanish Circum-Caribbean</td>\n",
              "      <td>92.0</td>\n",
              "    </tr>\n",
              "    <tr>\n",
              "      <td>...</td>\n",
              "      <td>...</td>\n",
              "      <td>...</td>\n",
              "      <td>...</td>\n",
              "      <td>...</td>\n",
              "      <td>...</td>\n",
              "      <td>...</td>\n",
              "    </tr>\n",
              "    <tr>\n",
              "      <td>16271</td>\n",
              "      <td>1863</td>\n",
              "      <td>Marghareta (a) Mariquita</td>\n",
              "      <td>New York</td>\n",
              "      <td>Congo River</td>\n",
              "      <td>St Helena</td>\n",
              "      <td>459.0</td>\n",
              "    </tr>\n",
              "    <tr>\n",
              "      <td>16272</td>\n",
              "      <td>1863</td>\n",
              "      <td>Cicerón (a) City of Norwich</td>\n",
              "      <td>Cadiz</td>\n",
              "      <td>Whydah</td>\n",
              "      <td>Cuba</td>\n",
              "      <td>960.0</td>\n",
              "    </tr>\n",
              "    <tr>\n",
              "      <td>16273</td>\n",
              "      <td>1863</td>\n",
              "      <td>Haydee</td>\n",
              "      <td>Lisbon</td>\n",
              "      <td>Ambriz</td>\n",
              "      <td>St Helena</td>\n",
              "      <td>577.0</td>\n",
              "    </tr>\n",
              "    <tr>\n",
              "      <td>16274</td>\n",
              "      <td>1864</td>\n",
              "      <td>Pondichery</td>\n",
              "      <td>Mediterranean coast (France)</td>\n",
              "      <td>Congo River</td>\n",
              "      <td>Cuba</td>\n",
              "      <td>659.0</td>\n",
              "    </tr>\n",
              "    <tr>\n",
              "      <td>16275</td>\n",
              "      <td>1864</td>\n",
              "      <td>Virgen Del Refugio</td>\n",
              "      <td>Cadiz</td>\n",
              "      <td>Benguela</td>\n",
              "      <td>Luanda</td>\n",
              "      <td>3.0</td>\n",
              "    </tr>\n",
              "  </tbody>\n",
              "</table>\n",
              "<p>16276 rows × 6 columns</p>\n",
              "</div>"
            ],
            "text/plain": [
              "       year_of_arrival                  vessel_name  \\\n",
              "0                 1532                    S Antônio   \n",
              "1                 1562                    S Nicolás   \n",
              "2                 1565                      Swallow   \n",
              "3                 1565              Jesus of Lubeck   \n",
              "4                 1565                      Salomon   \n",
              "...                ...                          ...   \n",
              "16271             1863     Marghareta (a) Mariquita   \n",
              "16272             1863  Cicerón (a) City of Norwich   \n",
              "16273             1863                       Haydee   \n",
              "16274             1864                   Pondichery   \n",
              "16275             1864           Virgen Del Refugio   \n",
              "\n",
              "                     voyage_started     voyage_pit_stop  \\\n",
              "0                            Lisbon            Sao Tome   \n",
              "1                             Cadiz  Cape Verde Islands   \n",
              "2                          Plymouth              Africa   \n",
              "3                          Plymouth              Africa   \n",
              "4                          Plymouth              Africa   \n",
              "...                             ...                 ...   \n",
              "16271                      New York         Congo River   \n",
              "16272                         Cadiz              Whydah   \n",
              "16273                        Lisbon              Ambriz   \n",
              "16274  Mediterranean coast (France)         Congo River   \n",
              "16275                         Cadiz            Benguela   \n",
              "\n",
              "                       end_port  slaves_onboard  \n",
              "0             Spanish Caribbean           175.0  \n",
              "1                     Cartagena           202.0  \n",
              "2      Spanish Circum-Caribbean            93.0  \n",
              "3      Spanish Circum-Caribbean            92.0  \n",
              "4      Spanish Circum-Caribbean            92.0  \n",
              "...                         ...             ...  \n",
              "16271                 St Helena           459.0  \n",
              "16272                      Cuba           960.0  \n",
              "16273                 St Helena           577.0  \n",
              "16274                      Cuba           659.0  \n",
              "16275                    Luanda             3.0  \n",
              "\n",
              "[16276 rows x 6 columns]"
            ]
          },
          "metadata": {
            "tags": []
          },
          "execution_count": 25
        }
      ]
    },
    {
      "cell_type": "code",
      "metadata": {
        "id": "IOPDZL8vHle7",
        "colab_type": "code",
        "colab": {},
        "outputId": "8ba26edd-1e05-4caf-f945-212c98ef63ed"
      },
      "source": [
        "df.dtypes"
      ],
      "execution_count": null,
      "outputs": [
        {
          "output_type": "execute_result",
          "data": {
            "text/plain": [
              "year_of_arrival      int64\n",
              "vessel_name         object\n",
              "voyage_started      object\n",
              "voyage_pit_stop     object\n",
              "end_port            object\n",
              "slaves_onboard     float64\n",
              "dtype: object"
            ]
          },
          "metadata": {
            "tags": []
          },
          "execution_count": 26
        }
      ]
    },
    {
      "cell_type": "markdown",
      "metadata": {
        "id": "x0c0BG7SHle_",
        "colab_type": "text"
      },
      "source": [
        "#### Creating a Copy of our modified Dataset"
      ]
    },
    {
      "cell_type": "code",
      "metadata": {
        "id": "4jrvqhIAHle_",
        "colab_type": "code",
        "colab": {}
      },
      "source": [
        "modified_dataset = df.copy()"
      ],
      "execution_count": null,
      "outputs": []
    },
    {
      "cell_type": "markdown",
      "metadata": {
        "id": "Wkw5pefkHlfC",
        "colab_type": "text"
      },
      "source": [
        "## Part 3 - Micro Wrangling and Visualization"
      ]
    },
    {
      "cell_type": "markdown",
      "metadata": {
        "id": "pwDzGZeYHlfD",
        "colab_type": "text"
      },
      "source": [
        "We will Start of this part by dividing our dataset into multiple smaller dataframes. The approach we will be taking is separating dataframes based on the ```year_of_arrival``` dataset.\n",
        "\n",
        "For example, in the blocks below you will see code for 4 intervals:\n",
        "- ```1500 to 1600```\n",
        "- ```1601 to 1700```\n",
        "- ```1701 to 1800```\n",
        "- ```1801 to 1900```\n",
        "\n"
      ]
    },
    {
      "cell_type": "markdown",
      "metadata": {
        "id": "3ZkrSv8hHlfD",
        "colab_type": "text"
      },
      "source": [
        "### Between 1500 to 1600"
      ]
    },
    {
      "cell_type": "code",
      "metadata": {
        "id": "Lp6kae0pHlfE",
        "colab_type": "code",
        "colab": {},
        "outputId": "27d07994-42e6-469a-c446-970dc963f7aa"
      },
      "source": [
        "dataset_between15_16 = modified_dataset.where((modified_dataset['year_of_arrival'] >= 1500) & (modified_dataset['year_of_arrival'] <= 1600))\n",
        "dataset_between15_16"
      ],
      "execution_count": null,
      "outputs": [
        {
          "output_type": "execute_result",
          "data": {
            "text/html": [
              "<div>\n",
              "<style scoped>\n",
              "    .dataframe tbody tr th:only-of-type {\n",
              "        vertical-align: middle;\n",
              "    }\n",
              "\n",
              "    .dataframe tbody tr th {\n",
              "        vertical-align: top;\n",
              "    }\n",
              "\n",
              "    .dataframe thead th {\n",
              "        text-align: right;\n",
              "    }\n",
              "</style>\n",
              "<table border=\"1\" class=\"dataframe\">\n",
              "  <thead>\n",
              "    <tr style=\"text-align: right;\">\n",
              "      <th></th>\n",
              "      <th>year_of_arrival</th>\n",
              "      <th>vessel_name</th>\n",
              "      <th>voyage_started</th>\n",
              "      <th>voyage_pit_stop</th>\n",
              "      <th>end_port</th>\n",
              "      <th>slaves_onboard</th>\n",
              "    </tr>\n",
              "  </thead>\n",
              "  <tbody>\n",
              "    <tr>\n",
              "      <td>0</td>\n",
              "      <td>1532.0</td>\n",
              "      <td>S Antônio</td>\n",
              "      <td>Lisbon</td>\n",
              "      <td>Sao Tome</td>\n",
              "      <td>Spanish Caribbean</td>\n",
              "      <td>175.0</td>\n",
              "    </tr>\n",
              "    <tr>\n",
              "      <td>1</td>\n",
              "      <td>1562.0</td>\n",
              "      <td>S Nicolás</td>\n",
              "      <td>Cadiz</td>\n",
              "      <td>Cape Verde Islands</td>\n",
              "      <td>Cartagena</td>\n",
              "      <td>202.0</td>\n",
              "    </tr>\n",
              "    <tr>\n",
              "      <td>2</td>\n",
              "      <td>1565.0</td>\n",
              "      <td>Swallow</td>\n",
              "      <td>Plymouth</td>\n",
              "      <td>Africa</td>\n",
              "      <td>Spanish Circum-Caribbean</td>\n",
              "      <td>93.0</td>\n",
              "    </tr>\n",
              "    <tr>\n",
              "      <td>3</td>\n",
              "      <td>1565.0</td>\n",
              "      <td>Jesus of Lubeck</td>\n",
              "      <td>Plymouth</td>\n",
              "      <td>Africa</td>\n",
              "      <td>Spanish Circum-Caribbean</td>\n",
              "      <td>92.0</td>\n",
              "    </tr>\n",
              "    <tr>\n",
              "      <td>4</td>\n",
              "      <td>1565.0</td>\n",
              "      <td>Salomon</td>\n",
              "      <td>Plymouth</td>\n",
              "      <td>Africa</td>\n",
              "      <td>Spanish Circum-Caribbean</td>\n",
              "      <td>92.0</td>\n",
              "    </tr>\n",
              "    <tr>\n",
              "      <td>...</td>\n",
              "      <td>...</td>\n",
              "      <td>...</td>\n",
              "      <td>...</td>\n",
              "      <td>...</td>\n",
              "      <td>...</td>\n",
              "      <td>...</td>\n",
              "    </tr>\n",
              "    <tr>\n",
              "      <td>16271</td>\n",
              "      <td>NaN</td>\n",
              "      <td>NaN</td>\n",
              "      <td>NaN</td>\n",
              "      <td>NaN</td>\n",
              "      <td>NaN</td>\n",
              "      <td>NaN</td>\n",
              "    </tr>\n",
              "    <tr>\n",
              "      <td>16272</td>\n",
              "      <td>NaN</td>\n",
              "      <td>NaN</td>\n",
              "      <td>NaN</td>\n",
              "      <td>NaN</td>\n",
              "      <td>NaN</td>\n",
              "      <td>NaN</td>\n",
              "    </tr>\n",
              "    <tr>\n",
              "      <td>16273</td>\n",
              "      <td>NaN</td>\n",
              "      <td>NaN</td>\n",
              "      <td>NaN</td>\n",
              "      <td>NaN</td>\n",
              "      <td>NaN</td>\n",
              "      <td>NaN</td>\n",
              "    </tr>\n",
              "    <tr>\n",
              "      <td>16274</td>\n",
              "      <td>NaN</td>\n",
              "      <td>NaN</td>\n",
              "      <td>NaN</td>\n",
              "      <td>NaN</td>\n",
              "      <td>NaN</td>\n",
              "      <td>NaN</td>\n",
              "    </tr>\n",
              "    <tr>\n",
              "      <td>16275</td>\n",
              "      <td>NaN</td>\n",
              "      <td>NaN</td>\n",
              "      <td>NaN</td>\n",
              "      <td>NaN</td>\n",
              "      <td>NaN</td>\n",
              "      <td>NaN</td>\n",
              "    </tr>\n",
              "  </tbody>\n",
              "</table>\n",
              "<p>16276 rows × 6 columns</p>\n",
              "</div>"
            ],
            "text/plain": [
              "       year_of_arrival      vessel_name voyage_started     voyage_pit_stop  \\\n",
              "0               1532.0        S Antônio         Lisbon            Sao Tome   \n",
              "1               1562.0        S Nicolás          Cadiz  Cape Verde Islands   \n",
              "2               1565.0          Swallow       Plymouth              Africa   \n",
              "3               1565.0  Jesus of Lubeck       Plymouth              Africa   \n",
              "4               1565.0          Salomon       Plymouth              Africa   \n",
              "...                ...              ...            ...                 ...   \n",
              "16271              NaN              NaN            NaN                 NaN   \n",
              "16272              NaN              NaN            NaN                 NaN   \n",
              "16273              NaN              NaN            NaN                 NaN   \n",
              "16274              NaN              NaN            NaN                 NaN   \n",
              "16275              NaN              NaN            NaN                 NaN   \n",
              "\n",
              "                       end_port  slaves_onboard  \n",
              "0             Spanish Caribbean           175.0  \n",
              "1                     Cartagena           202.0  \n",
              "2      Spanish Circum-Caribbean            93.0  \n",
              "3      Spanish Circum-Caribbean            92.0  \n",
              "4      Spanish Circum-Caribbean            92.0  \n",
              "...                         ...             ...  \n",
              "16271                       NaN             NaN  \n",
              "16272                       NaN             NaN  \n",
              "16273                       NaN             NaN  \n",
              "16274                       NaN             NaN  \n",
              "16275                       NaN             NaN  \n",
              "\n",
              "[16276 rows x 6 columns]"
            ]
          },
          "metadata": {
            "tags": []
          },
          "execution_count": 28
        }
      ]
    },
    {
      "cell_type": "code",
      "metadata": {
        "id": "a-tQvhW3HlfI",
        "colab_type": "code",
        "colab": {},
        "outputId": "bdfa40d1-3ab5-43e8-e4ee-df8e97cd4a8c"
      },
      "source": [
        "dataset_between15_16 = dataset_between15_16.dropna()\n",
        "dataset_between15_16"
      ],
      "execution_count": null,
      "outputs": [
        {
          "output_type": "execute_result",
          "data": {
            "text/html": [
              "<div>\n",
              "<style scoped>\n",
              "    .dataframe tbody tr th:only-of-type {\n",
              "        vertical-align: middle;\n",
              "    }\n",
              "\n",
              "    .dataframe tbody tr th {\n",
              "        vertical-align: top;\n",
              "    }\n",
              "\n",
              "    .dataframe thead th {\n",
              "        text-align: right;\n",
              "    }\n",
              "</style>\n",
              "<table border=\"1\" class=\"dataframe\">\n",
              "  <thead>\n",
              "    <tr style=\"text-align: right;\">\n",
              "      <th></th>\n",
              "      <th>year_of_arrival</th>\n",
              "      <th>vessel_name</th>\n",
              "      <th>voyage_started</th>\n",
              "      <th>voyage_pit_stop</th>\n",
              "      <th>end_port</th>\n",
              "      <th>slaves_onboard</th>\n",
              "    </tr>\n",
              "  </thead>\n",
              "  <tbody>\n",
              "    <tr>\n",
              "      <td>0</td>\n",
              "      <td>1532.0</td>\n",
              "      <td>S Antônio</td>\n",
              "      <td>Lisbon</td>\n",
              "      <td>Sao Tome</td>\n",
              "      <td>Spanish Caribbean</td>\n",
              "      <td>175.0</td>\n",
              "    </tr>\n",
              "    <tr>\n",
              "      <td>1</td>\n",
              "      <td>1562.0</td>\n",
              "      <td>S Nicolás</td>\n",
              "      <td>Cadiz</td>\n",
              "      <td>Cape Verde Islands</td>\n",
              "      <td>Cartagena</td>\n",
              "      <td>202.0</td>\n",
              "    </tr>\n",
              "    <tr>\n",
              "      <td>2</td>\n",
              "      <td>1565.0</td>\n",
              "      <td>Swallow</td>\n",
              "      <td>Plymouth</td>\n",
              "      <td>Africa</td>\n",
              "      <td>Spanish Circum-Caribbean</td>\n",
              "      <td>93.0</td>\n",
              "    </tr>\n",
              "    <tr>\n",
              "      <td>3</td>\n",
              "      <td>1565.0</td>\n",
              "      <td>Jesus of Lubeck</td>\n",
              "      <td>Plymouth</td>\n",
              "      <td>Africa</td>\n",
              "      <td>Spanish Circum-Caribbean</td>\n",
              "      <td>92.0</td>\n",
              "    </tr>\n",
              "    <tr>\n",
              "      <td>4</td>\n",
              "      <td>1565.0</td>\n",
              "      <td>Salomon</td>\n",
              "      <td>Plymouth</td>\n",
              "      <td>Africa</td>\n",
              "      <td>Spanish Circum-Caribbean</td>\n",
              "      <td>92.0</td>\n",
              "    </tr>\n",
              "    <tr>\n",
              "      <td>...</td>\n",
              "      <td>...</td>\n",
              "      <td>...</td>\n",
              "      <td>...</td>\n",
              "      <td>...</td>\n",
              "      <td>...</td>\n",
              "      <td>...</td>\n",
              "    </tr>\n",
              "    <tr>\n",
              "      <td>110</td>\n",
              "      <td>1600.0</td>\n",
              "      <td>Santiago</td>\n",
              "      <td>Lisbon</td>\n",
              "      <td>Cape Verde Islands</td>\n",
              "      <td>Cartagena</td>\n",
              "      <td>142.0</td>\n",
              "    </tr>\n",
              "    <tr>\n",
              "      <td>111</td>\n",
              "      <td>1600.0</td>\n",
              "      <td>S Simón</td>\n",
              "      <td>San Lucar</td>\n",
              "      <td>Portuguese Guinea</td>\n",
              "      <td>Cartagena</td>\n",
              "      <td>168.0</td>\n",
              "    </tr>\n",
              "    <tr>\n",
              "      <td>112</td>\n",
              "      <td>1600.0</td>\n",
              "      <td>NS de la Concepción</td>\n",
              "      <td>Lisbon</td>\n",
              "      <td>Cape Verde Islands</td>\n",
              "      <td>Cartagena</td>\n",
              "      <td>158.0</td>\n",
              "    </tr>\n",
              "    <tr>\n",
              "      <td>113</td>\n",
              "      <td>1600.0</td>\n",
              "      <td>San Antonio</td>\n",
              "      <td>Canary Islands</td>\n",
              "      <td>Luanda</td>\n",
              "      <td>Havana</td>\n",
              "      <td>195.0</td>\n",
              "    </tr>\n",
              "    <tr>\n",
              "      <td>114</td>\n",
              "      <td>1600.0</td>\n",
              "      <td>NS de la Luz</td>\n",
              "      <td>Lisbon</td>\n",
              "      <td>Portuguese Guinea</td>\n",
              "      <td>Cartagena</td>\n",
              "      <td>173.0</td>\n",
              "    </tr>\n",
              "  </tbody>\n",
              "</table>\n",
              "<p>115 rows × 6 columns</p>\n",
              "</div>"
            ],
            "text/plain": [
              "     year_of_arrival          vessel_name  voyage_started     voyage_pit_stop  \\\n",
              "0             1532.0            S Antônio          Lisbon            Sao Tome   \n",
              "1             1562.0            S Nicolás           Cadiz  Cape Verde Islands   \n",
              "2             1565.0              Swallow        Plymouth              Africa   \n",
              "3             1565.0      Jesus of Lubeck        Plymouth              Africa   \n",
              "4             1565.0              Salomon        Plymouth              Africa   \n",
              "..               ...                  ...             ...                 ...   \n",
              "110           1600.0             Santiago          Lisbon  Cape Verde Islands   \n",
              "111           1600.0              S Simón       San Lucar   Portuguese Guinea   \n",
              "112           1600.0  NS de la Concepción          Lisbon  Cape Verde Islands   \n",
              "113           1600.0          San Antonio  Canary Islands              Luanda   \n",
              "114           1600.0         NS de la Luz          Lisbon   Portuguese Guinea   \n",
              "\n",
              "                     end_port  slaves_onboard  \n",
              "0           Spanish Caribbean           175.0  \n",
              "1                   Cartagena           202.0  \n",
              "2    Spanish Circum-Caribbean            93.0  \n",
              "3    Spanish Circum-Caribbean            92.0  \n",
              "4    Spanish Circum-Caribbean            92.0  \n",
              "..                        ...             ...  \n",
              "110                 Cartagena           142.0  \n",
              "111                 Cartagena           168.0  \n",
              "112                 Cartagena           158.0  \n",
              "113                    Havana           195.0  \n",
              "114                 Cartagena           173.0  \n",
              "\n",
              "[115 rows x 6 columns]"
            ]
          },
          "metadata": {
            "tags": []
          },
          "execution_count": 29
        }
      ]
    },
    {
      "cell_type": "markdown",
      "metadata": {
        "id": "T6C4yZSgHlfN",
        "colab_type": "text"
      },
      "source": [
        "### Total Number of Slaves Transported between 1501-1600 - Complete Records\n"
      ]
    },
    {
      "cell_type": "code",
      "metadata": {
        "id": "lpCOGYH2HlfN",
        "colab_type": "code",
        "colab": {},
        "outputId": "114f333b-6252-4b92-8c68-e9cb0de4d5e7"
      },
      "source": [
        "dataset_between15_16.slaves_onboard.sum()"
      ],
      "execution_count": null,
      "outputs": [
        {
          "output_type": "execute_result",
          "data": {
            "text/plain": [
              "18801.0"
            ]
          },
          "metadata": {
            "tags": []
          },
          "execution_count": 30
        }
      ]
    },
    {
      "cell_type": "markdown",
      "metadata": {
        "id": "yoLMT1SKHlfR",
        "colab_type": "text"
      },
      "source": [
        "### Visualizing Trips During 1501-1601"
      ]
    },
    {
      "cell_type": "code",
      "metadata": {
        "id": "ejmvzk-2HlfR",
        "colab_type": "code",
        "colab": {},
        "outputId": "9db6d93e-6e87-44e5-f8ce-41d4f5339f3e"
      },
      "source": [
        "import matplotlib.pyplot as plt\n",
        "\n",
        "fig = plt.figure(figsize = (20,10))\n",
        "\n",
        "ax1 = fig.add_subplot(2,2,1)\n",
        "ax2 = fig.add_subplot(2,2,2)\n",
        "ax3 = fig.add_subplot(2,2,3)\n",
        "ax4 = fig.add_subplot(2,2,4)\n",
        "ax1.scatter(dataset_between15_16['year_of_arrival'],\n",
        "            dataset_between15_16['slaves_onboard'],\n",
        "            alpha = 0.4)\n",
        "\n",
        "ax2.scatter(dataset_between15_16['slaves_onboard'],\n",
        "            dataset_between15_16['year_of_arrival'],\n",
        "            alpha = 0.4)\n",
        "\n",
        "ax3.bar(\n",
        "    dataset_between15_16['year_of_arrival'],\n",
        "    dataset_between15_16['slaves_onboard'],\n",
        "    alpha = 0.4)\n",
        "\n",
        "ax4.set_ylim(1500,1600)\n",
        "ax4.bar(\n",
        "    dataset_between15_16['slaves_onboard'],    \n",
        "    dataset_between15_16['year_of_arrival'],\n",
        "    alpha = 0.4)"
      ],
      "execution_count": null,
      "outputs": [
        {
          "output_type": "execute_result",
          "data": {
            "text/plain": [
              "<BarContainer object of 115 artists>"
            ]
          },
          "metadata": {
            "tags": []
          },
          "execution_count": 31
        },
        {
          "output_type": "display_data",
          "data": {
            "image/png": "[encoded data removed]",
            "text/plain": [
              "<Figure size 1440x720 with 4 Axes>"
            ]
          },
          "metadata": {
            "tags": [],
            "needs_background": "light"
          }
        }
      ]
    },
    {
      "cell_type": "markdown",
      "metadata": {
        "id": "jMCmsdSWHlfW",
        "colab_type": "text"
      },
      "source": [
        "###  Now Try This:\n",
        "- Which of these graphs seem useful and which ones are uncessrary?\n",
        "**Write a 2 sentence explanation about why these two plots seem or might be useful.** **Did the visualization style influence your decision?**\n",
        "Select the two graphs you think are more useful and add the following:\n",
        "- add ```title``` for both suplots.\n",
        "- add ```xlabel``` and ```ylabel```.\n",
        "- Change the color for one of the plots\n"
      ]
    },
    {
      "cell_type": "markdown",
      "metadata": {
        "id": "5eu2pWKrHlfX",
        "colab_type": "text"
      },
      "source": [
        "### Pandas Plots"
      ]
    },
    {
      "cell_type": "code",
      "metadata": {
        "id": "90m3tTRHHlfY",
        "colab_type": "code",
        "colab": {},
        "outputId": "64096b26-757c-4a43-b322-22a13bbd0248"
      },
      "source": [
        "fig = plt.figure(figsize = (20,10))\n",
        "ax1 = fig.add_subplot(2,2,1)\n",
        "# ax2 = fig.add_subplot(2,2,2)\n",
        "# ax3 = fig.add_subplot(2,2,3)\n",
        "# ax4 = fig.add_subplot(2,2,4)\n",
        "\n",
        "dataset_between15_16.plot(x='vessel_name',\n",
        "                         y = 'slaves_onboard',kind = 'bar', ax = ax1,\n",
        "                         rot = 45)"
      ],
      "execution_count": null,
      "outputs": [
        {
          "output_type": "execute_result",
          "data": {
            "text/plain": [
              "<matplotlib.axes._subplots.AxesSubplot at 0x11556cf50>"
            ]
          },
          "metadata": {
            "tags": []
          },
          "execution_count": 32
        },
        {
          "output_type": "display_data",
          "data": {
            "image/png": "[encoded data removed]",
            "text/plain": [
              "<Figure size 1440x720 with 1 Axes>"
            ]
          },
          "metadata": {
            "tags": [],
            "needs_background": "light"
          }
        }
      ]
    },
    {
      "cell_type": "markdown",
      "metadata": {
        "id": "7oOVxiLsHlfc",
        "colab_type": "text"
      },
      "source": [
        "### Ships Carrying Less than 100 slaves per trip"
      ]
    },
    {
      "cell_type": "code",
      "metadata": {
        "id": "-_Oy0Cr_Hlfd",
        "colab_type": "code",
        "colab": {},
        "outputId": "679e7d67-afee-4bd3-a8d7-4a817997b369"
      },
      "source": [
        "temp_plot = dataset_between15_16.where(dataset_between15_16['slaves_onboard'] < 100.0).dropna()\n",
        "\n",
        "temp_plot"
      ],
      "execution_count": null,
      "outputs": [
        {
          "output_type": "execute_result",
          "data": {
            "text/html": [
              "<div>\n",
              "<style scoped>\n",
              "    .dataframe tbody tr th:only-of-type {\n",
              "        vertical-align: middle;\n",
              "    }\n",
              "\n",
              "    .dataframe tbody tr th {\n",
              "        vertical-align: top;\n",
              "    }\n",
              "\n",
              "    .dataframe thead th {\n",
              "        text-align: right;\n",
              "    }\n",
              "</style>\n",
              "<table border=\"1\" class=\"dataframe\">\n",
              "  <thead>\n",
              "    <tr style=\"text-align: right;\">\n",
              "      <th></th>\n",
              "      <th>year_of_arrival</th>\n",
              "      <th>vessel_name</th>\n",
              "      <th>voyage_started</th>\n",
              "      <th>voyage_pit_stop</th>\n",
              "      <th>end_port</th>\n",
              "      <th>slaves_onboard</th>\n",
              "    </tr>\n",
              "  </thead>\n",
              "  <tbody>\n",
              "    <tr>\n",
              "      <td>2</td>\n",
              "      <td>1565.0</td>\n",
              "      <td>Swallow</td>\n",
              "      <td>Plymouth</td>\n",
              "      <td>Africa</td>\n",
              "      <td>Spanish Circum-Caribbean</td>\n",
              "      <td>93.0</td>\n",
              "    </tr>\n",
              "    <tr>\n",
              "      <td>3</td>\n",
              "      <td>1565.0</td>\n",
              "      <td>Jesus of Lubeck</td>\n",
              "      <td>Plymouth</td>\n",
              "      <td>Africa</td>\n",
              "      <td>Spanish Circum-Caribbean</td>\n",
              "      <td>92.0</td>\n",
              "    </tr>\n",
              "    <tr>\n",
              "      <td>4</td>\n",
              "      <td>1565.0</td>\n",
              "      <td>Salomon</td>\n",
              "      <td>Plymouth</td>\n",
              "      <td>Africa</td>\n",
              "      <td>Spanish Circum-Caribbean</td>\n",
              "      <td>92.0</td>\n",
              "    </tr>\n",
              "    <tr>\n",
              "      <td>5</td>\n",
              "      <td>1565.0</td>\n",
              "      <td>Tiger</td>\n",
              "      <td>Plymouth</td>\n",
              "      <td>Africa</td>\n",
              "      <td>Borburata</td>\n",
              "      <td>93.0</td>\n",
              "    </tr>\n",
              "    <tr>\n",
              "      <td>6</td>\n",
              "      <td>1567.0</td>\n",
              "      <td>Paul</td>\n",
              "      <td>Plymouth</td>\n",
              "      <td>Africa</td>\n",
              "      <td>Spanish Circum-Caribbean</td>\n",
              "      <td>75.0</td>\n",
              "    </tr>\n",
              "    <tr>\n",
              "      <td>7</td>\n",
              "      <td>1567.0</td>\n",
              "      <td>Salomon</td>\n",
              "      <td>Plymouth</td>\n",
              "      <td>Africa</td>\n",
              "      <td>Spanish Circum-Caribbean</td>\n",
              "      <td>75.0</td>\n",
              "    </tr>\n",
              "    <tr>\n",
              "      <td>8</td>\n",
              "      <td>1567.0</td>\n",
              "      <td>Pascoe</td>\n",
              "      <td>Plymouth</td>\n",
              "      <td>Africa</td>\n",
              "      <td>Spanish Circum-Caribbean</td>\n",
              "      <td>75.0</td>\n",
              "    </tr>\n",
              "    <tr>\n",
              "      <td>9</td>\n",
              "      <td>1567.0</td>\n",
              "      <td>Madalena</td>\n",
              "      <td>Seville</td>\n",
              "      <td>Cape Verde Islands</td>\n",
              "      <td>Hispaniola</td>\n",
              "      <td>18.0</td>\n",
              "    </tr>\n",
              "    <tr>\n",
              "      <td>10</td>\n",
              "      <td>1567.0</td>\n",
              "      <td>Swallow</td>\n",
              "      <td>Plymouth</td>\n",
              "      <td>Africa</td>\n",
              "      <td>Spanish Circum-Caribbean</td>\n",
              "      <td>75.0</td>\n",
              "    </tr>\n",
              "    <tr>\n",
              "      <td>11</td>\n",
              "      <td>1571.0</td>\n",
              "      <td>Fleur-de-Lys</td>\n",
              "      <td>Le Havre</td>\n",
              "      <td>Africa</td>\n",
              "      <td>Margarita</td>\n",
              "      <td>45.0</td>\n",
              "    </tr>\n",
              "    <tr>\n",
              "      <td>12</td>\n",
              "      <td>1574.0</td>\n",
              "      <td></td>\n",
              "      <td>Pernambuco</td>\n",
              "      <td>Sao Tome</td>\n",
              "      <td>Pernambuco</td>\n",
              "      <td>48.0</td>\n",
              "    </tr>\n",
              "    <tr>\n",
              "      <td>16</td>\n",
              "      <td>1576.0</td>\n",
              "      <td></td>\n",
              "      <td>Pernambuco</td>\n",
              "      <td>Sao Tome</td>\n",
              "      <td>Pernambuco</td>\n",
              "      <td>83.0</td>\n",
              "    </tr>\n",
              "    <tr>\n",
              "      <td>26</td>\n",
              "      <td>1588.0</td>\n",
              "      <td>S Pablo</td>\n",
              "      <td>Portuguese Guinea</td>\n",
              "      <td>Portuguese Guinea</td>\n",
              "      <td>Cartagena</td>\n",
              "      <td>84.0</td>\n",
              "    </tr>\n",
              "    <tr>\n",
              "      <td>28</td>\n",
              "      <td>1588.0</td>\n",
              "      <td>NS de Concepcion</td>\n",
              "      <td>Portuguese Guinea</td>\n",
              "      <td>Portuguese Guinea</td>\n",
              "      <td>Cartagena</td>\n",
              "      <td>84.0</td>\n",
              "    </tr>\n",
              "    <tr>\n",
              "      <td>32</td>\n",
              "      <td>1590.0</td>\n",
              "      <td>NS de Buen Viaje (a) NS de Gracia</td>\n",
              "      <td>Tenerife</td>\n",
              "      <td>Portuguese Guinea</td>\n",
              "      <td>Cartagena</td>\n",
              "      <td>96.0</td>\n",
              "    </tr>\n",
              "    <tr>\n",
              "      <td>34</td>\n",
              "      <td>1591.0</td>\n",
              "      <td>Buen Jesus (a) Concepcion</td>\n",
              "      <td>Tenerife</td>\n",
              "      <td>Portuguese Guinea</td>\n",
              "      <td>Cartagena</td>\n",
              "      <td>51.0</td>\n",
              "    </tr>\n",
              "    <tr>\n",
              "      <td>37</td>\n",
              "      <td>1593.0</td>\n",
              "      <td>S Antônio</td>\n",
              "      <td>Tenerife</td>\n",
              "      <td>Portuguese Guinea</td>\n",
              "      <td>Cartagena</td>\n",
              "      <td>50.0</td>\n",
              "    </tr>\n",
              "    <tr>\n",
              "      <td>40</td>\n",
              "      <td>1593.0</td>\n",
              "      <td>NS de Buen Viaje</td>\n",
              "      <td>Canary Islands</td>\n",
              "      <td>Cape Verde Islands</td>\n",
              "      <td>Cartagena</td>\n",
              "      <td>80.0</td>\n",
              "    </tr>\n",
              "    <tr>\n",
              "      <td>42</td>\n",
              "      <td>1593.0</td>\n",
              "      <td>NS del Rosario</td>\n",
              "      <td>Canary Islands</td>\n",
              "      <td>Portuguese Guinea</td>\n",
              "      <td>Cartagena</td>\n",
              "      <td>39.0</td>\n",
              "    </tr>\n",
              "    <tr>\n",
              "      <td>43</td>\n",
              "      <td>1593.0</td>\n",
              "      <td>NS de Buen Viaje</td>\n",
              "      <td>Tenerife</td>\n",
              "      <td>Portuguese Guinea</td>\n",
              "      <td>Cartagena</td>\n",
              "      <td>80.0</td>\n",
              "    </tr>\n",
              "    <tr>\n",
              "      <td>45</td>\n",
              "      <td>1594.0</td>\n",
              "      <td>S Miguel</td>\n",
              "      <td>Seville</td>\n",
              "      <td>Cape Verde Islands</td>\n",
              "      <td>Cartagena</td>\n",
              "      <td>30.0</td>\n",
              "    </tr>\n",
              "    <tr>\n",
              "      <td>46</td>\n",
              "      <td>1594.0</td>\n",
              "      <td>Santo Antonio</td>\n",
              "      <td>Tenerife</td>\n",
              "      <td>West Central Africa and St Helena</td>\n",
              "      <td>Cartagena</td>\n",
              "      <td>41.0</td>\n",
              "    </tr>\n",
              "    <tr>\n",
              "      <td>55</td>\n",
              "      <td>1597.0</td>\n",
              "      <td>San Pedro y San Pablo</td>\n",
              "      <td>Lisbon</td>\n",
              "      <td>Senegambia and offshore Atlantic</td>\n",
              "      <td>San Domingo (a) Santo Domingo</td>\n",
              "      <td>60.0</td>\n",
              "    </tr>\n",
              "    <tr>\n",
              "      <td>56</td>\n",
              "      <td>1597.0</td>\n",
              "      <td>S Pedro</td>\n",
              "      <td>San Lucar</td>\n",
              "      <td>Cape Verde Islands</td>\n",
              "      <td>Puerto Rico</td>\n",
              "      <td>84.0</td>\n",
              "    </tr>\n",
              "    <tr>\n",
              "      <td>62</td>\n",
              "      <td>1597.0</td>\n",
              "      <td>Concepción</td>\n",
              "      <td>Lisbon</td>\n",
              "      <td>Cape Verde Islands</td>\n",
              "      <td>Cartagena</td>\n",
              "      <td>27.0</td>\n",
              "    </tr>\n",
              "    <tr>\n",
              "      <td>77</td>\n",
              "      <td>1598.0</td>\n",
              "      <td>NS del Salvamiento</td>\n",
              "      <td>Lisbon</td>\n",
              "      <td>Cape Verde Islands</td>\n",
              "      <td>Cartagena</td>\n",
              "      <td>95.0</td>\n",
              "    </tr>\n",
              "  </tbody>\n",
              "</table>\n",
              "</div>"
            ],
            "text/plain": [
              "    year_of_arrival                        vessel_name     voyage_started  \\\n",
              "2            1565.0                            Swallow           Plymouth   \n",
              "3            1565.0                    Jesus of Lubeck           Plymouth   \n",
              "4            1565.0                            Salomon           Plymouth   \n",
              "5            1565.0                              Tiger           Plymouth   \n",
              "6            1567.0                               Paul           Plymouth   \n",
              "7            1567.0                            Salomon           Plymouth   \n",
              "8            1567.0                             Pascoe           Plymouth   \n",
              "9            1567.0                           Madalena            Seville   \n",
              "10           1567.0                            Swallow           Plymouth   \n",
              "11           1571.0                       Fleur-de-Lys           Le Havre   \n",
              "12           1574.0                                            Pernambuco   \n",
              "16           1576.0                                            Pernambuco   \n",
              "26           1588.0                            S Pablo  Portuguese Guinea   \n",
              "28           1588.0                   NS de Concepcion  Portuguese Guinea   \n",
              "32           1590.0  NS de Buen Viaje (a) NS de Gracia           Tenerife   \n",
              "34           1591.0          Buen Jesus (a) Concepcion           Tenerife   \n",
              "37           1593.0                          S Antônio           Tenerife   \n",
              "40           1593.0                   NS de Buen Viaje     Canary Islands   \n",
              "42           1593.0                     NS del Rosario     Canary Islands   \n",
              "43           1593.0                   NS de Buen Viaje           Tenerife   \n",
              "45           1594.0                           S Miguel            Seville   \n",
              "46           1594.0                      Santo Antonio           Tenerife   \n",
              "55           1597.0              San Pedro y San Pablo             Lisbon   \n",
              "56           1597.0                            S Pedro          San Lucar   \n",
              "62           1597.0                         Concepción             Lisbon   \n",
              "77           1598.0                 NS del Salvamiento             Lisbon   \n",
              "\n",
              "                      voyage_pit_stop                       end_port  \\\n",
              "2                              Africa       Spanish Circum-Caribbean   \n",
              "3                              Africa       Spanish Circum-Caribbean   \n",
              "4                              Africa       Spanish Circum-Caribbean   \n",
              "5                              Africa                      Borburata   \n",
              "6                              Africa       Spanish Circum-Caribbean   \n",
              "7                              Africa       Spanish Circum-Caribbean   \n",
              "8                              Africa       Spanish Circum-Caribbean   \n",
              "9                  Cape Verde Islands                     Hispaniola   \n",
              "10                             Africa       Spanish Circum-Caribbean   \n",
              "11                             Africa                      Margarita   \n",
              "12                           Sao Tome                     Pernambuco   \n",
              "16                           Sao Tome                     Pernambuco   \n",
              "26                  Portuguese Guinea                      Cartagena   \n",
              "28                  Portuguese Guinea                      Cartagena   \n",
              "32                  Portuguese Guinea                      Cartagena   \n",
              "34                  Portuguese Guinea                      Cartagena   \n",
              "37                  Portuguese Guinea                      Cartagena   \n",
              "40                 Cape Verde Islands                      Cartagena   \n",
              "42                  Portuguese Guinea                      Cartagena   \n",
              "43                  Portuguese Guinea                      Cartagena   \n",
              "45                 Cape Verde Islands                      Cartagena   \n",
              "46  West Central Africa and St Helena                      Cartagena   \n",
              "55   Senegambia and offshore Atlantic  San Domingo (a) Santo Domingo   \n",
              "56                 Cape Verde Islands                    Puerto Rico   \n",
              "62                 Cape Verde Islands                      Cartagena   \n",
              "77                 Cape Verde Islands                      Cartagena   \n",
              "\n",
              "    slaves_onboard  \n",
              "2             93.0  \n",
              "3             92.0  \n",
              "4             92.0  \n",
              "5             93.0  \n",
              "6             75.0  \n",
              "7             75.0  \n",
              "8             75.0  \n",
              "9             18.0  \n",
              "10            75.0  \n",
              "11            45.0  \n",
              "12            48.0  \n",
              "16            83.0  \n",
              "26            84.0  \n",
              "28            84.0  \n",
              "32            96.0  \n",
              "34            51.0  \n",
              "37            50.0  \n",
              "40            80.0  \n",
              "42            39.0  \n",
              "43            80.0  \n",
              "45            30.0  \n",
              "46            41.0  \n",
              "55            60.0  \n",
              "56            84.0  \n",
              "62            27.0  \n",
              "77            95.0  "
            ]
          },
          "metadata": {
            "tags": []
          },
          "execution_count": 33
        }
      ]
    },
    {
      "cell_type": "code",
      "metadata": {
        "id": "I1UkMU9wHlfg",
        "colab_type": "code",
        "colab": {},
        "outputId": "16ff9329-2707-4dfe-df04-f43f6c8573f1"
      },
      "source": [
        "temp_plot.plot(x='vessel_name',\n",
        "                         y = 'slaves_onboard',kind = 'bar',\n",
        "                         rot = 90)\n",
        "\n"
      ],
      "execution_count": null,
      "outputs": [
        {
          "output_type": "execute_result",
          "data": {
            "text/plain": [
              "<matplotlib.axes._subplots.AxesSubplot at 0x11eef1790>"
            ]
          },
          "metadata": {
            "tags": []
          },
          "execution_count": 34
        },
        {
          "output_type": "display_data",
          "data": {
            "image/png": "[encoded data removed]",
            "text/plain": [
              "<Figure size 432x288 with 1 Axes>"
            ]
          },
          "metadata": {
            "tags": [],
            "needs_background": "light"
          }
        }
      ]
    },
    {
      "cell_type": "markdown",
      "metadata": {
        "id": "OjOjDcogHlfk",
        "colab_type": "text"
      },
      "source": [
        "### Ships Carrying greater than 100 slaves per trip"
      ]
    },
    {
      "cell_type": "code",
      "metadata": {
        "id": "lrAOZa1hHlfm",
        "colab_type": "code",
        "colab": {},
        "outputId": "19394d6b-7664-46cd-9a36-40054942f503"
      },
      "source": [
        "temp_plot = dataset_between15_16.where(dataset_between15_16['slaves_onboard'] > 100.0).dropna()\n",
        "\n",
        "temp_plot.plot(x='vessel_name',\n",
        "                         y = 'slaves_onboard',kind = 'bar',\n",
        "                         rot = 90,grid = True,figsize = (20,10))\n",
        "\n",
        "temp_plot"
      ],
      "execution_count": null,
      "outputs": [
        {
          "output_type": "execute_result",
          "data": {
            "text/html": [
              "<div>\n",
              "<style scoped>\n",
              "    .dataframe tbody tr th:only-of-type {\n",
              "        vertical-align: middle;\n",
              "    }\n",
              "\n",
              "    .dataframe tbody tr th {\n",
              "        vertical-align: top;\n",
              "    }\n",
              "\n",
              "    .dataframe thead th {\n",
              "        text-align: right;\n",
              "    }\n",
              "</style>\n",
              "<table border=\"1\" class=\"dataframe\">\n",
              "  <thead>\n",
              "    <tr style=\"text-align: right;\">\n",
              "      <th></th>\n",
              "      <th>year_of_arrival</th>\n",
              "      <th>vessel_name</th>\n",
              "      <th>voyage_started</th>\n",
              "      <th>voyage_pit_stop</th>\n",
              "      <th>end_port</th>\n",
              "      <th>slaves_onboard</th>\n",
              "    </tr>\n",
              "  </thead>\n",
              "  <tbody>\n",
              "    <tr>\n",
              "      <td>0</td>\n",
              "      <td>1532.0</td>\n",
              "      <td>S Antônio</td>\n",
              "      <td>Lisbon</td>\n",
              "      <td>Sao Tome</td>\n",
              "      <td>Spanish Caribbean</td>\n",
              "      <td>175.0</td>\n",
              "    </tr>\n",
              "    <tr>\n",
              "      <td>1</td>\n",
              "      <td>1562.0</td>\n",
              "      <td>S Nicolás</td>\n",
              "      <td>Cadiz</td>\n",
              "      <td>Cape Verde Islands</td>\n",
              "      <td>Cartagena</td>\n",
              "      <td>202.0</td>\n",
              "    </tr>\n",
              "    <tr>\n",
              "      <td>13</td>\n",
              "      <td>1575.0</td>\n",
              "      <td>S Antônio</td>\n",
              "      <td>Seville</td>\n",
              "      <td>Sao Tome</td>\n",
              "      <td>Hispaniola</td>\n",
              "      <td>243.0</td>\n",
              "    </tr>\n",
              "    <tr>\n",
              "      <td>14</td>\n",
              "      <td>1575.0</td>\n",
              "      <td>NS de la Concepción</td>\n",
              "      <td>San Lucar</td>\n",
              "      <td>Cape Verde Islands</td>\n",
              "      <td>Cartagena</td>\n",
              "      <td>289.0</td>\n",
              "    </tr>\n",
              "    <tr>\n",
              "      <td>15</td>\n",
              "      <td>1575.0</td>\n",
              "      <td></td>\n",
              "      <td>Pernambuco</td>\n",
              "      <td>Sao Tome</td>\n",
              "      <td>Pernambuco</td>\n",
              "      <td>284.0</td>\n",
              "    </tr>\n",
              "    <tr>\n",
              "      <td>...</td>\n",
              "      <td>...</td>\n",
              "      <td>...</td>\n",
              "      <td>...</td>\n",
              "      <td>...</td>\n",
              "      <td>...</td>\n",
              "      <td>...</td>\n",
              "    </tr>\n",
              "    <tr>\n",
              "      <td>110</td>\n",
              "      <td>1600.0</td>\n",
              "      <td>Santiago</td>\n",
              "      <td>Lisbon</td>\n",
              "      <td>Cape Verde Islands</td>\n",
              "      <td>Cartagena</td>\n",
              "      <td>142.0</td>\n",
              "    </tr>\n",
              "    <tr>\n",
              "      <td>111</td>\n",
              "      <td>1600.0</td>\n",
              "      <td>S Simón</td>\n",
              "      <td>San Lucar</td>\n",
              "      <td>Portuguese Guinea</td>\n",
              "      <td>Cartagena</td>\n",
              "      <td>168.0</td>\n",
              "    </tr>\n",
              "    <tr>\n",
              "      <td>112</td>\n",
              "      <td>1600.0</td>\n",
              "      <td>NS de la Concepción</td>\n",
              "      <td>Lisbon</td>\n",
              "      <td>Cape Verde Islands</td>\n",
              "      <td>Cartagena</td>\n",
              "      <td>158.0</td>\n",
              "    </tr>\n",
              "    <tr>\n",
              "      <td>113</td>\n",
              "      <td>1600.0</td>\n",
              "      <td>San Antonio</td>\n",
              "      <td>Canary Islands</td>\n",
              "      <td>Luanda</td>\n",
              "      <td>Havana</td>\n",
              "      <td>195.0</td>\n",
              "    </tr>\n",
              "    <tr>\n",
              "      <td>114</td>\n",
              "      <td>1600.0</td>\n",
              "      <td>NS de la Luz</td>\n",
              "      <td>Lisbon</td>\n",
              "      <td>Portuguese Guinea</td>\n",
              "      <td>Cartagena</td>\n",
              "      <td>173.0</td>\n",
              "    </tr>\n",
              "  </tbody>\n",
              "</table>\n",
              "<p>87 rows × 6 columns</p>\n",
              "</div>"
            ],
            "text/plain": [
              "     year_of_arrival          vessel_name  voyage_started     voyage_pit_stop  \\\n",
              "0             1532.0            S Antônio          Lisbon            Sao Tome   \n",
              "1             1562.0            S Nicolás           Cadiz  Cape Verde Islands   \n",
              "13            1575.0            S Antônio         Seville            Sao Tome   \n",
              "14            1575.0  NS de la Concepción       San Lucar  Cape Verde Islands   \n",
              "15            1575.0                           Pernambuco            Sao Tome   \n",
              "..               ...                  ...             ...                 ...   \n",
              "110           1600.0             Santiago          Lisbon  Cape Verde Islands   \n",
              "111           1600.0              S Simón       San Lucar   Portuguese Guinea   \n",
              "112           1600.0  NS de la Concepción          Lisbon  Cape Verde Islands   \n",
              "113           1600.0          San Antonio  Canary Islands              Luanda   \n",
              "114           1600.0         NS de la Luz          Lisbon   Portuguese Guinea   \n",
              "\n",
              "              end_port  slaves_onboard  \n",
              "0    Spanish Caribbean           175.0  \n",
              "1            Cartagena           202.0  \n",
              "13          Hispaniola           243.0  \n",
              "14           Cartagena           289.0  \n",
              "15          Pernambuco           284.0  \n",
              "..                 ...             ...  \n",
              "110          Cartagena           142.0  \n",
              "111          Cartagena           168.0  \n",
              "112          Cartagena           158.0  \n",
              "113             Havana           195.0  \n",
              "114          Cartagena           173.0  \n",
              "\n",
              "[87 rows x 6 columns]"
            ]
          },
          "metadata": {
            "tags": []
          },
          "execution_count": 35
        },
        {
          "output_type": "display_data",
          "data": {
            "image/png": "[encoded data removed]",
            "text/plain": [
              "<Figure size 1440x720 with 1 Axes>"
            ]
          },
          "metadata": {
            "tags": [],
            "needs_background": "light"
          }
        }
      ]
    },
    {
      "cell_type": "markdown",
      "metadata": {
        "id": "iC1mKd2BHlfu",
        "colab_type": "text"
      },
      "source": [
        "### Ships Carrying greater than 200 slaves per trip"
      ]
    },
    {
      "cell_type": "code",
      "metadata": {
        "id": "HNwE7zKBHlfv",
        "colab_type": "code",
        "colab": {},
        "outputId": "92ce3ce5-ccce-4aa4-9242-df24e2cad7cd"
      },
      "source": [
        "temp_plot = dataset_between15_16.where(dataset_between15_16['slaves_onboard'] > 200.0).dropna()\n",
        "print(f'There are {temp_plot.shape[0]} trips that carries more than 200 slaves.')\n",
        "\n"
      ],
      "execution_count": null,
      "outputs": [
        {
          "output_type": "stream",
          "text": [
            "There are 30 trips that carries more than 200 slaves.\n"
          ],
          "name": "stdout"
        }
      ]
    },
    {
      "cell_type": "code",
      "metadata": {
        "scrolled": true,
        "id": "dfBf3GfyHlfz",
        "colab_type": "code",
        "colab": {},
        "outputId": "942ca2db-4242-43d0-dbf3-ee5b8f3f1b3d"
      },
      "source": [
        "temp_plot.plot(x='vessel_name',\n",
        "                         y = 'slaves_onboard',kind = 'bar',\n",
        "                         rot = 90,grid = True,figsize = (20,10))\n",
        "\n",
        "\n"
      ],
      "execution_count": null,
      "outputs": [
        {
          "output_type": "execute_result",
          "data": {
            "text/plain": [
              "<matplotlib.axes._subplots.AxesSubplot at 0x11f33b5d0>"
            ]
          },
          "metadata": {
            "tags": []
          },
          "execution_count": 37
        },
        {
          "output_type": "display_data",
          "data": {
            "image/png": "[encoded data removed]",
            "text/plain": [
              "<Figure size 1440x720 with 1 Axes>"
            ]
          },
          "metadata": {
            "tags": [],
            "needs_background": "light"
          }
        }
      ]
    },
    {
      "cell_type": "markdown",
      "metadata": {
        "id": "ZIZ8rFjhHlf3",
        "colab_type": "text"
      },
      "source": [
        "### Check the most used 'start_port' for number_of_slaves > 200"
      ]
    },
    {
      "cell_type": "code",
      "metadata": {
        "scrolled": true,
        "id": "7IOuRHKwHlf4",
        "colab_type": "code",
        "colab": {},
        "outputId": "c2ae5831-50cb-48d5-973b-52293dceef60"
      },
      "source": [
        "temp_plot['voyage_started'].hist(bins = 20,\n",
        "                                 alpha = 0.5,\n",
        "                                 xrot = 45,\n",
        "                                 figsize = (10,10)\n",
        "                                )"
      ],
      "execution_count": null,
      "outputs": [
        {
          "output_type": "execute_result",
          "data": {
            "text/plain": [
              "<matplotlib.axes._subplots.AxesSubplot at 0x11f195bd0>"
            ]
          },
          "metadata": {
            "tags": []
          },
          "execution_count": 38
        },
        {
          "output_type": "display_data",
          "data": {
            "image/png": "[encoded data removed]",
            "text/plain": [
              "<Figure size 720x720 with 1 Axes>"
            ]
          },
          "metadata": {
            "tags": [],
            "needs_background": "light"
          }
        }
      ]
    },
    {
      "cell_type": "markdown",
      "metadata": {
        "id": "ShDktMYRHlf8",
        "colab_type": "text"
      },
      "source": [
        "### Check the most used 'voyage_pit_stop' for number_of_slaves > 200"
      ]
    },
    {
      "cell_type": "code",
      "metadata": {
        "id": "vYoFVQrIHlf9",
        "colab_type": "code",
        "colab": {},
        "outputId": "17f526b8-eeaf-45dc-a3d9-d6161972f39b"
      },
      "source": [
        "temp_plot['voyage_pit_stop'].hist(bins=20, \n",
        "                           alpha=0.7,\n",
        "                           xrot = 0,\n",
        "                          figsize = (10,10))"
      ],
      "execution_count": null,
      "outputs": [
        {
          "output_type": "execute_result",
          "data": {
            "text/plain": [
              "<matplotlib.axes._subplots.AxesSubplot at 0x11f3a4d50>"
            ]
          },
          "metadata": {
            "tags": []
          },
          "execution_count": 39
        },
        {
          "output_type": "display_data",
          "data": {
            "image/png": "[encoded data removed]",
            "text/plain": [
              "<Figure size 720x720 with 1 Axes>"
            ]
          },
          "metadata": {
            "tags": [],
            "needs_background": "light"
          }
        }
      ]
    },
    {
      "cell_type": "markdown",
      "metadata": {
        "id": "ntI-QvHuHlgB",
        "colab_type": "text"
      },
      "source": [
        "### Check the most used 'End_Port'  for number_of_slaves > 200"
      ]
    },
    {
      "cell_type": "code",
      "metadata": {
        "scrolled": false,
        "id": "ermZi3B7HlgC",
        "colab_type": "code",
        "colab": {},
        "outputId": "6c2c81a4-ce4c-4457-d9eb-a54117bed1b8"
      },
      "source": [
        "temp_plot['end_port'].hist(bins=20, \n",
        "                           alpha=0.7,\n",
        "                           xrot = 0,\n",
        "                          figsize = (10,10))"
      ],
      "execution_count": null,
      "outputs": [
        {
          "output_type": "execute_result",
          "data": {
            "text/plain": [
              "<matplotlib.axes._subplots.AxesSubplot at 0x1116dddd0>"
            ]
          },
          "metadata": {
            "tags": []
          },
          "execution_count": 40
        },
        {
          "output_type": "display_data",
          "data": {
            "image/png": "[encoded data removed]",
            "text/plain": [
              "<Figure size 720x720 with 1 Axes>"
            ]
          },
          "metadata": {
            "tags": [],
            "needs_background": "light"
          }
        }
      ]
    },
    {
      "cell_type": "markdown",
      "metadata": {
        "id": "cvaJr4-BHlgG",
        "colab_type": "text"
      },
      "source": [
        "### Observations \n",
        "\n",
        "Majority of The Ships carrying over 200 people started their journey Portugal made a Pit-Stop in Africa and Went to Cartagena, Colombia "
      ]
    },
    {
      "cell_type": "markdown",
      "metadata": {
        "id": "1w9XvpNdHlgG",
        "colab_type": "text"
      },
      "source": [
        "### Between 1601- 1700"
      ]
    },
    {
      "cell_type": "code",
      "metadata": {
        "id": "CWt8CtQDHlgH",
        "colab_type": "code",
        "colab": {}
      },
      "source": [
        "dataset_between16_17 = modified_dataset.where((modified_dataset['year_of_arrival'] >= 1601) & (modified_dataset['year_of_arrival'] <= 1700) )\n",
        "\n",
        "dataset_between16_17"
      ],
      "execution_count": null,
      "outputs": []
    },
    {
      "cell_type": "code",
      "metadata": {
        "id": "cv3zqBdzHlgK",
        "colab_type": "code",
        "colab": {}
      },
      "source": [
        "dataset_between16_17 = dataset_between16_17.dropna()\n",
        "dataset_between16_17"
      ],
      "execution_count": null,
      "outputs": []
    },
    {
      "cell_type": "markdown",
      "metadata": {
        "id": "ltr9T0R2HlgQ",
        "colab_type": "text"
      },
      "source": [
        "### Total Number of Slaves Transported between 1601-1700 - Complete Records\n"
      ]
    },
    {
      "cell_type": "code",
      "metadata": {
        "id": "xzPsmzJVHlgQ",
        "colab_type": "code",
        "colab": {}
      },
      "source": [
        ""
      ],
      "execution_count": null,
      "outputs": []
    },
    {
      "cell_type": "markdown",
      "metadata": {
        "id": "6KPEwqj3HlgT",
        "colab_type": "text"
      },
      "source": [
        "### Visualizing Trips During 1601-1701"
      ]
    },
    {
      "cell_type": "code",
      "metadata": {
        "id": "kM5-QvjmHlgT",
        "colab_type": "code",
        "colab": {}
      },
      "source": [
        ""
      ],
      "execution_count": null,
      "outputs": []
    },
    {
      "cell_type": "markdown",
      "metadata": {
        "id": "QjxCnj6nHlgX",
        "colab_type": "text"
      },
      "source": [
        "### Pandas Plots"
      ]
    },
    {
      "cell_type": "code",
      "metadata": {
        "id": "4dx1qSH-HlgY",
        "colab_type": "code",
        "colab": {}
      },
      "source": [
        ""
      ],
      "execution_count": null,
      "outputs": []
    },
    {
      "cell_type": "markdown",
      "metadata": {
        "id": "MGDHXfAnHlgf",
        "colab_type": "text"
      },
      "source": [
        "### Check the most used 'start_port' for number_of_slaves > 200"
      ]
    },
    {
      "cell_type": "code",
      "metadata": {
        "id": "cuTVq2HkHlgh",
        "colab_type": "code",
        "colab": {}
      },
      "source": [
        ""
      ],
      "execution_count": null,
      "outputs": []
    },
    {
      "cell_type": "markdown",
      "metadata": {
        "id": "5alh-9SgHlgj",
        "colab_type": "text"
      },
      "source": [
        "### Check the most used 'voyage_pit_stop' for number_of_slaves > 200"
      ]
    },
    {
      "cell_type": "code",
      "metadata": {
        "id": "m49Xm2SkHlgk",
        "colab_type": "code",
        "colab": {}
      },
      "source": [
        ""
      ],
      "execution_count": null,
      "outputs": []
    },
    {
      "cell_type": "markdown",
      "metadata": {
        "id": "6RZ4R9mFHlgo",
        "colab_type": "text"
      },
      "source": [
        "### Check the most used 'End_Port' "
      ]
    },
    {
      "cell_type": "code",
      "metadata": {
        "scrolled": false,
        "id": "KqQSbPfOHlgo",
        "colab_type": "code",
        "colab": {}
      },
      "source": [
        ""
      ],
      "execution_count": null,
      "outputs": []
    },
    {
      "cell_type": "markdown",
      "metadata": {
        "id": "xUi7iSPhHlgs",
        "colab_type": "text"
      },
      "source": [
        "### Student Have To Work On"
      ]
    },
    {
      "cell_type": "markdown",
      "metadata": {
        "id": "SXYLnplNHlgs",
        "colab_type": "text"
      },
      "source": [
        "### A. Between 1701- 1800"
      ]
    },
    {
      "cell_type": "code",
      "metadata": {
        "id": "mpED3SzKHlgt",
        "colab_type": "code",
        "colab": {}
      },
      "source": [
        "dataset_between17_18 = modified_dataset.where((modified_dataset['year_of_arrival'] >= 1701) & (modified_dataset['year_of_arrival'] <= 1800) )\n",
        "\n",
        "dataset_between17_18"
      ],
      "execution_count": null,
      "outputs": []
    },
    {
      "cell_type": "code",
      "metadata": {
        "id": "UztHQkTmHlgx",
        "colab_type": "code",
        "colab": {}
      },
      "source": [
        "dataset_between17_18 = dataset_between17_18.dropna()\n",
        "\n",
        "dataset_between17_18"
      ],
      "execution_count": null,
      "outputs": []
    },
    {
      "cell_type": "markdown",
      "metadata": {
        "id": "8Pu1E16BHlg0",
        "colab_type": "text"
      },
      "source": [
        "### Total Number of Slaves Transported between 1701-1800 - Complete Records\n"
      ]
    },
    {
      "cell_type": "code",
      "metadata": {
        "id": "ICN8XRxYHlg0",
        "colab_type": "code",
        "colab": {}
      },
      "source": [
        ""
      ],
      "execution_count": null,
      "outputs": []
    },
    {
      "cell_type": "markdown",
      "metadata": {
        "id": "aoav5Z58Hlg2",
        "colab_type": "text"
      },
      "source": [
        "### Visualizing Trips During 1701-1801"
      ]
    },
    {
      "cell_type": "code",
      "metadata": {
        "id": "c6LVgQ1wHlg3",
        "colab_type": "code",
        "colab": {}
      },
      "source": [
        ""
      ],
      "execution_count": null,
      "outputs": []
    },
    {
      "cell_type": "markdown",
      "metadata": {
        "id": "p65ASw2_Hlg6",
        "colab_type": "text"
      },
      "source": [
        "### Pandas Plots"
      ]
    },
    {
      "cell_type": "code",
      "metadata": {
        "id": "bU5P2A0CHlg7",
        "colab_type": "code",
        "colab": {}
      },
      "source": [
        ""
      ],
      "execution_count": null,
      "outputs": []
    },
    {
      "cell_type": "markdown",
      "metadata": {
        "id": "ejs7tofyHlg9",
        "colab_type": "text"
      },
      "source": [
        "### Check the most used 'start_port' for number_of_slaves > 200"
      ]
    },
    {
      "cell_type": "code",
      "metadata": {
        "id": "5g_CwoUBHlg9",
        "colab_type": "code",
        "colab": {}
      },
      "source": [
        ""
      ],
      "execution_count": null,
      "outputs": []
    },
    {
      "cell_type": "markdown",
      "metadata": {
        "id": "wQXiGjGLHlhB",
        "colab_type": "text"
      },
      "source": [
        "### Check the most used 'voyage_pit_stop' for number_of_slaves > 200"
      ]
    },
    {
      "cell_type": "code",
      "metadata": {
        "id": "yiLTrPGTHlhB",
        "colab_type": "code",
        "colab": {}
      },
      "source": [
        ""
      ],
      "execution_count": null,
      "outputs": []
    },
    {
      "cell_type": "markdown",
      "metadata": {
        "id": "VHcaOGz9HlhD",
        "colab_type": "text"
      },
      "source": [
        "### Check the most used 'End_Port' "
      ]
    },
    {
      "cell_type": "code",
      "metadata": {
        "scrolled": false,
        "id": "2XHKgB-qHlhE",
        "colab_type": "code",
        "colab": {}
      },
      "source": [
        ""
      ],
      "execution_count": null,
      "outputs": []
    },
    {
      "cell_type": "markdown",
      "metadata": {
        "id": "84pXofoLHlhG",
        "colab_type": "text"
      },
      "source": [
        "### B. Between 1801- 1900"
      ]
    },
    {
      "cell_type": "code",
      "metadata": {
        "id": "n9y5tp0qHlhG",
        "colab_type": "code",
        "colab": {}
      },
      "source": [
        "dataset_between18_19 = modified_dataset.where((modified_dataset['year_of_arrival'] >= 1801) & (modified_dataset['year_of_arrival'] <= 1900) )\n",
        "\n",
        "dataset_between18_19"
      ],
      "execution_count": null,
      "outputs": []
    },
    {
      "cell_type": "code",
      "metadata": {
        "id": "KVKVgtIEHlhI",
        "colab_type": "code",
        "colab": {}
      },
      "source": [
        "dataset_between18_19 = dataset_between18_19.dropna()\n",
        "\n",
        "dataset_between18_19"
      ],
      "execution_count": null,
      "outputs": []
    },
    {
      "cell_type": "markdown",
      "metadata": {
        "id": "F66q8RjvHlhL",
        "colab_type": "text"
      },
      "source": [
        "### Total Number of Slaves Transported between 1801-1900 - Complete Records\n"
      ]
    },
    {
      "cell_type": "code",
      "metadata": {
        "id": "SWaElllYHlhM",
        "colab_type": "code",
        "colab": {}
      },
      "source": [
        ""
      ],
      "execution_count": null,
      "outputs": []
    },
    {
      "cell_type": "markdown",
      "metadata": {
        "id": "4Cy7QPXaHlhO",
        "colab_type": "text"
      },
      "source": [
        "### Visualizing Trips During 1801-1900"
      ]
    },
    {
      "cell_type": "code",
      "metadata": {
        "id": "U-pb7BQbHlhO",
        "colab_type": "code",
        "colab": {}
      },
      "source": [
        ""
      ],
      "execution_count": null,
      "outputs": []
    },
    {
      "cell_type": "markdown",
      "metadata": {
        "id": "Qy7PewKsHlhQ",
        "colab_type": "text"
      },
      "source": [
        "### Pandas Plots"
      ]
    },
    {
      "cell_type": "code",
      "metadata": {
        "id": "VeafP9zTHlhR",
        "colab_type": "code",
        "colab": {}
      },
      "source": [
        ""
      ],
      "execution_count": null,
      "outputs": []
    },
    {
      "cell_type": "markdown",
      "metadata": {
        "id": "lhYJLqUUHlhV",
        "colab_type": "text"
      },
      "source": [
        "### Check the most used 'start_port' for number_of_slaves > 200"
      ]
    },
    {
      "cell_type": "code",
      "metadata": {
        "id": "ES-eLhpaHlhV",
        "colab_type": "code",
        "colab": {}
      },
      "source": [
        ""
      ],
      "execution_count": null,
      "outputs": []
    },
    {
      "cell_type": "markdown",
      "metadata": {
        "id": "GW44LbYwHlhY",
        "colab_type": "text"
      },
      "source": [
        "### Check the most used 'voyage_pit_stop' for number_of_slaves > 200"
      ]
    },
    {
      "cell_type": "code",
      "metadata": {
        "id": "GMJGOq2iHlhY",
        "colab_type": "code",
        "colab": {}
      },
      "source": [
        ""
      ],
      "execution_count": null,
      "outputs": []
    },
    {
      "cell_type": "markdown",
      "metadata": {
        "id": "RVVMQGubHlhb",
        "colab_type": "text"
      },
      "source": [
        "### Check the most used 'End_Port' "
      ]
    },
    {
      "cell_type": "code",
      "metadata": {
        "scrolled": false,
        "id": "UMMIesEyHlhc",
        "colab_type": "code",
        "colab": {}
      },
      "source": [
        ""
      ],
      "execution_count": null,
      "outputs": []
    },
    {
      "cell_type": "markdown",
      "metadata": {
        "id": "NweDUhRVHlhe",
        "colab_type": "text"
      },
      "source": [
        "## Resources"
      ]
    },
    {
      "cell_type": "markdown",
      "metadata": {
        "id": "VByUUKTiIYM-",
        "colab_type": "text"
      },
      "source": [
        "## Appendix"
      ]
    },
    {
      "cell_type": "markdown",
      "metadata": {
        "colab_type": "text",
        "id": "ObtE8-BHODkC"
      },
      "source": [
        "## Connecting to Your Google Drive\n"
      ]
    },
    {
      "cell_type": "code",
      "metadata": {
        "colab_type": "code",
        "id": "_3xzPhI_ByD5",
        "colab": {}
      },
      "source": [
        "# Start by connecting google drive into google colab\n",
        "\n",
        "from google.colab import drive\n",
        "\n",
        "drive.mount('/content/gdrive')"
      ],
      "execution_count": null,
      "outputs": []
    },
    {
      "cell_type": "code",
      "metadata": {
        "colab_type": "code",
        "id": "_epZFcuXNVRv",
        "colab": {}
      },
      "source": [
        "!ls \"/content/gdrive/My Drive/DigitalHistory\""
      ],
      "execution_count": null,
      "outputs": []
    },
    {
      "cell_type": "code",
      "metadata": {
        "colab_type": "code",
        "id": "y6r-8UBGNueF",
        "colab": {}
      },
      "source": [
        "cd \"/content/gdrive/My Drive/DigitalHistory/tmp/trans-atlantic-slave-trade\""
      ],
      "execution_count": null,
      "outputs": []
    },
    {
      "cell_type": "code",
      "metadata": {
        "colab_type": "code",
        "id": "Pp8mubdjVqY2",
        "colab": {}
      },
      "source": [
        "ls"
      ],
      "execution_count": null,
      "outputs": []
    },
    {
      "cell_type": "code",
      "metadata": {
        "id": "ZLhlkjd3Hlhr",
        "colab_type": "code",
        "colab": {}
      },
      "source": [
        "### Extracting ZipFiles"
      ],
      "execution_count": null,
      "outputs": []
    },
    {
      "cell_type": "code",
      "metadata": {
        "colab_type": "code",
        "id": "rzDr3KIkOJdy",
        "colab": {}
      },
      "source": [
        "\n",
        "import zipfile\n"
      ],
      "execution_count": null,
      "outputs": []
    },
    {
      "cell_type": "code",
      "metadata": {
        "colab_type": "code",
        "id": "zkIDSJWUQFCV",
        "colab": {}
      },
      "source": [
        "file_location = 'data/trans-atlantic-slave-trade.csv.zip'\n",
        "\n",
        "zip_ref = zipfile.ZipFile(file_location,'r')\n",
        "zip_ref.extractall('data/tmp/trans-atlantic-slave-trade')\n",
        "zip_ref.close()"
      ],
      "execution_count": null,
      "outputs": []
    },
    {
      "cell_type": "markdown",
      "metadata": {
        "id": "TI9Zcwf5Hlh2",
        "colab_type": "text"
      },
      "source": [
        "### Checking and Changing Column Types \n",
        "```df.dtypes``` and ```df.astype()```"
      ]
    },
    {
      "cell_type": "code",
      "metadata": {
        "id": "pGl1MUnOHlh3",
        "colab_type": "code",
        "colab": {}
      },
      "source": [
        "df.dtypes"
      ],
      "execution_count": null,
      "outputs": []
    },
    {
      "cell_type": "code",
      "metadata": {
        "id": "JIG8wtR2Hlh6",
        "colab_type": "code",
        "colab": {}
      },
      "source": [
        "df.year_of_arrival.astype(int)"
      ],
      "execution_count": null,
      "outputs": []
    },
    {
      "cell_type": "code",
      "metadata": {
        "id": "Z4Wl6kePHlh9",
        "colab_type": "code",
        "colab": {}
      },
      "source": [
        "df.dtypes"
      ],
      "execution_count": null,
      "outputs": []
    },
    {
      "cell_type": "code",
      "metadata": {
        "id": "-V4Kbei5HliA",
        "colab_type": "code",
        "colab": {}
      },
      "source": [
        "df.year_of_arrival = df.year_of_arrival.astype(int)"
      ],
      "execution_count": null,
      "outputs": []
    },
    {
      "cell_type": "code",
      "metadata": {
        "id": "fPgIGprYHliD",
        "colab_type": "code",
        "colab": {}
      },
      "source": [
        "df.dtypes"
      ],
      "execution_count": null,
      "outputs": []
    },
    {
      "cell_type": "markdown",
      "metadata": {
        "id": "vL0gW74bHliI",
        "colab_type": "text"
      },
      "source": [
        "**Extra**:\n",
        "```df.slaves_onboard = df.slaves_onboard.astype(int)```"
      ]
    },
    {
      "cell_type": "code",
      "metadata": {
        "id": "obBSXVY2HliI",
        "colab_type": "code",
        "colab": {}
      },
      "source": [
        "df.slaves_onboard = df.slaves_onboard.astype(int)"
      ],
      "execution_count": null,
      "outputs": []
    },
    {
      "cell_type": "code",
      "metadata": {
        "id": "bmm_3kqnHliK",
        "colab_type": "code",
        "colab": {}
      },
      "source": [
        "df.dtypes"
      ],
      "execution_count": null,
      "outputs": []
    },
    {
      "cell_type": "code",
      "metadata": {
        "id": "9dC_vb_KHliM",
        "colab_type": "code",
        "colab": {}
      },
      "source": [
        "df"
      ],
      "execution_count": null,
      "outputs": []
    },
    {
      "cell_type": "markdown",
      "metadata": {
        "colab_type": "text",
        "id": "s3AFqNpu2GJ4"
      },
      "source": [
        "### GeoTagging Locations"
      ]
    },
    {
      "cell_type": "code",
      "metadata": {
        "colab_type": "code",
        "id": "lpBC6OsdEwl-",
        "colab": {}
      },
      "source": [
        "!pip install geopandas\n"
      ],
      "execution_count": null,
      "outputs": []
    },
    {
      "cell_type": "code",
      "metadata": {
        "colab_type": "code",
        "id": "3N9KNSl-15ll",
        "colab": {}
      },
      "source": [
        "!pip install googlemaps"
      ],
      "execution_count": null,
      "outputs": []
    },
    {
      "cell_type": "code",
      "metadata": {
        "colab_type": "code",
        "id": "0gYRsx8v2HfO",
        "colab": {}
      },
      "source": [
        "from googlemaps import Client as GoogleMaps\n",
        "import pandas as pd "
      ],
      "execution_count": null,
      "outputs": []
    },
    {
      "cell_type": "code",
      "metadata": {
        "colab_type": "code",
        "id": "GYqCDWTt2KKz",
        "colab": {}
      },
      "source": [
        "gmaps = GoogleMaps('')# ENTER KEY"
      ],
      "execution_count": null,
      "outputs": []
    },
    {
      "cell_type": "code",
      "metadata": {
        "colab_type": "code",
        "id": "bLLkI_sD9hzv",
        "colab": {}
      },
      "source": [
        "df"
      ],
      "execution_count": null,
      "outputs": []
    },
    {
      "cell_type": "code",
      "metadata": {
        "colab_type": "code",
        "id": "AKnGxe_w2Lzw",
        "colab": {}
      },
      "source": [
        "addresses = df.filter(['Voyage itinerary imputed port where began (ptdepimp) place'], axis=1)\n",
        "addresses.head()"
      ],
      "execution_count": null,
      "outputs": []
    },
    {
      "cell_type": "code",
      "metadata": {
        "colab_type": "code",
        "id": "TVEZc-Qs2PbV",
        "colab": {}
      },
      "source": [
        "addresses['long'] = \"\"\n",
        "addresses['lat'] = \"\""
      ],
      "execution_count": null,
      "outputs": []
    },
    {
      "cell_type": "code",
      "metadata": {
        "colab_type": "code",
        "id": "sBJppNIY9ZBP",
        "colab": {}
      },
      "source": [
        "addresses"
      ],
      "execution_count": null,
      "outputs": []
    }
  ]
}