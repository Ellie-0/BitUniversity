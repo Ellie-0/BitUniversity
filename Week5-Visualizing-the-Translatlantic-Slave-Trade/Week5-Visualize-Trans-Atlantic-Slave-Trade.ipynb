{
 "cells": [
  {
   "cell_type": "markdown",
   "metadata": {
    "colab_type": "text",
    "id": "UFfKdw9eV6Wc"
   },
   "source": [
    "# Visualizing the Trans-Atlantic Slave Trade\n",
    "\n",
    "## About the Dataset\n",
    "\n",
    "- The dataset approximatey 36,110 trans-Atlantic voyages.\n",
    "- The estimates suggest around 12,520,000 captives departed Afriva to the Americas. \n",
    "\n",
    "- Not all 36,000 voyages in the database carried slaves from Africa.\n",
    "- A total of 633 voyages (1.8%) never reached the African coast because they were lost at sea, captured or suffered some other misfortune. \n",
    "- The database also contains records of 34,106 voyages that disembarked slaves, or could have done so (in other words, for some of these we do not know the outcome of the voyage).\n",
    "\n",
    "- The latter group comprised mainly ships captured in the nineteenth century which were taken to Sierra Leone and St. Helena as part of the attempt to suppress the trade. \n",
    "\n"
   ]
  },
  {
   "cell_type": "markdown",
   "metadata": {
    "colab_type": "text",
    "id": "N8w70yKWOH_c"
   },
   "source": [
    "## Import Libraries and unpack file\n",
    "\n"
   ]
  },
  {
   "cell_type": "code",
   "execution_count": null,
   "metadata": {},
   "outputs": [],
   "source": [
    "import pandas as pd\n",
    "import numpy as np"
   ]
  },
  {
   "cell_type": "markdown",
   "metadata": {
    "colab_type": "text",
    "id": "7q6R0hBZONBe"
   },
   "source": [
    "## Load file"
   ]
  },
  {
   "cell_type": "markdown",
   "metadata": {},
   "source": [
    "### Method 1"
   ]
  },
  {
   "cell_type": "code",
   "execution_count": null,
   "metadata": {
    "colab": {},
    "colab_type": "code",
    "executionInfo": {
     "elapsed": 354,
     "status": "ok",
     "timestamp": 1595747239112,
     "user": {
      "displayName": "Shayan Riyaz",
      "photoUrl": "https://lh3.googleusercontent.com/a-/AOh14GgGKH1DVaVMraKKpAKycsa-5BUIdmR3naSTmiTIKQ=s64",
      "userId": "01207107200643807409"
     },
     "user_tz": 420
    },
    "id": "DfmowYZZOVRn"
   },
   "outputs": [],
   "source": [
    "dataset_path = 'data/tmp/trans-atlantic-slave-trade/trans-atlantic-slave-trade.csv'\n",
    "\n",
    "trans_atlc_trade = pd.read_csv(dataset_path)"
   ]
  },
  {
   "cell_type": "markdown",
   "metadata": {
    "colab_type": "text",
    "id": "9SwePQu6qsZl"
   },
   "source": [
    "## Observing the Dataset using Pandas"
   ]
  },
  {
   "cell_type": "markdown",
   "metadata": {
    "colab_type": "text",
    "id": "mCNQqlwecmjv"
   },
   "source": [
    "## Basic info about the dataset\n",
    "Now, the dataset is loaded as a dataframe 'df'\n",
    "\n",
    "### head()\n",
    "Let's check what columns this file has by calling 'head()' function.\n",
    "It returns first n rows, and it's useful to see the dataset at a quick glance.\n",
    "\n",
    "By default, the head() function returns the first 5 rows.\n",
    "\n",
    "You can specify the number of rows to display by calling df.head(number)\n"
   ]
  },
  {
   "cell_type": "code",
   "execution_count": null,
   "metadata": {
    "colab": {
     "base_uri": "https://localhost:8080/",
     "height": 321
    },
    "colab_type": "code",
    "executionInfo": {
     "elapsed": 325,
     "status": "ok",
     "timestamp": 1595462543538,
     "user": {
      "displayName": "Shayan Riyaz",
      "photoUrl": "https://lh3.googleusercontent.com/a-/AOh14GgGKH1DVaVMraKKpAKycsa-5BUIdmR3naSTmiTIKQ=s64",
      "userId": "01207107200643807409"
     },
     "user_tz": 420
    },
    "id": "_Fwr655mcjr5",
    "outputId": "28fa4902-95b9-4ec4-99f0-9516d6444580"
   },
   "outputs": [],
   "source": [
    "trans_atlc_trade.head()"
   ]
  },
  {
   "cell_type": "code",
   "execution_count": null,
   "metadata": {},
   "outputs": [],
   "source": [
    "trans_atlc_trade.tail()"
   ]
  },
  {
   "cell_type": "markdown",
   "metadata": {
    "colab_type": "text",
    "id": "FFqqKsABeT7y"
   },
   "source": [
    "### info()\n",
    "This will return all of the column names and its types. This function is useful to get the idea of what the dataframe is like.\n"
   ]
  },
  {
   "cell_type": "code",
   "execution_count": null,
   "metadata": {
    "colab": {
     "base_uri": "https://localhost:8080/",
     "height": 261
    },
    "colab_type": "code",
    "executionInfo": {
     "elapsed": 582,
     "status": "ok",
     "timestamp": 1595462544766,
     "user": {
      "displayName": "Shayan Riyaz",
      "photoUrl": "https://lh3.googleusercontent.com/a-/AOh14GgGKH1DVaVMraKKpAKycsa-5BUIdmR3naSTmiTIKQ=s64",
      "userId": "01207107200643807409"
     },
     "user_tz": 420
    },
    "id": "wxqUmTFdfkCi",
    "outputId": "00635667-a8ce-4d5b-8db8-9d788d6504ca"
   },
   "outputs": [],
   "source": [
    "trans_atlc_trade.info()"
   ]
  },
  {
   "cell_type": "markdown",
   "metadata": {
    "colab_type": "text",
    "id": "IhviGetnfp9B"
   },
   "source": [
    "### describe()\n",
    "describe() is used to view summary statistics of numeric columns. This will help you to have general idea of the dataset."
   ]
  },
  {
   "cell_type": "code",
   "execution_count": null,
   "metadata": {
    "colab": {
     "base_uri": "https://localhost:8080/",
     "height": 277
    },
    "colab_type": "code",
    "executionInfo": {
     "elapsed": 848,
     "status": "ok",
     "timestamp": 1595462545392,
     "user": {
      "displayName": "Shayan Riyaz",
      "photoUrl": "https://lh3.googleusercontent.com/a-/AOh14GgGKH1DVaVMraKKpAKycsa-5BUIdmR3naSTmiTIKQ=s64",
      "userId": "01207107200643807409"
     },
     "user_tz": 420
    },
    "id": "DuDPOCZ9frBI",
    "outputId": "892861db-4e14-4bf7-93ae-85aa378a5a6e"
   },
   "outputs": [],
   "source": [
    "trans_atlc_trade.describe()"
   ]
  },
  {
   "cell_type": "markdown",
   "metadata": {
    "colab_type": "text",
    "id": "nwuNo5o2fzGe"
   },
   "source": [
    "### shape\n",
    "To see the size of the dataset, we can use shape function, which returns the number of rows and columns in a format of (#rows, #columns)"
   ]
  },
  {
   "cell_type": "code",
   "execution_count": null,
   "metadata": {},
   "outputs": [],
   "source": [
    "trans_atlc_trade.shape"
   ]
  },
  {
   "cell_type": "markdown",
   "metadata": {},
   "source": [
    "### Important Facts About the Dataset"
   ]
  },
  {
   "cell_type": "code",
   "execution_count": null,
   "metadata": {},
   "outputs": [],
   "source": [
    "Unaccounted_trips = trans_atlc_trade['Slaves arrived at 1st port'].isna().sum()\n",
    "print(f'The total number of unaccounted trips is:  {Unaccounted_trips}')\n"
   ]
  },
  {
   "cell_type": "code",
   "execution_count": null,
   "metadata": {
    "scrolled": true
   },
   "outputs": [],
   "source": [
    "number_of_slaves_accounted = trans_atlc_trade['Slaves arrived at 1st port'].sum()\n",
    "print(f'The total number of slaves accounted for are: {number_of_slaves_accounted}')"
   ]
  },
  {
   "cell_type": "markdown",
   "metadata": {},
   "source": [
    "Historical Estimates suggest that the total number of slave traded are estimated to be ~12.5 Million. This means that according to this dataset:\n",
    "- Around ```7436701``` slaves are not accounted for. *(12500000 - 5063299)*\n",
    "\n"
   ]
  },
  {
   "cell_type": "markdown",
   "metadata": {},
   "source": [
    "### Visualize Year of Arrival vs Number of Slaves arrived"
   ]
  },
  {
   "cell_type": "code",
   "execution_count": null,
   "metadata": {},
   "outputs": [],
   "source": [
    "import matplotlib.pyplot as plt"
   ]
  },
  {
   "cell_type": "code",
   "execution_count": null,
   "metadata": {
    "colab": {
     "base_uri": "https://localhost:8080/",
     "height": 612
    },
    "colab_type": "code",
    "executionInfo": {
     "elapsed": 1721,
     "status": "ok",
     "timestamp": 1595463934140,
     "user": {
      "displayName": "Shayan Riyaz",
      "photoUrl": "https://lh3.googleusercontent.com/a-/AOh14GgGKH1DVaVMraKKpAKycsa-5BUIdmR3naSTmiTIKQ=s64",
      "userId": "01207107200643807409"
     },
     "user_tz": 420
    },
    "id": "RZf2AqqGXhop",
    "outputId": "8e10e40c-0043-4d5d-b923-8933b4920de4"
   },
   "outputs": [],
   "source": [
    "trans_atlc_trade.plot(x = 'Year of arrival at port of disembarkation',\n",
    "        y = 'Slaves arrived at 1st port',\n",
    "        kind = 'scatter',\n",
    "        c = 'Slaves arrived at 1st port',\n",
    "        title = 'Year of arrival at port of disembarkation vs Slaves arrived at 1st port',\n",
    "        alpha = 0.3,cmap = plt.get_cmap('ocean'),\n",
    "        colorbar = True,\n",
    "        figsize = (20,10)\n",
    "       )\n",
    "\n",
    "\n"
   ]
  },
  {
   "cell_type": "code",
   "execution_count": null,
   "metadata": {
    "colab": {
     "base_uri": "https://localhost:8080/",
     "height": 635
    },
    "colab_type": "code",
    "executionInfo": {
     "elapsed": 329,
     "status": "ok",
     "timestamp": 1595463282914,
     "user": {
      "displayName": "Shayan Riyaz",
      "photoUrl": "https://lh3.googleusercontent.com/a-/AOh14GgGKH1DVaVMraKKpAKycsa-5BUIdmR3naSTmiTIKQ=s64",
      "userId": "01207107200643807409"
     },
     "user_tz": 420
    },
    "id": "peMZAtRZ_np1",
    "outputId": "467ea728-b82b-4cf6-af94-18c72f365878"
   },
   "outputs": [],
   "source": [
    "df_most_voyages = trans_atlc_trade.loc[trans_atlc_trade['Slaves arrived at 1st port'] > 750]\n",
    "df_most_voyages"
   ]
  },
  {
   "cell_type": "markdown",
   "metadata": {},
   "source": [
    "## Lets Get Started"
   ]
  },
  {
   "cell_type": "code",
   "execution_count": null,
   "metadata": {},
   "outputs": [],
   "source": []
  },
  {
   "cell_type": "markdown",
   "metadata": {},
   "source": [
    "### Create a copy of the Original Dataset"
   ]
  },
  {
   "cell_type": "code",
   "execution_count": null,
   "metadata": {},
   "outputs": [],
   "source": [
    "df = trans_atlc_trade.copy()"
   ]
  },
  {
   "cell_type": "markdown",
   "metadata": {},
   "source": [
    "### Changing Column Names"
   ]
  },
  {
   "cell_type": "code",
   "execution_count": null,
   "metadata": {},
   "outputs": [],
   "source": [
    "df = df.rename(\n",
    "    columns={'Voyage ID': 'voyage_id',\n",
    "        'Vessel name': 'vessel_name',\n",
    "                           'Voyage itinerary imputed port where began (ptdepimp) place': 'voyage_started',\n",
    "                           'Voyage itinerary imputed principal place of slave purchase (mjbyptimp) ': 'voyage_pit_stop',\n",
    "                           'Voyage itinerary imputed principal port of slave disembarkation (mjslptimp) place': 'end_port',\n",
    "                           'Year of arrival at port of disembarkation':'year_of_arrival',\n",
    "                           'Slaves arrived at 1st port':'slaves_onboard',\n",
    "                            'Captain\\'s name' : 'captain_names'\n",
    "            })\n",
    "\n",
    "\n",
    "df"
   ]
  },
  {
   "cell_type": "markdown",
   "metadata": {},
   "source": [
    "## Moving Column Positions - ```df.reindex()```"
   ]
  },
  {
   "cell_type": "code",
   "execution_count": null,
   "metadata": {},
   "outputs": [],
   "source": [
    "column_names = ['voyage_id',\"year_of_arrival\",\"vessel_name\", \"voyage_started\",\"voyage_pit_stop\", \"end_port\",\"slaves_onboard\"]\n",
    "\n"
   ]
  },
  {
   "cell_type": "code",
   "execution_count": null,
   "metadata": {},
   "outputs": [],
   "source": [
    "df = df.reindex(columns=column_names)\n",
    "df"
   ]
  },
  {
   "cell_type": "markdown",
   "metadata": {},
   "source": [
    "**Questions**\n",
    "\n",
    "**Is Voyage ID a good index and do we need it as a column?**\n",
    "\n",
    "No, But we need an index.\n",
    "\n",
    "**Can 'year_of_arrival' be an Index?**\n",
    "\n",
    "No, because there are repeating dates in the charts, there for we need a simple log counter.\n",
    "\n"
   ]
  },
  {
   "cell_type": "markdown",
   "metadata": {},
   "source": [
    "### Remove Voyage ID -```df.drop()```"
   ]
  },
  {
   "cell_type": "markdown",
   "metadata": {},
   "source": [
    "Now that we have a new index from 0 to 15299.\n",
    "\n",
    "Do we need ```Voyage ID```. I don't think so, because it doesn't help us find anything useful. Every Voyage ID is unique."
   ]
  },
  {
   "cell_type": "code",
   "execution_count": null,
   "metadata": {},
   "outputs": [],
   "source": [
    "df = df.drop(columns='voyage_id')\n",
    "df"
   ]
  },
  {
   "cell_type": "markdown",
   "metadata": {},
   "source": [
    "### Using ```dropna()```"
   ]
  },
  {
   "cell_type": "markdown",
   "metadata": {},
   "source": [
    "For this data set we will be working with trips that were completely accounted for in all of the remaining features."
   ]
  },
  {
   "cell_type": "code",
   "execution_count": null,
   "metadata": {},
   "outputs": [],
   "source": [
    "df = df.dropna()"
   ]
  },
  {
   "cell_type": "code",
   "execution_count": null,
   "metadata": {},
   "outputs": [],
   "source": [
    "df"
   ]
  },
  {
   "cell_type": "code",
   "execution_count": null,
   "metadata": {},
   "outputs": [],
   "source": [
    "df.info()"
   ]
  },
  {
   "cell_type": "markdown",
   "metadata": {},
   "source": [
    "### Changing Column Type and Sorting - ```df.sort_values()```"
   ]
  },
  {
   "cell_type": "code",
   "execution_count": null,
   "metadata": {},
   "outputs": [],
   "source": [
    "df = df.sort_values(by='year_of_arrival', ascending=True)\n",
    "df"
   ]
  },
  {
   "cell_type": "markdown",
   "metadata": {},
   "source": [
    "#### Reseting Index againt with 'year_of_arrival' in Ascending Order."
   ]
  },
  {
   "cell_type": "code",
   "execution_count": null,
   "metadata": {},
   "outputs": [],
   "source": [
    "df.reset_index(inplace=True, drop=True)\n",
    "df"
   ]
  },
  {
   "cell_type": "markdown",
   "metadata": {},
   "source": [
    "### Finding Unique and similar strings \n",
    "```df['column_name].unique()``` and ```df.sort()```"
   ]
  },
  {
   "cell_type": "code",
   "execution_count": null,
   "metadata": {},
   "outputs": [],
   "source": [
    "a = df['voyage_started'].unique()\n",
    "a.sort()\n",
    "a"
   ]
  },
  {
   "cell_type": "code",
   "execution_count": null,
   "metadata": {},
   "outputs": [],
   "source": [
    "\n",
    "a = df['voyage_pit_stop'].unique()\n",
    "a.sort()\n",
    "a\n"
   ]
  },
  {
   "cell_type": "code",
   "execution_count": null,
   "metadata": {},
   "outputs": [],
   "source": [
    "a = df['end_port'].unique()\n",
    "a.sort()\n",
    "a"
   ]
  },
  {
   "cell_type": "markdown",
   "metadata": {},
   "source": [
    "### Working with Strings - ```df['column_name'].str.replace()```"
   ]
  },
  {
   "cell_type": "code",
   "execution_count": null,
   "metadata": {},
   "outputs": [],
   "source": [
    "df['voyage_started'] = df['voyage_started'].str.replace(', port unspecified', '')\n",
    "df['voyage_started'] = df['voyage_started'].str.replace(', colony unspecified', '')\n",
    "df['voyage_started'] = df['voyage_started'].str.replace('.', '')\n",
    "\n",
    "\n",
    "df['voyage_pit_stop'] = df['voyage_pit_stop'].str.replace(', port unspecified', '')\n",
    "df['voyage_pit_stop'] = df['voyage_pit_stop'].str.replace(', colony unspecified', '')\n",
    "df['voyage_pit_stop'] = df['voyage_pit_stop'].str.replace('.', '')\n",
    "\n",
    "df['end_port'] = df['end_port'].str.replace(', port unspecified', '')\n",
    "df['end_port'] = df['end_port'].str.replace(', colony unspecified', '')\n",
    "df['end_port'] = df['end_port'].str.replace('.', '')\n",
    "df['end_port'] = df['end_port'].str.replace(' (colony unspecified)', '')\n",
    "df['end_port'] = df['end_port'].str.replace(', unspecified', '')\n",
    "df['end_port'] = df['end_port'].str.replace(',unspecified', '')\n",
    "\n",
    "df"
   ]
  },
  {
   "cell_type": "code",
   "execution_count": null,
   "metadata": {},
   "outputs": [],
   "source": [
    "df.dtypes"
   ]
  },
  {
   "cell_type": "code",
   "execution_count": null,
   "metadata": {},
   "outputs": [],
   "source": []
  },
  {
   "cell_type": "markdown",
   "metadata": {},
   "source": [
    "### Creating a Copy of our modified Dataset"
   ]
  },
  {
   "cell_type": "code",
   "execution_count": null,
   "metadata": {},
   "outputs": [],
   "source": [
    "modified_dataset = df.copy()"
   ]
  },
  {
   "cell_type": "markdown",
   "metadata": {},
   "source": [
    "# Micro Wrangling and Visualization"
   ]
  },
  {
   "cell_type": "markdown",
   "metadata": {},
   "source": [
    "# Making New DataFrames\n",
    "\n"
   ]
  },
  {
   "cell_type": "markdown",
   "metadata": {},
   "source": [
    "## Between 1500 to 1600"
   ]
  },
  {
   "cell_type": "code",
   "execution_count": null,
   "metadata": {},
   "outputs": [],
   "source": [
    "dataset_between15_16 = modified_dataset.where((modified_dataset['year_of_arrival'] >= 1500) & (modified_dataset['year_of_arrival'] <= 1600) )\n",
    "\n",
    "dataset_between15_16"
   ]
  },
  {
   "cell_type": "code",
   "execution_count": null,
   "metadata": {},
   "outputs": [],
   "source": [
    "dataset_between15_16 = dataset_between15_16.dropna()\n",
    "\n",
    "dataset_between15_16"
   ]
  },
  {
   "cell_type": "markdown",
   "metadata": {},
   "source": [
    "### Total Number of Slaves Transported between 1501-1600 - Complete Records\n"
   ]
  },
  {
   "cell_type": "code",
   "execution_count": null,
   "metadata": {},
   "outputs": [],
   "source": [
    "dataset_between15_16.slaves_onboard.sum()"
   ]
  },
  {
   "cell_type": "markdown",
   "metadata": {},
   "source": [
    "### Visualizing Trips During 1501-1601"
   ]
  },
  {
   "cell_type": "code",
   "execution_count": null,
   "metadata": {},
   "outputs": [],
   "source": [
    "import matplotlib.pyplot as plt\n",
    "\n",
    "fig = plt.figure(figsize = (20,10))\n",
    "\n",
    "ax1 = fig.add_subplot(2,2,1)\n",
    "ax2 = fig.add_subplot(2,2,2)\n",
    "ax3 = fig.add_subplot(2,2,3)\n",
    "ax4 = fig.add_subplot(2,2,4)\n",
    "ax1.scatter(dataset_between15_16['year_of_arrival'],\n",
    "            dataset_between15_16['slaves_onboard'],\n",
    "            alpha = 0.4)\n",
    "\n",
    "ax2.scatter(dataset_between15_16['slaves_onboard'],\n",
    "            dataset_between15_16['year_of_arrival'],\n",
    "            alpha = 0.4)\n",
    "\n",
    "ax3.bar(\n",
    "    dataset_between15_16['year_of_arrival'],\n",
    "    dataset_between15_16['slaves_onboard'],\n",
    "    alpha = 0.4)\n",
    "\n",
    "ax4.set_ylim(1500,1600)\n",
    "ax4.bar(\n",
    "    dataset_between15_16['slaves_onboard'],    \n",
    "    dataset_between15_16['year_of_arrival'],\n",
    "    alpha = 0.4)\n",
    "\n"
   ]
  },
  {
   "cell_type": "markdown",
   "metadata": {},
   "source": [
    "###  Now Try This:\n",
    "- Which of these graphs seem useful and which ones are uncessrary?\n",
    "**Write a 2 sentence explanation about why these two plots seem or might be useful.** **Did the visualization style influence your decision?**\n",
    "Select the two graphs you think are more useful and add the following:\n",
    "- add ```title``` for both suplots.\n",
    "- add ```xlabel``` and ```ylabel```.\n",
    "- Change the color for one of the plots\n"
   ]
  },
  {
   "cell_type": "markdown",
   "metadata": {},
   "source": [
    "### Pandas Plots"
   ]
  },
  {
   "cell_type": "code",
   "execution_count": null,
   "metadata": {},
   "outputs": [],
   "source": [
    "fig = plt.figure(figsize = (20,10))\n",
    "ax1 = fig.add_subplot(2,2,1)\n",
    "# ax2 = fig.add_subplot(2,2,2)\n",
    "# ax3 = fig.add_subplot(2,2,3)\n",
    "# ax4 = fig.add_subplot(2,2,4)\n",
    "\n",
    "dataset_between15_16.plot(x='vessel_name',\n",
    "                         y = 'slaves_onboard',kind = 'bar', ax = ax1,\n",
    "                         rot = 45)"
   ]
  },
  {
   "cell_type": "markdown",
   "metadata": {},
   "source": [
    "### Ships Carrying Less than 100 slaves per trip"
   ]
  },
  {
   "cell_type": "code",
   "execution_count": null,
   "metadata": {},
   "outputs": [],
   "source": [
    "temp_plot = dataset_between15_16.where(dataset_between15_16['slaves_onboard'] < 100.0).dropna()\n",
    "\n",
    "temp_plot"
   ]
  },
  {
   "cell_type": "code",
   "execution_count": null,
   "metadata": {},
   "outputs": [],
   "source": [
    "temp_plot.plot(x='vessel_name',\n",
    "                         y = 'slaves_onboard',kind = 'bar',\n",
    "                         rot = 90)\n",
    "\n"
   ]
  },
  {
   "cell_type": "markdown",
   "metadata": {},
   "source": [
    "### Ships Carrying greater than 100 slaves per trip"
   ]
  },
  {
   "cell_type": "code",
   "execution_count": null,
   "metadata": {},
   "outputs": [],
   "source": [
    "temp_plot = dataset_between15_16.where(dataset_between15_16['slaves_onboard'] > 100.0).dropna()\n",
    "\n",
    "temp_plot.plot(x='vessel_name',\n",
    "                         y = 'slaves_onboard',kind = 'bar',\n",
    "                         rot = 90,grid = True,figsize = (20,10))\n",
    "\n",
    "temp_plot"
   ]
  },
  {
   "cell_type": "markdown",
   "metadata": {},
   "source": [
    "### Ships Carrying greater than 200 slaves per trip"
   ]
  },
  {
   "cell_type": "code",
   "execution_count": null,
   "metadata": {},
   "outputs": [],
   "source": [
    "temp_plot = dataset_between15_16.where(dataset_between15_16['slaves_onboard'] > 200.0).dropna()\n",
    "print(f'There are {temp_plot.shape[0]} trips that carries more than 200 slaves.')\n",
    "\n"
   ]
  },
  {
   "cell_type": "code",
   "execution_count": null,
   "metadata": {
    "scrolled": true
   },
   "outputs": [],
   "source": [
    "temp_plot.plot(x='vessel_name',\n",
    "                         y = 'slaves_onboard',kind = 'bar',\n",
    "                         rot = 90,grid = True,figsize = (20,10))\n",
    "\n",
    "\n"
   ]
  },
  {
   "cell_type": "markdown",
   "metadata": {},
   "source": [
    "### Check the most used 'start_port' for number_of_slaves > 200"
   ]
  },
  {
   "cell_type": "code",
   "execution_count": null,
   "metadata": {},
   "outputs": [],
   "source": [
    "temp_plot['voyage_started'].hist(bins = 20,\n",
    "                                 alpha = 0.5,\n",
    "                                 xrot = 45,\n",
    "                                 figsize = (10,10)\n",
    "                                )"
   ]
  },
  {
   "cell_type": "markdown",
   "metadata": {},
   "source": [
    "### Check the most used 'voyage_pit_stop' for number_of_slaves > 200"
   ]
  },
  {
   "cell_type": "code",
   "execution_count": null,
   "metadata": {},
   "outputs": [],
   "source": [
    "temp_plot['voyage_pit_stop'].hist(bins=20, \n",
    "                           alpha=0.7,\n",
    "                           xrot = 0,\n",
    "                          figsize = (10,10))"
   ]
  },
  {
   "cell_type": "markdown",
   "metadata": {},
   "source": [
    "### Check the most used 'End_Port'  for number_of_slaves > 200"
   ]
  },
  {
   "cell_type": "code",
   "execution_count": null,
   "metadata": {
    "scrolled": false
   },
   "outputs": [],
   "source": [
    "temp_plot['end_port'].hist(bins=20, \n",
    "                           alpha=0.7,\n",
    "                           xrot = 0,\n",
    "                          figsize = (10,10))"
   ]
  },
  {
   "cell_type": "markdown",
   "metadata": {},
   "source": [
    "### Observations \n",
    "\n",
    "Majority of The Ships carrying over 200 people started their journey Portugal made a Pit-Stop in Africa and Went to Cartagena, Colombia "
   ]
  },
  {
   "cell_type": "markdown",
   "metadata": {},
   "source": [
    "## Between 1601- 1700"
   ]
  },
  {
   "cell_type": "code",
   "execution_count": null,
   "metadata": {},
   "outputs": [],
   "source": [
    "dataset_between16_17 = modified_dataset.where((modified_dataset['year_of_arrival'] >= 1601) & (modified_dataset['year_of_arrival'] <= 1700) )\n",
    "\n",
    "dataset_between16_17"
   ]
  },
  {
   "cell_type": "code",
   "execution_count": null,
   "metadata": {},
   "outputs": [],
   "source": [
    "dataset_between16_17 = dataset_between16_17.dropna()\n",
    "dataset_between16_17"
   ]
  },
  {
   "cell_type": "markdown",
   "metadata": {},
   "source": [
    "### Total Number of Slaves Transported between 1601-1700 - Complete Records\n"
   ]
  },
  {
   "cell_type": "code",
   "execution_count": null,
   "metadata": {},
   "outputs": [],
   "source": []
  },
  {
   "cell_type": "markdown",
   "metadata": {},
   "source": [
    "### Visualizing Trips During 1601-1701"
   ]
  },
  {
   "cell_type": "code",
   "execution_count": null,
   "metadata": {},
   "outputs": [],
   "source": []
  },
  {
   "cell_type": "markdown",
   "metadata": {},
   "source": [
    "### Pandas Plots"
   ]
  },
  {
   "cell_type": "code",
   "execution_count": null,
   "metadata": {},
   "outputs": [],
   "source": []
  },
  {
   "cell_type": "markdown",
   "metadata": {},
   "source": [
    "### Check the most used 'start_port' for number_of_slaves > 200"
   ]
  },
  {
   "cell_type": "code",
   "execution_count": null,
   "metadata": {},
   "outputs": [],
   "source": []
  },
  {
   "cell_type": "markdown",
   "metadata": {},
   "source": [
    "### Check the most used 'voyage_pit_stop' for number_of_slaves > 200"
   ]
  },
  {
   "cell_type": "code",
   "execution_count": null,
   "metadata": {},
   "outputs": [],
   "source": []
  },
  {
   "cell_type": "markdown",
   "metadata": {},
   "source": [
    "### Check the most used 'End_Port' "
   ]
  },
  {
   "cell_type": "code",
   "execution_count": null,
   "metadata": {
    "scrolled": false
   },
   "outputs": [],
   "source": []
  },
  {
   "cell_type": "markdown",
   "metadata": {},
   "source": [
    "# Student Have To Work On"
   ]
  },
  {
   "cell_type": "markdown",
   "metadata": {},
   "source": [
    "## A. Between 1701- 1800"
   ]
  },
  {
   "cell_type": "code",
   "execution_count": null,
   "metadata": {},
   "outputs": [],
   "source": [
    "dataset_between17_18 = modified_dataset.where((modified_dataset['year_of_arrival'] >= 1701) & (modified_dataset['year_of_arrival'] <= 1800) )\n",
    "\n",
    "dataset_between17_18"
   ]
  },
  {
   "cell_type": "code",
   "execution_count": null,
   "metadata": {},
   "outputs": [],
   "source": [
    "dataset_between17_18 = dataset_between17_18.dropna()\n",
    "\n",
    "dataset_between17_18"
   ]
  },
  {
   "cell_type": "markdown",
   "metadata": {},
   "source": [
    "### Total Number of Slaves Transported between 1701-1800 - Complete Records\n"
   ]
  },
  {
   "cell_type": "code",
   "execution_count": null,
   "metadata": {},
   "outputs": [],
   "source": []
  },
  {
   "cell_type": "markdown",
   "metadata": {},
   "source": [
    "### Visualizing Trips During 1701-1801"
   ]
  },
  {
   "cell_type": "code",
   "execution_count": null,
   "metadata": {},
   "outputs": [],
   "source": []
  },
  {
   "cell_type": "markdown",
   "metadata": {},
   "source": [
    "### Pandas Plots"
   ]
  },
  {
   "cell_type": "code",
   "execution_count": null,
   "metadata": {},
   "outputs": [],
   "source": []
  },
  {
   "cell_type": "markdown",
   "metadata": {},
   "source": [
    "### Check the most used 'start_port' for number_of_slaves > 200"
   ]
  },
  {
   "cell_type": "code",
   "execution_count": null,
   "metadata": {},
   "outputs": [],
   "source": []
  },
  {
   "cell_type": "markdown",
   "metadata": {},
   "source": [
    "### Check the most used 'voyage_pit_stop' for number_of_slaves > 200"
   ]
  },
  {
   "cell_type": "code",
   "execution_count": null,
   "metadata": {},
   "outputs": [],
   "source": []
  },
  {
   "cell_type": "markdown",
   "metadata": {},
   "source": [
    "### Check the most used 'End_Port' "
   ]
  },
  {
   "cell_type": "code",
   "execution_count": null,
   "metadata": {
    "scrolled": false
   },
   "outputs": [],
   "source": []
  },
  {
   "cell_type": "markdown",
   "metadata": {},
   "source": [
    "## B. Between 1801- 1900"
   ]
  },
  {
   "cell_type": "code",
   "execution_count": null,
   "metadata": {},
   "outputs": [],
   "source": [
    "dataset_between18_19 = modified_dataset.where((modified_dataset['year_of_arrival'] >= '1801') & (modified_dataset['year_of_arrival'] <= '1900') )\n",
    "\n",
    "dataset_between18_19"
   ]
  },
  {
   "cell_type": "code",
   "execution_count": null,
   "metadata": {},
   "outputs": [],
   "source": [
    "dataset_between18_19 = dataset_between18_19.dropna()\n",
    "\n",
    "dataset_between18_19"
   ]
  },
  {
   "cell_type": "markdown",
   "metadata": {},
   "source": [
    "### Total Number of Slaves Transported between 1801-1900 - Complete Records\n"
   ]
  },
  {
   "cell_type": "code",
   "execution_count": null,
   "metadata": {},
   "outputs": [],
   "source": []
  },
  {
   "cell_type": "markdown",
   "metadata": {},
   "source": [
    "### Visualizing Trips During 1801-1900"
   ]
  },
  {
   "cell_type": "code",
   "execution_count": null,
   "metadata": {},
   "outputs": [],
   "source": []
  },
  {
   "cell_type": "markdown",
   "metadata": {},
   "source": [
    "### Pandas Plots"
   ]
  },
  {
   "cell_type": "code",
   "execution_count": null,
   "metadata": {},
   "outputs": [],
   "source": []
  },
  {
   "cell_type": "markdown",
   "metadata": {},
   "source": [
    "### Check the most used 'start_port' for number_of_slaves > 200"
   ]
  },
  {
   "cell_type": "code",
   "execution_count": null,
   "metadata": {},
   "outputs": [],
   "source": []
  },
  {
   "cell_type": "markdown",
   "metadata": {},
   "source": [
    "### Check the most used 'voyage_pit_stop' for number_of_slaves > 200"
   ]
  },
  {
   "cell_type": "code",
   "execution_count": null,
   "metadata": {},
   "outputs": [],
   "source": []
  },
  {
   "cell_type": "markdown",
   "metadata": {},
   "source": [
    "### Check the most used 'End_Port' "
   ]
  },
  {
   "cell_type": "code",
   "execution_count": null,
   "metadata": {
    "scrolled": false
   },
   "outputs": [],
   "source": []
  },
  {
   "cell_type": "markdown",
   "metadata": {
    "colab": {},
    "colab_type": "code",
    "id": "iKGD7hJq8trN"
   },
   "source": [
    "# Appendix"
   ]
  },
  {
   "cell_type": "markdown",
   "metadata": {
    "colab_type": "text",
    "id": "ObtE8-BHODkC"
   },
   "source": [
    "## Connecting to Your Google Drive\n"
   ]
  },
  {
   "cell_type": "code",
   "execution_count": null,
   "metadata": {
    "colab": {
     "base_uri": "https://localhost:8080/",
     "height": 118
    },
    "colab_type": "code",
    "executionInfo": {
     "elapsed": 21868,
     "status": "ok",
     "timestamp": 1595747138738,
     "user": {
      "displayName": "Shayan Riyaz",
      "photoUrl": "https://lh3.googleusercontent.com/a-/AOh14GgGKH1DVaVMraKKpAKycsa-5BUIdmR3naSTmiTIKQ=s64",
      "userId": "01207107200643807409"
     },
     "user_tz": 420
    },
    "id": "_3xzPhI_ByD5",
    "outputId": "9169b9d7-bb38-4b2e-e863-bdb02ca509f5"
   },
   "outputs": [],
   "source": [
    "# Start by connecting google drive into google colab\n",
    "\n",
    "from google.colab import drive\n",
    "\n",
    "drive.mount('/content/gdrive')"
   ]
  },
  {
   "cell_type": "code",
   "execution_count": null,
   "metadata": {
    "colab": {
     "base_uri": "https://localhost:8080/",
     "height": 212
    },
    "colab_type": "code",
    "executionInfo": {
     "elapsed": 1240,
     "status": "ok",
     "timestamp": 1595747141984,
     "user": {
      "displayName": "Shayan Riyaz",
      "photoUrl": "https://lh3.googleusercontent.com/a-/AOh14GgGKH1DVaVMraKKpAKycsa-5BUIdmR3naSTmiTIKQ=s64",
      "userId": "01207107200643807409"
     },
     "user_tz": 420
    },
    "id": "_epZFcuXNVRv",
    "outputId": "ad5b44c4-1bdf-4f87-e208-e623c4057801"
   },
   "outputs": [],
   "source": [
    "!ls \"/content/gdrive/My Drive/DigitalHistory\""
   ]
  },
  {
   "cell_type": "code",
   "execution_count": null,
   "metadata": {
    "colab": {
     "base_uri": "https://localhost:8080/",
     "height": 33
    },
    "colab_type": "code",
    "executionInfo": {
     "elapsed": 330,
     "status": "ok",
     "timestamp": 1595747142807,
     "user": {
      "displayName": "Shayan Riyaz",
      "photoUrl": "https://lh3.googleusercontent.com/a-/AOh14GgGKH1DVaVMraKKpAKycsa-5BUIdmR3naSTmiTIKQ=s64",
      "userId": "01207107200643807409"
     },
     "user_tz": 420
    },
    "id": "y6r-8UBGNueF",
    "outputId": "687561f0-3f00-4a18-8317-b95ff4d89c4f"
   },
   "outputs": [],
   "source": [
    "cd \"/content/gdrive/My Drive/DigitalHistory/tmp/trans-atlantic-slave-trade\""
   ]
  },
  {
   "cell_type": "code",
   "execution_count": null,
   "metadata": {
    "colab": {
     "base_uri": "https://localhost:8080/",
     "height": 50
    },
    "colab_type": "code",
    "executionInfo": {
     "elapsed": 1170,
     "status": "ok",
     "timestamp": 1595747146321,
     "user": {
      "displayName": "Shayan Riyaz",
      "photoUrl": "https://lh3.googleusercontent.com/a-/AOh14GgGKH1DVaVMraKKpAKycsa-5BUIdmR3naSTmiTIKQ=s64",
      "userId": "01207107200643807409"
     },
     "user_tz": 420
    },
    "id": "Pp8mubdjVqY2",
    "outputId": "1b253aee-a8a3-46d2-d6d3-381bcee6a774"
   },
   "outputs": [],
   "source": [
    "ls"
   ]
  },
  {
   "cell_type": "code",
   "execution_count": null,
   "metadata": {},
   "outputs": [],
   "source": [
    "### Extracting ZipFiles"
   ]
  },
  {
   "cell_type": "code",
   "execution_count": null,
   "metadata": {
    "colab": {},
    "colab_type": "code",
    "executionInfo": {
     "elapsed": 325,
     "status": "ok",
     "timestamp": 1595747149631,
     "user": {
      "displayName": "Shayan Riyaz",
      "photoUrl": "https://lh3.googleusercontent.com/a-/AOh14GgGKH1DVaVMraKKpAKycsa-5BUIdmR3naSTmiTIKQ=s64",
      "userId": "01207107200643807409"
     },
     "user_tz": 420
    },
    "id": "rzDr3KIkOJdy"
   },
   "outputs": [],
   "source": [
    "\n",
    "import zipfile\n"
   ]
  },
  {
   "cell_type": "code",
   "execution_count": null,
   "metadata": {
    "colab": {},
    "colab_type": "code",
    "executionInfo": {
     "elapsed": 2400,
     "status": "ok",
     "timestamp": 1595747227613,
     "user": {
      "displayName": "Shayan Riyaz",
      "photoUrl": "https://lh3.googleusercontent.com/a-/AOh14GgGKH1DVaVMraKKpAKycsa-5BUIdmR3naSTmiTIKQ=s64",
      "userId": "01207107200643807409"
     },
     "user_tz": 420
    },
    "id": "zkIDSJWUQFCV"
   },
   "outputs": [],
   "source": [
    "file_location = 'data/trans-atlantic-slave-trade.csv.zip'\n",
    "\n",
    "zip_ref = zipfile.ZipFile(file_location,'r')\n",
    "zip_ref.extractall('data/tmp/trans-atlantic-slave-trade')\n",
    "zip_ref.close()"
   ]
  },
  {
   "cell_type": "markdown",
   "metadata": {},
   "source": [
    "### Checking and Changing Column Types \n",
    "```df.dtypes``` and ```df.astype()```"
   ]
  },
  {
   "cell_type": "code",
   "execution_count": null,
   "metadata": {},
   "outputs": [],
   "source": [
    "df.dtypes"
   ]
  },
  {
   "cell_type": "code",
   "execution_count": null,
   "metadata": {},
   "outputs": [],
   "source": [
    "df.year_of_arrival.astype(int)"
   ]
  },
  {
   "cell_type": "code",
   "execution_count": null,
   "metadata": {},
   "outputs": [],
   "source": [
    "df.dtypes"
   ]
  },
  {
   "cell_type": "code",
   "execution_count": null,
   "metadata": {},
   "outputs": [],
   "source": [
    "df.year_of_arrival = df.year_of_arrival.astype(int)"
   ]
  },
  {
   "cell_type": "code",
   "execution_count": null,
   "metadata": {},
   "outputs": [],
   "source": [
    "df.dtypes"
   ]
  },
  {
   "cell_type": "markdown",
   "metadata": {},
   "source": [
    "**Extra**:\n",
    "```df.slaves_onboard = df.slaves_onboard.astype(int)```"
   ]
  },
  {
   "cell_type": "code",
   "execution_count": null,
   "metadata": {},
   "outputs": [],
   "source": [
    "df.slaves_onboard = df.slaves_onboard.astype(int)"
   ]
  },
  {
   "cell_type": "code",
   "execution_count": null,
   "metadata": {},
   "outputs": [],
   "source": [
    "df.dtypes"
   ]
  },
  {
   "cell_type": "code",
   "execution_count": null,
   "metadata": {},
   "outputs": [],
   "source": [
    "df"
   ]
  },
  {
   "cell_type": "markdown",
   "metadata": {
    "colab_type": "text",
    "id": "s3AFqNpu2GJ4"
   },
   "source": [
    "### GeoTagging Locations"
   ]
  },
  {
   "cell_type": "code",
   "execution_count": null,
   "metadata": {
    "colab": {},
    "colab_type": "code",
    "id": "lpBC6OsdEwl-"
   },
   "outputs": [],
   "source": [
    "!pip install geopandas\n"
   ]
  },
  {
   "cell_type": "code",
   "execution_count": null,
   "metadata": {
    "colab": {
     "base_uri": "https://localhost:8080/",
     "height": 245
    },
    "colab_type": "code",
    "executionInfo": {
     "elapsed": 6812,
     "status": "ok",
     "timestamp": 1595745611730,
     "user": {
      "displayName": "Shayan Riyaz",
      "photoUrl": "https://lh3.googleusercontent.com/a-/AOh14GgGKH1DVaVMraKKpAKycsa-5BUIdmR3naSTmiTIKQ=s64",
      "userId": "01207107200643807409"
     },
     "user_tz": 420
    },
    "id": "3N9KNSl-15ll",
    "outputId": "ad5b5771-1b03-4c85-f29f-3716e00a55bd"
   },
   "outputs": [],
   "source": [
    "!pip install googlemaps"
   ]
  },
  {
   "cell_type": "code",
   "execution_count": null,
   "metadata": {
    "colab": {},
    "colab_type": "code",
    "executionInfo": {
     "elapsed": 360,
     "status": "ok",
     "timestamp": 1595746053126,
     "user": {
      "displayName": "Shayan Riyaz",
      "photoUrl": "https://lh3.googleusercontent.com/a-/AOh14GgGKH1DVaVMraKKpAKycsa-5BUIdmR3naSTmiTIKQ=s64",
      "userId": "01207107200643807409"
     },
     "user_tz": 420
    },
    "id": "0gYRsx8v2HfO"
   },
   "outputs": [],
   "source": [
    "from googlemaps import Client as GoogleMaps\n",
    "import pandas as pd "
   ]
  },
  {
   "cell_type": "code",
   "execution_count": null,
   "metadata": {
    "colab": {},
    "colab_type": "code",
    "executionInfo": {
     "elapsed": 323,
     "status": "ok",
     "timestamp": 1595746054593,
     "user": {
      "displayName": "Shayan Riyaz",
      "photoUrl": "https://lh3.googleusercontent.com/a-/AOh14GgGKH1DVaVMraKKpAKycsa-5BUIdmR3naSTmiTIKQ=s64",
      "userId": "01207107200643807409"
     },
     "user_tz": 420
    },
    "id": "GYqCDWTt2KKz"
   },
   "outputs": [],
   "source": [
    "gmaps = GoogleMaps('')# ENTER KEY"
   ]
  },
  {
   "cell_type": "code",
   "execution_count": null,
   "metadata": {
    "colab": {
     "base_uri": "https://localhost:8080/",
     "height": 570
    },
    "colab_type": "code",
    "executionInfo": {
     "elapsed": 343,
     "status": "ok",
     "timestamp": 1595747476599,
     "user": {
      "displayName": "Shayan Riyaz",
      "photoUrl": "https://lh3.googleusercontent.com/a-/AOh14GgGKH1DVaVMraKKpAKycsa-5BUIdmR3naSTmiTIKQ=s64",
      "userId": "01207107200643807409"
     },
     "user_tz": 420
    },
    "id": "bLLkI_sD9hzv",
    "outputId": "b0cf75e3-34b0-488f-d4d1-eb047373bf37"
   },
   "outputs": [],
   "source": [
    "df"
   ]
  },
  {
   "cell_type": "code",
   "execution_count": null,
   "metadata": {
    "colab": {
     "base_uri": "https://localhost:8080/",
     "height": 191
    },
    "colab_type": "code",
    "executionInfo": {
     "elapsed": 329,
     "status": "ok",
     "timestamp": 1595747587583,
     "user": {
      "displayName": "Shayan Riyaz",
      "photoUrl": "https://lh3.googleusercontent.com/a-/AOh14GgGKH1DVaVMraKKpAKycsa-5BUIdmR3naSTmiTIKQ=s64",
      "userId": "01207107200643807409"
     },
     "user_tz": 420
    },
    "id": "AKnGxe_w2Lzw",
    "outputId": "ce90a0c5-c4f2-4100-e5b4-1ae438d888be"
   },
   "outputs": [],
   "source": [
    "addresses = df.filter(['Voyage itinerary imputed port where began (ptdepimp) place'], axis=1)\n",
    "addresses.head()"
   ]
  },
  {
   "cell_type": "code",
   "execution_count": null,
   "metadata": {
    "colab": {},
    "colab_type": "code",
    "executionInfo": {
     "elapsed": 341,
     "status": "ok",
     "timestamp": 1595747591738,
     "user": {
      "displayName": "Shayan Riyaz",
      "photoUrl": "https://lh3.googleusercontent.com/a-/AOh14GgGKH1DVaVMraKKpAKycsa-5BUIdmR3naSTmiTIKQ=s64",
      "userId": "01207107200643807409"
     },
     "user_tz": 420
    },
    "id": "TVEZc-Qs2PbV"
   },
   "outputs": [],
   "source": [
    "addresses['long'] = \"\"\n",
    "addresses['lat'] = \"\""
   ]
  },
  {
   "cell_type": "code",
   "execution_count": null,
   "metadata": {
    "colab": {
     "base_uri": "https://localhost:8080/",
     "height": 391
    },
    "colab_type": "code",
    "executionInfo": {
     "elapsed": 334,
     "status": "ok",
     "timestamp": 1595747596168,
     "user": {
      "displayName": "Shayan Riyaz",
      "photoUrl": "https://lh3.googleusercontent.com/a-/AOh14GgGKH1DVaVMraKKpAKycsa-5BUIdmR3naSTmiTIKQ=s64",
      "userId": "01207107200643807409"
     },
     "user_tz": 420
    },
    "id": "sBJppNIY9ZBP",
    "outputId": "088fe8ab-238d-40c7-f498-97af9cd2f3bd"
   },
   "outputs": [],
   "source": [
    "addresses"
   ]
  }
 ],
 "metadata": {
  "colab": {
   "collapsed_sections": [
    "ObtE8-BHODkC",
    "N8w70yKWOH_c",
    "7q6R0hBZONBe",
    "mCNQqlwecmjv",
    "66hyyirMlq6S",
    "aEsoTghMmsuq",
    "UFfKdw9eV6Wc"
   ],
   "name": "Week4-PROJECT-Visualize-Trans-Atlantic-Slave-Trade.ipynb",
   "provenance": []
  },
  "kernelspec": {
   "display_name": "Python 3",
   "language": "python",
   "name": "python3"
  },
  "language_info": {
   "codemirror_mode": {
    "name": "ipython",
    "version": 3
   },
   "file_extension": ".py",
   "mimetype": "text/x-python",
   "name": "python",
   "nbconvert_exporter": "python",
   "pygments_lexer": "ipython3",
   "version": "3.7.4"
  }
 },
 "nbformat": 4,
 "nbformat_minor": 1
}
